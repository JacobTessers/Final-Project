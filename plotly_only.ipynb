{
 "cells": [
  {
   "cell_type": "code",
   "metadata": {
    "tags": [],
    "cell_id": "43aa51d5-1889-4c38-859d-0b5c6f7f96e5",
    "deepnote_to_be_reexecuted": false,
    "source_hash": "a24cff19",
    "execution_start": 1652977574404,
    "execution_millis": 110,
    "deepnote_table_state": {
     "pageSize": 10,
     "pageIndex": 3,
     "filters": [],
     "sortBy": []
    },
    "deepnote_table_loading": false,
    "deepnote_cell_type": "code",
    "deepnote_cell_height": 667.59375
   },
   "source": "import pandas as pd\n\nactivity = pd.read_csv('activity_log.csv')\nactivity.sort_values(by='userId')",
   "execution_count": 1,
   "outputs": [
    {
     "output_type": "execute_result",
     "execution_count": 1,
     "data": {
      "application/vnd.deepnote.dataframe.v3+json": {
       "column_count": 7,
       "row_count": 481,
       "columns": [
        {
         "name": "id",
         "dtype": "int64",
         "stats": {
          "unique_count": 481,
          "nan_count": 0,
          "min": "1028",
          "max": "1525",
          "histogram": [
           {
            "bin_start": 1028,
            "bin_end": 1077.7,
            "count": 50
           },
           {
            "bin_start": 1077.7,
            "bin_end": 1127.4,
            "count": 50
           },
           {
            "bin_start": 1127.4,
            "bin_end": 1177.1,
            "count": 50
           },
           {
            "bin_start": 1177.1,
            "bin_end": 1226.8,
            "count": 49
           },
           {
            "bin_start": 1226.8,
            "bin_end": 1276.5,
            "count": 50
           },
           {
            "bin_start": 1276.5,
            "bin_end": 1326.2,
            "count": 41
           },
           {
            "bin_start": 1326.2,
            "bin_end": 1375.9,
            "count": 49
           },
           {
            "bin_start": 1375.9,
            "bin_end": 1425.6,
            "count": 50
           },
           {
            "bin_start": 1425.6,
            "bin_end": 1475.3,
            "count": 49
           },
           {
            "bin_start": 1475.3,
            "bin_end": 1525,
            "count": 43
           }
          ]
         }
        },
        {
         "name": "created_at",
         "dtype": "object",
         "stats": {
          "unique_count": 481,
          "nan_count": 0,
          "categories": [
           {
            "name": "2021-07-21 13:11:45.423759",
            "count": 1
           },
           {
            "name": "2021-07-12 20:54:53.452533",
            "count": 1
           },
           {
            "name": "479 others",
            "count": 479
           }
          ]
         }
        },
        {
         "name": "updated_at",
         "dtype": "object",
         "stats": {
          "unique_count": 481,
          "nan_count": 0,
          "categories": [
           {
            "name": "2021-07-21 13:11:45.423759",
            "count": 1
           },
           {
            "name": "2021-07-12 20:54:53.452533",
            "count": 1
           },
           {
            "name": "479 others",
            "count": 479
           }
          ]
         }
        },
        {
         "name": "activity",
         "dtype": "object",
         "stats": {
          "unique_count": 36,
          "nan_count": 0,
          "categories": [
           {
            "name": "Logged in",
            "count": 324
           },
           {
            "name": "Magic link sent",
            "count": 29
           },
           {
            "name": "34 others",
            "count": 128
           }
          ]
         }
        },
        {
         "name": "reference",
         "dtype": "object",
         "stats": {
          "unique_count": 481,
          "nan_count": 0,
          "categories": [
           {
            "name": "558ec2a15697c377f6abc8638fa906de",
            "count": 1
           },
           {
            "name": "84b17e62968faace55b700c1c4cb6303",
            "count": 1
           },
           {
            "name": "479 others",
            "count": 479
           }
          ]
         }
        },
        {
         "name": "expiry",
         "dtype": "object",
         "stats": {
          "unique_count": 475,
          "nan_count": 0,
          "categories": [
           {
            "name": "2022-07-05 02:40:40",
            "count": 2
           },
           {
            "name": "2022-04-30 17:04:34",
            "count": 2
           },
           {
            "name": "473 others",
            "count": 477
           }
          ]
         }
        },
        {
         "name": "userId",
         "dtype": "int64",
         "stats": {
          "unique_count": 26,
          "nan_count": 0,
          "min": "1",
          "max": "131",
          "histogram": [
           {
            "bin_start": 1,
            "bin_end": 14,
            "count": 285
           },
           {
            "bin_start": 14,
            "bin_end": 27,
            "count": 0
           },
           {
            "bin_start": 27,
            "bin_end": 40,
            "count": 0
           },
           {
            "bin_start": 40,
            "bin_end": 53,
            "count": 0
           },
           {
            "bin_start": 53,
            "bin_end": 66,
            "count": 16
           },
           {
            "bin_start": 66,
            "bin_end": 79,
            "count": 44
           },
           {
            "bin_start": 79,
            "bin_end": 92,
            "count": 16
           },
           {
            "bin_start": 92,
            "bin_end": 105,
            "count": 0
           },
           {
            "bin_start": 105,
            "bin_end": 118,
            "count": 64
           },
           {
            "bin_start": 118,
            "bin_end": 131,
            "count": 56
           }
          ]
         }
        },
        {
         "name": "_deepnote_index_column",
         "dtype": "int64"
        }
       ],
       "rows": [
        {
         "id": 1339,
         "created_at": "2021-06-21 10:46:14.395845",
         "updated_at": "2021-06-21 10:46:14.395845",
         "activity": "Logged in",
         "reference": "f8701506efaf1b4c2539becb95ce0075",
         "expiry": "2022-06-21 16:46:14",
         "userId": 1,
         "_deepnote_index_column": 302
        },
        {
         "id": 1334,
         "created_at": "2021-06-18 21:20:05.144003",
         "updated_at": "2021-06-18 21:20:05.144003",
         "activity": "Logged in",
         "reference": "e6ec3a2251d98d3d0bd289246dc2eb36",
         "expiry": "2022-06-19 03:20:05",
         "userId": 1,
         "_deepnote_index_column": 297
        },
        {
         "id": 1332,
         "created_at": "2021-06-17 21:39:12.040256",
         "updated_at": "2021-06-17 21:39:12.040256",
         "activity": "Logged in",
         "reference": "c20cedf862aebeab4b38f0445e1b37f4",
         "expiry": "2022-06-18 03:39:12",
         "userId": 1,
         "_deepnote_index_column": 295
        },
        {
         "id": 1331,
         "created_at": "2021-06-15 21:17:17.755110",
         "updated_at": "2021-06-15 21:17:17.755110",
         "activity": "Logged in",
         "reference": "592b5d02f32f8be0ba16c71f33980b07",
         "expiry": "2022-06-16 03:17:18",
         "userId": 1,
         "_deepnote_index_column": 294
        },
        {
         "id": 1369,
         "created_at": "2021-07-03 11:37:51.363514",
         "updated_at": "2021-07-03 11:37:51.363514",
         "activity": "Logged in",
         "reference": "e10b92ab0a116e1689310a28c476d212",
         "expiry": "2022-07-03 17:37:51",
         "userId": 1,
         "_deepnote_index_column": 332
        },
        {
         "id": 1372,
         "created_at": "2021-07-03 16:12:20.726135",
         "updated_at": "2021-07-03 16:12:20.726135",
         "activity": "Logged in",
         "reference": "1c9e778001ffe5fa3c104300b636796a",
         "expiry": "2022-07-03 22:12:21",
         "userId": 1,
         "_deepnote_index_column": 335
        },
        {
         "id": 1326,
         "created_at": "2021-06-12 12:11:05.535900",
         "updated_at": "2021-06-12 12:11:05.535900",
         "activity": "Logged in",
         "reference": "f1a1bfdc23a6ad95515cbfe1ceb86bf9",
         "expiry": "2022-06-12 18:11:06",
         "userId": 1,
         "_deepnote_index_column": 289
        },
        {
         "id": 1324,
         "created_at": "2021-06-11 12:06:26.567205",
         "updated_at": "2021-06-11 12:06:26.567205",
         "activity": "Logged in",
         "reference": "d7b7da87291e5ad3845b33a7e5b46d20",
         "expiry": "2022-06-11 18:06:27",
         "userId": 1,
         "_deepnote_index_column": 287
        },
        {
         "id": 1319,
         "created_at": "2021-06-09 23:06:15.375866",
         "updated_at": "2021-06-09 23:06:15.375866",
         "activity": "Logged in",
         "reference": "1c71d5d2b197cf3912a307d04917105e",
         "expiry": "2022-06-10 05:06:15",
         "userId": 1,
         "_deepnote_index_column": 282
        },
        {
         "id": 1318,
         "created_at": "2021-06-09 11:54:49.150869",
         "updated_at": "2021-06-09 11:54:49.150869",
         "activity": "Logged in",
         "reference": "07c56d9908def2e1bc0a2f16ae36db70",
         "expiry": "2022-06-09 17:54:49",
         "userId": 1,
         "_deepnote_index_column": 281
        }
       ]
      },
      "text/plain": "       id                  created_at                  updated_at  \\\n414  1451  2021-07-21 13:11:45.423759  2021-07-21 13:11:45.423759   \n378  1415  2021-07-12 20:54:53.452533  2021-07-12 20:54:53.452533   \n379  1416  2021-07-12 20:55:10.981237  2021-07-12 20:55:10.981237   \n380  1417  2021-07-12 20:55:26.180709  2021-07-12 20:55:26.180709   \n385  1422  2021-07-13 14:42:37.668734  2021-07-13 14:42:37.668734   \n..    ...                         ...                         ...   \n382  1419  2021-07-13 11:05:07.614501  2021-07-13 11:05:07.614501   \n395  1432  2021-07-14 09:28:15.573492  2021-07-14 09:28:15.573492   \n394  1431  2021-07-14 09:28:00.435449  2021-07-14 09:28:00.435449   \n392  1429  2021-07-14 09:27:50.593216  2021-07-14 09:27:50.593216   \n391  1428  2021-07-14 09:27:29.915681  2021-07-14 09:27:29.915681   \n\n                                              activity  \\\n414                                          Logged in   \n378                                          Logged in   \n379                                          Logged in   \n380  No course selected. Navigating to course selec...   \n385                                          Logged in   \n..                                                 ...   \n382                Enrolled onto Intro to .NET with C#   \n395  No course selected. Navigating to course selec...   \n394                                   Updated password   \n392                                          Logged in   \n391                           Password Reset requested   \n\n                            reference               expiry  userId  \n414  558ec2a15697c377f6abc8638fa906de  2022-07-21 19:11:45       1  \n378  84b17e62968faace55b700c1c4cb6303  2022-07-13 02:54:53       1  \n379  5897c06261b15542187f5734596472ab  2022-07-13 02:55:11       1  \n380  819a97a38b815ffd9c55f185339fa5ef  2022-07-13 02:55:26       1  \n385  d8c2e939c866403971b0368d0e4ff731  2022-07-13 20:42:38       1  \n..                                ...                  ...     ...  \n382  ee3d91fc8cb61fbd72be8fef9d8d7f5f  2022-07-13 17:05:08     131  \n395  a2de62065822bac2fc496b5393537a09  2022-07-14 15:28:16     131  \n394  5c3d41da0100d53482d9ee9d05c50f50  2022-07-14 15:28:00     131  \n392  a1777605dbaae3bbc832ef81a35aba71  2022-07-14 15:27:51     131  \n391  b45b24f093f38011dcfa0ec9e2e4775e  2022-07-14 15:27:30     131  \n\n[481 rows x 7 columns]",
      "text/html": "<div>\n<style scoped>\n    .dataframe tbody tr th:only-of-type {\n        vertical-align: middle;\n    }\n\n    .dataframe tbody tr th {\n        vertical-align: top;\n    }\n\n    .dataframe thead th {\n        text-align: right;\n    }\n</style>\n<table border=\"1\" class=\"dataframe\">\n  <thead>\n    <tr style=\"text-align: right;\">\n      <th></th>\n      <th>id</th>\n      <th>created_at</th>\n      <th>updated_at</th>\n      <th>activity</th>\n      <th>reference</th>\n      <th>expiry</th>\n      <th>userId</th>\n    </tr>\n  </thead>\n  <tbody>\n    <tr>\n      <th>414</th>\n      <td>1451</td>\n      <td>2021-07-21 13:11:45.423759</td>\n      <td>2021-07-21 13:11:45.423759</td>\n      <td>Logged in</td>\n      <td>558ec2a15697c377f6abc8638fa906de</td>\n      <td>2022-07-21 19:11:45</td>\n      <td>1</td>\n    </tr>\n    <tr>\n      <th>378</th>\n      <td>1415</td>\n      <td>2021-07-12 20:54:53.452533</td>\n      <td>2021-07-12 20:54:53.452533</td>\n      <td>Logged in</td>\n      <td>84b17e62968faace55b700c1c4cb6303</td>\n      <td>2022-07-13 02:54:53</td>\n      <td>1</td>\n    </tr>\n    <tr>\n      <th>379</th>\n      <td>1416</td>\n      <td>2021-07-12 20:55:10.981237</td>\n      <td>2021-07-12 20:55:10.981237</td>\n      <td>Logged in</td>\n      <td>5897c06261b15542187f5734596472ab</td>\n      <td>2022-07-13 02:55:11</td>\n      <td>1</td>\n    </tr>\n    <tr>\n      <th>380</th>\n      <td>1417</td>\n      <td>2021-07-12 20:55:26.180709</td>\n      <td>2021-07-12 20:55:26.180709</td>\n      <td>No course selected. Navigating to course selec...</td>\n      <td>819a97a38b815ffd9c55f185339fa5ef</td>\n      <td>2022-07-13 02:55:26</td>\n      <td>1</td>\n    </tr>\n    <tr>\n      <th>385</th>\n      <td>1422</td>\n      <td>2021-07-13 14:42:37.668734</td>\n      <td>2021-07-13 14:42:37.668734</td>\n      <td>Logged in</td>\n      <td>d8c2e939c866403971b0368d0e4ff731</td>\n      <td>2022-07-13 20:42:38</td>\n      <td>1</td>\n    </tr>\n    <tr>\n      <th>...</th>\n      <td>...</td>\n      <td>...</td>\n      <td>...</td>\n      <td>...</td>\n      <td>...</td>\n      <td>...</td>\n      <td>...</td>\n    </tr>\n    <tr>\n      <th>382</th>\n      <td>1419</td>\n      <td>2021-07-13 11:05:07.614501</td>\n      <td>2021-07-13 11:05:07.614501</td>\n      <td>Enrolled onto Intro to .NET with C#</td>\n      <td>ee3d91fc8cb61fbd72be8fef9d8d7f5f</td>\n      <td>2022-07-13 17:05:08</td>\n      <td>131</td>\n    </tr>\n    <tr>\n      <th>395</th>\n      <td>1432</td>\n      <td>2021-07-14 09:28:15.573492</td>\n      <td>2021-07-14 09:28:15.573492</td>\n      <td>No course selected. Navigating to course selec...</td>\n      <td>a2de62065822bac2fc496b5393537a09</td>\n      <td>2022-07-14 15:28:16</td>\n      <td>131</td>\n    </tr>\n    <tr>\n      <th>394</th>\n      <td>1431</td>\n      <td>2021-07-14 09:28:00.435449</td>\n      <td>2021-07-14 09:28:00.435449</td>\n      <td>Updated password</td>\n      <td>5c3d41da0100d53482d9ee9d05c50f50</td>\n      <td>2022-07-14 15:28:00</td>\n      <td>131</td>\n    </tr>\n    <tr>\n      <th>392</th>\n      <td>1429</td>\n      <td>2021-07-14 09:27:50.593216</td>\n      <td>2021-07-14 09:27:50.593216</td>\n      <td>Logged in</td>\n      <td>a1777605dbaae3bbc832ef81a35aba71</td>\n      <td>2022-07-14 15:27:51</td>\n      <td>131</td>\n    </tr>\n    <tr>\n      <th>391</th>\n      <td>1428</td>\n      <td>2021-07-14 09:27:29.915681</td>\n      <td>2021-07-14 09:27:29.915681</td>\n      <td>Password Reset requested</td>\n      <td>b45b24f093f38011dcfa0ec9e2e4775e</td>\n      <td>2022-07-14 15:27:30</td>\n      <td>131</td>\n    </tr>\n  </tbody>\n</table>\n<p>481 rows × 7 columns</p>\n</div>"
     },
     "metadata": {}
    }
   ]
  },
  {
   "cell_type": "code",
   "metadata": {
    "cell_id": "7f07a814a6fc43169e658f1691e69dac",
    "tags": [],
    "deepnote_to_be_reexecuted": false,
    "source_hash": "d9fb97ad",
    "execution_start": 1652977574521,
    "execution_millis": 43108,
    "deepnote_cell_type": "code",
    "deepnote_cell_height": 118.1875,
    "deepnote_output_heights": [
     21.1875
    ]
   },
   "source": "len(activity['userId'].unique())",
   "execution_count": 2,
   "outputs": [
    {
     "output_type": "execute_result",
     "execution_count": 2,
     "data": {
      "text/plain": "26"
     },
     "metadata": {}
    }
   ]
  },
  {
   "cell_type": "markdown",
   "source": "### Exploring activites on the platform",
   "metadata": {
    "cell_id": "e2ec68fd3945451a8892b7477e957a53",
    "tags": [],
    "deepnote_cell_type": "markdown",
    "deepnote_cell_height": 62
   }
  },
  {
   "cell_type": "code",
   "metadata": {
    "cell_id": "2d0aa536088b4dc3888e2cf7a5f821ed",
    "tags": [],
    "deepnote_to_be_reexecuted": false,
    "source_hash": "8cf52dda",
    "execution_start": 1652977574558,
    "execution_millis": 43070,
    "allow_embed": "code_output",
    "deepnote_cell_type": "code",
    "deepnote_cell_height": 708,
    "deepnote_output_heights": [
     611
    ]
   },
   "source": "activity['activity'].unique()",
   "execution_count": 3,
   "outputs": [
    {
     "output_type": "execute_result",
     "execution_count": 3,
     "data": {
      "text/plain": "array(['Logged in',\n       'Accessed Session 4 - Starter Files from Intro to Game Dev with Unity repo',\n       'Accessed Session 3 Recap from Intro to Game Dev with Unity repo',\n       'Accessed W3Schools from Intro to Web Dev repo',\n       'No course selected. Navigating to course selection',\n       'Accessed Session 1 Recap from Intro to Game Dev with Unity repo',\n       'Accessed Session 3 Recap from Intro to Game Dev with Unity repo [access:5b3cf9ac46f::rrtGJAd2ae1e]',\n       'Accessed Session 1 Recap - Write Up from Intro to Game Dev with Unity repo [access:74bc4bdc5d2::rrtGJAd2ae1e]',\n       'Accessed Session 2 Recap from Intro to Game Dev with Unity repo [access:918a4f912a1::rrtGJAd2ae1e]',\n       'Accessed Session 2 - Starter Files from Intro to Game Dev with Unity repo [access:1a82c08473b::rrtGJAd2ae1e]',\n       'Accessed Session 3 - Starter Files from Intro to Game Dev with Unity repo [access:dd9df1d2f3c::rrtGJAd2ae1e]',\n       'Accessed Session 5 - Starter Files from Intro to Game Dev with Unity repo [access:3aadbfd9eca::rrtGJAd2ae1e]',\n       'Accessed Session Four Recap from Intro to Game Dev with Unity repo [access:b4aec5f066b::rrtGJAd2ae1e]',\n       'Accessed Session 5 - Assets from Intro to Game Dev with Unity repo [access:141012aa424::rrtGJAd2ae1e]',\n       'Password Reset requested',\n       'Accessed Session 6 - Starter Files from Intro to Game Dev with Unity repo [access:4ff849da461::rrtGJAd2ae1e]',\n       'Accessed Session 5 Recap from Intro to Game Dev with Unity repo [access:f2ec33fafc6::rrtGJAd2ae1e]',\n       'Accessed Session 6 Recap from Intro to Game Dev with Unity repo [access:1d9bec2ad95::rrtGJAd2ae1e]',\n       'Accessed Session 7 - Starter Files from Intro to Game Dev with Unity repo [access:0274231c583::rrtGJAd2ae1e]',\n       'Password expired. Redirecting to update password',\n       'Updated password', 'Magic link sent',\n       'Accessed Session 7 Recap from Intro to Game Dev with Unity repo [access:f808a2f41b5::rrtGJAd2ae1e]',\n       'Accessed Session 8 - Starter Files from Intro to Game Dev with Unity repo [access:1d14e303b59::rrtGJAd2ae1e]',\n       'Accessed Session 1 Recap from Intro to Game Dev with Unity repo [access:286e1a92d35::rrtGJAd2ae1e]',\n       'Enrolled onto Programming Fundamentals',\n       'Enrolled onto Intro into VueJS',\n       'Created project (PirateScript Assignment)',\n       'Tested PirateScript [4 fails]', 'Tested PirateScript [0 fails]',\n       'Submitted assignment PirateScript',\n       'Created project (Test Webpage)', 'Deleting project Test Webpage',\n       'Updated profile [profilePicture] ',\n       'Enrolled onto Intro to .NET with C#',\n       'Enrolled onto Intro to Web Dev'], dtype=object)"
     },
     "metadata": {}
    }
   ]
  },
  {
   "cell_type": "code",
   "metadata": {
    "cell_id": "008c27182b3842618db8615c92a151bd",
    "tags": [],
    "deepnote_to_be_reexecuted": false,
    "source_hash": "aa80b906",
    "execution_start": 1652977574559,
    "execution_millis": 43102,
    "deepnote_cell_type": "code",
    "deepnote_cell_height": 81
   },
   "source": "activity['Activity Overview'] = activity['activity'].apply(lambda x: \"Accessed a Session\" if \"Session\" in x else x)",
   "execution_count": 4,
   "outputs": []
  },
  {
   "cell_type": "code",
   "metadata": {
    "cell_id": "301d589ef14c4d3ab93d60f0aaf18acd",
    "tags": [],
    "deepnote_to_be_reexecuted": false,
    "source_hash": "b76cdefc",
    "execution_start": 1652977574560,
    "execution_millis": 1,
    "deepnote_cell_type": "code",
    "deepnote_cell_height": 81
   },
   "source": "activity['Activity Overview'] = activity['Activity Overview'].apply(lambda x: \"Enrolled\" if \"Enrolled\" in x else x)",
   "execution_count": 5,
   "outputs": []
  },
  {
   "cell_type": "code",
   "metadata": {
    "cell_id": "4d56db4037184d28951eb9832b5b09e0",
    "tags": [],
    "deepnote_to_be_reexecuted": false,
    "source_hash": "3cbe8aad",
    "execution_start": 1652977574570,
    "execution_millis": 42939,
    "deepnote_cell_type": "code",
    "deepnote_cell_height": 81
   },
   "source": "activity['Activity Overview'] = activity['Activity Overview'].apply(lambda x: \"Pssword acivity\" if \"assword\" in x else x)",
   "execution_count": 6,
   "outputs": []
  },
  {
   "cell_type": "code",
   "metadata": {
    "cell_id": "881730e889be4d01820813322ab7a4d5",
    "tags": [],
    "deepnote_to_be_reexecuted": false,
    "source_hash": "ee039f1d",
    "execution_start": 1652977574576,
    "execution_millis": 42944,
    "deepnote_cell_type": "code",
    "deepnote_cell_height": 81
   },
   "source": "activity['Activity Overview'] = activity['Activity Overview'].apply(lambda x: \"Created project\" if \"Created project\" in x else x)",
   "execution_count": 7,
   "outputs": []
  },
  {
   "cell_type": "code",
   "metadata": {
    "cell_id": "cc215caee6f749b084141cbbf48db7eb",
    "tags": [],
    "deepnote_to_be_reexecuted": false,
    "source_hash": "a002ff56",
    "execution_start": 1652977574612,
    "execution_millis": 42950,
    "deepnote_cell_type": "code",
    "deepnote_cell_height": 81
   },
   "source": "activity['Activity Overview'] = activity['Activity Overview'].apply(lambda x: \"Tested work\" if \"Tested\" in x else x)",
   "execution_count": 8,
   "outputs": []
  },
  {
   "cell_type": "code",
   "metadata": {
    "cell_id": "7b691591b4cb4910be54f5f2dfd308e9",
    "tags": [],
    "deepnote_to_be_reexecuted": false,
    "source_hash": "8b89b630",
    "execution_start": 1652977574612,
    "execution_millis": 42988,
    "deepnote_cell_type": "code",
    "deepnote_cell_height": 81
   },
   "source": "activity['Activity Overview'] = activity['Activity Overview'].apply(lambda x: \"Navigated course\" if \"Navigating\" in x else x)",
   "execution_count": 9,
   "outputs": []
  },
  {
   "cell_type": "code",
   "metadata": {
    "cell_id": "62083022d1034706a99b55f20586a87d",
    "tags": [],
    "deepnote_to_be_reexecuted": false,
    "source_hash": "21872cbd",
    "execution_start": 1652977574613,
    "execution_millis": 42988,
    "deepnote_cell_type": "code",
    "deepnote_cell_height": 81
   },
   "source": "activity['Activity Overview'] = activity['Activity Overview'].apply(lambda x: \"Profile activity\" if \"profile\" in x else x)",
   "execution_count": 10,
   "outputs": []
  },
  {
   "cell_type": "code",
   "metadata": {
    "cell_id": "193b132f4ef3433ba166fe6034e7e00a",
    "tags": [],
    "deepnote_to_be_reexecuted": false,
    "source_hash": "c1d60290",
    "execution_start": 1652977574613,
    "execution_millis": 0,
    "deepnote_cell_type": "code",
    "deepnote_cell_height": 81
   },
   "source": "activity['Activity Overview'] = activity['Activity Overview'].apply(lambda x: \"Deleted project\" if \"Deleting project\" in x else x)",
   "execution_count": 11,
   "outputs": []
  },
  {
   "cell_type": "code",
   "metadata": {
    "cell_id": "894541eb4e2542388e5c0ebc6ed997a0",
    "tags": [],
    "deepnote_to_be_reexecuted": false,
    "source_hash": "58d3172c",
    "execution_start": 1652977574652,
    "execution_millis": 1,
    "deepnote_cell_type": "code",
    "deepnote_cell_height": 81
   },
   "source": "activity['Activity Overview'] = activity['Activity Overview'].apply(lambda x: \"Submitted assignment\" if \"Submitted assignment\" in x else x)",
   "execution_count": 12,
   "outputs": []
  },
  {
   "cell_type": "code",
   "metadata": {
    "cell_id": "4125386dba9440ceb19243ba82987d0c",
    "tags": [],
    "deepnote_to_be_reexecuted": false,
    "source_hash": "e3ca2ef6",
    "execution_start": 1652977574653,
    "execution_millis": 43026,
    "deepnote_cell_type": "code",
    "deepnote_cell_height": 81
   },
   "source": "activity['Activity Overview'] = activity['Activity Overview'].apply(lambda x: \"External link\" if \"W3Schools\" in x else x)",
   "execution_count": 13,
   "outputs": []
  },
  {
   "cell_type": "code",
   "metadata": {
    "cell_id": "7e4664c3c1af4093846d4cd0532c3088",
    "tags": [],
    "deepnote_to_be_reexecuted": false,
    "source_hash": "866c3ce2",
    "execution_start": 1652977574654,
    "execution_millis": 0,
    "deepnote_cell_type": "code",
    "deepnote_cell_height": 348.578125,
    "deepnote_output_heights": [
     251.59375
    ]
   },
   "source": "activity['Activity Overview'].value_counts(dropna=False)",
   "execution_count": 14,
   "outputs": [
    {
     "output_type": "execute_result",
     "execution_count": 14,
     "data": {
      "text/plain": "Logged in               324\nAccessed a Session       59\nMagic link sent          29\nPssword acivity          28\nNavigated course         16\nEnrolled                 15\nTested work               3\nCreated project           2\nProfile activity          2\nSubmitted assignment      1\nDeleted project           1\nExternal link             1\nName: Activity Overview, dtype: int64"
     },
     "metadata": {}
    }
   ]
  },
  {
   "cell_type": "code",
   "metadata": {
    "cell_id": "d765098cae294578a94c600c5c2ef88e",
    "tags": [],
    "deepnote_to_be_reexecuted": false,
    "source_hash": "4ee9925f",
    "execution_start": 1652977574654,
    "execution_millis": 590,
    "deepnote_cell_type": "code",
    "deepnote_cell_height": 618
   },
   "source": "activity_count_df = activity['Activity Overview'].value_counts().to_frame(name=\"Number of records\").reset_index().rename({'index':'Activity name'}, axis = 'columns')\nactivity_count_df",
   "execution_count": 15,
   "outputs": [
    {
     "output_type": "execute_result",
     "execution_count": 15,
     "data": {
      "application/vnd.deepnote.dataframe.v3+json": {
       "column_count": 2,
       "row_count": 12,
       "columns": [
        {
         "name": "Activity name",
         "dtype": "object",
         "stats": {
          "unique_count": 12,
          "nan_count": 0,
          "categories": [
           {
            "name": "Logged in",
            "count": 1
           },
           {
            "name": "Accessed a Session",
            "count": 1
           },
           {
            "name": "10 others",
            "count": 10
           }
          ]
         }
        },
        {
         "name": "Number of records",
         "dtype": "int64",
         "stats": {
          "unique_count": 9,
          "nan_count": 0,
          "min": "1",
          "max": "324",
          "histogram": [
           {
            "bin_start": 1,
            "bin_end": 33.3,
            "count": 10
           },
           {
            "bin_start": 33.3,
            "bin_end": 65.6,
            "count": 1
           },
           {
            "bin_start": 65.6,
            "bin_end": 97.89999999999999,
            "count": 0
           },
           {
            "bin_start": 97.89999999999999,
            "bin_end": 130.2,
            "count": 0
           },
           {
            "bin_start": 130.2,
            "bin_end": 162.5,
            "count": 0
           },
           {
            "bin_start": 162.5,
            "bin_end": 194.79999999999998,
            "count": 0
           },
           {
            "bin_start": 194.79999999999998,
            "bin_end": 227.09999999999997,
            "count": 0
           },
           {
            "bin_start": 227.09999999999997,
            "bin_end": 259.4,
            "count": 0
           },
           {
            "bin_start": 259.4,
            "bin_end": 291.7,
            "count": 0
           },
           {
            "bin_start": 291.7,
            "bin_end": 324,
            "count": 1
           }
          ]
         }
        },
        {
         "name": "_deepnote_index_column",
         "dtype": "int64"
        }
       ],
       "rows": [
        {
         "Activity name": "Logged in",
         "Number of records": 324,
         "_deepnote_index_column": 0
        },
        {
         "Activity name": "Accessed a Session",
         "Number of records": 59,
         "_deepnote_index_column": 1
        },
        {
         "Activity name": "Magic link sent",
         "Number of records": 29,
         "_deepnote_index_column": 2
        },
        {
         "Activity name": "Pssword acivity",
         "Number of records": 28,
         "_deepnote_index_column": 3
        },
        {
         "Activity name": "Navigated course",
         "Number of records": 16,
         "_deepnote_index_column": 4
        },
        {
         "Activity name": "Enrolled",
         "Number of records": 15,
         "_deepnote_index_column": 5
        },
        {
         "Activity name": "Tested work",
         "Number of records": 3,
         "_deepnote_index_column": 6
        },
        {
         "Activity name": "Created project",
         "Number of records": 2,
         "_deepnote_index_column": 7
        },
        {
         "Activity name": "Profile activity",
         "Number of records": 2,
         "_deepnote_index_column": 8
        },
        {
         "Activity name": "Submitted assignment",
         "Number of records": 1,
         "_deepnote_index_column": 9
        }
       ]
      },
      "text/plain": "           Activity name  Number of records\n0              Logged in                324\n1     Accessed a Session                 59\n2        Magic link sent                 29\n3        Pssword acivity                 28\n4       Navigated course                 16\n5               Enrolled                 15\n6            Tested work                  3\n7        Created project                  2\n8       Profile activity                  2\n9   Submitted assignment                  1\n10       Deleted project                  1\n11         External link                  1",
      "text/html": "<div>\n<style scoped>\n    .dataframe tbody tr th:only-of-type {\n        vertical-align: middle;\n    }\n\n    .dataframe tbody tr th {\n        vertical-align: top;\n    }\n\n    .dataframe thead th {\n        text-align: right;\n    }\n</style>\n<table border=\"1\" class=\"dataframe\">\n  <thead>\n    <tr style=\"text-align: right;\">\n      <th></th>\n      <th>Activity name</th>\n      <th>Number of records</th>\n    </tr>\n  </thead>\n  <tbody>\n    <tr>\n      <th>0</th>\n      <td>Logged in</td>\n      <td>324</td>\n    </tr>\n    <tr>\n      <th>1</th>\n      <td>Accessed a Session</td>\n      <td>59</td>\n    </tr>\n    <tr>\n      <th>2</th>\n      <td>Magic link sent</td>\n      <td>29</td>\n    </tr>\n    <tr>\n      <th>3</th>\n      <td>Pssword acivity</td>\n      <td>28</td>\n    </tr>\n    <tr>\n      <th>4</th>\n      <td>Navigated course</td>\n      <td>16</td>\n    </tr>\n    <tr>\n      <th>5</th>\n      <td>Enrolled</td>\n      <td>15</td>\n    </tr>\n    <tr>\n      <th>6</th>\n      <td>Tested work</td>\n      <td>3</td>\n    </tr>\n    <tr>\n      <th>7</th>\n      <td>Created project</td>\n      <td>2</td>\n    </tr>\n    <tr>\n      <th>8</th>\n      <td>Profile activity</td>\n      <td>2</td>\n    </tr>\n    <tr>\n      <th>9</th>\n      <td>Submitted assignment</td>\n      <td>1</td>\n    </tr>\n    <tr>\n      <th>10</th>\n      <td>Deleted project</td>\n      <td>1</td>\n    </tr>\n    <tr>\n      <th>11</th>\n      <td>External link</td>\n      <td>1</td>\n    </tr>\n  </tbody>\n</table>\n</div>"
     },
     "metadata": {}
    }
   ]
  },
  {
   "cell_type": "code",
   "metadata": {
    "cell_id": "c2517b0e15eb477495d9d13b9e80073a",
    "tags": [],
    "deepnote_to_be_reexecuted": false,
    "source_hash": "e012c96e",
    "execution_start": 1652977574688,
    "execution_millis": 1401,
    "allow_embed": "output",
    "deepnote_cell_type": "code",
    "deepnote_cell_height": 660,
    "deepnote_output_heights": [
     527
    ]
   },
   "source": "import plotly.express as px\nfig = px.pie(activity_count_df, values='Number of records', names='Activity name', title='Activities on the Project Function Platform')\nfig.show()",
   "execution_count": 16,
   "outputs": [
    {
     "data": {
      "text/html": "<html>\n<head><meta charset=\"utf-8\" /></head>\n<body>\n    <div>            <script src=\"https://cdnjs.cloudflare.com/ajax/libs/mathjax/2.7.5/MathJax.js?config=TeX-AMS-MML_SVG\"></script><script type=\"text/javascript\">if (window.MathJax) {MathJax.Hub.Config({SVG: {font: \"STIX-Web\"}});}</script>                <script type=\"text/javascript\">window.PlotlyConfig = {MathJaxConfig: 'local'};</script>\n        <script src=\"https://cdn.plot.ly/plotly-2.11.1.min.js\"></script>                <div id=\"30f4760a-b229-463f-99ba-41107e91fc77\" class=\"plotly-graph-div\" style=\"height:525px; width:100%;\"></div>            <script type=\"text/javascript\">                                    window.PLOTLYENV=window.PLOTLYENV || {};                                    if (document.getElementById(\"30f4760a-b229-463f-99ba-41107e91fc77\")) {                    Plotly.newPlot(                        \"30f4760a-b229-463f-99ba-41107e91fc77\",                        [{\"domain\":{\"x\":[0.0,1.0],\"y\":[0.0,1.0]},\"hovertemplate\":\"Activity name=%{label}<br>Number of records=%{value}<extra></extra>\",\"labels\":[\"Logged in\",\"Accessed a Session\",\"Magic link sent\",\"Pssword acivity\",\"Navigated course\",\"Enrolled\",\"Tested work\",\"Created project\",\"Profile activity\",\"Submitted assignment\",\"Deleted project\",\"External link\"],\"legendgroup\":\"\",\"name\":\"\",\"showlegend\":true,\"values\":[324,59,29,28,16,15,3,2,2,1,1,1],\"type\":\"pie\"}],                        {\"template\":{\"data\":{\"histogram2dcontour\":[{\"type\":\"histogram2dcontour\",\"colorbar\":{\"outlinewidth\":0,\"ticks\":\"\"},\"colorscale\":[[0.0,\"#0d0887\"],[0.1111111111111111,\"#46039f\"],[0.2222222222222222,\"#7201a8\"],[0.3333333333333333,\"#9c179e\"],[0.4444444444444444,\"#bd3786\"],[0.5555555555555556,\"#d8576b\"],[0.6666666666666666,\"#ed7953\"],[0.7777777777777778,\"#fb9f3a\"],[0.8888888888888888,\"#fdca26\"],[1.0,\"#f0f921\"]]}],\"choropleth\":[{\"type\":\"choropleth\",\"colorbar\":{\"outlinewidth\":0,\"ticks\":\"\"}}],\"histogram2d\":[{\"type\":\"histogram2d\",\"colorbar\":{\"outlinewidth\":0,\"ticks\":\"\"},\"colorscale\":[[0.0,\"#0d0887\"],[0.1111111111111111,\"#46039f\"],[0.2222222222222222,\"#7201a8\"],[0.3333333333333333,\"#9c179e\"],[0.4444444444444444,\"#bd3786\"],[0.5555555555555556,\"#d8576b\"],[0.6666666666666666,\"#ed7953\"],[0.7777777777777778,\"#fb9f3a\"],[0.8888888888888888,\"#fdca26\"],[1.0,\"#f0f921\"]]}],\"heatmap\":[{\"type\":\"heatmap\",\"colorbar\":{\"outlinewidth\":0,\"ticks\":\"\"},\"colorscale\":[[0.0,\"#0d0887\"],[0.1111111111111111,\"#46039f\"],[0.2222222222222222,\"#7201a8\"],[0.3333333333333333,\"#9c179e\"],[0.4444444444444444,\"#bd3786\"],[0.5555555555555556,\"#d8576b\"],[0.6666666666666666,\"#ed7953\"],[0.7777777777777778,\"#fb9f3a\"],[0.8888888888888888,\"#fdca26\"],[1.0,\"#f0f921\"]]}],\"heatmapgl\":[{\"type\":\"heatmapgl\",\"colorbar\":{\"outlinewidth\":0,\"ticks\":\"\"},\"colorscale\":[[0.0,\"#0d0887\"],[0.1111111111111111,\"#46039f\"],[0.2222222222222222,\"#7201a8\"],[0.3333333333333333,\"#9c179e\"],[0.4444444444444444,\"#bd3786\"],[0.5555555555555556,\"#d8576b\"],[0.6666666666666666,\"#ed7953\"],[0.7777777777777778,\"#fb9f3a\"],[0.8888888888888888,\"#fdca26\"],[1.0,\"#f0f921\"]]}],\"contourcarpet\":[{\"type\":\"contourcarpet\",\"colorbar\":{\"outlinewidth\":0,\"ticks\":\"\"}}],\"contour\":[{\"type\":\"contour\",\"colorbar\":{\"outlinewidth\":0,\"ticks\":\"\"},\"colorscale\":[[0.0,\"#0d0887\"],[0.1111111111111111,\"#46039f\"],[0.2222222222222222,\"#7201a8\"],[0.3333333333333333,\"#9c179e\"],[0.4444444444444444,\"#bd3786\"],[0.5555555555555556,\"#d8576b\"],[0.6666666666666666,\"#ed7953\"],[0.7777777777777778,\"#fb9f3a\"],[0.8888888888888888,\"#fdca26\"],[1.0,\"#f0f921\"]]}],\"surface\":[{\"type\":\"surface\",\"colorbar\":{\"outlinewidth\":0,\"ticks\":\"\"},\"colorscale\":[[0.0,\"#0d0887\"],[0.1111111111111111,\"#46039f\"],[0.2222222222222222,\"#7201a8\"],[0.3333333333333333,\"#9c179e\"],[0.4444444444444444,\"#bd3786\"],[0.5555555555555556,\"#d8576b\"],[0.6666666666666666,\"#ed7953\"],[0.7777777777777778,\"#fb9f3a\"],[0.8888888888888888,\"#fdca26\"],[1.0,\"#f0f921\"]]}],\"mesh3d\":[{\"type\":\"mesh3d\",\"colorbar\":{\"outlinewidth\":0,\"ticks\":\"\"}}],\"scatter\":[{\"fillpattern\":{\"fillmode\":\"overlay\",\"size\":10,\"solidity\":0.2},\"type\":\"scatter\"}],\"parcoords\":[{\"type\":\"parcoords\",\"line\":{\"colorbar\":{\"outlinewidth\":0,\"ticks\":\"\"}}}],\"scatterpolargl\":[{\"type\":\"scatterpolargl\",\"marker\":{\"colorbar\":{\"outlinewidth\":0,\"ticks\":\"\"}}}],\"bar\":[{\"error_x\":{\"color\":\"#2a3f5f\"},\"error_y\":{\"color\":\"#2a3f5f\"},\"marker\":{\"line\":{\"color\":\"#E5ECF6\",\"width\":0.5},\"pattern\":{\"fillmode\":\"overlay\",\"size\":10,\"solidity\":0.2}},\"type\":\"bar\"}],\"scattergeo\":[{\"type\":\"scattergeo\",\"marker\":{\"colorbar\":{\"outlinewidth\":0,\"ticks\":\"\"}}}],\"scatterpolar\":[{\"type\":\"scatterpolar\",\"marker\":{\"colorbar\":{\"outlinewidth\":0,\"ticks\":\"\"}}}],\"histogram\":[{\"marker\":{\"pattern\":{\"fillmode\":\"overlay\",\"size\":10,\"solidity\":0.2}},\"type\":\"histogram\"}],\"scattergl\":[{\"type\":\"scattergl\",\"marker\":{\"colorbar\":{\"outlinewidth\":0,\"ticks\":\"\"}}}],\"scatter3d\":[{\"type\":\"scatter3d\",\"line\":{\"colorbar\":{\"outlinewidth\":0,\"ticks\":\"\"}},\"marker\":{\"colorbar\":{\"outlinewidth\":0,\"ticks\":\"\"}}}],\"scattermapbox\":[{\"type\":\"scattermapbox\",\"marker\":{\"colorbar\":{\"outlinewidth\":0,\"ticks\":\"\"}}}],\"scatterternary\":[{\"type\":\"scatterternary\",\"marker\":{\"colorbar\":{\"outlinewidth\":0,\"ticks\":\"\"}}}],\"scattercarpet\":[{\"type\":\"scattercarpet\",\"marker\":{\"colorbar\":{\"outlinewidth\":0,\"ticks\":\"\"}}}],\"carpet\":[{\"aaxis\":{\"endlinecolor\":\"#2a3f5f\",\"gridcolor\":\"white\",\"linecolor\":\"white\",\"minorgridcolor\":\"white\",\"startlinecolor\":\"#2a3f5f\"},\"baxis\":{\"endlinecolor\":\"#2a3f5f\",\"gridcolor\":\"white\",\"linecolor\":\"white\",\"minorgridcolor\":\"white\",\"startlinecolor\":\"#2a3f5f\"},\"type\":\"carpet\"}],\"table\":[{\"cells\":{\"fill\":{\"color\":\"#EBF0F8\"},\"line\":{\"color\":\"white\"}},\"header\":{\"fill\":{\"color\":\"#C8D4E3\"},\"line\":{\"color\":\"white\"}},\"type\":\"table\"}],\"barpolar\":[{\"marker\":{\"line\":{\"color\":\"#E5ECF6\",\"width\":0.5},\"pattern\":{\"fillmode\":\"overlay\",\"size\":10,\"solidity\":0.2}},\"type\":\"barpolar\"}],\"pie\":[{\"automargin\":true,\"type\":\"pie\"}]},\"layout\":{\"autotypenumbers\":\"strict\",\"colorway\":[\"#636efa\",\"#EF553B\",\"#00cc96\",\"#ab63fa\",\"#FFA15A\",\"#19d3f3\",\"#FF6692\",\"#B6E880\",\"#FF97FF\",\"#FECB52\"],\"font\":{\"color\":\"#2a3f5f\"},\"hovermode\":\"closest\",\"hoverlabel\":{\"align\":\"left\"},\"paper_bgcolor\":\"white\",\"plot_bgcolor\":\"#E5ECF6\",\"polar\":{\"bgcolor\":\"#E5ECF6\",\"angularaxis\":{\"gridcolor\":\"white\",\"linecolor\":\"white\",\"ticks\":\"\"},\"radialaxis\":{\"gridcolor\":\"white\",\"linecolor\":\"white\",\"ticks\":\"\"}},\"ternary\":{\"bgcolor\":\"#E5ECF6\",\"aaxis\":{\"gridcolor\":\"white\",\"linecolor\":\"white\",\"ticks\":\"\"},\"baxis\":{\"gridcolor\":\"white\",\"linecolor\":\"white\",\"ticks\":\"\"},\"caxis\":{\"gridcolor\":\"white\",\"linecolor\":\"white\",\"ticks\":\"\"}},\"coloraxis\":{\"colorbar\":{\"outlinewidth\":0,\"ticks\":\"\"}},\"colorscale\":{\"sequential\":[[0.0,\"#0d0887\"],[0.1111111111111111,\"#46039f\"],[0.2222222222222222,\"#7201a8\"],[0.3333333333333333,\"#9c179e\"],[0.4444444444444444,\"#bd3786\"],[0.5555555555555556,\"#d8576b\"],[0.6666666666666666,\"#ed7953\"],[0.7777777777777778,\"#fb9f3a\"],[0.8888888888888888,\"#fdca26\"],[1.0,\"#f0f921\"]],\"sequentialminus\":[[0.0,\"#0d0887\"],[0.1111111111111111,\"#46039f\"],[0.2222222222222222,\"#7201a8\"],[0.3333333333333333,\"#9c179e\"],[0.4444444444444444,\"#bd3786\"],[0.5555555555555556,\"#d8576b\"],[0.6666666666666666,\"#ed7953\"],[0.7777777777777778,\"#fb9f3a\"],[0.8888888888888888,\"#fdca26\"],[1.0,\"#f0f921\"]],\"diverging\":[[0,\"#8e0152\"],[0.1,\"#c51b7d\"],[0.2,\"#de77ae\"],[0.3,\"#f1b6da\"],[0.4,\"#fde0ef\"],[0.5,\"#f7f7f7\"],[0.6,\"#e6f5d0\"],[0.7,\"#b8e186\"],[0.8,\"#7fbc41\"],[0.9,\"#4d9221\"],[1,\"#276419\"]]},\"xaxis\":{\"gridcolor\":\"white\",\"linecolor\":\"white\",\"ticks\":\"\",\"title\":{\"standoff\":15},\"zerolinecolor\":\"white\",\"automargin\":true,\"zerolinewidth\":2},\"yaxis\":{\"gridcolor\":\"white\",\"linecolor\":\"white\",\"ticks\":\"\",\"title\":{\"standoff\":15},\"zerolinecolor\":\"white\",\"automargin\":true,\"zerolinewidth\":2},\"scene\":{\"xaxis\":{\"backgroundcolor\":\"#E5ECF6\",\"gridcolor\":\"white\",\"linecolor\":\"white\",\"showbackground\":true,\"ticks\":\"\",\"zerolinecolor\":\"white\",\"gridwidth\":2},\"yaxis\":{\"backgroundcolor\":\"#E5ECF6\",\"gridcolor\":\"white\",\"linecolor\":\"white\",\"showbackground\":true,\"ticks\":\"\",\"zerolinecolor\":\"white\",\"gridwidth\":2},\"zaxis\":{\"backgroundcolor\":\"#E5ECF6\",\"gridcolor\":\"white\",\"linecolor\":\"white\",\"showbackground\":true,\"ticks\":\"\",\"zerolinecolor\":\"white\",\"gridwidth\":2}},\"shapedefaults\":{\"line\":{\"color\":\"#2a3f5f\"}},\"annotationdefaults\":{\"arrowcolor\":\"#2a3f5f\",\"arrowhead\":0,\"arrowwidth\":1},\"geo\":{\"bgcolor\":\"white\",\"landcolor\":\"#E5ECF6\",\"subunitcolor\":\"white\",\"showland\":true,\"showlakes\":true,\"lakecolor\":\"white\"},\"title\":{\"x\":0.05},\"mapbox\":{\"style\":\"light\"}}},\"legend\":{\"tracegroupgap\":0},\"title\":{\"text\":\"Activities on the Project Function Platform\"}},                        {\"responsive\": true}                    ).then(function(){\n                            \nvar gd = document.getElementById('30f4760a-b229-463f-99ba-41107e91fc77');\nvar x = new MutationObserver(function (mutations, observer) {{\n        var display = window.getComputedStyle(gd).display;\n        if (!display || display === 'none') {{\n            console.log([gd, 'removed!']);\n            Plotly.purge(gd);\n            observer.disconnect();\n        }}\n}});\n\n// Listen for the removal of the full notebook cells\nvar notebookContainer = gd.closest('#notebook-container');\nif (notebookContainer) {{\n    x.observe(notebookContainer, {childList: true});\n}}\n\n// Listen for the clearing of the current output cell\nvar outputEl = gd.closest('.output');\nif (outputEl) {{\n    x.observe(outputEl, {childList: true});\n}}\n\n                        })                };                            </script>        </div>\n</body>\n</html>"
     },
     "metadata": {},
     "output_type": "display_data"
    }
   ]
  },
  {
   "cell_type": "markdown",
   "source": "### Comparing the popularity of activites without Logged in",
   "metadata": {
    "cell_id": "fd5c78c265014c55b92c16928c489609",
    "tags": [],
    "deepnote_cell_type": "markdown",
    "deepnote_cell_height": 62
   }
  },
  {
   "cell_type": "code",
   "metadata": {
    "cell_id": "5cc9e11279094aa9aadcb3830671b060",
    "tags": [],
    "deepnote_to_be_reexecuted": false,
    "source_hash": "bc77b7fb",
    "execution_start": 1652977576096,
    "execution_millis": 125,
    "allow_embed": "output",
    "deepnote_cell_type": "code",
    "deepnote_cell_height": 750,
    "deepnote_output_heights": [
     527
    ]
   },
   "source": "activities_without_login = activity_count_df[activity_count_df['Activity name']!= 'Logged in']\nfig = px.bar(activities_without_login,\n            x= 'Activity name',\n            y= 'Number of records',\n            hover_data=['Activity name'], color='Number of records',\n            title='Activities on the Project Function Platform')\n\nfig.show()",
   "execution_count": 17,
   "outputs": [
    {
     "data": {
      "text/html": "<html>\n<head><meta charset=\"utf-8\" /></head>\n<body>\n    <div>            <script src=\"https://cdnjs.cloudflare.com/ajax/libs/mathjax/2.7.5/MathJax.js?config=TeX-AMS-MML_SVG\"></script><script type=\"text/javascript\">if (window.MathJax) {MathJax.Hub.Config({SVG: {font: \"STIX-Web\"}});}</script>                <script type=\"text/javascript\">window.PlotlyConfig = {MathJaxConfig: 'local'};</script>\n        <script src=\"https://cdn.plot.ly/plotly-2.11.1.min.js\"></script>                <div id=\"2741da92-d697-42f4-b2ec-e40b7ec354d7\" class=\"plotly-graph-div\" style=\"height:525px; width:100%;\"></div>            <script type=\"text/javascript\">                                    window.PLOTLYENV=window.PLOTLYENV || {};                                    if (document.getElementById(\"2741da92-d697-42f4-b2ec-e40b7ec354d7\")) {                    Plotly.newPlot(                        \"2741da92-d697-42f4-b2ec-e40b7ec354d7\",                        [{\"alignmentgroup\":\"True\",\"hovertemplate\":\"Activity name=%{x}<br>Number of records=%{marker.color}<extra></extra>\",\"legendgroup\":\"\",\"marker\":{\"color\":[59,29,28,16,15,3,2,2,1,1,1],\"coloraxis\":\"coloraxis\",\"pattern\":{\"shape\":\"\"}},\"name\":\"\",\"offsetgroup\":\"\",\"orientation\":\"v\",\"showlegend\":false,\"textposition\":\"auto\",\"x\":[\"Accessed a Session\",\"Magic link sent\",\"Pssword acivity\",\"Navigated course\",\"Enrolled\",\"Tested work\",\"Created project\",\"Profile activity\",\"Submitted assignment\",\"Deleted project\",\"External link\"],\"xaxis\":\"x\",\"y\":[59,29,28,16,15,3,2,2,1,1,1],\"yaxis\":\"y\",\"type\":\"bar\"}],                        {\"template\":{\"data\":{\"histogram2dcontour\":[{\"type\":\"histogram2dcontour\",\"colorbar\":{\"outlinewidth\":0,\"ticks\":\"\"},\"colorscale\":[[0.0,\"#0d0887\"],[0.1111111111111111,\"#46039f\"],[0.2222222222222222,\"#7201a8\"],[0.3333333333333333,\"#9c179e\"],[0.4444444444444444,\"#bd3786\"],[0.5555555555555556,\"#d8576b\"],[0.6666666666666666,\"#ed7953\"],[0.7777777777777778,\"#fb9f3a\"],[0.8888888888888888,\"#fdca26\"],[1.0,\"#f0f921\"]]}],\"choropleth\":[{\"type\":\"choropleth\",\"colorbar\":{\"outlinewidth\":0,\"ticks\":\"\"}}],\"histogram2d\":[{\"type\":\"histogram2d\",\"colorbar\":{\"outlinewidth\":0,\"ticks\":\"\"},\"colorscale\":[[0.0,\"#0d0887\"],[0.1111111111111111,\"#46039f\"],[0.2222222222222222,\"#7201a8\"],[0.3333333333333333,\"#9c179e\"],[0.4444444444444444,\"#bd3786\"],[0.5555555555555556,\"#d8576b\"],[0.6666666666666666,\"#ed7953\"],[0.7777777777777778,\"#fb9f3a\"],[0.8888888888888888,\"#fdca26\"],[1.0,\"#f0f921\"]]}],\"heatmap\":[{\"type\":\"heatmap\",\"colorbar\":{\"outlinewidth\":0,\"ticks\":\"\"},\"colorscale\":[[0.0,\"#0d0887\"],[0.1111111111111111,\"#46039f\"],[0.2222222222222222,\"#7201a8\"],[0.3333333333333333,\"#9c179e\"],[0.4444444444444444,\"#bd3786\"],[0.5555555555555556,\"#d8576b\"],[0.6666666666666666,\"#ed7953\"],[0.7777777777777778,\"#fb9f3a\"],[0.8888888888888888,\"#fdca26\"],[1.0,\"#f0f921\"]]}],\"heatmapgl\":[{\"type\":\"heatmapgl\",\"colorbar\":{\"outlinewidth\":0,\"ticks\":\"\"},\"colorscale\":[[0.0,\"#0d0887\"],[0.1111111111111111,\"#46039f\"],[0.2222222222222222,\"#7201a8\"],[0.3333333333333333,\"#9c179e\"],[0.4444444444444444,\"#bd3786\"],[0.5555555555555556,\"#d8576b\"],[0.6666666666666666,\"#ed7953\"],[0.7777777777777778,\"#fb9f3a\"],[0.8888888888888888,\"#fdca26\"],[1.0,\"#f0f921\"]]}],\"contourcarpet\":[{\"type\":\"contourcarpet\",\"colorbar\":{\"outlinewidth\":0,\"ticks\":\"\"}}],\"contour\":[{\"type\":\"contour\",\"colorbar\":{\"outlinewidth\":0,\"ticks\":\"\"},\"colorscale\":[[0.0,\"#0d0887\"],[0.1111111111111111,\"#46039f\"],[0.2222222222222222,\"#7201a8\"],[0.3333333333333333,\"#9c179e\"],[0.4444444444444444,\"#bd3786\"],[0.5555555555555556,\"#d8576b\"],[0.6666666666666666,\"#ed7953\"],[0.7777777777777778,\"#fb9f3a\"],[0.8888888888888888,\"#fdca26\"],[1.0,\"#f0f921\"]]}],\"surface\":[{\"type\":\"surface\",\"colorbar\":{\"outlinewidth\":0,\"ticks\":\"\"},\"colorscale\":[[0.0,\"#0d0887\"],[0.1111111111111111,\"#46039f\"],[0.2222222222222222,\"#7201a8\"],[0.3333333333333333,\"#9c179e\"],[0.4444444444444444,\"#bd3786\"],[0.5555555555555556,\"#d8576b\"],[0.6666666666666666,\"#ed7953\"],[0.7777777777777778,\"#fb9f3a\"],[0.8888888888888888,\"#fdca26\"],[1.0,\"#f0f921\"]]}],\"mesh3d\":[{\"type\":\"mesh3d\",\"colorbar\":{\"outlinewidth\":0,\"ticks\":\"\"}}],\"scatter\":[{\"fillpattern\":{\"fillmode\":\"overlay\",\"size\":10,\"solidity\":0.2},\"type\":\"scatter\"}],\"parcoords\":[{\"type\":\"parcoords\",\"line\":{\"colorbar\":{\"outlinewidth\":0,\"ticks\":\"\"}}}],\"scatterpolargl\":[{\"type\":\"scatterpolargl\",\"marker\":{\"colorbar\":{\"outlinewidth\":0,\"ticks\":\"\"}}}],\"bar\":[{\"error_x\":{\"color\":\"#2a3f5f\"},\"error_y\":{\"color\":\"#2a3f5f\"},\"marker\":{\"line\":{\"color\":\"#E5ECF6\",\"width\":0.5},\"pattern\":{\"fillmode\":\"overlay\",\"size\":10,\"solidity\":0.2}},\"type\":\"bar\"}],\"scattergeo\":[{\"type\":\"scattergeo\",\"marker\":{\"colorbar\":{\"outlinewidth\":0,\"ticks\":\"\"}}}],\"scatterpolar\":[{\"type\":\"scatterpolar\",\"marker\":{\"colorbar\":{\"outlinewidth\":0,\"ticks\":\"\"}}}],\"histogram\":[{\"marker\":{\"pattern\":{\"fillmode\":\"overlay\",\"size\":10,\"solidity\":0.2}},\"type\":\"histogram\"}],\"scattergl\":[{\"type\":\"scattergl\",\"marker\":{\"colorbar\":{\"outlinewidth\":0,\"ticks\":\"\"}}}],\"scatter3d\":[{\"type\":\"scatter3d\",\"line\":{\"colorbar\":{\"outlinewidth\":0,\"ticks\":\"\"}},\"marker\":{\"colorbar\":{\"outlinewidth\":0,\"ticks\":\"\"}}}],\"scattermapbox\":[{\"type\":\"scattermapbox\",\"marker\":{\"colorbar\":{\"outlinewidth\":0,\"ticks\":\"\"}}}],\"scatterternary\":[{\"type\":\"scatterternary\",\"marker\":{\"colorbar\":{\"outlinewidth\":0,\"ticks\":\"\"}}}],\"scattercarpet\":[{\"type\":\"scattercarpet\",\"marker\":{\"colorbar\":{\"outlinewidth\":0,\"ticks\":\"\"}}}],\"carpet\":[{\"aaxis\":{\"endlinecolor\":\"#2a3f5f\",\"gridcolor\":\"white\",\"linecolor\":\"white\",\"minorgridcolor\":\"white\",\"startlinecolor\":\"#2a3f5f\"},\"baxis\":{\"endlinecolor\":\"#2a3f5f\",\"gridcolor\":\"white\",\"linecolor\":\"white\",\"minorgridcolor\":\"white\",\"startlinecolor\":\"#2a3f5f\"},\"type\":\"carpet\"}],\"table\":[{\"cells\":{\"fill\":{\"color\":\"#EBF0F8\"},\"line\":{\"color\":\"white\"}},\"header\":{\"fill\":{\"color\":\"#C8D4E3\"},\"line\":{\"color\":\"white\"}},\"type\":\"table\"}],\"barpolar\":[{\"marker\":{\"line\":{\"color\":\"#E5ECF6\",\"width\":0.5},\"pattern\":{\"fillmode\":\"overlay\",\"size\":10,\"solidity\":0.2}},\"type\":\"barpolar\"}],\"pie\":[{\"automargin\":true,\"type\":\"pie\"}]},\"layout\":{\"autotypenumbers\":\"strict\",\"colorway\":[\"#636efa\",\"#EF553B\",\"#00cc96\",\"#ab63fa\",\"#FFA15A\",\"#19d3f3\",\"#FF6692\",\"#B6E880\",\"#FF97FF\",\"#FECB52\"],\"font\":{\"color\":\"#2a3f5f\"},\"hovermode\":\"closest\",\"hoverlabel\":{\"align\":\"left\"},\"paper_bgcolor\":\"white\",\"plot_bgcolor\":\"#E5ECF6\",\"polar\":{\"bgcolor\":\"#E5ECF6\",\"angularaxis\":{\"gridcolor\":\"white\",\"linecolor\":\"white\",\"ticks\":\"\"},\"radialaxis\":{\"gridcolor\":\"white\",\"linecolor\":\"white\",\"ticks\":\"\"}},\"ternary\":{\"bgcolor\":\"#E5ECF6\",\"aaxis\":{\"gridcolor\":\"white\",\"linecolor\":\"white\",\"ticks\":\"\"},\"baxis\":{\"gridcolor\":\"white\",\"linecolor\":\"white\",\"ticks\":\"\"},\"caxis\":{\"gridcolor\":\"white\",\"linecolor\":\"white\",\"ticks\":\"\"}},\"coloraxis\":{\"colorbar\":{\"outlinewidth\":0,\"ticks\":\"\"}},\"colorscale\":{\"sequential\":[[0.0,\"#0d0887\"],[0.1111111111111111,\"#46039f\"],[0.2222222222222222,\"#7201a8\"],[0.3333333333333333,\"#9c179e\"],[0.4444444444444444,\"#bd3786\"],[0.5555555555555556,\"#d8576b\"],[0.6666666666666666,\"#ed7953\"],[0.7777777777777778,\"#fb9f3a\"],[0.8888888888888888,\"#fdca26\"],[1.0,\"#f0f921\"]],\"sequentialminus\":[[0.0,\"#0d0887\"],[0.1111111111111111,\"#46039f\"],[0.2222222222222222,\"#7201a8\"],[0.3333333333333333,\"#9c179e\"],[0.4444444444444444,\"#bd3786\"],[0.5555555555555556,\"#d8576b\"],[0.6666666666666666,\"#ed7953\"],[0.7777777777777778,\"#fb9f3a\"],[0.8888888888888888,\"#fdca26\"],[1.0,\"#f0f921\"]],\"diverging\":[[0,\"#8e0152\"],[0.1,\"#c51b7d\"],[0.2,\"#de77ae\"],[0.3,\"#f1b6da\"],[0.4,\"#fde0ef\"],[0.5,\"#f7f7f7\"],[0.6,\"#e6f5d0\"],[0.7,\"#b8e186\"],[0.8,\"#7fbc41\"],[0.9,\"#4d9221\"],[1,\"#276419\"]]},\"xaxis\":{\"gridcolor\":\"white\",\"linecolor\":\"white\",\"ticks\":\"\",\"title\":{\"standoff\":15},\"zerolinecolor\":\"white\",\"automargin\":true,\"zerolinewidth\":2},\"yaxis\":{\"gridcolor\":\"white\",\"linecolor\":\"white\",\"ticks\":\"\",\"title\":{\"standoff\":15},\"zerolinecolor\":\"white\",\"automargin\":true,\"zerolinewidth\":2},\"scene\":{\"xaxis\":{\"backgroundcolor\":\"#E5ECF6\",\"gridcolor\":\"white\",\"linecolor\":\"white\",\"showbackground\":true,\"ticks\":\"\",\"zerolinecolor\":\"white\",\"gridwidth\":2},\"yaxis\":{\"backgroundcolor\":\"#E5ECF6\",\"gridcolor\":\"white\",\"linecolor\":\"white\",\"showbackground\":true,\"ticks\":\"\",\"zerolinecolor\":\"white\",\"gridwidth\":2},\"zaxis\":{\"backgroundcolor\":\"#E5ECF6\",\"gridcolor\":\"white\",\"linecolor\":\"white\",\"showbackground\":true,\"ticks\":\"\",\"zerolinecolor\":\"white\",\"gridwidth\":2}},\"shapedefaults\":{\"line\":{\"color\":\"#2a3f5f\"}},\"annotationdefaults\":{\"arrowcolor\":\"#2a3f5f\",\"arrowhead\":0,\"arrowwidth\":1},\"geo\":{\"bgcolor\":\"white\",\"landcolor\":\"#E5ECF6\",\"subunitcolor\":\"white\",\"showland\":true,\"showlakes\":true,\"lakecolor\":\"white\"},\"title\":{\"x\":0.05},\"mapbox\":{\"style\":\"light\"}}},\"xaxis\":{\"anchor\":\"y\",\"domain\":[0.0,1.0],\"title\":{\"text\":\"Activity name\"}},\"yaxis\":{\"anchor\":\"x\",\"domain\":[0.0,1.0],\"title\":{\"text\":\"Number of records\"}},\"coloraxis\":{\"colorbar\":{\"title\":{\"text\":\"Number of records\"}},\"colorscale\":[[0.0,\"#0d0887\"],[0.1111111111111111,\"#46039f\"],[0.2222222222222222,\"#7201a8\"],[0.3333333333333333,\"#9c179e\"],[0.4444444444444444,\"#bd3786\"],[0.5555555555555556,\"#d8576b\"],[0.6666666666666666,\"#ed7953\"],[0.7777777777777778,\"#fb9f3a\"],[0.8888888888888888,\"#fdca26\"],[1.0,\"#f0f921\"]]},\"legend\":{\"tracegroupgap\":0},\"title\":{\"text\":\"Activities on the Project Function Platform\"},\"barmode\":\"relative\"},                        {\"responsive\": true}                    ).then(function(){\n                            \nvar gd = document.getElementById('2741da92-d697-42f4-b2ec-e40b7ec354d7');\nvar x = new MutationObserver(function (mutations, observer) {{\n        var display = window.getComputedStyle(gd).display;\n        if (!display || display === 'none') {{\n            console.log([gd, 'removed!']);\n            Plotly.purge(gd);\n            observer.disconnect();\n        }}\n}});\n\n// Listen for the removal of the full notebook cells\nvar notebookContainer = gd.closest('#notebook-container');\nif (notebookContainer) {{\n    x.observe(notebookContainer, {childList: true});\n}}\n\n// Listen for the clearing of the current output cell\nvar outputEl = gd.closest('.output');\nif (outputEl) {{\n    x.observe(outputEl, {childList: true});\n}}\n\n                        })                };                            </script>        </div>\n</body>\n</html>"
     },
     "metadata": {},
     "output_type": "display_data"
    }
   ]
  },
  {
   "cell_type": "code",
   "metadata": {
    "cell_id": "e7b22cf56fa24e40b8ba7b3893a62d3c",
    "tags": [],
    "deepnote_to_be_reexecuted": false,
    "source_hash": "6eda08c1",
    "execution_start": 1652977576224,
    "execution_millis": 58,
    "deepnote_cell_type": "code",
    "deepnote_cell_height": 613.59375
   },
   "source": "activity",
   "execution_count": 18,
   "outputs": [
    {
     "output_type": "execute_result",
     "execution_count": 18,
     "data": {
      "application/vnd.deepnote.dataframe.v3+json": {
       "column_count": 8,
       "row_count": 481,
       "columns": [
        {
         "name": "id",
         "dtype": "int64",
         "stats": {
          "unique_count": 481,
          "nan_count": 0,
          "min": "1028",
          "max": "1525",
          "histogram": [
           {
            "bin_start": 1028,
            "bin_end": 1077.7,
            "count": 50
           },
           {
            "bin_start": 1077.7,
            "bin_end": 1127.4,
            "count": 50
           },
           {
            "bin_start": 1127.4,
            "bin_end": 1177.1,
            "count": 50
           },
           {
            "bin_start": 1177.1,
            "bin_end": 1226.8,
            "count": 49
           },
           {
            "bin_start": 1226.8,
            "bin_end": 1276.5,
            "count": 50
           },
           {
            "bin_start": 1276.5,
            "bin_end": 1326.2,
            "count": 41
           },
           {
            "bin_start": 1326.2,
            "bin_end": 1375.9,
            "count": 49
           },
           {
            "bin_start": 1375.9,
            "bin_end": 1425.6,
            "count": 50
           },
           {
            "bin_start": 1425.6,
            "bin_end": 1475.3,
            "count": 49
           },
           {
            "bin_start": 1475.3,
            "bin_end": 1525,
            "count": 43
           }
          ]
         }
        },
        {
         "name": "created_at",
         "dtype": "object",
         "stats": {
          "unique_count": 481,
          "nan_count": 0,
          "categories": [
           {
            "name": "2021-03-25 11:25:05.219531",
            "count": 1
           },
           {
            "name": "2021-03-25 11:25:36.764022",
            "count": 1
           },
           {
            "name": "479 others",
            "count": 479
           }
          ]
         }
        },
        {
         "name": "updated_at",
         "dtype": "object",
         "stats": {
          "unique_count": 481,
          "nan_count": 0,
          "categories": [
           {
            "name": "2021-03-25 11:25:05.219531",
            "count": 1
           },
           {
            "name": "2021-03-25 11:25:36.764022",
            "count": 1
           },
           {
            "name": "479 others",
            "count": 479
           }
          ]
         }
        },
        {
         "name": "activity",
         "dtype": "object",
         "stats": {
          "unique_count": 36,
          "nan_count": 0,
          "categories": [
           {
            "name": "Logged in",
            "count": 324
           },
           {
            "name": "Magic link sent",
            "count": 29
           },
           {
            "name": "34 others",
            "count": 128
           }
          ]
         }
        },
        {
         "name": "reference",
         "dtype": "object",
         "stats": {
          "unique_count": 481,
          "nan_count": 0,
          "categories": [
           {
            "name": "fb90e519c1d230f016d3a5d95f005f77",
            "count": 1
           },
           {
            "name": "6303bac7a4c38503cbbfab8aaaf12840",
            "count": 1
           },
           {
            "name": "479 others",
            "count": 479
           }
          ]
         }
        },
        {
         "name": "expiry",
         "dtype": "object",
         "stats": {
          "unique_count": 475,
          "nan_count": 0,
          "categories": [
           {
            "name": "2022-03-28 23:47:19",
            "count": 2
           },
           {
            "name": "2022-04-16 15:36:56",
            "count": 2
           },
           {
            "name": "473 others",
            "count": 477
           }
          ]
         }
        },
        {
         "name": "userId",
         "dtype": "int64",
         "stats": {
          "unique_count": 26,
          "nan_count": 0,
          "min": "1",
          "max": "131",
          "histogram": [
           {
            "bin_start": 1,
            "bin_end": 14,
            "count": 285
           },
           {
            "bin_start": 14,
            "bin_end": 27,
            "count": 0
           },
           {
            "bin_start": 27,
            "bin_end": 40,
            "count": 0
           },
           {
            "bin_start": 40,
            "bin_end": 53,
            "count": 0
           },
           {
            "bin_start": 53,
            "bin_end": 66,
            "count": 16
           },
           {
            "bin_start": 66,
            "bin_end": 79,
            "count": 44
           },
           {
            "bin_start": 79,
            "bin_end": 92,
            "count": 16
           },
           {
            "bin_start": 92,
            "bin_end": 105,
            "count": 0
           },
           {
            "bin_start": 105,
            "bin_end": 118,
            "count": 64
           },
           {
            "bin_start": 118,
            "bin_end": 131,
            "count": 56
           }
          ]
         }
        },
        {
         "name": "Activity Overview",
         "dtype": "object",
         "stats": {
          "unique_count": 12,
          "nan_count": 0,
          "categories": [
           {
            "name": "Logged in",
            "count": 324
           },
           {
            "name": "Accessed a Session",
            "count": 59
           },
           {
            "name": "10 others",
            "count": 98
           }
          ]
         }
        },
        {
         "name": "_deepnote_index_column",
         "dtype": "int64"
        }
       ],
       "rows": [
        {
         "id": 1028,
         "created_at": "2021-03-25 11:25:05.219531",
         "updated_at": "2021-03-25 11:25:05.219531",
         "activity": "Logged in",
         "reference": "fb90e519c1d230f016d3a5d95f005f77",
         "expiry": "2022-03-25 17:25:05",
         "userId": 106,
         "Activity Overview": "Logged in",
         "_deepnote_index_column": 0
        },
        {
         "id": 1029,
         "created_at": "2021-03-25 11:25:36.764022",
         "updated_at": "2021-03-25 11:25:36.764022",
         "activity": "Accessed Session 4 - Starter Files from Intro to Game Dev with Unity repo",
         "reference": "6303bac7a4c38503cbbfab8aaaf12840",
         "expiry": "2022-03-25 17:25:37",
         "userId": 106,
         "Activity Overview": "Accessed a Session",
         "_deepnote_index_column": 1
        },
        {
         "id": 1030,
         "created_at": "2021-03-25 11:28:19.047747",
         "updated_at": "2021-03-25 11:28:19.047747",
         "activity": "Accessed Session 3 Recap from Intro to Game Dev with Unity repo",
         "reference": "fc6ffe47d3cc201a1bd83b35ed8cb419",
         "expiry": "2022-03-25 17:28:19",
         "userId": 106,
         "Activity Overview": "Accessed a Session",
         "_deepnote_index_column": 2
        },
        {
         "id": 1031,
         "created_at": "2021-03-25 15:58:27.461204",
         "updated_at": "2021-03-25 15:58:27.461204",
         "activity": "Logged in",
         "reference": "ac290f99744baf85c1eb7d8432dfd354",
         "expiry": "2022-03-25 21:58:27",
         "userId": 3,
         "Activity Overview": "Logged in",
         "_deepnote_index_column": 3
        },
        {
         "id": 1032,
         "created_at": "2021-03-25 16:00:34.020002",
         "updated_at": "2021-03-25 16:00:34.020002",
         "activity": "Accessed W3Schools from Intro to Web Dev repo",
         "reference": "4dfb37feb52f7512e515e7845d087fe0",
         "expiry": "2022-03-25 22:00:34",
         "userId": 3,
         "Activity Overview": "External link",
         "_deepnote_index_column": 4
        },
        {
         "id": 1033,
         "created_at": "2021-03-25 16:03:29.668728",
         "updated_at": "2021-03-25 16:03:29.668728",
         "activity": "Logged in",
         "reference": "3b00fe6a870b09fc9c9f9b6aa78ebbb2",
         "expiry": "2022-03-25 22:03:30",
         "userId": 2,
         "Activity Overview": "Logged in",
         "_deepnote_index_column": 5
        },
        {
         "id": 1034,
         "created_at": "2021-03-25 16:04:21.472265",
         "updated_at": "2021-03-25 16:04:21.472265",
         "activity": "No course selected. Navigating to course selection",
         "reference": "5228d741e8d42a6fe2b87afabf94ea68",
         "expiry": "2022-03-25 22:04:21",
         "userId": 3,
         "Activity Overview": "Navigated course",
         "_deepnote_index_column": 6
        },
        {
         "id": 1035,
         "created_at": "2021-03-25 16:09:30.966901",
         "updated_at": "2021-03-25 16:09:30.966901",
         "activity": "Accessed Session 1 Recap from Intro to Game Dev with Unity repo",
         "reference": "3c32e221cc5b5ca6535f2a74b6d3ee6d",
         "expiry": "2022-03-25 22:09:31",
         "userId": 3,
         "Activity Overview": "Accessed a Session",
         "_deepnote_index_column": 7
        },
        {
         "id": 1036,
         "created_at": "2021-03-25 16:09:44.726639",
         "updated_at": "2021-03-25 16:09:44.726639",
         "activity": "Accessed Session 3 Recap from Intro to Game Dev with Unity repo",
         "reference": "f6b23ba3bf67c53fc94d26d491a6122c",
         "expiry": "2022-03-25 22:09:45",
         "userId": 3,
         "Activity Overview": "Accessed a Session",
         "_deepnote_index_column": 8
        },
        {
         "id": 1037,
         "created_at": "2021-03-25 16:09:47.206986",
         "updated_at": "2021-03-25 16:09:47.206986",
         "activity": "Accessed Session 3 Recap from Intro to Game Dev with Unity repo",
         "reference": "4037e723bc8bb1fe028f7c5a5109d19b",
         "expiry": "2022-03-25 22:09:47",
         "userId": 3,
         "Activity Overview": "Accessed a Session",
         "_deepnote_index_column": 9
        }
       ]
      },
      "text/plain": "       id                  created_at                  updated_at  \\\n0    1028  2021-03-25 11:25:05.219531  2021-03-25 11:25:05.219531   \n1    1029  2021-03-25 11:25:36.764022  2021-03-25 11:25:36.764022   \n2    1030  2021-03-25 11:28:19.047747  2021-03-25 11:28:19.047747   \n3    1031  2021-03-25 15:58:27.461204  2021-03-25 15:58:27.461204   \n4    1032  2021-03-25 16:00:34.020002  2021-03-25 16:00:34.020002   \n..    ...                         ...                         ...   \n476  1521  2022-02-24 14:45:47.726320  2022-02-24 14:45:47.726320   \n477  1522  2022-03-07 02:13:50.459150  2022-03-07 02:13:50.459150   \n478  1523  2022-03-09 20:13:29.515235  2022-03-09 20:13:29.515235   \n479  1524  2022-04-20 18:28:56.639697  2022-04-20 18:28:56.639697   \n480  1525  2022-04-21 10:17:50.727601  2022-04-21 10:17:50.727601   \n\n                                              activity  \\\n0                                            Logged in   \n1    Accessed Session 4 - Starter Files from Intro ...   \n2    Accessed Session 3 Recap from Intro to Game De...   \n3                                            Logged in   \n4        Accessed W3Schools from Intro to Web Dev repo   \n..                                                 ...   \n476                                          Logged in   \n477                                          Logged in   \n478                                          Logged in   \n479                                          Logged in   \n480                                          Logged in   \n\n                            reference               expiry  userId  \\\n0    fb90e519c1d230f016d3a5d95f005f77  2022-03-25 17:25:05     106   \n1    6303bac7a4c38503cbbfab8aaaf12840  2022-03-25 17:25:37     106   \n2    fc6ffe47d3cc201a1bd83b35ed8cb419  2022-03-25 17:28:19     106   \n3    ac290f99744baf85c1eb7d8432dfd354  2022-03-25 21:58:27       3   \n4    4dfb37feb52f7512e515e7845d087fe0  2022-03-25 22:00:34       3   \n..                                ...                  ...     ...   \n476  8cb66d3edf353482b40622db6e256d86  2023-02-24 20:45:48       2   \n477  372c4b7d59e0fda30674edb46358ed87  2023-03-07 08:13:50       2   \n478  a8103398465ef7394fc5bc9f0188de59  2023-03-10 02:13:30       2   \n479  0b62114655c53ffad97b616b13891658  2023-04-21 00:28:57       2   \n480  8e66a2358885fa4a4d11dec3ff4e8d06  2023-04-21 16:17:51       2   \n\n      Activity Overview  \n0             Logged in  \n1    Accessed a Session  \n2    Accessed a Session  \n3             Logged in  \n4         External link  \n..                  ...  \n476           Logged in  \n477           Logged in  \n478           Logged in  \n479           Logged in  \n480           Logged in  \n\n[481 rows x 8 columns]",
      "text/html": "<div>\n<style scoped>\n    .dataframe tbody tr th:only-of-type {\n        vertical-align: middle;\n    }\n\n    .dataframe tbody tr th {\n        vertical-align: top;\n    }\n\n    .dataframe thead th {\n        text-align: right;\n    }\n</style>\n<table border=\"1\" class=\"dataframe\">\n  <thead>\n    <tr style=\"text-align: right;\">\n      <th></th>\n      <th>id</th>\n      <th>created_at</th>\n      <th>updated_at</th>\n      <th>activity</th>\n      <th>reference</th>\n      <th>expiry</th>\n      <th>userId</th>\n      <th>Activity Overview</th>\n    </tr>\n  </thead>\n  <tbody>\n    <tr>\n      <th>0</th>\n      <td>1028</td>\n      <td>2021-03-25 11:25:05.219531</td>\n      <td>2021-03-25 11:25:05.219531</td>\n      <td>Logged in</td>\n      <td>fb90e519c1d230f016d3a5d95f005f77</td>\n      <td>2022-03-25 17:25:05</td>\n      <td>106</td>\n      <td>Logged in</td>\n    </tr>\n    <tr>\n      <th>1</th>\n      <td>1029</td>\n      <td>2021-03-25 11:25:36.764022</td>\n      <td>2021-03-25 11:25:36.764022</td>\n      <td>Accessed Session 4 - Starter Files from Intro ...</td>\n      <td>6303bac7a4c38503cbbfab8aaaf12840</td>\n      <td>2022-03-25 17:25:37</td>\n      <td>106</td>\n      <td>Accessed a Session</td>\n    </tr>\n    <tr>\n      <th>2</th>\n      <td>1030</td>\n      <td>2021-03-25 11:28:19.047747</td>\n      <td>2021-03-25 11:28:19.047747</td>\n      <td>Accessed Session 3 Recap from Intro to Game De...</td>\n      <td>fc6ffe47d3cc201a1bd83b35ed8cb419</td>\n      <td>2022-03-25 17:28:19</td>\n      <td>106</td>\n      <td>Accessed a Session</td>\n    </tr>\n    <tr>\n      <th>3</th>\n      <td>1031</td>\n      <td>2021-03-25 15:58:27.461204</td>\n      <td>2021-03-25 15:58:27.461204</td>\n      <td>Logged in</td>\n      <td>ac290f99744baf85c1eb7d8432dfd354</td>\n      <td>2022-03-25 21:58:27</td>\n      <td>3</td>\n      <td>Logged in</td>\n    </tr>\n    <tr>\n      <th>4</th>\n      <td>1032</td>\n      <td>2021-03-25 16:00:34.020002</td>\n      <td>2021-03-25 16:00:34.020002</td>\n      <td>Accessed W3Schools from Intro to Web Dev repo</td>\n      <td>4dfb37feb52f7512e515e7845d087fe0</td>\n      <td>2022-03-25 22:00:34</td>\n      <td>3</td>\n      <td>External link</td>\n    </tr>\n    <tr>\n      <th>...</th>\n      <td>...</td>\n      <td>...</td>\n      <td>...</td>\n      <td>...</td>\n      <td>...</td>\n      <td>...</td>\n      <td>...</td>\n      <td>...</td>\n    </tr>\n    <tr>\n      <th>476</th>\n      <td>1521</td>\n      <td>2022-02-24 14:45:47.726320</td>\n      <td>2022-02-24 14:45:47.726320</td>\n      <td>Logged in</td>\n      <td>8cb66d3edf353482b40622db6e256d86</td>\n      <td>2023-02-24 20:45:48</td>\n      <td>2</td>\n      <td>Logged in</td>\n    </tr>\n    <tr>\n      <th>477</th>\n      <td>1522</td>\n      <td>2022-03-07 02:13:50.459150</td>\n      <td>2022-03-07 02:13:50.459150</td>\n      <td>Logged in</td>\n      <td>372c4b7d59e0fda30674edb46358ed87</td>\n      <td>2023-03-07 08:13:50</td>\n      <td>2</td>\n      <td>Logged in</td>\n    </tr>\n    <tr>\n      <th>478</th>\n      <td>1523</td>\n      <td>2022-03-09 20:13:29.515235</td>\n      <td>2022-03-09 20:13:29.515235</td>\n      <td>Logged in</td>\n      <td>a8103398465ef7394fc5bc9f0188de59</td>\n      <td>2023-03-10 02:13:30</td>\n      <td>2</td>\n      <td>Logged in</td>\n    </tr>\n    <tr>\n      <th>479</th>\n      <td>1524</td>\n      <td>2022-04-20 18:28:56.639697</td>\n      <td>2022-04-20 18:28:56.639697</td>\n      <td>Logged in</td>\n      <td>0b62114655c53ffad97b616b13891658</td>\n      <td>2023-04-21 00:28:57</td>\n      <td>2</td>\n      <td>Logged in</td>\n    </tr>\n    <tr>\n      <th>480</th>\n      <td>1525</td>\n      <td>2022-04-21 10:17:50.727601</td>\n      <td>2022-04-21 10:17:50.727601</td>\n      <td>Logged in</td>\n      <td>8e66a2358885fa4a4d11dec3ff4e8d06</td>\n      <td>2023-04-21 16:17:51</td>\n      <td>2</td>\n      <td>Logged in</td>\n    </tr>\n  </tbody>\n</table>\n<p>481 rows × 8 columns</p>\n</div>"
     },
     "metadata": {}
    }
   ]
  },
  {
   "cell_type": "code",
   "metadata": {
    "cell_id": "57c74b774f5946d5b61dbde4d66e6589",
    "tags": [],
    "deepnote_to_be_reexecuted": false,
    "source_hash": "a91e0f51",
    "execution_start": 1652977576324,
    "execution_millis": 18,
    "deepnote_cell_type": "code",
    "deepnote_cell_height": 690
   },
   "source": "count_per_date = activity.drop(['updated_at', 'id', 'reference', 'expiry'], axis=1)\nimport datetime as dt\ncount_per_date['date']=pd.to_datetime(count_per_date['created_at']).dt.date\n\n# df['Dates'] = pd.to_datetime(df['date']).dt.date\ncount_per_date",
   "execution_count": 19,
   "outputs": [
    {
     "output_type": "execute_result",
     "execution_count": 19,
     "data": {
      "application/vnd.deepnote.dataframe.v3+json": {
       "column_count": 5,
       "row_count": 481,
       "columns": [
        {
         "name": "created_at",
         "dtype": "object",
         "stats": {
          "unique_count": 481,
          "nan_count": 0,
          "categories": [
           {
            "name": "2021-03-25 11:25:05.219531",
            "count": 1
           },
           {
            "name": "2021-03-25 11:25:36.764022",
            "count": 1
           },
           {
            "name": "479 others",
            "count": 479
           }
          ]
         }
        },
        {
         "name": "activity",
         "dtype": "object",
         "stats": {
          "unique_count": 36,
          "nan_count": 0,
          "categories": [
           {
            "name": "Logged in",
            "count": 324
           },
           {
            "name": "Magic link sent",
            "count": 29
           },
           {
            "name": "34 others",
            "count": 128
           }
          ]
         }
        },
        {
         "name": "userId",
         "dtype": "int64",
         "stats": {
          "unique_count": 26,
          "nan_count": 0,
          "min": "1",
          "max": "131",
          "histogram": [
           {
            "bin_start": 1,
            "bin_end": 14,
            "count": 285
           },
           {
            "bin_start": 14,
            "bin_end": 27,
            "count": 0
           },
           {
            "bin_start": 27,
            "bin_end": 40,
            "count": 0
           },
           {
            "bin_start": 40,
            "bin_end": 53,
            "count": 0
           },
           {
            "bin_start": 53,
            "bin_end": 66,
            "count": 16
           },
           {
            "bin_start": 66,
            "bin_end": 79,
            "count": 44
           },
           {
            "bin_start": 79,
            "bin_end": 92,
            "count": 16
           },
           {
            "bin_start": 92,
            "bin_end": 105,
            "count": 0
           },
           {
            "bin_start": 105,
            "bin_end": 118,
            "count": 64
           },
           {
            "bin_start": 118,
            "bin_end": 131,
            "count": 56
           }
          ]
         }
        },
        {
         "name": "Activity Overview",
         "dtype": "object",
         "stats": {
          "unique_count": 12,
          "nan_count": 0,
          "categories": [
           {
            "name": "Logged in",
            "count": 324
           },
           {
            "name": "Accessed a Session",
            "count": 59
           },
           {
            "name": "10 others",
            "count": 98
           }
          ]
         }
        },
        {
         "name": "date",
         "dtype": "object",
         "stats": {
          "unique_count": 86,
          "nan_count": 0,
          "categories": [
           {
            "name": "2021-04-27",
            "count": 39
           },
           {
            "name": "2021-03-30",
            "count": 38
           },
           {
            "name": "84 others",
            "count": 404
           }
          ]
         }
        },
        {
         "name": "_deepnote_index_column",
         "dtype": "int64"
        }
       ],
       "rows": [
        {
         "created_at": "2021-03-25 11:25:05.219531",
         "activity": "Logged in",
         "userId": 106,
         "Activity Overview": "Logged in",
         "date": "2021-03-25",
         "_deepnote_index_column": 0
        },
        {
         "created_at": "2021-03-25 11:25:36.764022",
         "activity": "Accessed Session 4 - Starter Files from Intro to Game Dev with Unity repo",
         "userId": 106,
         "Activity Overview": "Accessed a Session",
         "date": "2021-03-25",
         "_deepnote_index_column": 1
        },
        {
         "created_at": "2021-03-25 11:28:19.047747",
         "activity": "Accessed Session 3 Recap from Intro to Game Dev with Unity repo",
         "userId": 106,
         "Activity Overview": "Accessed a Session",
         "date": "2021-03-25",
         "_deepnote_index_column": 2
        },
        {
         "created_at": "2021-03-25 15:58:27.461204",
         "activity": "Logged in",
         "userId": 3,
         "Activity Overview": "Logged in",
         "date": "2021-03-25",
         "_deepnote_index_column": 3
        },
        {
         "created_at": "2021-03-25 16:00:34.020002",
         "activity": "Accessed W3Schools from Intro to Web Dev repo",
         "userId": 3,
         "Activity Overview": "External link",
         "date": "2021-03-25",
         "_deepnote_index_column": 4
        },
        {
         "created_at": "2021-03-25 16:03:29.668728",
         "activity": "Logged in",
         "userId": 2,
         "Activity Overview": "Logged in",
         "date": "2021-03-25",
         "_deepnote_index_column": 5
        },
        {
         "created_at": "2021-03-25 16:04:21.472265",
         "activity": "No course selected. Navigating to course selection",
         "userId": 3,
         "Activity Overview": "Navigated course",
         "date": "2021-03-25",
         "_deepnote_index_column": 6
        },
        {
         "created_at": "2021-03-25 16:09:30.966901",
         "activity": "Accessed Session 1 Recap from Intro to Game Dev with Unity repo",
         "userId": 3,
         "Activity Overview": "Accessed a Session",
         "date": "2021-03-25",
         "_deepnote_index_column": 7
        },
        {
         "created_at": "2021-03-25 16:09:44.726639",
         "activity": "Accessed Session 3 Recap from Intro to Game Dev with Unity repo",
         "userId": 3,
         "Activity Overview": "Accessed a Session",
         "date": "2021-03-25",
         "_deepnote_index_column": 8
        },
        {
         "created_at": "2021-03-25 16:09:47.206986",
         "activity": "Accessed Session 3 Recap from Intro to Game Dev with Unity repo",
         "userId": 3,
         "Activity Overview": "Accessed a Session",
         "date": "2021-03-25",
         "_deepnote_index_column": 9
        }
       ]
      },
      "text/plain": "                     created_at  \\\n0    2021-03-25 11:25:05.219531   \n1    2021-03-25 11:25:36.764022   \n2    2021-03-25 11:28:19.047747   \n3    2021-03-25 15:58:27.461204   \n4    2021-03-25 16:00:34.020002   \n..                          ...   \n476  2022-02-24 14:45:47.726320   \n477  2022-03-07 02:13:50.459150   \n478  2022-03-09 20:13:29.515235   \n479  2022-04-20 18:28:56.639697   \n480  2022-04-21 10:17:50.727601   \n\n                                              activity  userId  \\\n0                                            Logged in     106   \n1    Accessed Session 4 - Starter Files from Intro ...     106   \n2    Accessed Session 3 Recap from Intro to Game De...     106   \n3                                            Logged in       3   \n4        Accessed W3Schools from Intro to Web Dev repo       3   \n..                                                 ...     ...   \n476                                          Logged in       2   \n477                                          Logged in       2   \n478                                          Logged in       2   \n479                                          Logged in       2   \n480                                          Logged in       2   \n\n      Activity Overview        date  \n0             Logged in  2021-03-25  \n1    Accessed a Session  2021-03-25  \n2    Accessed a Session  2021-03-25  \n3             Logged in  2021-03-25  \n4         External link  2021-03-25  \n..                  ...         ...  \n476           Logged in  2022-02-24  \n477           Logged in  2022-03-07  \n478           Logged in  2022-03-09  \n479           Logged in  2022-04-20  \n480           Logged in  2022-04-21  \n\n[481 rows x 5 columns]",
      "text/html": "<div>\n<style scoped>\n    .dataframe tbody tr th:only-of-type {\n        vertical-align: middle;\n    }\n\n    .dataframe tbody tr th {\n        vertical-align: top;\n    }\n\n    .dataframe thead th {\n        text-align: right;\n    }\n</style>\n<table border=\"1\" class=\"dataframe\">\n  <thead>\n    <tr style=\"text-align: right;\">\n      <th></th>\n      <th>created_at</th>\n      <th>activity</th>\n      <th>userId</th>\n      <th>Activity Overview</th>\n      <th>date</th>\n    </tr>\n  </thead>\n  <tbody>\n    <tr>\n      <th>0</th>\n      <td>2021-03-25 11:25:05.219531</td>\n      <td>Logged in</td>\n      <td>106</td>\n      <td>Logged in</td>\n      <td>2021-03-25</td>\n    </tr>\n    <tr>\n      <th>1</th>\n      <td>2021-03-25 11:25:36.764022</td>\n      <td>Accessed Session 4 - Starter Files from Intro ...</td>\n      <td>106</td>\n      <td>Accessed a Session</td>\n      <td>2021-03-25</td>\n    </tr>\n    <tr>\n      <th>2</th>\n      <td>2021-03-25 11:28:19.047747</td>\n      <td>Accessed Session 3 Recap from Intro to Game De...</td>\n      <td>106</td>\n      <td>Accessed a Session</td>\n      <td>2021-03-25</td>\n    </tr>\n    <tr>\n      <th>3</th>\n      <td>2021-03-25 15:58:27.461204</td>\n      <td>Logged in</td>\n      <td>3</td>\n      <td>Logged in</td>\n      <td>2021-03-25</td>\n    </tr>\n    <tr>\n      <th>4</th>\n      <td>2021-03-25 16:00:34.020002</td>\n      <td>Accessed W3Schools from Intro to Web Dev repo</td>\n      <td>3</td>\n      <td>External link</td>\n      <td>2021-03-25</td>\n    </tr>\n    <tr>\n      <th>...</th>\n      <td>...</td>\n      <td>...</td>\n      <td>...</td>\n      <td>...</td>\n      <td>...</td>\n    </tr>\n    <tr>\n      <th>476</th>\n      <td>2022-02-24 14:45:47.726320</td>\n      <td>Logged in</td>\n      <td>2</td>\n      <td>Logged in</td>\n      <td>2022-02-24</td>\n    </tr>\n    <tr>\n      <th>477</th>\n      <td>2022-03-07 02:13:50.459150</td>\n      <td>Logged in</td>\n      <td>2</td>\n      <td>Logged in</td>\n      <td>2022-03-07</td>\n    </tr>\n    <tr>\n      <th>478</th>\n      <td>2022-03-09 20:13:29.515235</td>\n      <td>Logged in</td>\n      <td>2</td>\n      <td>Logged in</td>\n      <td>2022-03-09</td>\n    </tr>\n    <tr>\n      <th>479</th>\n      <td>2022-04-20 18:28:56.639697</td>\n      <td>Logged in</td>\n      <td>2</td>\n      <td>Logged in</td>\n      <td>2022-04-20</td>\n    </tr>\n    <tr>\n      <th>480</th>\n      <td>2022-04-21 10:17:50.727601</td>\n      <td>Logged in</td>\n      <td>2</td>\n      <td>Logged in</td>\n      <td>2022-04-21</td>\n    </tr>\n  </tbody>\n</table>\n<p>481 rows × 5 columns</p>\n</div>"
     },
     "metadata": {}
    }
   ]
  },
  {
   "cell_type": "code",
   "metadata": {
    "cell_id": "e14812e84db84c83a21a231acfb964f3",
    "tags": [],
    "deepnote_to_be_reexecuted": false,
    "source_hash": "df0a1a83",
    "execution_start": 1652977576408,
    "execution_millis": 3,
    "deepnote_cell_type": "code",
    "deepnote_cell_height": 618
   },
   "source": "count_per_date_only = count_per_date['date'].value_counts().to_frame(name='activities_per_day').sort_index()\ncount_per_date_only",
   "execution_count": 20,
   "outputs": [
    {
     "output_type": "execute_result",
     "execution_count": 20,
     "data": {
      "application/vnd.deepnote.dataframe.v3+json": {
       "column_count": 1,
       "row_count": 86,
       "columns": [
        {
         "name": "activities_per_day",
         "dtype": "int64",
         "stats": {
          "unique_count": 18,
          "nan_count": 0,
          "min": "1",
          "max": "39",
          "histogram": [
           {
            "bin_start": 1,
            "bin_end": 4.8,
            "count": 53
           },
           {
            "bin_start": 4.8,
            "bin_end": 8.6,
            "count": 15
           },
           {
            "bin_start": 8.6,
            "bin_end": 12.399999999999999,
            "count": 9
           },
           {
            "bin_start": 12.399999999999999,
            "bin_end": 16.2,
            "count": 3
           },
           {
            "bin_start": 16.2,
            "bin_end": 20,
            "count": 3
           },
           {
            "bin_start": 20,
            "bin_end": 23.799999999999997,
            "count": 1
           },
           {
            "bin_start": 23.799999999999997,
            "bin_end": 27.599999999999998,
            "count": 0
           },
           {
            "bin_start": 27.599999999999998,
            "bin_end": 31.4,
            "count": 0
           },
           {
            "bin_start": 31.4,
            "bin_end": 35.199999999999996,
            "count": 0
           },
           {
            "bin_start": 35.199999999999996,
            "bin_end": 39,
            "count": 2
           }
          ]
         }
        },
        {
         "name": "_deepnote_index_column",
         "dtype": "object"
        }
       ],
       "rows": [
        {
         "activities_per_day": 18,
         "_deepnote_index_column": "2021-03-25"
        },
        {
         "activities_per_day": 1,
         "_deepnote_index_column": "2021-03-26"
        },
        {
         "activities_per_day": 6,
         "_deepnote_index_column": "2021-03-28"
        },
        {
         "activities_per_day": 38,
         "_deepnote_index_column": "2021-03-30"
        },
        {
         "activities_per_day": 4,
         "_deepnote_index_column": "2021-04-01"
        },
        {
         "activities_per_day": 3,
         "_deepnote_index_column": "2021-04-05"
        },
        {
         "activities_per_day": 17,
         "_deepnote_index_column": "2021-04-06"
        },
        {
         "activities_per_day": 3,
         "_deepnote_index_column": "2021-04-07"
        },
        {
         "activities_per_day": 11,
         "_deepnote_index_column": "2021-04-08"
        },
        {
         "activities_per_day": 5,
         "_deepnote_index_column": "2021-04-09"
        }
       ]
      },
      "text/plain": "            activities_per_day\n2021-03-25                  18\n2021-03-26                   1\n2021-03-28                   6\n2021-03-30                  38\n2021-04-01                   4\n...                        ...\n2022-02-24                  21\n2022-03-07                   1\n2022-03-09                   1\n2022-04-20                   1\n2022-04-21                   1\n\n[86 rows x 1 columns]",
      "text/html": "<div>\n<style scoped>\n    .dataframe tbody tr th:only-of-type {\n        vertical-align: middle;\n    }\n\n    .dataframe tbody tr th {\n        vertical-align: top;\n    }\n\n    .dataframe thead th {\n        text-align: right;\n    }\n</style>\n<table border=\"1\" class=\"dataframe\">\n  <thead>\n    <tr style=\"text-align: right;\">\n      <th></th>\n      <th>activities_per_day</th>\n    </tr>\n  </thead>\n  <tbody>\n    <tr>\n      <th>2021-03-25</th>\n      <td>18</td>\n    </tr>\n    <tr>\n      <th>2021-03-26</th>\n      <td>1</td>\n    </tr>\n    <tr>\n      <th>2021-03-28</th>\n      <td>6</td>\n    </tr>\n    <tr>\n      <th>2021-03-30</th>\n      <td>38</td>\n    </tr>\n    <tr>\n      <th>2021-04-01</th>\n      <td>4</td>\n    </tr>\n    <tr>\n      <th>...</th>\n      <td>...</td>\n    </tr>\n    <tr>\n      <th>2022-02-24</th>\n      <td>21</td>\n    </tr>\n    <tr>\n      <th>2022-03-07</th>\n      <td>1</td>\n    </tr>\n    <tr>\n      <th>2022-03-09</th>\n      <td>1</td>\n    </tr>\n    <tr>\n      <th>2022-04-20</th>\n      <td>1</td>\n    </tr>\n    <tr>\n      <th>2022-04-21</th>\n      <td>1</td>\n    </tr>\n  </tbody>\n</table>\n<p>86 rows × 1 columns</p>\n</div>"
     },
     "metadata": {}
    }
   ]
  },
  {
   "cell_type": "code",
   "metadata": {
    "cell_id": "b49b12e0cf434f5db8c3130fef04ab36",
    "tags": [],
    "deepnote_to_be_reexecuted": false,
    "source_hash": "fe529129",
    "execution_start": 1652977576409,
    "execution_millis": 105,
    "allow_embed": "output",
    "deepnote_cell_type": "code",
    "deepnote_cell_height": 768,
    "deepnote_output_heights": [
     527
    ]
   },
   "source": "import plotly.express as px\n\nfig = px.line(count_per_date_only,\n    x=count_per_date_only.index,\n    y=count_per_date_only['activities_per_day'],\n    title='Activities per day in the data set'\n)\n\nfig.show()",
   "execution_count": 21,
   "outputs": [
    {
     "data": {
      "text/html": "<html>\n<head><meta charset=\"utf-8\" /></head>\n<body>\n    <div>            <script src=\"https://cdnjs.cloudflare.com/ajax/libs/mathjax/2.7.5/MathJax.js?config=TeX-AMS-MML_SVG\"></script><script type=\"text/javascript\">if (window.MathJax) {MathJax.Hub.Config({SVG: {font: \"STIX-Web\"}});}</script>                <script type=\"text/javascript\">window.PlotlyConfig = {MathJaxConfig: 'local'};</script>\n        <script src=\"https://cdn.plot.ly/plotly-2.11.1.min.js\"></script>                <div id=\"21dfd48d-6f59-4594-8bf2-ea21e607fe29\" class=\"plotly-graph-div\" style=\"height:525px; width:100%;\"></div>            <script type=\"text/javascript\">                                    window.PLOTLYENV=window.PLOTLYENV || {};                                    if (document.getElementById(\"21dfd48d-6f59-4594-8bf2-ea21e607fe29\")) {                    Plotly.newPlot(                        \"21dfd48d-6f59-4594-8bf2-ea21e607fe29\",                        [{\"hovertemplate\":\"index=%{x}<br>activities_per_day=%{y}<extra></extra>\",\"legendgroup\":\"\",\"line\":{\"color\":\"#636efa\",\"dash\":\"solid\"},\"marker\":{\"symbol\":\"circle\"},\"mode\":\"lines\",\"name\":\"\",\"orientation\":\"v\",\"showlegend\":false,\"x\":[\"2021-03-25\",\"2021-03-26\",\"2021-03-28\",\"2021-03-30\",\"2021-04-01\",\"2021-04-05\",\"2021-04-06\",\"2021-04-07\",\"2021-04-08\",\"2021-04-09\",\"2021-04-10\",\"2021-04-11\",\"2021-04-12\",\"2021-04-13\",\"2021-04-14\",\"2021-04-15\",\"2021-04-16\",\"2021-04-17\",\"2021-04-18\",\"2021-04-19\",\"2021-04-20\",\"2021-04-21\",\"2021-04-26\",\"2021-04-27\",\"2021-04-28\",\"2021-04-29\",\"2021-04-30\",\"2021-05-04\",\"2021-05-05\",\"2021-05-10\",\"2021-05-12\",\"2021-05-16\",\"2021-05-18\",\"2021-05-27\",\"2021-06-05\",\"2021-06-07\",\"2021-06-08\",\"2021-06-09\",\"2021-06-10\",\"2021-06-11\",\"2021-06-12\",\"2021-06-15\",\"2021-06-17\",\"2021-06-18\",\"2021-06-20\",\"2021-06-21\",\"2021-06-23\",\"2021-06-24\",\"2021-06-25\",\"2021-06-30\",\"2021-07-01\",\"2021-07-02\",\"2021-07-03\",\"2021-07-04\",\"2021-07-05\",\"2021-07-06\",\"2021-07-12\",\"2021-07-13\",\"2021-07-14\",\"2021-07-15\",\"2021-07-16\",\"2021-07-17\",\"2021-07-18\",\"2021-07-19\",\"2021-07-20\",\"2021-07-21\",\"2021-07-22\",\"2021-07-23\",\"2021-07-24\",\"2021-07-26\",\"2021-07-30\",\"2021-11-09\",\"2021-11-12\",\"2021-11-15\",\"2021-11-19\",\"2021-11-23\",\"2021-11-24\",\"2021-11-29\",\"2021-12-11\",\"2022-01-12\",\"2022-02-09\",\"2022-02-24\",\"2022-03-07\",\"2022-03-09\",\"2022-04-20\",\"2022-04-21\"],\"xaxis\":\"x\",\"y\":[18,1,6,38,4,3,17,3,11,5,6,13,6,9,1,1,9,8,11,4,9,1,4,39,4,1,10,5,1,1,2,1,1,2,7,5,5,11,3,3,3,3,1,2,4,1,1,3,2,1,6,4,18,13,5,16,10,9,8,3,2,2,3,3,2,1,6,4,4,5,3,3,1,1,1,1,1,5,1,4,1,21,1,1,1,1],\"yaxis\":\"y\",\"type\":\"scatter\"}],                        {\"template\":{\"data\":{\"histogram2dcontour\":[{\"type\":\"histogram2dcontour\",\"colorbar\":{\"outlinewidth\":0,\"ticks\":\"\"},\"colorscale\":[[0.0,\"#0d0887\"],[0.1111111111111111,\"#46039f\"],[0.2222222222222222,\"#7201a8\"],[0.3333333333333333,\"#9c179e\"],[0.4444444444444444,\"#bd3786\"],[0.5555555555555556,\"#d8576b\"],[0.6666666666666666,\"#ed7953\"],[0.7777777777777778,\"#fb9f3a\"],[0.8888888888888888,\"#fdca26\"],[1.0,\"#f0f921\"]]}],\"choropleth\":[{\"type\":\"choropleth\",\"colorbar\":{\"outlinewidth\":0,\"ticks\":\"\"}}],\"histogram2d\":[{\"type\":\"histogram2d\",\"colorbar\":{\"outlinewidth\":0,\"ticks\":\"\"},\"colorscale\":[[0.0,\"#0d0887\"],[0.1111111111111111,\"#46039f\"],[0.2222222222222222,\"#7201a8\"],[0.3333333333333333,\"#9c179e\"],[0.4444444444444444,\"#bd3786\"],[0.5555555555555556,\"#d8576b\"],[0.6666666666666666,\"#ed7953\"],[0.7777777777777778,\"#fb9f3a\"],[0.8888888888888888,\"#fdca26\"],[1.0,\"#f0f921\"]]}],\"heatmap\":[{\"type\":\"heatmap\",\"colorbar\":{\"outlinewidth\":0,\"ticks\":\"\"},\"colorscale\":[[0.0,\"#0d0887\"],[0.1111111111111111,\"#46039f\"],[0.2222222222222222,\"#7201a8\"],[0.3333333333333333,\"#9c179e\"],[0.4444444444444444,\"#bd3786\"],[0.5555555555555556,\"#d8576b\"],[0.6666666666666666,\"#ed7953\"],[0.7777777777777778,\"#fb9f3a\"],[0.8888888888888888,\"#fdca26\"],[1.0,\"#f0f921\"]]}],\"heatmapgl\":[{\"type\":\"heatmapgl\",\"colorbar\":{\"outlinewidth\":0,\"ticks\":\"\"},\"colorscale\":[[0.0,\"#0d0887\"],[0.1111111111111111,\"#46039f\"],[0.2222222222222222,\"#7201a8\"],[0.3333333333333333,\"#9c179e\"],[0.4444444444444444,\"#bd3786\"],[0.5555555555555556,\"#d8576b\"],[0.6666666666666666,\"#ed7953\"],[0.7777777777777778,\"#fb9f3a\"],[0.8888888888888888,\"#fdca26\"],[1.0,\"#f0f921\"]]}],\"contourcarpet\":[{\"type\":\"contourcarpet\",\"colorbar\":{\"outlinewidth\":0,\"ticks\":\"\"}}],\"contour\":[{\"type\":\"contour\",\"colorbar\":{\"outlinewidth\":0,\"ticks\":\"\"},\"colorscale\":[[0.0,\"#0d0887\"],[0.1111111111111111,\"#46039f\"],[0.2222222222222222,\"#7201a8\"],[0.3333333333333333,\"#9c179e\"],[0.4444444444444444,\"#bd3786\"],[0.5555555555555556,\"#d8576b\"],[0.6666666666666666,\"#ed7953\"],[0.7777777777777778,\"#fb9f3a\"],[0.8888888888888888,\"#fdca26\"],[1.0,\"#f0f921\"]]}],\"surface\":[{\"type\":\"surface\",\"colorbar\":{\"outlinewidth\":0,\"ticks\":\"\"},\"colorscale\":[[0.0,\"#0d0887\"],[0.1111111111111111,\"#46039f\"],[0.2222222222222222,\"#7201a8\"],[0.3333333333333333,\"#9c179e\"],[0.4444444444444444,\"#bd3786\"],[0.5555555555555556,\"#d8576b\"],[0.6666666666666666,\"#ed7953\"],[0.7777777777777778,\"#fb9f3a\"],[0.8888888888888888,\"#fdca26\"],[1.0,\"#f0f921\"]]}],\"mesh3d\":[{\"type\":\"mesh3d\",\"colorbar\":{\"outlinewidth\":0,\"ticks\":\"\"}}],\"scatter\":[{\"fillpattern\":{\"fillmode\":\"overlay\",\"size\":10,\"solidity\":0.2},\"type\":\"scatter\"}],\"parcoords\":[{\"type\":\"parcoords\",\"line\":{\"colorbar\":{\"outlinewidth\":0,\"ticks\":\"\"}}}],\"scatterpolargl\":[{\"type\":\"scatterpolargl\",\"marker\":{\"colorbar\":{\"outlinewidth\":0,\"ticks\":\"\"}}}],\"bar\":[{\"error_x\":{\"color\":\"#2a3f5f\"},\"error_y\":{\"color\":\"#2a3f5f\"},\"marker\":{\"line\":{\"color\":\"#E5ECF6\",\"width\":0.5},\"pattern\":{\"fillmode\":\"overlay\",\"size\":10,\"solidity\":0.2}},\"type\":\"bar\"}],\"scattergeo\":[{\"type\":\"scattergeo\",\"marker\":{\"colorbar\":{\"outlinewidth\":0,\"ticks\":\"\"}}}],\"scatterpolar\":[{\"type\":\"scatterpolar\",\"marker\":{\"colorbar\":{\"outlinewidth\":0,\"ticks\":\"\"}}}],\"histogram\":[{\"marker\":{\"pattern\":{\"fillmode\":\"overlay\",\"size\":10,\"solidity\":0.2}},\"type\":\"histogram\"}],\"scattergl\":[{\"type\":\"scattergl\",\"marker\":{\"colorbar\":{\"outlinewidth\":0,\"ticks\":\"\"}}}],\"scatter3d\":[{\"type\":\"scatter3d\",\"line\":{\"colorbar\":{\"outlinewidth\":0,\"ticks\":\"\"}},\"marker\":{\"colorbar\":{\"outlinewidth\":0,\"ticks\":\"\"}}}],\"scattermapbox\":[{\"type\":\"scattermapbox\",\"marker\":{\"colorbar\":{\"outlinewidth\":0,\"ticks\":\"\"}}}],\"scatterternary\":[{\"type\":\"scatterternary\",\"marker\":{\"colorbar\":{\"outlinewidth\":0,\"ticks\":\"\"}}}],\"scattercarpet\":[{\"type\":\"scattercarpet\",\"marker\":{\"colorbar\":{\"outlinewidth\":0,\"ticks\":\"\"}}}],\"carpet\":[{\"aaxis\":{\"endlinecolor\":\"#2a3f5f\",\"gridcolor\":\"white\",\"linecolor\":\"white\",\"minorgridcolor\":\"white\",\"startlinecolor\":\"#2a3f5f\"},\"baxis\":{\"endlinecolor\":\"#2a3f5f\",\"gridcolor\":\"white\",\"linecolor\":\"white\",\"minorgridcolor\":\"white\",\"startlinecolor\":\"#2a3f5f\"},\"type\":\"carpet\"}],\"table\":[{\"cells\":{\"fill\":{\"color\":\"#EBF0F8\"},\"line\":{\"color\":\"white\"}},\"header\":{\"fill\":{\"color\":\"#C8D4E3\"},\"line\":{\"color\":\"white\"}},\"type\":\"table\"}],\"barpolar\":[{\"marker\":{\"line\":{\"color\":\"#E5ECF6\",\"width\":0.5},\"pattern\":{\"fillmode\":\"overlay\",\"size\":10,\"solidity\":0.2}},\"type\":\"barpolar\"}],\"pie\":[{\"automargin\":true,\"type\":\"pie\"}]},\"layout\":{\"autotypenumbers\":\"strict\",\"colorway\":[\"#636efa\",\"#EF553B\",\"#00cc96\",\"#ab63fa\",\"#FFA15A\",\"#19d3f3\",\"#FF6692\",\"#B6E880\",\"#FF97FF\",\"#FECB52\"],\"font\":{\"color\":\"#2a3f5f\"},\"hovermode\":\"closest\",\"hoverlabel\":{\"align\":\"left\"},\"paper_bgcolor\":\"white\",\"plot_bgcolor\":\"#E5ECF6\",\"polar\":{\"bgcolor\":\"#E5ECF6\",\"angularaxis\":{\"gridcolor\":\"white\",\"linecolor\":\"white\",\"ticks\":\"\"},\"radialaxis\":{\"gridcolor\":\"white\",\"linecolor\":\"white\",\"ticks\":\"\"}},\"ternary\":{\"bgcolor\":\"#E5ECF6\",\"aaxis\":{\"gridcolor\":\"white\",\"linecolor\":\"white\",\"ticks\":\"\"},\"baxis\":{\"gridcolor\":\"white\",\"linecolor\":\"white\",\"ticks\":\"\"},\"caxis\":{\"gridcolor\":\"white\",\"linecolor\":\"white\",\"ticks\":\"\"}},\"coloraxis\":{\"colorbar\":{\"outlinewidth\":0,\"ticks\":\"\"}},\"colorscale\":{\"sequential\":[[0.0,\"#0d0887\"],[0.1111111111111111,\"#46039f\"],[0.2222222222222222,\"#7201a8\"],[0.3333333333333333,\"#9c179e\"],[0.4444444444444444,\"#bd3786\"],[0.5555555555555556,\"#d8576b\"],[0.6666666666666666,\"#ed7953\"],[0.7777777777777778,\"#fb9f3a\"],[0.8888888888888888,\"#fdca26\"],[1.0,\"#f0f921\"]],\"sequentialminus\":[[0.0,\"#0d0887\"],[0.1111111111111111,\"#46039f\"],[0.2222222222222222,\"#7201a8\"],[0.3333333333333333,\"#9c179e\"],[0.4444444444444444,\"#bd3786\"],[0.5555555555555556,\"#d8576b\"],[0.6666666666666666,\"#ed7953\"],[0.7777777777777778,\"#fb9f3a\"],[0.8888888888888888,\"#fdca26\"],[1.0,\"#f0f921\"]],\"diverging\":[[0,\"#8e0152\"],[0.1,\"#c51b7d\"],[0.2,\"#de77ae\"],[0.3,\"#f1b6da\"],[0.4,\"#fde0ef\"],[0.5,\"#f7f7f7\"],[0.6,\"#e6f5d0\"],[0.7,\"#b8e186\"],[0.8,\"#7fbc41\"],[0.9,\"#4d9221\"],[1,\"#276419\"]]},\"xaxis\":{\"gridcolor\":\"white\",\"linecolor\":\"white\",\"ticks\":\"\",\"title\":{\"standoff\":15},\"zerolinecolor\":\"white\",\"automargin\":true,\"zerolinewidth\":2},\"yaxis\":{\"gridcolor\":\"white\",\"linecolor\":\"white\",\"ticks\":\"\",\"title\":{\"standoff\":15},\"zerolinecolor\":\"white\",\"automargin\":true,\"zerolinewidth\":2},\"scene\":{\"xaxis\":{\"backgroundcolor\":\"#E5ECF6\",\"gridcolor\":\"white\",\"linecolor\":\"white\",\"showbackground\":true,\"ticks\":\"\",\"zerolinecolor\":\"white\",\"gridwidth\":2},\"yaxis\":{\"backgroundcolor\":\"#E5ECF6\",\"gridcolor\":\"white\",\"linecolor\":\"white\",\"showbackground\":true,\"ticks\":\"\",\"zerolinecolor\":\"white\",\"gridwidth\":2},\"zaxis\":{\"backgroundcolor\":\"#E5ECF6\",\"gridcolor\":\"white\",\"linecolor\":\"white\",\"showbackground\":true,\"ticks\":\"\",\"zerolinecolor\":\"white\",\"gridwidth\":2}},\"shapedefaults\":{\"line\":{\"color\":\"#2a3f5f\"}},\"annotationdefaults\":{\"arrowcolor\":\"#2a3f5f\",\"arrowhead\":0,\"arrowwidth\":1},\"geo\":{\"bgcolor\":\"white\",\"landcolor\":\"#E5ECF6\",\"subunitcolor\":\"white\",\"showland\":true,\"showlakes\":true,\"lakecolor\":\"white\"},\"title\":{\"x\":0.05},\"mapbox\":{\"style\":\"light\"}}},\"xaxis\":{\"anchor\":\"y\",\"domain\":[0.0,1.0],\"title\":{\"text\":\"index\"}},\"yaxis\":{\"anchor\":\"x\",\"domain\":[0.0,1.0],\"title\":{\"text\":\"activities_per_day\"}},\"legend\":{\"tracegroupgap\":0},\"title\":{\"text\":\"Activities per day in the data set\"}},                        {\"responsive\": true}                    ).then(function(){\n                            \nvar gd = document.getElementById('21dfd48d-6f59-4594-8bf2-ea21e607fe29');\nvar x = new MutationObserver(function (mutations, observer) {{\n        var display = window.getComputedStyle(gd).display;\n        if (!display || display === 'none') {{\n            console.log([gd, 'removed!']);\n            Plotly.purge(gd);\n            observer.disconnect();\n        }}\n}});\n\n// Listen for the removal of the full notebook cells\nvar notebookContainer = gd.closest('#notebook-container');\nif (notebookContainer) {{\n    x.observe(notebookContainer, {childList: true});\n}}\n\n// Listen for the clearing of the current output cell\nvar outputEl = gd.closest('.output');\nif (outputEl) {{\n    x.observe(outputEl, {childList: true});\n}}\n\n                        })                };                            </script>        </div>\n</body>\n</html>"
     },
     "metadata": {},
     "output_type": "display_data"
    }
   ]
  },
  {
   "cell_type": "code",
   "metadata": {
    "cell_id": "72625af21e314ff48bb8e78c55b3e6bb",
    "tags": [],
    "deepnote_to_be_reexecuted": false,
    "source_hash": "ee60e49b",
    "execution_start": 1652977576566,
    "execution_millis": 18,
    "deepnote_cell_type": "code",
    "deepnote_cell_height": 426.59375
   },
   "source": "assigment_submissions = pd.read_csv('assignment_submissions.csv')\nassigment_submissions.head()",
   "execution_count": 22,
   "outputs": [
    {
     "output_type": "execute_result",
     "execution_count": 22,
     "data": {
      "application/vnd.deepnote.dataframe.v3+json": {
       "column_count": 8,
       "row_count": 5,
       "columns": [
        {
         "name": "id",
         "dtype": "int64",
         "stats": {
          "unique_count": 5,
          "nan_count": 0,
          "min": "14",
          "max": "18",
          "histogram": [
           {
            "bin_start": 14,
            "bin_end": 14.4,
            "count": 1
           },
           {
            "bin_start": 14.4,
            "bin_end": 14.8,
            "count": 0
           },
           {
            "bin_start": 14.8,
            "bin_end": 15.2,
            "count": 1
           },
           {
            "bin_start": 15.2,
            "bin_end": 15.6,
            "count": 0
           },
           {
            "bin_start": 15.6,
            "bin_end": 16,
            "count": 0
           },
           {
            "bin_start": 16,
            "bin_end": 16.4,
            "count": 1
           },
           {
            "bin_start": 16.4,
            "bin_end": 16.8,
            "count": 0
           },
           {
            "bin_start": 16.8,
            "bin_end": 17.2,
            "count": 1
           },
           {
            "bin_start": 17.2,
            "bin_end": 17.6,
            "count": 0
           },
           {
            "bin_start": 17.6,
            "bin_end": 18,
            "count": 1
           }
          ]
         }
        },
        {
         "name": "created_at",
         "dtype": "object",
         "stats": {
          "unique_count": 5,
          "nan_count": 0,
          "categories": [
           {
            "name": "2020-08-21 22:39:05.804872",
            "count": 1
           },
           {
            "name": "2020-08-21 22:40:10.799194",
            "count": 1
           },
           {
            "name": "3 others",
            "count": 3
           }
          ]
         }
        },
        {
         "name": "updated_at",
         "dtype": "object",
         "stats": {
          "unique_count": 5,
          "nan_count": 0,
          "categories": [
           {
            "name": "2020-08-21 22:39:05.804872",
            "count": 1
           },
           {
            "name": "2020-08-21 22:40:10.799194",
            "count": 1
           },
           {
            "name": "3 others",
            "count": 3
           }
          ]
         }
        },
        {
         "name": "identifier",
         "dtype": "object",
         "stats": {
          "unique_count": 5,
          "nan_count": 0,
          "categories": [
           {
            "name": "480ca863366",
            "count": 1
           },
           {
            "name": "21e21098074",
            "count": 1
           },
           {
            "name": "3 others",
            "count": 3
           }
          ]
         }
        },
        {
         "name": "totalTimeTaken",
         "dtype": "int64",
         "stats": {
          "unique_count": 1,
          "nan_count": 0,
          "min": "0",
          "max": "0",
          "histogram": [
           {
            "bin_start": -0.5,
            "bin_end": -0.4,
            "count": 0
           },
           {
            "bin_start": -0.4,
            "bin_end": -0.3,
            "count": 0
           },
           {
            "bin_start": -0.3,
            "bin_end": -0.19999999999999996,
            "count": 0
           },
           {
            "bin_start": -0.19999999999999996,
            "bin_end": -0.09999999999999998,
            "count": 0
           },
           {
            "bin_start": -0.09999999999999998,
            "bin_end": 0,
            "count": 0
           },
           {
            "bin_start": 0,
            "bin_end": 0.10000000000000009,
            "count": 5
           },
           {
            "bin_start": 0.10000000000000009,
            "bin_end": 0.20000000000000007,
            "count": 0
           },
           {
            "bin_start": 0.20000000000000007,
            "bin_end": 0.30000000000000004,
            "count": 0
           },
           {
            "bin_start": 0.30000000000000004,
            "bin_end": 0.4,
            "count": 0
           },
           {
            "bin_start": 0.4,
            "bin_end": 0.5,
            "count": 0
           }
          ]
         }
        },
        {
         "name": "assignmentId",
         "dtype": "int64",
         "stats": {
          "unique_count": 1,
          "nan_count": 0,
          "min": "10",
          "max": "10",
          "histogram": [
           {
            "bin_start": 9.5,
            "bin_end": 9.6,
            "count": 0
           },
           {
            "bin_start": 9.6,
            "bin_end": 9.7,
            "count": 0
           },
           {
            "bin_start": 9.7,
            "bin_end": 9.8,
            "count": 0
           },
           {
            "bin_start": 9.8,
            "bin_end": 9.9,
            "count": 0
           },
           {
            "bin_start": 9.9,
            "bin_end": 10,
            "count": 0
           },
           {
            "bin_start": 10,
            "bin_end": 10.1,
            "count": 5
           },
           {
            "bin_start": 10.1,
            "bin_end": 10.2,
            "count": 0
           },
           {
            "bin_start": 10.2,
            "bin_end": 10.3,
            "count": 0
           },
           {
            "bin_start": 10.3,
            "bin_end": 10.4,
            "count": 0
           },
           {
            "bin_start": 10.4,
            "bin_end": 10.5,
            "count": 0
           }
          ]
         }
        },
        {
         "name": "userId",
         "dtype": "int64",
         "stats": {
          "unique_count": 2,
          "nan_count": 0,
          "min": "2",
          "max": "52",
          "histogram": [
           {
            "bin_start": 2,
            "bin_end": 7,
            "count": 1
           },
           {
            "bin_start": 7,
            "bin_end": 12,
            "count": 0
           },
           {
            "bin_start": 12,
            "bin_end": 17,
            "count": 0
           },
           {
            "bin_start": 17,
            "bin_end": 22,
            "count": 0
           },
           {
            "bin_start": 22,
            "bin_end": 27,
            "count": 0
           },
           {
            "bin_start": 27,
            "bin_end": 32,
            "count": 0
           },
           {
            "bin_start": 32,
            "bin_end": 37,
            "count": 0
           },
           {
            "bin_start": 37,
            "bin_end": 42,
            "count": 0
           },
           {
            "bin_start": 42,
            "bin_end": 47,
            "count": 0
           },
           {
            "bin_start": 47,
            "bin_end": 52,
            "count": 4
           }
          ]
         }
        },
        {
         "name": "snapshotProjectId",
         "dtype": "float64",
         "stats": {
          "unique_count": 0,
          "nan_count": 5,
          "min": null,
          "max": null,
          "histogram": [
           {
            "bin_start": 0,
            "bin_end": 0.1,
            "count": 0
           },
           {
            "bin_start": 0.1,
            "bin_end": 0.2,
            "count": 0
           },
           {
            "bin_start": 0.2,
            "bin_end": 0.30000000000000004,
            "count": 0
           },
           {
            "bin_start": 0.30000000000000004,
            "bin_end": 0.4,
            "count": 0
           },
           {
            "bin_start": 0.4,
            "bin_end": 0.5,
            "count": 0
           },
           {
            "bin_start": 0.5,
            "bin_end": 0.6000000000000001,
            "count": 0
           },
           {
            "bin_start": 0.6000000000000001,
            "bin_end": 0.7000000000000001,
            "count": 0
           },
           {
            "bin_start": 0.7000000000000001,
            "bin_end": 0.8,
            "count": 0
           },
           {
            "bin_start": 0.8,
            "bin_end": 0.9,
            "count": 0
           },
           {
            "bin_start": 0.9,
            "bin_end": 1,
            "count": 0
           }
          ]
         }
        },
        {
         "name": "_deepnote_index_column",
         "dtype": "int64"
        }
       ],
       "rows": [
        {
         "id": 14,
         "created_at": "2020-08-21 22:39:05.804872",
         "updated_at": "2020-08-21 22:39:05.804872",
         "identifier": "480ca863366",
         "totalTimeTaken": 0,
         "assignmentId": 10,
         "userId": 52,
         "snapshotProjectId": "nan",
         "_deepnote_index_column": 0
        },
        {
         "id": 15,
         "created_at": "2020-08-21 22:40:10.799194",
         "updated_at": "2020-08-21 22:40:10.799194",
         "identifier": "21e21098074",
         "totalTimeTaken": 0,
         "assignmentId": 10,
         "userId": 52,
         "snapshotProjectId": "nan",
         "_deepnote_index_column": 1
        },
        {
         "id": 16,
         "created_at": "2020-08-21 22:50:12.169842",
         "updated_at": "2020-08-21 22:50:12.169842",
         "identifier": "8b3a5fb353d",
         "totalTimeTaken": 0,
         "assignmentId": 10,
         "userId": 52,
         "snapshotProjectId": "nan",
         "_deepnote_index_column": 2
        },
        {
         "id": 17,
         "created_at": "2020-08-21 23:23:55.077561",
         "updated_at": "2020-08-21 23:23:55.077561",
         "identifier": "8f92c3a83a3",
         "totalTimeTaken": 0,
         "assignmentId": 10,
         "userId": 2,
         "snapshotProjectId": "nan",
         "_deepnote_index_column": 3
        },
        {
         "id": 18,
         "created_at": "2020-08-21 23:41:10.461689",
         "updated_at": "2020-08-21 23:41:10.461689",
         "identifier": "52c4a5fee5c",
         "totalTimeTaken": 0,
         "assignmentId": 10,
         "userId": 52,
         "snapshotProjectId": "nan",
         "_deepnote_index_column": 4
        }
       ]
      },
      "text/plain": "   id                  created_at                  updated_at   identifier  \\\n0  14  2020-08-21 22:39:05.804872  2020-08-21 22:39:05.804872  480ca863366   \n1  15  2020-08-21 22:40:10.799194  2020-08-21 22:40:10.799194  21e21098074   \n2  16  2020-08-21 22:50:12.169842  2020-08-21 22:50:12.169842  8b3a5fb353d   \n3  17  2020-08-21 23:23:55.077561  2020-08-21 23:23:55.077561  8f92c3a83a3   \n4  18  2020-08-21 23:41:10.461689  2020-08-21 23:41:10.461689  52c4a5fee5c   \n\n   totalTimeTaken  assignmentId  userId  snapshotProjectId  \n0               0            10      52                NaN  \n1               0            10      52                NaN  \n2               0            10      52                NaN  \n3               0            10       2                NaN  \n4               0            10      52                NaN  ",
      "text/html": "<div>\n<style scoped>\n    .dataframe tbody tr th:only-of-type {\n        vertical-align: middle;\n    }\n\n    .dataframe tbody tr th {\n        vertical-align: top;\n    }\n\n    .dataframe thead th {\n        text-align: right;\n    }\n</style>\n<table border=\"1\" class=\"dataframe\">\n  <thead>\n    <tr style=\"text-align: right;\">\n      <th></th>\n      <th>id</th>\n      <th>created_at</th>\n      <th>updated_at</th>\n      <th>identifier</th>\n      <th>totalTimeTaken</th>\n      <th>assignmentId</th>\n      <th>userId</th>\n      <th>snapshotProjectId</th>\n    </tr>\n  </thead>\n  <tbody>\n    <tr>\n      <th>0</th>\n      <td>14</td>\n      <td>2020-08-21 22:39:05.804872</td>\n      <td>2020-08-21 22:39:05.804872</td>\n      <td>480ca863366</td>\n      <td>0</td>\n      <td>10</td>\n      <td>52</td>\n      <td>NaN</td>\n    </tr>\n    <tr>\n      <th>1</th>\n      <td>15</td>\n      <td>2020-08-21 22:40:10.799194</td>\n      <td>2020-08-21 22:40:10.799194</td>\n      <td>21e21098074</td>\n      <td>0</td>\n      <td>10</td>\n      <td>52</td>\n      <td>NaN</td>\n    </tr>\n    <tr>\n      <th>2</th>\n      <td>16</td>\n      <td>2020-08-21 22:50:12.169842</td>\n      <td>2020-08-21 22:50:12.169842</td>\n      <td>8b3a5fb353d</td>\n      <td>0</td>\n      <td>10</td>\n      <td>52</td>\n      <td>NaN</td>\n    </tr>\n    <tr>\n      <th>3</th>\n      <td>17</td>\n      <td>2020-08-21 23:23:55.077561</td>\n      <td>2020-08-21 23:23:55.077561</td>\n      <td>8f92c3a83a3</td>\n      <td>0</td>\n      <td>10</td>\n      <td>2</td>\n      <td>NaN</td>\n    </tr>\n    <tr>\n      <th>4</th>\n      <td>18</td>\n      <td>2020-08-21 23:41:10.461689</td>\n      <td>2020-08-21 23:41:10.461689</td>\n      <td>52c4a5fee5c</td>\n      <td>0</td>\n      <td>10</td>\n      <td>52</td>\n      <td>NaN</td>\n    </tr>\n  </tbody>\n</table>\n</div>"
     },
     "metadata": {}
    }
   ]
  },
  {
   "cell_type": "code",
   "metadata": {
    "cell_id": "2ddf998538d746deb38192a05eda0a78",
    "tags": [],
    "deepnote_to_be_reexecuted": false,
    "source_hash": "f5a51a76",
    "execution_start": 1652977576589,
    "execution_millis": 38,
    "allow_embed": "code_output",
    "deepnote_cell_type": "code",
    "deepnote_cell_height": 367.59375
   },
   "source": "assigment_submissions[assigment_submissions.duplicated(subset=['userId','assignmentId'], keep=False)]",
   "execution_count": 23,
   "outputs": [
    {
     "output_type": "execute_result",
     "execution_count": 23,
     "data": {
      "application/vnd.deepnote.dataframe.v3+json": {
       "column_count": 8,
       "row_count": 4,
       "columns": [
        {
         "name": "id",
         "dtype": "int64",
         "stats": {
          "unique_count": 4,
          "nan_count": 0,
          "min": "14",
          "max": "18",
          "histogram": [
           {
            "bin_start": 14,
            "bin_end": 14.4,
            "count": 1
           },
           {
            "bin_start": 14.4,
            "bin_end": 14.8,
            "count": 0
           },
           {
            "bin_start": 14.8,
            "bin_end": 15.2,
            "count": 1
           },
           {
            "bin_start": 15.2,
            "bin_end": 15.6,
            "count": 0
           },
           {
            "bin_start": 15.6,
            "bin_end": 16,
            "count": 0
           },
           {
            "bin_start": 16,
            "bin_end": 16.4,
            "count": 1
           },
           {
            "bin_start": 16.4,
            "bin_end": 16.8,
            "count": 0
           },
           {
            "bin_start": 16.8,
            "bin_end": 17.2,
            "count": 0
           },
           {
            "bin_start": 17.2,
            "bin_end": 17.6,
            "count": 0
           },
           {
            "bin_start": 17.6,
            "bin_end": 18,
            "count": 1
           }
          ]
         }
        },
        {
         "name": "created_at",
         "dtype": "object",
         "stats": {
          "unique_count": 4,
          "nan_count": 0,
          "categories": [
           {
            "name": "2020-08-21 22:39:05.804872",
            "count": 1
           },
           {
            "name": "2020-08-21 22:40:10.799194",
            "count": 1
           },
           {
            "name": "2 others",
            "count": 2
           }
          ]
         }
        },
        {
         "name": "updated_at",
         "dtype": "object",
         "stats": {
          "unique_count": 4,
          "nan_count": 0,
          "categories": [
           {
            "name": "2020-08-21 22:39:05.804872",
            "count": 1
           },
           {
            "name": "2020-08-21 22:40:10.799194",
            "count": 1
           },
           {
            "name": "2 others",
            "count": 2
           }
          ]
         }
        },
        {
         "name": "identifier",
         "dtype": "object",
         "stats": {
          "unique_count": 4,
          "nan_count": 0,
          "categories": [
           {
            "name": "480ca863366",
            "count": 1
           },
           {
            "name": "21e21098074",
            "count": 1
           },
           {
            "name": "2 others",
            "count": 2
           }
          ]
         }
        },
        {
         "name": "totalTimeTaken",
         "dtype": "int64",
         "stats": {
          "unique_count": 1,
          "nan_count": 0,
          "min": "0",
          "max": "0",
          "histogram": [
           {
            "bin_start": -0.5,
            "bin_end": -0.4,
            "count": 0
           },
           {
            "bin_start": -0.4,
            "bin_end": -0.3,
            "count": 0
           },
           {
            "bin_start": -0.3,
            "bin_end": -0.19999999999999996,
            "count": 0
           },
           {
            "bin_start": -0.19999999999999996,
            "bin_end": -0.09999999999999998,
            "count": 0
           },
           {
            "bin_start": -0.09999999999999998,
            "bin_end": 0,
            "count": 0
           },
           {
            "bin_start": 0,
            "bin_end": 0.10000000000000009,
            "count": 4
           },
           {
            "bin_start": 0.10000000000000009,
            "bin_end": 0.20000000000000007,
            "count": 0
           },
           {
            "bin_start": 0.20000000000000007,
            "bin_end": 0.30000000000000004,
            "count": 0
           },
           {
            "bin_start": 0.30000000000000004,
            "bin_end": 0.4,
            "count": 0
           },
           {
            "bin_start": 0.4,
            "bin_end": 0.5,
            "count": 0
           }
          ]
         }
        },
        {
         "name": "assignmentId",
         "dtype": "int64",
         "stats": {
          "unique_count": 1,
          "nan_count": 0,
          "min": "10",
          "max": "10",
          "histogram": [
           {
            "bin_start": 9.5,
            "bin_end": 9.6,
            "count": 0
           },
           {
            "bin_start": 9.6,
            "bin_end": 9.7,
            "count": 0
           },
           {
            "bin_start": 9.7,
            "bin_end": 9.8,
            "count": 0
           },
           {
            "bin_start": 9.8,
            "bin_end": 9.9,
            "count": 0
           },
           {
            "bin_start": 9.9,
            "bin_end": 10,
            "count": 0
           },
           {
            "bin_start": 10,
            "bin_end": 10.1,
            "count": 4
           },
           {
            "bin_start": 10.1,
            "bin_end": 10.2,
            "count": 0
           },
           {
            "bin_start": 10.2,
            "bin_end": 10.3,
            "count": 0
           },
           {
            "bin_start": 10.3,
            "bin_end": 10.4,
            "count": 0
           },
           {
            "bin_start": 10.4,
            "bin_end": 10.5,
            "count": 0
           }
          ]
         }
        },
        {
         "name": "userId",
         "dtype": "int64",
         "stats": {
          "unique_count": 1,
          "nan_count": 0,
          "min": "52",
          "max": "52",
          "histogram": [
           {
            "bin_start": 51.5,
            "bin_end": 51.6,
            "count": 0
           },
           {
            "bin_start": 51.6,
            "bin_end": 51.7,
            "count": 0
           },
           {
            "bin_start": 51.7,
            "bin_end": 51.8,
            "count": 0
           },
           {
            "bin_start": 51.8,
            "bin_end": 51.9,
            "count": 0
           },
           {
            "bin_start": 51.9,
            "bin_end": 52,
            "count": 0
           },
           {
            "bin_start": 52,
            "bin_end": 52.1,
            "count": 4
           },
           {
            "bin_start": 52.1,
            "bin_end": 52.2,
            "count": 0
           },
           {
            "bin_start": 52.2,
            "bin_end": 52.3,
            "count": 0
           },
           {
            "bin_start": 52.3,
            "bin_end": 52.4,
            "count": 0
           },
           {
            "bin_start": 52.4,
            "bin_end": 52.5,
            "count": 0
           }
          ]
         }
        },
        {
         "name": "snapshotProjectId",
         "dtype": "float64",
         "stats": {
          "unique_count": 0,
          "nan_count": 4,
          "min": null,
          "max": null,
          "histogram": [
           {
            "bin_start": 0,
            "bin_end": 0.1,
            "count": 0
           },
           {
            "bin_start": 0.1,
            "bin_end": 0.2,
            "count": 0
           },
           {
            "bin_start": 0.2,
            "bin_end": 0.30000000000000004,
            "count": 0
           },
           {
            "bin_start": 0.30000000000000004,
            "bin_end": 0.4,
            "count": 0
           },
           {
            "bin_start": 0.4,
            "bin_end": 0.5,
            "count": 0
           },
           {
            "bin_start": 0.5,
            "bin_end": 0.6000000000000001,
            "count": 0
           },
           {
            "bin_start": 0.6000000000000001,
            "bin_end": 0.7000000000000001,
            "count": 0
           },
           {
            "bin_start": 0.7000000000000001,
            "bin_end": 0.8,
            "count": 0
           },
           {
            "bin_start": 0.8,
            "bin_end": 0.9,
            "count": 0
           },
           {
            "bin_start": 0.9,
            "bin_end": 1,
            "count": 0
           }
          ]
         }
        },
        {
         "name": "_deepnote_index_column",
         "dtype": "int64"
        }
       ],
       "rows": [
        {
         "id": 14,
         "created_at": "2020-08-21 22:39:05.804872",
         "updated_at": "2020-08-21 22:39:05.804872",
         "identifier": "480ca863366",
         "totalTimeTaken": 0,
         "assignmentId": 10,
         "userId": 52,
         "snapshotProjectId": "nan",
         "_deepnote_index_column": 0
        },
        {
         "id": 15,
         "created_at": "2020-08-21 22:40:10.799194",
         "updated_at": "2020-08-21 22:40:10.799194",
         "identifier": "21e21098074",
         "totalTimeTaken": 0,
         "assignmentId": 10,
         "userId": 52,
         "snapshotProjectId": "nan",
         "_deepnote_index_column": 1
        },
        {
         "id": 16,
         "created_at": "2020-08-21 22:50:12.169842",
         "updated_at": "2020-08-21 22:50:12.169842",
         "identifier": "8b3a5fb353d",
         "totalTimeTaken": 0,
         "assignmentId": 10,
         "userId": 52,
         "snapshotProjectId": "nan",
         "_deepnote_index_column": 2
        },
        {
         "id": 18,
         "created_at": "2020-08-21 23:41:10.461689",
         "updated_at": "2020-08-21 23:41:10.461689",
         "identifier": "52c4a5fee5c",
         "totalTimeTaken": 0,
         "assignmentId": 10,
         "userId": 52,
         "snapshotProjectId": "nan",
         "_deepnote_index_column": 4
        }
       ]
      },
      "text/plain": "   id                  created_at                  updated_at   identifier  \\\n0  14  2020-08-21 22:39:05.804872  2020-08-21 22:39:05.804872  480ca863366   \n1  15  2020-08-21 22:40:10.799194  2020-08-21 22:40:10.799194  21e21098074   \n2  16  2020-08-21 22:50:12.169842  2020-08-21 22:50:12.169842  8b3a5fb353d   \n4  18  2020-08-21 23:41:10.461689  2020-08-21 23:41:10.461689  52c4a5fee5c   \n\n   totalTimeTaken  assignmentId  userId  snapshotProjectId  \n0               0            10      52                NaN  \n1               0            10      52                NaN  \n2               0            10      52                NaN  \n4               0            10      52                NaN  ",
      "text/html": "<div>\n<style scoped>\n    .dataframe tbody tr th:only-of-type {\n        vertical-align: middle;\n    }\n\n    .dataframe tbody tr th {\n        vertical-align: top;\n    }\n\n    .dataframe thead th {\n        text-align: right;\n    }\n</style>\n<table border=\"1\" class=\"dataframe\">\n  <thead>\n    <tr style=\"text-align: right;\">\n      <th></th>\n      <th>id</th>\n      <th>created_at</th>\n      <th>updated_at</th>\n      <th>identifier</th>\n      <th>totalTimeTaken</th>\n      <th>assignmentId</th>\n      <th>userId</th>\n      <th>snapshotProjectId</th>\n    </tr>\n  </thead>\n  <tbody>\n    <tr>\n      <th>0</th>\n      <td>14</td>\n      <td>2020-08-21 22:39:05.804872</td>\n      <td>2020-08-21 22:39:05.804872</td>\n      <td>480ca863366</td>\n      <td>0</td>\n      <td>10</td>\n      <td>52</td>\n      <td>NaN</td>\n    </tr>\n    <tr>\n      <th>1</th>\n      <td>15</td>\n      <td>2020-08-21 22:40:10.799194</td>\n      <td>2020-08-21 22:40:10.799194</td>\n      <td>21e21098074</td>\n      <td>0</td>\n      <td>10</td>\n      <td>52</td>\n      <td>NaN</td>\n    </tr>\n    <tr>\n      <th>2</th>\n      <td>16</td>\n      <td>2020-08-21 22:50:12.169842</td>\n      <td>2020-08-21 22:50:12.169842</td>\n      <td>8b3a5fb353d</td>\n      <td>0</td>\n      <td>10</td>\n      <td>52</td>\n      <td>NaN</td>\n    </tr>\n    <tr>\n      <th>4</th>\n      <td>18</td>\n      <td>2020-08-21 23:41:10.461689</td>\n      <td>2020-08-21 23:41:10.461689</td>\n      <td>52c4a5fee5c</td>\n      <td>0</td>\n      <td>10</td>\n      <td>52</td>\n      <td>NaN</td>\n    </tr>\n  </tbody>\n</table>\n</div>"
     },
     "metadata": {}
    }
   ]
  },
  {
   "cell_type": "code",
   "metadata": {
    "cell_id": "03000ab6fe6245a0b4d1728c40d25ee4",
    "tags": [],
    "deepnote_to_be_reexecuted": false,
    "source_hash": "7c92a95d",
    "execution_start": 1652977576668,
    "execution_millis": 19,
    "deepnote_cell_type": "code",
    "deepnote_cell_height": 444.59375
   },
   "source": "certificates = pd.read_csv('certificates.csv')\ncertificates.columns = certificates.columns.str.replace('ownerId', 'userId')\ncertificates.head()",
   "execution_count": 24,
   "outputs": [
    {
     "output_type": "execute_result",
     "execution_count": 24,
     "data": {
      "application/vnd.deepnote.dataframe.v3+json": {
       "column_count": 9,
       "row_count": 5,
       "columns": [
        {
         "name": "id",
         "dtype": "int64",
         "stats": {
          "unique_count": 5,
          "nan_count": 0,
          "min": "8",
          "max": "12",
          "histogram": [
           {
            "bin_start": 8,
            "bin_end": 8.4,
            "count": 1
           },
           {
            "bin_start": 8.4,
            "bin_end": 8.8,
            "count": 0
           },
           {
            "bin_start": 8.8,
            "bin_end": 9.2,
            "count": 1
           },
           {
            "bin_start": 9.2,
            "bin_end": 9.6,
            "count": 0
           },
           {
            "bin_start": 9.6,
            "bin_end": 10,
            "count": 0
           },
           {
            "bin_start": 10,
            "bin_end": 10.4,
            "count": 1
           },
           {
            "bin_start": 10.4,
            "bin_end": 10.8,
            "count": 0
           },
           {
            "bin_start": 10.8,
            "bin_end": 11.2,
            "count": 1
           },
           {
            "bin_start": 11.2,
            "bin_end": 11.6,
            "count": 0
           },
           {
            "bin_start": 11.6,
            "bin_end": 12,
            "count": 1
           }
          ]
         }
        },
        {
         "name": "created_at",
         "dtype": "object",
         "stats": {
          "unique_count": 5,
          "nan_count": 0,
          "categories": [
           {
            "name": "2021-04-27 15:10:58.897032",
            "count": 1
           },
           {
            "name": "2021-04-27 15:31:06.560011",
            "count": 1
           },
           {
            "name": "3 others",
            "count": 3
           }
          ]
         }
        },
        {
         "name": "updated_at",
         "dtype": "object",
         "stats": {
          "unique_count": 5,
          "nan_count": 0,
          "categories": [
           {
            "name": "2021-04-27 15:10:58.897032",
            "count": 1
           },
           {
            "name": "2021-04-27 15:31:06.560011",
            "count": 1
           },
           {
            "name": "3 others",
            "count": 3
           }
          ]
         }
        },
        {
         "name": "identifier",
         "dtype": "object",
         "stats": {
          "unique_count": 5,
          "nan_count": 0,
          "categories": [
           {
            "name": "C701-F9BB-CFB9",
            "count": 1
           },
           {
            "name": "0074-D912-3905",
            "count": 1
           },
           {
            "name": "3 others",
            "count": 3
           }
          ]
         }
        },
        {
         "name": "grantedOn",
         "dtype": "object",
         "stats": {
          "unique_count": 1,
          "nan_count": 0,
          "categories": [
           {
            "name": "2020-02-04 12:00:00",
            "count": 5
           }
          ]
         }
        },
        {
         "name": "expiry",
         "dtype": "float64",
         "stats": {
          "unique_count": 0,
          "nan_count": 5,
          "min": null,
          "max": null,
          "histogram": [
           {
            "bin_start": 0,
            "bin_end": 0.1,
            "count": 0
           },
           {
            "bin_start": 0.1,
            "bin_end": 0.2,
            "count": 0
           },
           {
            "bin_start": 0.2,
            "bin_end": 0.30000000000000004,
            "count": 0
           },
           {
            "bin_start": 0.30000000000000004,
            "bin_end": 0.4,
            "count": 0
           },
           {
            "bin_start": 0.4,
            "bin_end": 0.5,
            "count": 0
           },
           {
            "bin_start": 0.5,
            "bin_end": 0.6000000000000001,
            "count": 0
           },
           {
            "bin_start": 0.6000000000000001,
            "bin_end": 0.7000000000000001,
            "count": 0
           },
           {
            "bin_start": 0.7000000000000001,
            "bin_end": 0.8,
            "count": 0
           },
           {
            "bin_start": 0.8,
            "bin_end": 0.9,
            "count": 0
           },
           {
            "bin_start": 0.9,
            "bin_end": 1,
            "count": 0
           }
          ]
         }
        },
        {
         "name": "userId",
         "dtype": "int64",
         "stats": {
          "unique_count": 5,
          "nan_count": 0,
          "min": "5",
          "max": "49",
          "histogram": [
           {
            "bin_start": 5,
            "bin_end": 9.4,
            "count": 1
           },
           {
            "bin_start": 9.4,
            "bin_end": 13.8,
            "count": 0
           },
           {
            "bin_start": 13.8,
            "bin_end": 18.200000000000003,
            "count": 0
           },
           {
            "bin_start": 18.200000000000003,
            "bin_end": 22.6,
            "count": 0
           },
           {
            "bin_start": 22.6,
            "bin_end": 27,
            "count": 0
           },
           {
            "bin_start": 27,
            "bin_end": 31.400000000000002,
            "count": 1
           },
           {
            "bin_start": 31.400000000000002,
            "bin_end": 35.800000000000004,
            "count": 0
           },
           {
            "bin_start": 35.800000000000004,
            "bin_end": 40.2,
            "count": 1
           },
           {
            "bin_start": 40.2,
            "bin_end": 44.6,
            "count": 0
           },
           {
            "bin_start": 44.6,
            "bin_end": 49,
            "count": 2
           }
          ]
         }
        },
        {
         "name": "name",
         "dtype": "object",
         "stats": {
          "unique_count": 1,
          "nan_count": 0,
          "categories": [
           {
            "name": "Basics of Web Dev",
            "count": 5
           }
          ]
         }
        },
        {
         "name": "hasPreview",
         "dtype": "int64",
         "stats": {
          "unique_count": 1,
          "nan_count": 0,
          "min": "1",
          "max": "1",
          "histogram": [
           {
            "bin_start": 0.5,
            "bin_end": 0.6,
            "count": 0
           },
           {
            "bin_start": 0.6,
            "bin_end": 0.7,
            "count": 0
           },
           {
            "bin_start": 0.7,
            "bin_end": 0.8,
            "count": 0
           },
           {
            "bin_start": 0.8,
            "bin_end": 0.9,
            "count": 0
           },
           {
            "bin_start": 0.9,
            "bin_end": 1,
            "count": 0
           },
           {
            "bin_start": 1,
            "bin_end": 1.1,
            "count": 5
           },
           {
            "bin_start": 1.1,
            "bin_end": 1.2000000000000002,
            "count": 0
           },
           {
            "bin_start": 1.2000000000000002,
            "bin_end": 1.3,
            "count": 0
           },
           {
            "bin_start": 1.3,
            "bin_end": 1.4,
            "count": 0
           },
           {
            "bin_start": 1.4,
            "bin_end": 1.5,
            "count": 0
           }
          ]
         }
        },
        {
         "name": "_deepnote_index_column",
         "dtype": "int64"
        }
       ],
       "rows": [
        {
         "id": 8,
         "created_at": "2021-04-27 15:10:58.897032",
         "updated_at": "2021-04-27 15:10:58.897032",
         "identifier": "C701-F9BB-CFB9",
         "grantedOn": "2020-02-04 12:00:00",
         "expiry": "nan",
         "userId": 29,
         "name": "Basics of Web Dev",
         "hasPreview": 1,
         "_deepnote_index_column": 0
        },
        {
         "id": 9,
         "created_at": "2021-04-27 15:31:06.560011",
         "updated_at": "2021-04-27 15:31:06.560011",
         "identifier": "0074-D912-3905",
         "grantedOn": "2020-02-04 12:00:00",
         "expiry": "nan",
         "userId": 49,
         "name": "Basics of Web Dev",
         "hasPreview": 1,
         "_deepnote_index_column": 1
        },
        {
         "id": 10,
         "created_at": "2021-04-27 15:31:59.573788",
         "updated_at": "2021-04-27 15:31:59.573788",
         "identifier": "1A0F-DA44-F9BC",
         "grantedOn": "2020-02-04 12:00:00",
         "expiry": "nan",
         "userId": 46,
         "name": "Basics of Web Dev",
         "hasPreview": 1,
         "_deepnote_index_column": 2
        },
        {
         "id": 11,
         "created_at": "2021-04-27 15:33:05.196104",
         "updated_at": "2021-04-27 15:33:05.196104",
         "identifier": "1BC6-2CB9-0976",
         "grantedOn": "2020-02-04 12:00:00",
         "expiry": "nan",
         "userId": 40,
         "name": "Basics of Web Dev",
         "hasPreview": 1,
         "_deepnote_index_column": 3
        },
        {
         "id": 12,
         "created_at": "2021-04-27 15:34:05.920007",
         "updated_at": "2021-04-27 15:34:05.920007",
         "identifier": "E800-13E7-71AA",
         "grantedOn": "2020-02-04 12:00:00",
         "expiry": "nan",
         "userId": 5,
         "name": "Basics of Web Dev",
         "hasPreview": 1,
         "_deepnote_index_column": 4
        }
       ]
      },
      "text/plain": "   id                  created_at                  updated_at      identifier  \\\n0   8  2021-04-27 15:10:58.897032  2021-04-27 15:10:58.897032  C701-F9BB-CFB9   \n1   9  2021-04-27 15:31:06.560011  2021-04-27 15:31:06.560011  0074-D912-3905   \n2  10  2021-04-27 15:31:59.573788  2021-04-27 15:31:59.573788  1A0F-DA44-F9BC   \n3  11  2021-04-27 15:33:05.196104  2021-04-27 15:33:05.196104  1BC6-2CB9-0976   \n4  12  2021-04-27 15:34:05.920007  2021-04-27 15:34:05.920007  E800-13E7-71AA   \n\n             grantedOn  expiry  userId               name  hasPreview  \n0  2020-02-04 12:00:00     NaN      29  Basics of Web Dev           1  \n1  2020-02-04 12:00:00     NaN      49  Basics of Web Dev           1  \n2  2020-02-04 12:00:00     NaN      46  Basics of Web Dev           1  \n3  2020-02-04 12:00:00     NaN      40  Basics of Web Dev           1  \n4  2020-02-04 12:00:00     NaN       5  Basics of Web Dev           1  ",
      "text/html": "<div>\n<style scoped>\n    .dataframe tbody tr th:only-of-type {\n        vertical-align: middle;\n    }\n\n    .dataframe tbody tr th {\n        vertical-align: top;\n    }\n\n    .dataframe thead th {\n        text-align: right;\n    }\n</style>\n<table border=\"1\" class=\"dataframe\">\n  <thead>\n    <tr style=\"text-align: right;\">\n      <th></th>\n      <th>id</th>\n      <th>created_at</th>\n      <th>updated_at</th>\n      <th>identifier</th>\n      <th>grantedOn</th>\n      <th>expiry</th>\n      <th>userId</th>\n      <th>name</th>\n      <th>hasPreview</th>\n    </tr>\n  </thead>\n  <tbody>\n    <tr>\n      <th>0</th>\n      <td>8</td>\n      <td>2021-04-27 15:10:58.897032</td>\n      <td>2021-04-27 15:10:58.897032</td>\n      <td>C701-F9BB-CFB9</td>\n      <td>2020-02-04 12:00:00</td>\n      <td>NaN</td>\n      <td>29</td>\n      <td>Basics of Web Dev</td>\n      <td>1</td>\n    </tr>\n    <tr>\n      <th>1</th>\n      <td>9</td>\n      <td>2021-04-27 15:31:06.560011</td>\n      <td>2021-04-27 15:31:06.560011</td>\n      <td>0074-D912-3905</td>\n      <td>2020-02-04 12:00:00</td>\n      <td>NaN</td>\n      <td>49</td>\n      <td>Basics of Web Dev</td>\n      <td>1</td>\n    </tr>\n    <tr>\n      <th>2</th>\n      <td>10</td>\n      <td>2021-04-27 15:31:59.573788</td>\n      <td>2021-04-27 15:31:59.573788</td>\n      <td>1A0F-DA44-F9BC</td>\n      <td>2020-02-04 12:00:00</td>\n      <td>NaN</td>\n      <td>46</td>\n      <td>Basics of Web Dev</td>\n      <td>1</td>\n    </tr>\n    <tr>\n      <th>3</th>\n      <td>11</td>\n      <td>2021-04-27 15:33:05.196104</td>\n      <td>2021-04-27 15:33:05.196104</td>\n      <td>1BC6-2CB9-0976</td>\n      <td>2020-02-04 12:00:00</td>\n      <td>NaN</td>\n      <td>40</td>\n      <td>Basics of Web Dev</td>\n      <td>1</td>\n    </tr>\n    <tr>\n      <th>4</th>\n      <td>12</td>\n      <td>2021-04-27 15:34:05.920007</td>\n      <td>2021-04-27 15:34:05.920007</td>\n      <td>E800-13E7-71AA</td>\n      <td>2020-02-04 12:00:00</td>\n      <td>NaN</td>\n      <td>5</td>\n      <td>Basics of Web Dev</td>\n      <td>1</td>\n    </tr>\n  </tbody>\n</table>\n</div>"
     },
     "metadata": {}
    }
   ]
  },
  {
   "cell_type": "code",
   "metadata": {
    "cell_id": "b74275b34f5f4414b6a295cab7fbeb91",
    "tags": [],
    "deepnote_to_be_reexecuted": false,
    "source_hash": "1d608fda",
    "execution_start": 1652977576695,
    "execution_millis": 38,
    "deepnote_cell_type": "code",
    "deepnote_cell_height": 203.59375
   },
   "source": "certificates[certificates.duplicated(subset=['userId','name'], keep=False)]",
   "execution_count": 25,
   "outputs": [
    {
     "output_type": "execute_result",
     "execution_count": 25,
     "data": {
      "application/vnd.deepnote.dataframe.v3+json": {
       "column_count": 9,
       "row_count": 0,
       "columns": [
        {
         "name": "id",
         "dtype": "int64",
         "stats": {
          "unique_count": 0,
          "nan_count": 0,
          "min": null,
          "max": null,
          "histogram": [
           {
            "bin_start": 0,
            "bin_end": 0.1,
            "count": 0
           },
           {
            "bin_start": 0.1,
            "bin_end": 0.2,
            "count": 0
           },
           {
            "bin_start": 0.2,
            "bin_end": 0.30000000000000004,
            "count": 0
           },
           {
            "bin_start": 0.30000000000000004,
            "bin_end": 0.4,
            "count": 0
           },
           {
            "bin_start": 0.4,
            "bin_end": 0.5,
            "count": 0
           },
           {
            "bin_start": 0.5,
            "bin_end": 0.6000000000000001,
            "count": 0
           },
           {
            "bin_start": 0.6000000000000001,
            "bin_end": 0.7000000000000001,
            "count": 0
           },
           {
            "bin_start": 0.7000000000000001,
            "bin_end": 0.8,
            "count": 0
           },
           {
            "bin_start": 0.8,
            "bin_end": 0.9,
            "count": 0
           },
           {
            "bin_start": 0.9,
            "bin_end": 1,
            "count": 0
           }
          ]
         }
        },
        {
         "name": "created_at",
         "dtype": "object",
         "stats": {
          "unique_count": 0,
          "nan_count": 0,
          "categories": []
         }
        },
        {
         "name": "updated_at",
         "dtype": "object",
         "stats": {
          "unique_count": 0,
          "nan_count": 0,
          "categories": []
         }
        },
        {
         "name": "identifier",
         "dtype": "object",
         "stats": {
          "unique_count": 0,
          "nan_count": 0,
          "categories": []
         }
        },
        {
         "name": "grantedOn",
         "dtype": "object",
         "stats": {
          "unique_count": 0,
          "nan_count": 0,
          "categories": []
         }
        },
        {
         "name": "expiry",
         "dtype": "float64",
         "stats": {
          "unique_count": 0,
          "nan_count": 0,
          "min": null,
          "max": null,
          "histogram": [
           {
            "bin_start": 0,
            "bin_end": 0.1,
            "count": 0
           },
           {
            "bin_start": 0.1,
            "bin_end": 0.2,
            "count": 0
           },
           {
            "bin_start": 0.2,
            "bin_end": 0.30000000000000004,
            "count": 0
           },
           {
            "bin_start": 0.30000000000000004,
            "bin_end": 0.4,
            "count": 0
           },
           {
            "bin_start": 0.4,
            "bin_end": 0.5,
            "count": 0
           },
           {
            "bin_start": 0.5,
            "bin_end": 0.6000000000000001,
            "count": 0
           },
           {
            "bin_start": 0.6000000000000001,
            "bin_end": 0.7000000000000001,
            "count": 0
           },
           {
            "bin_start": 0.7000000000000001,
            "bin_end": 0.8,
            "count": 0
           },
           {
            "bin_start": 0.8,
            "bin_end": 0.9,
            "count": 0
           },
           {
            "bin_start": 0.9,
            "bin_end": 1,
            "count": 0
           }
          ]
         }
        },
        {
         "name": "userId",
         "dtype": "int64",
         "stats": {
          "unique_count": 0,
          "nan_count": 0,
          "min": null,
          "max": null,
          "histogram": [
           {
            "bin_start": 0,
            "bin_end": 0.1,
            "count": 0
           },
           {
            "bin_start": 0.1,
            "bin_end": 0.2,
            "count": 0
           },
           {
            "bin_start": 0.2,
            "bin_end": 0.30000000000000004,
            "count": 0
           },
           {
            "bin_start": 0.30000000000000004,
            "bin_end": 0.4,
            "count": 0
           },
           {
            "bin_start": 0.4,
            "bin_end": 0.5,
            "count": 0
           },
           {
            "bin_start": 0.5,
            "bin_end": 0.6000000000000001,
            "count": 0
           },
           {
            "bin_start": 0.6000000000000001,
            "bin_end": 0.7000000000000001,
            "count": 0
           },
           {
            "bin_start": 0.7000000000000001,
            "bin_end": 0.8,
            "count": 0
           },
           {
            "bin_start": 0.8,
            "bin_end": 0.9,
            "count": 0
           },
           {
            "bin_start": 0.9,
            "bin_end": 1,
            "count": 0
           }
          ]
         }
        },
        {
         "name": "name",
         "dtype": "object",
         "stats": {
          "unique_count": 0,
          "nan_count": 0,
          "categories": []
         }
        },
        {
         "name": "hasPreview",
         "dtype": "int64",
         "stats": {
          "unique_count": 0,
          "nan_count": 0,
          "min": null,
          "max": null,
          "histogram": [
           {
            "bin_start": 0,
            "bin_end": 0.1,
            "count": 0
           },
           {
            "bin_start": 0.1,
            "bin_end": 0.2,
            "count": 0
           },
           {
            "bin_start": 0.2,
            "bin_end": 0.30000000000000004,
            "count": 0
           },
           {
            "bin_start": 0.30000000000000004,
            "bin_end": 0.4,
            "count": 0
           },
           {
            "bin_start": 0.4,
            "bin_end": 0.5,
            "count": 0
           },
           {
            "bin_start": 0.5,
            "bin_end": 0.6000000000000001,
            "count": 0
           },
           {
            "bin_start": 0.6000000000000001,
            "bin_end": 0.7000000000000001,
            "count": 0
           },
           {
            "bin_start": 0.7000000000000001,
            "bin_end": 0.8,
            "count": 0
           },
           {
            "bin_start": 0.8,
            "bin_end": 0.9,
            "count": 0
           },
           {
            "bin_start": 0.9,
            "bin_end": 1,
            "count": 0
           }
          ]
         }
        },
        {
         "name": "_deepnote_index_column",
         "dtype": "int64"
        }
       ],
       "rows": []
      },
      "text/plain": "Empty DataFrame\nColumns: [id, created_at, updated_at, identifier, grantedOn, expiry, userId, name, hasPreview]\nIndex: []",
      "text/html": "<div>\n<style scoped>\n    .dataframe tbody tr th:only-of-type {\n        vertical-align: middle;\n    }\n\n    .dataframe tbody tr th {\n        vertical-align: top;\n    }\n\n    .dataframe thead th {\n        text-align: right;\n    }\n</style>\n<table border=\"1\" class=\"dataframe\">\n  <thead>\n    <tr style=\"text-align: right;\">\n      <th></th>\n      <th>id</th>\n      <th>created_at</th>\n      <th>updated_at</th>\n      <th>identifier</th>\n      <th>grantedOn</th>\n      <th>expiry</th>\n      <th>userId</th>\n      <th>name</th>\n      <th>hasPreview</th>\n    </tr>\n  </thead>\n  <tbody>\n  </tbody>\n</table>\n</div>"
     },
     "metadata": {}
    }
   ]
  },
  {
   "cell_type": "code",
   "metadata": {
    "cell_id": "a9102a40d41648e7b6f984d9dedb9e47",
    "tags": [],
    "deepnote_to_be_reexecuted": false,
    "source_hash": "ad9974a4",
    "execution_start": 1652977576744,
    "execution_millis": 2,
    "deepnote_cell_type": "code",
    "deepnote_cell_height": 99
   },
   "source": "activity_count_per_user = activity['userId'].value_counts(dropna=False).to_frame(name=\"Count of activites\").reset_index().rename({'index':'userId'}, axis = 'columns')\n",
   "execution_count": 26,
   "outputs": []
  },
  {
   "cell_type": "code",
   "metadata": {
    "cell_id": "3377ff37821144f7b2feb4f9bbd7ebe3",
    "tags": [],
    "deepnote_to_be_reexecuted": false,
    "source_hash": "bd3fc4af",
    "execution_start": 1652977576793,
    "execution_millis": 15,
    "deepnote_cell_type": "code",
    "deepnote_cell_height": 600
   },
   "source": "activity_count_per_user.sort_values(by='userId')",
   "execution_count": 27,
   "outputs": [
    {
     "output_type": "execute_result",
     "execution_count": 27,
     "data": {
      "application/vnd.deepnote.dataframe.v3+json": {
       "column_count": 2,
       "row_count": 26,
       "columns": [
        {
         "name": "userId",
         "dtype": "int64",
         "stats": {
          "unique_count": 26,
          "nan_count": 0,
          "min": "1",
          "max": "131",
          "histogram": [
           {
            "bin_start": 1,
            "bin_end": 14,
            "count": 3
           },
           {
            "bin_start": 14,
            "bin_end": 27,
            "count": 0
           },
           {
            "bin_start": 27,
            "bin_end": 40,
            "count": 0
           },
           {
            "bin_start": 40,
            "bin_end": 53,
            "count": 0
           },
           {
            "bin_start": 53,
            "bin_end": 66,
            "count": 1
           },
           {
            "bin_start": 66,
            "bin_end": 79,
            "count": 3
           },
           {
            "bin_start": 79,
            "bin_end": 92,
            "count": 3
           },
           {
            "bin_start": 92,
            "bin_end": 105,
            "count": 0
           },
           {
            "bin_start": 105,
            "bin_end": 118,
            "count": 5
           },
           {
            "bin_start": 118,
            "bin_end": 131,
            "count": 11
           }
          ]
         }
        },
        {
         "name": "Count of activites",
         "dtype": "int64",
         "stats": {
          "unique_count": 17,
          "nan_count": 0,
          "min": "1",
          "max": "210",
          "histogram": [
           {
            "bin_start": 1,
            "bin_end": 21.9,
            "count": 21
           },
           {
            "bin_start": 21.9,
            "bin_end": 42.8,
            "count": 3
           },
           {
            "bin_start": 42.8,
            "bin_end": 63.699999999999996,
            "count": 0
           },
           {
            "bin_start": 63.699999999999996,
            "bin_end": 84.6,
            "count": 1
           },
           {
            "bin_start": 84.6,
            "bin_end": 105.5,
            "count": 0
           },
           {
            "bin_start": 105.5,
            "bin_end": 126.39999999999999,
            "count": 0
           },
           {
            "bin_start": 126.39999999999999,
            "bin_end": 147.29999999999998,
            "count": 0
           },
           {
            "bin_start": 147.29999999999998,
            "bin_end": 168.2,
            "count": 0
           },
           {
            "bin_start": 168.2,
            "bin_end": 189.1,
            "count": 0
           },
           {
            "bin_start": 189.1,
            "bin_end": 210,
            "count": 1
           }
          ]
         }
        },
        {
         "name": "_deepnote_index_column",
         "dtype": "int64"
        }
       ],
       "rows": [
        {
         "userId": 1,
         "Count of activites": 67,
         "_deepnote_index_column": 1
        },
        {
         "userId": 2,
         "Count of activites": 210,
         "_deepnote_index_column": 0
        },
        {
         "userId": 3,
         "Count of activites": 8,
         "_deepnote_index_column": 10
        },
        {
         "userId": 54,
         "Count of activites": 16,
         "_deepnote_index_column": 7
        },
        {
         "userId": 66,
         "Count of activites": 6,
         "_deepnote_index_column": 13
        },
        {
         "userId": 67,
         "Count of activites": 25,
         "_deepnote_index_column": 3
        },
        {
         "userId": 69,
         "Count of activites": 13,
         "_deepnote_index_column": 8
        },
        {
         "userId": 85,
         "Count of activites": 10,
         "_deepnote_index_column": 9
        },
        {
         "userId": 86,
         "Count of activites": 2,
         "_deepnote_index_column": 18
        },
        {
         "userId": 91,
         "Count of activites": 4,
         "_deepnote_index_column": 15
        }
       ]
      },
      "text/plain": "    userId  Count of activites\n1        1                  67\n0        2                 210\n10       3                   8\n7       54                  16\n13      66                   6\n3       67                  25\n8       69                  13\n9       85                  10\n18      86                   2\n15      91                   4\n5      105                  17\n4      106                  23\n17     110                   2\n6      111                  17\n14     114                   5\n11     120                   7\n19     121                   2\n20     122                   1\n21     123                   1\n22     124                   1\n23     125                   1\n24     127                   1\n25     128                   1\n16     129                   3\n2      130                  32\n12     131                   6",
      "text/html": "<div>\n<style scoped>\n    .dataframe tbody tr th:only-of-type {\n        vertical-align: middle;\n    }\n\n    .dataframe tbody tr th {\n        vertical-align: top;\n    }\n\n    .dataframe thead th {\n        text-align: right;\n    }\n</style>\n<table border=\"1\" class=\"dataframe\">\n  <thead>\n    <tr style=\"text-align: right;\">\n      <th></th>\n      <th>userId</th>\n      <th>Count of activites</th>\n    </tr>\n  </thead>\n  <tbody>\n    <tr>\n      <th>1</th>\n      <td>1</td>\n      <td>67</td>\n    </tr>\n    <tr>\n      <th>0</th>\n      <td>2</td>\n      <td>210</td>\n    </tr>\n    <tr>\n      <th>10</th>\n      <td>3</td>\n      <td>8</td>\n    </tr>\n    <tr>\n      <th>7</th>\n      <td>54</td>\n      <td>16</td>\n    </tr>\n    <tr>\n      <th>13</th>\n      <td>66</td>\n      <td>6</td>\n    </tr>\n    <tr>\n      <th>3</th>\n      <td>67</td>\n      <td>25</td>\n    </tr>\n    <tr>\n      <th>8</th>\n      <td>69</td>\n      <td>13</td>\n    </tr>\n    <tr>\n      <th>9</th>\n      <td>85</td>\n      <td>10</td>\n    </tr>\n    <tr>\n      <th>18</th>\n      <td>86</td>\n      <td>2</td>\n    </tr>\n    <tr>\n      <th>15</th>\n      <td>91</td>\n      <td>4</td>\n    </tr>\n    <tr>\n      <th>5</th>\n      <td>105</td>\n      <td>17</td>\n    </tr>\n    <tr>\n      <th>4</th>\n      <td>106</td>\n      <td>23</td>\n    </tr>\n    <tr>\n      <th>17</th>\n      <td>110</td>\n      <td>2</td>\n    </tr>\n    <tr>\n      <th>6</th>\n      <td>111</td>\n      <td>17</td>\n    </tr>\n    <tr>\n      <th>14</th>\n      <td>114</td>\n      <td>5</td>\n    </tr>\n    <tr>\n      <th>11</th>\n      <td>120</td>\n      <td>7</td>\n    </tr>\n    <tr>\n      <th>19</th>\n      <td>121</td>\n      <td>2</td>\n    </tr>\n    <tr>\n      <th>20</th>\n      <td>122</td>\n      <td>1</td>\n    </tr>\n    <tr>\n      <th>21</th>\n      <td>123</td>\n      <td>1</td>\n    </tr>\n    <tr>\n      <th>22</th>\n      <td>124</td>\n      <td>1</td>\n    </tr>\n    <tr>\n      <th>23</th>\n      <td>125</td>\n      <td>1</td>\n    </tr>\n    <tr>\n      <th>24</th>\n      <td>127</td>\n      <td>1</td>\n    </tr>\n    <tr>\n      <th>25</th>\n      <td>128</td>\n      <td>1</td>\n    </tr>\n    <tr>\n      <th>16</th>\n      <td>129</td>\n      <td>3</td>\n    </tr>\n    <tr>\n      <th>2</th>\n      <td>130</td>\n      <td>32</td>\n    </tr>\n    <tr>\n      <th>12</th>\n      <td>131</td>\n      <td>6</td>\n    </tr>\n  </tbody>\n</table>\n</div>"
     },
     "metadata": {}
    }
   ]
  },
  {
   "cell_type": "code",
   "metadata": {
    "cell_id": "5ef9ecaca7164fd18d8344fe9c52e084",
    "tags": [],
    "deepnote_to_be_reexecuted": false,
    "source_hash": "3503d466",
    "execution_start": 1652977576851,
    "execution_millis": 18,
    "deepnote_cell_type": "code",
    "deepnote_cell_height": 631.59375
   },
   "source": "activity_assignment = activity_count_per_user.merge(assigment_submissions, on='userId', how='outer')\nactivity_assignment",
   "execution_count": 28,
   "outputs": [
    {
     "output_type": "execute_result",
     "execution_count": 28,
     "data": {
      "application/vnd.deepnote.dataframe.v3+json": {
       "column_count": 9,
       "row_count": 30,
       "columns": [
        {
         "name": "userId",
         "dtype": "int64",
         "stats": {
          "unique_count": 27,
          "nan_count": 0,
          "min": "1",
          "max": "131",
          "histogram": [
           {
            "bin_start": 1,
            "bin_end": 14,
            "count": 3
           },
           {
            "bin_start": 14,
            "bin_end": 27,
            "count": 0
           },
           {
            "bin_start": 27,
            "bin_end": 40,
            "count": 0
           },
           {
            "bin_start": 40,
            "bin_end": 53,
            "count": 4
           },
           {
            "bin_start": 53,
            "bin_end": 66,
            "count": 1
           },
           {
            "bin_start": 66,
            "bin_end": 79,
            "count": 3
           },
           {
            "bin_start": 79,
            "bin_end": 92,
            "count": 3
           },
           {
            "bin_start": 92,
            "bin_end": 105,
            "count": 0
           },
           {
            "bin_start": 105,
            "bin_end": 118,
            "count": 5
           },
           {
            "bin_start": 118,
            "bin_end": 131,
            "count": 11
           }
          ]
         }
        },
        {
         "name": "Count of activites",
         "dtype": "float64",
         "stats": {
          "unique_count": 17,
          "nan_count": 4,
          "min": "1.0",
          "max": "210.0",
          "histogram": [
           {
            "bin_start": 1,
            "bin_end": 21.9,
            "count": 21
           },
           {
            "bin_start": 21.9,
            "bin_end": 42.8,
            "count": 3
           },
           {
            "bin_start": 42.8,
            "bin_end": 63.699999999999996,
            "count": 0
           },
           {
            "bin_start": 63.699999999999996,
            "bin_end": 84.6,
            "count": 1
           },
           {
            "bin_start": 84.6,
            "bin_end": 105.5,
            "count": 0
           },
           {
            "bin_start": 105.5,
            "bin_end": 126.39999999999999,
            "count": 0
           },
           {
            "bin_start": 126.39999999999999,
            "bin_end": 147.29999999999998,
            "count": 0
           },
           {
            "bin_start": 147.29999999999998,
            "bin_end": 168.2,
            "count": 0
           },
           {
            "bin_start": 168.2,
            "bin_end": 189.1,
            "count": 0
           },
           {
            "bin_start": 189.1,
            "bin_end": 210,
            "count": 1
           }
          ]
         }
        },
        {
         "name": "id",
         "dtype": "float64",
         "stats": {
          "unique_count": 6,
          "nan_count": 24,
          "min": "14.0",
          "max": "20.0",
          "histogram": [
           {
            "bin_start": 14,
            "bin_end": 14.6,
            "count": 1
           },
           {
            "bin_start": 14.6,
            "bin_end": 15.2,
            "count": 1
           },
           {
            "bin_start": 15.2,
            "bin_end": 15.8,
            "count": 0
           },
           {
            "bin_start": 15.8,
            "bin_end": 16.4,
            "count": 1
           },
           {
            "bin_start": 16.4,
            "bin_end": 17,
            "count": 0
           },
           {
            "bin_start": 17,
            "bin_end": 17.6,
            "count": 1
           },
           {
            "bin_start": 17.6,
            "bin_end": 18.2,
            "count": 1
           },
           {
            "bin_start": 18.2,
            "bin_end": 18.8,
            "count": 0
           },
           {
            "bin_start": 18.8,
            "bin_end": 19.4,
            "count": 0
           },
           {
            "bin_start": 19.4,
            "bin_end": 20,
            "count": 1
           }
          ]
         }
        },
        {
         "name": "created_at",
         "dtype": "object",
         "stats": {
          "unique_count": 6,
          "nan_count": 24,
          "categories": [
           {
            "name": "2020-08-21 23:23:55.077561",
            "count": 1
           },
           {
            "name": "5 others",
            "count": 5
           },
           {
            "name": "Missing",
            "count": 24
           }
          ]
         }
        },
        {
         "name": "updated_at",
         "dtype": "object",
         "stats": {
          "unique_count": 6,
          "nan_count": 24,
          "categories": [
           {
            "name": "2020-08-21 23:23:55.077561",
            "count": 1
           },
           {
            "name": "5 others",
            "count": 5
           },
           {
            "name": "Missing",
            "count": 24
           }
          ]
         }
        },
        {
         "name": "identifier",
         "dtype": "object",
         "stats": {
          "unique_count": 6,
          "nan_count": 24,
          "categories": [
           {
            "name": "8f92c3a83a3",
            "count": 1
           },
           {
            "name": "5 others",
            "count": 5
           },
           {
            "name": "Missing",
            "count": 24
           }
          ]
         }
        },
        {
         "name": "totalTimeTaken",
         "dtype": "float64",
         "stats": {
          "unique_count": 1,
          "nan_count": 24,
          "min": "0.0",
          "max": "0.0",
          "histogram": [
           {
            "bin_start": -0.5,
            "bin_end": -0.4,
            "count": 0
           },
           {
            "bin_start": -0.4,
            "bin_end": -0.3,
            "count": 0
           },
           {
            "bin_start": -0.3,
            "bin_end": -0.19999999999999996,
            "count": 0
           },
           {
            "bin_start": -0.19999999999999996,
            "bin_end": -0.09999999999999998,
            "count": 0
           },
           {
            "bin_start": -0.09999999999999998,
            "bin_end": 0,
            "count": 0
           },
           {
            "bin_start": 0,
            "bin_end": 0.10000000000000009,
            "count": 6
           },
           {
            "bin_start": 0.10000000000000009,
            "bin_end": 0.20000000000000007,
            "count": 0
           },
           {
            "bin_start": 0.20000000000000007,
            "bin_end": 0.30000000000000004,
            "count": 0
           },
           {
            "bin_start": 0.30000000000000004,
            "bin_end": 0.4,
            "count": 0
           },
           {
            "bin_start": 0.4,
            "bin_end": 0.5,
            "count": 0
           }
          ]
         }
        },
        {
         "name": "assignmentId",
         "dtype": "float64",
         "stats": {
          "unique_count": 2,
          "nan_count": 24,
          "min": "10.0",
          "max": "11.0",
          "histogram": [
           {
            "bin_start": 10,
            "bin_end": 10.1,
            "count": 5
           },
           {
            "bin_start": 10.1,
            "bin_end": 10.2,
            "count": 0
           },
           {
            "bin_start": 10.2,
            "bin_end": 10.3,
            "count": 0
           },
           {
            "bin_start": 10.3,
            "bin_end": 10.4,
            "count": 0
           },
           {
            "bin_start": 10.4,
            "bin_end": 10.5,
            "count": 0
           },
           {
            "bin_start": 10.5,
            "bin_end": 10.6,
            "count": 0
           },
           {
            "bin_start": 10.6,
            "bin_end": 10.7,
            "count": 0
           },
           {
            "bin_start": 10.7,
            "bin_end": 10.8,
            "count": 0
           },
           {
            "bin_start": 10.8,
            "bin_end": 10.9,
            "count": 0
           },
           {
            "bin_start": 10.9,
            "bin_end": 11,
            "count": 1
           }
          ]
         }
        },
        {
         "name": "snapshotProjectId",
         "dtype": "float64",
         "stats": {
          "unique_count": 0,
          "nan_count": 30,
          "min": null,
          "max": null,
          "histogram": [
           {
            "bin_start": 0,
            "bin_end": 0.1,
            "count": 0
           },
           {
            "bin_start": 0.1,
            "bin_end": 0.2,
            "count": 0
           },
           {
            "bin_start": 0.2,
            "bin_end": 0.30000000000000004,
            "count": 0
           },
           {
            "bin_start": 0.30000000000000004,
            "bin_end": 0.4,
            "count": 0
           },
           {
            "bin_start": 0.4,
            "bin_end": 0.5,
            "count": 0
           },
           {
            "bin_start": 0.5,
            "bin_end": 0.6000000000000001,
            "count": 0
           },
           {
            "bin_start": 0.6000000000000001,
            "bin_end": 0.7000000000000001,
            "count": 0
           },
           {
            "bin_start": 0.7000000000000001,
            "bin_end": 0.8,
            "count": 0
           },
           {
            "bin_start": 0.8,
            "bin_end": 0.9,
            "count": 0
           },
           {
            "bin_start": 0.9,
            "bin_end": 1,
            "count": 0
           }
          ]
         }
        },
        {
         "name": "_deepnote_index_column",
         "dtype": "int64"
        }
       ],
       "rows": [
        {
         "userId": 2,
         "Count of activites": 210,
         "id": 17,
         "created_at": "2020-08-21 23:23:55.077561",
         "updated_at": "2020-08-21 23:23:55.077561",
         "identifier": "8f92c3a83a3",
         "totalTimeTaken": 0,
         "assignmentId": 10,
         "snapshotProjectId": "nan",
         "_deepnote_index_column": 0
        },
        {
         "userId": 1,
         "Count of activites": 67,
         "id": "nan",
         "created_at": "nan",
         "updated_at": "nan",
         "identifier": "nan",
         "totalTimeTaken": "nan",
         "assignmentId": "nan",
         "snapshotProjectId": "nan",
         "_deepnote_index_column": 1
        },
        {
         "userId": 130,
         "Count of activites": 32,
         "id": "nan",
         "created_at": "nan",
         "updated_at": "nan",
         "identifier": "nan",
         "totalTimeTaken": "nan",
         "assignmentId": "nan",
         "snapshotProjectId": "nan",
         "_deepnote_index_column": 2
        },
        {
         "userId": 67,
         "Count of activites": 25,
         "id": "nan",
         "created_at": "nan",
         "updated_at": "nan",
         "identifier": "nan",
         "totalTimeTaken": "nan",
         "assignmentId": "nan",
         "snapshotProjectId": "nan",
         "_deepnote_index_column": 3
        },
        {
         "userId": 106,
         "Count of activites": 23,
         "id": "nan",
         "created_at": "nan",
         "updated_at": "nan",
         "identifier": "nan",
         "totalTimeTaken": "nan",
         "assignmentId": "nan",
         "snapshotProjectId": "nan",
         "_deepnote_index_column": 4
        },
        {
         "userId": 105,
         "Count of activites": 17,
         "id": "nan",
         "created_at": "nan",
         "updated_at": "nan",
         "identifier": "nan",
         "totalTimeTaken": "nan",
         "assignmentId": "nan",
         "snapshotProjectId": "nan",
         "_deepnote_index_column": 5
        },
        {
         "userId": 111,
         "Count of activites": 17,
         "id": "nan",
         "created_at": "nan",
         "updated_at": "nan",
         "identifier": "nan",
         "totalTimeTaken": "nan",
         "assignmentId": "nan",
         "snapshotProjectId": "nan",
         "_deepnote_index_column": 6
        },
        {
         "userId": 54,
         "Count of activites": 16,
         "id": 20,
         "created_at": "2021-07-06 20:59:53.914948",
         "updated_at": "2021-07-06 20:59:53.914948",
         "identifier": "01b515510c1",
         "totalTimeTaken": 0,
         "assignmentId": 11,
         "snapshotProjectId": "nan",
         "_deepnote_index_column": 7
        },
        {
         "userId": 69,
         "Count of activites": 13,
         "id": "nan",
         "created_at": "nan",
         "updated_at": "nan",
         "identifier": "nan",
         "totalTimeTaken": "nan",
         "assignmentId": "nan",
         "snapshotProjectId": "nan",
         "_deepnote_index_column": 8
        },
        {
         "userId": 85,
         "Count of activites": 10,
         "id": "nan",
         "created_at": "nan",
         "updated_at": "nan",
         "identifier": "nan",
         "totalTimeTaken": "nan",
         "assignmentId": "nan",
         "snapshotProjectId": "nan",
         "_deepnote_index_column": 9
        }
       ]
      },
      "text/plain": "    userId  Count of activites    id                  created_at  \\\n0        2               210.0  17.0  2020-08-21 23:23:55.077561   \n1        1                67.0   NaN                         NaN   \n2      130                32.0   NaN                         NaN   \n3       67                25.0   NaN                         NaN   \n4      106                23.0   NaN                         NaN   \n5      105                17.0   NaN                         NaN   \n6      111                17.0   NaN                         NaN   \n7       54                16.0  20.0  2021-07-06 20:59:53.914948   \n8       69                13.0   NaN                         NaN   \n9       85                10.0   NaN                         NaN   \n10       3                 8.0   NaN                         NaN   \n11     120                 7.0   NaN                         NaN   \n12     131                 6.0   NaN                         NaN   \n13      66                 6.0   NaN                         NaN   \n14     114                 5.0   NaN                         NaN   \n15      91                 4.0   NaN                         NaN   \n16     129                 3.0   NaN                         NaN   \n17     110                 2.0   NaN                         NaN   \n18      86                 2.0   NaN                         NaN   \n19     121                 2.0   NaN                         NaN   \n20     122                 1.0   NaN                         NaN   \n21     123                 1.0   NaN                         NaN   \n22     124                 1.0   NaN                         NaN   \n23     125                 1.0   NaN                         NaN   \n24     127                 1.0   NaN                         NaN   \n25     128                 1.0   NaN                         NaN   \n26      52                 NaN  14.0  2020-08-21 22:39:05.804872   \n27      52                 NaN  15.0  2020-08-21 22:40:10.799194   \n28      52                 NaN  16.0  2020-08-21 22:50:12.169842   \n29      52                 NaN  18.0  2020-08-21 23:41:10.461689   \n\n                    updated_at   identifier  totalTimeTaken  assignmentId  \\\n0   2020-08-21 23:23:55.077561  8f92c3a83a3             0.0          10.0   \n1                          NaN          NaN             NaN           NaN   \n2                          NaN          NaN             NaN           NaN   \n3                          NaN          NaN             NaN           NaN   \n4                          NaN          NaN             NaN           NaN   \n5                          NaN          NaN             NaN           NaN   \n6                          NaN          NaN             NaN           NaN   \n7   2021-07-06 20:59:53.914948  01b515510c1             0.0          11.0   \n8                          NaN          NaN             NaN           NaN   \n9                          NaN          NaN             NaN           NaN   \n10                         NaN          NaN             NaN           NaN   \n11                         NaN          NaN             NaN           NaN   \n12                         NaN          NaN             NaN           NaN   \n13                         NaN          NaN             NaN           NaN   \n14                         NaN          NaN             NaN           NaN   \n15                         NaN          NaN             NaN           NaN   \n16                         NaN          NaN             NaN           NaN   \n17                         NaN          NaN             NaN           NaN   \n18                         NaN          NaN             NaN           NaN   \n19                         NaN          NaN             NaN           NaN   \n20                         NaN          NaN             NaN           NaN   \n21                         NaN          NaN             NaN           NaN   \n22                         NaN          NaN             NaN           NaN   \n23                         NaN          NaN             NaN           NaN   \n24                         NaN          NaN             NaN           NaN   \n25                         NaN          NaN             NaN           NaN   \n26  2020-08-21 22:39:05.804872  480ca863366             0.0          10.0   \n27  2020-08-21 22:40:10.799194  21e21098074             0.0          10.0   \n28  2020-08-21 22:50:12.169842  8b3a5fb353d             0.0          10.0   \n29  2020-08-21 23:41:10.461689  52c4a5fee5c             0.0          10.0   \n\n    snapshotProjectId  \n0                 NaN  \n1                 NaN  \n2                 NaN  \n3                 NaN  \n4                 NaN  \n5                 NaN  \n6                 NaN  \n7                 NaN  \n8                 NaN  \n9                 NaN  \n10                NaN  \n11                NaN  \n12                NaN  \n13                NaN  \n14                NaN  \n15                NaN  \n16                NaN  \n17                NaN  \n18                NaN  \n19                NaN  \n20                NaN  \n21                NaN  \n22                NaN  \n23                NaN  \n24                NaN  \n25                NaN  \n26                NaN  \n27                NaN  \n28                NaN  \n29                NaN  ",
      "text/html": "<div>\n<style scoped>\n    .dataframe tbody tr th:only-of-type {\n        vertical-align: middle;\n    }\n\n    .dataframe tbody tr th {\n        vertical-align: top;\n    }\n\n    .dataframe thead th {\n        text-align: right;\n    }\n</style>\n<table border=\"1\" class=\"dataframe\">\n  <thead>\n    <tr style=\"text-align: right;\">\n      <th></th>\n      <th>userId</th>\n      <th>Count of activites</th>\n      <th>id</th>\n      <th>created_at</th>\n      <th>updated_at</th>\n      <th>identifier</th>\n      <th>totalTimeTaken</th>\n      <th>assignmentId</th>\n      <th>snapshotProjectId</th>\n    </tr>\n  </thead>\n  <tbody>\n    <tr>\n      <th>0</th>\n      <td>2</td>\n      <td>210.0</td>\n      <td>17.0</td>\n      <td>2020-08-21 23:23:55.077561</td>\n      <td>2020-08-21 23:23:55.077561</td>\n      <td>8f92c3a83a3</td>\n      <td>0.0</td>\n      <td>10.0</td>\n      <td>NaN</td>\n    </tr>\n    <tr>\n      <th>1</th>\n      <td>1</td>\n      <td>67.0</td>\n      <td>NaN</td>\n      <td>NaN</td>\n      <td>NaN</td>\n      <td>NaN</td>\n      <td>NaN</td>\n      <td>NaN</td>\n      <td>NaN</td>\n    </tr>\n    <tr>\n      <th>2</th>\n      <td>130</td>\n      <td>32.0</td>\n      <td>NaN</td>\n      <td>NaN</td>\n      <td>NaN</td>\n      <td>NaN</td>\n      <td>NaN</td>\n      <td>NaN</td>\n      <td>NaN</td>\n    </tr>\n    <tr>\n      <th>3</th>\n      <td>67</td>\n      <td>25.0</td>\n      <td>NaN</td>\n      <td>NaN</td>\n      <td>NaN</td>\n      <td>NaN</td>\n      <td>NaN</td>\n      <td>NaN</td>\n      <td>NaN</td>\n    </tr>\n    <tr>\n      <th>4</th>\n      <td>106</td>\n      <td>23.0</td>\n      <td>NaN</td>\n      <td>NaN</td>\n      <td>NaN</td>\n      <td>NaN</td>\n      <td>NaN</td>\n      <td>NaN</td>\n      <td>NaN</td>\n    </tr>\n    <tr>\n      <th>5</th>\n      <td>105</td>\n      <td>17.0</td>\n      <td>NaN</td>\n      <td>NaN</td>\n      <td>NaN</td>\n      <td>NaN</td>\n      <td>NaN</td>\n      <td>NaN</td>\n      <td>NaN</td>\n    </tr>\n    <tr>\n      <th>6</th>\n      <td>111</td>\n      <td>17.0</td>\n      <td>NaN</td>\n      <td>NaN</td>\n      <td>NaN</td>\n      <td>NaN</td>\n      <td>NaN</td>\n      <td>NaN</td>\n      <td>NaN</td>\n    </tr>\n    <tr>\n      <th>7</th>\n      <td>54</td>\n      <td>16.0</td>\n      <td>20.0</td>\n      <td>2021-07-06 20:59:53.914948</td>\n      <td>2021-07-06 20:59:53.914948</td>\n      <td>01b515510c1</td>\n      <td>0.0</td>\n      <td>11.0</td>\n      <td>NaN</td>\n    </tr>\n    <tr>\n      <th>8</th>\n      <td>69</td>\n      <td>13.0</td>\n      <td>NaN</td>\n      <td>NaN</td>\n      <td>NaN</td>\n      <td>NaN</td>\n      <td>NaN</td>\n      <td>NaN</td>\n      <td>NaN</td>\n    </tr>\n    <tr>\n      <th>9</th>\n      <td>85</td>\n      <td>10.0</td>\n      <td>NaN</td>\n      <td>NaN</td>\n      <td>NaN</td>\n      <td>NaN</td>\n      <td>NaN</td>\n      <td>NaN</td>\n      <td>NaN</td>\n    </tr>\n    <tr>\n      <th>10</th>\n      <td>3</td>\n      <td>8.0</td>\n      <td>NaN</td>\n      <td>NaN</td>\n      <td>NaN</td>\n      <td>NaN</td>\n      <td>NaN</td>\n      <td>NaN</td>\n      <td>NaN</td>\n    </tr>\n    <tr>\n      <th>11</th>\n      <td>120</td>\n      <td>7.0</td>\n      <td>NaN</td>\n      <td>NaN</td>\n      <td>NaN</td>\n      <td>NaN</td>\n      <td>NaN</td>\n      <td>NaN</td>\n      <td>NaN</td>\n    </tr>\n    <tr>\n      <th>12</th>\n      <td>131</td>\n      <td>6.0</td>\n      <td>NaN</td>\n      <td>NaN</td>\n      <td>NaN</td>\n      <td>NaN</td>\n      <td>NaN</td>\n      <td>NaN</td>\n      <td>NaN</td>\n    </tr>\n    <tr>\n      <th>13</th>\n      <td>66</td>\n      <td>6.0</td>\n      <td>NaN</td>\n      <td>NaN</td>\n      <td>NaN</td>\n      <td>NaN</td>\n      <td>NaN</td>\n      <td>NaN</td>\n      <td>NaN</td>\n    </tr>\n    <tr>\n      <th>14</th>\n      <td>114</td>\n      <td>5.0</td>\n      <td>NaN</td>\n      <td>NaN</td>\n      <td>NaN</td>\n      <td>NaN</td>\n      <td>NaN</td>\n      <td>NaN</td>\n      <td>NaN</td>\n    </tr>\n    <tr>\n      <th>15</th>\n      <td>91</td>\n      <td>4.0</td>\n      <td>NaN</td>\n      <td>NaN</td>\n      <td>NaN</td>\n      <td>NaN</td>\n      <td>NaN</td>\n      <td>NaN</td>\n      <td>NaN</td>\n    </tr>\n    <tr>\n      <th>16</th>\n      <td>129</td>\n      <td>3.0</td>\n      <td>NaN</td>\n      <td>NaN</td>\n      <td>NaN</td>\n      <td>NaN</td>\n      <td>NaN</td>\n      <td>NaN</td>\n      <td>NaN</td>\n    </tr>\n    <tr>\n      <th>17</th>\n      <td>110</td>\n      <td>2.0</td>\n      <td>NaN</td>\n      <td>NaN</td>\n      <td>NaN</td>\n      <td>NaN</td>\n      <td>NaN</td>\n      <td>NaN</td>\n      <td>NaN</td>\n    </tr>\n    <tr>\n      <th>18</th>\n      <td>86</td>\n      <td>2.0</td>\n      <td>NaN</td>\n      <td>NaN</td>\n      <td>NaN</td>\n      <td>NaN</td>\n      <td>NaN</td>\n      <td>NaN</td>\n      <td>NaN</td>\n    </tr>\n    <tr>\n      <th>19</th>\n      <td>121</td>\n      <td>2.0</td>\n      <td>NaN</td>\n      <td>NaN</td>\n      <td>NaN</td>\n      <td>NaN</td>\n      <td>NaN</td>\n      <td>NaN</td>\n      <td>NaN</td>\n    </tr>\n    <tr>\n      <th>20</th>\n      <td>122</td>\n      <td>1.0</td>\n      <td>NaN</td>\n      <td>NaN</td>\n      <td>NaN</td>\n      <td>NaN</td>\n      <td>NaN</td>\n      <td>NaN</td>\n      <td>NaN</td>\n    </tr>\n    <tr>\n      <th>21</th>\n      <td>123</td>\n      <td>1.0</td>\n      <td>NaN</td>\n      <td>NaN</td>\n      <td>NaN</td>\n      <td>NaN</td>\n      <td>NaN</td>\n      <td>NaN</td>\n      <td>NaN</td>\n    </tr>\n    <tr>\n      <th>22</th>\n      <td>124</td>\n      <td>1.0</td>\n      <td>NaN</td>\n      <td>NaN</td>\n      <td>NaN</td>\n      <td>NaN</td>\n      <td>NaN</td>\n      <td>NaN</td>\n      <td>NaN</td>\n    </tr>\n    <tr>\n      <th>23</th>\n      <td>125</td>\n      <td>1.0</td>\n      <td>NaN</td>\n      <td>NaN</td>\n      <td>NaN</td>\n      <td>NaN</td>\n      <td>NaN</td>\n      <td>NaN</td>\n      <td>NaN</td>\n    </tr>\n    <tr>\n      <th>24</th>\n      <td>127</td>\n      <td>1.0</td>\n      <td>NaN</td>\n      <td>NaN</td>\n      <td>NaN</td>\n      <td>NaN</td>\n      <td>NaN</td>\n      <td>NaN</td>\n      <td>NaN</td>\n    </tr>\n    <tr>\n      <th>25</th>\n      <td>128</td>\n      <td>1.0</td>\n      <td>NaN</td>\n      <td>NaN</td>\n      <td>NaN</td>\n      <td>NaN</td>\n      <td>NaN</td>\n      <td>NaN</td>\n      <td>NaN</td>\n    </tr>\n    <tr>\n      <th>26</th>\n      <td>52</td>\n      <td>NaN</td>\n      <td>14.0</td>\n      <td>2020-08-21 22:39:05.804872</td>\n      <td>2020-08-21 22:39:05.804872</td>\n      <td>480ca863366</td>\n      <td>0.0</td>\n      <td>10.0</td>\n      <td>NaN</td>\n    </tr>\n    <tr>\n      <th>27</th>\n      <td>52</td>\n      <td>NaN</td>\n      <td>15.0</td>\n      <td>2020-08-21 22:40:10.799194</td>\n      <td>2020-08-21 22:40:10.799194</td>\n      <td>21e21098074</td>\n      <td>0.0</td>\n      <td>10.0</td>\n      <td>NaN</td>\n    </tr>\n    <tr>\n      <th>28</th>\n      <td>52</td>\n      <td>NaN</td>\n      <td>16.0</td>\n      <td>2020-08-21 22:50:12.169842</td>\n      <td>2020-08-21 22:50:12.169842</td>\n      <td>8b3a5fb353d</td>\n      <td>0.0</td>\n      <td>10.0</td>\n      <td>NaN</td>\n    </tr>\n    <tr>\n      <th>29</th>\n      <td>52</td>\n      <td>NaN</td>\n      <td>18.0</td>\n      <td>2020-08-21 23:41:10.461689</td>\n      <td>2020-08-21 23:41:10.461689</td>\n      <td>52c4a5fee5c</td>\n      <td>0.0</td>\n      <td>10.0</td>\n      <td>NaN</td>\n    </tr>\n  </tbody>\n</table>\n</div>"
     },
     "metadata": {}
    }
   ]
  },
  {
   "cell_type": "code",
   "metadata": {
    "cell_id": "203f00ed83bf48cbb8903cb5309fcd1e",
    "tags": [],
    "deepnote_to_be_reexecuted": false,
    "source_hash": "f052a9bc",
    "execution_start": 1652977576912,
    "execution_millis": 117,
    "deepnote_cell_type": "code",
    "deepnote_cell_height": 631.59375
   },
   "source": "activity_result = activity_assignment.merge(certificates, on='userId', how='outer')\nactivity_result",
   "execution_count": 29,
   "outputs": [
    {
     "output_type": "execute_result",
     "execution_count": 29,
     "data": {
      "application/vnd.deepnote.dataframe.v3+json": {
       "column_count": 17,
       "row_count": 43,
       "columns": [
        {
         "name": "userId",
         "dtype": "int64",
         "stats": {
          "unique_count": 38,
          "nan_count": 0,
          "min": "1",
          "max": "131",
          "histogram": [
           {
            "bin_start": 1,
            "bin_end": 14,
            "count": 5
           },
           {
            "bin_start": 14,
            "bin_end": 27,
            "count": 3
           },
           {
            "bin_start": 27,
            "bin_end": 40,
            "count": 3
           },
           {
            "bin_start": 40,
            "bin_end": 53,
            "count": 7
           },
           {
            "bin_start": 53,
            "bin_end": 66,
            "count": 1
           },
           {
            "bin_start": 66,
            "bin_end": 79,
            "count": 4
           },
           {
            "bin_start": 79,
            "bin_end": 92,
            "count": 3
           },
           {
            "bin_start": 92,
            "bin_end": 105,
            "count": 0
           },
           {
            "bin_start": 105,
            "bin_end": 118,
            "count": 6
           },
           {
            "bin_start": 118,
            "bin_end": 131,
            "count": 11
           }
          ]
         }
        },
        {
         "name": "Count of activites",
         "dtype": "float64",
         "stats": {
          "unique_count": 17,
          "nan_count": 15,
          "min": "1.0",
          "max": "210.0",
          "histogram": [
           {
            "bin_start": 1,
            "bin_end": 21.9,
            "count": 23
           },
           {
            "bin_start": 21.9,
            "bin_end": 42.8,
            "count": 3
           },
           {
            "bin_start": 42.8,
            "bin_end": 63.699999999999996,
            "count": 0
           },
           {
            "bin_start": 63.699999999999996,
            "bin_end": 84.6,
            "count": 1
           },
           {
            "bin_start": 84.6,
            "bin_end": 105.5,
            "count": 0
           },
           {
            "bin_start": 105.5,
            "bin_end": 126.39999999999999,
            "count": 0
           },
           {
            "bin_start": 126.39999999999999,
            "bin_end": 147.29999999999998,
            "count": 0
           },
           {
            "bin_start": 147.29999999999998,
            "bin_end": 168.2,
            "count": 0
           },
           {
            "bin_start": 168.2,
            "bin_end": 189.1,
            "count": 0
           },
           {
            "bin_start": 189.1,
            "bin_end": 210,
            "count": 1
           }
          ]
         }
        },
        {
         "name": "id_x",
         "dtype": "float64",
         "stats": {
          "unique_count": 6,
          "nan_count": 37,
          "min": "14.0",
          "max": "20.0",
          "histogram": [
           {
            "bin_start": 14,
            "bin_end": 14.6,
            "count": 1
           },
           {
            "bin_start": 14.6,
            "bin_end": 15.2,
            "count": 1
           },
           {
            "bin_start": 15.2,
            "bin_end": 15.8,
            "count": 0
           },
           {
            "bin_start": 15.8,
            "bin_end": 16.4,
            "count": 1
           },
           {
            "bin_start": 16.4,
            "bin_end": 17,
            "count": 0
           },
           {
            "bin_start": 17,
            "bin_end": 17.6,
            "count": 1
           },
           {
            "bin_start": 17.6,
            "bin_end": 18.2,
            "count": 1
           },
           {
            "bin_start": 18.2,
            "bin_end": 18.8,
            "count": 0
           },
           {
            "bin_start": 18.8,
            "bin_end": 19.4,
            "count": 0
           },
           {
            "bin_start": 19.4,
            "bin_end": 20,
            "count": 1
           }
          ]
         }
        },
        {
         "name": "created_at_x",
         "dtype": "object",
         "stats": {
          "unique_count": 6,
          "nan_count": 37,
          "categories": [
           {
            "name": "2020-08-21 23:23:55.077561",
            "count": 1
           },
           {
            "name": "5 others",
            "count": 5
           },
           {
            "name": "Missing",
            "count": 37
           }
          ]
         }
        },
        {
         "name": "updated_at_x",
         "dtype": "object",
         "stats": {
          "unique_count": 6,
          "nan_count": 37,
          "categories": [
           {
            "name": "2020-08-21 23:23:55.077561",
            "count": 1
           },
           {
            "name": "5 others",
            "count": 5
           },
           {
            "name": "Missing",
            "count": 37
           }
          ]
         }
        },
        {
         "name": "identifier_x",
         "dtype": "object",
         "stats": {
          "unique_count": 6,
          "nan_count": 37,
          "categories": [
           {
            "name": "8f92c3a83a3",
            "count": 1
           },
           {
            "name": "5 others",
            "count": 5
           },
           {
            "name": "Missing",
            "count": 37
           }
          ]
         }
        },
        {
         "name": "totalTimeTaken",
         "dtype": "float64",
         "stats": {
          "unique_count": 1,
          "nan_count": 37,
          "min": "0.0",
          "max": "0.0",
          "histogram": [
           {
            "bin_start": -0.5,
            "bin_end": -0.4,
            "count": 0
           },
           {
            "bin_start": -0.4,
            "bin_end": -0.3,
            "count": 0
           },
           {
            "bin_start": -0.3,
            "bin_end": -0.19999999999999996,
            "count": 0
           },
           {
            "bin_start": -0.19999999999999996,
            "bin_end": -0.09999999999999998,
            "count": 0
           },
           {
            "bin_start": -0.09999999999999998,
            "bin_end": 0,
            "count": 0
           },
           {
            "bin_start": 0,
            "bin_end": 0.10000000000000009,
            "count": 6
           },
           {
            "bin_start": 0.10000000000000009,
            "bin_end": 0.20000000000000007,
            "count": 0
           },
           {
            "bin_start": 0.20000000000000007,
            "bin_end": 0.30000000000000004,
            "count": 0
           },
           {
            "bin_start": 0.30000000000000004,
            "bin_end": 0.4,
            "count": 0
           },
           {
            "bin_start": 0.4,
            "bin_end": 0.5,
            "count": 0
           }
          ]
         }
        },
        {
         "name": "assignmentId",
         "dtype": "float64",
         "stats": {
          "unique_count": 2,
          "nan_count": 37,
          "min": "10.0",
          "max": "11.0",
          "histogram": [
           {
            "bin_start": 10,
            "bin_end": 10.1,
            "count": 5
           },
           {
            "bin_start": 10.1,
            "bin_end": 10.2,
            "count": 0
           },
           {
            "bin_start": 10.2,
            "bin_end": 10.3,
            "count": 0
           },
           {
            "bin_start": 10.3,
            "bin_end": 10.4,
            "count": 0
           },
           {
            "bin_start": 10.4,
            "bin_end": 10.5,
            "count": 0
           },
           {
            "bin_start": 10.5,
            "bin_end": 10.6,
            "count": 0
           },
           {
            "bin_start": 10.6,
            "bin_end": 10.7,
            "count": 0
           },
           {
            "bin_start": 10.7,
            "bin_end": 10.8,
            "count": 0
           },
           {
            "bin_start": 10.8,
            "bin_end": 10.9,
            "count": 0
           },
           {
            "bin_start": 10.9,
            "bin_end": 11,
            "count": 1
           }
          ]
         }
        },
        {
         "name": "snapshotProjectId",
         "dtype": "float64",
         "stats": {
          "unique_count": 0,
          "nan_count": 43,
          "min": null,
          "max": null,
          "histogram": [
           {
            "bin_start": 0,
            "bin_end": 0.1,
            "count": 0
           },
           {
            "bin_start": 0.1,
            "bin_end": 0.2,
            "count": 0
           },
           {
            "bin_start": 0.2,
            "bin_end": 0.30000000000000004,
            "count": 0
           },
           {
            "bin_start": 0.30000000000000004,
            "bin_end": 0.4,
            "count": 0
           },
           {
            "bin_start": 0.4,
            "bin_end": 0.5,
            "count": 0
           },
           {
            "bin_start": 0.5,
            "bin_end": 0.6000000000000001,
            "count": 0
           },
           {
            "bin_start": 0.6000000000000001,
            "bin_end": 0.7000000000000001,
            "count": 0
           },
           {
            "bin_start": 0.7000000000000001,
            "bin_end": 0.8,
            "count": 0
           },
           {
            "bin_start": 0.8,
            "bin_end": 0.9,
            "count": 0
           },
           {
            "bin_start": 0.9,
            "bin_end": 1,
            "count": 0
           }
          ]
         }
        },
        {
         "name": "id_y",
         "dtype": "float64",
         "stats": {
          "unique_count": 20,
          "nan_count": 23,
          "min": "8.0",
          "max": "27.0",
          "histogram": [
           {
            "bin_start": 8,
            "bin_end": 9.9,
            "count": 2
           },
           {
            "bin_start": 9.9,
            "bin_end": 11.8,
            "count": 2
           },
           {
            "bin_start": 11.8,
            "bin_end": 13.7,
            "count": 2
           },
           {
            "bin_start": 13.7,
            "bin_end": 15.6,
            "count": 2
           },
           {
            "bin_start": 15.6,
            "bin_end": 17.5,
            "count": 2
           },
           {
            "bin_start": 17.5,
            "bin_end": 19.4,
            "count": 2
           },
           {
            "bin_start": 19.4,
            "bin_end": 21.299999999999997,
            "count": 2
           },
           {
            "bin_start": 21.299999999999997,
            "bin_end": 23.2,
            "count": 2
           },
           {
            "bin_start": 23.2,
            "bin_end": 25.099999999999998,
            "count": 2
           },
           {
            "bin_start": 25.099999999999998,
            "bin_end": 27,
            "count": 2
           }
          ]
         }
        },
        {
         "name": "created_at_y",
         "dtype": "object",
         "stats": {
          "unique_count": 20,
          "nan_count": 23,
          "categories": [
           {
            "name": "2021-04-27 19:46:07.642646",
            "count": 1
           },
           {
            "name": "19 others",
            "count": 19
           },
           {
            "name": "Missing",
            "count": 23
           }
          ]
         }
        },
        {
         "name": "updated_at_y",
         "dtype": "object",
         "stats": {
          "unique_count": 20,
          "nan_count": 23,
          "categories": [
           {
            "name": "2021-04-27 19:46:07.642646",
            "count": 1
           },
           {
            "name": "19 others",
            "count": 19
           },
           {
            "name": "Missing",
            "count": 23
           }
          ]
         }
        },
        {
         "name": "identifier_y",
         "dtype": "object",
         "stats": {
          "unique_count": 20,
          "nan_count": 23,
          "categories": [
           {
            "name": "33DF-7822-DDE1",
            "count": 1
           },
           {
            "name": "19 others",
            "count": 19
           },
           {
            "name": "Missing",
            "count": 23
           }
          ]
         }
        },
        {
         "name": "grantedOn",
         "dtype": "object",
         "stats": {
          "unique_count": 3,
          "nan_count": 23,
          "categories": [
           {
            "name": "2020-02-04 12:00:00",
            "count": 11
           },
           {
            "name": "2 others",
            "count": 9
           },
           {
            "name": "Missing",
            "count": 23
           }
          ]
         }
        },
        {
         "name": "expiry",
         "dtype": "float64",
         "stats": {
          "unique_count": 0,
          "nan_count": 43,
          "min": null,
          "max": null,
          "histogram": [
           {
            "bin_start": 0,
            "bin_end": 0.1,
            "count": 0
           },
           {
            "bin_start": 0.1,
            "bin_end": 0.2,
            "count": 0
           },
           {
            "bin_start": 0.2,
            "bin_end": 0.30000000000000004,
            "count": 0
           },
           {
            "bin_start": 0.30000000000000004,
            "bin_end": 0.4,
            "count": 0
           },
           {
            "bin_start": 0.4,
            "bin_end": 0.5,
            "count": 0
           },
           {
            "bin_start": 0.5,
            "bin_end": 0.6000000000000001,
            "count": 0
           },
           {
            "bin_start": 0.6000000000000001,
            "bin_end": 0.7000000000000001,
            "count": 0
           },
           {
            "bin_start": 0.7000000000000001,
            "bin_end": 0.8,
            "count": 0
           },
           {
            "bin_start": 0.8,
            "bin_end": 0.9,
            "count": 0
           },
           {
            "bin_start": 0.9,
            "bin_end": 1,
            "count": 0
           }
          ]
         }
        },
        {
         "name": "name",
         "dtype": "object",
         "stats": {
          "unique_count": 3,
          "nan_count": 23,
          "categories": [
           {
            "name": "Basics of Web Dev",
            "count": 11
           },
           {
            "name": "2 others",
            "count": 9
           },
           {
            "name": "Missing",
            "count": 23
           }
          ]
         }
        },
        {
         "name": "hasPreview",
         "dtype": "float64",
         "stats": {
          "unique_count": 1,
          "nan_count": 23,
          "min": "1.0",
          "max": "1.0",
          "histogram": [
           {
            "bin_start": 0.5,
            "bin_end": 0.6,
            "count": 0
           },
           {
            "bin_start": 0.6,
            "bin_end": 0.7,
            "count": 0
           },
           {
            "bin_start": 0.7,
            "bin_end": 0.8,
            "count": 0
           },
           {
            "bin_start": 0.8,
            "bin_end": 0.9,
            "count": 0
           },
           {
            "bin_start": 0.9,
            "bin_end": 1,
            "count": 0
           },
           {
            "bin_start": 1,
            "bin_end": 1.1,
            "count": 20
           },
           {
            "bin_start": 1.1,
            "bin_end": 1.2000000000000002,
            "count": 0
           },
           {
            "bin_start": 1.2000000000000002,
            "bin_end": 1.3,
            "count": 0
           },
           {
            "bin_start": 1.3,
            "bin_end": 1.4,
            "count": 0
           },
           {
            "bin_start": 1.4,
            "bin_end": 1.5,
            "count": 0
           }
          ]
         }
        },
        {
         "name": "_deepnote_index_column",
         "dtype": "int64"
        }
       ],
       "rows": [
        {
         "userId": 2,
         "Count of activites": 210,
         "id_x": 17,
         "created_at_x": "2020-08-21 23:23:55.077561",
         "updated_at_x": "2020-08-21 23:23:55.077561",
         "identifier_x": "8f92c3a83a3",
         "totalTimeTaken": 0,
         "assignmentId": 10,
         "snapshotProjectId": "nan",
         "id_y": "nan",
         "created_at_y": "nan",
         "updated_at_y": "nan",
         "identifier_y": "nan",
         "grantedOn": "nan",
         "expiry": "nan",
         "name": "nan",
         "hasPreview": "nan",
         "_deepnote_index_column": 0
        },
        {
         "userId": 1,
         "Count of activites": 67,
         "id_x": "nan",
         "created_at_x": "nan",
         "updated_at_x": "nan",
         "identifier_x": "nan",
         "totalTimeTaken": "nan",
         "assignmentId": "nan",
         "snapshotProjectId": "nan",
         "id_y": "nan",
         "created_at_y": "nan",
         "updated_at_y": "nan",
         "identifier_y": "nan",
         "grantedOn": "nan",
         "expiry": "nan",
         "name": "nan",
         "hasPreview": "nan",
         "_deepnote_index_column": 1
        },
        {
         "userId": 130,
         "Count of activites": 32,
         "id_x": "nan",
         "created_at_x": "nan",
         "updated_at_x": "nan",
         "identifier_x": "nan",
         "totalTimeTaken": "nan",
         "assignmentId": "nan",
         "snapshotProjectId": "nan",
         "id_y": "nan",
         "created_at_y": "nan",
         "updated_at_y": "nan",
         "identifier_y": "nan",
         "grantedOn": "nan",
         "expiry": "nan",
         "name": "nan",
         "hasPreview": "nan",
         "_deepnote_index_column": 2
        },
        {
         "userId": 67,
         "Count of activites": 25,
         "id_x": "nan",
         "created_at_x": "nan",
         "updated_at_x": "nan",
         "identifier_x": "nan",
         "totalTimeTaken": "nan",
         "assignmentId": "nan",
         "snapshotProjectId": "nan",
         "id_y": "nan",
         "created_at_y": "nan",
         "updated_at_y": "nan",
         "identifier_y": "nan",
         "grantedOn": "nan",
         "expiry": "nan",
         "name": "nan",
         "hasPreview": "nan",
         "_deepnote_index_column": 3
        },
        {
         "userId": 106,
         "Count of activites": 23,
         "id_x": "nan",
         "created_at_x": "nan",
         "updated_at_x": "nan",
         "identifier_x": "nan",
         "totalTimeTaken": "nan",
         "assignmentId": "nan",
         "snapshotProjectId": "nan",
         "id_y": 21,
         "created_at_y": "2021-04-27 19:46:07.642646",
         "updated_at_y": "2021-04-27 19:46:07.642646",
         "identifier_y": "33DF-7822-DDE1",
         "grantedOn": "2021-04-27 11:00:00",
         "expiry": "nan",
         "name": "Intro to Game Dev",
         "hasPreview": 1,
         "_deepnote_index_column": 4
        },
        {
         "userId": 105,
         "Count of activites": 17,
         "id_x": "nan",
         "created_at_x": "nan",
         "updated_at_x": "nan",
         "identifier_x": "nan",
         "totalTimeTaken": "nan",
         "assignmentId": "nan",
         "snapshotProjectId": "nan",
         "id_y": 20,
         "created_at_y": "2021-04-27 19:45:15.250938",
         "updated_at_y": "2021-04-27 19:45:15.250938",
         "identifier_y": "4242-781D-EFFA",
         "grantedOn": "2021-04-27 11:00:00",
         "expiry": "nan",
         "name": "Intro to Game Dev",
         "hasPreview": 1,
         "_deepnote_index_column": 5
        },
        {
         "userId": 105,
         "Count of activites": 17,
         "id_x": "nan",
         "created_at_x": "nan",
         "updated_at_x": "nan",
         "identifier_x": "nan",
         "totalTimeTaken": "nan",
         "assignmentId": "nan",
         "snapshotProjectId": "nan",
         "id_y": 24,
         "created_at_y": "2021-07-03 16:39:58.828618",
         "updated_at_y": "2021-07-03 16:44:23.081623",
         "identifier_y": "E76C-204B-4FD3",
         "grantedOn": "2021-07-03 18:00:00",
         "expiry": "nan",
         "name": "Programming Fundamentals",
         "hasPreview": 1,
         "_deepnote_index_column": 6
        },
        {
         "userId": 111,
         "Count of activites": 17,
         "id_x": "nan",
         "created_at_x": "nan",
         "updated_at_x": "nan",
         "identifier_x": "nan",
         "totalTimeTaken": "nan",
         "assignmentId": "nan",
         "snapshotProjectId": "nan",
         "id_y": "nan",
         "created_at_y": "nan",
         "updated_at_y": "nan",
         "identifier_y": "nan",
         "grantedOn": "nan",
         "expiry": "nan",
         "name": "nan",
         "hasPreview": "nan",
         "_deepnote_index_column": 7
        },
        {
         "userId": 54,
         "Count of activites": 16,
         "id_x": 20,
         "created_at_x": "2021-07-06 20:59:53.914948",
         "updated_at_x": "2021-07-06 20:59:53.914948",
         "identifier_x": "01b515510c1",
         "totalTimeTaken": 0,
         "assignmentId": 11,
         "snapshotProjectId": "nan",
         "id_y": "nan",
         "created_at_y": "nan",
         "updated_at_y": "nan",
         "identifier_y": "nan",
         "grantedOn": "nan",
         "expiry": "nan",
         "name": "nan",
         "hasPreview": "nan",
         "_deepnote_index_column": 8
        },
        {
         "userId": 69,
         "Count of activites": 13,
         "id_x": "nan",
         "created_at_x": "nan",
         "updated_at_x": "nan",
         "identifier_x": "nan",
         "totalTimeTaken": "nan",
         "assignmentId": "nan",
         "snapshotProjectId": "nan",
         "id_y": 22,
         "created_at_y": "2021-04-27 19:46:47.391149",
         "updated_at_y": "2021-04-27 19:46:47.391149",
         "identifier_y": "FEF0-7051-F451",
         "grantedOn": "2021-04-27 11:00:00",
         "expiry": "nan",
         "name": "Intro to Game Dev",
         "hasPreview": 1,
         "_deepnote_index_column": 9
        }
       ]
      },
      "text/plain": "    userId  Count of activites  id_x                created_at_x  \\\n0        2               210.0  17.0  2020-08-21 23:23:55.077561   \n1        1                67.0   NaN                         NaN   \n2      130                32.0   NaN                         NaN   \n3       67                25.0   NaN                         NaN   \n4      106                23.0   NaN                         NaN   \n5      105                17.0   NaN                         NaN   \n6      105                17.0   NaN                         NaN   \n7      111                17.0   NaN                         NaN   \n8       54                16.0  20.0  2021-07-06 20:59:53.914948   \n9       69                13.0   NaN                         NaN   \n10      85                10.0   NaN                         NaN   \n11       3                 8.0   NaN                         NaN   \n12     120                 7.0   NaN                         NaN   \n13     131                 6.0   NaN                         NaN   \n14      66                 6.0   NaN                         NaN   \n15      66                 6.0   NaN                         NaN   \n16     114                 5.0   NaN                         NaN   \n17      91                 4.0   NaN                         NaN   \n18     129                 3.0   NaN                         NaN   \n19     110                 2.0   NaN                         NaN   \n20      86                 2.0   NaN                         NaN   \n21     121                 2.0   NaN                         NaN   \n22     122                 1.0   NaN                         NaN   \n23     123                 1.0   NaN                         NaN   \n24     124                 1.0   NaN                         NaN   \n25     125                 1.0   NaN                         NaN   \n26     127                 1.0   NaN                         NaN   \n27     128                 1.0   NaN                         NaN   \n28      52                 NaN  14.0  2020-08-21 22:39:05.804872   \n29      52                 NaN  15.0  2020-08-21 22:40:10.799194   \n30      52                 NaN  16.0  2020-08-21 22:50:12.169842   \n31      52                 NaN  18.0  2020-08-21 23:41:10.461689   \n32      29                 NaN   NaN                         NaN   \n33      49                 NaN   NaN                         NaN   \n34      46                 NaN   NaN                         NaN   \n35      40                 NaN   NaN                         NaN   \n36       5                 NaN   NaN                         NaN   \n37      12                 NaN   NaN                         NaN   \n38      34                 NaN   NaN                         NaN   \n39      21                 NaN   NaN                         NaN   \n40      16                 NaN   NaN                         NaN   \n41      15                 NaN   NaN                         NaN   \n42      31                 NaN   NaN                         NaN   \n\n                  updated_at_x identifier_x  totalTimeTaken  assignmentId  \\\n0   2020-08-21 23:23:55.077561  8f92c3a83a3             0.0          10.0   \n1                          NaN          NaN             NaN           NaN   \n2                          NaN          NaN             NaN           NaN   \n3                          NaN          NaN             NaN           NaN   \n4                          NaN          NaN             NaN           NaN   \n5                          NaN          NaN             NaN           NaN   \n6                          NaN          NaN             NaN           NaN   \n7                          NaN          NaN             NaN           NaN   \n8   2021-07-06 20:59:53.914948  01b515510c1             0.0          11.0   \n9                          NaN          NaN             NaN           NaN   \n10                         NaN          NaN             NaN           NaN   \n11                         NaN          NaN             NaN           NaN   \n12                         NaN          NaN             NaN           NaN   \n13                         NaN          NaN             NaN           NaN   \n14                         NaN          NaN             NaN           NaN   \n15                         NaN          NaN             NaN           NaN   \n16                         NaN          NaN             NaN           NaN   \n17                         NaN          NaN             NaN           NaN   \n18                         NaN          NaN             NaN           NaN   \n19                         NaN          NaN             NaN           NaN   \n20                         NaN          NaN             NaN           NaN   \n21                         NaN          NaN             NaN           NaN   \n22                         NaN          NaN             NaN           NaN   \n23                         NaN          NaN             NaN           NaN   \n24                         NaN          NaN             NaN           NaN   \n25                         NaN          NaN             NaN           NaN   \n26                         NaN          NaN             NaN           NaN   \n27                         NaN          NaN             NaN           NaN   \n28  2020-08-21 22:39:05.804872  480ca863366             0.0          10.0   \n29  2020-08-21 22:40:10.799194  21e21098074             0.0          10.0   \n30  2020-08-21 22:50:12.169842  8b3a5fb353d             0.0          10.0   \n31  2020-08-21 23:41:10.461689  52c4a5fee5c             0.0          10.0   \n32                         NaN          NaN             NaN           NaN   \n33                         NaN          NaN             NaN           NaN   \n34                         NaN          NaN             NaN           NaN   \n35                         NaN          NaN             NaN           NaN   \n36                         NaN          NaN             NaN           NaN   \n37                         NaN          NaN             NaN           NaN   \n38                         NaN          NaN             NaN           NaN   \n39                         NaN          NaN             NaN           NaN   \n40                         NaN          NaN             NaN           NaN   \n41                         NaN          NaN             NaN           NaN   \n42                         NaN          NaN             NaN           NaN   \n\n    snapshotProjectId  id_y                created_at_y  \\\n0                 NaN   NaN                         NaN   \n1                 NaN   NaN                         NaN   \n2                 NaN   NaN                         NaN   \n3                 NaN   NaN                         NaN   \n4                 NaN  21.0  2021-04-27 19:46:07.642646   \n5                 NaN  20.0  2021-04-27 19:45:15.250938   \n6                 NaN  24.0  2021-07-03 16:39:58.828618   \n7                 NaN   NaN                         NaN   \n8                 NaN   NaN                         NaN   \n9                 NaN  22.0  2021-04-27 19:46:47.391149   \n10                NaN  19.0  2021-04-27 19:44:29.943599   \n11                NaN   NaN                         NaN   \n12                NaN   NaN                         NaN   \n13                NaN   NaN                         NaN   \n14                NaN  23.0  2021-04-27 19:47:24.887729   \n15                NaN  25.0  2021-07-03 16:40:51.015941   \n16                NaN   NaN                         NaN   \n17                NaN   NaN                         NaN   \n18                NaN   NaN                         NaN   \n19                NaN   NaN                         NaN   \n20                NaN   NaN                         NaN   \n21                NaN   NaN                         NaN   \n22                NaN  26.0  2021-07-03 16:42:08.595933   \n23                NaN   NaN                         NaN   \n24                NaN   NaN                         NaN   \n25                NaN  27.0  2021-07-03 16:43:18.270789   \n26                NaN   NaN                         NaN   \n27                NaN   NaN                         NaN   \n28                NaN   NaN                         NaN   \n29                NaN   NaN                         NaN   \n30                NaN   NaN                         NaN   \n31                NaN   NaN                         NaN   \n32                NaN   8.0  2021-04-27 15:10:58.897032   \n33                NaN   9.0  2021-04-27 15:31:06.560011   \n34                NaN  10.0  2021-04-27 15:31:59.573788   \n35                NaN  11.0  2021-04-27 15:33:05.196104   \n36                NaN  12.0  2021-04-27 15:34:05.920007   \n37                NaN  13.0  2021-04-27 15:34:59.341726   \n38                NaN  14.0  2021-04-27 15:36:21.843346   \n39                NaN  15.0  2021-04-27 15:37:36.823670   \n40                NaN  16.0  2021-04-27 15:38:22.431064   \n41                NaN  17.0  2021-04-27 15:39:09.665017   \n42                NaN  18.0  2021-04-27 15:41:05.116434   \n\n                  updated_at_y    identifier_y            grantedOn  expiry  \\\n0                          NaN             NaN                  NaN     NaN   \n1                          NaN             NaN                  NaN     NaN   \n2                          NaN             NaN                  NaN     NaN   \n3                          NaN             NaN                  NaN     NaN   \n4   2021-04-27 19:46:07.642646  33DF-7822-DDE1  2021-04-27 11:00:00     NaN   \n5   2021-04-27 19:45:15.250938  4242-781D-EFFA  2021-04-27 11:00:00     NaN   \n6   2021-07-03 16:44:23.081623  E76C-204B-4FD3  2021-07-03 18:00:00     NaN   \n7                          NaN             NaN                  NaN     NaN   \n8                          NaN             NaN                  NaN     NaN   \n9   2021-04-27 19:46:47.391149  FEF0-7051-F451  2021-04-27 11:00:00     NaN   \n10  2021-04-27 19:44:29.943599  0FE1-75BC-CBA9  2021-04-27 11:00:00     NaN   \n11                         NaN             NaN                  NaN     NaN   \n12                         NaN             NaN                  NaN     NaN   \n13                         NaN             NaN                  NaN     NaN   \n14  2021-04-27 19:47:24.887729  2BD1-7FF2-0990  2021-04-27 11:00:00     NaN   \n15  2021-07-03 16:44:25.252063  E1EE-37C8-45BD  2021-07-03 18:00:00     NaN   \n16                         NaN             NaN                  NaN     NaN   \n17                         NaN             NaN                  NaN     NaN   \n18                         NaN             NaN                  NaN     NaN   \n19                         NaN             NaN                  NaN     NaN   \n20                         NaN             NaN                  NaN     NaN   \n21                         NaN             NaN                  NaN     NaN   \n22  2021-07-03 16:44:27.400903  08FF-3DE7-C0F6  2021-07-03 18:00:00     NaN   \n23                         NaN             NaN                  NaN     NaN   \n24                         NaN             NaN                  NaN     NaN   \n25  2021-07-03 16:44:30.029726  6D75-6561-91A5  2021-07-03 18:00:00     NaN   \n26                         NaN             NaN                  NaN     NaN   \n27                         NaN             NaN                  NaN     NaN   \n28                         NaN             NaN                  NaN     NaN   \n29                         NaN             NaN                  NaN     NaN   \n30                         NaN             NaN                  NaN     NaN   \n31                         NaN             NaN                  NaN     NaN   \n32  2021-04-27 15:10:58.897032  C701-F9BB-CFB9  2020-02-04 12:00:00     NaN   \n33  2021-04-27 15:31:06.560011  0074-D912-3905  2020-02-04 12:00:00     NaN   \n34  2021-04-27 15:31:59.573788  1A0F-DA44-F9BC  2020-02-04 12:00:00     NaN   \n35  2021-04-27 15:33:05.196104  1BC6-2CB9-0976  2020-02-04 12:00:00     NaN   \n36  2021-04-27 15:34:05.920007  E800-13E7-71AA  2020-02-04 12:00:00     NaN   \n37  2021-04-27 15:34:59.341726  D373-78CF-EEB7  2020-02-04 12:00:00     NaN   \n38  2021-04-27 15:36:21.843346  0B7B-B2E3-6E14  2020-02-04 12:00:00     NaN   \n39  2021-04-27 15:37:36.823670  EE79-539D-B914  2020-02-04 12:00:00     NaN   \n40  2021-04-27 15:38:22.431064  1BB2-D367-5037  2020-02-04 12:00:00     NaN   \n41  2021-04-27 15:39:09.665017  C48C-08BB-CCF8  2020-02-04 12:00:00     NaN   \n42  2021-04-27 15:41:05.116434  4882-1A83-BBB7  2020-02-04 12:00:00     NaN   \n\n                        name  hasPreview  \n0                        NaN         NaN  \n1                        NaN         NaN  \n2                        NaN         NaN  \n3                        NaN         NaN  \n4          Intro to Game Dev         1.0  \n5          Intro to Game Dev         1.0  \n6   Programming Fundamentals         1.0  \n7                        NaN         NaN  \n8                        NaN         NaN  \n9          Intro to Game Dev         1.0  \n10         Intro to Game Dev         1.0  \n11                       NaN         NaN  \n12                       NaN         NaN  \n13                       NaN         NaN  \n14         Intro to Game Dev         1.0  \n15  Programming Fundamentals         1.0  \n16                       NaN         NaN  \n17                       NaN         NaN  \n18                       NaN         NaN  \n19                       NaN         NaN  \n20                       NaN         NaN  \n21                       NaN         NaN  \n22  Programming Fundamentals         1.0  \n23                       NaN         NaN  \n24                       NaN         NaN  \n25  Programming Fundamentals         1.0  \n26                       NaN         NaN  \n27                       NaN         NaN  \n28                       NaN         NaN  \n29                       NaN         NaN  \n30                       NaN         NaN  \n31                       NaN         NaN  \n32         Basics of Web Dev         1.0  \n33         Basics of Web Dev         1.0  \n34         Basics of Web Dev         1.0  \n35         Basics of Web Dev         1.0  \n36         Basics of Web Dev         1.0  \n37         Basics of Web Dev         1.0  \n38         Basics of Web Dev         1.0  \n39         Basics of Web Dev         1.0  \n40         Basics of Web Dev         1.0  \n41         Basics of Web Dev         1.0  \n42         Basics of Web Dev         1.0  ",
      "text/html": "<div>\n<style scoped>\n    .dataframe tbody tr th:only-of-type {\n        vertical-align: middle;\n    }\n\n    .dataframe tbody tr th {\n        vertical-align: top;\n    }\n\n    .dataframe thead th {\n        text-align: right;\n    }\n</style>\n<table border=\"1\" class=\"dataframe\">\n  <thead>\n    <tr style=\"text-align: right;\">\n      <th></th>\n      <th>userId</th>\n      <th>Count of activites</th>\n      <th>id_x</th>\n      <th>created_at_x</th>\n      <th>updated_at_x</th>\n      <th>identifier_x</th>\n      <th>totalTimeTaken</th>\n      <th>assignmentId</th>\n      <th>snapshotProjectId</th>\n      <th>id_y</th>\n      <th>created_at_y</th>\n      <th>updated_at_y</th>\n      <th>identifier_y</th>\n      <th>grantedOn</th>\n      <th>expiry</th>\n      <th>name</th>\n      <th>hasPreview</th>\n    </tr>\n  </thead>\n  <tbody>\n    <tr>\n      <th>0</th>\n      <td>2</td>\n      <td>210.0</td>\n      <td>17.0</td>\n      <td>2020-08-21 23:23:55.077561</td>\n      <td>2020-08-21 23:23:55.077561</td>\n      <td>8f92c3a83a3</td>\n      <td>0.0</td>\n      <td>10.0</td>\n      <td>NaN</td>\n      <td>NaN</td>\n      <td>NaN</td>\n      <td>NaN</td>\n      <td>NaN</td>\n      <td>NaN</td>\n      <td>NaN</td>\n      <td>NaN</td>\n      <td>NaN</td>\n    </tr>\n    <tr>\n      <th>1</th>\n      <td>1</td>\n      <td>67.0</td>\n      <td>NaN</td>\n      <td>NaN</td>\n      <td>NaN</td>\n      <td>NaN</td>\n      <td>NaN</td>\n      <td>NaN</td>\n      <td>NaN</td>\n      <td>NaN</td>\n      <td>NaN</td>\n      <td>NaN</td>\n      <td>NaN</td>\n      <td>NaN</td>\n      <td>NaN</td>\n      <td>NaN</td>\n      <td>NaN</td>\n    </tr>\n    <tr>\n      <th>2</th>\n      <td>130</td>\n      <td>32.0</td>\n      <td>NaN</td>\n      <td>NaN</td>\n      <td>NaN</td>\n      <td>NaN</td>\n      <td>NaN</td>\n      <td>NaN</td>\n      <td>NaN</td>\n      <td>NaN</td>\n      <td>NaN</td>\n      <td>NaN</td>\n      <td>NaN</td>\n      <td>NaN</td>\n      <td>NaN</td>\n      <td>NaN</td>\n      <td>NaN</td>\n    </tr>\n    <tr>\n      <th>3</th>\n      <td>67</td>\n      <td>25.0</td>\n      <td>NaN</td>\n      <td>NaN</td>\n      <td>NaN</td>\n      <td>NaN</td>\n      <td>NaN</td>\n      <td>NaN</td>\n      <td>NaN</td>\n      <td>NaN</td>\n      <td>NaN</td>\n      <td>NaN</td>\n      <td>NaN</td>\n      <td>NaN</td>\n      <td>NaN</td>\n      <td>NaN</td>\n      <td>NaN</td>\n    </tr>\n    <tr>\n      <th>4</th>\n      <td>106</td>\n      <td>23.0</td>\n      <td>NaN</td>\n      <td>NaN</td>\n      <td>NaN</td>\n      <td>NaN</td>\n      <td>NaN</td>\n      <td>NaN</td>\n      <td>NaN</td>\n      <td>21.0</td>\n      <td>2021-04-27 19:46:07.642646</td>\n      <td>2021-04-27 19:46:07.642646</td>\n      <td>33DF-7822-DDE1</td>\n      <td>2021-04-27 11:00:00</td>\n      <td>NaN</td>\n      <td>Intro to Game Dev</td>\n      <td>1.0</td>\n    </tr>\n    <tr>\n      <th>5</th>\n      <td>105</td>\n      <td>17.0</td>\n      <td>NaN</td>\n      <td>NaN</td>\n      <td>NaN</td>\n      <td>NaN</td>\n      <td>NaN</td>\n      <td>NaN</td>\n      <td>NaN</td>\n      <td>20.0</td>\n      <td>2021-04-27 19:45:15.250938</td>\n      <td>2021-04-27 19:45:15.250938</td>\n      <td>4242-781D-EFFA</td>\n      <td>2021-04-27 11:00:00</td>\n      <td>NaN</td>\n      <td>Intro to Game Dev</td>\n      <td>1.0</td>\n    </tr>\n    <tr>\n      <th>6</th>\n      <td>105</td>\n      <td>17.0</td>\n      <td>NaN</td>\n      <td>NaN</td>\n      <td>NaN</td>\n      <td>NaN</td>\n      <td>NaN</td>\n      <td>NaN</td>\n      <td>NaN</td>\n      <td>24.0</td>\n      <td>2021-07-03 16:39:58.828618</td>\n      <td>2021-07-03 16:44:23.081623</td>\n      <td>E76C-204B-4FD3</td>\n      <td>2021-07-03 18:00:00</td>\n      <td>NaN</td>\n      <td>Programming Fundamentals</td>\n      <td>1.0</td>\n    </tr>\n    <tr>\n      <th>7</th>\n      <td>111</td>\n      <td>17.0</td>\n      <td>NaN</td>\n      <td>NaN</td>\n      <td>NaN</td>\n      <td>NaN</td>\n      <td>NaN</td>\n      <td>NaN</td>\n      <td>NaN</td>\n      <td>NaN</td>\n      <td>NaN</td>\n      <td>NaN</td>\n      <td>NaN</td>\n      <td>NaN</td>\n      <td>NaN</td>\n      <td>NaN</td>\n      <td>NaN</td>\n    </tr>\n    <tr>\n      <th>8</th>\n      <td>54</td>\n      <td>16.0</td>\n      <td>20.0</td>\n      <td>2021-07-06 20:59:53.914948</td>\n      <td>2021-07-06 20:59:53.914948</td>\n      <td>01b515510c1</td>\n      <td>0.0</td>\n      <td>11.0</td>\n      <td>NaN</td>\n      <td>NaN</td>\n      <td>NaN</td>\n      <td>NaN</td>\n      <td>NaN</td>\n      <td>NaN</td>\n      <td>NaN</td>\n      <td>NaN</td>\n      <td>NaN</td>\n    </tr>\n    <tr>\n      <th>9</th>\n      <td>69</td>\n      <td>13.0</td>\n      <td>NaN</td>\n      <td>NaN</td>\n      <td>NaN</td>\n      <td>NaN</td>\n      <td>NaN</td>\n      <td>NaN</td>\n      <td>NaN</td>\n      <td>22.0</td>\n      <td>2021-04-27 19:46:47.391149</td>\n      <td>2021-04-27 19:46:47.391149</td>\n      <td>FEF0-7051-F451</td>\n      <td>2021-04-27 11:00:00</td>\n      <td>NaN</td>\n      <td>Intro to Game Dev</td>\n      <td>1.0</td>\n    </tr>\n    <tr>\n      <th>10</th>\n      <td>85</td>\n      <td>10.0</td>\n      <td>NaN</td>\n      <td>NaN</td>\n      <td>NaN</td>\n      <td>NaN</td>\n      <td>NaN</td>\n      <td>NaN</td>\n      <td>NaN</td>\n      <td>19.0</td>\n      <td>2021-04-27 19:44:29.943599</td>\n      <td>2021-04-27 19:44:29.943599</td>\n      <td>0FE1-75BC-CBA9</td>\n      <td>2021-04-27 11:00:00</td>\n      <td>NaN</td>\n      <td>Intro to Game Dev</td>\n      <td>1.0</td>\n    </tr>\n    <tr>\n      <th>11</th>\n      <td>3</td>\n      <td>8.0</td>\n      <td>NaN</td>\n      <td>NaN</td>\n      <td>NaN</td>\n      <td>NaN</td>\n      <td>NaN</td>\n      <td>NaN</td>\n      <td>NaN</td>\n      <td>NaN</td>\n      <td>NaN</td>\n      <td>NaN</td>\n      <td>NaN</td>\n      <td>NaN</td>\n      <td>NaN</td>\n      <td>NaN</td>\n      <td>NaN</td>\n    </tr>\n    <tr>\n      <th>12</th>\n      <td>120</td>\n      <td>7.0</td>\n      <td>NaN</td>\n      <td>NaN</td>\n      <td>NaN</td>\n      <td>NaN</td>\n      <td>NaN</td>\n      <td>NaN</td>\n      <td>NaN</td>\n      <td>NaN</td>\n      <td>NaN</td>\n      <td>NaN</td>\n      <td>NaN</td>\n      <td>NaN</td>\n      <td>NaN</td>\n      <td>NaN</td>\n      <td>NaN</td>\n    </tr>\n    <tr>\n      <th>13</th>\n      <td>131</td>\n      <td>6.0</td>\n      <td>NaN</td>\n      <td>NaN</td>\n      <td>NaN</td>\n      <td>NaN</td>\n      <td>NaN</td>\n      <td>NaN</td>\n      <td>NaN</td>\n      <td>NaN</td>\n      <td>NaN</td>\n      <td>NaN</td>\n      <td>NaN</td>\n      <td>NaN</td>\n      <td>NaN</td>\n      <td>NaN</td>\n      <td>NaN</td>\n    </tr>\n    <tr>\n      <th>14</th>\n      <td>66</td>\n      <td>6.0</td>\n      <td>NaN</td>\n      <td>NaN</td>\n      <td>NaN</td>\n      <td>NaN</td>\n      <td>NaN</td>\n      <td>NaN</td>\n      <td>NaN</td>\n      <td>23.0</td>\n      <td>2021-04-27 19:47:24.887729</td>\n      <td>2021-04-27 19:47:24.887729</td>\n      <td>2BD1-7FF2-0990</td>\n      <td>2021-04-27 11:00:00</td>\n      <td>NaN</td>\n      <td>Intro to Game Dev</td>\n      <td>1.0</td>\n    </tr>\n    <tr>\n      <th>15</th>\n      <td>66</td>\n      <td>6.0</td>\n      <td>NaN</td>\n      <td>NaN</td>\n      <td>NaN</td>\n      <td>NaN</td>\n      <td>NaN</td>\n      <td>NaN</td>\n      <td>NaN</td>\n      <td>25.0</td>\n      <td>2021-07-03 16:40:51.015941</td>\n      <td>2021-07-03 16:44:25.252063</td>\n      <td>E1EE-37C8-45BD</td>\n      <td>2021-07-03 18:00:00</td>\n      <td>NaN</td>\n      <td>Programming Fundamentals</td>\n      <td>1.0</td>\n    </tr>\n    <tr>\n      <th>16</th>\n      <td>114</td>\n      <td>5.0</td>\n      <td>NaN</td>\n      <td>NaN</td>\n      <td>NaN</td>\n      <td>NaN</td>\n      <td>NaN</td>\n      <td>NaN</td>\n      <td>NaN</td>\n      <td>NaN</td>\n      <td>NaN</td>\n      <td>NaN</td>\n      <td>NaN</td>\n      <td>NaN</td>\n      <td>NaN</td>\n      <td>NaN</td>\n      <td>NaN</td>\n    </tr>\n    <tr>\n      <th>17</th>\n      <td>91</td>\n      <td>4.0</td>\n      <td>NaN</td>\n      <td>NaN</td>\n      <td>NaN</td>\n      <td>NaN</td>\n      <td>NaN</td>\n      <td>NaN</td>\n      <td>NaN</td>\n      <td>NaN</td>\n      <td>NaN</td>\n      <td>NaN</td>\n      <td>NaN</td>\n      <td>NaN</td>\n      <td>NaN</td>\n      <td>NaN</td>\n      <td>NaN</td>\n    </tr>\n    <tr>\n      <th>18</th>\n      <td>129</td>\n      <td>3.0</td>\n      <td>NaN</td>\n      <td>NaN</td>\n      <td>NaN</td>\n      <td>NaN</td>\n      <td>NaN</td>\n      <td>NaN</td>\n      <td>NaN</td>\n      <td>NaN</td>\n      <td>NaN</td>\n      <td>NaN</td>\n      <td>NaN</td>\n      <td>NaN</td>\n      <td>NaN</td>\n      <td>NaN</td>\n      <td>NaN</td>\n    </tr>\n    <tr>\n      <th>19</th>\n      <td>110</td>\n      <td>2.0</td>\n      <td>NaN</td>\n      <td>NaN</td>\n      <td>NaN</td>\n      <td>NaN</td>\n      <td>NaN</td>\n      <td>NaN</td>\n      <td>NaN</td>\n      <td>NaN</td>\n      <td>NaN</td>\n      <td>NaN</td>\n      <td>NaN</td>\n      <td>NaN</td>\n      <td>NaN</td>\n      <td>NaN</td>\n      <td>NaN</td>\n    </tr>\n    <tr>\n      <th>20</th>\n      <td>86</td>\n      <td>2.0</td>\n      <td>NaN</td>\n      <td>NaN</td>\n      <td>NaN</td>\n      <td>NaN</td>\n      <td>NaN</td>\n      <td>NaN</td>\n      <td>NaN</td>\n      <td>NaN</td>\n      <td>NaN</td>\n      <td>NaN</td>\n      <td>NaN</td>\n      <td>NaN</td>\n      <td>NaN</td>\n      <td>NaN</td>\n      <td>NaN</td>\n    </tr>\n    <tr>\n      <th>21</th>\n      <td>121</td>\n      <td>2.0</td>\n      <td>NaN</td>\n      <td>NaN</td>\n      <td>NaN</td>\n      <td>NaN</td>\n      <td>NaN</td>\n      <td>NaN</td>\n      <td>NaN</td>\n      <td>NaN</td>\n      <td>NaN</td>\n      <td>NaN</td>\n      <td>NaN</td>\n      <td>NaN</td>\n      <td>NaN</td>\n      <td>NaN</td>\n      <td>NaN</td>\n    </tr>\n    <tr>\n      <th>22</th>\n      <td>122</td>\n      <td>1.0</td>\n      <td>NaN</td>\n      <td>NaN</td>\n      <td>NaN</td>\n      <td>NaN</td>\n      <td>NaN</td>\n      <td>NaN</td>\n      <td>NaN</td>\n      <td>26.0</td>\n      <td>2021-07-03 16:42:08.595933</td>\n      <td>2021-07-03 16:44:27.400903</td>\n      <td>08FF-3DE7-C0F6</td>\n      <td>2021-07-03 18:00:00</td>\n      <td>NaN</td>\n      <td>Programming Fundamentals</td>\n      <td>1.0</td>\n    </tr>\n    <tr>\n      <th>23</th>\n      <td>123</td>\n      <td>1.0</td>\n      <td>NaN</td>\n      <td>NaN</td>\n      <td>NaN</td>\n      <td>NaN</td>\n      <td>NaN</td>\n      <td>NaN</td>\n      <td>NaN</td>\n      <td>NaN</td>\n      <td>NaN</td>\n      <td>NaN</td>\n      <td>NaN</td>\n      <td>NaN</td>\n      <td>NaN</td>\n      <td>NaN</td>\n      <td>NaN</td>\n    </tr>\n    <tr>\n      <th>24</th>\n      <td>124</td>\n      <td>1.0</td>\n      <td>NaN</td>\n      <td>NaN</td>\n      <td>NaN</td>\n      <td>NaN</td>\n      <td>NaN</td>\n      <td>NaN</td>\n      <td>NaN</td>\n      <td>NaN</td>\n      <td>NaN</td>\n      <td>NaN</td>\n      <td>NaN</td>\n      <td>NaN</td>\n      <td>NaN</td>\n      <td>NaN</td>\n      <td>NaN</td>\n    </tr>\n    <tr>\n      <th>25</th>\n      <td>125</td>\n      <td>1.0</td>\n      <td>NaN</td>\n      <td>NaN</td>\n      <td>NaN</td>\n      <td>NaN</td>\n      <td>NaN</td>\n      <td>NaN</td>\n      <td>NaN</td>\n      <td>27.0</td>\n      <td>2021-07-03 16:43:18.270789</td>\n      <td>2021-07-03 16:44:30.029726</td>\n      <td>6D75-6561-91A5</td>\n      <td>2021-07-03 18:00:00</td>\n      <td>NaN</td>\n      <td>Programming Fundamentals</td>\n      <td>1.0</td>\n    </tr>\n    <tr>\n      <th>26</th>\n      <td>127</td>\n      <td>1.0</td>\n      <td>NaN</td>\n      <td>NaN</td>\n      <td>NaN</td>\n      <td>NaN</td>\n      <td>NaN</td>\n      <td>NaN</td>\n      <td>NaN</td>\n      <td>NaN</td>\n      <td>NaN</td>\n      <td>NaN</td>\n      <td>NaN</td>\n      <td>NaN</td>\n      <td>NaN</td>\n      <td>NaN</td>\n      <td>NaN</td>\n    </tr>\n    <tr>\n      <th>27</th>\n      <td>128</td>\n      <td>1.0</td>\n      <td>NaN</td>\n      <td>NaN</td>\n      <td>NaN</td>\n      <td>NaN</td>\n      <td>NaN</td>\n      <td>NaN</td>\n      <td>NaN</td>\n      <td>NaN</td>\n      <td>NaN</td>\n      <td>NaN</td>\n      <td>NaN</td>\n      <td>NaN</td>\n      <td>NaN</td>\n      <td>NaN</td>\n      <td>NaN</td>\n    </tr>\n    <tr>\n      <th>28</th>\n      <td>52</td>\n      <td>NaN</td>\n      <td>14.0</td>\n      <td>2020-08-21 22:39:05.804872</td>\n      <td>2020-08-21 22:39:05.804872</td>\n      <td>480ca863366</td>\n      <td>0.0</td>\n      <td>10.0</td>\n      <td>NaN</td>\n      <td>NaN</td>\n      <td>NaN</td>\n      <td>NaN</td>\n      <td>NaN</td>\n      <td>NaN</td>\n      <td>NaN</td>\n      <td>NaN</td>\n      <td>NaN</td>\n    </tr>\n    <tr>\n      <th>29</th>\n      <td>52</td>\n      <td>NaN</td>\n      <td>15.0</td>\n      <td>2020-08-21 22:40:10.799194</td>\n      <td>2020-08-21 22:40:10.799194</td>\n      <td>21e21098074</td>\n      <td>0.0</td>\n      <td>10.0</td>\n      <td>NaN</td>\n      <td>NaN</td>\n      <td>NaN</td>\n      <td>NaN</td>\n      <td>NaN</td>\n      <td>NaN</td>\n      <td>NaN</td>\n      <td>NaN</td>\n      <td>NaN</td>\n    </tr>\n    <tr>\n      <th>30</th>\n      <td>52</td>\n      <td>NaN</td>\n      <td>16.0</td>\n      <td>2020-08-21 22:50:12.169842</td>\n      <td>2020-08-21 22:50:12.169842</td>\n      <td>8b3a5fb353d</td>\n      <td>0.0</td>\n      <td>10.0</td>\n      <td>NaN</td>\n      <td>NaN</td>\n      <td>NaN</td>\n      <td>NaN</td>\n      <td>NaN</td>\n      <td>NaN</td>\n      <td>NaN</td>\n      <td>NaN</td>\n      <td>NaN</td>\n    </tr>\n    <tr>\n      <th>31</th>\n      <td>52</td>\n      <td>NaN</td>\n      <td>18.0</td>\n      <td>2020-08-21 23:41:10.461689</td>\n      <td>2020-08-21 23:41:10.461689</td>\n      <td>52c4a5fee5c</td>\n      <td>0.0</td>\n      <td>10.0</td>\n      <td>NaN</td>\n      <td>NaN</td>\n      <td>NaN</td>\n      <td>NaN</td>\n      <td>NaN</td>\n      <td>NaN</td>\n      <td>NaN</td>\n      <td>NaN</td>\n      <td>NaN</td>\n    </tr>\n    <tr>\n      <th>32</th>\n      <td>29</td>\n      <td>NaN</td>\n      <td>NaN</td>\n      <td>NaN</td>\n      <td>NaN</td>\n      <td>NaN</td>\n      <td>NaN</td>\n      <td>NaN</td>\n      <td>NaN</td>\n      <td>8.0</td>\n      <td>2021-04-27 15:10:58.897032</td>\n      <td>2021-04-27 15:10:58.897032</td>\n      <td>C701-F9BB-CFB9</td>\n      <td>2020-02-04 12:00:00</td>\n      <td>NaN</td>\n      <td>Basics of Web Dev</td>\n      <td>1.0</td>\n    </tr>\n    <tr>\n      <th>33</th>\n      <td>49</td>\n      <td>NaN</td>\n      <td>NaN</td>\n      <td>NaN</td>\n      <td>NaN</td>\n      <td>NaN</td>\n      <td>NaN</td>\n      <td>NaN</td>\n      <td>NaN</td>\n      <td>9.0</td>\n      <td>2021-04-27 15:31:06.560011</td>\n      <td>2021-04-27 15:31:06.560011</td>\n      <td>0074-D912-3905</td>\n      <td>2020-02-04 12:00:00</td>\n      <td>NaN</td>\n      <td>Basics of Web Dev</td>\n      <td>1.0</td>\n    </tr>\n    <tr>\n      <th>34</th>\n      <td>46</td>\n      <td>NaN</td>\n      <td>NaN</td>\n      <td>NaN</td>\n      <td>NaN</td>\n      <td>NaN</td>\n      <td>NaN</td>\n      <td>NaN</td>\n      <td>NaN</td>\n      <td>10.0</td>\n      <td>2021-04-27 15:31:59.573788</td>\n      <td>2021-04-27 15:31:59.573788</td>\n      <td>1A0F-DA44-F9BC</td>\n      <td>2020-02-04 12:00:00</td>\n      <td>NaN</td>\n      <td>Basics of Web Dev</td>\n      <td>1.0</td>\n    </tr>\n    <tr>\n      <th>35</th>\n      <td>40</td>\n      <td>NaN</td>\n      <td>NaN</td>\n      <td>NaN</td>\n      <td>NaN</td>\n      <td>NaN</td>\n      <td>NaN</td>\n      <td>NaN</td>\n      <td>NaN</td>\n      <td>11.0</td>\n      <td>2021-04-27 15:33:05.196104</td>\n      <td>2021-04-27 15:33:05.196104</td>\n      <td>1BC6-2CB9-0976</td>\n      <td>2020-02-04 12:00:00</td>\n      <td>NaN</td>\n      <td>Basics of Web Dev</td>\n      <td>1.0</td>\n    </tr>\n    <tr>\n      <th>36</th>\n      <td>5</td>\n      <td>NaN</td>\n      <td>NaN</td>\n      <td>NaN</td>\n      <td>NaN</td>\n      <td>NaN</td>\n      <td>NaN</td>\n      <td>NaN</td>\n      <td>NaN</td>\n      <td>12.0</td>\n      <td>2021-04-27 15:34:05.920007</td>\n      <td>2021-04-27 15:34:05.920007</td>\n      <td>E800-13E7-71AA</td>\n      <td>2020-02-04 12:00:00</td>\n      <td>NaN</td>\n      <td>Basics of Web Dev</td>\n      <td>1.0</td>\n    </tr>\n    <tr>\n      <th>37</th>\n      <td>12</td>\n      <td>NaN</td>\n      <td>NaN</td>\n      <td>NaN</td>\n      <td>NaN</td>\n      <td>NaN</td>\n      <td>NaN</td>\n      <td>NaN</td>\n      <td>NaN</td>\n      <td>13.0</td>\n      <td>2021-04-27 15:34:59.341726</td>\n      <td>2021-04-27 15:34:59.341726</td>\n      <td>D373-78CF-EEB7</td>\n      <td>2020-02-04 12:00:00</td>\n      <td>NaN</td>\n      <td>Basics of Web Dev</td>\n      <td>1.0</td>\n    </tr>\n    <tr>\n      <th>38</th>\n      <td>34</td>\n      <td>NaN</td>\n      <td>NaN</td>\n      <td>NaN</td>\n      <td>NaN</td>\n      <td>NaN</td>\n      <td>NaN</td>\n      <td>NaN</td>\n      <td>NaN</td>\n      <td>14.0</td>\n      <td>2021-04-27 15:36:21.843346</td>\n      <td>2021-04-27 15:36:21.843346</td>\n      <td>0B7B-B2E3-6E14</td>\n      <td>2020-02-04 12:00:00</td>\n      <td>NaN</td>\n      <td>Basics of Web Dev</td>\n      <td>1.0</td>\n    </tr>\n    <tr>\n      <th>39</th>\n      <td>21</td>\n      <td>NaN</td>\n      <td>NaN</td>\n      <td>NaN</td>\n      <td>NaN</td>\n      <td>NaN</td>\n      <td>NaN</td>\n      <td>NaN</td>\n      <td>NaN</td>\n      <td>15.0</td>\n      <td>2021-04-27 15:37:36.823670</td>\n      <td>2021-04-27 15:37:36.823670</td>\n      <td>EE79-539D-B914</td>\n      <td>2020-02-04 12:00:00</td>\n      <td>NaN</td>\n      <td>Basics of Web Dev</td>\n      <td>1.0</td>\n    </tr>\n    <tr>\n      <th>40</th>\n      <td>16</td>\n      <td>NaN</td>\n      <td>NaN</td>\n      <td>NaN</td>\n      <td>NaN</td>\n      <td>NaN</td>\n      <td>NaN</td>\n      <td>NaN</td>\n      <td>NaN</td>\n      <td>16.0</td>\n      <td>2021-04-27 15:38:22.431064</td>\n      <td>2021-04-27 15:38:22.431064</td>\n      <td>1BB2-D367-5037</td>\n      <td>2020-02-04 12:00:00</td>\n      <td>NaN</td>\n      <td>Basics of Web Dev</td>\n      <td>1.0</td>\n    </tr>\n    <tr>\n      <th>41</th>\n      <td>15</td>\n      <td>NaN</td>\n      <td>NaN</td>\n      <td>NaN</td>\n      <td>NaN</td>\n      <td>NaN</td>\n      <td>NaN</td>\n      <td>NaN</td>\n      <td>NaN</td>\n      <td>17.0</td>\n      <td>2021-04-27 15:39:09.665017</td>\n      <td>2021-04-27 15:39:09.665017</td>\n      <td>C48C-08BB-CCF8</td>\n      <td>2020-02-04 12:00:00</td>\n      <td>NaN</td>\n      <td>Basics of Web Dev</td>\n      <td>1.0</td>\n    </tr>\n    <tr>\n      <th>42</th>\n      <td>31</td>\n      <td>NaN</td>\n      <td>NaN</td>\n      <td>NaN</td>\n      <td>NaN</td>\n      <td>NaN</td>\n      <td>NaN</td>\n      <td>NaN</td>\n      <td>NaN</td>\n      <td>18.0</td>\n      <td>2021-04-27 15:41:05.116434</td>\n      <td>2021-04-27 15:41:05.116434</td>\n      <td>4882-1A83-BBB7</td>\n      <td>2020-02-04 12:00:00</td>\n      <td>NaN</td>\n      <td>Basics of Web Dev</td>\n      <td>1.0</td>\n    </tr>\n  </tbody>\n</table>\n</div>"
     },
     "metadata": {}
    }
   ]
  },
  {
   "cell_type": "code",
   "metadata": {
    "cell_id": "00d398791c5d41f99f0bbdb2b2bb7efa",
    "tags": [],
    "deepnote_to_be_reexecuted": false,
    "source_hash": "73d8ab74",
    "execution_start": 1652977577081,
    "execution_millis": 42,
    "deepnote_cell_type": "code",
    "deepnote_cell_height": 531.59375
   },
   "source": "activity_result[activity_result.duplicated(subset='userId', keep=False)]",
   "execution_count": 30,
   "outputs": [
    {
     "output_type": "execute_result",
     "execution_count": 30,
     "data": {
      "application/vnd.deepnote.dataframe.v3+json": {
       "column_count": 17,
       "row_count": 8,
       "columns": [
        {
         "name": "userId",
         "dtype": "int64",
         "stats": {
          "unique_count": 3,
          "nan_count": 0,
          "min": "52",
          "max": "105",
          "histogram": [
           {
            "bin_start": 52,
            "bin_end": 57.3,
            "count": 4
           },
           {
            "bin_start": 57.3,
            "bin_end": 62.6,
            "count": 0
           },
           {
            "bin_start": 62.6,
            "bin_end": 67.9,
            "count": 2
           },
           {
            "bin_start": 67.9,
            "bin_end": 73.2,
            "count": 0
           },
           {
            "bin_start": 73.2,
            "bin_end": 78.5,
            "count": 0
           },
           {
            "bin_start": 78.5,
            "bin_end": 83.8,
            "count": 0
           },
           {
            "bin_start": 83.8,
            "bin_end": 89.1,
            "count": 0
           },
           {
            "bin_start": 89.1,
            "bin_end": 94.4,
            "count": 0
           },
           {
            "bin_start": 94.4,
            "bin_end": 99.69999999999999,
            "count": 0
           },
           {
            "bin_start": 99.69999999999999,
            "bin_end": 105,
            "count": 2
           }
          ]
         }
        },
        {
         "name": "Count of activites",
         "dtype": "float64",
         "stats": {
          "unique_count": 2,
          "nan_count": 4,
          "min": "6.0",
          "max": "17.0",
          "histogram": [
           {
            "bin_start": 6,
            "bin_end": 7.1,
            "count": 2
           },
           {
            "bin_start": 7.1,
            "bin_end": 8.2,
            "count": 0
           },
           {
            "bin_start": 8.2,
            "bin_end": 9.3,
            "count": 0
           },
           {
            "bin_start": 9.3,
            "bin_end": 10.4,
            "count": 0
           },
           {
            "bin_start": 10.4,
            "bin_end": 11.5,
            "count": 0
           },
           {
            "bin_start": 11.5,
            "bin_end": 12.600000000000001,
            "count": 0
           },
           {
            "bin_start": 12.600000000000001,
            "bin_end": 13.700000000000001,
            "count": 0
           },
           {
            "bin_start": 13.700000000000001,
            "bin_end": 14.8,
            "count": 0
           },
           {
            "bin_start": 14.8,
            "bin_end": 15.9,
            "count": 0
           },
           {
            "bin_start": 15.9,
            "bin_end": 17,
            "count": 2
           }
          ]
         }
        },
        {
         "name": "id_x",
         "dtype": "float64",
         "stats": {
          "unique_count": 4,
          "nan_count": 4,
          "min": "14.0",
          "max": "18.0",
          "histogram": [
           {
            "bin_start": 14,
            "bin_end": 14.4,
            "count": 1
           },
           {
            "bin_start": 14.4,
            "bin_end": 14.8,
            "count": 0
           },
           {
            "bin_start": 14.8,
            "bin_end": 15.2,
            "count": 1
           },
           {
            "bin_start": 15.2,
            "bin_end": 15.6,
            "count": 0
           },
           {
            "bin_start": 15.6,
            "bin_end": 16,
            "count": 0
           },
           {
            "bin_start": 16,
            "bin_end": 16.4,
            "count": 1
           },
           {
            "bin_start": 16.4,
            "bin_end": 16.8,
            "count": 0
           },
           {
            "bin_start": 16.8,
            "bin_end": 17.2,
            "count": 0
           },
           {
            "bin_start": 17.2,
            "bin_end": 17.6,
            "count": 0
           },
           {
            "bin_start": 17.6,
            "bin_end": 18,
            "count": 1
           }
          ]
         }
        },
        {
         "name": "created_at_x",
         "dtype": "object",
         "stats": {
          "unique_count": 4,
          "nan_count": 4,
          "categories": [
           {
            "name": "2020-08-21 22:39:05.804872",
            "count": 1
           },
           {
            "name": "3 others",
            "count": 3
           },
           {
            "name": "Missing",
            "count": 4
           }
          ]
         }
        },
        {
         "name": "updated_at_x",
         "dtype": "object",
         "stats": {
          "unique_count": 4,
          "nan_count": 4,
          "categories": [
           {
            "name": "2020-08-21 22:39:05.804872",
            "count": 1
           },
           {
            "name": "3 others",
            "count": 3
           },
           {
            "name": "Missing",
            "count": 4
           }
          ]
         }
        },
        {
         "name": "identifier_x",
         "dtype": "object",
         "stats": {
          "unique_count": 4,
          "nan_count": 4,
          "categories": [
           {
            "name": "480ca863366",
            "count": 1
           },
           {
            "name": "3 others",
            "count": 3
           },
           {
            "name": "Missing",
            "count": 4
           }
          ]
         }
        },
        {
         "name": "totalTimeTaken",
         "dtype": "float64",
         "stats": {
          "unique_count": 1,
          "nan_count": 4,
          "min": "0.0",
          "max": "0.0",
          "histogram": [
           {
            "bin_start": -0.5,
            "bin_end": -0.4,
            "count": 0
           },
           {
            "bin_start": -0.4,
            "bin_end": -0.3,
            "count": 0
           },
           {
            "bin_start": -0.3,
            "bin_end": -0.19999999999999996,
            "count": 0
           },
           {
            "bin_start": -0.19999999999999996,
            "bin_end": -0.09999999999999998,
            "count": 0
           },
           {
            "bin_start": -0.09999999999999998,
            "bin_end": 0,
            "count": 0
           },
           {
            "bin_start": 0,
            "bin_end": 0.10000000000000009,
            "count": 4
           },
           {
            "bin_start": 0.10000000000000009,
            "bin_end": 0.20000000000000007,
            "count": 0
           },
           {
            "bin_start": 0.20000000000000007,
            "bin_end": 0.30000000000000004,
            "count": 0
           },
           {
            "bin_start": 0.30000000000000004,
            "bin_end": 0.4,
            "count": 0
           },
           {
            "bin_start": 0.4,
            "bin_end": 0.5,
            "count": 0
           }
          ]
         }
        },
        {
         "name": "assignmentId",
         "dtype": "float64",
         "stats": {
          "unique_count": 1,
          "nan_count": 4,
          "min": "10.0",
          "max": "10.0",
          "histogram": [
           {
            "bin_start": 9.5,
            "bin_end": 9.6,
            "count": 0
           },
           {
            "bin_start": 9.6,
            "bin_end": 9.7,
            "count": 0
           },
           {
            "bin_start": 9.7,
            "bin_end": 9.8,
            "count": 0
           },
           {
            "bin_start": 9.8,
            "bin_end": 9.9,
            "count": 0
           },
           {
            "bin_start": 9.9,
            "bin_end": 10,
            "count": 0
           },
           {
            "bin_start": 10,
            "bin_end": 10.1,
            "count": 4
           },
           {
            "bin_start": 10.1,
            "bin_end": 10.2,
            "count": 0
           },
           {
            "bin_start": 10.2,
            "bin_end": 10.3,
            "count": 0
           },
           {
            "bin_start": 10.3,
            "bin_end": 10.4,
            "count": 0
           },
           {
            "bin_start": 10.4,
            "bin_end": 10.5,
            "count": 0
           }
          ]
         }
        },
        {
         "name": "snapshotProjectId",
         "dtype": "float64",
         "stats": {
          "unique_count": 0,
          "nan_count": 8,
          "min": null,
          "max": null,
          "histogram": [
           {
            "bin_start": 0,
            "bin_end": 0.1,
            "count": 0
           },
           {
            "bin_start": 0.1,
            "bin_end": 0.2,
            "count": 0
           },
           {
            "bin_start": 0.2,
            "bin_end": 0.30000000000000004,
            "count": 0
           },
           {
            "bin_start": 0.30000000000000004,
            "bin_end": 0.4,
            "count": 0
           },
           {
            "bin_start": 0.4,
            "bin_end": 0.5,
            "count": 0
           },
           {
            "bin_start": 0.5,
            "bin_end": 0.6000000000000001,
            "count": 0
           },
           {
            "bin_start": 0.6000000000000001,
            "bin_end": 0.7000000000000001,
            "count": 0
           },
           {
            "bin_start": 0.7000000000000001,
            "bin_end": 0.8,
            "count": 0
           },
           {
            "bin_start": 0.8,
            "bin_end": 0.9,
            "count": 0
           },
           {
            "bin_start": 0.9,
            "bin_end": 1,
            "count": 0
           }
          ]
         }
        },
        {
         "name": "id_y",
         "dtype": "float64",
         "stats": {
          "unique_count": 4,
          "nan_count": 4,
          "min": "20.0",
          "max": "25.0",
          "histogram": [
           {
            "bin_start": 20,
            "bin_end": 20.5,
            "count": 1
           },
           {
            "bin_start": 20.5,
            "bin_end": 21,
            "count": 0
           },
           {
            "bin_start": 21,
            "bin_end": 21.5,
            "count": 0
           },
           {
            "bin_start": 21.5,
            "bin_end": 22,
            "count": 0
           },
           {
            "bin_start": 22,
            "bin_end": 22.5,
            "count": 0
           },
           {
            "bin_start": 22.5,
            "bin_end": 23,
            "count": 0
           },
           {
            "bin_start": 23,
            "bin_end": 23.5,
            "count": 1
           },
           {
            "bin_start": 23.5,
            "bin_end": 24,
            "count": 0
           },
           {
            "bin_start": 24,
            "bin_end": 24.5,
            "count": 1
           },
           {
            "bin_start": 24.5,
            "bin_end": 25,
            "count": 1
           }
          ]
         }
        },
        {
         "name": "created_at_y",
         "dtype": "object",
         "stats": {
          "unique_count": 4,
          "nan_count": 4,
          "categories": [
           {
            "name": "2021-04-27 19:45:15.250938",
            "count": 1
           },
           {
            "name": "3 others",
            "count": 3
           },
           {
            "name": "Missing",
            "count": 4
           }
          ]
         }
        },
        {
         "name": "updated_at_y",
         "dtype": "object",
         "stats": {
          "unique_count": 4,
          "nan_count": 4,
          "categories": [
           {
            "name": "2021-04-27 19:45:15.250938",
            "count": 1
           },
           {
            "name": "3 others",
            "count": 3
           },
           {
            "name": "Missing",
            "count": 4
           }
          ]
         }
        },
        {
         "name": "identifier_y",
         "dtype": "object",
         "stats": {
          "unique_count": 4,
          "nan_count": 4,
          "categories": [
           {
            "name": "4242-781D-EFFA",
            "count": 1
           },
           {
            "name": "3 others",
            "count": 3
           },
           {
            "name": "Missing",
            "count": 4
           }
          ]
         }
        },
        {
         "name": "grantedOn",
         "dtype": "object",
         "stats": {
          "unique_count": 2,
          "nan_count": 4,
          "categories": [
           {
            "name": "2021-04-27 11:00:00",
            "count": 2
           },
           {
            "name": "2021-07-03 18:00:00",
            "count": 2
           },
           {
            "name": "Missing",
            "count": 4
           }
          ]
         }
        },
        {
         "name": "expiry",
         "dtype": "float64",
         "stats": {
          "unique_count": 0,
          "nan_count": 8,
          "min": null,
          "max": null,
          "histogram": [
           {
            "bin_start": 0,
            "bin_end": 0.1,
            "count": 0
           },
           {
            "bin_start": 0.1,
            "bin_end": 0.2,
            "count": 0
           },
           {
            "bin_start": 0.2,
            "bin_end": 0.30000000000000004,
            "count": 0
           },
           {
            "bin_start": 0.30000000000000004,
            "bin_end": 0.4,
            "count": 0
           },
           {
            "bin_start": 0.4,
            "bin_end": 0.5,
            "count": 0
           },
           {
            "bin_start": 0.5,
            "bin_end": 0.6000000000000001,
            "count": 0
           },
           {
            "bin_start": 0.6000000000000001,
            "bin_end": 0.7000000000000001,
            "count": 0
           },
           {
            "bin_start": 0.7000000000000001,
            "bin_end": 0.8,
            "count": 0
           },
           {
            "bin_start": 0.8,
            "bin_end": 0.9,
            "count": 0
           },
           {
            "bin_start": 0.9,
            "bin_end": 1,
            "count": 0
           }
          ]
         }
        },
        {
         "name": "name",
         "dtype": "object",
         "stats": {
          "unique_count": 2,
          "nan_count": 4,
          "categories": [
           {
            "name": "Intro to Game Dev",
            "count": 2
           },
           {
            "name": "Programming Fundamentals",
            "count": 2
           },
           {
            "name": "Missing",
            "count": 4
           }
          ]
         }
        },
        {
         "name": "hasPreview",
         "dtype": "float64",
         "stats": {
          "unique_count": 1,
          "nan_count": 4,
          "min": "1.0",
          "max": "1.0",
          "histogram": [
           {
            "bin_start": 0.5,
            "bin_end": 0.6,
            "count": 0
           },
           {
            "bin_start": 0.6,
            "bin_end": 0.7,
            "count": 0
           },
           {
            "bin_start": 0.7,
            "bin_end": 0.8,
            "count": 0
           },
           {
            "bin_start": 0.8,
            "bin_end": 0.9,
            "count": 0
           },
           {
            "bin_start": 0.9,
            "bin_end": 1,
            "count": 0
           },
           {
            "bin_start": 1,
            "bin_end": 1.1,
            "count": 4
           },
           {
            "bin_start": 1.1,
            "bin_end": 1.2000000000000002,
            "count": 0
           },
           {
            "bin_start": 1.2000000000000002,
            "bin_end": 1.3,
            "count": 0
           },
           {
            "bin_start": 1.3,
            "bin_end": 1.4,
            "count": 0
           },
           {
            "bin_start": 1.4,
            "bin_end": 1.5,
            "count": 0
           }
          ]
         }
        },
        {
         "name": "_deepnote_index_column",
         "dtype": "int64"
        }
       ],
       "rows": [
        {
         "userId": 105,
         "Count of activites": 17,
         "id_x": "nan",
         "created_at_x": "nan",
         "updated_at_x": "nan",
         "identifier_x": "nan",
         "totalTimeTaken": "nan",
         "assignmentId": "nan",
         "snapshotProjectId": "nan",
         "id_y": 20,
         "created_at_y": "2021-04-27 19:45:15.250938",
         "updated_at_y": "2021-04-27 19:45:15.250938",
         "identifier_y": "4242-781D-EFFA",
         "grantedOn": "2021-04-27 11:00:00",
         "expiry": "nan",
         "name": "Intro to Game Dev",
         "hasPreview": 1,
         "_deepnote_index_column": 5
        },
        {
         "userId": 105,
         "Count of activites": 17,
         "id_x": "nan",
         "created_at_x": "nan",
         "updated_at_x": "nan",
         "identifier_x": "nan",
         "totalTimeTaken": "nan",
         "assignmentId": "nan",
         "snapshotProjectId": "nan",
         "id_y": 24,
         "created_at_y": "2021-07-03 16:39:58.828618",
         "updated_at_y": "2021-07-03 16:44:23.081623",
         "identifier_y": "E76C-204B-4FD3",
         "grantedOn": "2021-07-03 18:00:00",
         "expiry": "nan",
         "name": "Programming Fundamentals",
         "hasPreview": 1,
         "_deepnote_index_column": 6
        },
        {
         "userId": 66,
         "Count of activites": 6,
         "id_x": "nan",
         "created_at_x": "nan",
         "updated_at_x": "nan",
         "identifier_x": "nan",
         "totalTimeTaken": "nan",
         "assignmentId": "nan",
         "snapshotProjectId": "nan",
         "id_y": 23,
         "created_at_y": "2021-04-27 19:47:24.887729",
         "updated_at_y": "2021-04-27 19:47:24.887729",
         "identifier_y": "2BD1-7FF2-0990",
         "grantedOn": "2021-04-27 11:00:00",
         "expiry": "nan",
         "name": "Intro to Game Dev",
         "hasPreview": 1,
         "_deepnote_index_column": 14
        },
        {
         "userId": 66,
         "Count of activites": 6,
         "id_x": "nan",
         "created_at_x": "nan",
         "updated_at_x": "nan",
         "identifier_x": "nan",
         "totalTimeTaken": "nan",
         "assignmentId": "nan",
         "snapshotProjectId": "nan",
         "id_y": 25,
         "created_at_y": "2021-07-03 16:40:51.015941",
         "updated_at_y": "2021-07-03 16:44:25.252063",
         "identifier_y": "E1EE-37C8-45BD",
         "grantedOn": "2021-07-03 18:00:00",
         "expiry": "nan",
         "name": "Programming Fundamentals",
         "hasPreview": 1,
         "_deepnote_index_column": 15
        },
        {
         "userId": 52,
         "Count of activites": "nan",
         "id_x": 14,
         "created_at_x": "2020-08-21 22:39:05.804872",
         "updated_at_x": "2020-08-21 22:39:05.804872",
         "identifier_x": "480ca863366",
         "totalTimeTaken": 0,
         "assignmentId": 10,
         "snapshotProjectId": "nan",
         "id_y": "nan",
         "created_at_y": "nan",
         "updated_at_y": "nan",
         "identifier_y": "nan",
         "grantedOn": "nan",
         "expiry": "nan",
         "name": "nan",
         "hasPreview": "nan",
         "_deepnote_index_column": 28
        },
        {
         "userId": 52,
         "Count of activites": "nan",
         "id_x": 15,
         "created_at_x": "2020-08-21 22:40:10.799194",
         "updated_at_x": "2020-08-21 22:40:10.799194",
         "identifier_x": "21e21098074",
         "totalTimeTaken": 0,
         "assignmentId": 10,
         "snapshotProjectId": "nan",
         "id_y": "nan",
         "created_at_y": "nan",
         "updated_at_y": "nan",
         "identifier_y": "nan",
         "grantedOn": "nan",
         "expiry": "nan",
         "name": "nan",
         "hasPreview": "nan",
         "_deepnote_index_column": 29
        },
        {
         "userId": 52,
         "Count of activites": "nan",
         "id_x": 16,
         "created_at_x": "2020-08-21 22:50:12.169842",
         "updated_at_x": "2020-08-21 22:50:12.169842",
         "identifier_x": "8b3a5fb353d",
         "totalTimeTaken": 0,
         "assignmentId": 10,
         "snapshotProjectId": "nan",
         "id_y": "nan",
         "created_at_y": "nan",
         "updated_at_y": "nan",
         "identifier_y": "nan",
         "grantedOn": "nan",
         "expiry": "nan",
         "name": "nan",
         "hasPreview": "nan",
         "_deepnote_index_column": 30
        },
        {
         "userId": 52,
         "Count of activites": "nan",
         "id_x": 18,
         "created_at_x": "2020-08-21 23:41:10.461689",
         "updated_at_x": "2020-08-21 23:41:10.461689",
         "identifier_x": "52c4a5fee5c",
         "totalTimeTaken": 0,
         "assignmentId": 10,
         "snapshotProjectId": "nan",
         "id_y": "nan",
         "created_at_y": "nan",
         "updated_at_y": "nan",
         "identifier_y": "nan",
         "grantedOn": "nan",
         "expiry": "nan",
         "name": "nan",
         "hasPreview": "nan",
         "_deepnote_index_column": 31
        }
       ]
      },
      "text/plain": "    userId  Count of activites  id_x                created_at_x  \\\n5      105                17.0   NaN                         NaN   \n6      105                17.0   NaN                         NaN   \n14      66                 6.0   NaN                         NaN   \n15      66                 6.0   NaN                         NaN   \n28      52                 NaN  14.0  2020-08-21 22:39:05.804872   \n29      52                 NaN  15.0  2020-08-21 22:40:10.799194   \n30      52                 NaN  16.0  2020-08-21 22:50:12.169842   \n31      52                 NaN  18.0  2020-08-21 23:41:10.461689   \n\n                  updated_at_x identifier_x  totalTimeTaken  assignmentId  \\\n5                          NaN          NaN             NaN           NaN   \n6                          NaN          NaN             NaN           NaN   \n14                         NaN          NaN             NaN           NaN   \n15                         NaN          NaN             NaN           NaN   \n28  2020-08-21 22:39:05.804872  480ca863366             0.0          10.0   \n29  2020-08-21 22:40:10.799194  21e21098074             0.0          10.0   \n30  2020-08-21 22:50:12.169842  8b3a5fb353d             0.0          10.0   \n31  2020-08-21 23:41:10.461689  52c4a5fee5c             0.0          10.0   \n\n    snapshotProjectId  id_y                created_at_y  \\\n5                 NaN  20.0  2021-04-27 19:45:15.250938   \n6                 NaN  24.0  2021-07-03 16:39:58.828618   \n14                NaN  23.0  2021-04-27 19:47:24.887729   \n15                NaN  25.0  2021-07-03 16:40:51.015941   \n28                NaN   NaN                         NaN   \n29                NaN   NaN                         NaN   \n30                NaN   NaN                         NaN   \n31                NaN   NaN                         NaN   \n\n                  updated_at_y    identifier_y            grantedOn  expiry  \\\n5   2021-04-27 19:45:15.250938  4242-781D-EFFA  2021-04-27 11:00:00     NaN   \n6   2021-07-03 16:44:23.081623  E76C-204B-4FD3  2021-07-03 18:00:00     NaN   \n14  2021-04-27 19:47:24.887729  2BD1-7FF2-0990  2021-04-27 11:00:00     NaN   \n15  2021-07-03 16:44:25.252063  E1EE-37C8-45BD  2021-07-03 18:00:00     NaN   \n28                         NaN             NaN                  NaN     NaN   \n29                         NaN             NaN                  NaN     NaN   \n30                         NaN             NaN                  NaN     NaN   \n31                         NaN             NaN                  NaN     NaN   \n\n                        name  hasPreview  \n5          Intro to Game Dev         1.0  \n6   Programming Fundamentals         1.0  \n14         Intro to Game Dev         1.0  \n15  Programming Fundamentals         1.0  \n28                       NaN         NaN  \n29                       NaN         NaN  \n30                       NaN         NaN  \n31                       NaN         NaN  ",
      "text/html": "<div>\n<style scoped>\n    .dataframe tbody tr th:only-of-type {\n        vertical-align: middle;\n    }\n\n    .dataframe tbody tr th {\n        vertical-align: top;\n    }\n\n    .dataframe thead th {\n        text-align: right;\n    }\n</style>\n<table border=\"1\" class=\"dataframe\">\n  <thead>\n    <tr style=\"text-align: right;\">\n      <th></th>\n      <th>userId</th>\n      <th>Count of activites</th>\n      <th>id_x</th>\n      <th>created_at_x</th>\n      <th>updated_at_x</th>\n      <th>identifier_x</th>\n      <th>totalTimeTaken</th>\n      <th>assignmentId</th>\n      <th>snapshotProjectId</th>\n      <th>id_y</th>\n      <th>created_at_y</th>\n      <th>updated_at_y</th>\n      <th>identifier_y</th>\n      <th>grantedOn</th>\n      <th>expiry</th>\n      <th>name</th>\n      <th>hasPreview</th>\n    </tr>\n  </thead>\n  <tbody>\n    <tr>\n      <th>5</th>\n      <td>105</td>\n      <td>17.0</td>\n      <td>NaN</td>\n      <td>NaN</td>\n      <td>NaN</td>\n      <td>NaN</td>\n      <td>NaN</td>\n      <td>NaN</td>\n      <td>NaN</td>\n      <td>20.0</td>\n      <td>2021-04-27 19:45:15.250938</td>\n      <td>2021-04-27 19:45:15.250938</td>\n      <td>4242-781D-EFFA</td>\n      <td>2021-04-27 11:00:00</td>\n      <td>NaN</td>\n      <td>Intro to Game Dev</td>\n      <td>1.0</td>\n    </tr>\n    <tr>\n      <th>6</th>\n      <td>105</td>\n      <td>17.0</td>\n      <td>NaN</td>\n      <td>NaN</td>\n      <td>NaN</td>\n      <td>NaN</td>\n      <td>NaN</td>\n      <td>NaN</td>\n      <td>NaN</td>\n      <td>24.0</td>\n      <td>2021-07-03 16:39:58.828618</td>\n      <td>2021-07-03 16:44:23.081623</td>\n      <td>E76C-204B-4FD3</td>\n      <td>2021-07-03 18:00:00</td>\n      <td>NaN</td>\n      <td>Programming Fundamentals</td>\n      <td>1.0</td>\n    </tr>\n    <tr>\n      <th>14</th>\n      <td>66</td>\n      <td>6.0</td>\n      <td>NaN</td>\n      <td>NaN</td>\n      <td>NaN</td>\n      <td>NaN</td>\n      <td>NaN</td>\n      <td>NaN</td>\n      <td>NaN</td>\n      <td>23.0</td>\n      <td>2021-04-27 19:47:24.887729</td>\n      <td>2021-04-27 19:47:24.887729</td>\n      <td>2BD1-7FF2-0990</td>\n      <td>2021-04-27 11:00:00</td>\n      <td>NaN</td>\n      <td>Intro to Game Dev</td>\n      <td>1.0</td>\n    </tr>\n    <tr>\n      <th>15</th>\n      <td>66</td>\n      <td>6.0</td>\n      <td>NaN</td>\n      <td>NaN</td>\n      <td>NaN</td>\n      <td>NaN</td>\n      <td>NaN</td>\n      <td>NaN</td>\n      <td>NaN</td>\n      <td>25.0</td>\n      <td>2021-07-03 16:40:51.015941</td>\n      <td>2021-07-03 16:44:25.252063</td>\n      <td>E1EE-37C8-45BD</td>\n      <td>2021-07-03 18:00:00</td>\n      <td>NaN</td>\n      <td>Programming Fundamentals</td>\n      <td>1.0</td>\n    </tr>\n    <tr>\n      <th>28</th>\n      <td>52</td>\n      <td>NaN</td>\n      <td>14.0</td>\n      <td>2020-08-21 22:39:05.804872</td>\n      <td>2020-08-21 22:39:05.804872</td>\n      <td>480ca863366</td>\n      <td>0.0</td>\n      <td>10.0</td>\n      <td>NaN</td>\n      <td>NaN</td>\n      <td>NaN</td>\n      <td>NaN</td>\n      <td>NaN</td>\n      <td>NaN</td>\n      <td>NaN</td>\n      <td>NaN</td>\n      <td>NaN</td>\n    </tr>\n    <tr>\n      <th>29</th>\n      <td>52</td>\n      <td>NaN</td>\n      <td>15.0</td>\n      <td>2020-08-21 22:40:10.799194</td>\n      <td>2020-08-21 22:40:10.799194</td>\n      <td>21e21098074</td>\n      <td>0.0</td>\n      <td>10.0</td>\n      <td>NaN</td>\n      <td>NaN</td>\n      <td>NaN</td>\n      <td>NaN</td>\n      <td>NaN</td>\n      <td>NaN</td>\n      <td>NaN</td>\n      <td>NaN</td>\n      <td>NaN</td>\n    </tr>\n    <tr>\n      <th>30</th>\n      <td>52</td>\n      <td>NaN</td>\n      <td>16.0</td>\n      <td>2020-08-21 22:50:12.169842</td>\n      <td>2020-08-21 22:50:12.169842</td>\n      <td>8b3a5fb353d</td>\n      <td>0.0</td>\n      <td>10.0</td>\n      <td>NaN</td>\n      <td>NaN</td>\n      <td>NaN</td>\n      <td>NaN</td>\n      <td>NaN</td>\n      <td>NaN</td>\n      <td>NaN</td>\n      <td>NaN</td>\n      <td>NaN</td>\n    </tr>\n    <tr>\n      <th>31</th>\n      <td>52</td>\n      <td>NaN</td>\n      <td>18.0</td>\n      <td>2020-08-21 23:41:10.461689</td>\n      <td>2020-08-21 23:41:10.461689</td>\n      <td>52c4a5fee5c</td>\n      <td>0.0</td>\n      <td>10.0</td>\n      <td>NaN</td>\n      <td>NaN</td>\n      <td>NaN</td>\n      <td>NaN</td>\n      <td>NaN</td>\n      <td>NaN</td>\n      <td>NaN</td>\n      <td>NaN</td>\n      <td>NaN</td>\n    </tr>\n  </tbody>\n</table>\n</div>"
     },
     "metadata": {}
    }
   ]
  },
  {
   "cell_type": "code",
   "metadata": {
    "cell_id": "034d13905f1c444288d8f68f43e97afa",
    "tags": [],
    "deepnote_to_be_reexecuted": false,
    "source_hash": "73d8ab74",
    "execution_start": 1652977577128,
    "execution_millis": 76,
    "deepnote_cell_type": "code",
    "deepnote_cell_height": 531.59375
   },
   "source": "activity_result[activity_result.duplicated(subset='userId', keep=False)]",
   "execution_count": 31,
   "outputs": [
    {
     "output_type": "execute_result",
     "execution_count": 31,
     "data": {
      "application/vnd.deepnote.dataframe.v3+json": {
       "column_count": 17,
       "row_count": 8,
       "columns": [
        {
         "name": "userId",
         "dtype": "int64",
         "stats": {
          "unique_count": 3,
          "nan_count": 0,
          "min": "52",
          "max": "105",
          "histogram": [
           {
            "bin_start": 52,
            "bin_end": 57.3,
            "count": 4
           },
           {
            "bin_start": 57.3,
            "bin_end": 62.6,
            "count": 0
           },
           {
            "bin_start": 62.6,
            "bin_end": 67.9,
            "count": 2
           },
           {
            "bin_start": 67.9,
            "bin_end": 73.2,
            "count": 0
           },
           {
            "bin_start": 73.2,
            "bin_end": 78.5,
            "count": 0
           },
           {
            "bin_start": 78.5,
            "bin_end": 83.8,
            "count": 0
           },
           {
            "bin_start": 83.8,
            "bin_end": 89.1,
            "count": 0
           },
           {
            "bin_start": 89.1,
            "bin_end": 94.4,
            "count": 0
           },
           {
            "bin_start": 94.4,
            "bin_end": 99.69999999999999,
            "count": 0
           },
           {
            "bin_start": 99.69999999999999,
            "bin_end": 105,
            "count": 2
           }
          ]
         }
        },
        {
         "name": "Count of activites",
         "dtype": "float64",
         "stats": {
          "unique_count": 2,
          "nan_count": 4,
          "min": "6.0",
          "max": "17.0",
          "histogram": [
           {
            "bin_start": 6,
            "bin_end": 7.1,
            "count": 2
           },
           {
            "bin_start": 7.1,
            "bin_end": 8.2,
            "count": 0
           },
           {
            "bin_start": 8.2,
            "bin_end": 9.3,
            "count": 0
           },
           {
            "bin_start": 9.3,
            "bin_end": 10.4,
            "count": 0
           },
           {
            "bin_start": 10.4,
            "bin_end": 11.5,
            "count": 0
           },
           {
            "bin_start": 11.5,
            "bin_end": 12.600000000000001,
            "count": 0
           },
           {
            "bin_start": 12.600000000000001,
            "bin_end": 13.700000000000001,
            "count": 0
           },
           {
            "bin_start": 13.700000000000001,
            "bin_end": 14.8,
            "count": 0
           },
           {
            "bin_start": 14.8,
            "bin_end": 15.9,
            "count": 0
           },
           {
            "bin_start": 15.9,
            "bin_end": 17,
            "count": 2
           }
          ]
         }
        },
        {
         "name": "id_x",
         "dtype": "float64",
         "stats": {
          "unique_count": 4,
          "nan_count": 4,
          "min": "14.0",
          "max": "18.0",
          "histogram": [
           {
            "bin_start": 14,
            "bin_end": 14.4,
            "count": 1
           },
           {
            "bin_start": 14.4,
            "bin_end": 14.8,
            "count": 0
           },
           {
            "bin_start": 14.8,
            "bin_end": 15.2,
            "count": 1
           },
           {
            "bin_start": 15.2,
            "bin_end": 15.6,
            "count": 0
           },
           {
            "bin_start": 15.6,
            "bin_end": 16,
            "count": 0
           },
           {
            "bin_start": 16,
            "bin_end": 16.4,
            "count": 1
           },
           {
            "bin_start": 16.4,
            "bin_end": 16.8,
            "count": 0
           },
           {
            "bin_start": 16.8,
            "bin_end": 17.2,
            "count": 0
           },
           {
            "bin_start": 17.2,
            "bin_end": 17.6,
            "count": 0
           },
           {
            "bin_start": 17.6,
            "bin_end": 18,
            "count": 1
           }
          ]
         }
        },
        {
         "name": "created_at_x",
         "dtype": "object",
         "stats": {
          "unique_count": 4,
          "nan_count": 4,
          "categories": [
           {
            "name": "2020-08-21 22:39:05.804872",
            "count": 1
           },
           {
            "name": "3 others",
            "count": 3
           },
           {
            "name": "Missing",
            "count": 4
           }
          ]
         }
        },
        {
         "name": "updated_at_x",
         "dtype": "object",
         "stats": {
          "unique_count": 4,
          "nan_count": 4,
          "categories": [
           {
            "name": "2020-08-21 22:39:05.804872",
            "count": 1
           },
           {
            "name": "3 others",
            "count": 3
           },
           {
            "name": "Missing",
            "count": 4
           }
          ]
         }
        },
        {
         "name": "identifier_x",
         "dtype": "object",
         "stats": {
          "unique_count": 4,
          "nan_count": 4,
          "categories": [
           {
            "name": "480ca863366",
            "count": 1
           },
           {
            "name": "3 others",
            "count": 3
           },
           {
            "name": "Missing",
            "count": 4
           }
          ]
         }
        },
        {
         "name": "totalTimeTaken",
         "dtype": "float64",
         "stats": {
          "unique_count": 1,
          "nan_count": 4,
          "min": "0.0",
          "max": "0.0",
          "histogram": [
           {
            "bin_start": -0.5,
            "bin_end": -0.4,
            "count": 0
           },
           {
            "bin_start": -0.4,
            "bin_end": -0.3,
            "count": 0
           },
           {
            "bin_start": -0.3,
            "bin_end": -0.19999999999999996,
            "count": 0
           },
           {
            "bin_start": -0.19999999999999996,
            "bin_end": -0.09999999999999998,
            "count": 0
           },
           {
            "bin_start": -0.09999999999999998,
            "bin_end": 0,
            "count": 0
           },
           {
            "bin_start": 0,
            "bin_end": 0.10000000000000009,
            "count": 4
           },
           {
            "bin_start": 0.10000000000000009,
            "bin_end": 0.20000000000000007,
            "count": 0
           },
           {
            "bin_start": 0.20000000000000007,
            "bin_end": 0.30000000000000004,
            "count": 0
           },
           {
            "bin_start": 0.30000000000000004,
            "bin_end": 0.4,
            "count": 0
           },
           {
            "bin_start": 0.4,
            "bin_end": 0.5,
            "count": 0
           }
          ]
         }
        },
        {
         "name": "assignmentId",
         "dtype": "float64",
         "stats": {
          "unique_count": 1,
          "nan_count": 4,
          "min": "10.0",
          "max": "10.0",
          "histogram": [
           {
            "bin_start": 9.5,
            "bin_end": 9.6,
            "count": 0
           },
           {
            "bin_start": 9.6,
            "bin_end": 9.7,
            "count": 0
           },
           {
            "bin_start": 9.7,
            "bin_end": 9.8,
            "count": 0
           },
           {
            "bin_start": 9.8,
            "bin_end": 9.9,
            "count": 0
           },
           {
            "bin_start": 9.9,
            "bin_end": 10,
            "count": 0
           },
           {
            "bin_start": 10,
            "bin_end": 10.1,
            "count": 4
           },
           {
            "bin_start": 10.1,
            "bin_end": 10.2,
            "count": 0
           },
           {
            "bin_start": 10.2,
            "bin_end": 10.3,
            "count": 0
           },
           {
            "bin_start": 10.3,
            "bin_end": 10.4,
            "count": 0
           },
           {
            "bin_start": 10.4,
            "bin_end": 10.5,
            "count": 0
           }
          ]
         }
        },
        {
         "name": "snapshotProjectId",
         "dtype": "float64",
         "stats": {
          "unique_count": 0,
          "nan_count": 8,
          "min": null,
          "max": null,
          "histogram": [
           {
            "bin_start": 0,
            "bin_end": 0.1,
            "count": 0
           },
           {
            "bin_start": 0.1,
            "bin_end": 0.2,
            "count": 0
           },
           {
            "bin_start": 0.2,
            "bin_end": 0.30000000000000004,
            "count": 0
           },
           {
            "bin_start": 0.30000000000000004,
            "bin_end": 0.4,
            "count": 0
           },
           {
            "bin_start": 0.4,
            "bin_end": 0.5,
            "count": 0
           },
           {
            "bin_start": 0.5,
            "bin_end": 0.6000000000000001,
            "count": 0
           },
           {
            "bin_start": 0.6000000000000001,
            "bin_end": 0.7000000000000001,
            "count": 0
           },
           {
            "bin_start": 0.7000000000000001,
            "bin_end": 0.8,
            "count": 0
           },
           {
            "bin_start": 0.8,
            "bin_end": 0.9,
            "count": 0
           },
           {
            "bin_start": 0.9,
            "bin_end": 1,
            "count": 0
           }
          ]
         }
        },
        {
         "name": "id_y",
         "dtype": "float64",
         "stats": {
          "unique_count": 4,
          "nan_count": 4,
          "min": "20.0",
          "max": "25.0",
          "histogram": [
           {
            "bin_start": 20,
            "bin_end": 20.5,
            "count": 1
           },
           {
            "bin_start": 20.5,
            "bin_end": 21,
            "count": 0
           },
           {
            "bin_start": 21,
            "bin_end": 21.5,
            "count": 0
           },
           {
            "bin_start": 21.5,
            "bin_end": 22,
            "count": 0
           },
           {
            "bin_start": 22,
            "bin_end": 22.5,
            "count": 0
           },
           {
            "bin_start": 22.5,
            "bin_end": 23,
            "count": 0
           },
           {
            "bin_start": 23,
            "bin_end": 23.5,
            "count": 1
           },
           {
            "bin_start": 23.5,
            "bin_end": 24,
            "count": 0
           },
           {
            "bin_start": 24,
            "bin_end": 24.5,
            "count": 1
           },
           {
            "bin_start": 24.5,
            "bin_end": 25,
            "count": 1
           }
          ]
         }
        },
        {
         "name": "created_at_y",
         "dtype": "object",
         "stats": {
          "unique_count": 4,
          "nan_count": 4,
          "categories": [
           {
            "name": "2021-04-27 19:45:15.250938",
            "count": 1
           },
           {
            "name": "3 others",
            "count": 3
           },
           {
            "name": "Missing",
            "count": 4
           }
          ]
         }
        },
        {
         "name": "updated_at_y",
         "dtype": "object",
         "stats": {
          "unique_count": 4,
          "nan_count": 4,
          "categories": [
           {
            "name": "2021-04-27 19:45:15.250938",
            "count": 1
           },
           {
            "name": "3 others",
            "count": 3
           },
           {
            "name": "Missing",
            "count": 4
           }
          ]
         }
        },
        {
         "name": "identifier_y",
         "dtype": "object",
         "stats": {
          "unique_count": 4,
          "nan_count": 4,
          "categories": [
           {
            "name": "4242-781D-EFFA",
            "count": 1
           },
           {
            "name": "3 others",
            "count": 3
           },
           {
            "name": "Missing",
            "count": 4
           }
          ]
         }
        },
        {
         "name": "grantedOn",
         "dtype": "object",
         "stats": {
          "unique_count": 2,
          "nan_count": 4,
          "categories": [
           {
            "name": "2021-04-27 11:00:00",
            "count": 2
           },
           {
            "name": "2021-07-03 18:00:00",
            "count": 2
           },
           {
            "name": "Missing",
            "count": 4
           }
          ]
         }
        },
        {
         "name": "expiry",
         "dtype": "float64",
         "stats": {
          "unique_count": 0,
          "nan_count": 8,
          "min": null,
          "max": null,
          "histogram": [
           {
            "bin_start": 0,
            "bin_end": 0.1,
            "count": 0
           },
           {
            "bin_start": 0.1,
            "bin_end": 0.2,
            "count": 0
           },
           {
            "bin_start": 0.2,
            "bin_end": 0.30000000000000004,
            "count": 0
           },
           {
            "bin_start": 0.30000000000000004,
            "bin_end": 0.4,
            "count": 0
           },
           {
            "bin_start": 0.4,
            "bin_end": 0.5,
            "count": 0
           },
           {
            "bin_start": 0.5,
            "bin_end": 0.6000000000000001,
            "count": 0
           },
           {
            "bin_start": 0.6000000000000001,
            "bin_end": 0.7000000000000001,
            "count": 0
           },
           {
            "bin_start": 0.7000000000000001,
            "bin_end": 0.8,
            "count": 0
           },
           {
            "bin_start": 0.8,
            "bin_end": 0.9,
            "count": 0
           },
           {
            "bin_start": 0.9,
            "bin_end": 1,
            "count": 0
           }
          ]
         }
        },
        {
         "name": "name",
         "dtype": "object",
         "stats": {
          "unique_count": 2,
          "nan_count": 4,
          "categories": [
           {
            "name": "Intro to Game Dev",
            "count": 2
           },
           {
            "name": "Programming Fundamentals",
            "count": 2
           },
           {
            "name": "Missing",
            "count": 4
           }
          ]
         }
        },
        {
         "name": "hasPreview",
         "dtype": "float64",
         "stats": {
          "unique_count": 1,
          "nan_count": 4,
          "min": "1.0",
          "max": "1.0",
          "histogram": [
           {
            "bin_start": 0.5,
            "bin_end": 0.6,
            "count": 0
           },
           {
            "bin_start": 0.6,
            "bin_end": 0.7,
            "count": 0
           },
           {
            "bin_start": 0.7,
            "bin_end": 0.8,
            "count": 0
           },
           {
            "bin_start": 0.8,
            "bin_end": 0.9,
            "count": 0
           },
           {
            "bin_start": 0.9,
            "bin_end": 1,
            "count": 0
           },
           {
            "bin_start": 1,
            "bin_end": 1.1,
            "count": 4
           },
           {
            "bin_start": 1.1,
            "bin_end": 1.2000000000000002,
            "count": 0
           },
           {
            "bin_start": 1.2000000000000002,
            "bin_end": 1.3,
            "count": 0
           },
           {
            "bin_start": 1.3,
            "bin_end": 1.4,
            "count": 0
           },
           {
            "bin_start": 1.4,
            "bin_end": 1.5,
            "count": 0
           }
          ]
         }
        },
        {
         "name": "_deepnote_index_column",
         "dtype": "int64"
        }
       ],
       "rows": [
        {
         "userId": 105,
         "Count of activites": 17,
         "id_x": "nan",
         "created_at_x": "nan",
         "updated_at_x": "nan",
         "identifier_x": "nan",
         "totalTimeTaken": "nan",
         "assignmentId": "nan",
         "snapshotProjectId": "nan",
         "id_y": 20,
         "created_at_y": "2021-04-27 19:45:15.250938",
         "updated_at_y": "2021-04-27 19:45:15.250938",
         "identifier_y": "4242-781D-EFFA",
         "grantedOn": "2021-04-27 11:00:00",
         "expiry": "nan",
         "name": "Intro to Game Dev",
         "hasPreview": 1,
         "_deepnote_index_column": 5
        },
        {
         "userId": 105,
         "Count of activites": 17,
         "id_x": "nan",
         "created_at_x": "nan",
         "updated_at_x": "nan",
         "identifier_x": "nan",
         "totalTimeTaken": "nan",
         "assignmentId": "nan",
         "snapshotProjectId": "nan",
         "id_y": 24,
         "created_at_y": "2021-07-03 16:39:58.828618",
         "updated_at_y": "2021-07-03 16:44:23.081623",
         "identifier_y": "E76C-204B-4FD3",
         "grantedOn": "2021-07-03 18:00:00",
         "expiry": "nan",
         "name": "Programming Fundamentals",
         "hasPreview": 1,
         "_deepnote_index_column": 6
        },
        {
         "userId": 66,
         "Count of activites": 6,
         "id_x": "nan",
         "created_at_x": "nan",
         "updated_at_x": "nan",
         "identifier_x": "nan",
         "totalTimeTaken": "nan",
         "assignmentId": "nan",
         "snapshotProjectId": "nan",
         "id_y": 23,
         "created_at_y": "2021-04-27 19:47:24.887729",
         "updated_at_y": "2021-04-27 19:47:24.887729",
         "identifier_y": "2BD1-7FF2-0990",
         "grantedOn": "2021-04-27 11:00:00",
         "expiry": "nan",
         "name": "Intro to Game Dev",
         "hasPreview": 1,
         "_deepnote_index_column": 14
        },
        {
         "userId": 66,
         "Count of activites": 6,
         "id_x": "nan",
         "created_at_x": "nan",
         "updated_at_x": "nan",
         "identifier_x": "nan",
         "totalTimeTaken": "nan",
         "assignmentId": "nan",
         "snapshotProjectId": "nan",
         "id_y": 25,
         "created_at_y": "2021-07-03 16:40:51.015941",
         "updated_at_y": "2021-07-03 16:44:25.252063",
         "identifier_y": "E1EE-37C8-45BD",
         "grantedOn": "2021-07-03 18:00:00",
         "expiry": "nan",
         "name": "Programming Fundamentals",
         "hasPreview": 1,
         "_deepnote_index_column": 15
        },
        {
         "userId": 52,
         "Count of activites": "nan",
         "id_x": 14,
         "created_at_x": "2020-08-21 22:39:05.804872",
         "updated_at_x": "2020-08-21 22:39:05.804872",
         "identifier_x": "480ca863366",
         "totalTimeTaken": 0,
         "assignmentId": 10,
         "snapshotProjectId": "nan",
         "id_y": "nan",
         "created_at_y": "nan",
         "updated_at_y": "nan",
         "identifier_y": "nan",
         "grantedOn": "nan",
         "expiry": "nan",
         "name": "nan",
         "hasPreview": "nan",
         "_deepnote_index_column": 28
        },
        {
         "userId": 52,
         "Count of activites": "nan",
         "id_x": 15,
         "created_at_x": "2020-08-21 22:40:10.799194",
         "updated_at_x": "2020-08-21 22:40:10.799194",
         "identifier_x": "21e21098074",
         "totalTimeTaken": 0,
         "assignmentId": 10,
         "snapshotProjectId": "nan",
         "id_y": "nan",
         "created_at_y": "nan",
         "updated_at_y": "nan",
         "identifier_y": "nan",
         "grantedOn": "nan",
         "expiry": "nan",
         "name": "nan",
         "hasPreview": "nan",
         "_deepnote_index_column": 29
        },
        {
         "userId": 52,
         "Count of activites": "nan",
         "id_x": 16,
         "created_at_x": "2020-08-21 22:50:12.169842",
         "updated_at_x": "2020-08-21 22:50:12.169842",
         "identifier_x": "8b3a5fb353d",
         "totalTimeTaken": 0,
         "assignmentId": 10,
         "snapshotProjectId": "nan",
         "id_y": "nan",
         "created_at_y": "nan",
         "updated_at_y": "nan",
         "identifier_y": "nan",
         "grantedOn": "nan",
         "expiry": "nan",
         "name": "nan",
         "hasPreview": "nan",
         "_deepnote_index_column": 30
        },
        {
         "userId": 52,
         "Count of activites": "nan",
         "id_x": 18,
         "created_at_x": "2020-08-21 23:41:10.461689",
         "updated_at_x": "2020-08-21 23:41:10.461689",
         "identifier_x": "52c4a5fee5c",
         "totalTimeTaken": 0,
         "assignmentId": 10,
         "snapshotProjectId": "nan",
         "id_y": "nan",
         "created_at_y": "nan",
         "updated_at_y": "nan",
         "identifier_y": "nan",
         "grantedOn": "nan",
         "expiry": "nan",
         "name": "nan",
         "hasPreview": "nan",
         "_deepnote_index_column": 31
        }
       ]
      },
      "text/plain": "    userId  Count of activites  id_x                created_at_x  \\\n5      105                17.0   NaN                         NaN   \n6      105                17.0   NaN                         NaN   \n14      66                 6.0   NaN                         NaN   \n15      66                 6.0   NaN                         NaN   \n28      52                 NaN  14.0  2020-08-21 22:39:05.804872   \n29      52                 NaN  15.0  2020-08-21 22:40:10.799194   \n30      52                 NaN  16.0  2020-08-21 22:50:12.169842   \n31      52                 NaN  18.0  2020-08-21 23:41:10.461689   \n\n                  updated_at_x identifier_x  totalTimeTaken  assignmentId  \\\n5                          NaN          NaN             NaN           NaN   \n6                          NaN          NaN             NaN           NaN   \n14                         NaN          NaN             NaN           NaN   \n15                         NaN          NaN             NaN           NaN   \n28  2020-08-21 22:39:05.804872  480ca863366             0.0          10.0   \n29  2020-08-21 22:40:10.799194  21e21098074             0.0          10.0   \n30  2020-08-21 22:50:12.169842  8b3a5fb353d             0.0          10.0   \n31  2020-08-21 23:41:10.461689  52c4a5fee5c             0.0          10.0   \n\n    snapshotProjectId  id_y                created_at_y  \\\n5                 NaN  20.0  2021-04-27 19:45:15.250938   \n6                 NaN  24.0  2021-07-03 16:39:58.828618   \n14                NaN  23.0  2021-04-27 19:47:24.887729   \n15                NaN  25.0  2021-07-03 16:40:51.015941   \n28                NaN   NaN                         NaN   \n29                NaN   NaN                         NaN   \n30                NaN   NaN                         NaN   \n31                NaN   NaN                         NaN   \n\n                  updated_at_y    identifier_y            grantedOn  expiry  \\\n5   2021-04-27 19:45:15.250938  4242-781D-EFFA  2021-04-27 11:00:00     NaN   \n6   2021-07-03 16:44:23.081623  E76C-204B-4FD3  2021-07-03 18:00:00     NaN   \n14  2021-04-27 19:47:24.887729  2BD1-7FF2-0990  2021-04-27 11:00:00     NaN   \n15  2021-07-03 16:44:25.252063  E1EE-37C8-45BD  2021-07-03 18:00:00     NaN   \n28                         NaN             NaN                  NaN     NaN   \n29                         NaN             NaN                  NaN     NaN   \n30                         NaN             NaN                  NaN     NaN   \n31                         NaN             NaN                  NaN     NaN   \n\n                        name  hasPreview  \n5          Intro to Game Dev         1.0  \n6   Programming Fundamentals         1.0  \n14         Intro to Game Dev         1.0  \n15  Programming Fundamentals         1.0  \n28                       NaN         NaN  \n29                       NaN         NaN  \n30                       NaN         NaN  \n31                       NaN         NaN  ",
      "text/html": "<div>\n<style scoped>\n    .dataframe tbody tr th:only-of-type {\n        vertical-align: middle;\n    }\n\n    .dataframe tbody tr th {\n        vertical-align: top;\n    }\n\n    .dataframe thead th {\n        text-align: right;\n    }\n</style>\n<table border=\"1\" class=\"dataframe\">\n  <thead>\n    <tr style=\"text-align: right;\">\n      <th></th>\n      <th>userId</th>\n      <th>Count of activites</th>\n      <th>id_x</th>\n      <th>created_at_x</th>\n      <th>updated_at_x</th>\n      <th>identifier_x</th>\n      <th>totalTimeTaken</th>\n      <th>assignmentId</th>\n      <th>snapshotProjectId</th>\n      <th>id_y</th>\n      <th>created_at_y</th>\n      <th>updated_at_y</th>\n      <th>identifier_y</th>\n      <th>grantedOn</th>\n      <th>expiry</th>\n      <th>name</th>\n      <th>hasPreview</th>\n    </tr>\n  </thead>\n  <tbody>\n    <tr>\n      <th>5</th>\n      <td>105</td>\n      <td>17.0</td>\n      <td>NaN</td>\n      <td>NaN</td>\n      <td>NaN</td>\n      <td>NaN</td>\n      <td>NaN</td>\n      <td>NaN</td>\n      <td>NaN</td>\n      <td>20.0</td>\n      <td>2021-04-27 19:45:15.250938</td>\n      <td>2021-04-27 19:45:15.250938</td>\n      <td>4242-781D-EFFA</td>\n      <td>2021-04-27 11:00:00</td>\n      <td>NaN</td>\n      <td>Intro to Game Dev</td>\n      <td>1.0</td>\n    </tr>\n    <tr>\n      <th>6</th>\n      <td>105</td>\n      <td>17.0</td>\n      <td>NaN</td>\n      <td>NaN</td>\n      <td>NaN</td>\n      <td>NaN</td>\n      <td>NaN</td>\n      <td>NaN</td>\n      <td>NaN</td>\n      <td>24.0</td>\n      <td>2021-07-03 16:39:58.828618</td>\n      <td>2021-07-03 16:44:23.081623</td>\n      <td>E76C-204B-4FD3</td>\n      <td>2021-07-03 18:00:00</td>\n      <td>NaN</td>\n      <td>Programming Fundamentals</td>\n      <td>1.0</td>\n    </tr>\n    <tr>\n      <th>14</th>\n      <td>66</td>\n      <td>6.0</td>\n      <td>NaN</td>\n      <td>NaN</td>\n      <td>NaN</td>\n      <td>NaN</td>\n      <td>NaN</td>\n      <td>NaN</td>\n      <td>NaN</td>\n      <td>23.0</td>\n      <td>2021-04-27 19:47:24.887729</td>\n      <td>2021-04-27 19:47:24.887729</td>\n      <td>2BD1-7FF2-0990</td>\n      <td>2021-04-27 11:00:00</td>\n      <td>NaN</td>\n      <td>Intro to Game Dev</td>\n      <td>1.0</td>\n    </tr>\n    <tr>\n      <th>15</th>\n      <td>66</td>\n      <td>6.0</td>\n      <td>NaN</td>\n      <td>NaN</td>\n      <td>NaN</td>\n      <td>NaN</td>\n      <td>NaN</td>\n      <td>NaN</td>\n      <td>NaN</td>\n      <td>25.0</td>\n      <td>2021-07-03 16:40:51.015941</td>\n      <td>2021-07-03 16:44:25.252063</td>\n      <td>E1EE-37C8-45BD</td>\n      <td>2021-07-03 18:00:00</td>\n      <td>NaN</td>\n      <td>Programming Fundamentals</td>\n      <td>1.0</td>\n    </tr>\n    <tr>\n      <th>28</th>\n      <td>52</td>\n      <td>NaN</td>\n      <td>14.0</td>\n      <td>2020-08-21 22:39:05.804872</td>\n      <td>2020-08-21 22:39:05.804872</td>\n      <td>480ca863366</td>\n      <td>0.0</td>\n      <td>10.0</td>\n      <td>NaN</td>\n      <td>NaN</td>\n      <td>NaN</td>\n      <td>NaN</td>\n      <td>NaN</td>\n      <td>NaN</td>\n      <td>NaN</td>\n      <td>NaN</td>\n      <td>NaN</td>\n    </tr>\n    <tr>\n      <th>29</th>\n      <td>52</td>\n      <td>NaN</td>\n      <td>15.0</td>\n      <td>2020-08-21 22:40:10.799194</td>\n      <td>2020-08-21 22:40:10.799194</td>\n      <td>21e21098074</td>\n      <td>0.0</td>\n      <td>10.0</td>\n      <td>NaN</td>\n      <td>NaN</td>\n      <td>NaN</td>\n      <td>NaN</td>\n      <td>NaN</td>\n      <td>NaN</td>\n      <td>NaN</td>\n      <td>NaN</td>\n      <td>NaN</td>\n    </tr>\n    <tr>\n      <th>30</th>\n      <td>52</td>\n      <td>NaN</td>\n      <td>16.0</td>\n      <td>2020-08-21 22:50:12.169842</td>\n      <td>2020-08-21 22:50:12.169842</td>\n      <td>8b3a5fb353d</td>\n      <td>0.0</td>\n      <td>10.0</td>\n      <td>NaN</td>\n      <td>NaN</td>\n      <td>NaN</td>\n      <td>NaN</td>\n      <td>NaN</td>\n      <td>NaN</td>\n      <td>NaN</td>\n      <td>NaN</td>\n      <td>NaN</td>\n    </tr>\n    <tr>\n      <th>31</th>\n      <td>52</td>\n      <td>NaN</td>\n      <td>18.0</td>\n      <td>2020-08-21 23:41:10.461689</td>\n      <td>2020-08-21 23:41:10.461689</td>\n      <td>52c4a5fee5c</td>\n      <td>0.0</td>\n      <td>10.0</td>\n      <td>NaN</td>\n      <td>NaN</td>\n      <td>NaN</td>\n      <td>NaN</td>\n      <td>NaN</td>\n      <td>NaN</td>\n      <td>NaN</td>\n      <td>NaN</td>\n      <td>NaN</td>\n    </tr>\n  </tbody>\n</table>\n</div>"
     },
     "metadata": {}
    }
   ]
  },
  {
   "cell_type": "code",
   "metadata": {
    "cell_id": "f5a27e4dced84104bf283ea9f6206770",
    "tags": [],
    "deepnote_to_be_reexecuted": false,
    "source_hash": "8c1c802d",
    "execution_start": 1652977577234,
    "execution_millis": 660,
    "deepnote_cell_type": "code",
    "deepnote_cell_height": 631.59375
   },
   "source": "activity_result = activity_result.drop_duplicates(subset='userId', keep='last')\nactivity_result",
   "execution_count": 32,
   "outputs": [
    {
     "output_type": "execute_result",
     "execution_count": 32,
     "data": {
      "application/vnd.deepnote.dataframe.v3+json": {
       "column_count": 17,
       "row_count": 38,
       "columns": [
        {
         "name": "userId",
         "dtype": "int64",
         "stats": {
          "unique_count": 38,
          "nan_count": 0,
          "min": "1",
          "max": "131",
          "histogram": [
           {
            "bin_start": 1,
            "bin_end": 14,
            "count": 5
           },
           {
            "bin_start": 14,
            "bin_end": 27,
            "count": 3
           },
           {
            "bin_start": 27,
            "bin_end": 40,
            "count": 3
           },
           {
            "bin_start": 40,
            "bin_end": 53,
            "count": 4
           },
           {
            "bin_start": 53,
            "bin_end": 66,
            "count": 1
           },
           {
            "bin_start": 66,
            "bin_end": 79,
            "count": 3
           },
           {
            "bin_start": 79,
            "bin_end": 92,
            "count": 3
           },
           {
            "bin_start": 92,
            "bin_end": 105,
            "count": 0
           },
           {
            "bin_start": 105,
            "bin_end": 118,
            "count": 5
           },
           {
            "bin_start": 118,
            "bin_end": 131,
            "count": 11
           }
          ]
         }
        },
        {
         "name": "Count of activites",
         "dtype": "float64",
         "stats": {
          "unique_count": 17,
          "nan_count": 12,
          "min": "1.0",
          "max": "210.0",
          "histogram": [
           {
            "bin_start": 1,
            "bin_end": 21.9,
            "count": 21
           },
           {
            "bin_start": 21.9,
            "bin_end": 42.8,
            "count": 3
           },
           {
            "bin_start": 42.8,
            "bin_end": 63.699999999999996,
            "count": 0
           },
           {
            "bin_start": 63.699999999999996,
            "bin_end": 84.6,
            "count": 1
           },
           {
            "bin_start": 84.6,
            "bin_end": 105.5,
            "count": 0
           },
           {
            "bin_start": 105.5,
            "bin_end": 126.39999999999999,
            "count": 0
           },
           {
            "bin_start": 126.39999999999999,
            "bin_end": 147.29999999999998,
            "count": 0
           },
           {
            "bin_start": 147.29999999999998,
            "bin_end": 168.2,
            "count": 0
           },
           {
            "bin_start": 168.2,
            "bin_end": 189.1,
            "count": 0
           },
           {
            "bin_start": 189.1,
            "bin_end": 210,
            "count": 1
           }
          ]
         }
        },
        {
         "name": "id_x",
         "dtype": "float64",
         "stats": {
          "unique_count": 3,
          "nan_count": 35,
          "min": "17.0",
          "max": "20.0",
          "histogram": [
           {
            "bin_start": 17,
            "bin_end": 17.3,
            "count": 1
           },
           {
            "bin_start": 17.3,
            "bin_end": 17.6,
            "count": 0
           },
           {
            "bin_start": 17.6,
            "bin_end": 17.9,
            "count": 0
           },
           {
            "bin_start": 17.9,
            "bin_end": 18.2,
            "count": 1
           },
           {
            "bin_start": 18.2,
            "bin_end": 18.5,
            "count": 0
           },
           {
            "bin_start": 18.5,
            "bin_end": 18.8,
            "count": 0
           },
           {
            "bin_start": 18.8,
            "bin_end": 19.1,
            "count": 0
           },
           {
            "bin_start": 19.1,
            "bin_end": 19.4,
            "count": 0
           },
           {
            "bin_start": 19.4,
            "bin_end": 19.7,
            "count": 0
           },
           {
            "bin_start": 19.7,
            "bin_end": 20,
            "count": 1
           }
          ]
         }
        },
        {
         "name": "created_at_x",
         "dtype": "object",
         "stats": {
          "unique_count": 3,
          "nan_count": 35,
          "categories": [
           {
            "name": "2020-08-21 23:23:55.077561",
            "count": 1
           },
           {
            "name": "2 others",
            "count": 2
           },
           {
            "name": "Missing",
            "count": 35
           }
          ]
         }
        },
        {
         "name": "updated_at_x",
         "dtype": "object",
         "stats": {
          "unique_count": 3,
          "nan_count": 35,
          "categories": [
           {
            "name": "2020-08-21 23:23:55.077561",
            "count": 1
           },
           {
            "name": "2 others",
            "count": 2
           },
           {
            "name": "Missing",
            "count": 35
           }
          ]
         }
        },
        {
         "name": "identifier_x",
         "dtype": "object",
         "stats": {
          "unique_count": 3,
          "nan_count": 35,
          "categories": [
           {
            "name": "8f92c3a83a3",
            "count": 1
           },
           {
            "name": "2 others",
            "count": 2
           },
           {
            "name": "Missing",
            "count": 35
           }
          ]
         }
        },
        {
         "name": "totalTimeTaken",
         "dtype": "float64",
         "stats": {
          "unique_count": 1,
          "nan_count": 35,
          "min": "0.0",
          "max": "0.0",
          "histogram": [
           {
            "bin_start": -0.5,
            "bin_end": -0.4,
            "count": 0
           },
           {
            "bin_start": -0.4,
            "bin_end": -0.3,
            "count": 0
           },
           {
            "bin_start": -0.3,
            "bin_end": -0.19999999999999996,
            "count": 0
           },
           {
            "bin_start": -0.19999999999999996,
            "bin_end": -0.09999999999999998,
            "count": 0
           },
           {
            "bin_start": -0.09999999999999998,
            "bin_end": 0,
            "count": 0
           },
           {
            "bin_start": 0,
            "bin_end": 0.10000000000000009,
            "count": 3
           },
           {
            "bin_start": 0.10000000000000009,
            "bin_end": 0.20000000000000007,
            "count": 0
           },
           {
            "bin_start": 0.20000000000000007,
            "bin_end": 0.30000000000000004,
            "count": 0
           },
           {
            "bin_start": 0.30000000000000004,
            "bin_end": 0.4,
            "count": 0
           },
           {
            "bin_start": 0.4,
            "bin_end": 0.5,
            "count": 0
           }
          ]
         }
        },
        {
         "name": "assignmentId",
         "dtype": "float64",
         "stats": {
          "unique_count": 2,
          "nan_count": 35,
          "min": "10.0",
          "max": "11.0",
          "histogram": [
           {
            "bin_start": 10,
            "bin_end": 10.1,
            "count": 2
           },
           {
            "bin_start": 10.1,
            "bin_end": 10.2,
            "count": 0
           },
           {
            "bin_start": 10.2,
            "bin_end": 10.3,
            "count": 0
           },
           {
            "bin_start": 10.3,
            "bin_end": 10.4,
            "count": 0
           },
           {
            "bin_start": 10.4,
            "bin_end": 10.5,
            "count": 0
           },
           {
            "bin_start": 10.5,
            "bin_end": 10.6,
            "count": 0
           },
           {
            "bin_start": 10.6,
            "bin_end": 10.7,
            "count": 0
           },
           {
            "bin_start": 10.7,
            "bin_end": 10.8,
            "count": 0
           },
           {
            "bin_start": 10.8,
            "bin_end": 10.9,
            "count": 0
           },
           {
            "bin_start": 10.9,
            "bin_end": 11,
            "count": 1
           }
          ]
         }
        },
        {
         "name": "snapshotProjectId",
         "dtype": "float64",
         "stats": {
          "unique_count": 0,
          "nan_count": 38,
          "min": null,
          "max": null,
          "histogram": [
           {
            "bin_start": 0,
            "bin_end": 0.1,
            "count": 0
           },
           {
            "bin_start": 0.1,
            "bin_end": 0.2,
            "count": 0
           },
           {
            "bin_start": 0.2,
            "bin_end": 0.30000000000000004,
            "count": 0
           },
           {
            "bin_start": 0.30000000000000004,
            "bin_end": 0.4,
            "count": 0
           },
           {
            "bin_start": 0.4,
            "bin_end": 0.5,
            "count": 0
           },
           {
            "bin_start": 0.5,
            "bin_end": 0.6000000000000001,
            "count": 0
           },
           {
            "bin_start": 0.6000000000000001,
            "bin_end": 0.7000000000000001,
            "count": 0
           },
           {
            "bin_start": 0.7000000000000001,
            "bin_end": 0.8,
            "count": 0
           },
           {
            "bin_start": 0.8,
            "bin_end": 0.9,
            "count": 0
           },
           {
            "bin_start": 0.9,
            "bin_end": 1,
            "count": 0
           }
          ]
         }
        },
        {
         "name": "id_y",
         "dtype": "float64",
         "stats": {
          "unique_count": 18,
          "nan_count": 20,
          "min": "8.0",
          "max": "27.0",
          "histogram": [
           {
            "bin_start": 8,
            "bin_end": 9.9,
            "count": 2
           },
           {
            "bin_start": 9.9,
            "bin_end": 11.8,
            "count": 2
           },
           {
            "bin_start": 11.8,
            "bin_end": 13.7,
            "count": 2
           },
           {
            "bin_start": 13.7,
            "bin_end": 15.6,
            "count": 2
           },
           {
            "bin_start": 15.6,
            "bin_end": 17.5,
            "count": 2
           },
           {
            "bin_start": 17.5,
            "bin_end": 19.4,
            "count": 2
           },
           {
            "bin_start": 19.4,
            "bin_end": 21.299999999999997,
            "count": 1
           },
           {
            "bin_start": 21.299999999999997,
            "bin_end": 23.2,
            "count": 1
           },
           {
            "bin_start": 23.2,
            "bin_end": 25.099999999999998,
            "count": 2
           },
           {
            "bin_start": 25.099999999999998,
            "bin_end": 27,
            "count": 2
           }
          ]
         }
        },
        {
         "name": "created_at_y",
         "dtype": "object",
         "stats": {
          "unique_count": 18,
          "nan_count": 20,
          "categories": [
           {
            "name": "2021-04-27 19:46:07.642646",
            "count": 1
           },
           {
            "name": "17 others",
            "count": 17
           },
           {
            "name": "Missing",
            "count": 20
           }
          ]
         }
        },
        {
         "name": "updated_at_y",
         "dtype": "object",
         "stats": {
          "unique_count": 18,
          "nan_count": 20,
          "categories": [
           {
            "name": "2021-04-27 19:46:07.642646",
            "count": 1
           },
           {
            "name": "17 others",
            "count": 17
           },
           {
            "name": "Missing",
            "count": 20
           }
          ]
         }
        },
        {
         "name": "identifier_y",
         "dtype": "object",
         "stats": {
          "unique_count": 18,
          "nan_count": 20,
          "categories": [
           {
            "name": "33DF-7822-DDE1",
            "count": 1
           },
           {
            "name": "17 others",
            "count": 17
           },
           {
            "name": "Missing",
            "count": 20
           }
          ]
         }
        },
        {
         "name": "grantedOn",
         "dtype": "object",
         "stats": {
          "unique_count": 3,
          "nan_count": 20,
          "categories": [
           {
            "name": "2020-02-04 12:00:00",
            "count": 11
           },
           {
            "name": "2 others",
            "count": 7
           },
           {
            "name": "Missing",
            "count": 20
           }
          ]
         }
        },
        {
         "name": "expiry",
         "dtype": "float64",
         "stats": {
          "unique_count": 0,
          "nan_count": 38,
          "min": null,
          "max": null,
          "histogram": [
           {
            "bin_start": 0,
            "bin_end": 0.1,
            "count": 0
           },
           {
            "bin_start": 0.1,
            "bin_end": 0.2,
            "count": 0
           },
           {
            "bin_start": 0.2,
            "bin_end": 0.30000000000000004,
            "count": 0
           },
           {
            "bin_start": 0.30000000000000004,
            "bin_end": 0.4,
            "count": 0
           },
           {
            "bin_start": 0.4,
            "bin_end": 0.5,
            "count": 0
           },
           {
            "bin_start": 0.5,
            "bin_end": 0.6000000000000001,
            "count": 0
           },
           {
            "bin_start": 0.6000000000000001,
            "bin_end": 0.7000000000000001,
            "count": 0
           },
           {
            "bin_start": 0.7000000000000001,
            "bin_end": 0.8,
            "count": 0
           },
           {
            "bin_start": 0.8,
            "bin_end": 0.9,
            "count": 0
           },
           {
            "bin_start": 0.9,
            "bin_end": 1,
            "count": 0
           }
          ]
         }
        },
        {
         "name": "name",
         "dtype": "object",
         "stats": {
          "unique_count": 3,
          "nan_count": 20,
          "categories": [
           {
            "name": "Basics of Web Dev",
            "count": 11
           },
           {
            "name": "2 others",
            "count": 7
           },
           {
            "name": "Missing",
            "count": 20
           }
          ]
         }
        },
        {
         "name": "hasPreview",
         "dtype": "float64",
         "stats": {
          "unique_count": 1,
          "nan_count": 20,
          "min": "1.0",
          "max": "1.0",
          "histogram": [
           {
            "bin_start": 0.5,
            "bin_end": 0.6,
            "count": 0
           },
           {
            "bin_start": 0.6,
            "bin_end": 0.7,
            "count": 0
           },
           {
            "bin_start": 0.7,
            "bin_end": 0.8,
            "count": 0
           },
           {
            "bin_start": 0.8,
            "bin_end": 0.9,
            "count": 0
           },
           {
            "bin_start": 0.9,
            "bin_end": 1,
            "count": 0
           },
           {
            "bin_start": 1,
            "bin_end": 1.1,
            "count": 18
           },
           {
            "bin_start": 1.1,
            "bin_end": 1.2000000000000002,
            "count": 0
           },
           {
            "bin_start": 1.2000000000000002,
            "bin_end": 1.3,
            "count": 0
           },
           {
            "bin_start": 1.3,
            "bin_end": 1.4,
            "count": 0
           },
           {
            "bin_start": 1.4,
            "bin_end": 1.5,
            "count": 0
           }
          ]
         }
        },
        {
         "name": "_deepnote_index_column",
         "dtype": "int64"
        }
       ],
       "rows": [
        {
         "userId": 2,
         "Count of activites": 210,
         "id_x": 17,
         "created_at_x": "2020-08-21 23:23:55.077561",
         "updated_at_x": "2020-08-21 23:23:55.077561",
         "identifier_x": "8f92c3a83a3",
         "totalTimeTaken": 0,
         "assignmentId": 10,
         "snapshotProjectId": "nan",
         "id_y": "nan",
         "created_at_y": "nan",
         "updated_at_y": "nan",
         "identifier_y": "nan",
         "grantedOn": "nan",
         "expiry": "nan",
         "name": "nan",
         "hasPreview": "nan",
         "_deepnote_index_column": 0
        },
        {
         "userId": 1,
         "Count of activites": 67,
         "id_x": "nan",
         "created_at_x": "nan",
         "updated_at_x": "nan",
         "identifier_x": "nan",
         "totalTimeTaken": "nan",
         "assignmentId": "nan",
         "snapshotProjectId": "nan",
         "id_y": "nan",
         "created_at_y": "nan",
         "updated_at_y": "nan",
         "identifier_y": "nan",
         "grantedOn": "nan",
         "expiry": "nan",
         "name": "nan",
         "hasPreview": "nan",
         "_deepnote_index_column": 1
        },
        {
         "userId": 130,
         "Count of activites": 32,
         "id_x": "nan",
         "created_at_x": "nan",
         "updated_at_x": "nan",
         "identifier_x": "nan",
         "totalTimeTaken": "nan",
         "assignmentId": "nan",
         "snapshotProjectId": "nan",
         "id_y": "nan",
         "created_at_y": "nan",
         "updated_at_y": "nan",
         "identifier_y": "nan",
         "grantedOn": "nan",
         "expiry": "nan",
         "name": "nan",
         "hasPreview": "nan",
         "_deepnote_index_column": 2
        },
        {
         "userId": 67,
         "Count of activites": 25,
         "id_x": "nan",
         "created_at_x": "nan",
         "updated_at_x": "nan",
         "identifier_x": "nan",
         "totalTimeTaken": "nan",
         "assignmentId": "nan",
         "snapshotProjectId": "nan",
         "id_y": "nan",
         "created_at_y": "nan",
         "updated_at_y": "nan",
         "identifier_y": "nan",
         "grantedOn": "nan",
         "expiry": "nan",
         "name": "nan",
         "hasPreview": "nan",
         "_deepnote_index_column": 3
        },
        {
         "userId": 106,
         "Count of activites": 23,
         "id_x": "nan",
         "created_at_x": "nan",
         "updated_at_x": "nan",
         "identifier_x": "nan",
         "totalTimeTaken": "nan",
         "assignmentId": "nan",
         "snapshotProjectId": "nan",
         "id_y": 21,
         "created_at_y": "2021-04-27 19:46:07.642646",
         "updated_at_y": "2021-04-27 19:46:07.642646",
         "identifier_y": "33DF-7822-DDE1",
         "grantedOn": "2021-04-27 11:00:00",
         "expiry": "nan",
         "name": "Intro to Game Dev",
         "hasPreview": 1,
         "_deepnote_index_column": 4
        },
        {
         "userId": 105,
         "Count of activites": 17,
         "id_x": "nan",
         "created_at_x": "nan",
         "updated_at_x": "nan",
         "identifier_x": "nan",
         "totalTimeTaken": "nan",
         "assignmentId": "nan",
         "snapshotProjectId": "nan",
         "id_y": 24,
         "created_at_y": "2021-07-03 16:39:58.828618",
         "updated_at_y": "2021-07-03 16:44:23.081623",
         "identifier_y": "E76C-204B-4FD3",
         "grantedOn": "2021-07-03 18:00:00",
         "expiry": "nan",
         "name": "Programming Fundamentals",
         "hasPreview": 1,
         "_deepnote_index_column": 6
        },
        {
         "userId": 111,
         "Count of activites": 17,
         "id_x": "nan",
         "created_at_x": "nan",
         "updated_at_x": "nan",
         "identifier_x": "nan",
         "totalTimeTaken": "nan",
         "assignmentId": "nan",
         "snapshotProjectId": "nan",
         "id_y": "nan",
         "created_at_y": "nan",
         "updated_at_y": "nan",
         "identifier_y": "nan",
         "grantedOn": "nan",
         "expiry": "nan",
         "name": "nan",
         "hasPreview": "nan",
         "_deepnote_index_column": 7
        },
        {
         "userId": 54,
         "Count of activites": 16,
         "id_x": 20,
         "created_at_x": "2021-07-06 20:59:53.914948",
         "updated_at_x": "2021-07-06 20:59:53.914948",
         "identifier_x": "01b515510c1",
         "totalTimeTaken": 0,
         "assignmentId": 11,
         "snapshotProjectId": "nan",
         "id_y": "nan",
         "created_at_y": "nan",
         "updated_at_y": "nan",
         "identifier_y": "nan",
         "grantedOn": "nan",
         "expiry": "nan",
         "name": "nan",
         "hasPreview": "nan",
         "_deepnote_index_column": 8
        },
        {
         "userId": 69,
         "Count of activites": 13,
         "id_x": "nan",
         "created_at_x": "nan",
         "updated_at_x": "nan",
         "identifier_x": "nan",
         "totalTimeTaken": "nan",
         "assignmentId": "nan",
         "snapshotProjectId": "nan",
         "id_y": 22,
         "created_at_y": "2021-04-27 19:46:47.391149",
         "updated_at_y": "2021-04-27 19:46:47.391149",
         "identifier_y": "FEF0-7051-F451",
         "grantedOn": "2021-04-27 11:00:00",
         "expiry": "nan",
         "name": "Intro to Game Dev",
         "hasPreview": 1,
         "_deepnote_index_column": 9
        },
        {
         "userId": 85,
         "Count of activites": 10,
         "id_x": "nan",
         "created_at_x": "nan",
         "updated_at_x": "nan",
         "identifier_x": "nan",
         "totalTimeTaken": "nan",
         "assignmentId": "nan",
         "snapshotProjectId": "nan",
         "id_y": 19,
         "created_at_y": "2021-04-27 19:44:29.943599",
         "updated_at_y": "2021-04-27 19:44:29.943599",
         "identifier_y": "0FE1-75BC-CBA9",
         "grantedOn": "2021-04-27 11:00:00",
         "expiry": "nan",
         "name": "Intro to Game Dev",
         "hasPreview": 1,
         "_deepnote_index_column": 10
        }
       ]
      },
      "text/plain": "    userId  Count of activites  id_x                created_at_x  \\\n0        2               210.0  17.0  2020-08-21 23:23:55.077561   \n1        1                67.0   NaN                         NaN   \n2      130                32.0   NaN                         NaN   \n3       67                25.0   NaN                         NaN   \n4      106                23.0   NaN                         NaN   \n6      105                17.0   NaN                         NaN   \n7      111                17.0   NaN                         NaN   \n8       54                16.0  20.0  2021-07-06 20:59:53.914948   \n9       69                13.0   NaN                         NaN   \n10      85                10.0   NaN                         NaN   \n11       3                 8.0   NaN                         NaN   \n12     120                 7.0   NaN                         NaN   \n13     131                 6.0   NaN                         NaN   \n15      66                 6.0   NaN                         NaN   \n16     114                 5.0   NaN                         NaN   \n17      91                 4.0   NaN                         NaN   \n18     129                 3.0   NaN                         NaN   \n19     110                 2.0   NaN                         NaN   \n20      86                 2.0   NaN                         NaN   \n21     121                 2.0   NaN                         NaN   \n22     122                 1.0   NaN                         NaN   \n23     123                 1.0   NaN                         NaN   \n24     124                 1.0   NaN                         NaN   \n25     125                 1.0   NaN                         NaN   \n26     127                 1.0   NaN                         NaN   \n27     128                 1.0   NaN                         NaN   \n31      52                 NaN  18.0  2020-08-21 23:41:10.461689   \n32      29                 NaN   NaN                         NaN   \n33      49                 NaN   NaN                         NaN   \n34      46                 NaN   NaN                         NaN   \n35      40                 NaN   NaN                         NaN   \n36       5                 NaN   NaN                         NaN   \n37      12                 NaN   NaN                         NaN   \n38      34                 NaN   NaN                         NaN   \n39      21                 NaN   NaN                         NaN   \n40      16                 NaN   NaN                         NaN   \n41      15                 NaN   NaN                         NaN   \n42      31                 NaN   NaN                         NaN   \n\n                  updated_at_x identifier_x  totalTimeTaken  assignmentId  \\\n0   2020-08-21 23:23:55.077561  8f92c3a83a3             0.0          10.0   \n1                          NaN          NaN             NaN           NaN   \n2                          NaN          NaN             NaN           NaN   \n3                          NaN          NaN             NaN           NaN   \n4                          NaN          NaN             NaN           NaN   \n6                          NaN          NaN             NaN           NaN   \n7                          NaN          NaN             NaN           NaN   \n8   2021-07-06 20:59:53.914948  01b515510c1             0.0          11.0   \n9                          NaN          NaN             NaN           NaN   \n10                         NaN          NaN             NaN           NaN   \n11                         NaN          NaN             NaN           NaN   \n12                         NaN          NaN             NaN           NaN   \n13                         NaN          NaN             NaN           NaN   \n15                         NaN          NaN             NaN           NaN   \n16                         NaN          NaN             NaN           NaN   \n17                         NaN          NaN             NaN           NaN   \n18                         NaN          NaN             NaN           NaN   \n19                         NaN          NaN             NaN           NaN   \n20                         NaN          NaN             NaN           NaN   \n21                         NaN          NaN             NaN           NaN   \n22                         NaN          NaN             NaN           NaN   \n23                         NaN          NaN             NaN           NaN   \n24                         NaN          NaN             NaN           NaN   \n25                         NaN          NaN             NaN           NaN   \n26                         NaN          NaN             NaN           NaN   \n27                         NaN          NaN             NaN           NaN   \n31  2020-08-21 23:41:10.461689  52c4a5fee5c             0.0          10.0   \n32                         NaN          NaN             NaN           NaN   \n33                         NaN          NaN             NaN           NaN   \n34                         NaN          NaN             NaN           NaN   \n35                         NaN          NaN             NaN           NaN   \n36                         NaN          NaN             NaN           NaN   \n37                         NaN          NaN             NaN           NaN   \n38                         NaN          NaN             NaN           NaN   \n39                         NaN          NaN             NaN           NaN   \n40                         NaN          NaN             NaN           NaN   \n41                         NaN          NaN             NaN           NaN   \n42                         NaN          NaN             NaN           NaN   \n\n    snapshotProjectId  id_y                created_at_y  \\\n0                 NaN   NaN                         NaN   \n1                 NaN   NaN                         NaN   \n2                 NaN   NaN                         NaN   \n3                 NaN   NaN                         NaN   \n4                 NaN  21.0  2021-04-27 19:46:07.642646   \n6                 NaN  24.0  2021-07-03 16:39:58.828618   \n7                 NaN   NaN                         NaN   \n8                 NaN   NaN                         NaN   \n9                 NaN  22.0  2021-04-27 19:46:47.391149   \n10                NaN  19.0  2021-04-27 19:44:29.943599   \n11                NaN   NaN                         NaN   \n12                NaN   NaN                         NaN   \n13                NaN   NaN                         NaN   \n15                NaN  25.0  2021-07-03 16:40:51.015941   \n16                NaN   NaN                         NaN   \n17                NaN   NaN                         NaN   \n18                NaN   NaN                         NaN   \n19                NaN   NaN                         NaN   \n20                NaN   NaN                         NaN   \n21                NaN   NaN                         NaN   \n22                NaN  26.0  2021-07-03 16:42:08.595933   \n23                NaN   NaN                         NaN   \n24                NaN   NaN                         NaN   \n25                NaN  27.0  2021-07-03 16:43:18.270789   \n26                NaN   NaN                         NaN   \n27                NaN   NaN                         NaN   \n31                NaN   NaN                         NaN   \n32                NaN   8.0  2021-04-27 15:10:58.897032   \n33                NaN   9.0  2021-04-27 15:31:06.560011   \n34                NaN  10.0  2021-04-27 15:31:59.573788   \n35                NaN  11.0  2021-04-27 15:33:05.196104   \n36                NaN  12.0  2021-04-27 15:34:05.920007   \n37                NaN  13.0  2021-04-27 15:34:59.341726   \n38                NaN  14.0  2021-04-27 15:36:21.843346   \n39                NaN  15.0  2021-04-27 15:37:36.823670   \n40                NaN  16.0  2021-04-27 15:38:22.431064   \n41                NaN  17.0  2021-04-27 15:39:09.665017   \n42                NaN  18.0  2021-04-27 15:41:05.116434   \n\n                  updated_at_y    identifier_y            grantedOn  expiry  \\\n0                          NaN             NaN                  NaN     NaN   \n1                          NaN             NaN                  NaN     NaN   \n2                          NaN             NaN                  NaN     NaN   \n3                          NaN             NaN                  NaN     NaN   \n4   2021-04-27 19:46:07.642646  33DF-7822-DDE1  2021-04-27 11:00:00     NaN   \n6   2021-07-03 16:44:23.081623  E76C-204B-4FD3  2021-07-03 18:00:00     NaN   \n7                          NaN             NaN                  NaN     NaN   \n8                          NaN             NaN                  NaN     NaN   \n9   2021-04-27 19:46:47.391149  FEF0-7051-F451  2021-04-27 11:00:00     NaN   \n10  2021-04-27 19:44:29.943599  0FE1-75BC-CBA9  2021-04-27 11:00:00     NaN   \n11                         NaN             NaN                  NaN     NaN   \n12                         NaN             NaN                  NaN     NaN   \n13                         NaN             NaN                  NaN     NaN   \n15  2021-07-03 16:44:25.252063  E1EE-37C8-45BD  2021-07-03 18:00:00     NaN   \n16                         NaN             NaN                  NaN     NaN   \n17                         NaN             NaN                  NaN     NaN   \n18                         NaN             NaN                  NaN     NaN   \n19                         NaN             NaN                  NaN     NaN   \n20                         NaN             NaN                  NaN     NaN   \n21                         NaN             NaN                  NaN     NaN   \n22  2021-07-03 16:44:27.400903  08FF-3DE7-C0F6  2021-07-03 18:00:00     NaN   \n23                         NaN             NaN                  NaN     NaN   \n24                         NaN             NaN                  NaN     NaN   \n25  2021-07-03 16:44:30.029726  6D75-6561-91A5  2021-07-03 18:00:00     NaN   \n26                         NaN             NaN                  NaN     NaN   \n27                         NaN             NaN                  NaN     NaN   \n31                         NaN             NaN                  NaN     NaN   \n32  2021-04-27 15:10:58.897032  C701-F9BB-CFB9  2020-02-04 12:00:00     NaN   \n33  2021-04-27 15:31:06.560011  0074-D912-3905  2020-02-04 12:00:00     NaN   \n34  2021-04-27 15:31:59.573788  1A0F-DA44-F9BC  2020-02-04 12:00:00     NaN   \n35  2021-04-27 15:33:05.196104  1BC6-2CB9-0976  2020-02-04 12:00:00     NaN   \n36  2021-04-27 15:34:05.920007  E800-13E7-71AA  2020-02-04 12:00:00     NaN   \n37  2021-04-27 15:34:59.341726  D373-78CF-EEB7  2020-02-04 12:00:00     NaN   \n38  2021-04-27 15:36:21.843346  0B7B-B2E3-6E14  2020-02-04 12:00:00     NaN   \n39  2021-04-27 15:37:36.823670  EE79-539D-B914  2020-02-04 12:00:00     NaN   \n40  2021-04-27 15:38:22.431064  1BB2-D367-5037  2020-02-04 12:00:00     NaN   \n41  2021-04-27 15:39:09.665017  C48C-08BB-CCF8  2020-02-04 12:00:00     NaN   \n42  2021-04-27 15:41:05.116434  4882-1A83-BBB7  2020-02-04 12:00:00     NaN   \n\n                        name  hasPreview  \n0                        NaN         NaN  \n1                        NaN         NaN  \n2                        NaN         NaN  \n3                        NaN         NaN  \n4          Intro to Game Dev         1.0  \n6   Programming Fundamentals         1.0  \n7                        NaN         NaN  \n8                        NaN         NaN  \n9          Intro to Game Dev         1.0  \n10         Intro to Game Dev         1.0  \n11                       NaN         NaN  \n12                       NaN         NaN  \n13                       NaN         NaN  \n15  Programming Fundamentals         1.0  \n16                       NaN         NaN  \n17                       NaN         NaN  \n18                       NaN         NaN  \n19                       NaN         NaN  \n20                       NaN         NaN  \n21                       NaN         NaN  \n22  Programming Fundamentals         1.0  \n23                       NaN         NaN  \n24                       NaN         NaN  \n25  Programming Fundamentals         1.0  \n26                       NaN         NaN  \n27                       NaN         NaN  \n31                       NaN         NaN  \n32         Basics of Web Dev         1.0  \n33         Basics of Web Dev         1.0  \n34         Basics of Web Dev         1.0  \n35         Basics of Web Dev         1.0  \n36         Basics of Web Dev         1.0  \n37         Basics of Web Dev         1.0  \n38         Basics of Web Dev         1.0  \n39         Basics of Web Dev         1.0  \n40         Basics of Web Dev         1.0  \n41         Basics of Web Dev         1.0  \n42         Basics of Web Dev         1.0  ",
      "text/html": "<div>\n<style scoped>\n    .dataframe tbody tr th:only-of-type {\n        vertical-align: middle;\n    }\n\n    .dataframe tbody tr th {\n        vertical-align: top;\n    }\n\n    .dataframe thead th {\n        text-align: right;\n    }\n</style>\n<table border=\"1\" class=\"dataframe\">\n  <thead>\n    <tr style=\"text-align: right;\">\n      <th></th>\n      <th>userId</th>\n      <th>Count of activites</th>\n      <th>id_x</th>\n      <th>created_at_x</th>\n      <th>updated_at_x</th>\n      <th>identifier_x</th>\n      <th>totalTimeTaken</th>\n      <th>assignmentId</th>\n      <th>snapshotProjectId</th>\n      <th>id_y</th>\n      <th>created_at_y</th>\n      <th>updated_at_y</th>\n      <th>identifier_y</th>\n      <th>grantedOn</th>\n      <th>expiry</th>\n      <th>name</th>\n      <th>hasPreview</th>\n    </tr>\n  </thead>\n  <tbody>\n    <tr>\n      <th>0</th>\n      <td>2</td>\n      <td>210.0</td>\n      <td>17.0</td>\n      <td>2020-08-21 23:23:55.077561</td>\n      <td>2020-08-21 23:23:55.077561</td>\n      <td>8f92c3a83a3</td>\n      <td>0.0</td>\n      <td>10.0</td>\n      <td>NaN</td>\n      <td>NaN</td>\n      <td>NaN</td>\n      <td>NaN</td>\n      <td>NaN</td>\n      <td>NaN</td>\n      <td>NaN</td>\n      <td>NaN</td>\n      <td>NaN</td>\n    </tr>\n    <tr>\n      <th>1</th>\n      <td>1</td>\n      <td>67.0</td>\n      <td>NaN</td>\n      <td>NaN</td>\n      <td>NaN</td>\n      <td>NaN</td>\n      <td>NaN</td>\n      <td>NaN</td>\n      <td>NaN</td>\n      <td>NaN</td>\n      <td>NaN</td>\n      <td>NaN</td>\n      <td>NaN</td>\n      <td>NaN</td>\n      <td>NaN</td>\n      <td>NaN</td>\n      <td>NaN</td>\n    </tr>\n    <tr>\n      <th>2</th>\n      <td>130</td>\n      <td>32.0</td>\n      <td>NaN</td>\n      <td>NaN</td>\n      <td>NaN</td>\n      <td>NaN</td>\n      <td>NaN</td>\n      <td>NaN</td>\n      <td>NaN</td>\n      <td>NaN</td>\n      <td>NaN</td>\n      <td>NaN</td>\n      <td>NaN</td>\n      <td>NaN</td>\n      <td>NaN</td>\n      <td>NaN</td>\n      <td>NaN</td>\n    </tr>\n    <tr>\n      <th>3</th>\n      <td>67</td>\n      <td>25.0</td>\n      <td>NaN</td>\n      <td>NaN</td>\n      <td>NaN</td>\n      <td>NaN</td>\n      <td>NaN</td>\n      <td>NaN</td>\n      <td>NaN</td>\n      <td>NaN</td>\n      <td>NaN</td>\n      <td>NaN</td>\n      <td>NaN</td>\n      <td>NaN</td>\n      <td>NaN</td>\n      <td>NaN</td>\n      <td>NaN</td>\n    </tr>\n    <tr>\n      <th>4</th>\n      <td>106</td>\n      <td>23.0</td>\n      <td>NaN</td>\n      <td>NaN</td>\n      <td>NaN</td>\n      <td>NaN</td>\n      <td>NaN</td>\n      <td>NaN</td>\n      <td>NaN</td>\n      <td>21.0</td>\n      <td>2021-04-27 19:46:07.642646</td>\n      <td>2021-04-27 19:46:07.642646</td>\n      <td>33DF-7822-DDE1</td>\n      <td>2021-04-27 11:00:00</td>\n      <td>NaN</td>\n      <td>Intro to Game Dev</td>\n      <td>1.0</td>\n    </tr>\n    <tr>\n      <th>6</th>\n      <td>105</td>\n      <td>17.0</td>\n      <td>NaN</td>\n      <td>NaN</td>\n      <td>NaN</td>\n      <td>NaN</td>\n      <td>NaN</td>\n      <td>NaN</td>\n      <td>NaN</td>\n      <td>24.0</td>\n      <td>2021-07-03 16:39:58.828618</td>\n      <td>2021-07-03 16:44:23.081623</td>\n      <td>E76C-204B-4FD3</td>\n      <td>2021-07-03 18:00:00</td>\n      <td>NaN</td>\n      <td>Programming Fundamentals</td>\n      <td>1.0</td>\n    </tr>\n    <tr>\n      <th>7</th>\n      <td>111</td>\n      <td>17.0</td>\n      <td>NaN</td>\n      <td>NaN</td>\n      <td>NaN</td>\n      <td>NaN</td>\n      <td>NaN</td>\n      <td>NaN</td>\n      <td>NaN</td>\n      <td>NaN</td>\n      <td>NaN</td>\n      <td>NaN</td>\n      <td>NaN</td>\n      <td>NaN</td>\n      <td>NaN</td>\n      <td>NaN</td>\n      <td>NaN</td>\n    </tr>\n    <tr>\n      <th>8</th>\n      <td>54</td>\n      <td>16.0</td>\n      <td>20.0</td>\n      <td>2021-07-06 20:59:53.914948</td>\n      <td>2021-07-06 20:59:53.914948</td>\n      <td>01b515510c1</td>\n      <td>0.0</td>\n      <td>11.0</td>\n      <td>NaN</td>\n      <td>NaN</td>\n      <td>NaN</td>\n      <td>NaN</td>\n      <td>NaN</td>\n      <td>NaN</td>\n      <td>NaN</td>\n      <td>NaN</td>\n      <td>NaN</td>\n    </tr>\n    <tr>\n      <th>9</th>\n      <td>69</td>\n      <td>13.0</td>\n      <td>NaN</td>\n      <td>NaN</td>\n      <td>NaN</td>\n      <td>NaN</td>\n      <td>NaN</td>\n      <td>NaN</td>\n      <td>NaN</td>\n      <td>22.0</td>\n      <td>2021-04-27 19:46:47.391149</td>\n      <td>2021-04-27 19:46:47.391149</td>\n      <td>FEF0-7051-F451</td>\n      <td>2021-04-27 11:00:00</td>\n      <td>NaN</td>\n      <td>Intro to Game Dev</td>\n      <td>1.0</td>\n    </tr>\n    <tr>\n      <th>10</th>\n      <td>85</td>\n      <td>10.0</td>\n      <td>NaN</td>\n      <td>NaN</td>\n      <td>NaN</td>\n      <td>NaN</td>\n      <td>NaN</td>\n      <td>NaN</td>\n      <td>NaN</td>\n      <td>19.0</td>\n      <td>2021-04-27 19:44:29.943599</td>\n      <td>2021-04-27 19:44:29.943599</td>\n      <td>0FE1-75BC-CBA9</td>\n      <td>2021-04-27 11:00:00</td>\n      <td>NaN</td>\n      <td>Intro to Game Dev</td>\n      <td>1.0</td>\n    </tr>\n    <tr>\n      <th>11</th>\n      <td>3</td>\n      <td>8.0</td>\n      <td>NaN</td>\n      <td>NaN</td>\n      <td>NaN</td>\n      <td>NaN</td>\n      <td>NaN</td>\n      <td>NaN</td>\n      <td>NaN</td>\n      <td>NaN</td>\n      <td>NaN</td>\n      <td>NaN</td>\n      <td>NaN</td>\n      <td>NaN</td>\n      <td>NaN</td>\n      <td>NaN</td>\n      <td>NaN</td>\n    </tr>\n    <tr>\n      <th>12</th>\n      <td>120</td>\n      <td>7.0</td>\n      <td>NaN</td>\n      <td>NaN</td>\n      <td>NaN</td>\n      <td>NaN</td>\n      <td>NaN</td>\n      <td>NaN</td>\n      <td>NaN</td>\n      <td>NaN</td>\n      <td>NaN</td>\n      <td>NaN</td>\n      <td>NaN</td>\n      <td>NaN</td>\n      <td>NaN</td>\n      <td>NaN</td>\n      <td>NaN</td>\n    </tr>\n    <tr>\n      <th>13</th>\n      <td>131</td>\n      <td>6.0</td>\n      <td>NaN</td>\n      <td>NaN</td>\n      <td>NaN</td>\n      <td>NaN</td>\n      <td>NaN</td>\n      <td>NaN</td>\n      <td>NaN</td>\n      <td>NaN</td>\n      <td>NaN</td>\n      <td>NaN</td>\n      <td>NaN</td>\n      <td>NaN</td>\n      <td>NaN</td>\n      <td>NaN</td>\n      <td>NaN</td>\n    </tr>\n    <tr>\n      <th>15</th>\n      <td>66</td>\n      <td>6.0</td>\n      <td>NaN</td>\n      <td>NaN</td>\n      <td>NaN</td>\n      <td>NaN</td>\n      <td>NaN</td>\n      <td>NaN</td>\n      <td>NaN</td>\n      <td>25.0</td>\n      <td>2021-07-03 16:40:51.015941</td>\n      <td>2021-07-03 16:44:25.252063</td>\n      <td>E1EE-37C8-45BD</td>\n      <td>2021-07-03 18:00:00</td>\n      <td>NaN</td>\n      <td>Programming Fundamentals</td>\n      <td>1.0</td>\n    </tr>\n    <tr>\n      <th>16</th>\n      <td>114</td>\n      <td>5.0</td>\n      <td>NaN</td>\n      <td>NaN</td>\n      <td>NaN</td>\n      <td>NaN</td>\n      <td>NaN</td>\n      <td>NaN</td>\n      <td>NaN</td>\n      <td>NaN</td>\n      <td>NaN</td>\n      <td>NaN</td>\n      <td>NaN</td>\n      <td>NaN</td>\n      <td>NaN</td>\n      <td>NaN</td>\n      <td>NaN</td>\n    </tr>\n    <tr>\n      <th>17</th>\n      <td>91</td>\n      <td>4.0</td>\n      <td>NaN</td>\n      <td>NaN</td>\n      <td>NaN</td>\n      <td>NaN</td>\n      <td>NaN</td>\n      <td>NaN</td>\n      <td>NaN</td>\n      <td>NaN</td>\n      <td>NaN</td>\n      <td>NaN</td>\n      <td>NaN</td>\n      <td>NaN</td>\n      <td>NaN</td>\n      <td>NaN</td>\n      <td>NaN</td>\n    </tr>\n    <tr>\n      <th>18</th>\n      <td>129</td>\n      <td>3.0</td>\n      <td>NaN</td>\n      <td>NaN</td>\n      <td>NaN</td>\n      <td>NaN</td>\n      <td>NaN</td>\n      <td>NaN</td>\n      <td>NaN</td>\n      <td>NaN</td>\n      <td>NaN</td>\n      <td>NaN</td>\n      <td>NaN</td>\n      <td>NaN</td>\n      <td>NaN</td>\n      <td>NaN</td>\n      <td>NaN</td>\n    </tr>\n    <tr>\n      <th>19</th>\n      <td>110</td>\n      <td>2.0</td>\n      <td>NaN</td>\n      <td>NaN</td>\n      <td>NaN</td>\n      <td>NaN</td>\n      <td>NaN</td>\n      <td>NaN</td>\n      <td>NaN</td>\n      <td>NaN</td>\n      <td>NaN</td>\n      <td>NaN</td>\n      <td>NaN</td>\n      <td>NaN</td>\n      <td>NaN</td>\n      <td>NaN</td>\n      <td>NaN</td>\n    </tr>\n    <tr>\n      <th>20</th>\n      <td>86</td>\n      <td>2.0</td>\n      <td>NaN</td>\n      <td>NaN</td>\n      <td>NaN</td>\n      <td>NaN</td>\n      <td>NaN</td>\n      <td>NaN</td>\n      <td>NaN</td>\n      <td>NaN</td>\n      <td>NaN</td>\n      <td>NaN</td>\n      <td>NaN</td>\n      <td>NaN</td>\n      <td>NaN</td>\n      <td>NaN</td>\n      <td>NaN</td>\n    </tr>\n    <tr>\n      <th>21</th>\n      <td>121</td>\n      <td>2.0</td>\n      <td>NaN</td>\n      <td>NaN</td>\n      <td>NaN</td>\n      <td>NaN</td>\n      <td>NaN</td>\n      <td>NaN</td>\n      <td>NaN</td>\n      <td>NaN</td>\n      <td>NaN</td>\n      <td>NaN</td>\n      <td>NaN</td>\n      <td>NaN</td>\n      <td>NaN</td>\n      <td>NaN</td>\n      <td>NaN</td>\n    </tr>\n    <tr>\n      <th>22</th>\n      <td>122</td>\n      <td>1.0</td>\n      <td>NaN</td>\n      <td>NaN</td>\n      <td>NaN</td>\n      <td>NaN</td>\n      <td>NaN</td>\n      <td>NaN</td>\n      <td>NaN</td>\n      <td>26.0</td>\n      <td>2021-07-03 16:42:08.595933</td>\n      <td>2021-07-03 16:44:27.400903</td>\n      <td>08FF-3DE7-C0F6</td>\n      <td>2021-07-03 18:00:00</td>\n      <td>NaN</td>\n      <td>Programming Fundamentals</td>\n      <td>1.0</td>\n    </tr>\n    <tr>\n      <th>23</th>\n      <td>123</td>\n      <td>1.0</td>\n      <td>NaN</td>\n      <td>NaN</td>\n      <td>NaN</td>\n      <td>NaN</td>\n      <td>NaN</td>\n      <td>NaN</td>\n      <td>NaN</td>\n      <td>NaN</td>\n      <td>NaN</td>\n      <td>NaN</td>\n      <td>NaN</td>\n      <td>NaN</td>\n      <td>NaN</td>\n      <td>NaN</td>\n      <td>NaN</td>\n    </tr>\n    <tr>\n      <th>24</th>\n      <td>124</td>\n      <td>1.0</td>\n      <td>NaN</td>\n      <td>NaN</td>\n      <td>NaN</td>\n      <td>NaN</td>\n      <td>NaN</td>\n      <td>NaN</td>\n      <td>NaN</td>\n      <td>NaN</td>\n      <td>NaN</td>\n      <td>NaN</td>\n      <td>NaN</td>\n      <td>NaN</td>\n      <td>NaN</td>\n      <td>NaN</td>\n      <td>NaN</td>\n    </tr>\n    <tr>\n      <th>25</th>\n      <td>125</td>\n      <td>1.0</td>\n      <td>NaN</td>\n      <td>NaN</td>\n      <td>NaN</td>\n      <td>NaN</td>\n      <td>NaN</td>\n      <td>NaN</td>\n      <td>NaN</td>\n      <td>27.0</td>\n      <td>2021-07-03 16:43:18.270789</td>\n      <td>2021-07-03 16:44:30.029726</td>\n      <td>6D75-6561-91A5</td>\n      <td>2021-07-03 18:00:00</td>\n      <td>NaN</td>\n      <td>Programming Fundamentals</td>\n      <td>1.0</td>\n    </tr>\n    <tr>\n      <th>26</th>\n      <td>127</td>\n      <td>1.0</td>\n      <td>NaN</td>\n      <td>NaN</td>\n      <td>NaN</td>\n      <td>NaN</td>\n      <td>NaN</td>\n      <td>NaN</td>\n      <td>NaN</td>\n      <td>NaN</td>\n      <td>NaN</td>\n      <td>NaN</td>\n      <td>NaN</td>\n      <td>NaN</td>\n      <td>NaN</td>\n      <td>NaN</td>\n      <td>NaN</td>\n    </tr>\n    <tr>\n      <th>27</th>\n      <td>128</td>\n      <td>1.0</td>\n      <td>NaN</td>\n      <td>NaN</td>\n      <td>NaN</td>\n      <td>NaN</td>\n      <td>NaN</td>\n      <td>NaN</td>\n      <td>NaN</td>\n      <td>NaN</td>\n      <td>NaN</td>\n      <td>NaN</td>\n      <td>NaN</td>\n      <td>NaN</td>\n      <td>NaN</td>\n      <td>NaN</td>\n      <td>NaN</td>\n    </tr>\n    <tr>\n      <th>31</th>\n      <td>52</td>\n      <td>NaN</td>\n      <td>18.0</td>\n      <td>2020-08-21 23:41:10.461689</td>\n      <td>2020-08-21 23:41:10.461689</td>\n      <td>52c4a5fee5c</td>\n      <td>0.0</td>\n      <td>10.0</td>\n      <td>NaN</td>\n      <td>NaN</td>\n      <td>NaN</td>\n      <td>NaN</td>\n      <td>NaN</td>\n      <td>NaN</td>\n      <td>NaN</td>\n      <td>NaN</td>\n      <td>NaN</td>\n    </tr>\n    <tr>\n      <th>32</th>\n      <td>29</td>\n      <td>NaN</td>\n      <td>NaN</td>\n      <td>NaN</td>\n      <td>NaN</td>\n      <td>NaN</td>\n      <td>NaN</td>\n      <td>NaN</td>\n      <td>NaN</td>\n      <td>8.0</td>\n      <td>2021-04-27 15:10:58.897032</td>\n      <td>2021-04-27 15:10:58.897032</td>\n      <td>C701-F9BB-CFB9</td>\n      <td>2020-02-04 12:00:00</td>\n      <td>NaN</td>\n      <td>Basics of Web Dev</td>\n      <td>1.0</td>\n    </tr>\n    <tr>\n      <th>33</th>\n      <td>49</td>\n      <td>NaN</td>\n      <td>NaN</td>\n      <td>NaN</td>\n      <td>NaN</td>\n      <td>NaN</td>\n      <td>NaN</td>\n      <td>NaN</td>\n      <td>NaN</td>\n      <td>9.0</td>\n      <td>2021-04-27 15:31:06.560011</td>\n      <td>2021-04-27 15:31:06.560011</td>\n      <td>0074-D912-3905</td>\n      <td>2020-02-04 12:00:00</td>\n      <td>NaN</td>\n      <td>Basics of Web Dev</td>\n      <td>1.0</td>\n    </tr>\n    <tr>\n      <th>34</th>\n      <td>46</td>\n      <td>NaN</td>\n      <td>NaN</td>\n      <td>NaN</td>\n      <td>NaN</td>\n      <td>NaN</td>\n      <td>NaN</td>\n      <td>NaN</td>\n      <td>NaN</td>\n      <td>10.0</td>\n      <td>2021-04-27 15:31:59.573788</td>\n      <td>2021-04-27 15:31:59.573788</td>\n      <td>1A0F-DA44-F9BC</td>\n      <td>2020-02-04 12:00:00</td>\n      <td>NaN</td>\n      <td>Basics of Web Dev</td>\n      <td>1.0</td>\n    </tr>\n    <tr>\n      <th>35</th>\n      <td>40</td>\n      <td>NaN</td>\n      <td>NaN</td>\n      <td>NaN</td>\n      <td>NaN</td>\n      <td>NaN</td>\n      <td>NaN</td>\n      <td>NaN</td>\n      <td>NaN</td>\n      <td>11.0</td>\n      <td>2021-04-27 15:33:05.196104</td>\n      <td>2021-04-27 15:33:05.196104</td>\n      <td>1BC6-2CB9-0976</td>\n      <td>2020-02-04 12:00:00</td>\n      <td>NaN</td>\n      <td>Basics of Web Dev</td>\n      <td>1.0</td>\n    </tr>\n    <tr>\n      <th>36</th>\n      <td>5</td>\n      <td>NaN</td>\n      <td>NaN</td>\n      <td>NaN</td>\n      <td>NaN</td>\n      <td>NaN</td>\n      <td>NaN</td>\n      <td>NaN</td>\n      <td>NaN</td>\n      <td>12.0</td>\n      <td>2021-04-27 15:34:05.920007</td>\n      <td>2021-04-27 15:34:05.920007</td>\n      <td>E800-13E7-71AA</td>\n      <td>2020-02-04 12:00:00</td>\n      <td>NaN</td>\n      <td>Basics of Web Dev</td>\n      <td>1.0</td>\n    </tr>\n    <tr>\n      <th>37</th>\n      <td>12</td>\n      <td>NaN</td>\n      <td>NaN</td>\n      <td>NaN</td>\n      <td>NaN</td>\n      <td>NaN</td>\n      <td>NaN</td>\n      <td>NaN</td>\n      <td>NaN</td>\n      <td>13.0</td>\n      <td>2021-04-27 15:34:59.341726</td>\n      <td>2021-04-27 15:34:59.341726</td>\n      <td>D373-78CF-EEB7</td>\n      <td>2020-02-04 12:00:00</td>\n      <td>NaN</td>\n      <td>Basics of Web Dev</td>\n      <td>1.0</td>\n    </tr>\n    <tr>\n      <th>38</th>\n      <td>34</td>\n      <td>NaN</td>\n      <td>NaN</td>\n      <td>NaN</td>\n      <td>NaN</td>\n      <td>NaN</td>\n      <td>NaN</td>\n      <td>NaN</td>\n      <td>NaN</td>\n      <td>14.0</td>\n      <td>2021-04-27 15:36:21.843346</td>\n      <td>2021-04-27 15:36:21.843346</td>\n      <td>0B7B-B2E3-6E14</td>\n      <td>2020-02-04 12:00:00</td>\n      <td>NaN</td>\n      <td>Basics of Web Dev</td>\n      <td>1.0</td>\n    </tr>\n    <tr>\n      <th>39</th>\n      <td>21</td>\n      <td>NaN</td>\n      <td>NaN</td>\n      <td>NaN</td>\n      <td>NaN</td>\n      <td>NaN</td>\n      <td>NaN</td>\n      <td>NaN</td>\n      <td>NaN</td>\n      <td>15.0</td>\n      <td>2021-04-27 15:37:36.823670</td>\n      <td>2021-04-27 15:37:36.823670</td>\n      <td>EE79-539D-B914</td>\n      <td>2020-02-04 12:00:00</td>\n      <td>NaN</td>\n      <td>Basics of Web Dev</td>\n      <td>1.0</td>\n    </tr>\n    <tr>\n      <th>40</th>\n      <td>16</td>\n      <td>NaN</td>\n      <td>NaN</td>\n      <td>NaN</td>\n      <td>NaN</td>\n      <td>NaN</td>\n      <td>NaN</td>\n      <td>NaN</td>\n      <td>NaN</td>\n      <td>16.0</td>\n      <td>2021-04-27 15:38:22.431064</td>\n      <td>2021-04-27 15:38:22.431064</td>\n      <td>1BB2-D367-5037</td>\n      <td>2020-02-04 12:00:00</td>\n      <td>NaN</td>\n      <td>Basics of Web Dev</td>\n      <td>1.0</td>\n    </tr>\n    <tr>\n      <th>41</th>\n      <td>15</td>\n      <td>NaN</td>\n      <td>NaN</td>\n      <td>NaN</td>\n      <td>NaN</td>\n      <td>NaN</td>\n      <td>NaN</td>\n      <td>NaN</td>\n      <td>NaN</td>\n      <td>17.0</td>\n      <td>2021-04-27 15:39:09.665017</td>\n      <td>2021-04-27 15:39:09.665017</td>\n      <td>C48C-08BB-CCF8</td>\n      <td>2020-02-04 12:00:00</td>\n      <td>NaN</td>\n      <td>Basics of Web Dev</td>\n      <td>1.0</td>\n    </tr>\n    <tr>\n      <th>42</th>\n      <td>31</td>\n      <td>NaN</td>\n      <td>NaN</td>\n      <td>NaN</td>\n      <td>NaN</td>\n      <td>NaN</td>\n      <td>NaN</td>\n      <td>NaN</td>\n      <td>NaN</td>\n      <td>18.0</td>\n      <td>2021-04-27 15:41:05.116434</td>\n      <td>2021-04-27 15:41:05.116434</td>\n      <td>4882-1A83-BBB7</td>\n      <td>2020-02-04 12:00:00</td>\n      <td>NaN</td>\n      <td>Basics of Web Dev</td>\n      <td>1.0</td>\n    </tr>\n  </tbody>\n</table>\n</div>"
     },
     "metadata": {}
    }
   ]
  },
  {
   "cell_type": "code",
   "metadata": {
    "cell_id": "52df755e512a4f6f9b076a46a2ed177d",
    "tags": [],
    "deepnote_to_be_reexecuted": false,
    "source_hash": "3ed50c96",
    "execution_start": 1652977577376,
    "execution_millis": 521,
    "deepnote_cell_type": "code",
    "deepnote_cell_height": 118.1875,
    "deepnote_output_heights": [
     21.1875
    ]
   },
   "source": "len(activity_result['userId'].unique())",
   "execution_count": 33,
   "outputs": [
    {
     "output_type": "execute_result",
     "execution_count": 33,
     "data": {
      "text/plain": "38"
     },
     "metadata": {}
    }
   ]
  },
  {
   "cell_type": "code",
   "metadata": {
    "cell_id": "f1dd3d68ce814d91ae23f2c44d0d0148",
    "tags": [],
    "deepnote_to_be_reexecuted": false,
    "source_hash": "aa80b906",
    "execution_start": 1652977577377,
    "execution_millis": 0,
    "deepnote_cell_type": "code",
    "deepnote_cell_height": 81
   },
   "source": "activity['Activity Overview'] = activity['activity'].apply(lambda x: \"Accessed a Session\" if \"Session\" in x else x)",
   "execution_count": 34,
   "outputs": []
  },
  {
   "cell_type": "code",
   "source": "results_cert_assignment = activity_result[['Count of activites', 'name', 'assignmentId']].copy()\nresults_cert_assignment",
   "metadata": {
    "cell_id": "665d99b13a61462fb0769250d31212eb",
    "tags": [],
    "deepnote_to_be_reexecuted": false,
    "source_hash": "30957df7",
    "execution_start": 1652977662818,
    "execution_millis": 10,
    "deepnote_cell_type": "code",
    "deepnote_cell_height": 618
   },
   "outputs": [
    {
     "output_type": "execute_result",
     "execution_count": 37,
     "data": {
      "application/vnd.deepnote.dataframe.v3+json": {
       "column_count": 3,
       "row_count": 38,
       "columns": [
        {
         "name": "Count of activites",
         "dtype": "float64",
         "stats": {
          "unique_count": 17,
          "nan_count": 12,
          "min": "1.0",
          "max": "210.0",
          "histogram": [
           {
            "bin_start": 1,
            "bin_end": 21.9,
            "count": 21
           },
           {
            "bin_start": 21.9,
            "bin_end": 42.8,
            "count": 3
           },
           {
            "bin_start": 42.8,
            "bin_end": 63.699999999999996,
            "count": 0
           },
           {
            "bin_start": 63.699999999999996,
            "bin_end": 84.6,
            "count": 1
           },
           {
            "bin_start": 84.6,
            "bin_end": 105.5,
            "count": 0
           },
           {
            "bin_start": 105.5,
            "bin_end": 126.39999999999999,
            "count": 0
           },
           {
            "bin_start": 126.39999999999999,
            "bin_end": 147.29999999999998,
            "count": 0
           },
           {
            "bin_start": 147.29999999999998,
            "bin_end": 168.2,
            "count": 0
           },
           {
            "bin_start": 168.2,
            "bin_end": 189.1,
            "count": 0
           },
           {
            "bin_start": 189.1,
            "bin_end": 210,
            "count": 1
           }
          ]
         }
        },
        {
         "name": "name",
         "dtype": "object",
         "stats": {
          "unique_count": 3,
          "nan_count": 20,
          "categories": [
           {
            "name": "Basics of Web Dev",
            "count": 11
           },
           {
            "name": "2 others",
            "count": 7
           },
           {
            "name": "Missing",
            "count": 20
           }
          ]
         }
        },
        {
         "name": "assignmentId",
         "dtype": "float64",
         "stats": {
          "unique_count": 2,
          "nan_count": 35,
          "min": "10.0",
          "max": "11.0",
          "histogram": [
           {
            "bin_start": 10,
            "bin_end": 10.1,
            "count": 2
           },
           {
            "bin_start": 10.1,
            "bin_end": 10.2,
            "count": 0
           },
           {
            "bin_start": 10.2,
            "bin_end": 10.3,
            "count": 0
           },
           {
            "bin_start": 10.3,
            "bin_end": 10.4,
            "count": 0
           },
           {
            "bin_start": 10.4,
            "bin_end": 10.5,
            "count": 0
           },
           {
            "bin_start": 10.5,
            "bin_end": 10.6,
            "count": 0
           },
           {
            "bin_start": 10.6,
            "bin_end": 10.7,
            "count": 0
           },
           {
            "bin_start": 10.7,
            "bin_end": 10.8,
            "count": 0
           },
           {
            "bin_start": 10.8,
            "bin_end": 10.9,
            "count": 0
           },
           {
            "bin_start": 10.9,
            "bin_end": 11,
            "count": 1
           }
          ]
         }
        },
        {
         "name": "_deepnote_index_column",
         "dtype": "int64"
        }
       ],
       "rows": [
        {
         "Count of activites": 210,
         "name": "nan",
         "assignmentId": 10,
         "_deepnote_index_column": 0
        },
        {
         "Count of activites": 67,
         "name": "nan",
         "assignmentId": "nan",
         "_deepnote_index_column": 1
        },
        {
         "Count of activites": 32,
         "name": "nan",
         "assignmentId": "nan",
         "_deepnote_index_column": 2
        },
        {
         "Count of activites": 25,
         "name": "nan",
         "assignmentId": "nan",
         "_deepnote_index_column": 3
        },
        {
         "Count of activites": 23,
         "name": "Intro to Game Dev",
         "assignmentId": "nan",
         "_deepnote_index_column": 4
        },
        {
         "Count of activites": 17,
         "name": "Programming Fundamentals",
         "assignmentId": "nan",
         "_deepnote_index_column": 6
        },
        {
         "Count of activites": 17,
         "name": "nan",
         "assignmentId": "nan",
         "_deepnote_index_column": 7
        },
        {
         "Count of activites": 16,
         "name": "nan",
         "assignmentId": 11,
         "_deepnote_index_column": 8
        },
        {
         "Count of activites": 13,
         "name": "Intro to Game Dev",
         "assignmentId": "nan",
         "_deepnote_index_column": 9
        },
        {
         "Count of activites": 10,
         "name": "Intro to Game Dev",
         "assignmentId": "nan",
         "_deepnote_index_column": 10
        }
       ]
      },
      "text/plain": "    Count of activites                      name  assignmentId\n0                210.0                       NaN          10.0\n1                 67.0                       NaN           NaN\n2                 32.0                       NaN           NaN\n3                 25.0                       NaN           NaN\n4                 23.0         Intro to Game Dev           NaN\n6                 17.0  Programming Fundamentals           NaN\n7                 17.0                       NaN           NaN\n8                 16.0                       NaN          11.0\n9                 13.0         Intro to Game Dev           NaN\n10                10.0         Intro to Game Dev           NaN\n11                 8.0                       NaN           NaN\n12                 7.0                       NaN           NaN\n13                 6.0                       NaN           NaN\n15                 6.0  Programming Fundamentals           NaN\n16                 5.0                       NaN           NaN\n17                 4.0                       NaN           NaN\n18                 3.0                       NaN           NaN\n19                 2.0                       NaN           NaN\n20                 2.0                       NaN           NaN\n21                 2.0                       NaN           NaN\n22                 1.0  Programming Fundamentals           NaN\n23                 1.0                       NaN           NaN\n24                 1.0                       NaN           NaN\n25                 1.0  Programming Fundamentals           NaN\n26                 1.0                       NaN           NaN\n27                 1.0                       NaN           NaN\n31                 NaN                       NaN          10.0\n32                 NaN         Basics of Web Dev           NaN\n33                 NaN         Basics of Web Dev           NaN\n34                 NaN         Basics of Web Dev           NaN\n35                 NaN         Basics of Web Dev           NaN\n36                 NaN         Basics of Web Dev           NaN\n37                 NaN         Basics of Web Dev           NaN\n38                 NaN         Basics of Web Dev           NaN\n39                 NaN         Basics of Web Dev           NaN\n40                 NaN         Basics of Web Dev           NaN\n41                 NaN         Basics of Web Dev           NaN\n42                 NaN         Basics of Web Dev           NaN",
      "text/html": "<div>\n<style scoped>\n    .dataframe tbody tr th:only-of-type {\n        vertical-align: middle;\n    }\n\n    .dataframe tbody tr th {\n        vertical-align: top;\n    }\n\n    .dataframe thead th {\n        text-align: right;\n    }\n</style>\n<table border=\"1\" class=\"dataframe\">\n  <thead>\n    <tr style=\"text-align: right;\">\n      <th></th>\n      <th>Count of activites</th>\n      <th>name</th>\n      <th>assignmentId</th>\n    </tr>\n  </thead>\n  <tbody>\n    <tr>\n      <th>0</th>\n      <td>210.0</td>\n      <td>NaN</td>\n      <td>10.0</td>\n    </tr>\n    <tr>\n      <th>1</th>\n      <td>67.0</td>\n      <td>NaN</td>\n      <td>NaN</td>\n    </tr>\n    <tr>\n      <th>2</th>\n      <td>32.0</td>\n      <td>NaN</td>\n      <td>NaN</td>\n    </tr>\n    <tr>\n      <th>3</th>\n      <td>25.0</td>\n      <td>NaN</td>\n      <td>NaN</td>\n    </tr>\n    <tr>\n      <th>4</th>\n      <td>23.0</td>\n      <td>Intro to Game Dev</td>\n      <td>NaN</td>\n    </tr>\n    <tr>\n      <th>6</th>\n      <td>17.0</td>\n      <td>Programming Fundamentals</td>\n      <td>NaN</td>\n    </tr>\n    <tr>\n      <th>7</th>\n      <td>17.0</td>\n      <td>NaN</td>\n      <td>NaN</td>\n    </tr>\n    <tr>\n      <th>8</th>\n      <td>16.0</td>\n      <td>NaN</td>\n      <td>11.0</td>\n    </tr>\n    <tr>\n      <th>9</th>\n      <td>13.0</td>\n      <td>Intro to Game Dev</td>\n      <td>NaN</td>\n    </tr>\n    <tr>\n      <th>10</th>\n      <td>10.0</td>\n      <td>Intro to Game Dev</td>\n      <td>NaN</td>\n    </tr>\n    <tr>\n      <th>11</th>\n      <td>8.0</td>\n      <td>NaN</td>\n      <td>NaN</td>\n    </tr>\n    <tr>\n      <th>12</th>\n      <td>7.0</td>\n      <td>NaN</td>\n      <td>NaN</td>\n    </tr>\n    <tr>\n      <th>13</th>\n      <td>6.0</td>\n      <td>NaN</td>\n      <td>NaN</td>\n    </tr>\n    <tr>\n      <th>15</th>\n      <td>6.0</td>\n      <td>Programming Fundamentals</td>\n      <td>NaN</td>\n    </tr>\n    <tr>\n      <th>16</th>\n      <td>5.0</td>\n      <td>NaN</td>\n      <td>NaN</td>\n    </tr>\n    <tr>\n      <th>17</th>\n      <td>4.0</td>\n      <td>NaN</td>\n      <td>NaN</td>\n    </tr>\n    <tr>\n      <th>18</th>\n      <td>3.0</td>\n      <td>NaN</td>\n      <td>NaN</td>\n    </tr>\n    <tr>\n      <th>19</th>\n      <td>2.0</td>\n      <td>NaN</td>\n      <td>NaN</td>\n    </tr>\n    <tr>\n      <th>20</th>\n      <td>2.0</td>\n      <td>NaN</td>\n      <td>NaN</td>\n    </tr>\n    <tr>\n      <th>21</th>\n      <td>2.0</td>\n      <td>NaN</td>\n      <td>NaN</td>\n    </tr>\n    <tr>\n      <th>22</th>\n      <td>1.0</td>\n      <td>Programming Fundamentals</td>\n      <td>NaN</td>\n    </tr>\n    <tr>\n      <th>23</th>\n      <td>1.0</td>\n      <td>NaN</td>\n      <td>NaN</td>\n    </tr>\n    <tr>\n      <th>24</th>\n      <td>1.0</td>\n      <td>NaN</td>\n      <td>NaN</td>\n    </tr>\n    <tr>\n      <th>25</th>\n      <td>1.0</td>\n      <td>Programming Fundamentals</td>\n      <td>NaN</td>\n    </tr>\n    <tr>\n      <th>26</th>\n      <td>1.0</td>\n      <td>NaN</td>\n      <td>NaN</td>\n    </tr>\n    <tr>\n      <th>27</th>\n      <td>1.0</td>\n      <td>NaN</td>\n      <td>NaN</td>\n    </tr>\n    <tr>\n      <th>31</th>\n      <td>NaN</td>\n      <td>NaN</td>\n      <td>10.0</td>\n    </tr>\n    <tr>\n      <th>32</th>\n      <td>NaN</td>\n      <td>Basics of Web Dev</td>\n      <td>NaN</td>\n    </tr>\n    <tr>\n      <th>33</th>\n      <td>NaN</td>\n      <td>Basics of Web Dev</td>\n      <td>NaN</td>\n    </tr>\n    <tr>\n      <th>34</th>\n      <td>NaN</td>\n      <td>Basics of Web Dev</td>\n      <td>NaN</td>\n    </tr>\n    <tr>\n      <th>35</th>\n      <td>NaN</td>\n      <td>Basics of Web Dev</td>\n      <td>NaN</td>\n    </tr>\n    <tr>\n      <th>36</th>\n      <td>NaN</td>\n      <td>Basics of Web Dev</td>\n      <td>NaN</td>\n    </tr>\n    <tr>\n      <th>37</th>\n      <td>NaN</td>\n      <td>Basics of Web Dev</td>\n      <td>NaN</td>\n    </tr>\n    <tr>\n      <th>38</th>\n      <td>NaN</td>\n      <td>Basics of Web Dev</td>\n      <td>NaN</td>\n    </tr>\n    <tr>\n      <th>39</th>\n      <td>NaN</td>\n      <td>Basics of Web Dev</td>\n      <td>NaN</td>\n    </tr>\n    <tr>\n      <th>40</th>\n      <td>NaN</td>\n      <td>Basics of Web Dev</td>\n      <td>NaN</td>\n    </tr>\n    <tr>\n      <th>41</th>\n      <td>NaN</td>\n      <td>Basics of Web Dev</td>\n      <td>NaN</td>\n    </tr>\n    <tr>\n      <th>42</th>\n      <td>NaN</td>\n      <td>Basics of Web Dev</td>\n      <td>NaN</td>\n    </tr>\n  </tbody>\n</table>\n</div>"
     },
     "metadata": {}
    }
   ],
   "execution_count": 37
  },
  {
   "cell_type": "code",
   "source": "# results_cert_assignment.fillna(0)",
   "metadata": {
    "cell_id": "e7bc8db62b3a445b996cf8064e7254ca",
    "tags": [],
    "deepnote_to_be_reexecuted": false,
    "source_hash": "e9f3665d",
    "execution_start": 1652977716276,
    "execution_millis": 1,
    "deepnote_cell_type": "code",
    "deepnote_cell_height": 81
   },
   "outputs": [],
   "execution_count": 38
  },
  {
   "cell_type": "code",
   "source": "results_cert_assignment[\"name\"]",
   "metadata": {
    "cell_id": "a4375bea52e44160b2b435ce692f1b86",
    "tags": [],
    "deepnote_to_be_reexecuted": false,
    "source_hash": "16b874b9",
    "execution_start": 1652977743189,
    "execution_millis": 7,
    "deepnote_cell_type": "code",
    "deepnote_cell_height": 708,
    "deepnote_output_heights": [
     611
    ]
   },
   "outputs": [
    {
     "output_type": "execute_result",
     "execution_count": 39,
     "data": {
      "text/plain": "0                          NaN\n1                          NaN\n2                          NaN\n3                          NaN\n4            Intro to Game Dev\n6     Programming Fundamentals\n7                          NaN\n8                          NaN\n9            Intro to Game Dev\n10           Intro to Game Dev\n11                         NaN\n12                         NaN\n13                         NaN\n15    Programming Fundamentals\n16                         NaN\n17                         NaN\n18                         NaN\n19                         NaN\n20                         NaN\n21                         NaN\n22    Programming Fundamentals\n23                         NaN\n24                         NaN\n25    Programming Fundamentals\n26                         NaN\n27                         NaN\n31                         NaN\n32           Basics of Web Dev\n33           Basics of Web Dev\n34           Basics of Web Dev\n35           Basics of Web Dev\n36           Basics of Web Dev\n37           Basics of Web Dev\n38           Basics of Web Dev\n39           Basics of Web Dev\n40           Basics of Web Dev\n41           Basics of Web Dev\n42           Basics of Web Dev\nName: name, dtype: object"
     },
     "metadata": {}
    }
   ],
   "execution_count": 39
  },
  {
   "cell_type": "code",
   "source": "results_cert_assignment[\"name\"] = results_cert_assignment[\"name\"].map(lambda x: 0 if str(x)=='nan' else 1)\nresults_cert_assignment[\"assignmentId\"] = results_cert_assignment[\"assignmentId\"].map(lambda x: 0 if str(x)=='nan' else 1) \nresults_cert_assignment",
   "metadata": {
    "cell_id": "cf38e2b4b9644ba4946cb4dde39d5bd9",
    "tags": [],
    "deepnote_to_be_reexecuted": false,
    "source_hash": "6a930b70",
    "execution_start": 1652977873103,
    "execution_millis": 59,
    "deepnote_cell_type": "code",
    "deepnote_cell_height": 636
   },
   "outputs": [
    {
     "output_type": "execute_result",
     "execution_count": 40,
     "data": {
      "application/vnd.deepnote.dataframe.v3+json": {
       "column_count": 3,
       "row_count": 38,
       "columns": [
        {
         "name": "Count of activites",
         "dtype": "float64",
         "stats": {
          "unique_count": 17,
          "nan_count": 12,
          "min": "1.0",
          "max": "210.0",
          "histogram": [
           {
            "bin_start": 1,
            "bin_end": 21.9,
            "count": 21
           },
           {
            "bin_start": 21.9,
            "bin_end": 42.8,
            "count": 3
           },
           {
            "bin_start": 42.8,
            "bin_end": 63.699999999999996,
            "count": 0
           },
           {
            "bin_start": 63.699999999999996,
            "bin_end": 84.6,
            "count": 1
           },
           {
            "bin_start": 84.6,
            "bin_end": 105.5,
            "count": 0
           },
           {
            "bin_start": 105.5,
            "bin_end": 126.39999999999999,
            "count": 0
           },
           {
            "bin_start": 126.39999999999999,
            "bin_end": 147.29999999999998,
            "count": 0
           },
           {
            "bin_start": 147.29999999999998,
            "bin_end": 168.2,
            "count": 0
           },
           {
            "bin_start": 168.2,
            "bin_end": 189.1,
            "count": 0
           },
           {
            "bin_start": 189.1,
            "bin_end": 210,
            "count": 1
           }
          ]
         }
        },
        {
         "name": "name",
         "dtype": "int64",
         "stats": {
          "unique_count": 2,
          "nan_count": 0,
          "min": "0",
          "max": "1",
          "histogram": [
           {
            "bin_start": 0,
            "bin_end": 0.1,
            "count": 20
           },
           {
            "bin_start": 0.1,
            "bin_end": 0.2,
            "count": 0
           },
           {
            "bin_start": 0.2,
            "bin_end": 0.30000000000000004,
            "count": 0
           },
           {
            "bin_start": 0.30000000000000004,
            "bin_end": 0.4,
            "count": 0
           },
           {
            "bin_start": 0.4,
            "bin_end": 0.5,
            "count": 0
           },
           {
            "bin_start": 0.5,
            "bin_end": 0.6000000000000001,
            "count": 0
           },
           {
            "bin_start": 0.6000000000000001,
            "bin_end": 0.7000000000000001,
            "count": 0
           },
           {
            "bin_start": 0.7000000000000001,
            "bin_end": 0.8,
            "count": 0
           },
           {
            "bin_start": 0.8,
            "bin_end": 0.9,
            "count": 0
           },
           {
            "bin_start": 0.9,
            "bin_end": 1,
            "count": 18
           }
          ]
         }
        },
        {
         "name": "assignmentId",
         "dtype": "int64",
         "stats": {
          "unique_count": 2,
          "nan_count": 0,
          "min": "0",
          "max": "1",
          "histogram": [
           {
            "bin_start": 0,
            "bin_end": 0.1,
            "count": 35
           },
           {
            "bin_start": 0.1,
            "bin_end": 0.2,
            "count": 0
           },
           {
            "bin_start": 0.2,
            "bin_end": 0.30000000000000004,
            "count": 0
           },
           {
            "bin_start": 0.30000000000000004,
            "bin_end": 0.4,
            "count": 0
           },
           {
            "bin_start": 0.4,
            "bin_end": 0.5,
            "count": 0
           },
           {
            "bin_start": 0.5,
            "bin_end": 0.6000000000000001,
            "count": 0
           },
           {
            "bin_start": 0.6000000000000001,
            "bin_end": 0.7000000000000001,
            "count": 0
           },
           {
            "bin_start": 0.7000000000000001,
            "bin_end": 0.8,
            "count": 0
           },
           {
            "bin_start": 0.8,
            "bin_end": 0.9,
            "count": 0
           },
           {
            "bin_start": 0.9,
            "bin_end": 1,
            "count": 3
           }
          ]
         }
        },
        {
         "name": "_deepnote_index_column",
         "dtype": "int64"
        }
       ],
       "rows": [
        {
         "Count of activites": 210,
         "name": 0,
         "assignmentId": 1,
         "_deepnote_index_column": 0
        },
        {
         "Count of activites": 67,
         "name": 0,
         "assignmentId": 0,
         "_deepnote_index_column": 1
        },
        {
         "Count of activites": 32,
         "name": 0,
         "assignmentId": 0,
         "_deepnote_index_column": 2
        },
        {
         "Count of activites": 25,
         "name": 0,
         "assignmentId": 0,
         "_deepnote_index_column": 3
        },
        {
         "Count of activites": 23,
         "name": 1,
         "assignmentId": 0,
         "_deepnote_index_column": 4
        },
        {
         "Count of activites": 17,
         "name": 1,
         "assignmentId": 0,
         "_deepnote_index_column": 6
        },
        {
         "Count of activites": 17,
         "name": 0,
         "assignmentId": 0,
         "_deepnote_index_column": 7
        },
        {
         "Count of activites": 16,
         "name": 0,
         "assignmentId": 1,
         "_deepnote_index_column": 8
        },
        {
         "Count of activites": 13,
         "name": 1,
         "assignmentId": 0,
         "_deepnote_index_column": 9
        },
        {
         "Count of activites": 10,
         "name": 1,
         "assignmentId": 0,
         "_deepnote_index_column": 10
        }
       ]
      },
      "text/plain": "    Count of activites  name  assignmentId\n0                210.0     0             1\n1                 67.0     0             0\n2                 32.0     0             0\n3                 25.0     0             0\n4                 23.0     1             0\n6                 17.0     1             0\n7                 17.0     0             0\n8                 16.0     0             1\n9                 13.0     1             0\n10                10.0     1             0\n11                 8.0     0             0\n12                 7.0     0             0\n13                 6.0     0             0\n15                 6.0     1             0\n16                 5.0     0             0\n17                 4.0     0             0\n18                 3.0     0             0\n19                 2.0     0             0\n20                 2.0     0             0\n21                 2.0     0             0\n22                 1.0     1             0\n23                 1.0     0             0\n24                 1.0     0             0\n25                 1.0     1             0\n26                 1.0     0             0\n27                 1.0     0             0\n31                 NaN     0             1\n32                 NaN     1             0\n33                 NaN     1             0\n34                 NaN     1             0\n35                 NaN     1             0\n36                 NaN     1             0\n37                 NaN     1             0\n38                 NaN     1             0\n39                 NaN     1             0\n40                 NaN     1             0\n41                 NaN     1             0\n42                 NaN     1             0",
      "text/html": "<div>\n<style scoped>\n    .dataframe tbody tr th:only-of-type {\n        vertical-align: middle;\n    }\n\n    .dataframe tbody tr th {\n        vertical-align: top;\n    }\n\n    .dataframe thead th {\n        text-align: right;\n    }\n</style>\n<table border=\"1\" class=\"dataframe\">\n  <thead>\n    <tr style=\"text-align: right;\">\n      <th></th>\n      <th>Count of activites</th>\n      <th>name</th>\n      <th>assignmentId</th>\n    </tr>\n  </thead>\n  <tbody>\n    <tr>\n      <th>0</th>\n      <td>210.0</td>\n      <td>0</td>\n      <td>1</td>\n    </tr>\n    <tr>\n      <th>1</th>\n      <td>67.0</td>\n      <td>0</td>\n      <td>0</td>\n    </tr>\n    <tr>\n      <th>2</th>\n      <td>32.0</td>\n      <td>0</td>\n      <td>0</td>\n    </tr>\n    <tr>\n      <th>3</th>\n      <td>25.0</td>\n      <td>0</td>\n      <td>0</td>\n    </tr>\n    <tr>\n      <th>4</th>\n      <td>23.0</td>\n      <td>1</td>\n      <td>0</td>\n    </tr>\n    <tr>\n      <th>6</th>\n      <td>17.0</td>\n      <td>1</td>\n      <td>0</td>\n    </tr>\n    <tr>\n      <th>7</th>\n      <td>17.0</td>\n      <td>0</td>\n      <td>0</td>\n    </tr>\n    <tr>\n      <th>8</th>\n      <td>16.0</td>\n      <td>0</td>\n      <td>1</td>\n    </tr>\n    <tr>\n      <th>9</th>\n      <td>13.0</td>\n      <td>1</td>\n      <td>0</td>\n    </tr>\n    <tr>\n      <th>10</th>\n      <td>10.0</td>\n      <td>1</td>\n      <td>0</td>\n    </tr>\n    <tr>\n      <th>11</th>\n      <td>8.0</td>\n      <td>0</td>\n      <td>0</td>\n    </tr>\n    <tr>\n      <th>12</th>\n      <td>7.0</td>\n      <td>0</td>\n      <td>0</td>\n    </tr>\n    <tr>\n      <th>13</th>\n      <td>6.0</td>\n      <td>0</td>\n      <td>0</td>\n    </tr>\n    <tr>\n      <th>15</th>\n      <td>6.0</td>\n      <td>1</td>\n      <td>0</td>\n    </tr>\n    <tr>\n      <th>16</th>\n      <td>5.0</td>\n      <td>0</td>\n      <td>0</td>\n    </tr>\n    <tr>\n      <th>17</th>\n      <td>4.0</td>\n      <td>0</td>\n      <td>0</td>\n    </tr>\n    <tr>\n      <th>18</th>\n      <td>3.0</td>\n      <td>0</td>\n      <td>0</td>\n    </tr>\n    <tr>\n      <th>19</th>\n      <td>2.0</td>\n      <td>0</td>\n      <td>0</td>\n    </tr>\n    <tr>\n      <th>20</th>\n      <td>2.0</td>\n      <td>0</td>\n      <td>0</td>\n    </tr>\n    <tr>\n      <th>21</th>\n      <td>2.0</td>\n      <td>0</td>\n      <td>0</td>\n    </tr>\n    <tr>\n      <th>22</th>\n      <td>1.0</td>\n      <td>1</td>\n      <td>0</td>\n    </tr>\n    <tr>\n      <th>23</th>\n      <td>1.0</td>\n      <td>0</td>\n      <td>0</td>\n    </tr>\n    <tr>\n      <th>24</th>\n      <td>1.0</td>\n      <td>0</td>\n      <td>0</td>\n    </tr>\n    <tr>\n      <th>25</th>\n      <td>1.0</td>\n      <td>1</td>\n      <td>0</td>\n    </tr>\n    <tr>\n      <th>26</th>\n      <td>1.0</td>\n      <td>0</td>\n      <td>0</td>\n    </tr>\n    <tr>\n      <th>27</th>\n      <td>1.0</td>\n      <td>0</td>\n      <td>0</td>\n    </tr>\n    <tr>\n      <th>31</th>\n      <td>NaN</td>\n      <td>0</td>\n      <td>1</td>\n    </tr>\n    <tr>\n      <th>32</th>\n      <td>NaN</td>\n      <td>1</td>\n      <td>0</td>\n    </tr>\n    <tr>\n      <th>33</th>\n      <td>NaN</td>\n      <td>1</td>\n      <td>0</td>\n    </tr>\n    <tr>\n      <th>34</th>\n      <td>NaN</td>\n      <td>1</td>\n      <td>0</td>\n    </tr>\n    <tr>\n      <th>35</th>\n      <td>NaN</td>\n      <td>1</td>\n      <td>0</td>\n    </tr>\n    <tr>\n      <th>36</th>\n      <td>NaN</td>\n      <td>1</td>\n      <td>0</td>\n    </tr>\n    <tr>\n      <th>37</th>\n      <td>NaN</td>\n      <td>1</td>\n      <td>0</td>\n    </tr>\n    <tr>\n      <th>38</th>\n      <td>NaN</td>\n      <td>1</td>\n      <td>0</td>\n    </tr>\n    <tr>\n      <th>39</th>\n      <td>NaN</td>\n      <td>1</td>\n      <td>0</td>\n    </tr>\n    <tr>\n      <th>40</th>\n      <td>NaN</td>\n      <td>1</td>\n      <td>0</td>\n    </tr>\n    <tr>\n      <th>41</th>\n      <td>NaN</td>\n      <td>1</td>\n      <td>0</td>\n    </tr>\n    <tr>\n      <th>42</th>\n      <td>NaN</td>\n      <td>1</td>\n      <td>0</td>\n    </tr>\n  </tbody>\n</table>\n</div>"
     },
     "metadata": {}
    }
   ],
   "execution_count": 40
  },
  {
   "cell_type": "code",
   "source": "import matplotlib.pyplot as plt\nimport seaborn as sns\ncorr_matrix = results_cert_assignment.corr()\nplt.figure(figsize=[10, 10])\nsns.heatmap(corr_matrix, annot=True, cmap=\"RdYlGn\")\nplt.title(\"Correlation Matrix\", fontweight=\"bold\", fontsize=16)\nplt.show()",
   "metadata": {
    "cell_id": "6b20f04b3a0f4908abcc13018d07836f",
    "tags": [],
    "owner_user_id": "78ada1d8-81d9-49c3-9dce-bb8720f28287",
    "deepnote_to_be_reexecuted": false,
    "source_hash": "d5bda00e",
    "execution_start": 1652977887889,
    "execution_millis": 2522,
    "allow_embed": "output",
    "deepnote_cell_type": "code",
    "deepnote_cell_height": 799,
    "deepnote_output_heights": [
     594
    ]
   },
   "outputs": [
    {
     "data": {
      "text/plain": "<Figure size 720x720 with 2 Axes>",
      "image/png": "[encoded data removed]"
     },
     "metadata": {
      "needs_background": "light",
      "image/png": {
       "width": 564,
       "height": 592
      }
     },
     "output_type": "display_data"
    }
   ],
   "execution_count": 41
  },
  {
   "cell_type": "markdown",
   "source": "## Recommendations for [Project Function](https://projectfunction.io/)\n\n- Record log out data as timestamp in Activiy Log\n- Enforce uniqueness consraint on Assignment submission, overwrite previous submission",
   "metadata": {
    "cell_id": "4d451fc0b06244f788d68923327fd191",
    "tags": [],
    "deepnote_cell_type": "markdown",
    "deepnote_cell_height": 147.796875
   }
  },
  {
   "cell_type": "markdown",
   "source": "<a style='text-decoration:none;line-height:16px;display:flex;color:#5B5B62;padding:10px;justify-content:end;' href='https://deepnote.com?utm_source=created-in-deepnote-cell&projectId=8d15e87d-b710-4fff-80ef-ff0e4cb338ff' target=\"_blank\">\n<img alt='Created in deepnote.com' style='display:inline;max-height:16px;margin:0px;margin-right:7.5px;' src='data:image/svg+xml;base64,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' > </img>\nCreated in <span style='font-weight:600;margin-left:4px;'>Deepnote</span></a>",
   "metadata": {
    "tags": [],
    "created_in_deepnote_cell": true,
    "deepnote_cell_type": "markdown"
   }
  }
 ],
 "nbformat": 4,
 "nbformat_minor": 2,
 "metadata": {
  "orig_nbformat": 2,
  "deepnote": {},
  "deepnote_notebook_id": "6dee76f1-37d5-4e2e-95f0-b53463d43763",
  "deepnote_execution_queue": []
 }
}