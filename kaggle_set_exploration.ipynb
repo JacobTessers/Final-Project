{
 "cells": [
  {
   "cell_type": "code",
   "metadata": {
    "cell_id": "956744a18bf1469586898f25c0096276",
    "tags": [],
    "deepnote_to_be_reexecuted": false,
    "source_hash": "9b82ee11",
    "execution_start": 1652160682788,
    "execution_millis": 0,
    "deepnote_cell_type": "code",
    "deepnote_cell_height": 81
   },
   "source": "import pandas as pd",
   "execution_count": 1,
   "outputs": []
  },
  {
   "cell_type": "code",
   "metadata": {
    "cell_id": "256afec83eba426092d74f6394c05bed",
    "tags": [],
    "deepnote_to_be_reexecuted": false,
    "source_hash": "87ab321c",
    "execution_start": 1652160682831,
    "execution_millis": 147,
    "deepnote_cell_type": "code",
    "deepnote_cell_height": 81
   },
   "source": "income = pd.read_csv('kaggle_income.csv')",
   "execution_count": 2,
   "outputs": []
  },
  {
   "cell_type": "code",
   "metadata": {
    "cell_id": "793c8284d75540f4bbe4194017efa4c9",
    "tags": [],
    "deepnote_to_be_reexecuted": false,
    "source_hash": "7ebef03b",
    "execution_start": 1652160683023,
    "execution_millis": 141,
    "deepnote_cell_type": "code",
    "deepnote_cell_height": 613.59375
   },
   "source": "income",
   "execution_count": 3,
   "outputs": [
    {
     "output_type": "execute_result",
     "execution_count": 3,
     "data": {
      "application/vnd.deepnote.dataframe.v3+json": {
       "column_count": 19,
       "row_count": 32526,
       "columns": [
        {
         "name": "id",
         "dtype": "int64",
         "stats": {
          "unique_count": 32526,
          "nan_count": 0,
          "min": "1026",
          "max": "480221068",
          "histogram": [
           {
            "bin_start": 1026,
            "bin_end": 48023030.2,
            "count": 23799
           },
           {
            "bin_start": 48023030.2,
            "bin_end": 96045034.4,
            "count": 5115
           },
           {
            "bin_start": 96045034.4,
            "bin_end": 144067038.60000002,
            "count": 569
           },
           {
            "bin_start": 144067038.60000002,
            "bin_end": 192089042.8,
            "count": 281
           },
           {
            "bin_start": 192089042.8,
            "bin_end": 240111047,
            "count": 0
           },
           {
            "bin_start": 240111047,
            "bin_end": 288133051.20000005,
            "count": 102
           },
           {
            "bin_start": 288133051.20000005,
            "bin_end": 336155055.40000004,
            "count": 0
           },
           {
            "bin_start": 336155055.40000004,
            "bin_end": 384177059.6,
            "count": 1038
           },
           {
            "bin_start": 384177059.6,
            "bin_end": 432199063.8,
            "count": 515
           },
           {
            "bin_start": 432199063.8,
            "bin_end": 480221068,
            "count": 1107
           }
          ]
         }
        },
        {
         "name": "State_Code",
         "dtype": "int64",
         "stats": {
          "unique_count": 52,
          "nan_count": 0,
          "min": "1",
          "max": "72",
          "histogram": [
           {
            "bin_start": 1,
            "bin_end": 8.1,
            "count": 5394
           },
           {
            "bin_start": 8.1,
            "bin_end": 15.2,
            "count": 3124
           },
           {
            "bin_start": 15.2,
            "bin_end": 22.299999999999997,
            "count": 4127
           },
           {
            "bin_start": 22.299999999999997,
            "bin_end": 29.4,
            "count": 4249
           },
           {
            "bin_start": 29.4,
            "bin_end": 36.5,
            "count": 4107
           },
           {
            "bin_start": 36.5,
            "bin_end": 43.599999999999994,
            "count": 4725
           },
           {
            "bin_start": 43.599999999999994,
            "bin_end": 50.699999999999996,
            "count": 3950
           },
           {
            "bin_start": 50.699999999999996,
            "bin_end": 57.8,
            "count": 2470
           },
           {
            "bin_start": 57.8,
            "bin_end": 64.9,
            "count": 0
           },
           {
            "bin_start": 64.9,
            "bin_end": 72,
            "count": 380
           }
          ]
         }
        },
        {
         "name": "State_Name",
         "dtype": "object",
         "stats": {
          "unique_count": 52,
          "nan_count": 0,
          "categories": [
           {
            "name": "California",
            "count": 3280
           },
           {
            "name": "Texas",
            "count": 2300
           },
           {
            "name": "50 others",
            "count": 26946
           }
          ]
         }
        },
        {
         "name": "State_ab",
         "dtype": "object"
        },
        {
         "name": "County",
         "dtype": "object"
        },
        {
         "name": "City",
         "dtype": "object"
        },
        {
         "name": "Place",
         "dtype": "object"
        },
        {
         "name": "Type",
         "dtype": "object"
        },
        {
         "name": "Primary",
         "dtype": "object"
        },
        {
         "name": "Zip_Code",
         "dtype": "int64"
        },
        {
         "name": "Area_Code",
         "dtype": "object"
        },
        {
         "name": "ALand",
         "dtype": "int64"
        },
        {
         "name": "AWater",
         "dtype": "int64"
        },
        {
         "name": "Lat",
         "dtype": "float64"
        },
        {
         "name": "Lon",
         "dtype": "float64"
        },
        {
         "name": "Mean",
         "dtype": "int64"
        },
        {
         "name": "Median",
         "dtype": "int64"
        },
        {
         "name": "Stdev",
         "dtype": "int64"
        },
        {
         "name": "sum_w",
         "dtype": "float64"
        },
        {
         "name": "_deepnote_index_column",
         "dtype": "int64"
        }
       ],
       "rows": [
        {
         "id": 1011000,
         "State_Code": 1,
         "State_Name": "Alabama",
         "State_ab": "AL",
         "County": "Mobile County",
         "City": "Chickasaw",
         "Place": "Chickasaw city",
         "Type": "City",
         "Primary": "place",
         "Zip_Code": 36611,
         "Area_Code": "251",
         "ALand": 10894952,
         "AWater": 909156,
         "Lat": 30.77145,
         "Lon": -88.079697,
         "Mean": 38773,
         "Median": 30506,
         "Stdev": 33101,
         "sum_w": 1638.26051309172,
         "_deepnote_index_column": 0
        },
        {
         "id": 1011010,
         "State_Code": 1,
         "State_Name": "Alabama",
         "State_ab": "AL",
         "County": "Barbour County",
         "City": "Louisville",
         "Place": "Clio city",
         "Type": "City",
         "Primary": "place",
         "Zip_Code": 36048,
         "Area_Code": "334",
         "ALand": 26070325,
         "AWater": 23254,
         "Lat": 31.708516,
         "Lon": -85.611039,
         "Mean": 37725,
         "Median": 19528,
         "Stdev": 43789,
         "sum_w": 258.017684685483,
         "_deepnote_index_column": 1
        },
        {
         "id": 1011020,
         "State_Code": 1,
         "State_Name": "Alabama",
         "State_ab": "AL",
         "County": "Shelby County",
         "City": "Columbiana",
         "Place": "Columbiana city",
         "Type": "City",
         "Primary": "place",
         "Zip_Code": 35051,
         "Area_Code": "205",
         "ALand": 44835274,
         "AWater": 261034,
         "Lat": 33.191452,
         "Lon": -86.615618,
         "Mean": 54606,
         "Median": 31930,
         "Stdev": 57348,
         "sum_w": 926.030999750251,
         "_deepnote_index_column": 2
        },
        {
         "id": 1011030,
         "State_Code": 1,
         "State_Name": "Alabama",
         "State_ab": "AL",
         "County": "Mobile County",
         "City": "Satsuma",
         "Place": "Creola city",
         "Type": "City",
         "Primary": "place",
         "Zip_Code": 36572,
         "Area_Code": "251",
         "ALand": 36878729,
         "AWater": 2374530,
         "Lat": 30.874343,
         "Lon": -88.009442,
         "Mean": 63919,
         "Median": 52814,
         "Stdev": 47707,
         "sum_w": 378.11461910293,
         "_deepnote_index_column": 3
        },
        {
         "id": 1011040,
         "State_Code": 1,
         "State_Name": "Alabama",
         "State_ab": "AL",
         "County": "Mobile County",
         "City": "Dauphin Island",
         "Place": "Dauphin Island",
         "Type": "Town",
         "Primary": "place",
         "Zip_Code": 36528,
         "Area_Code": "251",
         "ALand": 16204185,
         "AWater": 413605152,
         "Lat": 30.250913,
         "Lon": -88.171268,
         "Mean": 77948,
         "Median": 67225,
         "Stdev": 54270,
         "sum_w": 282.320327843928,
         "_deepnote_index_column": 4
        },
        {
         "id": 1011050,
         "State_Code": 1,
         "State_Name": "Alabama",
         "State_ab": "AL",
         "County": "Cullman County",
         "City": "Cullman",
         "Place": "Dodge City",
         "Type": "Town",
         "Primary": "place",
         "Zip_Code": 35057,
         "Area_Code": "256",
         "ALand": 8913021,
         "AWater": 26837,
         "Lat": 34.045414,
         "Lon": -86.88267,
         "Mean": 50715,
         "Median": 42643,
         "Stdev": 35886,
         "sum_w": 173.325958599703,
         "_deepnote_index_column": 5
        },
        {
         "id": 1011060,
         "State_Code": 1,
         "State_Name": "Alabama",
         "State_ab": "AL",
         "County": "Escambia County",
         "City": "East Brewton",
         "Place": "East Brewton city",
         "Type": "City",
         "Primary": "place",
         "Zip_Code": 36426,
         "Area_Code": "251",
         "ALand": 8826252,
         "AWater": 91015,
         "Lat": 31.09144,
         "Lon": -87.055345,
         "Mean": 33737,
         "Median": 23610,
         "Stdev": 28256,
         "sum_w": 758.771322372054,
         "_deepnote_index_column": 6
        },
        {
         "id": 1011070,
         "State_Code": 1,
         "State_Name": "Alabama",
         "State_ab": "AL",
         "County": "Elmore County",
         "City": "Coosada",
         "Place": "Elmore",
         "Type": "Town",
         "Primary": "place",
         "Zip_Code": 36020,
         "Area_Code": "334",
         "ALand": 10222339,
         "AWater": 176500,
         "Lat": 32.544337,
         "Lon": -86.336446,
         "Mean": 46319,
         "Median": 40242,
         "Stdev": 38941,
         "sum_w": 397.052564239374,
         "_deepnote_index_column": 7
        },
        {
         "id": 1011080,
         "State_Code": 1,
         "State_Name": "Alabama",
         "State_ab": "AL",
         "County": "Morgan County",
         "City": "Eva",
         "Place": "Eva",
         "Type": "Town",
         "Primary": "place",
         "Zip_Code": 35621,
         "Area_Code": "256",
         "ALand": 10544874,
         "AWater": 78981,
         "Lat": 34.326504,
         "Lon": -86.765318,
         "Mean": 57994,
         "Median": 39591,
         "Stdev": 47235,
         "sum_w": 137.496038515582,
         "_deepnote_index_column": 8
        },
        {
         "id": 1011090,
         "State_Code": 1,
         "State_Name": "Alabama",
         "State_ab": "AL",
         "County": "Talladega County",
         "City": "Sylacauga",
         "Place": "Fayetteville",
         "Type": "CDP",
         "Primary": "place",
         "Zip_Code": 35151,
         "Area_Code": "256",
         "ALand": 45178321,
         "AWater": 6034534,
         "Lat": 33.168097,
         "Lon": -86.442774,
         "Mean": 54807,
         "Median": 41712,
         "Stdev": 51359,
         "sum_w": 380.728238095448,
         "_deepnote_index_column": 9
        }
       ]
      },
      "text/plain": "            id  State_Code   State_Name State_ab              County  \\\n0      1011000           1      Alabama       AL       Mobile County   \n1      1011010           1      Alabama       AL      Barbour County   \n2      1011020           1      Alabama       AL       Shelby County   \n3      1011030           1      Alabama       AL       Mobile County   \n4      1011040           1      Alabama       AL       Mobile County   \n...        ...         ...          ...      ...                 ...   \n32521   720296          72  Puerto Rico       PR  Adjuntas Municipio   \n32522  7202966          72  Puerto Rico       PR  Adjuntas Municipio   \n32523  7202976          72  Puerto Rico       PR  Adjuntas Municipio   \n32524  7202986          72  Puerto Rico       PR  Adjuntas Municipio   \n32525  7202996          72  Puerto Rico       PR  Adjuntas Municipio   \n\n                 City            Place   Type Primary  Zip_Code Area_Code  \\\n0           Chickasaw   Chickasaw city   City   place     36611       251   \n1          Louisville        Clio city   City   place     36048       334   \n2          Columbiana  Columbiana city   City   place     35051       205   \n3             Satsuma      Creola city   City   place     36572       251   \n4      Dauphin Island   Dauphin Island   Town   place     36528       251   \n...               ...              ...    ...     ...       ...       ...   \n32521        Guaynabo         Adjuntas  Track   Track       970       787   \n32522          Aguada         Adjuntas  Track   Track       602       787   \n32523          Aguada         Adjuntas  Track   Track       602       787   \n32524          Aguada         Adjuntas  Track   Track       602       787   \n32525       Aguadilla         Adjuntas  Track   Track       603       787   \n\n          ALand     AWater        Lat        Lon   Mean  Median  Stdev  \\\n0      10894952     909156  30.771450 -88.079697  38773   30506  33101   \n1      26070325      23254  31.708516 -85.611039  37725   19528  43789   \n2      44835274     261034  33.191452 -86.615618  54606   31930  57348   \n3      36878729    2374530  30.874343 -88.009442  63919   52814  47707   \n4      16204185  413605152  30.250913 -88.171268  77948   67225  54270   \n...         ...        ...        ...        ...    ...     ...    ...   \n32521    589417       1691  18.397925 -66.130633  30649   13729  37977   \n32522   1801613     795887  18.385424 -67.203310  15520    9923  15541   \n32523  11031227          0  18.356565 -67.180686  41933   34054  31539   \n32524         0   33597561  18.412041 -67.213413      0       0      0   \n32525   6476604    2717115  18.478094 -67.160453  28049   20229  33333   \n\n             sum_w  \n0      1638.260513  \n1       258.017685  \n2       926.031000  \n3       378.114619  \n4       282.320328  \n...            ...  \n32521  1321.278082  \n32522   238.813450  \n32523   313.551070  \n32524     0.000000  \n32525   512.884803  \n\n[32526 rows x 19 columns]",
      "text/html": "<div>\n<style scoped>\n    .dataframe tbody tr th:only-of-type {\n        vertical-align: middle;\n    }\n\n    .dataframe tbody tr th {\n        vertical-align: top;\n    }\n\n    .dataframe thead th {\n        text-align: right;\n    }\n</style>\n<table border=\"1\" class=\"dataframe\">\n  <thead>\n    <tr style=\"text-align: right;\">\n      <th></th>\n      <th>id</th>\n      <th>State_Code</th>\n      <th>State_Name</th>\n      <th>State_ab</th>\n      <th>County</th>\n      <th>City</th>\n      <th>Place</th>\n      <th>Type</th>\n      <th>Primary</th>\n      <th>Zip_Code</th>\n      <th>Area_Code</th>\n      <th>ALand</th>\n      <th>AWater</th>\n      <th>Lat</th>\n      <th>Lon</th>\n      <th>Mean</th>\n      <th>Median</th>\n      <th>Stdev</th>\n      <th>sum_w</th>\n    </tr>\n  </thead>\n  <tbody>\n    <tr>\n      <th>0</th>\n      <td>1011000</td>\n      <td>1</td>\n      <td>Alabama</td>\n      <td>AL</td>\n      <td>Mobile County</td>\n      <td>Chickasaw</td>\n      <td>Chickasaw city</td>\n      <td>City</td>\n      <td>place</td>\n      <td>36611</td>\n      <td>251</td>\n      <td>10894952</td>\n      <td>909156</td>\n      <td>30.771450</td>\n      <td>-88.079697</td>\n      <td>38773</td>\n      <td>30506</td>\n      <td>33101</td>\n      <td>1638.260513</td>\n    </tr>\n    <tr>\n      <th>1</th>\n      <td>1011010</td>\n      <td>1</td>\n      <td>Alabama</td>\n      <td>AL</td>\n      <td>Barbour County</td>\n      <td>Louisville</td>\n      <td>Clio city</td>\n      <td>City</td>\n      <td>place</td>\n      <td>36048</td>\n      <td>334</td>\n      <td>26070325</td>\n      <td>23254</td>\n      <td>31.708516</td>\n      <td>-85.611039</td>\n      <td>37725</td>\n      <td>19528</td>\n      <td>43789</td>\n      <td>258.017685</td>\n    </tr>\n    <tr>\n      <th>2</th>\n      <td>1011020</td>\n      <td>1</td>\n      <td>Alabama</td>\n      <td>AL</td>\n      <td>Shelby County</td>\n      <td>Columbiana</td>\n      <td>Columbiana city</td>\n      <td>City</td>\n      <td>place</td>\n      <td>35051</td>\n      <td>205</td>\n      <td>44835274</td>\n      <td>261034</td>\n      <td>33.191452</td>\n      <td>-86.615618</td>\n      <td>54606</td>\n      <td>31930</td>\n      <td>57348</td>\n      <td>926.031000</td>\n    </tr>\n    <tr>\n      <th>3</th>\n      <td>1011030</td>\n      <td>1</td>\n      <td>Alabama</td>\n      <td>AL</td>\n      <td>Mobile County</td>\n      <td>Satsuma</td>\n      <td>Creola city</td>\n      <td>City</td>\n      <td>place</td>\n      <td>36572</td>\n      <td>251</td>\n      <td>36878729</td>\n      <td>2374530</td>\n      <td>30.874343</td>\n      <td>-88.009442</td>\n      <td>63919</td>\n      <td>52814</td>\n      <td>47707</td>\n      <td>378.114619</td>\n    </tr>\n    <tr>\n      <th>4</th>\n      <td>1011040</td>\n      <td>1</td>\n      <td>Alabama</td>\n      <td>AL</td>\n      <td>Mobile County</td>\n      <td>Dauphin Island</td>\n      <td>Dauphin Island</td>\n      <td>Town</td>\n      <td>place</td>\n      <td>36528</td>\n      <td>251</td>\n      <td>16204185</td>\n      <td>413605152</td>\n      <td>30.250913</td>\n      <td>-88.171268</td>\n      <td>77948</td>\n      <td>67225</td>\n      <td>54270</td>\n      <td>282.320328</td>\n    </tr>\n    <tr>\n      <th>...</th>\n      <td>...</td>\n      <td>...</td>\n      <td>...</td>\n      <td>...</td>\n      <td>...</td>\n      <td>...</td>\n      <td>...</td>\n      <td>...</td>\n      <td>...</td>\n      <td>...</td>\n      <td>...</td>\n      <td>...</td>\n      <td>...</td>\n      <td>...</td>\n      <td>...</td>\n      <td>...</td>\n      <td>...</td>\n      <td>...</td>\n      <td>...</td>\n    </tr>\n    <tr>\n      <th>32521</th>\n      <td>720296</td>\n      <td>72</td>\n      <td>Puerto Rico</td>\n      <td>PR</td>\n      <td>Adjuntas Municipio</td>\n      <td>Guaynabo</td>\n      <td>Adjuntas</td>\n      <td>Track</td>\n      <td>Track</td>\n      <td>970</td>\n      <td>787</td>\n      <td>589417</td>\n      <td>1691</td>\n      <td>18.397925</td>\n      <td>-66.130633</td>\n      <td>30649</td>\n      <td>13729</td>\n      <td>37977</td>\n      <td>1321.278082</td>\n    </tr>\n    <tr>\n      <th>32522</th>\n      <td>7202966</td>\n      <td>72</td>\n      <td>Puerto Rico</td>\n      <td>PR</td>\n      <td>Adjuntas Municipio</td>\n      <td>Aguada</td>\n      <td>Adjuntas</td>\n      <td>Track</td>\n      <td>Track</td>\n      <td>602</td>\n      <td>787</td>\n      <td>1801613</td>\n      <td>795887</td>\n      <td>18.385424</td>\n      <td>-67.203310</td>\n      <td>15520</td>\n      <td>9923</td>\n      <td>15541</td>\n      <td>238.813450</td>\n    </tr>\n    <tr>\n      <th>32523</th>\n      <td>7202976</td>\n      <td>72</td>\n      <td>Puerto Rico</td>\n      <td>PR</td>\n      <td>Adjuntas Municipio</td>\n      <td>Aguada</td>\n      <td>Adjuntas</td>\n      <td>Track</td>\n      <td>Track</td>\n      <td>602</td>\n      <td>787</td>\n      <td>11031227</td>\n      <td>0</td>\n      <td>18.356565</td>\n      <td>-67.180686</td>\n      <td>41933</td>\n      <td>34054</td>\n      <td>31539</td>\n      <td>313.551070</td>\n    </tr>\n    <tr>\n      <th>32524</th>\n      <td>7202986</td>\n      <td>72</td>\n      <td>Puerto Rico</td>\n      <td>PR</td>\n      <td>Adjuntas Municipio</td>\n      <td>Aguada</td>\n      <td>Adjuntas</td>\n      <td>Track</td>\n      <td>Track</td>\n      <td>602</td>\n      <td>787</td>\n      <td>0</td>\n      <td>33597561</td>\n      <td>18.412041</td>\n      <td>-67.213413</td>\n      <td>0</td>\n      <td>0</td>\n      <td>0</td>\n      <td>0.000000</td>\n    </tr>\n    <tr>\n      <th>32525</th>\n      <td>7202996</td>\n      <td>72</td>\n      <td>Puerto Rico</td>\n      <td>PR</td>\n      <td>Adjuntas Municipio</td>\n      <td>Aguadilla</td>\n      <td>Adjuntas</td>\n      <td>Track</td>\n      <td>Track</td>\n      <td>603</td>\n      <td>787</td>\n      <td>6476604</td>\n      <td>2717115</td>\n      <td>18.478094</td>\n      <td>-67.160453</td>\n      <td>28049</td>\n      <td>20229</td>\n      <td>33333</td>\n      <td>512.884803</td>\n    </tr>\n  </tbody>\n</table>\n<p>32526 rows × 19 columns</p>\n</div>"
     },
     "metadata": {}
    }
   ]
  },
  {
   "cell_type": "code",
   "metadata": {
    "cell_id": "14378801e6d94035a678eb1cd7c53e53",
    "tags": [],
    "deepnote_to_be_reexecuted": false,
    "source_hash": "fd35f0eb",
    "execution_start": 1652160683216,
    "execution_millis": 1,
    "deepnote_cell_type": "code",
    "deepnote_cell_height": 612
   },
   "source": "income.info()",
   "execution_count": 4,
   "outputs": [
    {
     "name": "stdout",
     "text": "<class 'pandas.core.frame.DataFrame'>\nRangeIndex: 32526 entries, 0 to 32525\nData columns (total 19 columns):\n #   Column      Non-Null Count  Dtype  \n---  ------      --------------  -----  \n 0   id          32526 non-null  int64  \n 1   State_Code  32526 non-null  int64  \n 2   State_Name  32526 non-null  object \n 3   State_ab    32526 non-null  object \n 4   County      32526 non-null  object \n 5   City        32526 non-null  object \n 6   Place       32526 non-null  object \n 7   Type        32526 non-null  object \n 8   Primary     32526 non-null  object \n 9   Zip_Code    32526 non-null  int64  \n 10  Area_Code   32526 non-null  object \n 11  ALand       32526 non-null  int64  \n 12  AWater      32526 non-null  int64  \n 13  Lat         32526 non-null  float64\n 14  Lon         32526 non-null  float64\n 15  Mean        32526 non-null  int64  \n 16  Median      32526 non-null  int64  \n 17  Stdev       32526 non-null  int64  \n 18  sum_w       32526 non-null  float64\ndtypes: float64(3), int64(8), object(8)\nmemory usage: 4.7+ MB\n",
     "output_type": "stream"
    }
   ]
  },
  {
   "cell_type": "code",
   "metadata": {
    "cell_id": "f26a9b6f5c7e41e2a4792f36b0059abc",
    "tags": [],
    "deepnote_to_be_reexecuted": false,
    "source_hash": "15df8137",
    "execution_start": 1652160683253,
    "execution_millis": 5,
    "deepnote_table_state": {
     "pageSize": 10,
     "pageIndex": 0,
     "filters": [],
     "sortBy": []
    },
    "deepnote_table_loading": false,
    "deepnote_cell_type": "code",
    "deepnote_cell_height": 618
   },
   "source": "salaries = pd.read_csv(\"us_salaries.csv\")\nsalaries",
   "execution_count": 5,
   "outputs": [
    {
     "output_type": "execute_result",
     "execution_count": 5,
     "data": {
      "application/vnd.deepnote.dataframe.v3+json": {
       "column_count": 2,
       "row_count": 52,
       "columns": [
        {
         "name": "State_Name",
         "dtype": "object",
         "stats": {
          "unique_count": 52,
          "nan_count": 0,
          "categories": [
           {
            "name": "Alabama",
            "count": 1
           },
           {
            "name": "Alaska",
            "count": 1
           },
           {
            "name": "50 others",
            "count": 50
           }
          ]
         }
        },
        {
         "name": "Avg_Salary",
         "dtype": "float64",
         "stats": {
          "unique_count": 52,
          "nan_count": 0,
          "min": "27255.57631578947",
          "max": "90668.421875",
          "histogram": [
           {
            "bin_start": 27255.57631578947,
            "bin_end": 33596.86087171052,
            "count": 1
           },
           {
            "bin_start": 33596.86087171052,
            "bin_end": 39938.14542763158,
            "count": 0
           },
           {
            "bin_start": 39938.14542763158,
            "bin_end": 46279.429983552625,
            "count": 0
           },
           {
            "bin_start": 46279.429983552625,
            "bin_end": 52620.71453947368,
            "count": 3
           },
           {
            "bin_start": 52620.71453947368,
            "bin_end": 58961.999095394734,
            "count": 12
           },
           {
            "bin_start": 58961.999095394734,
            "bin_end": 65303.28365131578,
            "count": 15
           },
           {
            "bin_start": 65303.28365131578,
            "bin_end": 71644.56820723684,
            "count": 6
           },
           {
            "bin_start": 71644.56820723684,
            "bin_end": 77985.85276315789,
            "count": 8
           },
           {
            "bin_start": 77985.85276315789,
            "bin_end": 84327.13731907895,
            "count": 2
           },
           {
            "bin_start": 84327.13731907895,
            "bin_end": 90668.421875,
            "count": 5
           }
          ]
         }
        },
        {
         "name": "_deepnote_index_column",
         "dtype": "int64"
        }
       ],
       "rows": [
        {
         "State_Name": "Alabama",
         "Avg_Salary": 53612.92585551332,
         "_deepnote_index_column": 0
        },
        {
         "State_Name": "Alaska",
         "Avg_Salary": 77670.2095238095,
         "_deepnote_index_column": 1
        },
        {
         "State_Name": "Arizona",
         "Avg_Salary": 62578.07131280384,
         "_deepnote_index_column": 2
        },
        {
         "State_Name": "Arkansas",
         "Avg_Salary": 52060.361764705856,
         "_deepnote_index_column": 3
        },
        {
         "State_Name": "California",
         "Avg_Salary": 78126.73780487814,
         "_deepnote_index_column": 4
        },
        {
         "State_Name": "Colorado",
         "Avg_Salary": 73322.82129277565,
         "_deepnote_index_column": 5
        },
        {
         "State_Name": "Connecticut",
         "Avg_Salary": 89227.2197183099,
         "_deepnote_index_column": 6
        },
        {
         "State_Name": "Florida",
         "Avg_Salary": 60887.88982540638,
         "_deepnote_index_column": 7
        },
        {
         "State_Name": "Georgia",
         "Avg_Salary": 60354.39119804411,
         "_deepnote_index_column": 8
        },
        {
         "State_Name": "Hawaii",
         "Avg_Salary": 77859.58695652174,
         "_deepnote_index_column": 9
        }
       ]
      },
      "text/plain": "              State_Name    Avg_Salary\n0                Alabama  53612.925856\n1                 Alaska  77670.209524\n2                Arizona  62578.071313\n3               Arkansas  52060.361765\n4             California  78126.737805\n5               Colorado  73322.821293\n6            Connecticut  89227.219718\n7                Florida  60887.889825\n8                Georgia  60354.391198\n9                 Hawaii  77859.586957\n10                 Idaho  56211.442953\n11              Illinois  69067.381551\n12               Indiana  59153.832386\n13                  Iowa  62569.145374\n14                Kansas  61704.818898\n15              Kentucky  55250.162978\n16             Louisiana  55432.264188\n17                 Maine  60708.522293\n18              Maryland  87689.604096\n19         Massachusetts  84878.683582\n20              Michigan  59001.124361\n21             Minnesota  71403.998440\n22           Mississippi  48924.003115\n23              Missouri  56674.882857\n24               Montana  57350.554054\n25                Nevada  65684.120755\n26         New Hampshire  76113.503817\n27            New Jersey  88657.644144\n28            New Mexico  57127.075000\n29              New York  76201.220833\n30        North Carolina  57750.104918\n31          North Dakota  65137.067227\n32                  Ohio  59675.863603\n33              Oklahoma  55121.331250\n34                Oregon  63597.049096\n35          Pennsylvania  64878.694915\n36          Rhode Island  72971.174312\n37        South Carolina  55715.248366\n38          South Dakota  58276.960938\n39             Tennessee  56271.952459\n40                 Texas  65407.010435\n41                  Utah  72132.214559\n42               Vermont  63195.493976\n43              Virginia  79401.740127\n44            Washington  74067.361919\n45         West Virginia  52291.995968\n46             Wisconsin  64143.255193\n47               Wyoming  67552.666667\n48              Nebraska  61719.385455\n49              Delaware  70142.340909\n50  District of Columbia  90668.421875\n51           Puerto Rico  27255.576316",
      "text/html": "<div>\n<style scoped>\n    .dataframe tbody tr th:only-of-type {\n        vertical-align: middle;\n    }\n\n    .dataframe tbody tr th {\n        vertical-align: top;\n    }\n\n    .dataframe thead th {\n        text-align: right;\n    }\n</style>\n<table border=\"1\" class=\"dataframe\">\n  <thead>\n    <tr style=\"text-align: right;\">\n      <th></th>\n      <th>State_Name</th>\n      <th>Avg_Salary</th>\n    </tr>\n  </thead>\n  <tbody>\n    <tr>\n      <th>0</th>\n      <td>Alabama</td>\n      <td>53612.925856</td>\n    </tr>\n    <tr>\n      <th>1</th>\n      <td>Alaska</td>\n      <td>77670.209524</td>\n    </tr>\n    <tr>\n      <th>2</th>\n      <td>Arizona</td>\n      <td>62578.071313</td>\n    </tr>\n    <tr>\n      <th>3</th>\n      <td>Arkansas</td>\n      <td>52060.361765</td>\n    </tr>\n    <tr>\n      <th>4</th>\n      <td>California</td>\n      <td>78126.737805</td>\n    </tr>\n    <tr>\n      <th>5</th>\n      <td>Colorado</td>\n      <td>73322.821293</td>\n    </tr>\n    <tr>\n      <th>6</th>\n      <td>Connecticut</td>\n      <td>89227.219718</td>\n    </tr>\n    <tr>\n      <th>7</th>\n      <td>Florida</td>\n      <td>60887.889825</td>\n    </tr>\n    <tr>\n      <th>8</th>\n      <td>Georgia</td>\n      <td>60354.391198</td>\n    </tr>\n    <tr>\n      <th>9</th>\n      <td>Hawaii</td>\n      <td>77859.586957</td>\n    </tr>\n    <tr>\n      <th>10</th>\n      <td>Idaho</td>\n      <td>56211.442953</td>\n    </tr>\n    <tr>\n      <th>11</th>\n      <td>Illinois</td>\n      <td>69067.381551</td>\n    </tr>\n    <tr>\n      <th>12</th>\n      <td>Indiana</td>\n      <td>59153.832386</td>\n    </tr>\n    <tr>\n      <th>13</th>\n      <td>Iowa</td>\n      <td>62569.145374</td>\n    </tr>\n    <tr>\n      <th>14</th>\n      <td>Kansas</td>\n      <td>61704.818898</td>\n    </tr>\n    <tr>\n      <th>15</th>\n      <td>Kentucky</td>\n      <td>55250.162978</td>\n    </tr>\n    <tr>\n      <th>16</th>\n      <td>Louisiana</td>\n      <td>55432.264188</td>\n    </tr>\n    <tr>\n      <th>17</th>\n      <td>Maine</td>\n      <td>60708.522293</td>\n    </tr>\n    <tr>\n      <th>18</th>\n      <td>Maryland</td>\n      <td>87689.604096</td>\n    </tr>\n    <tr>\n      <th>19</th>\n      <td>Massachusetts</td>\n      <td>84878.683582</td>\n    </tr>\n    <tr>\n      <th>20</th>\n      <td>Michigan</td>\n      <td>59001.124361</td>\n    </tr>\n    <tr>\n      <th>21</th>\n      <td>Minnesota</td>\n      <td>71403.998440</td>\n    </tr>\n    <tr>\n      <th>22</th>\n      <td>Mississippi</td>\n      <td>48924.003115</td>\n    </tr>\n    <tr>\n      <th>23</th>\n      <td>Missouri</td>\n      <td>56674.882857</td>\n    </tr>\n    <tr>\n      <th>24</th>\n      <td>Montana</td>\n      <td>57350.554054</td>\n    </tr>\n    <tr>\n      <th>25</th>\n      <td>Nevada</td>\n      <td>65684.120755</td>\n    </tr>\n    <tr>\n      <th>26</th>\n      <td>New Hampshire</td>\n      <td>76113.503817</td>\n    </tr>\n    <tr>\n      <th>27</th>\n      <td>New Jersey</td>\n      <td>88657.644144</td>\n    </tr>\n    <tr>\n      <th>28</th>\n      <td>New Mexico</td>\n      <td>57127.075000</td>\n    </tr>\n    <tr>\n      <th>29</th>\n      <td>New York</td>\n      <td>76201.220833</td>\n    </tr>\n    <tr>\n      <th>30</th>\n      <td>North Carolina</td>\n      <td>57750.104918</td>\n    </tr>\n    <tr>\n      <th>31</th>\n      <td>North Dakota</td>\n      <td>65137.067227</td>\n    </tr>\n    <tr>\n      <th>32</th>\n      <td>Ohio</td>\n      <td>59675.863603</td>\n    </tr>\n    <tr>\n      <th>33</th>\n      <td>Oklahoma</td>\n      <td>55121.331250</td>\n    </tr>\n    <tr>\n      <th>34</th>\n      <td>Oregon</td>\n      <td>63597.049096</td>\n    </tr>\n    <tr>\n      <th>35</th>\n      <td>Pennsylvania</td>\n      <td>64878.694915</td>\n    </tr>\n    <tr>\n      <th>36</th>\n      <td>Rhode Island</td>\n      <td>72971.174312</td>\n    </tr>\n    <tr>\n      <th>37</th>\n      <td>South Carolina</td>\n      <td>55715.248366</td>\n    </tr>\n    <tr>\n      <th>38</th>\n      <td>South Dakota</td>\n      <td>58276.960938</td>\n    </tr>\n    <tr>\n      <th>39</th>\n      <td>Tennessee</td>\n      <td>56271.952459</td>\n    </tr>\n    <tr>\n      <th>40</th>\n      <td>Texas</td>\n      <td>65407.010435</td>\n    </tr>\n    <tr>\n      <th>41</th>\n      <td>Utah</td>\n      <td>72132.214559</td>\n    </tr>\n    <tr>\n      <th>42</th>\n      <td>Vermont</td>\n      <td>63195.493976</td>\n    </tr>\n    <tr>\n      <th>43</th>\n      <td>Virginia</td>\n      <td>79401.740127</td>\n    </tr>\n    <tr>\n      <th>44</th>\n      <td>Washington</td>\n      <td>74067.361919</td>\n    </tr>\n    <tr>\n      <th>45</th>\n      <td>West Virginia</td>\n      <td>52291.995968</td>\n    </tr>\n    <tr>\n      <th>46</th>\n      <td>Wisconsin</td>\n      <td>64143.255193</td>\n    </tr>\n    <tr>\n      <th>47</th>\n      <td>Wyoming</td>\n      <td>67552.666667</td>\n    </tr>\n    <tr>\n      <th>48</th>\n      <td>Nebraska</td>\n      <td>61719.385455</td>\n    </tr>\n    <tr>\n      <th>49</th>\n      <td>Delaware</td>\n      <td>70142.340909</td>\n    </tr>\n    <tr>\n      <th>50</th>\n      <td>District of Columbia</td>\n      <td>90668.421875</td>\n    </tr>\n    <tr>\n      <th>51</th>\n      <td>Puerto Rico</td>\n      <td>27255.576316</td>\n    </tr>\n  </tbody>\n</table>\n</div>"
     },
     "metadata": {}
    }
   ]
  },
  {
   "cell_type": "code",
   "metadata": {
    "cell_id": "2f3f5db29c8e4e6f8dc1e11d98500255",
    "tags": [],
    "deepnote_to_be_reexecuted": false,
    "source_hash": "e17c3897",
    "execution_start": 1652160683280,
    "execution_millis": 19,
    "deepnote_cell_type": "code",
    "deepnote_cell_height": 272
   },
   "source": "salaries.info()",
   "execution_count": 6,
   "outputs": [
    {
     "name": "stdout",
     "text": "<class 'pandas.core.frame.DataFrame'>\nRangeIndex: 52 entries, 0 to 51\nData columns (total 2 columns):\n #   Column      Non-Null Count  Dtype  \n---  ------      --------------  -----  \n 0   State_Name  52 non-null     object \n 1   Avg_Salary  52 non-null     float64\ndtypes: float64(1), object(1)\nmemory usage: 960.0+ bytes\n",
     "output_type": "stream"
    }
   ]
  },
  {
   "cell_type": "code",
   "metadata": {
    "cell_id": "b1a37a8d72604c83b043468f06f6f050",
    "tags": [],
    "deepnote_to_be_reexecuted": false,
    "source_hash": "8807b932",
    "execution_start": 1652160683312,
    "execution_millis": 6869,
    "deepnote_cell_type": "code",
    "deepnote_cell_height": 1050,
    "deepnote_output_heights": [
     611
    ]
   },
   "source": "import seaborn as sns\nimport matplotlib.pyplot as plt\nsns.set_theme(style=\"whitegrid\")\n\n# Initialize the matplotlib figure\nf, ax = plt.subplots(figsize=(6, 15))\n\nUS_Income = salaries.sort_values(\"Avg_Salary\", ascending=False)\n\n\nsns.set_color_codes(\"pastel\")\nsns.barplot(x=\"Avg_Salary\", y=\"State_Name\", data=salaries,\n            label=\"Avg_Salary\", color=\"g\")\n\n\n# Add a legend and informative axis label\nax.legend(ncol=2, loc=\"lower right\", frameon=True)\nax.set(xlim=(0, 100000), ylabel=\"\",\n       xlabel=\"US Salaries\")\nsns.despine(left=True, bottom=True)",
   "execution_count": 7,
   "outputs": [
    {
     "data": {
      "text/plain": "<Figure size 432x1080 with 1 Axes>",
      "image/png": "[encoded data removed]"
     },
     "metadata": {
      "image/png": {
       "width": 489,
       "height": 866
      }
     },
     "output_type": "display_data"
    }
   ]
  },
  {
   "cell_type": "code",
   "metadata": {
    "cell_id": "38d06c338d1640438b11aebc3562a84d",
    "tags": [],
    "deepnote_to_be_reexecuted": false,
    "source_hash": "e1e1abb1",
    "execution_start": 1652160689806,
    "execution_millis": 375,
    "deepnote_cell_type": "code",
    "deepnote_cell_height": 618
   },
   "source": "cost = pd.read_csv('cost.csv')\ncost",
   "execution_count": 8,
   "outputs": [
    {
     "output_type": "execute_result",
     "execution_count": 8,
     "data": {
      "application/vnd.deepnote.dataframe.v3+json": {
       "column_count": 2,
       "row_count": 53,
       "columns": [
        {
         "name": "Cost of living index in the 50 U.S. states in 2020",
         "dtype": "object",
         "stats": {
          "unique_count": 52,
          "nan_count": 1,
          "categories": [
           {
            "name": "Composite cost of living index in the different states of the United States as of 2020",
            "count": 1
           },
           {
            "name": "51 others",
            "count": 51
           },
           {
            "name": "Missing",
            "count": 1
           }
          ]
         }
        },
        {
         "name": "Unnamed: 1",
         "dtype": "float64",
         "stats": {
          "unique_count": 48,
          "nan_count": 2,
          "min": "84.5",
          "max": "198.6",
          "histogram": [
           {
            "bin_start": 84.5,
            "bin_end": 95.91,
            "count": 22
           },
           {
            "bin_start": 95.91,
            "bin_end": 107.32,
            "count": 12
           },
           {
            "bin_start": 107.32,
            "bin_end": 118.73,
            "count": 7
           },
           {
            "bin_start": 118.73,
            "bin_end": 130.14,
            "count": 5
           },
           {
            "bin_start": 130.14,
            "bin_end": 141.55,
            "count": 1
           },
           {
            "bin_start": 141.55,
            "bin_end": 152.96,
            "count": 2
           },
           {
            "bin_start": 152.96,
            "bin_end": 164.37,
            "count": 1
           },
           {
            "bin_start": 164.37,
            "bin_end": 175.78,
            "count": 0
           },
           {
            "bin_start": 175.78,
            "bin_end": 187.19,
            "count": 0
           },
           {
            "bin_start": 187.19,
            "bin_end": 198.6,
            "count": 1
           }
          ]
         }
        },
        {
         "name": "_deepnote_index_column",
         "dtype": "int64"
        }
       ],
       "rows": [
        {
         "Cost of living index in the 50 U.S. states in 2020": "Composite cost of living index in the different states of the United States as of 2020",
         "Unnamed: 1": "nan",
         "_deepnote_index_column": 0
        },
        {
         "Cost of living index in the 50 U.S. states in 2020": "nan",
         "Unnamed: 1": "nan",
         "_deepnote_index_column": 1
        },
        {
         "Cost of living index in the 50 U.S. states in 2020": "Mississippi",
         "Unnamed: 1": 84.5,
         "_deepnote_index_column": 2
        },
        {
         "Cost of living index in the 50 U.S. states in 2020": "Kansas",
         "Unnamed: 1": 86.8,
         "_deepnote_index_column": 3
        },
        {
         "Cost of living index in the 50 U.S. states in 2020": "Oklahoma",
         "Unnamed: 1": 87.2,
         "_deepnote_index_column": 4
        },
        {
         "Cost of living index in the 50 U.S. states in 2020": "Arkansas",
         "Unnamed: 1": 88.1,
         "_deepnote_index_column": 5
        },
        {
         "Cost of living index in the 50 U.S. states in 2020": "Missouri",
         "Unnamed: 1": 89.1,
         "_deepnote_index_column": 6
        },
        {
         "Cost of living index in the 50 U.S. states in 2020": "Alabama",
         "Unnamed: 1": 89.2,
         "_deepnote_index_column": 7
        },
        {
         "Cost of living index in the 50 U.S. states in 2020": "New Mexico",
         "Unnamed: 1": 89.3,
         "_deepnote_index_column": 8
        },
        {
         "Cost of living index in the 50 U.S. states in 2020": "Georgia",
         "Unnamed: 1": 89.7,
         "_deepnote_index_column": 9
        }
       ]
      },
      "text/plain": "   Cost of living index in the 50 U.S. states in 2020  Unnamed: 1\n0   Composite cost of living index in the differen...         NaN\n1                                                 NaN         NaN\n2                                         Mississippi        84.5\n3                                              Kansas        86.8\n4                                            Oklahoma        87.2\n5                                            Arkansas        88.1\n6                                            Missouri        89.1\n7                                             Alabama        89.2\n8                                          New Mexico        89.3\n9                                             Georgia        89.7\n10                                          Tennessee        89.7\n11                                            Indiana        89.8\n12                                           Michigan        90.6\n13                                               Iowa        91.3\n14                                              Texas        92.0\n15                                               Ohio        92.2\n16                                      West Virginia        92.7\n17                                           Nebraska        93.0\n18                                          Louisiana        93.2\n19                                           Kentucky        93.6\n20                                              Idaho        93.9\n21                                            Wyoming        94.3\n22                                           Illinois        95.0\n23                                     South Carolina        95.9\n24                                          Wisconsin        96.1\n25                                     North Carolina        96.1\n26                                       North Dakota        96.5\n27                                               Utah        97.9\n28                                            Montana        99.4\n29                                       South Dakota        99.8\n30                                            Florida        99.8\n31                                          Minnesota       100.7\n32                                            Arizona       101.3\n33                                           Virginia       101.5\n34                                       Pennsylvania       104.0\n35                                           Colorado       104.2\n36                                           Delaware       107.7\n37                                      New Hampshire       108.4\n38                                             Nevada       108.8\n39                                         Washington       113.0\n40                                              Maine       116.1\n41                                            Vermont       116.4\n42                                         New Jersey       116.8\n43                                       Rhode Island       119.6\n44                                        Connecticut       123.0\n45                                           Maryland       127.2\n46                                             Alaska       127.3\n47                                      Massachusetts       129.9\n48                                             Oregon       133.7\n49                                         California       142.4\n50                                           New York       146.6\n51                               District of Columbia       159.0\n52                                             Hawaii       198.6",
      "text/html": "<div>\n<style scoped>\n    .dataframe tbody tr th:only-of-type {\n        vertical-align: middle;\n    }\n\n    .dataframe tbody tr th {\n        vertical-align: top;\n    }\n\n    .dataframe thead th {\n        text-align: right;\n    }\n</style>\n<table border=\"1\" class=\"dataframe\">\n  <thead>\n    <tr style=\"text-align: right;\">\n      <th></th>\n      <th>Cost of living index in the 50 U.S. states in 2020</th>\n      <th>Unnamed: 1</th>\n    </tr>\n  </thead>\n  <tbody>\n    <tr>\n      <th>0</th>\n      <td>Composite cost of living index in the differen...</td>\n      <td>NaN</td>\n    </tr>\n    <tr>\n      <th>1</th>\n      <td>NaN</td>\n      <td>NaN</td>\n    </tr>\n    <tr>\n      <th>2</th>\n      <td>Mississippi</td>\n      <td>84.5</td>\n    </tr>\n    <tr>\n      <th>3</th>\n      <td>Kansas</td>\n      <td>86.8</td>\n    </tr>\n    <tr>\n      <th>4</th>\n      <td>Oklahoma</td>\n      <td>87.2</td>\n    </tr>\n    <tr>\n      <th>5</th>\n      <td>Arkansas</td>\n      <td>88.1</td>\n    </tr>\n    <tr>\n      <th>6</th>\n      <td>Missouri</td>\n      <td>89.1</td>\n    </tr>\n    <tr>\n      <th>7</th>\n      <td>Alabama</td>\n      <td>89.2</td>\n    </tr>\n    <tr>\n      <th>8</th>\n      <td>New Mexico</td>\n      <td>89.3</td>\n    </tr>\n    <tr>\n      <th>9</th>\n      <td>Georgia</td>\n      <td>89.7</td>\n    </tr>\n    <tr>\n      <th>10</th>\n      <td>Tennessee</td>\n      <td>89.7</td>\n    </tr>\n    <tr>\n      <th>11</th>\n      <td>Indiana</td>\n      <td>89.8</td>\n    </tr>\n    <tr>\n      <th>12</th>\n      <td>Michigan</td>\n      <td>90.6</td>\n    </tr>\n    <tr>\n      <th>13</th>\n      <td>Iowa</td>\n      <td>91.3</td>\n    </tr>\n    <tr>\n      <th>14</th>\n      <td>Texas</td>\n      <td>92.0</td>\n    </tr>\n    <tr>\n      <th>15</th>\n      <td>Ohio</td>\n      <td>92.2</td>\n    </tr>\n    <tr>\n      <th>16</th>\n      <td>West Virginia</td>\n      <td>92.7</td>\n    </tr>\n    <tr>\n      <th>17</th>\n      <td>Nebraska</td>\n      <td>93.0</td>\n    </tr>\n    <tr>\n      <th>18</th>\n      <td>Louisiana</td>\n      <td>93.2</td>\n    </tr>\n    <tr>\n      <th>19</th>\n      <td>Kentucky</td>\n      <td>93.6</td>\n    </tr>\n    <tr>\n      <th>20</th>\n      <td>Idaho</td>\n      <td>93.9</td>\n    </tr>\n    <tr>\n      <th>21</th>\n      <td>Wyoming</td>\n      <td>94.3</td>\n    </tr>\n    <tr>\n      <th>22</th>\n      <td>Illinois</td>\n      <td>95.0</td>\n    </tr>\n    <tr>\n      <th>23</th>\n      <td>South Carolina</td>\n      <td>95.9</td>\n    </tr>\n    <tr>\n      <th>24</th>\n      <td>Wisconsin</td>\n      <td>96.1</td>\n    </tr>\n    <tr>\n      <th>25</th>\n      <td>North Carolina</td>\n      <td>96.1</td>\n    </tr>\n    <tr>\n      <th>26</th>\n      <td>North Dakota</td>\n      <td>96.5</td>\n    </tr>\n    <tr>\n      <th>27</th>\n      <td>Utah</td>\n      <td>97.9</td>\n    </tr>\n    <tr>\n      <th>28</th>\n      <td>Montana</td>\n      <td>99.4</td>\n    </tr>\n    <tr>\n      <th>29</th>\n      <td>South Dakota</td>\n      <td>99.8</td>\n    </tr>\n    <tr>\n      <th>30</th>\n      <td>Florida</td>\n      <td>99.8</td>\n    </tr>\n    <tr>\n      <th>31</th>\n      <td>Minnesota</td>\n      <td>100.7</td>\n    </tr>\n    <tr>\n      <th>32</th>\n      <td>Arizona</td>\n      <td>101.3</td>\n    </tr>\n    <tr>\n      <th>33</th>\n      <td>Virginia</td>\n      <td>101.5</td>\n    </tr>\n    <tr>\n      <th>34</th>\n      <td>Pennsylvania</td>\n      <td>104.0</td>\n    </tr>\n    <tr>\n      <th>35</th>\n      <td>Colorado</td>\n      <td>104.2</td>\n    </tr>\n    <tr>\n      <th>36</th>\n      <td>Delaware</td>\n      <td>107.7</td>\n    </tr>\n    <tr>\n      <th>37</th>\n      <td>New Hampshire</td>\n      <td>108.4</td>\n    </tr>\n    <tr>\n      <th>38</th>\n      <td>Nevada</td>\n      <td>108.8</td>\n    </tr>\n    <tr>\n      <th>39</th>\n      <td>Washington</td>\n      <td>113.0</td>\n    </tr>\n    <tr>\n      <th>40</th>\n      <td>Maine</td>\n      <td>116.1</td>\n    </tr>\n    <tr>\n      <th>41</th>\n      <td>Vermont</td>\n      <td>116.4</td>\n    </tr>\n    <tr>\n      <th>42</th>\n      <td>New Jersey</td>\n      <td>116.8</td>\n    </tr>\n    <tr>\n      <th>43</th>\n      <td>Rhode Island</td>\n      <td>119.6</td>\n    </tr>\n    <tr>\n      <th>44</th>\n      <td>Connecticut</td>\n      <td>123.0</td>\n    </tr>\n    <tr>\n      <th>45</th>\n      <td>Maryland</td>\n      <td>127.2</td>\n    </tr>\n    <tr>\n      <th>46</th>\n      <td>Alaska</td>\n      <td>127.3</td>\n    </tr>\n    <tr>\n      <th>47</th>\n      <td>Massachusetts</td>\n      <td>129.9</td>\n    </tr>\n    <tr>\n      <th>48</th>\n      <td>Oregon</td>\n      <td>133.7</td>\n    </tr>\n    <tr>\n      <th>49</th>\n      <td>California</td>\n      <td>142.4</td>\n    </tr>\n    <tr>\n      <th>50</th>\n      <td>New York</td>\n      <td>146.6</td>\n    </tr>\n    <tr>\n      <th>51</th>\n      <td>District of Columbia</td>\n      <td>159.0</td>\n    </tr>\n    <tr>\n      <th>52</th>\n      <td>Hawaii</td>\n      <td>198.6</td>\n    </tr>\n  </tbody>\n</table>\n</div>"
     },
     "metadata": {}
    }
   ]
  },
  {
   "cell_type": "code",
   "metadata": {
    "cell_id": "989edb3e04b14cd485047c8da34ffb57",
    "tags": [],
    "deepnote_to_be_reexecuted": false,
    "source_hash": "5ff35cbb",
    "execution_start": 1652160689912,
    "execution_millis": 270,
    "deepnote_cell_type": "code",
    "deepnote_cell_height": 706.796875
   },
   "source": "cost.columns = cost.columns.str.replace('Unnamed: 1', 'Cost of Living')\ncost.columns = cost.columns.str.replace('Cost of living index in the 50 U.S. states in 2020', 'State_Name')\ncost",
   "execution_count": 9,
   "outputs": [
    {
     "name": "stderr",
     "text": "/shared-libs/python3.7/py-core/lib/python3.7/site-packages/ipykernel_launcher.py:2: FutureWarning: The default value of regex will change from True to False in a future version.\n  \n",
     "output_type": "stream"
    },
    {
     "output_type": "execute_result",
     "execution_count": 9,
     "data": {
      "application/vnd.deepnote.dataframe.v3+json": {
       "column_count": 2,
       "row_count": 53,
       "columns": [
        {
         "name": "State_Name",
         "dtype": "object",
         "stats": {
          "unique_count": 52,
          "nan_count": 1,
          "categories": [
           {
            "name": "Composite cost of living index in the different states of the United States as of 2020",
            "count": 1
           },
           {
            "name": "51 others",
            "count": 51
           },
           {
            "name": "Missing",
            "count": 1
           }
          ]
         }
        },
        {
         "name": "Cost of Living",
         "dtype": "float64",
         "stats": {
          "unique_count": 48,
          "nan_count": 2,
          "min": "84.5",
          "max": "198.6",
          "histogram": [
           {
            "bin_start": 84.5,
            "bin_end": 95.91,
            "count": 22
           },
           {
            "bin_start": 95.91,
            "bin_end": 107.32,
            "count": 12
           },
           {
            "bin_start": 107.32,
            "bin_end": 118.73,
            "count": 7
           },
           {
            "bin_start": 118.73,
            "bin_end": 130.14,
            "count": 5
           },
           {
            "bin_start": 130.14,
            "bin_end": 141.55,
            "count": 1
           },
           {
            "bin_start": 141.55,
            "bin_end": 152.96,
            "count": 2
           },
           {
            "bin_start": 152.96,
            "bin_end": 164.37,
            "count": 1
           },
           {
            "bin_start": 164.37,
            "bin_end": 175.78,
            "count": 0
           },
           {
            "bin_start": 175.78,
            "bin_end": 187.19,
            "count": 0
           },
           {
            "bin_start": 187.19,
            "bin_end": 198.6,
            "count": 1
           }
          ]
         }
        },
        {
         "name": "_deepnote_index_column",
         "dtype": "int64"
        }
       ],
       "rows": [
        {
         "State_Name": "Composite cost of living index in the different states of the United States as of 2020",
         "Cost of Living": "nan",
         "_deepnote_index_column": 0
        },
        {
         "State_Name": "nan",
         "Cost of Living": "nan",
         "_deepnote_index_column": 1
        },
        {
         "State_Name": "Mississippi",
         "Cost of Living": 84.5,
         "_deepnote_index_column": 2
        },
        {
         "State_Name": "Kansas",
         "Cost of Living": 86.8,
         "_deepnote_index_column": 3
        },
        {
         "State_Name": "Oklahoma",
         "Cost of Living": 87.2,
         "_deepnote_index_column": 4
        },
        {
         "State_Name": "Arkansas",
         "Cost of Living": 88.1,
         "_deepnote_index_column": 5
        },
        {
         "State_Name": "Missouri",
         "Cost of Living": 89.1,
         "_deepnote_index_column": 6
        },
        {
         "State_Name": "Alabama",
         "Cost of Living": 89.2,
         "_deepnote_index_column": 7
        },
        {
         "State_Name": "New Mexico",
         "Cost of Living": 89.3,
         "_deepnote_index_column": 8
        },
        {
         "State_Name": "Georgia",
         "Cost of Living": 89.7,
         "_deepnote_index_column": 9
        }
       ]
      },
      "text/plain": "                                           State_Name  Cost of Living\n0   Composite cost of living index in the differen...             NaN\n1                                                 NaN             NaN\n2                                         Mississippi            84.5\n3                                              Kansas            86.8\n4                                            Oklahoma            87.2\n5                                            Arkansas            88.1\n6                                            Missouri            89.1\n7                                             Alabama            89.2\n8                                          New Mexico            89.3\n9                                             Georgia            89.7\n10                                          Tennessee            89.7\n11                                            Indiana            89.8\n12                                           Michigan            90.6\n13                                               Iowa            91.3\n14                                              Texas            92.0\n15                                               Ohio            92.2\n16                                      West Virginia            92.7\n17                                           Nebraska            93.0\n18                                          Louisiana            93.2\n19                                           Kentucky            93.6\n20                                              Idaho            93.9\n21                                            Wyoming            94.3\n22                                           Illinois            95.0\n23                                     South Carolina            95.9\n24                                          Wisconsin            96.1\n25                                     North Carolina            96.1\n26                                       North Dakota            96.5\n27                                               Utah            97.9\n28                                            Montana            99.4\n29                                       South Dakota            99.8\n30                                            Florida            99.8\n31                                          Minnesota           100.7\n32                                            Arizona           101.3\n33                                           Virginia           101.5\n34                                       Pennsylvania           104.0\n35                                           Colorado           104.2\n36                                           Delaware           107.7\n37                                      New Hampshire           108.4\n38                                             Nevada           108.8\n39                                         Washington           113.0\n40                                              Maine           116.1\n41                                            Vermont           116.4\n42                                         New Jersey           116.8\n43                                       Rhode Island           119.6\n44                                        Connecticut           123.0\n45                                           Maryland           127.2\n46                                             Alaska           127.3\n47                                      Massachusetts           129.9\n48                                             Oregon           133.7\n49                                         California           142.4\n50                                           New York           146.6\n51                               District of Columbia           159.0\n52                                             Hawaii           198.6",
      "text/html": "<div>\n<style scoped>\n    .dataframe tbody tr th:only-of-type {\n        vertical-align: middle;\n    }\n\n    .dataframe tbody tr th {\n        vertical-align: top;\n    }\n\n    .dataframe thead th {\n        text-align: right;\n    }\n</style>\n<table border=\"1\" class=\"dataframe\">\n  <thead>\n    <tr style=\"text-align: right;\">\n      <th></th>\n      <th>State_Name</th>\n      <th>Cost of Living</th>\n    </tr>\n  </thead>\n  <tbody>\n    <tr>\n      <th>0</th>\n      <td>Composite cost of living index in the differen...</td>\n      <td>NaN</td>\n    </tr>\n    <tr>\n      <th>1</th>\n      <td>NaN</td>\n      <td>NaN</td>\n    </tr>\n    <tr>\n      <th>2</th>\n      <td>Mississippi</td>\n      <td>84.5</td>\n    </tr>\n    <tr>\n      <th>3</th>\n      <td>Kansas</td>\n      <td>86.8</td>\n    </tr>\n    <tr>\n      <th>4</th>\n      <td>Oklahoma</td>\n      <td>87.2</td>\n    </tr>\n    <tr>\n      <th>5</th>\n      <td>Arkansas</td>\n      <td>88.1</td>\n    </tr>\n    <tr>\n      <th>6</th>\n      <td>Missouri</td>\n      <td>89.1</td>\n    </tr>\n    <tr>\n      <th>7</th>\n      <td>Alabama</td>\n      <td>89.2</td>\n    </tr>\n    <tr>\n      <th>8</th>\n      <td>New Mexico</td>\n      <td>89.3</td>\n    </tr>\n    <tr>\n      <th>9</th>\n      <td>Georgia</td>\n      <td>89.7</td>\n    </tr>\n    <tr>\n      <th>10</th>\n      <td>Tennessee</td>\n      <td>89.7</td>\n    </tr>\n    <tr>\n      <th>11</th>\n      <td>Indiana</td>\n      <td>89.8</td>\n    </tr>\n    <tr>\n      <th>12</th>\n      <td>Michigan</td>\n      <td>90.6</td>\n    </tr>\n    <tr>\n      <th>13</th>\n      <td>Iowa</td>\n      <td>91.3</td>\n    </tr>\n    <tr>\n      <th>14</th>\n      <td>Texas</td>\n      <td>92.0</td>\n    </tr>\n    <tr>\n      <th>15</th>\n      <td>Ohio</td>\n      <td>92.2</td>\n    </tr>\n    <tr>\n      <th>16</th>\n      <td>West Virginia</td>\n      <td>92.7</td>\n    </tr>\n    <tr>\n      <th>17</th>\n      <td>Nebraska</td>\n      <td>93.0</td>\n    </tr>\n    <tr>\n      <th>18</th>\n      <td>Louisiana</td>\n      <td>93.2</td>\n    </tr>\n    <tr>\n      <th>19</th>\n      <td>Kentucky</td>\n      <td>93.6</td>\n    </tr>\n    <tr>\n      <th>20</th>\n      <td>Idaho</td>\n      <td>93.9</td>\n    </tr>\n    <tr>\n      <th>21</th>\n      <td>Wyoming</td>\n      <td>94.3</td>\n    </tr>\n    <tr>\n      <th>22</th>\n      <td>Illinois</td>\n      <td>95.0</td>\n    </tr>\n    <tr>\n      <th>23</th>\n      <td>South Carolina</td>\n      <td>95.9</td>\n    </tr>\n    <tr>\n      <th>24</th>\n      <td>Wisconsin</td>\n      <td>96.1</td>\n    </tr>\n    <tr>\n      <th>25</th>\n      <td>North Carolina</td>\n      <td>96.1</td>\n    </tr>\n    <tr>\n      <th>26</th>\n      <td>North Dakota</td>\n      <td>96.5</td>\n    </tr>\n    <tr>\n      <th>27</th>\n      <td>Utah</td>\n      <td>97.9</td>\n    </tr>\n    <tr>\n      <th>28</th>\n      <td>Montana</td>\n      <td>99.4</td>\n    </tr>\n    <tr>\n      <th>29</th>\n      <td>South Dakota</td>\n      <td>99.8</td>\n    </tr>\n    <tr>\n      <th>30</th>\n      <td>Florida</td>\n      <td>99.8</td>\n    </tr>\n    <tr>\n      <th>31</th>\n      <td>Minnesota</td>\n      <td>100.7</td>\n    </tr>\n    <tr>\n      <th>32</th>\n      <td>Arizona</td>\n      <td>101.3</td>\n    </tr>\n    <tr>\n      <th>33</th>\n      <td>Virginia</td>\n      <td>101.5</td>\n    </tr>\n    <tr>\n      <th>34</th>\n      <td>Pennsylvania</td>\n      <td>104.0</td>\n    </tr>\n    <tr>\n      <th>35</th>\n      <td>Colorado</td>\n      <td>104.2</td>\n    </tr>\n    <tr>\n      <th>36</th>\n      <td>Delaware</td>\n      <td>107.7</td>\n    </tr>\n    <tr>\n      <th>37</th>\n      <td>New Hampshire</td>\n      <td>108.4</td>\n    </tr>\n    <tr>\n      <th>38</th>\n      <td>Nevada</td>\n      <td>108.8</td>\n    </tr>\n    <tr>\n      <th>39</th>\n      <td>Washington</td>\n      <td>113.0</td>\n    </tr>\n    <tr>\n      <th>40</th>\n      <td>Maine</td>\n      <td>116.1</td>\n    </tr>\n    <tr>\n      <th>41</th>\n      <td>Vermont</td>\n      <td>116.4</td>\n    </tr>\n    <tr>\n      <th>42</th>\n      <td>New Jersey</td>\n      <td>116.8</td>\n    </tr>\n    <tr>\n      <th>43</th>\n      <td>Rhode Island</td>\n      <td>119.6</td>\n    </tr>\n    <tr>\n      <th>44</th>\n      <td>Connecticut</td>\n      <td>123.0</td>\n    </tr>\n    <tr>\n      <th>45</th>\n      <td>Maryland</td>\n      <td>127.2</td>\n    </tr>\n    <tr>\n      <th>46</th>\n      <td>Alaska</td>\n      <td>127.3</td>\n    </tr>\n    <tr>\n      <th>47</th>\n      <td>Massachusetts</td>\n      <td>129.9</td>\n    </tr>\n    <tr>\n      <th>48</th>\n      <td>Oregon</td>\n      <td>133.7</td>\n    </tr>\n    <tr>\n      <th>49</th>\n      <td>California</td>\n      <td>142.4</td>\n    </tr>\n    <tr>\n      <th>50</th>\n      <td>New York</td>\n      <td>146.6</td>\n    </tr>\n    <tr>\n      <th>51</th>\n      <td>District of Columbia</td>\n      <td>159.0</td>\n    </tr>\n    <tr>\n      <th>52</th>\n      <td>Hawaii</td>\n      <td>198.6</td>\n    </tr>\n  </tbody>\n</table>\n</div>"
     },
     "metadata": {}
    }
   ]
  },
  {
   "cell_type": "code",
   "metadata": {
    "cell_id": "9c065d4798ca41bbb2ab7deecb81b491",
    "tags": [],
    "deepnote_to_be_reexecuted": false,
    "source_hash": "2a22f453",
    "execution_start": 1652160689929,
    "execution_millis": 255,
    "deepnote_table_state": {
     "pageSize": 100,
     "pageIndex": 0,
     "filters": [],
     "sortBy": []
    },
    "deepnote_table_loading": false,
    "owner_user_id": "78ada1d8-81d9-49c3-9dce-bb8720f28287",
    "deepnote_cell_type": "code",
    "deepnote_cell_height": 2299
   },
   "source": "df3 = salaries.merge(cost.set_index('State_Name'), on='State_Name')\ndf3",
   "execution_count": 10,
   "outputs": [
    {
     "output_type": "execute_result",
     "execution_count": 10,
     "data": {
      "application/vnd.deepnote.dataframe.v3+json": {
       "column_count": 3,
       "row_count": 51,
       "columns": [
        {
         "name": "State_Name",
         "dtype": "object",
         "stats": {
          "unique_count": 51,
          "nan_count": 0,
          "categories": [
           {
            "name": "Alabama",
            "count": 1
           },
           {
            "name": "Alaska",
            "count": 1
           },
           {
            "name": "49 others",
            "count": 49
           }
          ]
         }
        },
        {
         "name": "Avg_Salary",
         "dtype": "float64",
         "stats": {
          "unique_count": 51,
          "nan_count": 0,
          "min": "48924.0031152648",
          "max": "90668.421875",
          "histogram": [
           {
            "bin_start": 48924.0031152648,
            "bin_end": 53098.44499123832,
            "count": 3
           },
           {
            "bin_start": 53098.44499123832,
            "bin_end": 57272.88686721184,
            "count": 9
           },
           {
            "bin_start": 57272.88686721184,
            "bin_end": 61447.32874318536,
            "count": 9
           },
           {
            "bin_start": 61447.32874318536,
            "bin_end": 65621.77061915888,
            "count": 10
           },
           {
            "bin_start": 65621.77061915888,
            "bin_end": 69796.21249513241,
            "count": 3
           },
           {
            "bin_start": 69796.21249513241,
            "bin_end": 73970.65437110592,
            "count": 5
           },
           {
            "bin_start": 73970.65437110592,
            "bin_end": 78145.09624707943,
            "count": 6
           },
           {
            "bin_start": 78145.09624707943,
            "bin_end": 82319.53812305296,
            "count": 1
           },
           {
            "bin_start": 82319.53812305296,
            "bin_end": 86493.97999902649,
            "count": 1
           },
           {
            "bin_start": 86493.97999902649,
            "bin_end": 90668.421875,
            "count": 4
           }
          ]
         }
        },
        {
         "name": "Cost of Living",
         "dtype": "float64",
         "stats": {
          "unique_count": 48,
          "nan_count": 0,
          "min": "84.5",
          "max": "198.6",
          "histogram": [
           {
            "bin_start": 84.5,
            "bin_end": 95.91,
            "count": 22
           },
           {
            "bin_start": 95.91,
            "bin_end": 107.32,
            "count": 12
           },
           {
            "bin_start": 107.32,
            "bin_end": 118.73,
            "count": 7
           },
           {
            "bin_start": 118.73,
            "bin_end": 130.14,
            "count": 5
           },
           {
            "bin_start": 130.14,
            "bin_end": 141.55,
            "count": 1
           },
           {
            "bin_start": 141.55,
            "bin_end": 152.96,
            "count": 2
           },
           {
            "bin_start": 152.96,
            "bin_end": 164.37,
            "count": 1
           },
           {
            "bin_start": 164.37,
            "bin_end": 175.78,
            "count": 0
           },
           {
            "bin_start": 175.78,
            "bin_end": 187.19,
            "count": 0
           },
           {
            "bin_start": 187.19,
            "bin_end": 198.6,
            "count": 1
           }
          ]
         }
        },
        {
         "name": "_deepnote_index_column",
         "dtype": "int64"
        }
       ],
       "rows": [
        {
         "State_Name": "Alabama",
         "Avg_Salary": 53612.92585551332,
         "Cost of Living": 89.2,
         "_deepnote_index_column": 0
        },
        {
         "State_Name": "Alaska",
         "Avg_Salary": 77670.2095238095,
         "Cost of Living": 127.3,
         "_deepnote_index_column": 1
        },
        {
         "State_Name": "Arizona",
         "Avg_Salary": 62578.07131280384,
         "Cost of Living": 101.3,
         "_deepnote_index_column": 2
        },
        {
         "State_Name": "Arkansas",
         "Avg_Salary": 52060.361764705856,
         "Cost of Living": 88.1,
         "_deepnote_index_column": 3
        },
        {
         "State_Name": "California",
         "Avg_Salary": 78126.73780487814,
         "Cost of Living": 142.4,
         "_deepnote_index_column": 4
        },
        {
         "State_Name": "Colorado",
         "Avg_Salary": 73322.82129277565,
         "Cost of Living": 104.2,
         "_deepnote_index_column": 5
        },
        {
         "State_Name": "Connecticut",
         "Avg_Salary": 89227.2197183099,
         "Cost of Living": 123,
         "_deepnote_index_column": 6
        },
        {
         "State_Name": "Florida",
         "Avg_Salary": 60887.88982540638,
         "Cost of Living": 99.8,
         "_deepnote_index_column": 7
        },
        {
         "State_Name": "Georgia",
         "Avg_Salary": 60354.39119804411,
         "Cost of Living": 89.7,
         "_deepnote_index_column": 8
        },
        {
         "State_Name": "Hawaii",
         "Avg_Salary": 77859.58695652174,
         "Cost of Living": 198.6,
         "_deepnote_index_column": 9
        },
        {
         "State_Name": "Idaho",
         "Avg_Salary": 56211.44295302012,
         "Cost of Living": 93.9,
         "_deepnote_index_column": 10
        },
        {
         "State_Name": "Illinois",
         "Avg_Salary": 69067.38155136265,
         "Cost of Living": 95,
         "_deepnote_index_column": 11
        },
        {
         "State_Name": "Indiana",
         "Avg_Salary": 59153.83238636368,
         "Cost of Living": 89.8,
         "_deepnote_index_column": 12
        },
        {
         "State_Name": "Iowa",
         "Avg_Salary": 62569.14537444933,
         "Cost of Living": 91.3,
         "_deepnote_index_column": 13
        },
        {
         "State_Name": "Kansas",
         "Avg_Salary": 61704.81889763779,
         "Cost of Living": 86.8,
         "_deepnote_index_column": 14
        },
        {
         "State_Name": "Kentucky",
         "Avg_Salary": 55250.16297786719,
         "Cost of Living": 93.6,
         "_deepnote_index_column": 15
        },
        {
         "State_Name": "Louisiana",
         "Avg_Salary": 55432.26418786695,
         "Cost of Living": 93.2,
         "_deepnote_index_column": 16
        },
        {
         "State_Name": "Maine",
         "Avg_Salary": 60708.52229299361,
         "Cost of Living": 116.1,
         "_deepnote_index_column": 17
        },
        {
         "State_Name": "Maryland",
         "Avg_Salary": 87689.60409556319,
         "Cost of Living": 127.2,
         "_deepnote_index_column": 18
        },
        {
         "State_Name": "Massachusetts",
         "Avg_Salary": 84878.68358208955,
         "Cost of Living": 129.9,
         "_deepnote_index_column": 19
        },
        {
         "State_Name": "Michigan",
         "Avg_Salary": 59001.124361158414,
         "Cost of Living": 90.6,
         "_deepnote_index_column": 20
        },
        {
         "State_Name": "Minnesota",
         "Avg_Salary": 71403.99843993752,
         "Cost of Living": 100.7,
         "_deepnote_index_column": 21
        },
        {
         "State_Name": "Mississippi",
         "Avg_Salary": 48924.0031152648,
         "Cost of Living": 84.5,
         "_deepnote_index_column": 22
        },
        {
         "State_Name": "Missouri",
         "Avg_Salary": 56674.8828571429,
         "Cost of Living": 89.1,
         "_deepnote_index_column": 23
        },
        {
         "State_Name": "Montana",
         "Avg_Salary": 57350.554054054046,
         "Cost of Living": 99.4,
         "_deepnote_index_column": 24
        },
        {
         "State_Name": "Nevada",
         "Avg_Salary": 65684.12075471695,
         "Cost of Living": 108.8,
         "_deepnote_index_column": 25
        },
        {
         "State_Name": "New Hampshire",
         "Avg_Salary": 76113.50381679389,
         "Cost of Living": 108.4,
         "_deepnote_index_column": 26
        },
        {
         "State_Name": "New Jersey",
         "Avg_Salary": 88657.64414414417,
         "Cost of Living": 116.8,
         "_deepnote_index_column": 27
        },
        {
         "State_Name": "New Mexico",
         "Avg_Salary": 57127.07499999995,
         "Cost of Living": 89.3,
         "_deepnote_index_column": 28
        },
        {
         "State_Name": "New York",
         "Avg_Salary": 76201.22083333331,
         "Cost of Living": 146.6,
         "_deepnote_index_column": 29
        },
        {
         "State_Name": "North Carolina",
         "Avg_Salary": 57750.10491803277,
         "Cost of Living": 96.1,
         "_deepnote_index_column": 30
        },
        {
         "State_Name": "North Dakota",
         "Avg_Salary": 65137.06722689074,
         "Cost of Living": 96.5,
         "_deepnote_index_column": 31
        },
        {
         "State_Name": "Ohio",
         "Avg_Salary": 59675.86360266868,
         "Cost of Living": 92.2,
         "_deepnote_index_column": 32
        },
        {
         "State_Name": "Oklahoma",
         "Avg_Salary": 55121.331249999996,
         "Cost of Living": 87.2,
         "_deepnote_index_column": 33
        },
        {
         "State_Name": "Oregon",
         "Avg_Salary": 63597.04909560724,
         "Cost of Living": 133.7,
         "_deepnote_index_column": 34
        },
        {
         "State_Name": "Pennsylvania",
         "Avg_Salary": 64878.69491525423,
         "Cost of Living": 104,
         "_deepnote_index_column": 35
        },
        {
         "State_Name": "Rhode Island",
         "Avg_Salary": 72971.17431192659,
         "Cost of Living": 119.6,
         "_deepnote_index_column": 36
        },
        {
         "State_Name": "South Carolina",
         "Avg_Salary": 55715.24836601302,
         "Cost of Living": 95.9,
         "_deepnote_index_column": 37
        },
        {
         "State_Name": "South Dakota",
         "Avg_Salary": 58276.96093750001,
         "Cost of Living": 99.8,
         "_deepnote_index_column": 38
        },
        {
         "State_Name": "Tennessee",
         "Avg_Salary": 56271.95245901639,
         "Cost of Living": 89.7,
         "_deepnote_index_column": 39
        },
        {
         "State_Name": "Texas",
         "Avg_Salary": 65407.010434782576,
         "Cost of Living": 92,
         "_deepnote_index_column": 40
        },
        {
         "State_Name": "Utah",
         "Avg_Salary": 72132.21455938695,
         "Cost of Living": 97.9,
         "_deepnote_index_column": 41
        },
        {
         "State_Name": "Vermont",
         "Avg_Salary": 63195.49397590362,
         "Cost of Living": 116.4,
         "_deepnote_index_column": 42
        },
        {
         "State_Name": "Virginia",
         "Avg_Salary": 79401.7401273885,
         "Cost of Living": 101.5,
         "_deepnote_index_column": 43
        },
        {
         "State_Name": "Washington",
         "Avg_Salary": 74067.36191860461,
         "Cost of Living": 113,
         "_deepnote_index_column": 44
        },
        {
         "State_Name": "West Virginia",
         "Avg_Salary": 52291.99596774196,
         "Cost of Living": 92.7,
         "_deepnote_index_column": 45
        },
        {
         "State_Name": "Wisconsin",
         "Avg_Salary": 64143.255192878336,
         "Cost of Living": 96.1,
         "_deepnote_index_column": 46
        },
        {
         "State_Name": "Wyoming",
         "Avg_Salary": 67552.66666666664,
         "Cost of Living": 94.3,
         "_deepnote_index_column": 47
        },
        {
         "State_Name": "Nebraska",
         "Avg_Salary": 61719.38545454547,
         "Cost of Living": 93,
         "_deepnote_index_column": 48
        },
        {
         "State_Name": "Delaware",
         "Avg_Salary": 70142.34090909093,
         "Cost of Living": 107.7,
         "_deepnote_index_column": 49
        },
        {
         "State_Name": "District of Columbia",
         "Avg_Salary": 90668.421875,
         "Cost of Living": 159,
         "_deepnote_index_column": 50
        }
       ]
      },
      "text/plain": "              State_Name    Avg_Salary  Cost of Living\n0                Alabama  53612.925856            89.2\n1                 Alaska  77670.209524           127.3\n2                Arizona  62578.071313           101.3\n3               Arkansas  52060.361765            88.1\n4             California  78126.737805           142.4\n5               Colorado  73322.821293           104.2\n6            Connecticut  89227.219718           123.0\n7                Florida  60887.889825            99.8\n8                Georgia  60354.391198            89.7\n9                 Hawaii  77859.586957           198.6\n10                 Idaho  56211.442953            93.9\n11              Illinois  69067.381551            95.0\n12               Indiana  59153.832386            89.8\n13                  Iowa  62569.145374            91.3\n14                Kansas  61704.818898            86.8\n15              Kentucky  55250.162978            93.6\n16             Louisiana  55432.264188            93.2\n17                 Maine  60708.522293           116.1\n18              Maryland  87689.604096           127.2\n19         Massachusetts  84878.683582           129.9\n20              Michigan  59001.124361            90.6\n21             Minnesota  71403.998440           100.7\n22           Mississippi  48924.003115            84.5\n23              Missouri  56674.882857            89.1\n24               Montana  57350.554054            99.4\n25                Nevada  65684.120755           108.8\n26         New Hampshire  76113.503817           108.4\n27            New Jersey  88657.644144           116.8\n28            New Mexico  57127.075000            89.3\n29              New York  76201.220833           146.6\n30        North Carolina  57750.104918            96.1\n31          North Dakota  65137.067227            96.5\n32                  Ohio  59675.863603            92.2\n33              Oklahoma  55121.331250            87.2\n34                Oregon  63597.049096           133.7\n35          Pennsylvania  64878.694915           104.0\n36          Rhode Island  72971.174312           119.6\n37        South Carolina  55715.248366            95.9\n38          South Dakota  58276.960938            99.8\n39             Tennessee  56271.952459            89.7\n40                 Texas  65407.010435            92.0\n41                  Utah  72132.214559            97.9\n42               Vermont  63195.493976           116.4\n43              Virginia  79401.740127           101.5\n44            Washington  74067.361919           113.0\n45         West Virginia  52291.995968            92.7\n46             Wisconsin  64143.255193            96.1\n47               Wyoming  67552.666667            94.3\n48              Nebraska  61719.385455            93.0\n49              Delaware  70142.340909           107.7\n50  District of Columbia  90668.421875           159.0",
      "text/html": "<div>\n<style scoped>\n    .dataframe tbody tr th:only-of-type {\n        vertical-align: middle;\n    }\n\n    .dataframe tbody tr th {\n        vertical-align: top;\n    }\n\n    .dataframe thead th {\n        text-align: right;\n    }\n</style>\n<table border=\"1\" class=\"dataframe\">\n  <thead>\n    <tr style=\"text-align: right;\">\n      <th></th>\n      <th>State_Name</th>\n      <th>Avg_Salary</th>\n      <th>Cost of Living</th>\n    </tr>\n  </thead>\n  <tbody>\n    <tr>\n      <th>0</th>\n      <td>Alabama</td>\n      <td>53612.925856</td>\n      <td>89.2</td>\n    </tr>\n    <tr>\n      <th>1</th>\n      <td>Alaska</td>\n      <td>77670.209524</td>\n      <td>127.3</td>\n    </tr>\n    <tr>\n      <th>2</th>\n      <td>Arizona</td>\n      <td>62578.071313</td>\n      <td>101.3</td>\n    </tr>\n    <tr>\n      <th>3</th>\n      <td>Arkansas</td>\n      <td>52060.361765</td>\n      <td>88.1</td>\n    </tr>\n    <tr>\n      <th>4</th>\n      <td>California</td>\n      <td>78126.737805</td>\n      <td>142.4</td>\n    </tr>\n    <tr>\n      <th>5</th>\n      <td>Colorado</td>\n      <td>73322.821293</td>\n      <td>104.2</td>\n    </tr>\n    <tr>\n      <th>6</th>\n      <td>Connecticut</td>\n      <td>89227.219718</td>\n      <td>123.0</td>\n    </tr>\n    <tr>\n      <th>7</th>\n      <td>Florida</td>\n      <td>60887.889825</td>\n      <td>99.8</td>\n    </tr>\n    <tr>\n      <th>8</th>\n      <td>Georgia</td>\n      <td>60354.391198</td>\n      <td>89.7</td>\n    </tr>\n    <tr>\n      <th>9</th>\n      <td>Hawaii</td>\n      <td>77859.586957</td>\n      <td>198.6</td>\n    </tr>\n    <tr>\n      <th>10</th>\n      <td>Idaho</td>\n      <td>56211.442953</td>\n      <td>93.9</td>\n    </tr>\n    <tr>\n      <th>11</th>\n      <td>Illinois</td>\n      <td>69067.381551</td>\n      <td>95.0</td>\n    </tr>\n    <tr>\n      <th>12</th>\n      <td>Indiana</td>\n      <td>59153.832386</td>\n      <td>89.8</td>\n    </tr>\n    <tr>\n      <th>13</th>\n      <td>Iowa</td>\n      <td>62569.145374</td>\n      <td>91.3</td>\n    </tr>\n    <tr>\n      <th>14</th>\n      <td>Kansas</td>\n      <td>61704.818898</td>\n      <td>86.8</td>\n    </tr>\n    <tr>\n      <th>15</th>\n      <td>Kentucky</td>\n      <td>55250.162978</td>\n      <td>93.6</td>\n    </tr>\n    <tr>\n      <th>16</th>\n      <td>Louisiana</td>\n      <td>55432.264188</td>\n      <td>93.2</td>\n    </tr>\n    <tr>\n      <th>17</th>\n      <td>Maine</td>\n      <td>60708.522293</td>\n      <td>116.1</td>\n    </tr>\n    <tr>\n      <th>18</th>\n      <td>Maryland</td>\n      <td>87689.604096</td>\n      <td>127.2</td>\n    </tr>\n    <tr>\n      <th>19</th>\n      <td>Massachusetts</td>\n      <td>84878.683582</td>\n      <td>129.9</td>\n    </tr>\n    <tr>\n      <th>20</th>\n      <td>Michigan</td>\n      <td>59001.124361</td>\n      <td>90.6</td>\n    </tr>\n    <tr>\n      <th>21</th>\n      <td>Minnesota</td>\n      <td>71403.998440</td>\n      <td>100.7</td>\n    </tr>\n    <tr>\n      <th>22</th>\n      <td>Mississippi</td>\n      <td>48924.003115</td>\n      <td>84.5</td>\n    </tr>\n    <tr>\n      <th>23</th>\n      <td>Missouri</td>\n      <td>56674.882857</td>\n      <td>89.1</td>\n    </tr>\n    <tr>\n      <th>24</th>\n      <td>Montana</td>\n      <td>57350.554054</td>\n      <td>99.4</td>\n    </tr>\n    <tr>\n      <th>25</th>\n      <td>Nevada</td>\n      <td>65684.120755</td>\n      <td>108.8</td>\n    </tr>\n    <tr>\n      <th>26</th>\n      <td>New Hampshire</td>\n      <td>76113.503817</td>\n      <td>108.4</td>\n    </tr>\n    <tr>\n      <th>27</th>\n      <td>New Jersey</td>\n      <td>88657.644144</td>\n      <td>116.8</td>\n    </tr>\n    <tr>\n      <th>28</th>\n      <td>New Mexico</td>\n      <td>57127.075000</td>\n      <td>89.3</td>\n    </tr>\n    <tr>\n      <th>29</th>\n      <td>New York</td>\n      <td>76201.220833</td>\n      <td>146.6</td>\n    </tr>\n    <tr>\n      <th>30</th>\n      <td>North Carolina</td>\n      <td>57750.104918</td>\n      <td>96.1</td>\n    </tr>\n    <tr>\n      <th>31</th>\n      <td>North Dakota</td>\n      <td>65137.067227</td>\n      <td>96.5</td>\n    </tr>\n    <tr>\n      <th>32</th>\n      <td>Ohio</td>\n      <td>59675.863603</td>\n      <td>92.2</td>\n    </tr>\n    <tr>\n      <th>33</th>\n      <td>Oklahoma</td>\n      <td>55121.331250</td>\n      <td>87.2</td>\n    </tr>\n    <tr>\n      <th>34</th>\n      <td>Oregon</td>\n      <td>63597.049096</td>\n      <td>133.7</td>\n    </tr>\n    <tr>\n      <th>35</th>\n      <td>Pennsylvania</td>\n      <td>64878.694915</td>\n      <td>104.0</td>\n    </tr>\n    <tr>\n      <th>36</th>\n      <td>Rhode Island</td>\n      <td>72971.174312</td>\n      <td>119.6</td>\n    </tr>\n    <tr>\n      <th>37</th>\n      <td>South Carolina</td>\n      <td>55715.248366</td>\n      <td>95.9</td>\n    </tr>\n    <tr>\n      <th>38</th>\n      <td>South Dakota</td>\n      <td>58276.960938</td>\n      <td>99.8</td>\n    </tr>\n    <tr>\n      <th>39</th>\n      <td>Tennessee</td>\n      <td>56271.952459</td>\n      <td>89.7</td>\n    </tr>\n    <tr>\n      <th>40</th>\n      <td>Texas</td>\n      <td>65407.010435</td>\n      <td>92.0</td>\n    </tr>\n    <tr>\n      <th>41</th>\n      <td>Utah</td>\n      <td>72132.214559</td>\n      <td>97.9</td>\n    </tr>\n    <tr>\n      <th>42</th>\n      <td>Vermont</td>\n      <td>63195.493976</td>\n      <td>116.4</td>\n    </tr>\n    <tr>\n      <th>43</th>\n      <td>Virginia</td>\n      <td>79401.740127</td>\n      <td>101.5</td>\n    </tr>\n    <tr>\n      <th>44</th>\n      <td>Washington</td>\n      <td>74067.361919</td>\n      <td>113.0</td>\n    </tr>\n    <tr>\n      <th>45</th>\n      <td>West Virginia</td>\n      <td>52291.995968</td>\n      <td>92.7</td>\n    </tr>\n    <tr>\n      <th>46</th>\n      <td>Wisconsin</td>\n      <td>64143.255193</td>\n      <td>96.1</td>\n    </tr>\n    <tr>\n      <th>47</th>\n      <td>Wyoming</td>\n      <td>67552.666667</td>\n      <td>94.3</td>\n    </tr>\n    <tr>\n      <th>48</th>\n      <td>Nebraska</td>\n      <td>61719.385455</td>\n      <td>93.0</td>\n    </tr>\n    <tr>\n      <th>49</th>\n      <td>Delaware</td>\n      <td>70142.340909</td>\n      <td>107.7</td>\n    </tr>\n    <tr>\n      <th>50</th>\n      <td>District of Columbia</td>\n      <td>90668.421875</td>\n      <td>159.0</td>\n    </tr>\n  </tbody>\n</table>\n</div>"
     },
     "metadata": {}
    }
   ]
  },
  {
   "cell_type": "markdown",
   "source": "<a style='text-decoration:none;line-height:16px;display:flex;color:#5B5B62;padding:10px;justify-content:end;' href='https://deepnote.com?utm_source=created-in-deepnote-cell&projectId=8d15e87d-b710-4fff-80ef-ff0e4cb338ff' target=\"_blank\">\n<img alt='Created in deepnote.com' style='display:inline;max-height:16px;margin:0px;margin-right:7.5px;' src='data:image/svg+xml;base64,PD94bWwgdmVyc2lvbj0iMS4wIiBlbmNvZGluZz0iVVRGLTgiPz4KPHN2ZyB3aWR0aD0iODBweCIgaGVpZ2h0PSI4MHB4IiB2aWV3Qm94PSIwIDAgODAgODAiIHZlcnNpb249IjEuMSIgeG1sbnM9Imh0dHA6Ly93d3cudzMub3JnLzIwMDAvc3ZnIiB4bWxuczp4bGluaz0iaHR0cDovL3d3dy53My5vcmcvMTk5OS94bGluayI+CiAgICA8IS0tIEdlbmVyYXRvcjogU2tldGNoIDU0LjEgKDc2NDkwKSAtIGh0dHBzOi8vc2tldGNoYXBwLmNvbSAtLT4KICAgIDx0aXRsZT5Hcm91cCAzPC90aXRsZT4KICAgIDxkZXNjPkNyZWF0ZWQgd2l0aCBTa2V0Y2guPC9kZXNjPgogICAgPGcgaWQ9IkxhbmRpbmciIHN0cm9rZT0ibm9uZSIgc3Ryb2tlLXdpZHRoPSIxIiBmaWxsPSJub25lIiBmaWxsLXJ1bGU9ImV2ZW5vZGQiPgogICAgICAgIDxnIGlkPSJBcnRib2FyZCIgdHJhbnNmb3JtPSJ0cmFuc2xhdGUoLTEyMzUuMDAwMDAwLCAtNzkuMDAwMDAwKSI+CiAgICAgICAgICAgIDxnIGlkPSJHcm91cC0zIiB0cmFuc2Zvcm09InRyYW5zbGF0ZSgxMjM1LjAwMDAwMCwgNzkuMDAwMDAwKSI+CiAgICAgICAgICAgICAgICA8cG9seWdvbiBpZD0iUGF0aC0yMCIgZmlsbD0iIzAyNjVCNCIgcG9pbnRzPSIyLjM3NjIzNzYyIDgwIDM4LjA0NzY2NjcgODAgNTcuODIxNzgyMiA3My44MDU3NTkyIDU3LjgyMTc4MjIgMzIuNzU5MjczOSAzOS4xNDAyMjc4IDMxLjY4MzE2ODMiPjwvcG9seWdvbj4KICAgICAgICAgICAgICAgIDxwYXRoIGQ9Ik0zNS4wMDc3MTgsODAgQzQyLjkwNjIwMDcsNzYuNDU0OTM1OCA0Ny41NjQ5MTY3LDcxLjU0MjI2NzEgNDguOTgzODY2LDY1LjI2MTk5MzkgQzUxLjExMjI4OTksNTUuODQxNTg0MiA0MS42NzcxNzk1LDQ5LjIxMjIyODQgMjUuNjIzOTg0Niw0OS4yMTIyMjg0IEMyNS40ODQ5Mjg5LDQ5LjEyNjg0NDggMjkuODI2MTI5Niw0My4yODM4MjQ4IDM4LjY0NzU4NjksMzEuNjgzMTY4MyBMNzIuODcxMjg3MSwzMi41NTQ0MjUgTDY1LjI4MDk3Myw2Ny42NzYzNDIxIEw1MS4xMTIyODk5LDc3LjM3NjE0NCBMMzUuMDA3NzE4LDgwIFoiIGlkPSJQYXRoLTIyIiBmaWxsPSIjMDAyODY4Ij48L3BhdGg+CiAgICAgICAgICAgICAgICA8cGF0aCBkPSJNMCwzNy43MzA0NDA1IEwyNy4xMTQ1MzcsMC4yNTcxMTE0MzYgQzYyLjM3MTUxMjMsLTEuOTkwNzE3MDEgODAsMTAuNTAwMzkyNyA4MCwzNy43MzA0NDA1IEM4MCw2NC45NjA0ODgyIDY0Ljc3NjUwMzgsNzkuMDUwMzQxNCAzNC4zMjk1MTEzLDgwIEM0Ny4wNTUzNDg5LDc3LjU2NzA4MDggNTMuNDE4MjY3Nyw3MC4zMTM2MTAzIDUzLjQxODI2NzcsNTguMjM5NTg4NSBDNTMuNDE4MjY3Nyw0MC4xMjg1NTU3IDM2LjMwMzk1NDQsMzcuNzMwNDQwNSAyNS4yMjc0MTcsMzcuNzMwNDQwNSBDMTcuODQzMDU4NiwzNy43MzA0NDA1IDkuNDMzOTE5NjYsMzcuNzMwNDQwNSAwLDM3LjczMDQ0MDUgWiIgaWQ9IlBhdGgtMTkiIGZpbGw9IiMzNzkzRUYiPjwvcGF0aD4KICAgICAgICAgICAgPC9nPgogICAgICAgIDwvZz4KICAgIDwvZz4KPC9zdmc+' > </img>\nCreated in <span style='font-weight:600;margin-left:4px;'>Deepnote</span></a>",
   "metadata": {
    "tags": [],
    "created_in_deepnote_cell": true,
    "deepnote_cell_type": "markdown"
   }
  }
 ],
 "nbformat": 4,
 "nbformat_minor": 2,
 "metadata": {
  "orig_nbformat": 2,
  "deepnote": {},
  "deepnote_notebook_id": "14a919f1-aa7e-4675-9f50-a7caf05c45e8",
  "deepnote_execution_queue": []
 }
}