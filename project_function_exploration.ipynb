{
 "cells": [
  {
   "cell_type": "code",
   "metadata": {
    "tags": [],
    "cell_id": "824292aa-63e8-4cec-94a7-54b9b14ee962",
    "deepnote_to_be_reexecuted": false,
    "source_hash": "9b82ee11",
    "execution_start": 1652907669094,
    "execution_millis": 15,
    "deepnote_cell_type": "code",
    "deepnote_cell_height": 81
   },
   "source": "import pandas as pd",
   "execution_count": 1,
   "outputs": []
  },
  {
   "cell_type": "code",
   "metadata": {
    "cell_id": "098b34d3e6cc42aeaec07f5f1466b4e3",
    "tags": [],
    "deepnote_to_be_reexecuted": false,
    "source_hash": "c2602aa8",
    "execution_start": 1652907669121,
    "execution_millis": 0,
    "deepnote_cell_type": "code",
    "deepnote_cell_height": 81
   },
   "source": "import numpy as np",
   "execution_count": 2,
   "outputs": []
  },
  {
   "cell_type": "code",
   "metadata": {
    "cell_id": "3c05402a50374a6085f9b01e9c43e200",
    "tags": [],
    "deepnote_to_be_reexecuted": false,
    "source_hash": "624bcb00",
    "execution_start": 1652907669127,
    "execution_millis": 49,
    "deepnote_cell_type": "code",
    "deepnote_cell_height": 81
   },
   "source": "attendance = pd.read_csv(\"attendance_entries.csv\")",
   "execution_count": 3,
   "outputs": []
  },
  {
   "cell_type": "code",
   "metadata": {
    "cell_id": "cf0cc6dc6c6e44929676de889cf91d82",
    "tags": [],
    "deepnote_to_be_reexecuted": false,
    "source_hash": "9c66a3c9",
    "execution_start": 1652907669177,
    "execution_millis": 18,
    "deepnote_cell_type": "code",
    "deepnote_cell_height": 81
   },
   "source": "activity = pd.read_csv(\"activity_log.csv\")",
   "execution_count": 4,
   "outputs": []
  },
  {
   "cell_type": "code",
   "metadata": {
    "cell_id": "57ad61d324654622b08205ecd2d8632a",
    "tags": [],
    "deepnote_to_be_reexecuted": false,
    "source_hash": "bf7a9188",
    "execution_start": 1652907669229,
    "execution_millis": 87,
    "deepnote_table_state": {
     "pageSize": 10,
     "pageIndex": 2,
     "filters": [],
     "sortBy": []
    },
    "deepnote_table_loading": false,
    "deepnote_cell_type": "code",
    "deepnote_cell_height": 613.59375
   },
   "source": "attendance",
   "execution_count": 5,
   "outputs": [
    {
     "output_type": "execute_result",
     "execution_count": 5,
     "data": {
      "application/vnd.deepnote.dataframe.v3+json": {
       "column_count": 6,
       "row_count": 133,
       "columns": [
        {
         "name": "id",
         "dtype": "int64",
         "stats": {
          "unique_count": 133,
          "nan_count": 0,
          "min": "27",
          "max": "159",
          "histogram": [
           {
            "bin_start": 27,
            "bin_end": 40.2,
            "count": 14
           },
           {
            "bin_start": 40.2,
            "bin_end": 53.4,
            "count": 13
           },
           {
            "bin_start": 53.4,
            "bin_end": 66.6,
            "count": 13
           },
           {
            "bin_start": 66.6,
            "bin_end": 79.8,
            "count": 13
           },
           {
            "bin_start": 79.8,
            "bin_end": 93,
            "count": 13
           },
           {
            "bin_start": 93,
            "bin_end": 106.19999999999999,
            "count": 14
           },
           {
            "bin_start": 106.19999999999999,
            "bin_end": 119.39999999999999,
            "count": 13
           },
           {
            "bin_start": 119.39999999999999,
            "bin_end": 132.6,
            "count": 13
           },
           {
            "bin_start": 132.6,
            "bin_end": 145.8,
            "count": 13
           },
           {
            "bin_start": 145.8,
            "bin_end": 159,
            "count": 14
           }
          ]
         }
        },
        {
         "name": "created_at",
         "dtype": "object",
         "stats": {
          "unique_count": 133,
          "nan_count": 0,
          "categories": [
           {
            "name": "2021-02-26 19:13:40.836346",
            "count": 1
           },
           {
            "name": "2021-02-26 19:13:56.579424",
            "count": 1
           },
           {
            "name": "131 others",
            "count": 131
           }
          ]
         }
        },
        {
         "name": "updated_at",
         "dtype": "object",
         "stats": {
          "unique_count": 133,
          "nan_count": 0,
          "categories": [
           {
            "name": "2021-03-08 22:18:06.000000",
            "count": 1
           },
           {
            "name": "2021-03-08 22:18:02.000000",
            "count": 1
           },
           {
            "name": "131 others",
            "count": 131
           }
          ]
         }
        },
        {
         "name": "status",
         "dtype": "object",
         "stats": {
          "unique_count": 3,
          "nan_count": 0,
          "categories": [
           {
            "name": "A",
            "count": 71
           },
           {
            "name": "P",
            "count": 50
           },
           {
            "name": "I",
            "count": 12
           }
          ]
         }
        },
        {
         "name": "attendanceSessionId",
         "dtype": "int64",
         "stats": {
          "unique_count": 10,
          "nan_count": 0,
          "min": "1",
          "max": "10",
          "histogram": [
           {
            "bin_start": 1,
            "bin_end": 1.9,
            "count": 13
           },
           {
            "bin_start": 1.9,
            "bin_end": 2.8,
            "count": 13
           },
           {
            "bin_start": 2.8,
            "bin_end": 3.7,
            "count": 14
           },
           {
            "bin_start": 3.7,
            "bin_end": 4.6,
            "count": 14
           },
           {
            "bin_start": 4.6,
            "bin_end": 5.5,
            "count": 14
           },
           {
            "bin_start": 5.5,
            "bin_end": 6.4,
            "count": 14
           },
           {
            "bin_start": 6.4,
            "bin_end": 7.3,
            "count": 14
           },
           {
            "bin_start": 7.3,
            "bin_end": 8.2,
            "count": 14
           },
           {
            "bin_start": 8.2,
            "bin_end": 9.1,
            "count": 14
           },
           {
            "bin_start": 9.1,
            "bin_end": 10,
            "count": 9
           }
          ]
         }
        },
        {
         "name": "userId",
         "dtype": "int64",
         "stats": {
          "unique_count": 21,
          "nan_count": 0,
          "min": "66",
          "max": "128",
          "histogram": [
           {
            "bin_start": 66,
            "bin_end": 72.2,
            "count": 28
           },
           {
            "bin_start": 72.2,
            "bin_end": 78.4,
            "count": 0
           },
           {
            "bin_start": 78.4,
            "bin_end": 84.6,
            "count": 18
           },
           {
            "bin_start": 84.6,
            "bin_end": 90.8,
            "count": 36
           },
           {
            "bin_start": 90.8,
            "bin_end": 97,
            "count": 18
           },
           {
            "bin_start": 97,
            "bin_end": 103.2,
            "count": 0
           },
           {
            "bin_start": 103.2,
            "bin_end": 109.4,
            "count": 19
           },
           {
            "bin_start": 109.4,
            "bin_end": 115.6,
            "count": 7
           },
           {
            "bin_start": 115.6,
            "bin_end": 121.80000000000001,
            "count": 1
           },
           {
            "bin_start": 121.80000000000001,
            "bin_end": 128,
            "count": 6
           }
          ]
         }
        },
        {
         "name": "_deepnote_index_column",
         "dtype": "int64"
        }
       ],
       "rows": [
        {
         "id": 47,
         "created_at": "2021-03-09 20:17:46.839661",
         "updated_at": "2021-03-09 20:17:46.839661",
         "status": "P",
         "attendanceSessionId": 2,
         "userId": 69,
         "_deepnote_index_column": 20
        },
        {
         "id": 48,
         "created_at": "2021-03-09 20:17:59.958033",
         "updated_at": "2021-03-09 21:36:55.000000",
         "status": "A",
         "attendanceSessionId": 2,
         "userId": 86,
         "_deepnote_index_column": 21
        },
        {
         "id": 49,
         "created_at": "2021-03-09 21:36:52.574842",
         "updated_at": "2021-03-09 21:36:52.574842",
         "status": "A",
         "attendanceSessionId": 2,
         "userId": 92,
         "_deepnote_index_column": 22
        },
        {
         "id": 50,
         "created_at": "2021-03-09 21:36:54.414997",
         "updated_at": "2021-03-09 21:36:54.414997",
         "status": "A",
         "attendanceSessionId": 2,
         "userId": 87,
         "_deepnote_index_column": 23
        },
        {
         "id": 51,
         "created_at": "2021-03-09 21:36:58.133876",
         "updated_at": "2021-03-09 21:36:58.133876",
         "status": "A",
         "attendanceSessionId": 2,
         "userId": 82,
         "_deepnote_index_column": 24
        },
        {
         "id": 52,
         "created_at": "2021-03-09 21:36:58.789331",
         "updated_at": "2021-03-09 21:36:58.789331",
         "status": "A",
         "attendanceSessionId": 2,
         "userId": 81,
         "_deepnote_index_column": 25
        },
        {
         "id": 53,
         "created_at": "2021-03-16 18:48:23.599243",
         "updated_at": "2021-03-16 20:11:52.000000",
         "status": "I",
         "attendanceSessionId": 3,
         "userId": 88,
         "_deepnote_index_column": 26
        },
        {
         "id": 54,
         "created_at": "2021-03-16 18:48:45.716792",
         "updated_at": "2021-03-16 18:48:45.716792",
         "status": "I",
         "attendanceSessionId": 4,
         "userId": 88,
         "_deepnote_index_column": 27
        },
        {
         "id": 55,
         "created_at": "2021-03-16 18:48:51.827204",
         "updated_at": "2021-03-16 18:48:51.827204",
         "status": "I",
         "attendanceSessionId": 5,
         "userId": 88,
         "_deepnote_index_column": 28
        },
        {
         "id": 56,
         "created_at": "2021-03-16 18:48:58.862457",
         "updated_at": "2021-03-16 18:48:58.862457",
         "status": "I",
         "attendanceSessionId": 6,
         "userId": 88,
         "_deepnote_index_column": 29
        }
       ]
      },
      "text/plain": "      id                  created_at                  updated_at status  \\\n0     27  2021-02-26 19:13:40.836346  2021-03-08 22:18:06.000000      A   \n1     28  2021-02-26 19:13:56.579424  2021-03-08 22:18:02.000000      P   \n2     29  2021-02-26 19:13:58.029258  2021-03-08 22:18:37.000000      P   \n3     30  2021-03-02 20:47:52.425264  2021-03-02 20:47:52.425264      A   \n4     31  2021-03-02 20:47:55.547580  2021-03-02 20:47:55.547580      I   \n..   ...                         ...                         ...    ...   \n128  155  2021-07-03 16:12:20.206081  2021-07-03 16:12:20.206081      A   \n129  156  2021-07-03 16:12:23.083843  2021-07-03 16:12:23.083843      P   \n130  157  2021-07-03 16:12:30.230094  2021-07-03 16:12:30.230094      A   \n131  158  2021-07-03 16:12:31.466943  2021-07-03 16:12:31.466943      A   \n132  159  2021-07-03 16:15:01.016559  2021-07-03 16:15:01.016559      P   \n\n     attendanceSessionId  userId  \n0                      1      68  \n1                      1      66  \n2                      1      69  \n3                      1      81  \n4                      1      82  \n..                   ...     ...  \n128                   10     124  \n129                   10     125  \n130                   10     127  \n131                   10     128  \n132                   10      66  \n\n[133 rows x 6 columns]",
      "text/html": "<div>\n<style scoped>\n    .dataframe tbody tr th:only-of-type {\n        vertical-align: middle;\n    }\n\n    .dataframe tbody tr th {\n        vertical-align: top;\n    }\n\n    .dataframe thead th {\n        text-align: right;\n    }\n</style>\n<table border=\"1\" class=\"dataframe\">\n  <thead>\n    <tr style=\"text-align: right;\">\n      <th></th>\n      <th>id</th>\n      <th>created_at</th>\n      <th>updated_at</th>\n      <th>status</th>\n      <th>attendanceSessionId</th>\n      <th>userId</th>\n    </tr>\n  </thead>\n  <tbody>\n    <tr>\n      <th>0</th>\n      <td>27</td>\n      <td>2021-02-26 19:13:40.836346</td>\n      <td>2021-03-08 22:18:06.000000</td>\n      <td>A</td>\n      <td>1</td>\n      <td>68</td>\n    </tr>\n    <tr>\n      <th>1</th>\n      <td>28</td>\n      <td>2021-02-26 19:13:56.579424</td>\n      <td>2021-03-08 22:18:02.000000</td>\n      <td>P</td>\n      <td>1</td>\n      <td>66</td>\n    </tr>\n    <tr>\n      <th>2</th>\n      <td>29</td>\n      <td>2021-02-26 19:13:58.029258</td>\n      <td>2021-03-08 22:18:37.000000</td>\n      <td>P</td>\n      <td>1</td>\n      <td>69</td>\n    </tr>\n    <tr>\n      <th>3</th>\n      <td>30</td>\n      <td>2021-03-02 20:47:52.425264</td>\n      <td>2021-03-02 20:47:52.425264</td>\n      <td>A</td>\n      <td>1</td>\n      <td>81</td>\n    </tr>\n    <tr>\n      <th>4</th>\n      <td>31</td>\n      <td>2021-03-02 20:47:55.547580</td>\n      <td>2021-03-02 20:47:55.547580</td>\n      <td>I</td>\n      <td>1</td>\n      <td>82</td>\n    </tr>\n    <tr>\n      <th>...</th>\n      <td>...</td>\n      <td>...</td>\n      <td>...</td>\n      <td>...</td>\n      <td>...</td>\n      <td>...</td>\n    </tr>\n    <tr>\n      <th>128</th>\n      <td>155</td>\n      <td>2021-07-03 16:12:20.206081</td>\n      <td>2021-07-03 16:12:20.206081</td>\n      <td>A</td>\n      <td>10</td>\n      <td>124</td>\n    </tr>\n    <tr>\n      <th>129</th>\n      <td>156</td>\n      <td>2021-07-03 16:12:23.083843</td>\n      <td>2021-07-03 16:12:23.083843</td>\n      <td>P</td>\n      <td>10</td>\n      <td>125</td>\n    </tr>\n    <tr>\n      <th>130</th>\n      <td>157</td>\n      <td>2021-07-03 16:12:30.230094</td>\n      <td>2021-07-03 16:12:30.230094</td>\n      <td>A</td>\n      <td>10</td>\n      <td>127</td>\n    </tr>\n    <tr>\n      <th>131</th>\n      <td>158</td>\n      <td>2021-07-03 16:12:31.466943</td>\n      <td>2021-07-03 16:12:31.466943</td>\n      <td>A</td>\n      <td>10</td>\n      <td>128</td>\n    </tr>\n    <tr>\n      <th>132</th>\n      <td>159</td>\n      <td>2021-07-03 16:15:01.016559</td>\n      <td>2021-07-03 16:15:01.016559</td>\n      <td>P</td>\n      <td>10</td>\n      <td>66</td>\n    </tr>\n  </tbody>\n</table>\n<p>133 rows × 6 columns</p>\n</div>"
     },
     "metadata": {}
    }
   ]
  },
  {
   "cell_type": "code",
   "source": "attendance.userId.unique()",
   "metadata": {
    "cell_id": "5687c6a251d94c0abc30c27f7c575d73",
    "tags": [],
    "deepnote_to_be_reexecuted": false,
    "source_hash": "f31fed43",
    "execution_start": 1652907669294,
    "execution_millis": 23,
    "deepnote_cell_type": "code",
    "deepnote_cell_height": 137.375,
    "deepnote_output_heights": [
     40.390625
    ]
   },
   "outputs": [
    {
     "output_type": "execute_result",
     "execution_count": 6,
     "data": {
      "text/plain": "array([ 68,  66,  69,  81,  82,  85,  86,  87,  88,  91,  92, 105, 106,\n       115, 121, 122, 123, 124, 125, 127, 128])"
     },
     "metadata": {}
    }
   ],
   "execution_count": 6
  },
  {
   "cell_type": "code",
   "metadata": {
    "cell_id": "580f75adbf1e4bd491ca721f99e0e082",
    "tags": [],
    "deepnote_to_be_reexecuted": false,
    "source_hash": "4f127196",
    "execution_start": 1652907669318,
    "execution_millis": 3068764,
    "deepnote_cell_type": "code",
    "deepnote_cell_height": 81
   },
   "source": "attendance = attendance.drop(columns=['created_at', 'updated_at'])",
   "execution_count": 7,
   "outputs": []
  },
  {
   "cell_type": "code",
   "metadata": {
    "cell_id": "402b9f1049c74d3e997ee80752800e6d",
    "tags": [],
    "deepnote_to_be_reexecuted": false,
    "source_hash": "4e4bc1d2",
    "execution_start": 1652907669340,
    "execution_millis": 4,
    "deepnote_cell_type": "code",
    "deepnote_cell_height": 312
   },
   "source": "attendance.info()",
   "execution_count": 8,
   "outputs": [
    {
     "name": "stdout",
     "text": "<class 'pandas.core.frame.DataFrame'>\nRangeIndex: 133 entries, 0 to 132\nData columns (total 4 columns):\n #   Column               Non-Null Count  Dtype \n---  ------               --------------  ----- \n 0   id                   133 non-null    int64 \n 1   status               133 non-null    object\n 2   attendanceSessionId  133 non-null    int64 \n 3   userId               133 non-null    int64 \ndtypes: int64(3), object(1)\nmemory usage: 4.3+ KB\n",
     "output_type": "stream"
    }
   ]
  },
  {
   "cell_type": "code",
   "metadata": {
    "cell_id": "7f0f1c15f1774ad788bfc66a4d96de1b",
    "tags": [],
    "deepnote_to_be_reexecuted": false,
    "source_hash": "6eda08c1",
    "execution_start": 1652907669359,
    "execution_millis": 92,
    "deepnote_table_state": {
     "pageSize": 10,
     "pageIndex": 1,
     "filters": [],
     "sortBy": []
    },
    "deepnote_table_loading": false,
    "deepnote_cell_type": "code",
    "deepnote_cell_height": 613.59375
   },
   "source": "activity",
   "execution_count": 9,
   "outputs": [
    {
     "output_type": "execute_result",
     "execution_count": 9,
     "data": {
      "application/vnd.deepnote.dataframe.v3+json": {
       "column_count": 7,
       "row_count": 481,
       "columns": [
        {
         "name": "id",
         "dtype": "int64",
         "stats": {
          "unique_count": 481,
          "nan_count": 0,
          "min": "1028",
          "max": "1525",
          "histogram": [
           {
            "bin_start": 1028,
            "bin_end": 1077.7,
            "count": 50
           },
           {
            "bin_start": 1077.7,
            "bin_end": 1127.4,
            "count": 50
           },
           {
            "bin_start": 1127.4,
            "bin_end": 1177.1,
            "count": 50
           },
           {
            "bin_start": 1177.1,
            "bin_end": 1226.8,
            "count": 49
           },
           {
            "bin_start": 1226.8,
            "bin_end": 1276.5,
            "count": 50
           },
           {
            "bin_start": 1276.5,
            "bin_end": 1326.2,
            "count": 41
           },
           {
            "bin_start": 1326.2,
            "bin_end": 1375.9,
            "count": 49
           },
           {
            "bin_start": 1375.9,
            "bin_end": 1425.6,
            "count": 50
           },
           {
            "bin_start": 1425.6,
            "bin_end": 1475.3,
            "count": 49
           },
           {
            "bin_start": 1475.3,
            "bin_end": 1525,
            "count": 43
           }
          ]
         }
        },
        {
         "name": "created_at",
         "dtype": "object",
         "stats": {
          "unique_count": 481,
          "nan_count": 0,
          "categories": [
           {
            "name": "2021-03-25 11:25:05.219531",
            "count": 1
           },
           {
            "name": "2021-03-25 11:25:36.764022",
            "count": 1
           },
           {
            "name": "479 others",
            "count": 479
           }
          ]
         }
        },
        {
         "name": "updated_at",
         "dtype": "object",
         "stats": {
          "unique_count": 481,
          "nan_count": 0,
          "categories": [
           {
            "name": "2021-03-25 11:25:05.219531",
            "count": 1
           },
           {
            "name": "2021-03-25 11:25:36.764022",
            "count": 1
           },
           {
            "name": "479 others",
            "count": 479
           }
          ]
         }
        },
        {
         "name": "activity",
         "dtype": "object",
         "stats": {
          "unique_count": 36,
          "nan_count": 0,
          "categories": [
           {
            "name": "Logged in",
            "count": 324
           },
           {
            "name": "Magic link sent",
            "count": 29
           },
           {
            "name": "34 others",
            "count": 128
           }
          ]
         }
        },
        {
         "name": "reference",
         "dtype": "object",
         "stats": {
          "unique_count": 481,
          "nan_count": 0,
          "categories": [
           {
            "name": "fb90e519c1d230f016d3a5d95f005f77",
            "count": 1
           },
           {
            "name": "6303bac7a4c38503cbbfab8aaaf12840",
            "count": 1
           },
           {
            "name": "479 others",
            "count": 479
           }
          ]
         }
        },
        {
         "name": "expiry",
         "dtype": "object",
         "stats": {
          "unique_count": 475,
          "nan_count": 0,
          "categories": [
           {
            "name": "2022-03-28 23:47:19",
            "count": 2
           },
           {
            "name": "2022-04-16 15:36:56",
            "count": 2
           },
           {
            "name": "473 others",
            "count": 477
           }
          ]
         }
        },
        {
         "name": "userId",
         "dtype": "int64",
         "stats": {
          "unique_count": 26,
          "nan_count": 0,
          "min": "1",
          "max": "131",
          "histogram": [
           {
            "bin_start": 1,
            "bin_end": 14,
            "count": 285
           },
           {
            "bin_start": 14,
            "bin_end": 27,
            "count": 0
           },
           {
            "bin_start": 27,
            "bin_end": 40,
            "count": 0
           },
           {
            "bin_start": 40,
            "bin_end": 53,
            "count": 0
           },
           {
            "bin_start": 53,
            "bin_end": 66,
            "count": 16
           },
           {
            "bin_start": 66,
            "bin_end": 79,
            "count": 44
           },
           {
            "bin_start": 79,
            "bin_end": 92,
            "count": 16
           },
           {
            "bin_start": 92,
            "bin_end": 105,
            "count": 0
           },
           {
            "bin_start": 105,
            "bin_end": 118,
            "count": 64
           },
           {
            "bin_start": 118,
            "bin_end": 131,
            "count": 56
           }
          ]
         }
        },
        {
         "name": "_deepnote_index_column",
         "dtype": "int64"
        }
       ],
       "rows": [
        {
         "id": 1038,
         "created_at": "2021-03-25 18:45:34.378924",
         "updated_at": "2021-03-25 18:45:34.378924",
         "activity": "Logged in",
         "reference": "2b81c86dc2ccfb89eb61e9df0f1a5eb9",
         "expiry": "2022-03-26 00:45:34",
         "userId": 2,
         "_deepnote_index_column": 10
        },
        {
         "id": 1039,
         "created_at": "2021-03-25 18:50:06.107282",
         "updated_at": "2021-03-25 18:50:06.107282",
         "activity": "Logged in",
         "reference": "4ee735eef085e511ec14e0d94087fb4c",
         "expiry": "2022-03-26 00:50:06",
         "userId": 2,
         "_deepnote_index_column": 11
        },
        {
         "id": 1040,
         "created_at": "2021-03-25 18:52:08.578560",
         "updated_at": "2021-03-25 18:52:08.578560",
         "activity": "Accessed Session 3 Recap from Intro to Game Dev with Unity repo",
         "reference": "031034aee4b05bddce88cf0469ffc804",
         "expiry": "2022-03-26 00:52:09",
         "userId": 2,
         "_deepnote_index_column": 12
        },
        {
         "id": 1041,
         "created_at": "2021-03-25 19:20:14.073949",
         "updated_at": "2021-03-25 19:20:14.073949",
         "activity": "Logged in",
         "reference": "68e0750080607fbf74d9a6f09a8a35e8",
         "expiry": "2022-03-26 01:20:14",
         "userId": 2,
         "_deepnote_index_column": 13
        },
        {
         "id": 1042,
         "created_at": "2021-03-25 19:44:09.943624",
         "updated_at": "2021-03-25 19:44:09.943624",
         "activity": "Accessed Session 3 Recap from Intro to Game Dev with Unity repo [access:5b3cf9ac46f::rrtGJAd2ae1e]",
         "reference": "d95bdd8e577686dad41fc7a681412d57",
         "expiry": "2022-03-26 01:44:10",
         "userId": 2,
         "_deepnote_index_column": 14
        },
        {
         "id": 1043,
         "created_at": "2021-03-25 19:50:22.793375",
         "updated_at": "2021-03-25 19:50:22.793375",
         "activity": "Logged in",
         "reference": "ffa6d061688521d000f2988a317cb3a8",
         "expiry": "2022-03-26 01:50:23",
         "userId": 2,
         "_deepnote_index_column": 15
        },
        {
         "id": 1044,
         "created_at": "2021-03-25 20:22:52.632461",
         "updated_at": "2021-03-25 20:22:52.632461",
         "activity": "Logged in",
         "reference": "633d9c426a9bef7d468e4d508973919e",
         "expiry": "2022-03-26 02:22:53",
         "userId": 2,
         "_deepnote_index_column": 16
        },
        {
         "id": 1045,
         "created_at": "2021-03-25 20:55:40.332731",
         "updated_at": "2021-03-25 20:55:40.332731",
         "activity": "Logged in",
         "reference": "67ae11d6668d272cd83347a9e33eca1c",
         "expiry": "2022-03-26 02:55:40",
         "userId": 2,
         "_deepnote_index_column": 17
        },
        {
         "id": 1046,
         "created_at": "2021-03-26 12:12:55.171977",
         "updated_at": "2021-03-26 12:12:55.171977",
         "activity": "Logged in",
         "reference": "5d40d7cee20c6efd8e9bfd313374a042",
         "expiry": "2022-03-26 18:12:55",
         "userId": 2,
         "_deepnote_index_column": 18
        },
        {
         "id": 1047,
         "created_at": "2021-03-28 16:01:51.515186",
         "updated_at": "2021-03-28 16:01:51.515186",
         "activity": "Logged in",
         "reference": "9bc4fe58e6da787b4d07ad3867ba0b84",
         "expiry": "2022-03-28 22:01:52",
         "userId": 3,
         "_deepnote_index_column": 19
        }
       ]
      },
      "text/plain": "       id                  created_at                  updated_at  \\\n0    1028  2021-03-25 11:25:05.219531  2021-03-25 11:25:05.219531   \n1    1029  2021-03-25 11:25:36.764022  2021-03-25 11:25:36.764022   \n2    1030  2021-03-25 11:28:19.047747  2021-03-25 11:28:19.047747   \n3    1031  2021-03-25 15:58:27.461204  2021-03-25 15:58:27.461204   \n4    1032  2021-03-25 16:00:34.020002  2021-03-25 16:00:34.020002   \n..    ...                         ...                         ...   \n476  1521  2022-02-24 14:45:47.726320  2022-02-24 14:45:47.726320   \n477  1522  2022-03-07 02:13:50.459150  2022-03-07 02:13:50.459150   \n478  1523  2022-03-09 20:13:29.515235  2022-03-09 20:13:29.515235   \n479  1524  2022-04-20 18:28:56.639697  2022-04-20 18:28:56.639697   \n480  1525  2022-04-21 10:17:50.727601  2022-04-21 10:17:50.727601   \n\n                                              activity  \\\n0                                            Logged in   \n1    Accessed Session 4 - Starter Files from Intro ...   \n2    Accessed Session 3 Recap from Intro to Game De...   \n3                                            Logged in   \n4        Accessed W3Schools from Intro to Web Dev repo   \n..                                                 ...   \n476                                          Logged in   \n477                                          Logged in   \n478                                          Logged in   \n479                                          Logged in   \n480                                          Logged in   \n\n                            reference               expiry  userId  \n0    fb90e519c1d230f016d3a5d95f005f77  2022-03-25 17:25:05     106  \n1    6303bac7a4c38503cbbfab8aaaf12840  2022-03-25 17:25:37     106  \n2    fc6ffe47d3cc201a1bd83b35ed8cb419  2022-03-25 17:28:19     106  \n3    ac290f99744baf85c1eb7d8432dfd354  2022-03-25 21:58:27       3  \n4    4dfb37feb52f7512e515e7845d087fe0  2022-03-25 22:00:34       3  \n..                                ...                  ...     ...  \n476  8cb66d3edf353482b40622db6e256d86  2023-02-24 20:45:48       2  \n477  372c4b7d59e0fda30674edb46358ed87  2023-03-07 08:13:50       2  \n478  a8103398465ef7394fc5bc9f0188de59  2023-03-10 02:13:30       2  \n479  0b62114655c53ffad97b616b13891658  2023-04-21 00:28:57       2  \n480  8e66a2358885fa4a4d11dec3ff4e8d06  2023-04-21 16:17:51       2  \n\n[481 rows x 7 columns]",
      "text/html": "<div>\n<style scoped>\n    .dataframe tbody tr th:only-of-type {\n        vertical-align: middle;\n    }\n\n    .dataframe tbody tr th {\n        vertical-align: top;\n    }\n\n    .dataframe thead th {\n        text-align: right;\n    }\n</style>\n<table border=\"1\" class=\"dataframe\">\n  <thead>\n    <tr style=\"text-align: right;\">\n      <th></th>\n      <th>id</th>\n      <th>created_at</th>\n      <th>updated_at</th>\n      <th>activity</th>\n      <th>reference</th>\n      <th>expiry</th>\n      <th>userId</th>\n    </tr>\n  </thead>\n  <tbody>\n    <tr>\n      <th>0</th>\n      <td>1028</td>\n      <td>2021-03-25 11:25:05.219531</td>\n      <td>2021-03-25 11:25:05.219531</td>\n      <td>Logged in</td>\n      <td>fb90e519c1d230f016d3a5d95f005f77</td>\n      <td>2022-03-25 17:25:05</td>\n      <td>106</td>\n    </tr>\n    <tr>\n      <th>1</th>\n      <td>1029</td>\n      <td>2021-03-25 11:25:36.764022</td>\n      <td>2021-03-25 11:25:36.764022</td>\n      <td>Accessed Session 4 - Starter Files from Intro ...</td>\n      <td>6303bac7a4c38503cbbfab8aaaf12840</td>\n      <td>2022-03-25 17:25:37</td>\n      <td>106</td>\n    </tr>\n    <tr>\n      <th>2</th>\n      <td>1030</td>\n      <td>2021-03-25 11:28:19.047747</td>\n      <td>2021-03-25 11:28:19.047747</td>\n      <td>Accessed Session 3 Recap from Intro to Game De...</td>\n      <td>fc6ffe47d3cc201a1bd83b35ed8cb419</td>\n      <td>2022-03-25 17:28:19</td>\n      <td>106</td>\n    </tr>\n    <tr>\n      <th>3</th>\n      <td>1031</td>\n      <td>2021-03-25 15:58:27.461204</td>\n      <td>2021-03-25 15:58:27.461204</td>\n      <td>Logged in</td>\n      <td>ac290f99744baf85c1eb7d8432dfd354</td>\n      <td>2022-03-25 21:58:27</td>\n      <td>3</td>\n    </tr>\n    <tr>\n      <th>4</th>\n      <td>1032</td>\n      <td>2021-03-25 16:00:34.020002</td>\n      <td>2021-03-25 16:00:34.020002</td>\n      <td>Accessed W3Schools from Intro to Web Dev repo</td>\n      <td>4dfb37feb52f7512e515e7845d087fe0</td>\n      <td>2022-03-25 22:00:34</td>\n      <td>3</td>\n    </tr>\n    <tr>\n      <th>...</th>\n      <td>...</td>\n      <td>...</td>\n      <td>...</td>\n      <td>...</td>\n      <td>...</td>\n      <td>...</td>\n      <td>...</td>\n    </tr>\n    <tr>\n      <th>476</th>\n      <td>1521</td>\n      <td>2022-02-24 14:45:47.726320</td>\n      <td>2022-02-24 14:45:47.726320</td>\n      <td>Logged in</td>\n      <td>8cb66d3edf353482b40622db6e256d86</td>\n      <td>2023-02-24 20:45:48</td>\n      <td>2</td>\n    </tr>\n    <tr>\n      <th>477</th>\n      <td>1522</td>\n      <td>2022-03-07 02:13:50.459150</td>\n      <td>2022-03-07 02:13:50.459150</td>\n      <td>Logged in</td>\n      <td>372c4b7d59e0fda30674edb46358ed87</td>\n      <td>2023-03-07 08:13:50</td>\n      <td>2</td>\n    </tr>\n    <tr>\n      <th>478</th>\n      <td>1523</td>\n      <td>2022-03-09 20:13:29.515235</td>\n      <td>2022-03-09 20:13:29.515235</td>\n      <td>Logged in</td>\n      <td>a8103398465ef7394fc5bc9f0188de59</td>\n      <td>2023-03-10 02:13:30</td>\n      <td>2</td>\n    </tr>\n    <tr>\n      <th>479</th>\n      <td>1524</td>\n      <td>2022-04-20 18:28:56.639697</td>\n      <td>2022-04-20 18:28:56.639697</td>\n      <td>Logged in</td>\n      <td>0b62114655c53ffad97b616b13891658</td>\n      <td>2023-04-21 00:28:57</td>\n      <td>2</td>\n    </tr>\n    <tr>\n      <th>480</th>\n      <td>1525</td>\n      <td>2022-04-21 10:17:50.727601</td>\n      <td>2022-04-21 10:17:50.727601</td>\n      <td>Logged in</td>\n      <td>8e66a2358885fa4a4d11dec3ff4e8d06</td>\n      <td>2023-04-21 16:17:51</td>\n      <td>2</td>\n    </tr>\n  </tbody>\n</table>\n<p>481 rows × 7 columns</p>\n</div>"
     },
     "metadata": {}
    }
   ]
  },
  {
   "cell_type": "code",
   "source": "activity.userId.unique()",
   "metadata": {
    "cell_id": "bc16807845d84cd5ba1b209468383e69",
    "tags": [],
    "deepnote_to_be_reexecuted": false,
    "source_hash": "d05864ab",
    "execution_start": 1652907669448,
    "execution_millis": 3,
    "deepnote_cell_type": "code",
    "deepnote_cell_height": 137.375,
    "deepnote_output_heights": [
     40.390625
    ]
   },
   "outputs": [
    {
     "output_type": "execute_result",
     "execution_count": 10,
     "data": {
      "text/plain": "array([106,   3,   2, 111,  67, 105,   1,  69,  91, 110,  85, 114,  66,\n        86, 120, 121, 122, 123, 124, 125, 127, 128, 129, 130,  54, 131])"
     },
     "metadata": {}
    }
   ],
   "execution_count": 10
  },
  {
   "cell_type": "code",
   "metadata": {
    "cell_id": "9add9f616e244b88a6886e337e404eeb",
    "tags": [],
    "deepnote_to_be_reexecuted": false,
    "source_hash": "4580686b",
    "execution_start": 1652907669493,
    "execution_millis": 3068509,
    "deepnote_cell_type": "code",
    "deepnote_cell_height": 81
   },
   "source": "activity = activity.drop(columns=['updated_at', 'reference', 'expiry'])",
   "execution_count": 11,
   "outputs": []
  },
  {
   "cell_type": "code",
   "metadata": {
    "cell_id": "71d46258e26b444a90063328419950a2",
    "tags": [],
    "deepnote_to_be_reexecuted": false,
    "source_hash": "98949ab1",
    "execution_start": 1652907669494,
    "execution_millis": 3068464,
    "deepnote_cell_type": "code",
    "deepnote_cell_height": 312
   },
   "source": "activity.info()",
   "execution_count": 12,
   "outputs": [
    {
     "name": "stdout",
     "text": "<class 'pandas.core.frame.DataFrame'>\nRangeIndex: 481 entries, 0 to 480\nData columns (total 4 columns):\n #   Column      Non-Null Count  Dtype \n---  ------      --------------  ----- \n 0   id          481 non-null    int64 \n 1   created_at  481 non-null    object\n 2   activity    481 non-null    object\n 3   userId      481 non-null    int64 \ndtypes: int64(2), object(2)\nmemory usage: 15.2+ KB\n",
     "output_type": "stream"
    }
   ]
  },
  {
   "cell_type": "code",
   "metadata": {
    "cell_id": "fcba6f9239a64d4b821879e85494e736",
    "tags": [],
    "deepnote_to_be_reexecuted": false,
    "source_hash": "1d5e538",
    "execution_start": 1652907669494,
    "execution_millis": 42,
    "deepnote_cell_type": "code",
    "deepnote_cell_height": 81
   },
   "source": "df3 = attendance.merge(activity.set_index('userId'), on='userId')",
   "execution_count": 13,
   "outputs": []
  },
  {
   "cell_type": "code",
   "metadata": {
    "cell_id": "a6ef435febe84dad9cfa7bba86438cde",
    "tags": [],
    "deepnote_to_be_reexecuted": false,
    "source_hash": "816a197e",
    "execution_start": 1652907669536,
    "execution_millis": 596,
    "deepnote_table_state": {
     "pageSize": 100,
     "pageIndex": 7,
     "filters": [],
     "sortBy": []
    },
    "deepnote_table_loading": false,
    "deepnote_table_invalid": false,
    "deepnote_cell_type": "code",
    "deepnote_cell_height": 449.59375
   },
   "source": "df3",
   "execution_count": 14,
   "outputs": [
    {
     "output_type": "execute_result",
     "execution_count": 14,
     "data": {
      "application/vnd.deepnote.dataframe.v3+json": {
       "column_count": 7,
       "row_count": 706,
       "columns": [
        {
         "name": "id_x",
         "dtype": "int64",
         "stats": {
          "unique_count": 72,
          "nan_count": 0,
          "min": "28",
          "max": "159",
          "histogram": [
           {
            "bin_start": 28,
            "bin_end": 41.1,
            "count": 79
           },
           {
            "bin_start": 41.1,
            "bin_end": 54.2,
            "count": 71
           },
           {
            "bin_start": 54.2,
            "bin_end": 67.3,
            "count": 73
           },
           {
            "bin_start": 67.3,
            "bin_end": 80.4,
            "count": 33
           },
           {
            "bin_start": 80.4,
            "bin_end": 93.5,
            "count": 111
           },
           {
            "bin_start": 93.5,
            "bin_end": 106.6,
            "count": 98
           },
           {
            "bin_start": 106.6,
            "bin_end": 119.7,
            "count": 104
           },
           {
            "bin_start": 119.7,
            "bin_end": 132.8,
            "count": 29
           },
           {
            "bin_start": 132.8,
            "bin_end": 145.89999999999998,
            "count": 33
           },
           {
            "bin_start": 145.89999999999998,
            "bin_end": 159,
            "count": 75
           }
          ]
         }
        },
        {
         "name": "status",
         "dtype": "object",
         "stats": {
          "unique_count": 3,
          "nan_count": 0,
          "categories": [
           {
            "name": "P",
            "count": 494
           },
           {
            "name": "A",
            "count": 153
           },
           {
            "name": "I",
            "count": 59
           }
          ]
         }
        },
        {
         "name": "attendanceSessionId",
         "dtype": "int64",
         "stats": {
          "unique_count": 10,
          "nan_count": 0,
          "min": "1",
          "max": "10",
          "histogram": [
           {
            "bin_start": 1,
            "bin_end": 1.9,
            "count": 75
           },
           {
            "bin_start": 1.9,
            "bin_end": 2.8,
            "count": 75
           },
           {
            "bin_start": 2.8,
            "bin_end": 3.7,
            "count": 75
           },
           {
            "bin_start": 3.7,
            "bin_end": 4.6,
            "count": 75
           },
           {
            "bin_start": 4.6,
            "bin_end": 5.5,
            "count": 75
           },
           {
            "bin_start": 5.5,
            "bin_end": 6.4,
            "count": 75
           },
           {
            "bin_start": 6.4,
            "bin_end": 7.3,
            "count": 75
           },
           {
            "bin_start": 7.3,
            "bin_end": 8.2,
            "count": 75
           },
           {
            "bin_start": 8.2,
            "bin_end": 9.1,
            "count": 75
           },
           {
            "bin_start": 9.1,
            "bin_end": 10,
            "count": 31
           }
          ]
         }
        },
        {
         "name": "userId",
         "dtype": "int64",
         "stats": {
          "unique_count": 14,
          "nan_count": 0,
          "min": "66",
          "max": "128",
          "histogram": [
           {
            "bin_start": 66,
            "bin_end": 72.2,
            "count": 177
           },
           {
            "bin_start": 72.2,
            "bin_end": 78.4,
            "count": 0
           },
           {
            "bin_start": 78.4,
            "bin_end": 84.6,
            "count": 0
           },
           {
            "bin_start": 84.6,
            "bin_end": 90.8,
            "count": 108
           },
           {
            "bin_start": 90.8,
            "bin_end": 97,
            "count": 36
           },
           {
            "bin_start": 97,
            "bin_end": 103.2,
            "count": 0
           },
           {
            "bin_start": 103.2,
            "bin_end": 109.4,
            "count": 377
           },
           {
            "bin_start": 109.4,
            "bin_end": 115.6,
            "count": 0
           },
           {
            "bin_start": 115.6,
            "bin_end": 121.80000000000001,
            "count": 2
           },
           {
            "bin_start": 121.80000000000001,
            "bin_end": 128,
            "count": 6
           }
          ]
         }
        },
        {
         "name": "id_y",
         "dtype": "int64",
         "stats": {
          "unique_count": 83,
          "nan_count": 0,
          "min": "1028",
          "max": "1418",
          "histogram": [
           {
            "bin_start": 1028,
            "bin_end": 1067,
            "count": 77
           },
           {
            "bin_start": 1067,
            "bin_end": 1106,
            "count": 176
           },
           {
            "bin_start": 1106,
            "bin_end": 1145,
            "count": 63
           },
           {
            "bin_start": 1145,
            "bin_end": 1184,
            "count": 18
           },
           {
            "bin_start": 1184,
            "bin_end": 1223,
            "count": 121
           },
           {
            "bin_start": 1223,
            "bin_end": 1262,
            "count": 101
           },
           {
            "bin_start": 1262,
            "bin_end": 1301,
            "count": 72
           },
           {
            "bin_start": 1301,
            "bin_end": 1340,
            "count": 45
           },
           {
            "bin_start": 1340,
            "bin_end": 1379,
            "count": 23
           },
           {
            "bin_start": 1379,
            "bin_end": 1418,
            "count": 10
           }
          ]
         }
        },
        {
         "name": "created_at",
         "dtype": "object",
         "stats": {
          "unique_count": 83,
          "nan_count": 0,
          "categories": [
           {
            "name": "2021-04-27 15:20:39.878510",
            "count": 10
           },
           {
            "name": "2021-04-27 15:21:18.837177",
            "count": 10
           },
           {
            "name": "81 others",
            "count": 686
           }
          ]
         }
        },
        {
         "name": "activity",
         "dtype": "object",
         "stats": {
          "unique_count": 23,
          "nan_count": 0,
          "categories": [
           {
            "name": "Logged in",
            "count": 290
           },
           {
            "name": "Accessed Session 7 Recap from Intro to Game Dev with Unity repo [access:f808a2f41b5::rrtGJAd2ae1e]",
            "count": 47
           },
           {
            "name": "21 others",
            "count": 369
           }
          ]
         }
        },
        {
         "name": "_deepnote_index_column",
         "dtype": "int64"
        }
       ],
       "rows": [
        {
         "id_x": 153,
         "status": "P",
         "attendanceSessionId": 10,
         "userId": 122,
         "id_y": 1327,
         "created_at": "2021-06-12 18:58:19.299118",
         "activity": "Enrolled onto Programming Fundamentals",
         "_deepnote_index_column": 700
        },
        {
         "id_x": 154,
         "status": "A",
         "attendanceSessionId": 10,
         "userId": 123,
         "id_y": 1330,
         "created_at": "2021-06-15 21:10:42.939927",
         "activity": "Enrolled onto Programming Fundamentals",
         "_deepnote_index_column": 701
        },
        {
         "id_x": 155,
         "status": "A",
         "attendanceSessionId": 10,
         "userId": 124,
         "id_y": 1333,
         "created_at": "2021-06-18 17:09:56.912754",
         "activity": "Enrolled onto Programming Fundamentals",
         "_deepnote_index_column": 702
        },
        {
         "id_x": 156,
         "status": "P",
         "attendanceSessionId": 10,
         "userId": 125,
         "id_y": 1340,
         "created_at": "2021-06-23 00:52:00.794961",
         "activity": "Enrolled onto Programming Fundamentals",
         "_deepnote_index_column": 703
        },
        {
         "id_x": 157,
         "status": "A",
         "attendanceSessionId": 10,
         "userId": 127,
         "id_y": 1344,
         "created_at": "2021-06-25 12:12:24.358882",
         "activity": "Enrolled onto Programming Fundamentals",
         "_deepnote_index_column": 704
        },
        {
         "id_x": 158,
         "status": "A",
         "attendanceSessionId": 10,
         "userId": 128,
         "id_y": 1345,
         "created_at": "2021-06-25 15:13:34.235389",
         "activity": "Enrolled onto Programming Fundamentals",
         "_deepnote_index_column": 705
        }
       ]
      },
      "text/plain": "     id_x status  attendanceSessionId  userId  id_y  \\\n0      28      P                    1      66  1218   \n1      28      P                    1      66  1219   \n2      28      P                    1      66  1221   \n3      28      P                    1      66  1222   \n4      28      P                    1      66  1225   \n..    ...    ...                  ...     ...   ...   \n701   154      A                   10     123  1330   \n702   155      A                   10     124  1333   \n703   156      P                   10     125  1340   \n704   157      A                   10     127  1344   \n705   158      A                   10     128  1345   \n\n                     created_at  \\\n0    2021-04-27 15:20:39.878510   \n1    2021-04-27 15:21:18.837177   \n2    2021-04-27 15:53:57.218451   \n3    2021-04-27 15:55:04.964625   \n4    2021-04-27 16:20:15.211738   \n..                          ...   \n701  2021-06-15 21:10:42.939927   \n702  2021-06-18 17:09:56.912754   \n703  2021-06-23 00:52:00.794961   \n704  2021-06-25 12:12:24.358882   \n705  2021-06-25 15:13:34.235389   \n\n                                              activity  \n0                                            Logged in  \n1    Accessed Session 8 - Starter Files from Intro ...  \n2                                            Logged in  \n3    Accessed Session 1 Recap from Intro to Game De...  \n4    Accessed Session 7 Recap from Intro to Game De...  \n..                                                 ...  \n701             Enrolled onto Programming Fundamentals  \n702             Enrolled onto Programming Fundamentals  \n703             Enrolled onto Programming Fundamentals  \n704             Enrolled onto Programming Fundamentals  \n705             Enrolled onto Programming Fundamentals  \n\n[706 rows x 7 columns]",
      "text/html": "<div>\n<style scoped>\n    .dataframe tbody tr th:only-of-type {\n        vertical-align: middle;\n    }\n\n    .dataframe tbody tr th {\n        vertical-align: top;\n    }\n\n    .dataframe thead th {\n        text-align: right;\n    }\n</style>\n<table border=\"1\" class=\"dataframe\">\n  <thead>\n    <tr style=\"text-align: right;\">\n      <th></th>\n      <th>id_x</th>\n      <th>status</th>\n      <th>attendanceSessionId</th>\n      <th>userId</th>\n      <th>id_y</th>\n      <th>created_at</th>\n      <th>activity</th>\n    </tr>\n  </thead>\n  <tbody>\n    <tr>\n      <th>0</th>\n      <td>28</td>\n      <td>P</td>\n      <td>1</td>\n      <td>66</td>\n      <td>1218</td>\n      <td>2021-04-27 15:20:39.878510</td>\n      <td>Logged in</td>\n    </tr>\n    <tr>\n      <th>1</th>\n      <td>28</td>\n      <td>P</td>\n      <td>1</td>\n      <td>66</td>\n      <td>1219</td>\n      <td>2021-04-27 15:21:18.837177</td>\n      <td>Accessed Session 8 - Starter Files from Intro ...</td>\n    </tr>\n    <tr>\n      <th>2</th>\n      <td>28</td>\n      <td>P</td>\n      <td>1</td>\n      <td>66</td>\n      <td>1221</td>\n      <td>2021-04-27 15:53:57.218451</td>\n      <td>Logged in</td>\n    </tr>\n    <tr>\n      <th>3</th>\n      <td>28</td>\n      <td>P</td>\n      <td>1</td>\n      <td>66</td>\n      <td>1222</td>\n      <td>2021-04-27 15:55:04.964625</td>\n      <td>Accessed Session 1 Recap from Intro to Game De...</td>\n    </tr>\n    <tr>\n      <th>4</th>\n      <td>28</td>\n      <td>P</td>\n      <td>1</td>\n      <td>66</td>\n      <td>1225</td>\n      <td>2021-04-27 16:20:15.211738</td>\n      <td>Accessed Session 7 Recap from Intro to Game De...</td>\n    </tr>\n    <tr>\n      <th>...</th>\n      <td>...</td>\n      <td>...</td>\n      <td>...</td>\n      <td>...</td>\n      <td>...</td>\n      <td>...</td>\n      <td>...</td>\n    </tr>\n    <tr>\n      <th>701</th>\n      <td>154</td>\n      <td>A</td>\n      <td>10</td>\n      <td>123</td>\n      <td>1330</td>\n      <td>2021-06-15 21:10:42.939927</td>\n      <td>Enrolled onto Programming Fundamentals</td>\n    </tr>\n    <tr>\n      <th>702</th>\n      <td>155</td>\n      <td>A</td>\n      <td>10</td>\n      <td>124</td>\n      <td>1333</td>\n      <td>2021-06-18 17:09:56.912754</td>\n      <td>Enrolled onto Programming Fundamentals</td>\n    </tr>\n    <tr>\n      <th>703</th>\n      <td>156</td>\n      <td>P</td>\n      <td>10</td>\n      <td>125</td>\n      <td>1340</td>\n      <td>2021-06-23 00:52:00.794961</td>\n      <td>Enrolled onto Programming Fundamentals</td>\n    </tr>\n    <tr>\n      <th>704</th>\n      <td>157</td>\n      <td>A</td>\n      <td>10</td>\n      <td>127</td>\n      <td>1344</td>\n      <td>2021-06-25 12:12:24.358882</td>\n      <td>Enrolled onto Programming Fundamentals</td>\n    </tr>\n    <tr>\n      <th>705</th>\n      <td>158</td>\n      <td>A</td>\n      <td>10</td>\n      <td>128</td>\n      <td>1345</td>\n      <td>2021-06-25 15:13:34.235389</td>\n      <td>Enrolled onto Programming Fundamentals</td>\n    </tr>\n  </tbody>\n</table>\n<p>706 rows × 7 columns</p>\n</div>"
     },
     "metadata": {}
    }
   ]
  },
  {
   "cell_type": "code",
   "source": "",
   "metadata": {
    "cell_id": "f55c7775edac465289fc80214b62c2f8",
    "tags": [],
    "deepnote_to_be_reexecuted": false,
    "source_hash": "b623e53d",
    "execution_start": 1652907669624,
    "execution_millis": 3068283,
    "deepnote_cell_type": "code",
    "deepnote_cell_height": 81
   },
   "outputs": [],
   "execution_count": 14
  },
  {
   "cell_type": "code",
   "source": "_deepnote_run_altair(df3, \"\"\"{\"$schema\":\"https://vega.github.io/schema/vega-lite/v4.json\",\"mark\":{\"type\":\"point\",\"tooltip\":{\"content\":\"data\"}},\"height\":220,\"autosize\":{\"type\":\"fit\"},\"data\":{\"name\":\"placeholder\"},\"encoding\":{\"x\":{\"field\":\"userId\",\"type\":\"quantitative\",\"sort\":null,\"scale\":{\"type\":\"linear\",\"zero\":false}},\"y\":{\"field\":\"activity\",\"type\":\"nominal\",\"sort\":null,\"scale\":{\"type\":\"linear\",\"zero\":false}},\"color\":{\"field\":\"\",\"type\":\"nominal\",\"sort\":null,\"scale\":{\"type\":\"linear\",\"zero\":false}}}}\"\"\")",
   "metadata": {
    "cell_id": "3c65625b4bfd4b46808c714565b7f19c",
    "deepnote_variable_name": "df3",
    "deepnote_visualization_spec": {
     "$schema": "https://vega.github.io/schema/vega-lite/v4.json",
     "mark": {
      "type": "point",
      "tooltip": {
       "content": "data"
      }
     },
     "height": 220,
     "autosize": {
      "type": "fit"
     },
     "data": {
      "name": "placeholder"
     },
     "encoding": {
      "x": {
       "field": "userId",
       "type": "quantitative",
       "sort": null,
       "scale": {
        "type": "linear",
        "zero": false
       }
      },
      "y": {
       "field": "activity",
       "type": "nominal",
       "sort": null,
       "scale": {
        "type": "linear",
        "zero": false
       }
      },
      "color": {
       "field": "",
       "type": "nominal",
       "sort": null,
       "scale": {
        "type": "linear",
        "zero": false
       }
      }
     }
    },
    "deepnote_to_be_reexecuted": false,
    "source_hash": "192f6636",
    "execution_start": 1652907669678,
    "execution_millis": 640,
    "deepnote_cell_type": "visualization"
   },
   "execution_count": 15,
   "outputs": [
    {
     "output_type": "execute_result",
     "execution_count": 15,
     "data": {
      "text/html": "\n<div id=\"altair-viz-4f71918cae2940749bc8db2b1ac3cf32\"></div>\n<script type=\"text/javascript\">\n  (function(spec, embedOpt){\n    let outputDiv = document.currentScript.previousElementSibling;\n    if (outputDiv.id !== \"altair-viz-4f71918cae2940749bc8db2b1ac3cf32\") {\n      outputDiv = document.getElementById(\"altair-viz-4f71918cae2940749bc8db2b1ac3cf32\");\n    }\n    const paths = {\n      \"vega\": \"https://cdn.jsdelivr.net/npm//vega@5?noext\",\n      \"vega-lib\": \"https://cdn.jsdelivr.net/npm//vega-lib?noext\",\n      \"vega-lite\": \"https://cdn.jsdelivr.net/npm//vega-lite@4.8.1?noext\",\n      \"vega-embed\": \"https://cdn.jsdelivr.net/npm//vega-embed@6?noext\",\n    };\n\n    function loadScript(lib) {\n      return new Promise(function(resolve, reject) {\n        var s = document.createElement('script');\n        s.src = paths[lib];\n        s.async = true;\n        s.onload = () => resolve(paths[lib]);\n        s.onerror = () => reject(`Error loading script: ${paths[lib]}`);\n        document.getElementsByTagName(\"head\")[0].appendChild(s);\n      });\n    }\n\n    function showError(err) {\n      outputDiv.innerHTML = `<div class=\"error\" style=\"color:red;\">${err}</div>`;\n      throw err;\n    }\n\n    function displayChart(vegaEmbed) {\n      vegaEmbed(outputDiv, spec, embedOpt)\n        .catch(err => showError(`Javascript Error: ${err.message}<br>This usually means there's a typo in your chart specification. See the javascript console for the full traceback.`));\n    }\n\n    if(typeof define === \"function\" && define.amd) {\n      requirejs.config({paths});\n      require([\"vega-embed\"], displayChart, err => showError(`Error loading script: ${err.message}`));\n    } else if (typeof vegaEmbed === \"function\") {\n      displayChart(vegaEmbed);\n    } else {\n      loadScript(\"vega\")\n        .then(() => loadScript(\"vega-lite\"))\n        .then(() => loadScript(\"vega-embed\"))\n        .catch(showError)\n        .then(() => displayChart(vegaEmbed));\n    }\n  })({\"config\": {\"view\": {\"continuousWidth\": 400, \"continuousHeight\": 300}, \"area\": {\"fill\": \"#51C0E9\"}, \"axis\": {\"labelFont\": \"Inter, sans-serif\", \"labelFontSize\": 12, \"labelFontWeight\": \"normal\", \"labelLimit\": 60, \"labelOverlap\": \"greedy\", \"titleFont\": \"Inter, sans-serif\", \"titleFontSize\": 12, \"titleFontWeight\": \"bold\"}, \"background\": \"#ffffff\", \"legend\": {\"labelFont\": \"Inter, sans-serif\", \"labelFontSize\": 12, \"titleFont\": \"Inter, sans-serif\", \"titleFontSize\": 12, \"titleFontWeight\": \"bold\"}, \"line\": {\"stroke\": \"#51C0E9\", \"strokeWidth\": 2}, \"rect\": {\"fill\": \"#51C0E9\"}, \"title\": {\"anchor\": \"start\", \"color\": \"#000000\", \"font\": \"Inter, sans-serif\", \"fontSize\": 22, \"fontWeight\": \"normal\"}}, \"data\": {\"name\": \"data-f296a8b1e314a39db5573f43ed0dd57a\"}, \"mark\": {\"type\": \"point\", \"tooltip\": {\"content\": \"data\"}}, \"autosize\": {\"type\": \"fit\"}, \"encoding\": {\"color\": {\"type\": \"nominal\", \"field\": \"\", \"scale\": {\"type\": \"linear\", \"zero\": false}, \"sort\": null}, \"x\": {\"type\": \"quantitative\", \"field\": \"userId\", \"scale\": {\"type\": \"linear\", \"zero\": false}, \"sort\": null}, \"y\": {\"type\": \"nominal\", \"field\": \"activity\", \"scale\": {\"type\": \"linear\", \"zero\": false}, \"sort\": null}}, \"height\": 300, \"width\": \"container\", \"$schema\": \"https://vega.github.io/schema/vega-lite/v4.json\", \"datasets\": {\"data-f296a8b1e314a39db5573f43ed0dd57a\": [{\"id_x\": 28, \"status\": \"P\", \"attendanceSessionId\": 1, \"userId\": 66, \"id_y\": 1218, \"created_at\": \"2021-04-27T15:20:39.878510\", \"activity\": \"Logged in\"}, {\"id_x\": 28, \"status\": \"P\", \"attendanceSessionId\": 1, \"userId\": 66, \"id_y\": 1219, \"created_at\": \"2021-04-27T15:21:18.837177\", \"activity\": \"Accessed Session 8 - Starter Files from Intro to Game Dev with Unity repo [access:1d14e303b59::rrtGJAd2ae1e]\"}, {\"id_x\": 28, \"status\": \"P\", \"attendanceSessionId\": 1, \"userId\": 66, \"id_y\": 1221, \"created_at\": \"2021-04-27T15:53:57.218451\", \"activity\": \"Logged in\"}, {\"id_x\": 28, \"status\": \"P\", \"attendanceSessionId\": 1, \"userId\": 66, \"id_y\": 1222, \"created_at\": \"2021-04-27T15:55:04.964625\", \"activity\": \"Accessed Session 1 Recap from Intro to Game Dev with Unity repo [access:286e1a92d35::rrtGJAd2ae1e]\"}, {\"id_x\": 28, \"status\": \"P\", \"attendanceSessionId\": 1, \"userId\": 66, \"id_y\": 1225, \"created_at\": \"2021-04-27T16:20:15.211738\", \"activity\": \"Accessed Session 7 Recap from Intro to Game Dev with Unity repo [access:f808a2f41b5::rrtGJAd2ae1e]\"}, {\"id_x\": 28, \"status\": \"P\", \"attendanceSessionId\": 1, \"userId\": 66, \"id_y\": 1226, \"created_at\": \"2021-04-27T16:22:32.885180\", \"activity\": \"Accessed Session 7 Recap from Intro to Game Dev with Unity repo [access:f808a2f41b5::rrtGJAd2ae1e]\"}, {\"id_x\": 46, \"status\": \"P\", \"attendanceSessionId\": 2, \"userId\": 66, \"id_y\": 1218, \"created_at\": \"2021-04-27T15:20:39.878510\", \"activity\": \"Logged in\"}, {\"id_x\": 46, \"status\": \"P\", \"attendanceSessionId\": 2, \"userId\": 66, \"id_y\": 1219, \"created_at\": \"2021-04-27T15:21:18.837177\", \"activity\": \"Accessed Session 8 - Starter Files from Intro to Game Dev with Unity repo [access:1d14e303b59::rrtGJAd2ae1e]\"}, {\"id_x\": 46, \"status\": \"P\", \"attendanceSessionId\": 2, \"userId\": 66, \"id_y\": 1221, \"created_at\": \"2021-04-27T15:53:57.218451\", \"activity\": \"Logged in\"}, {\"id_x\": 46, \"status\": \"P\", \"attendanceSessionId\": 2, \"userId\": 66, \"id_y\": 1222, \"created_at\": \"2021-04-27T15:55:04.964625\", \"activity\": \"Accessed Session 1 Recap from Intro to Game Dev with Unity repo [access:286e1a92d35::rrtGJAd2ae1e]\"}, {\"id_x\": 46, \"status\": \"P\", \"attendanceSessionId\": 2, \"userId\": 66, \"id_y\": 1225, \"created_at\": \"2021-04-27T16:20:15.211738\", \"activity\": \"Accessed Session 7 Recap from Intro to Game Dev with Unity repo [access:f808a2f41b5::rrtGJAd2ae1e]\"}, {\"id_x\": 46, \"status\": \"P\", \"attendanceSessionId\": 2, \"userId\": 66, \"id_y\": 1226, \"created_at\": \"2021-04-27T16:22:32.885180\", \"activity\": \"Accessed Session 7 Recap from Intro to Game Dev with Unity repo [access:f808a2f41b5::rrtGJAd2ae1e]\"}, {\"id_x\": 60, \"status\": \"P\", \"attendanceSessionId\": 3, \"userId\": 66, \"id_y\": 1218, \"created_at\": \"2021-04-27T15:20:39.878510\", \"activity\": \"Logged in\"}, {\"id_x\": 60, \"status\": \"P\", \"attendanceSessionId\": 3, \"userId\": 66, \"id_y\": 1219, \"created_at\": \"2021-04-27T15:21:18.837177\", \"activity\": \"Accessed Session 8 - Starter Files from Intro to Game Dev with Unity repo [access:1d14e303b59::rrtGJAd2ae1e]\"}, {\"id_x\": 60, \"status\": \"P\", \"attendanceSessionId\": 3, \"userId\": 66, \"id_y\": 1221, \"created_at\": \"2021-04-27T15:53:57.218451\", \"activity\": \"Logged in\"}, {\"id_x\": 60, \"status\": \"P\", \"attendanceSessionId\": 3, \"userId\": 66, \"id_y\": 1222, \"created_at\": \"2021-04-27T15:55:04.964625\", \"activity\": \"Accessed Session 1 Recap from Intro to Game Dev with Unity repo [access:286e1a92d35::rrtGJAd2ae1e]\"}, {\"id_x\": 60, \"status\": \"P\", \"attendanceSessionId\": 3, \"userId\": 66, \"id_y\": 1225, \"created_at\": \"2021-04-27T16:20:15.211738\", \"activity\": \"Accessed Session 7 Recap from Intro to Game Dev with Unity repo [access:f808a2f41b5::rrtGJAd2ae1e]\"}, {\"id_x\": 60, \"status\": \"P\", \"attendanceSessionId\": 3, \"userId\": 66, \"id_y\": 1226, \"created_at\": \"2021-04-27T16:22:32.885180\", \"activity\": \"Accessed Session 7 Recap from Intro to Game Dev with Unity repo [access:f808a2f41b5::rrtGJAd2ae1e]\"}, {\"id_x\": 73, \"status\": \"P\", \"attendanceSessionId\": 4, \"userId\": 66, \"id_y\": 1218, \"created_at\": \"2021-04-27T15:20:39.878510\", \"activity\": \"Logged in\"}, {\"id_x\": 73, \"status\": \"P\", \"attendanceSessionId\": 4, \"userId\": 66, \"id_y\": 1219, \"created_at\": \"2021-04-27T15:21:18.837177\", \"activity\": \"Accessed Session 8 - Starter Files from Intro to Game Dev with Unity repo [access:1d14e303b59::rrtGJAd2ae1e]\"}, {\"id_x\": 73, \"status\": \"P\", \"attendanceSessionId\": 4, \"userId\": 66, \"id_y\": 1221, \"created_at\": \"2021-04-27T15:53:57.218451\", \"activity\": \"Logged in\"}, {\"id_x\": 73, \"status\": \"P\", \"attendanceSessionId\": 4, \"userId\": 66, \"id_y\": 1222, \"created_at\": \"2021-04-27T15:55:04.964625\", \"activity\": \"Accessed Session 1 Recap from Intro to Game Dev with Unity repo [access:286e1a92d35::rrtGJAd2ae1e]\"}, {\"id_x\": 73, \"status\": \"P\", \"attendanceSessionId\": 4, \"userId\": 66, \"id_y\": 1225, \"created_at\": \"2021-04-27T16:20:15.211738\", \"activity\": \"Accessed Session 7 Recap from Intro to Game Dev with Unity repo [access:f808a2f41b5::rrtGJAd2ae1e]\"}, {\"id_x\": 73, \"status\": \"P\", \"attendanceSessionId\": 4, \"userId\": 66, \"id_y\": 1226, \"created_at\": \"2021-04-27T16:22:32.885180\", \"activity\": \"Accessed Session 7 Recap from Intro to Game Dev with Unity repo [access:f808a2f41b5::rrtGJAd2ae1e]\"}, {\"id_x\": 94, \"status\": \"P\", \"attendanceSessionId\": 5, \"userId\": 66, \"id_y\": 1218, \"created_at\": \"2021-04-27T15:20:39.878510\", \"activity\": \"Logged in\"}, {\"id_x\": 94, \"status\": \"P\", \"attendanceSessionId\": 5, \"userId\": 66, \"id_y\": 1219, \"created_at\": \"2021-04-27T15:21:18.837177\", \"activity\": \"Accessed Session 8 - Starter Files from Intro to Game Dev with Unity repo [access:1d14e303b59::rrtGJAd2ae1e]\"}, {\"id_x\": 94, \"status\": \"P\", \"attendanceSessionId\": 5, \"userId\": 66, \"id_y\": 1221, \"created_at\": \"2021-04-27T15:53:57.218451\", \"activity\": \"Logged in\"}, {\"id_x\": 94, \"status\": \"P\", \"attendanceSessionId\": 5, \"userId\": 66, \"id_y\": 1222, \"created_at\": \"2021-04-27T15:55:04.964625\", \"activity\": \"Accessed Session 1 Recap from Intro to Game Dev with Unity repo [access:286e1a92d35::rrtGJAd2ae1e]\"}, {\"id_x\": 94, \"status\": \"P\", \"attendanceSessionId\": 5, \"userId\": 66, \"id_y\": 1225, \"created_at\": \"2021-04-27T16:20:15.211738\", \"activity\": \"Accessed Session 7 Recap from Intro to Game Dev with Unity repo [access:f808a2f41b5::rrtGJAd2ae1e]\"}, {\"id_x\": 94, \"status\": \"P\", \"attendanceSessionId\": 5, \"userId\": 66, \"id_y\": 1226, \"created_at\": \"2021-04-27T16:22:32.885180\", \"activity\": \"Accessed Session 7 Recap from Intro to Game Dev with Unity repo [access:f808a2f41b5::rrtGJAd2ae1e]\"}, {\"id_x\": 97, \"status\": \"P\", \"attendanceSessionId\": 6, \"userId\": 66, \"id_y\": 1218, \"created_at\": \"2021-04-27T15:20:39.878510\", \"activity\": \"Logged in\"}, {\"id_x\": 97, \"status\": \"P\", \"attendanceSessionId\": 6, \"userId\": 66, \"id_y\": 1219, \"created_at\": \"2021-04-27T15:21:18.837177\", \"activity\": \"Accessed Session 8 - Starter Files from Intro to Game Dev with Unity repo [access:1d14e303b59::rrtGJAd2ae1e]\"}, {\"id_x\": 97, \"status\": \"P\", \"attendanceSessionId\": 6, \"userId\": 66, \"id_y\": 1221, \"created_at\": \"2021-04-27T15:53:57.218451\", \"activity\": \"Logged in\"}, {\"id_x\": 97, \"status\": \"P\", \"attendanceSessionId\": 6, \"userId\": 66, \"id_y\": 1222, \"created_at\": \"2021-04-27T15:55:04.964625\", \"activity\": \"Accessed Session 1 Recap from Intro to Game Dev with Unity repo [access:286e1a92d35::rrtGJAd2ae1e]\"}, {\"id_x\": 97, \"status\": \"P\", \"attendanceSessionId\": 6, \"userId\": 66, \"id_y\": 1225, \"created_at\": \"2021-04-27T16:20:15.211738\", \"activity\": \"Accessed Session 7 Recap from Intro to Game Dev with Unity repo [access:f808a2f41b5::rrtGJAd2ae1e]\"}, {\"id_x\": 97, \"status\": \"P\", \"attendanceSessionId\": 6, \"userId\": 66, \"id_y\": 1226, \"created_at\": \"2021-04-27T16:22:32.885180\", \"activity\": \"Accessed Session 7 Recap from Intro to Game Dev with Unity repo [access:f808a2f41b5::rrtGJAd2ae1e]\"}, {\"id_x\": 104, \"status\": \"P\", \"attendanceSessionId\": 7, \"userId\": 66, \"id_y\": 1218, \"created_at\": \"2021-04-27T15:20:39.878510\", \"activity\": \"Logged in\"}, {\"id_x\": 104, \"status\": \"P\", \"attendanceSessionId\": 7, \"userId\": 66, \"id_y\": 1219, \"created_at\": \"2021-04-27T15:21:18.837177\", \"activity\": \"Accessed Session 8 - Starter Files from Intro to Game Dev with Unity repo [access:1d14e303b59::rrtGJAd2ae1e]\"}, {\"id_x\": 104, \"status\": \"P\", \"attendanceSessionId\": 7, \"userId\": 66, \"id_y\": 1221, \"created_at\": \"2021-04-27T15:53:57.218451\", \"activity\": \"Logged in\"}, {\"id_x\": 104, \"status\": \"P\", \"attendanceSessionId\": 7, \"userId\": 66, \"id_y\": 1222, \"created_at\": \"2021-04-27T15:55:04.964625\", \"activity\": \"Accessed Session 1 Recap from Intro to Game Dev with Unity repo [access:286e1a92d35::rrtGJAd2ae1e]\"}, {\"id_x\": 104, \"status\": \"P\", \"attendanceSessionId\": 7, \"userId\": 66, \"id_y\": 1225, \"created_at\": \"2021-04-27T16:20:15.211738\", \"activity\": \"Accessed Session 7 Recap from Intro to Game Dev with Unity repo [access:f808a2f41b5::rrtGJAd2ae1e]\"}, {\"id_x\": 104, \"status\": \"P\", \"attendanceSessionId\": 7, \"userId\": 66, \"id_y\": 1226, \"created_at\": \"2021-04-27T16:22:32.885180\", \"activity\": \"Accessed Session 7 Recap from Intro to Game Dev with Unity repo [access:f808a2f41b5::rrtGJAd2ae1e]\"}, {\"id_x\": 113, \"status\": \"P\", \"attendanceSessionId\": 8, \"userId\": 66, \"id_y\": 1218, \"created_at\": \"2021-04-27T15:20:39.878510\", \"activity\": \"Logged in\"}, {\"id_x\": 113, \"status\": \"P\", \"attendanceSessionId\": 8, \"userId\": 66, \"id_y\": 1219, \"created_at\": \"2021-04-27T15:21:18.837177\", \"activity\": \"Accessed Session 8 - Starter Files from Intro to Game Dev with Unity repo [access:1d14e303b59::rrtGJAd2ae1e]\"}, {\"id_x\": 113, \"status\": \"P\", \"attendanceSessionId\": 8, \"userId\": 66, \"id_y\": 1221, \"created_at\": \"2021-04-27T15:53:57.218451\", \"activity\": \"Logged in\"}, {\"id_x\": 113, \"status\": \"P\", \"attendanceSessionId\": 8, \"userId\": 66, \"id_y\": 1222, \"created_at\": \"2021-04-27T15:55:04.964625\", \"activity\": \"Accessed Session 1 Recap from Intro to Game Dev with Unity repo [access:286e1a92d35::rrtGJAd2ae1e]\"}, {\"id_x\": 113, \"status\": \"P\", \"attendanceSessionId\": 8, \"userId\": 66, \"id_y\": 1225, \"created_at\": \"2021-04-27T16:20:15.211738\", \"activity\": \"Accessed Session 7 Recap from Intro to Game Dev with Unity repo [access:f808a2f41b5::rrtGJAd2ae1e]\"}, {\"id_x\": 113, \"status\": \"P\", \"attendanceSessionId\": 8, \"userId\": 66, \"id_y\": 1226, \"created_at\": \"2021-04-27T16:22:32.885180\", \"activity\": \"Accessed Session 7 Recap from Intro to Game Dev with Unity repo [access:f808a2f41b5::rrtGJAd2ae1e]\"}, {\"id_x\": 138, \"status\": \"P\", \"attendanceSessionId\": 9, \"userId\": 66, \"id_y\": 1218, \"created_at\": \"2021-04-27T15:20:39.878510\", \"activity\": \"Logged in\"}, {\"id_x\": 138, \"status\": \"P\", \"attendanceSessionId\": 9, \"userId\": 66, \"id_y\": 1219, \"created_at\": \"2021-04-27T15:21:18.837177\", \"activity\": \"Accessed Session 8 - Starter Files from Intro to Game Dev with Unity repo [access:1d14e303b59::rrtGJAd2ae1e]\"}, {\"id_x\": 138, \"status\": \"P\", \"attendanceSessionId\": 9, \"userId\": 66, \"id_y\": 1221, \"created_at\": \"2021-04-27T15:53:57.218451\", \"activity\": \"Logged in\"}, {\"id_x\": 138, \"status\": \"P\", \"attendanceSessionId\": 9, \"userId\": 66, \"id_y\": 1222, \"created_at\": \"2021-04-27T15:55:04.964625\", \"activity\": \"Accessed Session 1 Recap from Intro to Game Dev with Unity repo [access:286e1a92d35::rrtGJAd2ae1e]\"}, {\"id_x\": 138, \"status\": \"P\", \"attendanceSessionId\": 9, \"userId\": 66, \"id_y\": 1225, \"created_at\": \"2021-04-27T16:20:15.211738\", \"activity\": \"Accessed Session 7 Recap from Intro to Game Dev with Unity repo [access:f808a2f41b5::rrtGJAd2ae1e]\"}, {\"id_x\": 138, \"status\": \"P\", \"attendanceSessionId\": 9, \"userId\": 66, \"id_y\": 1226, \"created_at\": \"2021-04-27T16:22:32.885180\", \"activity\": \"Accessed Session 7 Recap from Intro to Game Dev with Unity repo [access:f808a2f41b5::rrtGJAd2ae1e]\"}, {\"id_x\": 159, \"status\": \"P\", \"attendanceSessionId\": 10, \"userId\": 66, \"id_y\": 1218, \"created_at\": \"2021-04-27T15:20:39.878510\", \"activity\": \"Logged in\"}, {\"id_x\": 159, \"status\": \"P\", \"attendanceSessionId\": 10, \"userId\": 66, \"id_y\": 1219, \"created_at\": \"2021-04-27T15:21:18.837177\", \"activity\": \"Accessed Session 8 - Starter Files from Intro to Game Dev with Unity repo [access:1d14e303b59::rrtGJAd2ae1e]\"}, {\"id_x\": 159, \"status\": \"P\", \"attendanceSessionId\": 10, \"userId\": 66, \"id_y\": 1221, \"created_at\": \"2021-04-27T15:53:57.218451\", \"activity\": \"Logged in\"}, {\"id_x\": 159, \"status\": \"P\", \"attendanceSessionId\": 10, \"userId\": 66, \"id_y\": 1222, \"created_at\": \"2021-04-27T15:55:04.964625\", \"activity\": \"Accessed Session 1 Recap from Intro to Game Dev with Unity repo [access:286e1a92d35::rrtGJAd2ae1e]\"}, {\"id_x\": 159, \"status\": \"P\", \"attendanceSessionId\": 10, \"userId\": 66, \"id_y\": 1225, \"created_at\": \"2021-04-27T16:20:15.211738\", \"activity\": \"Accessed Session 7 Recap from Intro to Game Dev with Unity repo [access:f808a2f41b5::rrtGJAd2ae1e]\"}, {\"id_x\": 159, \"status\": \"P\", \"attendanceSessionId\": 10, \"userId\": 66, \"id_y\": 1226, \"created_at\": \"2021-04-27T16:22:32.885180\", \"activity\": \"Accessed Session 7 Recap from Intro to Game Dev with Unity repo [access:f808a2f41b5::rrtGJAd2ae1e]\"}, {\"id_x\": 29, \"status\": \"P\", \"attendanceSessionId\": 1, \"userId\": 69, \"id_y\": 1070, \"created_at\": \"2021-03-30T18:01:20.994309\", \"activity\": \"Logged in\"}, {\"id_x\": 29, \"status\": \"P\", \"attendanceSessionId\": 1, \"userId\": 69, \"id_y\": 1071, \"created_at\": \"2021-03-30T18:02:00.265181\", \"activity\": \"Accessed Session 5 - Starter Files from Intro to Game Dev with Unity repo [access:3aadbfd9eca::rrtGJAd2ae1e]\"}, {\"id_x\": 29, \"status\": \"P\", \"attendanceSessionId\": 1, \"userId\": 69, \"id_y\": 1072, \"created_at\": \"2021-03-30T18:02:28.412786\", \"activity\": \"Accessed Session 5 - Assets from Intro to Game Dev with Unity repo [access:141012aa424::rrtGJAd2ae1e]\"}, {\"id_x\": 29, \"status\": \"P\", \"attendanceSessionId\": 1, \"userId\": 69, \"id_y\": 1082, \"created_at\": \"2021-03-30T18:11:42.143795\", \"activity\": \"Accessed Session 5 - Assets from Intro to Game Dev with Unity repo [access:141012aa424::rrtGJAd2ae1e]\"}, {\"id_x\": 29, \"status\": \"P\", \"attendanceSessionId\": 1, \"userId\": 69, \"id_y\": 1107, \"created_at\": \"2021-04-06T18:23:25.476026\", \"activity\": \"Logged in\"}, {\"id_x\": 29, \"status\": \"P\", \"attendanceSessionId\": 1, \"userId\": 69, \"id_y\": 1108, \"created_at\": \"2021-04-06T18:23:41.523282\", \"activity\": \"Accessed Session 6 - Starter Files from Intro to Game Dev with Unity repo [access:4ff849da461::rrtGJAd2ae1e]\"}, {\"id_x\": 29, \"status\": \"P\", \"attendanceSessionId\": 1, \"userId\": 69, \"id_y\": 1164, \"created_at\": \"2021-04-13T17:56:29.073453\", \"activity\": \"Logged in\"}, {\"id_x\": 29, \"status\": \"P\", \"attendanceSessionId\": 1, \"userId\": 69, \"id_y\": 1165, \"created_at\": \"2021-04-13T17:57:03.090821\", \"activity\": \"Accessed Session 7 - Starter Files from Intro to Game Dev with Unity repo [access:0274231c583::rrtGJAd2ae1e]\"}, {\"id_x\": 29, \"status\": \"P\", \"attendanceSessionId\": 1, \"userId\": 69, \"id_y\": 1208, \"created_at\": \"2021-04-20T17:55:24.942952\", \"activity\": \"Logged in\"}, {\"id_x\": 29, \"status\": \"P\", \"attendanceSessionId\": 1, \"userId\": 69, \"id_y\": 1209, \"created_at\": \"2021-04-20T17:58:45.915980\", \"activity\": \"Accessed Session 8 - Starter Files from Intro to Game Dev with Unity repo [access:1d14e303b59::rrtGJAd2ae1e]\"}, {\"id_x\": 29, \"status\": \"P\", \"attendanceSessionId\": 1, \"userId\": 69, \"id_y\": 1230, \"created_at\": \"2021-04-27T18:05:52.592625\", \"activity\": \"Logged in\"}, {\"id_x\": 29, \"status\": \"P\", \"attendanceSessionId\": 1, \"userId\": 69, \"id_y\": 1231, \"created_at\": \"2021-04-27T18:07:00.748125\", \"activity\": \"Accessed Session 8 - Starter Files from Intro to Game Dev with Unity repo [access:1d14e303b59::rrtGJAd2ae1e]\"}, {\"id_x\": 29, \"status\": \"P\", \"attendanceSessionId\": 1, \"userId\": 69, \"id_y\": 1278, \"created_at\": \"2021-05-12T17:01:54.258060\", \"activity\": \"Logged in\"}, {\"id_x\": 47, \"status\": \"P\", \"attendanceSessionId\": 2, \"userId\": 69, \"id_y\": 1070, \"created_at\": \"2021-03-30T18:01:20.994309\", \"activity\": \"Logged in\"}, {\"id_x\": 47, \"status\": \"P\", \"attendanceSessionId\": 2, \"userId\": 69, \"id_y\": 1071, \"created_at\": \"2021-03-30T18:02:00.265181\", \"activity\": \"Accessed Session 5 - Starter Files from Intro to Game Dev with Unity repo [access:3aadbfd9eca::rrtGJAd2ae1e]\"}, {\"id_x\": 47, \"status\": \"P\", \"attendanceSessionId\": 2, \"userId\": 69, \"id_y\": 1072, \"created_at\": \"2021-03-30T18:02:28.412786\", \"activity\": \"Accessed Session 5 - Assets from Intro to Game Dev with Unity repo [access:141012aa424::rrtGJAd2ae1e]\"}, {\"id_x\": 47, \"status\": \"P\", \"attendanceSessionId\": 2, \"userId\": 69, \"id_y\": 1082, \"created_at\": \"2021-03-30T18:11:42.143795\", \"activity\": \"Accessed Session 5 - Assets from Intro to Game Dev with Unity repo [access:141012aa424::rrtGJAd2ae1e]\"}, {\"id_x\": 47, \"status\": \"P\", \"attendanceSessionId\": 2, \"userId\": 69, \"id_y\": 1107, \"created_at\": \"2021-04-06T18:23:25.476026\", \"activity\": \"Logged in\"}, {\"id_x\": 47, \"status\": \"P\", \"attendanceSessionId\": 2, \"userId\": 69, \"id_y\": 1108, \"created_at\": \"2021-04-06T18:23:41.523282\", \"activity\": \"Accessed Session 6 - Starter Files from Intro to Game Dev with Unity repo [access:4ff849da461::rrtGJAd2ae1e]\"}, {\"id_x\": 47, \"status\": \"P\", \"attendanceSessionId\": 2, \"userId\": 69, \"id_y\": 1164, \"created_at\": \"2021-04-13T17:56:29.073453\", \"activity\": \"Logged in\"}, {\"id_x\": 47, \"status\": \"P\", \"attendanceSessionId\": 2, \"userId\": 69, \"id_y\": 1165, \"created_at\": \"2021-04-13T17:57:03.090821\", \"activity\": \"Accessed Session 7 - Starter Files from Intro to Game Dev with Unity repo [access:0274231c583::rrtGJAd2ae1e]\"}, {\"id_x\": 47, \"status\": \"P\", \"attendanceSessionId\": 2, \"userId\": 69, \"id_y\": 1208, \"created_at\": \"2021-04-20T17:55:24.942952\", \"activity\": \"Logged in\"}, {\"id_x\": 47, \"status\": \"P\", \"attendanceSessionId\": 2, \"userId\": 69, \"id_y\": 1209, \"created_at\": \"2021-04-20T17:58:45.915980\", \"activity\": \"Accessed Session 8 - Starter Files from Intro to Game Dev with Unity repo [access:1d14e303b59::rrtGJAd2ae1e]\"}, {\"id_x\": 47, \"status\": \"P\", \"attendanceSessionId\": 2, \"userId\": 69, \"id_y\": 1230, \"created_at\": \"2021-04-27T18:05:52.592625\", \"activity\": \"Logged in\"}, {\"id_x\": 47, \"status\": \"P\", \"attendanceSessionId\": 2, \"userId\": 69, \"id_y\": 1231, \"created_at\": \"2021-04-27T18:07:00.748125\", \"activity\": \"Accessed Session 8 - Starter Files from Intro to Game Dev with Unity repo [access:1d14e303b59::rrtGJAd2ae1e]\"}, {\"id_x\": 47, \"status\": \"P\", \"attendanceSessionId\": 2, \"userId\": 69, \"id_y\": 1278, \"created_at\": \"2021-05-12T17:01:54.258060\", \"activity\": \"Logged in\"}, {\"id_x\": 64, \"status\": \"P\", \"attendanceSessionId\": 3, \"userId\": 69, \"id_y\": 1070, \"created_at\": \"2021-03-30T18:01:20.994309\", \"activity\": \"Logged in\"}, {\"id_x\": 64, \"status\": \"P\", \"attendanceSessionId\": 3, \"userId\": 69, \"id_y\": 1071, \"created_at\": \"2021-03-30T18:02:00.265181\", \"activity\": \"Accessed Session 5 - Starter Files from Intro to Game Dev with Unity repo [access:3aadbfd9eca::rrtGJAd2ae1e]\"}, {\"id_x\": 64, \"status\": \"P\", \"attendanceSessionId\": 3, \"userId\": 69, \"id_y\": 1072, \"created_at\": \"2021-03-30T18:02:28.412786\", \"activity\": \"Accessed Session 5 - Assets from Intro to Game Dev with Unity repo [access:141012aa424::rrtGJAd2ae1e]\"}, {\"id_x\": 64, \"status\": \"P\", \"attendanceSessionId\": 3, \"userId\": 69, \"id_y\": 1082, \"created_at\": \"2021-03-30T18:11:42.143795\", \"activity\": \"Accessed Session 5 - Assets from Intro to Game Dev with Unity repo [access:141012aa424::rrtGJAd2ae1e]\"}, {\"id_x\": 64, \"status\": \"P\", \"attendanceSessionId\": 3, \"userId\": 69, \"id_y\": 1107, \"created_at\": \"2021-04-06T18:23:25.476026\", \"activity\": \"Logged in\"}, {\"id_x\": 64, \"status\": \"P\", \"attendanceSessionId\": 3, \"userId\": 69, \"id_y\": 1108, \"created_at\": \"2021-04-06T18:23:41.523282\", \"activity\": \"Accessed Session 6 - Starter Files from Intro to Game Dev with Unity repo [access:4ff849da461::rrtGJAd2ae1e]\"}, {\"id_x\": 64, \"status\": \"P\", \"attendanceSessionId\": 3, \"userId\": 69, \"id_y\": 1164, \"created_at\": \"2021-04-13T17:56:29.073453\", \"activity\": \"Logged in\"}, {\"id_x\": 64, \"status\": \"P\", \"attendanceSessionId\": 3, \"userId\": 69, \"id_y\": 1165, \"created_at\": \"2021-04-13T17:57:03.090821\", \"activity\": \"Accessed Session 7 - Starter Files from Intro to Game Dev with Unity repo [access:0274231c583::rrtGJAd2ae1e]\"}, {\"id_x\": 64, \"status\": \"P\", \"attendanceSessionId\": 3, \"userId\": 69, \"id_y\": 1208, \"created_at\": \"2021-04-20T17:55:24.942952\", \"activity\": \"Logged in\"}, {\"id_x\": 64, \"status\": \"P\", \"attendanceSessionId\": 3, \"userId\": 69, \"id_y\": 1209, \"created_at\": \"2021-04-20T17:58:45.915980\", \"activity\": \"Accessed Session 8 - Starter Files from Intro to Game Dev with Unity repo [access:1d14e303b59::rrtGJAd2ae1e]\"}, {\"id_x\": 64, \"status\": \"P\", \"attendanceSessionId\": 3, \"userId\": 69, \"id_y\": 1230, \"created_at\": \"2021-04-27T18:05:52.592625\", \"activity\": \"Logged in\"}, {\"id_x\": 64, \"status\": \"P\", \"attendanceSessionId\": 3, \"userId\": 69, \"id_y\": 1231, \"created_at\": \"2021-04-27T18:07:00.748125\", \"activity\": \"Accessed Session 8 - Starter Files from Intro to Game Dev with Unity repo [access:1d14e303b59::rrtGJAd2ae1e]\"}, {\"id_x\": 64, \"status\": \"P\", \"attendanceSessionId\": 3, \"userId\": 69, \"id_y\": 1278, \"created_at\": \"2021-05-12T17:01:54.258060\", \"activity\": \"Logged in\"}, {\"id_x\": 75, \"status\": \"P\", \"attendanceSessionId\": 4, \"userId\": 69, \"id_y\": 1070, \"created_at\": \"2021-03-30T18:01:20.994309\", \"activity\": \"Logged in\"}, {\"id_x\": 75, \"status\": \"P\", \"attendanceSessionId\": 4, \"userId\": 69, \"id_y\": 1071, \"created_at\": \"2021-03-30T18:02:00.265181\", \"activity\": \"Accessed Session 5 - Starter Files from Intro to Game Dev with Unity repo [access:3aadbfd9eca::rrtGJAd2ae1e]\"}, {\"id_x\": 75, \"status\": \"P\", \"attendanceSessionId\": 4, \"userId\": 69, \"id_y\": 1072, \"created_at\": \"2021-03-30T18:02:28.412786\", \"activity\": \"Accessed Session 5 - Assets from Intro to Game Dev with Unity repo [access:141012aa424::rrtGJAd2ae1e]\"}, {\"id_x\": 75, \"status\": \"P\", \"attendanceSessionId\": 4, \"userId\": 69, \"id_y\": 1082, \"created_at\": \"2021-03-30T18:11:42.143795\", \"activity\": \"Accessed Session 5 - Assets from Intro to Game Dev with Unity repo [access:141012aa424::rrtGJAd2ae1e]\"}, {\"id_x\": 75, \"status\": \"P\", \"attendanceSessionId\": 4, \"userId\": 69, \"id_y\": 1107, \"created_at\": \"2021-04-06T18:23:25.476026\", \"activity\": \"Logged in\"}, {\"id_x\": 75, \"status\": \"P\", \"attendanceSessionId\": 4, \"userId\": 69, \"id_y\": 1108, \"created_at\": \"2021-04-06T18:23:41.523282\", \"activity\": \"Accessed Session 6 - Starter Files from Intro to Game Dev with Unity repo [access:4ff849da461::rrtGJAd2ae1e]\"}, {\"id_x\": 75, \"status\": \"P\", \"attendanceSessionId\": 4, \"userId\": 69, \"id_y\": 1164, \"created_at\": \"2021-04-13T17:56:29.073453\", \"activity\": \"Logged in\"}, {\"id_x\": 75, \"status\": \"P\", \"attendanceSessionId\": 4, \"userId\": 69, \"id_y\": 1165, \"created_at\": \"2021-04-13T17:57:03.090821\", \"activity\": \"Accessed Session 7 - Starter Files from Intro to Game Dev with Unity repo [access:0274231c583::rrtGJAd2ae1e]\"}, {\"id_x\": 75, \"status\": \"P\", \"attendanceSessionId\": 4, \"userId\": 69, \"id_y\": 1208, \"created_at\": \"2021-04-20T17:55:24.942952\", \"activity\": \"Logged in\"}, {\"id_x\": 75, \"status\": \"P\", \"attendanceSessionId\": 4, \"userId\": 69, \"id_y\": 1209, \"created_at\": \"2021-04-20T17:58:45.915980\", \"activity\": \"Accessed Session 8 - Starter Files from Intro to Game Dev with Unity repo [access:1d14e303b59::rrtGJAd2ae1e]\"}, {\"id_x\": 75, \"status\": \"P\", \"attendanceSessionId\": 4, \"userId\": 69, \"id_y\": 1230, \"created_at\": \"2021-04-27T18:05:52.592625\", \"activity\": \"Logged in\"}, {\"id_x\": 75, \"status\": \"P\", \"attendanceSessionId\": 4, \"userId\": 69, \"id_y\": 1231, \"created_at\": \"2021-04-27T18:07:00.748125\", \"activity\": \"Accessed Session 8 - Starter Files from Intro to Game Dev with Unity repo [access:1d14e303b59::rrtGJAd2ae1e]\"}, {\"id_x\": 75, \"status\": \"P\", \"attendanceSessionId\": 4, \"userId\": 69, \"id_y\": 1278, \"created_at\": \"2021-05-12T17:01:54.258060\", \"activity\": \"Logged in\"}, {\"id_x\": 87, \"status\": \"P\", \"attendanceSessionId\": 5, \"userId\": 69, \"id_y\": 1070, \"created_at\": \"2021-03-30T18:01:20.994309\", \"activity\": \"Logged in\"}, {\"id_x\": 87, \"status\": \"P\", \"attendanceSessionId\": 5, \"userId\": 69, \"id_y\": 1071, \"created_at\": \"2021-03-30T18:02:00.265181\", \"activity\": \"Accessed Session 5 - Starter Files from Intro to Game Dev with Unity repo [access:3aadbfd9eca::rrtGJAd2ae1e]\"}, {\"id_x\": 87, \"status\": \"P\", \"attendanceSessionId\": 5, \"userId\": 69, \"id_y\": 1072, \"created_at\": \"2021-03-30T18:02:28.412786\", \"activity\": \"Accessed Session 5 - Assets from Intro to Game Dev with Unity repo [access:141012aa424::rrtGJAd2ae1e]\"}, {\"id_x\": 87, \"status\": \"P\", \"attendanceSessionId\": 5, \"userId\": 69, \"id_y\": 1082, \"created_at\": \"2021-03-30T18:11:42.143795\", \"activity\": \"Accessed Session 5 - Assets from Intro to Game Dev with Unity repo [access:141012aa424::rrtGJAd2ae1e]\"}, {\"id_x\": 87, \"status\": \"P\", \"attendanceSessionId\": 5, \"userId\": 69, \"id_y\": 1107, \"created_at\": \"2021-04-06T18:23:25.476026\", \"activity\": \"Logged in\"}, {\"id_x\": 87, \"status\": \"P\", \"attendanceSessionId\": 5, \"userId\": 69, \"id_y\": 1108, \"created_at\": \"2021-04-06T18:23:41.523282\", \"activity\": \"Accessed Session 6 - Starter Files from Intro to Game Dev with Unity repo [access:4ff849da461::rrtGJAd2ae1e]\"}, {\"id_x\": 87, \"status\": \"P\", \"attendanceSessionId\": 5, \"userId\": 69, \"id_y\": 1164, \"created_at\": \"2021-04-13T17:56:29.073453\", \"activity\": \"Logged in\"}, {\"id_x\": 87, \"status\": \"P\", \"attendanceSessionId\": 5, \"userId\": 69, \"id_y\": 1165, \"created_at\": \"2021-04-13T17:57:03.090821\", \"activity\": \"Accessed Session 7 - Starter Files from Intro to Game Dev with Unity repo [access:0274231c583::rrtGJAd2ae1e]\"}, {\"id_x\": 87, \"status\": \"P\", \"attendanceSessionId\": 5, \"userId\": 69, \"id_y\": 1208, \"created_at\": \"2021-04-20T17:55:24.942952\", \"activity\": \"Logged in\"}, {\"id_x\": 87, \"status\": \"P\", \"attendanceSessionId\": 5, \"userId\": 69, \"id_y\": 1209, \"created_at\": \"2021-04-20T17:58:45.915980\", \"activity\": \"Accessed Session 8 - Starter Files from Intro to Game Dev with Unity repo [access:1d14e303b59::rrtGJAd2ae1e]\"}, {\"id_x\": 87, \"status\": \"P\", \"attendanceSessionId\": 5, \"userId\": 69, \"id_y\": 1230, \"created_at\": \"2021-04-27T18:05:52.592625\", \"activity\": \"Logged in\"}, {\"id_x\": 87, \"status\": \"P\", \"attendanceSessionId\": 5, \"userId\": 69, \"id_y\": 1231, \"created_at\": \"2021-04-27T18:07:00.748125\", \"activity\": \"Accessed Session 8 - Starter Files from Intro to Game Dev with Unity repo [access:1d14e303b59::rrtGJAd2ae1e]\"}, {\"id_x\": 87, \"status\": \"P\", \"attendanceSessionId\": 5, \"userId\": 69, \"id_y\": 1278, \"created_at\": \"2021-05-12T17:01:54.258060\", \"activity\": \"Logged in\"}, {\"id_x\": 99, \"status\": \"P\", \"attendanceSessionId\": 6, \"userId\": 69, \"id_y\": 1070, \"created_at\": \"2021-03-30T18:01:20.994309\", \"activity\": \"Logged in\"}, {\"id_x\": 99, \"status\": \"P\", \"attendanceSessionId\": 6, \"userId\": 69, \"id_y\": 1071, \"created_at\": \"2021-03-30T18:02:00.265181\", \"activity\": \"Accessed Session 5 - Starter Files from Intro to Game Dev with Unity repo [access:3aadbfd9eca::rrtGJAd2ae1e]\"}, {\"id_x\": 99, \"status\": \"P\", \"attendanceSessionId\": 6, \"userId\": 69, \"id_y\": 1072, \"created_at\": \"2021-03-30T18:02:28.412786\", \"activity\": \"Accessed Session 5 - Assets from Intro to Game Dev with Unity repo [access:141012aa424::rrtGJAd2ae1e]\"}, {\"id_x\": 99, \"status\": \"P\", \"attendanceSessionId\": 6, \"userId\": 69, \"id_y\": 1082, \"created_at\": \"2021-03-30T18:11:42.143795\", \"activity\": \"Accessed Session 5 - Assets from Intro to Game Dev with Unity repo [access:141012aa424::rrtGJAd2ae1e]\"}, {\"id_x\": 99, \"status\": \"P\", \"attendanceSessionId\": 6, \"userId\": 69, \"id_y\": 1107, \"created_at\": \"2021-04-06T18:23:25.476026\", \"activity\": \"Logged in\"}, {\"id_x\": 99, \"status\": \"P\", \"attendanceSessionId\": 6, \"userId\": 69, \"id_y\": 1108, \"created_at\": \"2021-04-06T18:23:41.523282\", \"activity\": \"Accessed Session 6 - Starter Files from Intro to Game Dev with Unity repo [access:4ff849da461::rrtGJAd2ae1e]\"}, {\"id_x\": 99, \"status\": \"P\", \"attendanceSessionId\": 6, \"userId\": 69, \"id_y\": 1164, \"created_at\": \"2021-04-13T17:56:29.073453\", \"activity\": \"Logged in\"}, {\"id_x\": 99, \"status\": \"P\", \"attendanceSessionId\": 6, \"userId\": 69, \"id_y\": 1165, \"created_at\": \"2021-04-13T17:57:03.090821\", \"activity\": \"Accessed Session 7 - Starter Files from Intro to Game Dev with Unity repo [access:0274231c583::rrtGJAd2ae1e]\"}, {\"id_x\": 99, \"status\": \"P\", \"attendanceSessionId\": 6, \"userId\": 69, \"id_y\": 1208, \"created_at\": \"2021-04-20T17:55:24.942952\", \"activity\": \"Logged in\"}, {\"id_x\": 99, \"status\": \"P\", \"attendanceSessionId\": 6, \"userId\": 69, \"id_y\": 1209, \"created_at\": \"2021-04-20T17:58:45.915980\", \"activity\": \"Accessed Session 8 - Starter Files from Intro to Game Dev with Unity repo [access:1d14e303b59::rrtGJAd2ae1e]\"}, {\"id_x\": 99, \"status\": \"P\", \"attendanceSessionId\": 6, \"userId\": 69, \"id_y\": 1230, \"created_at\": \"2021-04-27T18:05:52.592625\", \"activity\": \"Logged in\"}, {\"id_x\": 99, \"status\": \"P\", \"attendanceSessionId\": 6, \"userId\": 69, \"id_y\": 1231, \"created_at\": \"2021-04-27T18:07:00.748125\", \"activity\": \"Accessed Session 8 - Starter Files from Intro to Game Dev with Unity repo [access:1d14e303b59::rrtGJAd2ae1e]\"}, {\"id_x\": 99, \"status\": \"P\", \"attendanceSessionId\": 6, \"userId\": 69, \"id_y\": 1278, \"created_at\": \"2021-05-12T17:01:54.258060\", \"activity\": \"Logged in\"}, {\"id_x\": 106, \"status\": \"P\", \"attendanceSessionId\": 7, \"userId\": 69, \"id_y\": 1070, \"created_at\": \"2021-03-30T18:01:20.994309\", \"activity\": \"Logged in\"}, {\"id_x\": 106, \"status\": \"P\", \"attendanceSessionId\": 7, \"userId\": 69, \"id_y\": 1071, \"created_at\": \"2021-03-30T18:02:00.265181\", \"activity\": \"Accessed Session 5 - Starter Files from Intro to Game Dev with Unity repo [access:3aadbfd9eca::rrtGJAd2ae1e]\"}, {\"id_x\": 106, \"status\": \"P\", \"attendanceSessionId\": 7, \"userId\": 69, \"id_y\": 1072, \"created_at\": \"2021-03-30T18:02:28.412786\", \"activity\": \"Accessed Session 5 - Assets from Intro to Game Dev with Unity repo [access:141012aa424::rrtGJAd2ae1e]\"}, {\"id_x\": 106, \"status\": \"P\", \"attendanceSessionId\": 7, \"userId\": 69, \"id_y\": 1082, \"created_at\": \"2021-03-30T18:11:42.143795\", \"activity\": \"Accessed Session 5 - Assets from Intro to Game Dev with Unity repo [access:141012aa424::rrtGJAd2ae1e]\"}, {\"id_x\": 106, \"status\": \"P\", \"attendanceSessionId\": 7, \"userId\": 69, \"id_y\": 1107, \"created_at\": \"2021-04-06T18:23:25.476026\", \"activity\": \"Logged in\"}, {\"id_x\": 106, \"status\": \"P\", \"attendanceSessionId\": 7, \"userId\": 69, \"id_y\": 1108, \"created_at\": \"2021-04-06T18:23:41.523282\", \"activity\": \"Accessed Session 6 - Starter Files from Intro to Game Dev with Unity repo [access:4ff849da461::rrtGJAd2ae1e]\"}, {\"id_x\": 106, \"status\": \"P\", \"attendanceSessionId\": 7, \"userId\": 69, \"id_y\": 1164, \"created_at\": \"2021-04-13T17:56:29.073453\", \"activity\": \"Logged in\"}, {\"id_x\": 106, \"status\": \"P\", \"attendanceSessionId\": 7, \"userId\": 69, \"id_y\": 1165, \"created_at\": \"2021-04-13T17:57:03.090821\", \"activity\": \"Accessed Session 7 - Starter Files from Intro to Game Dev with Unity repo [access:0274231c583::rrtGJAd2ae1e]\"}, {\"id_x\": 106, \"status\": \"P\", \"attendanceSessionId\": 7, \"userId\": 69, \"id_y\": 1208, \"created_at\": \"2021-04-20T17:55:24.942952\", \"activity\": \"Logged in\"}, {\"id_x\": 106, \"status\": \"P\", \"attendanceSessionId\": 7, \"userId\": 69, \"id_y\": 1209, \"created_at\": \"2021-04-20T17:58:45.915980\", \"activity\": \"Accessed Session 8 - Starter Files from Intro to Game Dev with Unity repo [access:1d14e303b59::rrtGJAd2ae1e]\"}, {\"id_x\": 106, \"status\": \"P\", \"attendanceSessionId\": 7, \"userId\": 69, \"id_y\": 1230, \"created_at\": \"2021-04-27T18:05:52.592625\", \"activity\": \"Logged in\"}, {\"id_x\": 106, \"status\": \"P\", \"attendanceSessionId\": 7, \"userId\": 69, \"id_y\": 1231, \"created_at\": \"2021-04-27T18:07:00.748125\", \"activity\": \"Accessed Session 8 - Starter Files from Intro to Game Dev with Unity repo [access:1d14e303b59::rrtGJAd2ae1e]\"}, {\"id_x\": 106, \"status\": \"P\", \"attendanceSessionId\": 7, \"userId\": 69, \"id_y\": 1278, \"created_at\": \"2021-05-12T17:01:54.258060\", \"activity\": \"Logged in\"}, {\"id_x\": 115, \"status\": \"P\", \"attendanceSessionId\": 8, \"userId\": 69, \"id_y\": 1070, \"created_at\": \"2021-03-30T18:01:20.994309\", \"activity\": \"Logged in\"}, {\"id_x\": 115, \"status\": \"P\", \"attendanceSessionId\": 8, \"userId\": 69, \"id_y\": 1071, \"created_at\": \"2021-03-30T18:02:00.265181\", \"activity\": \"Accessed Session 5 - Starter Files from Intro to Game Dev with Unity repo [access:3aadbfd9eca::rrtGJAd2ae1e]\"}, {\"id_x\": 115, \"status\": \"P\", \"attendanceSessionId\": 8, \"userId\": 69, \"id_y\": 1072, \"created_at\": \"2021-03-30T18:02:28.412786\", \"activity\": \"Accessed Session 5 - Assets from Intro to Game Dev with Unity repo [access:141012aa424::rrtGJAd2ae1e]\"}, {\"id_x\": 115, \"status\": \"P\", \"attendanceSessionId\": 8, \"userId\": 69, \"id_y\": 1082, \"created_at\": \"2021-03-30T18:11:42.143795\", \"activity\": \"Accessed Session 5 - Assets from Intro to Game Dev with Unity repo [access:141012aa424::rrtGJAd2ae1e]\"}, {\"id_x\": 115, \"status\": \"P\", \"attendanceSessionId\": 8, \"userId\": 69, \"id_y\": 1107, \"created_at\": \"2021-04-06T18:23:25.476026\", \"activity\": \"Logged in\"}, {\"id_x\": 115, \"status\": \"P\", \"attendanceSessionId\": 8, \"userId\": 69, \"id_y\": 1108, \"created_at\": \"2021-04-06T18:23:41.523282\", \"activity\": \"Accessed Session 6 - Starter Files from Intro to Game Dev with Unity repo [access:4ff849da461::rrtGJAd2ae1e]\"}, {\"id_x\": 115, \"status\": \"P\", \"attendanceSessionId\": 8, \"userId\": 69, \"id_y\": 1164, \"created_at\": \"2021-04-13T17:56:29.073453\", \"activity\": \"Logged in\"}, {\"id_x\": 115, \"status\": \"P\", \"attendanceSessionId\": 8, \"userId\": 69, \"id_y\": 1165, \"created_at\": \"2021-04-13T17:57:03.090821\", \"activity\": \"Accessed Session 7 - Starter Files from Intro to Game Dev with Unity repo [access:0274231c583::rrtGJAd2ae1e]\"}, {\"id_x\": 115, \"status\": \"P\", \"attendanceSessionId\": 8, \"userId\": 69, \"id_y\": 1208, \"created_at\": \"2021-04-20T17:55:24.942952\", \"activity\": \"Logged in\"}, {\"id_x\": 115, \"status\": \"P\", \"attendanceSessionId\": 8, \"userId\": 69, \"id_y\": 1209, \"created_at\": \"2021-04-20T17:58:45.915980\", \"activity\": \"Accessed Session 8 - Starter Files from Intro to Game Dev with Unity repo [access:1d14e303b59::rrtGJAd2ae1e]\"}, {\"id_x\": 115, \"status\": \"P\", \"attendanceSessionId\": 8, \"userId\": 69, \"id_y\": 1230, \"created_at\": \"2021-04-27T18:05:52.592625\", \"activity\": \"Logged in\"}, {\"id_x\": 115, \"status\": \"P\", \"attendanceSessionId\": 8, \"userId\": 69, \"id_y\": 1231, \"created_at\": \"2021-04-27T18:07:00.748125\", \"activity\": \"Accessed Session 8 - Starter Files from Intro to Game Dev with Unity repo [access:1d14e303b59::rrtGJAd2ae1e]\"}, {\"id_x\": 115, \"status\": \"P\", \"attendanceSessionId\": 8, \"userId\": 69, \"id_y\": 1278, \"created_at\": \"2021-05-12T17:01:54.258060\", \"activity\": \"Logged in\"}, {\"id_x\": 140, \"status\": \"P\", \"attendanceSessionId\": 9, \"userId\": 69, \"id_y\": 1070, \"created_at\": \"2021-03-30T18:01:20.994309\", \"activity\": \"Logged in\"}, {\"id_x\": 140, \"status\": \"P\", \"attendanceSessionId\": 9, \"userId\": 69, \"id_y\": 1071, \"created_at\": \"2021-03-30T18:02:00.265181\", \"activity\": \"Accessed Session 5 - Starter Files from Intro to Game Dev with Unity repo [access:3aadbfd9eca::rrtGJAd2ae1e]\"}, {\"id_x\": 140, \"status\": \"P\", \"attendanceSessionId\": 9, \"userId\": 69, \"id_y\": 1072, \"created_at\": \"2021-03-30T18:02:28.412786\", \"activity\": \"Accessed Session 5 - Assets from Intro to Game Dev with Unity repo [access:141012aa424::rrtGJAd2ae1e]\"}, {\"id_x\": 140, \"status\": \"P\", \"attendanceSessionId\": 9, \"userId\": 69, \"id_y\": 1082, \"created_at\": \"2021-03-30T18:11:42.143795\", \"activity\": \"Accessed Session 5 - Assets from Intro to Game Dev with Unity repo [access:141012aa424::rrtGJAd2ae1e]\"}, {\"id_x\": 140, \"status\": \"P\", \"attendanceSessionId\": 9, \"userId\": 69, \"id_y\": 1107, \"created_at\": \"2021-04-06T18:23:25.476026\", \"activity\": \"Logged in\"}, {\"id_x\": 140, \"status\": \"P\", \"attendanceSessionId\": 9, \"userId\": 69, \"id_y\": 1108, \"created_at\": \"2021-04-06T18:23:41.523282\", \"activity\": \"Accessed Session 6 - Starter Files from Intro to Game Dev with Unity repo [access:4ff849da461::rrtGJAd2ae1e]\"}, {\"id_x\": 140, \"status\": \"P\", \"attendanceSessionId\": 9, \"userId\": 69, \"id_y\": 1164, \"created_at\": \"2021-04-13T17:56:29.073453\", \"activity\": \"Logged in\"}, {\"id_x\": 140, \"status\": \"P\", \"attendanceSessionId\": 9, \"userId\": 69, \"id_y\": 1165, \"created_at\": \"2021-04-13T17:57:03.090821\", \"activity\": \"Accessed Session 7 - Starter Files from Intro to Game Dev with Unity repo [access:0274231c583::rrtGJAd2ae1e]\"}, {\"id_x\": 140, \"status\": \"P\", \"attendanceSessionId\": 9, \"userId\": 69, \"id_y\": 1208, \"created_at\": \"2021-04-20T17:55:24.942952\", \"activity\": \"Logged in\"}, {\"id_x\": 140, \"status\": \"P\", \"attendanceSessionId\": 9, \"userId\": 69, \"id_y\": 1209, \"created_at\": \"2021-04-20T17:58:45.915980\", \"activity\": \"Accessed Session 8 - Starter Files from Intro to Game Dev with Unity repo [access:1d14e303b59::rrtGJAd2ae1e]\"}, {\"id_x\": 140, \"status\": \"P\", \"attendanceSessionId\": 9, \"userId\": 69, \"id_y\": 1230, \"created_at\": \"2021-04-27T18:05:52.592625\", \"activity\": \"Logged in\"}, {\"id_x\": 140, \"status\": \"P\", \"attendanceSessionId\": 9, \"userId\": 69, \"id_y\": 1231, \"created_at\": \"2021-04-27T18:07:00.748125\", \"activity\": \"Accessed Session 8 - Starter Files from Intro to Game Dev with Unity repo [access:1d14e303b59::rrtGJAd2ae1e]\"}, {\"id_x\": 140, \"status\": \"P\", \"attendanceSessionId\": 9, \"userId\": 69, \"id_y\": 1278, \"created_at\": \"2021-05-12T17:01:54.258060\", \"activity\": \"Logged in\"}, {\"id_x\": 32, \"status\": \"P\", \"attendanceSessionId\": 1, \"userId\": 85, \"id_y\": 1083, \"created_at\": \"2021-03-30T18:11:58.052590\", \"activity\": \"Password Reset requested\"}, {\"id_x\": 32, \"status\": \"P\", \"attendanceSessionId\": 1, \"userId\": 85, \"id_y\": 1084, \"created_at\": \"2021-03-30T18:13:50.985017\", \"activity\": \"Password Reset requested\"}, {\"id_x\": 32, \"status\": \"P\", \"attendanceSessionId\": 1, \"userId\": 85, \"id_y\": 1256, \"created_at\": \"2021-04-28T08:18:54.984837\", \"activity\": \"Magic link sent\"}, {\"id_x\": 32, \"status\": \"P\", \"attendanceSessionId\": 1, \"userId\": 85, \"id_y\": 1257, \"created_at\": \"2021-04-28T08:20:02.960351\", \"activity\": \"Password Reset requested\"}, {\"id_x\": 32, \"status\": \"P\", \"attendanceSessionId\": 1, \"userId\": 85, \"id_y\": 1258, \"created_at\": \"2021-04-28T12:29:52.759441\", \"activity\": \"Magic link sent\"}, {\"id_x\": 32, \"status\": \"P\", \"attendanceSessionId\": 1, \"userId\": 85, \"id_y\": 1260, \"created_at\": \"2021-04-30T11:04:33.901613\", \"activity\": \"Logged in\"}, {\"id_x\": 32, \"status\": \"P\", \"attendanceSessionId\": 1, \"userId\": 85, \"id_y\": 1261, \"created_at\": \"2021-04-30T11:04:34.104968\", \"activity\": \"Password expired. Redirecting to update password\"}, {\"id_x\": 32, \"status\": \"P\", \"attendanceSessionId\": 1, \"userId\": 85, \"id_y\": 1262, \"created_at\": \"2021-04-30T11:05:07.272113\", \"activity\": \"Updated password\"}, {\"id_x\": 32, \"status\": \"P\", \"attendanceSessionId\": 1, \"userId\": 85, \"id_y\": 1263, \"created_at\": \"2021-04-30T11:05:18.142229\", \"activity\": \"No course selected. Navigating to course selection\"}, {\"id_x\": 32, \"status\": \"P\", \"attendanceSessionId\": 1, \"userId\": 85, \"id_y\": 1264, \"created_at\": \"2021-04-30T13:55:42.986992\", \"activity\": \"Logged in\"}, {\"id_x\": 42, \"status\": \"P\", \"attendanceSessionId\": 2, \"userId\": 85, \"id_y\": 1083, \"created_at\": \"2021-03-30T18:11:58.052590\", \"activity\": \"Password Reset requested\"}, {\"id_x\": 42, \"status\": \"P\", \"attendanceSessionId\": 2, \"userId\": 85, \"id_y\": 1084, \"created_at\": \"2021-03-30T18:13:50.985017\", \"activity\": \"Password Reset requested\"}, {\"id_x\": 42, \"status\": \"P\", \"attendanceSessionId\": 2, \"userId\": 85, \"id_y\": 1256, \"created_at\": \"2021-04-28T08:18:54.984837\", \"activity\": \"Magic link sent\"}, {\"id_x\": 42, \"status\": \"P\", \"attendanceSessionId\": 2, \"userId\": 85, \"id_y\": 1257, \"created_at\": \"2021-04-28T08:20:02.960351\", \"activity\": \"Password Reset requested\"}, {\"id_x\": 42, \"status\": \"P\", \"attendanceSessionId\": 2, \"userId\": 85, \"id_y\": 1258, \"created_at\": \"2021-04-28T12:29:52.759441\", \"activity\": \"Magic link sent\"}, {\"id_x\": 42, \"status\": \"P\", \"attendanceSessionId\": 2, \"userId\": 85, \"id_y\": 1260, \"created_at\": \"2021-04-30T11:04:33.901613\", \"activity\": \"Logged in\"}, {\"id_x\": 42, \"status\": \"P\", \"attendanceSessionId\": 2, \"userId\": 85, \"id_y\": 1261, \"created_at\": \"2021-04-30T11:04:34.104968\", \"activity\": \"Password expired. Redirecting to update password\"}, {\"id_x\": 42, \"status\": \"P\", \"attendanceSessionId\": 2, \"userId\": 85, \"id_y\": 1262, \"created_at\": \"2021-04-30T11:05:07.272113\", \"activity\": \"Updated password\"}, {\"id_x\": 42, \"status\": \"P\", \"attendanceSessionId\": 2, \"userId\": 85, \"id_y\": 1263, \"created_at\": \"2021-04-30T11:05:18.142229\", \"activity\": \"No course selected. Navigating to course selection\"}, {\"id_x\": 42, \"status\": \"P\", \"attendanceSessionId\": 2, \"userId\": 85, \"id_y\": 1264, \"created_at\": \"2021-04-30T13:55:42.986992\", \"activity\": \"Logged in\"}, {\"id_x\": 63, \"status\": \"P\", \"attendanceSessionId\": 3, \"userId\": 85, \"id_y\": 1083, \"created_at\": \"2021-03-30T18:11:58.052590\", \"activity\": \"Password Reset requested\"}, {\"id_x\": 63, \"status\": \"P\", \"attendanceSessionId\": 3, \"userId\": 85, \"id_y\": 1084, \"created_at\": \"2021-03-30T18:13:50.985017\", \"activity\": \"Password Reset requested\"}, {\"id_x\": 63, \"status\": \"P\", \"attendanceSessionId\": 3, \"userId\": 85, \"id_y\": 1256, \"created_at\": \"2021-04-28T08:18:54.984837\", \"activity\": \"Magic link sent\"}, {\"id_x\": 63, \"status\": \"P\", \"attendanceSessionId\": 3, \"userId\": 85, \"id_y\": 1257, \"created_at\": \"2021-04-28T08:20:02.960351\", \"activity\": \"Password Reset requested\"}, {\"id_x\": 63, \"status\": \"P\", \"attendanceSessionId\": 3, \"userId\": 85, \"id_y\": 1258, \"created_at\": \"2021-04-28T12:29:52.759441\", \"activity\": \"Magic link sent\"}, {\"id_x\": 63, \"status\": \"P\", \"attendanceSessionId\": 3, \"userId\": 85, \"id_y\": 1260, \"created_at\": \"2021-04-30T11:04:33.901613\", \"activity\": \"Logged in\"}, {\"id_x\": 63, \"status\": \"P\", \"attendanceSessionId\": 3, \"userId\": 85, \"id_y\": 1261, \"created_at\": \"2021-04-30T11:04:34.104968\", \"activity\": \"Password expired. Redirecting to update password\"}, {\"id_x\": 63, \"status\": \"P\", \"attendanceSessionId\": 3, \"userId\": 85, \"id_y\": 1262, \"created_at\": \"2021-04-30T11:05:07.272113\", \"activity\": \"Updated password\"}, {\"id_x\": 63, \"status\": \"P\", \"attendanceSessionId\": 3, \"userId\": 85, \"id_y\": 1263, \"created_at\": \"2021-04-30T11:05:18.142229\", \"activity\": \"No course selected. Navigating to course selection\"}, {\"id_x\": 63, \"status\": \"P\", \"attendanceSessionId\": 3, \"userId\": 85, \"id_y\": 1264, \"created_at\": \"2021-04-30T13:55:42.986992\", \"activity\": \"Logged in\"}, {\"id_x\": 78, \"status\": \"P\", \"attendanceSessionId\": 4, \"userId\": 85, \"id_y\": 1083, \"created_at\": \"2021-03-30T18:11:58.052590\", \"activity\": \"Password Reset requested\"}, {\"id_x\": 78, \"status\": \"P\", \"attendanceSessionId\": 4, \"userId\": 85, \"id_y\": 1084, \"created_at\": \"2021-03-30T18:13:50.985017\", \"activity\": \"Password Reset requested\"}, {\"id_x\": 78, \"status\": \"P\", \"attendanceSessionId\": 4, \"userId\": 85, \"id_y\": 1256, \"created_at\": \"2021-04-28T08:18:54.984837\", \"activity\": \"Magic link sent\"}, {\"id_x\": 78, \"status\": \"P\", \"attendanceSessionId\": 4, \"userId\": 85, \"id_y\": 1257, \"created_at\": \"2021-04-28T08:20:02.960351\", \"activity\": \"Password Reset requested\"}, {\"id_x\": 78, \"status\": \"P\", \"attendanceSessionId\": 4, \"userId\": 85, \"id_y\": 1258, \"created_at\": \"2021-04-28T12:29:52.759441\", \"activity\": \"Magic link sent\"}, {\"id_x\": 78, \"status\": \"P\", \"attendanceSessionId\": 4, \"userId\": 85, \"id_y\": 1260, \"created_at\": \"2021-04-30T11:04:33.901613\", \"activity\": \"Logged in\"}, {\"id_x\": 78, \"status\": \"P\", \"attendanceSessionId\": 4, \"userId\": 85, \"id_y\": 1261, \"created_at\": \"2021-04-30T11:04:34.104968\", \"activity\": \"Password expired. Redirecting to update password\"}, {\"id_x\": 78, \"status\": \"P\", \"attendanceSessionId\": 4, \"userId\": 85, \"id_y\": 1262, \"created_at\": \"2021-04-30T11:05:07.272113\", \"activity\": \"Updated password\"}, {\"id_x\": 78, \"status\": \"P\", \"attendanceSessionId\": 4, \"userId\": 85, \"id_y\": 1263, \"created_at\": \"2021-04-30T11:05:18.142229\", \"activity\": \"No course selected. Navigating to course selection\"}, {\"id_x\": 78, \"status\": \"P\", \"attendanceSessionId\": 4, \"userId\": 85, \"id_y\": 1264, \"created_at\": \"2021-04-30T13:55:42.986992\", \"activity\": \"Logged in\"}, {\"id_x\": 88, \"status\": \"P\", \"attendanceSessionId\": 5, \"userId\": 85, \"id_y\": 1083, \"created_at\": \"2021-03-30T18:11:58.052590\", \"activity\": \"Password Reset requested\"}, {\"id_x\": 88, \"status\": \"P\", \"attendanceSessionId\": 5, \"userId\": 85, \"id_y\": 1084, \"created_at\": \"2021-03-30T18:13:50.985017\", \"activity\": \"Password Reset requested\"}, {\"id_x\": 88, \"status\": \"P\", \"attendanceSessionId\": 5, \"userId\": 85, \"id_y\": 1256, \"created_at\": \"2021-04-28T08:18:54.984837\", \"activity\": \"Magic link sent\"}, {\"id_x\": 88, \"status\": \"P\", \"attendanceSessionId\": 5, \"userId\": 85, \"id_y\": 1257, \"created_at\": \"2021-04-28T08:20:02.960351\", \"activity\": \"Password Reset requested\"}, {\"id_x\": 88, \"status\": \"P\", \"attendanceSessionId\": 5, \"userId\": 85, \"id_y\": 1258, \"created_at\": \"2021-04-28T12:29:52.759441\", \"activity\": \"Magic link sent\"}, {\"id_x\": 88, \"status\": \"P\", \"attendanceSessionId\": 5, \"userId\": 85, \"id_y\": 1260, \"created_at\": \"2021-04-30T11:04:33.901613\", \"activity\": \"Logged in\"}, {\"id_x\": 88, \"status\": \"P\", \"attendanceSessionId\": 5, \"userId\": 85, \"id_y\": 1261, \"created_at\": \"2021-04-30T11:04:34.104968\", \"activity\": \"Password expired. Redirecting to update password\"}, {\"id_x\": 88, \"status\": \"P\", \"attendanceSessionId\": 5, \"userId\": 85, \"id_y\": 1262, \"created_at\": \"2021-04-30T11:05:07.272113\", \"activity\": \"Updated password\"}, {\"id_x\": 88, \"status\": \"P\", \"attendanceSessionId\": 5, \"userId\": 85, \"id_y\": 1263, \"created_at\": \"2021-04-30T11:05:18.142229\", \"activity\": \"No course selected. Navigating to course selection\"}, {\"id_x\": 88, \"status\": \"P\", \"attendanceSessionId\": 5, \"userId\": 85, \"id_y\": 1264, \"created_at\": \"2021-04-30T13:55:42.986992\", \"activity\": \"Logged in\"}, {\"id_x\": 96, \"status\": \"P\", \"attendanceSessionId\": 6, \"userId\": 85, \"id_y\": 1083, \"created_at\": \"2021-03-30T18:11:58.052590\", \"activity\": \"Password Reset requested\"}, {\"id_x\": 96, \"status\": \"P\", \"attendanceSessionId\": 6, \"userId\": 85, \"id_y\": 1084, \"created_at\": \"2021-03-30T18:13:50.985017\", \"activity\": \"Password Reset requested\"}, {\"id_x\": 96, \"status\": \"P\", \"attendanceSessionId\": 6, \"userId\": 85, \"id_y\": 1256, \"created_at\": \"2021-04-28T08:18:54.984837\", \"activity\": \"Magic link sent\"}, {\"id_x\": 96, \"status\": \"P\", \"attendanceSessionId\": 6, \"userId\": 85, \"id_y\": 1257, \"created_at\": \"2021-04-28T08:20:02.960351\", \"activity\": \"Password Reset requested\"}, {\"id_x\": 96, \"status\": \"P\", \"attendanceSessionId\": 6, \"userId\": 85, \"id_y\": 1258, \"created_at\": \"2021-04-28T12:29:52.759441\", \"activity\": \"Magic link sent\"}, {\"id_x\": 96, \"status\": \"P\", \"attendanceSessionId\": 6, \"userId\": 85, \"id_y\": 1260, \"created_at\": \"2021-04-30T11:04:33.901613\", \"activity\": \"Logged in\"}, {\"id_x\": 96, \"status\": \"P\", \"attendanceSessionId\": 6, \"userId\": 85, \"id_y\": 1261, \"created_at\": \"2021-04-30T11:04:34.104968\", \"activity\": \"Password expired. Redirecting to update password\"}, {\"id_x\": 96, \"status\": \"P\", \"attendanceSessionId\": 6, \"userId\": 85, \"id_y\": 1262, \"created_at\": \"2021-04-30T11:05:07.272113\", \"activity\": \"Updated password\"}, {\"id_x\": 96, \"status\": \"P\", \"attendanceSessionId\": 6, \"userId\": 85, \"id_y\": 1263, \"created_at\": \"2021-04-30T11:05:18.142229\", \"activity\": \"No course selected. Navigating to course selection\"}, {\"id_x\": 96, \"status\": \"P\", \"attendanceSessionId\": 6, \"userId\": 85, \"id_y\": 1264, \"created_at\": \"2021-04-30T13:55:42.986992\", \"activity\": \"Logged in\"}, {\"id_x\": 107, \"status\": \"P\", \"attendanceSessionId\": 7, \"userId\": 85, \"id_y\": 1083, \"created_at\": \"2021-03-30T18:11:58.052590\", \"activity\": \"Password Reset requested\"}, {\"id_x\": 107, \"status\": \"P\", \"attendanceSessionId\": 7, \"userId\": 85, \"id_y\": 1084, \"created_at\": \"2021-03-30T18:13:50.985017\", \"activity\": \"Password Reset requested\"}, {\"id_x\": 107, \"status\": \"P\", \"attendanceSessionId\": 7, \"userId\": 85, \"id_y\": 1256, \"created_at\": \"2021-04-28T08:18:54.984837\", \"activity\": \"Magic link sent\"}, {\"id_x\": 107, \"status\": \"P\", \"attendanceSessionId\": 7, \"userId\": 85, \"id_y\": 1257, \"created_at\": \"2021-04-28T08:20:02.960351\", \"activity\": \"Password Reset requested\"}, {\"id_x\": 107, \"status\": \"P\", \"attendanceSessionId\": 7, \"userId\": 85, \"id_y\": 1258, \"created_at\": \"2021-04-28T12:29:52.759441\", \"activity\": \"Magic link sent\"}, {\"id_x\": 107, \"status\": \"P\", \"attendanceSessionId\": 7, \"userId\": 85, \"id_y\": 1260, \"created_at\": \"2021-04-30T11:04:33.901613\", \"activity\": \"Logged in\"}, {\"id_x\": 107, \"status\": \"P\", \"attendanceSessionId\": 7, \"userId\": 85, \"id_y\": 1261, \"created_at\": \"2021-04-30T11:04:34.104968\", \"activity\": \"Password expired. Redirecting to update password\"}, {\"id_x\": 107, \"status\": \"P\", \"attendanceSessionId\": 7, \"userId\": 85, \"id_y\": 1262, \"created_at\": \"2021-04-30T11:05:07.272113\", \"activity\": \"Updated password\"}, {\"id_x\": 107, \"status\": \"P\", \"attendanceSessionId\": 7, \"userId\": 85, \"id_y\": 1263, \"created_at\": \"2021-04-30T11:05:18.142229\", \"activity\": \"No course selected. Navigating to course selection\"}, {\"id_x\": 107, \"status\": \"P\", \"attendanceSessionId\": 7, \"userId\": 85, \"id_y\": 1264, \"created_at\": \"2021-04-30T13:55:42.986992\", \"activity\": \"Logged in\"}, {\"id_x\": 116, \"status\": \"P\", \"attendanceSessionId\": 8, \"userId\": 85, \"id_y\": 1083, \"created_at\": \"2021-03-30T18:11:58.052590\", \"activity\": \"Password Reset requested\"}, {\"id_x\": 116, \"status\": \"P\", \"attendanceSessionId\": 8, \"userId\": 85, \"id_y\": 1084, \"created_at\": \"2021-03-30T18:13:50.985017\", \"activity\": \"Password Reset requested\"}, {\"id_x\": 116, \"status\": \"P\", \"attendanceSessionId\": 8, \"userId\": 85, \"id_y\": 1256, \"created_at\": \"2021-04-28T08:18:54.984837\", \"activity\": \"Magic link sent\"}, {\"id_x\": 116, \"status\": \"P\", \"attendanceSessionId\": 8, \"userId\": 85, \"id_y\": 1257, \"created_at\": \"2021-04-28T08:20:02.960351\", \"activity\": \"Password Reset requested\"}, {\"id_x\": 116, \"status\": \"P\", \"attendanceSessionId\": 8, \"userId\": 85, \"id_y\": 1258, \"created_at\": \"2021-04-28T12:29:52.759441\", \"activity\": \"Magic link sent\"}, {\"id_x\": 116, \"status\": \"P\", \"attendanceSessionId\": 8, \"userId\": 85, \"id_y\": 1260, \"created_at\": \"2021-04-30T11:04:33.901613\", \"activity\": \"Logged in\"}, {\"id_x\": 116, \"status\": \"P\", \"attendanceSessionId\": 8, \"userId\": 85, \"id_y\": 1261, \"created_at\": \"2021-04-30T11:04:34.104968\", \"activity\": \"Password expired. Redirecting to update password\"}, {\"id_x\": 116, \"status\": \"P\", \"attendanceSessionId\": 8, \"userId\": 85, \"id_y\": 1262, \"created_at\": \"2021-04-30T11:05:07.272113\", \"activity\": \"Updated password\"}, {\"id_x\": 116, \"status\": \"P\", \"attendanceSessionId\": 8, \"userId\": 85, \"id_y\": 1263, \"created_at\": \"2021-04-30T11:05:18.142229\", \"activity\": \"No course selected. Navigating to course selection\"}, {\"id_x\": 116, \"status\": \"P\", \"attendanceSessionId\": 8, \"userId\": 85, \"id_y\": 1264, \"created_at\": \"2021-04-30T13:55:42.986992\", \"activity\": \"Logged in\"}, {\"id_x\": 142, \"status\": \"P\", \"attendanceSessionId\": 9, \"userId\": 85, \"id_y\": 1083, \"created_at\": \"2021-03-30T18:11:58.052590\", \"activity\": \"Password Reset requested\"}, {\"id_x\": 142, \"status\": \"P\", \"attendanceSessionId\": 9, \"userId\": 85, \"id_y\": 1084, \"created_at\": \"2021-03-30T18:13:50.985017\", \"activity\": \"Password Reset requested\"}, {\"id_x\": 142, \"status\": \"P\", \"attendanceSessionId\": 9, \"userId\": 85, \"id_y\": 1256, \"created_at\": \"2021-04-28T08:18:54.984837\", \"activity\": \"Magic link sent\"}, {\"id_x\": 142, \"status\": \"P\", \"attendanceSessionId\": 9, \"userId\": 85, \"id_y\": 1257, \"created_at\": \"2021-04-28T08:20:02.960351\", \"activity\": \"Password Reset requested\"}, {\"id_x\": 142, \"status\": \"P\", \"attendanceSessionId\": 9, \"userId\": 85, \"id_y\": 1258, \"created_at\": \"2021-04-28T12:29:52.759441\", \"activity\": \"Magic link sent\"}, {\"id_x\": 142, \"status\": \"P\", \"attendanceSessionId\": 9, \"userId\": 85, \"id_y\": 1260, \"created_at\": \"2021-04-30T11:04:33.901613\", \"activity\": \"Logged in\"}, {\"id_x\": 142, \"status\": \"P\", \"attendanceSessionId\": 9, \"userId\": 85, \"id_y\": 1261, \"created_at\": \"2021-04-30T11:04:34.104968\", \"activity\": \"Password expired. Redirecting to update password\"}, {\"id_x\": 142, \"status\": \"P\", \"attendanceSessionId\": 9, \"userId\": 85, \"id_y\": 1262, \"created_at\": \"2021-04-30T11:05:07.272113\", \"activity\": \"Updated password\"}, {\"id_x\": 142, \"status\": \"P\", \"attendanceSessionId\": 9, \"userId\": 85, \"id_y\": 1263, \"created_at\": \"2021-04-30T11:05:18.142229\", \"activity\": \"No course selected. Navigating to course selection\"}, {\"id_x\": 142, \"status\": \"P\", \"attendanceSessionId\": 9, \"userId\": 85, \"id_y\": 1264, \"created_at\": \"2021-04-30T13:55:42.986992\", \"activity\": \"Logged in\"}, {\"id_x\": 33, \"status\": \"I\", \"attendanceSessionId\": 1, \"userId\": 86, \"id_y\": 1254, \"created_at\": \"2021-04-27T23:58:42.649859\", \"activity\": \"Logged in\"}, {\"id_x\": 33, \"status\": \"I\", \"attendanceSessionId\": 1, \"userId\": 86, \"id_y\": 1255, \"created_at\": \"2021-04-28T00:01:15.604556\", \"activity\": \"Accessed Session 1 Recap from Intro to Game Dev with Unity repo [access:286e1a92d35::rrtGJAd2ae1e]\"}, {\"id_x\": 48, \"status\": \"A\", \"attendanceSessionId\": 2, \"userId\": 86, \"id_y\": 1254, \"created_at\": \"2021-04-27T23:58:42.649859\", \"activity\": \"Logged in\"}, {\"id_x\": 48, \"status\": \"A\", \"attendanceSessionId\": 2, \"userId\": 86, \"id_y\": 1255, \"created_at\": \"2021-04-28T00:01:15.604556\", \"activity\": \"Accessed Session 1 Recap from Intro to Game Dev with Unity repo [access:286e1a92d35::rrtGJAd2ae1e]\"}, {\"id_x\": 69, \"status\": \"A\", \"attendanceSessionId\": 3, \"userId\": 86, \"id_y\": 1254, \"created_at\": \"2021-04-27T23:58:42.649859\", \"activity\": \"Logged in\"}, {\"id_x\": 69, \"status\": \"A\", \"attendanceSessionId\": 3, \"userId\": 86, \"id_y\": 1255, \"created_at\": \"2021-04-28T00:01:15.604556\", \"activity\": \"Accessed Session 1 Recap from Intro to Game Dev with Unity repo [access:286e1a92d35::rrtGJAd2ae1e]\"}, {\"id_x\": 79, \"status\": \"A\", \"attendanceSessionId\": 4, \"userId\": 86, \"id_y\": 1254, \"created_at\": \"2021-04-27T23:58:42.649859\", \"activity\": \"Logged in\"}, {\"id_x\": 79, \"status\": \"A\", \"attendanceSessionId\": 4, \"userId\": 86, \"id_y\": 1255, \"created_at\": \"2021-04-28T00:01:15.604556\", \"activity\": \"Accessed Session 1 Recap from Intro to Game Dev with Unity repo [access:286e1a92d35::rrtGJAd2ae1e]\"}, {\"id_x\": 123, \"status\": \"A\", \"attendanceSessionId\": 8, \"userId\": 86, \"id_y\": 1254, \"created_at\": \"2021-04-27T23:58:42.649859\", \"activity\": \"Logged in\"}, {\"id_x\": 123, \"status\": \"A\", \"attendanceSessionId\": 8, \"userId\": 86, \"id_y\": 1255, \"created_at\": \"2021-04-28T00:01:15.604556\", \"activity\": \"Accessed Session 1 Recap from Intro to Game Dev with Unity repo [access:286e1a92d35::rrtGJAd2ae1e]\"}, {\"id_x\": 128, \"status\": \"A\", \"attendanceSessionId\": 7, \"userId\": 86, \"id_y\": 1254, \"created_at\": \"2021-04-27T23:58:42.649859\", \"activity\": \"Logged in\"}, {\"id_x\": 128, \"status\": \"A\", \"attendanceSessionId\": 7, \"userId\": 86, \"id_y\": 1255, \"created_at\": \"2021-04-28T00:01:15.604556\", \"activity\": \"Accessed Session 1 Recap from Intro to Game Dev with Unity repo [access:286e1a92d35::rrtGJAd2ae1e]\"}, {\"id_x\": 132, \"status\": \"A\", \"attendanceSessionId\": 6, \"userId\": 86, \"id_y\": 1254, \"created_at\": \"2021-04-27T23:58:42.649859\", \"activity\": \"Logged in\"}, {\"id_x\": 132, \"status\": \"A\", \"attendanceSessionId\": 6, \"userId\": 86, \"id_y\": 1255, \"created_at\": \"2021-04-28T00:01:15.604556\", \"activity\": \"Accessed Session 1 Recap from Intro to Game Dev with Unity repo [access:286e1a92d35::rrtGJAd2ae1e]\"}, {\"id_x\": 136, \"status\": \"A\", \"attendanceSessionId\": 5, \"userId\": 86, \"id_y\": 1254, \"created_at\": \"2021-04-27T23:58:42.649859\", \"activity\": \"Logged in\"}, {\"id_x\": 136, \"status\": \"A\", \"attendanceSessionId\": 5, \"userId\": 86, \"id_y\": 1255, \"created_at\": \"2021-04-28T00:01:15.604556\", \"activity\": \"Accessed Session 1 Recap from Intro to Game Dev with Unity repo [access:286e1a92d35::rrtGJAd2ae1e]\"}, {\"id_x\": 144, \"status\": \"A\", \"attendanceSessionId\": 9, \"userId\": 86, \"id_y\": 1254, \"created_at\": \"2021-04-27T23:58:42.649859\", \"activity\": \"Logged in\"}, {\"id_x\": 144, \"status\": \"A\", \"attendanceSessionId\": 9, \"userId\": 86, \"id_y\": 1255, \"created_at\": \"2021-04-28T00:01:15.604556\", \"activity\": \"Accessed Session 1 Recap from Intro to Game Dev with Unity repo [access:286e1a92d35::rrtGJAd2ae1e]\"}, {\"id_x\": 36, \"status\": \"P\", \"attendanceSessionId\": 1, \"userId\": 91, \"id_y\": 1074, \"created_at\": \"2021-03-30T18:04:52.015387\", \"activity\": \"Logged in\"}, {\"id_x\": 36, \"status\": \"P\", \"attendanceSessionId\": 1, \"userId\": 91, \"id_y\": 1076, \"created_at\": \"2021-03-30T18:07:55.326801\", \"activity\": \"Accessed Session 5 - Assets from Intro to Game Dev with Unity repo [access:141012aa424::rrtGJAd2ae1e]\"}, {\"id_x\": 36, \"status\": \"P\", \"attendanceSessionId\": 1, \"userId\": 91, \"id_y\": 1078, \"created_at\": \"2021-03-30T18:09:31.592358\", \"activity\": \"Accessed Session 5 - Starter Files from Intro to Game Dev with Unity repo [access:3aadbfd9eca::rrtGJAd2ae1e]\"}, {\"id_x\": 36, \"status\": \"P\", \"attendanceSessionId\": 1, \"userId\": 91, \"id_y\": 1087, \"created_at\": \"2021-03-30T18:18:19.607782\", \"activity\": \"Accessed Session 5 - Starter Files from Intro to Game Dev with Unity repo [access:3aadbfd9eca::rrtGJAd2ae1e]\"}, {\"id_x\": 40, \"status\": \"P\", \"attendanceSessionId\": 2, \"userId\": 91, \"id_y\": 1074, \"created_at\": \"2021-03-30T18:04:52.015387\", \"activity\": \"Logged in\"}, {\"id_x\": 40, \"status\": \"P\", \"attendanceSessionId\": 2, \"userId\": 91, \"id_y\": 1076, \"created_at\": \"2021-03-30T18:07:55.326801\", \"activity\": \"Accessed Session 5 - Assets from Intro to Game Dev with Unity repo [access:141012aa424::rrtGJAd2ae1e]\"}, {\"id_x\": 40, \"status\": \"P\", \"attendanceSessionId\": 2, \"userId\": 91, \"id_y\": 1078, \"created_at\": \"2021-03-30T18:09:31.592358\", \"activity\": \"Accessed Session 5 - Starter Files from Intro to Game Dev with Unity repo [access:3aadbfd9eca::rrtGJAd2ae1e]\"}, {\"id_x\": 40, \"status\": \"P\", \"attendanceSessionId\": 2, \"userId\": 91, \"id_y\": 1087, \"created_at\": \"2021-03-30T18:18:19.607782\", \"activity\": \"Accessed Session 5 - Starter Files from Intro to Game Dev with Unity repo [access:3aadbfd9eca::rrtGJAd2ae1e]\"}, {\"id_x\": 65, \"status\": \"P\", \"attendanceSessionId\": 3, \"userId\": 91, \"id_y\": 1074, \"created_at\": \"2021-03-30T18:04:52.015387\", \"activity\": \"Logged in\"}, {\"id_x\": 65, \"status\": \"P\", \"attendanceSessionId\": 3, \"userId\": 91, \"id_y\": 1076, \"created_at\": \"2021-03-30T18:07:55.326801\", \"activity\": \"Accessed Session 5 - Assets from Intro to Game Dev with Unity repo [access:141012aa424::rrtGJAd2ae1e]\"}, {\"id_x\": 65, \"status\": \"P\", \"attendanceSessionId\": 3, \"userId\": 91, \"id_y\": 1078, \"created_at\": \"2021-03-30T18:09:31.592358\", \"activity\": \"Accessed Session 5 - Starter Files from Intro to Game Dev with Unity repo [access:3aadbfd9eca::rrtGJAd2ae1e]\"}, {\"id_x\": 65, \"status\": \"P\", \"attendanceSessionId\": 3, \"userId\": 91, \"id_y\": 1087, \"created_at\": \"2021-03-30T18:18:19.607782\", \"activity\": \"Accessed Session 5 - Starter Files from Intro to Game Dev with Unity repo [access:3aadbfd9eca::rrtGJAd2ae1e]\"}, {\"id_x\": 81, \"status\": \"P\", \"attendanceSessionId\": 4, \"userId\": 91, \"id_y\": 1074, \"created_at\": \"2021-03-30T18:04:52.015387\", \"activity\": \"Logged in\"}, {\"id_x\": 81, \"status\": \"P\", \"attendanceSessionId\": 4, \"userId\": 91, \"id_y\": 1076, \"created_at\": \"2021-03-30T18:07:55.326801\", \"activity\": \"Accessed Session 5 - Assets from Intro to Game Dev with Unity repo [access:141012aa424::rrtGJAd2ae1e]\"}, {\"id_x\": 81, \"status\": \"P\", \"attendanceSessionId\": 4, \"userId\": 91, \"id_y\": 1078, \"created_at\": \"2021-03-30T18:09:31.592358\", \"activity\": \"Accessed Session 5 - Starter Files from Intro to Game Dev with Unity repo [access:3aadbfd9eca::rrtGJAd2ae1e]\"}, {\"id_x\": 81, \"status\": \"P\", \"attendanceSessionId\": 4, \"userId\": 91, \"id_y\": 1087, \"created_at\": \"2021-03-30T18:18:19.607782\", \"activity\": \"Accessed Session 5 - Starter Files from Intro to Game Dev with Unity repo [access:3aadbfd9eca::rrtGJAd2ae1e]\"}, {\"id_x\": 90, \"status\": \"P\", \"attendanceSessionId\": 5, \"userId\": 91, \"id_y\": 1074, \"created_at\": \"2021-03-30T18:04:52.015387\", \"activity\": \"Logged in\"}, {\"id_x\": 90, \"status\": \"P\", \"attendanceSessionId\": 5, \"userId\": 91, \"id_y\": 1076, \"created_at\": \"2021-03-30T18:07:55.326801\", \"activity\": \"Accessed Session 5 - Assets from Intro to Game Dev with Unity repo [access:141012aa424::rrtGJAd2ae1e]\"}, {\"id_x\": 90, \"status\": \"P\", \"attendanceSessionId\": 5, \"userId\": 91, \"id_y\": 1078, \"created_at\": \"2021-03-30T18:09:31.592358\", \"activity\": \"Accessed Session 5 - Starter Files from Intro to Game Dev with Unity repo [access:3aadbfd9eca::rrtGJAd2ae1e]\"}, {\"id_x\": 90, \"status\": \"P\", \"attendanceSessionId\": 5, \"userId\": 91, \"id_y\": 1087, \"created_at\": \"2021-03-30T18:18:19.607782\", \"activity\": \"Accessed Session 5 - Starter Files from Intro to Game Dev with Unity repo [access:3aadbfd9eca::rrtGJAd2ae1e]\"}, {\"id_x\": 101, \"status\": \"A\", \"attendanceSessionId\": 6, \"userId\": 91, \"id_y\": 1074, \"created_at\": \"2021-03-30T18:04:52.015387\", \"activity\": \"Logged in\"}, {\"id_x\": 101, \"status\": \"A\", \"attendanceSessionId\": 6, \"userId\": 91, \"id_y\": 1076, \"created_at\": \"2021-03-30T18:07:55.326801\", \"activity\": \"Accessed Session 5 - Assets from Intro to Game Dev with Unity repo [access:141012aa424::rrtGJAd2ae1e]\"}, {\"id_x\": 101, \"status\": \"A\", \"attendanceSessionId\": 6, \"userId\": 91, \"id_y\": 1078, \"created_at\": \"2021-03-30T18:09:31.592358\", \"activity\": \"Accessed Session 5 - Starter Files from Intro to Game Dev with Unity repo [access:3aadbfd9eca::rrtGJAd2ae1e]\"}, {\"id_x\": 101, \"status\": \"A\", \"attendanceSessionId\": 6, \"userId\": 91, \"id_y\": 1087, \"created_at\": \"2021-03-30T18:18:19.607782\", \"activity\": \"Accessed Session 5 - Starter Files from Intro to Game Dev with Unity repo [access:3aadbfd9eca::rrtGJAd2ae1e]\"}, {\"id_x\": 109, \"status\": \"A\", \"attendanceSessionId\": 7, \"userId\": 91, \"id_y\": 1074, \"created_at\": \"2021-03-30T18:04:52.015387\", \"activity\": \"Logged in\"}, {\"id_x\": 109, \"status\": \"A\", \"attendanceSessionId\": 7, \"userId\": 91, \"id_y\": 1076, \"created_at\": \"2021-03-30T18:07:55.326801\", \"activity\": \"Accessed Session 5 - Assets from Intro to Game Dev with Unity repo [access:141012aa424::rrtGJAd2ae1e]\"}, {\"id_x\": 109, \"status\": \"A\", \"attendanceSessionId\": 7, \"userId\": 91, \"id_y\": 1078, \"created_at\": \"2021-03-30T18:09:31.592358\", \"activity\": \"Accessed Session 5 - Starter Files from Intro to Game Dev with Unity repo [access:3aadbfd9eca::rrtGJAd2ae1e]\"}, {\"id_x\": 109, \"status\": \"A\", \"attendanceSessionId\": 7, \"userId\": 91, \"id_y\": 1087, \"created_at\": \"2021-03-30T18:18:19.607782\", \"activity\": \"Accessed Session 5 - Starter Files from Intro to Game Dev with Unity repo [access:3aadbfd9eca::rrtGJAd2ae1e]\"}, {\"id_x\": 119, \"status\": \"A\", \"attendanceSessionId\": 8, \"userId\": 91, \"id_y\": 1074, \"created_at\": \"2021-03-30T18:04:52.015387\", \"activity\": \"Logged in\"}, {\"id_x\": 119, \"status\": \"A\", \"attendanceSessionId\": 8, \"userId\": 91, \"id_y\": 1076, \"created_at\": \"2021-03-30T18:07:55.326801\", \"activity\": \"Accessed Session 5 - Assets from Intro to Game Dev with Unity repo [access:141012aa424::rrtGJAd2ae1e]\"}, {\"id_x\": 119, \"status\": \"A\", \"attendanceSessionId\": 8, \"userId\": 91, \"id_y\": 1078, \"created_at\": \"2021-03-30T18:09:31.592358\", \"activity\": \"Accessed Session 5 - Starter Files from Intro to Game Dev with Unity repo [access:3aadbfd9eca::rrtGJAd2ae1e]\"}, {\"id_x\": 119, \"status\": \"A\", \"attendanceSessionId\": 8, \"userId\": 91, \"id_y\": 1087, \"created_at\": \"2021-03-30T18:18:19.607782\", \"activity\": \"Accessed Session 5 - Starter Files from Intro to Game Dev with Unity repo [access:3aadbfd9eca::rrtGJAd2ae1e]\"}, {\"id_x\": 146, \"status\": \"A\", \"attendanceSessionId\": 9, \"userId\": 91, \"id_y\": 1074, \"created_at\": \"2021-03-30T18:04:52.015387\", \"activity\": \"Logged in\"}, {\"id_x\": 146, \"status\": \"A\", \"attendanceSessionId\": 9, \"userId\": 91, \"id_y\": 1076, \"created_at\": \"2021-03-30T18:07:55.326801\", \"activity\": \"Accessed Session 5 - Assets from Intro to Game Dev with Unity repo [access:141012aa424::rrtGJAd2ae1e]\"}, {\"id_x\": 146, \"status\": \"A\", \"attendanceSessionId\": 9, \"userId\": 91, \"id_y\": 1078, \"created_at\": \"2021-03-30T18:09:31.592358\", \"activity\": \"Accessed Session 5 - Starter Files from Intro to Game Dev with Unity repo [access:3aadbfd9eca::rrtGJAd2ae1e]\"}, {\"id_x\": 146, \"status\": \"A\", \"attendanceSessionId\": 9, \"userId\": 91, \"id_y\": 1087, \"created_at\": \"2021-03-30T18:18:19.607782\", \"activity\": \"Accessed Session 5 - Starter Files from Intro to Game Dev with Unity repo [access:3aadbfd9eca::rrtGJAd2ae1e]\"}, {\"id_x\": 38, \"status\": \"P\", \"attendanceSessionId\": 1, \"userId\": 105, \"id_y\": 1053, \"created_at\": \"2021-03-30T00:57:09.335995\", \"activity\": \"Logged in\"}, {\"id_x\": 38, \"status\": \"P\", \"attendanceSessionId\": 1, \"userId\": 105, \"id_y\": 1054, \"created_at\": \"2021-03-30T00:57:38.001199\", \"activity\": \"Accessed Session 2 Recap from Intro to Game Dev with Unity repo [access:918a4f912a1::rrtGJAd2ae1e]\"}, {\"id_x\": 38, \"status\": \"P\", \"attendanceSessionId\": 1, \"userId\": 105, \"id_y\": 1055, \"created_at\": \"2021-03-30T00:59:20.249200\", \"activity\": \"Accessed Session 2 - Starter Files from Intro to Game Dev with Unity repo [access:1a82c08473b::rrtGJAd2ae1e]\"}, {\"id_x\": 38, \"status\": \"P\", \"attendanceSessionId\": 1, \"userId\": 105, \"id_y\": 1056, \"created_at\": \"2021-03-30T01:03:37.357770\", \"activity\": \"Accessed Session 3 Recap from Intro to Game Dev with Unity repo [access:5b3cf9ac46f::rrtGJAd2ae1e]\"}, {\"id_x\": 38, \"status\": \"P\", \"attendanceSessionId\": 1, \"userId\": 105, \"id_y\": 1057, \"created_at\": \"2021-03-30T01:05:27.190829\", \"activity\": \"Accessed Session 3 - Starter Files from Intro to Game Dev with Unity repo [access:dd9df1d2f3c::rrtGJAd2ae1e]\"}, {\"id_x\": 38, \"status\": \"P\", \"attendanceSessionId\": 1, \"userId\": 105, \"id_y\": 1067, \"created_at\": \"2021-03-30T17:59:33.767625\", \"activity\": \"Logged in\"}, {\"id_x\": 38, \"status\": \"P\", \"attendanceSessionId\": 1, \"userId\": 105, \"id_y\": 1069, \"created_at\": \"2021-03-30T17:59:53.210727\", \"activity\": \"Accessed Session 5 - Starter Files from Intro to Game Dev with Unity repo [access:3aadbfd9eca::rrtGJAd2ae1e]\"}, {\"id_x\": 38, \"status\": \"P\", \"attendanceSessionId\": 1, \"userId\": 105, \"id_y\": 1079, \"created_at\": \"2021-03-30T18:09:39.721036\", \"activity\": \"Accessed Session 5 - Assets from Intro to Game Dev with Unity repo [access:141012aa424::rrtGJAd2ae1e]\"}, {\"id_x\": 38, \"status\": \"P\", \"attendanceSessionId\": 1, \"userId\": 105, \"id_y\": 1104, \"created_at\": \"2021-04-06T18:01:06.629578\", \"activity\": \"Logged in\"}, {\"id_x\": 38, \"status\": \"P\", \"attendanceSessionId\": 1, \"userId\": 105, \"id_y\": 1105, \"created_at\": \"2021-04-06T18:01:23.979038\", \"activity\": \"Accessed Session 6 - Starter Files from Intro to Game Dev with Unity repo [access:4ff849da461::rrtGJAd2ae1e]\"}, {\"id_x\": 38, \"status\": \"P\", \"attendanceSessionId\": 1, \"userId\": 105, \"id_y\": 1335, \"created_at\": \"2021-06-20T07:06:32.567141\", \"activity\": \"Logged in\"}, {\"id_x\": 38, \"status\": \"P\", \"attendanceSessionId\": 1, \"userId\": 105, \"id_y\": 1336, \"created_at\": \"2021-06-20T07:06:49.647529\", \"activity\": \"Logged in\"}, {\"id_x\": 38, \"status\": \"P\", \"attendanceSessionId\": 1, \"userId\": 105, \"id_y\": 1337, \"created_at\": \"2021-06-20T07:07:43.799042\", \"activity\": \"Logged in\"}, {\"id_x\": 38, \"status\": \"P\", \"attendanceSessionId\": 1, \"userId\": 105, \"id_y\": 1338, \"created_at\": \"2021-06-20T07:13:00.290661\", \"activity\": \"Enrolled onto Programming Fundamentals\"}, {\"id_x\": 38, \"status\": \"P\", \"attendanceSessionId\": 1, \"userId\": 105, \"id_y\": 1368, \"created_at\": \"2021-07-03T09:33:14.122040\", \"activity\": \"Logged in\"}, {\"id_x\": 38, \"status\": \"P\", \"attendanceSessionId\": 1, \"userId\": 105, \"id_y\": 1371, \"created_at\": \"2021-07-03T15:58:31.372176\", \"activity\": \"Logged in\"}, {\"id_x\": 38, \"status\": \"P\", \"attendanceSessionId\": 1, \"userId\": 105, \"id_y\": 1418, \"created_at\": \"2021-07-12T23:06:57.752825\", \"activity\": \"Logged in\"}, {\"id_x\": 45, \"status\": \"P\", \"attendanceSessionId\": 2, \"userId\": 105, \"id_y\": 1053, \"created_at\": \"2021-03-30T00:57:09.335995\", \"activity\": \"Logged in\"}, {\"id_x\": 45, \"status\": \"P\", \"attendanceSessionId\": 2, \"userId\": 105, \"id_y\": 1054, \"created_at\": \"2021-03-30T00:57:38.001199\", \"activity\": \"Accessed Session 2 Recap from Intro to Game Dev with Unity repo [access:918a4f912a1::rrtGJAd2ae1e]\"}, {\"id_x\": 45, \"status\": \"P\", \"attendanceSessionId\": 2, \"userId\": 105, \"id_y\": 1055, \"created_at\": \"2021-03-30T00:59:20.249200\", \"activity\": \"Accessed Session 2 - Starter Files from Intro to Game Dev with Unity repo [access:1a82c08473b::rrtGJAd2ae1e]\"}, {\"id_x\": 45, \"status\": \"P\", \"attendanceSessionId\": 2, \"userId\": 105, \"id_y\": 1056, \"created_at\": \"2021-03-30T01:03:37.357770\", \"activity\": \"Accessed Session 3 Recap from Intro to Game Dev with Unity repo [access:5b3cf9ac46f::rrtGJAd2ae1e]\"}, {\"id_x\": 45, \"status\": \"P\", \"attendanceSessionId\": 2, \"userId\": 105, \"id_y\": 1057, \"created_at\": \"2021-03-30T01:05:27.190829\", \"activity\": \"Accessed Session 3 - Starter Files from Intro to Game Dev with Unity repo [access:dd9df1d2f3c::rrtGJAd2ae1e]\"}, {\"id_x\": 45, \"status\": \"P\", \"attendanceSessionId\": 2, \"userId\": 105, \"id_y\": 1067, \"created_at\": \"2021-03-30T17:59:33.767625\", \"activity\": \"Logged in\"}, {\"id_x\": 45, \"status\": \"P\", \"attendanceSessionId\": 2, \"userId\": 105, \"id_y\": 1069, \"created_at\": \"2021-03-30T17:59:53.210727\", \"activity\": \"Accessed Session 5 - Starter Files from Intro to Game Dev with Unity repo [access:3aadbfd9eca::rrtGJAd2ae1e]\"}, {\"id_x\": 45, \"status\": \"P\", \"attendanceSessionId\": 2, \"userId\": 105, \"id_y\": 1079, \"created_at\": \"2021-03-30T18:09:39.721036\", \"activity\": \"Accessed Session 5 - Assets from Intro to Game Dev with Unity repo [access:141012aa424::rrtGJAd2ae1e]\"}, {\"id_x\": 45, \"status\": \"P\", \"attendanceSessionId\": 2, \"userId\": 105, \"id_y\": 1104, \"created_at\": \"2021-04-06T18:01:06.629578\", \"activity\": \"Logged in\"}, {\"id_x\": 45, \"status\": \"P\", \"attendanceSessionId\": 2, \"userId\": 105, \"id_y\": 1105, \"created_at\": \"2021-04-06T18:01:23.979038\", \"activity\": \"Accessed Session 6 - Starter Files from Intro to Game Dev with Unity repo [access:4ff849da461::rrtGJAd2ae1e]\"}, {\"id_x\": 45, \"status\": \"P\", \"attendanceSessionId\": 2, \"userId\": 105, \"id_y\": 1335, \"created_at\": \"2021-06-20T07:06:32.567141\", \"activity\": \"Logged in\"}, {\"id_x\": 45, \"status\": \"P\", \"attendanceSessionId\": 2, \"userId\": 105, \"id_y\": 1336, \"created_at\": \"2021-06-20T07:06:49.647529\", \"activity\": \"Logged in\"}, {\"id_x\": 45, \"status\": \"P\", \"attendanceSessionId\": 2, \"userId\": 105, \"id_y\": 1337, \"created_at\": \"2021-06-20T07:07:43.799042\", \"activity\": \"Logged in\"}, {\"id_x\": 45, \"status\": \"P\", \"attendanceSessionId\": 2, \"userId\": 105, \"id_y\": 1338, \"created_at\": \"2021-06-20T07:13:00.290661\", \"activity\": \"Enrolled onto Programming Fundamentals\"}, {\"id_x\": 45, \"status\": \"P\", \"attendanceSessionId\": 2, \"userId\": 105, \"id_y\": 1368, \"created_at\": \"2021-07-03T09:33:14.122040\", \"activity\": \"Logged in\"}, {\"id_x\": 45, \"status\": \"P\", \"attendanceSessionId\": 2, \"userId\": 105, \"id_y\": 1371, \"created_at\": \"2021-07-03T15:58:31.372176\", \"activity\": \"Logged in\"}, {\"id_x\": 45, \"status\": \"P\", \"attendanceSessionId\": 2, \"userId\": 105, \"id_y\": 1418, \"created_at\": \"2021-07-12T23:06:57.752825\", \"activity\": \"Logged in\"}, {\"id_x\": 61, \"status\": \"P\", \"attendanceSessionId\": 3, \"userId\": 105, \"id_y\": 1053, \"created_at\": \"2021-03-30T00:57:09.335995\", \"activity\": \"Logged in\"}, {\"id_x\": 61, \"status\": \"P\", \"attendanceSessionId\": 3, \"userId\": 105, \"id_y\": 1054, \"created_at\": \"2021-03-30T00:57:38.001199\", \"activity\": \"Accessed Session 2 Recap from Intro to Game Dev with Unity repo [access:918a4f912a1::rrtGJAd2ae1e]\"}, {\"id_x\": 61, \"status\": \"P\", \"attendanceSessionId\": 3, \"userId\": 105, \"id_y\": 1055, \"created_at\": \"2021-03-30T00:59:20.249200\", \"activity\": \"Accessed Session 2 - Starter Files from Intro to Game Dev with Unity repo [access:1a82c08473b::rrtGJAd2ae1e]\"}, {\"id_x\": 61, \"status\": \"P\", \"attendanceSessionId\": 3, \"userId\": 105, \"id_y\": 1056, \"created_at\": \"2021-03-30T01:03:37.357770\", \"activity\": \"Accessed Session 3 Recap from Intro to Game Dev with Unity repo [access:5b3cf9ac46f::rrtGJAd2ae1e]\"}, {\"id_x\": 61, \"status\": \"P\", \"attendanceSessionId\": 3, \"userId\": 105, \"id_y\": 1057, \"created_at\": \"2021-03-30T01:05:27.190829\", \"activity\": \"Accessed Session 3 - Starter Files from Intro to Game Dev with Unity repo [access:dd9df1d2f3c::rrtGJAd2ae1e]\"}, {\"id_x\": 61, \"status\": \"P\", \"attendanceSessionId\": 3, \"userId\": 105, \"id_y\": 1067, \"created_at\": \"2021-03-30T17:59:33.767625\", \"activity\": \"Logged in\"}, {\"id_x\": 61, \"status\": \"P\", \"attendanceSessionId\": 3, \"userId\": 105, \"id_y\": 1069, \"created_at\": \"2021-03-30T17:59:53.210727\", \"activity\": \"Accessed Session 5 - Starter Files from Intro to Game Dev with Unity repo [access:3aadbfd9eca::rrtGJAd2ae1e]\"}, {\"id_x\": 61, \"status\": \"P\", \"attendanceSessionId\": 3, \"userId\": 105, \"id_y\": 1079, \"created_at\": \"2021-03-30T18:09:39.721036\", \"activity\": \"Accessed Session 5 - Assets from Intro to Game Dev with Unity repo [access:141012aa424::rrtGJAd2ae1e]\"}, {\"id_x\": 61, \"status\": \"P\", \"attendanceSessionId\": 3, \"userId\": 105, \"id_y\": 1104, \"created_at\": \"2021-04-06T18:01:06.629578\", \"activity\": \"Logged in\"}, {\"id_x\": 61, \"status\": \"P\", \"attendanceSessionId\": 3, \"userId\": 105, \"id_y\": 1105, \"created_at\": \"2021-04-06T18:01:23.979038\", \"activity\": \"Accessed Session 6 - Starter Files from Intro to Game Dev with Unity repo [access:4ff849da461::rrtGJAd2ae1e]\"}, {\"id_x\": 61, \"status\": \"P\", \"attendanceSessionId\": 3, \"userId\": 105, \"id_y\": 1335, \"created_at\": \"2021-06-20T07:06:32.567141\", \"activity\": \"Logged in\"}, {\"id_x\": 61, \"status\": \"P\", \"attendanceSessionId\": 3, \"userId\": 105, \"id_y\": 1336, \"created_at\": \"2021-06-20T07:06:49.647529\", \"activity\": \"Logged in\"}, {\"id_x\": 61, \"status\": \"P\", \"attendanceSessionId\": 3, \"userId\": 105, \"id_y\": 1337, \"created_at\": \"2021-06-20T07:07:43.799042\", \"activity\": \"Logged in\"}, {\"id_x\": 61, \"status\": \"P\", \"attendanceSessionId\": 3, \"userId\": 105, \"id_y\": 1338, \"created_at\": \"2021-06-20T07:13:00.290661\", \"activity\": \"Enrolled onto Programming Fundamentals\"}, {\"id_x\": 61, \"status\": \"P\", \"attendanceSessionId\": 3, \"userId\": 105, \"id_y\": 1368, \"created_at\": \"2021-07-03T09:33:14.122040\", \"activity\": \"Logged in\"}, {\"id_x\": 61, \"status\": \"P\", \"attendanceSessionId\": 3, \"userId\": 105, \"id_y\": 1371, \"created_at\": \"2021-07-03T15:58:31.372176\", \"activity\": \"Logged in\"}, {\"id_x\": 61, \"status\": \"P\", \"attendanceSessionId\": 3, \"userId\": 105, \"id_y\": 1418, \"created_at\": \"2021-07-12T23:06:57.752825\", \"activity\": \"Logged in\"}, {\"id_x\": 83, \"status\": \"I\", \"attendanceSessionId\": 4, \"userId\": 105, \"id_y\": 1053, \"created_at\": \"2021-03-30T00:57:09.335995\", \"activity\": \"Logged in\"}, {\"id_x\": 83, \"status\": \"I\", \"attendanceSessionId\": 4, \"userId\": 105, \"id_y\": 1054, \"created_at\": \"2021-03-30T00:57:38.001199\", \"activity\": \"Accessed Session 2 Recap from Intro to Game Dev with Unity repo [access:918a4f912a1::rrtGJAd2ae1e]\"}, {\"id_x\": 83, \"status\": \"I\", \"attendanceSessionId\": 4, \"userId\": 105, \"id_y\": 1055, \"created_at\": \"2021-03-30T00:59:20.249200\", \"activity\": \"Accessed Session 2 - Starter Files from Intro to Game Dev with Unity repo [access:1a82c08473b::rrtGJAd2ae1e]\"}, {\"id_x\": 83, \"status\": \"I\", \"attendanceSessionId\": 4, \"userId\": 105, \"id_y\": 1056, \"created_at\": \"2021-03-30T01:03:37.357770\", \"activity\": \"Accessed Session 3 Recap from Intro to Game Dev with Unity repo [access:5b3cf9ac46f::rrtGJAd2ae1e]\"}, {\"id_x\": 83, \"status\": \"I\", \"attendanceSessionId\": 4, \"userId\": 105, \"id_y\": 1057, \"created_at\": \"2021-03-30T01:05:27.190829\", \"activity\": \"Accessed Session 3 - Starter Files from Intro to Game Dev with Unity repo [access:dd9df1d2f3c::rrtGJAd2ae1e]\"}, {\"id_x\": 83, \"status\": \"I\", \"attendanceSessionId\": 4, \"userId\": 105, \"id_y\": 1067, \"created_at\": \"2021-03-30T17:59:33.767625\", \"activity\": \"Logged in\"}, {\"id_x\": 83, \"status\": \"I\", \"attendanceSessionId\": 4, \"userId\": 105, \"id_y\": 1069, \"created_at\": \"2021-03-30T17:59:53.210727\", \"activity\": \"Accessed Session 5 - Starter Files from Intro to Game Dev with Unity repo [access:3aadbfd9eca::rrtGJAd2ae1e]\"}, {\"id_x\": 83, \"status\": \"I\", \"attendanceSessionId\": 4, \"userId\": 105, \"id_y\": 1079, \"created_at\": \"2021-03-30T18:09:39.721036\", \"activity\": \"Accessed Session 5 - Assets from Intro to Game Dev with Unity repo [access:141012aa424::rrtGJAd2ae1e]\"}, {\"id_x\": 83, \"status\": \"I\", \"attendanceSessionId\": 4, \"userId\": 105, \"id_y\": 1104, \"created_at\": \"2021-04-06T18:01:06.629578\", \"activity\": \"Logged in\"}, {\"id_x\": 83, \"status\": \"I\", \"attendanceSessionId\": 4, \"userId\": 105, \"id_y\": 1105, \"created_at\": \"2021-04-06T18:01:23.979038\", \"activity\": \"Accessed Session 6 - Starter Files from Intro to Game Dev with Unity repo [access:4ff849da461::rrtGJAd2ae1e]\"}, {\"id_x\": 83, \"status\": \"I\", \"attendanceSessionId\": 4, \"userId\": 105, \"id_y\": 1335, \"created_at\": \"2021-06-20T07:06:32.567141\", \"activity\": \"Logged in\"}, {\"id_x\": 83, \"status\": \"I\", \"attendanceSessionId\": 4, \"userId\": 105, \"id_y\": 1336, \"created_at\": \"2021-06-20T07:06:49.647529\", \"activity\": \"Logged in\"}, {\"id_x\": 83, \"status\": \"I\", \"attendanceSessionId\": 4, \"userId\": 105, \"id_y\": 1337, \"created_at\": \"2021-06-20T07:07:43.799042\", \"activity\": \"Logged in\"}, {\"id_x\": 83, \"status\": \"I\", \"attendanceSessionId\": 4, \"userId\": 105, \"id_y\": 1338, \"created_at\": \"2021-06-20T07:13:00.290661\", \"activity\": \"Enrolled onto Programming Fundamentals\"}, {\"id_x\": 83, \"status\": \"I\", \"attendanceSessionId\": 4, \"userId\": 105, \"id_y\": 1368, \"created_at\": \"2021-07-03T09:33:14.122040\", \"activity\": \"Logged in\"}, {\"id_x\": 83, \"status\": \"I\", \"attendanceSessionId\": 4, \"userId\": 105, \"id_y\": 1371, \"created_at\": \"2021-07-03T15:58:31.372176\", \"activity\": \"Logged in\"}, {\"id_x\": 83, \"status\": \"I\", \"attendanceSessionId\": 4, \"userId\": 105, \"id_y\": 1418, \"created_at\": \"2021-07-12T23:06:57.752825\", \"activity\": \"Logged in\"}, {\"id_x\": 91, \"status\": \"P\", \"attendanceSessionId\": 5, \"userId\": 105, \"id_y\": 1053, \"created_at\": \"2021-03-30T00:57:09.335995\", \"activity\": \"Logged in\"}, {\"id_x\": 91, \"status\": \"P\", \"attendanceSessionId\": 5, \"userId\": 105, \"id_y\": 1054, \"created_at\": \"2021-03-30T00:57:38.001199\", \"activity\": \"Accessed Session 2 Recap from Intro to Game Dev with Unity repo [access:918a4f912a1::rrtGJAd2ae1e]\"}, {\"id_x\": 91, \"status\": \"P\", \"attendanceSessionId\": 5, \"userId\": 105, \"id_y\": 1055, \"created_at\": \"2021-03-30T00:59:20.249200\", \"activity\": \"Accessed Session 2 - Starter Files from Intro to Game Dev with Unity repo [access:1a82c08473b::rrtGJAd2ae1e]\"}, {\"id_x\": 91, \"status\": \"P\", \"attendanceSessionId\": 5, \"userId\": 105, \"id_y\": 1056, \"created_at\": \"2021-03-30T01:03:37.357770\", \"activity\": \"Accessed Session 3 Recap from Intro to Game Dev with Unity repo [access:5b3cf9ac46f::rrtGJAd2ae1e]\"}, {\"id_x\": 91, \"status\": \"P\", \"attendanceSessionId\": 5, \"userId\": 105, \"id_y\": 1057, \"created_at\": \"2021-03-30T01:05:27.190829\", \"activity\": \"Accessed Session 3 - Starter Files from Intro to Game Dev with Unity repo [access:dd9df1d2f3c::rrtGJAd2ae1e]\"}, {\"id_x\": 91, \"status\": \"P\", \"attendanceSessionId\": 5, \"userId\": 105, \"id_y\": 1067, \"created_at\": \"2021-03-30T17:59:33.767625\", \"activity\": \"Logged in\"}, {\"id_x\": 91, \"status\": \"P\", \"attendanceSessionId\": 5, \"userId\": 105, \"id_y\": 1069, \"created_at\": \"2021-03-30T17:59:53.210727\", \"activity\": \"Accessed Session 5 - Starter Files from Intro to Game Dev with Unity repo [access:3aadbfd9eca::rrtGJAd2ae1e]\"}, {\"id_x\": 91, \"status\": \"P\", \"attendanceSessionId\": 5, \"userId\": 105, \"id_y\": 1079, \"created_at\": \"2021-03-30T18:09:39.721036\", \"activity\": \"Accessed Session 5 - Assets from Intro to Game Dev with Unity repo [access:141012aa424::rrtGJAd2ae1e]\"}, {\"id_x\": 91, \"status\": \"P\", \"attendanceSessionId\": 5, \"userId\": 105, \"id_y\": 1104, \"created_at\": \"2021-04-06T18:01:06.629578\", \"activity\": \"Logged in\"}, {\"id_x\": 91, \"status\": \"P\", \"attendanceSessionId\": 5, \"userId\": 105, \"id_y\": 1105, \"created_at\": \"2021-04-06T18:01:23.979038\", \"activity\": \"Accessed Session 6 - Starter Files from Intro to Game Dev with Unity repo [access:4ff849da461::rrtGJAd2ae1e]\"}, {\"id_x\": 91, \"status\": \"P\", \"attendanceSessionId\": 5, \"userId\": 105, \"id_y\": 1335, \"created_at\": \"2021-06-20T07:06:32.567141\", \"activity\": \"Logged in\"}, {\"id_x\": 91, \"status\": \"P\", \"attendanceSessionId\": 5, \"userId\": 105, \"id_y\": 1336, \"created_at\": \"2021-06-20T07:06:49.647529\", \"activity\": \"Logged in\"}, {\"id_x\": 91, \"status\": \"P\", \"attendanceSessionId\": 5, \"userId\": 105, \"id_y\": 1337, \"created_at\": \"2021-06-20T07:07:43.799042\", \"activity\": \"Logged in\"}, {\"id_x\": 91, \"status\": \"P\", \"attendanceSessionId\": 5, \"userId\": 105, \"id_y\": 1338, \"created_at\": \"2021-06-20T07:13:00.290661\", \"activity\": \"Enrolled onto Programming Fundamentals\"}, {\"id_x\": 91, \"status\": \"P\", \"attendanceSessionId\": 5, \"userId\": 105, \"id_y\": 1368, \"created_at\": \"2021-07-03T09:33:14.122040\", \"activity\": \"Logged in\"}, {\"id_x\": 91, \"status\": \"P\", \"attendanceSessionId\": 5, \"userId\": 105, \"id_y\": 1371, \"created_at\": \"2021-07-03T15:58:31.372176\", \"activity\": \"Logged in\"}, {\"id_x\": 91, \"status\": \"P\", \"attendanceSessionId\": 5, \"userId\": 105, \"id_y\": 1418, \"created_at\": \"2021-07-12T23:06:57.752825\", \"activity\": \"Logged in\"}, {\"id_x\": 95, \"status\": \"P\", \"attendanceSessionId\": 6, \"userId\": 105, \"id_y\": 1053, \"created_at\": \"2021-03-30T00:57:09.335995\", \"activity\": \"Logged in\"}, {\"id_x\": 95, \"status\": \"P\", \"attendanceSessionId\": 6, \"userId\": 105, \"id_y\": 1054, \"created_at\": \"2021-03-30T00:57:38.001199\", \"activity\": \"Accessed Session 2 Recap from Intro to Game Dev with Unity repo [access:918a4f912a1::rrtGJAd2ae1e]\"}, {\"id_x\": 95, \"status\": \"P\", \"attendanceSessionId\": 6, \"userId\": 105, \"id_y\": 1055, \"created_at\": \"2021-03-30T00:59:20.249200\", \"activity\": \"Accessed Session 2 - Starter Files from Intro to Game Dev with Unity repo [access:1a82c08473b::rrtGJAd2ae1e]\"}, {\"id_x\": 95, \"status\": \"P\", \"attendanceSessionId\": 6, \"userId\": 105, \"id_y\": 1056, \"created_at\": \"2021-03-30T01:03:37.357770\", \"activity\": \"Accessed Session 3 Recap from Intro to Game Dev with Unity repo [access:5b3cf9ac46f::rrtGJAd2ae1e]\"}, {\"id_x\": 95, \"status\": \"P\", \"attendanceSessionId\": 6, \"userId\": 105, \"id_y\": 1057, \"created_at\": \"2021-03-30T01:05:27.190829\", \"activity\": \"Accessed Session 3 - Starter Files from Intro to Game Dev with Unity repo [access:dd9df1d2f3c::rrtGJAd2ae1e]\"}, {\"id_x\": 95, \"status\": \"P\", \"attendanceSessionId\": 6, \"userId\": 105, \"id_y\": 1067, \"created_at\": \"2021-03-30T17:59:33.767625\", \"activity\": \"Logged in\"}, {\"id_x\": 95, \"status\": \"P\", \"attendanceSessionId\": 6, \"userId\": 105, \"id_y\": 1069, \"created_at\": \"2021-03-30T17:59:53.210727\", \"activity\": \"Accessed Session 5 - Starter Files from Intro to Game Dev with Unity repo [access:3aadbfd9eca::rrtGJAd2ae1e]\"}, {\"id_x\": 95, \"status\": \"P\", \"attendanceSessionId\": 6, \"userId\": 105, \"id_y\": 1079, \"created_at\": \"2021-03-30T18:09:39.721036\", \"activity\": \"Accessed Session 5 - Assets from Intro to Game Dev with Unity repo [access:141012aa424::rrtGJAd2ae1e]\"}, {\"id_x\": 95, \"status\": \"P\", \"attendanceSessionId\": 6, \"userId\": 105, \"id_y\": 1104, \"created_at\": \"2021-04-06T18:01:06.629578\", \"activity\": \"Logged in\"}, {\"id_x\": 95, \"status\": \"P\", \"attendanceSessionId\": 6, \"userId\": 105, \"id_y\": 1105, \"created_at\": \"2021-04-06T18:01:23.979038\", \"activity\": \"Accessed Session 6 - Starter Files from Intro to Game Dev with Unity repo [access:4ff849da461::rrtGJAd2ae1e]\"}, {\"id_x\": 95, \"status\": \"P\", \"attendanceSessionId\": 6, \"userId\": 105, \"id_y\": 1335, \"created_at\": \"2021-06-20T07:06:32.567141\", \"activity\": \"Logged in\"}, {\"id_x\": 95, \"status\": \"P\", \"attendanceSessionId\": 6, \"userId\": 105, \"id_y\": 1336, \"created_at\": \"2021-06-20T07:06:49.647529\", \"activity\": \"Logged in\"}, {\"id_x\": 95, \"status\": \"P\", \"attendanceSessionId\": 6, \"userId\": 105, \"id_y\": 1337, \"created_at\": \"2021-06-20T07:07:43.799042\", \"activity\": \"Logged in\"}, {\"id_x\": 95, \"status\": \"P\", \"attendanceSessionId\": 6, \"userId\": 105, \"id_y\": 1338, \"created_at\": \"2021-06-20T07:13:00.290661\", \"activity\": \"Enrolled onto Programming Fundamentals\"}, {\"id_x\": 95, \"status\": \"P\", \"attendanceSessionId\": 6, \"userId\": 105, \"id_y\": 1368, \"created_at\": \"2021-07-03T09:33:14.122040\", \"activity\": \"Logged in\"}, {\"id_x\": 95, \"status\": \"P\", \"attendanceSessionId\": 6, \"userId\": 105, \"id_y\": 1371, \"created_at\": \"2021-07-03T15:58:31.372176\", \"activity\": \"Logged in\"}, {\"id_x\": 95, \"status\": \"P\", \"attendanceSessionId\": 6, \"userId\": 105, \"id_y\": 1418, \"created_at\": \"2021-07-12T23:06:57.752825\", \"activity\": \"Logged in\"}, {\"id_x\": 110, \"status\": \"P\", \"attendanceSessionId\": 7, \"userId\": 105, \"id_y\": 1053, \"created_at\": \"2021-03-30T00:57:09.335995\", \"activity\": \"Logged in\"}, {\"id_x\": 110, \"status\": \"P\", \"attendanceSessionId\": 7, \"userId\": 105, \"id_y\": 1054, \"created_at\": \"2021-03-30T00:57:38.001199\", \"activity\": \"Accessed Session 2 Recap from Intro to Game Dev with Unity repo [access:918a4f912a1::rrtGJAd2ae1e]\"}, {\"id_x\": 110, \"status\": \"P\", \"attendanceSessionId\": 7, \"userId\": 105, \"id_y\": 1055, \"created_at\": \"2021-03-30T00:59:20.249200\", \"activity\": \"Accessed Session 2 - Starter Files from Intro to Game Dev with Unity repo [access:1a82c08473b::rrtGJAd2ae1e]\"}, {\"id_x\": 110, \"status\": \"P\", \"attendanceSessionId\": 7, \"userId\": 105, \"id_y\": 1056, \"created_at\": \"2021-03-30T01:03:37.357770\", \"activity\": \"Accessed Session 3 Recap from Intro to Game Dev with Unity repo [access:5b3cf9ac46f::rrtGJAd2ae1e]\"}, {\"id_x\": 110, \"status\": \"P\", \"attendanceSessionId\": 7, \"userId\": 105, \"id_y\": 1057, \"created_at\": \"2021-03-30T01:05:27.190829\", \"activity\": \"Accessed Session 3 - Starter Files from Intro to Game Dev with Unity repo [access:dd9df1d2f3c::rrtGJAd2ae1e]\"}, {\"id_x\": 110, \"status\": \"P\", \"attendanceSessionId\": 7, \"userId\": 105, \"id_y\": 1067, \"created_at\": \"2021-03-30T17:59:33.767625\", \"activity\": \"Logged in\"}, {\"id_x\": 110, \"status\": \"P\", \"attendanceSessionId\": 7, \"userId\": 105, \"id_y\": 1069, \"created_at\": \"2021-03-30T17:59:53.210727\", \"activity\": \"Accessed Session 5 - Starter Files from Intro to Game Dev with Unity repo [access:3aadbfd9eca::rrtGJAd2ae1e]\"}, {\"id_x\": 110, \"status\": \"P\", \"attendanceSessionId\": 7, \"userId\": 105, \"id_y\": 1079, \"created_at\": \"2021-03-30T18:09:39.721036\", \"activity\": \"Accessed Session 5 - Assets from Intro to Game Dev with Unity repo [access:141012aa424::rrtGJAd2ae1e]\"}, {\"id_x\": 110, \"status\": \"P\", \"attendanceSessionId\": 7, \"userId\": 105, \"id_y\": 1104, \"created_at\": \"2021-04-06T18:01:06.629578\", \"activity\": \"Logged in\"}, {\"id_x\": 110, \"status\": \"P\", \"attendanceSessionId\": 7, \"userId\": 105, \"id_y\": 1105, \"created_at\": \"2021-04-06T18:01:23.979038\", \"activity\": \"Accessed Session 6 - Starter Files from Intro to Game Dev with Unity repo [access:4ff849da461::rrtGJAd2ae1e]\"}, {\"id_x\": 110, \"status\": \"P\", \"attendanceSessionId\": 7, \"userId\": 105, \"id_y\": 1335, \"created_at\": \"2021-06-20T07:06:32.567141\", \"activity\": \"Logged in\"}, {\"id_x\": 110, \"status\": \"P\", \"attendanceSessionId\": 7, \"userId\": 105, \"id_y\": 1336, \"created_at\": \"2021-06-20T07:06:49.647529\", \"activity\": \"Logged in\"}, {\"id_x\": 110, \"status\": \"P\", \"attendanceSessionId\": 7, \"userId\": 105, \"id_y\": 1337, \"created_at\": \"2021-06-20T07:07:43.799042\", \"activity\": \"Logged in\"}, {\"id_x\": 110, \"status\": \"P\", \"attendanceSessionId\": 7, \"userId\": 105, \"id_y\": 1338, \"created_at\": \"2021-06-20T07:13:00.290661\", \"activity\": \"Enrolled onto Programming Fundamentals\"}, {\"id_x\": 110, \"status\": \"P\", \"attendanceSessionId\": 7, \"userId\": 105, \"id_y\": 1368, \"created_at\": \"2021-07-03T09:33:14.122040\", \"activity\": \"Logged in\"}, {\"id_x\": 110, \"status\": \"P\", \"attendanceSessionId\": 7, \"userId\": 105, \"id_y\": 1371, \"created_at\": \"2021-07-03T15:58:31.372176\", \"activity\": \"Logged in\"}, {\"id_x\": 110, \"status\": \"P\", \"attendanceSessionId\": 7, \"userId\": 105, \"id_y\": 1418, \"created_at\": \"2021-07-12T23:06:57.752825\", \"activity\": \"Logged in\"}, {\"id_x\": 117, \"status\": \"P\", \"attendanceSessionId\": 8, \"userId\": 105, \"id_y\": 1053, \"created_at\": \"2021-03-30T00:57:09.335995\", \"activity\": \"Logged in\"}, {\"id_x\": 117, \"status\": \"P\", \"attendanceSessionId\": 8, \"userId\": 105, \"id_y\": 1054, \"created_at\": \"2021-03-30T00:57:38.001199\", \"activity\": \"Accessed Session 2 Recap from Intro to Game Dev with Unity repo [access:918a4f912a1::rrtGJAd2ae1e]\"}, {\"id_x\": 117, \"status\": \"P\", \"attendanceSessionId\": 8, \"userId\": 105, \"id_y\": 1055, \"created_at\": \"2021-03-30T00:59:20.249200\", \"activity\": \"Accessed Session 2 - Starter Files from Intro to Game Dev with Unity repo [access:1a82c08473b::rrtGJAd2ae1e]\"}, {\"id_x\": 117, \"status\": \"P\", \"attendanceSessionId\": 8, \"userId\": 105, \"id_y\": 1056, \"created_at\": \"2021-03-30T01:03:37.357770\", \"activity\": \"Accessed Session 3 Recap from Intro to Game Dev with Unity repo [access:5b3cf9ac46f::rrtGJAd2ae1e]\"}, {\"id_x\": 117, \"status\": \"P\", \"attendanceSessionId\": 8, \"userId\": 105, \"id_y\": 1057, \"created_at\": \"2021-03-30T01:05:27.190829\", \"activity\": \"Accessed Session 3 - Starter Files from Intro to Game Dev with Unity repo [access:dd9df1d2f3c::rrtGJAd2ae1e]\"}, {\"id_x\": 117, \"status\": \"P\", \"attendanceSessionId\": 8, \"userId\": 105, \"id_y\": 1067, \"created_at\": \"2021-03-30T17:59:33.767625\", \"activity\": \"Logged in\"}, {\"id_x\": 117, \"status\": \"P\", \"attendanceSessionId\": 8, \"userId\": 105, \"id_y\": 1069, \"created_at\": \"2021-03-30T17:59:53.210727\", \"activity\": \"Accessed Session 5 - Starter Files from Intro to Game Dev with Unity repo [access:3aadbfd9eca::rrtGJAd2ae1e]\"}, {\"id_x\": 117, \"status\": \"P\", \"attendanceSessionId\": 8, \"userId\": 105, \"id_y\": 1079, \"created_at\": \"2021-03-30T18:09:39.721036\", \"activity\": \"Accessed Session 5 - Assets from Intro to Game Dev with Unity repo [access:141012aa424::rrtGJAd2ae1e]\"}, {\"id_x\": 117, \"status\": \"P\", \"attendanceSessionId\": 8, \"userId\": 105, \"id_y\": 1104, \"created_at\": \"2021-04-06T18:01:06.629578\", \"activity\": \"Logged in\"}, {\"id_x\": 117, \"status\": \"P\", \"attendanceSessionId\": 8, \"userId\": 105, \"id_y\": 1105, \"created_at\": \"2021-04-06T18:01:23.979038\", \"activity\": \"Accessed Session 6 - Starter Files from Intro to Game Dev with Unity repo [access:4ff849da461::rrtGJAd2ae1e]\"}, {\"id_x\": 117, \"status\": \"P\", \"attendanceSessionId\": 8, \"userId\": 105, \"id_y\": 1335, \"created_at\": \"2021-06-20T07:06:32.567141\", \"activity\": \"Logged in\"}, {\"id_x\": 117, \"status\": \"P\", \"attendanceSessionId\": 8, \"userId\": 105, \"id_y\": 1336, \"created_at\": \"2021-06-20T07:06:49.647529\", \"activity\": \"Logged in\"}, {\"id_x\": 117, \"status\": \"P\", \"attendanceSessionId\": 8, \"userId\": 105, \"id_y\": 1337, \"created_at\": \"2021-06-20T07:07:43.799042\", \"activity\": \"Logged in\"}, {\"id_x\": 117, \"status\": \"P\", \"attendanceSessionId\": 8, \"userId\": 105, \"id_y\": 1338, \"created_at\": \"2021-06-20T07:13:00.290661\", \"activity\": \"Enrolled onto Programming Fundamentals\"}, {\"id_x\": 117, \"status\": \"P\", \"attendanceSessionId\": 8, \"userId\": 105, \"id_y\": 1368, \"created_at\": \"2021-07-03T09:33:14.122040\", \"activity\": \"Logged in\"}, {\"id_x\": 117, \"status\": \"P\", \"attendanceSessionId\": 8, \"userId\": 105, \"id_y\": 1371, \"created_at\": \"2021-07-03T15:58:31.372176\", \"activity\": \"Logged in\"}, {\"id_x\": 117, \"status\": \"P\", \"attendanceSessionId\": 8, \"userId\": 105, \"id_y\": 1418, \"created_at\": \"2021-07-12T23:06:57.752825\", \"activity\": \"Logged in\"}, {\"id_x\": 148, \"status\": \"I\", \"attendanceSessionId\": 9, \"userId\": 105, \"id_y\": 1053, \"created_at\": \"2021-03-30T00:57:09.335995\", \"activity\": \"Logged in\"}, {\"id_x\": 148, \"status\": \"I\", \"attendanceSessionId\": 9, \"userId\": 105, \"id_y\": 1054, \"created_at\": \"2021-03-30T00:57:38.001199\", \"activity\": \"Accessed Session 2 Recap from Intro to Game Dev with Unity repo [access:918a4f912a1::rrtGJAd2ae1e]\"}, {\"id_x\": 148, \"status\": \"I\", \"attendanceSessionId\": 9, \"userId\": 105, \"id_y\": 1055, \"created_at\": \"2021-03-30T00:59:20.249200\", \"activity\": \"Accessed Session 2 - Starter Files from Intro to Game Dev with Unity repo [access:1a82c08473b::rrtGJAd2ae1e]\"}, {\"id_x\": 148, \"status\": \"I\", \"attendanceSessionId\": 9, \"userId\": 105, \"id_y\": 1056, \"created_at\": \"2021-03-30T01:03:37.357770\", \"activity\": \"Accessed Session 3 Recap from Intro to Game Dev with Unity repo [access:5b3cf9ac46f::rrtGJAd2ae1e]\"}, {\"id_x\": 148, \"status\": \"I\", \"attendanceSessionId\": 9, \"userId\": 105, \"id_y\": 1057, \"created_at\": \"2021-03-30T01:05:27.190829\", \"activity\": \"Accessed Session 3 - Starter Files from Intro to Game Dev with Unity repo [access:dd9df1d2f3c::rrtGJAd2ae1e]\"}, {\"id_x\": 148, \"status\": \"I\", \"attendanceSessionId\": 9, \"userId\": 105, \"id_y\": 1067, \"created_at\": \"2021-03-30T17:59:33.767625\", \"activity\": \"Logged in\"}, {\"id_x\": 148, \"status\": \"I\", \"attendanceSessionId\": 9, \"userId\": 105, \"id_y\": 1069, \"created_at\": \"2021-03-30T17:59:53.210727\", \"activity\": \"Accessed Session 5 - Starter Files from Intro to Game Dev with Unity repo [access:3aadbfd9eca::rrtGJAd2ae1e]\"}, {\"id_x\": 148, \"status\": \"I\", \"attendanceSessionId\": 9, \"userId\": 105, \"id_y\": 1079, \"created_at\": \"2021-03-30T18:09:39.721036\", \"activity\": \"Accessed Session 5 - Assets from Intro to Game Dev with Unity repo [access:141012aa424::rrtGJAd2ae1e]\"}, {\"id_x\": 148, \"status\": \"I\", \"attendanceSessionId\": 9, \"userId\": 105, \"id_y\": 1104, \"created_at\": \"2021-04-06T18:01:06.629578\", \"activity\": \"Logged in\"}, {\"id_x\": 148, \"status\": \"I\", \"attendanceSessionId\": 9, \"userId\": 105, \"id_y\": 1105, \"created_at\": \"2021-04-06T18:01:23.979038\", \"activity\": \"Accessed Session 6 - Starter Files from Intro to Game Dev with Unity repo [access:4ff849da461::rrtGJAd2ae1e]\"}, {\"id_x\": 148, \"status\": \"I\", \"attendanceSessionId\": 9, \"userId\": 105, \"id_y\": 1335, \"created_at\": \"2021-06-20T07:06:32.567141\", \"activity\": \"Logged in\"}, {\"id_x\": 148, \"status\": \"I\", \"attendanceSessionId\": 9, \"userId\": 105, \"id_y\": 1336, \"created_at\": \"2021-06-20T07:06:49.647529\", \"activity\": \"Logged in\"}, {\"id_x\": 148, \"status\": \"I\", \"attendanceSessionId\": 9, \"userId\": 105, \"id_y\": 1337, \"created_at\": \"2021-06-20T07:07:43.799042\", \"activity\": \"Logged in\"}, {\"id_x\": 148, \"status\": \"I\", \"attendanceSessionId\": 9, \"userId\": 105, \"id_y\": 1338, \"created_at\": \"2021-06-20T07:13:00.290661\", \"activity\": \"Enrolled onto Programming Fundamentals\"}, {\"id_x\": 148, \"status\": \"I\", \"attendanceSessionId\": 9, \"userId\": 105, \"id_y\": 1368, \"created_at\": \"2021-07-03T09:33:14.122040\", \"activity\": \"Logged in\"}, {\"id_x\": 148, \"status\": \"I\", \"attendanceSessionId\": 9, \"userId\": 105, \"id_y\": 1371, \"created_at\": \"2021-07-03T15:58:31.372176\", \"activity\": \"Logged in\"}, {\"id_x\": 148, \"status\": \"I\", \"attendanceSessionId\": 9, \"userId\": 105, \"id_y\": 1418, \"created_at\": \"2021-07-12T23:06:57.752825\", \"activity\": \"Logged in\"}, {\"id_x\": 151, \"status\": \"P\", \"attendanceSessionId\": 10, \"userId\": 105, \"id_y\": 1053, \"created_at\": \"2021-03-30T00:57:09.335995\", \"activity\": \"Logged in\"}, {\"id_x\": 151, \"status\": \"P\", \"attendanceSessionId\": 10, \"userId\": 105, \"id_y\": 1054, \"created_at\": \"2021-03-30T00:57:38.001199\", \"activity\": \"Accessed Session 2 Recap from Intro to Game Dev with Unity repo [access:918a4f912a1::rrtGJAd2ae1e]\"}, {\"id_x\": 151, \"status\": \"P\", \"attendanceSessionId\": 10, \"userId\": 105, \"id_y\": 1055, \"created_at\": \"2021-03-30T00:59:20.249200\", \"activity\": \"Accessed Session 2 - Starter Files from Intro to Game Dev with Unity repo [access:1a82c08473b::rrtGJAd2ae1e]\"}, {\"id_x\": 151, \"status\": \"P\", \"attendanceSessionId\": 10, \"userId\": 105, \"id_y\": 1056, \"created_at\": \"2021-03-30T01:03:37.357770\", \"activity\": \"Accessed Session 3 Recap from Intro to Game Dev with Unity repo [access:5b3cf9ac46f::rrtGJAd2ae1e]\"}, {\"id_x\": 151, \"status\": \"P\", \"attendanceSessionId\": 10, \"userId\": 105, \"id_y\": 1057, \"created_at\": \"2021-03-30T01:05:27.190829\", \"activity\": \"Accessed Session 3 - Starter Files from Intro to Game Dev with Unity repo [access:dd9df1d2f3c::rrtGJAd2ae1e]\"}, {\"id_x\": 151, \"status\": \"P\", \"attendanceSessionId\": 10, \"userId\": 105, \"id_y\": 1067, \"created_at\": \"2021-03-30T17:59:33.767625\", \"activity\": \"Logged in\"}, {\"id_x\": 151, \"status\": \"P\", \"attendanceSessionId\": 10, \"userId\": 105, \"id_y\": 1069, \"created_at\": \"2021-03-30T17:59:53.210727\", \"activity\": \"Accessed Session 5 - Starter Files from Intro to Game Dev with Unity repo [access:3aadbfd9eca::rrtGJAd2ae1e]\"}, {\"id_x\": 151, \"status\": \"P\", \"attendanceSessionId\": 10, \"userId\": 105, \"id_y\": 1079, \"created_at\": \"2021-03-30T18:09:39.721036\", \"activity\": \"Accessed Session 5 - Assets from Intro to Game Dev with Unity repo [access:141012aa424::rrtGJAd2ae1e]\"}, {\"id_x\": 151, \"status\": \"P\", \"attendanceSessionId\": 10, \"userId\": 105, \"id_y\": 1104, \"created_at\": \"2021-04-06T18:01:06.629578\", \"activity\": \"Logged in\"}, {\"id_x\": 151, \"status\": \"P\", \"attendanceSessionId\": 10, \"userId\": 105, \"id_y\": 1105, \"created_at\": \"2021-04-06T18:01:23.979038\", \"activity\": \"Accessed Session 6 - Starter Files from Intro to Game Dev with Unity repo [access:4ff849da461::rrtGJAd2ae1e]\"}, {\"id_x\": 151, \"status\": \"P\", \"attendanceSessionId\": 10, \"userId\": 105, \"id_y\": 1335, \"created_at\": \"2021-06-20T07:06:32.567141\", \"activity\": \"Logged in\"}, {\"id_x\": 151, \"status\": \"P\", \"attendanceSessionId\": 10, \"userId\": 105, \"id_y\": 1336, \"created_at\": \"2021-06-20T07:06:49.647529\", \"activity\": \"Logged in\"}, {\"id_x\": 151, \"status\": \"P\", \"attendanceSessionId\": 10, \"userId\": 105, \"id_y\": 1337, \"created_at\": \"2021-06-20T07:07:43.799042\", \"activity\": \"Logged in\"}, {\"id_x\": 151, \"status\": \"P\", \"attendanceSessionId\": 10, \"userId\": 105, \"id_y\": 1338, \"created_at\": \"2021-06-20T07:13:00.290661\", \"activity\": \"Enrolled onto Programming Fundamentals\"}, {\"id_x\": 151, \"status\": \"P\", \"attendanceSessionId\": 10, \"userId\": 105, \"id_y\": 1368, \"created_at\": \"2021-07-03T09:33:14.122040\", \"activity\": \"Logged in\"}, {\"id_x\": 151, \"status\": \"P\", \"attendanceSessionId\": 10, \"userId\": 105, \"id_y\": 1371, \"created_at\": \"2021-07-03T15:58:31.372176\", \"activity\": \"Logged in\"}, {\"id_x\": 151, \"status\": \"P\", \"attendanceSessionId\": 10, \"userId\": 105, \"id_y\": 1418, \"created_at\": \"2021-07-12T23:06:57.752825\", \"activity\": \"Logged in\"}, {\"id_x\": 39, \"status\": \"P\", \"attendanceSessionId\": 1, \"userId\": 106, \"id_y\": 1028, \"created_at\": \"2021-03-25T11:25:05.219531\", \"activity\": \"Logged in\"}, {\"id_x\": 39, \"status\": \"P\", \"attendanceSessionId\": 1, \"userId\": 106, \"id_y\": 1029, \"created_at\": \"2021-03-25T11:25:36.764022\", \"activity\": \"Accessed Session 4 - Starter Files from Intro to Game Dev with Unity repo\"}, {\"id_x\": 39, \"status\": \"P\", \"attendanceSessionId\": 1, \"userId\": 106, \"id_y\": 1030, \"created_at\": \"2021-03-25T11:28:19.047747\", \"activity\": \"Accessed Session 3 Recap from Intro to Game Dev with Unity repo\"}, {\"id_x\": 39, \"status\": \"P\", \"attendanceSessionId\": 1, \"userId\": 106, \"id_y\": 1091, \"created_at\": \"2021-04-01T05:46:28.584097\", \"activity\": \"Logged in\"}, {\"id_x\": 39, \"status\": \"P\", \"attendanceSessionId\": 1, \"userId\": 106, \"id_y\": 1092, \"created_at\": \"2021-04-01T05:46:52.658630\", \"activity\": \"Accessed Session 5 - Assets from Intro to Game Dev with Unity repo [access:141012aa424::rrtGJAd2ae1e]\"}, {\"id_x\": 39, \"status\": \"P\", \"attendanceSessionId\": 1, \"userId\": 106, \"id_y\": 1093, \"created_at\": \"2021-04-01T05:47:27.761210\", \"activity\": \"Accessed Session 5 - Starter Files from Intro to Game Dev with Unity repo [access:3aadbfd9eca::rrtGJAd2ae1e]\"}, {\"id_x\": 39, \"status\": \"P\", \"attendanceSessionId\": 1, \"userId\": 106, \"id_y\": 1094, \"created_at\": \"2021-04-01T05:49:44.969753\", \"activity\": \"Accessed Session Four Recap from Intro to Game Dev with Unity repo [access:b4aec5f066b::rrtGJAd2ae1e]\"}, {\"id_x\": 39, \"status\": \"P\", \"attendanceSessionId\": 1, \"userId\": 106, \"id_y\": 1129, \"created_at\": \"2021-04-09T13:42:41.610992\", \"activity\": \"Logged in\"}, {\"id_x\": 39, \"status\": \"P\", \"attendanceSessionId\": 1, \"userId\": 106, \"id_y\": 1130, \"created_at\": \"2021-04-09T13:42:59.996112\", \"activity\": \"Accessed Session 6 - Starter Files from Intro to Game Dev with Unity repo [access:4ff849da461::rrtGJAd2ae1e]\"}, {\"id_x\": 39, \"status\": \"P\", \"attendanceSessionId\": 1, \"userId\": 106, \"id_y\": 1131, \"created_at\": \"2021-04-09T13:43:36.345370\", \"activity\": \"Accessed Session 6 Recap from Intro to Game Dev with Unity repo [access:1d9bec2ad95::rrtGJAd2ae1e]\"}, {\"id_x\": 39, \"status\": \"P\", \"attendanceSessionId\": 1, \"userId\": 106, \"id_y\": 1132, \"created_at\": \"2021-04-09T13:46:13.557782\", \"activity\": \"Logged in\"}, {\"id_x\": 39, \"status\": \"P\", \"attendanceSessionId\": 1, \"userId\": 106, \"id_y\": 1133, \"created_at\": \"2021-04-09T13:46:28.733212\", \"activity\": \"Accessed Session 5 Recap from Intro to Game Dev with Unity repo [access:f2ec33fafc6::rrtGJAd2ae1e]\"}, {\"id_x\": 39, \"status\": \"P\", \"attendanceSessionId\": 1, \"userId\": 106, \"id_y\": 1202, \"created_at\": \"2021-04-20T13:31:56.843845\", \"activity\": \"Logged in\"}, {\"id_x\": 39, \"status\": \"P\", \"attendanceSessionId\": 1, \"userId\": 106, \"id_y\": 1203, \"created_at\": \"2021-04-20T13:32:21.387216\", \"activity\": \"Accessed Session 7 - Starter Files from Intro to Game Dev with Unity repo [access:0274231c583::rrtGJAd2ae1e]\"}, {\"id_x\": 39, \"status\": \"P\", \"attendanceSessionId\": 1, \"userId\": 106, \"id_y\": 1204, \"created_at\": \"2021-04-20T13:33:21.556400\", \"activity\": \"Accessed Session 7 Recap from Intro to Game Dev with Unity repo [access:f808a2f41b5::rrtGJAd2ae1e]\"}, {\"id_x\": 39, \"status\": \"P\", \"attendanceSessionId\": 1, \"userId\": 106, \"id_y\": 1212, \"created_at\": \"2021-04-26T15:00:44.092802\", \"activity\": \"Logged in\"}, {\"id_x\": 39, \"status\": \"P\", \"attendanceSessionId\": 1, \"userId\": 106, \"id_y\": 1213, \"created_at\": \"2021-04-26T15:01:09.771726\", \"activity\": \"Accessed Session 8 - Starter Files from Intro to Game Dev with Unity repo [access:1d14e303b59::rrtGJAd2ae1e]\"}, {\"id_x\": 39, \"status\": \"P\", \"attendanceSessionId\": 1, \"userId\": 106, \"id_y\": 1214, \"created_at\": \"2021-04-26T15:03:53.740382\", \"activity\": \"Accessed Session 7 Recap from Intro to Game Dev with Unity repo [access:f808a2f41b5::rrtGJAd2ae1e]\"}, {\"id_x\": 39, \"status\": \"P\", \"attendanceSessionId\": 1, \"userId\": 106, \"id_y\": 1215, \"created_at\": \"2021-04-26T15:03:54.531726\", \"activity\": \"Accessed Session 7 Recap from Intro to Game Dev with Unity repo [access:f808a2f41b5::rrtGJAd2ae1e]\"}, {\"id_x\": 39, \"status\": \"P\", \"attendanceSessionId\": 1, \"userId\": 106, \"id_y\": 1270, \"created_at\": \"2021-05-04T10:25:12.123851\", \"activity\": \"Logged in\"}, {\"id_x\": 39, \"status\": \"P\", \"attendanceSessionId\": 1, \"userId\": 106, \"id_y\": 1271, \"created_at\": \"2021-05-04T13:02:03.043346\", \"activity\": \"Logged in\"}, {\"id_x\": 39, \"status\": \"P\", \"attendanceSessionId\": 1, \"userId\": 106, \"id_y\": 1272, \"created_at\": \"2021-05-04T13:02:05.909218\", \"activity\": \"Logged in\"}, {\"id_x\": 39, \"status\": \"P\", \"attendanceSessionId\": 1, \"userId\": 106, \"id_y\": 1273, \"created_at\": \"2021-05-04T13:02:17.286783\", \"activity\": \"Logged in\"}, {\"id_x\": 44, \"status\": \"P\", \"attendanceSessionId\": 2, \"userId\": 106, \"id_y\": 1028, \"created_at\": \"2021-03-25T11:25:05.219531\", \"activity\": \"Logged in\"}, {\"id_x\": 44, \"status\": \"P\", \"attendanceSessionId\": 2, \"userId\": 106, \"id_y\": 1029, \"created_at\": \"2021-03-25T11:25:36.764022\", \"activity\": \"Accessed Session 4 - Starter Files from Intro to Game Dev with Unity repo\"}, {\"id_x\": 44, \"status\": \"P\", \"attendanceSessionId\": 2, \"userId\": 106, \"id_y\": 1030, \"created_at\": \"2021-03-25T11:28:19.047747\", \"activity\": \"Accessed Session 3 Recap from Intro to Game Dev with Unity repo\"}, {\"id_x\": 44, \"status\": \"P\", \"attendanceSessionId\": 2, \"userId\": 106, \"id_y\": 1091, \"created_at\": \"2021-04-01T05:46:28.584097\", \"activity\": \"Logged in\"}, {\"id_x\": 44, \"status\": \"P\", \"attendanceSessionId\": 2, \"userId\": 106, \"id_y\": 1092, \"created_at\": \"2021-04-01T05:46:52.658630\", \"activity\": \"Accessed Session 5 - Assets from Intro to Game Dev with Unity repo [access:141012aa424::rrtGJAd2ae1e]\"}, {\"id_x\": 44, \"status\": \"P\", \"attendanceSessionId\": 2, \"userId\": 106, \"id_y\": 1093, \"created_at\": \"2021-04-01T05:47:27.761210\", \"activity\": \"Accessed Session 5 - Starter Files from Intro to Game Dev with Unity repo [access:3aadbfd9eca::rrtGJAd2ae1e]\"}, {\"id_x\": 44, \"status\": \"P\", \"attendanceSessionId\": 2, \"userId\": 106, \"id_y\": 1094, \"created_at\": \"2021-04-01T05:49:44.969753\", \"activity\": \"Accessed Session Four Recap from Intro to Game Dev with Unity repo [access:b4aec5f066b::rrtGJAd2ae1e]\"}, {\"id_x\": 44, \"status\": \"P\", \"attendanceSessionId\": 2, \"userId\": 106, \"id_y\": 1129, \"created_at\": \"2021-04-09T13:42:41.610992\", \"activity\": \"Logged in\"}, {\"id_x\": 44, \"status\": \"P\", \"attendanceSessionId\": 2, \"userId\": 106, \"id_y\": 1130, \"created_at\": \"2021-04-09T13:42:59.996112\", \"activity\": \"Accessed Session 6 - Starter Files from Intro to Game Dev with Unity repo [access:4ff849da461::rrtGJAd2ae1e]\"}, {\"id_x\": 44, \"status\": \"P\", \"attendanceSessionId\": 2, \"userId\": 106, \"id_y\": 1131, \"created_at\": \"2021-04-09T13:43:36.345370\", \"activity\": \"Accessed Session 6 Recap from Intro to Game Dev with Unity repo [access:1d9bec2ad95::rrtGJAd2ae1e]\"}, {\"id_x\": 44, \"status\": \"P\", \"attendanceSessionId\": 2, \"userId\": 106, \"id_y\": 1132, \"created_at\": \"2021-04-09T13:46:13.557782\", \"activity\": \"Logged in\"}, {\"id_x\": 44, \"status\": \"P\", \"attendanceSessionId\": 2, \"userId\": 106, \"id_y\": 1133, \"created_at\": \"2021-04-09T13:46:28.733212\", \"activity\": \"Accessed Session 5 Recap from Intro to Game Dev with Unity repo [access:f2ec33fafc6::rrtGJAd2ae1e]\"}, {\"id_x\": 44, \"status\": \"P\", \"attendanceSessionId\": 2, \"userId\": 106, \"id_y\": 1202, \"created_at\": \"2021-04-20T13:31:56.843845\", \"activity\": \"Logged in\"}, {\"id_x\": 44, \"status\": \"P\", \"attendanceSessionId\": 2, \"userId\": 106, \"id_y\": 1203, \"created_at\": \"2021-04-20T13:32:21.387216\", \"activity\": \"Accessed Session 7 - Starter Files from Intro to Game Dev with Unity repo [access:0274231c583::rrtGJAd2ae1e]\"}, {\"id_x\": 44, \"status\": \"P\", \"attendanceSessionId\": 2, \"userId\": 106, \"id_y\": 1204, \"created_at\": \"2021-04-20T13:33:21.556400\", \"activity\": \"Accessed Session 7 Recap from Intro to Game Dev with Unity repo [access:f808a2f41b5::rrtGJAd2ae1e]\"}, {\"id_x\": 44, \"status\": \"P\", \"attendanceSessionId\": 2, \"userId\": 106, \"id_y\": 1212, \"created_at\": \"2021-04-26T15:00:44.092802\", \"activity\": \"Logged in\"}, {\"id_x\": 44, \"status\": \"P\", \"attendanceSessionId\": 2, \"userId\": 106, \"id_y\": 1213, \"created_at\": \"2021-04-26T15:01:09.771726\", \"activity\": \"Accessed Session 8 - Starter Files from Intro to Game Dev with Unity repo [access:1d14e303b59::rrtGJAd2ae1e]\"}, {\"id_x\": 44, \"status\": \"P\", \"attendanceSessionId\": 2, \"userId\": 106, \"id_y\": 1214, \"created_at\": \"2021-04-26T15:03:53.740382\", \"activity\": \"Accessed Session 7 Recap from Intro to Game Dev with Unity repo [access:f808a2f41b5::rrtGJAd2ae1e]\"}, {\"id_x\": 44, \"status\": \"P\", \"attendanceSessionId\": 2, \"userId\": 106, \"id_y\": 1215, \"created_at\": \"2021-04-26T15:03:54.531726\", \"activity\": \"Accessed Session 7 Recap from Intro to Game Dev with Unity repo [access:f808a2f41b5::rrtGJAd2ae1e]\"}, {\"id_x\": 44, \"status\": \"P\", \"attendanceSessionId\": 2, \"userId\": 106, \"id_y\": 1270, \"created_at\": \"2021-05-04T10:25:12.123851\", \"activity\": \"Logged in\"}, {\"id_x\": 44, \"status\": \"P\", \"attendanceSessionId\": 2, \"userId\": 106, \"id_y\": 1271, \"created_at\": \"2021-05-04T13:02:03.043346\", \"activity\": \"Logged in\"}, {\"id_x\": 44, \"status\": \"P\", \"attendanceSessionId\": 2, \"userId\": 106, \"id_y\": 1272, \"created_at\": \"2021-05-04T13:02:05.909218\", \"activity\": \"Logged in\"}, {\"id_x\": 44, \"status\": \"P\", \"attendanceSessionId\": 2, \"userId\": 106, \"id_y\": 1273, \"created_at\": \"2021-05-04T13:02:17.286783\", \"activity\": \"Logged in\"}, {\"id_x\": 62, \"status\": \"P\", \"attendanceSessionId\": 3, \"userId\": 106, \"id_y\": 1028, \"created_at\": \"2021-03-25T11:25:05.219531\", \"activity\": \"Logged in\"}, {\"id_x\": 62, \"status\": \"P\", \"attendanceSessionId\": 3, \"userId\": 106, \"id_y\": 1029, \"created_at\": \"2021-03-25T11:25:36.764022\", \"activity\": \"Accessed Session 4 - Starter Files from Intro to Game Dev with Unity repo\"}, {\"id_x\": 62, \"status\": \"P\", \"attendanceSessionId\": 3, \"userId\": 106, \"id_y\": 1030, \"created_at\": \"2021-03-25T11:28:19.047747\", \"activity\": \"Accessed Session 3 Recap from Intro to Game Dev with Unity repo\"}, {\"id_x\": 62, \"status\": \"P\", \"attendanceSessionId\": 3, \"userId\": 106, \"id_y\": 1091, \"created_at\": \"2021-04-01T05:46:28.584097\", \"activity\": \"Logged in\"}, {\"id_x\": 62, \"status\": \"P\", \"attendanceSessionId\": 3, \"userId\": 106, \"id_y\": 1092, \"created_at\": \"2021-04-01T05:46:52.658630\", \"activity\": \"Accessed Session 5 - Assets from Intro to Game Dev with Unity repo [access:141012aa424::rrtGJAd2ae1e]\"}, {\"id_x\": 62, \"status\": \"P\", \"attendanceSessionId\": 3, \"userId\": 106, \"id_y\": 1093, \"created_at\": \"2021-04-01T05:47:27.761210\", \"activity\": \"Accessed Session 5 - Starter Files from Intro to Game Dev with Unity repo [access:3aadbfd9eca::rrtGJAd2ae1e]\"}, {\"id_x\": 62, \"status\": \"P\", \"attendanceSessionId\": 3, \"userId\": 106, \"id_y\": 1094, \"created_at\": \"2021-04-01T05:49:44.969753\", \"activity\": \"Accessed Session Four Recap from Intro to Game Dev with Unity repo [access:b4aec5f066b::rrtGJAd2ae1e]\"}, {\"id_x\": 62, \"status\": \"P\", \"attendanceSessionId\": 3, \"userId\": 106, \"id_y\": 1129, \"created_at\": \"2021-04-09T13:42:41.610992\", \"activity\": \"Logged in\"}, {\"id_x\": 62, \"status\": \"P\", \"attendanceSessionId\": 3, \"userId\": 106, \"id_y\": 1130, \"created_at\": \"2021-04-09T13:42:59.996112\", \"activity\": \"Accessed Session 6 - Starter Files from Intro to Game Dev with Unity repo [access:4ff849da461::rrtGJAd2ae1e]\"}, {\"id_x\": 62, \"status\": \"P\", \"attendanceSessionId\": 3, \"userId\": 106, \"id_y\": 1131, \"created_at\": \"2021-04-09T13:43:36.345370\", \"activity\": \"Accessed Session 6 Recap from Intro to Game Dev with Unity repo [access:1d9bec2ad95::rrtGJAd2ae1e]\"}, {\"id_x\": 62, \"status\": \"P\", \"attendanceSessionId\": 3, \"userId\": 106, \"id_y\": 1132, \"created_at\": \"2021-04-09T13:46:13.557782\", \"activity\": \"Logged in\"}, {\"id_x\": 62, \"status\": \"P\", \"attendanceSessionId\": 3, \"userId\": 106, \"id_y\": 1133, \"created_at\": \"2021-04-09T13:46:28.733212\", \"activity\": \"Accessed Session 5 Recap from Intro to Game Dev with Unity repo [access:f2ec33fafc6::rrtGJAd2ae1e]\"}, {\"id_x\": 62, \"status\": \"P\", \"attendanceSessionId\": 3, \"userId\": 106, \"id_y\": 1202, \"created_at\": \"2021-04-20T13:31:56.843845\", \"activity\": \"Logged in\"}, {\"id_x\": 62, \"status\": \"P\", \"attendanceSessionId\": 3, \"userId\": 106, \"id_y\": 1203, \"created_at\": \"2021-04-20T13:32:21.387216\", \"activity\": \"Accessed Session 7 - Starter Files from Intro to Game Dev with Unity repo [access:0274231c583::rrtGJAd2ae1e]\"}, {\"id_x\": 62, \"status\": \"P\", \"attendanceSessionId\": 3, \"userId\": 106, \"id_y\": 1204, \"created_at\": \"2021-04-20T13:33:21.556400\", \"activity\": \"Accessed Session 7 Recap from Intro to Game Dev with Unity repo [access:f808a2f41b5::rrtGJAd2ae1e]\"}, {\"id_x\": 62, \"status\": \"P\", \"attendanceSessionId\": 3, \"userId\": 106, \"id_y\": 1212, \"created_at\": \"2021-04-26T15:00:44.092802\", \"activity\": \"Logged in\"}, {\"id_x\": 62, \"status\": \"P\", \"attendanceSessionId\": 3, \"userId\": 106, \"id_y\": 1213, \"created_at\": \"2021-04-26T15:01:09.771726\", \"activity\": \"Accessed Session 8 - Starter Files from Intro to Game Dev with Unity repo [access:1d14e303b59::rrtGJAd2ae1e]\"}, {\"id_x\": 62, \"status\": \"P\", \"attendanceSessionId\": 3, \"userId\": 106, \"id_y\": 1214, \"created_at\": \"2021-04-26T15:03:53.740382\", \"activity\": \"Accessed Session 7 Recap from Intro to Game Dev with Unity repo [access:f808a2f41b5::rrtGJAd2ae1e]\"}, {\"id_x\": 62, \"status\": \"P\", \"attendanceSessionId\": 3, \"userId\": 106, \"id_y\": 1215, \"created_at\": \"2021-04-26T15:03:54.531726\", \"activity\": \"Accessed Session 7 Recap from Intro to Game Dev with Unity repo [access:f808a2f41b5::rrtGJAd2ae1e]\"}, {\"id_x\": 62, \"status\": \"P\", \"attendanceSessionId\": 3, \"userId\": 106, \"id_y\": 1270, \"created_at\": \"2021-05-04T10:25:12.123851\", \"activity\": \"Logged in\"}, {\"id_x\": 62, \"status\": \"P\", \"attendanceSessionId\": 3, \"userId\": 106, \"id_y\": 1271, \"created_at\": \"2021-05-04T13:02:03.043346\", \"activity\": \"Logged in\"}, {\"id_x\": 62, \"status\": \"P\", \"attendanceSessionId\": 3, \"userId\": 106, \"id_y\": 1272, \"created_at\": \"2021-05-04T13:02:05.909218\", \"activity\": \"Logged in\"}, {\"id_x\": 62, \"status\": \"P\", \"attendanceSessionId\": 3, \"userId\": 106, \"id_y\": 1273, \"created_at\": \"2021-05-04T13:02:17.286783\", \"activity\": \"Logged in\"}, {\"id_x\": 84, \"status\": \"A\", \"attendanceSessionId\": 4, \"userId\": 106, \"id_y\": 1028, \"created_at\": \"2021-03-25T11:25:05.219531\", \"activity\": \"Logged in\"}, {\"id_x\": 84, \"status\": \"A\", \"attendanceSessionId\": 4, \"userId\": 106, \"id_y\": 1029, \"created_at\": \"2021-03-25T11:25:36.764022\", \"activity\": \"Accessed Session 4 - Starter Files from Intro to Game Dev with Unity repo\"}, {\"id_x\": 84, \"status\": \"A\", \"attendanceSessionId\": 4, \"userId\": 106, \"id_y\": 1030, \"created_at\": \"2021-03-25T11:28:19.047747\", \"activity\": \"Accessed Session 3 Recap from Intro to Game Dev with Unity repo\"}, {\"id_x\": 84, \"status\": \"A\", \"attendanceSessionId\": 4, \"userId\": 106, \"id_y\": 1091, \"created_at\": \"2021-04-01T05:46:28.584097\", \"activity\": \"Logged in\"}, {\"id_x\": 84, \"status\": \"A\", \"attendanceSessionId\": 4, \"userId\": 106, \"id_y\": 1092, \"created_at\": \"2021-04-01T05:46:52.658630\", \"activity\": \"Accessed Session 5 - Assets from Intro to Game Dev with Unity repo [access:141012aa424::rrtGJAd2ae1e]\"}, {\"id_x\": 84, \"status\": \"A\", \"attendanceSessionId\": 4, \"userId\": 106, \"id_y\": 1093, \"created_at\": \"2021-04-01T05:47:27.761210\", \"activity\": \"Accessed Session 5 - Starter Files from Intro to Game Dev with Unity repo [access:3aadbfd9eca::rrtGJAd2ae1e]\"}, {\"id_x\": 84, \"status\": \"A\", \"attendanceSessionId\": 4, \"userId\": 106, \"id_y\": 1094, \"created_at\": \"2021-04-01T05:49:44.969753\", \"activity\": \"Accessed Session Four Recap from Intro to Game Dev with Unity repo [access:b4aec5f066b::rrtGJAd2ae1e]\"}, {\"id_x\": 84, \"status\": \"A\", \"attendanceSessionId\": 4, \"userId\": 106, \"id_y\": 1129, \"created_at\": \"2021-04-09T13:42:41.610992\", \"activity\": \"Logged in\"}, {\"id_x\": 84, \"status\": \"A\", \"attendanceSessionId\": 4, \"userId\": 106, \"id_y\": 1130, \"created_at\": \"2021-04-09T13:42:59.996112\", \"activity\": \"Accessed Session 6 - Starter Files from Intro to Game Dev with Unity repo [access:4ff849da461::rrtGJAd2ae1e]\"}, {\"id_x\": 84, \"status\": \"A\", \"attendanceSessionId\": 4, \"userId\": 106, \"id_y\": 1131, \"created_at\": \"2021-04-09T13:43:36.345370\", \"activity\": \"Accessed Session 6 Recap from Intro to Game Dev with Unity repo [access:1d9bec2ad95::rrtGJAd2ae1e]\"}, {\"id_x\": 84, \"status\": \"A\", \"attendanceSessionId\": 4, \"userId\": 106, \"id_y\": 1132, \"created_at\": \"2021-04-09T13:46:13.557782\", \"activity\": \"Logged in\"}, {\"id_x\": 84, \"status\": \"A\", \"attendanceSessionId\": 4, \"userId\": 106, \"id_y\": 1133, \"created_at\": \"2021-04-09T13:46:28.733212\", \"activity\": \"Accessed Session 5 Recap from Intro to Game Dev with Unity repo [access:f2ec33fafc6::rrtGJAd2ae1e]\"}, {\"id_x\": 84, \"status\": \"A\", \"attendanceSessionId\": 4, \"userId\": 106, \"id_y\": 1202, \"created_at\": \"2021-04-20T13:31:56.843845\", \"activity\": \"Logged in\"}, {\"id_x\": 84, \"status\": \"A\", \"attendanceSessionId\": 4, \"userId\": 106, \"id_y\": 1203, \"created_at\": \"2021-04-20T13:32:21.387216\", \"activity\": \"Accessed Session 7 - Starter Files from Intro to Game Dev with Unity repo [access:0274231c583::rrtGJAd2ae1e]\"}, {\"id_x\": 84, \"status\": \"A\", \"attendanceSessionId\": 4, \"userId\": 106, \"id_y\": 1204, \"created_at\": \"2021-04-20T13:33:21.556400\", \"activity\": \"Accessed Session 7 Recap from Intro to Game Dev with Unity repo [access:f808a2f41b5::rrtGJAd2ae1e]\"}, {\"id_x\": 84, \"status\": \"A\", \"attendanceSessionId\": 4, \"userId\": 106, \"id_y\": 1212, \"created_at\": \"2021-04-26T15:00:44.092802\", \"activity\": \"Logged in\"}, {\"id_x\": 84, \"status\": \"A\", \"attendanceSessionId\": 4, \"userId\": 106, \"id_y\": 1213, \"created_at\": \"2021-04-26T15:01:09.771726\", \"activity\": \"Accessed Session 8 - Starter Files from Intro to Game Dev with Unity repo [access:1d14e303b59::rrtGJAd2ae1e]\"}, {\"id_x\": 84, \"status\": \"A\", \"attendanceSessionId\": 4, \"userId\": 106, \"id_y\": 1214, \"created_at\": \"2021-04-26T15:03:53.740382\", \"activity\": \"Accessed Session 7 Recap from Intro to Game Dev with Unity repo [access:f808a2f41b5::rrtGJAd2ae1e]\"}, {\"id_x\": 84, \"status\": \"A\", \"attendanceSessionId\": 4, \"userId\": 106, \"id_y\": 1215, \"created_at\": \"2021-04-26T15:03:54.531726\", \"activity\": \"Accessed Session 7 Recap from Intro to Game Dev with Unity repo [access:f808a2f41b5::rrtGJAd2ae1e]\"}, {\"id_x\": 84, \"status\": \"A\", \"attendanceSessionId\": 4, \"userId\": 106, \"id_y\": 1270, \"created_at\": \"2021-05-04T10:25:12.123851\", \"activity\": \"Logged in\"}, {\"id_x\": 84, \"status\": \"A\", \"attendanceSessionId\": 4, \"userId\": 106, \"id_y\": 1271, \"created_at\": \"2021-05-04T13:02:03.043346\", \"activity\": \"Logged in\"}, {\"id_x\": 84, \"status\": \"A\", \"attendanceSessionId\": 4, \"userId\": 106, \"id_y\": 1272, \"created_at\": \"2021-05-04T13:02:05.909218\", \"activity\": \"Logged in\"}, {\"id_x\": 84, \"status\": \"A\", \"attendanceSessionId\": 4, \"userId\": 106, \"id_y\": 1273, \"created_at\": \"2021-05-04T13:02:17.286783\", \"activity\": \"Logged in\"}, {\"id_x\": 92, \"status\": \"A\", \"attendanceSessionId\": 5, \"userId\": 106, \"id_y\": 1028, \"created_at\": \"2021-03-25T11:25:05.219531\", \"activity\": \"Logged in\"}, {\"id_x\": 92, \"status\": \"A\", \"attendanceSessionId\": 5, \"userId\": 106, \"id_y\": 1029, \"created_at\": \"2021-03-25T11:25:36.764022\", \"activity\": \"Accessed Session 4 - Starter Files from Intro to Game Dev with Unity repo\"}, {\"id_x\": 92, \"status\": \"A\", \"attendanceSessionId\": 5, \"userId\": 106, \"id_y\": 1030, \"created_at\": \"2021-03-25T11:28:19.047747\", \"activity\": \"Accessed Session 3 Recap from Intro to Game Dev with Unity repo\"}, {\"id_x\": 92, \"status\": \"A\", \"attendanceSessionId\": 5, \"userId\": 106, \"id_y\": 1091, \"created_at\": \"2021-04-01T05:46:28.584097\", \"activity\": \"Logged in\"}, {\"id_x\": 92, \"status\": \"A\", \"attendanceSessionId\": 5, \"userId\": 106, \"id_y\": 1092, \"created_at\": \"2021-04-01T05:46:52.658630\", \"activity\": \"Accessed Session 5 - Assets from Intro to Game Dev with Unity repo [access:141012aa424::rrtGJAd2ae1e]\"}, {\"id_x\": 92, \"status\": \"A\", \"attendanceSessionId\": 5, \"userId\": 106, \"id_y\": 1093, \"created_at\": \"2021-04-01T05:47:27.761210\", \"activity\": \"Accessed Session 5 - Starter Files from Intro to Game Dev with Unity repo [access:3aadbfd9eca::rrtGJAd2ae1e]\"}, {\"id_x\": 92, \"status\": \"A\", \"attendanceSessionId\": 5, \"userId\": 106, \"id_y\": 1094, \"created_at\": \"2021-04-01T05:49:44.969753\", \"activity\": \"Accessed Session Four Recap from Intro to Game Dev with Unity repo [access:b4aec5f066b::rrtGJAd2ae1e]\"}, {\"id_x\": 92, \"status\": \"A\", \"attendanceSessionId\": 5, \"userId\": 106, \"id_y\": 1129, \"created_at\": \"2021-04-09T13:42:41.610992\", \"activity\": \"Logged in\"}, {\"id_x\": 92, \"status\": \"A\", \"attendanceSessionId\": 5, \"userId\": 106, \"id_y\": 1130, \"created_at\": \"2021-04-09T13:42:59.996112\", \"activity\": \"Accessed Session 6 - Starter Files from Intro to Game Dev with Unity repo [access:4ff849da461::rrtGJAd2ae1e]\"}, {\"id_x\": 92, \"status\": \"A\", \"attendanceSessionId\": 5, \"userId\": 106, \"id_y\": 1131, \"created_at\": \"2021-04-09T13:43:36.345370\", \"activity\": \"Accessed Session 6 Recap from Intro to Game Dev with Unity repo [access:1d9bec2ad95::rrtGJAd2ae1e]\"}, {\"id_x\": 92, \"status\": \"A\", \"attendanceSessionId\": 5, \"userId\": 106, \"id_y\": 1132, \"created_at\": \"2021-04-09T13:46:13.557782\", \"activity\": \"Logged in\"}, {\"id_x\": 92, \"status\": \"A\", \"attendanceSessionId\": 5, \"userId\": 106, \"id_y\": 1133, \"created_at\": \"2021-04-09T13:46:28.733212\", \"activity\": \"Accessed Session 5 Recap from Intro to Game Dev with Unity repo [access:f2ec33fafc6::rrtGJAd2ae1e]\"}, {\"id_x\": 92, \"status\": \"A\", \"attendanceSessionId\": 5, \"userId\": 106, \"id_y\": 1202, \"created_at\": \"2021-04-20T13:31:56.843845\", \"activity\": \"Logged in\"}, {\"id_x\": 92, \"status\": \"A\", \"attendanceSessionId\": 5, \"userId\": 106, \"id_y\": 1203, \"created_at\": \"2021-04-20T13:32:21.387216\", \"activity\": \"Accessed Session 7 - Starter Files from Intro to Game Dev with Unity repo [access:0274231c583::rrtGJAd2ae1e]\"}, {\"id_x\": 92, \"status\": \"A\", \"attendanceSessionId\": 5, \"userId\": 106, \"id_y\": 1204, \"created_at\": \"2021-04-20T13:33:21.556400\", \"activity\": \"Accessed Session 7 Recap from Intro to Game Dev with Unity repo [access:f808a2f41b5::rrtGJAd2ae1e]\"}, {\"id_x\": 92, \"status\": \"A\", \"attendanceSessionId\": 5, \"userId\": 106, \"id_y\": 1212, \"created_at\": \"2021-04-26T15:00:44.092802\", \"activity\": \"Logged in\"}, {\"id_x\": 92, \"status\": \"A\", \"attendanceSessionId\": 5, \"userId\": 106, \"id_y\": 1213, \"created_at\": \"2021-04-26T15:01:09.771726\", \"activity\": \"Accessed Session 8 - Starter Files from Intro to Game Dev with Unity repo [access:1d14e303b59::rrtGJAd2ae1e]\"}, {\"id_x\": 92, \"status\": \"A\", \"attendanceSessionId\": 5, \"userId\": 106, \"id_y\": 1214, \"created_at\": \"2021-04-26T15:03:53.740382\", \"activity\": \"Accessed Session 7 Recap from Intro to Game Dev with Unity repo [access:f808a2f41b5::rrtGJAd2ae1e]\"}, {\"id_x\": 92, \"status\": \"A\", \"attendanceSessionId\": 5, \"userId\": 106, \"id_y\": 1215, \"created_at\": \"2021-04-26T15:03:54.531726\", \"activity\": \"Accessed Session 7 Recap from Intro to Game Dev with Unity repo [access:f808a2f41b5::rrtGJAd2ae1e]\"}, {\"id_x\": 92, \"status\": \"A\", \"attendanceSessionId\": 5, \"userId\": 106, \"id_y\": 1270, \"created_at\": \"2021-05-04T10:25:12.123851\", \"activity\": \"Logged in\"}, {\"id_x\": 92, \"status\": \"A\", \"attendanceSessionId\": 5, \"userId\": 106, \"id_y\": 1271, \"created_at\": \"2021-05-04T13:02:03.043346\", \"activity\": \"Logged in\"}, {\"id_x\": 92, \"status\": \"A\", \"attendanceSessionId\": 5, \"userId\": 106, \"id_y\": 1272, \"created_at\": \"2021-05-04T13:02:05.909218\", \"activity\": \"Logged in\"}, {\"id_x\": 92, \"status\": \"A\", \"attendanceSessionId\": 5, \"userId\": 106, \"id_y\": 1273, \"created_at\": \"2021-05-04T13:02:17.286783\", \"activity\": \"Logged in\"}, {\"id_x\": 102, \"status\": \"A\", \"attendanceSessionId\": 6, \"userId\": 106, \"id_y\": 1028, \"created_at\": \"2021-03-25T11:25:05.219531\", \"activity\": \"Logged in\"}, {\"id_x\": 102, \"status\": \"A\", \"attendanceSessionId\": 6, \"userId\": 106, \"id_y\": 1029, \"created_at\": \"2021-03-25T11:25:36.764022\", \"activity\": \"Accessed Session 4 - Starter Files from Intro to Game Dev with Unity repo\"}, {\"id_x\": 102, \"status\": \"A\", \"attendanceSessionId\": 6, \"userId\": 106, \"id_y\": 1030, \"created_at\": \"2021-03-25T11:28:19.047747\", \"activity\": \"Accessed Session 3 Recap from Intro to Game Dev with Unity repo\"}, {\"id_x\": 102, \"status\": \"A\", \"attendanceSessionId\": 6, \"userId\": 106, \"id_y\": 1091, \"created_at\": \"2021-04-01T05:46:28.584097\", \"activity\": \"Logged in\"}, {\"id_x\": 102, \"status\": \"A\", \"attendanceSessionId\": 6, \"userId\": 106, \"id_y\": 1092, \"created_at\": \"2021-04-01T05:46:52.658630\", \"activity\": \"Accessed Session 5 - Assets from Intro to Game Dev with Unity repo [access:141012aa424::rrtGJAd2ae1e]\"}, {\"id_x\": 102, \"status\": \"A\", \"attendanceSessionId\": 6, \"userId\": 106, \"id_y\": 1093, \"created_at\": \"2021-04-01T05:47:27.761210\", \"activity\": \"Accessed Session 5 - Starter Files from Intro to Game Dev with Unity repo [access:3aadbfd9eca::rrtGJAd2ae1e]\"}, {\"id_x\": 102, \"status\": \"A\", \"attendanceSessionId\": 6, \"userId\": 106, \"id_y\": 1094, \"created_at\": \"2021-04-01T05:49:44.969753\", \"activity\": \"Accessed Session Four Recap from Intro to Game Dev with Unity repo [access:b4aec5f066b::rrtGJAd2ae1e]\"}, {\"id_x\": 102, \"status\": \"A\", \"attendanceSessionId\": 6, \"userId\": 106, \"id_y\": 1129, \"created_at\": \"2021-04-09T13:42:41.610992\", \"activity\": \"Logged in\"}, {\"id_x\": 102, \"status\": \"A\", \"attendanceSessionId\": 6, \"userId\": 106, \"id_y\": 1130, \"created_at\": \"2021-04-09T13:42:59.996112\", \"activity\": \"Accessed Session 6 - Starter Files from Intro to Game Dev with Unity repo [access:4ff849da461::rrtGJAd2ae1e]\"}, {\"id_x\": 102, \"status\": \"A\", \"attendanceSessionId\": 6, \"userId\": 106, \"id_y\": 1131, \"created_at\": \"2021-04-09T13:43:36.345370\", \"activity\": \"Accessed Session 6 Recap from Intro to Game Dev with Unity repo [access:1d9bec2ad95::rrtGJAd2ae1e]\"}, {\"id_x\": 102, \"status\": \"A\", \"attendanceSessionId\": 6, \"userId\": 106, \"id_y\": 1132, \"created_at\": \"2021-04-09T13:46:13.557782\", \"activity\": \"Logged in\"}, {\"id_x\": 102, \"status\": \"A\", \"attendanceSessionId\": 6, \"userId\": 106, \"id_y\": 1133, \"created_at\": \"2021-04-09T13:46:28.733212\", \"activity\": \"Accessed Session 5 Recap from Intro to Game Dev with Unity repo [access:f2ec33fafc6::rrtGJAd2ae1e]\"}, {\"id_x\": 102, \"status\": \"A\", \"attendanceSessionId\": 6, \"userId\": 106, \"id_y\": 1202, \"created_at\": \"2021-04-20T13:31:56.843845\", \"activity\": \"Logged in\"}, {\"id_x\": 102, \"status\": \"A\", \"attendanceSessionId\": 6, \"userId\": 106, \"id_y\": 1203, \"created_at\": \"2021-04-20T13:32:21.387216\", \"activity\": \"Accessed Session 7 - Starter Files from Intro to Game Dev with Unity repo [access:0274231c583::rrtGJAd2ae1e]\"}, {\"id_x\": 102, \"status\": \"A\", \"attendanceSessionId\": 6, \"userId\": 106, \"id_y\": 1204, \"created_at\": \"2021-04-20T13:33:21.556400\", \"activity\": \"Accessed Session 7 Recap from Intro to Game Dev with Unity repo [access:f808a2f41b5::rrtGJAd2ae1e]\"}, {\"id_x\": 102, \"status\": \"A\", \"attendanceSessionId\": 6, \"userId\": 106, \"id_y\": 1212, \"created_at\": \"2021-04-26T15:00:44.092802\", \"activity\": \"Logged in\"}, {\"id_x\": 102, \"status\": \"A\", \"attendanceSessionId\": 6, \"userId\": 106, \"id_y\": 1213, \"created_at\": \"2021-04-26T15:01:09.771726\", \"activity\": \"Accessed Session 8 - Starter Files from Intro to Game Dev with Unity repo [access:1d14e303b59::rrtGJAd2ae1e]\"}, {\"id_x\": 102, \"status\": \"A\", \"attendanceSessionId\": 6, \"userId\": 106, \"id_y\": 1214, \"created_at\": \"2021-04-26T15:03:53.740382\", \"activity\": \"Accessed Session 7 Recap from Intro to Game Dev with Unity repo [access:f808a2f41b5::rrtGJAd2ae1e]\"}, {\"id_x\": 102, \"status\": \"A\", \"attendanceSessionId\": 6, \"userId\": 106, \"id_y\": 1215, \"created_at\": \"2021-04-26T15:03:54.531726\", \"activity\": \"Accessed Session 7 Recap from Intro to Game Dev with Unity repo [access:f808a2f41b5::rrtGJAd2ae1e]\"}, {\"id_x\": 102, \"status\": \"A\", \"attendanceSessionId\": 6, \"userId\": 106, \"id_y\": 1270, \"created_at\": \"2021-05-04T10:25:12.123851\", \"activity\": \"Logged in\"}, {\"id_x\": 102, \"status\": \"A\", \"attendanceSessionId\": 6, \"userId\": 106, \"id_y\": 1271, \"created_at\": \"2021-05-04T13:02:03.043346\", \"activity\": \"Logged in\"}, {\"id_x\": 102, \"status\": \"A\", \"attendanceSessionId\": 6, \"userId\": 106, \"id_y\": 1272, \"created_at\": \"2021-05-04T13:02:05.909218\", \"activity\": \"Logged in\"}, {\"id_x\": 102, \"status\": \"A\", \"attendanceSessionId\": 6, \"userId\": 106, \"id_y\": 1273, \"created_at\": \"2021-05-04T13:02:17.286783\", \"activity\": \"Logged in\"}, {\"id_x\": 111, \"status\": \"A\", \"attendanceSessionId\": 7, \"userId\": 106, \"id_y\": 1028, \"created_at\": \"2021-03-25T11:25:05.219531\", \"activity\": \"Logged in\"}, {\"id_x\": 111, \"status\": \"A\", \"attendanceSessionId\": 7, \"userId\": 106, \"id_y\": 1029, \"created_at\": \"2021-03-25T11:25:36.764022\", \"activity\": \"Accessed Session 4 - Starter Files from Intro to Game Dev with Unity repo\"}, {\"id_x\": 111, \"status\": \"A\", \"attendanceSessionId\": 7, \"userId\": 106, \"id_y\": 1030, \"created_at\": \"2021-03-25T11:28:19.047747\", \"activity\": \"Accessed Session 3 Recap from Intro to Game Dev with Unity repo\"}, {\"id_x\": 111, \"status\": \"A\", \"attendanceSessionId\": 7, \"userId\": 106, \"id_y\": 1091, \"created_at\": \"2021-04-01T05:46:28.584097\", \"activity\": \"Logged in\"}, {\"id_x\": 111, \"status\": \"A\", \"attendanceSessionId\": 7, \"userId\": 106, \"id_y\": 1092, \"created_at\": \"2021-04-01T05:46:52.658630\", \"activity\": \"Accessed Session 5 - Assets from Intro to Game Dev with Unity repo [access:141012aa424::rrtGJAd2ae1e]\"}, {\"id_x\": 111, \"status\": \"A\", \"attendanceSessionId\": 7, \"userId\": 106, \"id_y\": 1093, \"created_at\": \"2021-04-01T05:47:27.761210\", \"activity\": \"Accessed Session 5 - Starter Files from Intro to Game Dev with Unity repo [access:3aadbfd9eca::rrtGJAd2ae1e]\"}, {\"id_x\": 111, \"status\": \"A\", \"attendanceSessionId\": 7, \"userId\": 106, \"id_y\": 1094, \"created_at\": \"2021-04-01T05:49:44.969753\", \"activity\": \"Accessed Session Four Recap from Intro to Game Dev with Unity repo [access:b4aec5f066b::rrtGJAd2ae1e]\"}, {\"id_x\": 111, \"status\": \"A\", \"attendanceSessionId\": 7, \"userId\": 106, \"id_y\": 1129, \"created_at\": \"2021-04-09T13:42:41.610992\", \"activity\": \"Logged in\"}, {\"id_x\": 111, \"status\": \"A\", \"attendanceSessionId\": 7, \"userId\": 106, \"id_y\": 1130, \"created_at\": \"2021-04-09T13:42:59.996112\", \"activity\": \"Accessed Session 6 - Starter Files from Intro to Game Dev with Unity repo [access:4ff849da461::rrtGJAd2ae1e]\"}, {\"id_x\": 111, \"status\": \"A\", \"attendanceSessionId\": 7, \"userId\": 106, \"id_y\": 1131, \"created_at\": \"2021-04-09T13:43:36.345370\", \"activity\": \"Accessed Session 6 Recap from Intro to Game Dev with Unity repo [access:1d9bec2ad95::rrtGJAd2ae1e]\"}, {\"id_x\": 111, \"status\": \"A\", \"attendanceSessionId\": 7, \"userId\": 106, \"id_y\": 1132, \"created_at\": \"2021-04-09T13:46:13.557782\", \"activity\": \"Logged in\"}, {\"id_x\": 111, \"status\": \"A\", \"attendanceSessionId\": 7, \"userId\": 106, \"id_y\": 1133, \"created_at\": \"2021-04-09T13:46:28.733212\", \"activity\": \"Accessed Session 5 Recap from Intro to Game Dev with Unity repo [access:f2ec33fafc6::rrtGJAd2ae1e]\"}, {\"id_x\": 111, \"status\": \"A\", \"attendanceSessionId\": 7, \"userId\": 106, \"id_y\": 1202, \"created_at\": \"2021-04-20T13:31:56.843845\", \"activity\": \"Logged in\"}, {\"id_x\": 111, \"status\": \"A\", \"attendanceSessionId\": 7, \"userId\": 106, \"id_y\": 1203, \"created_at\": \"2021-04-20T13:32:21.387216\", \"activity\": \"Accessed Session 7 - Starter Files from Intro to Game Dev with Unity repo [access:0274231c583::rrtGJAd2ae1e]\"}, {\"id_x\": 111, \"status\": \"A\", \"attendanceSessionId\": 7, \"userId\": 106, \"id_y\": 1204, \"created_at\": \"2021-04-20T13:33:21.556400\", \"activity\": \"Accessed Session 7 Recap from Intro to Game Dev with Unity repo [access:f808a2f41b5::rrtGJAd2ae1e]\"}, {\"id_x\": 111, \"status\": \"A\", \"attendanceSessionId\": 7, \"userId\": 106, \"id_y\": 1212, \"created_at\": \"2021-04-26T15:00:44.092802\", \"activity\": \"Logged in\"}, {\"id_x\": 111, \"status\": \"A\", \"attendanceSessionId\": 7, \"userId\": 106, \"id_y\": 1213, \"created_at\": \"2021-04-26T15:01:09.771726\", \"activity\": \"Accessed Session 8 - Starter Files from Intro to Game Dev with Unity repo [access:1d14e303b59::rrtGJAd2ae1e]\"}, {\"id_x\": 111, \"status\": \"A\", \"attendanceSessionId\": 7, \"userId\": 106, \"id_y\": 1214, \"created_at\": \"2021-04-26T15:03:53.740382\", \"activity\": \"Accessed Session 7 Recap from Intro to Game Dev with Unity repo [access:f808a2f41b5::rrtGJAd2ae1e]\"}, {\"id_x\": 111, \"status\": \"A\", \"attendanceSessionId\": 7, \"userId\": 106, \"id_y\": 1215, \"created_at\": \"2021-04-26T15:03:54.531726\", \"activity\": \"Accessed Session 7 Recap from Intro to Game Dev with Unity repo [access:f808a2f41b5::rrtGJAd2ae1e]\"}, {\"id_x\": 111, \"status\": \"A\", \"attendanceSessionId\": 7, \"userId\": 106, \"id_y\": 1270, \"created_at\": \"2021-05-04T10:25:12.123851\", \"activity\": \"Logged in\"}, {\"id_x\": 111, \"status\": \"A\", \"attendanceSessionId\": 7, \"userId\": 106, \"id_y\": 1271, \"created_at\": \"2021-05-04T13:02:03.043346\", \"activity\": \"Logged in\"}, {\"id_x\": 111, \"status\": \"A\", \"attendanceSessionId\": 7, \"userId\": 106, \"id_y\": 1272, \"created_at\": \"2021-05-04T13:02:05.909218\", \"activity\": \"Logged in\"}, {\"id_x\": 111, \"status\": \"A\", \"attendanceSessionId\": 7, \"userId\": 106, \"id_y\": 1273, \"created_at\": \"2021-05-04T13:02:17.286783\", \"activity\": \"Logged in\"}, {\"id_x\": 120, \"status\": \"A\", \"attendanceSessionId\": 8, \"userId\": 106, \"id_y\": 1028, \"created_at\": \"2021-03-25T11:25:05.219531\", \"activity\": \"Logged in\"}, {\"id_x\": 120, \"status\": \"A\", \"attendanceSessionId\": 8, \"userId\": 106, \"id_y\": 1029, \"created_at\": \"2021-03-25T11:25:36.764022\", \"activity\": \"Accessed Session 4 - Starter Files from Intro to Game Dev with Unity repo\"}, {\"id_x\": 120, \"status\": \"A\", \"attendanceSessionId\": 8, \"userId\": 106, \"id_y\": 1030, \"created_at\": \"2021-03-25T11:28:19.047747\", \"activity\": \"Accessed Session 3 Recap from Intro to Game Dev with Unity repo\"}, {\"id_x\": 120, \"status\": \"A\", \"attendanceSessionId\": 8, \"userId\": 106, \"id_y\": 1091, \"created_at\": \"2021-04-01T05:46:28.584097\", \"activity\": \"Logged in\"}, {\"id_x\": 120, \"status\": \"A\", \"attendanceSessionId\": 8, \"userId\": 106, \"id_y\": 1092, \"created_at\": \"2021-04-01T05:46:52.658630\", \"activity\": \"Accessed Session 5 - Assets from Intro to Game Dev with Unity repo [access:141012aa424::rrtGJAd2ae1e]\"}, {\"id_x\": 120, \"status\": \"A\", \"attendanceSessionId\": 8, \"userId\": 106, \"id_y\": 1093, \"created_at\": \"2021-04-01T05:47:27.761210\", \"activity\": \"Accessed Session 5 - Starter Files from Intro to Game Dev with Unity repo [access:3aadbfd9eca::rrtGJAd2ae1e]\"}, {\"id_x\": 120, \"status\": \"A\", \"attendanceSessionId\": 8, \"userId\": 106, \"id_y\": 1094, \"created_at\": \"2021-04-01T05:49:44.969753\", \"activity\": \"Accessed Session Four Recap from Intro to Game Dev with Unity repo [access:b4aec5f066b::rrtGJAd2ae1e]\"}, {\"id_x\": 120, \"status\": \"A\", \"attendanceSessionId\": 8, \"userId\": 106, \"id_y\": 1129, \"created_at\": \"2021-04-09T13:42:41.610992\", \"activity\": \"Logged in\"}, {\"id_x\": 120, \"status\": \"A\", \"attendanceSessionId\": 8, \"userId\": 106, \"id_y\": 1130, \"created_at\": \"2021-04-09T13:42:59.996112\", \"activity\": \"Accessed Session 6 - Starter Files from Intro to Game Dev with Unity repo [access:4ff849da461::rrtGJAd2ae1e]\"}, {\"id_x\": 120, \"status\": \"A\", \"attendanceSessionId\": 8, \"userId\": 106, \"id_y\": 1131, \"created_at\": \"2021-04-09T13:43:36.345370\", \"activity\": \"Accessed Session 6 Recap from Intro to Game Dev with Unity repo [access:1d9bec2ad95::rrtGJAd2ae1e]\"}, {\"id_x\": 120, \"status\": \"A\", \"attendanceSessionId\": 8, \"userId\": 106, \"id_y\": 1132, \"created_at\": \"2021-04-09T13:46:13.557782\", \"activity\": \"Logged in\"}, {\"id_x\": 120, \"status\": \"A\", \"attendanceSessionId\": 8, \"userId\": 106, \"id_y\": 1133, \"created_at\": \"2021-04-09T13:46:28.733212\", \"activity\": \"Accessed Session 5 Recap from Intro to Game Dev with Unity repo [access:f2ec33fafc6::rrtGJAd2ae1e]\"}, {\"id_x\": 120, \"status\": \"A\", \"attendanceSessionId\": 8, \"userId\": 106, \"id_y\": 1202, \"created_at\": \"2021-04-20T13:31:56.843845\", \"activity\": \"Logged in\"}, {\"id_x\": 120, \"status\": \"A\", \"attendanceSessionId\": 8, \"userId\": 106, \"id_y\": 1203, \"created_at\": \"2021-04-20T13:32:21.387216\", \"activity\": \"Accessed Session 7 - Starter Files from Intro to Game Dev with Unity repo [access:0274231c583::rrtGJAd2ae1e]\"}, {\"id_x\": 120, \"status\": \"A\", \"attendanceSessionId\": 8, \"userId\": 106, \"id_y\": 1204, \"created_at\": \"2021-04-20T13:33:21.556400\", \"activity\": \"Accessed Session 7 Recap from Intro to Game Dev with Unity repo [access:f808a2f41b5::rrtGJAd2ae1e]\"}, {\"id_x\": 120, \"status\": \"A\", \"attendanceSessionId\": 8, \"userId\": 106, \"id_y\": 1212, \"created_at\": \"2021-04-26T15:00:44.092802\", \"activity\": \"Logged in\"}, {\"id_x\": 120, \"status\": \"A\", \"attendanceSessionId\": 8, \"userId\": 106, \"id_y\": 1213, \"created_at\": \"2021-04-26T15:01:09.771726\", \"activity\": \"Accessed Session 8 - Starter Files from Intro to Game Dev with Unity repo [access:1d14e303b59::rrtGJAd2ae1e]\"}, {\"id_x\": 120, \"status\": \"A\", \"attendanceSessionId\": 8, \"userId\": 106, \"id_y\": 1214, \"created_at\": \"2021-04-26T15:03:53.740382\", \"activity\": \"Accessed Session 7 Recap from Intro to Game Dev with Unity repo [access:f808a2f41b5::rrtGJAd2ae1e]\"}, {\"id_x\": 120, \"status\": \"A\", \"attendanceSessionId\": 8, \"userId\": 106, \"id_y\": 1215, \"created_at\": \"2021-04-26T15:03:54.531726\", \"activity\": \"Accessed Session 7 Recap from Intro to Game Dev with Unity repo [access:f808a2f41b5::rrtGJAd2ae1e]\"}, {\"id_x\": 120, \"status\": \"A\", \"attendanceSessionId\": 8, \"userId\": 106, \"id_y\": 1270, \"created_at\": \"2021-05-04T10:25:12.123851\", \"activity\": \"Logged in\"}, {\"id_x\": 120, \"status\": \"A\", \"attendanceSessionId\": 8, \"userId\": 106, \"id_y\": 1271, \"created_at\": \"2021-05-04T13:02:03.043346\", \"activity\": \"Logged in\"}, {\"id_x\": 120, \"status\": \"A\", \"attendanceSessionId\": 8, \"userId\": 106, \"id_y\": 1272, \"created_at\": \"2021-05-04T13:02:05.909218\", \"activity\": \"Logged in\"}, {\"id_x\": 120, \"status\": \"A\", \"attendanceSessionId\": 8, \"userId\": 106, \"id_y\": 1273, \"created_at\": \"2021-05-04T13:02:17.286783\", \"activity\": \"Logged in\"}, {\"id_x\": 149, \"status\": \"I\", \"attendanceSessionId\": 9, \"userId\": 106, \"id_y\": 1028, \"created_at\": \"2021-03-25T11:25:05.219531\", \"activity\": \"Logged in\"}, {\"id_x\": 149, \"status\": \"I\", \"attendanceSessionId\": 9, \"userId\": 106, \"id_y\": 1029, \"created_at\": \"2021-03-25T11:25:36.764022\", \"activity\": \"Accessed Session 4 - Starter Files from Intro to Game Dev with Unity repo\"}, {\"id_x\": 149, \"status\": \"I\", \"attendanceSessionId\": 9, \"userId\": 106, \"id_y\": 1030, \"created_at\": \"2021-03-25T11:28:19.047747\", \"activity\": \"Accessed Session 3 Recap from Intro to Game Dev with Unity repo\"}, {\"id_x\": 149, \"status\": \"I\", \"attendanceSessionId\": 9, \"userId\": 106, \"id_y\": 1091, \"created_at\": \"2021-04-01T05:46:28.584097\", \"activity\": \"Logged in\"}, {\"id_x\": 149, \"status\": \"I\", \"attendanceSessionId\": 9, \"userId\": 106, \"id_y\": 1092, \"created_at\": \"2021-04-01T05:46:52.658630\", \"activity\": \"Accessed Session 5 - Assets from Intro to Game Dev with Unity repo [access:141012aa424::rrtGJAd2ae1e]\"}, {\"id_x\": 149, \"status\": \"I\", \"attendanceSessionId\": 9, \"userId\": 106, \"id_y\": 1093, \"created_at\": \"2021-04-01T05:47:27.761210\", \"activity\": \"Accessed Session 5 - Starter Files from Intro to Game Dev with Unity repo [access:3aadbfd9eca::rrtGJAd2ae1e]\"}, {\"id_x\": 149, \"status\": \"I\", \"attendanceSessionId\": 9, \"userId\": 106, \"id_y\": 1094, \"created_at\": \"2021-04-01T05:49:44.969753\", \"activity\": \"Accessed Session Four Recap from Intro to Game Dev with Unity repo [access:b4aec5f066b::rrtGJAd2ae1e]\"}, {\"id_x\": 149, \"status\": \"I\", \"attendanceSessionId\": 9, \"userId\": 106, \"id_y\": 1129, \"created_at\": \"2021-04-09T13:42:41.610992\", \"activity\": \"Logged in\"}, {\"id_x\": 149, \"status\": \"I\", \"attendanceSessionId\": 9, \"userId\": 106, \"id_y\": 1130, \"created_at\": \"2021-04-09T13:42:59.996112\", \"activity\": \"Accessed Session 6 - Starter Files from Intro to Game Dev with Unity repo [access:4ff849da461::rrtGJAd2ae1e]\"}, {\"id_x\": 149, \"status\": \"I\", \"attendanceSessionId\": 9, \"userId\": 106, \"id_y\": 1131, \"created_at\": \"2021-04-09T13:43:36.345370\", \"activity\": \"Accessed Session 6 Recap from Intro to Game Dev with Unity repo [access:1d9bec2ad95::rrtGJAd2ae1e]\"}, {\"id_x\": 149, \"status\": \"I\", \"attendanceSessionId\": 9, \"userId\": 106, \"id_y\": 1132, \"created_at\": \"2021-04-09T13:46:13.557782\", \"activity\": \"Logged in\"}, {\"id_x\": 149, \"status\": \"I\", \"attendanceSessionId\": 9, \"userId\": 106, \"id_y\": 1133, \"created_at\": \"2021-04-09T13:46:28.733212\", \"activity\": \"Accessed Session 5 Recap from Intro to Game Dev with Unity repo [access:f2ec33fafc6::rrtGJAd2ae1e]\"}, {\"id_x\": 149, \"status\": \"I\", \"attendanceSessionId\": 9, \"userId\": 106, \"id_y\": 1202, \"created_at\": \"2021-04-20T13:31:56.843845\", \"activity\": \"Logged in\"}, {\"id_x\": 149, \"status\": \"I\", \"attendanceSessionId\": 9, \"userId\": 106, \"id_y\": 1203, \"created_at\": \"2021-04-20T13:32:21.387216\", \"activity\": \"Accessed Session 7 - Starter Files from Intro to Game Dev with Unity repo [access:0274231c583::rrtGJAd2ae1e]\"}, {\"id_x\": 149, \"status\": \"I\", \"attendanceSessionId\": 9, \"userId\": 106, \"id_y\": 1204, \"created_at\": \"2021-04-20T13:33:21.556400\", \"activity\": \"Accessed Session 7 Recap from Intro to Game Dev with Unity repo [access:f808a2f41b5::rrtGJAd2ae1e]\"}, {\"id_x\": 149, \"status\": \"I\", \"attendanceSessionId\": 9, \"userId\": 106, \"id_y\": 1212, \"created_at\": \"2021-04-26T15:00:44.092802\", \"activity\": \"Logged in\"}, {\"id_x\": 149, \"status\": \"I\", \"attendanceSessionId\": 9, \"userId\": 106, \"id_y\": 1213, \"created_at\": \"2021-04-26T15:01:09.771726\", \"activity\": \"Accessed Session 8 - Starter Files from Intro to Game Dev with Unity repo [access:1d14e303b59::rrtGJAd2ae1e]\"}, {\"id_x\": 149, \"status\": \"I\", \"attendanceSessionId\": 9, \"userId\": 106, \"id_y\": 1214, \"created_at\": \"2021-04-26T15:03:53.740382\", \"activity\": \"Accessed Session 7 Recap from Intro to Game Dev with Unity repo [access:f808a2f41b5::rrtGJAd2ae1e]\"}, {\"id_x\": 149, \"status\": \"I\", \"attendanceSessionId\": 9, \"userId\": 106, \"id_y\": 1215, \"created_at\": \"2021-04-26T15:03:54.531726\", \"activity\": \"Accessed Session 7 Recap from Intro to Game Dev with Unity repo [access:f808a2f41b5::rrtGJAd2ae1e]\"}, {\"id_x\": 149, \"status\": \"I\", \"attendanceSessionId\": 9, \"userId\": 106, \"id_y\": 1270, \"created_at\": \"2021-05-04T10:25:12.123851\", \"activity\": \"Logged in\"}, {\"id_x\": 149, \"status\": \"I\", \"attendanceSessionId\": 9, \"userId\": 106, \"id_y\": 1271, \"created_at\": \"2021-05-04T13:02:03.043346\", \"activity\": \"Logged in\"}, {\"id_x\": 149, \"status\": \"I\", \"attendanceSessionId\": 9, \"userId\": 106, \"id_y\": 1272, \"created_at\": \"2021-05-04T13:02:05.909218\", \"activity\": \"Logged in\"}, {\"id_x\": 149, \"status\": \"I\", \"attendanceSessionId\": 9, \"userId\": 106, \"id_y\": 1273, \"created_at\": \"2021-05-04T13:02:17.286783\", \"activity\": \"Logged in\"}, {\"id_x\": 152, \"status\": \"A\", \"attendanceSessionId\": 10, \"userId\": 121, \"id_y\": 1321, \"created_at\": \"2021-06-10T21:16:18.081432\", \"activity\": \"Enrolled onto Programming Fundamentals\"}, {\"id_x\": 152, \"status\": \"A\", \"attendanceSessionId\": 10, \"userId\": 121, \"id_y\": 1322, \"created_at\": \"2021-06-10T21:17:16.714944\", \"activity\": \"Password expired. Redirecting to update password\"}, {\"id_x\": 153, \"status\": \"P\", \"attendanceSessionId\": 10, \"userId\": 122, \"id_y\": 1327, \"created_at\": \"2021-06-12T18:58:19.299118\", \"activity\": \"Enrolled onto Programming Fundamentals\"}, {\"id_x\": 154, \"status\": \"A\", \"attendanceSessionId\": 10, \"userId\": 123, \"id_y\": 1330, \"created_at\": \"2021-06-15T21:10:42.939927\", \"activity\": \"Enrolled onto Programming Fundamentals\"}, {\"id_x\": 155, \"status\": \"A\", \"attendanceSessionId\": 10, \"userId\": 124, \"id_y\": 1333, \"created_at\": \"2021-06-18T17:09:56.912754\", \"activity\": \"Enrolled onto Programming Fundamentals\"}, {\"id_x\": 156, \"status\": \"P\", \"attendanceSessionId\": 10, \"userId\": 125, \"id_y\": 1340, \"created_at\": \"2021-06-23T00:52:00.794961\", \"activity\": \"Enrolled onto Programming Fundamentals\"}, {\"id_x\": 157, \"status\": \"A\", \"attendanceSessionId\": 10, \"userId\": 127, \"id_y\": 1344, \"created_at\": \"2021-06-25T12:12:24.358882\", \"activity\": \"Enrolled onto Programming Fundamentals\"}, {\"id_x\": 158, \"status\": \"A\", \"attendanceSessionId\": 10, \"userId\": 128, \"id_y\": 1345, \"created_at\": \"2021-06-25T15:13:34.235389\", \"activity\": \"Enrolled onto Programming Fundamentals\"}]}}, {\"actions\": false, \"mode\": \"vega-lite\"});\n</script>",
      "text/plain": "alt.Chart(...)"
     },
     "metadata": {}
    }
   ]
  },
  {
   "cell_type": "code",
   "metadata": {
    "cell_id": "3f4499c1eb964b9f9912dcf23de876fe",
    "tags": [],
    "deepnote_to_be_reexecuted": false,
    "source_hash": "c4f88827",
    "execution_start": 1652907670326,
    "execution_millis": 55,
    "deepnote_cell_type": "code",
    "deepnote_cell_height": 518
   },
   "source": "df3.describe()",
   "execution_count": 16,
   "outputs": [
    {
     "output_type": "execute_result",
     "execution_count": 16,
     "data": {
      "application/vnd.deepnote.dataframe.v3+json": {
       "column_count": 4,
       "row_count": 8,
       "columns": [
        {
         "name": "id_x",
         "dtype": "float64",
         "stats": {
          "unique_count": 8,
          "nan_count": 0,
          "min": "28.0",
          "max": "706.0",
          "histogram": [
           {
            "bin_start": 28,
            "bin_end": 95.8,
            "count": 5
           },
           {
            "bin_start": 95.8,
            "bin_end": 163.6,
            "count": 2
           },
           {
            "bin_start": 163.6,
            "bin_end": 231.39999999999998,
            "count": 0
           },
           {
            "bin_start": 231.39999999999998,
            "bin_end": 299.2,
            "count": 0
           },
           {
            "bin_start": 299.2,
            "bin_end": 367,
            "count": 0
           },
           {
            "bin_start": 367,
            "bin_end": 434.79999999999995,
            "count": 0
           },
           {
            "bin_start": 434.79999999999995,
            "bin_end": 502.59999999999997,
            "count": 0
           },
           {
            "bin_start": 502.59999999999997,
            "bin_end": 570.4,
            "count": 0
           },
           {
            "bin_start": 570.4,
            "bin_end": 638.1999999999999,
            "count": 0
           },
           {
            "bin_start": 638.1999999999999,
            "bin_end": 706,
            "count": 1
           }
          ]
         }
        },
        {
         "name": "attendanceSessionId",
         "dtype": "float64",
         "stats": {
          "unique_count": 8,
          "nan_count": 0,
          "min": "1.0",
          "max": "706.0",
          "histogram": [
           {
            "bin_start": 1,
            "bin_end": 71.5,
            "count": 7
           },
           {
            "bin_start": 71.5,
            "bin_end": 142,
            "count": 0
           },
           {
            "bin_start": 142,
            "bin_end": 212.5,
            "count": 0
           },
           {
            "bin_start": 212.5,
            "bin_end": 283,
            "count": 0
           },
           {
            "bin_start": 283,
            "bin_end": 353.5,
            "count": 0
           },
           {
            "bin_start": 353.5,
            "bin_end": 424,
            "count": 0
           },
           {
            "bin_start": 424,
            "bin_end": 494.5,
            "count": 0
           },
           {
            "bin_start": 494.5,
            "bin_end": 565,
            "count": 0
           },
           {
            "bin_start": 565,
            "bin_end": 635.5,
            "count": 0
           },
           {
            "bin_start": 635.5,
            "bin_end": 706,
            "count": 1
           }
          ]
         }
        },
        {
         "name": "userId",
         "dtype": "float64",
         "stats": {
          "unique_count": 8,
          "nan_count": 0,
          "min": "16.193168216376087",
          "max": "706.0",
          "histogram": [
           {
            "bin_start": 16.193168216376087,
            "bin_end": 85.17385139473848,
            "count": 3
           },
           {
            "bin_start": 85.17385139473848,
            "bin_end": 154.15453457310088,
            "count": 4
           },
           {
            "bin_start": 154.15453457310088,
            "bin_end": 223.13521775146327,
            "count": 0
           },
           {
            "bin_start": 223.13521775146327,
            "bin_end": 292.11590092982567,
            "count": 0
           },
           {
            "bin_start": 292.11590092982567,
            "bin_end": 361.09658410818804,
            "count": 0
           },
           {
            "bin_start": 361.09658410818804,
            "bin_end": 430.07726728655047,
            "count": 0
           },
           {
            "bin_start": 430.07726728655047,
            "bin_end": 499.0579504649129,
            "count": 0
           },
           {
            "bin_start": 499.0579504649129,
            "bin_end": 568.0386336432753,
            "count": 0
           },
           {
            "bin_start": 568.0386336432753,
            "bin_end": 637.0193168216376,
            "count": 0
           },
           {
            "bin_start": 637.0193168216376,
            "bin_end": 706,
            "count": 1
           }
          ]
         }
        },
        {
         "name": "id_y",
         "dtype": "float64",
         "stats": {
          "unique_count": 8,
          "nan_count": 0,
          "min": "99.0317455023503",
          "max": "1418.0",
          "histogram": [
           {
            "bin_start": 99.0317455023503,
            "bin_end": 230.92857095211528,
            "count": 1
           },
           {
            "bin_start": 230.92857095211528,
            "bin_end": 362.82539640188025,
            "count": 0
           },
           {
            "bin_start": 362.82539640188025,
            "bin_end": 494.72222185164526,
            "count": 0
           },
           {
            "bin_start": 494.72222185164526,
            "bin_end": 626.6190473014102,
            "count": 0
           },
           {
            "bin_start": 626.6190473014102,
            "bin_end": 758.5158727511752,
            "count": 1
           },
           {
            "bin_start": 758.5158727511752,
            "bin_end": 890.4126982009402,
            "count": 0
           },
           {
            "bin_start": 890.4126982009402,
            "bin_end": 1022.3095236507052,
            "count": 0
           },
           {
            "bin_start": 1022.3095236507052,
            "bin_end": 1154.20634910047,
            "count": 2
           },
           {
            "bin_start": 1154.20634910047,
            "bin_end": 1286.103174550235,
            "count": 3
           },
           {
            "bin_start": 1286.103174550235,
            "bin_end": 1418,
            "count": 1
           }
          ]
         }
        },
        {
         "name": "_deepnote_index_column",
         "dtype": "object"
        }
       ],
       "rows": [
        {
         "id_x": 706,
         "attendanceSessionId": 706,
         "userId": 706,
         "id_y": 706,
         "_deepnote_index_column": "count"
        },
        {
         "id_x": 90.11189801699717,
         "attendanceSessionId": 5.219546742209632,
         "userId": 92.47875354107649,
         "id_y": 1179.240793201133,
         "_deepnote_index_column": "mean"
        },
        {
         "id_x": 35.79936526353301,
         "attendanceSessionId": 2.7265363305193375,
         "userId": 16.193168216376087,
         "id_y": 99.0317455023503,
         "_deepnote_index_column": "std"
        },
        {
         "id_x": 28,
         "attendanceSessionId": 1,
         "userId": 66,
         "id_y": 1028,
         "_deepnote_index_column": "min"
        },
        {
         "id_x": 62,
         "attendanceSessionId": 3,
         "userId": 73,
         "id_y": 1083,
         "_deepnote_index_column": "25%"
        },
        {
         "id_x": 92,
         "attendanceSessionId": 5,
         "userId": 105,
         "id_y": 1204,
         "_deepnote_index_column": "50%"
        },
        {
         "id_x": 115,
         "attendanceSessionId": 8,
         "userId": 106,
         "id_y": 1257.75,
         "_deepnote_index_column": "75%"
        },
        {
         "id_x": 159,
         "attendanceSessionId": 10,
         "userId": 128,
         "id_y": 1418,
         "_deepnote_index_column": "max"
        }
       ]
      },
      "text/plain": "             id_x  attendanceSessionId      userId         id_y\ncount  706.000000           706.000000  706.000000   706.000000\nmean    90.111898             5.219547   92.478754  1179.240793\nstd     35.799365             2.726536   16.193168    99.031746\nmin     28.000000             1.000000   66.000000  1028.000000\n25%     62.000000             3.000000   73.000000  1083.000000\n50%     92.000000             5.000000  105.000000  1204.000000\n75%    115.000000             8.000000  106.000000  1257.750000\nmax    159.000000            10.000000  128.000000  1418.000000",
      "text/html": "<div>\n<style scoped>\n    .dataframe tbody tr th:only-of-type {\n        vertical-align: middle;\n    }\n\n    .dataframe tbody tr th {\n        vertical-align: top;\n    }\n\n    .dataframe thead th {\n        text-align: right;\n    }\n</style>\n<table border=\"1\" class=\"dataframe\">\n  <thead>\n    <tr style=\"text-align: right;\">\n      <th></th>\n      <th>id_x</th>\n      <th>attendanceSessionId</th>\n      <th>userId</th>\n      <th>id_y</th>\n    </tr>\n  </thead>\n  <tbody>\n    <tr>\n      <th>count</th>\n      <td>706.000000</td>\n      <td>706.000000</td>\n      <td>706.000000</td>\n      <td>706.000000</td>\n    </tr>\n    <tr>\n      <th>mean</th>\n      <td>90.111898</td>\n      <td>5.219547</td>\n      <td>92.478754</td>\n      <td>1179.240793</td>\n    </tr>\n    <tr>\n      <th>std</th>\n      <td>35.799365</td>\n      <td>2.726536</td>\n      <td>16.193168</td>\n      <td>99.031746</td>\n    </tr>\n    <tr>\n      <th>min</th>\n      <td>28.000000</td>\n      <td>1.000000</td>\n      <td>66.000000</td>\n      <td>1028.000000</td>\n    </tr>\n    <tr>\n      <th>25%</th>\n      <td>62.000000</td>\n      <td>3.000000</td>\n      <td>73.000000</td>\n      <td>1083.000000</td>\n    </tr>\n    <tr>\n      <th>50%</th>\n      <td>92.000000</td>\n      <td>5.000000</td>\n      <td>105.000000</td>\n      <td>1204.000000</td>\n    </tr>\n    <tr>\n      <th>75%</th>\n      <td>115.000000</td>\n      <td>8.000000</td>\n      <td>106.000000</td>\n      <td>1257.750000</td>\n    </tr>\n    <tr>\n      <th>max</th>\n      <td>159.000000</td>\n      <td>10.000000</td>\n      <td>128.000000</td>\n      <td>1418.000000</td>\n    </tr>\n  </tbody>\n</table>\n</div>"
     },
     "metadata": {}
    }
   ]
  },
  {
   "cell_type": "code",
   "metadata": {
    "cell_id": "44d9cac2bbbe4996ade2c7e5b3c64da2",
    "tags": [],
    "deepnote_to_be_reexecuted": false,
    "source_hash": "96a9c820",
    "execution_start": 1652907670394,
    "execution_millis": 257,
    "deepnote_table_state": {
     "pageSize": 10,
     "pageIndex": 8,
     "filters": [],
     "sortBy": []
    },
    "deepnote_table_loading": false,
    "deepnote_cell_type": "code",
    "deepnote_cell_height": 631.59375
   },
   "source": "users = pd.read_csv('users.csv')\nusers",
   "execution_count": 17,
   "outputs": [
    {
     "output_type": "execute_result",
     "execution_count": 61,
     "data": {
      "application/vnd.deepnote.dataframe.v3+json": {
       "column_count": 30,
       "row_count": 90,
       "columns": [
        {
         "name": "userId",
         "dtype": "int64",
         "stats": {
          "unique_count": 90,
          "nan_count": 0,
          "min": "0",
          "max": "133",
          "histogram": [
           {
            "bin_start": 0,
            "bin_end": 13.3,
            "count": 14
           },
           {
            "bin_start": 13.3,
            "bin_end": 26.6,
            "count": 13
           },
           {
            "bin_start": 26.6,
            "bin_end": 39.900000000000006,
            "count": 13
           },
           {
            "bin_start": 39.900000000000006,
            "bin_end": 53.2,
            "count": 14
           },
           {
            "bin_start": 53.2,
            "bin_end": 66.5,
            "count": 2
           },
           {
            "bin_start": 66.5,
            "bin_end": 79.80000000000001,
            "count": 3
           },
           {
            "bin_start": 79.80000000000001,
            "bin_end": 93.10000000000001,
            "count": 8
           },
           {
            "bin_start": 93.10000000000001,
            "bin_end": 106.4,
            "count": 2
           },
           {
            "bin_start": 106.4,
            "bin_end": 119.7,
            "count": 7
           },
           {
            "bin_start": 119.7,
            "bin_end": 133,
            "count": 14
           }
          ]
         }
        },
        {
         "name": "created_at",
         "dtype": "object",
         "stats": {
          "unique_count": 90,
          "nan_count": 0,
          "categories": [
           {
            "name": "2021-06-07 15:06:21.000000",
            "count": 1
           },
           {
            "name": "2020-07-16 21:29:29.814864",
            "count": 1
           },
           {
            "name": "88 others",
            "count": 88
           }
          ]
         }
        },
        {
         "name": "updated_at",
         "dtype": "object",
         "stats": {
          "unique_count": 38,
          "nan_count": 0,
          "categories": [
           {
            "name": "2021-02-16 00:21:07.000000",
            "count": 46
           },
           {
            "name": "2021-06-25 15:13:34.000000",
            "count": 7
           },
           {
            "name": "36 others",
            "count": 37
           }
          ]
         }
        },
        {
         "name": "firstName",
         "dtype": "object",
         "stats": {
          "unique_count": 2,
          "nan_count": 0,
          "categories": [
           {
            "name": "[[REDACTED]]",
            "count": 89
           },
           {
            "name": "ProjectFunction",
            "count": 1
           }
          ]
         }
        },
        {
         "name": "lastName",
         "dtype": "object",
         "stats": {
          "unique_count": 87,
          "nan_count": 0,
          "categories": [
           {
            "name": "Khan",
            "count": 2
           },
           {
            "name": "Hayre",
            "count": 2
           },
           {
            "name": "85 others",
            "count": 86
           }
          ]
         }
        },
        {
         "name": "email",
         "dtype": "object",
         "stats": {
          "unique_count": 1,
          "nan_count": 0,
          "categories": [
           {
            "name": "[[REDACTED]]",
            "count": 90
           }
          ]
         }
        },
        {
         "name": "profilePicture",
         "dtype": "object",
         "stats": {
          "unique_count": 5,
          "nan_count": 80,
          "categories": [
           {
            "name": "[[REDACTED]]",
            "count": 6
           },
           {
            "name": "4 others",
            "count": 4
           },
           {
            "name": "Missing",
            "count": 80
           }
          ]
         }
        },
        {
         "name": "username",
         "dtype": "object",
         "stats": {
          "unique_count": 2,
          "nan_count": 0,
          "categories": [
           {
            "name": "[[REDACTED]]",
            "count": 89
           },
           {
            "name": "system",
            "count": 1
           }
          ]
         }
        },
        {
         "name": "title",
         "dtype": "object",
         "stats": {
          "unique_count": 2,
          "nan_count": 1,
          "categories": [
           {
            "name": "They/Them",
            "count": 75
           },
           {
            "name": "[[REDACTED]]",
            "count": 14
           },
           {
            "name": "Missing",
            "count": 1
           }
          ]
         }
        },
        {
         "name": "bio",
         "dtype": "object",
         "stats": {
          "unique_count": 1,
          "nan_count": 89,
          "categories": [
           {
            "name": "Beep Beep Boop",
            "count": 1
           },
           {
            "name": "Missing",
            "count": 89
           }
          ]
         }
        },
        {
         "name": "password_hash",
         "dtype": "object",
         "stats": {
          "unique_count": 1,
          "nan_count": 1,
          "categories": [
           {
            "name": "[[REDACTED]]",
            "count": 89
           },
           {
            "name": "Missing",
            "count": 1
           }
          ]
         }
        },
        {
         "name": "saltine",
         "dtype": "object",
         "stats": {
          "unique_count": 89,
          "nan_count": 1,
          "categories": [
           {
            "name": "2dbf92f4669fcb7e87cc7f7a596321f3d4c85847edeb0364198cbce87bd67088::15.17966887244392",
            "count": 1
           },
           {
            "name": "88 others",
            "count": 88
           },
           {
            "name": "Missing",
            "count": 1
           }
          ]
         }
        },
        {
         "name": "isSuperUser",
         "dtype": "int64",
         "stats": {
          "unique_count": 2,
          "nan_count": 0,
          "min": "0",
          "max": "1",
          "histogram": [
           {
            "bin_start": 0,
            "bin_end": 0.1,
            "count": 87
           },
           {
            "bin_start": 0.1,
            "bin_end": 0.2,
            "count": 0
           },
           {
            "bin_start": 0.2,
            "bin_end": 0.30000000000000004,
            "count": 0
           },
           {
            "bin_start": 0.30000000000000004,
            "bin_end": 0.4,
            "count": 0
           },
           {
            "bin_start": 0.4,
            "bin_end": 0.5,
            "count": 0
           },
           {
            "bin_start": 0.5,
            "bin_end": 0.6000000000000001,
            "count": 0
           },
           {
            "bin_start": 0.6000000000000001,
            "bin_end": 0.7000000000000001,
            "count": 0
           },
           {
            "bin_start": 0.7000000000000001,
            "bin_end": 0.8,
            "count": 0
           },
           {
            "bin_start": 0.8,
            "bin_end": 0.9,
            "count": 0
           },
           {
            "bin_start": 0.9,
            "bin_end": 1,
            "count": 3
           }
          ]
         }
        },
        {
         "name": "isVerified",
         "dtype": "int64",
         "stats": {
          "unique_count": 2,
          "nan_count": 0,
          "min": "0",
          "max": "1",
          "histogram": [
           {
            "bin_start": 0,
            "bin_end": 0.1,
            "count": 16
           },
           {
            "bin_start": 0.1,
            "bin_end": 0.2,
            "count": 0
           },
           {
            "bin_start": 0.2,
            "bin_end": 0.30000000000000004,
            "count": 0
           },
           {
            "bin_start": 0.30000000000000004,
            "bin_end": 0.4,
            "count": 0
           },
           {
            "bin_start": 0.4,
            "bin_end": 0.5,
            "count": 0
           },
           {
            "bin_start": 0.5,
            "bin_end": 0.6000000000000001,
            "count": 0
           },
           {
            "bin_start": 0.6000000000000001,
            "bin_end": 0.7000000000000001,
            "count": 0
           },
           {
            "bin_start": 0.7000000000000001,
            "bin_end": 0.8,
            "count": 0
           },
           {
            "bin_start": 0.8,
            "bin_end": 0.9,
            "count": 0
           },
           {
            "bin_start": 0.9,
            "bin_end": 1,
            "count": 74
           }
          ]
         }
        },
        {
         "name": "isBanned",
         "dtype": "int64",
         "stats": {
          "unique_count": 1,
          "nan_count": 0,
          "min": "0",
          "max": "0",
          "histogram": [
           {
            "bin_start": -0.5,
            "bin_end": -0.4,
            "count": 0
           },
           {
            "bin_start": -0.4,
            "bin_end": -0.3,
            "count": 0
           },
           {
            "bin_start": -0.3,
            "bin_end": -0.19999999999999996,
            "count": 0
           },
           {
            "bin_start": -0.19999999999999996,
            "bin_end": -0.09999999999999998,
            "count": 0
           },
           {
            "bin_start": -0.09999999999999998,
            "bin_end": 0,
            "count": 0
           },
           {
            "bin_start": 0,
            "bin_end": 0.10000000000000009,
            "count": 90
           },
           {
            "bin_start": 0.10000000000000009,
            "bin_end": 0.20000000000000007,
            "count": 0
           },
           {
            "bin_start": 0.20000000000000007,
            "bin_end": 0.30000000000000004,
            "count": 0
           },
           {
            "bin_start": 0.30000000000000004,
            "bin_end": 0.4,
            "count": 0
           },
           {
            "bin_start": 0.4,
            "bin_end": 0.5,
            "count": 0
           }
          ]
         }
        },
        {
         "name": "isPasswordExpired",
         "dtype": "int64",
         "stats": {
          "unique_count": 2,
          "nan_count": 0,
          "min": "0",
          "max": "1",
          "histogram": [
           {
            "bin_start": 0,
            "bin_end": 0.1,
            "count": 27
           },
           {
            "bin_start": 0.1,
            "bin_end": 0.2,
            "count": 0
           },
           {
            "bin_start": 0.2,
            "bin_end": 0.30000000000000004,
            "count": 0
           },
           {
            "bin_start": 0.30000000000000004,
            "bin_end": 0.4,
            "count": 0
           },
           {
            "bin_start": 0.4,
            "bin_end": 0.5,
            "count": 0
           },
           {
            "bin_start": 0.5,
            "bin_end": 0.6000000000000001,
            "count": 0
           },
           {
            "bin_start": 0.6000000000000001,
            "bin_end": 0.7000000000000001,
            "count": 0
           },
           {
            "bin_start": 0.7000000000000001,
            "bin_end": 0.8,
            "count": 0
           },
           {
            "bin_start": 0.8,
            "bin_end": 0.9,
            "count": 0
           },
           {
            "bin_start": 0.9,
            "bin_end": 1,
            "count": 63
           }
          ]
         }
        },
        {
         "name": "lastLogin",
         "dtype": "object",
         "stats": {
          "unique_count": 64,
          "nan_count": 1,
          "categories": [
           {
            "name": "2020-07-16 22:34:39",
            "count": 4
           },
           {
            "name": "63 others",
            "count": 85
           },
           {
            "name": "Missing",
            "count": 1
           }
          ]
         }
        },
        {
         "name": "loginAttempts",
         "dtype": "int64",
         "stats": {
          "unique_count": 5,
          "nan_count": 0,
          "min": "0",
          "max": "5",
          "histogram": [
           {
            "bin_start": 0,
            "bin_end": 0.5,
            "count": 82
           },
           {
            "bin_start": 0.5,
            "bin_end": 1,
            "count": 0
           },
           {
            "bin_start": 1,
            "bin_end": 1.5,
            "count": 3
           },
           {
            "bin_start": 1.5,
            "bin_end": 2,
            "count": 0
           },
           {
            "bin_start": 2,
            "bin_end": 2.5,
            "count": 1
           },
           {
            "bin_start": 2.5,
            "bin_end": 3,
            "count": 0
           },
           {
            "bin_start": 3,
            "bin_end": 3.5,
            "count": 3
           },
           {
            "bin_start": 3.5,
            "bin_end": 4,
            "count": 0
           },
           {
            "bin_start": 4,
            "bin_end": 4.5,
            "count": 0
           },
           {
            "bin_start": 4.5,
            "bin_end": 5,
            "count": 1
           }
          ]
         }
        },
        {
         "name": "githubAccountId",
         "dtype": "float64",
         "stats": {
          "unique_count": 21,
          "nan_count": 69,
          "min": "2.0",
          "max": "25.0",
          "histogram": [
           {
            "bin_start": 2,
            "bin_end": 4.3,
            "count": 3
           },
           {
            "bin_start": 4.3,
            "bin_end": 6.6,
            "count": 2
           },
           {
            "bin_start": 6.6,
            "bin_end": 8.899999999999999,
            "count": 2
           },
           {
            "bin_start": 8.899999999999999,
            "bin_end": 11.2,
            "count": 3
           },
           {
            "bin_start": 11.2,
            "bin_end": 13.5,
            "count": 2
           },
           {
            "bin_start": 13.5,
            "bin_end": 15.799999999999999,
            "count": 2
           },
           {
            "bin_start": 15.799999999999999,
            "bin_end": 18.099999999999998,
            "count": 2
           },
           {
            "bin_start": 18.099999999999998,
            "bin_end": 20.4,
            "count": 1
           },
           {
            "bin_start": 20.4,
            "bin_end": 22.7,
            "count": 2
           },
           {
            "bin_start": 22.7,
            "bin_end": 25,
            "count": 2
           }
          ]
         }
        },
        {
         "name": "currentSessionId",
         "dtype": "float64",
         "stats": {
          "unique_count": 44,
          "nan_count": 46,
          "min": "153.0",
          "max": "1307.0",
          "histogram": [
           {
            "bin_start": 153,
            "bin_end": 268.4,
            "count": 3
           },
           {
            "bin_start": 268.4,
            "bin_end": 383.8,
            "count": 1
           },
           {
            "bin_start": 383.8,
            "bin_end": 499.20000000000005,
            "count": 2
           },
           {
            "bin_start": 499.20000000000005,
            "bin_end": 614.6,
            "count": 1
           },
           {
            "bin_start": 614.6,
            "bin_end": 730,
            "count": 1
           },
           {
            "bin_start": 730,
            "bin_end": 845.4000000000001,
            "count": 2
           },
           {
            "bin_start": 845.4000000000001,
            "bin_end": 960.8000000000001,
            "count": 4
           },
           {
            "bin_start": 960.8000000000001,
            "bin_end": 1076.2,
            "count": 6
           },
           {
            "bin_start": 1076.2,
            "bin_end": 1191.6000000000001,
            "count": 16
           },
           {
            "bin_start": 1191.6000000000001,
            "bin_end": 1307,
            "count": 8
           }
          ]
         }
        },
        {
         "name": "banReason",
         "dtype": "int64",
         "stats": {
          "unique_count": 1,
          "nan_count": 0,
          "min": "0",
          "max": "0",
          "histogram": [
           {
            "bin_start": -0.5,
            "bin_end": -0.4,
            "count": 0
           },
           {
            "bin_start": -0.4,
            "bin_end": -0.3,
            "count": 0
           },
           {
            "bin_start": -0.3,
            "bin_end": -0.19999999999999996,
            "count": 0
           },
           {
            "bin_start": -0.19999999999999996,
            "bin_end": -0.09999999999999998,
            "count": 0
           },
           {
            "bin_start": -0.09999999999999998,
            "bin_end": 0,
            "count": 0
           },
           {
            "bin_start": 0,
            "bin_end": 0.10000000000000009,
            "count": 90
           },
           {
            "bin_start": 0.10000000000000009,
            "bin_end": 0.20000000000000007,
            "count": 0
           },
           {
            "bin_start": 0.20000000000000007,
            "bin_end": 0.30000000000000004,
            "count": 0
           },
           {
            "bin_start": 0.30000000000000004,
            "bin_end": 0.4,
            "count": 0
           },
           {
            "bin_start": 0.4,
            "bin_end": 0.5,
            "count": 0
           }
          ]
         }
        },
        {
         "name": "workStatus",
         "dtype": "object",
         "stats": {
          "unique_count": 1,
          "nan_count": 80,
          "categories": [
           {
            "name": "Not looking for work",
            "count": 10
           },
           {
            "name": "Missing",
            "count": 80
           }
          ]
         }
        },
        {
         "name": "education",
         "dtype": "object",
         "stats": {
          "unique_count": 1,
          "nan_count": 80,
          "categories": [
           {
            "name": "Not Specified",
            "count": 10
           },
           {
            "name": "Missing",
            "count": 80
           }
          ]
         }
        },
        {
         "name": "website",
         "dtype": "float64",
         "stats": {
          "unique_count": 0,
          "nan_count": 90,
          "min": null,
          "max": null,
          "histogram": [
           {
            "bin_start": 0,
            "bin_end": 0.1,
            "count": 0
           },
           {
            "bin_start": 0.1,
            "bin_end": 0.2,
            "count": 0
           },
           {
            "bin_start": 0.2,
            "bin_end": 0.30000000000000004,
            "count": 0
           },
           {
            "bin_start": 0.30000000000000004,
            "bin_end": 0.4,
            "count": 0
           },
           {
            "bin_start": 0.4,
            "bin_end": 0.5,
            "count": 0
           },
           {
            "bin_start": 0.5,
            "bin_end": 0.6000000000000001,
            "count": 0
           },
           {
            "bin_start": 0.6000000000000001,
            "bin_end": 0.7000000000000001,
            "count": 0
           },
           {
            "bin_start": 0.7000000000000001,
            "bin_end": 0.8,
            "count": 0
           },
           {
            "bin_start": 0.8,
            "bin_end": 0.9,
            "count": 0
           },
           {
            "bin_start": 0.9,
            "bin_end": 1,
            "count": 0
           }
          ]
         }
        },
        {
         "name": "isDeactivated",
         "dtype": "int64",
         "stats": {
          "unique_count": 1,
          "nan_count": 0,
          "min": "0",
          "max": "0",
          "histogram": [
           {
            "bin_start": -0.5,
            "bin_end": -0.4,
            "count": 0
           },
           {
            "bin_start": -0.4,
            "bin_end": -0.3,
            "count": 0
           },
           {
            "bin_start": -0.3,
            "bin_end": -0.19999999999999996,
            "count": 0
           },
           {
            "bin_start": -0.19999999999999996,
            "bin_end": -0.09999999999999998,
            "count": 0
           },
           {
            "bin_start": -0.09999999999999998,
            "bin_end": 0,
            "count": 0
           },
           {
            "bin_start": 0,
            "bin_end": 0.10000000000000009,
            "count": 90
           },
           {
            "bin_start": 0.10000000000000009,
            "bin_end": 0.20000000000000007,
            "count": 0
           },
           {
            "bin_start": 0.20000000000000007,
            "bin_end": 0.30000000000000004,
            "count": 0
           },
           {
            "bin_start": 0.30000000000000004,
            "bin_end": 0.4,
            "count": 0
           },
           {
            "bin_start": 0.4,
            "bin_end": 0.5,
            "count": 0
           }
          ]
         }
        },
        {
         "name": "netlifyToken",
         "dtype": "object",
         "stats": {
          "unique_count": 1,
          "nan_count": 73,
          "categories": [
           {
            "name": "[[REDACTED]]",
            "count": 17
           },
           {
            "name": "Missing",
            "count": 73
           }
          ]
         }
        },
        {
         "name": "isInvited",
         "dtype": "int64",
         "stats": {
          "unique_count": 2,
          "nan_count": 0,
          "min": "0",
          "max": "1",
          "histogram": [
           {
            "bin_start": 0,
            "bin_end": 0.1,
            "count": 3
           },
           {
            "bin_start": 0.1,
            "bin_end": 0.2,
            "count": 0
           },
           {
            "bin_start": 0.2,
            "bin_end": 0.30000000000000004,
            "count": 0
           },
           {
            "bin_start": 0.30000000000000004,
            "bin_end": 0.4,
            "count": 0
           },
           {
            "bin_start": 0.4,
            "bin_end": 0.5,
            "count": 0
           },
           {
            "bin_start": 0.5,
            "bin_end": 0.6000000000000001,
            "count": 0
           },
           {
            "bin_start": 0.6000000000000001,
            "bin_end": 0.7000000000000001,
            "count": 0
           },
           {
            "bin_start": 0.7000000000000001,
            "bin_end": 0.8,
            "count": 0
           },
           {
            "bin_start": 0.8,
            "bin_end": 0.9,
            "count": 0
           },
           {
            "bin_start": 0.9,
            "bin_end": 1,
            "count": 87
           }
          ]
         }
        },
        {
         "name": "confirmationCode",
         "dtype": "object",
         "stats": {
          "unique_count": 1,
          "nan_count": 87,
          "categories": [
           {
            "name": "[[REDACTED]]",
            "count": 3
           },
           {
            "name": "Missing",
            "count": 87
           }
          ]
         }
        },
        {
         "name": "profileHeaderPicture",
         "dtype": "float64",
         "stats": {
          "unique_count": 0,
          "nan_count": 90,
          "min": null,
          "max": null,
          "histogram": [
           {
            "bin_start": 0,
            "bin_end": 0.1,
            "count": 0
           },
           {
            "bin_start": 0.1,
            "bin_end": 0.2,
            "count": 0
           },
           {
            "bin_start": 0.2,
            "bin_end": 0.30000000000000004,
            "count": 0
           },
           {
            "bin_start": 0.30000000000000004,
            "bin_end": 0.4,
            "count": 0
           },
           {
            "bin_start": 0.4,
            "bin_end": 0.5,
            "count": 0
           },
           {
            "bin_start": 0.5,
            "bin_end": 0.6000000000000001,
            "count": 0
           },
           {
            "bin_start": 0.6000000000000001,
            "bin_end": 0.7000000000000001,
            "count": 0
           },
           {
            "bin_start": 0.7000000000000001,
            "bin_end": 0.8,
            "count": 0
           },
           {
            "bin_start": 0.8,
            "bin_end": 0.9,
            "count": 0
           },
           {
            "bin_start": 0.9,
            "bin_end": 1,
            "count": 0
           }
          ]
         }
        },
        {
         "name": "uuid",
         "dtype": "object",
         "stats": {
          "unique_count": 21,
          "nan_count": 69,
          "categories": [
           {
            "name": "67febd98-2b97-4985-ad2f-560ad6cc6fad",
            "count": 1
           },
           {
            "name": "20 others",
            "count": 20
           },
           {
            "name": "Missing",
            "count": 69
           }
          ]
         }
        },
        {
         "name": "_deepnote_index_column",
         "dtype": "int64"
        }
       ],
       "rows": [
        {
         "userId": 124,
         "created_at": "2021-06-18 17:05:24.071699",
         "updated_at": "2021-06-25 15:13:34.000000",
         "firstName": "[[REDACTED]]",
         "lastName": "Ahmed",
         "email": "[[REDACTED]]",
         "profilePicture": "nan",
         "username": "[[REDACTED]]",
         "title": "They/Them",
         "bio": "nan",
         "password_hash": "[[REDACTED]]",
         "saltine": "913458353cdf1ae6c47cf6ac813abca76504e3d3bbd34724148c39ab74e718ff::31.28140123998634",
         "isSuperUser": 0,
         "isVerified": 1,
         "isBanned": 0,
         "isPasswordExpired": 1,
         "lastLogin": "2021-06-18 17:05:24",
         "loginAttempts": 0,
         "githubAccountId": "nan",
         "currentSessionId": 1156,
         "banReason": 0,
         "workStatus": "nan",
         "education": "nan",
         "website": "nan",
         "isDeactivated": 0,
         "netlifyToken": "nan",
         "isInvited": 1,
         "confirmationCode": "nan",
         "profileHeaderPicture": "nan",
         "uuid": "33321886-0c5c-41c2-af62-516fd3158570",
         "_deepnote_index_column": 80
        },
        {
         "userId": 125,
         "created_at": "2021-06-23 00:50:29.885780",
         "updated_at": "2021-06-25 15:13:34.000000",
         "firstName": "[[REDACTED]]",
         "lastName": "Ferreira ",
         "email": "[[REDACTED]]",
         "profilePicture": "nan",
         "username": "[[REDACTED]]",
         "title": "They/Them",
         "bio": "nan",
         "password_hash": "[[REDACTED]]",
         "saltine": "4bc27873c29bcf655a43206e877139114655f79ed2752dd9b172708bcd4cc62c::8.382076609331405",
         "isSuperUser": 0,
         "isVerified": 1,
         "isBanned": 0,
         "isPasswordExpired": 1,
         "lastLogin": "2021-06-23 00:50:30",
         "loginAttempts": 0,
         "githubAccountId": "nan",
         "currentSessionId": 1163,
         "banReason": 0,
         "workStatus": "nan",
         "education": "nan",
         "website": "nan",
         "isDeactivated": 0,
         "netlifyToken": "nan",
         "isInvited": 1,
         "confirmationCode": "nan",
         "profileHeaderPicture": "nan",
         "uuid": "e15df4e2-5db6-4754-8434-1efe6a66e728",
         "_deepnote_index_column": 81
        },
        {
         "userId": 126,
         "created_at": "2021-06-25 10:40:19.040341",
         "updated_at": "2021-06-25 15:10:04.000000",
         "firstName": "[[REDACTED]]",
         "lastName": "Gurung",
         "email": "[[REDACTED]]",
         "profilePicture": "nan",
         "username": "[[REDACTED]]",
         "title": "They/Them",
         "bio": "nan",
         "password_hash": "[[REDACTED]]",
         "saltine": "9769ea218aa3e2fd97cc55fe5ba579bdee188e54a4aa51e10921a0ac90a5afec::18.170561593536952",
         "isSuperUser": 0,
         "isVerified": 0,
         "isBanned": 0,
         "isPasswordExpired": 1,
         "lastLogin": "2021-06-25 15:10:04",
         "loginAttempts": 2,
         "githubAccountId": "nan",
         "currentSessionId": 1168,
         "banReason": 0,
         "workStatus": "nan",
         "education": "nan",
         "website": "nan",
         "isDeactivated": 0,
         "netlifyToken": "[[REDACTED]]",
         "isInvited": 1,
         "confirmationCode": "[[REDACTED]]",
         "profileHeaderPicture": "nan",
         "uuid": "9d6efc33-653f-4de7-bde0-9df9bce88db9",
         "_deepnote_index_column": 82
        },
        {
         "userId": 127,
         "created_at": "2021-06-25 12:07:11.773948",
         "updated_at": "2021-06-25 15:13:34.000000",
         "firstName": "[[REDACTED]]",
         "lastName": "Munkhondya",
         "email": "[[REDACTED]]",
         "profilePicture": "nan",
         "username": "[[REDACTED]]",
         "title": "They/Them",
         "bio": "nan",
         "password_hash": "[[REDACTED]]",
         "saltine": "503411ef4aed4b20f87ce088d5b5e1b8b5eaad15bbadfec4ced6fa714e300fd9::27.98004091850756",
         "isSuperUser": 0,
         "isVerified": 1,
         "isBanned": 0,
         "isPasswordExpired": 1,
         "lastLogin": "2021-06-25 12:07:12",
         "loginAttempts": 0,
         "githubAccountId": "nan",
         "currentSessionId": 1170,
         "banReason": 0,
         "workStatus": "nan",
         "education": "nan",
         "website": "nan",
         "isDeactivated": 0,
         "netlifyToken": "[[REDACTED]]",
         "isInvited": 1,
         "confirmationCode": "nan",
         "profileHeaderPicture": "nan",
         "uuid": "211d44f2-aee7-4ea1-afdf-7e91e4cc51d5",
         "_deepnote_index_column": 83
        },
        {
         "userId": 128,
         "created_at": "2021-06-25 15:10:14.649863",
         "updated_at": "2021-06-25 15:13:34.000000",
         "firstName": "[[REDACTED]]",
         "lastName": "Gurung ",
         "email": "[[REDACTED]]",
         "profilePicture": "nan",
         "username": "[[REDACTED]]",
         "title": "They/Them",
         "bio": "nan",
         "password_hash": "[[REDACTED]]",
         "saltine": "bc9edbfddf2acd9de0cda3e85d7316875ded0d315cc6070a009cb69cf7b2a523::15.194982003628583",
         "isSuperUser": 0,
         "isVerified": 1,
         "isBanned": 0,
         "isPasswordExpired": 1,
         "lastLogin": "2021-06-25 15:10:15",
         "loginAttempts": 0,
         "githubAccountId": "nan",
         "currentSessionId": 1172,
         "banReason": 0,
         "workStatus": "nan",
         "education": "nan",
         "website": "nan",
         "isDeactivated": 0,
         "netlifyToken": "[[REDACTED]]",
         "isInvited": 1,
         "confirmationCode": "nan",
         "profileHeaderPicture": "nan",
         "uuid": "2e35a0c6-7e01-4b12-ba2f-236032c7ce2a",
         "_deepnote_index_column": 84
        },
        {
         "userId": 129,
         "created_at": "2021-07-01 10:57:45.538132",
         "updated_at": "2021-07-01 10:58:23.000000",
         "firstName": "[[REDACTED]]",
         "lastName": "Lodge",
         "email": "[[REDACTED]]",
         "profilePicture": "nan",
         "username": "[[REDACTED]]",
         "title": "They/Them",
         "bio": "nan",
         "password_hash": "[[REDACTED]]",
         "saltine": "a82bf8e22edb2f4defe49497160a9d94c52eeeca579ff202f9b6ac371766beb2::26.91825475710384",
         "isSuperUser": 0,
         "isVerified": 1,
         "isBanned": 0,
         "isPasswordExpired": 1,
         "lastLogin": "2021-07-01 10:57:46",
         "loginAttempts": 0,
         "githubAccountId": "nan",
         "currentSessionId": 1175,
         "banReason": 0,
         "workStatus": "nan",
         "education": "nan",
         "website": "nan",
         "isDeactivated": 0,
         "netlifyToken": "[[REDACTED]]",
         "isInvited": 1,
         "confirmationCode": "nan",
         "profileHeaderPicture": "nan",
         "uuid": "6c9a9d44-d27b-4a40-82bc-94fef49ee2cc",
         "_deepnote_index_column": 85
        },
        {
         "userId": 130,
         "created_at": "2021-07-03 02:23:23.470227",
         "updated_at": "2021-07-26 18:08:10.000000",
         "firstName": "[[REDACTED]]",
         "lastName": "Saunders",
         "email": "[[REDACTED]]",
         "profilePicture": "[[REDACTED]]",
         "username": "[[REDACTED]]",
         "title": "They/Them",
         "bio": "nan",
         "password_hash": "[[REDACTED]]",
         "saltine": "e059727370915c02da0ea339f032a20950a3a9bcb30c184155237d2f47e2b1f5::15.504975738014199",
         "isSuperUser": 0,
         "isVerified": 0,
         "isBanned": 0,
         "isPasswordExpired": 0,
         "lastLogin": "2021-07-26 18:07:51",
         "loginAttempts": 3,
         "githubAccountId": "nan",
         "currentSessionId": 1265,
         "banReason": 0,
         "workStatus": "nan",
         "education": "nan",
         "website": "nan",
         "isDeactivated": 0,
         "netlifyToken": "nan",
         "isInvited": 1,
         "confirmationCode": "nan",
         "profileHeaderPicture": "nan",
         "uuid": "2e47b4e4-b04c-4d31-85ae-a118f6ea4aec",
         "_deepnote_index_column": 86
        },
        {
         "userId": 131,
         "created_at": "2021-07-13 11:03:24.207488",
         "updated_at": "2021-07-23 18:56:27.000000",
         "firstName": "[[REDACTED]]",
         "lastName": "Webb",
         "email": "[[REDACTED]]",
         "profilePicture": "nan",
         "username": "[[REDACTED]]",
         "title": "They/Them",
         "bio": "nan",
         "password_hash": "[[REDACTED]]",
         "saltine": "631f1f9004335c71ec23edaeddcf1145159c1591b2b49d9799f997bfbcb22e6c::10.983522308667832",
         "isSuperUser": 0,
         "isVerified": 1,
         "isBanned": 0,
         "isPasswordExpired": 0,
         "lastLogin": "2021-07-14 09:27:50",
         "loginAttempts": 0,
         "githubAccountId": "nan",
         "currentSessionId": 1232,
         "banReason": 0,
         "workStatus": "nan",
         "education": "nan",
         "website": "nan",
         "isDeactivated": 0,
         "netlifyToken": "nan",
         "isInvited": 1,
         "confirmationCode": "nan",
         "profileHeaderPicture": "nan",
         "uuid": "aadf68b3-8bd3-4514-aed0-143c5f0ba51d",
         "_deepnote_index_column": 87
        },
        {
         "userId": 132,
         "created_at": "2021-07-14 12:43:22.381483",
         "updated_at": "2021-07-14 12:52:44.000000",
         "firstName": "[[REDACTED]]",
         "lastName": "Kimario",
         "email": "[[REDACTED]]",
         "profilePicture": "nan",
         "username": "[[REDACTED]]",
         "title": "They/Them",
         "bio": "nan",
         "password_hash": "[[REDACTED]]",
         "saltine": "bd8b92066629e5f19d545de9a8f9cffef9d34a9f200c28227f7219928146a437::8.860440417081227",
         "isSuperUser": 0,
         "isVerified": 1,
         "isBanned": 0,
         "isPasswordExpired": 1,
         "lastLogin": "2021-07-14 12:43:23",
         "loginAttempts": 0,
         "githubAccountId": "nan",
         "currentSessionId": 1235,
         "banReason": 0,
         "workStatus": "nan",
         "education": "nan",
         "website": "nan",
         "isDeactivated": 0,
         "netlifyToken": "nan",
         "isInvited": 1,
         "confirmationCode": "nan",
         "profileHeaderPicture": "nan",
         "uuid": "e1d2ec5c-a5cd-4297-aa28-d3652b095da5",
         "_deepnote_index_column": 88
        },
        {
         "userId": 133,
         "created_at": "2021-07-21 08:22:26.316750",
         "updated_at": "2021-07-21 16:15:43.000000",
         "firstName": "[[REDACTED]]",
         "lastName": "Esdelle",
         "email": "[[REDACTED]]",
         "profilePicture": "nan",
         "username": "[[REDACTED]]",
         "title": "They/Them",
         "bio": "nan",
         "password_hash": "[[REDACTED]]",
         "saltine": "fac92748243256d4770d81d5f93c7e0ae3a46fe6e19fdc3dcb2c5f92b7aaa2de::22.083716977451196",
         "isSuperUser": 0,
         "isVerified": 1,
         "isBanned": 0,
         "isPasswordExpired": 1,
         "lastLogin": "2021-07-21 16:15:44",
         "loginAttempts": 1,
         "githubAccountId": "nan",
         "currentSessionId": 1250,
         "banReason": 0,
         "workStatus": "nan",
         "education": "nan",
         "website": "nan",
         "isDeactivated": 0,
         "netlifyToken": "nan",
         "isInvited": 1,
         "confirmationCode": "nan",
         "profileHeaderPicture": "nan",
         "uuid": "8d1c22d6-d1af-4f41-8e3e-1b2ad05b3d7f",
         "_deepnote_index_column": 89
        }
       ]
      },
      "text/plain": "    userId                  created_at                  updated_at  \\\n0        0  2021-06-07 15:06:21.000000  2021-06-07 15:39:36.200179   \n1        1  2020-07-16 21:29:29.814864  2022-02-24 13:05:16.000000   \n2        2  2020-07-16 21:29:30.129192  2022-04-21 10:17:50.000000   \n3        3  2020-07-16 21:29:30.433942  2021-11-09 17:38:55.823535   \n4        4  2020-07-16 21:29:30.714030  2021-07-23 18:26:43.153104   \n..     ...                         ...                         ...   \n85     129  2021-07-01 10:57:45.538132  2021-07-01 10:58:23.000000   \n86     130  2021-07-03 02:23:23.470227  2021-07-26 18:08:10.000000   \n87     131  2021-07-13 11:03:24.207488  2021-07-23 18:56:27.000000   \n88     132  2021-07-14 12:43:22.381483  2021-07-14 12:52:44.000000   \n89     133  2021-07-21 08:22:26.316750  2021-07-21 16:15:43.000000   \n\n          firstName   lastName         email  \\\n0   ProjectFunction             [[REDACTED]]   \n1      [[REDACTED]]       Khan  [[REDACTED]]   \n2      [[REDACTED]]     Cecile  [[REDACTED]]   \n3      [[REDACTED]]      Hayre  [[REDACTED]]   \n4      [[REDACTED]]  Parkinson  [[REDACTED]]   \n..              ...        ...           ...   \n85     [[REDACTED]]      Lodge  [[REDACTED]]   \n86     [[REDACTED]]   Saunders  [[REDACTED]]   \n87     [[REDACTED]]       Webb  [[REDACTED]]   \n88     [[REDACTED]]    Kimario  [[REDACTED]]   \n89     [[REDACTED]]    Esdelle  [[REDACTED]]   \n\n                                     profilePicture      username  \\\n0        /public/core/images/pf_logo_pride_2021.png        system   \n1                                      [[REDACTED]]  [[REDACTED]]   \n2   /public/res/avatar/thumb/Avatar_Colored_101.jpg  [[REDACTED]]   \n3    /public/res/avatar/thumb/Avatar_Colored_64.jpg  [[REDACTED]]   \n4                                      [[REDACTED]]  [[REDACTED]]   \n..                                              ...           ...   \n85                                              NaN  [[REDACTED]]   \n86                                     [[REDACTED]]  [[REDACTED]]   \n87                                              NaN  [[REDACTED]]   \n88                                              NaN  [[REDACTED]]   \n89                                              NaN  [[REDACTED]]   \n\n           title             bio  ... banReason workStatus  education  \\\n0            NaN  Beep Beep Boop  ...         0        NaN        NaN   \n1   [[REDACTED]]             NaN  ...         0        NaN        NaN   \n2   [[REDACTED]]             NaN  ...         0        NaN        NaN   \n3      They/Them             NaN  ...         0        NaN        NaN   \n4      They/Them             NaN  ...         0        NaN        NaN   \n..           ...             ...  ...       ...        ...        ...   \n85     They/Them             NaN  ...         0        NaN        NaN   \n86     They/Them             NaN  ...         0        NaN        NaN   \n87     They/Them             NaN  ...         0        NaN        NaN   \n88     They/Them             NaN  ...         0        NaN        NaN   \n89     They/Them             NaN  ...         0        NaN        NaN   \n\n    website  isDeactivated  netlifyToken isInvited  confirmationCode  \\\n0       NaN              0           NaN         0               NaN   \n1       NaN              0           NaN         0               NaN   \n2       NaN              0  [[REDACTED]]         0               NaN   \n3       NaN              0           NaN         1               NaN   \n4       NaN              0           NaN         1      [[REDACTED]]   \n..      ...            ...           ...       ...               ...   \n85      NaN              0  [[REDACTED]]         1               NaN   \n86      NaN              0           NaN         1               NaN   \n87      NaN              0           NaN         1               NaN   \n88      NaN              0           NaN         1               NaN   \n89      NaN              0           NaN         1               NaN   \n\n    profileHeaderPicture                                  uuid  \n0                    NaN                                   NaN  \n1                    NaN                                   NaN  \n2                    NaN                                   NaN  \n3                    NaN                                   NaN  \n4                    NaN                                   NaN  \n..                   ...                                   ...  \n85                   NaN  6c9a9d44-d27b-4a40-82bc-94fef49ee2cc  \n86                   NaN  2e47b4e4-b04c-4d31-85ae-a118f6ea4aec  \n87                   NaN  aadf68b3-8bd3-4514-aed0-143c5f0ba51d  \n88                   NaN  e1d2ec5c-a5cd-4297-aa28-d3652b095da5  \n89                   NaN  8d1c22d6-d1af-4f41-8e3e-1b2ad05b3d7f  \n\n[90 rows x 30 columns]",
      "text/html": "<div>\n<style scoped>\n    .dataframe tbody tr th:only-of-type {\n        vertical-align: middle;\n    }\n\n    .dataframe tbody tr th {\n        vertical-align: top;\n    }\n\n    .dataframe thead th {\n        text-align: right;\n    }\n</style>\n<table border=\"1\" class=\"dataframe\">\n  <thead>\n    <tr style=\"text-align: right;\">\n      <th></th>\n      <th>userId</th>\n      <th>created_at</th>\n      <th>updated_at</th>\n      <th>firstName</th>\n      <th>lastName</th>\n      <th>email</th>\n      <th>profilePicture</th>\n      <th>username</th>\n      <th>title</th>\n      <th>bio</th>\n      <th>...</th>\n      <th>banReason</th>\n      <th>workStatus</th>\n      <th>education</th>\n      <th>website</th>\n      <th>isDeactivated</th>\n      <th>netlifyToken</th>\n      <th>isInvited</th>\n      <th>confirmationCode</th>\n      <th>profileHeaderPicture</th>\n      <th>uuid</th>\n    </tr>\n  </thead>\n  <tbody>\n    <tr>\n      <th>0</th>\n      <td>0</td>\n      <td>2021-06-07 15:06:21.000000</td>\n      <td>2021-06-07 15:39:36.200179</td>\n      <td>ProjectFunction</td>\n      <td></td>\n      <td>[[REDACTED]]</td>\n      <td>/public/core/images/pf_logo_pride_2021.png</td>\n      <td>system</td>\n      <td>NaN</td>\n      <td>Beep Beep Boop</td>\n      <td>...</td>\n      <td>0</td>\n      <td>NaN</td>\n      <td>NaN</td>\n      <td>NaN</td>\n      <td>0</td>\n      <td>NaN</td>\n      <td>0</td>\n      <td>NaN</td>\n      <td>NaN</td>\n      <td>NaN</td>\n    </tr>\n    <tr>\n      <th>1</th>\n      <td>1</td>\n      <td>2020-07-16 21:29:29.814864</td>\n      <td>2022-02-24 13:05:16.000000</td>\n      <td>[[REDACTED]]</td>\n      <td>Khan</td>\n      <td>[[REDACTED]]</td>\n      <td>[[REDACTED]]</td>\n      <td>[[REDACTED]]</td>\n      <td>[[REDACTED]]</td>\n      <td>NaN</td>\n      <td>...</td>\n      <td>0</td>\n      <td>NaN</td>\n      <td>NaN</td>\n      <td>NaN</td>\n      <td>0</td>\n      <td>NaN</td>\n      <td>0</td>\n      <td>NaN</td>\n      <td>NaN</td>\n      <td>NaN</td>\n    </tr>\n    <tr>\n      <th>2</th>\n      <td>2</td>\n      <td>2020-07-16 21:29:30.129192</td>\n      <td>2022-04-21 10:17:50.000000</td>\n      <td>[[REDACTED]]</td>\n      <td>Cecile</td>\n      <td>[[REDACTED]]</td>\n      <td>/public/res/avatar/thumb/Avatar_Colored_101.jpg</td>\n      <td>[[REDACTED]]</td>\n      <td>[[REDACTED]]</td>\n      <td>NaN</td>\n      <td>...</td>\n      <td>0</td>\n      <td>NaN</td>\n      <td>NaN</td>\n      <td>NaN</td>\n      <td>0</td>\n      <td>[[REDACTED]]</td>\n      <td>0</td>\n      <td>NaN</td>\n      <td>NaN</td>\n      <td>NaN</td>\n    </tr>\n    <tr>\n      <th>3</th>\n      <td>3</td>\n      <td>2020-07-16 21:29:30.433942</td>\n      <td>2021-11-09 17:38:55.823535</td>\n      <td>[[REDACTED]]</td>\n      <td>Hayre</td>\n      <td>[[REDACTED]]</td>\n      <td>/public/res/avatar/thumb/Avatar_Colored_64.jpg</td>\n      <td>[[REDACTED]]</td>\n      <td>They/Them</td>\n      <td>NaN</td>\n      <td>...</td>\n      <td>0</td>\n      <td>NaN</td>\n      <td>NaN</td>\n      <td>NaN</td>\n      <td>0</td>\n      <td>NaN</td>\n      <td>1</td>\n      <td>NaN</td>\n      <td>NaN</td>\n      <td>NaN</td>\n    </tr>\n    <tr>\n      <th>4</th>\n      <td>4</td>\n      <td>2020-07-16 21:29:30.714030</td>\n      <td>2021-07-23 18:26:43.153104</td>\n      <td>[[REDACTED]]</td>\n      <td>Parkinson</td>\n      <td>[[REDACTED]]</td>\n      <td>[[REDACTED]]</td>\n      <td>[[REDACTED]]</td>\n      <td>They/Them</td>\n      <td>NaN</td>\n      <td>...</td>\n      <td>0</td>\n      <td>NaN</td>\n      <td>NaN</td>\n      <td>NaN</td>\n      <td>0</td>\n      <td>NaN</td>\n      <td>1</td>\n      <td>[[REDACTED]]</td>\n      <td>NaN</td>\n      <td>NaN</td>\n    </tr>\n    <tr>\n      <th>...</th>\n      <td>...</td>\n      <td>...</td>\n      <td>...</td>\n      <td>...</td>\n      <td>...</td>\n      <td>...</td>\n      <td>...</td>\n      <td>...</td>\n      <td>...</td>\n      <td>...</td>\n      <td>...</td>\n      <td>...</td>\n      <td>...</td>\n      <td>...</td>\n      <td>...</td>\n      <td>...</td>\n      <td>...</td>\n      <td>...</td>\n      <td>...</td>\n      <td>...</td>\n      <td>...</td>\n    </tr>\n    <tr>\n      <th>85</th>\n      <td>129</td>\n      <td>2021-07-01 10:57:45.538132</td>\n      <td>2021-07-01 10:58:23.000000</td>\n      <td>[[REDACTED]]</td>\n      <td>Lodge</td>\n      <td>[[REDACTED]]</td>\n      <td>NaN</td>\n      <td>[[REDACTED]]</td>\n      <td>They/Them</td>\n      <td>NaN</td>\n      <td>...</td>\n      <td>0</td>\n      <td>NaN</td>\n      <td>NaN</td>\n      <td>NaN</td>\n      <td>0</td>\n      <td>[[REDACTED]]</td>\n      <td>1</td>\n      <td>NaN</td>\n      <td>NaN</td>\n      <td>6c9a9d44-d27b-4a40-82bc-94fef49ee2cc</td>\n    </tr>\n    <tr>\n      <th>86</th>\n      <td>130</td>\n      <td>2021-07-03 02:23:23.470227</td>\n      <td>2021-07-26 18:08:10.000000</td>\n      <td>[[REDACTED]]</td>\n      <td>Saunders</td>\n      <td>[[REDACTED]]</td>\n      <td>[[REDACTED]]</td>\n      <td>[[REDACTED]]</td>\n      <td>They/Them</td>\n      <td>NaN</td>\n      <td>...</td>\n      <td>0</td>\n      <td>NaN</td>\n      <td>NaN</td>\n      <td>NaN</td>\n      <td>0</td>\n      <td>NaN</td>\n      <td>1</td>\n      <td>NaN</td>\n      <td>NaN</td>\n      <td>2e47b4e4-b04c-4d31-85ae-a118f6ea4aec</td>\n    </tr>\n    <tr>\n      <th>87</th>\n      <td>131</td>\n      <td>2021-07-13 11:03:24.207488</td>\n      <td>2021-07-23 18:56:27.000000</td>\n      <td>[[REDACTED]]</td>\n      <td>Webb</td>\n      <td>[[REDACTED]]</td>\n      <td>NaN</td>\n      <td>[[REDACTED]]</td>\n      <td>They/Them</td>\n      <td>NaN</td>\n      <td>...</td>\n      <td>0</td>\n      <td>NaN</td>\n      <td>NaN</td>\n      <td>NaN</td>\n      <td>0</td>\n      <td>NaN</td>\n      <td>1</td>\n      <td>NaN</td>\n      <td>NaN</td>\n      <td>aadf68b3-8bd3-4514-aed0-143c5f0ba51d</td>\n    </tr>\n    <tr>\n      <th>88</th>\n      <td>132</td>\n      <td>2021-07-14 12:43:22.381483</td>\n      <td>2021-07-14 12:52:44.000000</td>\n      <td>[[REDACTED]]</td>\n      <td>Kimario</td>\n      <td>[[REDACTED]]</td>\n      <td>NaN</td>\n      <td>[[REDACTED]]</td>\n      <td>They/Them</td>\n      <td>NaN</td>\n      <td>...</td>\n      <td>0</td>\n      <td>NaN</td>\n      <td>NaN</td>\n      <td>NaN</td>\n      <td>0</td>\n      <td>NaN</td>\n      <td>1</td>\n      <td>NaN</td>\n      <td>NaN</td>\n      <td>e1d2ec5c-a5cd-4297-aa28-d3652b095da5</td>\n    </tr>\n    <tr>\n      <th>89</th>\n      <td>133</td>\n      <td>2021-07-21 08:22:26.316750</td>\n      <td>2021-07-21 16:15:43.000000</td>\n      <td>[[REDACTED]]</td>\n      <td>Esdelle</td>\n      <td>[[REDACTED]]</td>\n      <td>NaN</td>\n      <td>[[REDACTED]]</td>\n      <td>They/Them</td>\n      <td>NaN</td>\n      <td>...</td>\n      <td>0</td>\n      <td>NaN</td>\n      <td>NaN</td>\n      <td>NaN</td>\n      <td>0</td>\n      <td>NaN</td>\n      <td>1</td>\n      <td>NaN</td>\n      <td>NaN</td>\n      <td>8d1c22d6-d1af-4f41-8e3e-1b2ad05b3d7f</td>\n    </tr>\n  </tbody>\n</table>\n<p>90 rows × 30 columns</p>\n</div>"
     },
     "metadata": {}
    }
   ]
  },
  {
   "cell_type": "code",
   "metadata": {
    "cell_id": "ee8bcab63f6940bd82ca343fc2cd941a",
    "tags": [],
    "deepnote_to_be_reexecuted": false,
    "source_hash": "d6cc455f",
    "execution_start": 1652907670666,
    "execution_millis": 3066876,
    "deepnote_cell_type": "code",
    "deepnote_cell_height": 81
   },
   "source": "users = users.drop(columns=['firstName', 'email', 'username', 'bio', 'password_hash', 'saltine', 'created_at', 'updated_at', 'profilePicture', 'isVerified', 'isBanned', 'isPasswordExpired', 'loginAttempts', 'githubAccountId', 'currentSessionId', 'banReason', 'workStatus', 'education', 'website', 'isDeactivated', 'netlifyToken', 'isInvited', 'confirmationCode', 'profileHeaderPicture', 'uuid'])",
   "execution_count": 18,
   "outputs": []
  },
  {
   "cell_type": "code",
   "metadata": {
    "cell_id": "79f125fb3a804865b647b4f5be19b7f8",
    "tags": [],
    "deepnote_to_be_reexecuted": false,
    "source_hash": "3407776c",
    "execution_start": 1652907670675,
    "execution_millis": 55,
    "deepnote_cell_type": "code",
    "deepnote_cell_height": 631.59375
   },
   "source": "df5 = activity.merge(users.set_index('userId'), on='userId')\ndf5",
   "execution_count": 19,
   "outputs": [
    {
     "output_type": "execute_result",
     "execution_count": 19,
     "data": {
      "application/vnd.deepnote.dataframe.v3+json": {
       "column_count": 8,
       "row_count": 481,
       "columns": [
        {
         "name": "id",
         "dtype": "int64",
         "stats": {
          "unique_count": 481,
          "nan_count": 0,
          "min": "1028",
          "max": "1525",
          "histogram": [
           {
            "bin_start": 1028,
            "bin_end": 1077.7,
            "count": 50
           },
           {
            "bin_start": 1077.7,
            "bin_end": 1127.4,
            "count": 50
           },
           {
            "bin_start": 1127.4,
            "bin_end": 1177.1,
            "count": 50
           },
           {
            "bin_start": 1177.1,
            "bin_end": 1226.8,
            "count": 49
           },
           {
            "bin_start": 1226.8,
            "bin_end": 1276.5,
            "count": 50
           },
           {
            "bin_start": 1276.5,
            "bin_end": 1326.2,
            "count": 41
           },
           {
            "bin_start": 1326.2,
            "bin_end": 1375.9,
            "count": 49
           },
           {
            "bin_start": 1375.9,
            "bin_end": 1425.6,
            "count": 50
           },
           {
            "bin_start": 1425.6,
            "bin_end": 1475.3,
            "count": 49
           },
           {
            "bin_start": 1475.3,
            "bin_end": 1525,
            "count": 43
           }
          ]
         }
        },
        {
         "name": "created_at",
         "dtype": "object",
         "stats": {
          "unique_count": 481,
          "nan_count": 0,
          "categories": [
           {
            "name": "2021-03-25 11:25:05.219531",
            "count": 1
           },
           {
            "name": "2021-03-25 11:25:36.764022",
            "count": 1
           },
           {
            "name": "479 others",
            "count": 479
           }
          ]
         }
        },
        {
         "name": "activity",
         "dtype": "object",
         "stats": {
          "unique_count": 36,
          "nan_count": 0,
          "categories": [
           {
            "name": "Logged in",
            "count": 324
           },
           {
            "name": "Magic link sent",
            "count": 29
           },
           {
            "name": "34 others",
            "count": 128
           }
          ]
         }
        },
        {
         "name": "userId",
         "dtype": "int64",
         "stats": {
          "unique_count": 26,
          "nan_count": 0,
          "min": "1",
          "max": "131",
          "histogram": [
           {
            "bin_start": 1,
            "bin_end": 14,
            "count": 285
           },
           {
            "bin_start": 14,
            "bin_end": 27,
            "count": 0
           },
           {
            "bin_start": 27,
            "bin_end": 40,
            "count": 0
           },
           {
            "bin_start": 40,
            "bin_end": 53,
            "count": 0
           },
           {
            "bin_start": 53,
            "bin_end": 66,
            "count": 16
           },
           {
            "bin_start": 66,
            "bin_end": 79,
            "count": 44
           },
           {
            "bin_start": 79,
            "bin_end": 92,
            "count": 16
           },
           {
            "bin_start": 92,
            "bin_end": 105,
            "count": 0
           },
           {
            "bin_start": 105,
            "bin_end": 118,
            "count": 64
           },
           {
            "bin_start": 118,
            "bin_end": 131,
            "count": 56
           }
          ]
         }
        },
        {
         "name": "lastName",
         "dtype": "object",
         "stats": {
          "unique_count": 25,
          "nan_count": 0,
          "categories": [
           {
            "name": "Cecile",
            "count": 210
           },
           {
            "name": "Khan",
            "count": 73
           },
           {
            "name": "23 others",
            "count": 198
           }
          ]
         }
        },
        {
         "name": "title",
         "dtype": "object",
         "stats": {
          "unique_count": 2,
          "nan_count": 0,
          "categories": [
           {
            "name": "[[REDACTED]]",
            "count": 277
           },
           {
            "name": "They/Them",
            "count": 204
           }
          ]
         }
        },
        {
         "name": "isSuperUser",
         "dtype": "int64",
         "stats": {
          "unique_count": 2,
          "nan_count": 0,
          "min": "0",
          "max": "1",
          "histogram": [
           {
            "bin_start": 0,
            "bin_end": 0.1,
            "count": 204
           },
           {
            "bin_start": 0.1,
            "bin_end": 0.2,
            "count": 0
           },
           {
            "bin_start": 0.2,
            "bin_end": 0.30000000000000004,
            "count": 0
           },
           {
            "bin_start": 0.30000000000000004,
            "bin_end": 0.4,
            "count": 0
           },
           {
            "bin_start": 0.4,
            "bin_end": 0.5,
            "count": 0
           },
           {
            "bin_start": 0.5,
            "bin_end": 0.6000000000000001,
            "count": 0
           },
           {
            "bin_start": 0.6000000000000001,
            "bin_end": 0.7000000000000001,
            "count": 0
           },
           {
            "bin_start": 0.7000000000000001,
            "bin_end": 0.8,
            "count": 0
           },
           {
            "bin_start": 0.8,
            "bin_end": 0.9,
            "count": 0
           },
           {
            "bin_start": 0.9,
            "bin_end": 1,
            "count": 277
           }
          ]
         }
        },
        {
         "name": "lastLogin",
         "dtype": "object",
         "stats": {
          "unique_count": 26,
          "nan_count": 0,
          "categories": [
           {
            "name": "2022-04-21 10:17:50",
            "count": 210
           },
           {
            "name": "2022-02-24 13:05:16",
            "count": 67
           },
           {
            "name": "24 others",
            "count": 204
           }
          ]
         }
        },
        {
         "name": "_deepnote_index_column",
         "dtype": "int64"
        }
       ],
       "rows": [
        {
         "id": 1028,
         "created_at": "2021-03-25 11:25:05.219531",
         "activity": "Logged in",
         "userId": 106,
         "lastName": "Ferreira",
         "title": "They/Them",
         "isSuperUser": 0,
         "lastLogin": "2021-05-04 13:02:17",
         "_deepnote_index_column": 0
        },
        {
         "id": 1029,
         "created_at": "2021-03-25 11:25:36.764022",
         "activity": "Accessed Session 4 - Starter Files from Intro to Game Dev with Unity repo",
         "userId": 106,
         "lastName": "Ferreira",
         "title": "They/Them",
         "isSuperUser": 0,
         "lastLogin": "2021-05-04 13:02:17",
         "_deepnote_index_column": 1
        },
        {
         "id": 1030,
         "created_at": "2021-03-25 11:28:19.047747",
         "activity": "Accessed Session 3 Recap from Intro to Game Dev with Unity repo",
         "userId": 106,
         "lastName": "Ferreira",
         "title": "They/Them",
         "isSuperUser": 0,
         "lastLogin": "2021-05-04 13:02:17",
         "_deepnote_index_column": 2
        },
        {
         "id": 1091,
         "created_at": "2021-04-01 05:46:28.584097",
         "activity": "Logged in",
         "userId": 106,
         "lastName": "Ferreira",
         "title": "They/Them",
         "isSuperUser": 0,
         "lastLogin": "2021-05-04 13:02:17",
         "_deepnote_index_column": 3
        },
        {
         "id": 1092,
         "created_at": "2021-04-01 05:46:52.658630",
         "activity": "Accessed Session 5 - Assets from Intro to Game Dev with Unity repo [access:141012aa424::rrtGJAd2ae1e]",
         "userId": 106,
         "lastName": "Ferreira",
         "title": "They/Them",
         "isSuperUser": 0,
         "lastLogin": "2021-05-04 13:02:17",
         "_deepnote_index_column": 4
        },
        {
         "id": 1093,
         "created_at": "2021-04-01 05:47:27.761210",
         "activity": "Accessed Session 5 - Starter Files from Intro to Game Dev with Unity repo [access:3aadbfd9eca::rrtGJAd2ae1e]",
         "userId": 106,
         "lastName": "Ferreira",
         "title": "They/Them",
         "isSuperUser": 0,
         "lastLogin": "2021-05-04 13:02:17",
         "_deepnote_index_column": 5
        },
        {
         "id": 1094,
         "created_at": "2021-04-01 05:49:44.969753",
         "activity": "Accessed Session Four Recap from Intro to Game Dev with Unity repo [access:b4aec5f066b::rrtGJAd2ae1e]",
         "userId": 106,
         "lastName": "Ferreira",
         "title": "They/Them",
         "isSuperUser": 0,
         "lastLogin": "2021-05-04 13:02:17",
         "_deepnote_index_column": 6
        },
        {
         "id": 1129,
         "created_at": "2021-04-09 13:42:41.610992",
         "activity": "Logged in",
         "userId": 106,
         "lastName": "Ferreira",
         "title": "They/Them",
         "isSuperUser": 0,
         "lastLogin": "2021-05-04 13:02:17",
         "_deepnote_index_column": 7
        },
        {
         "id": 1130,
         "created_at": "2021-04-09 13:42:59.996112",
         "activity": "Accessed Session 6 - Starter Files from Intro to Game Dev with Unity repo [access:4ff849da461::rrtGJAd2ae1e]",
         "userId": 106,
         "lastName": "Ferreira",
         "title": "They/Them",
         "isSuperUser": 0,
         "lastLogin": "2021-05-04 13:02:17",
         "_deepnote_index_column": 8
        },
        {
         "id": 1131,
         "created_at": "2021-04-09 13:43:36.345370",
         "activity": "Accessed Session 6 Recap from Intro to Game Dev with Unity repo [access:1d9bec2ad95::rrtGJAd2ae1e]",
         "userId": 106,
         "lastName": "Ferreira",
         "title": "They/Them",
         "isSuperUser": 0,
         "lastLogin": "2021-05-04 13:02:17",
         "_deepnote_index_column": 9
        }
       ]
      },
      "text/plain": "       id                  created_at  \\\n0    1028  2021-03-25 11:25:05.219531   \n1    1029  2021-03-25 11:25:36.764022   \n2    1030  2021-03-25 11:28:19.047747   \n3    1091  2021-04-01 05:46:28.584097   \n4    1092  2021-04-01 05:46:52.658630   \n..    ...                         ...   \n476  1428  2021-07-14 09:27:29.915681   \n477  1429  2021-07-14 09:27:50.593216   \n478  1430  2021-07-14 09:27:50.813533   \n479  1431  2021-07-14 09:28:00.435449   \n480  1432  2021-07-14 09:28:15.573492   \n\n                                              activity  userId  lastName  \\\n0                                            Logged in     106  Ferreira   \n1    Accessed Session 4 - Starter Files from Intro ...     106  Ferreira   \n2    Accessed Session 3 Recap from Intro to Game De...     106  Ferreira   \n3                                            Logged in     106  Ferreira   \n4    Accessed Session 5 - Assets from Intro to Game...     106  Ferreira   \n..                                                 ...     ...       ...   \n476                           Password Reset requested     131      Webb   \n477                                          Logged in     131      Webb   \n478   Password expired. Redirecting to update password     131      Webb   \n479                                   Updated password     131      Webb   \n480  No course selected. Navigating to course selec...     131      Webb   \n\n         title  isSuperUser            lastLogin  \n0    They/Them            0  2021-05-04 13:02:17  \n1    They/Them            0  2021-05-04 13:02:17  \n2    They/Them            0  2021-05-04 13:02:17  \n3    They/Them            0  2021-05-04 13:02:17  \n4    They/Them            0  2021-05-04 13:02:17  \n..         ...          ...                  ...  \n476  They/Them            0  2021-07-14 09:27:50  \n477  They/Them            0  2021-07-14 09:27:50  \n478  They/Them            0  2021-07-14 09:27:50  \n479  They/Them            0  2021-07-14 09:27:50  \n480  They/Them            0  2021-07-14 09:27:50  \n\n[481 rows x 8 columns]",
      "text/html": "<div>\n<style scoped>\n    .dataframe tbody tr th:only-of-type {\n        vertical-align: middle;\n    }\n\n    .dataframe tbody tr th {\n        vertical-align: top;\n    }\n\n    .dataframe thead th {\n        text-align: right;\n    }\n</style>\n<table border=\"1\" class=\"dataframe\">\n  <thead>\n    <tr style=\"text-align: right;\">\n      <th></th>\n      <th>id</th>\n      <th>created_at</th>\n      <th>activity</th>\n      <th>userId</th>\n      <th>lastName</th>\n      <th>title</th>\n      <th>isSuperUser</th>\n      <th>lastLogin</th>\n    </tr>\n  </thead>\n  <tbody>\n    <tr>\n      <th>0</th>\n      <td>1028</td>\n      <td>2021-03-25 11:25:05.219531</td>\n      <td>Logged in</td>\n      <td>106</td>\n      <td>Ferreira</td>\n      <td>They/Them</td>\n      <td>0</td>\n      <td>2021-05-04 13:02:17</td>\n    </tr>\n    <tr>\n      <th>1</th>\n      <td>1029</td>\n      <td>2021-03-25 11:25:36.764022</td>\n      <td>Accessed Session 4 - Starter Files from Intro ...</td>\n      <td>106</td>\n      <td>Ferreira</td>\n      <td>They/Them</td>\n      <td>0</td>\n      <td>2021-05-04 13:02:17</td>\n    </tr>\n    <tr>\n      <th>2</th>\n      <td>1030</td>\n      <td>2021-03-25 11:28:19.047747</td>\n      <td>Accessed Session 3 Recap from Intro to Game De...</td>\n      <td>106</td>\n      <td>Ferreira</td>\n      <td>They/Them</td>\n      <td>0</td>\n      <td>2021-05-04 13:02:17</td>\n    </tr>\n    <tr>\n      <th>3</th>\n      <td>1091</td>\n      <td>2021-04-01 05:46:28.584097</td>\n      <td>Logged in</td>\n      <td>106</td>\n      <td>Ferreira</td>\n      <td>They/Them</td>\n      <td>0</td>\n      <td>2021-05-04 13:02:17</td>\n    </tr>\n    <tr>\n      <th>4</th>\n      <td>1092</td>\n      <td>2021-04-01 05:46:52.658630</td>\n      <td>Accessed Session 5 - Assets from Intro to Game...</td>\n      <td>106</td>\n      <td>Ferreira</td>\n      <td>They/Them</td>\n      <td>0</td>\n      <td>2021-05-04 13:02:17</td>\n    </tr>\n    <tr>\n      <th>...</th>\n      <td>...</td>\n      <td>...</td>\n      <td>...</td>\n      <td>...</td>\n      <td>...</td>\n      <td>...</td>\n      <td>...</td>\n      <td>...</td>\n    </tr>\n    <tr>\n      <th>476</th>\n      <td>1428</td>\n      <td>2021-07-14 09:27:29.915681</td>\n      <td>Password Reset requested</td>\n      <td>131</td>\n      <td>Webb</td>\n      <td>They/Them</td>\n      <td>0</td>\n      <td>2021-07-14 09:27:50</td>\n    </tr>\n    <tr>\n      <th>477</th>\n      <td>1429</td>\n      <td>2021-07-14 09:27:50.593216</td>\n      <td>Logged in</td>\n      <td>131</td>\n      <td>Webb</td>\n      <td>They/Them</td>\n      <td>0</td>\n      <td>2021-07-14 09:27:50</td>\n    </tr>\n    <tr>\n      <th>478</th>\n      <td>1430</td>\n      <td>2021-07-14 09:27:50.813533</td>\n      <td>Password expired. Redirecting to update password</td>\n      <td>131</td>\n      <td>Webb</td>\n      <td>They/Them</td>\n      <td>0</td>\n      <td>2021-07-14 09:27:50</td>\n    </tr>\n    <tr>\n      <th>479</th>\n      <td>1431</td>\n      <td>2021-07-14 09:28:00.435449</td>\n      <td>Updated password</td>\n      <td>131</td>\n      <td>Webb</td>\n      <td>They/Them</td>\n      <td>0</td>\n      <td>2021-07-14 09:27:50</td>\n    </tr>\n    <tr>\n      <th>480</th>\n      <td>1432</td>\n      <td>2021-07-14 09:28:15.573492</td>\n      <td>No course selected. Navigating to course selec...</td>\n      <td>131</td>\n      <td>Webb</td>\n      <td>They/Them</td>\n      <td>0</td>\n      <td>2021-07-14 09:27:50</td>\n    </tr>\n  </tbody>\n</table>\n<p>481 rows × 8 columns</p>\n</div>"
     },
     "metadata": {}
    }
   ]
  },
  {
   "cell_type": "code",
   "source": "_deepnote_run_altair(df5, \"\"\"{\"$schema\":\"https://vega.github.io/schema/vega-lite/v4.json\",\"mark\":{\"type\":\"point\",\"tooltip\":{\"content\":\"data\"}},\"height\":220,\"autosize\":{\"type\":\"fit\"},\"data\":{\"name\":\"placeholder\"},\"encoding\":{\"x\":{\"field\":\"lastName\",\"type\":\"nominal\",\"sort\":null,\"scale\":{\"type\":\"linear\",\"zero\":false}},\"y\":{\"field\":\"activity\",\"type\":\"nominal\",\"sort\":null,\"scale\":{\"type\":\"linear\",\"zero\":false}},\"color\":{\"field\":\"\",\"type\":\"nominal\",\"sort\":null,\"scale\":{\"type\":\"linear\",\"zero\":false}}}}\"\"\")",
   "metadata": {
    "cell_id": "6cf15be1412d4bf49fdaefcb28c7d197",
    "deepnote_variable_name": "df5",
    "deepnote_visualization_spec": {
     "$schema": "https://vega.github.io/schema/vega-lite/v4.json",
     "mark": {
      "type": "point",
      "tooltip": {
       "content": "data"
      }
     },
     "height": 220,
     "autosize": {
      "type": "fit"
     },
     "data": {
      "name": "placeholder"
     },
     "encoding": {
      "x": {
       "field": "lastName",
       "type": "nominal",
       "sort": null,
       "scale": {
        "type": "linear",
        "zero": false
       }
      },
      "y": {
       "field": "activity",
       "type": "nominal",
       "sort": null,
       "scale": {
        "type": "linear",
        "zero": false
       }
      },
      "color": {
       "field": "",
       "type": "nominal",
       "sort": null,
       "scale": {
        "type": "linear",
        "zero": false
       }
      }
     }
    },
    "deepnote_to_be_reexecuted": false,
    "source_hash": "c6bdb362",
    "execution_start": 1652907670771,
    "execution_millis": 180,
    "deepnote_cell_type": "visualization"
   },
   "execution_count": 20,
   "outputs": [
    {
     "output_type": "execute_result",
     "execution_count": 20,
     "data": {
      "text/html": "\n<div id=\"altair-viz-cbe0092511d54af4809669d344445616\"></div>\n<script type=\"text/javascript\">\n  (function(spec, embedOpt){\n    let outputDiv = document.currentScript.previousElementSibling;\n    if (outputDiv.id !== \"altair-viz-cbe0092511d54af4809669d344445616\") {\n      outputDiv = document.getElementById(\"altair-viz-cbe0092511d54af4809669d344445616\");\n    }\n    const paths = {\n      \"vega\": \"https://cdn.jsdelivr.net/npm//vega@5?noext\",\n      \"vega-lib\": \"https://cdn.jsdelivr.net/npm//vega-lib?noext\",\n      \"vega-lite\": \"https://cdn.jsdelivr.net/npm//vega-lite@4.8.1?noext\",\n      \"vega-embed\": \"https://cdn.jsdelivr.net/npm//vega-embed@6?noext\",\n    };\n\n    function loadScript(lib) {\n      return new Promise(function(resolve, reject) {\n        var s = document.createElement('script');\n        s.src = paths[lib];\n        s.async = true;\n        s.onload = () => resolve(paths[lib]);\n        s.onerror = () => reject(`Error loading script: ${paths[lib]}`);\n        document.getElementsByTagName(\"head\")[0].appendChild(s);\n      });\n    }\n\n    function showError(err) {\n      outputDiv.innerHTML = `<div class=\"error\" style=\"color:red;\">${err}</div>`;\n      throw err;\n    }\n\n    function displayChart(vegaEmbed) {\n      vegaEmbed(outputDiv, spec, embedOpt)\n        .catch(err => showError(`Javascript Error: ${err.message}<br>This usually means there's a typo in your chart specification. See the javascript console for the full traceback.`));\n    }\n\n    if(typeof define === \"function\" && define.amd) {\n      requirejs.config({paths});\n      require([\"vega-embed\"], displayChart, err => showError(`Error loading script: ${err.message}`));\n    } else if (typeof vegaEmbed === \"function\") {\n      displayChart(vegaEmbed);\n    } else {\n      loadScript(\"vega\")\n        .then(() => loadScript(\"vega-lite\"))\n        .then(() => loadScript(\"vega-embed\"))\n        .catch(showError)\n        .then(() => displayChart(vegaEmbed));\n    }\n  })({\"config\": {\"view\": {\"continuousWidth\": 400, \"continuousHeight\": 300}, \"area\": {\"fill\": \"#51C0E9\"}, \"axis\": {\"labelFont\": \"Inter, sans-serif\", \"labelFontSize\": 12, \"labelFontWeight\": \"normal\", \"labelLimit\": 60, \"labelOverlap\": \"greedy\", \"titleFont\": \"Inter, sans-serif\", \"titleFontSize\": 12, \"titleFontWeight\": \"bold\"}, \"background\": \"#ffffff\", \"legend\": {\"labelFont\": \"Inter, sans-serif\", \"labelFontSize\": 12, \"titleFont\": \"Inter, sans-serif\", \"titleFontSize\": 12, \"titleFontWeight\": \"bold\"}, \"line\": {\"stroke\": \"#51C0E9\", \"strokeWidth\": 2}, \"rect\": {\"fill\": \"#51C0E9\"}, \"title\": {\"anchor\": \"start\", \"color\": \"#000000\", \"font\": \"Inter, sans-serif\", \"fontSize\": 22, \"fontWeight\": \"normal\"}}, \"data\": {\"name\": \"data-92d5db93d0538a65bcd2bb1ef4a6e3e7\"}, \"mark\": {\"type\": \"point\", \"tooltip\": {\"content\": \"data\"}}, \"autosize\": {\"type\": \"fit\"}, \"encoding\": {\"color\": {\"type\": \"nominal\", \"field\": \"\", \"scale\": {\"type\": \"linear\", \"zero\": false}, \"sort\": null}, \"x\": {\"type\": \"nominal\", \"field\": \"lastName\", \"scale\": {\"type\": \"linear\", \"zero\": false}, \"sort\": null}, \"y\": {\"type\": \"nominal\", \"field\": \"activity\", \"scale\": {\"type\": \"linear\", \"zero\": false}, \"sort\": null}}, \"height\": 300, \"width\": \"container\", \"$schema\": \"https://vega.github.io/schema/vega-lite/v4.json\", \"datasets\": {\"data-92d5db93d0538a65bcd2bb1ef4a6e3e7\": [{\"id\": 1028, \"created_at\": \"2021-03-25T11:25:05.219531\", \"activity\": \"Logged in\", \"userId\": 106, \"lastName\": \"Ferreira\", \"title\": \"They/Them\", \"isSuperUser\": 0, \"lastLogin\": \"2021-05-04T13:02:17\"}, {\"id\": 1029, \"created_at\": \"2021-03-25T11:25:36.764022\", \"activity\": \"Accessed Session 4 - Starter Files from Intro to Game Dev with Unity repo\", \"userId\": 106, \"lastName\": \"Ferreira\", \"title\": \"They/Them\", \"isSuperUser\": 0, \"lastLogin\": \"2021-05-04T13:02:17\"}, {\"id\": 1030, \"created_at\": \"2021-03-25T11:28:19.047747\", \"activity\": \"Accessed Session 3 Recap from Intro to Game Dev with Unity repo\", \"userId\": 106, \"lastName\": \"Ferreira\", \"title\": \"They/Them\", \"isSuperUser\": 0, \"lastLogin\": \"2021-05-04T13:02:17\"}, {\"id\": 1091, \"created_at\": \"2021-04-01T05:46:28.584097\", \"activity\": \"Logged in\", \"userId\": 106, \"lastName\": \"Ferreira\", \"title\": \"They/Them\", \"isSuperUser\": 0, \"lastLogin\": \"2021-05-04T13:02:17\"}, {\"id\": 1092, \"created_at\": \"2021-04-01T05:46:52.658630\", \"activity\": \"Accessed Session 5 - Assets from Intro to Game Dev with Unity repo [access:141012aa424::rrtGJAd2ae1e]\", \"userId\": 106, \"lastName\": \"Ferreira\", \"title\": \"They/Them\", \"isSuperUser\": 0, \"lastLogin\": \"2021-05-04T13:02:17\"}, {\"id\": 1093, \"created_at\": \"2021-04-01T05:47:27.761210\", \"activity\": \"Accessed Session 5 - Starter Files from Intro to Game Dev with Unity repo [access:3aadbfd9eca::rrtGJAd2ae1e]\", \"userId\": 106, \"lastName\": \"Ferreira\", \"title\": \"They/Them\", \"isSuperUser\": 0, \"lastLogin\": \"2021-05-04T13:02:17\"}, {\"id\": 1094, \"created_at\": \"2021-04-01T05:49:44.969753\", \"activity\": \"Accessed Session Four Recap from Intro to Game Dev with Unity repo [access:b4aec5f066b::rrtGJAd2ae1e]\", \"userId\": 106, \"lastName\": \"Ferreira\", \"title\": \"They/Them\", \"isSuperUser\": 0, \"lastLogin\": \"2021-05-04T13:02:17\"}, {\"id\": 1129, \"created_at\": \"2021-04-09T13:42:41.610992\", \"activity\": \"Logged in\", \"userId\": 106, \"lastName\": \"Ferreira\", \"title\": \"They/Them\", \"isSuperUser\": 0, \"lastLogin\": \"2021-05-04T13:02:17\"}, {\"id\": 1130, \"created_at\": \"2021-04-09T13:42:59.996112\", \"activity\": \"Accessed Session 6 - Starter Files from Intro to Game Dev with Unity repo [access:4ff849da461::rrtGJAd2ae1e]\", \"userId\": 106, \"lastName\": \"Ferreira\", \"title\": \"They/Them\", \"isSuperUser\": 0, \"lastLogin\": \"2021-05-04T13:02:17\"}, {\"id\": 1131, \"created_at\": \"2021-04-09T13:43:36.345370\", \"activity\": \"Accessed Session 6 Recap from Intro to Game Dev with Unity repo [access:1d9bec2ad95::rrtGJAd2ae1e]\", \"userId\": 106, \"lastName\": \"Ferreira\", \"title\": \"They/Them\", \"isSuperUser\": 0, \"lastLogin\": \"2021-05-04T13:02:17\"}, {\"id\": 1132, \"created_at\": \"2021-04-09T13:46:13.557782\", \"activity\": \"Logged in\", \"userId\": 106, \"lastName\": \"Ferreira\", \"title\": \"They/Them\", \"isSuperUser\": 0, \"lastLogin\": \"2021-05-04T13:02:17\"}, {\"id\": 1133, \"created_at\": \"2021-04-09T13:46:28.733212\", \"activity\": \"Accessed Session 5 Recap from Intro to Game Dev with Unity repo [access:f2ec33fafc6::rrtGJAd2ae1e]\", \"userId\": 106, \"lastName\": \"Ferreira\", \"title\": \"They/Them\", \"isSuperUser\": 0, \"lastLogin\": \"2021-05-04T13:02:17\"}, {\"id\": 1202, \"created_at\": \"2021-04-20T13:31:56.843845\", \"activity\": \"Logged in\", \"userId\": 106, \"lastName\": \"Ferreira\", \"title\": \"They/Them\", \"isSuperUser\": 0, \"lastLogin\": \"2021-05-04T13:02:17\"}, {\"id\": 1203, \"created_at\": \"2021-04-20T13:32:21.387216\", \"activity\": \"Accessed Session 7 - Starter Files from Intro to Game Dev with Unity repo [access:0274231c583::rrtGJAd2ae1e]\", \"userId\": 106, \"lastName\": \"Ferreira\", \"title\": \"They/Them\", \"isSuperUser\": 0, \"lastLogin\": \"2021-05-04T13:02:17\"}, {\"id\": 1204, \"created_at\": \"2021-04-20T13:33:21.556400\", \"activity\": \"Accessed Session 7 Recap from Intro to Game Dev with Unity repo [access:f808a2f41b5::rrtGJAd2ae1e]\", \"userId\": 106, \"lastName\": \"Ferreira\", \"title\": \"They/Them\", \"isSuperUser\": 0, \"lastLogin\": \"2021-05-04T13:02:17\"}, {\"id\": 1212, \"created_at\": \"2021-04-26T15:00:44.092802\", \"activity\": \"Logged in\", \"userId\": 106, \"lastName\": \"Ferreira\", \"title\": \"They/Them\", \"isSuperUser\": 0, \"lastLogin\": \"2021-05-04T13:02:17\"}, {\"id\": 1213, \"created_at\": \"2021-04-26T15:01:09.771726\", \"activity\": \"Accessed Session 8 - Starter Files from Intro to Game Dev with Unity repo [access:1d14e303b59::rrtGJAd2ae1e]\", \"userId\": 106, \"lastName\": \"Ferreira\", \"title\": \"They/Them\", \"isSuperUser\": 0, \"lastLogin\": \"2021-05-04T13:02:17\"}, {\"id\": 1214, \"created_at\": \"2021-04-26T15:03:53.740382\", \"activity\": \"Accessed Session 7 Recap from Intro to Game Dev with Unity repo [access:f808a2f41b5::rrtGJAd2ae1e]\", \"userId\": 106, \"lastName\": \"Ferreira\", \"title\": \"They/Them\", \"isSuperUser\": 0, \"lastLogin\": \"2021-05-04T13:02:17\"}, {\"id\": 1215, \"created_at\": \"2021-04-26T15:03:54.531726\", \"activity\": \"Accessed Session 7 Recap from Intro to Game Dev with Unity repo [access:f808a2f41b5::rrtGJAd2ae1e]\", \"userId\": 106, \"lastName\": \"Ferreira\", \"title\": \"They/Them\", \"isSuperUser\": 0, \"lastLogin\": \"2021-05-04T13:02:17\"}, {\"id\": 1270, \"created_at\": \"2021-05-04T10:25:12.123851\", \"activity\": \"Logged in\", \"userId\": 106, \"lastName\": \"Ferreira\", \"title\": \"They/Them\", \"isSuperUser\": 0, \"lastLogin\": \"2021-05-04T13:02:17\"}, {\"id\": 1271, \"created_at\": \"2021-05-04T13:02:03.043346\", \"activity\": \"Logged in\", \"userId\": 106, \"lastName\": \"Ferreira\", \"title\": \"They/Them\", \"isSuperUser\": 0, \"lastLogin\": \"2021-05-04T13:02:17\"}, {\"id\": 1272, \"created_at\": \"2021-05-04T13:02:05.909218\", \"activity\": \"Logged in\", \"userId\": 106, \"lastName\": \"Ferreira\", \"title\": \"They/Them\", \"isSuperUser\": 0, \"lastLogin\": \"2021-05-04T13:02:17\"}, {\"id\": 1273, \"created_at\": \"2021-05-04T13:02:17.286783\", \"activity\": \"Logged in\", \"userId\": 106, \"lastName\": \"Ferreira\", \"title\": \"They/Them\", \"isSuperUser\": 0, \"lastLogin\": \"2021-05-04T13:02:17\"}, {\"id\": 1031, \"created_at\": \"2021-03-25T15:58:27.461204\", \"activity\": \"Logged in\", \"userId\": 3, \"lastName\": \"Hayre\", \"title\": \"They/Them\", \"isSuperUser\": 0, \"lastLogin\": \"2021-04-08T12:43:11\"}, {\"id\": 1032, \"created_at\": \"2021-03-25T16:00:34.020002\", \"activity\": \"Accessed W3Schools from Intro to Web Dev repo\", \"userId\": 3, \"lastName\": \"Hayre\", \"title\": \"They/Them\", \"isSuperUser\": 0, \"lastLogin\": \"2021-04-08T12:43:11\"}, {\"id\": 1034, \"created_at\": \"2021-03-25T16:04:21.472265\", \"activity\": \"No course selected. Navigating to course selection\", \"userId\": 3, \"lastName\": \"Hayre\", \"title\": \"They/Them\", \"isSuperUser\": 0, \"lastLogin\": \"2021-04-08T12:43:11\"}, {\"id\": 1035, \"created_at\": \"2021-03-25T16:09:30.966901\", \"activity\": \"Accessed Session 1 Recap from Intro to Game Dev with Unity repo\", \"userId\": 3, \"lastName\": \"Hayre\", \"title\": \"They/Them\", \"isSuperUser\": 0, \"lastLogin\": \"2021-04-08T12:43:11\"}, {\"id\": 1036, \"created_at\": \"2021-03-25T16:09:44.726639\", \"activity\": \"Accessed Session 3 Recap from Intro to Game Dev with Unity repo\", \"userId\": 3, \"lastName\": \"Hayre\", \"title\": \"They/Them\", \"isSuperUser\": 0, \"lastLogin\": \"2021-04-08T12:43:11\"}, {\"id\": 1037, \"created_at\": \"2021-03-25T16:09:47.206986\", \"activity\": \"Accessed Session 3 Recap from Intro to Game Dev with Unity repo\", \"userId\": 3, \"lastName\": \"Hayre\", \"title\": \"They/Them\", \"isSuperUser\": 0, \"lastLogin\": \"2021-04-08T12:43:11\"}, {\"id\": 1047, \"created_at\": \"2021-03-28T16:01:51.515186\", \"activity\": \"Logged in\", \"userId\": 3, \"lastName\": \"Hayre\", \"title\": \"They/Them\", \"isSuperUser\": 0, \"lastLogin\": \"2021-04-08T12:43:11\"}, {\"id\": 1121, \"created_at\": \"2021-04-08T12:43:10.895799\", \"activity\": \"Logged in\", \"userId\": 3, \"lastName\": \"Hayre\", \"title\": \"They/Them\", \"isSuperUser\": 0, \"lastLogin\": \"2021-04-08T12:43:11\"}, {\"id\": 1033, \"created_at\": \"2021-03-25T16:03:29.668728\", \"activity\": \"Logged in\", \"userId\": 2, \"lastName\": \"Cecile\", \"title\": \"[[REDACTED]]\", \"isSuperUser\": 1, \"lastLogin\": \"2022-04-21T10:17:50\"}, {\"id\": 1038, \"created_at\": \"2021-03-25T18:45:34.378924\", \"activity\": \"Logged in\", \"userId\": 2, \"lastName\": \"Cecile\", \"title\": \"[[REDACTED]]\", \"isSuperUser\": 1, \"lastLogin\": \"2022-04-21T10:17:50\"}, {\"id\": 1039, \"created_at\": \"2021-03-25T18:50:06.107282\", \"activity\": \"Logged in\", \"userId\": 2, \"lastName\": \"Cecile\", \"title\": \"[[REDACTED]]\", \"isSuperUser\": 1, \"lastLogin\": \"2022-04-21T10:17:50\"}, {\"id\": 1040, \"created_at\": \"2021-03-25T18:52:08.578560\", \"activity\": \"Accessed Session 3 Recap from Intro to Game Dev with Unity repo\", \"userId\": 2, \"lastName\": \"Cecile\", \"title\": \"[[REDACTED]]\", \"isSuperUser\": 1, \"lastLogin\": \"2022-04-21T10:17:50\"}, {\"id\": 1041, \"created_at\": \"2021-03-25T19:20:14.073949\", \"activity\": \"Logged in\", \"userId\": 2, \"lastName\": \"Cecile\", \"title\": \"[[REDACTED]]\", \"isSuperUser\": 1, \"lastLogin\": \"2022-04-21T10:17:50\"}, {\"id\": 1042, \"created_at\": \"2021-03-25T19:44:09.943624\", \"activity\": \"Accessed Session 3 Recap from Intro to Game Dev with Unity repo [access:5b3cf9ac46f::rrtGJAd2ae1e]\", \"userId\": 2, \"lastName\": \"Cecile\", \"title\": \"[[REDACTED]]\", \"isSuperUser\": 1, \"lastLogin\": \"2022-04-21T10:17:50\"}, {\"id\": 1043, \"created_at\": \"2021-03-25T19:50:22.793375\", \"activity\": \"Logged in\", \"userId\": 2, \"lastName\": \"Cecile\", \"title\": \"[[REDACTED]]\", \"isSuperUser\": 1, \"lastLogin\": \"2022-04-21T10:17:50\"}, {\"id\": 1044, \"created_at\": \"2021-03-25T20:22:52.632461\", \"activity\": \"Logged in\", \"userId\": 2, \"lastName\": \"Cecile\", \"title\": \"[[REDACTED]]\", \"isSuperUser\": 1, \"lastLogin\": \"2022-04-21T10:17:50\"}, {\"id\": 1045, \"created_at\": \"2021-03-25T20:55:40.332731\", \"activity\": \"Logged in\", \"userId\": 2, \"lastName\": \"Cecile\", \"title\": \"[[REDACTED]]\", \"isSuperUser\": 1, \"lastLogin\": \"2022-04-21T10:17:50\"}, {\"id\": 1046, \"created_at\": \"2021-03-26T12:12:55.171977\", \"activity\": \"Logged in\", \"userId\": 2, \"lastName\": \"Cecile\", \"title\": \"[[REDACTED]]\", \"isSuperUser\": 1, \"lastLogin\": \"2022-04-21T10:17:50\"}, {\"id\": 1048, \"created_at\": \"2021-03-28T17:44:33.663573\", \"activity\": \"Logged in\", \"userId\": 2, \"lastName\": \"Cecile\", \"title\": \"[[REDACTED]]\", \"isSuperUser\": 1, \"lastLogin\": \"2022-04-21T10:17:50\"}, {\"id\": 1061, \"created_at\": \"2021-03-30T09:50:08.707393\", \"activity\": \"Logged in\", \"userId\": 2, \"lastName\": \"Cecile\", \"title\": \"[[REDACTED]]\", \"isSuperUser\": 1, \"lastLogin\": \"2022-04-21T10:17:50\"}, {\"id\": 1062, \"created_at\": \"2021-03-30T10:10:26.161206\", \"activity\": \"Accessed Session Four Recap from Intro to Game Dev with Unity repo [access:b4aec5f066b::rrtGJAd2ae1e]\", \"userId\": 2, \"lastName\": \"Cecile\", \"title\": \"[[REDACTED]]\", \"isSuperUser\": 1, \"lastLogin\": \"2022-04-21T10:17:50\"}, {\"id\": 1102, \"created_at\": \"2021-04-06T17:53:21.751430\", \"activity\": \"Logged in\", \"userId\": 2, \"lastName\": \"Cecile\", \"title\": \"[[REDACTED]]\", \"isSuperUser\": 1, \"lastLogin\": \"2022-04-21T10:17:50\"}, {\"id\": 1109, \"created_at\": \"2021-04-06T18:29:37.857336\", \"activity\": \"Logged in\", \"userId\": 2, \"lastName\": \"Cecile\", \"title\": \"[[REDACTED]]\", \"isSuperUser\": 1, \"lastLogin\": \"2022-04-21T10:17:50\"}, {\"id\": 1110, \"created_at\": \"2021-04-06T18:48:43.687112\", \"activity\": \"Logged in\", \"userId\": 2, \"lastName\": \"Cecile\", \"title\": \"[[REDACTED]]\", \"isSuperUser\": 1, \"lastLogin\": \"2022-04-21T10:17:50\"}, {\"id\": 1111, \"created_at\": \"2021-04-06T19:03:25.898810\", \"activity\": \"Accessed Session Four Recap from Intro to Game Dev with Unity repo [access:b4aec5f066b::rrtGJAd2ae1e]\", \"userId\": 2, \"lastName\": \"Cecile\", \"title\": \"[[REDACTED]]\", \"isSuperUser\": 1, \"lastLogin\": \"2022-04-21T10:17:50\"}, {\"id\": 1112, \"created_at\": \"2021-04-06T19:09:03.164843\", \"activity\": \"Logged in\", \"userId\": 2, \"lastName\": \"Cecile\", \"title\": \"[[REDACTED]]\", \"isSuperUser\": 1, \"lastLogin\": \"2022-04-21T10:17:50\"}, {\"id\": 1115, \"created_at\": \"2021-04-07T12:09:31.959269\", \"activity\": \"Logged in\", \"userId\": 2, \"lastName\": \"Cecile\", \"title\": \"[[REDACTED]]\", \"isSuperUser\": 1, \"lastLogin\": \"2022-04-21T10:17:50\"}, {\"id\": 1117, \"created_at\": \"2021-04-07T12:19:19.219635\", \"activity\": \"Accessed Session Four Recap from Intro to Game Dev with Unity repo [access:b4aec5f066b::rrtGJAd2ae1e]\", \"userId\": 2, \"lastName\": \"Cecile\", \"title\": \"[[REDACTED]]\", \"isSuperUser\": 1, \"lastLogin\": \"2022-04-21T10:17:50\"}, {\"id\": 1118, \"created_at\": \"2021-04-08T11:13:07.184370\", \"activity\": \"Logged in\", \"userId\": 2, \"lastName\": \"Cecile\", \"title\": \"[[REDACTED]]\", \"isSuperUser\": 1, \"lastLogin\": \"2022-04-21T10:17:50\"}, {\"id\": 1119, \"created_at\": \"2021-04-08T11:16:44.376151\", \"activity\": \"Accessed Session 5 Recap from Intro to Game Dev with Unity repo [access:f2ec33fafc6::rrtGJAd2ae1e]\", \"userId\": 2, \"lastName\": \"Cecile\", \"title\": \"[[REDACTED]]\", \"isSuperUser\": 1, \"lastLogin\": \"2022-04-21T10:17:50\"}, {\"id\": 1120, \"created_at\": \"2021-04-08T11:43:12.219764\", \"activity\": \"Logged in\", \"userId\": 2, \"lastName\": \"Cecile\", \"title\": \"[[REDACTED]]\", \"isSuperUser\": 1, \"lastLogin\": \"2022-04-21T10:17:50\"}, {\"id\": 1122, \"created_at\": \"2021-04-08T17:17:12.326946\", \"activity\": \"Logged in\", \"userId\": 2, \"lastName\": \"Cecile\", \"title\": \"[[REDACTED]]\", \"isSuperUser\": 1, \"lastLogin\": \"2022-04-21T10:17:50\"}, {\"id\": 1123, \"created_at\": \"2021-04-08T17:50:09.791725\", \"activity\": \"Logged in\", \"userId\": 2, \"lastName\": \"Cecile\", \"title\": \"[[REDACTED]]\", \"isSuperUser\": 1, \"lastLogin\": \"2022-04-21T10:17:50\"}, {\"id\": 1124, \"created_at\": \"2021-04-08T20:03:25.675307\", \"activity\": \"Logged in\", \"userId\": 2, \"lastName\": \"Cecile\", \"title\": \"[[REDACTED]]\", \"isSuperUser\": 1, \"lastLogin\": \"2022-04-21T10:17:50\"}, {\"id\": 1125, \"created_at\": \"2021-04-08T20:05:23.457644\", \"activity\": \"Accessed Session 6 Recap from Intro to Game Dev with Unity repo [access:1d9bec2ad95::rrtGJAd2ae1e]\", \"userId\": 2, \"lastName\": \"Cecile\", \"title\": \"[[REDACTED]]\", \"isSuperUser\": 1, \"lastLogin\": \"2022-04-21T10:17:50\"}, {\"id\": 1134, \"created_at\": \"2021-04-10T12:41:32.237198\", \"activity\": \"Logged in\", \"userId\": 2, \"lastName\": \"Cecile\", \"title\": \"[[REDACTED]]\", \"isSuperUser\": 1, \"lastLogin\": \"2022-04-21T10:17:50\"}, {\"id\": 1135, \"created_at\": \"2021-04-10T14:46:30.944237\", \"activity\": \"Logged in\", \"userId\": 2, \"lastName\": \"Cecile\", \"title\": \"[[REDACTED]]\", \"isSuperUser\": 1, \"lastLogin\": \"2022-04-21T10:17:50\"}, {\"id\": 1136, \"created_at\": \"2021-04-10T15:53:58.042978\", \"activity\": \"Logged in\", \"userId\": 2, \"lastName\": \"Cecile\", \"title\": \"[[REDACTED]]\", \"isSuperUser\": 1, \"lastLogin\": \"2022-04-21T10:17:50\"}, {\"id\": 1137, \"created_at\": \"2021-04-10T16:27:46.632830\", \"activity\": \"Logged in\", \"userId\": 2, \"lastName\": \"Cecile\", \"title\": \"[[REDACTED]]\", \"isSuperUser\": 1, \"lastLogin\": \"2022-04-21T10:17:50\"}, {\"id\": 1138, \"created_at\": \"2021-04-10T16:58:03.681893\", \"activity\": \"Logged in\", \"userId\": 2, \"lastName\": \"Cecile\", \"title\": \"[[REDACTED]]\", \"isSuperUser\": 1, \"lastLogin\": \"2022-04-21T10:17:50\"}, {\"id\": 1139, \"created_at\": \"2021-04-10T17:28:54.263005\", \"activity\": \"Logged in\", \"userId\": 2, \"lastName\": \"Cecile\", \"title\": \"[[REDACTED]]\", \"isSuperUser\": 1, \"lastLogin\": \"2022-04-21T10:17:50\"}, {\"id\": 1140, \"created_at\": \"2021-04-11T12:52:09.212436\", \"activity\": \"Logged in\", \"userId\": 2, \"lastName\": \"Cecile\", \"title\": \"[[REDACTED]]\", \"isSuperUser\": 1, \"lastLogin\": \"2022-04-21T10:17:50\"}, {\"id\": 1141, \"created_at\": \"2021-04-11T13:23:59.012224\", \"activity\": \"Logged in\", \"userId\": 2, \"lastName\": \"Cecile\", \"title\": \"[[REDACTED]]\", \"isSuperUser\": 1, \"lastLogin\": \"2022-04-21T10:17:50\"}, {\"id\": 1142, \"created_at\": \"2021-04-11T14:00:58.470491\", \"activity\": \"Logged in\", \"userId\": 2, \"lastName\": \"Cecile\", \"title\": \"[[REDACTED]]\", \"isSuperUser\": 1, \"lastLogin\": \"2022-04-21T10:17:50\"}, {\"id\": 1143, \"created_at\": \"2021-04-11T14:14:35.836538\", \"activity\": \"Logged in\", \"userId\": 2, \"lastName\": \"Cecile\", \"title\": \"[[REDACTED]]\", \"isSuperUser\": 1, \"lastLogin\": \"2022-04-21T10:17:50\"}, {\"id\": 1144, \"created_at\": \"2021-04-11T20:54:51.959573\", \"activity\": \"Logged in\", \"userId\": 2, \"lastName\": \"Cecile\", \"title\": \"[[REDACTED]]\", \"isSuperUser\": 1, \"lastLogin\": \"2022-04-21T10:17:50\"}, {\"id\": 1145, \"created_at\": \"2021-04-11T21:21:41.084566\", \"activity\": \"Logged in\", \"userId\": 2, \"lastName\": \"Cecile\", \"title\": \"[[REDACTED]]\", \"isSuperUser\": 1, \"lastLogin\": \"2022-04-21T10:17:50\"}, {\"id\": 1146, \"created_at\": \"2021-04-11T21:51:55.073929\", \"activity\": \"Logged in\", \"userId\": 2, \"lastName\": \"Cecile\", \"title\": \"[[REDACTED]]\", \"isSuperUser\": 1, \"lastLogin\": \"2022-04-21T10:17:50\"}, {\"id\": 1147, \"created_at\": \"2021-04-11T22:22:26.261209\", \"activity\": \"Logged in\", \"userId\": 2, \"lastName\": \"Cecile\", \"title\": \"[[REDACTED]]\", \"isSuperUser\": 1, \"lastLogin\": \"2022-04-21T10:17:50\"}, {\"id\": 1148, \"created_at\": \"2021-04-11T22:57:34.367626\", \"activity\": \"Logged in\", \"userId\": 2, \"lastName\": \"Cecile\", \"title\": \"[[REDACTED]]\", \"isSuperUser\": 1, \"lastLogin\": \"2022-04-21T10:17:50\"}, {\"id\": 1149, \"created_at\": \"2021-04-11T23:18:49.887309\", \"activity\": \"Logged in\", \"userId\": 2, \"lastName\": \"Cecile\", \"title\": \"[[REDACTED]]\", \"isSuperUser\": 1, \"lastLogin\": \"2022-04-21T10:17:50\"}, {\"id\": 1150, \"created_at\": \"2021-04-11T23:18:53.435112\", \"activity\": \"Logged in\", \"userId\": 2, \"lastName\": \"Cecile\", \"title\": \"[[REDACTED]]\", \"isSuperUser\": 1, \"lastLogin\": \"2022-04-21T10:17:50\"}, {\"id\": 1151, \"created_at\": \"2021-04-11T23:19:07.578875\", \"activity\": \"Logged in\", \"userId\": 2, \"lastName\": \"Cecile\", \"title\": \"[[REDACTED]]\", \"isSuperUser\": 1, \"lastLogin\": \"2022-04-21T10:17:50\"}, {\"id\": 1152, \"created_at\": \"2021-04-11T23:22:07.954273\", \"activity\": \"Logged in\", \"userId\": 2, \"lastName\": \"Cecile\", \"title\": \"[[REDACTED]]\", \"isSuperUser\": 1, \"lastLogin\": \"2022-04-21T10:17:50\"}, {\"id\": 1154, \"created_at\": \"2021-04-12T08:16:39.741206\", \"activity\": \"Logged in\", \"userId\": 2, \"lastName\": \"Cecile\", \"title\": \"[[REDACTED]]\", \"isSuperUser\": 1, \"lastLogin\": \"2022-04-21T10:17:50\"}, {\"id\": 1155, \"created_at\": \"2021-04-12T09:17:21.653187\", \"activity\": \"Logged in\", \"userId\": 2, \"lastName\": \"Cecile\", \"title\": \"[[REDACTED]]\", \"isSuperUser\": 1, \"lastLogin\": \"2022-04-21T10:17:50\"}, {\"id\": 1156, \"created_at\": \"2021-04-12T10:54:15.516758\", \"activity\": \"Logged in\", \"userId\": 2, \"lastName\": \"Cecile\", \"title\": \"[[REDACTED]]\", \"isSuperUser\": 1, \"lastLogin\": \"2022-04-21T10:17:50\"}, {\"id\": 1157, \"created_at\": \"2021-04-12T16:34:07.164032\", \"activity\": \"Logged in\", \"userId\": 2, \"lastName\": \"Cecile\", \"title\": \"[[REDACTED]]\", \"isSuperUser\": 1, \"lastLogin\": \"2022-04-21T10:17:50\"}, {\"id\": 1158, \"created_at\": \"2021-04-12T17:04:20.975431\", \"activity\": \"Logged in\", \"userId\": 2, \"lastName\": \"Cecile\", \"title\": \"[[REDACTED]]\", \"isSuperUser\": 1, \"lastLogin\": \"2022-04-21T10:17:50\"}, {\"id\": 1159, \"created_at\": \"2021-04-13T08:47:58.135309\", \"activity\": \"Logged in\", \"userId\": 2, \"lastName\": \"Cecile\", \"title\": \"[[REDACTED]]\", \"isSuperUser\": 1, \"lastLogin\": \"2022-04-21T10:17:50\"}, {\"id\": 1168, \"created_at\": \"2021-04-14T19:18:35.115653\", \"activity\": \"Logged in\", \"userId\": 2, \"lastName\": \"Cecile\", \"title\": \"[[REDACTED]]\", \"isSuperUser\": 1, \"lastLogin\": \"2022-04-21T10:17:50\"}, {\"id\": 1169, \"created_at\": \"2021-04-15T19:32:57.459850\", \"activity\": \"Logged in\", \"userId\": 2, \"lastName\": \"Cecile\", \"title\": \"[[REDACTED]]\", \"isSuperUser\": 1, \"lastLogin\": \"2022-04-21T10:17:50\"}, {\"id\": 1174, \"created_at\": \"2021-04-16T09:52:17.355196\", \"activity\": \"Logged in\", \"userId\": 2, \"lastName\": \"Cecile\", \"title\": \"[[REDACTED]]\", \"isSuperUser\": 1, \"lastLogin\": \"2022-04-21T10:17:50\"}, {\"id\": 1175, \"created_at\": \"2021-04-16T12:18:39.099872\", \"activity\": \"Logged in\", \"userId\": 2, \"lastName\": \"Cecile\", \"title\": \"[[REDACTED]]\", \"isSuperUser\": 1, \"lastLogin\": \"2022-04-21T10:17:50\"}, {\"id\": 1176, \"created_at\": \"2021-04-16T15:55:43.644590\", \"activity\": \"Logged in\", \"userId\": 2, \"lastName\": \"Cecile\", \"title\": \"[[REDACTED]]\", \"isSuperUser\": 1, \"lastLogin\": \"2022-04-21T10:17:50\"}, {\"id\": 1177, \"created_at\": \"2021-04-16T16:26:27.955195\", \"activity\": \"Logged in\", \"userId\": 2, \"lastName\": \"Cecile\", \"title\": \"[[REDACTED]]\", \"isSuperUser\": 1, \"lastLogin\": \"2022-04-21T10:17:50\"}, {\"id\": 1178, \"created_at\": \"2021-04-16T18:08:58.411590\", \"activity\": \"Logged in\", \"userId\": 2, \"lastName\": \"Cecile\", \"title\": \"[[REDACTED]]\", \"isSuperUser\": 1, \"lastLogin\": \"2022-04-21T10:17:50\"}, {\"id\": 1179, \"created_at\": \"2021-04-17T19:13:54.079191\", \"activity\": \"Logged in\", \"userId\": 2, \"lastName\": \"Cecile\", \"title\": \"[[REDACTED]]\", \"isSuperUser\": 1, \"lastLogin\": \"2022-04-21T10:17:50\"}, {\"id\": 1180, \"created_at\": \"2021-04-17T20:07:00.594037\", \"activity\": \"Logged in\", \"userId\": 2, \"lastName\": \"Cecile\", \"title\": \"[[REDACTED]]\", \"isSuperUser\": 1, \"lastLogin\": \"2022-04-21T10:17:50\"}, {\"id\": 1181, \"created_at\": \"2021-04-17T20:52:11.813494\", \"activity\": \"Logged in\", \"userId\": 2, \"lastName\": \"Cecile\", \"title\": \"[[REDACTED]]\", \"isSuperUser\": 1, \"lastLogin\": \"2022-04-21T10:17:50\"}, {\"id\": 1182, \"created_at\": \"2021-04-17T21:22:01.984954\", \"activity\": \"Logged in\", \"userId\": 2, \"lastName\": \"Cecile\", \"title\": \"[[REDACTED]]\", \"isSuperUser\": 1, \"lastLogin\": \"2022-04-21T10:17:50\"}, {\"id\": 1183, \"created_at\": \"2021-04-17T22:48:19.244237\", \"activity\": \"Logged in\", \"userId\": 2, \"lastName\": \"Cecile\", \"title\": \"[[REDACTED]]\", \"isSuperUser\": 1, \"lastLogin\": \"2022-04-21T10:17:50\"}, {\"id\": 1184, \"created_at\": \"2021-04-17T23:19:02.204312\", \"activity\": \"Logged in\", \"userId\": 2, \"lastName\": \"Cecile\", \"title\": \"[[REDACTED]]\", \"isSuperUser\": 1, \"lastLogin\": \"2022-04-21T10:17:50\"}, {\"id\": 1185, \"created_at\": \"2021-04-17T23:19:38.285531\", \"activity\": \"Logged in\", \"userId\": 2, \"lastName\": \"Cecile\", \"title\": \"[[REDACTED]]\", \"isSuperUser\": 1, \"lastLogin\": \"2022-04-21T10:17:50\"}, {\"id\": 1186, \"created_at\": \"2021-04-17T23:26:10.698902\", \"activity\": \"Logged in\", \"userId\": 2, \"lastName\": \"Cecile\", \"title\": \"[[REDACTED]]\", \"isSuperUser\": 1, \"lastLogin\": \"2022-04-21T10:17:50\"}, {\"id\": 1187, \"created_at\": \"2021-04-18T13:55:38.095175\", \"activity\": \"Logged in\", \"userId\": 2, \"lastName\": \"Cecile\", \"title\": \"[[REDACTED]]\", \"isSuperUser\": 1, \"lastLogin\": \"2022-04-21T10:17:50\"}, {\"id\": 1188, \"created_at\": \"2021-04-18T14:26:08.944900\", \"activity\": \"Logged in\", \"userId\": 2, \"lastName\": \"Cecile\", \"title\": \"[[REDACTED]]\", \"isSuperUser\": 1, \"lastLogin\": \"2022-04-21T10:17:50\"}, {\"id\": 1189, \"created_at\": \"2021-04-18T14:57:28.787090\", \"activity\": \"Logged in\", \"userId\": 2, \"lastName\": \"Cecile\", \"title\": \"[[REDACTED]]\", \"isSuperUser\": 1, \"lastLogin\": \"2022-04-21T10:17:50\"}, {\"id\": 1190, \"created_at\": \"2021-04-18T15:12:30.727898\", \"activity\": \"Logged in\", \"userId\": 2, \"lastName\": \"Cecile\", \"title\": \"[[REDACTED]]\", \"isSuperUser\": 1, \"lastLogin\": \"2022-04-21T10:17:50\"}, {\"id\": 1191, \"created_at\": \"2021-04-18T18:20:03.383778\", \"activity\": \"Magic link sent\", \"userId\": 2, \"lastName\": \"Cecile\", \"title\": \"[[REDACTED]]\", \"isSuperUser\": 1, \"lastLogin\": \"2022-04-21T10:17:50\"}, {\"id\": 1192, \"created_at\": \"2021-04-18T18:22:19.041633\", \"activity\": \"Logged in\", \"userId\": 2, \"lastName\": \"Cecile\", \"title\": \"[[REDACTED]]\", \"isSuperUser\": 1, \"lastLogin\": \"2022-04-21T10:17:50\"}, {\"id\": 1193, \"created_at\": \"2021-04-18T18:43:30.045810\", \"activity\": \"Magic link sent\", \"userId\": 2, \"lastName\": \"Cecile\", \"title\": \"[[REDACTED]]\", \"isSuperUser\": 1, \"lastLogin\": \"2022-04-21T10:17:50\"}, {\"id\": 1194, \"created_at\": \"2021-04-18T18:44:45.458662\", \"activity\": \"Logged in\", \"userId\": 2, \"lastName\": \"Cecile\", \"title\": \"[[REDACTED]]\", \"isSuperUser\": 1, \"lastLogin\": \"2022-04-21T10:17:50\"}, {\"id\": 1195, \"created_at\": \"2021-04-18T20:30:29.907635\", \"activity\": \"Logged in\", \"userId\": 2, \"lastName\": \"Cecile\", \"title\": \"[[REDACTED]]\", \"isSuperUser\": 1, \"lastLogin\": \"2022-04-21T10:17:50\"}, {\"id\": 1196, \"created_at\": \"2021-04-18T21:30:42.347304\", \"activity\": \"Logged in\", \"userId\": 2, \"lastName\": \"Cecile\", \"title\": \"[[REDACTED]]\", \"isSuperUser\": 1, \"lastLogin\": \"2022-04-21T10:17:50\"}, {\"id\": 1197, \"created_at\": \"2021-04-18T21:45:49.339299\", \"activity\": \"Logged in\", \"userId\": 2, \"lastName\": \"Cecile\", \"title\": \"[[REDACTED]]\", \"isSuperUser\": 1, \"lastLogin\": \"2022-04-21T10:17:50\"}, {\"id\": 1198, \"created_at\": \"2021-04-19T11:38:14.008338\", \"activity\": \"Logged in\", \"userId\": 2, \"lastName\": \"Cecile\", \"title\": \"[[REDACTED]]\", \"isSuperUser\": 1, \"lastLogin\": \"2022-04-21T10:17:50\"}, {\"id\": 1201, \"created_at\": \"2021-04-19T12:39:41.195909\", \"activity\": \"Logged in\", \"userId\": 2, \"lastName\": \"Cecile\", \"title\": \"[[REDACTED]]\", \"isSuperUser\": 1, \"lastLogin\": \"2022-04-21T10:17:50\"}, {\"id\": 1207, \"created_at\": \"2021-04-20T16:50:54.232120\", \"activity\": \"Logged in\", \"userId\": 2, \"lastName\": \"Cecile\", \"title\": \"[[REDACTED]]\", \"isSuperUser\": 1, \"lastLogin\": \"2022-04-21T10:17:50\"}, {\"id\": 1211, \"created_at\": \"2021-04-21T08:48:00.343106\", \"activity\": \"Logged in\", \"userId\": 2, \"lastName\": \"Cecile\", \"title\": \"[[REDACTED]]\", \"isSuperUser\": 1, \"lastLogin\": \"2022-04-21T10:17:50\"}, {\"id\": 1216, \"created_at\": \"2021-04-27T11:34:10.809791\", \"activity\": \"Logged in\", \"userId\": 2, \"lastName\": \"Cecile\", \"title\": \"[[REDACTED]]\", \"isSuperUser\": 1, \"lastLogin\": \"2022-04-21T10:17:50\"}, {\"id\": 1217, \"created_at\": \"2021-04-27T15:09:15.980556\", \"activity\": \"Logged in\", \"userId\": 2, \"lastName\": \"Cecile\", \"title\": \"[[REDACTED]]\", \"isSuperUser\": 1, \"lastLogin\": \"2022-04-21T10:17:50\"}, {\"id\": 1220, \"created_at\": \"2021-04-27T15:39:20.014852\", \"activity\": \"Logged in\", \"userId\": 2, \"lastName\": \"Cecile\", \"title\": \"[[REDACTED]]\", \"isSuperUser\": 1, \"lastLogin\": \"2022-04-21T10:17:50\"}, {\"id\": 1224, \"created_at\": \"2021-04-27T16:12:15.911431\", \"activity\": \"Logged in\", \"userId\": 2, \"lastName\": \"Cecile\", \"title\": \"[[REDACTED]]\", \"isSuperUser\": 1, \"lastLogin\": \"2022-04-21T10:17:50\"}, {\"id\": 1228, \"created_at\": \"2021-04-27T16:48:25.951335\", \"activity\": \"Logged in\", \"userId\": 2, \"lastName\": \"Cecile\", \"title\": \"[[REDACTED]]\", \"isSuperUser\": 1, \"lastLogin\": \"2022-04-21T10:17:50\"}, {\"id\": 1229, \"created_at\": \"2021-04-27T17:23:37.533182\", \"activity\": \"Logged in\", \"userId\": 2, \"lastName\": \"Cecile\", \"title\": \"[[REDACTED]]\", \"isSuperUser\": 1, \"lastLogin\": \"2022-04-21T10:17:50\"}, {\"id\": 1232, \"created_at\": \"2021-04-27T18:26:19.359155\", \"activity\": \"Magic link sent\", \"userId\": 2, \"lastName\": \"Cecile\", \"title\": \"[[REDACTED]]\", \"isSuperUser\": 1, \"lastLogin\": \"2022-04-21T10:17:50\"}, {\"id\": 1233, \"created_at\": \"2021-04-27T18:32:28.746808\", \"activity\": \"Logged in\", \"userId\": 2, \"lastName\": \"Cecile\", \"title\": \"[[REDACTED]]\", \"isSuperUser\": 1, \"lastLogin\": \"2022-04-21T10:17:50\"}, {\"id\": 1234, \"created_at\": \"2021-04-27T18:32:40.963179\", \"activity\": \"Magic link sent\", \"userId\": 2, \"lastName\": \"Cecile\", \"title\": \"[[REDACTED]]\", \"isSuperUser\": 1, \"lastLogin\": \"2022-04-21T10:17:50\"}, {\"id\": 1235, \"created_at\": \"2021-04-27T18:32:55.649174\", \"activity\": \"Logged in\", \"userId\": 2, \"lastName\": \"Cecile\", \"title\": \"[[REDACTED]]\", \"isSuperUser\": 1, \"lastLogin\": \"2022-04-21T10:17:50\"}, {\"id\": 1236, \"created_at\": \"2021-04-27T18:36:07.691137\", \"activity\": \"Magic link sent\", \"userId\": 2, \"lastName\": \"Cecile\", \"title\": \"[[REDACTED]]\", \"isSuperUser\": 1, \"lastLogin\": \"2022-04-21T10:17:50\"}, {\"id\": 1237, \"created_at\": \"2021-04-27T18:36:34.471055\", \"activity\": \"Logged in\", \"userId\": 2, \"lastName\": \"Cecile\", \"title\": \"[[REDACTED]]\", \"isSuperUser\": 1, \"lastLogin\": \"2022-04-21T10:17:50\"}, {\"id\": 1238, \"created_at\": \"2021-04-27T18:43:29.847256\", \"activity\": \"Magic link sent\", \"userId\": 2, \"lastName\": \"Cecile\", \"title\": \"[[REDACTED]]\", \"isSuperUser\": 1, \"lastLogin\": \"2022-04-21T10:17:50\"}, {\"id\": 1239, \"created_at\": \"2021-04-27T18:43:41.678845\", \"activity\": \"Logged in\", \"userId\": 2, \"lastName\": \"Cecile\", \"title\": \"[[REDACTED]]\", \"isSuperUser\": 1, \"lastLogin\": \"2022-04-21T10:17:50\"}, {\"id\": 1240, \"created_at\": \"2021-04-27T18:46:58.175649\", \"activity\": \"Logged in\", \"userId\": 2, \"lastName\": \"Cecile\", \"title\": \"[[REDACTED]]\", \"isSuperUser\": 1, \"lastLogin\": \"2022-04-21T10:17:50\"}, {\"id\": 1241, \"created_at\": \"2021-04-27T18:54:38.203684\", \"activity\": \"Magic link sent\", \"userId\": 2, \"lastName\": \"Cecile\", \"title\": \"[[REDACTED]]\", \"isSuperUser\": 1, \"lastLogin\": \"2022-04-21T10:17:50\"}, {\"id\": 1242, \"created_at\": \"2021-04-27T18:54:57.619098\", \"activity\": \"Logged in\", \"userId\": 2, \"lastName\": \"Cecile\", \"title\": \"[[REDACTED]]\", \"isSuperUser\": 1, \"lastLogin\": \"2022-04-21T10:17:50\"}, {\"id\": 1243, \"created_at\": \"2021-04-27T18:59:17.431940\", \"activity\": \"Magic link sent\", \"userId\": 2, \"lastName\": \"Cecile\", \"title\": \"[[REDACTED]]\", \"isSuperUser\": 1, \"lastLogin\": \"2022-04-21T10:17:50\"}, {\"id\": 1244, \"created_at\": \"2021-04-27T19:00:14.822590\", \"activity\": \"Logged in\", \"userId\": 2, \"lastName\": \"Cecile\", \"title\": \"[[REDACTED]]\", \"isSuperUser\": 1, \"lastLogin\": \"2022-04-21T10:17:50\"}, {\"id\": 1245, \"created_at\": \"2021-04-27T19:01:04.026892\", \"activity\": \"Magic link sent\", \"userId\": 2, \"lastName\": \"Cecile\", \"title\": \"[[REDACTED]]\", \"isSuperUser\": 1, \"lastLogin\": \"2022-04-21T10:17:50\"}, {\"id\": 1246, \"created_at\": \"2021-04-27T19:01:30.369183\", \"activity\": \"Logged in\", \"userId\": 2, \"lastName\": \"Cecile\", \"title\": \"[[REDACTED]]\", \"isSuperUser\": 1, \"lastLogin\": \"2022-04-21T10:17:50\"}, {\"id\": 1247, \"created_at\": \"2021-04-27T19:04:51.533164\", \"activity\": \"Magic link sent\", \"userId\": 2, \"lastName\": \"Cecile\", \"title\": \"[[REDACTED]]\", \"isSuperUser\": 1, \"lastLogin\": \"2022-04-21T10:17:50\"}, {\"id\": 1248, \"created_at\": \"2021-04-27T19:05:04.695172\", \"activity\": \"Logged in\", \"userId\": 2, \"lastName\": \"Cecile\", \"title\": \"[[REDACTED]]\", \"isSuperUser\": 1, \"lastLogin\": \"2022-04-21T10:17:50\"}, {\"id\": 1249, \"created_at\": \"2021-04-27T19:09:50.800968\", \"activity\": \"Magic link sent\", \"userId\": 2, \"lastName\": \"Cecile\", \"title\": \"[[REDACTED]]\", \"isSuperUser\": 1, \"lastLogin\": \"2022-04-21T10:17:50\"}, {\"id\": 1250, \"created_at\": \"2021-04-27T19:09:57.655656\", \"activity\": \"Logged in\", \"userId\": 2, \"lastName\": \"Cecile\", \"title\": \"[[REDACTED]]\", \"isSuperUser\": 1, \"lastLogin\": \"2022-04-21T10:17:50\"}, {\"id\": 1252, \"created_at\": \"2021-04-27T19:43:51.689211\", \"activity\": \"Logged in\", \"userId\": 2, \"lastName\": \"Cecile\", \"title\": \"[[REDACTED]]\", \"isSuperUser\": 1, \"lastLogin\": \"2022-04-21T10:17:50\"}, {\"id\": 1253, \"created_at\": \"2021-04-27T23:27:50.868354\", \"activity\": \"Logged in\", \"userId\": 2, \"lastName\": \"Cecile\", \"title\": \"[[REDACTED]]\", \"isSuperUser\": 1, \"lastLogin\": \"2022-04-21T10:17:50\"}, {\"id\": 1259, \"created_at\": \"2021-04-29T21:00:39.511337\", \"activity\": \"Logged in\", \"userId\": 2, \"lastName\": \"Cecile\", \"title\": \"[[REDACTED]]\", \"isSuperUser\": 1, \"lastLogin\": \"2022-04-21T10:17:50\"}, {\"id\": 1265, \"created_at\": \"2021-04-30T22:53:38.183463\", \"activity\": \"Logged in\", \"userId\": 2, \"lastName\": \"Cecile\", \"title\": \"[[REDACTED]]\", \"isSuperUser\": 1, \"lastLogin\": \"2022-04-21T10:17:50\"}, {\"id\": 1266, \"created_at\": \"2021-04-30T23:16:52.638372\", \"activity\": \"Logged in\", \"userId\": 2, \"lastName\": \"Cecile\", \"title\": \"[[REDACTED]]\", \"isSuperUser\": 1, \"lastLogin\": \"2022-04-21T10:17:50\"}, {\"id\": 1267, \"created_at\": \"2021-04-30T23:46:59.887253\", \"activity\": \"Logged in\", \"userId\": 2, \"lastName\": \"Cecile\", \"title\": \"[[REDACTED]]\", \"isSuperUser\": 1, \"lastLogin\": \"2022-04-21T10:17:50\"}, {\"id\": 1268, \"created_at\": \"2021-04-30T23:47:13.497927\", \"activity\": \"Logged in\", \"userId\": 2, \"lastName\": \"Cecile\", \"title\": \"[[REDACTED]]\", \"isSuperUser\": 1, \"lastLogin\": \"2022-04-21T10:17:50\"}, {\"id\": 1269, \"created_at\": \"2021-04-30T23:58:08.715344\", \"activity\": \"Logged in\", \"userId\": 2, \"lastName\": \"Cecile\", \"title\": \"[[REDACTED]]\", \"isSuperUser\": 1, \"lastLogin\": \"2022-04-21T10:17:50\"}, {\"id\": 1274, \"created_at\": \"2021-05-04T13:43:11.287621\", \"activity\": \"Logged in\", \"userId\": 2, \"lastName\": \"Cecile\", \"title\": \"[[REDACTED]]\", \"isSuperUser\": 1, \"lastLogin\": \"2022-04-21T10:17:50\"}, {\"id\": 1277, \"created_at\": \"2021-05-12T16:50:43.041200\", \"activity\": \"Logged in\", \"userId\": 2, \"lastName\": \"Cecile\", \"title\": \"[[REDACTED]]\", \"isSuperUser\": 1, \"lastLogin\": \"2022-04-21T10:17:50\"}, {\"id\": 1284, \"created_at\": \"2021-06-05T15:25:38.148337\", \"activity\": \"Logged in\", \"userId\": 2, \"lastName\": \"Cecile\", \"title\": \"[[REDACTED]]\", \"isSuperUser\": 1, \"lastLogin\": \"2022-04-21T10:17:50\"}, {\"id\": 1285, \"created_at\": \"2021-06-05T16:11:57.007041\", \"activity\": \"Logged in\", \"userId\": 2, \"lastName\": \"Cecile\", \"title\": \"[[REDACTED]]\", \"isSuperUser\": 1, \"lastLogin\": \"2022-04-21T10:17:50\"}, {\"id\": 1286, \"created_at\": \"2021-06-05T16:43:11.091355\", \"activity\": \"Logged in\", \"userId\": 2, \"lastName\": \"Cecile\", \"title\": \"[[REDACTED]]\", \"isSuperUser\": 1, \"lastLogin\": \"2022-04-21T10:17:50\"}, {\"id\": 1287, \"created_at\": \"2021-06-05T16:45:41.037815\", \"activity\": \"No course selected. Navigating to course selection\", \"userId\": 2, \"lastName\": \"Cecile\", \"title\": \"[[REDACTED]]\", \"isSuperUser\": 1, \"lastLogin\": \"2022-04-21T10:17:50\"}, {\"id\": 1288, \"created_at\": \"2021-06-05T16:47:51.819754\", \"activity\": \"Logged in\", \"userId\": 2, \"lastName\": \"Cecile\", \"title\": \"[[REDACTED]]\", \"isSuperUser\": 1, \"lastLogin\": \"2022-04-21T10:17:50\"}, {\"id\": 1289, \"created_at\": \"2021-06-05T16:52:37.212027\", \"activity\": \"Logged in\", \"userId\": 2, \"lastName\": \"Cecile\", \"title\": \"[[REDACTED]]\", \"isSuperUser\": 1, \"lastLogin\": \"2022-04-21T10:17:50\"}, {\"id\": 1302, \"created_at\": \"2021-06-07T13:11:40.528610\", \"activity\": \"Logged in\", \"userId\": 2, \"lastName\": \"Cecile\", \"title\": \"[[REDACTED]]\", \"isSuperUser\": 1, \"lastLogin\": \"2022-04-21T10:17:50\"}, {\"id\": 1310, \"created_at\": \"2021-06-09T11:51:27.551894\", \"activity\": \"Logged in\", \"userId\": 2, \"lastName\": \"Cecile\", \"title\": \"[[REDACTED]]\", \"isSuperUser\": 1, \"lastLogin\": \"2022-04-21T10:17:50\"}, {\"id\": 1320, \"created_at\": \"2021-06-10T13:49:50.583472\", \"activity\": \"Logged in\", \"userId\": 2, \"lastName\": \"Cecile\", \"title\": \"[[REDACTED]]\", \"isSuperUser\": 1, \"lastLogin\": \"2022-04-21T10:17:50\"}, {\"id\": 1323, \"created_at\": \"2021-06-11T12:06:00.115684\", \"activity\": \"Logged in\", \"userId\": 2, \"lastName\": \"Cecile\", \"title\": \"[[REDACTED]]\", \"isSuperUser\": 1, \"lastLogin\": \"2022-04-21T10:17:50\"}, {\"id\": 1325, \"created_at\": \"2021-06-11T13:26:54.255577\", \"activity\": \"Logged in\", \"userId\": 2, \"lastName\": \"Cecile\", \"title\": \"[[REDACTED]]\", \"isSuperUser\": 1, \"lastLogin\": \"2022-04-21T10:17:50\"}, {\"id\": 1328, \"created_at\": \"2021-06-12T22:01:16.275982\", \"activity\": \"Logged in\", \"userId\": 2, \"lastName\": \"Cecile\", \"title\": \"[[REDACTED]]\", \"isSuperUser\": 1, \"lastLogin\": \"2022-04-21T10:17:50\"}, {\"id\": 1329, \"created_at\": \"2021-06-15T08:28:56.143355\", \"activity\": \"Logged in\", \"userId\": 2, \"lastName\": \"Cecile\", \"title\": \"[[REDACTED]]\", \"isSuperUser\": 1, \"lastLogin\": \"2022-04-21T10:17:50\"}, {\"id\": 1343, \"created_at\": \"2021-06-24T16:28:42.551367\", \"activity\": \"Logged in\", \"userId\": 2, \"lastName\": \"Cecile\", \"title\": \"[[REDACTED]]\", \"isSuperUser\": 1, \"lastLogin\": \"2022-04-21T10:17:50\"}, {\"id\": 1350, \"created_at\": \"2021-07-01T13:35:54.167498\", \"activity\": \"Logged in\", \"userId\": 2, \"lastName\": \"Cecile\", \"title\": \"[[REDACTED]]\", \"isSuperUser\": 1, \"lastLogin\": \"2022-04-21T10:17:50\"}, {\"id\": 1351, \"created_at\": \"2021-07-01T14:12:15.064002\", \"activity\": \"Logged in\", \"userId\": 2, \"lastName\": \"Cecile\", \"title\": \"[[REDACTED]]\", \"isSuperUser\": 1, \"lastLogin\": \"2022-04-21T10:17:50\"}, {\"id\": 1353, \"created_at\": \"2021-07-02T10:23:34.931624\", \"activity\": \"Logged in\", \"userId\": 2, \"lastName\": \"Cecile\", \"title\": \"[[REDACTED]]\", \"isSuperUser\": 1, \"lastLogin\": \"2022-04-21T10:17:50\"}, {\"id\": 1354, \"created_at\": \"2021-07-02T14:02:51.939862\", \"activity\": \"Logged in\", \"userId\": 2, \"lastName\": \"Cecile\", \"title\": \"[[REDACTED]]\", \"isSuperUser\": 1, \"lastLogin\": \"2022-04-21T10:17:50\"}, {\"id\": 1357, \"created_at\": \"2021-07-03T00:54:28.996438\", \"activity\": \"Logged in\", \"userId\": 2, \"lastName\": \"Cecile\", \"title\": \"[[REDACTED]]\", \"isSuperUser\": 1, \"lastLogin\": \"2022-04-21T10:17:50\"}, {\"id\": 1358, \"created_at\": \"2021-07-03T00:56:13.532868\", \"activity\": \"Logged in\", \"userId\": 2, \"lastName\": \"Cecile\", \"title\": \"[[REDACTED]]\", \"isSuperUser\": 1, \"lastLogin\": \"2022-04-21T10:17:50\"}, {\"id\": 1359, \"created_at\": \"2021-07-03T01:00:17.358749\", \"activity\": \"Created project (PirateScript Assignment)\", \"userId\": 2, \"lastName\": \"Cecile\", \"title\": \"[[REDACTED]]\", \"isSuperUser\": 1, \"lastLogin\": \"2022-04-21T10:17:50\"}, {\"id\": 1360, \"created_at\": \"2021-07-03T01:43:22.556244\", \"activity\": \"Logged in\", \"userId\": 2, \"lastName\": \"Cecile\", \"title\": \"[[REDACTED]]\", \"isSuperUser\": 1, \"lastLogin\": \"2022-04-21T10:17:50\"}, {\"id\": 1361, \"created_at\": \"2021-07-03T02:05:10.516290\", \"activity\": \"Logged in\", \"userId\": 2, \"lastName\": \"Cecile\", \"title\": \"[[REDACTED]]\", \"isSuperUser\": 1, \"lastLogin\": \"2022-04-21T10:17:50\"}, {\"id\": 1367, \"created_at\": \"2021-07-03T02:40:32.869429\", \"activity\": \"Logged in\", \"userId\": 2, \"lastName\": \"Cecile\", \"title\": \"[[REDACTED]]\", \"isSuperUser\": 1, \"lastLogin\": \"2022-04-21T10:17:50\"}, {\"id\": 1370, \"created_at\": \"2021-07-03T15:57:40.107825\", \"activity\": \"Logged in\", \"userId\": 2, \"lastName\": \"Cecile\", \"title\": \"[[REDACTED]]\", \"isSuperUser\": 1, \"lastLogin\": \"2022-04-21T10:17:50\"}, {\"id\": 1373, \"created_at\": \"2021-07-03T16:27:51.533472\", \"activity\": \"Logged in\", \"userId\": 2, \"lastName\": \"Cecile\", \"title\": \"[[REDACTED]]\", \"isSuperUser\": 1, \"lastLogin\": \"2022-04-21T10:17:50\"}, {\"id\": 1374, \"created_at\": \"2021-07-03T17:45:45.856259\", \"activity\": \"Logged in\", \"userId\": 2, \"lastName\": \"Cecile\", \"title\": \"[[REDACTED]]\", \"isSuperUser\": 1, \"lastLogin\": \"2022-04-21T10:17:50\"}, {\"id\": 1375, \"created_at\": \"2021-07-04T19:11:32.114977\", \"activity\": \"Logged in\", \"userId\": 2, \"lastName\": \"Cecile\", \"title\": \"[[REDACTED]]\", \"isSuperUser\": 1, \"lastLogin\": \"2022-04-21T10:17:50\"}, {\"id\": 1376, \"created_at\": \"2021-07-04T19:13:33.485492\", \"activity\": \"Logged in\", \"userId\": 2, \"lastName\": \"Cecile\", \"title\": \"[[REDACTED]]\", \"isSuperUser\": 1, \"lastLogin\": \"2022-04-21T10:17:50\"}, {\"id\": 1377, \"created_at\": \"2021-07-04T19:20:54.901441\", \"activity\": \"Logged in\", \"userId\": 2, \"lastName\": \"Cecile\", \"title\": \"[[REDACTED]]\", \"isSuperUser\": 1, \"lastLogin\": \"2022-04-21T10:17:50\"}, {\"id\": 1378, \"created_at\": \"2021-07-04T19:36:10.106303\", \"activity\": \"Logged in\", \"userId\": 2, \"lastName\": \"Cecile\", \"title\": \"[[REDACTED]]\", \"isSuperUser\": 1, \"lastLogin\": \"2022-04-21T10:17:50\"}, {\"id\": 1379, \"created_at\": \"2021-07-04T20:07:35.575938\", \"activity\": \"Logged in\", \"userId\": 2, \"lastName\": \"Cecile\", \"title\": \"[[REDACTED]]\", \"isSuperUser\": 1, \"lastLogin\": \"2022-04-21T10:17:50\"}, {\"id\": 1380, \"created_at\": \"2021-07-04T20:12:58.875656\", \"activity\": \"Logged in\", \"userId\": 2, \"lastName\": \"Cecile\", \"title\": \"[[REDACTED]]\", \"isSuperUser\": 1, \"lastLogin\": \"2022-04-21T10:17:50\"}, {\"id\": 1386, \"created_at\": \"2021-07-04T20:43:35.144493\", \"activity\": \"Logged in\", \"userId\": 2, \"lastName\": \"Cecile\", \"title\": \"[[REDACTED]]\", \"isSuperUser\": 1, \"lastLogin\": \"2022-04-21T10:17:50\"}, {\"id\": 1389, \"created_at\": \"2021-07-05T11:56:57.200549\", \"activity\": \"Logged in\", \"userId\": 2, \"lastName\": \"Cecile\", \"title\": \"[[REDACTED]]\", \"isSuperUser\": 1, \"lastLogin\": \"2022-04-21T10:17:50\"}, {\"id\": 1391, \"created_at\": \"2021-07-05T12:53:55.619792\", \"activity\": \"Logged in\", \"userId\": 2, \"lastName\": \"Cecile\", \"title\": \"[[REDACTED]]\", \"isSuperUser\": 1, \"lastLogin\": \"2022-04-21T10:17:50\"}, {\"id\": 1392, \"created_at\": \"2021-07-05T13:41:17.160014\", \"activity\": \"Logged in\", \"userId\": 2, \"lastName\": \"Cecile\", \"title\": \"[[REDACTED]]\", \"isSuperUser\": 1, \"lastLogin\": \"2022-04-21T10:17:50\"}, {\"id\": 1393, \"created_at\": \"2021-07-06T17:46:27.208920\", \"activity\": \"Logged in\", \"userId\": 2, \"lastName\": \"Cecile\", \"title\": \"[[REDACTED]]\", \"isSuperUser\": 1, \"lastLogin\": \"2022-04-21T10:17:50\"}, {\"id\": 1394, \"created_at\": \"2021-07-06T19:10:56.007292\", \"activity\": \"Logged in\", \"userId\": 2, \"lastName\": \"Cecile\", \"title\": \"[[REDACTED]]\", \"isSuperUser\": 1, \"lastLogin\": \"2022-04-21T10:17:50\"}, {\"id\": 1397, \"created_at\": \"2021-07-06T20:36:33.842905\", \"activity\": \"Logged in\", \"userId\": 2, \"lastName\": \"Cecile\", \"title\": \"[[REDACTED]]\", \"isSuperUser\": 1, \"lastLogin\": \"2022-04-21T10:17:50\"}, {\"id\": 1400, \"created_at\": \"2021-07-06T20:55:19.524258\", \"activity\": \"Logged in\", \"userId\": 2, \"lastName\": \"Cecile\", \"title\": \"[[REDACTED]]\", \"isSuperUser\": 1, \"lastLogin\": \"2022-04-21T10:17:50\"}, {\"id\": 1405, \"created_at\": \"2021-07-06T21:01:50.742815\", \"activity\": \"Logged in\", \"userId\": 2, \"lastName\": \"Cecile\", \"title\": \"[[REDACTED]]\", \"isSuperUser\": 1, \"lastLogin\": \"2022-04-21T10:17:50\"}, {\"id\": 1406, \"created_at\": \"2021-07-06T21:09:44.225098\", \"activity\": \"Created project (Test Webpage)\", \"userId\": 2, \"lastName\": \"Cecile\", \"title\": \"[[REDACTED]]\", \"isSuperUser\": 1, \"lastLogin\": \"2022-04-21T10:17:50\"}, {\"id\": 1407, \"created_at\": \"2021-07-06T21:13:27.493775\", \"activity\": \"Deleting project Test Webpage\", \"userId\": 2, \"lastName\": \"Cecile\", \"title\": \"[[REDACTED]]\", \"isSuperUser\": 1, \"lastLogin\": \"2022-04-21T10:17:50\"}, {\"id\": 1408, \"created_at\": \"2021-07-06T22:06:14.847792\", \"activity\": \"Logged in\", \"userId\": 2, \"lastName\": \"Cecile\", \"title\": \"[[REDACTED]]\", \"isSuperUser\": 1, \"lastLogin\": \"2022-04-21T10:17:50\"}, {\"id\": 1409, \"created_at\": \"2021-07-12T18:19:23.943492\", \"activity\": \"Logged in\", \"userId\": 2, \"lastName\": \"Cecile\", \"title\": \"[[REDACTED]]\", \"isSuperUser\": 1, \"lastLogin\": \"2022-04-21T10:17:50\"}, {\"id\": 1425, \"created_at\": \"2021-07-13T18:35:26.524473\", \"activity\": \"Logged in\", \"userId\": 2, \"lastName\": \"Cecile\", \"title\": \"[[REDACTED]]\", \"isSuperUser\": 1, \"lastLogin\": \"2022-04-21T10:17:50\"}, {\"id\": 1426, \"created_at\": \"2021-07-13T18:35:53.626522\", \"activity\": \"No course selected. Navigating to course selection\", \"userId\": 2, \"lastName\": \"Cecile\", \"title\": \"[[REDACTED]]\", \"isSuperUser\": 1, \"lastLogin\": \"2022-04-21T10:17:50\"}, {\"id\": 1457, \"created_at\": \"2021-07-22T23:26:54.000302\", \"activity\": \"Logged in\", \"userId\": 2, \"lastName\": \"Cecile\", \"title\": \"[[REDACTED]]\", \"isSuperUser\": 1, \"lastLogin\": \"2022-04-21T10:17:50\"}, {\"id\": 1458, \"created_at\": \"2021-07-23T16:17:55.765427\", \"activity\": \"Logged in\", \"userId\": 2, \"lastName\": \"Cecile\", \"title\": \"[[REDACTED]]\", \"isSuperUser\": 1, \"lastLogin\": \"2022-04-21T10:17:50\"}, {\"id\": 1461, \"created_at\": \"2021-07-23T18:45:25.033662\", \"activity\": \"Logged in\", \"userId\": 2, \"lastName\": \"Cecile\", \"title\": \"[[REDACTED]]\", \"isSuperUser\": 1, \"lastLogin\": \"2022-04-21T10:17:50\"}, {\"id\": 1463, \"created_at\": \"2021-07-24T18:00:55.384273\", \"activity\": \"Logged in\", \"userId\": 2, \"lastName\": \"Cecile\", \"title\": \"[[REDACTED]]\", \"isSuperUser\": 1, \"lastLogin\": \"2022-04-21T10:17:50\"}, {\"id\": 1464, \"created_at\": \"2021-07-24T18:51:22.579868\", \"activity\": \"Logged in\", \"userId\": 2, \"lastName\": \"Cecile\", \"title\": \"[[REDACTED]]\", \"isSuperUser\": 1, \"lastLogin\": \"2022-04-21T10:17:50\"}, {\"id\": 1467, \"created_at\": \"2021-07-26T16:22:54.104734\", \"activity\": \"Logged in\", \"userId\": 2, \"lastName\": \"Cecile\", \"title\": \"[[REDACTED]]\", \"isSuperUser\": 1, \"lastLogin\": \"2022-04-21T10:17:50\"}, {\"id\": 1471, \"created_at\": \"2021-07-26T21:18:32.101440\", \"activity\": \"Logged in\", \"userId\": 2, \"lastName\": \"Cecile\", \"title\": \"[[REDACTED]]\", \"isSuperUser\": 1, \"lastLogin\": \"2022-04-21T10:17:50\"}, {\"id\": 1472, \"created_at\": \"2021-07-30T11:47:16.942727\", \"activity\": \"Logged in\", \"userId\": 2, \"lastName\": \"Cecile\", \"title\": \"[[REDACTED]]\", \"isSuperUser\": 1, \"lastLogin\": \"2022-04-21T10:17:50\"}, {\"id\": 1473, \"created_at\": \"2021-07-30T12:26:11.207761\", \"activity\": \"Logged in\", \"userId\": 2, \"lastName\": \"Cecile\", \"title\": \"[[REDACTED]]\", \"isSuperUser\": 1, \"lastLogin\": \"2022-04-21T10:17:50\"}, {\"id\": 1474, \"created_at\": \"2021-07-30T12:26:12.523645\", \"activity\": \"No course selected. Navigating to course selection\", \"userId\": 2, \"lastName\": \"Cecile\", \"title\": \"[[REDACTED]]\", \"isSuperUser\": 1, \"lastLogin\": \"2022-04-21T10:17:50\"}, {\"id\": 1475, \"created_at\": \"2021-11-09T17:35:48.792971\", \"activity\": \"Logged in\", \"userId\": 2, \"lastName\": \"Cecile\", \"title\": \"[[REDACTED]]\", \"isSuperUser\": 1, \"lastLogin\": \"2022-04-21T10:17:50\"}, {\"id\": 1476, \"created_at\": \"2021-11-09T17:35:50.366779\", \"activity\": \"No course selected. Navigating to course selection\", \"userId\": 2, \"lastName\": \"Cecile\", \"title\": \"[[REDACTED]]\", \"isSuperUser\": 1, \"lastLogin\": \"2022-04-21T10:17:50\"}, {\"id\": 1477, \"created_at\": \"2021-11-09T17:37:07.778766\", \"activity\": \"Updated profile [profilePicture] \", \"userId\": 2, \"lastName\": \"Cecile\", \"title\": \"[[REDACTED]]\", \"isSuperUser\": 1, \"lastLogin\": \"2022-04-21T10:17:50\"}, {\"id\": 1478, \"created_at\": \"2021-11-12T17:20:05.851251\", \"activity\": \"Logged in\", \"userId\": 2, \"lastName\": \"Cecile\", \"title\": \"[[REDACTED]]\", \"isSuperUser\": 1, \"lastLogin\": \"2022-04-21T10:17:50\"}, {\"id\": 1479, \"created_at\": \"2021-11-15T16:41:37.893399\", \"activity\": \"Logged in\", \"userId\": 2, \"lastName\": \"Cecile\", \"title\": \"[[REDACTED]]\", \"isSuperUser\": 1, \"lastLogin\": \"2022-04-21T10:17:50\"}, {\"id\": 1480, \"created_at\": \"2021-11-19T18:19:49.902012\", \"activity\": \"Logged in\", \"userId\": 2, \"lastName\": \"Cecile\", \"title\": \"[[REDACTED]]\", \"isSuperUser\": 1, \"lastLogin\": \"2022-04-21T10:17:50\"}, {\"id\": 1481, \"created_at\": \"2021-11-23T18:49:35.477132\", \"activity\": \"Logged in\", \"userId\": 2, \"lastName\": \"Cecile\", \"title\": \"[[REDACTED]]\", \"isSuperUser\": 1, \"lastLogin\": \"2022-04-21T10:17:50\"}, {\"id\": 1482, \"created_at\": \"2021-11-24T17:05:08.330011\", \"activity\": \"Logged in\", \"userId\": 2, \"lastName\": \"Cecile\", \"title\": \"[[REDACTED]]\", \"isSuperUser\": 1, \"lastLogin\": \"2022-04-21T10:17:50\"}, {\"id\": 1483, \"created_at\": \"2021-11-29T12:56:08.300870\", \"activity\": \"Logged in\", \"userId\": 2, \"lastName\": \"Cecile\", \"title\": \"[[REDACTED]]\", \"isSuperUser\": 1, \"lastLogin\": \"2022-04-21T10:17:50\"}, {\"id\": 1484, \"created_at\": \"2021-11-29T14:09:03.930403\", \"activity\": \"Logged in\", \"userId\": 2, \"lastName\": \"Cecile\", \"title\": \"[[REDACTED]]\", \"isSuperUser\": 1, \"lastLogin\": \"2022-04-21T10:17:50\"}, {\"id\": 1485, \"created_at\": \"2021-11-29T15:16:13.825305\", \"activity\": \"Logged in\", \"userId\": 2, \"lastName\": \"Cecile\", \"title\": \"[[REDACTED]]\", \"isSuperUser\": 1, \"lastLogin\": \"2022-04-21T10:17:50\"}, {\"id\": 1486, \"created_at\": \"2021-11-29T15:47:19.349500\", \"activity\": \"Logged in\", \"userId\": 2, \"lastName\": \"Cecile\", \"title\": \"[[REDACTED]]\", \"isSuperUser\": 1, \"lastLogin\": \"2022-04-21T10:17:50\"}, {\"id\": 1487, \"created_at\": \"2021-11-29T17:06:46.600960\", \"activity\": \"Logged in\", \"userId\": 2, \"lastName\": \"Cecile\", \"title\": \"[[REDACTED]]\", \"isSuperUser\": 1, \"lastLogin\": \"2022-04-21T10:17:50\"}, {\"id\": 1488, \"created_at\": \"2021-12-11T13:14:05.253175\", \"activity\": \"Logged in\", \"userId\": 2, \"lastName\": \"Cecile\", \"title\": \"[[REDACTED]]\", \"isSuperUser\": 1, \"lastLogin\": \"2022-04-21T10:17:50\"}, {\"id\": 1489, \"created_at\": \"2022-01-12T20:49:22.373429\", \"activity\": \"Logged in\", \"userId\": 2, \"lastName\": \"Cecile\", \"title\": \"[[REDACTED]]\", \"isSuperUser\": 1, \"lastLogin\": \"2022-04-21T10:17:50\"}, {\"id\": 1490, \"created_at\": \"2022-01-12T21:01:48.458869\", \"activity\": \"Logged in\", \"userId\": 2, \"lastName\": \"Cecile\", \"title\": \"[[REDACTED]]\", \"isSuperUser\": 1, \"lastLogin\": \"2022-04-21T10:17:50\"}, {\"id\": 1491, \"created_at\": \"2022-01-12T21:15:51.200009\", \"activity\": \"Logged in\", \"userId\": 2, \"lastName\": \"Cecile\", \"title\": \"[[REDACTED]]\", \"isSuperUser\": 1, \"lastLogin\": \"2022-04-21T10:17:50\"}, {\"id\": 1492, \"created_at\": \"2022-01-12T21:43:34.845463\", \"activity\": \"Logged in\", \"userId\": 2, \"lastName\": \"Cecile\", \"title\": \"[[REDACTED]]\", \"isSuperUser\": 1, \"lastLogin\": \"2022-04-21T10:17:50\"}, {\"id\": 1493, \"created_at\": \"2022-02-09T16:44:42.979212\", \"activity\": \"Logged in\", \"userId\": 2, \"lastName\": \"Cecile\", \"title\": \"[[REDACTED]]\", \"isSuperUser\": 1, \"lastLogin\": \"2022-04-21T10:17:50\"}, {\"id\": 1495, \"created_at\": \"2022-02-24T09:39:29.420388\", \"activity\": \"Logged in\", \"userId\": 2, \"lastName\": \"Cecile\", \"title\": \"[[REDACTED]]\", \"isSuperUser\": 1, \"lastLogin\": \"2022-04-21T10:17:50\"}, {\"id\": 1511, \"created_at\": \"2022-02-24T13:15:15.523015\", \"activity\": \"Logged in\", \"userId\": 2, \"lastName\": \"Cecile\", \"title\": \"[[REDACTED]]\", \"isSuperUser\": 1, \"lastLogin\": \"2022-04-21T10:17:50\"}, {\"id\": 1512, \"created_at\": \"2022-02-24T13:15:17.688179\", \"activity\": \"No course selected. Navigating to course selection\", \"userId\": 2, \"lastName\": \"Cecile\", \"title\": \"[[REDACTED]]\", \"isSuperUser\": 1, \"lastLogin\": \"2022-04-21T10:17:50\"}, {\"id\": 1513, \"created_at\": \"2022-02-24T13:49:07.604275\", \"activity\": \"Magic link sent\", \"userId\": 2, \"lastName\": \"Cecile\", \"title\": \"[[REDACTED]]\", \"isSuperUser\": 1, \"lastLogin\": \"2022-04-21T10:17:50\"}, {\"id\": 1514, \"created_at\": \"2022-02-24T13:50:44.129463\", \"activity\": \"Logged in\", \"userId\": 2, \"lastName\": \"Cecile\", \"title\": \"[[REDACTED]]\", \"isSuperUser\": 1, \"lastLogin\": \"2022-04-21T10:17:50\"}, {\"id\": 1515, \"created_at\": \"2022-02-24T13:56:32.892714\", \"activity\": \"Magic link sent\", \"userId\": 2, \"lastName\": \"Cecile\", \"title\": \"[[REDACTED]]\", \"isSuperUser\": 1, \"lastLogin\": \"2022-04-21T10:17:50\"}, {\"id\": 1516, \"created_at\": \"2022-02-24T13:56:50.869455\", \"activity\": \"Logged in\", \"userId\": 2, \"lastName\": \"Cecile\", \"title\": \"[[REDACTED]]\", \"isSuperUser\": 1, \"lastLogin\": \"2022-04-21T10:17:50\"}, {\"id\": 1517, \"created_at\": \"2022-02-24T14:13:35.124189\", \"activity\": \"Magic link sent\", \"userId\": 2, \"lastName\": \"Cecile\", \"title\": \"[[REDACTED]]\", \"isSuperUser\": 1, \"lastLogin\": \"2022-04-21T10:17:50\"}, {\"id\": 1518, \"created_at\": \"2022-02-24T14:40:34.306213\", \"activity\": \"Magic link sent\", \"userId\": 2, \"lastName\": \"Cecile\", \"title\": \"[[REDACTED]]\", \"isSuperUser\": 1, \"lastLogin\": \"2022-04-21T10:17:50\"}, {\"id\": 1519, \"created_at\": \"2022-02-24T14:42:06.333452\", \"activity\": \"Logged in\", \"userId\": 2, \"lastName\": \"Cecile\", \"title\": \"[[REDACTED]]\", \"isSuperUser\": 1, \"lastLogin\": \"2022-04-21T10:17:50\"}, {\"id\": 1520, \"created_at\": \"2022-02-24T14:44:30.481294\", \"activity\": \"Magic link sent\", \"userId\": 2, \"lastName\": \"Cecile\", \"title\": \"[[REDACTED]]\", \"isSuperUser\": 1, \"lastLogin\": \"2022-04-21T10:17:50\"}, {\"id\": 1521, \"created_at\": \"2022-02-24T14:45:47.726320\", \"activity\": \"Logged in\", \"userId\": 2, \"lastName\": \"Cecile\", \"title\": \"[[REDACTED]]\", \"isSuperUser\": 1, \"lastLogin\": \"2022-04-21T10:17:50\"}, {\"id\": 1522, \"created_at\": \"2022-03-07T02:13:50.459150\", \"activity\": \"Logged in\", \"userId\": 2, \"lastName\": \"Cecile\", \"title\": \"[[REDACTED]]\", \"isSuperUser\": 1, \"lastLogin\": \"2022-04-21T10:17:50\"}, {\"id\": 1523, \"created_at\": \"2022-03-09T20:13:29.515235\", \"activity\": \"Logged in\", \"userId\": 2, \"lastName\": \"Cecile\", \"title\": \"[[REDACTED]]\", \"isSuperUser\": 1, \"lastLogin\": \"2022-04-21T10:17:50\"}, {\"id\": 1524, \"created_at\": \"2022-04-20T18:28:56.639697\", \"activity\": \"Logged in\", \"userId\": 2, \"lastName\": \"Cecile\", \"title\": \"[[REDACTED]]\", \"isSuperUser\": 1, \"lastLogin\": \"2022-04-21T10:17:50\"}, {\"id\": 1525, \"created_at\": \"2022-04-21T10:17:50.727601\", \"activity\": \"Logged in\", \"userId\": 2, \"lastName\": \"Cecile\", \"title\": \"[[REDACTED]]\", \"isSuperUser\": 1, \"lastLogin\": \"2022-04-21T10:17:50\"}, {\"id\": 1049, \"created_at\": \"2021-03-28T17:47:00.828193\", \"activity\": \"Logged in\", \"userId\": 111, \"lastName\": \"Sherry\", \"title\": \"They/Them\", \"isSuperUser\": 0, \"lastLogin\": \"2021-04-27T19:32:34\"}, {\"id\": 1051, \"created_at\": \"2021-03-28T17:47:18.910945\", \"activity\": \"Accessed Session 1 Recap - Write Up from Intro to Game Dev with Unity repo [access:74bc4bdc5d2::rrtGJAd2ae1e]\", \"userId\": 111, \"lastName\": \"Sherry\", \"title\": \"They/Them\", \"isSuperUser\": 0, \"lastLogin\": \"2021-04-27T19:32:34\"}, {\"id\": 1052, \"created_at\": \"2021-03-28T17:47:19.206521\", \"activity\": \"Accessed Session 1 Recap - Write Up from Intro to Game Dev with Unity repo [access:74bc4bdc5d2::rrtGJAd2ae1e]\", \"userId\": 111, \"lastName\": \"Sherry\", \"title\": \"They/Them\", \"isSuperUser\": 0, \"lastLogin\": \"2021-04-27T19:32:34\"}, {\"id\": 1068, \"created_at\": \"2021-03-30T17:59:41.253008\", \"activity\": \"Logged in\", \"userId\": 111, \"lastName\": \"Sherry\", \"title\": \"They/Them\", \"isSuperUser\": 0, \"lastLogin\": \"2021-04-27T19:32:34\"}, {\"id\": 1073, \"created_at\": \"2021-03-30T18:03:07.101226\", \"activity\": \"Accessed Session 5 - Assets from Intro to Game Dev with Unity repo [access:141012aa424::rrtGJAd2ae1e]\", \"userId\": 111, \"lastName\": \"Sherry\", \"title\": \"They/Them\", \"isSuperUser\": 0, \"lastLogin\": \"2021-04-27T19:32:34\"}, {\"id\": 1085, \"created_at\": \"2021-03-30T18:16:20.835207\", \"activity\": \"Logged in\", \"userId\": 111, \"lastName\": \"Sherry\", \"title\": \"They/Them\", \"isSuperUser\": 0, \"lastLogin\": \"2021-04-27T19:32:34\"}, {\"id\": 1086, \"created_at\": \"2021-03-30T18:16:28.501346\", \"activity\": \"Accessed Session 5 - Assets from Intro to Game Dev with Unity repo [access:141012aa424::rrtGJAd2ae1e]\", \"userId\": 111, \"lastName\": \"Sherry\", \"title\": \"They/Them\", \"isSuperUser\": 0, \"lastLogin\": \"2021-04-27T19:32:34\"}, {\"id\": 1095, \"created_at\": \"2021-04-05T18:20:40.951895\", \"activity\": \"Logged in\", \"userId\": 111, \"lastName\": \"Sherry\", \"title\": \"They/Them\", \"isSuperUser\": 0, \"lastLogin\": \"2021-04-27T19:32:34\"}, {\"id\": 1096, \"created_at\": \"2021-04-05T18:20:44.958450\", \"activity\": \"Logged in\", \"userId\": 111, \"lastName\": \"Sherry\", \"title\": \"They/Them\", \"isSuperUser\": 0, \"lastLogin\": \"2021-04-27T19:32:34\"}, {\"id\": 1100, \"created_at\": \"2021-04-06T16:44:45.329182\", \"activity\": \"Logged in\", \"userId\": 111, \"lastName\": \"Sherry\", \"title\": \"They/Them\", \"isSuperUser\": 0, \"lastLogin\": \"2021-04-27T19:32:34\"}, {\"id\": 1101, \"created_at\": \"2021-04-06T16:44:58.272390\", \"activity\": \"Accessed Session 6 - Starter Files from Intro to Game Dev with Unity repo [access:4ff849da461::rrtGJAd2ae1e]\", \"userId\": 111, \"lastName\": \"Sherry\", \"title\": \"They/Them\", \"isSuperUser\": 0, \"lastLogin\": \"2021-04-27T19:32:34\"}, {\"id\": 1126, \"created_at\": \"2021-04-08T20:35:22.392986\", \"activity\": \"Logged in\", \"userId\": 111, \"lastName\": \"Sherry\", \"title\": \"They/Them\", \"isSuperUser\": 0, \"lastLogin\": \"2021-04-27T19:32:34\"}, {\"id\": 1127, \"created_at\": \"2021-04-08T21:12:33.666714\", \"activity\": \"Logged in\", \"userId\": 111, \"lastName\": \"Sherry\", \"title\": \"They/Them\", \"isSuperUser\": 0, \"lastLogin\": \"2021-04-27T19:32:34\"}, {\"id\": 1128, \"created_at\": \"2021-04-08T21:12:35.533322\", \"activity\": \"Accessed Session 6 Recap from Intro to Game Dev with Unity repo [access:1d9bec2ad95::rrtGJAd2ae1e]\", \"userId\": 111, \"lastName\": \"Sherry\", \"title\": \"They/Them\", \"isSuperUser\": 0, \"lastLogin\": \"2021-04-27T19:32:34\"}, {\"id\": 1162, \"created_at\": \"2021-04-13T17:45:48.164588\", \"activity\": \"Logged in\", \"userId\": 111, \"lastName\": \"Sherry\", \"title\": \"They/Them\", \"isSuperUser\": 0, \"lastLogin\": \"2021-04-27T19:32:34\"}, {\"id\": 1163, \"created_at\": \"2021-04-13T17:48:22.997202\", \"activity\": \"Accessed Session 7 - Starter Files from Intro to Game Dev with Unity repo [access:0274231c583::rrtGJAd2ae1e]\", \"userId\": 111, \"lastName\": \"Sherry\", \"title\": \"They/Them\", \"isSuperUser\": 0, \"lastLogin\": \"2021-04-27T19:32:34\"}, {\"id\": 1251, \"created_at\": \"2021-04-27T19:32:34.005310\", \"activity\": \"Logged in\", \"userId\": 111, \"lastName\": \"Sherry\", \"title\": \"They/Them\", \"isSuperUser\": 0, \"lastLogin\": \"2021-04-27T19:32:34\"}, {\"id\": 1050, \"created_at\": \"2021-03-28T17:47:12.094977\", \"activity\": \"Logged in\", \"userId\": 67, \"lastName\": \"[[REDACTED]]\", \"title\": \"They/Them\", \"isSuperUser\": 0, \"lastLogin\": \"2021-07-04T20:35:29\"}, {\"id\": 1058, \"created_at\": \"2021-03-30T07:14:00.501205\", \"activity\": \"Logged in\", \"userId\": 67, \"lastName\": \"[[REDACTED]]\", \"title\": \"They/Them\", \"isSuperUser\": 0, \"lastLogin\": \"2021-07-04T20:35:29\"}, {\"id\": 1059, \"created_at\": \"2021-03-30T07:16:57.737816\", \"activity\": \"Accessed Session 5 - Starter Files from Intro to Game Dev with Unity repo [access:3aadbfd9eca::rrtGJAd2ae1e]\", \"userId\": 67, \"lastName\": \"[[REDACTED]]\", \"title\": \"They/Them\", \"isSuperUser\": 0, \"lastLogin\": \"2021-07-04T20:35:29\"}, {\"id\": 1060, \"created_at\": \"2021-03-30T07:42:47.464679\", \"activity\": \"Logged in\", \"userId\": 67, \"lastName\": \"[[REDACTED]]\", \"title\": \"They/Them\", \"isSuperUser\": 0, \"lastLogin\": \"2021-07-04T20:35:29\"}, {\"id\": 1064, \"created_at\": \"2021-03-30T13:54:26.045679\", \"activity\": \"Logged in\", \"userId\": 67, \"lastName\": \"[[REDACTED]]\", \"title\": \"They/Them\", \"isSuperUser\": 0, \"lastLogin\": \"2021-07-04T20:35:29\"}, {\"id\": 1065, \"created_at\": \"2021-03-30T17:40:23.475560\", \"activity\": \"Logged in\", \"userId\": 67, \"lastName\": \"[[REDACTED]]\", \"title\": \"They/Them\", \"isSuperUser\": 0, \"lastLogin\": \"2021-07-04T20:35:29\"}, {\"id\": 1066, \"created_at\": \"2021-03-30T17:45:23.585186\", \"activity\": \"Accessed Session Four Recap from Intro to Game Dev with Unity repo [access:b4aec5f066b::rrtGJAd2ae1e]\", \"userId\": 67, \"lastName\": \"[[REDACTED]]\", \"title\": \"They/Them\", \"isSuperUser\": 0, \"lastLogin\": \"2021-07-04T20:35:29\"}, {\"id\": 1075, \"created_at\": \"2021-03-30T18:07:53.453182\", \"activity\": \"Accessed Session 5 - Starter Files from Intro to Game Dev with Unity repo [access:3aadbfd9eca::rrtGJAd2ae1e]\", \"userId\": 67, \"lastName\": \"[[REDACTED]]\", \"title\": \"They/Them\", \"isSuperUser\": 0, \"lastLogin\": \"2021-07-04T20:35:29\"}, {\"id\": 1077, \"created_at\": \"2021-03-30T18:08:45.728427\", \"activity\": \"Accessed Session 5 - Assets from Intro to Game Dev with Unity repo [access:141012aa424::rrtGJAd2ae1e]\", \"userId\": 67, \"lastName\": \"[[REDACTED]]\", \"title\": \"They/Them\", \"isSuperUser\": 0, \"lastLogin\": \"2021-07-04T20:35:29\"}, {\"id\": 1089, \"created_at\": \"2021-03-30T19:57:31.815888\", \"activity\": \"Logged in\", \"userId\": 67, \"lastName\": \"[[REDACTED]]\", \"title\": \"They/Them\", \"isSuperUser\": 0, \"lastLogin\": \"2021-07-04T20:35:29\"}, {\"id\": 1097, \"created_at\": \"2021-04-05T18:21:03.639619\", \"activity\": \"Logged in\", \"userId\": 67, \"lastName\": \"[[REDACTED]]\", \"title\": \"They/Them\", \"isSuperUser\": 0, \"lastLogin\": \"2021-07-04T20:35:29\"}, {\"id\": 1098, \"created_at\": \"2021-04-06T08:52:25.567662\", \"activity\": \"Logged in\", \"userId\": 67, \"lastName\": \"[[REDACTED]]\", \"title\": \"They/Them\", \"isSuperUser\": 0, \"lastLogin\": \"2021-07-04T20:35:29\"}, {\"id\": 1099, \"created_at\": \"2021-04-06T15:58:40.344048\", \"activity\": \"Logged in\", \"userId\": 67, \"lastName\": \"[[REDACTED]]\", \"title\": \"They/Them\", \"isSuperUser\": 0, \"lastLogin\": \"2021-07-04T20:35:29\"}, {\"id\": 1103, \"created_at\": \"2021-04-06T17:59:40.816347\", \"activity\": \"Logged in\", \"userId\": 67, \"lastName\": \"[[REDACTED]]\", \"title\": \"They/Them\", \"isSuperUser\": 0, \"lastLogin\": \"2021-07-04T20:35:29\"}, {\"id\": 1106, \"created_at\": \"2021-04-06T18:06:51.661201\", \"activity\": \"Accessed Session 6 - Starter Files from Intro to Game Dev with Unity repo [access:4ff849da461::rrtGJAd2ae1e]\", \"userId\": 67, \"lastName\": \"[[REDACTED]]\", \"title\": \"They/Them\", \"isSuperUser\": 0, \"lastLogin\": \"2021-07-04T20:35:29\"}, {\"id\": 1113, \"created_at\": \"2021-04-06T19:28:34.651745\", \"activity\": \"Logged in\", \"userId\": 67, \"lastName\": \"[[REDACTED]]\", \"title\": \"They/Them\", \"isSuperUser\": 0, \"lastLogin\": \"2021-07-04T20:35:29\"}, {\"id\": 1114, \"created_at\": \"2021-04-06T20:08:45.216134\", \"activity\": \"Logged in\", \"userId\": 67, \"lastName\": \"[[REDACTED]]\", \"title\": \"They/Them\", \"isSuperUser\": 0, \"lastLogin\": \"2021-07-04T20:35:29\"}, {\"id\": 1160, \"created_at\": \"2021-04-13T17:30:11.048175\", \"activity\": \"Logged in\", \"userId\": 67, \"lastName\": \"[[REDACTED]]\", \"title\": \"They/Them\", \"isSuperUser\": 0, \"lastLogin\": \"2021-07-04T20:35:29\"}, {\"id\": 1161, \"created_at\": \"2021-04-13T17:35:12.103810\", \"activity\": \"Accessed Session 6 Recap from Intro to Game Dev with Unity repo [access:1d9bec2ad95::rrtGJAd2ae1e]\", \"userId\": 67, \"lastName\": \"[[REDACTED]]\", \"title\": \"They/Them\", \"isSuperUser\": 0, \"lastLogin\": \"2021-07-04T20:35:29\"}, {\"id\": 1166, \"created_at\": \"2021-04-13T18:04:47.729177\", \"activity\": \"Logged in\", \"userId\": 67, \"lastName\": \"[[REDACTED]]\", \"title\": \"They/Them\", \"isSuperUser\": 0, \"lastLogin\": \"2021-07-04T20:35:29\"}, {\"id\": 1167, \"created_at\": \"2021-04-13T18:35:34.783005\", \"activity\": \"Logged in\", \"userId\": 67, \"lastName\": \"[[REDACTED]]\", \"title\": \"They/Them\", \"isSuperUser\": 0, \"lastLogin\": \"2021-07-04T20:35:29\"}, {\"id\": 1205, \"created_at\": \"2021-04-20T15:22:35.359616\", \"activity\": \"Logged in\", \"userId\": 67, \"lastName\": \"[[REDACTED]]\", \"title\": \"They/Them\", \"isSuperUser\": 0, \"lastLogin\": \"2021-07-04T20:35:29\"}, {\"id\": 1206, \"created_at\": \"2021-04-20T15:54:56.894966\", \"activity\": \"Logged in\", \"userId\": 67, \"lastName\": \"[[REDACTED]]\", \"title\": \"They/Them\", \"isSuperUser\": 0, \"lastLogin\": \"2021-07-04T20:35:29\"}, {\"id\": 1210, \"created_at\": \"2021-04-20T20:04:16.351923\", \"activity\": \"Logged in\", \"userId\": 67, \"lastName\": \"[[REDACTED]]\", \"title\": \"They/Them\", \"isSuperUser\": 0, \"lastLogin\": \"2021-07-04T20:35:29\"}, {\"id\": 1223, \"created_at\": \"2021-04-27T15:57:33.778735\", \"activity\": \"Logged in\", \"userId\": 67, \"lastName\": \"[[REDACTED]]\", \"title\": \"They/Them\", \"isSuperUser\": 0, \"lastLogin\": \"2021-07-04T20:35:29\"}, {\"id\": 1053, \"created_at\": \"2021-03-30T00:57:09.335995\", \"activity\": \"Logged in\", \"userId\": 105, \"lastName\": \"Oksal\", \"title\": \"They/Them\", \"isSuperUser\": 0, \"lastLogin\": \"2021-07-12T23:06:58\"}, {\"id\": 1054, \"created_at\": \"2021-03-30T00:57:38.001199\", \"activity\": \"Accessed Session 2 Recap from Intro to Game Dev with Unity repo [access:918a4f912a1::rrtGJAd2ae1e]\", \"userId\": 105, \"lastName\": \"Oksal\", \"title\": \"They/Them\", \"isSuperUser\": 0, \"lastLogin\": \"2021-07-12T23:06:58\"}, {\"id\": 1055, \"created_at\": \"2021-03-30T00:59:20.249200\", \"activity\": \"Accessed Session 2 - Starter Files from Intro to Game Dev with Unity repo [access:1a82c08473b::rrtGJAd2ae1e]\", \"userId\": 105, \"lastName\": \"Oksal\", \"title\": \"They/Them\", \"isSuperUser\": 0, \"lastLogin\": \"2021-07-12T23:06:58\"}, {\"id\": 1056, \"created_at\": \"2021-03-30T01:03:37.357770\", \"activity\": \"Accessed Session 3 Recap from Intro to Game Dev with Unity repo [access:5b3cf9ac46f::rrtGJAd2ae1e]\", \"userId\": 105, \"lastName\": \"Oksal\", \"title\": \"They/Them\", \"isSuperUser\": 0, \"lastLogin\": \"2021-07-12T23:06:58\"}, {\"id\": 1057, \"created_at\": \"2021-03-30T01:05:27.190829\", \"activity\": \"Accessed Session 3 - Starter Files from Intro to Game Dev with Unity repo [access:dd9df1d2f3c::rrtGJAd2ae1e]\", \"userId\": 105, \"lastName\": \"Oksal\", \"title\": \"They/Them\", \"isSuperUser\": 0, \"lastLogin\": \"2021-07-12T23:06:58\"}, {\"id\": 1067, \"created_at\": \"2021-03-30T17:59:33.767625\", \"activity\": \"Logged in\", \"userId\": 105, \"lastName\": \"Oksal\", \"title\": \"They/Them\", \"isSuperUser\": 0, \"lastLogin\": \"2021-07-12T23:06:58\"}, {\"id\": 1069, \"created_at\": \"2021-03-30T17:59:53.210727\", \"activity\": \"Accessed Session 5 - Starter Files from Intro to Game Dev with Unity repo [access:3aadbfd9eca::rrtGJAd2ae1e]\", \"userId\": 105, \"lastName\": \"Oksal\", \"title\": \"They/Them\", \"isSuperUser\": 0, \"lastLogin\": \"2021-07-12T23:06:58\"}, {\"id\": 1079, \"created_at\": \"2021-03-30T18:09:39.721036\", \"activity\": \"Accessed Session 5 - Assets from Intro to Game Dev with Unity repo [access:141012aa424::rrtGJAd2ae1e]\", \"userId\": 105, \"lastName\": \"Oksal\", \"title\": \"They/Them\", \"isSuperUser\": 0, \"lastLogin\": \"2021-07-12T23:06:58\"}, {\"id\": 1104, \"created_at\": \"2021-04-06T18:01:06.629578\", \"activity\": \"Logged in\", \"userId\": 105, \"lastName\": \"Oksal\", \"title\": \"They/Them\", \"isSuperUser\": 0, \"lastLogin\": \"2021-07-12T23:06:58\"}, {\"id\": 1105, \"created_at\": \"2021-04-06T18:01:23.979038\", \"activity\": \"Accessed Session 6 - Starter Files from Intro to Game Dev with Unity repo [access:4ff849da461::rrtGJAd2ae1e]\", \"userId\": 105, \"lastName\": \"Oksal\", \"title\": \"They/Them\", \"isSuperUser\": 0, \"lastLogin\": \"2021-07-12T23:06:58\"}, {\"id\": 1335, \"created_at\": \"2021-06-20T07:06:32.567141\", \"activity\": \"Logged in\", \"userId\": 105, \"lastName\": \"Oksal\", \"title\": \"They/Them\", \"isSuperUser\": 0, \"lastLogin\": \"2021-07-12T23:06:58\"}, {\"id\": 1336, \"created_at\": \"2021-06-20T07:06:49.647529\", \"activity\": \"Logged in\", \"userId\": 105, \"lastName\": \"Oksal\", \"title\": \"They/Them\", \"isSuperUser\": 0, \"lastLogin\": \"2021-07-12T23:06:58\"}, {\"id\": 1337, \"created_at\": \"2021-06-20T07:07:43.799042\", \"activity\": \"Logged in\", \"userId\": 105, \"lastName\": \"Oksal\", \"title\": \"They/Them\", \"isSuperUser\": 0, \"lastLogin\": \"2021-07-12T23:06:58\"}, {\"id\": 1338, \"created_at\": \"2021-06-20T07:13:00.290661\", \"activity\": \"Enrolled onto Programming Fundamentals\", \"userId\": 105, \"lastName\": \"Oksal\", \"title\": \"They/Them\", \"isSuperUser\": 0, \"lastLogin\": \"2021-07-12T23:06:58\"}, {\"id\": 1368, \"created_at\": \"2021-07-03T09:33:14.122040\", \"activity\": \"Logged in\", \"userId\": 105, \"lastName\": \"Oksal\", \"title\": \"They/Them\", \"isSuperUser\": 0, \"lastLogin\": \"2021-07-12T23:06:58\"}, {\"id\": 1371, \"created_at\": \"2021-07-03T15:58:31.372176\", \"activity\": \"Logged in\", \"userId\": 105, \"lastName\": \"Oksal\", \"title\": \"They/Them\", \"isSuperUser\": 0, \"lastLogin\": \"2021-07-12T23:06:58\"}, {\"id\": 1418, \"created_at\": \"2021-07-12T23:06:57.752825\", \"activity\": \"Logged in\", \"userId\": 105, \"lastName\": \"Oksal\", \"title\": \"They/Them\", \"isSuperUser\": 0, \"lastLogin\": \"2021-07-12T23:06:58\"}, {\"id\": 1063, \"created_at\": \"2021-03-30T13:54:01.472970\", \"activity\": \"Logged in\", \"userId\": 1, \"lastName\": \"Khan\", \"title\": \"[[REDACTED]]\", \"isSuperUser\": 1, \"lastLogin\": \"2022-02-24T13:05:16\"}, {\"id\": 1088, \"created_at\": \"2021-03-30T19:22:48.194986\", \"activity\": \"Logged in\", \"userId\": 1, \"lastName\": \"Khan\", \"title\": \"[[REDACTED]]\", \"isSuperUser\": 1, \"lastLogin\": \"2022-02-24T13:05:16\"}, {\"id\": 1090, \"created_at\": \"2021-03-30T19:58:10.158723\", \"activity\": \"Logged in\", \"userId\": 1, \"lastName\": \"Khan\", \"title\": \"[[REDACTED]]\", \"isSuperUser\": 1, \"lastLogin\": \"2022-02-24T13:05:16\"}, {\"id\": 1116, \"created_at\": \"2021-04-07T12:12:28.003481\", \"activity\": \"Logged in\", \"userId\": 1, \"lastName\": \"Khan\", \"title\": \"[[REDACTED]]\", \"isSuperUser\": 1, \"lastLogin\": \"2022-02-24T13:05:16\"}, {\"id\": 1199, \"created_at\": \"2021-04-19T11:38:55.800183\", \"activity\": \"Magic link sent\", \"userId\": 1, \"lastName\": \"Khan\", \"title\": \"[[REDACTED]]\", \"isSuperUser\": 1, \"lastLogin\": \"2022-02-24T13:05:16\"}, {\"id\": 1200, \"created_at\": \"2021-04-19T11:41:06.783448\", \"activity\": \"Logged in\", \"userId\": 1, \"lastName\": \"Khan\", \"title\": \"[[REDACTED]]\", \"isSuperUser\": 1, \"lastLogin\": \"2022-02-24T13:05:16\"}, {\"id\": 1227, \"created_at\": \"2021-04-27T16:41:25.480566\", \"activity\": \"Logged in\", \"userId\": 1, \"lastName\": \"Khan\", \"title\": \"[[REDACTED]]\", \"isSuperUser\": 1, \"lastLogin\": \"2022-02-24T13:05:16\"}, {\"id\": 1275, \"created_at\": \"2021-05-05T15:35:37.073468\", \"activity\": \"Logged in\", \"userId\": 1, \"lastName\": \"Khan\", \"title\": \"[[REDACTED]]\", \"isSuperUser\": 1, \"lastLogin\": \"2022-02-24T13:05:16\"}, {\"id\": 1276, \"created_at\": \"2021-05-10T00:01:59.460766\", \"activity\": \"Logged in\", \"userId\": 1, \"lastName\": \"Khan\", \"title\": \"[[REDACTED]]\", \"isSuperUser\": 1, \"lastLogin\": \"2022-02-24T13:05:16\"}, {\"id\": 1279, \"created_at\": \"2021-05-16T23:04:13.599000\", \"activity\": \"Logged in\", \"userId\": 1, \"lastName\": \"Khan\", \"title\": \"[[REDACTED]]\", \"isSuperUser\": 1, \"lastLogin\": \"2022-02-24T13:05:16\"}, {\"id\": 1280, \"created_at\": \"2021-05-18T19:45:24.123122\", \"activity\": \"Logged in\", \"userId\": 1, \"lastName\": \"Khan\", \"title\": \"[[REDACTED]]\", \"isSuperUser\": 1, \"lastLogin\": \"2022-02-24T13:05:16\"}, {\"id\": 1281, \"created_at\": \"2021-05-27T12:00:08.740174\", \"activity\": \"Logged in\", \"userId\": 1, \"lastName\": \"Khan\", \"title\": \"[[REDACTED]]\", \"isSuperUser\": 1, \"lastLogin\": \"2022-02-24T13:05:16\"}, {\"id\": 1282, \"created_at\": \"2021-05-27T12:53:51.359486\", \"activity\": \"Logged in\", \"userId\": 1, \"lastName\": \"Khan\", \"title\": \"[[REDACTED]]\", \"isSuperUser\": 1, \"lastLogin\": \"2022-02-24T13:05:16\"}, {\"id\": 1283, \"created_at\": \"2021-06-05T13:47:42.937277\", \"activity\": \"Logged in\", \"userId\": 1, \"lastName\": \"Khan\", \"title\": \"[[REDACTED]]\", \"isSuperUser\": 1, \"lastLogin\": \"2022-02-24T13:05:16\"}, {\"id\": 1290, \"created_at\": \"2021-06-07T13:02:18.659785\", \"activity\": \"Logged in\", \"userId\": 1, \"lastName\": \"Khan\", \"title\": \"[[REDACTED]]\", \"isSuperUser\": 1, \"lastLogin\": \"2022-02-24T13:05:16\"}, {\"id\": 1291, \"created_at\": \"2021-06-07T13:02:40.211288\", \"activity\": \"Logged in\", \"userId\": 1, \"lastName\": \"Khan\", \"title\": \"[[REDACTED]]\", \"isSuperUser\": 1, \"lastLogin\": \"2022-02-24T13:05:16\"}, {\"id\": 1292, \"created_at\": \"2021-06-07T13:03:49.943520\", \"activity\": \"Enrolled onto Programming Fundamentals\", \"userId\": 1, \"lastName\": \"Khan\", \"title\": \"[[REDACTED]]\", \"isSuperUser\": 1, \"lastLogin\": \"2022-02-24T13:05:16\"}, {\"id\": 1303, \"created_at\": \"2021-06-07T20:32:52.835687\", \"activity\": \"Logged in\", \"userId\": 1, \"lastName\": \"Khan\", \"title\": \"[[REDACTED]]\", \"isSuperUser\": 1, \"lastLogin\": \"2022-02-24T13:05:16\"}, {\"id\": 1304, \"created_at\": \"2021-06-08T09:50:04.407348\", \"activity\": \"Logged in\", \"userId\": 1, \"lastName\": \"Khan\", \"title\": \"[[REDACTED]]\", \"isSuperUser\": 1, \"lastLogin\": \"2022-02-24T13:05:16\"}, {\"id\": 1305, \"created_at\": \"2021-06-08T09:50:20.247264\", \"activity\": \"Logged in\", \"userId\": 1, \"lastName\": \"Khan\", \"title\": \"[[REDACTED]]\", \"isSuperUser\": 1, \"lastLogin\": \"2022-02-24T13:05:16\"}, {\"id\": 1306, \"created_at\": \"2021-06-08T11:07:57.555988\", \"activity\": \"Logged in\", \"userId\": 1, \"lastName\": \"Khan\", \"title\": \"[[REDACTED]]\", \"isSuperUser\": 1, \"lastLogin\": \"2022-02-24T13:05:16\"}, {\"id\": 1307, \"created_at\": \"2021-06-08T13:52:28.715734\", \"activity\": \"Logged in\", \"userId\": 1, \"lastName\": \"Khan\", \"title\": \"[[REDACTED]]\", \"isSuperUser\": 1, \"lastLogin\": \"2022-02-24T13:05:16\"}, {\"id\": 1308, \"created_at\": \"2021-06-08T17:57:23.153231\", \"activity\": \"Logged in\", \"userId\": 1, \"lastName\": \"Khan\", \"title\": \"[[REDACTED]]\", \"isSuperUser\": 1, \"lastLogin\": \"2022-02-24T13:05:16\"}, {\"id\": 1309, \"created_at\": \"2021-06-09T11:51:04.776033\", \"activity\": \"Logged in\", \"userId\": 1, \"lastName\": \"Khan\", \"title\": \"[[REDACTED]]\", \"isSuperUser\": 1, \"lastLogin\": \"2022-02-24T13:05:16\"}, {\"id\": 1318, \"created_at\": \"2021-06-09T11:54:49.150869\", \"activity\": \"Logged in\", \"userId\": 1, \"lastName\": \"Khan\", \"title\": \"[[REDACTED]]\", \"isSuperUser\": 1, \"lastLogin\": \"2022-02-24T13:05:16\"}, {\"id\": 1319, \"created_at\": \"2021-06-09T23:06:15.375866\", \"activity\": \"Logged in\", \"userId\": 1, \"lastName\": \"Khan\", \"title\": \"[[REDACTED]]\", \"isSuperUser\": 1, \"lastLogin\": \"2022-02-24T13:05:16\"}, {\"id\": 1324, \"created_at\": \"2021-06-11T12:06:26.567205\", \"activity\": \"Logged in\", \"userId\": 1, \"lastName\": \"Khan\", \"title\": \"[[REDACTED]]\", \"isSuperUser\": 1, \"lastLogin\": \"2022-02-24T13:05:16\"}, {\"id\": 1326, \"created_at\": \"2021-06-12T12:11:05.535900\", \"activity\": \"Logged in\", \"userId\": 1, \"lastName\": \"Khan\", \"title\": \"[[REDACTED]]\", \"isSuperUser\": 1, \"lastLogin\": \"2022-02-24T13:05:16\"}, {\"id\": 1331, \"created_at\": \"2021-06-15T21:17:17.755110\", \"activity\": \"Logged in\", \"userId\": 1, \"lastName\": \"Khan\", \"title\": \"[[REDACTED]]\", \"isSuperUser\": 1, \"lastLogin\": \"2022-02-24T13:05:16\"}, {\"id\": 1332, \"created_at\": \"2021-06-17T21:39:12.040256\", \"activity\": \"Logged in\", \"userId\": 1, \"lastName\": \"Khan\", \"title\": \"[[REDACTED]]\", \"isSuperUser\": 1, \"lastLogin\": \"2022-02-24T13:05:16\"}, {\"id\": 1334, \"created_at\": \"2021-06-18T21:20:05.144003\", \"activity\": \"Logged in\", \"userId\": 1, \"lastName\": \"Khan\", \"title\": \"[[REDACTED]]\", \"isSuperUser\": 1, \"lastLogin\": \"2022-02-24T13:05:16\"}, {\"id\": 1339, \"created_at\": \"2021-06-21T10:46:14.395845\", \"activity\": \"Logged in\", \"userId\": 1, \"lastName\": \"Khan\", \"title\": \"[[REDACTED]]\", \"isSuperUser\": 1, \"lastLogin\": \"2022-02-24T13:05:16\"}, {\"id\": 1341, \"created_at\": \"2021-06-24T15:50:01.296188\", \"activity\": \"Logged in\", \"userId\": 1, \"lastName\": \"Khan\", \"title\": \"[[REDACTED]]\", \"isSuperUser\": 1, \"lastLogin\": \"2022-02-24T13:05:16\"}, {\"id\": 1342, \"created_at\": \"2021-06-24T16:28:34.939430\", \"activity\": \"Logged in\", \"userId\": 1, \"lastName\": \"Khan\", \"title\": \"[[REDACTED]]\", \"isSuperUser\": 1, \"lastLogin\": \"2022-02-24T13:05:16\"}, {\"id\": 1346, \"created_at\": \"2021-06-30T19:51:56.077430\", \"activity\": \"Logged in\", \"userId\": 1, \"lastName\": \"Khan\", \"title\": \"[[REDACTED]]\", \"isSuperUser\": 1, \"lastLogin\": \"2022-02-24T13:05:16\"}, {\"id\": 1352, \"created_at\": \"2021-07-01T19:56:22.345208\", \"activity\": \"Logged in\", \"userId\": 1, \"lastName\": \"Khan\", \"title\": \"[[REDACTED]]\", \"isSuperUser\": 1, \"lastLogin\": \"2022-02-24T13:05:16\"}, {\"id\": 1355, \"created_at\": \"2021-07-02T17:15:56.984275\", \"activity\": \"Logged in\", \"userId\": 1, \"lastName\": \"Khan\", \"title\": \"[[REDACTED]]\", \"isSuperUser\": 1, \"lastLogin\": \"2022-02-24T13:05:16\"}, {\"id\": 1356, \"created_at\": \"2021-07-02T17:54:35.053507\", \"activity\": \"Logged in\", \"userId\": 1, \"lastName\": \"Khan\", \"title\": \"[[REDACTED]]\", \"isSuperUser\": 1, \"lastLogin\": \"2022-02-24T13:05:16\"}, {\"id\": 1369, \"created_at\": \"2021-07-03T11:37:51.363514\", \"activity\": \"Logged in\", \"userId\": 1, \"lastName\": \"Khan\", \"title\": \"[[REDACTED]]\", \"isSuperUser\": 1, \"lastLogin\": \"2022-02-24T13:05:16\"}, {\"id\": 1372, \"created_at\": \"2021-07-03T16:12:20.726135\", \"activity\": \"Logged in\", \"userId\": 1, \"lastName\": \"Khan\", \"title\": \"[[REDACTED]]\", \"isSuperUser\": 1, \"lastLogin\": \"2022-02-24T13:05:16\"}, {\"id\": 1415, \"created_at\": \"2021-07-12T20:54:53.452533\", \"activity\": \"Logged in\", \"userId\": 1, \"lastName\": \"Khan\", \"title\": \"[[REDACTED]]\", \"isSuperUser\": 1, \"lastLogin\": \"2022-02-24T13:05:16\"}, {\"id\": 1416, \"created_at\": \"2021-07-12T20:55:10.981237\", \"activity\": \"Logged in\", \"userId\": 1, \"lastName\": \"Khan\", \"title\": \"[[REDACTED]]\", \"isSuperUser\": 1, \"lastLogin\": \"2022-02-24T13:05:16\"}, {\"id\": 1417, \"created_at\": \"2021-07-12T20:55:26.180709\", \"activity\": \"No course selected. Navigating to course selection\", \"userId\": 1, \"lastName\": \"Khan\", \"title\": \"[[REDACTED]]\", \"isSuperUser\": 1, \"lastLogin\": \"2022-02-24T13:05:16\"}, {\"id\": 1422, \"created_at\": \"2021-07-13T14:42:37.668734\", \"activity\": \"Logged in\", \"userId\": 1, \"lastName\": \"Khan\", \"title\": \"[[REDACTED]]\", \"isSuperUser\": 1, \"lastLogin\": \"2022-02-24T13:05:16\"}, {\"id\": 1427, \"created_at\": \"2021-07-13T21:15:12.945500\", \"activity\": \"Logged in\", \"userId\": 1, \"lastName\": \"Khan\", \"title\": \"[[REDACTED]]\", \"isSuperUser\": 1, \"lastLogin\": \"2022-02-24T13:05:16\"}, {\"id\": 1435, \"created_at\": \"2021-07-14T21:46:39.157937\", \"activity\": \"Logged in\", \"userId\": 1, \"lastName\": \"Khan\", \"title\": \"[[REDACTED]]\", \"isSuperUser\": 1, \"lastLogin\": \"2022-02-24T13:05:16\"}, {\"id\": 1436, \"created_at\": \"2021-07-15T19:52:42.408172\", \"activity\": \"Logged in\", \"userId\": 1, \"lastName\": \"Khan\", \"title\": \"[[REDACTED]]\", \"isSuperUser\": 1, \"lastLogin\": \"2022-02-24T13:05:16\"}, {\"id\": 1441, \"created_at\": \"2021-07-17T13:02:34.067685\", \"activity\": \"Logged in\", \"userId\": 1, \"lastName\": \"Khan\", \"title\": \"[[REDACTED]]\", \"isSuperUser\": 1, \"lastLogin\": \"2022-02-24T13:05:16\"}, {\"id\": 1442, \"created_at\": \"2021-07-17T18:52:31.067764\", \"activity\": \"Logged in\", \"userId\": 1, \"lastName\": \"Khan\", \"title\": \"[[REDACTED]]\", \"isSuperUser\": 1, \"lastLogin\": \"2022-02-24T13:05:16\"}, {\"id\": 1443, \"created_at\": \"2021-07-18T17:42:26.536072\", \"activity\": \"Logged in\", \"userId\": 1, \"lastName\": \"Khan\", \"title\": \"[[REDACTED]]\", \"isSuperUser\": 1, \"lastLogin\": \"2022-02-24T13:05:16\"}, {\"id\": 1446, \"created_at\": \"2021-07-19T09:43:42.111475\", \"activity\": \"Logged in\", \"userId\": 1, \"lastName\": \"Khan\", \"title\": \"[[REDACTED]]\", \"isSuperUser\": 1, \"lastLogin\": \"2022-02-24T13:05:16\"}, {\"id\": 1447, \"created_at\": \"2021-07-19T12:17:18.403796\", \"activity\": \"Logged in\", \"userId\": 1, \"lastName\": \"Khan\", \"title\": \"[[REDACTED]]\", \"isSuperUser\": 1, \"lastLogin\": \"2022-02-24T13:05:16\"}, {\"id\": 1448, \"created_at\": \"2021-07-19T17:50:51.307488\", \"activity\": \"Logged in\", \"userId\": 1, \"lastName\": \"Khan\", \"title\": \"[[REDACTED]]\", \"isSuperUser\": 1, \"lastLogin\": \"2022-02-24T13:05:16\"}, {\"id\": 1449, \"created_at\": \"2021-07-20T09:21:51.011863\", \"activity\": \"Logged in\", \"userId\": 1, \"lastName\": \"Khan\", \"title\": \"[[REDACTED]]\", \"isSuperUser\": 1, \"lastLogin\": \"2022-02-24T13:05:16\"}, {\"id\": 1450, \"created_at\": \"2021-07-20T21:11:00.323837\", \"activity\": \"Logged in\", \"userId\": 1, \"lastName\": \"Khan\", \"title\": \"[[REDACTED]]\", \"isSuperUser\": 1, \"lastLogin\": \"2022-02-24T13:05:16\"}, {\"id\": 1451, \"created_at\": \"2021-07-21T13:11:45.423759\", \"activity\": \"Logged in\", \"userId\": 1, \"lastName\": \"Khan\", \"title\": \"[[REDACTED]]\", \"isSuperUser\": 1, \"lastLogin\": \"2022-02-24T13:05:16\"}, {\"id\": 1456, \"created_at\": \"2021-07-22T15:00:21.767964\", \"activity\": \"Logged in\", \"userId\": 1, \"lastName\": \"Khan\", \"title\": \"[[REDACTED]]\", \"isSuperUser\": 1, \"lastLogin\": \"2022-02-24T13:05:16\"}, {\"id\": 1468, \"created_at\": \"2021-07-26T17:45:06.864352\", \"activity\": \"Logged in\", \"userId\": 1, \"lastName\": \"Khan\", \"title\": \"[[REDACTED]]\", \"isSuperUser\": 1, \"lastLogin\": \"2022-02-24T13:05:16\"}, {\"id\": 1494, \"created_at\": \"2022-02-24T09:35:20.303791\", \"activity\": \"Logged in\", \"userId\": 1, \"lastName\": \"Khan\", \"title\": \"[[REDACTED]]\", \"isSuperUser\": 1, \"lastLogin\": \"2022-02-24T13:05:16\"}, {\"id\": 1496, \"created_at\": \"2022-02-24T10:21:01.355713\", \"activity\": \"Logged in\", \"userId\": 1, \"lastName\": \"Khan\", \"title\": \"[[REDACTED]]\", \"isSuperUser\": 1, \"lastLogin\": \"2022-02-24T13:05:16\"}, {\"id\": 1497, \"created_at\": \"2022-02-24T11:46:48.919178\", \"activity\": \"Logged in\", \"userId\": 1, \"lastName\": \"Khan\", \"title\": \"[[REDACTED]]\", \"isSuperUser\": 1, \"lastLogin\": \"2022-02-24T13:05:16\"}, {\"id\": 1498, \"created_at\": \"2022-02-24T12:23:17.883257\", \"activity\": \"Logged in\", \"userId\": 1, \"lastName\": \"Khan\", \"title\": \"[[REDACTED]]\", \"isSuperUser\": 1, \"lastLogin\": \"2022-02-24T13:05:16\"}, {\"id\": 1499, \"created_at\": \"2022-02-24T12:24:35.675990\", \"activity\": \"Enrolled onto Intro to Web Dev\", \"userId\": 1, \"lastName\": \"Khan\", \"title\": \"[[REDACTED]]\", \"isSuperUser\": 1, \"lastLogin\": \"2022-02-24T13:05:16\"}, {\"id\": 1500, \"created_at\": \"2022-02-24T12:51:39.969126\", \"activity\": \"Enrolled onto Intro to Web Dev\", \"userId\": 1, \"lastName\": \"Khan\", \"title\": \"[[REDACTED]]\", \"isSuperUser\": 1, \"lastLogin\": \"2022-02-24T13:05:16\"}, {\"id\": 1501, \"created_at\": \"2022-02-24T13:01:28.932092\", \"activity\": \"Logged in\", \"userId\": 1, \"lastName\": \"Khan\", \"title\": \"[[REDACTED]]\", \"isSuperUser\": 1, \"lastLogin\": \"2022-02-24T13:05:16\"}, {\"id\": 1502, \"created_at\": \"2022-02-24T13:02:32.067136\", \"activity\": \"Enrolled onto Intro to Web Dev\", \"userId\": 1, \"lastName\": \"Khan\", \"title\": \"[[REDACTED]]\", \"isSuperUser\": 1, \"lastLogin\": \"2022-02-24T13:05:16\"}, {\"id\": 1506, \"created_at\": \"2022-02-24T13:05:16.571148\", \"activity\": \"Logged in\", \"userId\": 1, \"lastName\": \"Khan\", \"title\": \"[[REDACTED]]\", \"isSuperUser\": 1, \"lastLogin\": \"2022-02-24T13:05:16\"}, {\"id\": 1070, \"created_at\": \"2021-03-30T18:01:20.994309\", \"activity\": \"Logged in\", \"userId\": 69, \"lastName\": \"Amaechi\", \"title\": \"They/Them\", \"isSuperUser\": 0, \"lastLogin\": \"2021-05-12T17:01:54\"}, {\"id\": 1071, \"created_at\": \"2021-03-30T18:02:00.265181\", \"activity\": \"Accessed Session 5 - Starter Files from Intro to Game Dev with Unity repo [access:3aadbfd9eca::rrtGJAd2ae1e]\", \"userId\": 69, \"lastName\": \"Amaechi\", \"title\": \"They/Them\", \"isSuperUser\": 0, \"lastLogin\": \"2021-05-12T17:01:54\"}, {\"id\": 1072, \"created_at\": \"2021-03-30T18:02:28.412786\", \"activity\": \"Accessed Session 5 - Assets from Intro to Game Dev with Unity repo [access:141012aa424::rrtGJAd2ae1e]\", \"userId\": 69, \"lastName\": \"Amaechi\", \"title\": \"They/Them\", \"isSuperUser\": 0, \"lastLogin\": \"2021-05-12T17:01:54\"}, {\"id\": 1082, \"created_at\": \"2021-03-30T18:11:42.143795\", \"activity\": \"Accessed Session 5 - Assets from Intro to Game Dev with Unity repo [access:141012aa424::rrtGJAd2ae1e]\", \"userId\": 69, \"lastName\": \"Amaechi\", \"title\": \"They/Them\", \"isSuperUser\": 0, \"lastLogin\": \"2021-05-12T17:01:54\"}, {\"id\": 1107, \"created_at\": \"2021-04-06T18:23:25.476026\", \"activity\": \"Logged in\", \"userId\": 69, \"lastName\": \"Amaechi\", \"title\": \"They/Them\", \"isSuperUser\": 0, \"lastLogin\": \"2021-05-12T17:01:54\"}, {\"id\": 1108, \"created_at\": \"2021-04-06T18:23:41.523282\", \"activity\": \"Accessed Session 6 - Starter Files from Intro to Game Dev with Unity repo [access:4ff849da461::rrtGJAd2ae1e]\", \"userId\": 69, \"lastName\": \"Amaechi\", \"title\": \"They/Them\", \"isSuperUser\": 0, \"lastLogin\": \"2021-05-12T17:01:54\"}, {\"id\": 1164, \"created_at\": \"2021-04-13T17:56:29.073453\", \"activity\": \"Logged in\", \"userId\": 69, \"lastName\": \"Amaechi\", \"title\": \"They/Them\", \"isSuperUser\": 0, \"lastLogin\": \"2021-05-12T17:01:54\"}, {\"id\": 1165, \"created_at\": \"2021-04-13T17:57:03.090821\", \"activity\": \"Accessed Session 7 - Starter Files from Intro to Game Dev with Unity repo [access:0274231c583::rrtGJAd2ae1e]\", \"userId\": 69, \"lastName\": \"Amaechi\", \"title\": \"They/Them\", \"isSuperUser\": 0, \"lastLogin\": \"2021-05-12T17:01:54\"}, {\"id\": 1208, \"created_at\": \"2021-04-20T17:55:24.942952\", \"activity\": \"Logged in\", \"userId\": 69, \"lastName\": \"Amaechi\", \"title\": \"They/Them\", \"isSuperUser\": 0, \"lastLogin\": \"2021-05-12T17:01:54\"}, {\"id\": 1209, \"created_at\": \"2021-04-20T17:58:45.915980\", \"activity\": \"Accessed Session 8 - Starter Files from Intro to Game Dev with Unity repo [access:1d14e303b59::rrtGJAd2ae1e]\", \"userId\": 69, \"lastName\": \"Amaechi\", \"title\": \"They/Them\", \"isSuperUser\": 0, \"lastLogin\": \"2021-05-12T17:01:54\"}, {\"id\": 1230, \"created_at\": \"2021-04-27T18:05:52.592625\", \"activity\": \"Logged in\", \"userId\": 69, \"lastName\": \"Amaechi\", \"title\": \"They/Them\", \"isSuperUser\": 0, \"lastLogin\": \"2021-05-12T17:01:54\"}, {\"id\": 1231, \"created_at\": \"2021-04-27T18:07:00.748125\", \"activity\": \"Accessed Session 8 - Starter Files from Intro to Game Dev with Unity repo [access:1d14e303b59::rrtGJAd2ae1e]\", \"userId\": 69, \"lastName\": \"Amaechi\", \"title\": \"They/Them\", \"isSuperUser\": 0, \"lastLogin\": \"2021-05-12T17:01:54\"}, {\"id\": 1278, \"created_at\": \"2021-05-12T17:01:54.258060\", \"activity\": \"Logged in\", \"userId\": 69, \"lastName\": \"Amaechi\", \"title\": \"They/Them\", \"isSuperUser\": 0, \"lastLogin\": \"2021-05-12T17:01:54\"}, {\"id\": 1074, \"created_at\": \"2021-03-30T18:04:52.015387\", \"activity\": \"Logged in\", \"userId\": 91, \"lastName\": \"peker\", \"title\": \"They/Them\", \"isSuperUser\": 0, \"lastLogin\": \"2021-03-30T18:04:52\"}, {\"id\": 1076, \"created_at\": \"2021-03-30T18:07:55.326801\", \"activity\": \"Accessed Session 5 - Assets from Intro to Game Dev with Unity repo [access:141012aa424::rrtGJAd2ae1e]\", \"userId\": 91, \"lastName\": \"peker\", \"title\": \"They/Them\", \"isSuperUser\": 0, \"lastLogin\": \"2021-03-30T18:04:52\"}, {\"id\": 1078, \"created_at\": \"2021-03-30T18:09:31.592358\", \"activity\": \"Accessed Session 5 - Starter Files from Intro to Game Dev with Unity repo [access:3aadbfd9eca::rrtGJAd2ae1e]\", \"userId\": 91, \"lastName\": \"peker\", \"title\": \"They/Them\", \"isSuperUser\": 0, \"lastLogin\": \"2021-03-30T18:04:52\"}, {\"id\": 1087, \"created_at\": \"2021-03-30T18:18:19.607782\", \"activity\": \"Accessed Session 5 - Starter Files from Intro to Game Dev with Unity repo [access:3aadbfd9eca::rrtGJAd2ae1e]\", \"userId\": 91, \"lastName\": \"peker\", \"title\": \"They/Them\", \"isSuperUser\": 0, \"lastLogin\": \"2021-03-30T18:04:52\"}, {\"id\": 1080, \"created_at\": \"2021-03-30T18:10:29.838885\", \"activity\": \"Logged in\", \"userId\": 110, \"lastName\": \"Carstairs \", \"title\": \"They/Them\", \"isSuperUser\": 0, \"lastLogin\": \"2021-03-30T18:10:30\"}, {\"id\": 1081, \"created_at\": \"2021-03-30T18:10:39.845195\", \"activity\": \"Accessed Session 5 - Assets from Intro to Game Dev with Unity repo [access:141012aa424::rrtGJAd2ae1e]\", \"userId\": 110, \"lastName\": \"Carstairs \", \"title\": \"They/Them\", \"isSuperUser\": 0, \"lastLogin\": \"2021-03-30T18:10:30\"}, {\"id\": 1083, \"created_at\": \"2021-03-30T18:11:58.052590\", \"activity\": \"Password Reset requested\", \"userId\": 85, \"lastName\": \"Surendran\", \"title\": \"They/Them\", \"isSuperUser\": 0, \"lastLogin\": \"2021-04-30T13:55:43\"}, {\"id\": 1084, \"created_at\": \"2021-03-30T18:13:50.985017\", \"activity\": \"Password Reset requested\", \"userId\": 85, \"lastName\": \"Surendran\", \"title\": \"They/Them\", \"isSuperUser\": 0, \"lastLogin\": \"2021-04-30T13:55:43\"}, {\"id\": 1256, \"created_at\": \"2021-04-28T08:18:54.984837\", \"activity\": \"Magic link sent\", \"userId\": 85, \"lastName\": \"Surendran\", \"title\": \"They/Them\", \"isSuperUser\": 0, \"lastLogin\": \"2021-04-30T13:55:43\"}, {\"id\": 1257, \"created_at\": \"2021-04-28T08:20:02.960351\", \"activity\": \"Password Reset requested\", \"userId\": 85, \"lastName\": \"Surendran\", \"title\": \"They/Them\", \"isSuperUser\": 0, \"lastLogin\": \"2021-04-30T13:55:43\"}, {\"id\": 1258, \"created_at\": \"2021-04-28T12:29:52.759441\", \"activity\": \"Magic link sent\", \"userId\": 85, \"lastName\": \"Surendran\", \"title\": \"They/Them\", \"isSuperUser\": 0, \"lastLogin\": \"2021-04-30T13:55:43\"}, {\"id\": 1260, \"created_at\": \"2021-04-30T11:04:33.901613\", \"activity\": \"Logged in\", \"userId\": 85, \"lastName\": \"Surendran\", \"title\": \"They/Them\", \"isSuperUser\": 0, \"lastLogin\": \"2021-04-30T13:55:43\"}, {\"id\": 1261, \"created_at\": \"2021-04-30T11:04:34.104968\", \"activity\": \"Password expired. Redirecting to update password\", \"userId\": 85, \"lastName\": \"Surendran\", \"title\": \"They/Them\", \"isSuperUser\": 0, \"lastLogin\": \"2021-04-30T13:55:43\"}, {\"id\": 1262, \"created_at\": \"2021-04-30T11:05:07.272113\", \"activity\": \"Updated password\", \"userId\": 85, \"lastName\": \"Surendran\", \"title\": \"They/Them\", \"isSuperUser\": 0, \"lastLogin\": \"2021-04-30T13:55:43\"}, {\"id\": 1263, \"created_at\": \"2021-04-30T11:05:18.142229\", \"activity\": \"No course selected. Navigating to course selection\", \"userId\": 85, \"lastName\": \"Surendran\", \"title\": \"They/Them\", \"isSuperUser\": 0, \"lastLogin\": \"2021-04-30T13:55:43\"}, {\"id\": 1264, \"created_at\": \"2021-04-30T13:55:42.986992\", \"activity\": \"Logged in\", \"userId\": 85, \"lastName\": \"Surendran\", \"title\": \"They/Them\", \"isSuperUser\": 0, \"lastLogin\": \"2021-04-30T13:55:43\"}, {\"id\": 1153, \"created_at\": \"2021-04-12T07:34:52.681381\", \"activity\": \"Password Reset requested\", \"userId\": 114, \"lastName\": \"tse\", \"title\": \"They/Them\", \"isSuperUser\": 0, \"lastLogin\": \"2021-04-16T09:36:56\"}, {\"id\": 1170, \"created_at\": \"2021-04-16T09:36:34.159110\", \"activity\": \"Password Reset requested\", \"userId\": 114, \"lastName\": \"tse\", \"title\": \"They/Them\", \"isSuperUser\": 0, \"lastLogin\": \"2021-04-16T09:36:56\"}, {\"id\": 1171, \"created_at\": \"2021-04-16T09:36:55.605418\", \"activity\": \"Logged in\", \"userId\": 114, \"lastName\": \"tse\", \"title\": \"They/Them\", \"isSuperUser\": 0, \"lastLogin\": \"2021-04-16T09:36:56\"}, {\"id\": 1172, \"created_at\": \"2021-04-16T09:36:55.847766\", \"activity\": \"Password expired. Redirecting to update password\", \"userId\": 114, \"lastName\": \"tse\", \"title\": \"They/Them\", \"isSuperUser\": 0, \"lastLogin\": \"2021-04-16T09:36:56\"}, {\"id\": 1173, \"created_at\": \"2021-04-16T09:37:21.294009\", \"activity\": \"Updated password\", \"userId\": 114, \"lastName\": \"tse\", \"title\": \"They/Them\", \"isSuperUser\": 0, \"lastLogin\": \"2021-04-16T09:36:56\"}, {\"id\": 1218, \"created_at\": \"2021-04-27T15:20:39.878510\", \"activity\": \"Logged in\", \"userId\": 66, \"lastName\": \"Khan\", \"title\": \"They/Them\", \"isSuperUser\": 0, \"lastLogin\": \"2021-04-27T15:53:57\"}, {\"id\": 1219, \"created_at\": \"2021-04-27T15:21:18.837177\", \"activity\": \"Accessed Session 8 - Starter Files from Intro to Game Dev with Unity repo [access:1d14e303b59::rrtGJAd2ae1e]\", \"userId\": 66, \"lastName\": \"Khan\", \"title\": \"They/Them\", \"isSuperUser\": 0, \"lastLogin\": \"2021-04-27T15:53:57\"}, {\"id\": 1221, \"created_at\": \"2021-04-27T15:53:57.218451\", \"activity\": \"Logged in\", \"userId\": 66, \"lastName\": \"Khan\", \"title\": \"They/Them\", \"isSuperUser\": 0, \"lastLogin\": \"2021-04-27T15:53:57\"}, {\"id\": 1222, \"created_at\": \"2021-04-27T15:55:04.964625\", \"activity\": \"Accessed Session 1 Recap from Intro to Game Dev with Unity repo [access:286e1a92d35::rrtGJAd2ae1e]\", \"userId\": 66, \"lastName\": \"Khan\", \"title\": \"They/Them\", \"isSuperUser\": 0, \"lastLogin\": \"2021-04-27T15:53:57\"}, {\"id\": 1225, \"created_at\": \"2021-04-27T16:20:15.211738\", \"activity\": \"Accessed Session 7 Recap from Intro to Game Dev with Unity repo [access:f808a2f41b5::rrtGJAd2ae1e]\", \"userId\": 66, \"lastName\": \"Khan\", \"title\": \"They/Them\", \"isSuperUser\": 0, \"lastLogin\": \"2021-04-27T15:53:57\"}, {\"id\": 1226, \"created_at\": \"2021-04-27T16:22:32.885180\", \"activity\": \"Accessed Session 7 Recap from Intro to Game Dev with Unity repo [access:f808a2f41b5::rrtGJAd2ae1e]\", \"userId\": 66, \"lastName\": \"Khan\", \"title\": \"They/Them\", \"isSuperUser\": 0, \"lastLogin\": \"2021-04-27T15:53:57\"}, {\"id\": 1254, \"created_at\": \"2021-04-27T23:58:42.649859\", \"activity\": \"Logged in\", \"userId\": 86, \"lastName\": \"Phua \", \"title\": \"They/Them\", \"isSuperUser\": 0, \"lastLogin\": \"2021-04-27T23:58:43\"}, {\"id\": 1255, \"created_at\": \"2021-04-28T00:01:15.604556\", \"activity\": \"Accessed Session 1 Recap from Intro to Game Dev with Unity repo [access:286e1a92d35::rrtGJAd2ae1e]\", \"userId\": 86, \"lastName\": \"Phua \", \"title\": \"They/Them\", \"isSuperUser\": 0, \"lastLogin\": \"2021-04-27T23:58:43\"}, {\"id\": 1311, \"created_at\": \"2021-06-09T11:53:19.549688\", \"activity\": \"Enrolled onto Programming Fundamentals\", \"userId\": 120, \"lastName\": \"riz-test\", \"title\": \"They/Them\", \"isSuperUser\": 0, \"lastLogin\": \"2022-03-13T17:25:51\"}, {\"id\": 1312, \"created_at\": \"2021-06-09T11:53:26.935390\", \"activity\": \"Password expired. Redirecting to update password\", \"userId\": 120, \"lastName\": \"riz-test\", \"title\": \"They/Them\", \"isSuperUser\": 0, \"lastLogin\": \"2022-03-13T17:25:51\"}, {\"id\": 1313, \"created_at\": \"2021-06-09T11:53:29.986165\", \"activity\": \"Password expired. Redirecting to update password\", \"userId\": 120, \"lastName\": \"riz-test\", \"title\": \"They/Them\", \"isSuperUser\": 0, \"lastLogin\": \"2022-03-13T17:25:51\"}, {\"id\": 1314, \"created_at\": \"2021-06-09T11:53:36.936586\", \"activity\": \"Password expired. Redirecting to update password\", \"userId\": 120, \"lastName\": \"riz-test\", \"title\": \"They/Them\", \"isSuperUser\": 0, \"lastLogin\": \"2022-03-13T17:25:51\"}, {\"id\": 1315, \"created_at\": \"2021-06-09T11:54:03.471739\", \"activity\": \"Password expired. Redirecting to update password\", \"userId\": 120, \"lastName\": \"riz-test\", \"title\": \"They/Them\", \"isSuperUser\": 0, \"lastLogin\": \"2022-03-13T17:25:51\"}, {\"id\": 1316, \"created_at\": \"2021-06-09T11:54:24.904444\", \"activity\": \"Updated password\", \"userId\": 120, \"lastName\": \"riz-test\", \"title\": \"They/Them\", \"isSuperUser\": 0, \"lastLogin\": \"2022-03-13T17:25:51\"}, {\"id\": 1317, \"created_at\": \"2021-06-09T11:54:36.735510\", \"activity\": \"No course selected. Navigating to course selection\", \"userId\": 120, \"lastName\": \"riz-test\", \"title\": \"They/Them\", \"isSuperUser\": 0, \"lastLogin\": \"2022-03-13T17:25:51\"}, {\"id\": 1321, \"created_at\": \"2021-06-10T21:16:18.081432\", \"activity\": \"Enrolled onto Programming Fundamentals\", \"userId\": 121, \"lastName\": \"Broughton\", \"title\": \"They/Them\", \"isSuperUser\": 0, \"lastLogin\": \"2021-06-10T21:14:14\"}, {\"id\": 1322, \"created_at\": \"2021-06-10T21:17:16.714944\", \"activity\": \"Password expired. Redirecting to update password\", \"userId\": 121, \"lastName\": \"Broughton\", \"title\": \"They/Them\", \"isSuperUser\": 0, \"lastLogin\": \"2021-06-10T21:14:14\"}, {\"id\": 1327, \"created_at\": \"2021-06-12T18:58:19.299118\", \"activity\": \"Enrolled onto Programming Fundamentals\", \"userId\": 122, \"lastName\": \"Hylton\", \"title\": \"They/Them\", \"isSuperUser\": 0, \"lastLogin\": \"2021-06-12T18:54:15\"}, {\"id\": 1330, \"created_at\": \"2021-06-15T21:10:42.939927\", \"activity\": \"Enrolled onto Programming Fundamentals\", \"userId\": 123, \"lastName\": \"Folorunsho\", \"title\": \"They/Them\", \"isSuperUser\": 0, \"lastLogin\": \"2021-06-15T21:08:21\"}, {\"id\": 1333, \"created_at\": \"2021-06-18T17:09:56.912754\", \"activity\": \"Enrolled onto Programming Fundamentals\", \"userId\": 124, \"lastName\": \"Ahmed\", \"title\": \"They/Them\", \"isSuperUser\": 0, \"lastLogin\": \"2021-06-18T17:05:24\"}, {\"id\": 1340, \"created_at\": \"2021-06-23T00:52:00.794961\", \"activity\": \"Enrolled onto Programming Fundamentals\", \"userId\": 125, \"lastName\": \"Ferreira \", \"title\": \"They/Them\", \"isSuperUser\": 0, \"lastLogin\": \"2021-06-23T00:50:30\"}, {\"id\": 1344, \"created_at\": \"2021-06-25T12:12:24.358882\", \"activity\": \"Enrolled onto Programming Fundamentals\", \"userId\": 127, \"lastName\": \"Munkhondya\", \"title\": \"They/Them\", \"isSuperUser\": 0, \"lastLogin\": \"2021-06-25T12:07:12\"}, {\"id\": 1345, \"created_at\": \"2021-06-25T15:13:34.235389\", \"activity\": \"Enrolled onto Programming Fundamentals\", \"userId\": 128, \"lastName\": \"Gurung \", \"title\": \"They/Them\", \"isSuperUser\": 0, \"lastLogin\": \"2021-06-25T15:10:15\"}, {\"id\": 1347, \"created_at\": \"2021-07-01T10:58:23.553731\", \"activity\": \"Enrolled onto Intro into VueJS\", \"userId\": 129, \"lastName\": \"Lodge\", \"title\": \"They/Them\", \"isSuperUser\": 0, \"lastLogin\": \"2021-07-01T10:57:46\"}, {\"id\": 1348, \"created_at\": \"2021-07-01T10:58:33.154856\", \"activity\": \"Password expired. Redirecting to update password\", \"userId\": 129, \"lastName\": \"Lodge\", \"title\": \"They/Them\", \"isSuperUser\": 0, \"lastLogin\": \"2021-07-01T10:57:46\"}, {\"id\": 1349, \"created_at\": \"2021-07-01T11:00:20.200952\", \"activity\": \"Password expired. Redirecting to update password\", \"userId\": 129, \"lastName\": \"Lodge\", \"title\": \"They/Them\", \"isSuperUser\": 0, \"lastLogin\": \"2021-07-01T10:57:46\"}, {\"id\": 1362, \"created_at\": \"2021-07-03T02:23:23.914734\", \"activity\": \"Password expired. Redirecting to update password\", \"userId\": 130, \"lastName\": \"Saunders\", \"title\": \"They/Them\", \"isSuperUser\": 0, \"lastLogin\": \"2021-07-26T18:07:51\"}, {\"id\": 1363, \"created_at\": \"2021-07-03T02:23:59.530799\", \"activity\": \"Updated password\", \"userId\": 130, \"lastName\": \"Saunders\", \"title\": \"They/Them\", \"isSuperUser\": 0, \"lastLogin\": \"2021-07-26T18:07:51\"}, {\"id\": 1364, \"created_at\": \"2021-07-03T02:24:19.928876\", \"activity\": \"No course selected. Navigating to course selection\", \"userId\": 130, \"lastName\": \"Saunders\", \"title\": \"They/Them\", \"isSuperUser\": 0, \"lastLogin\": \"2021-07-26T18:07:51\"}, {\"id\": 1365, \"created_at\": \"2021-07-03T02:24:58.824111\", \"activity\": \"No course selected. Navigating to course selection\", \"userId\": 130, \"lastName\": \"Saunders\", \"title\": \"They/Them\", \"isSuperUser\": 0, \"lastLogin\": \"2021-07-26T18:07:51\"}, {\"id\": 1366, \"created_at\": \"2021-07-03T02:24:59.353187\", \"activity\": \"No course selected. Navigating to course selection\", \"userId\": 130, \"lastName\": \"Saunders\", \"title\": \"They/Them\", \"isSuperUser\": 0, \"lastLogin\": \"2021-07-26T18:07:51\"}, {\"id\": 1410, \"created_at\": \"2021-07-12T18:23:17.059842\", \"activity\": \"Magic link sent\", \"userId\": 130, \"lastName\": \"Saunders\", \"title\": \"They/Them\", \"isSuperUser\": 0, \"lastLogin\": \"2021-07-26T18:07:51\"}, {\"id\": 1411, \"created_at\": \"2021-07-12T18:23:50.079219\", \"activity\": \"Logged in\", \"userId\": 130, \"lastName\": \"Saunders\", \"title\": \"They/Them\", \"isSuperUser\": 0, \"lastLogin\": \"2021-07-26T18:07:51\"}, {\"id\": 1412, \"created_at\": \"2021-07-12T18:23:50.591184\", \"activity\": \"No course selected. Navigating to course selection\", \"userId\": 130, \"lastName\": \"Saunders\", \"title\": \"They/Them\", \"isSuperUser\": 0, \"lastLogin\": \"2021-07-26T18:07:51\"}, {\"id\": 1413, \"created_at\": \"2021-07-12T18:30:00.113183\", \"activity\": \"Updated profile [profilePicture] \", \"userId\": 130, \"lastName\": \"Saunders\", \"title\": \"They/Them\", \"isSuperUser\": 0, \"lastLogin\": \"2021-07-26T18:07:51\"}, {\"id\": 1414, \"created_at\": \"2021-07-12T18:35:53.451138\", \"activity\": \"No course selected. Navigating to course selection\", \"userId\": 130, \"lastName\": \"Saunders\", \"title\": \"They/Them\", \"isSuperUser\": 0, \"lastLogin\": \"2021-07-26T18:07:51\"}, {\"id\": 1420, \"created_at\": \"2021-07-13T11:11:21.711846\", \"activity\": \"Magic link sent\", \"userId\": 130, \"lastName\": \"Saunders\", \"title\": \"They/Them\", \"isSuperUser\": 0, \"lastLogin\": \"2021-07-26T18:07:51\"}, {\"id\": 1421, \"created_at\": \"2021-07-13T11:11:36.791982\", \"activity\": \"Logged in\", \"userId\": 130, \"lastName\": \"Saunders\", \"title\": \"They/Them\", \"isSuperUser\": 0, \"lastLogin\": \"2021-07-26T18:07:51\"}, {\"id\": 1423, \"created_at\": \"2021-07-13T16:43:35.702515\", \"activity\": \"Magic link sent\", \"userId\": 130, \"lastName\": \"Saunders\", \"title\": \"They/Them\", \"isSuperUser\": 0, \"lastLogin\": \"2021-07-26T18:07:51\"}, {\"id\": 1424, \"created_at\": \"2021-07-13T16:43:57.339464\", \"activity\": \"Logged in\", \"userId\": 130, \"lastName\": \"Saunders\", \"title\": \"They/Them\", \"isSuperUser\": 0, \"lastLogin\": \"2021-07-26T18:07:51\"}, {\"id\": 1433, \"created_at\": \"2021-07-14T10:28:10.497012\", \"activity\": \"Magic link sent\", \"userId\": 130, \"lastName\": \"Saunders\", \"title\": \"They/Them\", \"isSuperUser\": 0, \"lastLogin\": \"2021-07-26T18:07:51\"}, {\"id\": 1434, \"created_at\": \"2021-07-14T10:28:31.379434\", \"activity\": \"Logged in\", \"userId\": 130, \"lastName\": \"Saunders\", \"title\": \"They/Them\", \"isSuperUser\": 0, \"lastLogin\": \"2021-07-26T18:07:51\"}, {\"id\": 1437, \"created_at\": \"2021-07-15T20:25:31.113126\", \"activity\": \"Magic link sent\", \"userId\": 130, \"lastName\": \"Saunders\", \"title\": \"They/Them\", \"isSuperUser\": 0, \"lastLogin\": \"2021-07-26T18:07:51\"}, {\"id\": 1438, \"created_at\": \"2021-07-15T20:25:45.066953\", \"activity\": \"Logged in\", \"userId\": 130, \"lastName\": \"Saunders\", \"title\": \"They/Them\", \"isSuperUser\": 0, \"lastLogin\": \"2021-07-26T18:07:51\"}, {\"id\": 1439, \"created_at\": \"2021-07-16T12:48:45.895987\", \"activity\": \"Magic link sent\", \"userId\": 130, \"lastName\": \"Saunders\", \"title\": \"They/Them\", \"isSuperUser\": 0, \"lastLogin\": \"2021-07-26T18:07:51\"}, {\"id\": 1440, \"created_at\": \"2021-07-16T12:48:56.464003\", \"activity\": \"Logged in\", \"userId\": 130, \"lastName\": \"Saunders\", \"title\": \"They/Them\", \"isSuperUser\": 0, \"lastLogin\": \"2021-07-26T18:07:51\"}, {\"id\": 1444, \"created_at\": \"2021-07-18T19:23:54.651712\", \"activity\": \"Magic link sent\", \"userId\": 130, \"lastName\": \"Saunders\", \"title\": \"They/Them\", \"isSuperUser\": 0, \"lastLogin\": \"2021-07-26T18:07:51\"}, {\"id\": 1445, \"created_at\": \"2021-07-18T19:24:06.627335\", \"activity\": \"Logged in\", \"userId\": 130, \"lastName\": \"Saunders\", \"title\": \"They/Them\", \"isSuperUser\": 0, \"lastLogin\": \"2021-07-26T18:07:51\"}, {\"id\": 1452, \"created_at\": \"2021-07-22T10:51:06.921951\", \"activity\": \"Password Reset requested\", \"userId\": 130, \"lastName\": \"Saunders\", \"title\": \"They/Them\", \"isSuperUser\": 0, \"lastLogin\": \"2021-07-26T18:07:51\"}, {\"id\": 1453, \"created_at\": \"2021-07-22T10:51:37.280667\", \"activity\": \"Logged in\", \"userId\": 130, \"lastName\": \"Saunders\", \"title\": \"They/Them\", \"isSuperUser\": 0, \"lastLogin\": \"2021-07-26T18:07:51\"}, {\"id\": 1454, \"created_at\": \"2021-07-22T10:51:38.090909\", \"activity\": \"Password expired. Redirecting to update password\", \"userId\": 130, \"lastName\": \"Saunders\", \"title\": \"They/Them\", \"isSuperUser\": 0, \"lastLogin\": \"2021-07-26T18:07:51\"}, {\"id\": 1455, \"created_at\": \"2021-07-22T10:52:07.382871\", \"activity\": \"Updated password\", \"userId\": 130, \"lastName\": \"Saunders\", \"title\": \"They/Them\", \"isSuperUser\": 0, \"lastLogin\": \"2021-07-26T18:07:51\"}, {\"id\": 1459, \"created_at\": \"2021-07-23T16:31:25.191286\", \"activity\": \"Magic link sent\", \"userId\": 130, \"lastName\": \"Saunders\", \"title\": \"They/Them\", \"isSuperUser\": 0, \"lastLogin\": \"2021-07-26T18:07:51\"}, {\"id\": 1460, \"created_at\": \"2021-07-23T16:31:36.545456\", \"activity\": \"Logged in\", \"userId\": 130, \"lastName\": \"Saunders\", \"title\": \"They/Them\", \"isSuperUser\": 0, \"lastLogin\": \"2021-07-26T18:07:51\"}, {\"id\": 1465, \"created_at\": \"2021-07-24T20:11:26.787491\", \"activity\": \"Magic link sent\", \"userId\": 130, \"lastName\": \"Saunders\", \"title\": \"They/Them\", \"isSuperUser\": 0, \"lastLogin\": \"2021-07-26T18:07:51\"}, {\"id\": 1466, \"created_at\": \"2021-07-24T20:11:41.458673\", \"activity\": \"Logged in\", \"userId\": 130, \"lastName\": \"Saunders\", \"title\": \"They/Them\", \"isSuperUser\": 0, \"lastLogin\": \"2021-07-26T18:07:51\"}, {\"id\": 1469, \"created_at\": \"2021-07-26T18:07:59.447071\", \"activity\": \"Magic link sent\", \"userId\": 130, \"lastName\": \"Saunders\", \"title\": \"They/Them\", \"isSuperUser\": 0, \"lastLogin\": \"2021-07-26T18:07:51\"}, {\"id\": 1470, \"created_at\": \"2021-07-26T18:08:10.521440\", \"activity\": \"Logged in\", \"userId\": 130, \"lastName\": \"Saunders\", \"title\": \"They/Them\", \"isSuperUser\": 0, \"lastLogin\": \"2021-07-26T18:07:51\"}, {\"id\": 1381, \"created_at\": \"2021-07-04T20:40:15.366171\", \"activity\": \"Password Reset requested\", \"userId\": 54, \"lastName\": \"Demo\", \"title\": \"They/Them\", \"isSuperUser\": 0, \"lastLogin\": \"2021-07-06T20:56:17\"}, {\"id\": 1382, \"created_at\": \"2021-07-04T20:40:40.258485\", \"activity\": \"Logged in\", \"userId\": 54, \"lastName\": \"Demo\", \"title\": \"They/Them\", \"isSuperUser\": 0, \"lastLogin\": \"2021-07-06T20:56:17\"}, {\"id\": 1383, \"created_at\": \"2021-07-04T20:40:40.419021\", \"activity\": \"Password expired. Redirecting to update password\", \"userId\": 54, \"lastName\": \"Demo\", \"title\": \"They/Them\", \"isSuperUser\": 0, \"lastLogin\": \"2021-07-06T20:56:17\"}, {\"id\": 1384, \"created_at\": \"2021-07-04T20:40:49.184014\", \"activity\": \"Updated password\", \"userId\": 54, \"lastName\": \"Demo\", \"title\": \"They/Them\", \"isSuperUser\": 0, \"lastLogin\": \"2021-07-06T20:56:17\"}, {\"id\": 1385, \"created_at\": \"2021-07-04T20:40:51.668378\", \"activity\": \"No course selected. Navigating to course selection\", \"userId\": 54, \"lastName\": \"Demo\", \"title\": \"They/Them\", \"isSuperUser\": 0, \"lastLogin\": \"2021-07-06T20:56:17\"}, {\"id\": 1387, \"created_at\": \"2021-07-04T20:49:54.621030\", \"activity\": \"Logged in\", \"userId\": 54, \"lastName\": \"Demo\", \"title\": \"They/Them\", \"isSuperUser\": 0, \"lastLogin\": \"2021-07-06T20:56:17\"}, {\"id\": 1388, \"created_at\": \"2021-07-05T10:53:34.635051\", \"activity\": \"Logged in\", \"userId\": 54, \"lastName\": \"Demo\", \"title\": \"They/Them\", \"isSuperUser\": 0, \"lastLogin\": \"2021-07-06T20:56:17\"}, {\"id\": 1390, \"created_at\": \"2021-07-05T12:28:45.630481\", \"activity\": \"Logged in\", \"userId\": 54, \"lastName\": \"Demo\", \"title\": \"They/Them\", \"isSuperUser\": 0, \"lastLogin\": \"2021-07-06T20:56:17\"}, {\"id\": 1395, \"created_at\": \"2021-07-06T20:22:50.763756\", \"activity\": \"Logged in\", \"userId\": 54, \"lastName\": \"Demo\", \"title\": \"They/Them\", \"isSuperUser\": 0, \"lastLogin\": \"2021-07-06T20:56:17\"}, {\"id\": 1396, \"created_at\": \"2021-07-06T20:33:22.853497\", \"activity\": \"Tested PirateScript [4 fails]\", \"userId\": 54, \"lastName\": \"Demo\", \"title\": \"They/Them\", \"isSuperUser\": 0, \"lastLogin\": \"2021-07-06T20:56:17\"}, {\"id\": 1398, \"created_at\": \"2021-07-06T20:39:15.583197\", \"activity\": \"Logged in\", \"userId\": 54, \"lastName\": \"Demo\", \"title\": \"They/Them\", \"isSuperUser\": 0, \"lastLogin\": \"2021-07-06T20:56:17\"}, {\"id\": 1399, \"created_at\": \"2021-07-06T20:45:51.286869\", \"activity\": \"Logged in\", \"userId\": 54, \"lastName\": \"Demo\", \"title\": \"They/Them\", \"isSuperUser\": 0, \"lastLogin\": \"2021-07-06T20:56:17\"}, {\"id\": 1401, \"created_at\": \"2021-07-06T20:56:17.219414\", \"activity\": \"Logged in\", \"userId\": 54, \"lastName\": \"Demo\", \"title\": \"They/Them\", \"isSuperUser\": 0, \"lastLogin\": \"2021-07-06T20:56:17\"}, {\"id\": 1402, \"created_at\": \"2021-07-06T20:56:57.949928\", \"activity\": \"Tested PirateScript [4 fails]\", \"userId\": 54, \"lastName\": \"Demo\", \"title\": \"They/Them\", \"isSuperUser\": 0, \"lastLogin\": \"2021-07-06T20:56:17\"}, {\"id\": 1403, \"created_at\": \"2021-07-06T20:59:20.082141\", \"activity\": \"Tested PirateScript [0 fails]\", \"userId\": 54, \"lastName\": \"Demo\", \"title\": \"They/Them\", \"isSuperUser\": 0, \"lastLogin\": \"2021-07-06T20:56:17\"}, {\"id\": 1404, \"created_at\": \"2021-07-06T20:59:54.359977\", \"activity\": \"Submitted assignment PirateScript\", \"userId\": 54, \"lastName\": \"Demo\", \"title\": \"They/Them\", \"isSuperUser\": 0, \"lastLogin\": \"2021-07-06T20:56:17\"}, {\"id\": 1419, \"created_at\": \"2021-07-13T11:05:07.614501\", \"activity\": \"Enrolled onto Intro to .NET with C#\", \"userId\": 131, \"lastName\": \"Webb\", \"title\": \"They/Them\", \"isSuperUser\": 0, \"lastLogin\": \"2021-07-14T09:27:50\"}, {\"id\": 1428, \"created_at\": \"2021-07-14T09:27:29.915681\", \"activity\": \"Password Reset requested\", \"userId\": 131, \"lastName\": \"Webb\", \"title\": \"They/Them\", \"isSuperUser\": 0, \"lastLogin\": \"2021-07-14T09:27:50\"}, {\"id\": 1429, \"created_at\": \"2021-07-14T09:27:50.593216\", \"activity\": \"Logged in\", \"userId\": 131, \"lastName\": \"Webb\", \"title\": \"They/Them\", \"isSuperUser\": 0, \"lastLogin\": \"2021-07-14T09:27:50\"}, {\"id\": 1430, \"created_at\": \"2021-07-14T09:27:50.813533\", \"activity\": \"Password expired. Redirecting to update password\", \"userId\": 131, \"lastName\": \"Webb\", \"title\": \"They/Them\", \"isSuperUser\": 0, \"lastLogin\": \"2021-07-14T09:27:50\"}, {\"id\": 1431, \"created_at\": \"2021-07-14T09:28:00.435449\", \"activity\": \"Updated password\", \"userId\": 131, \"lastName\": \"Webb\", \"title\": \"They/Them\", \"isSuperUser\": 0, \"lastLogin\": \"2021-07-14T09:27:50\"}, {\"id\": 1432, \"created_at\": \"2021-07-14T09:28:15.573492\", \"activity\": \"No course selected. Navigating to course selection\", \"userId\": 131, \"lastName\": \"Webb\", \"title\": \"They/Them\", \"isSuperUser\": 0, \"lastLogin\": \"2021-07-14T09:27:50\"}]}}, {\"actions\": false, \"mode\": \"vega-lite\"});\n</script>",
      "text/plain": "alt.Chart(...)"
     },
     "metadata": {}
    }
   ]
  },
  {
   "cell_type": "markdown",
   "source": "As we can see, there are only 24 active out of the 89 users.",
   "metadata": {
    "cell_id": "7322947473ce4bd7b0a98a38332e327f",
    "tags": [],
    "deepnote_cell_type": "markdown",
    "deepnote_cell_height": 52.390625
   }
  },
  {
   "cell_type": "code",
   "metadata": {
    "cell_id": "fa80b6130fb0476c918af7aed49071d7",
    "tags": [],
    "deepnote_to_be_reexecuted": false,
    "source_hash": "9b3d5725",
    "execution_start": 1652907670950,
    "execution_millis": 4,
    "deepnote_table_state": {
     "pageSize": 10,
     "pageIndex": 0,
     "filters": [],
     "sortBy": []
    },
    "deepnote_table_loading": false,
    "deepnote_cell_type": "code",
    "deepnote_cell_height": 81
   },
   "source": "involvement = df5",
   "execution_count": 21,
   "outputs": []
  },
  {
   "cell_type": "code",
   "source": "involvement.userId.unique()",
   "metadata": {
    "cell_id": "3b936ee9705c4875a694a4e8e8fbcb62",
    "tags": [],
    "deepnote_to_be_reexecuted": false,
    "source_hash": "d18d7bf9",
    "execution_start": 1652907670971,
    "execution_millis": 6,
    "deepnote_cell_type": "code",
    "deepnote_cell_height": 137.375,
    "deepnote_output_heights": [
     40.390625
    ]
   },
   "outputs": [
    {
     "output_type": "execute_result",
     "execution_count": 22,
     "data": {
      "text/plain": "array([106,   3,   2, 111,  67, 105,   1,  69,  91, 110,  85, 114,  66,\n        86, 120, 121, 122, 123, 124, 125, 127, 128, 129, 130,  54, 131])"
     },
     "metadata": {}
    }
   ],
   "execution_count": 22
  },
  {
   "cell_type": "code",
   "metadata": {
    "cell_id": "27d89cb7acea43c985dbc79f6942b04e",
    "tags": [],
    "deepnote_to_be_reexecuted": false,
    "source_hash": "c74889be",
    "execution_start": 1652907670985,
    "execution_millis": 72,
    "deepnote_cell_type": "code",
    "deepnote_cell_height": 135
   },
   "source": "courses = pd.read_csv('courses.csv')\ninstructors = pd.read_csv('courses_instructors.csv')\nlead_instructors = pd.read_csv('courses_lead_instructors.csv')\nlearners = pd.read_csv('learners.csv')",
   "execution_count": 23,
   "outputs": []
  },
  {
   "cell_type": "code",
   "metadata": {
    "cell_id": "6288f493a663492194c462c868c347e3",
    "tags": [],
    "deepnote_to_be_reexecuted": false,
    "source_hash": "b27add54",
    "execution_start": 1652907671073,
    "execution_millis": 107,
    "deepnote_table_state": {
     "pageSize": 10,
     "pageIndex": 1,
     "filters": [],
     "sortBy": []
    },
    "deepnote_table_loading": false,
    "deepnote_cell_type": "code",
    "deepnote_cell_height": 244.59375
   },
   "source": "courses",
   "execution_count": 24,
   "outputs": [
    {
     "output_type": "execute_result",
     "execution_count": 24,
     "data": {
      "application/vnd.deepnote.dataframe.v3+json": {
       "column_count": 19,
       "row_count": 11,
       "columns": [
        {
         "name": "id",
         "dtype": "int64",
         "stats": {
          "unique_count": 11,
          "nan_count": 0,
          "min": "1",
          "max": "12",
          "histogram": [
           {
            "bin_start": 1,
            "bin_end": 2.1,
            "count": 2
           },
           {
            "bin_start": 2.1,
            "bin_end": 3.2,
            "count": 1
           },
           {
            "bin_start": 3.2,
            "bin_end": 4.300000000000001,
            "count": 0
           },
           {
            "bin_start": 4.300000000000001,
            "bin_end": 5.4,
            "count": 1
           },
           {
            "bin_start": 5.4,
            "bin_end": 6.5,
            "count": 1
           },
           {
            "bin_start": 6.5,
            "bin_end": 7.6000000000000005,
            "count": 1
           },
           {
            "bin_start": 7.6000000000000005,
            "bin_end": 8.700000000000001,
            "count": 1
           },
           {
            "bin_start": 8.700000000000001,
            "bin_end": 9.8,
            "count": 1
           },
           {
            "bin_start": 9.8,
            "bin_end": 10.9,
            "count": 1
           },
           {
            "bin_start": 10.9,
            "bin_end": 12,
            "count": 2
           }
          ]
         }
        },
        {
         "name": "created_at",
         "dtype": "object",
         "stats": {
          "unique_count": 9,
          "nan_count": 0,
          "categories": [
           {
            "name": "2020-07-16 21:34:52.530700",
            "count": 3
           },
           {
            "name": "2020-07-16 21:34:49.396430",
            "count": 1
           },
           {
            "name": "7 others",
            "count": 7
           }
          ]
         }
        },
        {
         "name": "updated_at",
         "dtype": "object",
         "stats": {
          "unique_count": 11,
          "nan_count": 0,
          "categories": [
           {
            "name": "2021-07-15 18:35:38.968820",
            "count": 1
           },
           {
            "name": "2021-07-15 18:35:37.204083",
            "count": 1
           },
           {
            "name": "9 others",
            "count": 9
           }
          ]
         }
        },
        {
         "name": "name",
         "dtype": "object",
         "stats": {
          "unique_count": 10,
          "nan_count": 0,
          "categories": [
           {
            "name": "Intro to Web Dev",
            "count": 2
           },
           {
            "name": "Workings of the Web",
            "count": 1
           },
           {
            "name": "8 others",
            "count": 8
           }
          ]
         }
        },
        {
         "name": "description",
         "dtype": "object",
         "stats": {
          "unique_count": 11,
          "nan_count": 0,
          "categories": [
           {
            "name": "<p>Project Function is proud to bring you this grand opportunity to come learn with us!</p><p>In our inaugural course, Workings of The Web, we'll be building your knowledge from the ground up, practicing Front End Web Development, User Interface (UI) / User Experience (UX) and Backend Web Development. Each lesson is beginner-oriented, yes, but we are more than willing to help you get to a standard where you're confident with (and proud of!) your newly-acquired skills, whether you wish to pursue a career in Tech or not.</p><p>Classes with be held once a week, every Tuesday at Unidays (NG7 1FB), with the course lasting 3 months.</p><p><iframe width=\"100%\" height=\"500px\" id=\"gmap_canvas\" src=\"https://maps.google.com/maps?q=Unidays%20Nottingham&amp;t=&amp;z=17&amp;ie=UTF8&amp;iwloc=&amp;output=embed\" frameborder=\"0\" scrolling=\"no\" marginheight=\"0\" marginwidth=\"0\"></iframe></p><p><br></p><p>Enrol onto this course (by clicking on the button on the top right corner of your screen) to stay notified of any changes made to this course, to access member-only resources and sessions.</p>",
            "count": 1
           },
           {
            "name": "<p>Getting a handle on the concepts and jargon surrounding web development and website creation can be a full-time job in and of itself, especially when you are doing it alone. How do you start? Where do you begin? Should you be using Javascript or jQuery?</p><p>We've designed this course to cover the basics of web development; from structuring your web pages using HTML, to styling them using CSS. In addition, you will be introduced to programming fundamentals by having a look at one of the building blocks of web pages; JavaScript. Instead of watching countless videos, and ending up wondering how to translate those videos into code, you will be guided through the process, and applying what you learn through interactive tasks and challenges throughout each session.</p><p>Classes will start on June 10, and be held once a week, every Tuesday at Nottingham Trent University's City Campus for 6 weeks. By the end of the course, you will be comfortable enough to develop a fully functional static website, a todo-list web application, as well as custom JavaScript components.<br></p><p><iframe width=\"100%\" height=\"500px\" id=\"gmap_canvas\" src=\"https://www.google.com/maps/embed?pb=!1m18!1m12!1m3!1d600.8837437410137!2d-1.1535251707510796!3d52.9567899987437!2m3!1f0!2f0!3f0!3m2!1i1024!2i768!4f13.1!3m3!1m2!1s0x0%3A0x0!2zNTLCsDU3JzI0LjQiTiAxwrAwOScxMC43Ilc!5e0!3m2!1sen!2suk!4v1553111240584\" frameborder=\"0\" scrolling=\"no\" marginheight=\"0\" marginwidth=\"0\"></iframe></p><p>Places are limited! So apply now to secure your place&nbsp;</p><p>[SIGN UP CLOSED]</p>",
            "count": 1
           },
           {
            "name": "9 others",
            "count": 9
           }
          ]
         }
        },
        {
         "name": "physicalAddress",
         "dtype": "object",
         "stats": {
          "unique_count": 2,
          "nan_count": 9,
          "categories": [
           {
            "name": "TBC",
            "count": 1
           },
           {
            "name": "Nonsuch Studios, 92 Lower Parliament St, Nottingham, NG1 1EH",
            "count": 1
           },
           {
            "name": "Missing",
            "count": 9
           }
          ]
         }
        },
        {
         "name": "imageURL",
         "dtype": "object",
         "stats": {
          "unique_count": 1,
          "nan_count": 0,
          "categories": [
           {
            "name": "[[REDACTED]]",
            "count": 11
           }
          ]
         }
        },
        {
         "name": "shortCode",
         "dtype": "object",
         "stats": {
          "unique_count": 11,
          "nan_count": 0,
          "categories": [
           {
            "name": "Kvl0SMynsJtD",
            "count": 1
           },
           {
            "name": "fJ3LSIfr7ii2",
            "count": 1
           },
           {
            "name": "9 others",
            "count": 9
           }
          ]
         }
        },
        {
         "name": "capacity",
         "dtype": "int64",
         "stats": {
          "unique_count": 8,
          "nan_count": 0,
          "min": "0",
          "max": "45",
          "histogram": [
           {
            "bin_start": 0,
            "bin_end": 4.5,
            "count": 1
           },
           {
            "bin_start": 4.5,
            "bin_end": 9,
            "count": 0
           },
           {
            "bin_start": 9,
            "bin_end": 13.5,
            "count": 2
           },
           {
            "bin_start": 13.5,
            "bin_end": 18,
            "count": 1
           },
           {
            "bin_start": 18,
            "bin_end": 22.5,
            "count": 2
           },
           {
            "bin_start": 22.5,
            "bin_end": 27,
            "count": 3
           },
           {
            "bin_start": 27,
            "bin_end": 31.5,
            "count": 1
           },
           {
            "bin_start": 31.5,
            "bin_end": 36,
            "count": 0
           },
           {
            "bin_start": 36,
            "bin_end": 40.5,
            "count": 0
           },
           {
            "bin_start": 40.5,
            "bin_end": 45,
            "count": 1
           }
          ]
         }
        },
        {
         "name": "sessionCount",
         "dtype": "int64",
         "stats": {
          "unique_count": 4,
          "nan_count": 0,
          "min": "1",
          "max": "9",
          "histogram": [
           {
            "bin_start": 1,
            "bin_end": 1.8,
            "count": 2
           },
           {
            "bin_start": 1.8,
            "bin_end": 2.6,
            "count": 0
           },
           {
            "bin_start": 2.6,
            "bin_end": 3.4000000000000004,
            "count": 0
           },
           {
            "bin_start": 3.4000000000000004,
            "bin_end": 4.2,
            "count": 0
           },
           {
            "bin_start": 4.2,
            "bin_end": 5,
            "count": 0
           },
           {
            "bin_start": 5,
            "bin_end": 5.800000000000001,
            "count": 1
           },
           {
            "bin_start": 5.800000000000001,
            "bin_end": 6.6000000000000005,
            "count": 2
           },
           {
            "bin_start": 6.6000000000000005,
            "bin_end": 7.4,
            "count": 0
           },
           {
            "bin_start": 7.4,
            "bin_end": 8.2,
            "count": 0
           },
           {
            "bin_start": 8.2,
            "bin_end": 9,
            "count": 6
           }
          ]
         }
        },
        {
         "name": "isSignUpOpen",
         "dtype": "int64",
         "stats": {
          "unique_count": 2,
          "nan_count": 0,
          "min": "0",
          "max": "1",
          "histogram": [
           {
            "bin_start": 0,
            "bin_end": 0.1,
            "count": 7
           },
           {
            "bin_start": 0.1,
            "bin_end": 0.2,
            "count": 0
           },
           {
            "bin_start": 0.2,
            "bin_end": 0.30000000000000004,
            "count": 0
           },
           {
            "bin_start": 0.30000000000000004,
            "bin_end": 0.4,
            "count": 0
           },
           {
            "bin_start": 0.4,
            "bin_end": 0.5,
            "count": 0
           },
           {
            "bin_start": 0.5,
            "bin_end": 0.6000000000000001,
            "count": 0
           },
           {
            "bin_start": 0.6000000000000001,
            "bin_end": 0.7000000000000001,
            "count": 0
           },
           {
            "bin_start": 0.7000000000000001,
            "bin_end": 0.8,
            "count": 0
           },
           {
            "bin_start": 0.8,
            "bin_end": 0.9,
            "count": 0
           },
           {
            "bin_start": 0.9,
            "bin_end": 1,
            "count": 4
           }
          ]
         }
        },
        {
         "name": "startDate",
         "dtype": "object",
         "stats": {
          "unique_count": 11,
          "nan_count": 0,
          "categories": [
           {
            "name": "2019-01-22 03:37:52",
            "count": 1
           },
           {
            "name": "2019-06-10 19:35:45",
            "count": 1
           },
           {
            "name": "9 others",
            "count": 9
           }
          ]
         }
        },
        {
         "name": "endDate",
         "dtype": "object",
         "stats": {
          "unique_count": 11,
          "nan_count": 0,
          "categories": [
           {
            "name": "2019-03-26 03:31:58",
            "count": 1
           },
           {
            "name": "2019-06-04 19:35:45",
            "count": 1
           },
           {
            "name": "9 others",
            "count": 9
           }
          ]
         }
        },
        {
         "name": "acceptSignups",
         "dtype": "int64",
         "stats": {
          "unique_count": 2,
          "nan_count": 0,
          "min": "0",
          "max": "1",
          "histogram": [
           {
            "bin_start": 0,
            "bin_end": 0.1,
            "count": 3
           },
           {
            "bin_start": 0.1,
            "bin_end": 0.2,
            "count": 0
           },
           {
            "bin_start": 0.2,
            "bin_end": 0.30000000000000004,
            "count": 0
           },
           {
            "bin_start": 0.30000000000000004,
            "bin_end": 0.4,
            "count": 0
           },
           {
            "bin_start": 0.4,
            "bin_end": 0.5,
            "count": 0
           },
           {
            "bin_start": 0.5,
            "bin_end": 0.6000000000000001,
            "count": 0
           },
           {
            "bin_start": 0.6000000000000001,
            "bin_end": 0.7000000000000001,
            "count": 0
           },
           {
            "bin_start": 0.7000000000000001,
            "bin_end": 0.8,
            "count": 0
           },
           {
            "bin_start": 0.8,
            "bin_end": 0.9,
            "count": 0
           },
           {
            "bin_start": 0.9,
            "bin_end": 1,
            "count": 8
           }
          ]
         }
        },
        {
         "name": "webAddress",
         "dtype": "object",
         "stats": {
          "unique_count": 1,
          "nan_count": 10,
          "categories": [
           {
            "name": "[[REDACTED]]",
            "count": 1
           },
           {
            "name": "Missing",
            "count": 10
           }
          ]
         }
        },
        {
         "name": "isOnline",
         "dtype": "int64",
         "stats": {
          "unique_count": 2,
          "nan_count": 0,
          "min": "0",
          "max": "1",
          "histogram": [
           {
            "bin_start": 0,
            "bin_end": 0.1,
            "count": 7
           },
           {
            "bin_start": 0.1,
            "bin_end": 0.2,
            "count": 0
           },
           {
            "bin_start": 0.2,
            "bin_end": 0.30000000000000004,
            "count": 0
           },
           {
            "bin_start": 0.30000000000000004,
            "bin_end": 0.4,
            "count": 0
           },
           {
            "bin_start": 0.4,
            "bin_end": 0.5,
            "count": 0
           },
           {
            "bin_start": 0.5,
            "bin_end": 0.6000000000000001,
            "count": 0
           },
           {
            "bin_start": 0.6000000000000001,
            "bin_end": 0.7000000000000001,
            "count": 0
           },
           {
            "bin_start": 0.7000000000000001,
            "bin_end": 0.8,
            "count": 0
           },
           {
            "bin_start": 0.8,
            "bin_end": 0.9,
            "count": 0
           },
           {
            "bin_start": 0.9,
            "bin_end": 1,
            "count": 4
           }
          ]
         }
        },
        {
         "name": "isPublic",
         "dtype": "int64",
         "stats": {
          "unique_count": 2,
          "nan_count": 0,
          "min": "0",
          "max": "1",
          "histogram": [
           {
            "bin_start": 0,
            "bin_end": 0.1,
            "count": 1
           },
           {
            "bin_start": 0.1,
            "bin_end": 0.2,
            "count": 0
           },
           {
            "bin_start": 0.2,
            "bin_end": 0.30000000000000004,
            "count": 0
           },
           {
            "bin_start": 0.30000000000000004,
            "bin_end": 0.4,
            "count": 0
           },
           {
            "bin_start": 0.4,
            "bin_end": 0.5,
            "count": 0
           },
           {
            "bin_start": 0.5,
            "bin_end": 0.6000000000000001,
            "count": 0
           },
           {
            "bin_start": 0.6000000000000001,
            "bin_end": 0.7000000000000001,
            "count": 0
           },
           {
            "bin_start": 0.7000000000000001,
            "bin_end": 0.8,
            "count": 0
           },
           {
            "bin_start": 0.8,
            "bin_end": 0.9,
            "count": 0
           },
           {
            "bin_start": 0.9,
            "bin_end": 1,
            "count": 10
           }
          ]
         }
        },
        {
         "name": "categories",
         "dtype": "object",
         "stats": {
          "unique_count": 7,
          "nan_count": 1,
          "categories": [
           {
            "name": "Web Dev,FrontEnd",
            "count": 3
           },
           {
            "name": "6 others",
            "count": 7
           },
           {
            "name": "Missing",
            "count": 1
           }
          ]
         }
        },
        {
         "name": "signupURL",
         "dtype": "object",
         "stats": {
          "unique_count": 1,
          "nan_count": 10,
          "categories": [
           {
            "name": "[[REDACTED]]",
            "count": 1
           },
           {
            "name": "Missing",
            "count": 10
           }
          ]
         }
        },
        {
         "name": "_deepnote_index_column",
         "dtype": "int64"
        }
       ],
       "rows": [
        {
         "id": 12,
         "created_at": "2021-11-09 17:42:33.000000",
         "updated_at": "2022-04-20 10:48:50.472200",
         "name": "Intro to Web Dev",
         "description": "<p>Getting a handle on the concepts and jargon surrounding web development and website creation can be a full-time job in and of itself, especially when you are doing it alone. How do you start? Where do you begin? Should you be using Javascript or React?</p><p>We've designed this course to cover the basics of web development; from structuring your web pages using HTML, to styling them using CSS. In addition, you will be introduced to programming fundamentals by having a look at one of the building blocks of web pages; JavaScript. Instead of watching countless videos, and ending up wondering how to translate those videos into code, you will be guided through the process, and applying what you learn through interactive tasks and challenges throughout each session.</p>\n\n<h4 class=\"clean-para\" style=\"font-size: 1.4em; color:  var(--lm-black4-white3);\">Breakdown</h4>\n\n<p style=\"margin-bottom: 0; letter-spacing: 1px; font-size: medium;\">Week 1:</p>\n<ul class=\"clean-para\" style=\"margin-top:…",
         "physicalAddress": "Nonsuch Studios, 92 Lower Parliament St, Nottingham, NG1 1EH",
         "imageURL": "[[REDACTED]]",
         "shortCode": "wdb22022ts40",
         "capacity": 15,
         "sessionCount": 9,
         "isSignUpOpen": 1,
         "startDate": "2022-04-12 19:00:00",
         "endDate": "2022-06-14 21:00:00",
         "acceptSignups": 0,
         "webAddress": "nan",
         "isOnline": 0,
         "isPublic": 1,
         "categories": "Web Dev,FrontEnd,Beginner",
         "signupURL": "[[REDACTED]]",
         "_deepnote_index_column": 10
        }
       ]
      },
      "text/plain": "    id                  created_at                  updated_at  \\\n0    1  2020-07-16 21:34:49.396430  2021-07-15 18:35:38.968820   \n1    2  2020-07-16 21:34:50.218066  2021-07-15 18:35:37.204083   \n2    3  2020-07-16 21:34:52.530700  2021-07-14 18:00:40.611647   \n3    5  2021-01-06 00:18:40.000000  2021-07-14 18:00:57.955134   \n4    6  2020-07-16 21:34:52.530700  2021-07-15 18:36:20.707914   \n5    7  2020-07-16 21:34:52.530700  2021-07-15 18:38:40.376688   \n6    8  2021-04-12 19:10:11.000000  2022-02-24 14:30:16.281625   \n7    9  2021-06-05 15:22:53.000000  2021-07-15 21:00:50.678370   \n8   10  2021-06-05 16:11:36.000000  2021-07-15 18:35:44.543387   \n9   11  2021-07-12 17:54:27.000000  2021-07-29 20:10:04.464966   \n10  12  2021-11-09 17:42:33.000000  2022-04-20 10:48:50.472200   \n\n                            name  \\\n0            Workings of the Web   \n1           Web Dev from Scratch   \n2               Intro to Web Dev   \n3   Intro to Game Dev with Unity   \n4         Front End Fundamentals   \n5               Intro into VueJS   \n6               Intro to Next.js   \n7       Programming Fundamentals   \n8                   TestCourse32   \n9          Intro to .NET with C#   \n10              Intro to Web Dev   \n\n                                          description  \\\n0   <p>Project Function is proud to bring you this...   \n1   <p>Getting a handle on the concepts and jargon...   \n2   <p><span style=\"font-size: medium; letter-spac...   \n3   <p>Hey you! Do you like games? Do you like lea...   \n4   <p><span style=\"font-size: medium; letter-spac...   \n5   <p><span style=\"font-size: medium; letter-spac...   \n6   <p><span style=\"font-size: medium; letter-spac...   \n7   <p><span style=\"font-size: medium; letter-spac...   \n8                                Ignore - Test Course   \n9   <p><span style=\"font-size: medium; letter-spac...   \n10  <p>Getting a handle on the concepts and jargon...   \n\n                                      physicalAddress      imageURL  \\\n0                                                 NaN  [[REDACTED]]   \n1                                                 NaN  [[REDACTED]]   \n2                                                 NaN  [[REDACTED]]   \n3                                                 NaN  [[REDACTED]]   \n4                                                 NaN  [[REDACTED]]   \n5                                                 NaN  [[REDACTED]]   \n6                                                 TBC  [[REDACTED]]   \n7                                                 NaN  [[REDACTED]]   \n8                                                 NaN  [[REDACTED]]   \n9                                                 NaN  [[REDACTED]]   \n10  Nonsuch Studios, 92 Lower Parliament St, Notti...  [[REDACTED]]   \n\n       shortCode  capacity  sessionCount  isSignUpOpen            startDate  \\\n0   Kvl0SMynsJtD        20             6             0  2019-01-22 03:37:52   \n1   fJ3LSIfr7ii2        28             6             0  2019-06-10 19:35:45   \n2   BqAGbp2lEUzi        45             9             0  2019-11-05 12:36:31   \n3   rrtGJAd2ae1e        25             9             1  2021-03-02 00:00:00   \n4   k2D3c21UUzy6        25             9             0  2021-06-01 00:36:31   \n5   jH56xi8AbUy2        12             5             1  2021-10-19 00:36:31   \n6   nx22jKL0le11        20             9             0  2022-05-12 19:00:00   \n7   wdjs2021ts40        25             1             1  2021-07-03 10:00:00   \n8   af33gt1sa4zY         9             1             0  2020-02-02 02:02:02   \n9   wdN2021jmeW6         0             9             0  2021-08-03 19:00:00   \n10  wdb22022ts40        15             9             1  2022-04-12 19:00:00   \n\n                endDate  acceptSignups    webAddress  isOnline  isPublic  \\\n0   2019-03-26 03:31:58              1           NaN         0         1   \n1   2019-06-04 19:35:45              1           NaN         0         1   \n2   2020-02-04 12:36:31              1           NaN         0         1   \n3   2021-04-27 00:00:00              1  [[REDACTED]]         1         1   \n4   2021-08-03 21:30:00              1           NaN         0         1   \n5   2021-12-14 21:30:00              1           NaN         1         1   \n6   2022-07-30 19:00:00              1           NaN         0         1   \n7   2021-07-03 17:00:00              1           NaN         1         1   \n8   2020-02-02 20:20:20              0           NaN         0         0   \n9   2021-09-28 21:00:00              0           NaN         1         1   \n10  2022-06-14 21:00:00              0           NaN         0         1   \n\n                   categories     signupURL  \n0          Web Dev,Full-stack           NaN  \n1                     Web Dev           NaN  \n2                     Web Dev           NaN  \n3                    Game Dev           NaN  \n4            Web Dev,FrontEnd           NaN  \n5            Web Dev,FrontEnd           NaN  \n6            Web Dev,FrontEnd           NaN  \n7           Beginner, Web Dev           NaN  \n8                         NaN           NaN  \n9      Web Dev, BackEnd, .NET           NaN  \n10  Web Dev,FrontEnd,Beginner  [[REDACTED]]  ",
      "text/html": "<div>\n<style scoped>\n    .dataframe tbody tr th:only-of-type {\n        vertical-align: middle;\n    }\n\n    .dataframe tbody tr th {\n        vertical-align: top;\n    }\n\n    .dataframe thead th {\n        text-align: right;\n    }\n</style>\n<table border=\"1\" class=\"dataframe\">\n  <thead>\n    <tr style=\"text-align: right;\">\n      <th></th>\n      <th>id</th>\n      <th>created_at</th>\n      <th>updated_at</th>\n      <th>name</th>\n      <th>description</th>\n      <th>physicalAddress</th>\n      <th>imageURL</th>\n      <th>shortCode</th>\n      <th>capacity</th>\n      <th>sessionCount</th>\n      <th>isSignUpOpen</th>\n      <th>startDate</th>\n      <th>endDate</th>\n      <th>acceptSignups</th>\n      <th>webAddress</th>\n      <th>isOnline</th>\n      <th>isPublic</th>\n      <th>categories</th>\n      <th>signupURL</th>\n    </tr>\n  </thead>\n  <tbody>\n    <tr>\n      <th>0</th>\n      <td>1</td>\n      <td>2020-07-16 21:34:49.396430</td>\n      <td>2021-07-15 18:35:38.968820</td>\n      <td>Workings of the Web</td>\n      <td>&lt;p&gt;Project Function is proud to bring you this...</td>\n      <td>NaN</td>\n      <td>[[REDACTED]]</td>\n      <td>Kvl0SMynsJtD</td>\n      <td>20</td>\n      <td>6</td>\n      <td>0</td>\n      <td>2019-01-22 03:37:52</td>\n      <td>2019-03-26 03:31:58</td>\n      <td>1</td>\n      <td>NaN</td>\n      <td>0</td>\n      <td>1</td>\n      <td>Web Dev,Full-stack</td>\n      <td>NaN</td>\n    </tr>\n    <tr>\n      <th>1</th>\n      <td>2</td>\n      <td>2020-07-16 21:34:50.218066</td>\n      <td>2021-07-15 18:35:37.204083</td>\n      <td>Web Dev from Scratch</td>\n      <td>&lt;p&gt;Getting a handle on the concepts and jargon...</td>\n      <td>NaN</td>\n      <td>[[REDACTED]]</td>\n      <td>fJ3LSIfr7ii2</td>\n      <td>28</td>\n      <td>6</td>\n      <td>0</td>\n      <td>2019-06-10 19:35:45</td>\n      <td>2019-06-04 19:35:45</td>\n      <td>1</td>\n      <td>NaN</td>\n      <td>0</td>\n      <td>1</td>\n      <td>Web Dev</td>\n      <td>NaN</td>\n    </tr>\n    <tr>\n      <th>2</th>\n      <td>3</td>\n      <td>2020-07-16 21:34:52.530700</td>\n      <td>2021-07-14 18:00:40.611647</td>\n      <td>Intro to Web Dev</td>\n      <td>&lt;p&gt;&lt;span style=\"font-size: medium; letter-spac...</td>\n      <td>NaN</td>\n      <td>[[REDACTED]]</td>\n      <td>BqAGbp2lEUzi</td>\n      <td>45</td>\n      <td>9</td>\n      <td>0</td>\n      <td>2019-11-05 12:36:31</td>\n      <td>2020-02-04 12:36:31</td>\n      <td>1</td>\n      <td>NaN</td>\n      <td>0</td>\n      <td>1</td>\n      <td>Web Dev</td>\n      <td>NaN</td>\n    </tr>\n    <tr>\n      <th>3</th>\n      <td>5</td>\n      <td>2021-01-06 00:18:40.000000</td>\n      <td>2021-07-14 18:00:57.955134</td>\n      <td>Intro to Game Dev with Unity</td>\n      <td>&lt;p&gt;Hey you! Do you like games? Do you like lea...</td>\n      <td>NaN</td>\n      <td>[[REDACTED]]</td>\n      <td>rrtGJAd2ae1e</td>\n      <td>25</td>\n      <td>9</td>\n      <td>1</td>\n      <td>2021-03-02 00:00:00</td>\n      <td>2021-04-27 00:00:00</td>\n      <td>1</td>\n      <td>[[REDACTED]]</td>\n      <td>1</td>\n      <td>1</td>\n      <td>Game Dev</td>\n      <td>NaN</td>\n    </tr>\n    <tr>\n      <th>4</th>\n      <td>6</td>\n      <td>2020-07-16 21:34:52.530700</td>\n      <td>2021-07-15 18:36:20.707914</td>\n      <td>Front End Fundamentals</td>\n      <td>&lt;p&gt;&lt;span style=\"font-size: medium; letter-spac...</td>\n      <td>NaN</td>\n      <td>[[REDACTED]]</td>\n      <td>k2D3c21UUzy6</td>\n      <td>25</td>\n      <td>9</td>\n      <td>0</td>\n      <td>2021-06-01 00:36:31</td>\n      <td>2021-08-03 21:30:00</td>\n      <td>1</td>\n      <td>NaN</td>\n      <td>0</td>\n      <td>1</td>\n      <td>Web Dev,FrontEnd</td>\n      <td>NaN</td>\n    </tr>\n    <tr>\n      <th>5</th>\n      <td>7</td>\n      <td>2020-07-16 21:34:52.530700</td>\n      <td>2021-07-15 18:38:40.376688</td>\n      <td>Intro into VueJS</td>\n      <td>&lt;p&gt;&lt;span style=\"font-size: medium; letter-spac...</td>\n      <td>NaN</td>\n      <td>[[REDACTED]]</td>\n      <td>jH56xi8AbUy2</td>\n      <td>12</td>\n      <td>5</td>\n      <td>1</td>\n      <td>2021-10-19 00:36:31</td>\n      <td>2021-12-14 21:30:00</td>\n      <td>1</td>\n      <td>NaN</td>\n      <td>1</td>\n      <td>1</td>\n      <td>Web Dev,FrontEnd</td>\n      <td>NaN</td>\n    </tr>\n    <tr>\n      <th>6</th>\n      <td>8</td>\n      <td>2021-04-12 19:10:11.000000</td>\n      <td>2022-02-24 14:30:16.281625</td>\n      <td>Intro to Next.js</td>\n      <td>&lt;p&gt;&lt;span style=\"font-size: medium; letter-spac...</td>\n      <td>TBC</td>\n      <td>[[REDACTED]]</td>\n      <td>nx22jKL0le11</td>\n      <td>20</td>\n      <td>9</td>\n      <td>0</td>\n      <td>2022-05-12 19:00:00</td>\n      <td>2022-07-30 19:00:00</td>\n      <td>1</td>\n      <td>NaN</td>\n      <td>0</td>\n      <td>1</td>\n      <td>Web Dev,FrontEnd</td>\n      <td>NaN</td>\n    </tr>\n    <tr>\n      <th>7</th>\n      <td>9</td>\n      <td>2021-06-05 15:22:53.000000</td>\n      <td>2021-07-15 21:00:50.678370</td>\n      <td>Programming Fundamentals</td>\n      <td>&lt;p&gt;&lt;span style=\"font-size: medium; letter-spac...</td>\n      <td>NaN</td>\n      <td>[[REDACTED]]</td>\n      <td>wdjs2021ts40</td>\n      <td>25</td>\n      <td>1</td>\n      <td>1</td>\n      <td>2021-07-03 10:00:00</td>\n      <td>2021-07-03 17:00:00</td>\n      <td>1</td>\n      <td>NaN</td>\n      <td>1</td>\n      <td>1</td>\n      <td>Beginner, Web Dev</td>\n      <td>NaN</td>\n    </tr>\n    <tr>\n      <th>8</th>\n      <td>10</td>\n      <td>2021-06-05 16:11:36.000000</td>\n      <td>2021-07-15 18:35:44.543387</td>\n      <td>TestCourse32</td>\n      <td>Ignore - Test Course</td>\n      <td>NaN</td>\n      <td>[[REDACTED]]</td>\n      <td>af33gt1sa4zY</td>\n      <td>9</td>\n      <td>1</td>\n      <td>0</td>\n      <td>2020-02-02 02:02:02</td>\n      <td>2020-02-02 20:20:20</td>\n      <td>0</td>\n      <td>NaN</td>\n      <td>0</td>\n      <td>0</td>\n      <td>NaN</td>\n      <td>NaN</td>\n    </tr>\n    <tr>\n      <th>9</th>\n      <td>11</td>\n      <td>2021-07-12 17:54:27.000000</td>\n      <td>2021-07-29 20:10:04.464966</td>\n      <td>Intro to .NET with C#</td>\n      <td>&lt;p&gt;&lt;span style=\"font-size: medium; letter-spac...</td>\n      <td>NaN</td>\n      <td>[[REDACTED]]</td>\n      <td>wdN2021jmeW6</td>\n      <td>0</td>\n      <td>9</td>\n      <td>0</td>\n      <td>2021-08-03 19:00:00</td>\n      <td>2021-09-28 21:00:00</td>\n      <td>0</td>\n      <td>NaN</td>\n      <td>1</td>\n      <td>1</td>\n      <td>Web Dev, BackEnd, .NET</td>\n      <td>NaN</td>\n    </tr>\n    <tr>\n      <th>10</th>\n      <td>12</td>\n      <td>2021-11-09 17:42:33.000000</td>\n      <td>2022-04-20 10:48:50.472200</td>\n      <td>Intro to Web Dev</td>\n      <td>&lt;p&gt;Getting a handle on the concepts and jargon...</td>\n      <td>Nonsuch Studios, 92 Lower Parliament St, Notti...</td>\n      <td>[[REDACTED]]</td>\n      <td>wdb22022ts40</td>\n      <td>15</td>\n      <td>9</td>\n      <td>1</td>\n      <td>2022-04-12 19:00:00</td>\n      <td>2022-06-14 21:00:00</td>\n      <td>0</td>\n      <td>NaN</td>\n      <td>0</td>\n      <td>1</td>\n      <td>Web Dev,FrontEnd,Beginner</td>\n      <td>[[REDACTED]]</td>\n    </tr>\n  </tbody>\n</table>\n</div>"
     },
     "metadata": {}
    }
   ]
  },
  {
   "cell_type": "code",
   "metadata": {
    "cell_id": "6ff00b35f0b840a9b56230cc6f47627a",
    "tags": [],
    "deepnote_to_be_reexecuted": false,
    "source_hash": "49da7b06",
    "execution_start": 1652907671184,
    "execution_millis": 3066077,
    "deepnote_cell_type": "code",
    "deepnote_cell_height": 81
   },
   "source": "courses = courses.drop(columns=['created_at', 'updated_at', 'physicalAddress', 'description', 'imageURL', 'shortCode', 'capacity', 'isSignUpOpen', 'acceptSignups', 'webAddress', 'signupURL'])",
   "execution_count": 25,
   "outputs": []
  },
  {
   "cell_type": "code",
   "metadata": {
    "cell_id": "462377d55e4c40038d6c29e2823aeafb",
    "tags": [],
    "deepnote_to_be_reexecuted": false,
    "source_hash": "af69ba34",
    "execution_start": 1652907671240,
    "execution_millis": 3066095,
    "deepnote_cell_type": "code",
    "deepnote_cell_height": 81
   },
   "source": "courses.columns = courses.columns.str.replace('id', 'coursesId')",
   "execution_count": 26,
   "outputs": []
  },
  {
   "cell_type": "code",
   "metadata": {
    "cell_id": "655e5c777cd54b74b2ce9b3098db5d15",
    "tags": [],
    "deepnote_to_be_reexecuted": false,
    "source_hash": "f6bb70f1",
    "execution_start": 1652907671241,
    "execution_millis": 25,
    "deepnote_cell_type": "code",
    "deepnote_cell_height": 600
   },
   "source": "instructors",
   "execution_count": 27,
   "outputs": [
    {
     "output_type": "execute_result",
     "execution_count": 27,
     "data": {
      "application/vnd.deepnote.dataframe.v3+json": {
       "column_count": 2,
       "row_count": 16,
       "columns": [
        {
         "name": "coursesId",
         "dtype": "int64",
         "stats": {
          "unique_count": 10,
          "nan_count": 0,
          "min": "1",
          "max": "12",
          "histogram": [
           {
            "bin_start": 1,
            "bin_end": 2.1,
            "count": 4
           },
           {
            "bin_start": 2.1,
            "bin_end": 3.2,
            "count": 3
           },
           {
            "bin_start": 3.2,
            "bin_end": 4.300000000000001,
            "count": 0
           },
           {
            "bin_start": 4.300000000000001,
            "bin_end": 5.4,
            "count": 3
           },
           {
            "bin_start": 5.4,
            "bin_end": 6.5,
            "count": 1
           },
           {
            "bin_start": 6.5,
            "bin_end": 7.6000000000000005,
            "count": 1
           },
           {
            "bin_start": 7.6000000000000005,
            "bin_end": 8.700000000000001,
            "count": 1
           },
           {
            "bin_start": 8.700000000000001,
            "bin_end": 9.8,
            "count": 1
           },
           {
            "bin_start": 9.8,
            "bin_end": 10.9,
            "count": 0
           },
           {
            "bin_start": 10.9,
            "bin_end": 12,
            "count": 2
           }
          ]
         }
        },
        {
         "name": "usersId",
         "dtype": "int64",
         "stats": {
          "unique_count": 8,
          "nan_count": 0,
          "min": "1",
          "max": "130",
          "histogram": [
           {
            "bin_start": 1,
            "bin_end": 13.9,
            "count": 12
           },
           {
            "bin_start": 13.9,
            "bin_end": 26.8,
            "count": 0
           },
           {
            "bin_start": 26.8,
            "bin_end": 39.7,
            "count": 0
           },
           {
            "bin_start": 39.7,
            "bin_end": 52.6,
            "count": 0
           },
           {
            "bin_start": 52.6,
            "bin_end": 65.5,
            "count": 0
           },
           {
            "bin_start": 65.5,
            "bin_end": 78.4,
            "count": 1
           },
           {
            "bin_start": 78.4,
            "bin_end": 91.3,
            "count": 0
           },
           {
            "bin_start": 91.3,
            "bin_end": 104.2,
            "count": 0
           },
           {
            "bin_start": 104.2,
            "bin_end": 117.10000000000001,
            "count": 2
           },
           {
            "bin_start": 117.10000000000001,
            "bin_end": 130,
            "count": 1
           }
          ]
         }
        },
        {
         "name": "_deepnote_index_column",
         "dtype": "int64"
        }
       ],
       "rows": [
        {
         "coursesId": 1,
         "usersId": 1,
         "_deepnote_index_column": 0
        },
        {
         "coursesId": 1,
         "usersId": 2,
         "_deepnote_index_column": 1
        },
        {
         "coursesId": 2,
         "usersId": 1,
         "_deepnote_index_column": 2
        },
        {
         "coursesId": 2,
         "usersId": 2,
         "_deepnote_index_column": 3
        },
        {
         "coursesId": 3,
         "usersId": 1,
         "_deepnote_index_column": 4
        },
        {
         "coursesId": 3,
         "usersId": 2,
         "_deepnote_index_column": 5
        },
        {
         "coursesId": 3,
         "usersId": 3,
         "_deepnote_index_column": 6
        },
        {
         "coursesId": 5,
         "usersId": 67,
         "_deepnote_index_column": 7
        },
        {
         "coursesId": 5,
         "usersId": 110,
         "_deepnote_index_column": 8
        },
        {
         "coursesId": 5,
         "usersId": 111,
         "_deepnote_index_column": 9
        }
       ]
      },
      "text/plain": "    coursesId  usersId\n0           1        1\n1           1        2\n2           2        1\n3           2        2\n4           3        1\n5           3        2\n6           3        3\n7           5       67\n8           5      110\n9           5      111\n10          6        2\n11          7        4\n12          8        1\n13          9        2\n14         11      130\n15         12        2",
      "text/html": "<div>\n<style scoped>\n    .dataframe tbody tr th:only-of-type {\n        vertical-align: middle;\n    }\n\n    .dataframe tbody tr th {\n        vertical-align: top;\n    }\n\n    .dataframe thead th {\n        text-align: right;\n    }\n</style>\n<table border=\"1\" class=\"dataframe\">\n  <thead>\n    <tr style=\"text-align: right;\">\n      <th></th>\n      <th>coursesId</th>\n      <th>usersId</th>\n    </tr>\n  </thead>\n  <tbody>\n    <tr>\n      <th>0</th>\n      <td>1</td>\n      <td>1</td>\n    </tr>\n    <tr>\n      <th>1</th>\n      <td>1</td>\n      <td>2</td>\n    </tr>\n    <tr>\n      <th>2</th>\n      <td>2</td>\n      <td>1</td>\n    </tr>\n    <tr>\n      <th>3</th>\n      <td>2</td>\n      <td>2</td>\n    </tr>\n    <tr>\n      <th>4</th>\n      <td>3</td>\n      <td>1</td>\n    </tr>\n    <tr>\n      <th>5</th>\n      <td>3</td>\n      <td>2</td>\n    </tr>\n    <tr>\n      <th>6</th>\n      <td>3</td>\n      <td>3</td>\n    </tr>\n    <tr>\n      <th>7</th>\n      <td>5</td>\n      <td>67</td>\n    </tr>\n    <tr>\n      <th>8</th>\n      <td>5</td>\n      <td>110</td>\n    </tr>\n    <tr>\n      <th>9</th>\n      <td>5</td>\n      <td>111</td>\n    </tr>\n    <tr>\n      <th>10</th>\n      <td>6</td>\n      <td>2</td>\n    </tr>\n    <tr>\n      <th>11</th>\n      <td>7</td>\n      <td>4</td>\n    </tr>\n    <tr>\n      <th>12</th>\n      <td>8</td>\n      <td>1</td>\n    </tr>\n    <tr>\n      <th>13</th>\n      <td>9</td>\n      <td>2</td>\n    </tr>\n    <tr>\n      <th>14</th>\n      <td>11</td>\n      <td>130</td>\n    </tr>\n    <tr>\n      <th>15</th>\n      <td>12</td>\n      <td>2</td>\n    </tr>\n  </tbody>\n</table>\n</div>"
     },
     "metadata": {}
    }
   ]
  },
  {
   "cell_type": "code",
   "metadata": {
    "cell_id": "03485809aefb4701a9333359eaccbcd4",
    "tags": [],
    "deepnote_to_be_reexecuted": false,
    "source_hash": "e323684b",
    "execution_start": 1652907671265,
    "execution_millis": 3066003,
    "deepnote_cell_type": "code",
    "deepnote_cell_height": 81
   },
   "source": "instructors.columns = instructors.columns.str.replace('usersId', 'userId')",
   "execution_count": 28,
   "outputs": []
  },
  {
   "cell_type": "code",
   "metadata": {
    "cell_id": "1a6ee7b80bb14051b5a8b234bf044713",
    "tags": [],
    "deepnote_to_be_reexecuted": false,
    "source_hash": "49c29676",
    "execution_start": 1652907671272,
    "execution_millis": 68,
    "deepnote_table_state": {
     "pageSize": 10,
     "pageIndex": 1,
     "filters": [],
     "sortBy": []
    },
    "deepnote_table_loading": false,
    "deepnote_cell_type": "code",
    "deepnote_cell_height": 467.59375
   },
   "source": "inst_course = instructors.merge(courses.set_index('coursesId'), on='coursesId')\ninst_course",
   "execution_count": 29,
   "outputs": [
    {
     "output_type": "execute_result",
     "execution_count": 29,
     "data": {
      "application/vnd.deepnote.dataframe.v3+json": {
       "column_count": 9,
       "row_count": 16,
       "columns": [
        {
         "name": "coursesId",
         "dtype": "int64",
         "stats": {
          "unique_count": 10,
          "nan_count": 0,
          "min": "1",
          "max": "12",
          "histogram": [
           {
            "bin_start": 1,
            "bin_end": 2.1,
            "count": 4
           },
           {
            "bin_start": 2.1,
            "bin_end": 3.2,
            "count": 3
           },
           {
            "bin_start": 3.2,
            "bin_end": 4.300000000000001,
            "count": 0
           },
           {
            "bin_start": 4.300000000000001,
            "bin_end": 5.4,
            "count": 3
           },
           {
            "bin_start": 5.4,
            "bin_end": 6.5,
            "count": 1
           },
           {
            "bin_start": 6.5,
            "bin_end": 7.6000000000000005,
            "count": 1
           },
           {
            "bin_start": 7.6000000000000005,
            "bin_end": 8.700000000000001,
            "count": 1
           },
           {
            "bin_start": 8.700000000000001,
            "bin_end": 9.8,
            "count": 1
           },
           {
            "bin_start": 9.8,
            "bin_end": 10.9,
            "count": 0
           },
           {
            "bin_start": 10.9,
            "bin_end": 12,
            "count": 2
           }
          ]
         }
        },
        {
         "name": "userId",
         "dtype": "int64",
         "stats": {
          "unique_count": 8,
          "nan_count": 0,
          "min": "1",
          "max": "130",
          "histogram": [
           {
            "bin_start": 1,
            "bin_end": 13.9,
            "count": 12
           },
           {
            "bin_start": 13.9,
            "bin_end": 26.8,
            "count": 0
           },
           {
            "bin_start": 26.8,
            "bin_end": 39.7,
            "count": 0
           },
           {
            "bin_start": 39.7,
            "bin_end": 52.6,
            "count": 0
           },
           {
            "bin_start": 52.6,
            "bin_end": 65.5,
            "count": 0
           },
           {
            "bin_start": 65.5,
            "bin_end": 78.4,
            "count": 1
           },
           {
            "bin_start": 78.4,
            "bin_end": 91.3,
            "count": 0
           },
           {
            "bin_start": 91.3,
            "bin_end": 104.2,
            "count": 0
           },
           {
            "bin_start": 104.2,
            "bin_end": 117.10000000000001,
            "count": 2
           },
           {
            "bin_start": 117.10000000000001,
            "bin_end": 130,
            "count": 1
           }
          ]
         }
        },
        {
         "name": "name",
         "dtype": "object",
         "stats": {
          "unique_count": 9,
          "nan_count": 0,
          "categories": [
           {
            "name": "Intro to Web Dev",
            "count": 4
           },
           {
            "name": "Intro to Game Dev with Unity",
            "count": 3
           },
           {
            "name": "7 others",
            "count": 9
           }
          ]
         }
        },
        {
         "name": "sessionCount",
         "dtype": "int64",
         "stats": {
          "unique_count": 4,
          "nan_count": 0,
          "min": "1",
          "max": "9",
          "histogram": [
           {
            "bin_start": 1,
            "bin_end": 1.8,
            "count": 1
           },
           {
            "bin_start": 1.8,
            "bin_end": 2.6,
            "count": 0
           },
           {
            "bin_start": 2.6,
            "bin_end": 3.4000000000000004,
            "count": 0
           },
           {
            "bin_start": 3.4000000000000004,
            "bin_end": 4.2,
            "count": 0
           },
           {
            "bin_start": 4.2,
            "bin_end": 5,
            "count": 0
           },
           {
            "bin_start": 5,
            "bin_end": 5.800000000000001,
            "count": 1
           },
           {
            "bin_start": 5.800000000000001,
            "bin_end": 6.6000000000000005,
            "count": 4
           },
           {
            "bin_start": 6.6000000000000005,
            "bin_end": 7.4,
            "count": 0
           },
           {
            "bin_start": 7.4,
            "bin_end": 8.2,
            "count": 0
           },
           {
            "bin_start": 8.2,
            "bin_end": 9,
            "count": 10
           }
          ]
         }
        },
        {
         "name": "startDate",
         "dtype": "object",
         "stats": {
          "unique_count": 10,
          "nan_count": 0,
          "categories": [
           {
            "name": "2019-11-05 12:36:31",
            "count": 3
           },
           {
            "name": "2021-03-02 00:00:00",
            "count": 3
           },
           {
            "name": "8 others",
            "count": 10
           }
          ]
         }
        },
        {
         "name": "endDate",
         "dtype": "object",
         "stats": {
          "unique_count": 10,
          "nan_count": 0,
          "categories": [
           {
            "name": "2020-02-04 12:36:31",
            "count": 3
           },
           {
            "name": "2021-04-27 00:00:00",
            "count": 3
           },
           {
            "name": "8 others",
            "count": 10
           }
          ]
         }
        },
        {
         "name": "isOnline",
         "dtype": "int64",
         "stats": {
          "unique_count": 2,
          "nan_count": 0,
          "min": "0",
          "max": "1",
          "histogram": [
           {
            "bin_start": 0,
            "bin_end": 0.1,
            "count": 10
           },
           {
            "bin_start": 0.1,
            "bin_end": 0.2,
            "count": 0
           },
           {
            "bin_start": 0.2,
            "bin_end": 0.30000000000000004,
            "count": 0
           },
           {
            "bin_start": 0.30000000000000004,
            "bin_end": 0.4,
            "count": 0
           },
           {
            "bin_start": 0.4,
            "bin_end": 0.5,
            "count": 0
           },
           {
            "bin_start": 0.5,
            "bin_end": 0.6000000000000001,
            "count": 0
           },
           {
            "bin_start": 0.6000000000000001,
            "bin_end": 0.7000000000000001,
            "count": 0
           },
           {
            "bin_start": 0.7000000000000001,
            "bin_end": 0.8,
            "count": 0
           },
           {
            "bin_start": 0.8,
            "bin_end": 0.9,
            "count": 0
           },
           {
            "bin_start": 0.9,
            "bin_end": 1,
            "count": 6
           }
          ]
         }
        },
        {
         "name": "isPublic",
         "dtype": "int64",
         "stats": {
          "unique_count": 1,
          "nan_count": 0,
          "min": "1",
          "max": "1",
          "histogram": [
           {
            "bin_start": 0.5,
            "bin_end": 0.6,
            "count": 0
           },
           {
            "bin_start": 0.6,
            "bin_end": 0.7,
            "count": 0
           },
           {
            "bin_start": 0.7,
            "bin_end": 0.8,
            "count": 0
           },
           {
            "bin_start": 0.8,
            "bin_end": 0.9,
            "count": 0
           },
           {
            "bin_start": 0.9,
            "bin_end": 1,
            "count": 0
           },
           {
            "bin_start": 1,
            "bin_end": 1.1,
            "count": 16
           },
           {
            "bin_start": 1.1,
            "bin_end": 1.2000000000000002,
            "count": 0
           },
           {
            "bin_start": 1.2000000000000002,
            "bin_end": 1.3,
            "count": 0
           },
           {
            "bin_start": 1.3,
            "bin_end": 1.4,
            "count": 0
           },
           {
            "bin_start": 1.4,
            "bin_end": 1.5,
            "count": 0
           }
          ]
         }
        },
        {
         "name": "categories",
         "dtype": "object",
         "stats": {
          "unique_count": 7,
          "nan_count": 0,
          "categories": [
           {
            "name": "Web Dev",
            "count": 5
           },
           {
            "name": "Game Dev",
            "count": 3
           },
           {
            "name": "5 others",
            "count": 8
           }
          ]
         }
        },
        {
         "name": "_deepnote_index_column",
         "dtype": "int64"
        }
       ],
       "rows": [
        {
         "coursesId": 6,
         "userId": 2,
         "name": "Front End Fundamentals",
         "sessionCount": 9,
         "startDate": "2021-06-01 00:36:31",
         "endDate": "2021-08-03 21:30:00",
         "isOnline": 0,
         "isPublic": 1,
         "categories": "Web Dev,FrontEnd",
         "_deepnote_index_column": 10
        },
        {
         "coursesId": 7,
         "userId": 4,
         "name": "Intro into VueJS",
         "sessionCount": 5,
         "startDate": "2021-10-19 00:36:31",
         "endDate": "2021-12-14 21:30:00",
         "isOnline": 1,
         "isPublic": 1,
         "categories": "Web Dev,FrontEnd",
         "_deepnote_index_column": 11
        },
        {
         "coursesId": 8,
         "userId": 1,
         "name": "Intro to Next.js",
         "sessionCount": 9,
         "startDate": "2022-05-12 19:00:00",
         "endDate": "2022-07-30 19:00:00",
         "isOnline": 0,
         "isPublic": 1,
         "categories": "Web Dev,FrontEnd",
         "_deepnote_index_column": 12
        },
        {
         "coursesId": 9,
         "userId": 2,
         "name": "Programming Fundamentals",
         "sessionCount": 1,
         "startDate": "2021-07-03 10:00:00",
         "endDate": "2021-07-03 17:00:00",
         "isOnline": 1,
         "isPublic": 1,
         "categories": "Beginner, Web Dev",
         "_deepnote_index_column": 13
        },
        {
         "coursesId": 11,
         "userId": 130,
         "name": "Intro to .NET with C#",
         "sessionCount": 9,
         "startDate": "2021-08-03 19:00:00",
         "endDate": "2021-09-28 21:00:00",
         "isOnline": 1,
         "isPublic": 1,
         "categories": "Web Dev, BackEnd, .NET",
         "_deepnote_index_column": 14
        },
        {
         "coursesId": 12,
         "userId": 2,
         "name": "Intro to Web Dev",
         "sessionCount": 9,
         "startDate": "2022-04-12 19:00:00",
         "endDate": "2022-06-14 21:00:00",
         "isOnline": 0,
         "isPublic": 1,
         "categories": "Web Dev,FrontEnd,Beginner",
         "_deepnote_index_column": 15
        }
       ]
      },
      "text/plain": "    coursesId  userId                          name  sessionCount  \\\n0           1       1           Workings of the Web             6   \n1           1       2           Workings of the Web             6   \n2           2       1          Web Dev from Scratch             6   \n3           2       2          Web Dev from Scratch             6   \n4           3       1              Intro to Web Dev             9   \n5           3       2              Intro to Web Dev             9   \n6           3       3              Intro to Web Dev             9   \n7           5      67  Intro to Game Dev with Unity             9   \n8           5     110  Intro to Game Dev with Unity             9   \n9           5     111  Intro to Game Dev with Unity             9   \n10          6       2        Front End Fundamentals             9   \n11          7       4              Intro into VueJS             5   \n12          8       1              Intro to Next.js             9   \n13          9       2      Programming Fundamentals             1   \n14         11     130         Intro to .NET with C#             9   \n15         12       2              Intro to Web Dev             9   \n\n              startDate              endDate  isOnline  isPublic  \\\n0   2019-01-22 03:37:52  2019-03-26 03:31:58         0         1   \n1   2019-01-22 03:37:52  2019-03-26 03:31:58         0         1   \n2   2019-06-10 19:35:45  2019-06-04 19:35:45         0         1   \n3   2019-06-10 19:35:45  2019-06-04 19:35:45         0         1   \n4   2019-11-05 12:36:31  2020-02-04 12:36:31         0         1   \n5   2019-11-05 12:36:31  2020-02-04 12:36:31         0         1   \n6   2019-11-05 12:36:31  2020-02-04 12:36:31         0         1   \n7   2021-03-02 00:00:00  2021-04-27 00:00:00         1         1   \n8   2021-03-02 00:00:00  2021-04-27 00:00:00         1         1   \n9   2021-03-02 00:00:00  2021-04-27 00:00:00         1         1   \n10  2021-06-01 00:36:31  2021-08-03 21:30:00         0         1   \n11  2021-10-19 00:36:31  2021-12-14 21:30:00         1         1   \n12  2022-05-12 19:00:00  2022-07-30 19:00:00         0         1   \n13  2021-07-03 10:00:00  2021-07-03 17:00:00         1         1   \n14  2021-08-03 19:00:00  2021-09-28 21:00:00         1         1   \n15  2022-04-12 19:00:00  2022-06-14 21:00:00         0         1   \n\n                   categories  \n0          Web Dev,Full-stack  \n1          Web Dev,Full-stack  \n2                     Web Dev  \n3                     Web Dev  \n4                     Web Dev  \n5                     Web Dev  \n6                     Web Dev  \n7                    Game Dev  \n8                    Game Dev  \n9                    Game Dev  \n10           Web Dev,FrontEnd  \n11           Web Dev,FrontEnd  \n12           Web Dev,FrontEnd  \n13          Beginner, Web Dev  \n14     Web Dev, BackEnd, .NET  \n15  Web Dev,FrontEnd,Beginner  ",
      "text/html": "<div>\n<style scoped>\n    .dataframe tbody tr th:only-of-type {\n        vertical-align: middle;\n    }\n\n    .dataframe tbody tr th {\n        vertical-align: top;\n    }\n\n    .dataframe thead th {\n        text-align: right;\n    }\n</style>\n<table border=\"1\" class=\"dataframe\">\n  <thead>\n    <tr style=\"text-align: right;\">\n      <th></th>\n      <th>coursesId</th>\n      <th>userId</th>\n      <th>name</th>\n      <th>sessionCount</th>\n      <th>startDate</th>\n      <th>endDate</th>\n      <th>isOnline</th>\n      <th>isPublic</th>\n      <th>categories</th>\n    </tr>\n  </thead>\n  <tbody>\n    <tr>\n      <th>0</th>\n      <td>1</td>\n      <td>1</td>\n      <td>Workings of the Web</td>\n      <td>6</td>\n      <td>2019-01-22 03:37:52</td>\n      <td>2019-03-26 03:31:58</td>\n      <td>0</td>\n      <td>1</td>\n      <td>Web Dev,Full-stack</td>\n    </tr>\n    <tr>\n      <th>1</th>\n      <td>1</td>\n      <td>2</td>\n      <td>Workings of the Web</td>\n      <td>6</td>\n      <td>2019-01-22 03:37:52</td>\n      <td>2019-03-26 03:31:58</td>\n      <td>0</td>\n      <td>1</td>\n      <td>Web Dev,Full-stack</td>\n    </tr>\n    <tr>\n      <th>2</th>\n      <td>2</td>\n      <td>1</td>\n      <td>Web Dev from Scratch</td>\n      <td>6</td>\n      <td>2019-06-10 19:35:45</td>\n      <td>2019-06-04 19:35:45</td>\n      <td>0</td>\n      <td>1</td>\n      <td>Web Dev</td>\n    </tr>\n    <tr>\n      <th>3</th>\n      <td>2</td>\n      <td>2</td>\n      <td>Web Dev from Scratch</td>\n      <td>6</td>\n      <td>2019-06-10 19:35:45</td>\n      <td>2019-06-04 19:35:45</td>\n      <td>0</td>\n      <td>1</td>\n      <td>Web Dev</td>\n    </tr>\n    <tr>\n      <th>4</th>\n      <td>3</td>\n      <td>1</td>\n      <td>Intro to Web Dev</td>\n      <td>9</td>\n      <td>2019-11-05 12:36:31</td>\n      <td>2020-02-04 12:36:31</td>\n      <td>0</td>\n      <td>1</td>\n      <td>Web Dev</td>\n    </tr>\n    <tr>\n      <th>5</th>\n      <td>3</td>\n      <td>2</td>\n      <td>Intro to Web Dev</td>\n      <td>9</td>\n      <td>2019-11-05 12:36:31</td>\n      <td>2020-02-04 12:36:31</td>\n      <td>0</td>\n      <td>1</td>\n      <td>Web Dev</td>\n    </tr>\n    <tr>\n      <th>6</th>\n      <td>3</td>\n      <td>3</td>\n      <td>Intro to Web Dev</td>\n      <td>9</td>\n      <td>2019-11-05 12:36:31</td>\n      <td>2020-02-04 12:36:31</td>\n      <td>0</td>\n      <td>1</td>\n      <td>Web Dev</td>\n    </tr>\n    <tr>\n      <th>7</th>\n      <td>5</td>\n      <td>67</td>\n      <td>Intro to Game Dev with Unity</td>\n      <td>9</td>\n      <td>2021-03-02 00:00:00</td>\n      <td>2021-04-27 00:00:00</td>\n      <td>1</td>\n      <td>1</td>\n      <td>Game Dev</td>\n    </tr>\n    <tr>\n      <th>8</th>\n      <td>5</td>\n      <td>110</td>\n      <td>Intro to Game Dev with Unity</td>\n      <td>9</td>\n      <td>2021-03-02 00:00:00</td>\n      <td>2021-04-27 00:00:00</td>\n      <td>1</td>\n      <td>1</td>\n      <td>Game Dev</td>\n    </tr>\n    <tr>\n      <th>9</th>\n      <td>5</td>\n      <td>111</td>\n      <td>Intro to Game Dev with Unity</td>\n      <td>9</td>\n      <td>2021-03-02 00:00:00</td>\n      <td>2021-04-27 00:00:00</td>\n      <td>1</td>\n      <td>1</td>\n      <td>Game Dev</td>\n    </tr>\n    <tr>\n      <th>10</th>\n      <td>6</td>\n      <td>2</td>\n      <td>Front End Fundamentals</td>\n      <td>9</td>\n      <td>2021-06-01 00:36:31</td>\n      <td>2021-08-03 21:30:00</td>\n      <td>0</td>\n      <td>1</td>\n      <td>Web Dev,FrontEnd</td>\n    </tr>\n    <tr>\n      <th>11</th>\n      <td>7</td>\n      <td>4</td>\n      <td>Intro into VueJS</td>\n      <td>5</td>\n      <td>2021-10-19 00:36:31</td>\n      <td>2021-12-14 21:30:00</td>\n      <td>1</td>\n      <td>1</td>\n      <td>Web Dev,FrontEnd</td>\n    </tr>\n    <tr>\n      <th>12</th>\n      <td>8</td>\n      <td>1</td>\n      <td>Intro to Next.js</td>\n      <td>9</td>\n      <td>2022-05-12 19:00:00</td>\n      <td>2022-07-30 19:00:00</td>\n      <td>0</td>\n      <td>1</td>\n      <td>Web Dev,FrontEnd</td>\n    </tr>\n    <tr>\n      <th>13</th>\n      <td>9</td>\n      <td>2</td>\n      <td>Programming Fundamentals</td>\n      <td>1</td>\n      <td>2021-07-03 10:00:00</td>\n      <td>2021-07-03 17:00:00</td>\n      <td>1</td>\n      <td>1</td>\n      <td>Beginner, Web Dev</td>\n    </tr>\n    <tr>\n      <th>14</th>\n      <td>11</td>\n      <td>130</td>\n      <td>Intro to .NET with C#</td>\n      <td>9</td>\n      <td>2021-08-03 19:00:00</td>\n      <td>2021-09-28 21:00:00</td>\n      <td>1</td>\n      <td>1</td>\n      <td>Web Dev, BackEnd, .NET</td>\n    </tr>\n    <tr>\n      <th>15</th>\n      <td>12</td>\n      <td>2</td>\n      <td>Intro to Web Dev</td>\n      <td>9</td>\n      <td>2022-04-12 19:00:00</td>\n      <td>2022-06-14 21:00:00</td>\n      <td>0</td>\n      <td>1</td>\n      <td>Web Dev,FrontEnd,Beginner</td>\n    </tr>\n  </tbody>\n</table>\n</div>"
     },
     "metadata": {}
    }
   ]
  },
  {
   "cell_type": "code",
   "metadata": {
    "cell_id": "e10540d169d3459a88fa7fb62a855a27",
    "tags": [],
    "deepnote_to_be_reexecuted": false,
    "source_hash": "304fa492",
    "execution_start": 1652907671348,
    "execution_millis": 134,
    "deepnote_table_state": {
     "pageSize": 10,
     "pageIndex": 1,
     "filters": [],
     "sortBy": []
    },
    "deepnote_table_loading": false,
    "deepnote_cell_type": "code",
    "deepnote_cell_height": 467.59375
   },
   "source": "int_cusers = inst_course.merge(users.set_index('userId'), on= 'userId')\nint_cusers",
   "execution_count": 30,
   "outputs": [
    {
     "output_type": "execute_result",
     "execution_count": 61,
     "data": {
      "application/vnd.deepnote.dataframe.v3+json": {
       "column_count": 13,
       "row_count": 16,
       "columns": [
        {
         "name": "coursesId",
         "dtype": "int64",
         "stats": {
          "unique_count": 10,
          "nan_count": 0,
          "min": "1",
          "max": "12",
          "histogram": [
           {
            "bin_start": 1,
            "bin_end": 2.1,
            "count": 4
           },
           {
            "bin_start": 2.1,
            "bin_end": 3.2,
            "count": 3
           },
           {
            "bin_start": 3.2,
            "bin_end": 4.300000000000001,
            "count": 0
           },
           {
            "bin_start": 4.300000000000001,
            "bin_end": 5.4,
            "count": 3
           },
           {
            "bin_start": 5.4,
            "bin_end": 6.5,
            "count": 1
           },
           {
            "bin_start": 6.5,
            "bin_end": 7.6000000000000005,
            "count": 1
           },
           {
            "bin_start": 7.6000000000000005,
            "bin_end": 8.700000000000001,
            "count": 1
           },
           {
            "bin_start": 8.700000000000001,
            "bin_end": 9.8,
            "count": 1
           },
           {
            "bin_start": 9.8,
            "bin_end": 10.9,
            "count": 0
           },
           {
            "bin_start": 10.9,
            "bin_end": 12,
            "count": 2
           }
          ]
         }
        },
        {
         "name": "userId",
         "dtype": "int64",
         "stats": {
          "unique_count": 8,
          "nan_count": 0,
          "min": "1",
          "max": "130",
          "histogram": [
           {
            "bin_start": 1,
            "bin_end": 13.9,
            "count": 12
           },
           {
            "bin_start": 13.9,
            "bin_end": 26.8,
            "count": 0
           },
           {
            "bin_start": 26.8,
            "bin_end": 39.7,
            "count": 0
           },
           {
            "bin_start": 39.7,
            "bin_end": 52.6,
            "count": 0
           },
           {
            "bin_start": 52.6,
            "bin_end": 65.5,
            "count": 0
           },
           {
            "bin_start": 65.5,
            "bin_end": 78.4,
            "count": 1
           },
           {
            "bin_start": 78.4,
            "bin_end": 91.3,
            "count": 0
           },
           {
            "bin_start": 91.3,
            "bin_end": 104.2,
            "count": 0
           },
           {
            "bin_start": 104.2,
            "bin_end": 117.10000000000001,
            "count": 2
           },
           {
            "bin_start": 117.10000000000001,
            "bin_end": 130,
            "count": 1
           }
          ]
         }
        },
        {
         "name": "name",
         "dtype": "object",
         "stats": {
          "unique_count": 9,
          "nan_count": 0,
          "categories": [
           {
            "name": "Intro to Web Dev",
            "count": 4
           },
           {
            "name": "Intro to Game Dev with Unity",
            "count": 3
           },
           {
            "name": "7 others",
            "count": 9
           }
          ]
         }
        },
        {
         "name": "sessionCount",
         "dtype": "int64",
         "stats": {
          "unique_count": 4,
          "nan_count": 0,
          "min": "1",
          "max": "9",
          "histogram": [
           {
            "bin_start": 1,
            "bin_end": 1.8,
            "count": 1
           },
           {
            "bin_start": 1.8,
            "bin_end": 2.6,
            "count": 0
           },
           {
            "bin_start": 2.6,
            "bin_end": 3.4000000000000004,
            "count": 0
           },
           {
            "bin_start": 3.4000000000000004,
            "bin_end": 4.2,
            "count": 0
           },
           {
            "bin_start": 4.2,
            "bin_end": 5,
            "count": 0
           },
           {
            "bin_start": 5,
            "bin_end": 5.800000000000001,
            "count": 1
           },
           {
            "bin_start": 5.800000000000001,
            "bin_end": 6.6000000000000005,
            "count": 4
           },
           {
            "bin_start": 6.6000000000000005,
            "bin_end": 7.4,
            "count": 0
           },
           {
            "bin_start": 7.4,
            "bin_end": 8.2,
            "count": 0
           },
           {
            "bin_start": 8.2,
            "bin_end": 9,
            "count": 10
           }
          ]
         }
        },
        {
         "name": "startDate",
         "dtype": "object",
         "stats": {
          "unique_count": 10,
          "nan_count": 0,
          "categories": [
           {
            "name": "2019-11-05 12:36:31",
            "count": 3
           },
           {
            "name": "2021-03-02 00:00:00",
            "count": 3
           },
           {
            "name": "8 others",
            "count": 10
           }
          ]
         }
        },
        {
         "name": "endDate",
         "dtype": "object",
         "stats": {
          "unique_count": 10,
          "nan_count": 0,
          "categories": [
           {
            "name": "2020-02-04 12:36:31",
            "count": 3
           },
           {
            "name": "2021-04-27 00:00:00",
            "count": 3
           },
           {
            "name": "8 others",
            "count": 10
           }
          ]
         }
        },
        {
         "name": "isOnline",
         "dtype": "int64",
         "stats": {
          "unique_count": 2,
          "nan_count": 0,
          "min": "0",
          "max": "1",
          "histogram": [
           {
            "bin_start": 0,
            "bin_end": 0.1,
            "count": 10
           },
           {
            "bin_start": 0.1,
            "bin_end": 0.2,
            "count": 0
           },
           {
            "bin_start": 0.2,
            "bin_end": 0.30000000000000004,
            "count": 0
           },
           {
            "bin_start": 0.30000000000000004,
            "bin_end": 0.4,
            "count": 0
           },
           {
            "bin_start": 0.4,
            "bin_end": 0.5,
            "count": 0
           },
           {
            "bin_start": 0.5,
            "bin_end": 0.6000000000000001,
            "count": 0
           },
           {
            "bin_start": 0.6000000000000001,
            "bin_end": 0.7000000000000001,
            "count": 0
           },
           {
            "bin_start": 0.7000000000000001,
            "bin_end": 0.8,
            "count": 0
           },
           {
            "bin_start": 0.8,
            "bin_end": 0.9,
            "count": 0
           },
           {
            "bin_start": 0.9,
            "bin_end": 1,
            "count": 6
           }
          ]
         }
        },
        {
         "name": "isPublic",
         "dtype": "int64",
         "stats": {
          "unique_count": 1,
          "nan_count": 0,
          "min": "1",
          "max": "1",
          "histogram": [
           {
            "bin_start": 0.5,
            "bin_end": 0.6,
            "count": 0
           },
           {
            "bin_start": 0.6,
            "bin_end": 0.7,
            "count": 0
           },
           {
            "bin_start": 0.7,
            "bin_end": 0.8,
            "count": 0
           },
           {
            "bin_start": 0.8,
            "bin_end": 0.9,
            "count": 0
           },
           {
            "bin_start": 0.9,
            "bin_end": 1,
            "count": 0
           },
           {
            "bin_start": 1,
            "bin_end": 1.1,
            "count": 16
           },
           {
            "bin_start": 1.1,
            "bin_end": 1.2000000000000002,
            "count": 0
           },
           {
            "bin_start": 1.2000000000000002,
            "bin_end": 1.3,
            "count": 0
           },
           {
            "bin_start": 1.3,
            "bin_end": 1.4,
            "count": 0
           },
           {
            "bin_start": 1.4,
            "bin_end": 1.5,
            "count": 0
           }
          ]
         }
        },
        {
         "name": "categories",
         "dtype": "object",
         "stats": {
          "unique_count": 7,
          "nan_count": 0,
          "categories": [
           {
            "name": "Web Dev",
            "count": 5
           },
           {
            "name": "Web Dev,FrontEnd",
            "count": 3
           },
           {
            "name": "5 others",
            "count": 8
           }
          ]
         }
        },
        {
         "name": "lastName",
         "dtype": "object",
         "stats": {
          "unique_count": 8,
          "nan_count": 0,
          "categories": [
           {
            "name": "Cecile",
            "count": 6
           },
           {
            "name": "Khan",
            "count": 4
           },
           {
            "name": "6 others",
            "count": 6
           }
          ]
         }
        },
        {
         "name": "title",
         "dtype": "object",
         "stats": {
          "unique_count": 2,
          "nan_count": 0,
          "categories": [
           {
            "name": "[[REDACTED]]",
            "count": 10
           },
           {
            "name": "They/Them",
            "count": 6
           }
          ]
         }
        },
        {
         "name": "isSuperUser",
         "dtype": "int64",
         "stats": {
          "unique_count": 2,
          "nan_count": 0,
          "min": "0",
          "max": "1",
          "histogram": [
           {
            "bin_start": 0,
            "bin_end": 0.1,
            "count": 5
           },
           {
            "bin_start": 0.1,
            "bin_end": 0.2,
            "count": 0
           },
           {
            "bin_start": 0.2,
            "bin_end": 0.30000000000000004,
            "count": 0
           },
           {
            "bin_start": 0.30000000000000004,
            "bin_end": 0.4,
            "count": 0
           },
           {
            "bin_start": 0.4,
            "bin_end": 0.5,
            "count": 0
           },
           {
            "bin_start": 0.5,
            "bin_end": 0.6000000000000001,
            "count": 0
           },
           {
            "bin_start": 0.6000000000000001,
            "bin_end": 0.7000000000000001,
            "count": 0
           },
           {
            "bin_start": 0.7000000000000001,
            "bin_end": 0.8,
            "count": 0
           },
           {
            "bin_start": 0.8,
            "bin_end": 0.9,
            "count": 0
           },
           {
            "bin_start": 0.9,
            "bin_end": 1,
            "count": 11
           }
          ]
         }
        },
        {
         "name": "lastLogin",
         "dtype": "object",
         "stats": {
          "unique_count": 8,
          "nan_count": 0,
          "categories": [
           {
            "name": "2022-04-21 10:17:50",
            "count": 6
           },
           {
            "name": "2022-02-24 13:05:16",
            "count": 4
           },
           {
            "name": "6 others",
            "count": 6
           }
          ]
         }
        },
        {
         "name": "_deepnote_index_column",
         "dtype": "int64"
        }
       ],
       "rows": [
        {
         "coursesId": 3,
         "userId": 3,
         "name": "Intro to Web Dev",
         "sessionCount": 9,
         "startDate": "2019-11-05 12:36:31",
         "endDate": "2020-02-04 12:36:31",
         "isOnline": 0,
         "isPublic": 1,
         "categories": "Web Dev",
         "lastName": "Hayre",
         "title": "They/Them",
         "isSuperUser": 0,
         "lastLogin": "2021-04-08 12:43:11",
         "_deepnote_index_column": 10
        },
        {
         "coursesId": 5,
         "userId": 67,
         "name": "Intro to Game Dev with Unity",
         "sessionCount": 9,
         "startDate": "2021-03-02 00:00:00",
         "endDate": "2021-04-27 00:00:00",
         "isOnline": 1,
         "isPublic": 1,
         "categories": "Game Dev",
         "lastName": "[[REDACTED]]",
         "title": "They/Them",
         "isSuperUser": 0,
         "lastLogin": "2021-07-04 20:35:29",
         "_deepnote_index_column": 11
        },
        {
         "coursesId": 5,
         "userId": 110,
         "name": "Intro to Game Dev with Unity",
         "sessionCount": 9,
         "startDate": "2021-03-02 00:00:00",
         "endDate": "2021-04-27 00:00:00",
         "isOnline": 1,
         "isPublic": 1,
         "categories": "Game Dev",
         "lastName": "Carstairs ",
         "title": "They/Them",
         "isSuperUser": 0,
         "lastLogin": "2021-03-30 18:10:30",
         "_deepnote_index_column": 12
        },
        {
         "coursesId": 5,
         "userId": 111,
         "name": "Intro to Game Dev with Unity",
         "sessionCount": 9,
         "startDate": "2021-03-02 00:00:00",
         "endDate": "2021-04-27 00:00:00",
         "isOnline": 1,
         "isPublic": 1,
         "categories": "Game Dev",
         "lastName": "Sherry",
         "title": "They/Them",
         "isSuperUser": 0,
         "lastLogin": "2021-04-27 19:32:34",
         "_deepnote_index_column": 13
        },
        {
         "coursesId": 7,
         "userId": 4,
         "name": "Intro into VueJS",
         "sessionCount": 5,
         "startDate": "2021-10-19 00:36:31",
         "endDate": "2021-12-14 21:30:00",
         "isOnline": 1,
         "isPublic": 1,
         "categories": "Web Dev,FrontEnd",
         "lastName": "Parkinson",
         "title": "They/Them",
         "isSuperUser": 1,
         "lastLogin": "2021-02-20 20:50:21",
         "_deepnote_index_column": 14
        },
        {
         "coursesId": 11,
         "userId": 130,
         "name": "Intro to .NET with C#",
         "sessionCount": 9,
         "startDate": "2021-08-03 19:00:00",
         "endDate": "2021-09-28 21:00:00",
         "isOnline": 1,
         "isPublic": 1,
         "categories": "Web Dev, BackEnd, .NET",
         "lastName": "Saunders",
         "title": "They/Them",
         "isSuperUser": 0,
         "lastLogin": "2021-07-26 18:07:51",
         "_deepnote_index_column": 15
        }
       ]
      },
      "text/plain": "    coursesId  userId                          name  sessionCount  \\\n0           1       1           Workings of the Web             6   \n1           2       1          Web Dev from Scratch             6   \n2           3       1              Intro to Web Dev             9   \n3           8       1              Intro to Next.js             9   \n4           1       2           Workings of the Web             6   \n5           2       2          Web Dev from Scratch             6   \n6           3       2              Intro to Web Dev             9   \n7           6       2        Front End Fundamentals             9   \n8           9       2      Programming Fundamentals             1   \n9          12       2              Intro to Web Dev             9   \n10          3       3              Intro to Web Dev             9   \n11          5      67  Intro to Game Dev with Unity             9   \n12          5     110  Intro to Game Dev with Unity             9   \n13          5     111  Intro to Game Dev with Unity             9   \n14          7       4              Intro into VueJS             5   \n15         11     130         Intro to .NET with C#             9   \n\n              startDate              endDate  isOnline  isPublic  \\\n0   2019-01-22 03:37:52  2019-03-26 03:31:58         0         1   \n1   2019-06-10 19:35:45  2019-06-04 19:35:45         0         1   \n2   2019-11-05 12:36:31  2020-02-04 12:36:31         0         1   \n3   2022-05-12 19:00:00  2022-07-30 19:00:00         0         1   \n4   2019-01-22 03:37:52  2019-03-26 03:31:58         0         1   \n5   2019-06-10 19:35:45  2019-06-04 19:35:45         0         1   \n6   2019-11-05 12:36:31  2020-02-04 12:36:31         0         1   \n7   2021-06-01 00:36:31  2021-08-03 21:30:00         0         1   \n8   2021-07-03 10:00:00  2021-07-03 17:00:00         1         1   \n9   2022-04-12 19:00:00  2022-06-14 21:00:00         0         1   \n10  2019-11-05 12:36:31  2020-02-04 12:36:31         0         1   \n11  2021-03-02 00:00:00  2021-04-27 00:00:00         1         1   \n12  2021-03-02 00:00:00  2021-04-27 00:00:00         1         1   \n13  2021-03-02 00:00:00  2021-04-27 00:00:00         1         1   \n14  2021-10-19 00:36:31  2021-12-14 21:30:00         1         1   \n15  2021-08-03 19:00:00  2021-09-28 21:00:00         1         1   \n\n                   categories      lastName         title  isSuperUser  \\\n0          Web Dev,Full-stack          Khan  [[REDACTED]]            1   \n1                     Web Dev          Khan  [[REDACTED]]            1   \n2                     Web Dev          Khan  [[REDACTED]]            1   \n3            Web Dev,FrontEnd          Khan  [[REDACTED]]            1   \n4          Web Dev,Full-stack        Cecile  [[REDACTED]]            1   \n5                     Web Dev        Cecile  [[REDACTED]]            1   \n6                     Web Dev        Cecile  [[REDACTED]]            1   \n7            Web Dev,FrontEnd        Cecile  [[REDACTED]]            1   \n8           Beginner, Web Dev        Cecile  [[REDACTED]]            1   \n9   Web Dev,FrontEnd,Beginner        Cecile  [[REDACTED]]            1   \n10                    Web Dev         Hayre     They/Them            0   \n11                   Game Dev  [[REDACTED]]     They/Them            0   \n12                   Game Dev    Carstairs      They/Them            0   \n13                   Game Dev        Sherry     They/Them            0   \n14           Web Dev,FrontEnd     Parkinson     They/Them            1   \n15     Web Dev, BackEnd, .NET      Saunders     They/Them            0   \n\n              lastLogin  \n0   2022-02-24 13:05:16  \n1   2022-02-24 13:05:16  \n2   2022-02-24 13:05:16  \n3   2022-02-24 13:05:16  \n4   2022-04-21 10:17:50  \n5   2022-04-21 10:17:50  \n6   2022-04-21 10:17:50  \n7   2022-04-21 10:17:50  \n8   2022-04-21 10:17:50  \n9   2022-04-21 10:17:50  \n10  2021-04-08 12:43:11  \n11  2021-07-04 20:35:29  \n12  2021-03-30 18:10:30  \n13  2021-04-27 19:32:34  \n14  2021-02-20 20:50:21  \n15  2021-07-26 18:07:51  ",
      "text/html": "<div>\n<style scoped>\n    .dataframe tbody tr th:only-of-type {\n        vertical-align: middle;\n    }\n\n    .dataframe tbody tr th {\n        vertical-align: top;\n    }\n\n    .dataframe thead th {\n        text-align: right;\n    }\n</style>\n<table border=\"1\" class=\"dataframe\">\n  <thead>\n    <tr style=\"text-align: right;\">\n      <th></th>\n      <th>coursesId</th>\n      <th>userId</th>\n      <th>name</th>\n      <th>sessionCount</th>\n      <th>startDate</th>\n      <th>endDate</th>\n      <th>isOnline</th>\n      <th>isPublic</th>\n      <th>categories</th>\n      <th>lastName</th>\n      <th>title</th>\n      <th>isSuperUser</th>\n      <th>lastLogin</th>\n    </tr>\n  </thead>\n  <tbody>\n    <tr>\n      <th>0</th>\n      <td>1</td>\n      <td>1</td>\n      <td>Workings of the Web</td>\n      <td>6</td>\n      <td>2019-01-22 03:37:52</td>\n      <td>2019-03-26 03:31:58</td>\n      <td>0</td>\n      <td>1</td>\n      <td>Web Dev,Full-stack</td>\n      <td>Khan</td>\n      <td>[[REDACTED]]</td>\n      <td>1</td>\n      <td>2022-02-24 13:05:16</td>\n    </tr>\n    <tr>\n      <th>1</th>\n      <td>2</td>\n      <td>1</td>\n      <td>Web Dev from Scratch</td>\n      <td>6</td>\n      <td>2019-06-10 19:35:45</td>\n      <td>2019-06-04 19:35:45</td>\n      <td>0</td>\n      <td>1</td>\n      <td>Web Dev</td>\n      <td>Khan</td>\n      <td>[[REDACTED]]</td>\n      <td>1</td>\n      <td>2022-02-24 13:05:16</td>\n    </tr>\n    <tr>\n      <th>2</th>\n      <td>3</td>\n      <td>1</td>\n      <td>Intro to Web Dev</td>\n      <td>9</td>\n      <td>2019-11-05 12:36:31</td>\n      <td>2020-02-04 12:36:31</td>\n      <td>0</td>\n      <td>1</td>\n      <td>Web Dev</td>\n      <td>Khan</td>\n      <td>[[REDACTED]]</td>\n      <td>1</td>\n      <td>2022-02-24 13:05:16</td>\n    </tr>\n    <tr>\n      <th>3</th>\n      <td>8</td>\n      <td>1</td>\n      <td>Intro to Next.js</td>\n      <td>9</td>\n      <td>2022-05-12 19:00:00</td>\n      <td>2022-07-30 19:00:00</td>\n      <td>0</td>\n      <td>1</td>\n      <td>Web Dev,FrontEnd</td>\n      <td>Khan</td>\n      <td>[[REDACTED]]</td>\n      <td>1</td>\n      <td>2022-02-24 13:05:16</td>\n    </tr>\n    <tr>\n      <th>4</th>\n      <td>1</td>\n      <td>2</td>\n      <td>Workings of the Web</td>\n      <td>6</td>\n      <td>2019-01-22 03:37:52</td>\n      <td>2019-03-26 03:31:58</td>\n      <td>0</td>\n      <td>1</td>\n      <td>Web Dev,Full-stack</td>\n      <td>Cecile</td>\n      <td>[[REDACTED]]</td>\n      <td>1</td>\n      <td>2022-04-21 10:17:50</td>\n    </tr>\n    <tr>\n      <th>5</th>\n      <td>2</td>\n      <td>2</td>\n      <td>Web Dev from Scratch</td>\n      <td>6</td>\n      <td>2019-06-10 19:35:45</td>\n      <td>2019-06-04 19:35:45</td>\n      <td>0</td>\n      <td>1</td>\n      <td>Web Dev</td>\n      <td>Cecile</td>\n      <td>[[REDACTED]]</td>\n      <td>1</td>\n      <td>2022-04-21 10:17:50</td>\n    </tr>\n    <tr>\n      <th>6</th>\n      <td>3</td>\n      <td>2</td>\n      <td>Intro to Web Dev</td>\n      <td>9</td>\n      <td>2019-11-05 12:36:31</td>\n      <td>2020-02-04 12:36:31</td>\n      <td>0</td>\n      <td>1</td>\n      <td>Web Dev</td>\n      <td>Cecile</td>\n      <td>[[REDACTED]]</td>\n      <td>1</td>\n      <td>2022-04-21 10:17:50</td>\n    </tr>\n    <tr>\n      <th>7</th>\n      <td>6</td>\n      <td>2</td>\n      <td>Front End Fundamentals</td>\n      <td>9</td>\n      <td>2021-06-01 00:36:31</td>\n      <td>2021-08-03 21:30:00</td>\n      <td>0</td>\n      <td>1</td>\n      <td>Web Dev,FrontEnd</td>\n      <td>Cecile</td>\n      <td>[[REDACTED]]</td>\n      <td>1</td>\n      <td>2022-04-21 10:17:50</td>\n    </tr>\n    <tr>\n      <th>8</th>\n      <td>9</td>\n      <td>2</td>\n      <td>Programming Fundamentals</td>\n      <td>1</td>\n      <td>2021-07-03 10:00:00</td>\n      <td>2021-07-03 17:00:00</td>\n      <td>1</td>\n      <td>1</td>\n      <td>Beginner, Web Dev</td>\n      <td>Cecile</td>\n      <td>[[REDACTED]]</td>\n      <td>1</td>\n      <td>2022-04-21 10:17:50</td>\n    </tr>\n    <tr>\n      <th>9</th>\n      <td>12</td>\n      <td>2</td>\n      <td>Intro to Web Dev</td>\n      <td>9</td>\n      <td>2022-04-12 19:00:00</td>\n      <td>2022-06-14 21:00:00</td>\n      <td>0</td>\n      <td>1</td>\n      <td>Web Dev,FrontEnd,Beginner</td>\n      <td>Cecile</td>\n      <td>[[REDACTED]]</td>\n      <td>1</td>\n      <td>2022-04-21 10:17:50</td>\n    </tr>\n    <tr>\n      <th>10</th>\n      <td>3</td>\n      <td>3</td>\n      <td>Intro to Web Dev</td>\n      <td>9</td>\n      <td>2019-11-05 12:36:31</td>\n      <td>2020-02-04 12:36:31</td>\n      <td>0</td>\n      <td>1</td>\n      <td>Web Dev</td>\n      <td>Hayre</td>\n      <td>They/Them</td>\n      <td>0</td>\n      <td>2021-04-08 12:43:11</td>\n    </tr>\n    <tr>\n      <th>11</th>\n      <td>5</td>\n      <td>67</td>\n      <td>Intro to Game Dev with Unity</td>\n      <td>9</td>\n      <td>2021-03-02 00:00:00</td>\n      <td>2021-04-27 00:00:00</td>\n      <td>1</td>\n      <td>1</td>\n      <td>Game Dev</td>\n      <td>[[REDACTED]]</td>\n      <td>They/Them</td>\n      <td>0</td>\n      <td>2021-07-04 20:35:29</td>\n    </tr>\n    <tr>\n      <th>12</th>\n      <td>5</td>\n      <td>110</td>\n      <td>Intro to Game Dev with Unity</td>\n      <td>9</td>\n      <td>2021-03-02 00:00:00</td>\n      <td>2021-04-27 00:00:00</td>\n      <td>1</td>\n      <td>1</td>\n      <td>Game Dev</td>\n      <td>Carstairs</td>\n      <td>They/Them</td>\n      <td>0</td>\n      <td>2021-03-30 18:10:30</td>\n    </tr>\n    <tr>\n      <th>13</th>\n      <td>5</td>\n      <td>111</td>\n      <td>Intro to Game Dev with Unity</td>\n      <td>9</td>\n      <td>2021-03-02 00:00:00</td>\n      <td>2021-04-27 00:00:00</td>\n      <td>1</td>\n      <td>1</td>\n      <td>Game Dev</td>\n      <td>Sherry</td>\n      <td>They/Them</td>\n      <td>0</td>\n      <td>2021-04-27 19:32:34</td>\n    </tr>\n    <tr>\n      <th>14</th>\n      <td>7</td>\n      <td>4</td>\n      <td>Intro into VueJS</td>\n      <td>5</td>\n      <td>2021-10-19 00:36:31</td>\n      <td>2021-12-14 21:30:00</td>\n      <td>1</td>\n      <td>1</td>\n      <td>Web Dev,FrontEnd</td>\n      <td>Parkinson</td>\n      <td>They/Them</td>\n      <td>1</td>\n      <td>2021-02-20 20:50:21</td>\n    </tr>\n    <tr>\n      <th>15</th>\n      <td>11</td>\n      <td>130</td>\n      <td>Intro to .NET with C#</td>\n      <td>9</td>\n      <td>2021-08-03 19:00:00</td>\n      <td>2021-09-28 21:00:00</td>\n      <td>1</td>\n      <td>1</td>\n      <td>Web Dev, BackEnd, .NET</td>\n      <td>Saunders</td>\n      <td>They/Them</td>\n      <td>0</td>\n      <td>2021-07-26 18:07:51</td>\n    </tr>\n  </tbody>\n</table>\n</div>"
     },
     "metadata": {}
    }
   ]
  },
  {
   "cell_type": "code",
   "metadata": {
    "cell_id": "bd4b0a7194ad4738bcb76ac3999cf05a",
    "tags": [],
    "deepnote_to_be_reexecuted": false,
    "source_hash": "72407194",
    "execution_start": 1652907671496,
    "execution_millis": 1,
    "deepnote_cell_type": "code",
    "deepnote_cell_height": 81
   },
   "source": "lead_instructors.columns = lead_instructors.columns.str.replace('usersId', 'userId')",
   "execution_count": 31,
   "outputs": []
  },
  {
   "cell_type": "code",
   "metadata": {
    "cell_id": "a7ab4e54a3af4326ac6fc051ada912da",
    "tags": [],
    "deepnote_to_be_reexecuted": false,
    "source_hash": "b02753bf",
    "execution_start": 1652907671552,
    "execution_millis": 47,
    "deepnote_table_state": {
     "pageSize": 10,
     "pageIndex": 1,
     "filters": [],
     "sortBy": []
    },
    "deepnote_table_loading": false,
    "deepnote_cell_type": "code",
    "deepnote_cell_height": 590.59375
   },
   "source": "leads = int_cusers.merge(lead_instructors.set_index('coursesId'), on='coursesId')\nleads",
   "execution_count": 32,
   "outputs": [
    {
     "output_type": "execute_result",
     "execution_count": 32,
     "data": {
      "application/vnd.deepnote.dataframe.v3+json": {
       "column_count": 14,
       "row_count": 19,
       "columns": [
        {
         "name": "coursesId",
         "dtype": "int64",
         "stats": {
          "unique_count": 10,
          "nan_count": 0,
          "min": "1",
          "max": "12",
          "histogram": [
           {
            "bin_start": 1,
            "bin_end": 2.1,
            "count": 4
           },
           {
            "bin_start": 2.1,
            "bin_end": 3.2,
            "count": 6
           },
           {
            "bin_start": 3.2,
            "bin_end": 4.300000000000001,
            "count": 0
           },
           {
            "bin_start": 4.300000000000001,
            "bin_end": 5.4,
            "count": 3
           },
           {
            "bin_start": 5.4,
            "bin_end": 6.5,
            "count": 1
           },
           {
            "bin_start": 6.5,
            "bin_end": 7.6000000000000005,
            "count": 1
           },
           {
            "bin_start": 7.6000000000000005,
            "bin_end": 8.700000000000001,
            "count": 1
           },
           {
            "bin_start": 8.700000000000001,
            "bin_end": 9.8,
            "count": 1
           },
           {
            "bin_start": 9.8,
            "bin_end": 10.9,
            "count": 0
           },
           {
            "bin_start": 10.9,
            "bin_end": 12,
            "count": 2
           }
          ]
         }
        },
        {
         "name": "userId_x",
         "dtype": "int64",
         "stats": {
          "unique_count": 8,
          "nan_count": 0,
          "min": "1",
          "max": "130",
          "histogram": [
           {
            "bin_start": 1,
            "bin_end": 13.9,
            "count": 15
           },
           {
            "bin_start": 13.9,
            "bin_end": 26.8,
            "count": 0
           },
           {
            "bin_start": 26.8,
            "bin_end": 39.7,
            "count": 0
           },
           {
            "bin_start": 39.7,
            "bin_end": 52.6,
            "count": 0
           },
           {
            "bin_start": 52.6,
            "bin_end": 65.5,
            "count": 0
           },
           {
            "bin_start": 65.5,
            "bin_end": 78.4,
            "count": 1
           },
           {
            "bin_start": 78.4,
            "bin_end": 91.3,
            "count": 0
           },
           {
            "bin_start": 91.3,
            "bin_end": 104.2,
            "count": 0
           },
           {
            "bin_start": 104.2,
            "bin_end": 117.10000000000001,
            "count": 2
           },
           {
            "bin_start": 117.10000000000001,
            "bin_end": 130,
            "count": 1
           }
          ]
         }
        },
        {
         "name": "name",
         "dtype": "object",
         "stats": {
          "unique_count": 9,
          "nan_count": 0,
          "categories": [
           {
            "name": "Intro to Web Dev",
            "count": 7
           },
           {
            "name": "Intro to Game Dev with Unity",
            "count": 3
           },
           {
            "name": "7 others",
            "count": 9
           }
          ]
         }
        },
        {
         "name": "sessionCount",
         "dtype": "int64",
         "stats": {
          "unique_count": 4,
          "nan_count": 0,
          "min": "1",
          "max": "9",
          "histogram": [
           {
            "bin_start": 1,
            "bin_end": 1.8,
            "count": 1
           },
           {
            "bin_start": 1.8,
            "bin_end": 2.6,
            "count": 0
           },
           {
            "bin_start": 2.6,
            "bin_end": 3.4000000000000004,
            "count": 0
           },
           {
            "bin_start": 3.4000000000000004,
            "bin_end": 4.2,
            "count": 0
           },
           {
            "bin_start": 4.2,
            "bin_end": 5,
            "count": 0
           },
           {
            "bin_start": 5,
            "bin_end": 5.800000000000001,
            "count": 1
           },
           {
            "bin_start": 5.800000000000001,
            "bin_end": 6.6000000000000005,
            "count": 4
           },
           {
            "bin_start": 6.6000000000000005,
            "bin_end": 7.4,
            "count": 0
           },
           {
            "bin_start": 7.4,
            "bin_end": 8.2,
            "count": 0
           },
           {
            "bin_start": 8.2,
            "bin_end": 9,
            "count": 13
           }
          ]
         }
        },
        {
         "name": "startDate",
         "dtype": "object",
         "stats": {
          "unique_count": 10,
          "nan_count": 0,
          "categories": [
           {
            "name": "2019-11-05 12:36:31",
            "count": 6
           },
           {
            "name": "2021-03-02 00:00:00",
            "count": 3
           },
           {
            "name": "8 others",
            "count": 10
           }
          ]
         }
        },
        {
         "name": "endDate",
         "dtype": "object",
         "stats": {
          "unique_count": 10,
          "nan_count": 0,
          "categories": [
           {
            "name": "2020-02-04 12:36:31",
            "count": 6
           },
           {
            "name": "2021-04-27 00:00:00",
            "count": 3
           },
           {
            "name": "8 others",
            "count": 10
           }
          ]
         }
        },
        {
         "name": "isOnline",
         "dtype": "int64",
         "stats": {
          "unique_count": 2,
          "nan_count": 0,
          "min": "0",
          "max": "1",
          "histogram": [
           {
            "bin_start": 0,
            "bin_end": 0.1,
            "count": 13
           },
           {
            "bin_start": 0.1,
            "bin_end": 0.2,
            "count": 0
           },
           {
            "bin_start": 0.2,
            "bin_end": 0.30000000000000004,
            "count": 0
           },
           {
            "bin_start": 0.30000000000000004,
            "bin_end": 0.4,
            "count": 0
           },
           {
            "bin_start": 0.4,
            "bin_end": 0.5,
            "count": 0
           },
           {
            "bin_start": 0.5,
            "bin_end": 0.6000000000000001,
            "count": 0
           },
           {
            "bin_start": 0.6000000000000001,
            "bin_end": 0.7000000000000001,
            "count": 0
           },
           {
            "bin_start": 0.7000000000000001,
            "bin_end": 0.8,
            "count": 0
           },
           {
            "bin_start": 0.8,
            "bin_end": 0.9,
            "count": 0
           },
           {
            "bin_start": 0.9,
            "bin_end": 1,
            "count": 6
           }
          ]
         }
        },
        {
         "name": "isPublic",
         "dtype": "int64",
         "stats": {
          "unique_count": 1,
          "nan_count": 0,
          "min": "1",
          "max": "1",
          "histogram": [
           {
            "bin_start": 0.5,
            "bin_end": 0.6,
            "count": 0
           },
           {
            "bin_start": 0.6,
            "bin_end": 0.7,
            "count": 0
           },
           {
            "bin_start": 0.7,
            "bin_end": 0.8,
            "count": 0
           },
           {
            "bin_start": 0.8,
            "bin_end": 0.9,
            "count": 0
           },
           {
            "bin_start": 0.9,
            "bin_end": 1,
            "count": 0
           },
           {
            "bin_start": 1,
            "bin_end": 1.1,
            "count": 19
           },
           {
            "bin_start": 1.1,
            "bin_end": 1.2000000000000002,
            "count": 0
           },
           {
            "bin_start": 1.2000000000000002,
            "bin_end": 1.3,
            "count": 0
           },
           {
            "bin_start": 1.3,
            "bin_end": 1.4,
            "count": 0
           },
           {
            "bin_start": 1.4,
            "bin_end": 1.5,
            "count": 0
           }
          ]
         }
        },
        {
         "name": "categories",
         "dtype": "object",
         "stats": {
          "unique_count": 7,
          "nan_count": 0,
          "categories": [
           {
            "name": "Web Dev",
            "count": 8
           },
           {
            "name": "Web Dev,FrontEnd",
            "count": 3
           },
           {
            "name": "5 others",
            "count": 8
           }
          ]
         }
        },
        {
         "name": "lastName",
         "dtype": "object",
         "stats": {
          "unique_count": 8,
          "nan_count": 0,
          "categories": [
           {
            "name": "Cecile",
            "count": 7
           },
           {
            "name": "Khan",
            "count": 5
           },
           {
            "name": "6 others",
            "count": 7
           }
          ]
         }
        },
        {
         "name": "title",
         "dtype": "object",
         "stats": {
          "unique_count": 2,
          "nan_count": 0,
          "categories": [
           {
            "name": "[[REDACTED]]",
            "count": 12
           },
           {
            "name": "They/Them",
            "count": 7
           }
          ]
         }
        },
        {
         "name": "isSuperUser",
         "dtype": "int64",
         "stats": {
          "unique_count": 2,
          "nan_count": 0,
          "min": "0",
          "max": "1",
          "histogram": [
           {
            "bin_start": 0,
            "bin_end": 0.1,
            "count": 6
           },
           {
            "bin_start": 0.1,
            "bin_end": 0.2,
            "count": 0
           },
           {
            "bin_start": 0.2,
            "bin_end": 0.30000000000000004,
            "count": 0
           },
           {
            "bin_start": 0.30000000000000004,
            "bin_end": 0.4,
            "count": 0
           },
           {
            "bin_start": 0.4,
            "bin_end": 0.5,
            "count": 0
           },
           {
            "bin_start": 0.5,
            "bin_end": 0.6000000000000001,
            "count": 0
           },
           {
            "bin_start": 0.6000000000000001,
            "bin_end": 0.7000000000000001,
            "count": 0
           },
           {
            "bin_start": 0.7000000000000001,
            "bin_end": 0.8,
            "count": 0
           },
           {
            "bin_start": 0.8,
            "bin_end": 0.9,
            "count": 0
           },
           {
            "bin_start": 0.9,
            "bin_end": 1,
            "count": 13
           }
          ]
         }
        },
        {
         "name": "lastLogin",
         "dtype": "object",
         "stats": {
          "unique_count": 8,
          "nan_count": 0,
          "categories": [
           {
            "name": "2022-04-21 10:17:50",
            "count": 7
           },
           {
            "name": "2022-02-24 13:05:16",
            "count": 5
           },
           {
            "name": "6 others",
            "count": 7
           }
          ]
         }
        },
        {
         "name": "userId_y",
         "dtype": "int64",
         "stats": {
          "unique_count": 5,
          "nan_count": 0,
          "min": "1",
          "max": "130",
          "histogram": [
           {
            "bin_start": 1,
            "bin_end": 13.9,
            "count": 15
           },
           {
            "bin_start": 13.9,
            "bin_end": 26.8,
            "count": 0
           },
           {
            "bin_start": 26.8,
            "bin_end": 39.7,
            "count": 0
           },
           {
            "bin_start": 39.7,
            "bin_end": 52.6,
            "count": 0
           },
           {
            "bin_start": 52.6,
            "bin_end": 65.5,
            "count": 0
           },
           {
            "bin_start": 65.5,
            "bin_end": 78.4,
            "count": 3
           },
           {
            "bin_start": 78.4,
            "bin_end": 91.3,
            "count": 0
           },
           {
            "bin_start": 91.3,
            "bin_end": 104.2,
            "count": 0
           },
           {
            "bin_start": 104.2,
            "bin_end": 117.10000000000001,
            "count": 0
           },
           {
            "bin_start": 117.10000000000001,
            "bin_end": 130,
            "count": 1
           }
          ]
         }
        },
        {
         "name": "_deepnote_index_column",
         "dtype": "int64"
        }
       ],
       "rows": [
        {
         "coursesId": 8,
         "userId_x": 1,
         "name": "Intro to Next.js",
         "sessionCount": 9,
         "startDate": "2022-05-12 19:00:00",
         "endDate": "2022-07-30 19:00:00",
         "isOnline": 0,
         "isPublic": 1,
         "categories": "Web Dev,FrontEnd",
         "lastName": "Khan",
         "title": "[[REDACTED]]",
         "isSuperUser": 1,
         "lastLogin": "2022-02-24 13:05:16",
         "userId_y": 1,
         "_deepnote_index_column": 10
        },
        {
         "coursesId": 6,
         "userId_x": 2,
         "name": "Front End Fundamentals",
         "sessionCount": 9,
         "startDate": "2021-06-01 00:36:31",
         "endDate": "2021-08-03 21:30:00",
         "isOnline": 0,
         "isPublic": 1,
         "categories": "Web Dev,FrontEnd",
         "lastName": "Cecile",
         "title": "[[REDACTED]]",
         "isSuperUser": 1,
         "lastLogin": "2022-04-21 10:17:50",
         "userId_y": 2,
         "_deepnote_index_column": 11
        },
        {
         "coursesId": 9,
         "userId_x": 2,
         "name": "Programming Fundamentals",
         "sessionCount": 1,
         "startDate": "2021-07-03 10:00:00",
         "endDate": "2021-07-03 17:00:00",
         "isOnline": 1,
         "isPublic": 1,
         "categories": "Beginner, Web Dev",
         "lastName": "Cecile",
         "title": "[[REDACTED]]",
         "isSuperUser": 1,
         "lastLogin": "2022-04-21 10:17:50",
         "userId_y": 2,
         "_deepnote_index_column": 12
        },
        {
         "coursesId": 12,
         "userId_x": 2,
         "name": "Intro to Web Dev",
         "sessionCount": 9,
         "startDate": "2022-04-12 19:00:00",
         "endDate": "2022-06-14 21:00:00",
         "isOnline": 0,
         "isPublic": 1,
         "categories": "Web Dev,FrontEnd,Beginner",
         "lastName": "Cecile",
         "title": "[[REDACTED]]",
         "isSuperUser": 1,
         "lastLogin": "2022-04-21 10:17:50",
         "userId_y": 1,
         "_deepnote_index_column": 13
        },
        {
         "coursesId": 5,
         "userId_x": 67,
         "name": "Intro to Game Dev with Unity",
         "sessionCount": 9,
         "startDate": "2021-03-02 00:00:00",
         "endDate": "2021-04-27 00:00:00",
         "isOnline": 1,
         "isPublic": 1,
         "categories": "Game Dev",
         "lastName": "[[REDACTED]]",
         "title": "They/Them",
         "isSuperUser": 0,
         "lastLogin": "2021-07-04 20:35:29",
         "userId_y": 67,
         "_deepnote_index_column": 14
        },
        {
         "coursesId": 5,
         "userId_x": 110,
         "name": "Intro to Game Dev with Unity",
         "sessionCount": 9,
         "startDate": "2021-03-02 00:00:00",
         "endDate": "2021-04-27 00:00:00",
         "isOnline": 1,
         "isPublic": 1,
         "categories": "Game Dev",
         "lastName": "Carstairs ",
         "title": "They/Them",
         "isSuperUser": 0,
         "lastLogin": "2021-03-30 18:10:30",
         "userId_y": 67,
         "_deepnote_index_column": 15
        },
        {
         "coursesId": 5,
         "userId_x": 111,
         "name": "Intro to Game Dev with Unity",
         "sessionCount": 9,
         "startDate": "2021-03-02 00:00:00",
         "endDate": "2021-04-27 00:00:00",
         "isOnline": 1,
         "isPublic": 1,
         "categories": "Game Dev",
         "lastName": "Sherry",
         "title": "They/Them",
         "isSuperUser": 0,
         "lastLogin": "2021-04-27 19:32:34",
         "userId_y": 67,
         "_deepnote_index_column": 16
        },
        {
         "coursesId": 7,
         "userId_x": 4,
         "name": "Intro into VueJS",
         "sessionCount": 5,
         "startDate": "2021-10-19 00:36:31",
         "endDate": "2021-12-14 21:30:00",
         "isOnline": 1,
         "isPublic": 1,
         "categories": "Web Dev,FrontEnd",
         "lastName": "Parkinson",
         "title": "They/Them",
         "isSuperUser": 1,
         "lastLogin": "2021-02-20 20:50:21",
         "userId_y": 4,
         "_deepnote_index_column": 17
        },
        {
         "coursesId": 11,
         "userId_x": 130,
         "name": "Intro to .NET with C#",
         "sessionCount": 9,
         "startDate": "2021-08-03 19:00:00",
         "endDate": "2021-09-28 21:00:00",
         "isOnline": 1,
         "isPublic": 1,
         "categories": "Web Dev, BackEnd, .NET",
         "lastName": "Saunders",
         "title": "They/Them",
         "isSuperUser": 0,
         "lastLogin": "2021-07-26 18:07:51",
         "userId_y": 130,
         "_deepnote_index_column": 18
        }
       ]
      },
      "text/plain": "    coursesId  userId_x                          name  sessionCount  \\\n0           1         1           Workings of the Web             6   \n1           1         2           Workings of the Web             6   \n2           2         1          Web Dev from Scratch             6   \n3           2         2          Web Dev from Scratch             6   \n4           3         1              Intro to Web Dev             9   \n5           3         1              Intro to Web Dev             9   \n6           3         2              Intro to Web Dev             9   \n7           3         2              Intro to Web Dev             9   \n8           3         3              Intro to Web Dev             9   \n9           3         3              Intro to Web Dev             9   \n10          8         1              Intro to Next.js             9   \n11          6         2        Front End Fundamentals             9   \n12          9         2      Programming Fundamentals             1   \n13         12         2              Intro to Web Dev             9   \n14          5        67  Intro to Game Dev with Unity             9   \n15          5       110  Intro to Game Dev with Unity             9   \n16          5       111  Intro to Game Dev with Unity             9   \n17          7         4              Intro into VueJS             5   \n18         11       130         Intro to .NET with C#             9   \n\n              startDate              endDate  isOnline  isPublic  \\\n0   2019-01-22 03:37:52  2019-03-26 03:31:58         0         1   \n1   2019-01-22 03:37:52  2019-03-26 03:31:58         0         1   \n2   2019-06-10 19:35:45  2019-06-04 19:35:45         0         1   \n3   2019-06-10 19:35:45  2019-06-04 19:35:45         0         1   \n4   2019-11-05 12:36:31  2020-02-04 12:36:31         0         1   \n5   2019-11-05 12:36:31  2020-02-04 12:36:31         0         1   \n6   2019-11-05 12:36:31  2020-02-04 12:36:31         0         1   \n7   2019-11-05 12:36:31  2020-02-04 12:36:31         0         1   \n8   2019-11-05 12:36:31  2020-02-04 12:36:31         0         1   \n9   2019-11-05 12:36:31  2020-02-04 12:36:31         0         1   \n10  2022-05-12 19:00:00  2022-07-30 19:00:00         0         1   \n11  2021-06-01 00:36:31  2021-08-03 21:30:00         0         1   \n12  2021-07-03 10:00:00  2021-07-03 17:00:00         1         1   \n13  2022-04-12 19:00:00  2022-06-14 21:00:00         0         1   \n14  2021-03-02 00:00:00  2021-04-27 00:00:00         1         1   \n15  2021-03-02 00:00:00  2021-04-27 00:00:00         1         1   \n16  2021-03-02 00:00:00  2021-04-27 00:00:00         1         1   \n17  2021-10-19 00:36:31  2021-12-14 21:30:00         1         1   \n18  2021-08-03 19:00:00  2021-09-28 21:00:00         1         1   \n\n                   categories      lastName         title  isSuperUser  \\\n0          Web Dev,Full-stack          Khan  [[REDACTED]]            1   \n1          Web Dev,Full-stack        Cecile  [[REDACTED]]            1   \n2                     Web Dev          Khan  [[REDACTED]]            1   \n3                     Web Dev        Cecile  [[REDACTED]]            1   \n4                     Web Dev          Khan  [[REDACTED]]            1   \n5                     Web Dev          Khan  [[REDACTED]]            1   \n6                     Web Dev        Cecile  [[REDACTED]]            1   \n7                     Web Dev        Cecile  [[REDACTED]]            1   \n8                     Web Dev         Hayre     They/Them            0   \n9                     Web Dev         Hayre     They/Them            0   \n10           Web Dev,FrontEnd          Khan  [[REDACTED]]            1   \n11           Web Dev,FrontEnd        Cecile  [[REDACTED]]            1   \n12          Beginner, Web Dev        Cecile  [[REDACTED]]            1   \n13  Web Dev,FrontEnd,Beginner        Cecile  [[REDACTED]]            1   \n14                   Game Dev  [[REDACTED]]     They/Them            0   \n15                   Game Dev    Carstairs      They/Them            0   \n16                   Game Dev        Sherry     They/Them            0   \n17           Web Dev,FrontEnd     Parkinson     They/Them            1   \n18     Web Dev, BackEnd, .NET      Saunders     They/Them            0   \n\n              lastLogin  userId_y  \n0   2022-02-24 13:05:16         2  \n1   2022-04-21 10:17:50         2  \n2   2022-02-24 13:05:16         2  \n3   2022-04-21 10:17:50         2  \n4   2022-02-24 13:05:16         1  \n5   2022-02-24 13:05:16         2  \n6   2022-04-21 10:17:50         1  \n7   2022-04-21 10:17:50         2  \n8   2021-04-08 12:43:11         1  \n9   2021-04-08 12:43:11         2  \n10  2022-02-24 13:05:16         1  \n11  2022-04-21 10:17:50         2  \n12  2022-04-21 10:17:50         2  \n13  2022-04-21 10:17:50         1  \n14  2021-07-04 20:35:29        67  \n15  2021-03-30 18:10:30        67  \n16  2021-04-27 19:32:34        67  \n17  2021-02-20 20:50:21         4  \n18  2021-07-26 18:07:51       130  ",
      "text/html": "<div>\n<style scoped>\n    .dataframe tbody tr th:only-of-type {\n        vertical-align: middle;\n    }\n\n    .dataframe tbody tr th {\n        vertical-align: top;\n    }\n\n    .dataframe thead th {\n        text-align: right;\n    }\n</style>\n<table border=\"1\" class=\"dataframe\">\n  <thead>\n    <tr style=\"text-align: right;\">\n      <th></th>\n      <th>coursesId</th>\n      <th>userId_x</th>\n      <th>name</th>\n      <th>sessionCount</th>\n      <th>startDate</th>\n      <th>endDate</th>\n      <th>isOnline</th>\n      <th>isPublic</th>\n      <th>categories</th>\n      <th>lastName</th>\n      <th>title</th>\n      <th>isSuperUser</th>\n      <th>lastLogin</th>\n      <th>userId_y</th>\n    </tr>\n  </thead>\n  <tbody>\n    <tr>\n      <th>0</th>\n      <td>1</td>\n      <td>1</td>\n      <td>Workings of the Web</td>\n      <td>6</td>\n      <td>2019-01-22 03:37:52</td>\n      <td>2019-03-26 03:31:58</td>\n      <td>0</td>\n      <td>1</td>\n      <td>Web Dev,Full-stack</td>\n      <td>Khan</td>\n      <td>[[REDACTED]]</td>\n      <td>1</td>\n      <td>2022-02-24 13:05:16</td>\n      <td>2</td>\n    </tr>\n    <tr>\n      <th>1</th>\n      <td>1</td>\n      <td>2</td>\n      <td>Workings of the Web</td>\n      <td>6</td>\n      <td>2019-01-22 03:37:52</td>\n      <td>2019-03-26 03:31:58</td>\n      <td>0</td>\n      <td>1</td>\n      <td>Web Dev,Full-stack</td>\n      <td>Cecile</td>\n      <td>[[REDACTED]]</td>\n      <td>1</td>\n      <td>2022-04-21 10:17:50</td>\n      <td>2</td>\n    </tr>\n    <tr>\n      <th>2</th>\n      <td>2</td>\n      <td>1</td>\n      <td>Web Dev from Scratch</td>\n      <td>6</td>\n      <td>2019-06-10 19:35:45</td>\n      <td>2019-06-04 19:35:45</td>\n      <td>0</td>\n      <td>1</td>\n      <td>Web Dev</td>\n      <td>Khan</td>\n      <td>[[REDACTED]]</td>\n      <td>1</td>\n      <td>2022-02-24 13:05:16</td>\n      <td>2</td>\n    </tr>\n    <tr>\n      <th>3</th>\n      <td>2</td>\n      <td>2</td>\n      <td>Web Dev from Scratch</td>\n      <td>6</td>\n      <td>2019-06-10 19:35:45</td>\n      <td>2019-06-04 19:35:45</td>\n      <td>0</td>\n      <td>1</td>\n      <td>Web Dev</td>\n      <td>Cecile</td>\n      <td>[[REDACTED]]</td>\n      <td>1</td>\n      <td>2022-04-21 10:17:50</td>\n      <td>2</td>\n    </tr>\n    <tr>\n      <th>4</th>\n      <td>3</td>\n      <td>1</td>\n      <td>Intro to Web Dev</td>\n      <td>9</td>\n      <td>2019-11-05 12:36:31</td>\n      <td>2020-02-04 12:36:31</td>\n      <td>0</td>\n      <td>1</td>\n      <td>Web Dev</td>\n      <td>Khan</td>\n      <td>[[REDACTED]]</td>\n      <td>1</td>\n      <td>2022-02-24 13:05:16</td>\n      <td>1</td>\n    </tr>\n    <tr>\n      <th>5</th>\n      <td>3</td>\n      <td>1</td>\n      <td>Intro to Web Dev</td>\n      <td>9</td>\n      <td>2019-11-05 12:36:31</td>\n      <td>2020-02-04 12:36:31</td>\n      <td>0</td>\n      <td>1</td>\n      <td>Web Dev</td>\n      <td>Khan</td>\n      <td>[[REDACTED]]</td>\n      <td>1</td>\n      <td>2022-02-24 13:05:16</td>\n      <td>2</td>\n    </tr>\n    <tr>\n      <th>6</th>\n      <td>3</td>\n      <td>2</td>\n      <td>Intro to Web Dev</td>\n      <td>9</td>\n      <td>2019-11-05 12:36:31</td>\n      <td>2020-02-04 12:36:31</td>\n      <td>0</td>\n      <td>1</td>\n      <td>Web Dev</td>\n      <td>Cecile</td>\n      <td>[[REDACTED]]</td>\n      <td>1</td>\n      <td>2022-04-21 10:17:50</td>\n      <td>1</td>\n    </tr>\n    <tr>\n      <th>7</th>\n      <td>3</td>\n      <td>2</td>\n      <td>Intro to Web Dev</td>\n      <td>9</td>\n      <td>2019-11-05 12:36:31</td>\n      <td>2020-02-04 12:36:31</td>\n      <td>0</td>\n      <td>1</td>\n      <td>Web Dev</td>\n      <td>Cecile</td>\n      <td>[[REDACTED]]</td>\n      <td>1</td>\n      <td>2022-04-21 10:17:50</td>\n      <td>2</td>\n    </tr>\n    <tr>\n      <th>8</th>\n      <td>3</td>\n      <td>3</td>\n      <td>Intro to Web Dev</td>\n      <td>9</td>\n      <td>2019-11-05 12:36:31</td>\n      <td>2020-02-04 12:36:31</td>\n      <td>0</td>\n      <td>1</td>\n      <td>Web Dev</td>\n      <td>Hayre</td>\n      <td>They/Them</td>\n      <td>0</td>\n      <td>2021-04-08 12:43:11</td>\n      <td>1</td>\n    </tr>\n    <tr>\n      <th>9</th>\n      <td>3</td>\n      <td>3</td>\n      <td>Intro to Web Dev</td>\n      <td>9</td>\n      <td>2019-11-05 12:36:31</td>\n      <td>2020-02-04 12:36:31</td>\n      <td>0</td>\n      <td>1</td>\n      <td>Web Dev</td>\n      <td>Hayre</td>\n      <td>They/Them</td>\n      <td>0</td>\n      <td>2021-04-08 12:43:11</td>\n      <td>2</td>\n    </tr>\n    <tr>\n      <th>10</th>\n      <td>8</td>\n      <td>1</td>\n      <td>Intro to Next.js</td>\n      <td>9</td>\n      <td>2022-05-12 19:00:00</td>\n      <td>2022-07-30 19:00:00</td>\n      <td>0</td>\n      <td>1</td>\n      <td>Web Dev,FrontEnd</td>\n      <td>Khan</td>\n      <td>[[REDACTED]]</td>\n      <td>1</td>\n      <td>2022-02-24 13:05:16</td>\n      <td>1</td>\n    </tr>\n    <tr>\n      <th>11</th>\n      <td>6</td>\n      <td>2</td>\n      <td>Front End Fundamentals</td>\n      <td>9</td>\n      <td>2021-06-01 00:36:31</td>\n      <td>2021-08-03 21:30:00</td>\n      <td>0</td>\n      <td>1</td>\n      <td>Web Dev,FrontEnd</td>\n      <td>Cecile</td>\n      <td>[[REDACTED]]</td>\n      <td>1</td>\n      <td>2022-04-21 10:17:50</td>\n      <td>2</td>\n    </tr>\n    <tr>\n      <th>12</th>\n      <td>9</td>\n      <td>2</td>\n      <td>Programming Fundamentals</td>\n      <td>1</td>\n      <td>2021-07-03 10:00:00</td>\n      <td>2021-07-03 17:00:00</td>\n      <td>1</td>\n      <td>1</td>\n      <td>Beginner, Web Dev</td>\n      <td>Cecile</td>\n      <td>[[REDACTED]]</td>\n      <td>1</td>\n      <td>2022-04-21 10:17:50</td>\n      <td>2</td>\n    </tr>\n    <tr>\n      <th>13</th>\n      <td>12</td>\n      <td>2</td>\n      <td>Intro to Web Dev</td>\n      <td>9</td>\n      <td>2022-04-12 19:00:00</td>\n      <td>2022-06-14 21:00:00</td>\n      <td>0</td>\n      <td>1</td>\n      <td>Web Dev,FrontEnd,Beginner</td>\n      <td>Cecile</td>\n      <td>[[REDACTED]]</td>\n      <td>1</td>\n      <td>2022-04-21 10:17:50</td>\n      <td>1</td>\n    </tr>\n    <tr>\n      <th>14</th>\n      <td>5</td>\n      <td>67</td>\n      <td>Intro to Game Dev with Unity</td>\n      <td>9</td>\n      <td>2021-03-02 00:00:00</td>\n      <td>2021-04-27 00:00:00</td>\n      <td>1</td>\n      <td>1</td>\n      <td>Game Dev</td>\n      <td>[[REDACTED]]</td>\n      <td>They/Them</td>\n      <td>0</td>\n      <td>2021-07-04 20:35:29</td>\n      <td>67</td>\n    </tr>\n    <tr>\n      <th>15</th>\n      <td>5</td>\n      <td>110</td>\n      <td>Intro to Game Dev with Unity</td>\n      <td>9</td>\n      <td>2021-03-02 00:00:00</td>\n      <td>2021-04-27 00:00:00</td>\n      <td>1</td>\n      <td>1</td>\n      <td>Game Dev</td>\n      <td>Carstairs</td>\n      <td>They/Them</td>\n      <td>0</td>\n      <td>2021-03-30 18:10:30</td>\n      <td>67</td>\n    </tr>\n    <tr>\n      <th>16</th>\n      <td>5</td>\n      <td>111</td>\n      <td>Intro to Game Dev with Unity</td>\n      <td>9</td>\n      <td>2021-03-02 00:00:00</td>\n      <td>2021-04-27 00:00:00</td>\n      <td>1</td>\n      <td>1</td>\n      <td>Game Dev</td>\n      <td>Sherry</td>\n      <td>They/Them</td>\n      <td>0</td>\n      <td>2021-04-27 19:32:34</td>\n      <td>67</td>\n    </tr>\n    <tr>\n      <th>17</th>\n      <td>7</td>\n      <td>4</td>\n      <td>Intro into VueJS</td>\n      <td>5</td>\n      <td>2021-10-19 00:36:31</td>\n      <td>2021-12-14 21:30:00</td>\n      <td>1</td>\n      <td>1</td>\n      <td>Web Dev,FrontEnd</td>\n      <td>Parkinson</td>\n      <td>They/Them</td>\n      <td>1</td>\n      <td>2021-02-20 20:50:21</td>\n      <td>4</td>\n    </tr>\n    <tr>\n      <th>18</th>\n      <td>11</td>\n      <td>130</td>\n      <td>Intro to .NET with C#</td>\n      <td>9</td>\n      <td>2021-08-03 19:00:00</td>\n      <td>2021-09-28 21:00:00</td>\n      <td>1</td>\n      <td>1</td>\n      <td>Web Dev, BackEnd, .NET</td>\n      <td>Saunders</td>\n      <td>They/Them</td>\n      <td>0</td>\n      <td>2021-07-26 18:07:51</td>\n      <td>130</td>\n    </tr>\n  </tbody>\n</table>\n</div>"
     },
     "metadata": {}
    }
   ]
  },
  {
   "cell_type": "code",
   "metadata": {
    "cell_id": "50b8a3159d2e4e14ba0fcde55d14271d",
    "tags": [],
    "deepnote_to_be_reexecuted": false,
    "source_hash": "cd19d83b",
    "execution_start": 1652907671644,
    "execution_millis": 2,
    "deepnote_table_state": {
     "pageSize": 10,
     "pageIndex": 6,
     "filters": [],
     "sortBy": []
    },
    "deepnote_table_loading": false,
    "deepnote_cell_type": "code",
    "deepnote_cell_height": 618
   },
   "source": "learners.columns = learners.columns.str.replace('usersId', 'userId')\nlearners",
   "execution_count": 33,
   "outputs": [
    {
     "output_type": "execute_result",
     "execution_count": 61,
     "data": {
      "application/vnd.deepnote.dataframe.v3+json": {
       "column_count": 2,
       "row_count": 74,
       "columns": [
        {
         "name": "coursesId",
         "dtype": "int64",
         "stats": {
          "unique_count": 6,
          "nan_count": 0,
          "min": "3",
          "max": "11",
          "histogram": [
           {
            "bin_start": 3,
            "bin_end": 3.8,
            "count": 47
           },
           {
            "bin_start": 3.8,
            "bin_end": 4.6,
            "count": 0
           },
           {
            "bin_start": 4.6,
            "bin_end": 5.4,
            "count": 14
           },
           {
            "bin_start": 5.4,
            "bin_end": 6.2,
            "count": 0
           },
           {
            "bin_start": 6.2,
            "bin_end": 7,
            "count": 0
           },
           {
            "bin_start": 7,
            "bin_end": 7.800000000000001,
            "count": 2
           },
           {
            "bin_start": 7.800000000000001,
            "bin_end": 8.600000000000001,
            "count": 0
           },
           {
            "bin_start": 8.600000000000001,
            "bin_end": 9.4,
            "count": 9
           },
           {
            "bin_start": 9.4,
            "bin_end": 10.2,
            "count": 1
           },
           {
            "bin_start": 10.2,
            "bin_end": 11,
            "count": 1
           }
          ]
         }
        },
        {
         "name": "userId",
         "dtype": "int64",
         "stats": {
          "unique_count": 72,
          "nan_count": 0,
          "min": "4",
          "max": "131",
          "histogram": [
           {
            "bin_start": 4,
            "bin_end": 16.7,
            "count": 12
           },
           {
            "bin_start": 16.7,
            "bin_end": 29.4,
            "count": 13
           },
           {
            "bin_start": 29.4,
            "bin_end": 42.099999999999994,
            "count": 13
           },
           {
            "bin_start": 42.099999999999994,
            "bin_end": 54.8,
            "count": 11
           },
           {
            "bin_start": 54.8,
            "bin_end": 67.5,
            "count": 2
           },
           {
            "bin_start": 67.5,
            "bin_end": 80.19999999999999,
            "count": 2
           },
           {
            "bin_start": 80.19999999999999,
            "bin_end": 92.89999999999999,
            "count": 8
           },
           {
            "bin_start": 92.89999999999999,
            "bin_end": 105.6,
            "count": 2
           },
           {
            "bin_start": 105.6,
            "bin_end": 118.3,
            "count": 2
           },
           {
            "bin_start": 118.3,
            "bin_end": 131,
            "count": 9
           }
          ]
         }
        },
        {
         "name": "_deepnote_index_column",
         "dtype": "int64"
        }
       ],
       "rows": [
        {
         "coursesId": 5,
         "userId": 115,
         "_deepnote_index_column": 60
        },
        {
         "coursesId": 7,
         "userId": 4,
         "_deepnote_index_column": 61
        },
        {
         "coursesId": 7,
         "userId": 129,
         "_deepnote_index_column": 62
        },
        {
         "coursesId": 9,
         "userId": 66,
         "_deepnote_index_column": 63
        },
        {
         "coursesId": 9,
         "userId": 105,
         "_deepnote_index_column": 64
        },
        {
         "coursesId": 9,
         "userId": 121,
         "_deepnote_index_column": 65
        },
        {
         "coursesId": 9,
         "userId": 122,
         "_deepnote_index_column": 66
        },
        {
         "coursesId": 9,
         "userId": 123,
         "_deepnote_index_column": 67
        },
        {
         "coursesId": 9,
         "userId": 124,
         "_deepnote_index_column": 68
        },
        {
         "coursesId": 9,
         "userId": 125,
         "_deepnote_index_column": 69
        }
       ]
      },
      "text/plain": "    coursesId  userId\n0           3       5\n1           3       6\n2           3       8\n3           3       9\n4           3      10\n..        ...     ...\n69          9     125\n70          9     127\n71          9     128\n72         10      54\n73         11     131\n\n[74 rows x 2 columns]",
      "text/html": "<div>\n<style scoped>\n    .dataframe tbody tr th:only-of-type {\n        vertical-align: middle;\n    }\n\n    .dataframe tbody tr th {\n        vertical-align: top;\n    }\n\n    .dataframe thead th {\n        text-align: right;\n    }\n</style>\n<table border=\"1\" class=\"dataframe\">\n  <thead>\n    <tr style=\"text-align: right;\">\n      <th></th>\n      <th>coursesId</th>\n      <th>userId</th>\n    </tr>\n  </thead>\n  <tbody>\n    <tr>\n      <th>0</th>\n      <td>3</td>\n      <td>5</td>\n    </tr>\n    <tr>\n      <th>1</th>\n      <td>3</td>\n      <td>6</td>\n    </tr>\n    <tr>\n      <th>2</th>\n      <td>3</td>\n      <td>8</td>\n    </tr>\n    <tr>\n      <th>3</th>\n      <td>3</td>\n      <td>9</td>\n    </tr>\n    <tr>\n      <th>4</th>\n      <td>3</td>\n      <td>10</td>\n    </tr>\n    <tr>\n      <th>...</th>\n      <td>...</td>\n      <td>...</td>\n    </tr>\n    <tr>\n      <th>69</th>\n      <td>9</td>\n      <td>125</td>\n    </tr>\n    <tr>\n      <th>70</th>\n      <td>9</td>\n      <td>127</td>\n    </tr>\n    <tr>\n      <th>71</th>\n      <td>9</td>\n      <td>128</td>\n    </tr>\n    <tr>\n      <th>72</th>\n      <td>10</td>\n      <td>54</td>\n    </tr>\n    <tr>\n      <th>73</th>\n      <td>11</td>\n      <td>131</td>\n    </tr>\n  </tbody>\n</table>\n<p>74 rows × 2 columns</p>\n</div>"
     },
     "metadata": {}
    }
   ]
  },
  {
   "cell_type": "code",
   "metadata": {
    "cell_id": "ff267068d8ce41da9e75e25899d59cf3",
    "tags": [],
    "deepnote_to_be_reexecuted": false,
    "source_hash": "b27add54",
    "execution_start": 1652907671697,
    "execution_millis": 9,
    "deepnote_cell_type": "code",
    "deepnote_cell_height": 613.59375
   },
   "source": "courses",
   "execution_count": 34,
   "outputs": [
    {
     "output_type": "execute_result",
     "execution_count": 34,
     "data": {
      "application/vnd.deepnote.dataframe.v3+json": {
       "column_count": 8,
       "row_count": 11,
       "columns": [
        {
         "name": "coursesId",
         "dtype": "int64",
         "stats": {
          "unique_count": 11,
          "nan_count": 0,
          "min": "1",
          "max": "12",
          "histogram": [
           {
            "bin_start": 1,
            "bin_end": 2.1,
            "count": 2
           },
           {
            "bin_start": 2.1,
            "bin_end": 3.2,
            "count": 1
           },
           {
            "bin_start": 3.2,
            "bin_end": 4.300000000000001,
            "count": 0
           },
           {
            "bin_start": 4.300000000000001,
            "bin_end": 5.4,
            "count": 1
           },
           {
            "bin_start": 5.4,
            "bin_end": 6.5,
            "count": 1
           },
           {
            "bin_start": 6.5,
            "bin_end": 7.6000000000000005,
            "count": 1
           },
           {
            "bin_start": 7.6000000000000005,
            "bin_end": 8.700000000000001,
            "count": 1
           },
           {
            "bin_start": 8.700000000000001,
            "bin_end": 9.8,
            "count": 1
           },
           {
            "bin_start": 9.8,
            "bin_end": 10.9,
            "count": 1
           },
           {
            "bin_start": 10.9,
            "bin_end": 12,
            "count": 2
           }
          ]
         }
        },
        {
         "name": "name",
         "dtype": "object",
         "stats": {
          "unique_count": 10,
          "nan_count": 0,
          "categories": [
           {
            "name": "Intro to Web Dev",
            "count": 2
           },
           {
            "name": "Workings of the Web",
            "count": 1
           },
           {
            "name": "8 others",
            "count": 8
           }
          ]
         }
        },
        {
         "name": "sessionCount",
         "dtype": "int64",
         "stats": {
          "unique_count": 4,
          "nan_count": 0,
          "min": "1",
          "max": "9",
          "histogram": [
           {
            "bin_start": 1,
            "bin_end": 1.8,
            "count": 2
           },
           {
            "bin_start": 1.8,
            "bin_end": 2.6,
            "count": 0
           },
           {
            "bin_start": 2.6,
            "bin_end": 3.4000000000000004,
            "count": 0
           },
           {
            "bin_start": 3.4000000000000004,
            "bin_end": 4.2,
            "count": 0
           },
           {
            "bin_start": 4.2,
            "bin_end": 5,
            "count": 0
           },
           {
            "bin_start": 5,
            "bin_end": 5.800000000000001,
            "count": 1
           },
           {
            "bin_start": 5.800000000000001,
            "bin_end": 6.6000000000000005,
            "count": 2
           },
           {
            "bin_start": 6.6000000000000005,
            "bin_end": 7.4,
            "count": 0
           },
           {
            "bin_start": 7.4,
            "bin_end": 8.2,
            "count": 0
           },
           {
            "bin_start": 8.2,
            "bin_end": 9,
            "count": 6
           }
          ]
         }
        },
        {
         "name": "startDate",
         "dtype": "object",
         "stats": {
          "unique_count": 11,
          "nan_count": 0,
          "categories": [
           {
            "name": "2019-01-22 03:37:52",
            "count": 1
           },
           {
            "name": "2019-06-10 19:35:45",
            "count": 1
           },
           {
            "name": "9 others",
            "count": 9
           }
          ]
         }
        },
        {
         "name": "endDate",
         "dtype": "object",
         "stats": {
          "unique_count": 11,
          "nan_count": 0,
          "categories": [
           {
            "name": "2019-03-26 03:31:58",
            "count": 1
           },
           {
            "name": "2019-06-04 19:35:45",
            "count": 1
           },
           {
            "name": "9 others",
            "count": 9
           }
          ]
         }
        },
        {
         "name": "isOnline",
         "dtype": "int64",
         "stats": {
          "unique_count": 2,
          "nan_count": 0,
          "min": "0",
          "max": "1",
          "histogram": [
           {
            "bin_start": 0,
            "bin_end": 0.1,
            "count": 7
           },
           {
            "bin_start": 0.1,
            "bin_end": 0.2,
            "count": 0
           },
           {
            "bin_start": 0.2,
            "bin_end": 0.30000000000000004,
            "count": 0
           },
           {
            "bin_start": 0.30000000000000004,
            "bin_end": 0.4,
            "count": 0
           },
           {
            "bin_start": 0.4,
            "bin_end": 0.5,
            "count": 0
           },
           {
            "bin_start": 0.5,
            "bin_end": 0.6000000000000001,
            "count": 0
           },
           {
            "bin_start": 0.6000000000000001,
            "bin_end": 0.7000000000000001,
            "count": 0
           },
           {
            "bin_start": 0.7000000000000001,
            "bin_end": 0.8,
            "count": 0
           },
           {
            "bin_start": 0.8,
            "bin_end": 0.9,
            "count": 0
           },
           {
            "bin_start": 0.9,
            "bin_end": 1,
            "count": 4
           }
          ]
         }
        },
        {
         "name": "isPublic",
         "dtype": "int64",
         "stats": {
          "unique_count": 2,
          "nan_count": 0,
          "min": "0",
          "max": "1",
          "histogram": [
           {
            "bin_start": 0,
            "bin_end": 0.1,
            "count": 1
           },
           {
            "bin_start": 0.1,
            "bin_end": 0.2,
            "count": 0
           },
           {
            "bin_start": 0.2,
            "bin_end": 0.30000000000000004,
            "count": 0
           },
           {
            "bin_start": 0.30000000000000004,
            "bin_end": 0.4,
            "count": 0
           },
           {
            "bin_start": 0.4,
            "bin_end": 0.5,
            "count": 0
           },
           {
            "bin_start": 0.5,
            "bin_end": 0.6000000000000001,
            "count": 0
           },
           {
            "bin_start": 0.6000000000000001,
            "bin_end": 0.7000000000000001,
            "count": 0
           },
           {
            "bin_start": 0.7000000000000001,
            "bin_end": 0.8,
            "count": 0
           },
           {
            "bin_start": 0.8,
            "bin_end": 0.9,
            "count": 0
           },
           {
            "bin_start": 0.9,
            "bin_end": 1,
            "count": 10
           }
          ]
         }
        },
        {
         "name": "categories",
         "dtype": "object",
         "stats": {
          "unique_count": 7,
          "nan_count": 1,
          "categories": [
           {
            "name": "Web Dev,FrontEnd",
            "count": 3
           },
           {
            "name": "6 others",
            "count": 7
           },
           {
            "name": "Missing",
            "count": 1
           }
          ]
         }
        },
        {
         "name": "_deepnote_index_column",
         "dtype": "int64"
        }
       ],
       "rows": [
        {
         "coursesId": 1,
         "name": "Workings of the Web",
         "sessionCount": 6,
         "startDate": "2019-01-22 03:37:52",
         "endDate": "2019-03-26 03:31:58",
         "isOnline": 0,
         "isPublic": 1,
         "categories": "Web Dev,Full-stack",
         "_deepnote_index_column": 0
        },
        {
         "coursesId": 2,
         "name": "Web Dev from Scratch",
         "sessionCount": 6,
         "startDate": "2019-06-10 19:35:45",
         "endDate": "2019-06-04 19:35:45",
         "isOnline": 0,
         "isPublic": 1,
         "categories": "Web Dev",
         "_deepnote_index_column": 1
        },
        {
         "coursesId": 3,
         "name": "Intro to Web Dev",
         "sessionCount": 9,
         "startDate": "2019-11-05 12:36:31",
         "endDate": "2020-02-04 12:36:31",
         "isOnline": 0,
         "isPublic": 1,
         "categories": "Web Dev",
         "_deepnote_index_column": 2
        },
        {
         "coursesId": 5,
         "name": "Intro to Game Dev with Unity",
         "sessionCount": 9,
         "startDate": "2021-03-02 00:00:00",
         "endDate": "2021-04-27 00:00:00",
         "isOnline": 1,
         "isPublic": 1,
         "categories": "Game Dev",
         "_deepnote_index_column": 3
        },
        {
         "coursesId": 6,
         "name": "Front End Fundamentals",
         "sessionCount": 9,
         "startDate": "2021-06-01 00:36:31",
         "endDate": "2021-08-03 21:30:00",
         "isOnline": 0,
         "isPublic": 1,
         "categories": "Web Dev,FrontEnd",
         "_deepnote_index_column": 4
        },
        {
         "coursesId": 7,
         "name": "Intro into VueJS",
         "sessionCount": 5,
         "startDate": "2021-10-19 00:36:31",
         "endDate": "2021-12-14 21:30:00",
         "isOnline": 1,
         "isPublic": 1,
         "categories": "Web Dev,FrontEnd",
         "_deepnote_index_column": 5
        },
        {
         "coursesId": 8,
         "name": "Intro to Next.js",
         "sessionCount": 9,
         "startDate": "2022-05-12 19:00:00",
         "endDate": "2022-07-30 19:00:00",
         "isOnline": 0,
         "isPublic": 1,
         "categories": "Web Dev,FrontEnd",
         "_deepnote_index_column": 6
        },
        {
         "coursesId": 9,
         "name": "Programming Fundamentals",
         "sessionCount": 1,
         "startDate": "2021-07-03 10:00:00",
         "endDate": "2021-07-03 17:00:00",
         "isOnline": 1,
         "isPublic": 1,
         "categories": "Beginner, Web Dev",
         "_deepnote_index_column": 7
        },
        {
         "coursesId": 10,
         "name": "TestCourse32",
         "sessionCount": 1,
         "startDate": "2020-02-02 02:02:02",
         "endDate": "2020-02-02 20:20:20",
         "isOnline": 0,
         "isPublic": 0,
         "categories": "nan",
         "_deepnote_index_column": 8
        },
        {
         "coursesId": 11,
         "name": "Intro to .NET with C#",
         "sessionCount": 9,
         "startDate": "2021-08-03 19:00:00",
         "endDate": "2021-09-28 21:00:00",
         "isOnline": 1,
         "isPublic": 1,
         "categories": "Web Dev, BackEnd, .NET",
         "_deepnote_index_column": 9
        }
       ]
      },
      "text/plain": "    coursesId                          name  sessionCount  \\\n0           1           Workings of the Web             6   \n1           2          Web Dev from Scratch             6   \n2           3              Intro to Web Dev             9   \n3           5  Intro to Game Dev with Unity             9   \n4           6        Front End Fundamentals             9   \n5           7              Intro into VueJS             5   \n6           8              Intro to Next.js             9   \n7           9      Programming Fundamentals             1   \n8          10                  TestCourse32             1   \n9          11         Intro to .NET with C#             9   \n10         12              Intro to Web Dev             9   \n\n              startDate              endDate  isOnline  isPublic  \\\n0   2019-01-22 03:37:52  2019-03-26 03:31:58         0         1   \n1   2019-06-10 19:35:45  2019-06-04 19:35:45         0         1   \n2   2019-11-05 12:36:31  2020-02-04 12:36:31         0         1   \n3   2021-03-02 00:00:00  2021-04-27 00:00:00         1         1   \n4   2021-06-01 00:36:31  2021-08-03 21:30:00         0         1   \n5   2021-10-19 00:36:31  2021-12-14 21:30:00         1         1   \n6   2022-05-12 19:00:00  2022-07-30 19:00:00         0         1   \n7   2021-07-03 10:00:00  2021-07-03 17:00:00         1         1   \n8   2020-02-02 02:02:02  2020-02-02 20:20:20         0         0   \n9   2021-08-03 19:00:00  2021-09-28 21:00:00         1         1   \n10  2022-04-12 19:00:00  2022-06-14 21:00:00         0         1   \n\n                   categories  \n0          Web Dev,Full-stack  \n1                     Web Dev  \n2                     Web Dev  \n3                    Game Dev  \n4            Web Dev,FrontEnd  \n5            Web Dev,FrontEnd  \n6            Web Dev,FrontEnd  \n7           Beginner, Web Dev  \n8                         NaN  \n9      Web Dev, BackEnd, .NET  \n10  Web Dev,FrontEnd,Beginner  ",
      "text/html": "<div>\n<style scoped>\n    .dataframe tbody tr th:only-of-type {\n        vertical-align: middle;\n    }\n\n    .dataframe tbody tr th {\n        vertical-align: top;\n    }\n\n    .dataframe thead th {\n        text-align: right;\n    }\n</style>\n<table border=\"1\" class=\"dataframe\">\n  <thead>\n    <tr style=\"text-align: right;\">\n      <th></th>\n      <th>coursesId</th>\n      <th>name</th>\n      <th>sessionCount</th>\n      <th>startDate</th>\n      <th>endDate</th>\n      <th>isOnline</th>\n      <th>isPublic</th>\n      <th>categories</th>\n    </tr>\n  </thead>\n  <tbody>\n    <tr>\n      <th>0</th>\n      <td>1</td>\n      <td>Workings of the Web</td>\n      <td>6</td>\n      <td>2019-01-22 03:37:52</td>\n      <td>2019-03-26 03:31:58</td>\n      <td>0</td>\n      <td>1</td>\n      <td>Web Dev,Full-stack</td>\n    </tr>\n    <tr>\n      <th>1</th>\n      <td>2</td>\n      <td>Web Dev from Scratch</td>\n      <td>6</td>\n      <td>2019-06-10 19:35:45</td>\n      <td>2019-06-04 19:35:45</td>\n      <td>0</td>\n      <td>1</td>\n      <td>Web Dev</td>\n    </tr>\n    <tr>\n      <th>2</th>\n      <td>3</td>\n      <td>Intro to Web Dev</td>\n      <td>9</td>\n      <td>2019-11-05 12:36:31</td>\n      <td>2020-02-04 12:36:31</td>\n      <td>0</td>\n      <td>1</td>\n      <td>Web Dev</td>\n    </tr>\n    <tr>\n      <th>3</th>\n      <td>5</td>\n      <td>Intro to Game Dev with Unity</td>\n      <td>9</td>\n      <td>2021-03-02 00:00:00</td>\n      <td>2021-04-27 00:00:00</td>\n      <td>1</td>\n      <td>1</td>\n      <td>Game Dev</td>\n    </tr>\n    <tr>\n      <th>4</th>\n      <td>6</td>\n      <td>Front End Fundamentals</td>\n      <td>9</td>\n      <td>2021-06-01 00:36:31</td>\n      <td>2021-08-03 21:30:00</td>\n      <td>0</td>\n      <td>1</td>\n      <td>Web Dev,FrontEnd</td>\n    </tr>\n    <tr>\n      <th>5</th>\n      <td>7</td>\n      <td>Intro into VueJS</td>\n      <td>5</td>\n      <td>2021-10-19 00:36:31</td>\n      <td>2021-12-14 21:30:00</td>\n      <td>1</td>\n      <td>1</td>\n      <td>Web Dev,FrontEnd</td>\n    </tr>\n    <tr>\n      <th>6</th>\n      <td>8</td>\n      <td>Intro to Next.js</td>\n      <td>9</td>\n      <td>2022-05-12 19:00:00</td>\n      <td>2022-07-30 19:00:00</td>\n      <td>0</td>\n      <td>1</td>\n      <td>Web Dev,FrontEnd</td>\n    </tr>\n    <tr>\n      <th>7</th>\n      <td>9</td>\n      <td>Programming Fundamentals</td>\n      <td>1</td>\n      <td>2021-07-03 10:00:00</td>\n      <td>2021-07-03 17:00:00</td>\n      <td>1</td>\n      <td>1</td>\n      <td>Beginner, Web Dev</td>\n    </tr>\n    <tr>\n      <th>8</th>\n      <td>10</td>\n      <td>TestCourse32</td>\n      <td>1</td>\n      <td>2020-02-02 02:02:02</td>\n      <td>2020-02-02 20:20:20</td>\n      <td>0</td>\n      <td>0</td>\n      <td>NaN</td>\n    </tr>\n    <tr>\n      <th>9</th>\n      <td>11</td>\n      <td>Intro to .NET with C#</td>\n      <td>9</td>\n      <td>2021-08-03 19:00:00</td>\n      <td>2021-09-28 21:00:00</td>\n      <td>1</td>\n      <td>1</td>\n      <td>Web Dev, BackEnd, .NET</td>\n    </tr>\n    <tr>\n      <th>10</th>\n      <td>12</td>\n      <td>Intro to Web Dev</td>\n      <td>9</td>\n      <td>2022-04-12 19:00:00</td>\n      <td>2022-06-14 21:00:00</td>\n      <td>0</td>\n      <td>1</td>\n      <td>Web Dev,FrontEnd,Beginner</td>\n    </tr>\n  </tbody>\n</table>\n</div>"
     },
     "metadata": {}
    }
   ]
  },
  {
   "cell_type": "code",
   "metadata": {
    "cell_id": "80da43074fc84172963d038639092749",
    "tags": [],
    "deepnote_to_be_reexecuted": false,
    "source_hash": "12975429",
    "execution_start": 1652907671756,
    "execution_millis": 41,
    "deepnote_cell_type": "code",
    "deepnote_cell_height": 631.59375
   },
   "source": "learners_courses = courses.merge(learners.set_index('coursesId'), on= 'coursesId')\nlearners_courses",
   "execution_count": 35,
   "outputs": [
    {
     "output_type": "execute_result",
     "execution_count": 35,
     "data": {
      "application/vnd.deepnote.dataframe.v3+json": {
       "column_count": 9,
       "row_count": 74,
       "columns": [
        {
         "name": "coursesId",
         "dtype": "int64",
         "stats": {
          "unique_count": 6,
          "nan_count": 0,
          "min": "3",
          "max": "11",
          "histogram": [
           {
            "bin_start": 3,
            "bin_end": 3.8,
            "count": 47
           },
           {
            "bin_start": 3.8,
            "bin_end": 4.6,
            "count": 0
           },
           {
            "bin_start": 4.6,
            "bin_end": 5.4,
            "count": 14
           },
           {
            "bin_start": 5.4,
            "bin_end": 6.2,
            "count": 0
           },
           {
            "bin_start": 6.2,
            "bin_end": 7,
            "count": 0
           },
           {
            "bin_start": 7,
            "bin_end": 7.800000000000001,
            "count": 2
           },
           {
            "bin_start": 7.800000000000001,
            "bin_end": 8.600000000000001,
            "count": 0
           },
           {
            "bin_start": 8.600000000000001,
            "bin_end": 9.4,
            "count": 9
           },
           {
            "bin_start": 9.4,
            "bin_end": 10.2,
            "count": 1
           },
           {
            "bin_start": 10.2,
            "bin_end": 11,
            "count": 1
           }
          ]
         }
        },
        {
         "name": "name",
         "dtype": "object",
         "stats": {
          "unique_count": 6,
          "nan_count": 0,
          "categories": [
           {
            "name": "Intro to Web Dev",
            "count": 47
           },
           {
            "name": "Intro to Game Dev with Unity",
            "count": 14
           },
           {
            "name": "4 others",
            "count": 13
           }
          ]
         }
        },
        {
         "name": "sessionCount",
         "dtype": "int64",
         "stats": {
          "unique_count": 3,
          "nan_count": 0,
          "min": "1",
          "max": "9",
          "histogram": [
           {
            "bin_start": 1,
            "bin_end": 1.8,
            "count": 10
           },
           {
            "bin_start": 1.8,
            "bin_end": 2.6,
            "count": 0
           },
           {
            "bin_start": 2.6,
            "bin_end": 3.4000000000000004,
            "count": 0
           },
           {
            "bin_start": 3.4000000000000004,
            "bin_end": 4.2,
            "count": 0
           },
           {
            "bin_start": 4.2,
            "bin_end": 5,
            "count": 0
           },
           {
            "bin_start": 5,
            "bin_end": 5.800000000000001,
            "count": 2
           },
           {
            "bin_start": 5.800000000000001,
            "bin_end": 6.6000000000000005,
            "count": 0
           },
           {
            "bin_start": 6.6000000000000005,
            "bin_end": 7.4,
            "count": 0
           },
           {
            "bin_start": 7.4,
            "bin_end": 8.2,
            "count": 0
           },
           {
            "bin_start": 8.2,
            "bin_end": 9,
            "count": 62
           }
          ]
         }
        },
        {
         "name": "startDate",
         "dtype": "object",
         "stats": {
          "unique_count": 6,
          "nan_count": 0,
          "categories": [
           {
            "name": "2019-11-05 12:36:31",
            "count": 47
           },
           {
            "name": "2021-03-02 00:00:00",
            "count": 14
           },
           {
            "name": "4 others",
            "count": 13
           }
          ]
         }
        },
        {
         "name": "endDate",
         "dtype": "object",
         "stats": {
          "unique_count": 6,
          "nan_count": 0,
          "categories": [
           {
            "name": "2020-02-04 12:36:31",
            "count": 47
           },
           {
            "name": "2021-04-27 00:00:00",
            "count": 14
           },
           {
            "name": "4 others",
            "count": 13
           }
          ]
         }
        },
        {
         "name": "isOnline",
         "dtype": "int64",
         "stats": {
          "unique_count": 2,
          "nan_count": 0,
          "min": "0",
          "max": "1",
          "histogram": [
           {
            "bin_start": 0,
            "bin_end": 0.1,
            "count": 48
           },
           {
            "bin_start": 0.1,
            "bin_end": 0.2,
            "count": 0
           },
           {
            "bin_start": 0.2,
            "bin_end": 0.30000000000000004,
            "count": 0
           },
           {
            "bin_start": 0.30000000000000004,
            "bin_end": 0.4,
            "count": 0
           },
           {
            "bin_start": 0.4,
            "bin_end": 0.5,
            "count": 0
           },
           {
            "bin_start": 0.5,
            "bin_end": 0.6000000000000001,
            "count": 0
           },
           {
            "bin_start": 0.6000000000000001,
            "bin_end": 0.7000000000000001,
            "count": 0
           },
           {
            "bin_start": 0.7000000000000001,
            "bin_end": 0.8,
            "count": 0
           },
           {
            "bin_start": 0.8,
            "bin_end": 0.9,
            "count": 0
           },
           {
            "bin_start": 0.9,
            "bin_end": 1,
            "count": 26
           }
          ]
         }
        },
        {
         "name": "isPublic",
         "dtype": "int64",
         "stats": {
          "unique_count": 2,
          "nan_count": 0,
          "min": "0",
          "max": "1",
          "histogram": [
           {
            "bin_start": 0,
            "bin_end": 0.1,
            "count": 1
           },
           {
            "bin_start": 0.1,
            "bin_end": 0.2,
            "count": 0
           },
           {
            "bin_start": 0.2,
            "bin_end": 0.30000000000000004,
            "count": 0
           },
           {
            "bin_start": 0.30000000000000004,
            "bin_end": 0.4,
            "count": 0
           },
           {
            "bin_start": 0.4,
            "bin_end": 0.5,
            "count": 0
           },
           {
            "bin_start": 0.5,
            "bin_end": 0.6000000000000001,
            "count": 0
           },
           {
            "bin_start": 0.6000000000000001,
            "bin_end": 0.7000000000000001,
            "count": 0
           },
           {
            "bin_start": 0.7000000000000001,
            "bin_end": 0.8,
            "count": 0
           },
           {
            "bin_start": 0.8,
            "bin_end": 0.9,
            "count": 0
           },
           {
            "bin_start": 0.9,
            "bin_end": 1,
            "count": 73
           }
          ]
         }
        },
        {
         "name": "categories",
         "dtype": "object",
         "stats": {
          "unique_count": 5,
          "nan_count": 1,
          "categories": [
           {
            "name": "Web Dev",
            "count": 47
           },
           {
            "name": "4 others",
            "count": 26
           },
           {
            "name": "Missing",
            "count": 1
           }
          ]
         }
        },
        {
         "name": "userId",
         "dtype": "int64",
         "stats": {
          "unique_count": 72,
          "nan_count": 0,
          "min": "4",
          "max": "131",
          "histogram": [
           {
            "bin_start": 4,
            "bin_end": 16.7,
            "count": 12
           },
           {
            "bin_start": 16.7,
            "bin_end": 29.4,
            "count": 13
           },
           {
            "bin_start": 29.4,
            "bin_end": 42.099999999999994,
            "count": 13
           },
           {
            "bin_start": 42.099999999999994,
            "bin_end": 54.8,
            "count": 11
           },
           {
            "bin_start": 54.8,
            "bin_end": 67.5,
            "count": 2
           },
           {
            "bin_start": 67.5,
            "bin_end": 80.19999999999999,
            "count": 2
           },
           {
            "bin_start": 80.19999999999999,
            "bin_end": 92.89999999999999,
            "count": 8
           },
           {
            "bin_start": 92.89999999999999,
            "bin_end": 105.6,
            "count": 2
           },
           {
            "bin_start": 105.6,
            "bin_end": 118.3,
            "count": 2
           },
           {
            "bin_start": 118.3,
            "bin_end": 131,
            "count": 9
           }
          ]
         }
        },
        {
         "name": "_deepnote_index_column",
         "dtype": "int64"
        }
       ],
       "rows": [
        {
         "coursesId": 3,
         "name": "Intro to Web Dev",
         "sessionCount": 9,
         "startDate": "2019-11-05 12:36:31",
         "endDate": "2020-02-04 12:36:31",
         "isOnline": 0,
         "isPublic": 1,
         "categories": "Web Dev",
         "userId": 5,
         "_deepnote_index_column": 0
        },
        {
         "coursesId": 3,
         "name": "Intro to Web Dev",
         "sessionCount": 9,
         "startDate": "2019-11-05 12:36:31",
         "endDate": "2020-02-04 12:36:31",
         "isOnline": 0,
         "isPublic": 1,
         "categories": "Web Dev",
         "userId": 6,
         "_deepnote_index_column": 1
        },
        {
         "coursesId": 3,
         "name": "Intro to Web Dev",
         "sessionCount": 9,
         "startDate": "2019-11-05 12:36:31",
         "endDate": "2020-02-04 12:36:31",
         "isOnline": 0,
         "isPublic": 1,
         "categories": "Web Dev",
         "userId": 8,
         "_deepnote_index_column": 2
        },
        {
         "coursesId": 3,
         "name": "Intro to Web Dev",
         "sessionCount": 9,
         "startDate": "2019-11-05 12:36:31",
         "endDate": "2020-02-04 12:36:31",
         "isOnline": 0,
         "isPublic": 1,
         "categories": "Web Dev",
         "userId": 9,
         "_deepnote_index_column": 3
        },
        {
         "coursesId": 3,
         "name": "Intro to Web Dev",
         "sessionCount": 9,
         "startDate": "2019-11-05 12:36:31",
         "endDate": "2020-02-04 12:36:31",
         "isOnline": 0,
         "isPublic": 1,
         "categories": "Web Dev",
         "userId": 10,
         "_deepnote_index_column": 4
        },
        {
         "coursesId": 3,
         "name": "Intro to Web Dev",
         "sessionCount": 9,
         "startDate": "2019-11-05 12:36:31",
         "endDate": "2020-02-04 12:36:31",
         "isOnline": 0,
         "isPublic": 1,
         "categories": "Web Dev",
         "userId": 11,
         "_deepnote_index_column": 5
        },
        {
         "coursesId": 3,
         "name": "Intro to Web Dev",
         "sessionCount": 9,
         "startDate": "2019-11-05 12:36:31",
         "endDate": "2020-02-04 12:36:31",
         "isOnline": 0,
         "isPublic": 1,
         "categories": "Web Dev",
         "userId": 12,
         "_deepnote_index_column": 6
        },
        {
         "coursesId": 3,
         "name": "Intro to Web Dev",
         "sessionCount": 9,
         "startDate": "2019-11-05 12:36:31",
         "endDate": "2020-02-04 12:36:31",
         "isOnline": 0,
         "isPublic": 1,
         "categories": "Web Dev",
         "userId": 13,
         "_deepnote_index_column": 7
        },
        {
         "coursesId": 3,
         "name": "Intro to Web Dev",
         "sessionCount": 9,
         "startDate": "2019-11-05 12:36:31",
         "endDate": "2020-02-04 12:36:31",
         "isOnline": 0,
         "isPublic": 1,
         "categories": "Web Dev",
         "userId": 14,
         "_deepnote_index_column": 8
        },
        {
         "coursesId": 3,
         "name": "Intro to Web Dev",
         "sessionCount": 9,
         "startDate": "2019-11-05 12:36:31",
         "endDate": "2020-02-04 12:36:31",
         "isOnline": 0,
         "isPublic": 1,
         "categories": "Web Dev",
         "userId": 15,
         "_deepnote_index_column": 9
        }
       ]
      },
      "text/plain": "    coursesId                      name  sessionCount            startDate  \\\n0           3          Intro to Web Dev             9  2019-11-05 12:36:31   \n1           3          Intro to Web Dev             9  2019-11-05 12:36:31   \n2           3          Intro to Web Dev             9  2019-11-05 12:36:31   \n3           3          Intro to Web Dev             9  2019-11-05 12:36:31   \n4           3          Intro to Web Dev             9  2019-11-05 12:36:31   \n..        ...                       ...           ...                  ...   \n69          9  Programming Fundamentals             1  2021-07-03 10:00:00   \n70          9  Programming Fundamentals             1  2021-07-03 10:00:00   \n71          9  Programming Fundamentals             1  2021-07-03 10:00:00   \n72         10              TestCourse32             1  2020-02-02 02:02:02   \n73         11     Intro to .NET with C#             9  2021-08-03 19:00:00   \n\n                endDate  isOnline  isPublic              categories  userId  \n0   2020-02-04 12:36:31         0         1                 Web Dev       5  \n1   2020-02-04 12:36:31         0         1                 Web Dev       6  \n2   2020-02-04 12:36:31         0         1                 Web Dev       8  \n3   2020-02-04 12:36:31         0         1                 Web Dev       9  \n4   2020-02-04 12:36:31         0         1                 Web Dev      10  \n..                  ...       ...       ...                     ...     ...  \n69  2021-07-03 17:00:00         1         1       Beginner, Web Dev     125  \n70  2021-07-03 17:00:00         1         1       Beginner, Web Dev     127  \n71  2021-07-03 17:00:00         1         1       Beginner, Web Dev     128  \n72  2020-02-02 20:20:20         0         0                     NaN      54  \n73  2021-09-28 21:00:00         1         1  Web Dev, BackEnd, .NET     131  \n\n[74 rows x 9 columns]",
      "text/html": "<div>\n<style scoped>\n    .dataframe tbody tr th:only-of-type {\n        vertical-align: middle;\n    }\n\n    .dataframe tbody tr th {\n        vertical-align: top;\n    }\n\n    .dataframe thead th {\n        text-align: right;\n    }\n</style>\n<table border=\"1\" class=\"dataframe\">\n  <thead>\n    <tr style=\"text-align: right;\">\n      <th></th>\n      <th>coursesId</th>\n      <th>name</th>\n      <th>sessionCount</th>\n      <th>startDate</th>\n      <th>endDate</th>\n      <th>isOnline</th>\n      <th>isPublic</th>\n      <th>categories</th>\n      <th>userId</th>\n    </tr>\n  </thead>\n  <tbody>\n    <tr>\n      <th>0</th>\n      <td>3</td>\n      <td>Intro to Web Dev</td>\n      <td>9</td>\n      <td>2019-11-05 12:36:31</td>\n      <td>2020-02-04 12:36:31</td>\n      <td>0</td>\n      <td>1</td>\n      <td>Web Dev</td>\n      <td>5</td>\n    </tr>\n    <tr>\n      <th>1</th>\n      <td>3</td>\n      <td>Intro to Web Dev</td>\n      <td>9</td>\n      <td>2019-11-05 12:36:31</td>\n      <td>2020-02-04 12:36:31</td>\n      <td>0</td>\n      <td>1</td>\n      <td>Web Dev</td>\n      <td>6</td>\n    </tr>\n    <tr>\n      <th>2</th>\n      <td>3</td>\n      <td>Intro to Web Dev</td>\n      <td>9</td>\n      <td>2019-11-05 12:36:31</td>\n      <td>2020-02-04 12:36:31</td>\n      <td>0</td>\n      <td>1</td>\n      <td>Web Dev</td>\n      <td>8</td>\n    </tr>\n    <tr>\n      <th>3</th>\n      <td>3</td>\n      <td>Intro to Web Dev</td>\n      <td>9</td>\n      <td>2019-11-05 12:36:31</td>\n      <td>2020-02-04 12:36:31</td>\n      <td>0</td>\n      <td>1</td>\n      <td>Web Dev</td>\n      <td>9</td>\n    </tr>\n    <tr>\n      <th>4</th>\n      <td>3</td>\n      <td>Intro to Web Dev</td>\n      <td>9</td>\n      <td>2019-11-05 12:36:31</td>\n      <td>2020-02-04 12:36:31</td>\n      <td>0</td>\n      <td>1</td>\n      <td>Web Dev</td>\n      <td>10</td>\n    </tr>\n    <tr>\n      <th>...</th>\n      <td>...</td>\n      <td>...</td>\n      <td>...</td>\n      <td>...</td>\n      <td>...</td>\n      <td>...</td>\n      <td>...</td>\n      <td>...</td>\n      <td>...</td>\n    </tr>\n    <tr>\n      <th>69</th>\n      <td>9</td>\n      <td>Programming Fundamentals</td>\n      <td>1</td>\n      <td>2021-07-03 10:00:00</td>\n      <td>2021-07-03 17:00:00</td>\n      <td>1</td>\n      <td>1</td>\n      <td>Beginner, Web Dev</td>\n      <td>125</td>\n    </tr>\n    <tr>\n      <th>70</th>\n      <td>9</td>\n      <td>Programming Fundamentals</td>\n      <td>1</td>\n      <td>2021-07-03 10:00:00</td>\n      <td>2021-07-03 17:00:00</td>\n      <td>1</td>\n      <td>1</td>\n      <td>Beginner, Web Dev</td>\n      <td>127</td>\n    </tr>\n    <tr>\n      <th>71</th>\n      <td>9</td>\n      <td>Programming Fundamentals</td>\n      <td>1</td>\n      <td>2021-07-03 10:00:00</td>\n      <td>2021-07-03 17:00:00</td>\n      <td>1</td>\n      <td>1</td>\n      <td>Beginner, Web Dev</td>\n      <td>128</td>\n    </tr>\n    <tr>\n      <th>72</th>\n      <td>10</td>\n      <td>TestCourse32</td>\n      <td>1</td>\n      <td>2020-02-02 02:02:02</td>\n      <td>2020-02-02 20:20:20</td>\n      <td>0</td>\n      <td>0</td>\n      <td>NaN</td>\n      <td>54</td>\n    </tr>\n    <tr>\n      <th>73</th>\n      <td>11</td>\n      <td>Intro to .NET with C#</td>\n      <td>9</td>\n      <td>2021-08-03 19:00:00</td>\n      <td>2021-09-28 21:00:00</td>\n      <td>1</td>\n      <td>1</td>\n      <td>Web Dev, BackEnd, .NET</td>\n      <td>131</td>\n    </tr>\n  </tbody>\n</table>\n<p>74 rows × 9 columns</p>\n</div>"
     },
     "metadata": {}
    }
   ]
  },
  {
   "cell_type": "code",
   "metadata": {
    "cell_id": "8254f0b32d89471195b27724a8802b3a",
    "tags": [],
    "deepnote_to_be_reexecuted": false,
    "source_hash": "2662c345",
    "execution_start": 1652907671904,
    "execution_millis": 27,
    "deepnote_table_state": {
     "pageSize": 10,
     "pageIndex": 0,
     "filters": [],
     "sortBy": []
    },
    "deepnote_table_loading": false,
    "deepnote_cell_type": "code",
    "deepnote_cell_height": 631.59375
   },
   "source": "lcusers = learners_courses.merge(users.set_index('userId'), on='userId')\nlcusers",
   "execution_count": 36,
   "outputs": [
    {
     "output_type": "execute_result",
     "execution_count": 36,
     "data": {
      "application/vnd.deepnote.dataframe.v3+json": {
       "column_count": 13,
       "row_count": 74,
       "columns": [
        {
         "name": "coursesId",
         "dtype": "int64",
         "stats": {
          "unique_count": 6,
          "nan_count": 0,
          "min": "3",
          "max": "11",
          "histogram": [
           {
            "bin_start": 3,
            "bin_end": 3.8,
            "count": 47
           },
           {
            "bin_start": 3.8,
            "bin_end": 4.6,
            "count": 0
           },
           {
            "bin_start": 4.6,
            "bin_end": 5.4,
            "count": 14
           },
           {
            "bin_start": 5.4,
            "bin_end": 6.2,
            "count": 0
           },
           {
            "bin_start": 6.2,
            "bin_end": 7,
            "count": 0
           },
           {
            "bin_start": 7,
            "bin_end": 7.800000000000001,
            "count": 2
           },
           {
            "bin_start": 7.800000000000001,
            "bin_end": 8.600000000000001,
            "count": 0
           },
           {
            "bin_start": 8.600000000000001,
            "bin_end": 9.4,
            "count": 9
           },
           {
            "bin_start": 9.4,
            "bin_end": 10.2,
            "count": 1
           },
           {
            "bin_start": 10.2,
            "bin_end": 11,
            "count": 1
           }
          ]
         }
        },
        {
         "name": "name",
         "dtype": "object",
         "stats": {
          "unique_count": 6,
          "nan_count": 0,
          "categories": [
           {
            "name": "Intro to Web Dev",
            "count": 47
           },
           {
            "name": "Intro to Game Dev with Unity",
            "count": 14
           },
           {
            "name": "4 others",
            "count": 13
           }
          ]
         }
        },
        {
         "name": "sessionCount",
         "dtype": "int64",
         "stats": {
          "unique_count": 3,
          "nan_count": 0,
          "min": "1",
          "max": "9",
          "histogram": [
           {
            "bin_start": 1,
            "bin_end": 1.8,
            "count": 10
           },
           {
            "bin_start": 1.8,
            "bin_end": 2.6,
            "count": 0
           },
           {
            "bin_start": 2.6,
            "bin_end": 3.4000000000000004,
            "count": 0
           },
           {
            "bin_start": 3.4000000000000004,
            "bin_end": 4.2,
            "count": 0
           },
           {
            "bin_start": 4.2,
            "bin_end": 5,
            "count": 0
           },
           {
            "bin_start": 5,
            "bin_end": 5.800000000000001,
            "count": 2
           },
           {
            "bin_start": 5.800000000000001,
            "bin_end": 6.6000000000000005,
            "count": 0
           },
           {
            "bin_start": 6.6000000000000005,
            "bin_end": 7.4,
            "count": 0
           },
           {
            "bin_start": 7.4,
            "bin_end": 8.2,
            "count": 0
           },
           {
            "bin_start": 8.2,
            "bin_end": 9,
            "count": 62
           }
          ]
         }
        },
        {
         "name": "startDate",
         "dtype": "object",
         "stats": {
          "unique_count": 6,
          "nan_count": 0,
          "categories": [
           {
            "name": "2019-11-05 12:36:31",
            "count": 47
           },
           {
            "name": "2021-03-02 00:00:00",
            "count": 14
           },
           {
            "name": "4 others",
            "count": 13
           }
          ]
         }
        },
        {
         "name": "endDate",
         "dtype": "object",
         "stats": {
          "unique_count": 6,
          "nan_count": 0,
          "categories": [
           {
            "name": "2020-02-04 12:36:31",
            "count": 47
           },
           {
            "name": "2021-04-27 00:00:00",
            "count": 14
           },
           {
            "name": "4 others",
            "count": 13
           }
          ]
         }
        },
        {
         "name": "isOnline",
         "dtype": "int64",
         "stats": {
          "unique_count": 2,
          "nan_count": 0,
          "min": "0",
          "max": "1",
          "histogram": [
           {
            "bin_start": 0,
            "bin_end": 0.1,
            "count": 48
           },
           {
            "bin_start": 0.1,
            "bin_end": 0.2,
            "count": 0
           },
           {
            "bin_start": 0.2,
            "bin_end": 0.30000000000000004,
            "count": 0
           },
           {
            "bin_start": 0.30000000000000004,
            "bin_end": 0.4,
            "count": 0
           },
           {
            "bin_start": 0.4,
            "bin_end": 0.5,
            "count": 0
           },
           {
            "bin_start": 0.5,
            "bin_end": 0.6000000000000001,
            "count": 0
           },
           {
            "bin_start": 0.6000000000000001,
            "bin_end": 0.7000000000000001,
            "count": 0
           },
           {
            "bin_start": 0.7000000000000001,
            "bin_end": 0.8,
            "count": 0
           },
           {
            "bin_start": 0.8,
            "bin_end": 0.9,
            "count": 0
           },
           {
            "bin_start": 0.9,
            "bin_end": 1,
            "count": 26
           }
          ]
         }
        },
        {
         "name": "isPublic",
         "dtype": "int64",
         "stats": {
          "unique_count": 2,
          "nan_count": 0,
          "min": "0",
          "max": "1",
          "histogram": [
           {
            "bin_start": 0,
            "bin_end": 0.1,
            "count": 1
           },
           {
            "bin_start": 0.1,
            "bin_end": 0.2,
            "count": 0
           },
           {
            "bin_start": 0.2,
            "bin_end": 0.30000000000000004,
            "count": 0
           },
           {
            "bin_start": 0.30000000000000004,
            "bin_end": 0.4,
            "count": 0
           },
           {
            "bin_start": 0.4,
            "bin_end": 0.5,
            "count": 0
           },
           {
            "bin_start": 0.5,
            "bin_end": 0.6000000000000001,
            "count": 0
           },
           {
            "bin_start": 0.6000000000000001,
            "bin_end": 0.7000000000000001,
            "count": 0
           },
           {
            "bin_start": 0.7000000000000001,
            "bin_end": 0.8,
            "count": 0
           },
           {
            "bin_start": 0.8,
            "bin_end": 0.9,
            "count": 0
           },
           {
            "bin_start": 0.9,
            "bin_end": 1,
            "count": 73
           }
          ]
         }
        },
        {
         "name": "categories",
         "dtype": "object",
         "stats": {
          "unique_count": 5,
          "nan_count": 1,
          "categories": [
           {
            "name": "Web Dev",
            "count": 47
           },
           {
            "name": "4 others",
            "count": 26
           },
           {
            "name": "Missing",
            "count": 1
           }
          ]
         }
        },
        {
         "name": "userId",
         "dtype": "int64",
         "stats": {
          "unique_count": 72,
          "nan_count": 0,
          "min": "4",
          "max": "131",
          "histogram": [
           {
            "bin_start": 4,
            "bin_end": 16.7,
            "count": 12
           },
           {
            "bin_start": 16.7,
            "bin_end": 29.4,
            "count": 13
           },
           {
            "bin_start": 29.4,
            "bin_end": 42.099999999999994,
            "count": 13
           },
           {
            "bin_start": 42.099999999999994,
            "bin_end": 54.8,
            "count": 11
           },
           {
            "bin_start": 54.8,
            "bin_end": 67.5,
            "count": 2
           },
           {
            "bin_start": 67.5,
            "bin_end": 80.19999999999999,
            "count": 2
           },
           {
            "bin_start": 80.19999999999999,
            "bin_end": 92.89999999999999,
            "count": 8
           },
           {
            "bin_start": 92.89999999999999,
            "bin_end": 105.6,
            "count": 2
           },
           {
            "bin_start": 105.6,
            "bin_end": 118.3,
            "count": 2
           },
           {
            "bin_start": 118.3,
            "bin_end": 131,
            "count": 9
           }
          ]
         }
        },
        {
         "name": "lastName",
         "dtype": "object",
         "stats": {
          "unique_count": 71,
          "nan_count": 0,
          "categories": [
           {
            "name": "Angell Walker",
            "count": 2
           },
           {
            "name": "Khan",
            "count": 2
           },
           {
            "name": "69 others",
            "count": 70
           }
          ]
         }
        },
        {
         "name": "title",
         "dtype": "object",
         "stats": {
          "unique_count": 2,
          "nan_count": 0,
          "categories": [
           {
            "name": "They/Them",
            "count": 62
           },
           {
            "name": "[[REDACTED]]",
            "count": 12
           }
          ]
         }
        },
        {
         "name": "isSuperUser",
         "dtype": "int64",
         "stats": {
          "unique_count": 2,
          "nan_count": 0,
          "min": "0",
          "max": "1",
          "histogram": [
           {
            "bin_start": 0,
            "bin_end": 0.1,
            "count": 73
           },
           {
            "bin_start": 0.1,
            "bin_end": 0.2,
            "count": 0
           },
           {
            "bin_start": 0.2,
            "bin_end": 0.30000000000000004,
            "count": 0
           },
           {
            "bin_start": 0.30000000000000004,
            "bin_end": 0.4,
            "count": 0
           },
           {
            "bin_start": 0.4,
            "bin_end": 0.5,
            "count": 0
           },
           {
            "bin_start": 0.5,
            "bin_end": 0.6000000000000001,
            "count": 0
           },
           {
            "bin_start": 0.6000000000000001,
            "bin_end": 0.7000000000000001,
            "count": 0
           },
           {
            "bin_start": 0.7000000000000001,
            "bin_end": 0.8,
            "count": 0
           },
           {
            "bin_start": 0.8,
            "bin_end": 0.9,
            "count": 0
           },
           {
            "bin_start": 0.9,
            "bin_end": 1,
            "count": 1
           }
          ]
         }
        },
        {
         "name": "lastLogin",
         "dtype": "object",
         "stats": {
          "unique_count": 48,
          "nan_count": 0,
          "categories": [
           {
            "name": "2020-07-16 22:34:39",
            "count": 4
           },
           {
            "name": "2020-07-16 22:34:47",
            "count": 4
           },
           {
            "name": "46 others",
            "count": 66
           }
          ]
         }
        },
        {
         "name": "_deepnote_index_column",
         "dtype": "int64"
        }
       ],
       "rows": [
        {
         "coursesId": 3,
         "name": "Intro to Web Dev",
         "sessionCount": 9,
         "startDate": "2019-11-05 12:36:31",
         "endDate": "2020-02-04 12:36:31",
         "isOnline": 0,
         "isPublic": 1,
         "categories": "Web Dev",
         "userId": 5,
         "lastName": "Hodgins",
         "title": "They/Them",
         "isSuperUser": 0,
         "lastLogin": "2020-07-16 22:29:31",
         "_deepnote_index_column": 0
        },
        {
         "coursesId": 3,
         "name": "Intro to Web Dev",
         "sessionCount": 9,
         "startDate": "2019-11-05 12:36:31",
         "endDate": "2020-02-04 12:36:31",
         "isOnline": 0,
         "isPublic": 1,
         "categories": "Web Dev",
         "userId": 6,
         "lastName": "Ayeni",
         "title": "They/Them",
         "isSuperUser": 0,
         "lastLogin": "2020-07-16 22:34:31",
         "_deepnote_index_column": 1
        },
        {
         "coursesId": 3,
         "name": "Intro to Web Dev",
         "sessionCount": 9,
         "startDate": "2019-11-05 12:36:31",
         "endDate": "2020-02-04 12:36:31",
         "isOnline": 0,
         "isPublic": 1,
         "categories": "Web Dev",
         "userId": 8,
         "lastName": "Gon",
         "title": "[[REDACTED]]",
         "isSuperUser": 0,
         "lastLogin": "2020-07-16 22:34:31",
         "_deepnote_index_column": 2
        },
        {
         "coursesId": 3,
         "name": "Intro to Web Dev",
         "sessionCount": 9,
         "startDate": "2019-11-05 12:36:31",
         "endDate": "2020-02-04 12:36:31",
         "isOnline": 0,
         "isPublic": 1,
         "categories": "Web Dev",
         "userId": 9,
         "lastName": "Lindley",
         "title": "[[REDACTED]]",
         "isSuperUser": 0,
         "lastLogin": "2020-07-16 22:34:32",
         "_deepnote_index_column": 3
        },
        {
         "coursesId": 3,
         "name": "Intro to Web Dev",
         "sessionCount": 9,
         "startDate": "2019-11-05 12:36:31",
         "endDate": "2020-02-04 12:36:31",
         "isOnline": 0,
         "isPublic": 1,
         "categories": "Web Dev",
         "userId": 10,
         "lastName": "Nguyen",
         "title": "[[REDACTED]]",
         "isSuperUser": 0,
         "lastLogin": "2020-07-16 22:34:32",
         "_deepnote_index_column": 4
        },
        {
         "coursesId": 3,
         "name": "Intro to Web Dev",
         "sessionCount": 9,
         "startDate": "2019-11-05 12:36:31",
         "endDate": "2020-02-04 12:36:31",
         "isOnline": 0,
         "isPublic": 1,
         "categories": "Web Dev",
         "userId": 11,
         "lastName": "Harvey",
         "title": "[[REDACTED]]",
         "isSuperUser": 0,
         "lastLogin": "2020-07-16 22:34:33",
         "_deepnote_index_column": 5
        },
        {
         "coursesId": 3,
         "name": "Intro to Web Dev",
         "sessionCount": 9,
         "startDate": "2019-11-05 12:36:31",
         "endDate": "2020-02-04 12:36:31",
         "isOnline": 0,
         "isPublic": 1,
         "categories": "Web Dev",
         "userId": 12,
         "lastName": "Makhlouf",
         "title": "[[REDACTED]]",
         "isSuperUser": 0,
         "lastLogin": "2020-07-16 22:34:33",
         "_deepnote_index_column": 6
        },
        {
         "coursesId": 3,
         "name": "Intro to Web Dev",
         "sessionCount": 9,
         "startDate": "2019-11-05 12:36:31",
         "endDate": "2020-02-04 12:36:31",
         "isOnline": 0,
         "isPublic": 1,
         "categories": "Web Dev",
         "userId": 13,
         "lastName": "Wilson",
         "title": "[[REDACTED]]",
         "isSuperUser": 0,
         "lastLogin": "2020-07-16 22:34:34",
         "_deepnote_index_column": 7
        },
        {
         "coursesId": 3,
         "name": "Intro to Web Dev",
         "sessionCount": 9,
         "startDate": "2019-11-05 12:36:31",
         "endDate": "2020-02-04 12:36:31",
         "isOnline": 0,
         "isPublic": 1,
         "categories": "Web Dev",
         "userId": 14,
         "lastName": "Shibu",
         "title": "[[REDACTED]]",
         "isSuperUser": 0,
         "lastLogin": "2020-07-16 22:34:34",
         "_deepnote_index_column": 8
        },
        {
         "coursesId": 3,
         "name": "Intro to Web Dev",
         "sessionCount": 9,
         "startDate": "2019-11-05 12:36:31",
         "endDate": "2020-02-04 12:36:31",
         "isOnline": 0,
         "isPublic": 1,
         "categories": "Web Dev",
         "userId": 15,
         "lastName": "Birk",
         "title": "[[REDACTED]]",
         "isSuperUser": 0,
         "lastLogin": "2020-07-16 22:34:35",
         "_deepnote_index_column": 9
        }
       ]
      },
      "text/plain": "    coursesId                      name  sessionCount            startDate  \\\n0           3          Intro to Web Dev             9  2019-11-05 12:36:31   \n1           3          Intro to Web Dev             9  2019-11-05 12:36:31   \n2           3          Intro to Web Dev             9  2019-11-05 12:36:31   \n3           3          Intro to Web Dev             9  2019-11-05 12:36:31   \n4           3          Intro to Web Dev             9  2019-11-05 12:36:31   \n..        ...                       ...           ...                  ...   \n69          9  Programming Fundamentals             1  2021-07-03 10:00:00   \n70          9  Programming Fundamentals             1  2021-07-03 10:00:00   \n71          9  Programming Fundamentals             1  2021-07-03 10:00:00   \n72         10              TestCourse32             1  2020-02-02 02:02:02   \n73         11     Intro to .NET with C#             9  2021-08-03 19:00:00   \n\n                endDate  isOnline  isPublic              categories  userId  \\\n0   2020-02-04 12:36:31         0         1                 Web Dev       5   \n1   2020-02-04 12:36:31         0         1                 Web Dev       6   \n2   2020-02-04 12:36:31         0         1                 Web Dev       8   \n3   2020-02-04 12:36:31         0         1                 Web Dev       9   \n4   2020-02-04 12:36:31         0         1                 Web Dev      10   \n..                  ...       ...       ...                     ...     ...   \n69  2021-07-03 17:00:00         1         1       Beginner, Web Dev     125   \n70  2021-07-03 17:00:00         1         1       Beginner, Web Dev     127   \n71  2021-07-03 17:00:00         1         1       Beginner, Web Dev     128   \n72  2020-02-02 20:20:20         0         0                     NaN      54   \n73  2021-09-28 21:00:00         1         1  Web Dev, BackEnd, .NET     131   \n\n      lastName         title  isSuperUser            lastLogin  \n0      Hodgins     They/Them            0  2020-07-16 22:29:31  \n1        Ayeni     They/Them            0  2020-07-16 22:34:31  \n2          Gon  [[REDACTED]]            0  2020-07-16 22:34:31  \n3      Lindley  [[REDACTED]]            0  2020-07-16 22:34:32  \n4       Nguyen  [[REDACTED]]            0  2020-07-16 22:34:32  \n..         ...           ...          ...                  ...  \n69   Ferreira      They/Them            0  2021-06-23 00:50:30  \n70  Munkhondya     They/Them            0  2021-06-25 12:07:12  \n71     Gurung      They/Them            0  2021-06-25 15:10:15  \n72        Demo     They/Them            0  2021-07-06 20:56:17  \n73        Webb     They/Them            0  2021-07-14 09:27:50  \n\n[74 rows x 13 columns]",
      "text/html": "<div>\n<style scoped>\n    .dataframe tbody tr th:only-of-type {\n        vertical-align: middle;\n    }\n\n    .dataframe tbody tr th {\n        vertical-align: top;\n    }\n\n    .dataframe thead th {\n        text-align: right;\n    }\n</style>\n<table border=\"1\" class=\"dataframe\">\n  <thead>\n    <tr style=\"text-align: right;\">\n      <th></th>\n      <th>coursesId</th>\n      <th>name</th>\n      <th>sessionCount</th>\n      <th>startDate</th>\n      <th>endDate</th>\n      <th>isOnline</th>\n      <th>isPublic</th>\n      <th>categories</th>\n      <th>userId</th>\n      <th>lastName</th>\n      <th>title</th>\n      <th>isSuperUser</th>\n      <th>lastLogin</th>\n    </tr>\n  </thead>\n  <tbody>\n    <tr>\n      <th>0</th>\n      <td>3</td>\n      <td>Intro to Web Dev</td>\n      <td>9</td>\n      <td>2019-11-05 12:36:31</td>\n      <td>2020-02-04 12:36:31</td>\n      <td>0</td>\n      <td>1</td>\n      <td>Web Dev</td>\n      <td>5</td>\n      <td>Hodgins</td>\n      <td>They/Them</td>\n      <td>0</td>\n      <td>2020-07-16 22:29:31</td>\n    </tr>\n    <tr>\n      <th>1</th>\n      <td>3</td>\n      <td>Intro to Web Dev</td>\n      <td>9</td>\n      <td>2019-11-05 12:36:31</td>\n      <td>2020-02-04 12:36:31</td>\n      <td>0</td>\n      <td>1</td>\n      <td>Web Dev</td>\n      <td>6</td>\n      <td>Ayeni</td>\n      <td>They/Them</td>\n      <td>0</td>\n      <td>2020-07-16 22:34:31</td>\n    </tr>\n    <tr>\n      <th>2</th>\n      <td>3</td>\n      <td>Intro to Web Dev</td>\n      <td>9</td>\n      <td>2019-11-05 12:36:31</td>\n      <td>2020-02-04 12:36:31</td>\n      <td>0</td>\n      <td>1</td>\n      <td>Web Dev</td>\n      <td>8</td>\n      <td>Gon</td>\n      <td>[[REDACTED]]</td>\n      <td>0</td>\n      <td>2020-07-16 22:34:31</td>\n    </tr>\n    <tr>\n      <th>3</th>\n      <td>3</td>\n      <td>Intro to Web Dev</td>\n      <td>9</td>\n      <td>2019-11-05 12:36:31</td>\n      <td>2020-02-04 12:36:31</td>\n      <td>0</td>\n      <td>1</td>\n      <td>Web Dev</td>\n      <td>9</td>\n      <td>Lindley</td>\n      <td>[[REDACTED]]</td>\n      <td>0</td>\n      <td>2020-07-16 22:34:32</td>\n    </tr>\n    <tr>\n      <th>4</th>\n      <td>3</td>\n      <td>Intro to Web Dev</td>\n      <td>9</td>\n      <td>2019-11-05 12:36:31</td>\n      <td>2020-02-04 12:36:31</td>\n      <td>0</td>\n      <td>1</td>\n      <td>Web Dev</td>\n      <td>10</td>\n      <td>Nguyen</td>\n      <td>[[REDACTED]]</td>\n      <td>0</td>\n      <td>2020-07-16 22:34:32</td>\n    </tr>\n    <tr>\n      <th>...</th>\n      <td>...</td>\n      <td>...</td>\n      <td>...</td>\n      <td>...</td>\n      <td>...</td>\n      <td>...</td>\n      <td>...</td>\n      <td>...</td>\n      <td>...</td>\n      <td>...</td>\n      <td>...</td>\n      <td>...</td>\n      <td>...</td>\n    </tr>\n    <tr>\n      <th>69</th>\n      <td>9</td>\n      <td>Programming Fundamentals</td>\n      <td>1</td>\n      <td>2021-07-03 10:00:00</td>\n      <td>2021-07-03 17:00:00</td>\n      <td>1</td>\n      <td>1</td>\n      <td>Beginner, Web Dev</td>\n      <td>125</td>\n      <td>Ferreira</td>\n      <td>They/Them</td>\n      <td>0</td>\n      <td>2021-06-23 00:50:30</td>\n    </tr>\n    <tr>\n      <th>70</th>\n      <td>9</td>\n      <td>Programming Fundamentals</td>\n      <td>1</td>\n      <td>2021-07-03 10:00:00</td>\n      <td>2021-07-03 17:00:00</td>\n      <td>1</td>\n      <td>1</td>\n      <td>Beginner, Web Dev</td>\n      <td>127</td>\n      <td>Munkhondya</td>\n      <td>They/Them</td>\n      <td>0</td>\n      <td>2021-06-25 12:07:12</td>\n    </tr>\n    <tr>\n      <th>71</th>\n      <td>9</td>\n      <td>Programming Fundamentals</td>\n      <td>1</td>\n      <td>2021-07-03 10:00:00</td>\n      <td>2021-07-03 17:00:00</td>\n      <td>1</td>\n      <td>1</td>\n      <td>Beginner, Web Dev</td>\n      <td>128</td>\n      <td>Gurung</td>\n      <td>They/Them</td>\n      <td>0</td>\n      <td>2021-06-25 15:10:15</td>\n    </tr>\n    <tr>\n      <th>72</th>\n      <td>10</td>\n      <td>TestCourse32</td>\n      <td>1</td>\n      <td>2020-02-02 02:02:02</td>\n      <td>2020-02-02 20:20:20</td>\n      <td>0</td>\n      <td>0</td>\n      <td>NaN</td>\n      <td>54</td>\n      <td>Demo</td>\n      <td>They/Them</td>\n      <td>0</td>\n      <td>2021-07-06 20:56:17</td>\n    </tr>\n    <tr>\n      <th>73</th>\n      <td>11</td>\n      <td>Intro to .NET with C#</td>\n      <td>9</td>\n      <td>2021-08-03 19:00:00</td>\n      <td>2021-09-28 21:00:00</td>\n      <td>1</td>\n      <td>1</td>\n      <td>Web Dev, BackEnd, .NET</td>\n      <td>131</td>\n      <td>Webb</td>\n      <td>They/Them</td>\n      <td>0</td>\n      <td>2021-07-14 09:27:50</td>\n    </tr>\n  </tbody>\n</table>\n<p>74 rows × 13 columns</p>\n</div>"
     },
     "metadata": {}
    }
   ]
  },
  {
   "cell_type": "code",
   "metadata": {
    "cell_id": "fa0308bd940d4d04bcdb764e4622f666",
    "tags": [],
    "deepnote_to_be_reexecuted": false,
    "source_hash": "cd3047",
    "execution_start": 1652907672004,
    "execution_millis": 52,
    "deepnote_cell_type": "code",
    "deepnote_cell_height": 631.59375
   },
   "source": "in_personInv = df3.merge(users.set_index('userId'), on='userId')\nin_personInv",
   "execution_count": 37,
   "outputs": [
    {
     "output_type": "execute_result",
     "execution_count": 37,
     "data": {
      "application/vnd.deepnote.dataframe.v3+json": {
       "column_count": 11,
       "row_count": 706,
       "columns": [
        {
         "name": "id_x",
         "dtype": "int64",
         "stats": {
          "unique_count": 72,
          "nan_count": 0,
          "min": "28",
          "max": "159",
          "histogram": [
           {
            "bin_start": 28,
            "bin_end": 41.1,
            "count": 79
           },
           {
            "bin_start": 41.1,
            "bin_end": 54.2,
            "count": 71
           },
           {
            "bin_start": 54.2,
            "bin_end": 67.3,
            "count": 73
           },
           {
            "bin_start": 67.3,
            "bin_end": 80.4,
            "count": 33
           },
           {
            "bin_start": 80.4,
            "bin_end": 93.5,
            "count": 111
           },
           {
            "bin_start": 93.5,
            "bin_end": 106.6,
            "count": 98
           },
           {
            "bin_start": 106.6,
            "bin_end": 119.7,
            "count": 104
           },
           {
            "bin_start": 119.7,
            "bin_end": 132.8,
            "count": 29
           },
           {
            "bin_start": 132.8,
            "bin_end": 145.89999999999998,
            "count": 33
           },
           {
            "bin_start": 145.89999999999998,
            "bin_end": 159,
            "count": 75
           }
          ]
         }
        },
        {
         "name": "status",
         "dtype": "object",
         "stats": {
          "unique_count": 3,
          "nan_count": 0,
          "categories": [
           {
            "name": "P",
            "count": 494
           },
           {
            "name": "A",
            "count": 153
           },
           {
            "name": "I",
            "count": 59
           }
          ]
         }
        },
        {
         "name": "attendanceSessionId",
         "dtype": "int64",
         "stats": {
          "unique_count": 10,
          "nan_count": 0,
          "min": "1",
          "max": "10",
          "histogram": [
           {
            "bin_start": 1,
            "bin_end": 1.9,
            "count": 75
           },
           {
            "bin_start": 1.9,
            "bin_end": 2.8,
            "count": 75
           },
           {
            "bin_start": 2.8,
            "bin_end": 3.7,
            "count": 75
           },
           {
            "bin_start": 3.7,
            "bin_end": 4.6,
            "count": 75
           },
           {
            "bin_start": 4.6,
            "bin_end": 5.5,
            "count": 75
           },
           {
            "bin_start": 5.5,
            "bin_end": 6.4,
            "count": 75
           },
           {
            "bin_start": 6.4,
            "bin_end": 7.3,
            "count": 75
           },
           {
            "bin_start": 7.3,
            "bin_end": 8.2,
            "count": 75
           },
           {
            "bin_start": 8.2,
            "bin_end": 9.1,
            "count": 75
           },
           {
            "bin_start": 9.1,
            "bin_end": 10,
            "count": 31
           }
          ]
         }
        },
        {
         "name": "userId",
         "dtype": "int64",
         "stats": {
          "unique_count": 14,
          "nan_count": 0,
          "min": "66",
          "max": "128",
          "histogram": [
           {
            "bin_start": 66,
            "bin_end": 72.2,
            "count": 177
           },
           {
            "bin_start": 72.2,
            "bin_end": 78.4,
            "count": 0
           },
           {
            "bin_start": 78.4,
            "bin_end": 84.6,
            "count": 0
           },
           {
            "bin_start": 84.6,
            "bin_end": 90.8,
            "count": 108
           },
           {
            "bin_start": 90.8,
            "bin_end": 97,
            "count": 36
           },
           {
            "bin_start": 97,
            "bin_end": 103.2,
            "count": 0
           },
           {
            "bin_start": 103.2,
            "bin_end": 109.4,
            "count": 377
           },
           {
            "bin_start": 109.4,
            "bin_end": 115.6,
            "count": 0
           },
           {
            "bin_start": 115.6,
            "bin_end": 121.80000000000001,
            "count": 2
           },
           {
            "bin_start": 121.80000000000001,
            "bin_end": 128,
            "count": 6
           }
          ]
         }
        },
        {
         "name": "id_y",
         "dtype": "int64",
         "stats": {
          "unique_count": 83,
          "nan_count": 0,
          "min": "1028",
          "max": "1418",
          "histogram": [
           {
            "bin_start": 1028,
            "bin_end": 1067,
            "count": 77
           },
           {
            "bin_start": 1067,
            "bin_end": 1106,
            "count": 176
           },
           {
            "bin_start": 1106,
            "bin_end": 1145,
            "count": 63
           },
           {
            "bin_start": 1145,
            "bin_end": 1184,
            "count": 18
           },
           {
            "bin_start": 1184,
            "bin_end": 1223,
            "count": 121
           },
           {
            "bin_start": 1223,
            "bin_end": 1262,
            "count": 101
           },
           {
            "bin_start": 1262,
            "bin_end": 1301,
            "count": 72
           },
           {
            "bin_start": 1301,
            "bin_end": 1340,
            "count": 45
           },
           {
            "bin_start": 1340,
            "bin_end": 1379,
            "count": 23
           },
           {
            "bin_start": 1379,
            "bin_end": 1418,
            "count": 10
           }
          ]
         }
        },
        {
         "name": "created_at",
         "dtype": "object",
         "stats": {
          "unique_count": 83,
          "nan_count": 0,
          "categories": [
           {
            "name": "2021-04-27 15:20:39.878510",
            "count": 10
           },
           {
            "name": "2021-04-27 15:21:18.837177",
            "count": 10
           },
           {
            "name": "81 others",
            "count": 686
           }
          ]
         }
        },
        {
         "name": "activity",
         "dtype": "object",
         "stats": {
          "unique_count": 23,
          "nan_count": 0,
          "categories": [
           {
            "name": "Logged in",
            "count": 290
           },
           {
            "name": "Accessed Session 7 Recap from Intro to Game Dev with Unity repo [access:f808a2f41b5::rrtGJAd2ae1e]",
            "count": 47
           },
           {
            "name": "21 others",
            "count": 369
           }
          ]
         }
        },
        {
         "name": "lastName",
         "dtype": "object",
         "stats": {
          "unique_count": 14,
          "nan_count": 0,
          "categories": [
           {
            "name": "Ferreira",
            "count": 207
           },
           {
            "name": "Oksal",
            "count": 170
           },
           {
            "name": "12 others",
            "count": 329
           }
          ]
         }
        },
        {
         "name": "title",
         "dtype": "object",
         "stats": {
          "unique_count": 1,
          "nan_count": 0,
          "categories": [
           {
            "name": "They/Them",
            "count": 706
           }
          ]
         }
        },
        {
         "name": "isSuperUser",
         "dtype": "int64",
         "stats": {
          "unique_count": 1,
          "nan_count": 0,
          "min": "0",
          "max": "0",
          "histogram": [
           {
            "bin_start": -0.5,
            "bin_end": -0.4,
            "count": 0
           },
           {
            "bin_start": -0.4,
            "bin_end": -0.3,
            "count": 0
           },
           {
            "bin_start": -0.3,
            "bin_end": -0.19999999999999996,
            "count": 0
           },
           {
            "bin_start": -0.19999999999999996,
            "bin_end": -0.09999999999999998,
            "count": 0
           },
           {
            "bin_start": -0.09999999999999998,
            "bin_end": 0,
            "count": 0
           },
           {
            "bin_start": 0,
            "bin_end": 0.10000000000000009,
            "count": 706
           },
           {
            "bin_start": 0.10000000000000009,
            "bin_end": 0.20000000000000007,
            "count": 0
           },
           {
            "bin_start": 0.20000000000000007,
            "bin_end": 0.30000000000000004,
            "count": 0
           },
           {
            "bin_start": 0.30000000000000004,
            "bin_end": 0.4,
            "count": 0
           },
           {
            "bin_start": 0.4,
            "bin_end": 0.5,
            "count": 0
           }
          ]
         }
        },
        {
         "name": "lastLogin",
         "dtype": "object",
         "stats": {
          "unique_count": 14,
          "nan_count": 0,
          "categories": [
           {
            "name": "2021-05-04 13:02:17",
            "count": 207
           },
           {
            "name": "2021-07-12 23:06:58",
            "count": 170
           },
           {
            "name": "12 others",
            "count": 329
           }
          ]
         }
        },
        {
         "name": "_deepnote_index_column",
         "dtype": "int64"
        }
       ],
       "rows": [
        {
         "id_x": 28,
         "status": "P",
         "attendanceSessionId": 1,
         "userId": 66,
         "id_y": 1218,
         "created_at": "2021-04-27 15:20:39.878510",
         "activity": "Logged in",
         "lastName": "Khan",
         "title": "They/Them",
         "isSuperUser": 0,
         "lastLogin": "2021-04-27 15:53:57",
         "_deepnote_index_column": 0
        },
        {
         "id_x": 28,
         "status": "P",
         "attendanceSessionId": 1,
         "userId": 66,
         "id_y": 1219,
         "created_at": "2021-04-27 15:21:18.837177",
         "activity": "Accessed Session 8 - Starter Files from Intro to Game Dev with Unity repo [access:1d14e303b59::rrtGJAd2ae1e]",
         "lastName": "Khan",
         "title": "They/Them",
         "isSuperUser": 0,
         "lastLogin": "2021-04-27 15:53:57",
         "_deepnote_index_column": 1
        },
        {
         "id_x": 28,
         "status": "P",
         "attendanceSessionId": 1,
         "userId": 66,
         "id_y": 1221,
         "created_at": "2021-04-27 15:53:57.218451",
         "activity": "Logged in",
         "lastName": "Khan",
         "title": "They/Them",
         "isSuperUser": 0,
         "lastLogin": "2021-04-27 15:53:57",
         "_deepnote_index_column": 2
        },
        {
         "id_x": 28,
         "status": "P",
         "attendanceSessionId": 1,
         "userId": 66,
         "id_y": 1222,
         "created_at": "2021-04-27 15:55:04.964625",
         "activity": "Accessed Session 1 Recap from Intro to Game Dev with Unity repo [access:286e1a92d35::rrtGJAd2ae1e]",
         "lastName": "Khan",
         "title": "They/Them",
         "isSuperUser": 0,
         "lastLogin": "2021-04-27 15:53:57",
         "_deepnote_index_column": 3
        },
        {
         "id_x": 28,
         "status": "P",
         "attendanceSessionId": 1,
         "userId": 66,
         "id_y": 1225,
         "created_at": "2021-04-27 16:20:15.211738",
         "activity": "Accessed Session 7 Recap from Intro to Game Dev with Unity repo [access:f808a2f41b5::rrtGJAd2ae1e]",
         "lastName": "Khan",
         "title": "They/Them",
         "isSuperUser": 0,
         "lastLogin": "2021-04-27 15:53:57",
         "_deepnote_index_column": 4
        },
        {
         "id_x": 28,
         "status": "P",
         "attendanceSessionId": 1,
         "userId": 66,
         "id_y": 1226,
         "created_at": "2021-04-27 16:22:32.885180",
         "activity": "Accessed Session 7 Recap from Intro to Game Dev with Unity repo [access:f808a2f41b5::rrtGJAd2ae1e]",
         "lastName": "Khan",
         "title": "They/Them",
         "isSuperUser": 0,
         "lastLogin": "2021-04-27 15:53:57",
         "_deepnote_index_column": 5
        },
        {
         "id_x": 46,
         "status": "P",
         "attendanceSessionId": 2,
         "userId": 66,
         "id_y": 1218,
         "created_at": "2021-04-27 15:20:39.878510",
         "activity": "Logged in",
         "lastName": "Khan",
         "title": "They/Them",
         "isSuperUser": 0,
         "lastLogin": "2021-04-27 15:53:57",
         "_deepnote_index_column": 6
        },
        {
         "id_x": 46,
         "status": "P",
         "attendanceSessionId": 2,
         "userId": 66,
         "id_y": 1219,
         "created_at": "2021-04-27 15:21:18.837177",
         "activity": "Accessed Session 8 - Starter Files from Intro to Game Dev with Unity repo [access:1d14e303b59::rrtGJAd2ae1e]",
         "lastName": "Khan",
         "title": "They/Them",
         "isSuperUser": 0,
         "lastLogin": "2021-04-27 15:53:57",
         "_deepnote_index_column": 7
        },
        {
         "id_x": 46,
         "status": "P",
         "attendanceSessionId": 2,
         "userId": 66,
         "id_y": 1221,
         "created_at": "2021-04-27 15:53:57.218451",
         "activity": "Logged in",
         "lastName": "Khan",
         "title": "They/Them",
         "isSuperUser": 0,
         "lastLogin": "2021-04-27 15:53:57",
         "_deepnote_index_column": 8
        },
        {
         "id_x": 46,
         "status": "P",
         "attendanceSessionId": 2,
         "userId": 66,
         "id_y": 1222,
         "created_at": "2021-04-27 15:55:04.964625",
         "activity": "Accessed Session 1 Recap from Intro to Game Dev with Unity repo [access:286e1a92d35::rrtGJAd2ae1e]",
         "lastName": "Khan",
         "title": "They/Them",
         "isSuperUser": 0,
         "lastLogin": "2021-04-27 15:53:57",
         "_deepnote_index_column": 9
        }
       ]
      },
      "text/plain": "     id_x status  attendanceSessionId  userId  id_y  \\\n0      28      P                    1      66  1218   \n1      28      P                    1      66  1219   \n2      28      P                    1      66  1221   \n3      28      P                    1      66  1222   \n4      28      P                    1      66  1225   \n..    ...    ...                  ...     ...   ...   \n701   154      A                   10     123  1330   \n702   155      A                   10     124  1333   \n703   156      P                   10     125  1340   \n704   157      A                   10     127  1344   \n705   158      A                   10     128  1345   \n\n                     created_at  \\\n0    2021-04-27 15:20:39.878510   \n1    2021-04-27 15:21:18.837177   \n2    2021-04-27 15:53:57.218451   \n3    2021-04-27 15:55:04.964625   \n4    2021-04-27 16:20:15.211738   \n..                          ...   \n701  2021-06-15 21:10:42.939927   \n702  2021-06-18 17:09:56.912754   \n703  2021-06-23 00:52:00.794961   \n704  2021-06-25 12:12:24.358882   \n705  2021-06-25 15:13:34.235389   \n\n                                              activity    lastName      title  \\\n0                                            Logged in        Khan  They/Them   \n1    Accessed Session 8 - Starter Files from Intro ...        Khan  They/Them   \n2                                            Logged in        Khan  They/Them   \n3    Accessed Session 1 Recap from Intro to Game De...        Khan  They/Them   \n4    Accessed Session 7 Recap from Intro to Game De...        Khan  They/Them   \n..                                                 ...         ...        ...   \n701             Enrolled onto Programming Fundamentals  Folorunsho  They/Them   \n702             Enrolled onto Programming Fundamentals       Ahmed  They/Them   \n703             Enrolled onto Programming Fundamentals   Ferreira   They/Them   \n704             Enrolled onto Programming Fundamentals  Munkhondya  They/Them   \n705             Enrolled onto Programming Fundamentals     Gurung   They/Them   \n\n     isSuperUser            lastLogin  \n0              0  2021-04-27 15:53:57  \n1              0  2021-04-27 15:53:57  \n2              0  2021-04-27 15:53:57  \n3              0  2021-04-27 15:53:57  \n4              0  2021-04-27 15:53:57  \n..           ...                  ...  \n701            0  2021-06-15 21:08:21  \n702            0  2021-06-18 17:05:24  \n703            0  2021-06-23 00:50:30  \n704            0  2021-06-25 12:07:12  \n705            0  2021-06-25 15:10:15  \n\n[706 rows x 11 columns]",
      "text/html": "<div>\n<style scoped>\n    .dataframe tbody tr th:only-of-type {\n        vertical-align: middle;\n    }\n\n    .dataframe tbody tr th {\n        vertical-align: top;\n    }\n\n    .dataframe thead th {\n        text-align: right;\n    }\n</style>\n<table border=\"1\" class=\"dataframe\">\n  <thead>\n    <tr style=\"text-align: right;\">\n      <th></th>\n      <th>id_x</th>\n      <th>status</th>\n      <th>attendanceSessionId</th>\n      <th>userId</th>\n      <th>id_y</th>\n      <th>created_at</th>\n      <th>activity</th>\n      <th>lastName</th>\n      <th>title</th>\n      <th>isSuperUser</th>\n      <th>lastLogin</th>\n    </tr>\n  </thead>\n  <tbody>\n    <tr>\n      <th>0</th>\n      <td>28</td>\n      <td>P</td>\n      <td>1</td>\n      <td>66</td>\n      <td>1218</td>\n      <td>2021-04-27 15:20:39.878510</td>\n      <td>Logged in</td>\n      <td>Khan</td>\n      <td>They/Them</td>\n      <td>0</td>\n      <td>2021-04-27 15:53:57</td>\n    </tr>\n    <tr>\n      <th>1</th>\n      <td>28</td>\n      <td>P</td>\n      <td>1</td>\n      <td>66</td>\n      <td>1219</td>\n      <td>2021-04-27 15:21:18.837177</td>\n      <td>Accessed Session 8 - Starter Files from Intro ...</td>\n      <td>Khan</td>\n      <td>They/Them</td>\n      <td>0</td>\n      <td>2021-04-27 15:53:57</td>\n    </tr>\n    <tr>\n      <th>2</th>\n      <td>28</td>\n      <td>P</td>\n      <td>1</td>\n      <td>66</td>\n      <td>1221</td>\n      <td>2021-04-27 15:53:57.218451</td>\n      <td>Logged in</td>\n      <td>Khan</td>\n      <td>They/Them</td>\n      <td>0</td>\n      <td>2021-04-27 15:53:57</td>\n    </tr>\n    <tr>\n      <th>3</th>\n      <td>28</td>\n      <td>P</td>\n      <td>1</td>\n      <td>66</td>\n      <td>1222</td>\n      <td>2021-04-27 15:55:04.964625</td>\n      <td>Accessed Session 1 Recap from Intro to Game De...</td>\n      <td>Khan</td>\n      <td>They/Them</td>\n      <td>0</td>\n      <td>2021-04-27 15:53:57</td>\n    </tr>\n    <tr>\n      <th>4</th>\n      <td>28</td>\n      <td>P</td>\n      <td>1</td>\n      <td>66</td>\n      <td>1225</td>\n      <td>2021-04-27 16:20:15.211738</td>\n      <td>Accessed Session 7 Recap from Intro to Game De...</td>\n      <td>Khan</td>\n      <td>They/Them</td>\n      <td>0</td>\n      <td>2021-04-27 15:53:57</td>\n    </tr>\n    <tr>\n      <th>...</th>\n      <td>...</td>\n      <td>...</td>\n      <td>...</td>\n      <td>...</td>\n      <td>...</td>\n      <td>...</td>\n      <td>...</td>\n      <td>...</td>\n      <td>...</td>\n      <td>...</td>\n      <td>...</td>\n    </tr>\n    <tr>\n      <th>701</th>\n      <td>154</td>\n      <td>A</td>\n      <td>10</td>\n      <td>123</td>\n      <td>1330</td>\n      <td>2021-06-15 21:10:42.939927</td>\n      <td>Enrolled onto Programming Fundamentals</td>\n      <td>Folorunsho</td>\n      <td>They/Them</td>\n      <td>0</td>\n      <td>2021-06-15 21:08:21</td>\n    </tr>\n    <tr>\n      <th>702</th>\n      <td>155</td>\n      <td>A</td>\n      <td>10</td>\n      <td>124</td>\n      <td>1333</td>\n      <td>2021-06-18 17:09:56.912754</td>\n      <td>Enrolled onto Programming Fundamentals</td>\n      <td>Ahmed</td>\n      <td>They/Them</td>\n      <td>0</td>\n      <td>2021-06-18 17:05:24</td>\n    </tr>\n    <tr>\n      <th>703</th>\n      <td>156</td>\n      <td>P</td>\n      <td>10</td>\n      <td>125</td>\n      <td>1340</td>\n      <td>2021-06-23 00:52:00.794961</td>\n      <td>Enrolled onto Programming Fundamentals</td>\n      <td>Ferreira</td>\n      <td>They/Them</td>\n      <td>0</td>\n      <td>2021-06-23 00:50:30</td>\n    </tr>\n    <tr>\n      <th>704</th>\n      <td>157</td>\n      <td>A</td>\n      <td>10</td>\n      <td>127</td>\n      <td>1344</td>\n      <td>2021-06-25 12:12:24.358882</td>\n      <td>Enrolled onto Programming Fundamentals</td>\n      <td>Munkhondya</td>\n      <td>They/Them</td>\n      <td>0</td>\n      <td>2021-06-25 12:07:12</td>\n    </tr>\n    <tr>\n      <th>705</th>\n      <td>158</td>\n      <td>A</td>\n      <td>10</td>\n      <td>128</td>\n      <td>1345</td>\n      <td>2021-06-25 15:13:34.235389</td>\n      <td>Enrolled onto Programming Fundamentals</td>\n      <td>Gurung</td>\n      <td>They/Them</td>\n      <td>0</td>\n      <td>2021-06-25 15:10:15</td>\n    </tr>\n  </tbody>\n</table>\n<p>706 rows × 11 columns</p>\n</div>"
     },
     "metadata": {}
    }
   ]
  },
  {
   "cell_type": "code",
   "source": "inv_InPerson_sum = in_personInv.groupby('lastName').count()\ninv_InPerson_sum",
   "metadata": {
    "cell_id": "43978dfb10174584861fe743ca741a58",
    "tags": [],
    "deepnote_to_be_reexecuted": false,
    "source_hash": "e592f046",
    "execution_start": 1652907672068,
    "execution_millis": 83,
    "deepnote_cell_type": "code",
    "deepnote_cell_height": 631.59375
   },
   "outputs": [
    {
     "output_type": "execute_result",
     "execution_count": 38,
     "data": {
      "application/vnd.deepnote.dataframe.v3+json": {
       "column_count": 10,
       "row_count": 14,
       "columns": [
        {
         "name": "id_x",
         "dtype": "int64",
         "stats": {
          "unique_count": 9,
          "nan_count": 0,
          "min": "1",
          "max": "207",
          "histogram": [
           {
            "bin_start": 1,
            "bin_end": 21.6,
            "count": 8
           },
           {
            "bin_start": 21.6,
            "bin_end": 42.2,
            "count": 1
           },
           {
            "bin_start": 42.2,
            "bin_end": 62.800000000000004,
            "count": 1
           },
           {
            "bin_start": 62.800000000000004,
            "bin_end": 83.4,
            "count": 0
           },
           {
            "bin_start": 83.4,
            "bin_end": 104,
            "count": 1
           },
           {
            "bin_start": 104,
            "bin_end": 124.60000000000001,
            "count": 1
           },
           {
            "bin_start": 124.60000000000001,
            "bin_end": 145.20000000000002,
            "count": 0
           },
           {
            "bin_start": 145.20000000000002,
            "bin_end": 165.8,
            "count": 0
           },
           {
            "bin_start": 165.8,
            "bin_end": 186.4,
            "count": 1
           },
           {
            "bin_start": 186.4,
            "bin_end": 207,
            "count": 1
           }
          ]
         }
        },
        {
         "name": "status",
         "dtype": "int64",
         "stats": {
          "unique_count": 9,
          "nan_count": 0,
          "min": "1",
          "max": "207",
          "histogram": [
           {
            "bin_start": 1,
            "bin_end": 21.6,
            "count": 8
           },
           {
            "bin_start": 21.6,
            "bin_end": 42.2,
            "count": 1
           },
           {
            "bin_start": 42.2,
            "bin_end": 62.800000000000004,
            "count": 1
           },
           {
            "bin_start": 62.800000000000004,
            "bin_end": 83.4,
            "count": 0
           },
           {
            "bin_start": 83.4,
            "bin_end": 104,
            "count": 1
           },
           {
            "bin_start": 104,
            "bin_end": 124.60000000000001,
            "count": 1
           },
           {
            "bin_start": 124.60000000000001,
            "bin_end": 145.20000000000002,
            "count": 0
           },
           {
            "bin_start": 145.20000000000002,
            "bin_end": 165.8,
            "count": 0
           },
           {
            "bin_start": 165.8,
            "bin_end": 186.4,
            "count": 1
           },
           {
            "bin_start": 186.4,
            "bin_end": 207,
            "count": 1
           }
          ]
         }
        },
        {
         "name": "attendanceSessionId",
         "dtype": "int64",
         "stats": {
          "unique_count": 9,
          "nan_count": 0,
          "min": "1",
          "max": "207",
          "histogram": [
           {
            "bin_start": 1,
            "bin_end": 21.6,
            "count": 8
           },
           {
            "bin_start": 21.6,
            "bin_end": 42.2,
            "count": 1
           },
           {
            "bin_start": 42.2,
            "bin_end": 62.800000000000004,
            "count": 1
           },
           {
            "bin_start": 62.800000000000004,
            "bin_end": 83.4,
            "count": 0
           },
           {
            "bin_start": 83.4,
            "bin_end": 104,
            "count": 1
           },
           {
            "bin_start": 104,
            "bin_end": 124.60000000000001,
            "count": 1
           },
           {
            "bin_start": 124.60000000000001,
            "bin_end": 145.20000000000002,
            "count": 0
           },
           {
            "bin_start": 145.20000000000002,
            "bin_end": 165.8,
            "count": 0
           },
           {
            "bin_start": 165.8,
            "bin_end": 186.4,
            "count": 1
           },
           {
            "bin_start": 186.4,
            "bin_end": 207,
            "count": 1
           }
          ]
         }
        },
        {
         "name": "userId",
         "dtype": "int64",
         "stats": {
          "unique_count": 9,
          "nan_count": 0,
          "min": "1",
          "max": "207",
          "histogram": [
           {
            "bin_start": 1,
            "bin_end": 21.6,
            "count": 8
           },
           {
            "bin_start": 21.6,
            "bin_end": 42.2,
            "count": 1
           },
           {
            "bin_start": 42.2,
            "bin_end": 62.800000000000004,
            "count": 1
           },
           {
            "bin_start": 62.800000000000004,
            "bin_end": 83.4,
            "count": 0
           },
           {
            "bin_start": 83.4,
            "bin_end": 104,
            "count": 1
           },
           {
            "bin_start": 104,
            "bin_end": 124.60000000000001,
            "count": 1
           },
           {
            "bin_start": 124.60000000000001,
            "bin_end": 145.20000000000002,
            "count": 0
           },
           {
            "bin_start": 145.20000000000002,
            "bin_end": 165.8,
            "count": 0
           },
           {
            "bin_start": 165.8,
            "bin_end": 186.4,
            "count": 1
           },
           {
            "bin_start": 186.4,
            "bin_end": 207,
            "count": 1
           }
          ]
         }
        },
        {
         "name": "id_y",
         "dtype": "int64",
         "stats": {
          "unique_count": 9,
          "nan_count": 0,
          "min": "1",
          "max": "207",
          "histogram": [
           {
            "bin_start": 1,
            "bin_end": 21.6,
            "count": 8
           },
           {
            "bin_start": 21.6,
            "bin_end": 42.2,
            "count": 1
           },
           {
            "bin_start": 42.2,
            "bin_end": 62.800000000000004,
            "count": 1
           },
           {
            "bin_start": 62.800000000000004,
            "bin_end": 83.4,
            "count": 0
           },
           {
            "bin_start": 83.4,
            "bin_end": 104,
            "count": 1
           },
           {
            "bin_start": 104,
            "bin_end": 124.60000000000001,
            "count": 1
           },
           {
            "bin_start": 124.60000000000001,
            "bin_end": 145.20000000000002,
            "count": 0
           },
           {
            "bin_start": 145.20000000000002,
            "bin_end": 165.8,
            "count": 0
           },
           {
            "bin_start": 165.8,
            "bin_end": 186.4,
            "count": 1
           },
           {
            "bin_start": 186.4,
            "bin_end": 207,
            "count": 1
           }
          ]
         }
        },
        {
         "name": "created_at",
         "dtype": "int64",
         "stats": {
          "unique_count": 9,
          "nan_count": 0,
          "min": "1",
          "max": "207",
          "histogram": [
           {
            "bin_start": 1,
            "bin_end": 21.6,
            "count": 8
           },
           {
            "bin_start": 21.6,
            "bin_end": 42.2,
            "count": 1
           },
           {
            "bin_start": 42.2,
            "bin_end": 62.800000000000004,
            "count": 1
           },
           {
            "bin_start": 62.800000000000004,
            "bin_end": 83.4,
            "count": 0
           },
           {
            "bin_start": 83.4,
            "bin_end": 104,
            "count": 1
           },
           {
            "bin_start": 104,
            "bin_end": 124.60000000000001,
            "count": 1
           },
           {
            "bin_start": 124.60000000000001,
            "bin_end": 145.20000000000002,
            "count": 0
           },
           {
            "bin_start": 145.20000000000002,
            "bin_end": 165.8,
            "count": 0
           },
           {
            "bin_start": 165.8,
            "bin_end": 186.4,
            "count": 1
           },
           {
            "bin_start": 186.4,
            "bin_end": 207,
            "count": 1
           }
          ]
         }
        },
        {
         "name": "activity",
         "dtype": "int64",
         "stats": {
          "unique_count": 9,
          "nan_count": 0,
          "min": "1",
          "max": "207",
          "histogram": [
           {
            "bin_start": 1,
            "bin_end": 21.6,
            "count": 8
           },
           {
            "bin_start": 21.6,
            "bin_end": 42.2,
            "count": 1
           },
           {
            "bin_start": 42.2,
            "bin_end": 62.800000000000004,
            "count": 1
           },
           {
            "bin_start": 62.800000000000004,
            "bin_end": 83.4,
            "count": 0
           },
           {
            "bin_start": 83.4,
            "bin_end": 104,
            "count": 1
           },
           {
            "bin_start": 104,
            "bin_end": 124.60000000000001,
            "count": 1
           },
           {
            "bin_start": 124.60000000000001,
            "bin_end": 145.20000000000002,
            "count": 0
           },
           {
            "bin_start": 145.20000000000002,
            "bin_end": 165.8,
            "count": 0
           },
           {
            "bin_start": 165.8,
            "bin_end": 186.4,
            "count": 1
           },
           {
            "bin_start": 186.4,
            "bin_end": 207,
            "count": 1
           }
          ]
         }
        },
        {
         "name": "title",
         "dtype": "int64",
         "stats": {
          "unique_count": 9,
          "nan_count": 0,
          "min": "1",
          "max": "207",
          "histogram": [
           {
            "bin_start": 1,
            "bin_end": 21.6,
            "count": 8
           },
           {
            "bin_start": 21.6,
            "bin_end": 42.2,
            "count": 1
           },
           {
            "bin_start": 42.2,
            "bin_end": 62.800000000000004,
            "count": 1
           },
           {
            "bin_start": 62.800000000000004,
            "bin_end": 83.4,
            "count": 0
           },
           {
            "bin_start": 83.4,
            "bin_end": 104,
            "count": 1
           },
           {
            "bin_start": 104,
            "bin_end": 124.60000000000001,
            "count": 1
           },
           {
            "bin_start": 124.60000000000001,
            "bin_end": 145.20000000000002,
            "count": 0
           },
           {
            "bin_start": 145.20000000000002,
            "bin_end": 165.8,
            "count": 0
           },
           {
            "bin_start": 165.8,
            "bin_end": 186.4,
            "count": 1
           },
           {
            "bin_start": 186.4,
            "bin_end": 207,
            "count": 1
           }
          ]
         }
        },
        {
         "name": "isSuperUser",
         "dtype": "int64",
         "stats": {
          "unique_count": 9,
          "nan_count": 0,
          "min": "1",
          "max": "207",
          "histogram": [
           {
            "bin_start": 1,
            "bin_end": 21.6,
            "count": 8
           },
           {
            "bin_start": 21.6,
            "bin_end": 42.2,
            "count": 1
           },
           {
            "bin_start": 42.2,
            "bin_end": 62.800000000000004,
            "count": 1
           },
           {
            "bin_start": 62.800000000000004,
            "bin_end": 83.4,
            "count": 0
           },
           {
            "bin_start": 83.4,
            "bin_end": 104,
            "count": 1
           },
           {
            "bin_start": 104,
            "bin_end": 124.60000000000001,
            "count": 1
           },
           {
            "bin_start": 124.60000000000001,
            "bin_end": 145.20000000000002,
            "count": 0
           },
           {
            "bin_start": 145.20000000000002,
            "bin_end": 165.8,
            "count": 0
           },
           {
            "bin_start": 165.8,
            "bin_end": 186.4,
            "count": 1
           },
           {
            "bin_start": 186.4,
            "bin_end": 207,
            "count": 1
           }
          ]
         }
        },
        {
         "name": "lastLogin",
         "dtype": "int64",
         "stats": {
          "unique_count": 9,
          "nan_count": 0,
          "min": "1",
          "max": "207",
          "histogram": [
           {
            "bin_start": 1,
            "bin_end": 21.6,
            "count": 8
           },
           {
            "bin_start": 21.6,
            "bin_end": 42.2,
            "count": 1
           },
           {
            "bin_start": 42.2,
            "bin_end": 62.800000000000004,
            "count": 1
           },
           {
            "bin_start": 62.800000000000004,
            "bin_end": 83.4,
            "count": 0
           },
           {
            "bin_start": 83.4,
            "bin_end": 104,
            "count": 1
           },
           {
            "bin_start": 104,
            "bin_end": 124.60000000000001,
            "count": 1
           },
           {
            "bin_start": 124.60000000000001,
            "bin_end": 145.20000000000002,
            "count": 0
           },
           {
            "bin_start": 145.20000000000002,
            "bin_end": 165.8,
            "count": 0
           },
           {
            "bin_start": 165.8,
            "bin_end": 186.4,
            "count": 1
           },
           {
            "bin_start": 186.4,
            "bin_end": 207,
            "count": 1
           }
          ]
         }
        },
        {
         "name": "_deepnote_index_column",
         "dtype": "object"
        }
       ],
       "rows": [
        {
         "id_x": 1,
         "status": 1,
         "attendanceSessionId": 1,
         "userId": 1,
         "id_y": 1,
         "created_at": 1,
         "activity": 1,
         "title": 1,
         "isSuperUser": 1,
         "lastLogin": 1,
         "_deepnote_index_column": "Ahmed"
        },
        {
         "id_x": 117,
         "status": 117,
         "attendanceSessionId": 117,
         "userId": 117,
         "id_y": 117,
         "created_at": 117,
         "activity": 117,
         "title": 117,
         "isSuperUser": 117,
         "lastLogin": 117,
         "_deepnote_index_column": "Amaechi"
        },
        {
         "id_x": 2,
         "status": 2,
         "attendanceSessionId": 2,
         "userId": 2,
         "id_y": 2,
         "created_at": 2,
         "activity": 2,
         "title": 2,
         "isSuperUser": 2,
         "lastLogin": 2,
         "_deepnote_index_column": "Broughton"
        },
        {
         "id_x": 207,
         "status": 207,
         "attendanceSessionId": 207,
         "userId": 207,
         "id_y": 207,
         "created_at": 207,
         "activity": 207,
         "title": 207,
         "isSuperUser": 207,
         "lastLogin": 207,
         "_deepnote_index_column": "Ferreira"
        },
        {
         "id_x": 1,
         "status": 1,
         "attendanceSessionId": 1,
         "userId": 1,
         "id_y": 1,
         "created_at": 1,
         "activity": 1,
         "title": 1,
         "isSuperUser": 1,
         "lastLogin": 1,
         "_deepnote_index_column": "Ferreira "
        },
        {
         "id_x": 1,
         "status": 1,
         "attendanceSessionId": 1,
         "userId": 1,
         "id_y": 1,
         "created_at": 1,
         "activity": 1,
         "title": 1,
         "isSuperUser": 1,
         "lastLogin": 1,
         "_deepnote_index_column": "Folorunsho"
        },
        {
         "id_x": 1,
         "status": 1,
         "attendanceSessionId": 1,
         "userId": 1,
         "id_y": 1,
         "created_at": 1,
         "activity": 1,
         "title": 1,
         "isSuperUser": 1,
         "lastLogin": 1,
         "_deepnote_index_column": "Gurung "
        },
        {
         "id_x": 1,
         "status": 1,
         "attendanceSessionId": 1,
         "userId": 1,
         "id_y": 1,
         "created_at": 1,
         "activity": 1,
         "title": 1,
         "isSuperUser": 1,
         "lastLogin": 1,
         "_deepnote_index_column": "Hylton"
        },
        {
         "id_x": 60,
         "status": 60,
         "attendanceSessionId": 60,
         "userId": 60,
         "id_y": 60,
         "created_at": 60,
         "activity": 60,
         "title": 60,
         "isSuperUser": 60,
         "lastLogin": 60,
         "_deepnote_index_column": "Khan"
        },
        {
         "id_x": 1,
         "status": 1,
         "attendanceSessionId": 1,
         "userId": 1,
         "id_y": 1,
         "created_at": 1,
         "activity": 1,
         "title": 1,
         "isSuperUser": 1,
         "lastLogin": 1,
         "_deepnote_index_column": "Munkhondya"
        }
       ]
      },
      "text/plain": "            id_x  status  attendanceSessionId  userId  id_y  created_at  \\\nlastName                                                                  \nAhmed          1       1                    1       1     1           1   \nAmaechi      117     117                  117     117   117         117   \nBroughton      2       2                    2       2     2           2   \nFerreira     207     207                  207     207   207         207   \nFerreira       1       1                    1       1     1           1   \nFolorunsho     1       1                    1       1     1           1   \nGurung         1       1                    1       1     1           1   \nHylton         1       1                    1       1     1           1   \nKhan          60      60                   60      60    60          60   \nMunkhondya     1       1                    1       1     1           1   \nOksal        170     170                  170     170   170         170   \nPhua          18      18                   18      18    18          18   \nSurendran     90      90                   90      90    90          90   \npeker         36      36                   36      36    36          36   \n\n            activity  title  isSuperUser  lastLogin  \nlastName                                             \nAhmed              1      1            1          1  \nAmaechi          117    117          117        117  \nBroughton          2      2            2          2  \nFerreira         207    207          207        207  \nFerreira           1      1            1          1  \nFolorunsho         1      1            1          1  \nGurung             1      1            1          1  \nHylton             1      1            1          1  \nKhan              60     60           60         60  \nMunkhondya         1      1            1          1  \nOksal            170    170          170        170  \nPhua              18     18           18         18  \nSurendran         90     90           90         90  \npeker             36     36           36         36  ",
      "text/html": "<div>\n<style scoped>\n    .dataframe tbody tr th:only-of-type {\n        vertical-align: middle;\n    }\n\n    .dataframe tbody tr th {\n        vertical-align: top;\n    }\n\n    .dataframe thead th {\n        text-align: right;\n    }\n</style>\n<table border=\"1\" class=\"dataframe\">\n  <thead>\n    <tr style=\"text-align: right;\">\n      <th></th>\n      <th>id_x</th>\n      <th>status</th>\n      <th>attendanceSessionId</th>\n      <th>userId</th>\n      <th>id_y</th>\n      <th>created_at</th>\n      <th>activity</th>\n      <th>title</th>\n      <th>isSuperUser</th>\n      <th>lastLogin</th>\n    </tr>\n    <tr>\n      <th>lastName</th>\n      <th></th>\n      <th></th>\n      <th></th>\n      <th></th>\n      <th></th>\n      <th></th>\n      <th></th>\n      <th></th>\n      <th></th>\n      <th></th>\n    </tr>\n  </thead>\n  <tbody>\n    <tr>\n      <th>Ahmed</th>\n      <td>1</td>\n      <td>1</td>\n      <td>1</td>\n      <td>1</td>\n      <td>1</td>\n      <td>1</td>\n      <td>1</td>\n      <td>1</td>\n      <td>1</td>\n      <td>1</td>\n    </tr>\n    <tr>\n      <th>Amaechi</th>\n      <td>117</td>\n      <td>117</td>\n      <td>117</td>\n      <td>117</td>\n      <td>117</td>\n      <td>117</td>\n      <td>117</td>\n      <td>117</td>\n      <td>117</td>\n      <td>117</td>\n    </tr>\n    <tr>\n      <th>Broughton</th>\n      <td>2</td>\n      <td>2</td>\n      <td>2</td>\n      <td>2</td>\n      <td>2</td>\n      <td>2</td>\n      <td>2</td>\n      <td>2</td>\n      <td>2</td>\n      <td>2</td>\n    </tr>\n    <tr>\n      <th>Ferreira</th>\n      <td>207</td>\n      <td>207</td>\n      <td>207</td>\n      <td>207</td>\n      <td>207</td>\n      <td>207</td>\n      <td>207</td>\n      <td>207</td>\n      <td>207</td>\n      <td>207</td>\n    </tr>\n    <tr>\n      <th>Ferreira</th>\n      <td>1</td>\n      <td>1</td>\n      <td>1</td>\n      <td>1</td>\n      <td>1</td>\n      <td>1</td>\n      <td>1</td>\n      <td>1</td>\n      <td>1</td>\n      <td>1</td>\n    </tr>\n    <tr>\n      <th>Folorunsho</th>\n      <td>1</td>\n      <td>1</td>\n      <td>1</td>\n      <td>1</td>\n      <td>1</td>\n      <td>1</td>\n      <td>1</td>\n      <td>1</td>\n      <td>1</td>\n      <td>1</td>\n    </tr>\n    <tr>\n      <th>Gurung</th>\n      <td>1</td>\n      <td>1</td>\n      <td>1</td>\n      <td>1</td>\n      <td>1</td>\n      <td>1</td>\n      <td>1</td>\n      <td>1</td>\n      <td>1</td>\n      <td>1</td>\n    </tr>\n    <tr>\n      <th>Hylton</th>\n      <td>1</td>\n      <td>1</td>\n      <td>1</td>\n      <td>1</td>\n      <td>1</td>\n      <td>1</td>\n      <td>1</td>\n      <td>1</td>\n      <td>1</td>\n      <td>1</td>\n    </tr>\n    <tr>\n      <th>Khan</th>\n      <td>60</td>\n      <td>60</td>\n      <td>60</td>\n      <td>60</td>\n      <td>60</td>\n      <td>60</td>\n      <td>60</td>\n      <td>60</td>\n      <td>60</td>\n      <td>60</td>\n    </tr>\n    <tr>\n      <th>Munkhondya</th>\n      <td>1</td>\n      <td>1</td>\n      <td>1</td>\n      <td>1</td>\n      <td>1</td>\n      <td>1</td>\n      <td>1</td>\n      <td>1</td>\n      <td>1</td>\n      <td>1</td>\n    </tr>\n    <tr>\n      <th>Oksal</th>\n      <td>170</td>\n      <td>170</td>\n      <td>170</td>\n      <td>170</td>\n      <td>170</td>\n      <td>170</td>\n      <td>170</td>\n      <td>170</td>\n      <td>170</td>\n      <td>170</td>\n    </tr>\n    <tr>\n      <th>Phua</th>\n      <td>18</td>\n      <td>18</td>\n      <td>18</td>\n      <td>18</td>\n      <td>18</td>\n      <td>18</td>\n      <td>18</td>\n      <td>18</td>\n      <td>18</td>\n      <td>18</td>\n    </tr>\n    <tr>\n      <th>Surendran</th>\n      <td>90</td>\n      <td>90</td>\n      <td>90</td>\n      <td>90</td>\n      <td>90</td>\n      <td>90</td>\n      <td>90</td>\n      <td>90</td>\n      <td>90</td>\n      <td>90</td>\n    </tr>\n    <tr>\n      <th>peker</th>\n      <td>36</td>\n      <td>36</td>\n      <td>36</td>\n      <td>36</td>\n      <td>36</td>\n      <td>36</td>\n      <td>36</td>\n      <td>36</td>\n      <td>36</td>\n      <td>36</td>\n    </tr>\n  </tbody>\n</table>\n</div>"
     },
     "metadata": {}
    }
   ],
   "execution_count": 38
  },
  {
   "cell_type": "code",
   "source": "inv_InPerson_sum = inv_InPerson_sum.drop(columns=['id_x', 'status', 'attendanceSessionId', 'userId', 'id_y', 'created_at', 'title', 'isSuperUser', 'lastLogin'])",
   "metadata": {
    "cell_id": "a4502662d72a44d281ca9f65e1c8ad5a",
    "tags": [],
    "deepnote_to_be_reexecuted": false,
    "source_hash": "964c6b9c",
    "execution_start": 1652907672155,
    "execution_millis": 8,
    "deepnote_cell_type": "code",
    "deepnote_cell_height": 81
   },
   "outputs": [],
   "execution_count": 39
  },
  {
   "cell_type": "code",
   "source": "inv_InPerson_sum = inv_InPerson_sum.reset_index()\ninv_InPerson_sum.set_index('lastName', drop=False, inplace=True)\ninv_InPerson_sum",
   "metadata": {
    "cell_id": "547a870d68c64c0981ce9495adf33609",
    "tags": [],
    "deepnote_to_be_reexecuted": false,
    "source_hash": "3ecacb69",
    "execution_start": 1652907672216,
    "execution_millis": 566,
    "deepnote_cell_type": "code",
    "deepnote_cell_height": 636
   },
   "outputs": [
    {
     "output_type": "execute_result",
     "execution_count": 40,
     "data": {
      "application/vnd.deepnote.dataframe.v3+json": {
       "column_count": 2,
       "row_count": 14,
       "columns": [
        {
         "name": "lastName",
         "dtype": "object",
         "stats": {
          "unique_count": 14,
          "nan_count": 0,
          "categories": [
           {
            "name": "Ahmed",
            "count": 1
           },
           {
            "name": "Amaechi",
            "count": 1
           },
           {
            "name": "12 others",
            "count": 12
           }
          ]
         }
        },
        {
         "name": "activity",
         "dtype": "int64",
         "stats": {
          "unique_count": 9,
          "nan_count": 0,
          "min": "1",
          "max": "207",
          "histogram": [
           {
            "bin_start": 1,
            "bin_end": 21.6,
            "count": 8
           },
           {
            "bin_start": 21.6,
            "bin_end": 42.2,
            "count": 1
           },
           {
            "bin_start": 42.2,
            "bin_end": 62.800000000000004,
            "count": 1
           },
           {
            "bin_start": 62.800000000000004,
            "bin_end": 83.4,
            "count": 0
           },
           {
            "bin_start": 83.4,
            "bin_end": 104,
            "count": 1
           },
           {
            "bin_start": 104,
            "bin_end": 124.60000000000001,
            "count": 1
           },
           {
            "bin_start": 124.60000000000001,
            "bin_end": 145.20000000000002,
            "count": 0
           },
           {
            "bin_start": 145.20000000000002,
            "bin_end": 165.8,
            "count": 0
           },
           {
            "bin_start": 165.8,
            "bin_end": 186.4,
            "count": 1
           },
           {
            "bin_start": 186.4,
            "bin_end": 207,
            "count": 1
           }
          ]
         }
        },
        {
         "name": "_deepnote_index_column",
         "dtype": "object"
        }
       ],
       "rows": [
        {
         "lastName": "Ahmed",
         "activity": 1,
         "_deepnote_index_column": "Ahmed"
        },
        {
         "lastName": "Amaechi",
         "activity": 117,
         "_deepnote_index_column": "Amaechi"
        },
        {
         "lastName": "Broughton",
         "activity": 2,
         "_deepnote_index_column": "Broughton"
        },
        {
         "lastName": "Ferreira",
         "activity": 207,
         "_deepnote_index_column": "Ferreira"
        },
        {
         "lastName": "Ferreira ",
         "activity": 1,
         "_deepnote_index_column": "Ferreira "
        },
        {
         "lastName": "Folorunsho",
         "activity": 1,
         "_deepnote_index_column": "Folorunsho"
        },
        {
         "lastName": "Gurung ",
         "activity": 1,
         "_deepnote_index_column": "Gurung "
        },
        {
         "lastName": "Hylton",
         "activity": 1,
         "_deepnote_index_column": "Hylton"
        },
        {
         "lastName": "Khan",
         "activity": 60,
         "_deepnote_index_column": "Khan"
        },
        {
         "lastName": "Munkhondya",
         "activity": 1,
         "_deepnote_index_column": "Munkhondya"
        }
       ]
      },
      "text/plain": "              lastName  activity\nlastName                        \nAhmed            Ahmed         1\nAmaechi        Amaechi       117\nBroughton    Broughton         2\nFerreira      Ferreira       207\nFerreira     Ferreira          1\nFolorunsho  Folorunsho         1\nGurung         Gurung          1\nHylton          Hylton         1\nKhan              Khan        60\nMunkhondya  Munkhondya         1\nOksal            Oksal       170\nPhua             Phua         18\nSurendran    Surendran        90\npeker            peker        36",
      "text/html": "<div>\n<style scoped>\n    .dataframe tbody tr th:only-of-type {\n        vertical-align: middle;\n    }\n\n    .dataframe tbody tr th {\n        vertical-align: top;\n    }\n\n    .dataframe thead th {\n        text-align: right;\n    }\n</style>\n<table border=\"1\" class=\"dataframe\">\n  <thead>\n    <tr style=\"text-align: right;\">\n      <th></th>\n      <th>lastName</th>\n      <th>activity</th>\n    </tr>\n    <tr>\n      <th>lastName</th>\n      <th></th>\n      <th></th>\n    </tr>\n  </thead>\n  <tbody>\n    <tr>\n      <th>Ahmed</th>\n      <td>Ahmed</td>\n      <td>1</td>\n    </tr>\n    <tr>\n      <th>Amaechi</th>\n      <td>Amaechi</td>\n      <td>117</td>\n    </tr>\n    <tr>\n      <th>Broughton</th>\n      <td>Broughton</td>\n      <td>2</td>\n    </tr>\n    <tr>\n      <th>Ferreira</th>\n      <td>Ferreira</td>\n      <td>207</td>\n    </tr>\n    <tr>\n      <th>Ferreira</th>\n      <td>Ferreira</td>\n      <td>1</td>\n    </tr>\n    <tr>\n      <th>Folorunsho</th>\n      <td>Folorunsho</td>\n      <td>1</td>\n    </tr>\n    <tr>\n      <th>Gurung</th>\n      <td>Gurung</td>\n      <td>1</td>\n    </tr>\n    <tr>\n      <th>Hylton</th>\n      <td>Hylton</td>\n      <td>1</td>\n    </tr>\n    <tr>\n      <th>Khan</th>\n      <td>Khan</td>\n      <td>60</td>\n    </tr>\n    <tr>\n      <th>Munkhondya</th>\n      <td>Munkhondya</td>\n      <td>1</td>\n    </tr>\n    <tr>\n      <th>Oksal</th>\n      <td>Oksal</td>\n      <td>170</td>\n    </tr>\n    <tr>\n      <th>Phua</th>\n      <td>Phua</td>\n      <td>18</td>\n    </tr>\n    <tr>\n      <th>Surendran</th>\n      <td>Surendran</td>\n      <td>90</td>\n    </tr>\n    <tr>\n      <th>peker</th>\n      <td>peker</td>\n      <td>36</td>\n    </tr>\n  </tbody>\n</table>\n</div>"
     },
     "metadata": {}
    }
   ],
   "execution_count": 40
  },
  {
   "cell_type": "code",
   "metadata": {
    "cell_id": "b3094f1944574d78b4b979cebfcf1e48",
    "tags": [],
    "deepnote_to_be_reexecuted": false,
    "source_hash": "6ccc6492",
    "execution_start": 1652907672261,
    "execution_millis": 581,
    "deepnote_cell_type": "code",
    "deepnote_cell_height": 613.59375,
    "deepnote_output_heights": [
     78.796875
    ]
   },
   "source": "involvement",
   "execution_count": 41,
   "outputs": [
    {
     "output_type": "execute_result",
     "execution_count": 41,
     "data": {
      "application/vnd.deepnote.dataframe.v3+json": {
       "column_count": 8,
       "row_count": 481,
       "columns": [
        {
         "name": "id",
         "dtype": "int64",
         "stats": {
          "unique_count": 481,
          "nan_count": 0,
          "min": "1028",
          "max": "1525",
          "histogram": [
           {
            "bin_start": 1028,
            "bin_end": 1077.7,
            "count": 50
           },
           {
            "bin_start": 1077.7,
            "bin_end": 1127.4,
            "count": 50
           },
           {
            "bin_start": 1127.4,
            "bin_end": 1177.1,
            "count": 50
           },
           {
            "bin_start": 1177.1,
            "bin_end": 1226.8,
            "count": 49
           },
           {
            "bin_start": 1226.8,
            "bin_end": 1276.5,
            "count": 50
           },
           {
            "bin_start": 1276.5,
            "bin_end": 1326.2,
            "count": 41
           },
           {
            "bin_start": 1326.2,
            "bin_end": 1375.9,
            "count": 49
           },
           {
            "bin_start": 1375.9,
            "bin_end": 1425.6,
            "count": 50
           },
           {
            "bin_start": 1425.6,
            "bin_end": 1475.3,
            "count": 49
           },
           {
            "bin_start": 1475.3,
            "bin_end": 1525,
            "count": 43
           }
          ]
         }
        },
        {
         "name": "created_at",
         "dtype": "object",
         "stats": {
          "unique_count": 481,
          "nan_count": 0,
          "categories": [
           {
            "name": "2021-03-25 11:25:05.219531",
            "count": 1
           },
           {
            "name": "2021-03-25 11:25:36.764022",
            "count": 1
           },
           {
            "name": "479 others",
            "count": 479
           }
          ]
         }
        },
        {
         "name": "activity",
         "dtype": "object",
         "stats": {
          "unique_count": 36,
          "nan_count": 0,
          "categories": [
           {
            "name": "Logged in",
            "count": 324
           },
           {
            "name": "Magic link sent",
            "count": 29
           },
           {
            "name": "34 others",
            "count": 128
           }
          ]
         }
        },
        {
         "name": "userId",
         "dtype": "int64",
         "stats": {
          "unique_count": 26,
          "nan_count": 0,
          "min": "1",
          "max": "131",
          "histogram": [
           {
            "bin_start": 1,
            "bin_end": 14,
            "count": 285
           },
           {
            "bin_start": 14,
            "bin_end": 27,
            "count": 0
           },
           {
            "bin_start": 27,
            "bin_end": 40,
            "count": 0
           },
           {
            "bin_start": 40,
            "bin_end": 53,
            "count": 0
           },
           {
            "bin_start": 53,
            "bin_end": 66,
            "count": 16
           },
           {
            "bin_start": 66,
            "bin_end": 79,
            "count": 44
           },
           {
            "bin_start": 79,
            "bin_end": 92,
            "count": 16
           },
           {
            "bin_start": 92,
            "bin_end": 105,
            "count": 0
           },
           {
            "bin_start": 105,
            "bin_end": 118,
            "count": 64
           },
           {
            "bin_start": 118,
            "bin_end": 131,
            "count": 56
           }
          ]
         }
        },
        {
         "name": "lastName",
         "dtype": "object",
         "stats": {
          "unique_count": 25,
          "nan_count": 0,
          "categories": [
           {
            "name": "Cecile",
            "count": 210
           },
           {
            "name": "Khan",
            "count": 73
           },
           {
            "name": "23 others",
            "count": 198
           }
          ]
         }
        },
        {
         "name": "title",
         "dtype": "object",
         "stats": {
          "unique_count": 2,
          "nan_count": 0,
          "categories": [
           {
            "name": "[[REDACTED]]",
            "count": 277
           },
           {
            "name": "They/Them",
            "count": 204
           }
          ]
         }
        },
        {
         "name": "isSuperUser",
         "dtype": "int64",
         "stats": {
          "unique_count": 2,
          "nan_count": 0,
          "min": "0",
          "max": "1",
          "histogram": [
           {
            "bin_start": 0,
            "bin_end": 0.1,
            "count": 204
           },
           {
            "bin_start": 0.1,
            "bin_end": 0.2,
            "count": 0
           },
           {
            "bin_start": 0.2,
            "bin_end": 0.30000000000000004,
            "count": 0
           },
           {
            "bin_start": 0.30000000000000004,
            "bin_end": 0.4,
            "count": 0
           },
           {
            "bin_start": 0.4,
            "bin_end": 0.5,
            "count": 0
           },
           {
            "bin_start": 0.5,
            "bin_end": 0.6000000000000001,
            "count": 0
           },
           {
            "bin_start": 0.6000000000000001,
            "bin_end": 0.7000000000000001,
            "count": 0
           },
           {
            "bin_start": 0.7000000000000001,
            "bin_end": 0.8,
            "count": 0
           },
           {
            "bin_start": 0.8,
            "bin_end": 0.9,
            "count": 0
           },
           {
            "bin_start": 0.9,
            "bin_end": 1,
            "count": 277
           }
          ]
         }
        },
        {
         "name": "lastLogin",
         "dtype": "object",
         "stats": {
          "unique_count": 26,
          "nan_count": 0,
          "categories": [
           {
            "name": "2022-04-21 10:17:50",
            "count": 210
           },
           {
            "name": "2022-02-24 13:05:16",
            "count": 67
           },
           {
            "name": "24 others",
            "count": 204
           }
          ]
         }
        },
        {
         "name": "_deepnote_index_column",
         "dtype": "int64"
        }
       ],
       "rows": [
        {
         "id": 1028,
         "created_at": "2021-03-25 11:25:05.219531",
         "activity": "Logged in",
         "userId": 106,
         "lastName": "Ferreira",
         "title": "They/Them",
         "isSuperUser": 0,
         "lastLogin": "2021-05-04 13:02:17",
         "_deepnote_index_column": 0
        },
        {
         "id": 1029,
         "created_at": "2021-03-25 11:25:36.764022",
         "activity": "Accessed Session 4 - Starter Files from Intro to Game Dev with Unity repo",
         "userId": 106,
         "lastName": "Ferreira",
         "title": "They/Them",
         "isSuperUser": 0,
         "lastLogin": "2021-05-04 13:02:17",
         "_deepnote_index_column": 1
        },
        {
         "id": 1030,
         "created_at": "2021-03-25 11:28:19.047747",
         "activity": "Accessed Session 3 Recap from Intro to Game Dev with Unity repo",
         "userId": 106,
         "lastName": "Ferreira",
         "title": "They/Them",
         "isSuperUser": 0,
         "lastLogin": "2021-05-04 13:02:17",
         "_deepnote_index_column": 2
        },
        {
         "id": 1091,
         "created_at": "2021-04-01 05:46:28.584097",
         "activity": "Logged in",
         "userId": 106,
         "lastName": "Ferreira",
         "title": "They/Them",
         "isSuperUser": 0,
         "lastLogin": "2021-05-04 13:02:17",
         "_deepnote_index_column": 3
        },
        {
         "id": 1092,
         "created_at": "2021-04-01 05:46:52.658630",
         "activity": "Accessed Session 5 - Assets from Intro to Game Dev with Unity repo [access:141012aa424::rrtGJAd2ae1e]",
         "userId": 106,
         "lastName": "Ferreira",
         "title": "They/Them",
         "isSuperUser": 0,
         "lastLogin": "2021-05-04 13:02:17",
         "_deepnote_index_column": 4
        },
        {
         "id": 1093,
         "created_at": "2021-04-01 05:47:27.761210",
         "activity": "Accessed Session 5 - Starter Files from Intro to Game Dev with Unity repo [access:3aadbfd9eca::rrtGJAd2ae1e]",
         "userId": 106,
         "lastName": "Ferreira",
         "title": "They/Them",
         "isSuperUser": 0,
         "lastLogin": "2021-05-04 13:02:17",
         "_deepnote_index_column": 5
        },
        {
         "id": 1094,
         "created_at": "2021-04-01 05:49:44.969753",
         "activity": "Accessed Session Four Recap from Intro to Game Dev with Unity repo [access:b4aec5f066b::rrtGJAd2ae1e]",
         "userId": 106,
         "lastName": "Ferreira",
         "title": "They/Them",
         "isSuperUser": 0,
         "lastLogin": "2021-05-04 13:02:17",
         "_deepnote_index_column": 6
        },
        {
         "id": 1129,
         "created_at": "2021-04-09 13:42:41.610992",
         "activity": "Logged in",
         "userId": 106,
         "lastName": "Ferreira",
         "title": "They/Them",
         "isSuperUser": 0,
         "lastLogin": "2021-05-04 13:02:17",
         "_deepnote_index_column": 7
        },
        {
         "id": 1130,
         "created_at": "2021-04-09 13:42:59.996112",
         "activity": "Accessed Session 6 - Starter Files from Intro to Game Dev with Unity repo [access:4ff849da461::rrtGJAd2ae1e]",
         "userId": 106,
         "lastName": "Ferreira",
         "title": "They/Them",
         "isSuperUser": 0,
         "lastLogin": "2021-05-04 13:02:17",
         "_deepnote_index_column": 8
        },
        {
         "id": 1131,
         "created_at": "2021-04-09 13:43:36.345370",
         "activity": "Accessed Session 6 Recap from Intro to Game Dev with Unity repo [access:1d9bec2ad95::rrtGJAd2ae1e]",
         "userId": 106,
         "lastName": "Ferreira",
         "title": "They/Them",
         "isSuperUser": 0,
         "lastLogin": "2021-05-04 13:02:17",
         "_deepnote_index_column": 9
        }
       ]
      },
      "text/plain": "       id                  created_at  \\\n0    1028  2021-03-25 11:25:05.219531   \n1    1029  2021-03-25 11:25:36.764022   \n2    1030  2021-03-25 11:28:19.047747   \n3    1091  2021-04-01 05:46:28.584097   \n4    1092  2021-04-01 05:46:52.658630   \n..    ...                         ...   \n476  1428  2021-07-14 09:27:29.915681   \n477  1429  2021-07-14 09:27:50.593216   \n478  1430  2021-07-14 09:27:50.813533   \n479  1431  2021-07-14 09:28:00.435449   \n480  1432  2021-07-14 09:28:15.573492   \n\n                                              activity  userId  lastName  \\\n0                                            Logged in     106  Ferreira   \n1    Accessed Session 4 - Starter Files from Intro ...     106  Ferreira   \n2    Accessed Session 3 Recap from Intro to Game De...     106  Ferreira   \n3                                            Logged in     106  Ferreira   \n4    Accessed Session 5 - Assets from Intro to Game...     106  Ferreira   \n..                                                 ...     ...       ...   \n476                           Password Reset requested     131      Webb   \n477                                          Logged in     131      Webb   \n478   Password expired. Redirecting to update password     131      Webb   \n479                                   Updated password     131      Webb   \n480  No course selected. Navigating to course selec...     131      Webb   \n\n         title  isSuperUser            lastLogin  \n0    They/Them            0  2021-05-04 13:02:17  \n1    They/Them            0  2021-05-04 13:02:17  \n2    They/Them            0  2021-05-04 13:02:17  \n3    They/Them            0  2021-05-04 13:02:17  \n4    They/Them            0  2021-05-04 13:02:17  \n..         ...          ...                  ...  \n476  They/Them            0  2021-07-14 09:27:50  \n477  They/Them            0  2021-07-14 09:27:50  \n478  They/Them            0  2021-07-14 09:27:50  \n479  They/Them            0  2021-07-14 09:27:50  \n480  They/Them            0  2021-07-14 09:27:50  \n\n[481 rows x 8 columns]",
      "text/html": "<div>\n<style scoped>\n    .dataframe tbody tr th:only-of-type {\n        vertical-align: middle;\n    }\n\n    .dataframe tbody tr th {\n        vertical-align: top;\n    }\n\n    .dataframe thead th {\n        text-align: right;\n    }\n</style>\n<table border=\"1\" class=\"dataframe\">\n  <thead>\n    <tr style=\"text-align: right;\">\n      <th></th>\n      <th>id</th>\n      <th>created_at</th>\n      <th>activity</th>\n      <th>userId</th>\n      <th>lastName</th>\n      <th>title</th>\n      <th>isSuperUser</th>\n      <th>lastLogin</th>\n    </tr>\n  </thead>\n  <tbody>\n    <tr>\n      <th>0</th>\n      <td>1028</td>\n      <td>2021-03-25 11:25:05.219531</td>\n      <td>Logged in</td>\n      <td>106</td>\n      <td>Ferreira</td>\n      <td>They/Them</td>\n      <td>0</td>\n      <td>2021-05-04 13:02:17</td>\n    </tr>\n    <tr>\n      <th>1</th>\n      <td>1029</td>\n      <td>2021-03-25 11:25:36.764022</td>\n      <td>Accessed Session 4 - Starter Files from Intro ...</td>\n      <td>106</td>\n      <td>Ferreira</td>\n      <td>They/Them</td>\n      <td>0</td>\n      <td>2021-05-04 13:02:17</td>\n    </tr>\n    <tr>\n      <th>2</th>\n      <td>1030</td>\n      <td>2021-03-25 11:28:19.047747</td>\n      <td>Accessed Session 3 Recap from Intro to Game De...</td>\n      <td>106</td>\n      <td>Ferreira</td>\n      <td>They/Them</td>\n      <td>0</td>\n      <td>2021-05-04 13:02:17</td>\n    </tr>\n    <tr>\n      <th>3</th>\n      <td>1091</td>\n      <td>2021-04-01 05:46:28.584097</td>\n      <td>Logged in</td>\n      <td>106</td>\n      <td>Ferreira</td>\n      <td>They/Them</td>\n      <td>0</td>\n      <td>2021-05-04 13:02:17</td>\n    </tr>\n    <tr>\n      <th>4</th>\n      <td>1092</td>\n      <td>2021-04-01 05:46:52.658630</td>\n      <td>Accessed Session 5 - Assets from Intro to Game...</td>\n      <td>106</td>\n      <td>Ferreira</td>\n      <td>They/Them</td>\n      <td>0</td>\n      <td>2021-05-04 13:02:17</td>\n    </tr>\n    <tr>\n      <th>...</th>\n      <td>...</td>\n      <td>...</td>\n      <td>...</td>\n      <td>...</td>\n      <td>...</td>\n      <td>...</td>\n      <td>...</td>\n      <td>...</td>\n    </tr>\n    <tr>\n      <th>476</th>\n      <td>1428</td>\n      <td>2021-07-14 09:27:29.915681</td>\n      <td>Password Reset requested</td>\n      <td>131</td>\n      <td>Webb</td>\n      <td>They/Them</td>\n      <td>0</td>\n      <td>2021-07-14 09:27:50</td>\n    </tr>\n    <tr>\n      <th>477</th>\n      <td>1429</td>\n      <td>2021-07-14 09:27:50.593216</td>\n      <td>Logged in</td>\n      <td>131</td>\n      <td>Webb</td>\n      <td>They/Them</td>\n      <td>0</td>\n      <td>2021-07-14 09:27:50</td>\n    </tr>\n    <tr>\n      <th>478</th>\n      <td>1430</td>\n      <td>2021-07-14 09:27:50.813533</td>\n      <td>Password expired. Redirecting to update password</td>\n      <td>131</td>\n      <td>Webb</td>\n      <td>They/Them</td>\n      <td>0</td>\n      <td>2021-07-14 09:27:50</td>\n    </tr>\n    <tr>\n      <th>479</th>\n      <td>1431</td>\n      <td>2021-07-14 09:28:00.435449</td>\n      <td>Updated password</td>\n      <td>131</td>\n      <td>Webb</td>\n      <td>They/Them</td>\n      <td>0</td>\n      <td>2021-07-14 09:27:50</td>\n    </tr>\n    <tr>\n      <th>480</th>\n      <td>1432</td>\n      <td>2021-07-14 09:28:15.573492</td>\n      <td>No course selected. Navigating to course selec...</td>\n      <td>131</td>\n      <td>Webb</td>\n      <td>They/Them</td>\n      <td>0</td>\n      <td>2021-07-14 09:27:50</td>\n    </tr>\n  </tbody>\n</table>\n<p>481 rows × 8 columns</p>\n</div>"
     },
     "metadata": {}
    }
   ]
  },
  {
   "cell_type": "code",
   "metadata": {
    "cell_id": "6aac7ecf5ee649ac981406e43a2392aa",
    "tags": [],
    "deepnote_to_be_reexecuted": false,
    "source_hash": "a51eb92a",
    "execution_start": 1652907672375,
    "execution_millis": 467,
    "deepnote_cell_type": "code",
    "deepnote_cell_height": 392
   },
   "source": "involvement.info()",
   "execution_count": 42,
   "outputs": [
    {
     "name": "stdout",
     "text": "<class 'pandas.core.frame.DataFrame'>\nInt64Index: 481 entries, 0 to 480\nData columns (total 8 columns):\n #   Column       Non-Null Count  Dtype \n---  ------       --------------  ----- \n 0   id           481 non-null    int64 \n 1   created_at   481 non-null    object\n 2   activity     481 non-null    object\n 3   userId       481 non-null    int64 \n 4   lastName     481 non-null    object\n 5   title        481 non-null    object\n 6   isSuperUser  481 non-null    int64 \n 7   lastLogin    481 non-null    object\ndtypes: int64(3), object(5)\nmemory usage: 33.8+ KB\n",
     "output_type": "stream"
    }
   ]
  },
  {
   "cell_type": "code",
   "metadata": {
    "cell_id": "4ba68857bf434714a16952147ca8e719",
    "tags": [],
    "deepnote_to_be_reexecuted": false,
    "source_hash": "6ce6a04",
    "execution_start": 1652907672376,
    "execution_millis": 466,
    "deepnote_cell_type": "code",
    "deepnote_cell_height": 195,
    "deepnote_output_heights": [
     98
    ]
   },
   "source": "involvement.lastName.unique()",
   "execution_count": 43,
   "outputs": [
    {
     "output_type": "execute_result",
     "execution_count": 43,
     "data": {
      "text/plain": "array(['Ferreira', 'Hayre', 'Cecile', 'Sherry', '[[REDACTED]]', 'Oksal',\n       'Khan', 'Amaechi', 'peker', 'Carstairs ', 'Surendran', 'tse',\n       'Phua ', 'riz-test', 'Broughton', 'Hylton', 'Folorunsho', 'Ahmed',\n       'Ferreira ', 'Munkhondya', 'Gurung ', 'Lodge', 'Saunders', 'Demo',\n       'Webb'], dtype=object)"
     },
     "metadata": {}
    }
   ]
  },
  {
   "cell_type": "code",
   "metadata": {
    "cell_id": "e2cc67618b734fa4b233029f169d0783",
    "tags": [],
    "deepnote_to_be_reexecuted": false,
    "source_hash": "18034591",
    "execution_start": 1652907672377,
    "execution_millis": 467,
    "deepnote_cell_type": "code",
    "deepnote_cell_height": 631.59375
   },
   "source": "inv_number_sum = involvement.groupby('lastName').count()\ninv_number_sum",
   "execution_count": 44,
   "outputs": [
    {
     "output_type": "execute_result",
     "execution_count": 44,
     "data": {
      "application/vnd.deepnote.dataframe.v3+json": {
       "column_count": 7,
       "row_count": 25,
       "columns": [
        {
         "name": "id",
         "dtype": "int64",
         "stats": {
          "unique_count": 17,
          "nan_count": 0,
          "min": "1",
          "max": "210",
          "histogram": [
           {
            "bin_start": 1,
            "bin_end": 21.9,
            "count": 20
           },
           {
            "bin_start": 21.9,
            "bin_end": 42.8,
            "count": 3
           },
           {
            "bin_start": 42.8,
            "bin_end": 63.699999999999996,
            "count": 0
           },
           {
            "bin_start": 63.699999999999996,
            "bin_end": 84.6,
            "count": 1
           },
           {
            "bin_start": 84.6,
            "bin_end": 105.5,
            "count": 0
           },
           {
            "bin_start": 105.5,
            "bin_end": 126.39999999999999,
            "count": 0
           },
           {
            "bin_start": 126.39999999999999,
            "bin_end": 147.29999999999998,
            "count": 0
           },
           {
            "bin_start": 147.29999999999998,
            "bin_end": 168.2,
            "count": 0
           },
           {
            "bin_start": 168.2,
            "bin_end": 189.1,
            "count": 0
           },
           {
            "bin_start": 189.1,
            "bin_end": 210,
            "count": 1
           }
          ]
         }
        },
        {
         "name": "created_at",
         "dtype": "int64",
         "stats": {
          "unique_count": 17,
          "nan_count": 0,
          "min": "1",
          "max": "210",
          "histogram": [
           {
            "bin_start": 1,
            "bin_end": 21.9,
            "count": 20
           },
           {
            "bin_start": 21.9,
            "bin_end": 42.8,
            "count": 3
           },
           {
            "bin_start": 42.8,
            "bin_end": 63.699999999999996,
            "count": 0
           },
           {
            "bin_start": 63.699999999999996,
            "bin_end": 84.6,
            "count": 1
           },
           {
            "bin_start": 84.6,
            "bin_end": 105.5,
            "count": 0
           },
           {
            "bin_start": 105.5,
            "bin_end": 126.39999999999999,
            "count": 0
           },
           {
            "bin_start": 126.39999999999999,
            "bin_end": 147.29999999999998,
            "count": 0
           },
           {
            "bin_start": 147.29999999999998,
            "bin_end": 168.2,
            "count": 0
           },
           {
            "bin_start": 168.2,
            "bin_end": 189.1,
            "count": 0
           },
           {
            "bin_start": 189.1,
            "bin_end": 210,
            "count": 1
           }
          ]
         }
        },
        {
         "name": "activity",
         "dtype": "int64",
         "stats": {
          "unique_count": 17,
          "nan_count": 0,
          "min": "1",
          "max": "210",
          "histogram": [
           {
            "bin_start": 1,
            "bin_end": 21.9,
            "count": 20
           },
           {
            "bin_start": 21.9,
            "bin_end": 42.8,
            "count": 3
           },
           {
            "bin_start": 42.8,
            "bin_end": 63.699999999999996,
            "count": 0
           },
           {
            "bin_start": 63.699999999999996,
            "bin_end": 84.6,
            "count": 1
           },
           {
            "bin_start": 84.6,
            "bin_end": 105.5,
            "count": 0
           },
           {
            "bin_start": 105.5,
            "bin_end": 126.39999999999999,
            "count": 0
           },
           {
            "bin_start": 126.39999999999999,
            "bin_end": 147.29999999999998,
            "count": 0
           },
           {
            "bin_start": 147.29999999999998,
            "bin_end": 168.2,
            "count": 0
           },
           {
            "bin_start": 168.2,
            "bin_end": 189.1,
            "count": 0
           },
           {
            "bin_start": 189.1,
            "bin_end": 210,
            "count": 1
           }
          ]
         }
        },
        {
         "name": "userId",
         "dtype": "int64",
         "stats": {
          "unique_count": 17,
          "nan_count": 0,
          "min": "1",
          "max": "210",
          "histogram": [
           {
            "bin_start": 1,
            "bin_end": 21.9,
            "count": 20
           },
           {
            "bin_start": 21.9,
            "bin_end": 42.8,
            "count": 3
           },
           {
            "bin_start": 42.8,
            "bin_end": 63.699999999999996,
            "count": 0
           },
           {
            "bin_start": 63.699999999999996,
            "bin_end": 84.6,
            "count": 1
           },
           {
            "bin_start": 84.6,
            "bin_end": 105.5,
            "count": 0
           },
           {
            "bin_start": 105.5,
            "bin_end": 126.39999999999999,
            "count": 0
           },
           {
            "bin_start": 126.39999999999999,
            "bin_end": 147.29999999999998,
            "count": 0
           },
           {
            "bin_start": 147.29999999999998,
            "bin_end": 168.2,
            "count": 0
           },
           {
            "bin_start": 168.2,
            "bin_end": 189.1,
            "count": 0
           },
           {
            "bin_start": 189.1,
            "bin_end": 210,
            "count": 1
           }
          ]
         }
        },
        {
         "name": "title",
         "dtype": "int64",
         "stats": {
          "unique_count": 17,
          "nan_count": 0,
          "min": "1",
          "max": "210",
          "histogram": [
           {
            "bin_start": 1,
            "bin_end": 21.9,
            "count": 20
           },
           {
            "bin_start": 21.9,
            "bin_end": 42.8,
            "count": 3
           },
           {
            "bin_start": 42.8,
            "bin_end": 63.699999999999996,
            "count": 0
           },
           {
            "bin_start": 63.699999999999996,
            "bin_end": 84.6,
            "count": 1
           },
           {
            "bin_start": 84.6,
            "bin_end": 105.5,
            "count": 0
           },
           {
            "bin_start": 105.5,
            "bin_end": 126.39999999999999,
            "count": 0
           },
           {
            "bin_start": 126.39999999999999,
            "bin_end": 147.29999999999998,
            "count": 0
           },
           {
            "bin_start": 147.29999999999998,
            "bin_end": 168.2,
            "count": 0
           },
           {
            "bin_start": 168.2,
            "bin_end": 189.1,
            "count": 0
           },
           {
            "bin_start": 189.1,
            "bin_end": 210,
            "count": 1
           }
          ]
         }
        },
        {
         "name": "isSuperUser",
         "dtype": "int64",
         "stats": {
          "unique_count": 17,
          "nan_count": 0,
          "min": "1",
          "max": "210",
          "histogram": [
           {
            "bin_start": 1,
            "bin_end": 21.9,
            "count": 20
           },
           {
            "bin_start": 21.9,
            "bin_end": 42.8,
            "count": 3
           },
           {
            "bin_start": 42.8,
            "bin_end": 63.699999999999996,
            "count": 0
           },
           {
            "bin_start": 63.699999999999996,
            "bin_end": 84.6,
            "count": 1
           },
           {
            "bin_start": 84.6,
            "bin_end": 105.5,
            "count": 0
           },
           {
            "bin_start": 105.5,
            "bin_end": 126.39999999999999,
            "count": 0
           },
           {
            "bin_start": 126.39999999999999,
            "bin_end": 147.29999999999998,
            "count": 0
           },
           {
            "bin_start": 147.29999999999998,
            "bin_end": 168.2,
            "count": 0
           },
           {
            "bin_start": 168.2,
            "bin_end": 189.1,
            "count": 0
           },
           {
            "bin_start": 189.1,
            "bin_end": 210,
            "count": 1
           }
          ]
         }
        },
        {
         "name": "lastLogin",
         "dtype": "int64",
         "stats": {
          "unique_count": 17,
          "nan_count": 0,
          "min": "1",
          "max": "210",
          "histogram": [
           {
            "bin_start": 1,
            "bin_end": 21.9,
            "count": 20
           },
           {
            "bin_start": 21.9,
            "bin_end": 42.8,
            "count": 3
           },
           {
            "bin_start": 42.8,
            "bin_end": 63.699999999999996,
            "count": 0
           },
           {
            "bin_start": 63.699999999999996,
            "bin_end": 84.6,
            "count": 1
           },
           {
            "bin_start": 84.6,
            "bin_end": 105.5,
            "count": 0
           },
           {
            "bin_start": 105.5,
            "bin_end": 126.39999999999999,
            "count": 0
           },
           {
            "bin_start": 126.39999999999999,
            "bin_end": 147.29999999999998,
            "count": 0
           },
           {
            "bin_start": 147.29999999999998,
            "bin_end": 168.2,
            "count": 0
           },
           {
            "bin_start": 168.2,
            "bin_end": 189.1,
            "count": 0
           },
           {
            "bin_start": 189.1,
            "bin_end": 210,
            "count": 1
           }
          ]
         }
        },
        {
         "name": "_deepnote_index_column",
         "dtype": "object"
        }
       ],
       "rows": [
        {
         "id": 1,
         "created_at": 1,
         "activity": 1,
         "userId": 1,
         "title": 1,
         "isSuperUser": 1,
         "lastLogin": 1,
         "_deepnote_index_column": "Ahmed"
        },
        {
         "id": 13,
         "created_at": 13,
         "activity": 13,
         "userId": 13,
         "title": 13,
         "isSuperUser": 13,
         "lastLogin": 13,
         "_deepnote_index_column": "Amaechi"
        },
        {
         "id": 2,
         "created_at": 2,
         "activity": 2,
         "userId": 2,
         "title": 2,
         "isSuperUser": 2,
         "lastLogin": 2,
         "_deepnote_index_column": "Broughton"
        },
        {
         "id": 2,
         "created_at": 2,
         "activity": 2,
         "userId": 2,
         "title": 2,
         "isSuperUser": 2,
         "lastLogin": 2,
         "_deepnote_index_column": "Carstairs "
        },
        {
         "id": 210,
         "created_at": 210,
         "activity": 210,
         "userId": 210,
         "title": 210,
         "isSuperUser": 210,
         "lastLogin": 210,
         "_deepnote_index_column": "Cecile"
        },
        {
         "id": 16,
         "created_at": 16,
         "activity": 16,
         "userId": 16,
         "title": 16,
         "isSuperUser": 16,
         "lastLogin": 16,
         "_deepnote_index_column": "Demo"
        },
        {
         "id": 23,
         "created_at": 23,
         "activity": 23,
         "userId": 23,
         "title": 23,
         "isSuperUser": 23,
         "lastLogin": 23,
         "_deepnote_index_column": "Ferreira"
        },
        {
         "id": 1,
         "created_at": 1,
         "activity": 1,
         "userId": 1,
         "title": 1,
         "isSuperUser": 1,
         "lastLogin": 1,
         "_deepnote_index_column": "Ferreira "
        },
        {
         "id": 1,
         "created_at": 1,
         "activity": 1,
         "userId": 1,
         "title": 1,
         "isSuperUser": 1,
         "lastLogin": 1,
         "_deepnote_index_column": "Folorunsho"
        },
        {
         "id": 1,
         "created_at": 1,
         "activity": 1,
         "userId": 1,
         "title": 1,
         "isSuperUser": 1,
         "lastLogin": 1,
         "_deepnote_index_column": "Gurung "
        }
       ]
      },
      "text/plain": "               id  created_at  activity  userId  title  isSuperUser  lastLogin\nlastName                                                                      \nAhmed           1           1         1       1      1            1          1\nAmaechi        13          13        13      13     13           13         13\nBroughton       2           2         2       2      2            2          2\nCarstairs       2           2         2       2      2            2          2\nCecile        210         210       210     210    210          210        210\nDemo           16          16        16      16     16           16         16\nFerreira       23          23        23      23     23           23         23\nFerreira        1           1         1       1      1            1          1\nFolorunsho      1           1         1       1      1            1          1\nGurung          1           1         1       1      1            1          1\nHayre           8           8         8       8      8            8          8\nHylton          1           1         1       1      1            1          1\nKhan           73          73        73      73     73           73         73\nLodge           3           3         3       3      3            3          3\nMunkhondya      1           1         1       1      1            1          1\nOksal          17          17        17      17     17           17         17\nPhua            2           2         2       2      2            2          2\nSaunders       32          32        32      32     32           32         32\nSherry         17          17        17      17     17           17         17\nSurendran      10          10        10      10     10           10         10\nWebb            6           6         6       6      6            6          6\n[[REDACTED]]   25          25        25      25     25           25         25\npeker           4           4         4       4      4            4          4\nriz-test        7           7         7       7      7            7          7\ntse             5           5         5       5      5            5          5",
      "text/html": "<div>\n<style scoped>\n    .dataframe tbody tr th:only-of-type {\n        vertical-align: middle;\n    }\n\n    .dataframe tbody tr th {\n        vertical-align: top;\n    }\n\n    .dataframe thead th {\n        text-align: right;\n    }\n</style>\n<table border=\"1\" class=\"dataframe\">\n  <thead>\n    <tr style=\"text-align: right;\">\n      <th></th>\n      <th>id</th>\n      <th>created_at</th>\n      <th>activity</th>\n      <th>userId</th>\n      <th>title</th>\n      <th>isSuperUser</th>\n      <th>lastLogin</th>\n    </tr>\n    <tr>\n      <th>lastName</th>\n      <th></th>\n      <th></th>\n      <th></th>\n      <th></th>\n      <th></th>\n      <th></th>\n      <th></th>\n    </tr>\n  </thead>\n  <tbody>\n    <tr>\n      <th>Ahmed</th>\n      <td>1</td>\n      <td>1</td>\n      <td>1</td>\n      <td>1</td>\n      <td>1</td>\n      <td>1</td>\n      <td>1</td>\n    </tr>\n    <tr>\n      <th>Amaechi</th>\n      <td>13</td>\n      <td>13</td>\n      <td>13</td>\n      <td>13</td>\n      <td>13</td>\n      <td>13</td>\n      <td>13</td>\n    </tr>\n    <tr>\n      <th>Broughton</th>\n      <td>2</td>\n      <td>2</td>\n      <td>2</td>\n      <td>2</td>\n      <td>2</td>\n      <td>2</td>\n      <td>2</td>\n    </tr>\n    <tr>\n      <th>Carstairs</th>\n      <td>2</td>\n      <td>2</td>\n      <td>2</td>\n      <td>2</td>\n      <td>2</td>\n      <td>2</td>\n      <td>2</td>\n    </tr>\n    <tr>\n      <th>Cecile</th>\n      <td>210</td>\n      <td>210</td>\n      <td>210</td>\n      <td>210</td>\n      <td>210</td>\n      <td>210</td>\n      <td>210</td>\n    </tr>\n    <tr>\n      <th>Demo</th>\n      <td>16</td>\n      <td>16</td>\n      <td>16</td>\n      <td>16</td>\n      <td>16</td>\n      <td>16</td>\n      <td>16</td>\n    </tr>\n    <tr>\n      <th>Ferreira</th>\n      <td>23</td>\n      <td>23</td>\n      <td>23</td>\n      <td>23</td>\n      <td>23</td>\n      <td>23</td>\n      <td>23</td>\n    </tr>\n    <tr>\n      <th>Ferreira</th>\n      <td>1</td>\n      <td>1</td>\n      <td>1</td>\n      <td>1</td>\n      <td>1</td>\n      <td>1</td>\n      <td>1</td>\n    </tr>\n    <tr>\n      <th>Folorunsho</th>\n      <td>1</td>\n      <td>1</td>\n      <td>1</td>\n      <td>1</td>\n      <td>1</td>\n      <td>1</td>\n      <td>1</td>\n    </tr>\n    <tr>\n      <th>Gurung</th>\n      <td>1</td>\n      <td>1</td>\n      <td>1</td>\n      <td>1</td>\n      <td>1</td>\n      <td>1</td>\n      <td>1</td>\n    </tr>\n    <tr>\n      <th>Hayre</th>\n      <td>8</td>\n      <td>8</td>\n      <td>8</td>\n      <td>8</td>\n      <td>8</td>\n      <td>8</td>\n      <td>8</td>\n    </tr>\n    <tr>\n      <th>Hylton</th>\n      <td>1</td>\n      <td>1</td>\n      <td>1</td>\n      <td>1</td>\n      <td>1</td>\n      <td>1</td>\n      <td>1</td>\n    </tr>\n    <tr>\n      <th>Khan</th>\n      <td>73</td>\n      <td>73</td>\n      <td>73</td>\n      <td>73</td>\n      <td>73</td>\n      <td>73</td>\n      <td>73</td>\n    </tr>\n    <tr>\n      <th>Lodge</th>\n      <td>3</td>\n      <td>3</td>\n      <td>3</td>\n      <td>3</td>\n      <td>3</td>\n      <td>3</td>\n      <td>3</td>\n    </tr>\n    <tr>\n      <th>Munkhondya</th>\n      <td>1</td>\n      <td>1</td>\n      <td>1</td>\n      <td>1</td>\n      <td>1</td>\n      <td>1</td>\n      <td>1</td>\n    </tr>\n    <tr>\n      <th>Oksal</th>\n      <td>17</td>\n      <td>17</td>\n      <td>17</td>\n      <td>17</td>\n      <td>17</td>\n      <td>17</td>\n      <td>17</td>\n    </tr>\n    <tr>\n      <th>Phua</th>\n      <td>2</td>\n      <td>2</td>\n      <td>2</td>\n      <td>2</td>\n      <td>2</td>\n      <td>2</td>\n      <td>2</td>\n    </tr>\n    <tr>\n      <th>Saunders</th>\n      <td>32</td>\n      <td>32</td>\n      <td>32</td>\n      <td>32</td>\n      <td>32</td>\n      <td>32</td>\n      <td>32</td>\n    </tr>\n    <tr>\n      <th>Sherry</th>\n      <td>17</td>\n      <td>17</td>\n      <td>17</td>\n      <td>17</td>\n      <td>17</td>\n      <td>17</td>\n      <td>17</td>\n    </tr>\n    <tr>\n      <th>Surendran</th>\n      <td>10</td>\n      <td>10</td>\n      <td>10</td>\n      <td>10</td>\n      <td>10</td>\n      <td>10</td>\n      <td>10</td>\n    </tr>\n    <tr>\n      <th>Webb</th>\n      <td>6</td>\n      <td>6</td>\n      <td>6</td>\n      <td>6</td>\n      <td>6</td>\n      <td>6</td>\n      <td>6</td>\n    </tr>\n    <tr>\n      <th>[[REDACTED]]</th>\n      <td>25</td>\n      <td>25</td>\n      <td>25</td>\n      <td>25</td>\n      <td>25</td>\n      <td>25</td>\n      <td>25</td>\n    </tr>\n    <tr>\n      <th>peker</th>\n      <td>4</td>\n      <td>4</td>\n      <td>4</td>\n      <td>4</td>\n      <td>4</td>\n      <td>4</td>\n      <td>4</td>\n    </tr>\n    <tr>\n      <th>riz-test</th>\n      <td>7</td>\n      <td>7</td>\n      <td>7</td>\n      <td>7</td>\n      <td>7</td>\n      <td>7</td>\n      <td>7</td>\n    </tr>\n    <tr>\n      <th>tse</th>\n      <td>5</td>\n      <td>5</td>\n      <td>5</td>\n      <td>5</td>\n      <td>5</td>\n      <td>5</td>\n      <td>5</td>\n    </tr>\n  </tbody>\n</table>\n</div>"
     },
     "metadata": {}
    }
   ]
  },
  {
   "cell_type": "code",
   "metadata": {
    "cell_id": "306cee794ea1470f9ebf6c7633969994",
    "tags": [],
    "deepnote_to_be_reexecuted": false,
    "source_hash": "5288441b",
    "execution_start": 1652907672419,
    "execution_millis": 3,
    "deepnote_cell_type": "code",
    "deepnote_cell_height": 81
   },
   "source": "inv_number_sum = inv_number_sum.drop(columns=['id', 'userId', 'title', 'isSuperUser', 'lastLogin'])",
   "execution_count": 45,
   "outputs": []
  },
  {
   "cell_type": "code",
   "metadata": {
    "cell_id": "dd4a1fe6b23541b09aa22d11a519b5c8",
    "tags": [],
    "deepnote_to_be_reexecuted": false,
    "source_hash": "94d9d54a",
    "execution_start": 1652907672480,
    "execution_millis": 364,
    "deepnote_cell_type": "code",
    "deepnote_cell_height": 654
   },
   "source": "inv_number_sum = inv_number_sum.reset_index()\ninv_number_sum.set_index('lastName', drop=False, inplace=True)\ninv_number_sum\n",
   "execution_count": 46,
   "outputs": [
    {
     "output_type": "execute_result",
     "execution_count": 46,
     "data": {
      "application/vnd.deepnote.dataframe.v3+json": {
       "column_count": 3,
       "row_count": 25,
       "columns": [
        {
         "name": "lastName",
         "dtype": "object",
         "stats": {
          "unique_count": 25,
          "nan_count": 0,
          "categories": [
           {
            "name": "Ahmed",
            "count": 1
           },
           {
            "name": "Amaechi",
            "count": 1
           },
           {
            "name": "23 others",
            "count": 23
           }
          ]
         }
        },
        {
         "name": "created_at",
         "dtype": "int64",
         "stats": {
          "unique_count": 17,
          "nan_count": 0,
          "min": "1",
          "max": "210",
          "histogram": [
           {
            "bin_start": 1,
            "bin_end": 21.9,
            "count": 20
           },
           {
            "bin_start": 21.9,
            "bin_end": 42.8,
            "count": 3
           },
           {
            "bin_start": 42.8,
            "bin_end": 63.699999999999996,
            "count": 0
           },
           {
            "bin_start": 63.699999999999996,
            "bin_end": 84.6,
            "count": 1
           },
           {
            "bin_start": 84.6,
            "bin_end": 105.5,
            "count": 0
           },
           {
            "bin_start": 105.5,
            "bin_end": 126.39999999999999,
            "count": 0
           },
           {
            "bin_start": 126.39999999999999,
            "bin_end": 147.29999999999998,
            "count": 0
           },
           {
            "bin_start": 147.29999999999998,
            "bin_end": 168.2,
            "count": 0
           },
           {
            "bin_start": 168.2,
            "bin_end": 189.1,
            "count": 0
           },
           {
            "bin_start": 189.1,
            "bin_end": 210,
            "count": 1
           }
          ]
         }
        },
        {
         "name": "activity",
         "dtype": "int64",
         "stats": {
          "unique_count": 17,
          "nan_count": 0,
          "min": "1",
          "max": "210",
          "histogram": [
           {
            "bin_start": 1,
            "bin_end": 21.9,
            "count": 20
           },
           {
            "bin_start": 21.9,
            "bin_end": 42.8,
            "count": 3
           },
           {
            "bin_start": 42.8,
            "bin_end": 63.699999999999996,
            "count": 0
           },
           {
            "bin_start": 63.699999999999996,
            "bin_end": 84.6,
            "count": 1
           },
           {
            "bin_start": 84.6,
            "bin_end": 105.5,
            "count": 0
           },
           {
            "bin_start": 105.5,
            "bin_end": 126.39999999999999,
            "count": 0
           },
           {
            "bin_start": 126.39999999999999,
            "bin_end": 147.29999999999998,
            "count": 0
           },
           {
            "bin_start": 147.29999999999998,
            "bin_end": 168.2,
            "count": 0
           },
           {
            "bin_start": 168.2,
            "bin_end": 189.1,
            "count": 0
           },
           {
            "bin_start": 189.1,
            "bin_end": 210,
            "count": 1
           }
          ]
         }
        },
        {
         "name": "_deepnote_index_column",
         "dtype": "object"
        }
       ],
       "rows": [
        {
         "lastName": "Ahmed",
         "created_at": 1,
         "activity": 1,
         "_deepnote_index_column": "Ahmed"
        },
        {
         "lastName": "Amaechi",
         "created_at": 13,
         "activity": 13,
         "_deepnote_index_column": "Amaechi"
        },
        {
         "lastName": "Broughton",
         "created_at": 2,
         "activity": 2,
         "_deepnote_index_column": "Broughton"
        },
        {
         "lastName": "Carstairs ",
         "created_at": 2,
         "activity": 2,
         "_deepnote_index_column": "Carstairs "
        },
        {
         "lastName": "Cecile",
         "created_at": 210,
         "activity": 210,
         "_deepnote_index_column": "Cecile"
        },
        {
         "lastName": "Demo",
         "created_at": 16,
         "activity": 16,
         "_deepnote_index_column": "Demo"
        },
        {
         "lastName": "Ferreira",
         "created_at": 23,
         "activity": 23,
         "_deepnote_index_column": "Ferreira"
        },
        {
         "lastName": "Ferreira ",
         "created_at": 1,
         "activity": 1,
         "_deepnote_index_column": "Ferreira "
        },
        {
         "lastName": "Folorunsho",
         "created_at": 1,
         "activity": 1,
         "_deepnote_index_column": "Folorunsho"
        },
        {
         "lastName": "Gurung ",
         "created_at": 1,
         "activity": 1,
         "_deepnote_index_column": "Gurung "
        }
       ]
      },
      "text/plain": "                  lastName  created_at  activity\nlastName                                        \nAhmed                Ahmed           1         1\nAmaechi            Amaechi          13        13\nBroughton        Broughton           2         2\nCarstairs       Carstairs            2         2\nCecile              Cecile         210       210\nDemo                  Demo          16        16\nFerreira          Ferreira          23        23\nFerreira         Ferreira            1         1\nFolorunsho      Folorunsho           1         1\nGurung             Gurung            1         1\nHayre                Hayre           8         8\nHylton              Hylton           1         1\nKhan                  Khan          73        73\nLodge                Lodge           3         3\nMunkhondya      Munkhondya           1         1\nOksal                Oksal          17        17\nPhua                 Phua            2         2\nSaunders          Saunders          32        32\nSherry              Sherry          17        17\nSurendran        Surendran          10        10\nWebb                  Webb           6         6\n[[REDACTED]]  [[REDACTED]]          25        25\npeker                peker           4         4\nriz-test          riz-test           7         7\ntse                    tse           5         5",
      "text/html": "<div>\n<style scoped>\n    .dataframe tbody tr th:only-of-type {\n        vertical-align: middle;\n    }\n\n    .dataframe tbody tr th {\n        vertical-align: top;\n    }\n\n    .dataframe thead th {\n        text-align: right;\n    }\n</style>\n<table border=\"1\" class=\"dataframe\">\n  <thead>\n    <tr style=\"text-align: right;\">\n      <th></th>\n      <th>lastName</th>\n      <th>created_at</th>\n      <th>activity</th>\n    </tr>\n    <tr>\n      <th>lastName</th>\n      <th></th>\n      <th></th>\n      <th></th>\n    </tr>\n  </thead>\n  <tbody>\n    <tr>\n      <th>Ahmed</th>\n      <td>Ahmed</td>\n      <td>1</td>\n      <td>1</td>\n    </tr>\n    <tr>\n      <th>Amaechi</th>\n      <td>Amaechi</td>\n      <td>13</td>\n      <td>13</td>\n    </tr>\n    <tr>\n      <th>Broughton</th>\n      <td>Broughton</td>\n      <td>2</td>\n      <td>2</td>\n    </tr>\n    <tr>\n      <th>Carstairs</th>\n      <td>Carstairs</td>\n      <td>2</td>\n      <td>2</td>\n    </tr>\n    <tr>\n      <th>Cecile</th>\n      <td>Cecile</td>\n      <td>210</td>\n      <td>210</td>\n    </tr>\n    <tr>\n      <th>Demo</th>\n      <td>Demo</td>\n      <td>16</td>\n      <td>16</td>\n    </tr>\n    <tr>\n      <th>Ferreira</th>\n      <td>Ferreira</td>\n      <td>23</td>\n      <td>23</td>\n    </tr>\n    <tr>\n      <th>Ferreira</th>\n      <td>Ferreira</td>\n      <td>1</td>\n      <td>1</td>\n    </tr>\n    <tr>\n      <th>Folorunsho</th>\n      <td>Folorunsho</td>\n      <td>1</td>\n      <td>1</td>\n    </tr>\n    <tr>\n      <th>Gurung</th>\n      <td>Gurung</td>\n      <td>1</td>\n      <td>1</td>\n    </tr>\n    <tr>\n      <th>Hayre</th>\n      <td>Hayre</td>\n      <td>8</td>\n      <td>8</td>\n    </tr>\n    <tr>\n      <th>Hylton</th>\n      <td>Hylton</td>\n      <td>1</td>\n      <td>1</td>\n    </tr>\n    <tr>\n      <th>Khan</th>\n      <td>Khan</td>\n      <td>73</td>\n      <td>73</td>\n    </tr>\n    <tr>\n      <th>Lodge</th>\n      <td>Lodge</td>\n      <td>3</td>\n      <td>3</td>\n    </tr>\n    <tr>\n      <th>Munkhondya</th>\n      <td>Munkhondya</td>\n      <td>1</td>\n      <td>1</td>\n    </tr>\n    <tr>\n      <th>Oksal</th>\n      <td>Oksal</td>\n      <td>17</td>\n      <td>17</td>\n    </tr>\n    <tr>\n      <th>Phua</th>\n      <td>Phua</td>\n      <td>2</td>\n      <td>2</td>\n    </tr>\n    <tr>\n      <th>Saunders</th>\n      <td>Saunders</td>\n      <td>32</td>\n      <td>32</td>\n    </tr>\n    <tr>\n      <th>Sherry</th>\n      <td>Sherry</td>\n      <td>17</td>\n      <td>17</td>\n    </tr>\n    <tr>\n      <th>Surendran</th>\n      <td>Surendran</td>\n      <td>10</td>\n      <td>10</td>\n    </tr>\n    <tr>\n      <th>Webb</th>\n      <td>Webb</td>\n      <td>6</td>\n      <td>6</td>\n    </tr>\n    <tr>\n      <th>[[REDACTED]]</th>\n      <td>[[REDACTED]]</td>\n      <td>25</td>\n      <td>25</td>\n    </tr>\n    <tr>\n      <th>peker</th>\n      <td>peker</td>\n      <td>4</td>\n      <td>4</td>\n    </tr>\n    <tr>\n      <th>riz-test</th>\n      <td>riz-test</td>\n      <td>7</td>\n      <td>7</td>\n    </tr>\n    <tr>\n      <th>tse</th>\n      <td>tse</td>\n      <td>5</td>\n      <td>5</td>\n    </tr>\n  </tbody>\n</table>\n</div>"
     },
     "metadata": {}
    }
   ]
  },
  {
   "cell_type": "code",
   "metadata": {
    "cell_id": "ec951a8ecb58451b975d43edb7cad011",
    "tags": [],
    "deepnote_to_be_reexecuted": false,
    "source_hash": "d9499082",
    "execution_start": 1652907672502,
    "execution_millis": 5101,
    "allow_embed": "output",
    "deepnote_cell_type": "code",
    "deepnote_cell_height": 1050,
    "deepnote_output_heights": [
     611
    ]
   },
   "source": "import seaborn as sns\nimport matplotlib.pyplot as plt\nsns.set_theme(style=\"whitegrid\")\n\n# Initialize the matplotlib figure\nf, ax = plt.subplots(figsize=(6, 15))\n\ninv_number_sum = inv_number_sum.sort_values(\"activity\", ascending=False)\n\n\nsns.set_color_codes(\"pastel\")\nsns.barplot(x=\"activity\", y= \"lastName\", data=inv_number_sum,\n            label=\"Avg_Salary\", color=\"b\")\n\n\n# Add a legend and informative axis label\nax.legend(ncol=2, loc=\"lower right\", frameon=True)\nax.set(xlim=(0, 210), ylabel=\"\",\n       xlabel=\"User Involvement\")\nsns.despine(left=True, bottom=True)",
   "execution_count": 47,
   "outputs": [
    {
     "data": {
      "text/plain": "<Figure size 432x1080 with 1 Axes>",
      "image/png": "[encoded data removed]"
     },
     "metadata": {
      "needs_background": "light",
      "image/png": {
       "width": 436,
       "height": 866
      }
     },
     "output_type": "display_data"
    }
   ]
  },
  {
   "cell_type": "code",
   "source": "import seaborn as sns\nimport matplotlib.pyplot as plt\nsns.set_theme(style=\"whitegrid\")\n\n# Initialize the matplotlib figure\nf, ax = plt.subplots(figsize=(6, 15))\n\ninv_InPerson_sum = inv_InPerson_sum.sort_values(\"activity\", ascending=False)\n\n\nsns.set_color_codes(\"pastel\")\nsns.barplot(x=\"activity\", y= \"lastName\", data=inv_InPerson_sum,\n            label=\"Avg_Salary\", color=\"b\")\n\n\n# Add a legend and informative axis label\nax.legend(ncol=2, loc=\"lower right\", frameon=True)\nax.set(xlim=(0, 210), ylabel=\"\",\n       xlabel=\"User Involvement\")\nsns.despine(left=True, bottom=True)",
   "metadata": {
    "cell_id": "07a8f176d98d403383943dc14f9cd77a",
    "tags": [],
    "deepnote_to_be_reexecuted": false,
    "source_hash": "684f5fb0",
    "execution_start": 1652907677642,
    "execution_millis": 694,
    "allow_embed": "output",
    "deepnote_cell_type": "code",
    "deepnote_cell_height": 1050,
    "deepnote_output_heights": [
     611
    ]
   },
   "outputs": [
    {
     "data": {
      "text/plain": "<Figure size 432x1080 with 1 Axes>",
      "image/png": "[encoded data removed]"
     },
     "metadata": {
      "image/png": {
       "width": 429,
       "height": 866
      }
     },
     "output_type": "display_data"
    }
   ],
   "execution_count": 48
  },
  {
   "cell_type": "code",
   "metadata": {
    "cell_id": "e0b7a973a61148b99e25d1b7ef1a037e",
    "tags": [],
    "deepnote_to_be_reexecuted": false,
    "source_hash": "726d189d",
    "execution_start": 1652907678173,
    "execution_millis": 403,
    "deepnote_cell_type": "code",
    "deepnote_cell_height": 473.1875,
    "deepnote_output_heights": [
     21.1875,
     324
    ]
   },
   "source": "inv_number_sum['activity'].plot(figsize = (10,5), marker = 'o', color = 'b')",
   "execution_count": 49,
   "outputs": [
    {
     "output_type": "execute_result",
     "execution_count": 49,
     "data": {
      "text/plain": "<AxesSubplot:xlabel='lastName'>"
     },
     "metadata": {}
    },
    {
     "data": {
      "text/plain": "<Figure size 720x360 with 1 Axes>",
      "image/png": "[encoded data removed]"
     },
     "metadata": {
      "image/png": {
       "width": 602,
       "height": 322
      }
     },
     "output_type": "display_data"
    }
   ]
  },
  {
   "cell_type": "code",
   "source": "inv_InPerson_sum['activity'].plot(figsize = (10,5), marker = 'o', color = 'b')",
   "metadata": {
    "cell_id": "f1aaaa0de9f94746ba8bc2ecca14d36e",
    "tags": [],
    "deepnote_to_be_reexecuted": false,
    "source_hash": "7ac15311",
    "execution_start": 1652907678586,
    "execution_millis": 379,
    "deepnote_cell_type": "code",
    "deepnote_cell_height": 473.1875,
    "deepnote_output_heights": [
     21.1875,
     324
    ]
   },
   "outputs": [
    {
     "output_type": "execute_result",
     "execution_count": 50,
     "data": {
      "text/plain": "<AxesSubplot:xlabel='lastName'>"
     },
     "metadata": {}
    },
    {
     "data": {
      "text/plain": "<Figure size 720x360 with 1 Axes>",
      "image/png": "[encoded data removed]"
     },
     "metadata": {
      "image/png": {
       "width": 602,
       "height": 322
      }
     },
     "output_type": "display_data"
    }
   ],
   "execution_count": 50
  },
  {
   "cell_type": "code",
   "metadata": {
    "cell_id": "acb8442a3e284cc2a124a8b7305f6a72",
    "tags": [],
    "deepnote_to_be_reexecuted": false,
    "source_hash": "6c8f4e25",
    "execution_start": 1652907678970,
    "execution_millis": 886,
    "deepnote_cell_type": "code",
    "deepnote_cell_height": 1059,
    "deepnote_output_heights": [
     602
    ]
   },
   "source": "from plotly.subplots import make_subplots # imports # imports plotly\nimport plotly.graph_objects as go # imports plotly graph objects as go\n\nfig = make_subplots(rows=3, cols=1) # makes sublots that stack underneath each other\n\nfig.append_trace(go.Scatter( # makes first plot - it is a line graph\n    x=inv_number_sum.index,\n    y=inv_number_sum['activity'],\n    name=\"Online Involvement\"\n), row=1, col=1)\n\nfig.append_trace(go.Scatter( # makes second plot - it is a line graph\n    x=inv_InPerson_sum.index,\n    y=inv_InPerson_sum['activity'],\n    name=\"In-Person Involvement\"\n), row=2, col=1)\n\n\n\nfig.update_layout(height=600, width=600, title_text=\"\")\nfig.show()",
   "execution_count": 51,
   "outputs": [
    {
     "data": {
      "text/html": "<html>\n<head><meta charset=\"utf-8\" /></head>\n<body>\n    <div>            <script src=\"https://cdnjs.cloudflare.com/ajax/libs/mathjax/2.7.5/MathJax.js?config=TeX-AMS-MML_SVG\"></script><script type=\"text/javascript\">if (window.MathJax) {MathJax.Hub.Config({SVG: {font: \"STIX-Web\"}});}</script>                <script type=\"text/javascript\">window.PlotlyConfig = {MathJaxConfig: 'local'};</script>\n        <script src=\"https://cdn.plot.ly/plotly-2.11.1.min.js\"></script>                <div id=\"2caa9d67-425e-4020-9eb0-c18d1586f793\" class=\"plotly-graph-div\" style=\"height:600px; width:600px;\"></div>            <script type=\"text/javascript\">                                    window.PLOTLYENV=window.PLOTLYENV || {};                                    if (document.getElementById(\"2caa9d67-425e-4020-9eb0-c18d1586f793\")) {                    Plotly.newPlot(                        \"2caa9d67-425e-4020-9eb0-c18d1586f793\",                        [{\"name\":\"Online Involvement\",\"x\":[\"Cecile\",\"Khan\",\"Saunders\",\"[[REDACTED]]\",\"Ferreira\",\"Oksal\",\"Sherry\",\"Demo\",\"Amaechi\",\"Surendran\",\"Hayre\",\"riz-test\",\"Webb\",\"tse\",\"peker\",\"Lodge\",\"Phua \",\"Carstairs \",\"Broughton\",\"Munkhondya\",\"Hylton\",\"Gurung \",\"Folorunsho\",\"Ferreira \",\"Ahmed\"],\"y\":[210,73,32,25,23,17,17,16,13,10,8,7,6,5,4,3,2,2,2,1,1,1,1,1,1],\"type\":\"scatter\",\"xaxis\":\"x\",\"yaxis\":\"y\"},{\"name\":\"In-Person Involvement\",\"x\":[\"Ferreira\",\"Oksal\",\"Amaechi\",\"Surendran\",\"Khan\",\"peker\",\"Phua \",\"Broughton\",\"Ahmed\",\"Ferreira \",\"Folorunsho\",\"Gurung \",\"Hylton\",\"Munkhondya\"],\"y\":[207,170,117,90,60,36,18,2,1,1,1,1,1,1],\"type\":\"scatter\",\"xaxis\":\"x2\",\"yaxis\":\"y2\"}],                        {\"template\":{\"data\":{\"histogram2dcontour\":[{\"type\":\"histogram2dcontour\",\"colorbar\":{\"outlinewidth\":0,\"ticks\":\"\"},\"colorscale\":[[0.0,\"#0d0887\"],[0.1111111111111111,\"#46039f\"],[0.2222222222222222,\"#7201a8\"],[0.3333333333333333,\"#9c179e\"],[0.4444444444444444,\"#bd3786\"],[0.5555555555555556,\"#d8576b\"],[0.6666666666666666,\"#ed7953\"],[0.7777777777777778,\"#fb9f3a\"],[0.8888888888888888,\"#fdca26\"],[1.0,\"#f0f921\"]]}],\"choropleth\":[{\"type\":\"choropleth\",\"colorbar\":{\"outlinewidth\":0,\"ticks\":\"\"}}],\"histogram2d\":[{\"type\":\"histogram2d\",\"colorbar\":{\"outlinewidth\":0,\"ticks\":\"\"},\"colorscale\":[[0.0,\"#0d0887\"],[0.1111111111111111,\"#46039f\"],[0.2222222222222222,\"#7201a8\"],[0.3333333333333333,\"#9c179e\"],[0.4444444444444444,\"#bd3786\"],[0.5555555555555556,\"#d8576b\"],[0.6666666666666666,\"#ed7953\"],[0.7777777777777778,\"#fb9f3a\"],[0.8888888888888888,\"#fdca26\"],[1.0,\"#f0f921\"]]}],\"heatmap\":[{\"type\":\"heatmap\",\"colorbar\":{\"outlinewidth\":0,\"ticks\":\"\"},\"colorscale\":[[0.0,\"#0d0887\"],[0.1111111111111111,\"#46039f\"],[0.2222222222222222,\"#7201a8\"],[0.3333333333333333,\"#9c179e\"],[0.4444444444444444,\"#bd3786\"],[0.5555555555555556,\"#d8576b\"],[0.6666666666666666,\"#ed7953\"],[0.7777777777777778,\"#fb9f3a\"],[0.8888888888888888,\"#fdca26\"],[1.0,\"#f0f921\"]]}],\"heatmapgl\":[{\"type\":\"heatmapgl\",\"colorbar\":{\"outlinewidth\":0,\"ticks\":\"\"},\"colorscale\":[[0.0,\"#0d0887\"],[0.1111111111111111,\"#46039f\"],[0.2222222222222222,\"#7201a8\"],[0.3333333333333333,\"#9c179e\"],[0.4444444444444444,\"#bd3786\"],[0.5555555555555556,\"#d8576b\"],[0.6666666666666666,\"#ed7953\"],[0.7777777777777778,\"#fb9f3a\"],[0.8888888888888888,\"#fdca26\"],[1.0,\"#f0f921\"]]}],\"contourcarpet\":[{\"type\":\"contourcarpet\",\"colorbar\":{\"outlinewidth\":0,\"ticks\":\"\"}}],\"contour\":[{\"type\":\"contour\",\"colorbar\":{\"outlinewidth\":0,\"ticks\":\"\"},\"colorscale\":[[0.0,\"#0d0887\"],[0.1111111111111111,\"#46039f\"],[0.2222222222222222,\"#7201a8\"],[0.3333333333333333,\"#9c179e\"],[0.4444444444444444,\"#bd3786\"],[0.5555555555555556,\"#d8576b\"],[0.6666666666666666,\"#ed7953\"],[0.7777777777777778,\"#fb9f3a\"],[0.8888888888888888,\"#fdca26\"],[1.0,\"#f0f921\"]]}],\"surface\":[{\"type\":\"surface\",\"colorbar\":{\"outlinewidth\":0,\"ticks\":\"\"},\"colorscale\":[[0.0,\"#0d0887\"],[0.1111111111111111,\"#46039f\"],[0.2222222222222222,\"#7201a8\"],[0.3333333333333333,\"#9c179e\"],[0.4444444444444444,\"#bd3786\"],[0.5555555555555556,\"#d8576b\"],[0.6666666666666666,\"#ed7953\"],[0.7777777777777778,\"#fb9f3a\"],[0.8888888888888888,\"#fdca26\"],[1.0,\"#f0f921\"]]}],\"mesh3d\":[{\"type\":\"mesh3d\",\"colorbar\":{\"outlinewidth\":0,\"ticks\":\"\"}}],\"scatter\":[{\"fillpattern\":{\"fillmode\":\"overlay\",\"size\":10,\"solidity\":0.2},\"type\":\"scatter\"}],\"parcoords\":[{\"type\":\"parcoords\",\"line\":{\"colorbar\":{\"outlinewidth\":0,\"ticks\":\"\"}}}],\"scatterpolargl\":[{\"type\":\"scatterpolargl\",\"marker\":{\"colorbar\":{\"outlinewidth\":0,\"ticks\":\"\"}}}],\"bar\":[{\"error_x\":{\"color\":\"#2a3f5f\"},\"error_y\":{\"color\":\"#2a3f5f\"},\"marker\":{\"line\":{\"color\":\"#E5ECF6\",\"width\":0.5},\"pattern\":{\"fillmode\":\"overlay\",\"size\":10,\"solidity\":0.2}},\"type\":\"bar\"}],\"scattergeo\":[{\"type\":\"scattergeo\",\"marker\":{\"colorbar\":{\"outlinewidth\":0,\"ticks\":\"\"}}}],\"scatterpolar\":[{\"type\":\"scatterpolar\",\"marker\":{\"colorbar\":{\"outlinewidth\":0,\"ticks\":\"\"}}}],\"histogram\":[{\"marker\":{\"pattern\":{\"fillmode\":\"overlay\",\"size\":10,\"solidity\":0.2}},\"type\":\"histogram\"}],\"scattergl\":[{\"type\":\"scattergl\",\"marker\":{\"colorbar\":{\"outlinewidth\":0,\"ticks\":\"\"}}}],\"scatter3d\":[{\"type\":\"scatter3d\",\"line\":{\"colorbar\":{\"outlinewidth\":0,\"ticks\":\"\"}},\"marker\":{\"colorbar\":{\"outlinewidth\":0,\"ticks\":\"\"}}}],\"scattermapbox\":[{\"type\":\"scattermapbox\",\"marker\":{\"colorbar\":{\"outlinewidth\":0,\"ticks\":\"\"}}}],\"scatterternary\":[{\"type\":\"scatterternary\",\"marker\":{\"colorbar\":{\"outlinewidth\":0,\"ticks\":\"\"}}}],\"scattercarpet\":[{\"type\":\"scattercarpet\",\"marker\":{\"colorbar\":{\"outlinewidth\":0,\"ticks\":\"\"}}}],\"carpet\":[{\"aaxis\":{\"endlinecolor\":\"#2a3f5f\",\"gridcolor\":\"white\",\"linecolor\":\"white\",\"minorgridcolor\":\"white\",\"startlinecolor\":\"#2a3f5f\"},\"baxis\":{\"endlinecolor\":\"#2a3f5f\",\"gridcolor\":\"white\",\"linecolor\":\"white\",\"minorgridcolor\":\"white\",\"startlinecolor\":\"#2a3f5f\"},\"type\":\"carpet\"}],\"table\":[{\"cells\":{\"fill\":{\"color\":\"#EBF0F8\"},\"line\":{\"color\":\"white\"}},\"header\":{\"fill\":{\"color\":\"#C8D4E3\"},\"line\":{\"color\":\"white\"}},\"type\":\"table\"}],\"barpolar\":[{\"marker\":{\"line\":{\"color\":\"#E5ECF6\",\"width\":0.5},\"pattern\":{\"fillmode\":\"overlay\",\"size\":10,\"solidity\":0.2}},\"type\":\"barpolar\"}],\"pie\":[{\"automargin\":true,\"type\":\"pie\"}]},\"layout\":{\"autotypenumbers\":\"strict\",\"colorway\":[\"#636efa\",\"#EF553B\",\"#00cc96\",\"#ab63fa\",\"#FFA15A\",\"#19d3f3\",\"#FF6692\",\"#B6E880\",\"#FF97FF\",\"#FECB52\"],\"font\":{\"color\":\"#2a3f5f\"},\"hovermode\":\"closest\",\"hoverlabel\":{\"align\":\"left\"},\"paper_bgcolor\":\"white\",\"plot_bgcolor\":\"#E5ECF6\",\"polar\":{\"bgcolor\":\"#E5ECF6\",\"angularaxis\":{\"gridcolor\":\"white\",\"linecolor\":\"white\",\"ticks\":\"\"},\"radialaxis\":{\"gridcolor\":\"white\",\"linecolor\":\"white\",\"ticks\":\"\"}},\"ternary\":{\"bgcolor\":\"#E5ECF6\",\"aaxis\":{\"gridcolor\":\"white\",\"linecolor\":\"white\",\"ticks\":\"\"},\"baxis\":{\"gridcolor\":\"white\",\"linecolor\":\"white\",\"ticks\":\"\"},\"caxis\":{\"gridcolor\":\"white\",\"linecolor\":\"white\",\"ticks\":\"\"}},\"coloraxis\":{\"colorbar\":{\"outlinewidth\":0,\"ticks\":\"\"}},\"colorscale\":{\"sequential\":[[0.0,\"#0d0887\"],[0.1111111111111111,\"#46039f\"],[0.2222222222222222,\"#7201a8\"],[0.3333333333333333,\"#9c179e\"],[0.4444444444444444,\"#bd3786\"],[0.5555555555555556,\"#d8576b\"],[0.6666666666666666,\"#ed7953\"],[0.7777777777777778,\"#fb9f3a\"],[0.8888888888888888,\"#fdca26\"],[1.0,\"#f0f921\"]],\"sequentialminus\":[[0.0,\"#0d0887\"],[0.1111111111111111,\"#46039f\"],[0.2222222222222222,\"#7201a8\"],[0.3333333333333333,\"#9c179e\"],[0.4444444444444444,\"#bd3786\"],[0.5555555555555556,\"#d8576b\"],[0.6666666666666666,\"#ed7953\"],[0.7777777777777778,\"#fb9f3a\"],[0.8888888888888888,\"#fdca26\"],[1.0,\"#f0f921\"]],\"diverging\":[[0,\"#8e0152\"],[0.1,\"#c51b7d\"],[0.2,\"#de77ae\"],[0.3,\"#f1b6da\"],[0.4,\"#fde0ef\"],[0.5,\"#f7f7f7\"],[0.6,\"#e6f5d0\"],[0.7,\"#b8e186\"],[0.8,\"#7fbc41\"],[0.9,\"#4d9221\"],[1,\"#276419\"]]},\"xaxis\":{\"gridcolor\":\"white\",\"linecolor\":\"white\",\"ticks\":\"\",\"title\":{\"standoff\":15},\"zerolinecolor\":\"white\",\"automargin\":true,\"zerolinewidth\":2},\"yaxis\":{\"gridcolor\":\"white\",\"linecolor\":\"white\",\"ticks\":\"\",\"title\":{\"standoff\":15},\"zerolinecolor\":\"white\",\"automargin\":true,\"zerolinewidth\":2},\"scene\":{\"xaxis\":{\"backgroundcolor\":\"#E5ECF6\",\"gridcolor\":\"white\",\"linecolor\":\"white\",\"showbackground\":true,\"ticks\":\"\",\"zerolinecolor\":\"white\",\"gridwidth\":2},\"yaxis\":{\"backgroundcolor\":\"#E5ECF6\",\"gridcolor\":\"white\",\"linecolor\":\"white\",\"showbackground\":true,\"ticks\":\"\",\"zerolinecolor\":\"white\",\"gridwidth\":2},\"zaxis\":{\"backgroundcolor\":\"#E5ECF6\",\"gridcolor\":\"white\",\"linecolor\":\"white\",\"showbackground\":true,\"ticks\":\"\",\"zerolinecolor\":\"white\",\"gridwidth\":2}},\"shapedefaults\":{\"line\":{\"color\":\"#2a3f5f\"}},\"annotationdefaults\":{\"arrowcolor\":\"#2a3f5f\",\"arrowhead\":0,\"arrowwidth\":1},\"geo\":{\"bgcolor\":\"white\",\"landcolor\":\"#E5ECF6\",\"subunitcolor\":\"white\",\"showland\":true,\"showlakes\":true,\"lakecolor\":\"white\"},\"title\":{\"x\":0.05},\"mapbox\":{\"style\":\"light\"}}},\"xaxis\":{\"anchor\":\"y\",\"domain\":[0.0,1.0]},\"yaxis\":{\"anchor\":\"x\",\"domain\":[0.7333333333333333,1.0]},\"xaxis2\":{\"anchor\":\"y2\",\"domain\":[0.0,1.0]},\"yaxis2\":{\"anchor\":\"x2\",\"domain\":[0.36666666666666664,0.6333333333333333]},\"xaxis3\":{\"anchor\":\"y3\",\"domain\":[0.0,1.0]},\"yaxis3\":{\"anchor\":\"x3\",\"domain\":[0.0,0.26666666666666666]},\"title\":{\"text\":\"\"},\"height\":600,\"width\":600},                        {\"responsive\": true}                    ).then(function(){\n                            \nvar gd = document.getElementById('2caa9d67-425e-4020-9eb0-c18d1586f793');\nvar x = new MutationObserver(function (mutations, observer) {{\n        var display = window.getComputedStyle(gd).display;\n        if (!display || display === 'none') {{\n            console.log([gd, 'removed!']);\n            Plotly.purge(gd);\n            observer.disconnect();\n        }}\n}});\n\n// Listen for the removal of the full notebook cells\nvar notebookContainer = gd.closest('#notebook-container');\nif (notebookContainer) {{\n    x.observe(notebookContainer, {childList: true});\n}}\n\n// Listen for the clearing of the current output cell\nvar outputEl = gd.closest('.output');\nif (outputEl) {{\n    x.observe(outputEl, {childList: true});\n}}\n\n                        })                };                            </script>        </div>\n</body>\n</html>"
     },
     "metadata": {},
     "output_type": "display_data"
    }
   ]
  },
  {
   "cell_type": "code",
   "source": "fig.write_html(\"index.html\")",
   "metadata": {
    "cell_id": "9547b4aa3f8f4ceea18612665ae6301d",
    "tags": [],
    "deepnote_to_be_reexecuted": false,
    "source_hash": "895515aa",
    "execution_start": 1652909079542,
    "execution_millis": 0,
    "deepnote_cell_type": "code",
    "deepnote_cell_height": 81
   },
   "outputs": [],
   "execution_count": 61
  },
  {
   "cell_type": "code",
   "source": "certificates = pd.read_csv('certificates.csv')",
   "metadata": {
    "cell_id": "e6ba3bf87a504da38bcf1fc9841d9986",
    "tags": [],
    "deepnote_to_be_reexecuted": false,
    "source_hash": "1bd56711",
    "execution_start": 1652907679866,
    "execution_millis": 50,
    "deepnote_cell_type": "code",
    "deepnote_cell_height": 81
   },
   "outputs": [],
   "execution_count": 52
  },
  {
   "cell_type": "code",
   "source": "certificates = certificates.drop(columns=['created_at', 'identifier', 'updated_at', 'expiry', 'hasPreview'])",
   "metadata": {
    "cell_id": "5c95371924f84320a599d9ceea7498ba",
    "tags": [],
    "deepnote_to_be_reexecuted": false,
    "source_hash": "c5a1a091",
    "execution_start": 1652907679929,
    "execution_millis": 6,
    "deepnote_cell_type": "code",
    "deepnote_cell_height": 81
   },
   "outputs": [],
   "execution_count": 53
  },
  {
   "cell_type": "code",
   "source": "certificates_learners = certificates.merge(learners.set_index('userId'), on='userId')",
   "metadata": {
    "cell_id": "9db57e5351d94796a7bac46b84139769",
    "tags": [],
    "deepnote_to_be_reexecuted": false,
    "source_hash": "2c76a23f",
    "execution_start": 1652908574311,
    "execution_millis": 6,
    "deepnote_cell_type": "code",
    "deepnote_cell_height": 81
   },
   "outputs": [],
   "execution_count": 56
  },
  {
   "cell_type": "code",
   "source": "finished = certificates_learners.merge(users.set_index('userId'), on='userId')",
   "metadata": {
    "cell_id": "8049566684a04b5685dec024cc80c639",
    "tags": [],
    "deepnote_to_be_reexecuted": false,
    "source_hash": "19227534",
    "execution_start": 1652908735795,
    "execution_millis": 5,
    "deepnote_cell_type": "code",
    "deepnote_cell_height": 81
   },
   "outputs": [],
   "execution_count": 59
  },
  {
   "cell_type": "code",
   "source": "finished",
   "metadata": {
    "cell_id": "26c02815315f4129a8013936ba07d5df",
    "tags": [],
    "deepnote_to_be_reexecuted": false,
    "source_hash": "9b74506c",
    "execution_start": 1652908738217,
    "execution_millis": 49,
    "deepnote_table_state": {
     "pageSize": 100,
     "pageIndex": 0,
     "filters": [],
     "sortBy": []
    },
    "deepnote_table_loading": false,
    "deepnote_cell_type": "code",
    "deepnote_cell_height": 613.59375
   },
   "outputs": [
    {
     "output_type": "execute_result",
     "execution_count": 63,
     "data": {
      "application/vnd.deepnote.dataframe.v3+json": {
       "column_count": 9,
       "row_count": 24,
       "columns": [
        {
         "name": "id",
         "dtype": "int64",
         "stats": {
          "unique_count": 20,
          "nan_count": 0,
          "min": "8",
          "max": "27",
          "histogram": [
           {
            "bin_start": 8,
            "bin_end": 9.9,
            "count": 2
           },
           {
            "bin_start": 9.9,
            "bin_end": 11.8,
            "count": 2
           },
           {
            "bin_start": 11.8,
            "bin_end": 13.7,
            "count": 2
           },
           {
            "bin_start": 13.7,
            "bin_end": 15.6,
            "count": 2
           },
           {
            "bin_start": 15.6,
            "bin_end": 17.5,
            "count": 2
           },
           {
            "bin_start": 17.5,
            "bin_end": 19.4,
            "count": 2
           },
           {
            "bin_start": 19.4,
            "bin_end": 21.299999999999997,
            "count": 3
           },
           {
            "bin_start": 21.299999999999997,
            "bin_end": 23.2,
            "count": 3
           },
           {
            "bin_start": 23.2,
            "bin_end": 25.099999999999998,
            "count": 4
           },
           {
            "bin_start": 25.099999999999998,
            "bin_end": 27,
            "count": 2
           }
          ]
         }
        },
        {
         "name": "grantedOn",
         "dtype": "object",
         "stats": {
          "unique_count": 3,
          "nan_count": 0,
          "categories": [
           {
            "name": "2020-02-04 12:00:00",
            "count": 11
           },
           {
            "name": "2021-04-27 11:00:00",
            "count": 7
           },
           {
            "name": "2021-07-03 18:00:00",
            "count": 6
           }
          ]
         }
        },
        {
         "name": "userId",
         "dtype": "int64",
         "stats": {
          "unique_count": 18,
          "nan_count": 0,
          "min": "5",
          "max": "125",
          "histogram": [
           {
            "bin_start": 5,
            "bin_end": 17,
            "count": 4
           },
           {
            "bin_start": 17,
            "bin_end": 29,
            "count": 1
           },
           {
            "bin_start": 29,
            "bin_end": 41,
            "count": 4
           },
           {
            "bin_start": 41,
            "bin_end": 53,
            "count": 2
           },
           {
            "bin_start": 53,
            "bin_end": 65,
            "count": 0
           },
           {
            "bin_start": 65,
            "bin_end": 77,
            "count": 5
           },
           {
            "bin_start": 77,
            "bin_end": 89,
            "count": 1
           },
           {
            "bin_start": 89,
            "bin_end": 101,
            "count": 0
           },
           {
            "bin_start": 101,
            "bin_end": 113,
            "count": 5
           },
           {
            "bin_start": 113,
            "bin_end": 125,
            "count": 2
           }
          ]
         }
        },
        {
         "name": "name",
         "dtype": "object",
         "stats": {
          "unique_count": 3,
          "nan_count": 0,
          "categories": [
           {
            "name": "Basics of Web Dev",
            "count": 11
           },
           {
            "name": "Intro to Game Dev",
            "count": 7
           },
           {
            "name": "Programming Fundamentals",
            "count": 6
           }
          ]
         }
        },
        {
         "name": "coursesId",
         "dtype": "int64",
         "stats": {
          "unique_count": 3,
          "nan_count": 0,
          "min": "3",
          "max": "9",
          "histogram": [
           {
            "bin_start": 3,
            "bin_end": 3.6,
            "count": 11
           },
           {
            "bin_start": 3.6,
            "bin_end": 4.2,
            "count": 0
           },
           {
            "bin_start": 4.2,
            "bin_end": 4.8,
            "count": 0
           },
           {
            "bin_start": 4.8,
            "bin_end": 5.4,
            "count": 7
           },
           {
            "bin_start": 5.4,
            "bin_end": 6,
            "count": 0
           },
           {
            "bin_start": 6,
            "bin_end": 6.6,
            "count": 0
           },
           {
            "bin_start": 6.6,
            "bin_end": 7.2,
            "count": 0
           },
           {
            "bin_start": 7.2,
            "bin_end": 7.8,
            "count": 0
           },
           {
            "bin_start": 7.8,
            "bin_end": 8.399999999999999,
            "count": 0
           },
           {
            "bin_start": 8.399999999999999,
            "bin_end": 9,
            "count": 6
           }
          ]
         }
        },
        {
         "name": "lastName",
         "dtype": "object",
         "stats": {
          "unique_count": 18,
          "nan_count": 0,
          "categories": [
           {
            "name": "Oksal",
            "count": 4
           },
           {
            "name": "Khan",
            "count": 4
           },
           {
            "name": "16 others",
            "count": 16
           }
          ]
         }
        },
        {
         "name": "title",
         "dtype": "object",
         "stats": {
          "unique_count": 2,
          "nan_count": 0,
          "categories": [
           {
            "name": "They/Them",
            "count": 21
           },
           {
            "name": "[[REDACTED]]",
            "count": 3
           }
          ]
         }
        },
        {
         "name": "isSuperUser",
         "dtype": "int64",
         "stats": {
          "unique_count": 1,
          "nan_count": 0,
          "min": "0",
          "max": "0",
          "histogram": [
           {
            "bin_start": -0.5,
            "bin_end": -0.4,
            "count": 0
           },
           {
            "bin_start": -0.4,
            "bin_end": -0.3,
            "count": 0
           },
           {
            "bin_start": -0.3,
            "bin_end": -0.19999999999999996,
            "count": 0
           },
           {
            "bin_start": -0.19999999999999996,
            "bin_end": -0.09999999999999998,
            "count": 0
           },
           {
            "bin_start": -0.09999999999999998,
            "bin_end": 0,
            "count": 0
           },
           {
            "bin_start": 0,
            "bin_end": 0.10000000000000009,
            "count": 24
           },
           {
            "bin_start": 0.10000000000000009,
            "bin_end": 0.20000000000000007,
            "count": 0
           },
           {
            "bin_start": 0.20000000000000007,
            "bin_end": 0.30000000000000004,
            "count": 0
           },
           {
            "bin_start": 0.30000000000000004,
            "bin_end": 0.4,
            "count": 0
           },
           {
            "bin_start": 0.4,
            "bin_end": 0.5,
            "count": 0
           }
          ]
         }
        },
        {
         "name": "lastLogin",
         "dtype": "object",
         "stats": {
          "unique_count": 17,
          "nan_count": 0,
          "categories": [
           {
            "name": "2021-07-12 23:06:58",
            "count": 4
           },
           {
            "name": "2021-04-27 15:53:57",
            "count": 4
           },
           {
            "name": "15 others",
            "count": 16
           }
          ]
         }
        },
        {
         "name": "_deepnote_index_column",
         "dtype": "int64"
        }
       ],
       "rows": [
        {
         "id": 8,
         "grantedOn": "2020-02-04 12:00:00",
         "userId": 29,
         "name": "Basics of Web Dev",
         "coursesId": 3,
         "lastName": "Wooler",
         "title": "They/Them",
         "isSuperUser": 0,
         "lastLogin": "2020-07-16 22:34:40",
         "_deepnote_index_column": 0
        },
        {
         "id": 9,
         "grantedOn": "2020-02-04 12:00:00",
         "userId": 49,
         "name": "Basics of Web Dev",
         "coursesId": 3,
         "lastName": "Ogbechina",
         "title": "They/Them",
         "isSuperUser": 0,
         "lastLogin": "2020-07-16 22:34:49",
         "_deepnote_index_column": 1
        },
        {
         "id": 10,
         "grantedOn": "2020-02-04 12:00:00",
         "userId": 46,
         "name": "Basics of Web Dev",
         "coursesId": 3,
         "lastName": "Costanza",
         "title": "They/Them",
         "isSuperUser": 0,
         "lastLogin": "2020-07-16 22:34:48",
         "_deepnote_index_column": 2
        },
        {
         "id": 11,
         "grantedOn": "2020-02-04 12:00:00",
         "userId": 40,
         "name": "Basics of Web Dev",
         "coursesId": 3,
         "lastName": "Williams",
         "title": "They/Them",
         "isSuperUser": 0,
         "lastLogin": "2020-07-16 22:34:46",
         "_deepnote_index_column": 3
        },
        {
         "id": 12,
         "grantedOn": "2020-02-04 12:00:00",
         "userId": 5,
         "name": "Basics of Web Dev",
         "coursesId": 3,
         "lastName": "Hodgins",
         "title": "They/Them",
         "isSuperUser": 0,
         "lastLogin": "2020-07-16 22:29:31",
         "_deepnote_index_column": 4
        },
        {
         "id": 13,
         "grantedOn": "2020-02-04 12:00:00",
         "userId": 12,
         "name": "Basics of Web Dev",
         "coursesId": 3,
         "lastName": "Makhlouf",
         "title": "[[REDACTED]]",
         "isSuperUser": 0,
         "lastLogin": "2020-07-16 22:34:33",
         "_deepnote_index_column": 5
        },
        {
         "id": 14,
         "grantedOn": "2020-02-04 12:00:00",
         "userId": 34,
         "name": "Basics of Web Dev",
         "coursesId": 3,
         "lastName": "Yusuf",
         "title": "They/Them",
         "isSuperUser": 0,
         "lastLogin": "2020-07-16 22:34:42",
         "_deepnote_index_column": 6
        },
        {
         "id": 15,
         "grantedOn": "2020-02-04 12:00:00",
         "userId": 21,
         "name": "Basics of Web Dev",
         "coursesId": 3,
         "lastName": "Pickering",
         "title": "They/Them",
         "isSuperUser": 0,
         "lastLogin": "2020-07-16 22:34:37",
         "_deepnote_index_column": 7
        },
        {
         "id": 16,
         "grantedOn": "2020-02-04 12:00:00",
         "userId": 16,
         "name": "Basics of Web Dev",
         "coursesId": 3,
         "lastName": "Mokkedem",
         "title": "[[REDACTED]]",
         "isSuperUser": 0,
         "lastLogin": "2020-07-16 22:34:35",
         "_deepnote_index_column": 8
        },
        {
         "id": 17,
         "grantedOn": "2020-02-04 12:00:00",
         "userId": 15,
         "name": "Basics of Web Dev",
         "coursesId": 3,
         "lastName": "Birk",
         "title": "[[REDACTED]]",
         "isSuperUser": 0,
         "lastLogin": "2020-07-16 22:34:35",
         "_deepnote_index_column": 9
        },
        {
         "id": 18,
         "grantedOn": "2020-02-04 12:00:00",
         "userId": 31,
         "name": "Basics of Web Dev",
         "coursesId": 3,
         "lastName": "Afriyie",
         "title": "They/Them",
         "isSuperUser": 0,
         "lastLogin": "2020-07-16 22:34:41",
         "_deepnote_index_column": 10
        },
        {
         "id": 19,
         "grantedOn": "2021-04-27 11:00:00",
         "userId": 85,
         "name": "Intro to Game Dev",
         "coursesId": 5,
         "lastName": "Surendran",
         "title": "They/Them",
         "isSuperUser": 0,
         "lastLogin": "2021-04-30 13:55:43",
         "_deepnote_index_column": 11
        },
        {
         "id": 20,
         "grantedOn": "2021-04-27 11:00:00",
         "userId": 105,
         "name": "Intro to Game Dev",
         "coursesId": 5,
         "lastName": "Oksal",
         "title": "They/Them",
         "isSuperUser": 0,
         "lastLogin": "2021-07-12 23:06:58",
         "_deepnote_index_column": 12
        },
        {
         "id": 20,
         "grantedOn": "2021-04-27 11:00:00",
         "userId": 105,
         "name": "Intro to Game Dev",
         "coursesId": 9,
         "lastName": "Oksal",
         "title": "They/Them",
         "isSuperUser": 0,
         "lastLogin": "2021-07-12 23:06:58",
         "_deepnote_index_column": 13
        },
        {
         "id": 24,
         "grantedOn": "2021-07-03 18:00:00",
         "userId": 105,
         "name": "Programming Fundamentals",
         "coursesId": 5,
         "lastName": "Oksal",
         "title": "They/Them",
         "isSuperUser": 0,
         "lastLogin": "2021-07-12 23:06:58",
         "_deepnote_index_column": 14
        },
        {
         "id": 24,
         "grantedOn": "2021-07-03 18:00:00",
         "userId": 105,
         "name": "Programming Fundamentals",
         "coursesId": 9,
         "lastName": "Oksal",
         "title": "They/Them",
         "isSuperUser": 0,
         "lastLogin": "2021-07-12 23:06:58",
         "_deepnote_index_column": 15
        },
        {
         "id": 21,
         "grantedOn": "2021-04-27 11:00:00",
         "userId": 106,
         "name": "Intro to Game Dev",
         "coursesId": 5,
         "lastName": "Ferreira",
         "title": "They/Them",
         "isSuperUser": 0,
         "lastLogin": "2021-05-04 13:02:17",
         "_deepnote_index_column": 16
        },
        {
         "id": 22,
         "grantedOn": "2021-04-27 11:00:00",
         "userId": 69,
         "name": "Intro to Game Dev",
         "coursesId": 5,
         "lastName": "Amaechi",
         "title": "They/Them",
         "isSuperUser": 0,
         "lastLogin": "2021-05-12 17:01:54",
         "_deepnote_index_column": 17
        },
        {
         "id": 23,
         "grantedOn": "2021-04-27 11:00:00",
         "userId": 66,
         "name": "Intro to Game Dev",
         "coursesId": 5,
         "lastName": "Khan",
         "title": "They/Them",
         "isSuperUser": 0,
         "lastLogin": "2021-04-27 15:53:57",
         "_deepnote_index_column": 18
        },
        {
         "id": 23,
         "grantedOn": "2021-04-27 11:00:00",
         "userId": 66,
         "name": "Intro to Game Dev",
         "coursesId": 9,
         "lastName": "Khan",
         "title": "They/Them",
         "isSuperUser": 0,
         "lastLogin": "2021-04-27 15:53:57",
         "_deepnote_index_column": 19
        },
        {
         "id": 25,
         "grantedOn": "2021-07-03 18:00:00",
         "userId": 66,
         "name": "Programming Fundamentals",
         "coursesId": 5,
         "lastName": "Khan",
         "title": "They/Them",
         "isSuperUser": 0,
         "lastLogin": "2021-04-27 15:53:57",
         "_deepnote_index_column": 20
        },
        {
         "id": 25,
         "grantedOn": "2021-07-03 18:00:00",
         "userId": 66,
         "name": "Programming Fundamentals",
         "coursesId": 9,
         "lastName": "Khan",
         "title": "They/Them",
         "isSuperUser": 0,
         "lastLogin": "2021-04-27 15:53:57",
         "_deepnote_index_column": 21
        },
        {
         "id": 26,
         "grantedOn": "2021-07-03 18:00:00",
         "userId": 122,
         "name": "Programming Fundamentals",
         "coursesId": 9,
         "lastName": "Hylton",
         "title": "They/Them",
         "isSuperUser": 0,
         "lastLogin": "2021-06-12 18:54:15",
         "_deepnote_index_column": 22
        },
        {
         "id": 27,
         "grantedOn": "2021-07-03 18:00:00",
         "userId": 125,
         "name": "Programming Fundamentals",
         "coursesId": 9,
         "lastName": "Ferreira ",
         "title": "They/Them",
         "isSuperUser": 0,
         "lastLogin": "2021-06-23 00:50:30",
         "_deepnote_index_column": 23
        }
       ]
      },
      "text/plain": "    id            grantedOn  userId                      name  coursesId  \\\n0    8  2020-02-04 12:00:00      29         Basics of Web Dev          3   \n1    9  2020-02-04 12:00:00      49         Basics of Web Dev          3   \n2   10  2020-02-04 12:00:00      46         Basics of Web Dev          3   \n3   11  2020-02-04 12:00:00      40         Basics of Web Dev          3   \n4   12  2020-02-04 12:00:00       5         Basics of Web Dev          3   \n5   13  2020-02-04 12:00:00      12         Basics of Web Dev          3   \n6   14  2020-02-04 12:00:00      34         Basics of Web Dev          3   \n7   15  2020-02-04 12:00:00      21         Basics of Web Dev          3   \n8   16  2020-02-04 12:00:00      16         Basics of Web Dev          3   \n9   17  2020-02-04 12:00:00      15         Basics of Web Dev          3   \n10  18  2020-02-04 12:00:00      31         Basics of Web Dev          3   \n11  19  2021-04-27 11:00:00      85         Intro to Game Dev          5   \n12  20  2021-04-27 11:00:00     105         Intro to Game Dev          5   \n13  20  2021-04-27 11:00:00     105         Intro to Game Dev          9   \n14  24  2021-07-03 18:00:00     105  Programming Fundamentals          5   \n15  24  2021-07-03 18:00:00     105  Programming Fundamentals          9   \n16  21  2021-04-27 11:00:00     106         Intro to Game Dev          5   \n17  22  2021-04-27 11:00:00      69         Intro to Game Dev          5   \n18  23  2021-04-27 11:00:00      66         Intro to Game Dev          5   \n19  23  2021-04-27 11:00:00      66         Intro to Game Dev          9   \n20  25  2021-07-03 18:00:00      66  Programming Fundamentals          5   \n21  25  2021-07-03 18:00:00      66  Programming Fundamentals          9   \n22  26  2021-07-03 18:00:00     122  Programming Fundamentals          9   \n23  27  2021-07-03 18:00:00     125  Programming Fundamentals          9   \n\n     lastName         title  isSuperUser            lastLogin  \n0      Wooler     They/Them            0  2020-07-16 22:34:40  \n1   Ogbechina     They/Them            0  2020-07-16 22:34:49  \n2    Costanza     They/Them            0  2020-07-16 22:34:48  \n3    Williams     They/Them            0  2020-07-16 22:34:46  \n4     Hodgins     They/Them            0  2020-07-16 22:29:31  \n5    Makhlouf  [[REDACTED]]            0  2020-07-16 22:34:33  \n6       Yusuf     They/Them            0  2020-07-16 22:34:42  \n7   Pickering     They/Them            0  2020-07-16 22:34:37  \n8    Mokkedem  [[REDACTED]]            0  2020-07-16 22:34:35  \n9        Birk  [[REDACTED]]            0  2020-07-16 22:34:35  \n10    Afriyie     They/Them            0  2020-07-16 22:34:41  \n11  Surendran     They/Them            0  2021-04-30 13:55:43  \n12      Oksal     They/Them            0  2021-07-12 23:06:58  \n13      Oksal     They/Them            0  2021-07-12 23:06:58  \n14      Oksal     They/Them            0  2021-07-12 23:06:58  \n15      Oksal     They/Them            0  2021-07-12 23:06:58  \n16   Ferreira     They/Them            0  2021-05-04 13:02:17  \n17    Amaechi     They/Them            0  2021-05-12 17:01:54  \n18       Khan     They/Them            0  2021-04-27 15:53:57  \n19       Khan     They/Them            0  2021-04-27 15:53:57  \n20       Khan     They/Them            0  2021-04-27 15:53:57  \n21       Khan     They/Them            0  2021-04-27 15:53:57  \n22     Hylton     They/Them            0  2021-06-12 18:54:15  \n23  Ferreira      They/Them            0  2021-06-23 00:50:30  ",
      "text/html": "<div>\n<style scoped>\n    .dataframe tbody tr th:only-of-type {\n        vertical-align: middle;\n    }\n\n    .dataframe tbody tr th {\n        vertical-align: top;\n    }\n\n    .dataframe thead th {\n        text-align: right;\n    }\n</style>\n<table border=\"1\" class=\"dataframe\">\n  <thead>\n    <tr style=\"text-align: right;\">\n      <th></th>\n      <th>id</th>\n      <th>grantedOn</th>\n      <th>userId</th>\n      <th>name</th>\n      <th>coursesId</th>\n      <th>lastName</th>\n      <th>title</th>\n      <th>isSuperUser</th>\n      <th>lastLogin</th>\n    </tr>\n  </thead>\n  <tbody>\n    <tr>\n      <th>0</th>\n      <td>8</td>\n      <td>2020-02-04 12:00:00</td>\n      <td>29</td>\n      <td>Basics of Web Dev</td>\n      <td>3</td>\n      <td>Wooler</td>\n      <td>They/Them</td>\n      <td>0</td>\n      <td>2020-07-16 22:34:40</td>\n    </tr>\n    <tr>\n      <th>1</th>\n      <td>9</td>\n      <td>2020-02-04 12:00:00</td>\n      <td>49</td>\n      <td>Basics of Web Dev</td>\n      <td>3</td>\n      <td>Ogbechina</td>\n      <td>They/Them</td>\n      <td>0</td>\n      <td>2020-07-16 22:34:49</td>\n    </tr>\n    <tr>\n      <th>2</th>\n      <td>10</td>\n      <td>2020-02-04 12:00:00</td>\n      <td>46</td>\n      <td>Basics of Web Dev</td>\n      <td>3</td>\n      <td>Costanza</td>\n      <td>They/Them</td>\n      <td>0</td>\n      <td>2020-07-16 22:34:48</td>\n    </tr>\n    <tr>\n      <th>3</th>\n      <td>11</td>\n      <td>2020-02-04 12:00:00</td>\n      <td>40</td>\n      <td>Basics of Web Dev</td>\n      <td>3</td>\n      <td>Williams</td>\n      <td>They/Them</td>\n      <td>0</td>\n      <td>2020-07-16 22:34:46</td>\n    </tr>\n    <tr>\n      <th>4</th>\n      <td>12</td>\n      <td>2020-02-04 12:00:00</td>\n      <td>5</td>\n      <td>Basics of Web Dev</td>\n      <td>3</td>\n      <td>Hodgins</td>\n      <td>They/Them</td>\n      <td>0</td>\n      <td>2020-07-16 22:29:31</td>\n    </tr>\n    <tr>\n      <th>5</th>\n      <td>13</td>\n      <td>2020-02-04 12:00:00</td>\n      <td>12</td>\n      <td>Basics of Web Dev</td>\n      <td>3</td>\n      <td>Makhlouf</td>\n      <td>[[REDACTED]]</td>\n      <td>0</td>\n      <td>2020-07-16 22:34:33</td>\n    </tr>\n    <tr>\n      <th>6</th>\n      <td>14</td>\n      <td>2020-02-04 12:00:00</td>\n      <td>34</td>\n      <td>Basics of Web Dev</td>\n      <td>3</td>\n      <td>Yusuf</td>\n      <td>They/Them</td>\n      <td>0</td>\n      <td>2020-07-16 22:34:42</td>\n    </tr>\n    <tr>\n      <th>7</th>\n      <td>15</td>\n      <td>2020-02-04 12:00:00</td>\n      <td>21</td>\n      <td>Basics of Web Dev</td>\n      <td>3</td>\n      <td>Pickering</td>\n      <td>They/Them</td>\n      <td>0</td>\n      <td>2020-07-16 22:34:37</td>\n    </tr>\n    <tr>\n      <th>8</th>\n      <td>16</td>\n      <td>2020-02-04 12:00:00</td>\n      <td>16</td>\n      <td>Basics of Web Dev</td>\n      <td>3</td>\n      <td>Mokkedem</td>\n      <td>[[REDACTED]]</td>\n      <td>0</td>\n      <td>2020-07-16 22:34:35</td>\n    </tr>\n    <tr>\n      <th>9</th>\n      <td>17</td>\n      <td>2020-02-04 12:00:00</td>\n      <td>15</td>\n      <td>Basics of Web Dev</td>\n      <td>3</td>\n      <td>Birk</td>\n      <td>[[REDACTED]]</td>\n      <td>0</td>\n      <td>2020-07-16 22:34:35</td>\n    </tr>\n    <tr>\n      <th>10</th>\n      <td>18</td>\n      <td>2020-02-04 12:00:00</td>\n      <td>31</td>\n      <td>Basics of Web Dev</td>\n      <td>3</td>\n      <td>Afriyie</td>\n      <td>They/Them</td>\n      <td>0</td>\n      <td>2020-07-16 22:34:41</td>\n    </tr>\n    <tr>\n      <th>11</th>\n      <td>19</td>\n      <td>2021-04-27 11:00:00</td>\n      <td>85</td>\n      <td>Intro to Game Dev</td>\n      <td>5</td>\n      <td>Surendran</td>\n      <td>They/Them</td>\n      <td>0</td>\n      <td>2021-04-30 13:55:43</td>\n    </tr>\n    <tr>\n      <th>12</th>\n      <td>20</td>\n      <td>2021-04-27 11:00:00</td>\n      <td>105</td>\n      <td>Intro to Game Dev</td>\n      <td>5</td>\n      <td>Oksal</td>\n      <td>They/Them</td>\n      <td>0</td>\n      <td>2021-07-12 23:06:58</td>\n    </tr>\n    <tr>\n      <th>13</th>\n      <td>20</td>\n      <td>2021-04-27 11:00:00</td>\n      <td>105</td>\n      <td>Intro to Game Dev</td>\n      <td>9</td>\n      <td>Oksal</td>\n      <td>They/Them</td>\n      <td>0</td>\n      <td>2021-07-12 23:06:58</td>\n    </tr>\n    <tr>\n      <th>14</th>\n      <td>24</td>\n      <td>2021-07-03 18:00:00</td>\n      <td>105</td>\n      <td>Programming Fundamentals</td>\n      <td>5</td>\n      <td>Oksal</td>\n      <td>They/Them</td>\n      <td>0</td>\n      <td>2021-07-12 23:06:58</td>\n    </tr>\n    <tr>\n      <th>15</th>\n      <td>24</td>\n      <td>2021-07-03 18:00:00</td>\n      <td>105</td>\n      <td>Programming Fundamentals</td>\n      <td>9</td>\n      <td>Oksal</td>\n      <td>They/Them</td>\n      <td>0</td>\n      <td>2021-07-12 23:06:58</td>\n    </tr>\n    <tr>\n      <th>16</th>\n      <td>21</td>\n      <td>2021-04-27 11:00:00</td>\n      <td>106</td>\n      <td>Intro to Game Dev</td>\n      <td>5</td>\n      <td>Ferreira</td>\n      <td>They/Them</td>\n      <td>0</td>\n      <td>2021-05-04 13:02:17</td>\n    </tr>\n    <tr>\n      <th>17</th>\n      <td>22</td>\n      <td>2021-04-27 11:00:00</td>\n      <td>69</td>\n      <td>Intro to Game Dev</td>\n      <td>5</td>\n      <td>Amaechi</td>\n      <td>They/Them</td>\n      <td>0</td>\n      <td>2021-05-12 17:01:54</td>\n    </tr>\n    <tr>\n      <th>18</th>\n      <td>23</td>\n      <td>2021-04-27 11:00:00</td>\n      <td>66</td>\n      <td>Intro to Game Dev</td>\n      <td>5</td>\n      <td>Khan</td>\n      <td>They/Them</td>\n      <td>0</td>\n      <td>2021-04-27 15:53:57</td>\n    </tr>\n    <tr>\n      <th>19</th>\n      <td>23</td>\n      <td>2021-04-27 11:00:00</td>\n      <td>66</td>\n      <td>Intro to Game Dev</td>\n      <td>9</td>\n      <td>Khan</td>\n      <td>They/Them</td>\n      <td>0</td>\n      <td>2021-04-27 15:53:57</td>\n    </tr>\n    <tr>\n      <th>20</th>\n      <td>25</td>\n      <td>2021-07-03 18:00:00</td>\n      <td>66</td>\n      <td>Programming Fundamentals</td>\n      <td>5</td>\n      <td>Khan</td>\n      <td>They/Them</td>\n      <td>0</td>\n      <td>2021-04-27 15:53:57</td>\n    </tr>\n    <tr>\n      <th>21</th>\n      <td>25</td>\n      <td>2021-07-03 18:00:00</td>\n      <td>66</td>\n      <td>Programming Fundamentals</td>\n      <td>9</td>\n      <td>Khan</td>\n      <td>They/Them</td>\n      <td>0</td>\n      <td>2021-04-27 15:53:57</td>\n    </tr>\n    <tr>\n      <th>22</th>\n      <td>26</td>\n      <td>2021-07-03 18:00:00</td>\n      <td>122</td>\n      <td>Programming Fundamentals</td>\n      <td>9</td>\n      <td>Hylton</td>\n      <td>They/Them</td>\n      <td>0</td>\n      <td>2021-06-12 18:54:15</td>\n    </tr>\n    <tr>\n      <th>23</th>\n      <td>27</td>\n      <td>2021-07-03 18:00:00</td>\n      <td>125</td>\n      <td>Programming Fundamentals</td>\n      <td>9</td>\n      <td>Ferreira</td>\n      <td>They/Them</td>\n      <td>0</td>\n      <td>2021-06-23 00:50:30</td>\n    </tr>\n  </tbody>\n</table>\n</div>"
     },
     "metadata": {}
    }
   ],
   "execution_count": 60
  },
  {
   "cell_type": "code",
   "source": "finished.lastName.unique()",
   "metadata": {
    "cell_id": "4ca70ef9885e469d850dcf47ded151da",
    "tags": [],
    "deepnote_to_be_reexecuted": false,
    "source_hash": "df1797dd",
    "execution_start": 1652909104604,
    "execution_millis": 559,
    "owner_user_id": "78ada1d8-81d9-49c3-9dce-bb8720f28287",
    "deepnote_cell_type": "code",
    "deepnote_cell_height": 175.78125,
    "deepnote_output_heights": [
     78.796875
    ]
   },
   "outputs": [
    {
     "output_type": "execute_result",
     "execution_count": 62,
     "data": {
      "text/plain": "array(['Wooler', 'Ogbechina', 'Costanza', 'Williams', 'Hodgins',\n       'Makhlouf', 'Yusuf', 'Pickering', 'Mokkedem', 'Birk', 'Afriyie',\n       'Surendran', 'Oksal', 'Ferreira', 'Amaechi', 'Khan', 'Hylton',\n       'Ferreira '], dtype=object)"
     },
     "metadata": {}
    }
   ],
   "execution_count": 62
  },
  {
   "cell_type": "markdown",
   "source": "<a style='text-decoration:none;line-height:16px;display:flex;color:#5B5B62;padding:10px;justify-content:end;' href='https://deepnote.com?utm_source=created-in-deepnote-cell&projectId=8d15e87d-b710-4fff-80ef-ff0e4cb338ff' target=\"_blank\">\n<img alt='Created in deepnote.com' style='display:inline;max-height:16px;margin:0px;margin-right:7.5px;' src='data:image/svg+xml;base64,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' > </img>\nCreated in <span style='font-weight:600;margin-left:4px;'>Deepnote</span></a>",
   "metadata": {
    "tags": [],
    "created_in_deepnote_cell": true,
    "deepnote_cell_type": "markdown"
   }
  }
 ],
 "nbformat": 4,
 "nbformat_minor": 2,
 "metadata": {
  "orig_nbformat": 2,
  "deepnote": {},
  "deepnote_notebook_id": "57808016-6f53-43ea-beb0-100cfe12df57",
  "deepnote_execution_queue": []
 }
}