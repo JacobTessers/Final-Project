{
 "cells": [
  {
   "cell_type": "code",
   "metadata": {
    "tags": [],
    "cell_id": "824292aa-63e8-4cec-94a7-54b9b14ee962",
    "deepnote_to_be_reexecuted": false,
    "source_hash": "9b82ee11",
    "execution_start": 1652664892753,
    "execution_millis": 0,
    "deepnote_cell_type": "code",
    "deepnote_cell_height": 81
   },
   "source": "import pandas as pd",
   "execution_count": 1,
   "outputs": []
  },
  {
   "cell_type": "code",
   "metadata": {
    "cell_id": "098b34d3e6cc42aeaec07f5f1466b4e3",
    "tags": [],
    "deepnote_to_be_reexecuted": false,
    "source_hash": "c2602aa8",
    "execution_start": 1652664892754,
    "execution_millis": 146581,
    "deepnote_cell_type": "code",
    "deepnote_cell_height": 81
   },
   "source": "import numpy as np",
   "execution_count": 2,
   "outputs": []
  },
  {
   "cell_type": "code",
   "metadata": {
    "cell_id": "3c05402a50374a6085f9b01e9c43e200",
    "tags": [],
    "deepnote_to_be_reexecuted": false,
    "source_hash": "624bcb00",
    "execution_start": 1652664892797,
    "execution_millis": 0,
    "deepnote_cell_type": "code",
    "deepnote_cell_height": 81
   },
   "source": "attendance = pd.read_csv(\"attendance_entries.csv\")",
   "execution_count": 3,
   "outputs": []
  },
  {
   "cell_type": "code",
   "metadata": {
    "cell_id": "cf0cc6dc6c6e44929676de889cf91d82",
    "tags": [],
    "deepnote_to_be_reexecuted": false,
    "source_hash": "9c66a3c9",
    "execution_start": 1652664892797,
    "execution_millis": 1,
    "deepnote_cell_type": "code",
    "deepnote_cell_height": 81
   },
   "source": "activity = pd.read_csv(\"activity_log.csv\")",
   "execution_count": 4,
   "outputs": []
  },
  {
   "cell_type": "code",
   "metadata": {
    "cell_id": "57ad61d324654622b08205ecd2d8632a",
    "tags": [],
    "deepnote_to_be_reexecuted": false,
    "source_hash": "bf7a9188",
    "execution_start": 1652664892798,
    "execution_millis": 41,
    "deepnote_table_state": {
     "pageSize": 10,
     "pageIndex": 2,
     "filters": [],
     "sortBy": []
    },
    "deepnote_table_loading": false,
    "deepnote_cell_type": "code",
    "deepnote_cell_height": 600
   },
   "source": "attendance",
   "execution_count": 5,
   "outputs": [
    {
     "output_type": "execute_result",
     "execution_count": 5,
     "data": {
      "application/vnd.deepnote.dataframe.v3+json": {
       "column_count": 6,
       "row_count": 133,
       "columns": [
        {
         "name": "id",
         "dtype": "int64",
         "stats": {
          "unique_count": 133,
          "nan_count": 0,
          "min": "27",
          "max": "159",
          "histogram": [
           {
            "bin_start": 27,
            "bin_end": 40.2,
            "count": 14
           },
           {
            "bin_start": 40.2,
            "bin_end": 53.4,
            "count": 13
           },
           {
            "bin_start": 53.4,
            "bin_end": 66.6,
            "count": 13
           },
           {
            "bin_start": 66.6,
            "bin_end": 79.8,
            "count": 13
           },
           {
            "bin_start": 79.8,
            "bin_end": 93,
            "count": 13
           },
           {
            "bin_start": 93,
            "bin_end": 106.19999999999999,
            "count": 14
           },
           {
            "bin_start": 106.19999999999999,
            "bin_end": 119.39999999999999,
            "count": 13
           },
           {
            "bin_start": 119.39999999999999,
            "bin_end": 132.6,
            "count": 13
           },
           {
            "bin_start": 132.6,
            "bin_end": 145.8,
            "count": 13
           },
           {
            "bin_start": 145.8,
            "bin_end": 159,
            "count": 14
           }
          ]
         }
        },
        {
         "name": "created_at",
         "dtype": "object",
         "stats": {
          "unique_count": 133,
          "nan_count": 0,
          "categories": [
           {
            "name": "2021-02-26 19:13:40.836346",
            "count": 1
           },
           {
            "name": "2021-02-26 19:13:56.579424",
            "count": 1
           },
           {
            "name": "131 others",
            "count": 131
           }
          ]
         }
        },
        {
         "name": "updated_at",
         "dtype": "object",
         "stats": {
          "unique_count": 133,
          "nan_count": 0,
          "categories": [
           {
            "name": "2021-03-08 22:18:06.000000",
            "count": 1
           },
           {
            "name": "2021-03-08 22:18:02.000000",
            "count": 1
           },
           {
            "name": "131 others",
            "count": 131
           }
          ]
         }
        },
        {
         "name": "status",
         "dtype": "object",
         "stats": {
          "unique_count": 3,
          "nan_count": 0,
          "categories": [
           {
            "name": "A",
            "count": 71
           },
           {
            "name": "P",
            "count": 50
           },
           {
            "name": "I",
            "count": 12
           }
          ]
         }
        },
        {
         "name": "attendanceSessionId",
         "dtype": "int64",
         "stats": {
          "unique_count": 10,
          "nan_count": 0,
          "min": "1",
          "max": "10",
          "histogram": [
           {
            "bin_start": 1,
            "bin_end": 1.9,
            "count": 13
           },
           {
            "bin_start": 1.9,
            "bin_end": 2.8,
            "count": 13
           },
           {
            "bin_start": 2.8,
            "bin_end": 3.7,
            "count": 14
           },
           {
            "bin_start": 3.7,
            "bin_end": 4.6,
            "count": 14
           },
           {
            "bin_start": 4.6,
            "bin_end": 5.5,
            "count": 14
           },
           {
            "bin_start": 5.5,
            "bin_end": 6.4,
            "count": 14
           },
           {
            "bin_start": 6.4,
            "bin_end": 7.3,
            "count": 14
           },
           {
            "bin_start": 7.3,
            "bin_end": 8.2,
            "count": 14
           },
           {
            "bin_start": 8.2,
            "bin_end": 9.1,
            "count": 14
           },
           {
            "bin_start": 9.1,
            "bin_end": 10,
            "count": 9
           }
          ]
         }
        },
        {
         "name": "userId",
         "dtype": "int64",
         "stats": {
          "unique_count": 21,
          "nan_count": 0,
          "min": "66",
          "max": "128",
          "histogram": [
           {
            "bin_start": 66,
            "bin_end": 72.2,
            "count": 28
           },
           {
            "bin_start": 72.2,
            "bin_end": 78.4,
            "count": 0
           },
           {
            "bin_start": 78.4,
            "bin_end": 84.6,
            "count": 18
           },
           {
            "bin_start": 84.6,
            "bin_end": 90.8,
            "count": 36
           },
           {
            "bin_start": 90.8,
            "bin_end": 97,
            "count": 18
           },
           {
            "bin_start": 97,
            "bin_end": 103.2,
            "count": 0
           },
           {
            "bin_start": 103.2,
            "bin_end": 109.4,
            "count": 19
           },
           {
            "bin_start": 109.4,
            "bin_end": 115.6,
            "count": 7
           },
           {
            "bin_start": 115.6,
            "bin_end": 121.80000000000001,
            "count": 1
           },
           {
            "bin_start": 121.80000000000001,
            "bin_end": 128,
            "count": 6
           }
          ]
         }
        },
        {
         "name": "_deepnote_index_column",
         "dtype": "int64"
        }
       ],
       "rows": [
        {
         "id": 47,
         "created_at": "2021-03-09 20:17:46.839661",
         "updated_at": "2021-03-09 20:17:46.839661",
         "status": "P",
         "attendanceSessionId": 2,
         "userId": 69,
         "_deepnote_index_column": 20
        },
        {
         "id": 48,
         "created_at": "2021-03-09 20:17:59.958033",
         "updated_at": "2021-03-09 21:36:55.000000",
         "status": "A",
         "attendanceSessionId": 2,
         "userId": 86,
         "_deepnote_index_column": 21
        },
        {
         "id": 49,
         "created_at": "2021-03-09 21:36:52.574842",
         "updated_at": "2021-03-09 21:36:52.574842",
         "status": "A",
         "attendanceSessionId": 2,
         "userId": 92,
         "_deepnote_index_column": 22
        },
        {
         "id": 50,
         "created_at": "2021-03-09 21:36:54.414997",
         "updated_at": "2021-03-09 21:36:54.414997",
         "status": "A",
         "attendanceSessionId": 2,
         "userId": 87,
         "_deepnote_index_column": 23
        },
        {
         "id": 51,
         "created_at": "2021-03-09 21:36:58.133876",
         "updated_at": "2021-03-09 21:36:58.133876",
         "status": "A",
         "attendanceSessionId": 2,
         "userId": 82,
         "_deepnote_index_column": 24
        },
        {
         "id": 52,
         "created_at": "2021-03-09 21:36:58.789331",
         "updated_at": "2021-03-09 21:36:58.789331",
         "status": "A",
         "attendanceSessionId": 2,
         "userId": 81,
         "_deepnote_index_column": 25
        },
        {
         "id": 53,
         "created_at": "2021-03-16 18:48:23.599243",
         "updated_at": "2021-03-16 20:11:52.000000",
         "status": "I",
         "attendanceSessionId": 3,
         "userId": 88,
         "_deepnote_index_column": 26
        },
        {
         "id": 54,
         "created_at": "2021-03-16 18:48:45.716792",
         "updated_at": "2021-03-16 18:48:45.716792",
         "status": "I",
         "attendanceSessionId": 4,
         "userId": 88,
         "_deepnote_index_column": 27
        },
        {
         "id": 55,
         "created_at": "2021-03-16 18:48:51.827204",
         "updated_at": "2021-03-16 18:48:51.827204",
         "status": "I",
         "attendanceSessionId": 5,
         "userId": 88,
         "_deepnote_index_column": 28
        },
        {
         "id": 56,
         "created_at": "2021-03-16 18:48:58.862457",
         "updated_at": "2021-03-16 18:48:58.862457",
         "status": "I",
         "attendanceSessionId": 6,
         "userId": 88,
         "_deepnote_index_column": 29
        }
       ]
      },
      "text/plain": "      id                  created_at                  updated_at status  \\\n0     27  2021-02-26 19:13:40.836346  2021-03-08 22:18:06.000000      A   \n1     28  2021-02-26 19:13:56.579424  2021-03-08 22:18:02.000000      P   \n2     29  2021-02-26 19:13:58.029258  2021-03-08 22:18:37.000000      P   \n3     30  2021-03-02 20:47:52.425264  2021-03-02 20:47:52.425264      A   \n4     31  2021-03-02 20:47:55.547580  2021-03-02 20:47:55.547580      I   \n..   ...                         ...                         ...    ...   \n128  155  2021-07-03 16:12:20.206081  2021-07-03 16:12:20.206081      A   \n129  156  2021-07-03 16:12:23.083843  2021-07-03 16:12:23.083843      P   \n130  157  2021-07-03 16:12:30.230094  2021-07-03 16:12:30.230094      A   \n131  158  2021-07-03 16:12:31.466943  2021-07-03 16:12:31.466943      A   \n132  159  2021-07-03 16:15:01.016559  2021-07-03 16:15:01.016559      P   \n\n     attendanceSessionId  userId  \n0                      1      68  \n1                      1      66  \n2                      1      69  \n3                      1      81  \n4                      1      82  \n..                   ...     ...  \n128                   10     124  \n129                   10     125  \n130                   10     127  \n131                   10     128  \n132                   10      66  \n\n[133 rows x 6 columns]",
      "text/html": "<div>\n<style scoped>\n    .dataframe tbody tr th:only-of-type {\n        vertical-align: middle;\n    }\n\n    .dataframe tbody tr th {\n        vertical-align: top;\n    }\n\n    .dataframe thead th {\n        text-align: right;\n    }\n</style>\n<table border=\"1\" class=\"dataframe\">\n  <thead>\n    <tr style=\"text-align: right;\">\n      <th></th>\n      <th>id</th>\n      <th>created_at</th>\n      <th>updated_at</th>\n      <th>status</th>\n      <th>attendanceSessionId</th>\n      <th>userId</th>\n    </tr>\n  </thead>\n  <tbody>\n    <tr>\n      <th>0</th>\n      <td>27</td>\n      <td>2021-02-26 19:13:40.836346</td>\n      <td>2021-03-08 22:18:06.000000</td>\n      <td>A</td>\n      <td>1</td>\n      <td>68</td>\n    </tr>\n    <tr>\n      <th>1</th>\n      <td>28</td>\n      <td>2021-02-26 19:13:56.579424</td>\n      <td>2021-03-08 22:18:02.000000</td>\n      <td>P</td>\n      <td>1</td>\n      <td>66</td>\n    </tr>\n    <tr>\n      <th>2</th>\n      <td>29</td>\n      <td>2021-02-26 19:13:58.029258</td>\n      <td>2021-03-08 22:18:37.000000</td>\n      <td>P</td>\n      <td>1</td>\n      <td>69</td>\n    </tr>\n    <tr>\n      <th>3</th>\n      <td>30</td>\n      <td>2021-03-02 20:47:52.425264</td>\n      <td>2021-03-02 20:47:52.425264</td>\n      <td>A</td>\n      <td>1</td>\n      <td>81</td>\n    </tr>\n    <tr>\n      <th>4</th>\n      <td>31</td>\n      <td>2021-03-02 20:47:55.547580</td>\n      <td>2021-03-02 20:47:55.547580</td>\n      <td>I</td>\n      <td>1</td>\n      <td>82</td>\n    </tr>\n    <tr>\n      <th>...</th>\n      <td>...</td>\n      <td>...</td>\n      <td>...</td>\n      <td>...</td>\n      <td>...</td>\n      <td>...</td>\n    </tr>\n    <tr>\n      <th>128</th>\n      <td>155</td>\n      <td>2021-07-03 16:12:20.206081</td>\n      <td>2021-07-03 16:12:20.206081</td>\n      <td>A</td>\n      <td>10</td>\n      <td>124</td>\n    </tr>\n    <tr>\n      <th>129</th>\n      <td>156</td>\n      <td>2021-07-03 16:12:23.083843</td>\n      <td>2021-07-03 16:12:23.083843</td>\n      <td>P</td>\n      <td>10</td>\n      <td>125</td>\n    </tr>\n    <tr>\n      <th>130</th>\n      <td>157</td>\n      <td>2021-07-03 16:12:30.230094</td>\n      <td>2021-07-03 16:12:30.230094</td>\n      <td>A</td>\n      <td>10</td>\n      <td>127</td>\n    </tr>\n    <tr>\n      <th>131</th>\n      <td>158</td>\n      <td>2021-07-03 16:12:31.466943</td>\n      <td>2021-07-03 16:12:31.466943</td>\n      <td>A</td>\n      <td>10</td>\n      <td>128</td>\n    </tr>\n    <tr>\n      <th>132</th>\n      <td>159</td>\n      <td>2021-07-03 16:15:01.016559</td>\n      <td>2021-07-03 16:15:01.016559</td>\n      <td>P</td>\n      <td>10</td>\n      <td>66</td>\n    </tr>\n  </tbody>\n</table>\n<p>133 rows × 6 columns</p>\n</div>"
     },
     "metadata": {}
    }
   ]
  },
  {
   "cell_type": "code",
   "metadata": {
    "cell_id": "580f75adbf1e4bd491ca721f99e0e082",
    "tags": [],
    "deepnote_to_be_reexecuted": false,
    "source_hash": "4f127196",
    "execution_start": 1652664892891,
    "execution_millis": 0,
    "deepnote_cell_type": "code",
    "deepnote_cell_height": 81
   },
   "source": "attendance = attendance.drop(columns=['created_at', 'updated_at'])",
   "execution_count": 6,
   "outputs": []
  },
  {
   "cell_type": "code",
   "metadata": {
    "cell_id": "402b9f1049c74d3e997ee80752800e6d",
    "tags": [],
    "deepnote_to_be_reexecuted": false,
    "source_hash": "4e4bc1d2",
    "execution_start": 1652664892891,
    "execution_millis": 3,
    "deepnote_cell_type": "code",
    "deepnote_cell_height": 312
   },
   "source": "attendance.info()",
   "execution_count": 7,
   "outputs": [
    {
     "name": "stdout",
     "text": "<class 'pandas.core.frame.DataFrame'>\nRangeIndex: 133 entries, 0 to 132\nData columns (total 4 columns):\n #   Column               Non-Null Count  Dtype \n---  ------               --------------  ----- \n 0   id                   133 non-null    int64 \n 1   status               133 non-null    object\n 2   attendanceSessionId  133 non-null    int64 \n 3   userId               133 non-null    int64 \ndtypes: int64(3), object(1)\nmemory usage: 4.3+ KB\n",
     "output_type": "stream"
    }
   ]
  },
  {
   "cell_type": "code",
   "metadata": {
    "cell_id": "7f0f1c15f1774ad788bfc66a4d96de1b",
    "tags": [],
    "deepnote_to_be_reexecuted": false,
    "source_hash": "6eda08c1",
    "execution_start": 1652664892892,
    "execution_millis": 35,
    "deepnote_table_state": {
     "pageSize": 10,
     "pageIndex": 1,
     "filters": [],
     "sortBy": []
    },
    "deepnote_table_loading": false,
    "deepnote_cell_type": "code",
    "deepnote_cell_height": 600
   },
   "source": "activity",
   "execution_count": 8,
   "outputs": [
    {
     "output_type": "execute_result",
     "execution_count": 8,
     "data": {
      "application/vnd.deepnote.dataframe.v3+json": {
       "column_count": 7,
       "row_count": 481,
       "columns": [
        {
         "name": "id",
         "dtype": "int64",
         "stats": {
          "unique_count": 481,
          "nan_count": 0,
          "min": "1028",
          "max": "1525",
          "histogram": [
           {
            "bin_start": 1028,
            "bin_end": 1077.7,
            "count": 50
           },
           {
            "bin_start": 1077.7,
            "bin_end": 1127.4,
            "count": 50
           },
           {
            "bin_start": 1127.4,
            "bin_end": 1177.1,
            "count": 50
           },
           {
            "bin_start": 1177.1,
            "bin_end": 1226.8,
            "count": 49
           },
           {
            "bin_start": 1226.8,
            "bin_end": 1276.5,
            "count": 50
           },
           {
            "bin_start": 1276.5,
            "bin_end": 1326.2,
            "count": 41
           },
           {
            "bin_start": 1326.2,
            "bin_end": 1375.9,
            "count": 49
           },
           {
            "bin_start": 1375.9,
            "bin_end": 1425.6,
            "count": 50
           },
           {
            "bin_start": 1425.6,
            "bin_end": 1475.3,
            "count": 49
           },
           {
            "bin_start": 1475.3,
            "bin_end": 1525,
            "count": 43
           }
          ]
         }
        },
        {
         "name": "created_at",
         "dtype": "object",
         "stats": {
          "unique_count": 481,
          "nan_count": 0,
          "categories": [
           {
            "name": "2021-03-25 11:25:05.219531",
            "count": 1
           },
           {
            "name": "2021-03-25 11:25:36.764022",
            "count": 1
           },
           {
            "name": "479 others",
            "count": 479
           }
          ]
         }
        },
        {
         "name": "updated_at",
         "dtype": "object",
         "stats": {
          "unique_count": 481,
          "nan_count": 0,
          "categories": [
           {
            "name": "2021-03-25 11:25:05.219531",
            "count": 1
           },
           {
            "name": "2021-03-25 11:25:36.764022",
            "count": 1
           },
           {
            "name": "479 others",
            "count": 479
           }
          ]
         }
        },
        {
         "name": "activity",
         "dtype": "object",
         "stats": {
          "unique_count": 36,
          "nan_count": 0,
          "categories": [
           {
            "name": "Logged in",
            "count": 324
           },
           {
            "name": "Magic link sent",
            "count": 29
           },
           {
            "name": "34 others",
            "count": 128
           }
          ]
         }
        },
        {
         "name": "reference",
         "dtype": "object",
         "stats": {
          "unique_count": 481,
          "nan_count": 0,
          "categories": [
           {
            "name": "fb90e519c1d230f016d3a5d95f005f77",
            "count": 1
           },
           {
            "name": "6303bac7a4c38503cbbfab8aaaf12840",
            "count": 1
           },
           {
            "name": "479 others",
            "count": 479
           }
          ]
         }
        },
        {
         "name": "expiry",
         "dtype": "object",
         "stats": {
          "unique_count": 475,
          "nan_count": 0,
          "categories": [
           {
            "name": "2022-03-28 23:47:19",
            "count": 2
           },
           {
            "name": "2022-04-16 15:36:56",
            "count": 2
           },
           {
            "name": "473 others",
            "count": 477
           }
          ]
         }
        },
        {
         "name": "userId",
         "dtype": "int64",
         "stats": {
          "unique_count": 26,
          "nan_count": 0,
          "min": "1",
          "max": "131",
          "histogram": [
           {
            "bin_start": 1,
            "bin_end": 14,
            "count": 285
           },
           {
            "bin_start": 14,
            "bin_end": 27,
            "count": 0
           },
           {
            "bin_start": 27,
            "bin_end": 40,
            "count": 0
           },
           {
            "bin_start": 40,
            "bin_end": 53,
            "count": 0
           },
           {
            "bin_start": 53,
            "bin_end": 66,
            "count": 16
           },
           {
            "bin_start": 66,
            "bin_end": 79,
            "count": 44
           },
           {
            "bin_start": 79,
            "bin_end": 92,
            "count": 16
           },
           {
            "bin_start": 92,
            "bin_end": 105,
            "count": 0
           },
           {
            "bin_start": 105,
            "bin_end": 118,
            "count": 64
           },
           {
            "bin_start": 118,
            "bin_end": 131,
            "count": 56
           }
          ]
         }
        },
        {
         "name": "_deepnote_index_column",
         "dtype": "int64"
        }
       ],
       "rows": [
        {
         "id": 1038,
         "created_at": "2021-03-25 18:45:34.378924",
         "updated_at": "2021-03-25 18:45:34.378924",
         "activity": "Logged in",
         "reference": "2b81c86dc2ccfb89eb61e9df0f1a5eb9",
         "expiry": "2022-03-26 00:45:34",
         "userId": 2,
         "_deepnote_index_column": 10
        },
        {
         "id": 1039,
         "created_at": "2021-03-25 18:50:06.107282",
         "updated_at": "2021-03-25 18:50:06.107282",
         "activity": "Logged in",
         "reference": "4ee735eef085e511ec14e0d94087fb4c",
         "expiry": "2022-03-26 00:50:06",
         "userId": 2,
         "_deepnote_index_column": 11
        },
        {
         "id": 1040,
         "created_at": "2021-03-25 18:52:08.578560",
         "updated_at": "2021-03-25 18:52:08.578560",
         "activity": "Accessed Session 3 Recap from Intro to Game Dev with Unity repo",
         "reference": "031034aee4b05bddce88cf0469ffc804",
         "expiry": "2022-03-26 00:52:09",
         "userId": 2,
         "_deepnote_index_column": 12
        },
        {
         "id": 1041,
         "created_at": "2021-03-25 19:20:14.073949",
         "updated_at": "2021-03-25 19:20:14.073949",
         "activity": "Logged in",
         "reference": "68e0750080607fbf74d9a6f09a8a35e8",
         "expiry": "2022-03-26 01:20:14",
         "userId": 2,
         "_deepnote_index_column": 13
        },
        {
         "id": 1042,
         "created_at": "2021-03-25 19:44:09.943624",
         "updated_at": "2021-03-25 19:44:09.943624",
         "activity": "Accessed Session 3 Recap from Intro to Game Dev with Unity repo [access:5b3cf9ac46f::rrtGJAd2ae1e]",
         "reference": "d95bdd8e577686dad41fc7a681412d57",
         "expiry": "2022-03-26 01:44:10",
         "userId": 2,
         "_deepnote_index_column": 14
        },
        {
         "id": 1043,
         "created_at": "2021-03-25 19:50:22.793375",
         "updated_at": "2021-03-25 19:50:22.793375",
         "activity": "Logged in",
         "reference": "ffa6d061688521d000f2988a317cb3a8",
         "expiry": "2022-03-26 01:50:23",
         "userId": 2,
         "_deepnote_index_column": 15
        },
        {
         "id": 1044,
         "created_at": "2021-03-25 20:22:52.632461",
         "updated_at": "2021-03-25 20:22:52.632461",
         "activity": "Logged in",
         "reference": "633d9c426a9bef7d468e4d508973919e",
         "expiry": "2022-03-26 02:22:53",
         "userId": 2,
         "_deepnote_index_column": 16
        },
        {
         "id": 1045,
         "created_at": "2021-03-25 20:55:40.332731",
         "updated_at": "2021-03-25 20:55:40.332731",
         "activity": "Logged in",
         "reference": "67ae11d6668d272cd83347a9e33eca1c",
         "expiry": "2022-03-26 02:55:40",
         "userId": 2,
         "_deepnote_index_column": 17
        },
        {
         "id": 1046,
         "created_at": "2021-03-26 12:12:55.171977",
         "updated_at": "2021-03-26 12:12:55.171977",
         "activity": "Logged in",
         "reference": "5d40d7cee20c6efd8e9bfd313374a042",
         "expiry": "2022-03-26 18:12:55",
         "userId": 2,
         "_deepnote_index_column": 18
        },
        {
         "id": 1047,
         "created_at": "2021-03-28 16:01:51.515186",
         "updated_at": "2021-03-28 16:01:51.515186",
         "activity": "Logged in",
         "reference": "9bc4fe58e6da787b4d07ad3867ba0b84",
         "expiry": "2022-03-28 22:01:52",
         "userId": 3,
         "_deepnote_index_column": 19
        }
       ]
      },
      "text/plain": "       id                  created_at                  updated_at  \\\n0    1028  2021-03-25 11:25:05.219531  2021-03-25 11:25:05.219531   \n1    1029  2021-03-25 11:25:36.764022  2021-03-25 11:25:36.764022   \n2    1030  2021-03-25 11:28:19.047747  2021-03-25 11:28:19.047747   \n3    1031  2021-03-25 15:58:27.461204  2021-03-25 15:58:27.461204   \n4    1032  2021-03-25 16:00:34.020002  2021-03-25 16:00:34.020002   \n..    ...                         ...                         ...   \n476  1521  2022-02-24 14:45:47.726320  2022-02-24 14:45:47.726320   \n477  1522  2022-03-07 02:13:50.459150  2022-03-07 02:13:50.459150   \n478  1523  2022-03-09 20:13:29.515235  2022-03-09 20:13:29.515235   \n479  1524  2022-04-20 18:28:56.639697  2022-04-20 18:28:56.639697   \n480  1525  2022-04-21 10:17:50.727601  2022-04-21 10:17:50.727601   \n\n                                              activity  \\\n0                                            Logged in   \n1    Accessed Session 4 - Starter Files from Intro ...   \n2    Accessed Session 3 Recap from Intro to Game De...   \n3                                            Logged in   \n4        Accessed W3Schools from Intro to Web Dev repo   \n..                                                 ...   \n476                                          Logged in   \n477                                          Logged in   \n478                                          Logged in   \n479                                          Logged in   \n480                                          Logged in   \n\n                            reference               expiry  userId  \n0    fb90e519c1d230f016d3a5d95f005f77  2022-03-25 17:25:05     106  \n1    6303bac7a4c38503cbbfab8aaaf12840  2022-03-25 17:25:37     106  \n2    fc6ffe47d3cc201a1bd83b35ed8cb419  2022-03-25 17:28:19     106  \n3    ac290f99744baf85c1eb7d8432dfd354  2022-03-25 21:58:27       3  \n4    4dfb37feb52f7512e515e7845d087fe0  2022-03-25 22:00:34       3  \n..                                ...                  ...     ...  \n476  8cb66d3edf353482b40622db6e256d86  2023-02-24 20:45:48       2  \n477  372c4b7d59e0fda30674edb46358ed87  2023-03-07 08:13:50       2  \n478  a8103398465ef7394fc5bc9f0188de59  2023-03-10 02:13:30       2  \n479  0b62114655c53ffad97b616b13891658  2023-04-21 00:28:57       2  \n480  8e66a2358885fa4a4d11dec3ff4e8d06  2023-04-21 16:17:51       2  \n\n[481 rows x 7 columns]",
      "text/html": "<div>\n<style scoped>\n    .dataframe tbody tr th:only-of-type {\n        vertical-align: middle;\n    }\n\n    .dataframe tbody tr th {\n        vertical-align: top;\n    }\n\n    .dataframe thead th {\n        text-align: right;\n    }\n</style>\n<table border=\"1\" class=\"dataframe\">\n  <thead>\n    <tr style=\"text-align: right;\">\n      <th></th>\n      <th>id</th>\n      <th>created_at</th>\n      <th>updated_at</th>\n      <th>activity</th>\n      <th>reference</th>\n      <th>expiry</th>\n      <th>userId</th>\n    </tr>\n  </thead>\n  <tbody>\n    <tr>\n      <th>0</th>\n      <td>1028</td>\n      <td>2021-03-25 11:25:05.219531</td>\n      <td>2021-03-25 11:25:05.219531</td>\n      <td>Logged in</td>\n      <td>fb90e519c1d230f016d3a5d95f005f77</td>\n      <td>2022-03-25 17:25:05</td>\n      <td>106</td>\n    </tr>\n    <tr>\n      <th>1</th>\n      <td>1029</td>\n      <td>2021-03-25 11:25:36.764022</td>\n      <td>2021-03-25 11:25:36.764022</td>\n      <td>Accessed Session 4 - Starter Files from Intro ...</td>\n      <td>6303bac7a4c38503cbbfab8aaaf12840</td>\n      <td>2022-03-25 17:25:37</td>\n      <td>106</td>\n    </tr>\n    <tr>\n      <th>2</th>\n      <td>1030</td>\n      <td>2021-03-25 11:28:19.047747</td>\n      <td>2021-03-25 11:28:19.047747</td>\n      <td>Accessed Session 3 Recap from Intro to Game De...</td>\n      <td>fc6ffe47d3cc201a1bd83b35ed8cb419</td>\n      <td>2022-03-25 17:28:19</td>\n      <td>106</td>\n    </tr>\n    <tr>\n      <th>3</th>\n      <td>1031</td>\n      <td>2021-03-25 15:58:27.461204</td>\n      <td>2021-03-25 15:58:27.461204</td>\n      <td>Logged in</td>\n      <td>ac290f99744baf85c1eb7d8432dfd354</td>\n      <td>2022-03-25 21:58:27</td>\n      <td>3</td>\n    </tr>\n    <tr>\n      <th>4</th>\n      <td>1032</td>\n      <td>2021-03-25 16:00:34.020002</td>\n      <td>2021-03-25 16:00:34.020002</td>\n      <td>Accessed W3Schools from Intro to Web Dev repo</td>\n      <td>4dfb37feb52f7512e515e7845d087fe0</td>\n      <td>2022-03-25 22:00:34</td>\n      <td>3</td>\n    </tr>\n    <tr>\n      <th>...</th>\n      <td>...</td>\n      <td>...</td>\n      <td>...</td>\n      <td>...</td>\n      <td>...</td>\n      <td>...</td>\n      <td>...</td>\n    </tr>\n    <tr>\n      <th>476</th>\n      <td>1521</td>\n      <td>2022-02-24 14:45:47.726320</td>\n      <td>2022-02-24 14:45:47.726320</td>\n      <td>Logged in</td>\n      <td>8cb66d3edf353482b40622db6e256d86</td>\n      <td>2023-02-24 20:45:48</td>\n      <td>2</td>\n    </tr>\n    <tr>\n      <th>477</th>\n      <td>1522</td>\n      <td>2022-03-07 02:13:50.459150</td>\n      <td>2022-03-07 02:13:50.459150</td>\n      <td>Logged in</td>\n      <td>372c4b7d59e0fda30674edb46358ed87</td>\n      <td>2023-03-07 08:13:50</td>\n      <td>2</td>\n    </tr>\n    <tr>\n      <th>478</th>\n      <td>1523</td>\n      <td>2022-03-09 20:13:29.515235</td>\n      <td>2022-03-09 20:13:29.515235</td>\n      <td>Logged in</td>\n      <td>a8103398465ef7394fc5bc9f0188de59</td>\n      <td>2023-03-10 02:13:30</td>\n      <td>2</td>\n    </tr>\n    <tr>\n      <th>479</th>\n      <td>1524</td>\n      <td>2022-04-20 18:28:56.639697</td>\n      <td>2022-04-20 18:28:56.639697</td>\n      <td>Logged in</td>\n      <td>0b62114655c53ffad97b616b13891658</td>\n      <td>2023-04-21 00:28:57</td>\n      <td>2</td>\n    </tr>\n    <tr>\n      <th>480</th>\n      <td>1525</td>\n      <td>2022-04-21 10:17:50.727601</td>\n      <td>2022-04-21 10:17:50.727601</td>\n      <td>Logged in</td>\n      <td>8e66a2358885fa4a4d11dec3ff4e8d06</td>\n      <td>2023-04-21 16:17:51</td>\n      <td>2</td>\n    </tr>\n  </tbody>\n</table>\n<p>481 rows × 7 columns</p>\n</div>"
     },
     "metadata": {}
    }
   ]
  },
  {
   "cell_type": "code",
   "metadata": {
    "cell_id": "9add9f616e244b88a6886e337e404eeb",
    "tags": [],
    "deepnote_to_be_reexecuted": false,
    "source_hash": "46f1588e",
    "execution_start": 1652664892972,
    "execution_millis": 0,
    "deepnote_cell_type": "code",
    "deepnote_cell_height": 81
   },
   "source": "activity = activity.drop(columns=['created_at', 'updated_at', 'reference', 'expiry'])",
   "execution_count": 9,
   "outputs": []
  },
  {
   "cell_type": "code",
   "metadata": {
    "cell_id": "71d46258e26b444a90063328419950a2",
    "tags": [],
    "deepnote_to_be_reexecuted": false,
    "source_hash": "98949ab1",
    "execution_start": 1652664892973,
    "execution_millis": 0,
    "deepnote_cell_type": "code",
    "deepnote_cell_height": 292
   },
   "source": "activity.info()",
   "execution_count": 10,
   "outputs": [
    {
     "name": "stdout",
     "text": "<class 'pandas.core.frame.DataFrame'>\nRangeIndex: 481 entries, 0 to 480\nData columns (total 3 columns):\n #   Column    Non-Null Count  Dtype \n---  ------    --------------  ----- \n 0   id        481 non-null    int64 \n 1   activity  481 non-null    object\n 2   userId    481 non-null    int64 \ndtypes: int64(2), object(1)\nmemory usage: 11.4+ KB\n",
     "output_type": "stream"
    }
   ]
  },
  {
   "cell_type": "code",
   "metadata": {
    "cell_id": "fcba6f9239a64d4b821879e85494e736",
    "tags": [],
    "deepnote_to_be_reexecuted": false,
    "source_hash": "1d5e538",
    "execution_start": 1652664892973,
    "execution_millis": 45,
    "deepnote_cell_type": "code",
    "deepnote_cell_height": 81
   },
   "source": "df3 = attendance.merge(activity.set_index('userId'), on='userId')",
   "execution_count": 11,
   "outputs": []
  },
  {
   "cell_type": "code",
   "metadata": {
    "cell_id": "a6ef435febe84dad9cfa7bba86438cde",
    "tags": [],
    "deepnote_to_be_reexecuted": false,
    "source_hash": "816a197e",
    "execution_start": 1652664893017,
    "execution_millis": 13,
    "deepnote_table_state": {
     "pageSize": 100,
     "pageIndex": 7,
     "filters": [],
     "sortBy": []
    },
    "deepnote_table_loading": false,
    "deepnote_table_invalid": false,
    "deepnote_cell_type": "code",
    "deepnote_cell_height": 436
   },
   "source": "df3",
   "execution_count": 12,
   "outputs": [
    {
     "output_type": "execute_result",
     "execution_count": 12,
     "data": {
      "application/vnd.deepnote.dataframe.v3+json": {
       "column_count": 6,
       "row_count": 706,
       "columns": [
        {
         "name": "id_x",
         "dtype": "int64",
         "stats": {
          "unique_count": 72,
          "nan_count": 0,
          "min": "28",
          "max": "159",
          "histogram": [
           {
            "bin_start": 28,
            "bin_end": 41.1,
            "count": 79
           },
           {
            "bin_start": 41.1,
            "bin_end": 54.2,
            "count": 71
           },
           {
            "bin_start": 54.2,
            "bin_end": 67.3,
            "count": 73
           },
           {
            "bin_start": 67.3,
            "bin_end": 80.4,
            "count": 33
           },
           {
            "bin_start": 80.4,
            "bin_end": 93.5,
            "count": 111
           },
           {
            "bin_start": 93.5,
            "bin_end": 106.6,
            "count": 98
           },
           {
            "bin_start": 106.6,
            "bin_end": 119.7,
            "count": 104
           },
           {
            "bin_start": 119.7,
            "bin_end": 132.8,
            "count": 29
           },
           {
            "bin_start": 132.8,
            "bin_end": 145.89999999999998,
            "count": 33
           },
           {
            "bin_start": 145.89999999999998,
            "bin_end": 159,
            "count": 75
           }
          ]
         }
        },
        {
         "name": "status",
         "dtype": "object",
         "stats": {
          "unique_count": 3,
          "nan_count": 0,
          "categories": [
           {
            "name": "P",
            "count": 494
           },
           {
            "name": "A",
            "count": 153
           },
           {
            "name": "I",
            "count": 59
           }
          ]
         }
        },
        {
         "name": "attendanceSessionId",
         "dtype": "int64",
         "stats": {
          "unique_count": 10,
          "nan_count": 0,
          "min": "1",
          "max": "10",
          "histogram": [
           {
            "bin_start": 1,
            "bin_end": 1.9,
            "count": 75
           },
           {
            "bin_start": 1.9,
            "bin_end": 2.8,
            "count": 75
           },
           {
            "bin_start": 2.8,
            "bin_end": 3.7,
            "count": 75
           },
           {
            "bin_start": 3.7,
            "bin_end": 4.6,
            "count": 75
           },
           {
            "bin_start": 4.6,
            "bin_end": 5.5,
            "count": 75
           },
           {
            "bin_start": 5.5,
            "bin_end": 6.4,
            "count": 75
           },
           {
            "bin_start": 6.4,
            "bin_end": 7.3,
            "count": 75
           },
           {
            "bin_start": 7.3,
            "bin_end": 8.2,
            "count": 75
           },
           {
            "bin_start": 8.2,
            "bin_end": 9.1,
            "count": 75
           },
           {
            "bin_start": 9.1,
            "bin_end": 10,
            "count": 31
           }
          ]
         }
        },
        {
         "name": "userId",
         "dtype": "int64",
         "stats": {
          "unique_count": 14,
          "nan_count": 0,
          "min": "66",
          "max": "128",
          "histogram": [
           {
            "bin_start": 66,
            "bin_end": 72.2,
            "count": 177
           },
           {
            "bin_start": 72.2,
            "bin_end": 78.4,
            "count": 0
           },
           {
            "bin_start": 78.4,
            "bin_end": 84.6,
            "count": 0
           },
           {
            "bin_start": 84.6,
            "bin_end": 90.8,
            "count": 108
           },
           {
            "bin_start": 90.8,
            "bin_end": 97,
            "count": 36
           },
           {
            "bin_start": 97,
            "bin_end": 103.2,
            "count": 0
           },
           {
            "bin_start": 103.2,
            "bin_end": 109.4,
            "count": 377
           },
           {
            "bin_start": 109.4,
            "bin_end": 115.6,
            "count": 0
           },
           {
            "bin_start": 115.6,
            "bin_end": 121.80000000000001,
            "count": 2
           },
           {
            "bin_start": 121.80000000000001,
            "bin_end": 128,
            "count": 6
           }
          ]
         }
        },
        {
         "name": "id_y",
         "dtype": "int64",
         "stats": {
          "unique_count": 83,
          "nan_count": 0,
          "min": "1028",
          "max": "1418",
          "histogram": [
           {
            "bin_start": 1028,
            "bin_end": 1067,
            "count": 77
           },
           {
            "bin_start": 1067,
            "bin_end": 1106,
            "count": 176
           },
           {
            "bin_start": 1106,
            "bin_end": 1145,
            "count": 63
           },
           {
            "bin_start": 1145,
            "bin_end": 1184,
            "count": 18
           },
           {
            "bin_start": 1184,
            "bin_end": 1223,
            "count": 121
           },
           {
            "bin_start": 1223,
            "bin_end": 1262,
            "count": 101
           },
           {
            "bin_start": 1262,
            "bin_end": 1301,
            "count": 72
           },
           {
            "bin_start": 1301,
            "bin_end": 1340,
            "count": 45
           },
           {
            "bin_start": 1340,
            "bin_end": 1379,
            "count": 23
           },
           {
            "bin_start": 1379,
            "bin_end": 1418,
            "count": 10
           }
          ]
         }
        },
        {
         "name": "activity",
         "dtype": "object",
         "stats": {
          "unique_count": 23,
          "nan_count": 0,
          "categories": [
           {
            "name": "Logged in",
            "count": 290
           },
           {
            "name": "Accessed Session 7 Recap from Intro to Game Dev with Unity repo [access:f808a2f41b5::rrtGJAd2ae1e]",
            "count": 47
           },
           {
            "name": "21 others",
            "count": 369
           }
          ]
         }
        },
        {
         "name": "_deepnote_index_column",
         "dtype": "int64"
        }
       ],
       "rows": [
        {
         "id_x": 153,
         "status": "P",
         "attendanceSessionId": 10,
         "userId": 122,
         "id_y": 1327,
         "activity": "Enrolled onto Programming Fundamentals",
         "_deepnote_index_column": 700
        },
        {
         "id_x": 154,
         "status": "A",
         "attendanceSessionId": 10,
         "userId": 123,
         "id_y": 1330,
         "activity": "Enrolled onto Programming Fundamentals",
         "_deepnote_index_column": 701
        },
        {
         "id_x": 155,
         "status": "A",
         "attendanceSessionId": 10,
         "userId": 124,
         "id_y": 1333,
         "activity": "Enrolled onto Programming Fundamentals",
         "_deepnote_index_column": 702
        },
        {
         "id_x": 156,
         "status": "P",
         "attendanceSessionId": 10,
         "userId": 125,
         "id_y": 1340,
         "activity": "Enrolled onto Programming Fundamentals",
         "_deepnote_index_column": 703
        },
        {
         "id_x": 157,
         "status": "A",
         "attendanceSessionId": 10,
         "userId": 127,
         "id_y": 1344,
         "activity": "Enrolled onto Programming Fundamentals",
         "_deepnote_index_column": 704
        },
        {
         "id_x": 158,
         "status": "A",
         "attendanceSessionId": 10,
         "userId": 128,
         "id_y": 1345,
         "activity": "Enrolled onto Programming Fundamentals",
         "_deepnote_index_column": 705
        }
       ]
      },
      "text/plain": "     id_x status  attendanceSessionId  userId  id_y  \\\n0      28      P                    1      66  1218   \n1      28      P                    1      66  1219   \n2      28      P                    1      66  1221   \n3      28      P                    1      66  1222   \n4      28      P                    1      66  1225   \n..    ...    ...                  ...     ...   ...   \n701   154      A                   10     123  1330   \n702   155      A                   10     124  1333   \n703   156      P                   10     125  1340   \n704   157      A                   10     127  1344   \n705   158      A                   10     128  1345   \n\n                                              activity  \n0                                            Logged in  \n1    Accessed Session 8 - Starter Files from Intro ...  \n2                                            Logged in  \n3    Accessed Session 1 Recap from Intro to Game De...  \n4    Accessed Session 7 Recap from Intro to Game De...  \n..                                                 ...  \n701             Enrolled onto Programming Fundamentals  \n702             Enrolled onto Programming Fundamentals  \n703             Enrolled onto Programming Fundamentals  \n704             Enrolled onto Programming Fundamentals  \n705             Enrolled onto Programming Fundamentals  \n\n[706 rows x 6 columns]",
      "text/html": "<div>\n<style scoped>\n    .dataframe tbody tr th:only-of-type {\n        vertical-align: middle;\n    }\n\n    .dataframe tbody tr th {\n        vertical-align: top;\n    }\n\n    .dataframe thead th {\n        text-align: right;\n    }\n</style>\n<table border=\"1\" class=\"dataframe\">\n  <thead>\n    <tr style=\"text-align: right;\">\n      <th></th>\n      <th>id_x</th>\n      <th>status</th>\n      <th>attendanceSessionId</th>\n      <th>userId</th>\n      <th>id_y</th>\n      <th>activity</th>\n    </tr>\n  </thead>\n  <tbody>\n    <tr>\n      <th>0</th>\n      <td>28</td>\n      <td>P</td>\n      <td>1</td>\n      <td>66</td>\n      <td>1218</td>\n      <td>Logged in</td>\n    </tr>\n    <tr>\n      <th>1</th>\n      <td>28</td>\n      <td>P</td>\n      <td>1</td>\n      <td>66</td>\n      <td>1219</td>\n      <td>Accessed Session 8 - Starter Files from Intro ...</td>\n    </tr>\n    <tr>\n      <th>2</th>\n      <td>28</td>\n      <td>P</td>\n      <td>1</td>\n      <td>66</td>\n      <td>1221</td>\n      <td>Logged in</td>\n    </tr>\n    <tr>\n      <th>3</th>\n      <td>28</td>\n      <td>P</td>\n      <td>1</td>\n      <td>66</td>\n      <td>1222</td>\n      <td>Accessed Session 1 Recap from Intro to Game De...</td>\n    </tr>\n    <tr>\n      <th>4</th>\n      <td>28</td>\n      <td>P</td>\n      <td>1</td>\n      <td>66</td>\n      <td>1225</td>\n      <td>Accessed Session 7 Recap from Intro to Game De...</td>\n    </tr>\n    <tr>\n      <th>...</th>\n      <td>...</td>\n      <td>...</td>\n      <td>...</td>\n      <td>...</td>\n      <td>...</td>\n      <td>...</td>\n    </tr>\n    <tr>\n      <th>701</th>\n      <td>154</td>\n      <td>A</td>\n      <td>10</td>\n      <td>123</td>\n      <td>1330</td>\n      <td>Enrolled onto Programming Fundamentals</td>\n    </tr>\n    <tr>\n      <th>702</th>\n      <td>155</td>\n      <td>A</td>\n      <td>10</td>\n      <td>124</td>\n      <td>1333</td>\n      <td>Enrolled onto Programming Fundamentals</td>\n    </tr>\n    <tr>\n      <th>703</th>\n      <td>156</td>\n      <td>P</td>\n      <td>10</td>\n      <td>125</td>\n      <td>1340</td>\n      <td>Enrolled onto Programming Fundamentals</td>\n    </tr>\n    <tr>\n      <th>704</th>\n      <td>157</td>\n      <td>A</td>\n      <td>10</td>\n      <td>127</td>\n      <td>1344</td>\n      <td>Enrolled onto Programming Fundamentals</td>\n    </tr>\n    <tr>\n      <th>705</th>\n      <td>158</td>\n      <td>A</td>\n      <td>10</td>\n      <td>128</td>\n      <td>1345</td>\n      <td>Enrolled onto Programming Fundamentals</td>\n    </tr>\n  </tbody>\n</table>\n<p>706 rows × 6 columns</p>\n</div>"
     },
     "metadata": {}
    }
   ]
  },
  {
   "cell_type": "code",
   "source": "_deepnote_run_altair(df3, \"\"\"{\"$schema\":\"https://vega.github.io/schema/vega-lite/v4.json\",\"mark\":{\"type\":\"point\",\"tooltip\":{\"content\":\"data\"}},\"height\":220,\"autosize\":{\"type\":\"fit\"},\"data\":{\"name\":\"placeholder\"},\"encoding\":{\"x\":{\"field\":\"userId\",\"type\":\"quantitative\",\"sort\":null,\"scale\":{\"type\":\"linear\",\"zero\":false}},\"y\":{\"field\":\"activity\",\"type\":\"nominal\",\"sort\":null,\"scale\":{\"type\":\"linear\",\"zero\":false}},\"color\":{\"field\":\"\",\"type\":\"nominal\",\"sort\":null,\"scale\":{\"type\":\"linear\",\"zero\":false}}}}\"\"\")",
   "metadata": {
    "cell_id": "3c65625b4bfd4b46808c714565b7f19c",
    "deepnote_variable_name": "df3",
    "deepnote_visualization_spec": {
     "$schema": "https://vega.github.io/schema/vega-lite/v4.json",
     "mark": {
      "type": "point",
      "tooltip": {
       "content": "data"
      }
     },
     "height": 220,
     "autosize": {
      "type": "fit"
     },
     "data": {
      "name": "placeholder"
     },
     "encoding": {
      "x": {
       "field": "userId",
       "type": "quantitative",
       "sort": null,
       "scale": {
        "type": "linear",
        "zero": false
       }
      },
      "y": {
       "field": "activity",
       "type": "nominal",
       "sort": null,
       "scale": {
        "type": "linear",
        "zero": false
       }
      },
      "color": {
       "field": "",
       "type": "nominal",
       "sort": null,
       "scale": {
        "type": "linear",
        "zero": false
       }
      }
     }
    },
    "deepnote_to_be_reexecuted": false,
    "source_hash": "192f6636",
    "execution_start": 1652664893030,
    "execution_millis": 453,
    "deepnote_cell_type": "visualization"
   },
   "execution_count": 13,
   "outputs": [
    {
     "output_type": "execute_result",
     "execution_count": 13,
     "data": {
      "text/html": "\n<div id=\"altair-viz-ff81b2d847f44f84914443241f4c612b\"></div>\n<script type=\"text/javascript\">\n  (function(spec, embedOpt){\n    let outputDiv = document.currentScript.previousElementSibling;\n    if (outputDiv.id !== \"altair-viz-ff81b2d847f44f84914443241f4c612b\") {\n      outputDiv = document.getElementById(\"altair-viz-ff81b2d847f44f84914443241f4c612b\");\n    }\n    const paths = {\n      \"vega\": \"https://cdn.jsdelivr.net/npm//vega@5?noext\",\n      \"vega-lib\": \"https://cdn.jsdelivr.net/npm//vega-lib?noext\",\n      \"vega-lite\": \"https://cdn.jsdelivr.net/npm//vega-lite@4.8.1?noext\",\n      \"vega-embed\": \"https://cdn.jsdelivr.net/npm//vega-embed@6?noext\",\n    };\n\n    function loadScript(lib) {\n      return new Promise(function(resolve, reject) {\n        var s = document.createElement('script');\n        s.src = paths[lib];\n        s.async = true;\n        s.onload = () => resolve(paths[lib]);\n        s.onerror = () => reject(`Error loading script: ${paths[lib]}`);\n        document.getElementsByTagName(\"head\")[0].appendChild(s);\n      });\n    }\n\n    function showError(err) {\n      outputDiv.innerHTML = `<div class=\"error\" style=\"color:red;\">${err}</div>`;\n      throw err;\n    }\n\n    function displayChart(vegaEmbed) {\n      vegaEmbed(outputDiv, spec, embedOpt)\n        .catch(err => showError(`Javascript Error: ${err.message}<br>This usually means there's a typo in your chart specification. See the javascript console for the full traceback.`));\n    }\n\n    if(typeof define === \"function\" && define.amd) {\n      requirejs.config({paths});\n      require([\"vega-embed\"], displayChart, err => showError(`Error loading script: ${err.message}`));\n    } else if (typeof vegaEmbed === \"function\") {\n      displayChart(vegaEmbed);\n    } else {\n      loadScript(\"vega\")\n        .then(() => loadScript(\"vega-lite\"))\n        .then(() => loadScript(\"vega-embed\"))\n        .catch(showError)\n        .then(() => displayChart(vegaEmbed));\n    }\n  })({\"config\": {\"view\": {\"continuousWidth\": 400, \"continuousHeight\": 300}, \"area\": {\"fill\": \"#51C0E9\"}, \"axis\": {\"labelFont\": \"Inter, sans-serif\", \"labelFontSize\": 12, \"labelFontWeight\": \"normal\", \"labelLimit\": 60, \"labelOverlap\": \"greedy\", \"titleFont\": \"Inter, sans-serif\", \"titleFontSize\": 12, \"titleFontWeight\": \"bold\"}, \"background\": \"#ffffff\", \"legend\": {\"labelFont\": \"Inter, sans-serif\", \"labelFontSize\": 12, \"titleFont\": \"Inter, sans-serif\", \"titleFontSize\": 12, \"titleFontWeight\": \"bold\"}, \"line\": {\"stroke\": \"#51C0E9\", \"strokeWidth\": 2}, \"rect\": {\"fill\": \"#51C0E9\"}, \"title\": {\"anchor\": \"start\", \"color\": \"#000000\", \"font\": \"Inter, sans-serif\", \"fontSize\": 22, \"fontWeight\": \"normal\"}}, \"data\": {\"name\": \"data-ffdd07717e609e818d79ffc5e2fb66ce\"}, \"mark\": {\"type\": \"point\", \"tooltip\": {\"content\": \"data\"}}, \"autosize\": {\"type\": \"fit\"}, \"encoding\": {\"color\": {\"type\": \"nominal\", \"field\": \"\", \"scale\": {\"type\": \"linear\", \"zero\": false}, \"sort\": null}, \"x\": {\"type\": \"quantitative\", \"field\": \"userId\", \"scale\": {\"type\": \"linear\", \"zero\": false}, \"sort\": null}, \"y\": {\"type\": \"nominal\", \"field\": \"activity\", \"scale\": {\"type\": \"linear\", \"zero\": false}, \"sort\": null}}, \"height\": 300, \"width\": \"container\", \"$schema\": \"https://vega.github.io/schema/vega-lite/v4.json\", \"datasets\": {\"data-ffdd07717e609e818d79ffc5e2fb66ce\": [{\"id_x\": 28, \"status\": \"P\", \"attendanceSessionId\": 1, \"userId\": 66, \"id_y\": 1218, \"activity\": \"Logged in\"}, {\"id_x\": 28, \"status\": \"P\", \"attendanceSessionId\": 1, \"userId\": 66, \"id_y\": 1219, \"activity\": \"Accessed Session 8 - Starter Files from Intro to Game Dev with Unity repo [access:1d14e303b59::rrtGJAd2ae1e]\"}, {\"id_x\": 28, \"status\": \"P\", \"attendanceSessionId\": 1, \"userId\": 66, \"id_y\": 1221, \"activity\": \"Logged in\"}, {\"id_x\": 28, \"status\": \"P\", \"attendanceSessionId\": 1, \"userId\": 66, \"id_y\": 1222, \"activity\": \"Accessed Session 1 Recap from Intro to Game Dev with Unity repo [access:286e1a92d35::rrtGJAd2ae1e]\"}, {\"id_x\": 28, \"status\": \"P\", \"attendanceSessionId\": 1, \"userId\": 66, \"id_y\": 1225, \"activity\": \"Accessed Session 7 Recap from Intro to Game Dev with Unity repo [access:f808a2f41b5::rrtGJAd2ae1e]\"}, {\"id_x\": 28, \"status\": \"P\", \"attendanceSessionId\": 1, \"userId\": 66, \"id_y\": 1226, \"activity\": \"Accessed Session 7 Recap from Intro to Game Dev with Unity repo [access:f808a2f41b5::rrtGJAd2ae1e]\"}, {\"id_x\": 46, \"status\": \"P\", \"attendanceSessionId\": 2, \"userId\": 66, \"id_y\": 1218, \"activity\": \"Logged in\"}, {\"id_x\": 46, \"status\": \"P\", \"attendanceSessionId\": 2, \"userId\": 66, \"id_y\": 1219, \"activity\": \"Accessed Session 8 - Starter Files from Intro to Game Dev with Unity repo [access:1d14e303b59::rrtGJAd2ae1e]\"}, {\"id_x\": 46, \"status\": \"P\", \"attendanceSessionId\": 2, \"userId\": 66, \"id_y\": 1221, \"activity\": \"Logged in\"}, {\"id_x\": 46, \"status\": \"P\", \"attendanceSessionId\": 2, \"userId\": 66, \"id_y\": 1222, \"activity\": \"Accessed Session 1 Recap from Intro to Game Dev with Unity repo [access:286e1a92d35::rrtGJAd2ae1e]\"}, {\"id_x\": 46, \"status\": \"P\", \"attendanceSessionId\": 2, \"userId\": 66, \"id_y\": 1225, \"activity\": \"Accessed Session 7 Recap from Intro to Game Dev with Unity repo [access:f808a2f41b5::rrtGJAd2ae1e]\"}, {\"id_x\": 46, \"status\": \"P\", \"attendanceSessionId\": 2, \"userId\": 66, \"id_y\": 1226, \"activity\": \"Accessed Session 7 Recap from Intro to Game Dev with Unity repo [access:f808a2f41b5::rrtGJAd2ae1e]\"}, {\"id_x\": 60, \"status\": \"P\", \"attendanceSessionId\": 3, \"userId\": 66, \"id_y\": 1218, \"activity\": \"Logged in\"}, {\"id_x\": 60, \"status\": \"P\", \"attendanceSessionId\": 3, \"userId\": 66, \"id_y\": 1219, \"activity\": \"Accessed Session 8 - Starter Files from Intro to Game Dev with Unity repo [access:1d14e303b59::rrtGJAd2ae1e]\"}, {\"id_x\": 60, \"status\": \"P\", \"attendanceSessionId\": 3, \"userId\": 66, \"id_y\": 1221, \"activity\": \"Logged in\"}, {\"id_x\": 60, \"status\": \"P\", \"attendanceSessionId\": 3, \"userId\": 66, \"id_y\": 1222, \"activity\": \"Accessed Session 1 Recap from Intro to Game Dev with Unity repo [access:286e1a92d35::rrtGJAd2ae1e]\"}, {\"id_x\": 60, \"status\": \"P\", \"attendanceSessionId\": 3, \"userId\": 66, \"id_y\": 1225, \"activity\": \"Accessed Session 7 Recap from Intro to Game Dev with Unity repo [access:f808a2f41b5::rrtGJAd2ae1e]\"}, {\"id_x\": 60, \"status\": \"P\", \"attendanceSessionId\": 3, \"userId\": 66, \"id_y\": 1226, \"activity\": \"Accessed Session 7 Recap from Intro to Game Dev with Unity repo [access:f808a2f41b5::rrtGJAd2ae1e]\"}, {\"id_x\": 73, \"status\": \"P\", \"attendanceSessionId\": 4, \"userId\": 66, \"id_y\": 1218, \"activity\": \"Logged in\"}, {\"id_x\": 73, \"status\": \"P\", \"attendanceSessionId\": 4, \"userId\": 66, \"id_y\": 1219, \"activity\": \"Accessed Session 8 - Starter Files from Intro to Game Dev with Unity repo [access:1d14e303b59::rrtGJAd2ae1e]\"}, {\"id_x\": 73, \"status\": \"P\", \"attendanceSessionId\": 4, \"userId\": 66, \"id_y\": 1221, \"activity\": \"Logged in\"}, {\"id_x\": 73, \"status\": \"P\", \"attendanceSessionId\": 4, \"userId\": 66, \"id_y\": 1222, \"activity\": \"Accessed Session 1 Recap from Intro to Game Dev with Unity repo [access:286e1a92d35::rrtGJAd2ae1e]\"}, {\"id_x\": 73, \"status\": \"P\", \"attendanceSessionId\": 4, \"userId\": 66, \"id_y\": 1225, \"activity\": \"Accessed Session 7 Recap from Intro to Game Dev with Unity repo [access:f808a2f41b5::rrtGJAd2ae1e]\"}, {\"id_x\": 73, \"status\": \"P\", \"attendanceSessionId\": 4, \"userId\": 66, \"id_y\": 1226, \"activity\": \"Accessed Session 7 Recap from Intro to Game Dev with Unity repo [access:f808a2f41b5::rrtGJAd2ae1e]\"}, {\"id_x\": 94, \"status\": \"P\", \"attendanceSessionId\": 5, \"userId\": 66, \"id_y\": 1218, \"activity\": \"Logged in\"}, {\"id_x\": 94, \"status\": \"P\", \"attendanceSessionId\": 5, \"userId\": 66, \"id_y\": 1219, \"activity\": \"Accessed Session 8 - Starter Files from Intro to Game Dev with Unity repo [access:1d14e303b59::rrtGJAd2ae1e]\"}, {\"id_x\": 94, \"status\": \"P\", \"attendanceSessionId\": 5, \"userId\": 66, \"id_y\": 1221, \"activity\": \"Logged in\"}, {\"id_x\": 94, \"status\": \"P\", \"attendanceSessionId\": 5, \"userId\": 66, \"id_y\": 1222, \"activity\": \"Accessed Session 1 Recap from Intro to Game Dev with Unity repo [access:286e1a92d35::rrtGJAd2ae1e]\"}, {\"id_x\": 94, \"status\": \"P\", \"attendanceSessionId\": 5, \"userId\": 66, \"id_y\": 1225, \"activity\": \"Accessed Session 7 Recap from Intro to Game Dev with Unity repo [access:f808a2f41b5::rrtGJAd2ae1e]\"}, {\"id_x\": 94, \"status\": \"P\", \"attendanceSessionId\": 5, \"userId\": 66, \"id_y\": 1226, \"activity\": \"Accessed Session 7 Recap from Intro to Game Dev with Unity repo [access:f808a2f41b5::rrtGJAd2ae1e]\"}, {\"id_x\": 97, \"status\": \"P\", \"attendanceSessionId\": 6, \"userId\": 66, \"id_y\": 1218, \"activity\": \"Logged in\"}, {\"id_x\": 97, \"status\": \"P\", \"attendanceSessionId\": 6, \"userId\": 66, \"id_y\": 1219, \"activity\": \"Accessed Session 8 - Starter Files from Intro to Game Dev with Unity repo [access:1d14e303b59::rrtGJAd2ae1e]\"}, {\"id_x\": 97, \"status\": \"P\", \"attendanceSessionId\": 6, \"userId\": 66, \"id_y\": 1221, \"activity\": \"Logged in\"}, {\"id_x\": 97, \"status\": \"P\", \"attendanceSessionId\": 6, \"userId\": 66, \"id_y\": 1222, \"activity\": \"Accessed Session 1 Recap from Intro to Game Dev with Unity repo [access:286e1a92d35::rrtGJAd2ae1e]\"}, {\"id_x\": 97, \"status\": \"P\", \"attendanceSessionId\": 6, \"userId\": 66, \"id_y\": 1225, \"activity\": \"Accessed Session 7 Recap from Intro to Game Dev with Unity repo [access:f808a2f41b5::rrtGJAd2ae1e]\"}, {\"id_x\": 97, \"status\": \"P\", \"attendanceSessionId\": 6, \"userId\": 66, \"id_y\": 1226, \"activity\": \"Accessed Session 7 Recap from Intro to Game Dev with Unity repo [access:f808a2f41b5::rrtGJAd2ae1e]\"}, {\"id_x\": 104, \"status\": \"P\", \"attendanceSessionId\": 7, \"userId\": 66, \"id_y\": 1218, \"activity\": \"Logged in\"}, {\"id_x\": 104, \"status\": \"P\", \"attendanceSessionId\": 7, \"userId\": 66, \"id_y\": 1219, \"activity\": \"Accessed Session 8 - Starter Files from Intro to Game Dev with Unity repo [access:1d14e303b59::rrtGJAd2ae1e]\"}, {\"id_x\": 104, \"status\": \"P\", \"attendanceSessionId\": 7, \"userId\": 66, \"id_y\": 1221, \"activity\": \"Logged in\"}, {\"id_x\": 104, \"status\": \"P\", \"attendanceSessionId\": 7, \"userId\": 66, \"id_y\": 1222, \"activity\": \"Accessed Session 1 Recap from Intro to Game Dev with Unity repo [access:286e1a92d35::rrtGJAd2ae1e]\"}, {\"id_x\": 104, \"status\": \"P\", \"attendanceSessionId\": 7, \"userId\": 66, \"id_y\": 1225, \"activity\": \"Accessed Session 7 Recap from Intro to Game Dev with Unity repo [access:f808a2f41b5::rrtGJAd2ae1e]\"}, {\"id_x\": 104, \"status\": \"P\", \"attendanceSessionId\": 7, \"userId\": 66, \"id_y\": 1226, \"activity\": \"Accessed Session 7 Recap from Intro to Game Dev with Unity repo [access:f808a2f41b5::rrtGJAd2ae1e]\"}, {\"id_x\": 113, \"status\": \"P\", \"attendanceSessionId\": 8, \"userId\": 66, \"id_y\": 1218, \"activity\": \"Logged in\"}, {\"id_x\": 113, \"status\": \"P\", \"attendanceSessionId\": 8, \"userId\": 66, \"id_y\": 1219, \"activity\": \"Accessed Session 8 - Starter Files from Intro to Game Dev with Unity repo [access:1d14e303b59::rrtGJAd2ae1e]\"}, {\"id_x\": 113, \"status\": \"P\", \"attendanceSessionId\": 8, \"userId\": 66, \"id_y\": 1221, \"activity\": \"Logged in\"}, {\"id_x\": 113, \"status\": \"P\", \"attendanceSessionId\": 8, \"userId\": 66, \"id_y\": 1222, \"activity\": \"Accessed Session 1 Recap from Intro to Game Dev with Unity repo [access:286e1a92d35::rrtGJAd2ae1e]\"}, {\"id_x\": 113, \"status\": \"P\", \"attendanceSessionId\": 8, \"userId\": 66, \"id_y\": 1225, \"activity\": \"Accessed Session 7 Recap from Intro to Game Dev with Unity repo [access:f808a2f41b5::rrtGJAd2ae1e]\"}, {\"id_x\": 113, \"status\": \"P\", \"attendanceSessionId\": 8, \"userId\": 66, \"id_y\": 1226, \"activity\": \"Accessed Session 7 Recap from Intro to Game Dev with Unity repo [access:f808a2f41b5::rrtGJAd2ae1e]\"}, {\"id_x\": 138, \"status\": \"P\", \"attendanceSessionId\": 9, \"userId\": 66, \"id_y\": 1218, \"activity\": \"Logged in\"}, {\"id_x\": 138, \"status\": \"P\", \"attendanceSessionId\": 9, \"userId\": 66, \"id_y\": 1219, \"activity\": \"Accessed Session 8 - Starter Files from Intro to Game Dev with Unity repo [access:1d14e303b59::rrtGJAd2ae1e]\"}, {\"id_x\": 138, \"status\": \"P\", \"attendanceSessionId\": 9, \"userId\": 66, \"id_y\": 1221, \"activity\": \"Logged in\"}, {\"id_x\": 138, \"status\": \"P\", \"attendanceSessionId\": 9, \"userId\": 66, \"id_y\": 1222, \"activity\": \"Accessed Session 1 Recap from Intro to Game Dev with Unity repo [access:286e1a92d35::rrtGJAd2ae1e]\"}, {\"id_x\": 138, \"status\": \"P\", \"attendanceSessionId\": 9, \"userId\": 66, \"id_y\": 1225, \"activity\": \"Accessed Session 7 Recap from Intro to Game Dev with Unity repo [access:f808a2f41b5::rrtGJAd2ae1e]\"}, {\"id_x\": 138, \"status\": \"P\", \"attendanceSessionId\": 9, \"userId\": 66, \"id_y\": 1226, \"activity\": \"Accessed Session 7 Recap from Intro to Game Dev with Unity repo [access:f808a2f41b5::rrtGJAd2ae1e]\"}, {\"id_x\": 159, \"status\": \"P\", \"attendanceSessionId\": 10, \"userId\": 66, \"id_y\": 1218, \"activity\": \"Logged in\"}, {\"id_x\": 159, \"status\": \"P\", \"attendanceSessionId\": 10, \"userId\": 66, \"id_y\": 1219, \"activity\": \"Accessed Session 8 - Starter Files from Intro to Game Dev with Unity repo [access:1d14e303b59::rrtGJAd2ae1e]\"}, {\"id_x\": 159, \"status\": \"P\", \"attendanceSessionId\": 10, \"userId\": 66, \"id_y\": 1221, \"activity\": \"Logged in\"}, {\"id_x\": 159, \"status\": \"P\", \"attendanceSessionId\": 10, \"userId\": 66, \"id_y\": 1222, \"activity\": \"Accessed Session 1 Recap from Intro to Game Dev with Unity repo [access:286e1a92d35::rrtGJAd2ae1e]\"}, {\"id_x\": 159, \"status\": \"P\", \"attendanceSessionId\": 10, \"userId\": 66, \"id_y\": 1225, \"activity\": \"Accessed Session 7 Recap from Intro to Game Dev with Unity repo [access:f808a2f41b5::rrtGJAd2ae1e]\"}, {\"id_x\": 159, \"status\": \"P\", \"attendanceSessionId\": 10, \"userId\": 66, \"id_y\": 1226, \"activity\": \"Accessed Session 7 Recap from Intro to Game Dev with Unity repo [access:f808a2f41b5::rrtGJAd2ae1e]\"}, {\"id_x\": 29, \"status\": \"P\", \"attendanceSessionId\": 1, \"userId\": 69, \"id_y\": 1070, \"activity\": \"Logged in\"}, {\"id_x\": 29, \"status\": \"P\", \"attendanceSessionId\": 1, \"userId\": 69, \"id_y\": 1071, \"activity\": \"Accessed Session 5 - Starter Files from Intro to Game Dev with Unity repo [access:3aadbfd9eca::rrtGJAd2ae1e]\"}, {\"id_x\": 29, \"status\": \"P\", \"attendanceSessionId\": 1, \"userId\": 69, \"id_y\": 1072, \"activity\": \"Accessed Session 5 - Assets from Intro to Game Dev with Unity repo [access:141012aa424::rrtGJAd2ae1e]\"}, {\"id_x\": 29, \"status\": \"P\", \"attendanceSessionId\": 1, \"userId\": 69, \"id_y\": 1082, \"activity\": \"Accessed Session 5 - Assets from Intro to Game Dev with Unity repo [access:141012aa424::rrtGJAd2ae1e]\"}, {\"id_x\": 29, \"status\": \"P\", \"attendanceSessionId\": 1, \"userId\": 69, \"id_y\": 1107, \"activity\": \"Logged in\"}, {\"id_x\": 29, \"status\": \"P\", \"attendanceSessionId\": 1, \"userId\": 69, \"id_y\": 1108, \"activity\": \"Accessed Session 6 - Starter Files from Intro to Game Dev with Unity repo [access:4ff849da461::rrtGJAd2ae1e]\"}, {\"id_x\": 29, \"status\": \"P\", \"attendanceSessionId\": 1, \"userId\": 69, \"id_y\": 1164, \"activity\": \"Logged in\"}, {\"id_x\": 29, \"status\": \"P\", \"attendanceSessionId\": 1, \"userId\": 69, \"id_y\": 1165, \"activity\": \"Accessed Session 7 - Starter Files from Intro to Game Dev with Unity repo [access:0274231c583::rrtGJAd2ae1e]\"}, {\"id_x\": 29, \"status\": \"P\", \"attendanceSessionId\": 1, \"userId\": 69, \"id_y\": 1208, \"activity\": \"Logged in\"}, {\"id_x\": 29, \"status\": \"P\", \"attendanceSessionId\": 1, \"userId\": 69, \"id_y\": 1209, \"activity\": \"Accessed Session 8 - Starter Files from Intro to Game Dev with Unity repo [access:1d14e303b59::rrtGJAd2ae1e]\"}, {\"id_x\": 29, \"status\": \"P\", \"attendanceSessionId\": 1, \"userId\": 69, \"id_y\": 1230, \"activity\": \"Logged in\"}, {\"id_x\": 29, \"status\": \"P\", \"attendanceSessionId\": 1, \"userId\": 69, \"id_y\": 1231, \"activity\": \"Accessed Session 8 - Starter Files from Intro to Game Dev with Unity repo [access:1d14e303b59::rrtGJAd2ae1e]\"}, {\"id_x\": 29, \"status\": \"P\", \"attendanceSessionId\": 1, \"userId\": 69, \"id_y\": 1278, \"activity\": \"Logged in\"}, {\"id_x\": 47, \"status\": \"P\", \"attendanceSessionId\": 2, \"userId\": 69, \"id_y\": 1070, \"activity\": \"Logged in\"}, {\"id_x\": 47, \"status\": \"P\", \"attendanceSessionId\": 2, \"userId\": 69, \"id_y\": 1071, \"activity\": \"Accessed Session 5 - Starter Files from Intro to Game Dev with Unity repo [access:3aadbfd9eca::rrtGJAd2ae1e]\"}, {\"id_x\": 47, \"status\": \"P\", \"attendanceSessionId\": 2, \"userId\": 69, \"id_y\": 1072, \"activity\": \"Accessed Session 5 - Assets from Intro to Game Dev with Unity repo [access:141012aa424::rrtGJAd2ae1e]\"}, {\"id_x\": 47, \"status\": \"P\", \"attendanceSessionId\": 2, \"userId\": 69, \"id_y\": 1082, \"activity\": \"Accessed Session 5 - Assets from Intro to Game Dev with Unity repo [access:141012aa424::rrtGJAd2ae1e]\"}, {\"id_x\": 47, \"status\": \"P\", \"attendanceSessionId\": 2, \"userId\": 69, \"id_y\": 1107, \"activity\": \"Logged in\"}, {\"id_x\": 47, \"status\": \"P\", \"attendanceSessionId\": 2, \"userId\": 69, \"id_y\": 1108, \"activity\": \"Accessed Session 6 - Starter Files from Intro to Game Dev with Unity repo [access:4ff849da461::rrtGJAd2ae1e]\"}, {\"id_x\": 47, \"status\": \"P\", \"attendanceSessionId\": 2, \"userId\": 69, \"id_y\": 1164, \"activity\": \"Logged in\"}, {\"id_x\": 47, \"status\": \"P\", \"attendanceSessionId\": 2, \"userId\": 69, \"id_y\": 1165, \"activity\": \"Accessed Session 7 - Starter Files from Intro to Game Dev with Unity repo [access:0274231c583::rrtGJAd2ae1e]\"}, {\"id_x\": 47, \"status\": \"P\", \"attendanceSessionId\": 2, \"userId\": 69, \"id_y\": 1208, \"activity\": \"Logged in\"}, {\"id_x\": 47, \"status\": \"P\", \"attendanceSessionId\": 2, \"userId\": 69, \"id_y\": 1209, \"activity\": \"Accessed Session 8 - Starter Files from Intro to Game Dev with Unity repo [access:1d14e303b59::rrtGJAd2ae1e]\"}, {\"id_x\": 47, \"status\": \"P\", \"attendanceSessionId\": 2, \"userId\": 69, \"id_y\": 1230, \"activity\": \"Logged in\"}, {\"id_x\": 47, \"status\": \"P\", \"attendanceSessionId\": 2, \"userId\": 69, \"id_y\": 1231, \"activity\": \"Accessed Session 8 - Starter Files from Intro to Game Dev with Unity repo [access:1d14e303b59::rrtGJAd2ae1e]\"}, {\"id_x\": 47, \"status\": \"P\", \"attendanceSessionId\": 2, \"userId\": 69, \"id_y\": 1278, \"activity\": \"Logged in\"}, {\"id_x\": 64, \"status\": \"P\", \"attendanceSessionId\": 3, \"userId\": 69, \"id_y\": 1070, \"activity\": \"Logged in\"}, {\"id_x\": 64, \"status\": \"P\", \"attendanceSessionId\": 3, \"userId\": 69, \"id_y\": 1071, \"activity\": \"Accessed Session 5 - Starter Files from Intro to Game Dev with Unity repo [access:3aadbfd9eca::rrtGJAd2ae1e]\"}, {\"id_x\": 64, \"status\": \"P\", \"attendanceSessionId\": 3, \"userId\": 69, \"id_y\": 1072, \"activity\": \"Accessed Session 5 - Assets from Intro to Game Dev with Unity repo [access:141012aa424::rrtGJAd2ae1e]\"}, {\"id_x\": 64, \"status\": \"P\", \"attendanceSessionId\": 3, \"userId\": 69, \"id_y\": 1082, \"activity\": \"Accessed Session 5 - Assets from Intro to Game Dev with Unity repo [access:141012aa424::rrtGJAd2ae1e]\"}, {\"id_x\": 64, \"status\": \"P\", \"attendanceSessionId\": 3, \"userId\": 69, \"id_y\": 1107, \"activity\": \"Logged in\"}, {\"id_x\": 64, \"status\": \"P\", \"attendanceSessionId\": 3, \"userId\": 69, \"id_y\": 1108, \"activity\": \"Accessed Session 6 - Starter Files from Intro to Game Dev with Unity repo [access:4ff849da461::rrtGJAd2ae1e]\"}, {\"id_x\": 64, \"status\": \"P\", \"attendanceSessionId\": 3, \"userId\": 69, \"id_y\": 1164, \"activity\": \"Logged in\"}, {\"id_x\": 64, \"status\": \"P\", \"attendanceSessionId\": 3, \"userId\": 69, \"id_y\": 1165, \"activity\": \"Accessed Session 7 - Starter Files from Intro to Game Dev with Unity repo [access:0274231c583::rrtGJAd2ae1e]\"}, {\"id_x\": 64, \"status\": \"P\", \"attendanceSessionId\": 3, \"userId\": 69, \"id_y\": 1208, \"activity\": \"Logged in\"}, {\"id_x\": 64, \"status\": \"P\", \"attendanceSessionId\": 3, \"userId\": 69, \"id_y\": 1209, \"activity\": \"Accessed Session 8 - Starter Files from Intro to Game Dev with Unity repo [access:1d14e303b59::rrtGJAd2ae1e]\"}, {\"id_x\": 64, \"status\": \"P\", \"attendanceSessionId\": 3, \"userId\": 69, \"id_y\": 1230, \"activity\": \"Logged in\"}, {\"id_x\": 64, \"status\": \"P\", \"attendanceSessionId\": 3, \"userId\": 69, \"id_y\": 1231, \"activity\": \"Accessed Session 8 - Starter Files from Intro to Game Dev with Unity repo [access:1d14e303b59::rrtGJAd2ae1e]\"}, {\"id_x\": 64, \"status\": \"P\", \"attendanceSessionId\": 3, \"userId\": 69, \"id_y\": 1278, \"activity\": \"Logged in\"}, {\"id_x\": 75, \"status\": \"P\", \"attendanceSessionId\": 4, \"userId\": 69, \"id_y\": 1070, \"activity\": \"Logged in\"}, {\"id_x\": 75, \"status\": \"P\", \"attendanceSessionId\": 4, \"userId\": 69, \"id_y\": 1071, \"activity\": \"Accessed Session 5 - Starter Files from Intro to Game Dev with Unity repo [access:3aadbfd9eca::rrtGJAd2ae1e]\"}, {\"id_x\": 75, \"status\": \"P\", \"attendanceSessionId\": 4, \"userId\": 69, \"id_y\": 1072, \"activity\": \"Accessed Session 5 - Assets from Intro to Game Dev with Unity repo [access:141012aa424::rrtGJAd2ae1e]\"}, {\"id_x\": 75, \"status\": \"P\", \"attendanceSessionId\": 4, \"userId\": 69, \"id_y\": 1082, \"activity\": \"Accessed Session 5 - Assets from Intro to Game Dev with Unity repo [access:141012aa424::rrtGJAd2ae1e]\"}, {\"id_x\": 75, \"status\": \"P\", \"attendanceSessionId\": 4, \"userId\": 69, \"id_y\": 1107, \"activity\": \"Logged in\"}, {\"id_x\": 75, \"status\": \"P\", \"attendanceSessionId\": 4, \"userId\": 69, \"id_y\": 1108, \"activity\": \"Accessed Session 6 - Starter Files from Intro to Game Dev with Unity repo [access:4ff849da461::rrtGJAd2ae1e]\"}, {\"id_x\": 75, \"status\": \"P\", \"attendanceSessionId\": 4, \"userId\": 69, \"id_y\": 1164, \"activity\": \"Logged in\"}, {\"id_x\": 75, \"status\": \"P\", \"attendanceSessionId\": 4, \"userId\": 69, \"id_y\": 1165, \"activity\": \"Accessed Session 7 - Starter Files from Intro to Game Dev with Unity repo [access:0274231c583::rrtGJAd2ae1e]\"}, {\"id_x\": 75, \"status\": \"P\", \"attendanceSessionId\": 4, \"userId\": 69, \"id_y\": 1208, \"activity\": \"Logged in\"}, {\"id_x\": 75, \"status\": \"P\", \"attendanceSessionId\": 4, \"userId\": 69, \"id_y\": 1209, \"activity\": \"Accessed Session 8 - Starter Files from Intro to Game Dev with Unity repo [access:1d14e303b59::rrtGJAd2ae1e]\"}, {\"id_x\": 75, \"status\": \"P\", \"attendanceSessionId\": 4, \"userId\": 69, \"id_y\": 1230, \"activity\": \"Logged in\"}, {\"id_x\": 75, \"status\": \"P\", \"attendanceSessionId\": 4, \"userId\": 69, \"id_y\": 1231, \"activity\": \"Accessed Session 8 - Starter Files from Intro to Game Dev with Unity repo [access:1d14e303b59::rrtGJAd2ae1e]\"}, {\"id_x\": 75, \"status\": \"P\", \"attendanceSessionId\": 4, \"userId\": 69, \"id_y\": 1278, \"activity\": \"Logged in\"}, {\"id_x\": 87, \"status\": \"P\", \"attendanceSessionId\": 5, \"userId\": 69, \"id_y\": 1070, \"activity\": \"Logged in\"}, {\"id_x\": 87, \"status\": \"P\", \"attendanceSessionId\": 5, \"userId\": 69, \"id_y\": 1071, \"activity\": \"Accessed Session 5 - Starter Files from Intro to Game Dev with Unity repo [access:3aadbfd9eca::rrtGJAd2ae1e]\"}, {\"id_x\": 87, \"status\": \"P\", \"attendanceSessionId\": 5, \"userId\": 69, \"id_y\": 1072, \"activity\": \"Accessed Session 5 - Assets from Intro to Game Dev with Unity repo [access:141012aa424::rrtGJAd2ae1e]\"}, {\"id_x\": 87, \"status\": \"P\", \"attendanceSessionId\": 5, \"userId\": 69, \"id_y\": 1082, \"activity\": \"Accessed Session 5 - Assets from Intro to Game Dev with Unity repo [access:141012aa424::rrtGJAd2ae1e]\"}, {\"id_x\": 87, \"status\": \"P\", \"attendanceSessionId\": 5, \"userId\": 69, \"id_y\": 1107, \"activity\": \"Logged in\"}, {\"id_x\": 87, \"status\": \"P\", \"attendanceSessionId\": 5, \"userId\": 69, \"id_y\": 1108, \"activity\": \"Accessed Session 6 - Starter Files from Intro to Game Dev with Unity repo [access:4ff849da461::rrtGJAd2ae1e]\"}, {\"id_x\": 87, \"status\": \"P\", \"attendanceSessionId\": 5, \"userId\": 69, \"id_y\": 1164, \"activity\": \"Logged in\"}, {\"id_x\": 87, \"status\": \"P\", \"attendanceSessionId\": 5, \"userId\": 69, \"id_y\": 1165, \"activity\": \"Accessed Session 7 - Starter Files from Intro to Game Dev with Unity repo [access:0274231c583::rrtGJAd2ae1e]\"}, {\"id_x\": 87, \"status\": \"P\", \"attendanceSessionId\": 5, \"userId\": 69, \"id_y\": 1208, \"activity\": \"Logged in\"}, {\"id_x\": 87, \"status\": \"P\", \"attendanceSessionId\": 5, \"userId\": 69, \"id_y\": 1209, \"activity\": \"Accessed Session 8 - Starter Files from Intro to Game Dev with Unity repo [access:1d14e303b59::rrtGJAd2ae1e]\"}, {\"id_x\": 87, \"status\": \"P\", \"attendanceSessionId\": 5, \"userId\": 69, \"id_y\": 1230, \"activity\": \"Logged in\"}, {\"id_x\": 87, \"status\": \"P\", \"attendanceSessionId\": 5, \"userId\": 69, \"id_y\": 1231, \"activity\": \"Accessed Session 8 - Starter Files from Intro to Game Dev with Unity repo [access:1d14e303b59::rrtGJAd2ae1e]\"}, {\"id_x\": 87, \"status\": \"P\", \"attendanceSessionId\": 5, \"userId\": 69, \"id_y\": 1278, \"activity\": \"Logged in\"}, {\"id_x\": 99, \"status\": \"P\", \"attendanceSessionId\": 6, \"userId\": 69, \"id_y\": 1070, \"activity\": \"Logged in\"}, {\"id_x\": 99, \"status\": \"P\", \"attendanceSessionId\": 6, \"userId\": 69, \"id_y\": 1071, \"activity\": \"Accessed Session 5 - Starter Files from Intro to Game Dev with Unity repo [access:3aadbfd9eca::rrtGJAd2ae1e]\"}, {\"id_x\": 99, \"status\": \"P\", \"attendanceSessionId\": 6, \"userId\": 69, \"id_y\": 1072, \"activity\": \"Accessed Session 5 - Assets from Intro to Game Dev with Unity repo [access:141012aa424::rrtGJAd2ae1e]\"}, {\"id_x\": 99, \"status\": \"P\", \"attendanceSessionId\": 6, \"userId\": 69, \"id_y\": 1082, \"activity\": \"Accessed Session 5 - Assets from Intro to Game Dev with Unity repo [access:141012aa424::rrtGJAd2ae1e]\"}, {\"id_x\": 99, \"status\": \"P\", \"attendanceSessionId\": 6, \"userId\": 69, \"id_y\": 1107, \"activity\": \"Logged in\"}, {\"id_x\": 99, \"status\": \"P\", \"attendanceSessionId\": 6, \"userId\": 69, \"id_y\": 1108, \"activity\": \"Accessed Session 6 - Starter Files from Intro to Game Dev with Unity repo [access:4ff849da461::rrtGJAd2ae1e]\"}, {\"id_x\": 99, \"status\": \"P\", \"attendanceSessionId\": 6, \"userId\": 69, \"id_y\": 1164, \"activity\": \"Logged in\"}, {\"id_x\": 99, \"status\": \"P\", \"attendanceSessionId\": 6, \"userId\": 69, \"id_y\": 1165, \"activity\": \"Accessed Session 7 - Starter Files from Intro to Game Dev with Unity repo [access:0274231c583::rrtGJAd2ae1e]\"}, {\"id_x\": 99, \"status\": \"P\", \"attendanceSessionId\": 6, \"userId\": 69, \"id_y\": 1208, \"activity\": \"Logged in\"}, {\"id_x\": 99, \"status\": \"P\", \"attendanceSessionId\": 6, \"userId\": 69, \"id_y\": 1209, \"activity\": \"Accessed Session 8 - Starter Files from Intro to Game Dev with Unity repo [access:1d14e303b59::rrtGJAd2ae1e]\"}, {\"id_x\": 99, \"status\": \"P\", \"attendanceSessionId\": 6, \"userId\": 69, \"id_y\": 1230, \"activity\": \"Logged in\"}, {\"id_x\": 99, \"status\": \"P\", \"attendanceSessionId\": 6, \"userId\": 69, \"id_y\": 1231, \"activity\": \"Accessed Session 8 - Starter Files from Intro to Game Dev with Unity repo [access:1d14e303b59::rrtGJAd2ae1e]\"}, {\"id_x\": 99, \"status\": \"P\", \"attendanceSessionId\": 6, \"userId\": 69, \"id_y\": 1278, \"activity\": \"Logged in\"}, {\"id_x\": 106, \"status\": \"P\", \"attendanceSessionId\": 7, \"userId\": 69, \"id_y\": 1070, \"activity\": \"Logged in\"}, {\"id_x\": 106, \"status\": \"P\", \"attendanceSessionId\": 7, \"userId\": 69, \"id_y\": 1071, \"activity\": \"Accessed Session 5 - Starter Files from Intro to Game Dev with Unity repo [access:3aadbfd9eca::rrtGJAd2ae1e]\"}, {\"id_x\": 106, \"status\": \"P\", \"attendanceSessionId\": 7, \"userId\": 69, \"id_y\": 1072, \"activity\": \"Accessed Session 5 - Assets from Intro to Game Dev with Unity repo [access:141012aa424::rrtGJAd2ae1e]\"}, {\"id_x\": 106, \"status\": \"P\", \"attendanceSessionId\": 7, \"userId\": 69, \"id_y\": 1082, \"activity\": \"Accessed Session 5 - Assets from Intro to Game Dev with Unity repo [access:141012aa424::rrtGJAd2ae1e]\"}, {\"id_x\": 106, \"status\": \"P\", \"attendanceSessionId\": 7, \"userId\": 69, \"id_y\": 1107, \"activity\": \"Logged in\"}, {\"id_x\": 106, \"status\": \"P\", \"attendanceSessionId\": 7, \"userId\": 69, \"id_y\": 1108, \"activity\": \"Accessed Session 6 - Starter Files from Intro to Game Dev with Unity repo [access:4ff849da461::rrtGJAd2ae1e]\"}, {\"id_x\": 106, \"status\": \"P\", \"attendanceSessionId\": 7, \"userId\": 69, \"id_y\": 1164, \"activity\": \"Logged in\"}, {\"id_x\": 106, \"status\": \"P\", \"attendanceSessionId\": 7, \"userId\": 69, \"id_y\": 1165, \"activity\": \"Accessed Session 7 - Starter Files from Intro to Game Dev with Unity repo [access:0274231c583::rrtGJAd2ae1e]\"}, {\"id_x\": 106, \"status\": \"P\", \"attendanceSessionId\": 7, \"userId\": 69, \"id_y\": 1208, \"activity\": \"Logged in\"}, {\"id_x\": 106, \"status\": \"P\", \"attendanceSessionId\": 7, \"userId\": 69, \"id_y\": 1209, \"activity\": \"Accessed Session 8 - Starter Files from Intro to Game Dev with Unity repo [access:1d14e303b59::rrtGJAd2ae1e]\"}, {\"id_x\": 106, \"status\": \"P\", \"attendanceSessionId\": 7, \"userId\": 69, \"id_y\": 1230, \"activity\": \"Logged in\"}, {\"id_x\": 106, \"status\": \"P\", \"attendanceSessionId\": 7, \"userId\": 69, \"id_y\": 1231, \"activity\": \"Accessed Session 8 - Starter Files from Intro to Game Dev with Unity repo [access:1d14e303b59::rrtGJAd2ae1e]\"}, {\"id_x\": 106, \"status\": \"P\", \"attendanceSessionId\": 7, \"userId\": 69, \"id_y\": 1278, \"activity\": \"Logged in\"}, {\"id_x\": 115, \"status\": \"P\", \"attendanceSessionId\": 8, \"userId\": 69, \"id_y\": 1070, \"activity\": \"Logged in\"}, {\"id_x\": 115, \"status\": \"P\", \"attendanceSessionId\": 8, \"userId\": 69, \"id_y\": 1071, \"activity\": \"Accessed Session 5 - Starter Files from Intro to Game Dev with Unity repo [access:3aadbfd9eca::rrtGJAd2ae1e]\"}, {\"id_x\": 115, \"status\": \"P\", \"attendanceSessionId\": 8, \"userId\": 69, \"id_y\": 1072, \"activity\": \"Accessed Session 5 - Assets from Intro to Game Dev with Unity repo [access:141012aa424::rrtGJAd2ae1e]\"}, {\"id_x\": 115, \"status\": \"P\", \"attendanceSessionId\": 8, \"userId\": 69, \"id_y\": 1082, \"activity\": \"Accessed Session 5 - Assets from Intro to Game Dev with Unity repo [access:141012aa424::rrtGJAd2ae1e]\"}, {\"id_x\": 115, \"status\": \"P\", \"attendanceSessionId\": 8, \"userId\": 69, \"id_y\": 1107, \"activity\": \"Logged in\"}, {\"id_x\": 115, \"status\": \"P\", \"attendanceSessionId\": 8, \"userId\": 69, \"id_y\": 1108, \"activity\": \"Accessed Session 6 - Starter Files from Intro to Game Dev with Unity repo [access:4ff849da461::rrtGJAd2ae1e]\"}, {\"id_x\": 115, \"status\": \"P\", \"attendanceSessionId\": 8, \"userId\": 69, \"id_y\": 1164, \"activity\": \"Logged in\"}, {\"id_x\": 115, \"status\": \"P\", \"attendanceSessionId\": 8, \"userId\": 69, \"id_y\": 1165, \"activity\": \"Accessed Session 7 - Starter Files from Intro to Game Dev with Unity repo [access:0274231c583::rrtGJAd2ae1e]\"}, {\"id_x\": 115, \"status\": \"P\", \"attendanceSessionId\": 8, \"userId\": 69, \"id_y\": 1208, \"activity\": \"Logged in\"}, {\"id_x\": 115, \"status\": \"P\", \"attendanceSessionId\": 8, \"userId\": 69, \"id_y\": 1209, \"activity\": \"Accessed Session 8 - Starter Files from Intro to Game Dev with Unity repo [access:1d14e303b59::rrtGJAd2ae1e]\"}, {\"id_x\": 115, \"status\": \"P\", \"attendanceSessionId\": 8, \"userId\": 69, \"id_y\": 1230, \"activity\": \"Logged in\"}, {\"id_x\": 115, \"status\": \"P\", \"attendanceSessionId\": 8, \"userId\": 69, \"id_y\": 1231, \"activity\": \"Accessed Session 8 - Starter Files from Intro to Game Dev with Unity repo [access:1d14e303b59::rrtGJAd2ae1e]\"}, {\"id_x\": 115, \"status\": \"P\", \"attendanceSessionId\": 8, \"userId\": 69, \"id_y\": 1278, \"activity\": \"Logged in\"}, {\"id_x\": 140, \"status\": \"P\", \"attendanceSessionId\": 9, \"userId\": 69, \"id_y\": 1070, \"activity\": \"Logged in\"}, {\"id_x\": 140, \"status\": \"P\", \"attendanceSessionId\": 9, \"userId\": 69, \"id_y\": 1071, \"activity\": \"Accessed Session 5 - Starter Files from Intro to Game Dev with Unity repo [access:3aadbfd9eca::rrtGJAd2ae1e]\"}, {\"id_x\": 140, \"status\": \"P\", \"attendanceSessionId\": 9, \"userId\": 69, \"id_y\": 1072, \"activity\": \"Accessed Session 5 - Assets from Intro to Game Dev with Unity repo [access:141012aa424::rrtGJAd2ae1e]\"}, {\"id_x\": 140, \"status\": \"P\", \"attendanceSessionId\": 9, \"userId\": 69, \"id_y\": 1082, \"activity\": \"Accessed Session 5 - Assets from Intro to Game Dev with Unity repo [access:141012aa424::rrtGJAd2ae1e]\"}, {\"id_x\": 140, \"status\": \"P\", \"attendanceSessionId\": 9, \"userId\": 69, \"id_y\": 1107, \"activity\": \"Logged in\"}, {\"id_x\": 140, \"status\": \"P\", \"attendanceSessionId\": 9, \"userId\": 69, \"id_y\": 1108, \"activity\": \"Accessed Session 6 - Starter Files from Intro to Game Dev with Unity repo [access:4ff849da461::rrtGJAd2ae1e]\"}, {\"id_x\": 140, \"status\": \"P\", \"attendanceSessionId\": 9, \"userId\": 69, \"id_y\": 1164, \"activity\": \"Logged in\"}, {\"id_x\": 140, \"status\": \"P\", \"attendanceSessionId\": 9, \"userId\": 69, \"id_y\": 1165, \"activity\": \"Accessed Session 7 - Starter Files from Intro to Game Dev with Unity repo [access:0274231c583::rrtGJAd2ae1e]\"}, {\"id_x\": 140, \"status\": \"P\", \"attendanceSessionId\": 9, \"userId\": 69, \"id_y\": 1208, \"activity\": \"Logged in\"}, {\"id_x\": 140, \"status\": \"P\", \"attendanceSessionId\": 9, \"userId\": 69, \"id_y\": 1209, \"activity\": \"Accessed Session 8 - Starter Files from Intro to Game Dev with Unity repo [access:1d14e303b59::rrtGJAd2ae1e]\"}, {\"id_x\": 140, \"status\": \"P\", \"attendanceSessionId\": 9, \"userId\": 69, \"id_y\": 1230, \"activity\": \"Logged in\"}, {\"id_x\": 140, \"status\": \"P\", \"attendanceSessionId\": 9, \"userId\": 69, \"id_y\": 1231, \"activity\": \"Accessed Session 8 - Starter Files from Intro to Game Dev with Unity repo [access:1d14e303b59::rrtGJAd2ae1e]\"}, {\"id_x\": 140, \"status\": \"P\", \"attendanceSessionId\": 9, \"userId\": 69, \"id_y\": 1278, \"activity\": \"Logged in\"}, {\"id_x\": 32, \"status\": \"P\", \"attendanceSessionId\": 1, \"userId\": 85, \"id_y\": 1083, \"activity\": \"Password Reset requested\"}, {\"id_x\": 32, \"status\": \"P\", \"attendanceSessionId\": 1, \"userId\": 85, \"id_y\": 1084, \"activity\": \"Password Reset requested\"}, {\"id_x\": 32, \"status\": \"P\", \"attendanceSessionId\": 1, \"userId\": 85, \"id_y\": 1256, \"activity\": \"Magic link sent\"}, {\"id_x\": 32, \"status\": \"P\", \"attendanceSessionId\": 1, \"userId\": 85, \"id_y\": 1257, \"activity\": \"Password Reset requested\"}, {\"id_x\": 32, \"status\": \"P\", \"attendanceSessionId\": 1, \"userId\": 85, \"id_y\": 1258, \"activity\": \"Magic link sent\"}, {\"id_x\": 32, \"status\": \"P\", \"attendanceSessionId\": 1, \"userId\": 85, \"id_y\": 1260, \"activity\": \"Logged in\"}, {\"id_x\": 32, \"status\": \"P\", \"attendanceSessionId\": 1, \"userId\": 85, \"id_y\": 1261, \"activity\": \"Password expired. Redirecting to update password\"}, {\"id_x\": 32, \"status\": \"P\", \"attendanceSessionId\": 1, \"userId\": 85, \"id_y\": 1262, \"activity\": \"Updated password\"}, {\"id_x\": 32, \"status\": \"P\", \"attendanceSessionId\": 1, \"userId\": 85, \"id_y\": 1263, \"activity\": \"No course selected. Navigating to course selection\"}, {\"id_x\": 32, \"status\": \"P\", \"attendanceSessionId\": 1, \"userId\": 85, \"id_y\": 1264, \"activity\": \"Logged in\"}, {\"id_x\": 42, \"status\": \"P\", \"attendanceSessionId\": 2, \"userId\": 85, \"id_y\": 1083, \"activity\": \"Password Reset requested\"}, {\"id_x\": 42, \"status\": \"P\", \"attendanceSessionId\": 2, \"userId\": 85, \"id_y\": 1084, \"activity\": \"Password Reset requested\"}, {\"id_x\": 42, \"status\": \"P\", \"attendanceSessionId\": 2, \"userId\": 85, \"id_y\": 1256, \"activity\": \"Magic link sent\"}, {\"id_x\": 42, \"status\": \"P\", \"attendanceSessionId\": 2, \"userId\": 85, \"id_y\": 1257, \"activity\": \"Password Reset requested\"}, {\"id_x\": 42, \"status\": \"P\", \"attendanceSessionId\": 2, \"userId\": 85, \"id_y\": 1258, \"activity\": \"Magic link sent\"}, {\"id_x\": 42, \"status\": \"P\", \"attendanceSessionId\": 2, \"userId\": 85, \"id_y\": 1260, \"activity\": \"Logged in\"}, {\"id_x\": 42, \"status\": \"P\", \"attendanceSessionId\": 2, \"userId\": 85, \"id_y\": 1261, \"activity\": \"Password expired. Redirecting to update password\"}, {\"id_x\": 42, \"status\": \"P\", \"attendanceSessionId\": 2, \"userId\": 85, \"id_y\": 1262, \"activity\": \"Updated password\"}, {\"id_x\": 42, \"status\": \"P\", \"attendanceSessionId\": 2, \"userId\": 85, \"id_y\": 1263, \"activity\": \"No course selected. Navigating to course selection\"}, {\"id_x\": 42, \"status\": \"P\", \"attendanceSessionId\": 2, \"userId\": 85, \"id_y\": 1264, \"activity\": \"Logged in\"}, {\"id_x\": 63, \"status\": \"P\", \"attendanceSessionId\": 3, \"userId\": 85, \"id_y\": 1083, \"activity\": \"Password Reset requested\"}, {\"id_x\": 63, \"status\": \"P\", \"attendanceSessionId\": 3, \"userId\": 85, \"id_y\": 1084, \"activity\": \"Password Reset requested\"}, {\"id_x\": 63, \"status\": \"P\", \"attendanceSessionId\": 3, \"userId\": 85, \"id_y\": 1256, \"activity\": \"Magic link sent\"}, {\"id_x\": 63, \"status\": \"P\", \"attendanceSessionId\": 3, \"userId\": 85, \"id_y\": 1257, \"activity\": \"Password Reset requested\"}, {\"id_x\": 63, \"status\": \"P\", \"attendanceSessionId\": 3, \"userId\": 85, \"id_y\": 1258, \"activity\": \"Magic link sent\"}, {\"id_x\": 63, \"status\": \"P\", \"attendanceSessionId\": 3, \"userId\": 85, \"id_y\": 1260, \"activity\": \"Logged in\"}, {\"id_x\": 63, \"status\": \"P\", \"attendanceSessionId\": 3, \"userId\": 85, \"id_y\": 1261, \"activity\": \"Password expired. Redirecting to update password\"}, {\"id_x\": 63, \"status\": \"P\", \"attendanceSessionId\": 3, \"userId\": 85, \"id_y\": 1262, \"activity\": \"Updated password\"}, {\"id_x\": 63, \"status\": \"P\", \"attendanceSessionId\": 3, \"userId\": 85, \"id_y\": 1263, \"activity\": \"No course selected. Navigating to course selection\"}, {\"id_x\": 63, \"status\": \"P\", \"attendanceSessionId\": 3, \"userId\": 85, \"id_y\": 1264, \"activity\": \"Logged in\"}, {\"id_x\": 78, \"status\": \"P\", \"attendanceSessionId\": 4, \"userId\": 85, \"id_y\": 1083, \"activity\": \"Password Reset requested\"}, {\"id_x\": 78, \"status\": \"P\", \"attendanceSessionId\": 4, \"userId\": 85, \"id_y\": 1084, \"activity\": \"Password Reset requested\"}, {\"id_x\": 78, \"status\": \"P\", \"attendanceSessionId\": 4, \"userId\": 85, \"id_y\": 1256, \"activity\": \"Magic link sent\"}, {\"id_x\": 78, \"status\": \"P\", \"attendanceSessionId\": 4, \"userId\": 85, \"id_y\": 1257, \"activity\": \"Password Reset requested\"}, {\"id_x\": 78, \"status\": \"P\", \"attendanceSessionId\": 4, \"userId\": 85, \"id_y\": 1258, \"activity\": \"Magic link sent\"}, {\"id_x\": 78, \"status\": \"P\", \"attendanceSessionId\": 4, \"userId\": 85, \"id_y\": 1260, \"activity\": \"Logged in\"}, {\"id_x\": 78, \"status\": \"P\", \"attendanceSessionId\": 4, \"userId\": 85, \"id_y\": 1261, \"activity\": \"Password expired. Redirecting to update password\"}, {\"id_x\": 78, \"status\": \"P\", \"attendanceSessionId\": 4, \"userId\": 85, \"id_y\": 1262, \"activity\": \"Updated password\"}, {\"id_x\": 78, \"status\": \"P\", \"attendanceSessionId\": 4, \"userId\": 85, \"id_y\": 1263, \"activity\": \"No course selected. Navigating to course selection\"}, {\"id_x\": 78, \"status\": \"P\", \"attendanceSessionId\": 4, \"userId\": 85, \"id_y\": 1264, \"activity\": \"Logged in\"}, {\"id_x\": 88, \"status\": \"P\", \"attendanceSessionId\": 5, \"userId\": 85, \"id_y\": 1083, \"activity\": \"Password Reset requested\"}, {\"id_x\": 88, \"status\": \"P\", \"attendanceSessionId\": 5, \"userId\": 85, \"id_y\": 1084, \"activity\": \"Password Reset requested\"}, {\"id_x\": 88, \"status\": \"P\", \"attendanceSessionId\": 5, \"userId\": 85, \"id_y\": 1256, \"activity\": \"Magic link sent\"}, {\"id_x\": 88, \"status\": \"P\", \"attendanceSessionId\": 5, \"userId\": 85, \"id_y\": 1257, \"activity\": \"Password Reset requested\"}, {\"id_x\": 88, \"status\": \"P\", \"attendanceSessionId\": 5, \"userId\": 85, \"id_y\": 1258, \"activity\": \"Magic link sent\"}, {\"id_x\": 88, \"status\": \"P\", \"attendanceSessionId\": 5, \"userId\": 85, \"id_y\": 1260, \"activity\": \"Logged in\"}, {\"id_x\": 88, \"status\": \"P\", \"attendanceSessionId\": 5, \"userId\": 85, \"id_y\": 1261, \"activity\": \"Password expired. Redirecting to update password\"}, {\"id_x\": 88, \"status\": \"P\", \"attendanceSessionId\": 5, \"userId\": 85, \"id_y\": 1262, \"activity\": \"Updated password\"}, {\"id_x\": 88, \"status\": \"P\", \"attendanceSessionId\": 5, \"userId\": 85, \"id_y\": 1263, \"activity\": \"No course selected. Navigating to course selection\"}, {\"id_x\": 88, \"status\": \"P\", \"attendanceSessionId\": 5, \"userId\": 85, \"id_y\": 1264, \"activity\": \"Logged in\"}, {\"id_x\": 96, \"status\": \"P\", \"attendanceSessionId\": 6, \"userId\": 85, \"id_y\": 1083, \"activity\": \"Password Reset requested\"}, {\"id_x\": 96, \"status\": \"P\", \"attendanceSessionId\": 6, \"userId\": 85, \"id_y\": 1084, \"activity\": \"Password Reset requested\"}, {\"id_x\": 96, \"status\": \"P\", \"attendanceSessionId\": 6, \"userId\": 85, \"id_y\": 1256, \"activity\": \"Magic link sent\"}, {\"id_x\": 96, \"status\": \"P\", \"attendanceSessionId\": 6, \"userId\": 85, \"id_y\": 1257, \"activity\": \"Password Reset requested\"}, {\"id_x\": 96, \"status\": \"P\", \"attendanceSessionId\": 6, \"userId\": 85, \"id_y\": 1258, \"activity\": \"Magic link sent\"}, {\"id_x\": 96, \"status\": \"P\", \"attendanceSessionId\": 6, \"userId\": 85, \"id_y\": 1260, \"activity\": \"Logged in\"}, {\"id_x\": 96, \"status\": \"P\", \"attendanceSessionId\": 6, \"userId\": 85, \"id_y\": 1261, \"activity\": \"Password expired. Redirecting to update password\"}, {\"id_x\": 96, \"status\": \"P\", \"attendanceSessionId\": 6, \"userId\": 85, \"id_y\": 1262, \"activity\": \"Updated password\"}, {\"id_x\": 96, \"status\": \"P\", \"attendanceSessionId\": 6, \"userId\": 85, \"id_y\": 1263, \"activity\": \"No course selected. Navigating to course selection\"}, {\"id_x\": 96, \"status\": \"P\", \"attendanceSessionId\": 6, \"userId\": 85, \"id_y\": 1264, \"activity\": \"Logged in\"}, {\"id_x\": 107, \"status\": \"P\", \"attendanceSessionId\": 7, \"userId\": 85, \"id_y\": 1083, \"activity\": \"Password Reset requested\"}, {\"id_x\": 107, \"status\": \"P\", \"attendanceSessionId\": 7, \"userId\": 85, \"id_y\": 1084, \"activity\": \"Password Reset requested\"}, {\"id_x\": 107, \"status\": \"P\", \"attendanceSessionId\": 7, \"userId\": 85, \"id_y\": 1256, \"activity\": \"Magic link sent\"}, {\"id_x\": 107, \"status\": \"P\", \"attendanceSessionId\": 7, \"userId\": 85, \"id_y\": 1257, \"activity\": \"Password Reset requested\"}, {\"id_x\": 107, \"status\": \"P\", \"attendanceSessionId\": 7, \"userId\": 85, \"id_y\": 1258, \"activity\": \"Magic link sent\"}, {\"id_x\": 107, \"status\": \"P\", \"attendanceSessionId\": 7, \"userId\": 85, \"id_y\": 1260, \"activity\": \"Logged in\"}, {\"id_x\": 107, \"status\": \"P\", \"attendanceSessionId\": 7, \"userId\": 85, \"id_y\": 1261, \"activity\": \"Password expired. Redirecting to update password\"}, {\"id_x\": 107, \"status\": \"P\", \"attendanceSessionId\": 7, \"userId\": 85, \"id_y\": 1262, \"activity\": \"Updated password\"}, {\"id_x\": 107, \"status\": \"P\", \"attendanceSessionId\": 7, \"userId\": 85, \"id_y\": 1263, \"activity\": \"No course selected. Navigating to course selection\"}, {\"id_x\": 107, \"status\": \"P\", \"attendanceSessionId\": 7, \"userId\": 85, \"id_y\": 1264, \"activity\": \"Logged in\"}, {\"id_x\": 116, \"status\": \"P\", \"attendanceSessionId\": 8, \"userId\": 85, \"id_y\": 1083, \"activity\": \"Password Reset requested\"}, {\"id_x\": 116, \"status\": \"P\", \"attendanceSessionId\": 8, \"userId\": 85, \"id_y\": 1084, \"activity\": \"Password Reset requested\"}, {\"id_x\": 116, \"status\": \"P\", \"attendanceSessionId\": 8, \"userId\": 85, \"id_y\": 1256, \"activity\": \"Magic link sent\"}, {\"id_x\": 116, \"status\": \"P\", \"attendanceSessionId\": 8, \"userId\": 85, \"id_y\": 1257, \"activity\": \"Password Reset requested\"}, {\"id_x\": 116, \"status\": \"P\", \"attendanceSessionId\": 8, \"userId\": 85, \"id_y\": 1258, \"activity\": \"Magic link sent\"}, {\"id_x\": 116, \"status\": \"P\", \"attendanceSessionId\": 8, \"userId\": 85, \"id_y\": 1260, \"activity\": \"Logged in\"}, {\"id_x\": 116, \"status\": \"P\", \"attendanceSessionId\": 8, \"userId\": 85, \"id_y\": 1261, \"activity\": \"Password expired. Redirecting to update password\"}, {\"id_x\": 116, \"status\": \"P\", \"attendanceSessionId\": 8, \"userId\": 85, \"id_y\": 1262, \"activity\": \"Updated password\"}, {\"id_x\": 116, \"status\": \"P\", \"attendanceSessionId\": 8, \"userId\": 85, \"id_y\": 1263, \"activity\": \"No course selected. Navigating to course selection\"}, {\"id_x\": 116, \"status\": \"P\", \"attendanceSessionId\": 8, \"userId\": 85, \"id_y\": 1264, \"activity\": \"Logged in\"}, {\"id_x\": 142, \"status\": \"P\", \"attendanceSessionId\": 9, \"userId\": 85, \"id_y\": 1083, \"activity\": \"Password Reset requested\"}, {\"id_x\": 142, \"status\": \"P\", \"attendanceSessionId\": 9, \"userId\": 85, \"id_y\": 1084, \"activity\": \"Password Reset requested\"}, {\"id_x\": 142, \"status\": \"P\", \"attendanceSessionId\": 9, \"userId\": 85, \"id_y\": 1256, \"activity\": \"Magic link sent\"}, {\"id_x\": 142, \"status\": \"P\", \"attendanceSessionId\": 9, \"userId\": 85, \"id_y\": 1257, \"activity\": \"Password Reset requested\"}, {\"id_x\": 142, \"status\": \"P\", \"attendanceSessionId\": 9, \"userId\": 85, \"id_y\": 1258, \"activity\": \"Magic link sent\"}, {\"id_x\": 142, \"status\": \"P\", \"attendanceSessionId\": 9, \"userId\": 85, \"id_y\": 1260, \"activity\": \"Logged in\"}, {\"id_x\": 142, \"status\": \"P\", \"attendanceSessionId\": 9, \"userId\": 85, \"id_y\": 1261, \"activity\": \"Password expired. Redirecting to update password\"}, {\"id_x\": 142, \"status\": \"P\", \"attendanceSessionId\": 9, \"userId\": 85, \"id_y\": 1262, \"activity\": \"Updated password\"}, {\"id_x\": 142, \"status\": \"P\", \"attendanceSessionId\": 9, \"userId\": 85, \"id_y\": 1263, \"activity\": \"No course selected. Navigating to course selection\"}, {\"id_x\": 142, \"status\": \"P\", \"attendanceSessionId\": 9, \"userId\": 85, \"id_y\": 1264, \"activity\": \"Logged in\"}, {\"id_x\": 33, \"status\": \"I\", \"attendanceSessionId\": 1, \"userId\": 86, \"id_y\": 1254, \"activity\": \"Logged in\"}, {\"id_x\": 33, \"status\": \"I\", \"attendanceSessionId\": 1, \"userId\": 86, \"id_y\": 1255, \"activity\": \"Accessed Session 1 Recap from Intro to Game Dev with Unity repo [access:286e1a92d35::rrtGJAd2ae1e]\"}, {\"id_x\": 48, \"status\": \"A\", \"attendanceSessionId\": 2, \"userId\": 86, \"id_y\": 1254, \"activity\": \"Logged in\"}, {\"id_x\": 48, \"status\": \"A\", \"attendanceSessionId\": 2, \"userId\": 86, \"id_y\": 1255, \"activity\": \"Accessed Session 1 Recap from Intro to Game Dev with Unity repo [access:286e1a92d35::rrtGJAd2ae1e]\"}, {\"id_x\": 69, \"status\": \"A\", \"attendanceSessionId\": 3, \"userId\": 86, \"id_y\": 1254, \"activity\": \"Logged in\"}, {\"id_x\": 69, \"status\": \"A\", \"attendanceSessionId\": 3, \"userId\": 86, \"id_y\": 1255, \"activity\": \"Accessed Session 1 Recap from Intro to Game Dev with Unity repo [access:286e1a92d35::rrtGJAd2ae1e]\"}, {\"id_x\": 79, \"status\": \"A\", \"attendanceSessionId\": 4, \"userId\": 86, \"id_y\": 1254, \"activity\": \"Logged in\"}, {\"id_x\": 79, \"status\": \"A\", \"attendanceSessionId\": 4, \"userId\": 86, \"id_y\": 1255, \"activity\": \"Accessed Session 1 Recap from Intro to Game Dev with Unity repo [access:286e1a92d35::rrtGJAd2ae1e]\"}, {\"id_x\": 123, \"status\": \"A\", \"attendanceSessionId\": 8, \"userId\": 86, \"id_y\": 1254, \"activity\": \"Logged in\"}, {\"id_x\": 123, \"status\": \"A\", \"attendanceSessionId\": 8, \"userId\": 86, \"id_y\": 1255, \"activity\": \"Accessed Session 1 Recap from Intro to Game Dev with Unity repo [access:286e1a92d35::rrtGJAd2ae1e]\"}, {\"id_x\": 128, \"status\": \"A\", \"attendanceSessionId\": 7, \"userId\": 86, \"id_y\": 1254, \"activity\": \"Logged in\"}, {\"id_x\": 128, \"status\": \"A\", \"attendanceSessionId\": 7, \"userId\": 86, \"id_y\": 1255, \"activity\": \"Accessed Session 1 Recap from Intro to Game Dev with Unity repo [access:286e1a92d35::rrtGJAd2ae1e]\"}, {\"id_x\": 132, \"status\": \"A\", \"attendanceSessionId\": 6, \"userId\": 86, \"id_y\": 1254, \"activity\": \"Logged in\"}, {\"id_x\": 132, \"status\": \"A\", \"attendanceSessionId\": 6, \"userId\": 86, \"id_y\": 1255, \"activity\": \"Accessed Session 1 Recap from Intro to Game Dev with Unity repo [access:286e1a92d35::rrtGJAd2ae1e]\"}, {\"id_x\": 136, \"status\": \"A\", \"attendanceSessionId\": 5, \"userId\": 86, \"id_y\": 1254, \"activity\": \"Logged in\"}, {\"id_x\": 136, \"status\": \"A\", \"attendanceSessionId\": 5, \"userId\": 86, \"id_y\": 1255, \"activity\": \"Accessed Session 1 Recap from Intro to Game Dev with Unity repo [access:286e1a92d35::rrtGJAd2ae1e]\"}, {\"id_x\": 144, \"status\": \"A\", \"attendanceSessionId\": 9, \"userId\": 86, \"id_y\": 1254, \"activity\": \"Logged in\"}, {\"id_x\": 144, \"status\": \"A\", \"attendanceSessionId\": 9, \"userId\": 86, \"id_y\": 1255, \"activity\": \"Accessed Session 1 Recap from Intro to Game Dev with Unity repo [access:286e1a92d35::rrtGJAd2ae1e]\"}, {\"id_x\": 36, \"status\": \"P\", \"attendanceSessionId\": 1, \"userId\": 91, \"id_y\": 1074, \"activity\": \"Logged in\"}, {\"id_x\": 36, \"status\": \"P\", \"attendanceSessionId\": 1, \"userId\": 91, \"id_y\": 1076, \"activity\": \"Accessed Session 5 - Assets from Intro to Game Dev with Unity repo [access:141012aa424::rrtGJAd2ae1e]\"}, {\"id_x\": 36, \"status\": \"P\", \"attendanceSessionId\": 1, \"userId\": 91, \"id_y\": 1078, \"activity\": \"Accessed Session 5 - Starter Files from Intro to Game Dev with Unity repo [access:3aadbfd9eca::rrtGJAd2ae1e]\"}, {\"id_x\": 36, \"status\": \"P\", \"attendanceSessionId\": 1, \"userId\": 91, \"id_y\": 1087, \"activity\": \"Accessed Session 5 - Starter Files from Intro to Game Dev with Unity repo [access:3aadbfd9eca::rrtGJAd2ae1e]\"}, {\"id_x\": 40, \"status\": \"P\", \"attendanceSessionId\": 2, \"userId\": 91, \"id_y\": 1074, \"activity\": \"Logged in\"}, {\"id_x\": 40, \"status\": \"P\", \"attendanceSessionId\": 2, \"userId\": 91, \"id_y\": 1076, \"activity\": \"Accessed Session 5 - Assets from Intro to Game Dev with Unity repo [access:141012aa424::rrtGJAd2ae1e]\"}, {\"id_x\": 40, \"status\": \"P\", \"attendanceSessionId\": 2, \"userId\": 91, \"id_y\": 1078, \"activity\": \"Accessed Session 5 - Starter Files from Intro to Game Dev with Unity repo [access:3aadbfd9eca::rrtGJAd2ae1e]\"}, {\"id_x\": 40, \"status\": \"P\", \"attendanceSessionId\": 2, \"userId\": 91, \"id_y\": 1087, \"activity\": \"Accessed Session 5 - Starter Files from Intro to Game Dev with Unity repo [access:3aadbfd9eca::rrtGJAd2ae1e]\"}, {\"id_x\": 65, \"status\": \"P\", \"attendanceSessionId\": 3, \"userId\": 91, \"id_y\": 1074, \"activity\": \"Logged in\"}, {\"id_x\": 65, \"status\": \"P\", \"attendanceSessionId\": 3, \"userId\": 91, \"id_y\": 1076, \"activity\": \"Accessed Session 5 - Assets from Intro to Game Dev with Unity repo [access:141012aa424::rrtGJAd2ae1e]\"}, {\"id_x\": 65, \"status\": \"P\", \"attendanceSessionId\": 3, \"userId\": 91, \"id_y\": 1078, \"activity\": \"Accessed Session 5 - Starter Files from Intro to Game Dev with Unity repo [access:3aadbfd9eca::rrtGJAd2ae1e]\"}, {\"id_x\": 65, \"status\": \"P\", \"attendanceSessionId\": 3, \"userId\": 91, \"id_y\": 1087, \"activity\": \"Accessed Session 5 - Starter Files from Intro to Game Dev with Unity repo [access:3aadbfd9eca::rrtGJAd2ae1e]\"}, {\"id_x\": 81, \"status\": \"P\", \"attendanceSessionId\": 4, \"userId\": 91, \"id_y\": 1074, \"activity\": \"Logged in\"}, {\"id_x\": 81, \"status\": \"P\", \"attendanceSessionId\": 4, \"userId\": 91, \"id_y\": 1076, \"activity\": \"Accessed Session 5 - Assets from Intro to Game Dev with Unity repo [access:141012aa424::rrtGJAd2ae1e]\"}, {\"id_x\": 81, \"status\": \"P\", \"attendanceSessionId\": 4, \"userId\": 91, \"id_y\": 1078, \"activity\": \"Accessed Session 5 - Starter Files from Intro to Game Dev with Unity repo [access:3aadbfd9eca::rrtGJAd2ae1e]\"}, {\"id_x\": 81, \"status\": \"P\", \"attendanceSessionId\": 4, \"userId\": 91, \"id_y\": 1087, \"activity\": \"Accessed Session 5 - Starter Files from Intro to Game Dev with Unity repo [access:3aadbfd9eca::rrtGJAd2ae1e]\"}, {\"id_x\": 90, \"status\": \"P\", \"attendanceSessionId\": 5, \"userId\": 91, \"id_y\": 1074, \"activity\": \"Logged in\"}, {\"id_x\": 90, \"status\": \"P\", \"attendanceSessionId\": 5, \"userId\": 91, \"id_y\": 1076, \"activity\": \"Accessed Session 5 - Assets from Intro to Game Dev with Unity repo [access:141012aa424::rrtGJAd2ae1e]\"}, {\"id_x\": 90, \"status\": \"P\", \"attendanceSessionId\": 5, \"userId\": 91, \"id_y\": 1078, \"activity\": \"Accessed Session 5 - Starter Files from Intro to Game Dev with Unity repo [access:3aadbfd9eca::rrtGJAd2ae1e]\"}, {\"id_x\": 90, \"status\": \"P\", \"attendanceSessionId\": 5, \"userId\": 91, \"id_y\": 1087, \"activity\": \"Accessed Session 5 - Starter Files from Intro to Game Dev with Unity repo [access:3aadbfd9eca::rrtGJAd2ae1e]\"}, {\"id_x\": 101, \"status\": \"A\", \"attendanceSessionId\": 6, \"userId\": 91, \"id_y\": 1074, \"activity\": \"Logged in\"}, {\"id_x\": 101, \"status\": \"A\", \"attendanceSessionId\": 6, \"userId\": 91, \"id_y\": 1076, \"activity\": \"Accessed Session 5 - Assets from Intro to Game Dev with Unity repo [access:141012aa424::rrtGJAd2ae1e]\"}, {\"id_x\": 101, \"status\": \"A\", \"attendanceSessionId\": 6, \"userId\": 91, \"id_y\": 1078, \"activity\": \"Accessed Session 5 - Starter Files from Intro to Game Dev with Unity repo [access:3aadbfd9eca::rrtGJAd2ae1e]\"}, {\"id_x\": 101, \"status\": \"A\", \"attendanceSessionId\": 6, \"userId\": 91, \"id_y\": 1087, \"activity\": \"Accessed Session 5 - Starter Files from Intro to Game Dev with Unity repo [access:3aadbfd9eca::rrtGJAd2ae1e]\"}, {\"id_x\": 109, \"status\": \"A\", \"attendanceSessionId\": 7, \"userId\": 91, \"id_y\": 1074, \"activity\": \"Logged in\"}, {\"id_x\": 109, \"status\": \"A\", \"attendanceSessionId\": 7, \"userId\": 91, \"id_y\": 1076, \"activity\": \"Accessed Session 5 - Assets from Intro to Game Dev with Unity repo [access:141012aa424::rrtGJAd2ae1e]\"}, {\"id_x\": 109, \"status\": \"A\", \"attendanceSessionId\": 7, \"userId\": 91, \"id_y\": 1078, \"activity\": \"Accessed Session 5 - Starter Files from Intro to Game Dev with Unity repo [access:3aadbfd9eca::rrtGJAd2ae1e]\"}, {\"id_x\": 109, \"status\": \"A\", \"attendanceSessionId\": 7, \"userId\": 91, \"id_y\": 1087, \"activity\": \"Accessed Session 5 - Starter Files from Intro to Game Dev with Unity repo [access:3aadbfd9eca::rrtGJAd2ae1e]\"}, {\"id_x\": 119, \"status\": \"A\", \"attendanceSessionId\": 8, \"userId\": 91, \"id_y\": 1074, \"activity\": \"Logged in\"}, {\"id_x\": 119, \"status\": \"A\", \"attendanceSessionId\": 8, \"userId\": 91, \"id_y\": 1076, \"activity\": \"Accessed Session 5 - Assets from Intro to Game Dev with Unity repo [access:141012aa424::rrtGJAd2ae1e]\"}, {\"id_x\": 119, \"status\": \"A\", \"attendanceSessionId\": 8, \"userId\": 91, \"id_y\": 1078, \"activity\": \"Accessed Session 5 - Starter Files from Intro to Game Dev with Unity repo [access:3aadbfd9eca::rrtGJAd2ae1e]\"}, {\"id_x\": 119, \"status\": \"A\", \"attendanceSessionId\": 8, \"userId\": 91, \"id_y\": 1087, \"activity\": \"Accessed Session 5 - Starter Files from Intro to Game Dev with Unity repo [access:3aadbfd9eca::rrtGJAd2ae1e]\"}, {\"id_x\": 146, \"status\": \"A\", \"attendanceSessionId\": 9, \"userId\": 91, \"id_y\": 1074, \"activity\": \"Logged in\"}, {\"id_x\": 146, \"status\": \"A\", \"attendanceSessionId\": 9, \"userId\": 91, \"id_y\": 1076, \"activity\": \"Accessed Session 5 - Assets from Intro to Game Dev with Unity repo [access:141012aa424::rrtGJAd2ae1e]\"}, {\"id_x\": 146, \"status\": \"A\", \"attendanceSessionId\": 9, \"userId\": 91, \"id_y\": 1078, \"activity\": \"Accessed Session 5 - Starter Files from Intro to Game Dev with Unity repo [access:3aadbfd9eca::rrtGJAd2ae1e]\"}, {\"id_x\": 146, \"status\": \"A\", \"attendanceSessionId\": 9, \"userId\": 91, \"id_y\": 1087, \"activity\": \"Accessed Session 5 - Starter Files from Intro to Game Dev with Unity repo [access:3aadbfd9eca::rrtGJAd2ae1e]\"}, {\"id_x\": 38, \"status\": \"P\", \"attendanceSessionId\": 1, \"userId\": 105, \"id_y\": 1053, \"activity\": \"Logged in\"}, {\"id_x\": 38, \"status\": \"P\", \"attendanceSessionId\": 1, \"userId\": 105, \"id_y\": 1054, \"activity\": \"Accessed Session 2 Recap from Intro to Game Dev with Unity repo [access:918a4f912a1::rrtGJAd2ae1e]\"}, {\"id_x\": 38, \"status\": \"P\", \"attendanceSessionId\": 1, \"userId\": 105, \"id_y\": 1055, \"activity\": \"Accessed Session 2 - Starter Files from Intro to Game Dev with Unity repo [access:1a82c08473b::rrtGJAd2ae1e]\"}, {\"id_x\": 38, \"status\": \"P\", \"attendanceSessionId\": 1, \"userId\": 105, \"id_y\": 1056, \"activity\": \"Accessed Session 3 Recap from Intro to Game Dev with Unity repo [access:5b3cf9ac46f::rrtGJAd2ae1e]\"}, {\"id_x\": 38, \"status\": \"P\", \"attendanceSessionId\": 1, \"userId\": 105, \"id_y\": 1057, \"activity\": \"Accessed Session 3 - Starter Files from Intro to Game Dev with Unity repo [access:dd9df1d2f3c::rrtGJAd2ae1e]\"}, {\"id_x\": 38, \"status\": \"P\", \"attendanceSessionId\": 1, \"userId\": 105, \"id_y\": 1067, \"activity\": \"Logged in\"}, {\"id_x\": 38, \"status\": \"P\", \"attendanceSessionId\": 1, \"userId\": 105, \"id_y\": 1069, \"activity\": \"Accessed Session 5 - Starter Files from Intro to Game Dev with Unity repo [access:3aadbfd9eca::rrtGJAd2ae1e]\"}, {\"id_x\": 38, \"status\": \"P\", \"attendanceSessionId\": 1, \"userId\": 105, \"id_y\": 1079, \"activity\": \"Accessed Session 5 - Assets from Intro to Game Dev with Unity repo [access:141012aa424::rrtGJAd2ae1e]\"}, {\"id_x\": 38, \"status\": \"P\", \"attendanceSessionId\": 1, \"userId\": 105, \"id_y\": 1104, \"activity\": \"Logged in\"}, {\"id_x\": 38, \"status\": \"P\", \"attendanceSessionId\": 1, \"userId\": 105, \"id_y\": 1105, \"activity\": \"Accessed Session 6 - Starter Files from Intro to Game Dev with Unity repo [access:4ff849da461::rrtGJAd2ae1e]\"}, {\"id_x\": 38, \"status\": \"P\", \"attendanceSessionId\": 1, \"userId\": 105, \"id_y\": 1335, \"activity\": \"Logged in\"}, {\"id_x\": 38, \"status\": \"P\", \"attendanceSessionId\": 1, \"userId\": 105, \"id_y\": 1336, \"activity\": \"Logged in\"}, {\"id_x\": 38, \"status\": \"P\", \"attendanceSessionId\": 1, \"userId\": 105, \"id_y\": 1337, \"activity\": \"Logged in\"}, {\"id_x\": 38, \"status\": \"P\", \"attendanceSessionId\": 1, \"userId\": 105, \"id_y\": 1338, \"activity\": \"Enrolled onto Programming Fundamentals\"}, {\"id_x\": 38, \"status\": \"P\", \"attendanceSessionId\": 1, \"userId\": 105, \"id_y\": 1368, \"activity\": \"Logged in\"}, {\"id_x\": 38, \"status\": \"P\", \"attendanceSessionId\": 1, \"userId\": 105, \"id_y\": 1371, \"activity\": \"Logged in\"}, {\"id_x\": 38, \"status\": \"P\", \"attendanceSessionId\": 1, \"userId\": 105, \"id_y\": 1418, \"activity\": \"Logged in\"}, {\"id_x\": 45, \"status\": \"P\", \"attendanceSessionId\": 2, \"userId\": 105, \"id_y\": 1053, \"activity\": \"Logged in\"}, {\"id_x\": 45, \"status\": \"P\", \"attendanceSessionId\": 2, \"userId\": 105, \"id_y\": 1054, \"activity\": \"Accessed Session 2 Recap from Intro to Game Dev with Unity repo [access:918a4f912a1::rrtGJAd2ae1e]\"}, {\"id_x\": 45, \"status\": \"P\", \"attendanceSessionId\": 2, \"userId\": 105, \"id_y\": 1055, \"activity\": \"Accessed Session 2 - Starter Files from Intro to Game Dev with Unity repo [access:1a82c08473b::rrtGJAd2ae1e]\"}, {\"id_x\": 45, \"status\": \"P\", \"attendanceSessionId\": 2, \"userId\": 105, \"id_y\": 1056, \"activity\": \"Accessed Session 3 Recap from Intro to Game Dev with Unity repo [access:5b3cf9ac46f::rrtGJAd2ae1e]\"}, {\"id_x\": 45, \"status\": \"P\", \"attendanceSessionId\": 2, \"userId\": 105, \"id_y\": 1057, \"activity\": \"Accessed Session 3 - Starter Files from Intro to Game Dev with Unity repo [access:dd9df1d2f3c::rrtGJAd2ae1e]\"}, {\"id_x\": 45, \"status\": \"P\", \"attendanceSessionId\": 2, \"userId\": 105, \"id_y\": 1067, \"activity\": \"Logged in\"}, {\"id_x\": 45, \"status\": \"P\", \"attendanceSessionId\": 2, \"userId\": 105, \"id_y\": 1069, \"activity\": \"Accessed Session 5 - Starter Files from Intro to Game Dev with Unity repo [access:3aadbfd9eca::rrtGJAd2ae1e]\"}, {\"id_x\": 45, \"status\": \"P\", \"attendanceSessionId\": 2, \"userId\": 105, \"id_y\": 1079, \"activity\": \"Accessed Session 5 - Assets from Intro to Game Dev with Unity repo [access:141012aa424::rrtGJAd2ae1e]\"}, {\"id_x\": 45, \"status\": \"P\", \"attendanceSessionId\": 2, \"userId\": 105, \"id_y\": 1104, \"activity\": \"Logged in\"}, {\"id_x\": 45, \"status\": \"P\", \"attendanceSessionId\": 2, \"userId\": 105, \"id_y\": 1105, \"activity\": \"Accessed Session 6 - Starter Files from Intro to Game Dev with Unity repo [access:4ff849da461::rrtGJAd2ae1e]\"}, {\"id_x\": 45, \"status\": \"P\", \"attendanceSessionId\": 2, \"userId\": 105, \"id_y\": 1335, \"activity\": \"Logged in\"}, {\"id_x\": 45, \"status\": \"P\", \"attendanceSessionId\": 2, \"userId\": 105, \"id_y\": 1336, \"activity\": \"Logged in\"}, {\"id_x\": 45, \"status\": \"P\", \"attendanceSessionId\": 2, \"userId\": 105, \"id_y\": 1337, \"activity\": \"Logged in\"}, {\"id_x\": 45, \"status\": \"P\", \"attendanceSessionId\": 2, \"userId\": 105, \"id_y\": 1338, \"activity\": \"Enrolled onto Programming Fundamentals\"}, {\"id_x\": 45, \"status\": \"P\", \"attendanceSessionId\": 2, \"userId\": 105, \"id_y\": 1368, \"activity\": \"Logged in\"}, {\"id_x\": 45, \"status\": \"P\", \"attendanceSessionId\": 2, \"userId\": 105, \"id_y\": 1371, \"activity\": \"Logged in\"}, {\"id_x\": 45, \"status\": \"P\", \"attendanceSessionId\": 2, \"userId\": 105, \"id_y\": 1418, \"activity\": \"Logged in\"}, {\"id_x\": 61, \"status\": \"P\", \"attendanceSessionId\": 3, \"userId\": 105, \"id_y\": 1053, \"activity\": \"Logged in\"}, {\"id_x\": 61, \"status\": \"P\", \"attendanceSessionId\": 3, \"userId\": 105, \"id_y\": 1054, \"activity\": \"Accessed Session 2 Recap from Intro to Game Dev with Unity repo [access:918a4f912a1::rrtGJAd2ae1e]\"}, {\"id_x\": 61, \"status\": \"P\", \"attendanceSessionId\": 3, \"userId\": 105, \"id_y\": 1055, \"activity\": \"Accessed Session 2 - Starter Files from Intro to Game Dev with Unity repo [access:1a82c08473b::rrtGJAd2ae1e]\"}, {\"id_x\": 61, \"status\": \"P\", \"attendanceSessionId\": 3, \"userId\": 105, \"id_y\": 1056, \"activity\": \"Accessed Session 3 Recap from Intro to Game Dev with Unity repo [access:5b3cf9ac46f::rrtGJAd2ae1e]\"}, {\"id_x\": 61, \"status\": \"P\", \"attendanceSessionId\": 3, \"userId\": 105, \"id_y\": 1057, \"activity\": \"Accessed Session 3 - Starter Files from Intro to Game Dev with Unity repo [access:dd9df1d2f3c::rrtGJAd2ae1e]\"}, {\"id_x\": 61, \"status\": \"P\", \"attendanceSessionId\": 3, \"userId\": 105, \"id_y\": 1067, \"activity\": \"Logged in\"}, {\"id_x\": 61, \"status\": \"P\", \"attendanceSessionId\": 3, \"userId\": 105, \"id_y\": 1069, \"activity\": \"Accessed Session 5 - Starter Files from Intro to Game Dev with Unity repo [access:3aadbfd9eca::rrtGJAd2ae1e]\"}, {\"id_x\": 61, \"status\": \"P\", \"attendanceSessionId\": 3, \"userId\": 105, \"id_y\": 1079, \"activity\": \"Accessed Session 5 - Assets from Intro to Game Dev with Unity repo [access:141012aa424::rrtGJAd2ae1e]\"}, {\"id_x\": 61, \"status\": \"P\", \"attendanceSessionId\": 3, \"userId\": 105, \"id_y\": 1104, \"activity\": \"Logged in\"}, {\"id_x\": 61, \"status\": \"P\", \"attendanceSessionId\": 3, \"userId\": 105, \"id_y\": 1105, \"activity\": \"Accessed Session 6 - Starter Files from Intro to Game Dev with Unity repo [access:4ff849da461::rrtGJAd2ae1e]\"}, {\"id_x\": 61, \"status\": \"P\", \"attendanceSessionId\": 3, \"userId\": 105, \"id_y\": 1335, \"activity\": \"Logged in\"}, {\"id_x\": 61, \"status\": \"P\", \"attendanceSessionId\": 3, \"userId\": 105, \"id_y\": 1336, \"activity\": \"Logged in\"}, {\"id_x\": 61, \"status\": \"P\", \"attendanceSessionId\": 3, \"userId\": 105, \"id_y\": 1337, \"activity\": \"Logged in\"}, {\"id_x\": 61, \"status\": \"P\", \"attendanceSessionId\": 3, \"userId\": 105, \"id_y\": 1338, \"activity\": \"Enrolled onto Programming Fundamentals\"}, {\"id_x\": 61, \"status\": \"P\", \"attendanceSessionId\": 3, \"userId\": 105, \"id_y\": 1368, \"activity\": \"Logged in\"}, {\"id_x\": 61, \"status\": \"P\", \"attendanceSessionId\": 3, \"userId\": 105, \"id_y\": 1371, \"activity\": \"Logged in\"}, {\"id_x\": 61, \"status\": \"P\", \"attendanceSessionId\": 3, \"userId\": 105, \"id_y\": 1418, \"activity\": \"Logged in\"}, {\"id_x\": 83, \"status\": \"I\", \"attendanceSessionId\": 4, \"userId\": 105, \"id_y\": 1053, \"activity\": \"Logged in\"}, {\"id_x\": 83, \"status\": \"I\", \"attendanceSessionId\": 4, \"userId\": 105, \"id_y\": 1054, \"activity\": \"Accessed Session 2 Recap from Intro to Game Dev with Unity repo [access:918a4f912a1::rrtGJAd2ae1e]\"}, {\"id_x\": 83, \"status\": \"I\", \"attendanceSessionId\": 4, \"userId\": 105, \"id_y\": 1055, \"activity\": \"Accessed Session 2 - Starter Files from Intro to Game Dev with Unity repo [access:1a82c08473b::rrtGJAd2ae1e]\"}, {\"id_x\": 83, \"status\": \"I\", \"attendanceSessionId\": 4, \"userId\": 105, \"id_y\": 1056, \"activity\": \"Accessed Session 3 Recap from Intro to Game Dev with Unity repo [access:5b3cf9ac46f::rrtGJAd2ae1e]\"}, {\"id_x\": 83, \"status\": \"I\", \"attendanceSessionId\": 4, \"userId\": 105, \"id_y\": 1057, \"activity\": \"Accessed Session 3 - Starter Files from Intro to Game Dev with Unity repo [access:dd9df1d2f3c::rrtGJAd2ae1e]\"}, {\"id_x\": 83, \"status\": \"I\", \"attendanceSessionId\": 4, \"userId\": 105, \"id_y\": 1067, \"activity\": \"Logged in\"}, {\"id_x\": 83, \"status\": \"I\", \"attendanceSessionId\": 4, \"userId\": 105, \"id_y\": 1069, \"activity\": \"Accessed Session 5 - Starter Files from Intro to Game Dev with Unity repo [access:3aadbfd9eca::rrtGJAd2ae1e]\"}, {\"id_x\": 83, \"status\": \"I\", \"attendanceSessionId\": 4, \"userId\": 105, \"id_y\": 1079, \"activity\": \"Accessed Session 5 - Assets from Intro to Game Dev with Unity repo [access:141012aa424::rrtGJAd2ae1e]\"}, {\"id_x\": 83, \"status\": \"I\", \"attendanceSessionId\": 4, \"userId\": 105, \"id_y\": 1104, \"activity\": \"Logged in\"}, {\"id_x\": 83, \"status\": \"I\", \"attendanceSessionId\": 4, \"userId\": 105, \"id_y\": 1105, \"activity\": \"Accessed Session 6 - Starter Files from Intro to Game Dev with Unity repo [access:4ff849da461::rrtGJAd2ae1e]\"}, {\"id_x\": 83, \"status\": \"I\", \"attendanceSessionId\": 4, \"userId\": 105, \"id_y\": 1335, \"activity\": \"Logged in\"}, {\"id_x\": 83, \"status\": \"I\", \"attendanceSessionId\": 4, \"userId\": 105, \"id_y\": 1336, \"activity\": \"Logged in\"}, {\"id_x\": 83, \"status\": \"I\", \"attendanceSessionId\": 4, \"userId\": 105, \"id_y\": 1337, \"activity\": \"Logged in\"}, {\"id_x\": 83, \"status\": \"I\", \"attendanceSessionId\": 4, \"userId\": 105, \"id_y\": 1338, \"activity\": \"Enrolled onto Programming Fundamentals\"}, {\"id_x\": 83, \"status\": \"I\", \"attendanceSessionId\": 4, \"userId\": 105, \"id_y\": 1368, \"activity\": \"Logged in\"}, {\"id_x\": 83, \"status\": \"I\", \"attendanceSessionId\": 4, \"userId\": 105, \"id_y\": 1371, \"activity\": \"Logged in\"}, {\"id_x\": 83, \"status\": \"I\", \"attendanceSessionId\": 4, \"userId\": 105, \"id_y\": 1418, \"activity\": \"Logged in\"}, {\"id_x\": 91, \"status\": \"P\", \"attendanceSessionId\": 5, \"userId\": 105, \"id_y\": 1053, \"activity\": \"Logged in\"}, {\"id_x\": 91, \"status\": \"P\", \"attendanceSessionId\": 5, \"userId\": 105, \"id_y\": 1054, \"activity\": \"Accessed Session 2 Recap from Intro to Game Dev with Unity repo [access:918a4f912a1::rrtGJAd2ae1e]\"}, {\"id_x\": 91, \"status\": \"P\", \"attendanceSessionId\": 5, \"userId\": 105, \"id_y\": 1055, \"activity\": \"Accessed Session 2 - Starter Files from Intro to Game Dev with Unity repo [access:1a82c08473b::rrtGJAd2ae1e]\"}, {\"id_x\": 91, \"status\": \"P\", \"attendanceSessionId\": 5, \"userId\": 105, \"id_y\": 1056, \"activity\": \"Accessed Session 3 Recap from Intro to Game Dev with Unity repo [access:5b3cf9ac46f::rrtGJAd2ae1e]\"}, {\"id_x\": 91, \"status\": \"P\", \"attendanceSessionId\": 5, \"userId\": 105, \"id_y\": 1057, \"activity\": \"Accessed Session 3 - Starter Files from Intro to Game Dev with Unity repo [access:dd9df1d2f3c::rrtGJAd2ae1e]\"}, {\"id_x\": 91, \"status\": \"P\", \"attendanceSessionId\": 5, \"userId\": 105, \"id_y\": 1067, \"activity\": \"Logged in\"}, {\"id_x\": 91, \"status\": \"P\", \"attendanceSessionId\": 5, \"userId\": 105, \"id_y\": 1069, \"activity\": \"Accessed Session 5 - Starter Files from Intro to Game Dev with Unity repo [access:3aadbfd9eca::rrtGJAd2ae1e]\"}, {\"id_x\": 91, \"status\": \"P\", \"attendanceSessionId\": 5, \"userId\": 105, \"id_y\": 1079, \"activity\": \"Accessed Session 5 - Assets from Intro to Game Dev with Unity repo [access:141012aa424::rrtGJAd2ae1e]\"}, {\"id_x\": 91, \"status\": \"P\", \"attendanceSessionId\": 5, \"userId\": 105, \"id_y\": 1104, \"activity\": \"Logged in\"}, {\"id_x\": 91, \"status\": \"P\", \"attendanceSessionId\": 5, \"userId\": 105, \"id_y\": 1105, \"activity\": \"Accessed Session 6 - Starter Files from Intro to Game Dev with Unity repo [access:4ff849da461::rrtGJAd2ae1e]\"}, {\"id_x\": 91, \"status\": \"P\", \"attendanceSessionId\": 5, \"userId\": 105, \"id_y\": 1335, \"activity\": \"Logged in\"}, {\"id_x\": 91, \"status\": \"P\", \"attendanceSessionId\": 5, \"userId\": 105, \"id_y\": 1336, \"activity\": \"Logged in\"}, {\"id_x\": 91, \"status\": \"P\", \"attendanceSessionId\": 5, \"userId\": 105, \"id_y\": 1337, \"activity\": \"Logged in\"}, {\"id_x\": 91, \"status\": \"P\", \"attendanceSessionId\": 5, \"userId\": 105, \"id_y\": 1338, \"activity\": \"Enrolled onto Programming Fundamentals\"}, {\"id_x\": 91, \"status\": \"P\", \"attendanceSessionId\": 5, \"userId\": 105, \"id_y\": 1368, \"activity\": \"Logged in\"}, {\"id_x\": 91, \"status\": \"P\", \"attendanceSessionId\": 5, \"userId\": 105, \"id_y\": 1371, \"activity\": \"Logged in\"}, {\"id_x\": 91, \"status\": \"P\", \"attendanceSessionId\": 5, \"userId\": 105, \"id_y\": 1418, \"activity\": \"Logged in\"}, {\"id_x\": 95, \"status\": \"P\", \"attendanceSessionId\": 6, \"userId\": 105, \"id_y\": 1053, \"activity\": \"Logged in\"}, {\"id_x\": 95, \"status\": \"P\", \"attendanceSessionId\": 6, \"userId\": 105, \"id_y\": 1054, \"activity\": \"Accessed Session 2 Recap from Intro to Game Dev with Unity repo [access:918a4f912a1::rrtGJAd2ae1e]\"}, {\"id_x\": 95, \"status\": \"P\", \"attendanceSessionId\": 6, \"userId\": 105, \"id_y\": 1055, \"activity\": \"Accessed Session 2 - Starter Files from Intro to Game Dev with Unity repo [access:1a82c08473b::rrtGJAd2ae1e]\"}, {\"id_x\": 95, \"status\": \"P\", \"attendanceSessionId\": 6, \"userId\": 105, \"id_y\": 1056, \"activity\": \"Accessed Session 3 Recap from Intro to Game Dev with Unity repo [access:5b3cf9ac46f::rrtGJAd2ae1e]\"}, {\"id_x\": 95, \"status\": \"P\", \"attendanceSessionId\": 6, \"userId\": 105, \"id_y\": 1057, \"activity\": \"Accessed Session 3 - Starter Files from Intro to Game Dev with Unity repo [access:dd9df1d2f3c::rrtGJAd2ae1e]\"}, {\"id_x\": 95, \"status\": \"P\", \"attendanceSessionId\": 6, \"userId\": 105, \"id_y\": 1067, \"activity\": \"Logged in\"}, {\"id_x\": 95, \"status\": \"P\", \"attendanceSessionId\": 6, \"userId\": 105, \"id_y\": 1069, \"activity\": \"Accessed Session 5 - Starter Files from Intro to Game Dev with Unity repo [access:3aadbfd9eca::rrtGJAd2ae1e]\"}, {\"id_x\": 95, \"status\": \"P\", \"attendanceSessionId\": 6, \"userId\": 105, \"id_y\": 1079, \"activity\": \"Accessed Session 5 - Assets from Intro to Game Dev with Unity repo [access:141012aa424::rrtGJAd2ae1e]\"}, {\"id_x\": 95, \"status\": \"P\", \"attendanceSessionId\": 6, \"userId\": 105, \"id_y\": 1104, \"activity\": \"Logged in\"}, {\"id_x\": 95, \"status\": \"P\", \"attendanceSessionId\": 6, \"userId\": 105, \"id_y\": 1105, \"activity\": \"Accessed Session 6 - Starter Files from Intro to Game Dev with Unity repo [access:4ff849da461::rrtGJAd2ae1e]\"}, {\"id_x\": 95, \"status\": \"P\", \"attendanceSessionId\": 6, \"userId\": 105, \"id_y\": 1335, \"activity\": \"Logged in\"}, {\"id_x\": 95, \"status\": \"P\", \"attendanceSessionId\": 6, \"userId\": 105, \"id_y\": 1336, \"activity\": \"Logged in\"}, {\"id_x\": 95, \"status\": \"P\", \"attendanceSessionId\": 6, \"userId\": 105, \"id_y\": 1337, \"activity\": \"Logged in\"}, {\"id_x\": 95, \"status\": \"P\", \"attendanceSessionId\": 6, \"userId\": 105, \"id_y\": 1338, \"activity\": \"Enrolled onto Programming Fundamentals\"}, {\"id_x\": 95, \"status\": \"P\", \"attendanceSessionId\": 6, \"userId\": 105, \"id_y\": 1368, \"activity\": \"Logged in\"}, {\"id_x\": 95, \"status\": \"P\", \"attendanceSessionId\": 6, \"userId\": 105, \"id_y\": 1371, \"activity\": \"Logged in\"}, {\"id_x\": 95, \"status\": \"P\", \"attendanceSessionId\": 6, \"userId\": 105, \"id_y\": 1418, \"activity\": \"Logged in\"}, {\"id_x\": 110, \"status\": \"P\", \"attendanceSessionId\": 7, \"userId\": 105, \"id_y\": 1053, \"activity\": \"Logged in\"}, {\"id_x\": 110, \"status\": \"P\", \"attendanceSessionId\": 7, \"userId\": 105, \"id_y\": 1054, \"activity\": \"Accessed Session 2 Recap from Intro to Game Dev with Unity repo [access:918a4f912a1::rrtGJAd2ae1e]\"}, {\"id_x\": 110, \"status\": \"P\", \"attendanceSessionId\": 7, \"userId\": 105, \"id_y\": 1055, \"activity\": \"Accessed Session 2 - Starter Files from Intro to Game Dev with Unity repo [access:1a82c08473b::rrtGJAd2ae1e]\"}, {\"id_x\": 110, \"status\": \"P\", \"attendanceSessionId\": 7, \"userId\": 105, \"id_y\": 1056, \"activity\": \"Accessed Session 3 Recap from Intro to Game Dev with Unity repo [access:5b3cf9ac46f::rrtGJAd2ae1e]\"}, {\"id_x\": 110, \"status\": \"P\", \"attendanceSessionId\": 7, \"userId\": 105, \"id_y\": 1057, \"activity\": \"Accessed Session 3 - Starter Files from Intro to Game Dev with Unity repo [access:dd9df1d2f3c::rrtGJAd2ae1e]\"}, {\"id_x\": 110, \"status\": \"P\", \"attendanceSessionId\": 7, \"userId\": 105, \"id_y\": 1067, \"activity\": \"Logged in\"}, {\"id_x\": 110, \"status\": \"P\", \"attendanceSessionId\": 7, \"userId\": 105, \"id_y\": 1069, \"activity\": \"Accessed Session 5 - Starter Files from Intro to Game Dev with Unity repo [access:3aadbfd9eca::rrtGJAd2ae1e]\"}, {\"id_x\": 110, \"status\": \"P\", \"attendanceSessionId\": 7, \"userId\": 105, \"id_y\": 1079, \"activity\": \"Accessed Session 5 - Assets from Intro to Game Dev with Unity repo [access:141012aa424::rrtGJAd2ae1e]\"}, {\"id_x\": 110, \"status\": \"P\", \"attendanceSessionId\": 7, \"userId\": 105, \"id_y\": 1104, \"activity\": \"Logged in\"}, {\"id_x\": 110, \"status\": \"P\", \"attendanceSessionId\": 7, \"userId\": 105, \"id_y\": 1105, \"activity\": \"Accessed Session 6 - Starter Files from Intro to Game Dev with Unity repo [access:4ff849da461::rrtGJAd2ae1e]\"}, {\"id_x\": 110, \"status\": \"P\", \"attendanceSessionId\": 7, \"userId\": 105, \"id_y\": 1335, \"activity\": \"Logged in\"}, {\"id_x\": 110, \"status\": \"P\", \"attendanceSessionId\": 7, \"userId\": 105, \"id_y\": 1336, \"activity\": \"Logged in\"}, {\"id_x\": 110, \"status\": \"P\", \"attendanceSessionId\": 7, \"userId\": 105, \"id_y\": 1337, \"activity\": \"Logged in\"}, {\"id_x\": 110, \"status\": \"P\", \"attendanceSessionId\": 7, \"userId\": 105, \"id_y\": 1338, \"activity\": \"Enrolled onto Programming Fundamentals\"}, {\"id_x\": 110, \"status\": \"P\", \"attendanceSessionId\": 7, \"userId\": 105, \"id_y\": 1368, \"activity\": \"Logged in\"}, {\"id_x\": 110, \"status\": \"P\", \"attendanceSessionId\": 7, \"userId\": 105, \"id_y\": 1371, \"activity\": \"Logged in\"}, {\"id_x\": 110, \"status\": \"P\", \"attendanceSessionId\": 7, \"userId\": 105, \"id_y\": 1418, \"activity\": \"Logged in\"}, {\"id_x\": 117, \"status\": \"P\", \"attendanceSessionId\": 8, \"userId\": 105, \"id_y\": 1053, \"activity\": \"Logged in\"}, {\"id_x\": 117, \"status\": \"P\", \"attendanceSessionId\": 8, \"userId\": 105, \"id_y\": 1054, \"activity\": \"Accessed Session 2 Recap from Intro to Game Dev with Unity repo [access:918a4f912a1::rrtGJAd2ae1e]\"}, {\"id_x\": 117, \"status\": \"P\", \"attendanceSessionId\": 8, \"userId\": 105, \"id_y\": 1055, \"activity\": \"Accessed Session 2 - Starter Files from Intro to Game Dev with Unity repo [access:1a82c08473b::rrtGJAd2ae1e]\"}, {\"id_x\": 117, \"status\": \"P\", \"attendanceSessionId\": 8, \"userId\": 105, \"id_y\": 1056, \"activity\": \"Accessed Session 3 Recap from Intro to Game Dev with Unity repo [access:5b3cf9ac46f::rrtGJAd2ae1e]\"}, {\"id_x\": 117, \"status\": \"P\", \"attendanceSessionId\": 8, \"userId\": 105, \"id_y\": 1057, \"activity\": \"Accessed Session 3 - Starter Files from Intro to Game Dev with Unity repo [access:dd9df1d2f3c::rrtGJAd2ae1e]\"}, {\"id_x\": 117, \"status\": \"P\", \"attendanceSessionId\": 8, \"userId\": 105, \"id_y\": 1067, \"activity\": \"Logged in\"}, {\"id_x\": 117, \"status\": \"P\", \"attendanceSessionId\": 8, \"userId\": 105, \"id_y\": 1069, \"activity\": \"Accessed Session 5 - Starter Files from Intro to Game Dev with Unity repo [access:3aadbfd9eca::rrtGJAd2ae1e]\"}, {\"id_x\": 117, \"status\": \"P\", \"attendanceSessionId\": 8, \"userId\": 105, \"id_y\": 1079, \"activity\": \"Accessed Session 5 - Assets from Intro to Game Dev with Unity repo [access:141012aa424::rrtGJAd2ae1e]\"}, {\"id_x\": 117, \"status\": \"P\", \"attendanceSessionId\": 8, \"userId\": 105, \"id_y\": 1104, \"activity\": \"Logged in\"}, {\"id_x\": 117, \"status\": \"P\", \"attendanceSessionId\": 8, \"userId\": 105, \"id_y\": 1105, \"activity\": \"Accessed Session 6 - Starter Files from Intro to Game Dev with Unity repo [access:4ff849da461::rrtGJAd2ae1e]\"}, {\"id_x\": 117, \"status\": \"P\", \"attendanceSessionId\": 8, \"userId\": 105, \"id_y\": 1335, \"activity\": \"Logged in\"}, {\"id_x\": 117, \"status\": \"P\", \"attendanceSessionId\": 8, \"userId\": 105, \"id_y\": 1336, \"activity\": \"Logged in\"}, {\"id_x\": 117, \"status\": \"P\", \"attendanceSessionId\": 8, \"userId\": 105, \"id_y\": 1337, \"activity\": \"Logged in\"}, {\"id_x\": 117, \"status\": \"P\", \"attendanceSessionId\": 8, \"userId\": 105, \"id_y\": 1338, \"activity\": \"Enrolled onto Programming Fundamentals\"}, {\"id_x\": 117, \"status\": \"P\", \"attendanceSessionId\": 8, \"userId\": 105, \"id_y\": 1368, \"activity\": \"Logged in\"}, {\"id_x\": 117, \"status\": \"P\", \"attendanceSessionId\": 8, \"userId\": 105, \"id_y\": 1371, \"activity\": \"Logged in\"}, {\"id_x\": 117, \"status\": \"P\", \"attendanceSessionId\": 8, \"userId\": 105, \"id_y\": 1418, \"activity\": \"Logged in\"}, {\"id_x\": 148, \"status\": \"I\", \"attendanceSessionId\": 9, \"userId\": 105, \"id_y\": 1053, \"activity\": \"Logged in\"}, {\"id_x\": 148, \"status\": \"I\", \"attendanceSessionId\": 9, \"userId\": 105, \"id_y\": 1054, \"activity\": \"Accessed Session 2 Recap from Intro to Game Dev with Unity repo [access:918a4f912a1::rrtGJAd2ae1e]\"}, {\"id_x\": 148, \"status\": \"I\", \"attendanceSessionId\": 9, \"userId\": 105, \"id_y\": 1055, \"activity\": \"Accessed Session 2 - Starter Files from Intro to Game Dev with Unity repo [access:1a82c08473b::rrtGJAd2ae1e]\"}, {\"id_x\": 148, \"status\": \"I\", \"attendanceSessionId\": 9, \"userId\": 105, \"id_y\": 1056, \"activity\": \"Accessed Session 3 Recap from Intro to Game Dev with Unity repo [access:5b3cf9ac46f::rrtGJAd2ae1e]\"}, {\"id_x\": 148, \"status\": \"I\", \"attendanceSessionId\": 9, \"userId\": 105, \"id_y\": 1057, \"activity\": \"Accessed Session 3 - Starter Files from Intro to Game Dev with Unity repo [access:dd9df1d2f3c::rrtGJAd2ae1e]\"}, {\"id_x\": 148, \"status\": \"I\", \"attendanceSessionId\": 9, \"userId\": 105, \"id_y\": 1067, \"activity\": \"Logged in\"}, {\"id_x\": 148, \"status\": \"I\", \"attendanceSessionId\": 9, \"userId\": 105, \"id_y\": 1069, \"activity\": \"Accessed Session 5 - Starter Files from Intro to Game Dev with Unity repo [access:3aadbfd9eca::rrtGJAd2ae1e]\"}, {\"id_x\": 148, \"status\": \"I\", \"attendanceSessionId\": 9, \"userId\": 105, \"id_y\": 1079, \"activity\": \"Accessed Session 5 - Assets from Intro to Game Dev with Unity repo [access:141012aa424::rrtGJAd2ae1e]\"}, {\"id_x\": 148, \"status\": \"I\", \"attendanceSessionId\": 9, \"userId\": 105, \"id_y\": 1104, \"activity\": \"Logged in\"}, {\"id_x\": 148, \"status\": \"I\", \"attendanceSessionId\": 9, \"userId\": 105, \"id_y\": 1105, \"activity\": \"Accessed Session 6 - Starter Files from Intro to Game Dev with Unity repo [access:4ff849da461::rrtGJAd2ae1e]\"}, {\"id_x\": 148, \"status\": \"I\", \"attendanceSessionId\": 9, \"userId\": 105, \"id_y\": 1335, \"activity\": \"Logged in\"}, {\"id_x\": 148, \"status\": \"I\", \"attendanceSessionId\": 9, \"userId\": 105, \"id_y\": 1336, \"activity\": \"Logged in\"}, {\"id_x\": 148, \"status\": \"I\", \"attendanceSessionId\": 9, \"userId\": 105, \"id_y\": 1337, \"activity\": \"Logged in\"}, {\"id_x\": 148, \"status\": \"I\", \"attendanceSessionId\": 9, \"userId\": 105, \"id_y\": 1338, \"activity\": \"Enrolled onto Programming Fundamentals\"}, {\"id_x\": 148, \"status\": \"I\", \"attendanceSessionId\": 9, \"userId\": 105, \"id_y\": 1368, \"activity\": \"Logged in\"}, {\"id_x\": 148, \"status\": \"I\", \"attendanceSessionId\": 9, \"userId\": 105, \"id_y\": 1371, \"activity\": \"Logged in\"}, {\"id_x\": 148, \"status\": \"I\", \"attendanceSessionId\": 9, \"userId\": 105, \"id_y\": 1418, \"activity\": \"Logged in\"}, {\"id_x\": 151, \"status\": \"P\", \"attendanceSessionId\": 10, \"userId\": 105, \"id_y\": 1053, \"activity\": \"Logged in\"}, {\"id_x\": 151, \"status\": \"P\", \"attendanceSessionId\": 10, \"userId\": 105, \"id_y\": 1054, \"activity\": \"Accessed Session 2 Recap from Intro to Game Dev with Unity repo [access:918a4f912a1::rrtGJAd2ae1e]\"}, {\"id_x\": 151, \"status\": \"P\", \"attendanceSessionId\": 10, \"userId\": 105, \"id_y\": 1055, \"activity\": \"Accessed Session 2 - Starter Files from Intro to Game Dev with Unity repo [access:1a82c08473b::rrtGJAd2ae1e]\"}, {\"id_x\": 151, \"status\": \"P\", \"attendanceSessionId\": 10, \"userId\": 105, \"id_y\": 1056, \"activity\": \"Accessed Session 3 Recap from Intro to Game Dev with Unity repo [access:5b3cf9ac46f::rrtGJAd2ae1e]\"}, {\"id_x\": 151, \"status\": \"P\", \"attendanceSessionId\": 10, \"userId\": 105, \"id_y\": 1057, \"activity\": \"Accessed Session 3 - Starter Files from Intro to Game Dev with Unity repo [access:dd9df1d2f3c::rrtGJAd2ae1e]\"}, {\"id_x\": 151, \"status\": \"P\", \"attendanceSessionId\": 10, \"userId\": 105, \"id_y\": 1067, \"activity\": \"Logged in\"}, {\"id_x\": 151, \"status\": \"P\", \"attendanceSessionId\": 10, \"userId\": 105, \"id_y\": 1069, \"activity\": \"Accessed Session 5 - Starter Files from Intro to Game Dev with Unity repo [access:3aadbfd9eca::rrtGJAd2ae1e]\"}, {\"id_x\": 151, \"status\": \"P\", \"attendanceSessionId\": 10, \"userId\": 105, \"id_y\": 1079, \"activity\": \"Accessed Session 5 - Assets from Intro to Game Dev with Unity repo [access:141012aa424::rrtGJAd2ae1e]\"}, {\"id_x\": 151, \"status\": \"P\", \"attendanceSessionId\": 10, \"userId\": 105, \"id_y\": 1104, \"activity\": \"Logged in\"}, {\"id_x\": 151, \"status\": \"P\", \"attendanceSessionId\": 10, \"userId\": 105, \"id_y\": 1105, \"activity\": \"Accessed Session 6 - Starter Files from Intro to Game Dev with Unity repo [access:4ff849da461::rrtGJAd2ae1e]\"}, {\"id_x\": 151, \"status\": \"P\", \"attendanceSessionId\": 10, \"userId\": 105, \"id_y\": 1335, \"activity\": \"Logged in\"}, {\"id_x\": 151, \"status\": \"P\", \"attendanceSessionId\": 10, \"userId\": 105, \"id_y\": 1336, \"activity\": \"Logged in\"}, {\"id_x\": 151, \"status\": \"P\", \"attendanceSessionId\": 10, \"userId\": 105, \"id_y\": 1337, \"activity\": \"Logged in\"}, {\"id_x\": 151, \"status\": \"P\", \"attendanceSessionId\": 10, \"userId\": 105, \"id_y\": 1338, \"activity\": \"Enrolled onto Programming Fundamentals\"}, {\"id_x\": 151, \"status\": \"P\", \"attendanceSessionId\": 10, \"userId\": 105, \"id_y\": 1368, \"activity\": \"Logged in\"}, {\"id_x\": 151, \"status\": \"P\", \"attendanceSessionId\": 10, \"userId\": 105, \"id_y\": 1371, \"activity\": \"Logged in\"}, {\"id_x\": 151, \"status\": \"P\", \"attendanceSessionId\": 10, \"userId\": 105, \"id_y\": 1418, \"activity\": \"Logged in\"}, {\"id_x\": 39, \"status\": \"P\", \"attendanceSessionId\": 1, \"userId\": 106, \"id_y\": 1028, \"activity\": \"Logged in\"}, {\"id_x\": 39, \"status\": \"P\", \"attendanceSessionId\": 1, \"userId\": 106, \"id_y\": 1029, \"activity\": \"Accessed Session 4 - Starter Files from Intro to Game Dev with Unity repo\"}, {\"id_x\": 39, \"status\": \"P\", \"attendanceSessionId\": 1, \"userId\": 106, \"id_y\": 1030, \"activity\": \"Accessed Session 3 Recap from Intro to Game Dev with Unity repo\"}, {\"id_x\": 39, \"status\": \"P\", \"attendanceSessionId\": 1, \"userId\": 106, \"id_y\": 1091, \"activity\": \"Logged in\"}, {\"id_x\": 39, \"status\": \"P\", \"attendanceSessionId\": 1, \"userId\": 106, \"id_y\": 1092, \"activity\": \"Accessed Session 5 - Assets from Intro to Game Dev with Unity repo [access:141012aa424::rrtGJAd2ae1e]\"}, {\"id_x\": 39, \"status\": \"P\", \"attendanceSessionId\": 1, \"userId\": 106, \"id_y\": 1093, \"activity\": \"Accessed Session 5 - Starter Files from Intro to Game Dev with Unity repo [access:3aadbfd9eca::rrtGJAd2ae1e]\"}, {\"id_x\": 39, \"status\": \"P\", \"attendanceSessionId\": 1, \"userId\": 106, \"id_y\": 1094, \"activity\": \"Accessed Session Four Recap from Intro to Game Dev with Unity repo [access:b4aec5f066b::rrtGJAd2ae1e]\"}, {\"id_x\": 39, \"status\": \"P\", \"attendanceSessionId\": 1, \"userId\": 106, \"id_y\": 1129, \"activity\": \"Logged in\"}, {\"id_x\": 39, \"status\": \"P\", \"attendanceSessionId\": 1, \"userId\": 106, \"id_y\": 1130, \"activity\": \"Accessed Session 6 - Starter Files from Intro to Game Dev with Unity repo [access:4ff849da461::rrtGJAd2ae1e]\"}, {\"id_x\": 39, \"status\": \"P\", \"attendanceSessionId\": 1, \"userId\": 106, \"id_y\": 1131, \"activity\": \"Accessed Session 6 Recap from Intro to Game Dev with Unity repo [access:1d9bec2ad95::rrtGJAd2ae1e]\"}, {\"id_x\": 39, \"status\": \"P\", \"attendanceSessionId\": 1, \"userId\": 106, \"id_y\": 1132, \"activity\": \"Logged in\"}, {\"id_x\": 39, \"status\": \"P\", \"attendanceSessionId\": 1, \"userId\": 106, \"id_y\": 1133, \"activity\": \"Accessed Session 5 Recap from Intro to Game Dev with Unity repo [access:f2ec33fafc6::rrtGJAd2ae1e]\"}, {\"id_x\": 39, \"status\": \"P\", \"attendanceSessionId\": 1, \"userId\": 106, \"id_y\": 1202, \"activity\": \"Logged in\"}, {\"id_x\": 39, \"status\": \"P\", \"attendanceSessionId\": 1, \"userId\": 106, \"id_y\": 1203, \"activity\": \"Accessed Session 7 - Starter Files from Intro to Game Dev with Unity repo [access:0274231c583::rrtGJAd2ae1e]\"}, {\"id_x\": 39, \"status\": \"P\", \"attendanceSessionId\": 1, \"userId\": 106, \"id_y\": 1204, \"activity\": \"Accessed Session 7 Recap from Intro to Game Dev with Unity repo [access:f808a2f41b5::rrtGJAd2ae1e]\"}, {\"id_x\": 39, \"status\": \"P\", \"attendanceSessionId\": 1, \"userId\": 106, \"id_y\": 1212, \"activity\": \"Logged in\"}, {\"id_x\": 39, \"status\": \"P\", \"attendanceSessionId\": 1, \"userId\": 106, \"id_y\": 1213, \"activity\": \"Accessed Session 8 - Starter Files from Intro to Game Dev with Unity repo [access:1d14e303b59::rrtGJAd2ae1e]\"}, {\"id_x\": 39, \"status\": \"P\", \"attendanceSessionId\": 1, \"userId\": 106, \"id_y\": 1214, \"activity\": \"Accessed Session 7 Recap from Intro to Game Dev with Unity repo [access:f808a2f41b5::rrtGJAd2ae1e]\"}, {\"id_x\": 39, \"status\": \"P\", \"attendanceSessionId\": 1, \"userId\": 106, \"id_y\": 1215, \"activity\": \"Accessed Session 7 Recap from Intro to Game Dev with Unity repo [access:f808a2f41b5::rrtGJAd2ae1e]\"}, {\"id_x\": 39, \"status\": \"P\", \"attendanceSessionId\": 1, \"userId\": 106, \"id_y\": 1270, \"activity\": \"Logged in\"}, {\"id_x\": 39, \"status\": \"P\", \"attendanceSessionId\": 1, \"userId\": 106, \"id_y\": 1271, \"activity\": \"Logged in\"}, {\"id_x\": 39, \"status\": \"P\", \"attendanceSessionId\": 1, \"userId\": 106, \"id_y\": 1272, \"activity\": \"Logged in\"}, {\"id_x\": 39, \"status\": \"P\", \"attendanceSessionId\": 1, \"userId\": 106, \"id_y\": 1273, \"activity\": \"Logged in\"}, {\"id_x\": 44, \"status\": \"P\", \"attendanceSessionId\": 2, \"userId\": 106, \"id_y\": 1028, \"activity\": \"Logged in\"}, {\"id_x\": 44, \"status\": \"P\", \"attendanceSessionId\": 2, \"userId\": 106, \"id_y\": 1029, \"activity\": \"Accessed Session 4 - Starter Files from Intro to Game Dev with Unity repo\"}, {\"id_x\": 44, \"status\": \"P\", \"attendanceSessionId\": 2, \"userId\": 106, \"id_y\": 1030, \"activity\": \"Accessed Session 3 Recap from Intro to Game Dev with Unity repo\"}, {\"id_x\": 44, \"status\": \"P\", \"attendanceSessionId\": 2, \"userId\": 106, \"id_y\": 1091, \"activity\": \"Logged in\"}, {\"id_x\": 44, \"status\": \"P\", \"attendanceSessionId\": 2, \"userId\": 106, \"id_y\": 1092, \"activity\": \"Accessed Session 5 - Assets from Intro to Game Dev with Unity repo [access:141012aa424::rrtGJAd2ae1e]\"}, {\"id_x\": 44, \"status\": \"P\", \"attendanceSessionId\": 2, \"userId\": 106, \"id_y\": 1093, \"activity\": \"Accessed Session 5 - Starter Files from Intro to Game Dev with Unity repo [access:3aadbfd9eca::rrtGJAd2ae1e]\"}, {\"id_x\": 44, \"status\": \"P\", \"attendanceSessionId\": 2, \"userId\": 106, \"id_y\": 1094, \"activity\": \"Accessed Session Four Recap from Intro to Game Dev with Unity repo [access:b4aec5f066b::rrtGJAd2ae1e]\"}, {\"id_x\": 44, \"status\": \"P\", \"attendanceSessionId\": 2, \"userId\": 106, \"id_y\": 1129, \"activity\": \"Logged in\"}, {\"id_x\": 44, \"status\": \"P\", \"attendanceSessionId\": 2, \"userId\": 106, \"id_y\": 1130, \"activity\": \"Accessed Session 6 - Starter Files from Intro to Game Dev with Unity repo [access:4ff849da461::rrtGJAd2ae1e]\"}, {\"id_x\": 44, \"status\": \"P\", \"attendanceSessionId\": 2, \"userId\": 106, \"id_y\": 1131, \"activity\": \"Accessed Session 6 Recap from Intro to Game Dev with Unity repo [access:1d9bec2ad95::rrtGJAd2ae1e]\"}, {\"id_x\": 44, \"status\": \"P\", \"attendanceSessionId\": 2, \"userId\": 106, \"id_y\": 1132, \"activity\": \"Logged in\"}, {\"id_x\": 44, \"status\": \"P\", \"attendanceSessionId\": 2, \"userId\": 106, \"id_y\": 1133, \"activity\": \"Accessed Session 5 Recap from Intro to Game Dev with Unity repo [access:f2ec33fafc6::rrtGJAd2ae1e]\"}, {\"id_x\": 44, \"status\": \"P\", \"attendanceSessionId\": 2, \"userId\": 106, \"id_y\": 1202, \"activity\": \"Logged in\"}, {\"id_x\": 44, \"status\": \"P\", \"attendanceSessionId\": 2, \"userId\": 106, \"id_y\": 1203, \"activity\": \"Accessed Session 7 - Starter Files from Intro to Game Dev with Unity repo [access:0274231c583::rrtGJAd2ae1e]\"}, {\"id_x\": 44, \"status\": \"P\", \"attendanceSessionId\": 2, \"userId\": 106, \"id_y\": 1204, \"activity\": \"Accessed Session 7 Recap from Intro to Game Dev with Unity repo [access:f808a2f41b5::rrtGJAd2ae1e]\"}, {\"id_x\": 44, \"status\": \"P\", \"attendanceSessionId\": 2, \"userId\": 106, \"id_y\": 1212, \"activity\": \"Logged in\"}, {\"id_x\": 44, \"status\": \"P\", \"attendanceSessionId\": 2, \"userId\": 106, \"id_y\": 1213, \"activity\": \"Accessed Session 8 - Starter Files from Intro to Game Dev with Unity repo [access:1d14e303b59::rrtGJAd2ae1e]\"}, {\"id_x\": 44, \"status\": \"P\", \"attendanceSessionId\": 2, \"userId\": 106, \"id_y\": 1214, \"activity\": \"Accessed Session 7 Recap from Intro to Game Dev with Unity repo [access:f808a2f41b5::rrtGJAd2ae1e]\"}, {\"id_x\": 44, \"status\": \"P\", \"attendanceSessionId\": 2, \"userId\": 106, \"id_y\": 1215, \"activity\": \"Accessed Session 7 Recap from Intro to Game Dev with Unity repo [access:f808a2f41b5::rrtGJAd2ae1e]\"}, {\"id_x\": 44, \"status\": \"P\", \"attendanceSessionId\": 2, \"userId\": 106, \"id_y\": 1270, \"activity\": \"Logged in\"}, {\"id_x\": 44, \"status\": \"P\", \"attendanceSessionId\": 2, \"userId\": 106, \"id_y\": 1271, \"activity\": \"Logged in\"}, {\"id_x\": 44, \"status\": \"P\", \"attendanceSessionId\": 2, \"userId\": 106, \"id_y\": 1272, \"activity\": \"Logged in\"}, {\"id_x\": 44, \"status\": \"P\", \"attendanceSessionId\": 2, \"userId\": 106, \"id_y\": 1273, \"activity\": \"Logged in\"}, {\"id_x\": 62, \"status\": \"P\", \"attendanceSessionId\": 3, \"userId\": 106, \"id_y\": 1028, \"activity\": \"Logged in\"}, {\"id_x\": 62, \"status\": \"P\", \"attendanceSessionId\": 3, \"userId\": 106, \"id_y\": 1029, \"activity\": \"Accessed Session 4 - Starter Files from Intro to Game Dev with Unity repo\"}, {\"id_x\": 62, \"status\": \"P\", \"attendanceSessionId\": 3, \"userId\": 106, \"id_y\": 1030, \"activity\": \"Accessed Session 3 Recap from Intro to Game Dev with Unity repo\"}, {\"id_x\": 62, \"status\": \"P\", \"attendanceSessionId\": 3, \"userId\": 106, \"id_y\": 1091, \"activity\": \"Logged in\"}, {\"id_x\": 62, \"status\": \"P\", \"attendanceSessionId\": 3, \"userId\": 106, \"id_y\": 1092, \"activity\": \"Accessed Session 5 - Assets from Intro to Game Dev with Unity repo [access:141012aa424::rrtGJAd2ae1e]\"}, {\"id_x\": 62, \"status\": \"P\", \"attendanceSessionId\": 3, \"userId\": 106, \"id_y\": 1093, \"activity\": \"Accessed Session 5 - Starter Files from Intro to Game Dev with Unity repo [access:3aadbfd9eca::rrtGJAd2ae1e]\"}, {\"id_x\": 62, \"status\": \"P\", \"attendanceSessionId\": 3, \"userId\": 106, \"id_y\": 1094, \"activity\": \"Accessed Session Four Recap from Intro to Game Dev with Unity repo [access:b4aec5f066b::rrtGJAd2ae1e]\"}, {\"id_x\": 62, \"status\": \"P\", \"attendanceSessionId\": 3, \"userId\": 106, \"id_y\": 1129, \"activity\": \"Logged in\"}, {\"id_x\": 62, \"status\": \"P\", \"attendanceSessionId\": 3, \"userId\": 106, \"id_y\": 1130, \"activity\": \"Accessed Session 6 - Starter Files from Intro to Game Dev with Unity repo [access:4ff849da461::rrtGJAd2ae1e]\"}, {\"id_x\": 62, \"status\": \"P\", \"attendanceSessionId\": 3, \"userId\": 106, \"id_y\": 1131, \"activity\": \"Accessed Session 6 Recap from Intro to Game Dev with Unity repo [access:1d9bec2ad95::rrtGJAd2ae1e]\"}, {\"id_x\": 62, \"status\": \"P\", \"attendanceSessionId\": 3, \"userId\": 106, \"id_y\": 1132, \"activity\": \"Logged in\"}, {\"id_x\": 62, \"status\": \"P\", \"attendanceSessionId\": 3, \"userId\": 106, \"id_y\": 1133, \"activity\": \"Accessed Session 5 Recap from Intro to Game Dev with Unity repo [access:f2ec33fafc6::rrtGJAd2ae1e]\"}, {\"id_x\": 62, \"status\": \"P\", \"attendanceSessionId\": 3, \"userId\": 106, \"id_y\": 1202, \"activity\": \"Logged in\"}, {\"id_x\": 62, \"status\": \"P\", \"attendanceSessionId\": 3, \"userId\": 106, \"id_y\": 1203, \"activity\": \"Accessed Session 7 - Starter Files from Intro to Game Dev with Unity repo [access:0274231c583::rrtGJAd2ae1e]\"}, {\"id_x\": 62, \"status\": \"P\", \"attendanceSessionId\": 3, \"userId\": 106, \"id_y\": 1204, \"activity\": \"Accessed Session 7 Recap from Intro to Game Dev with Unity repo [access:f808a2f41b5::rrtGJAd2ae1e]\"}, {\"id_x\": 62, \"status\": \"P\", \"attendanceSessionId\": 3, \"userId\": 106, \"id_y\": 1212, \"activity\": \"Logged in\"}, {\"id_x\": 62, \"status\": \"P\", \"attendanceSessionId\": 3, \"userId\": 106, \"id_y\": 1213, \"activity\": \"Accessed Session 8 - Starter Files from Intro to Game Dev with Unity repo [access:1d14e303b59::rrtGJAd2ae1e]\"}, {\"id_x\": 62, \"status\": \"P\", \"attendanceSessionId\": 3, \"userId\": 106, \"id_y\": 1214, \"activity\": \"Accessed Session 7 Recap from Intro to Game Dev with Unity repo [access:f808a2f41b5::rrtGJAd2ae1e]\"}, {\"id_x\": 62, \"status\": \"P\", \"attendanceSessionId\": 3, \"userId\": 106, \"id_y\": 1215, \"activity\": \"Accessed Session 7 Recap from Intro to Game Dev with Unity repo [access:f808a2f41b5::rrtGJAd2ae1e]\"}, {\"id_x\": 62, \"status\": \"P\", \"attendanceSessionId\": 3, \"userId\": 106, \"id_y\": 1270, \"activity\": \"Logged in\"}, {\"id_x\": 62, \"status\": \"P\", \"attendanceSessionId\": 3, \"userId\": 106, \"id_y\": 1271, \"activity\": \"Logged in\"}, {\"id_x\": 62, \"status\": \"P\", \"attendanceSessionId\": 3, \"userId\": 106, \"id_y\": 1272, \"activity\": \"Logged in\"}, {\"id_x\": 62, \"status\": \"P\", \"attendanceSessionId\": 3, \"userId\": 106, \"id_y\": 1273, \"activity\": \"Logged in\"}, {\"id_x\": 84, \"status\": \"A\", \"attendanceSessionId\": 4, \"userId\": 106, \"id_y\": 1028, \"activity\": \"Logged in\"}, {\"id_x\": 84, \"status\": \"A\", \"attendanceSessionId\": 4, \"userId\": 106, \"id_y\": 1029, \"activity\": \"Accessed Session 4 - Starter Files from Intro to Game Dev with Unity repo\"}, {\"id_x\": 84, \"status\": \"A\", \"attendanceSessionId\": 4, \"userId\": 106, \"id_y\": 1030, \"activity\": \"Accessed Session 3 Recap from Intro to Game Dev with Unity repo\"}, {\"id_x\": 84, \"status\": \"A\", \"attendanceSessionId\": 4, \"userId\": 106, \"id_y\": 1091, \"activity\": \"Logged in\"}, {\"id_x\": 84, \"status\": \"A\", \"attendanceSessionId\": 4, \"userId\": 106, \"id_y\": 1092, \"activity\": \"Accessed Session 5 - Assets from Intro to Game Dev with Unity repo [access:141012aa424::rrtGJAd2ae1e]\"}, {\"id_x\": 84, \"status\": \"A\", \"attendanceSessionId\": 4, \"userId\": 106, \"id_y\": 1093, \"activity\": \"Accessed Session 5 - Starter Files from Intro to Game Dev with Unity repo [access:3aadbfd9eca::rrtGJAd2ae1e]\"}, {\"id_x\": 84, \"status\": \"A\", \"attendanceSessionId\": 4, \"userId\": 106, \"id_y\": 1094, \"activity\": \"Accessed Session Four Recap from Intro to Game Dev with Unity repo [access:b4aec5f066b::rrtGJAd2ae1e]\"}, {\"id_x\": 84, \"status\": \"A\", \"attendanceSessionId\": 4, \"userId\": 106, \"id_y\": 1129, \"activity\": \"Logged in\"}, {\"id_x\": 84, \"status\": \"A\", \"attendanceSessionId\": 4, \"userId\": 106, \"id_y\": 1130, \"activity\": \"Accessed Session 6 - Starter Files from Intro to Game Dev with Unity repo [access:4ff849da461::rrtGJAd2ae1e]\"}, {\"id_x\": 84, \"status\": \"A\", \"attendanceSessionId\": 4, \"userId\": 106, \"id_y\": 1131, \"activity\": \"Accessed Session 6 Recap from Intro to Game Dev with Unity repo [access:1d9bec2ad95::rrtGJAd2ae1e]\"}, {\"id_x\": 84, \"status\": \"A\", \"attendanceSessionId\": 4, \"userId\": 106, \"id_y\": 1132, \"activity\": \"Logged in\"}, {\"id_x\": 84, \"status\": \"A\", \"attendanceSessionId\": 4, \"userId\": 106, \"id_y\": 1133, \"activity\": \"Accessed Session 5 Recap from Intro to Game Dev with Unity repo [access:f2ec33fafc6::rrtGJAd2ae1e]\"}, {\"id_x\": 84, \"status\": \"A\", \"attendanceSessionId\": 4, \"userId\": 106, \"id_y\": 1202, \"activity\": \"Logged in\"}, {\"id_x\": 84, \"status\": \"A\", \"attendanceSessionId\": 4, \"userId\": 106, \"id_y\": 1203, \"activity\": \"Accessed Session 7 - Starter Files from Intro to Game Dev with Unity repo [access:0274231c583::rrtGJAd2ae1e]\"}, {\"id_x\": 84, \"status\": \"A\", \"attendanceSessionId\": 4, \"userId\": 106, \"id_y\": 1204, \"activity\": \"Accessed Session 7 Recap from Intro to Game Dev with Unity repo [access:f808a2f41b5::rrtGJAd2ae1e]\"}, {\"id_x\": 84, \"status\": \"A\", \"attendanceSessionId\": 4, \"userId\": 106, \"id_y\": 1212, \"activity\": \"Logged in\"}, {\"id_x\": 84, \"status\": \"A\", \"attendanceSessionId\": 4, \"userId\": 106, \"id_y\": 1213, \"activity\": \"Accessed Session 8 - Starter Files from Intro to Game Dev with Unity repo [access:1d14e303b59::rrtGJAd2ae1e]\"}, {\"id_x\": 84, \"status\": \"A\", \"attendanceSessionId\": 4, \"userId\": 106, \"id_y\": 1214, \"activity\": \"Accessed Session 7 Recap from Intro to Game Dev with Unity repo [access:f808a2f41b5::rrtGJAd2ae1e]\"}, {\"id_x\": 84, \"status\": \"A\", \"attendanceSessionId\": 4, \"userId\": 106, \"id_y\": 1215, \"activity\": \"Accessed Session 7 Recap from Intro to Game Dev with Unity repo [access:f808a2f41b5::rrtGJAd2ae1e]\"}, {\"id_x\": 84, \"status\": \"A\", \"attendanceSessionId\": 4, \"userId\": 106, \"id_y\": 1270, \"activity\": \"Logged in\"}, {\"id_x\": 84, \"status\": \"A\", \"attendanceSessionId\": 4, \"userId\": 106, \"id_y\": 1271, \"activity\": \"Logged in\"}, {\"id_x\": 84, \"status\": \"A\", \"attendanceSessionId\": 4, \"userId\": 106, \"id_y\": 1272, \"activity\": \"Logged in\"}, {\"id_x\": 84, \"status\": \"A\", \"attendanceSessionId\": 4, \"userId\": 106, \"id_y\": 1273, \"activity\": \"Logged in\"}, {\"id_x\": 92, \"status\": \"A\", \"attendanceSessionId\": 5, \"userId\": 106, \"id_y\": 1028, \"activity\": \"Logged in\"}, {\"id_x\": 92, \"status\": \"A\", \"attendanceSessionId\": 5, \"userId\": 106, \"id_y\": 1029, \"activity\": \"Accessed Session 4 - Starter Files from Intro to Game Dev with Unity repo\"}, {\"id_x\": 92, \"status\": \"A\", \"attendanceSessionId\": 5, \"userId\": 106, \"id_y\": 1030, \"activity\": \"Accessed Session 3 Recap from Intro to Game Dev with Unity repo\"}, {\"id_x\": 92, \"status\": \"A\", \"attendanceSessionId\": 5, \"userId\": 106, \"id_y\": 1091, \"activity\": \"Logged in\"}, {\"id_x\": 92, \"status\": \"A\", \"attendanceSessionId\": 5, \"userId\": 106, \"id_y\": 1092, \"activity\": \"Accessed Session 5 - Assets from Intro to Game Dev with Unity repo [access:141012aa424::rrtGJAd2ae1e]\"}, {\"id_x\": 92, \"status\": \"A\", \"attendanceSessionId\": 5, \"userId\": 106, \"id_y\": 1093, \"activity\": \"Accessed Session 5 - Starter Files from Intro to Game Dev with Unity repo [access:3aadbfd9eca::rrtGJAd2ae1e]\"}, {\"id_x\": 92, \"status\": \"A\", \"attendanceSessionId\": 5, \"userId\": 106, \"id_y\": 1094, \"activity\": \"Accessed Session Four Recap from Intro to Game Dev with Unity repo [access:b4aec5f066b::rrtGJAd2ae1e]\"}, {\"id_x\": 92, \"status\": \"A\", \"attendanceSessionId\": 5, \"userId\": 106, \"id_y\": 1129, \"activity\": \"Logged in\"}, {\"id_x\": 92, \"status\": \"A\", \"attendanceSessionId\": 5, \"userId\": 106, \"id_y\": 1130, \"activity\": \"Accessed Session 6 - Starter Files from Intro to Game Dev with Unity repo [access:4ff849da461::rrtGJAd2ae1e]\"}, {\"id_x\": 92, \"status\": \"A\", \"attendanceSessionId\": 5, \"userId\": 106, \"id_y\": 1131, \"activity\": \"Accessed Session 6 Recap from Intro to Game Dev with Unity repo [access:1d9bec2ad95::rrtGJAd2ae1e]\"}, {\"id_x\": 92, \"status\": \"A\", \"attendanceSessionId\": 5, \"userId\": 106, \"id_y\": 1132, \"activity\": \"Logged in\"}, {\"id_x\": 92, \"status\": \"A\", \"attendanceSessionId\": 5, \"userId\": 106, \"id_y\": 1133, \"activity\": \"Accessed Session 5 Recap from Intro to Game Dev with Unity repo [access:f2ec33fafc6::rrtGJAd2ae1e]\"}, {\"id_x\": 92, \"status\": \"A\", \"attendanceSessionId\": 5, \"userId\": 106, \"id_y\": 1202, \"activity\": \"Logged in\"}, {\"id_x\": 92, \"status\": \"A\", \"attendanceSessionId\": 5, \"userId\": 106, \"id_y\": 1203, \"activity\": \"Accessed Session 7 - Starter Files from Intro to Game Dev with Unity repo [access:0274231c583::rrtGJAd2ae1e]\"}, {\"id_x\": 92, \"status\": \"A\", \"attendanceSessionId\": 5, \"userId\": 106, \"id_y\": 1204, \"activity\": \"Accessed Session 7 Recap from Intro to Game Dev with Unity repo [access:f808a2f41b5::rrtGJAd2ae1e]\"}, {\"id_x\": 92, \"status\": \"A\", \"attendanceSessionId\": 5, \"userId\": 106, \"id_y\": 1212, \"activity\": \"Logged in\"}, {\"id_x\": 92, \"status\": \"A\", \"attendanceSessionId\": 5, \"userId\": 106, \"id_y\": 1213, \"activity\": \"Accessed Session 8 - Starter Files from Intro to Game Dev with Unity repo [access:1d14e303b59::rrtGJAd2ae1e]\"}, {\"id_x\": 92, \"status\": \"A\", \"attendanceSessionId\": 5, \"userId\": 106, \"id_y\": 1214, \"activity\": \"Accessed Session 7 Recap from Intro to Game Dev with Unity repo [access:f808a2f41b5::rrtGJAd2ae1e]\"}, {\"id_x\": 92, \"status\": \"A\", \"attendanceSessionId\": 5, \"userId\": 106, \"id_y\": 1215, \"activity\": \"Accessed Session 7 Recap from Intro to Game Dev with Unity repo [access:f808a2f41b5::rrtGJAd2ae1e]\"}, {\"id_x\": 92, \"status\": \"A\", \"attendanceSessionId\": 5, \"userId\": 106, \"id_y\": 1270, \"activity\": \"Logged in\"}, {\"id_x\": 92, \"status\": \"A\", \"attendanceSessionId\": 5, \"userId\": 106, \"id_y\": 1271, \"activity\": \"Logged in\"}, {\"id_x\": 92, \"status\": \"A\", \"attendanceSessionId\": 5, \"userId\": 106, \"id_y\": 1272, \"activity\": \"Logged in\"}, {\"id_x\": 92, \"status\": \"A\", \"attendanceSessionId\": 5, \"userId\": 106, \"id_y\": 1273, \"activity\": \"Logged in\"}, {\"id_x\": 102, \"status\": \"A\", \"attendanceSessionId\": 6, \"userId\": 106, \"id_y\": 1028, \"activity\": \"Logged in\"}, {\"id_x\": 102, \"status\": \"A\", \"attendanceSessionId\": 6, \"userId\": 106, \"id_y\": 1029, \"activity\": \"Accessed Session 4 - Starter Files from Intro to Game Dev with Unity repo\"}, {\"id_x\": 102, \"status\": \"A\", \"attendanceSessionId\": 6, \"userId\": 106, \"id_y\": 1030, \"activity\": \"Accessed Session 3 Recap from Intro to Game Dev with Unity repo\"}, {\"id_x\": 102, \"status\": \"A\", \"attendanceSessionId\": 6, \"userId\": 106, \"id_y\": 1091, \"activity\": \"Logged in\"}, {\"id_x\": 102, \"status\": \"A\", \"attendanceSessionId\": 6, \"userId\": 106, \"id_y\": 1092, \"activity\": \"Accessed Session 5 - Assets from Intro to Game Dev with Unity repo [access:141012aa424::rrtGJAd2ae1e]\"}, {\"id_x\": 102, \"status\": \"A\", \"attendanceSessionId\": 6, \"userId\": 106, \"id_y\": 1093, \"activity\": \"Accessed Session 5 - Starter Files from Intro to Game Dev with Unity repo [access:3aadbfd9eca::rrtGJAd2ae1e]\"}, {\"id_x\": 102, \"status\": \"A\", \"attendanceSessionId\": 6, \"userId\": 106, \"id_y\": 1094, \"activity\": \"Accessed Session Four Recap from Intro to Game Dev with Unity repo [access:b4aec5f066b::rrtGJAd2ae1e]\"}, {\"id_x\": 102, \"status\": \"A\", \"attendanceSessionId\": 6, \"userId\": 106, \"id_y\": 1129, \"activity\": \"Logged in\"}, {\"id_x\": 102, \"status\": \"A\", \"attendanceSessionId\": 6, \"userId\": 106, \"id_y\": 1130, \"activity\": \"Accessed Session 6 - Starter Files from Intro to Game Dev with Unity repo [access:4ff849da461::rrtGJAd2ae1e]\"}, {\"id_x\": 102, \"status\": \"A\", \"attendanceSessionId\": 6, \"userId\": 106, \"id_y\": 1131, \"activity\": \"Accessed Session 6 Recap from Intro to Game Dev with Unity repo [access:1d9bec2ad95::rrtGJAd2ae1e]\"}, {\"id_x\": 102, \"status\": \"A\", \"attendanceSessionId\": 6, \"userId\": 106, \"id_y\": 1132, \"activity\": \"Logged in\"}, {\"id_x\": 102, \"status\": \"A\", \"attendanceSessionId\": 6, \"userId\": 106, \"id_y\": 1133, \"activity\": \"Accessed Session 5 Recap from Intro to Game Dev with Unity repo [access:f2ec33fafc6::rrtGJAd2ae1e]\"}, {\"id_x\": 102, \"status\": \"A\", \"attendanceSessionId\": 6, \"userId\": 106, \"id_y\": 1202, \"activity\": \"Logged in\"}, {\"id_x\": 102, \"status\": \"A\", \"attendanceSessionId\": 6, \"userId\": 106, \"id_y\": 1203, \"activity\": \"Accessed Session 7 - Starter Files from Intro to Game Dev with Unity repo [access:0274231c583::rrtGJAd2ae1e]\"}, {\"id_x\": 102, \"status\": \"A\", \"attendanceSessionId\": 6, \"userId\": 106, \"id_y\": 1204, \"activity\": \"Accessed Session 7 Recap from Intro to Game Dev with Unity repo [access:f808a2f41b5::rrtGJAd2ae1e]\"}, {\"id_x\": 102, \"status\": \"A\", \"attendanceSessionId\": 6, \"userId\": 106, \"id_y\": 1212, \"activity\": \"Logged in\"}, {\"id_x\": 102, \"status\": \"A\", \"attendanceSessionId\": 6, \"userId\": 106, \"id_y\": 1213, \"activity\": \"Accessed Session 8 - Starter Files from Intro to Game Dev with Unity repo [access:1d14e303b59::rrtGJAd2ae1e]\"}, {\"id_x\": 102, \"status\": \"A\", \"attendanceSessionId\": 6, \"userId\": 106, \"id_y\": 1214, \"activity\": \"Accessed Session 7 Recap from Intro to Game Dev with Unity repo [access:f808a2f41b5::rrtGJAd2ae1e]\"}, {\"id_x\": 102, \"status\": \"A\", \"attendanceSessionId\": 6, \"userId\": 106, \"id_y\": 1215, \"activity\": \"Accessed Session 7 Recap from Intro to Game Dev with Unity repo [access:f808a2f41b5::rrtGJAd2ae1e]\"}, {\"id_x\": 102, \"status\": \"A\", \"attendanceSessionId\": 6, \"userId\": 106, \"id_y\": 1270, \"activity\": \"Logged in\"}, {\"id_x\": 102, \"status\": \"A\", \"attendanceSessionId\": 6, \"userId\": 106, \"id_y\": 1271, \"activity\": \"Logged in\"}, {\"id_x\": 102, \"status\": \"A\", \"attendanceSessionId\": 6, \"userId\": 106, \"id_y\": 1272, \"activity\": \"Logged in\"}, {\"id_x\": 102, \"status\": \"A\", \"attendanceSessionId\": 6, \"userId\": 106, \"id_y\": 1273, \"activity\": \"Logged in\"}, {\"id_x\": 111, \"status\": \"A\", \"attendanceSessionId\": 7, \"userId\": 106, \"id_y\": 1028, \"activity\": \"Logged in\"}, {\"id_x\": 111, \"status\": \"A\", \"attendanceSessionId\": 7, \"userId\": 106, \"id_y\": 1029, \"activity\": \"Accessed Session 4 - Starter Files from Intro to Game Dev with Unity repo\"}, {\"id_x\": 111, \"status\": \"A\", \"attendanceSessionId\": 7, \"userId\": 106, \"id_y\": 1030, \"activity\": \"Accessed Session 3 Recap from Intro to Game Dev with Unity repo\"}, {\"id_x\": 111, \"status\": \"A\", \"attendanceSessionId\": 7, \"userId\": 106, \"id_y\": 1091, \"activity\": \"Logged in\"}, {\"id_x\": 111, \"status\": \"A\", \"attendanceSessionId\": 7, \"userId\": 106, \"id_y\": 1092, \"activity\": \"Accessed Session 5 - Assets from Intro to Game Dev with Unity repo [access:141012aa424::rrtGJAd2ae1e]\"}, {\"id_x\": 111, \"status\": \"A\", \"attendanceSessionId\": 7, \"userId\": 106, \"id_y\": 1093, \"activity\": \"Accessed Session 5 - Starter Files from Intro to Game Dev with Unity repo [access:3aadbfd9eca::rrtGJAd2ae1e]\"}, {\"id_x\": 111, \"status\": \"A\", \"attendanceSessionId\": 7, \"userId\": 106, \"id_y\": 1094, \"activity\": \"Accessed Session Four Recap from Intro to Game Dev with Unity repo [access:b4aec5f066b::rrtGJAd2ae1e]\"}, {\"id_x\": 111, \"status\": \"A\", \"attendanceSessionId\": 7, \"userId\": 106, \"id_y\": 1129, \"activity\": \"Logged in\"}, {\"id_x\": 111, \"status\": \"A\", \"attendanceSessionId\": 7, \"userId\": 106, \"id_y\": 1130, \"activity\": \"Accessed Session 6 - Starter Files from Intro to Game Dev with Unity repo [access:4ff849da461::rrtGJAd2ae1e]\"}, {\"id_x\": 111, \"status\": \"A\", \"attendanceSessionId\": 7, \"userId\": 106, \"id_y\": 1131, \"activity\": \"Accessed Session 6 Recap from Intro to Game Dev with Unity repo [access:1d9bec2ad95::rrtGJAd2ae1e]\"}, {\"id_x\": 111, \"status\": \"A\", \"attendanceSessionId\": 7, \"userId\": 106, \"id_y\": 1132, \"activity\": \"Logged in\"}, {\"id_x\": 111, \"status\": \"A\", \"attendanceSessionId\": 7, \"userId\": 106, \"id_y\": 1133, \"activity\": \"Accessed Session 5 Recap from Intro to Game Dev with Unity repo [access:f2ec33fafc6::rrtGJAd2ae1e]\"}, {\"id_x\": 111, \"status\": \"A\", \"attendanceSessionId\": 7, \"userId\": 106, \"id_y\": 1202, \"activity\": \"Logged in\"}, {\"id_x\": 111, \"status\": \"A\", \"attendanceSessionId\": 7, \"userId\": 106, \"id_y\": 1203, \"activity\": \"Accessed Session 7 - Starter Files from Intro to Game Dev with Unity repo [access:0274231c583::rrtGJAd2ae1e]\"}, {\"id_x\": 111, \"status\": \"A\", \"attendanceSessionId\": 7, \"userId\": 106, \"id_y\": 1204, \"activity\": \"Accessed Session 7 Recap from Intro to Game Dev with Unity repo [access:f808a2f41b5::rrtGJAd2ae1e]\"}, {\"id_x\": 111, \"status\": \"A\", \"attendanceSessionId\": 7, \"userId\": 106, \"id_y\": 1212, \"activity\": \"Logged in\"}, {\"id_x\": 111, \"status\": \"A\", \"attendanceSessionId\": 7, \"userId\": 106, \"id_y\": 1213, \"activity\": \"Accessed Session 8 - Starter Files from Intro to Game Dev with Unity repo [access:1d14e303b59::rrtGJAd2ae1e]\"}, {\"id_x\": 111, \"status\": \"A\", \"attendanceSessionId\": 7, \"userId\": 106, \"id_y\": 1214, \"activity\": \"Accessed Session 7 Recap from Intro to Game Dev with Unity repo [access:f808a2f41b5::rrtGJAd2ae1e]\"}, {\"id_x\": 111, \"status\": \"A\", \"attendanceSessionId\": 7, \"userId\": 106, \"id_y\": 1215, \"activity\": \"Accessed Session 7 Recap from Intro to Game Dev with Unity repo [access:f808a2f41b5::rrtGJAd2ae1e]\"}, {\"id_x\": 111, \"status\": \"A\", \"attendanceSessionId\": 7, \"userId\": 106, \"id_y\": 1270, \"activity\": \"Logged in\"}, {\"id_x\": 111, \"status\": \"A\", \"attendanceSessionId\": 7, \"userId\": 106, \"id_y\": 1271, \"activity\": \"Logged in\"}, {\"id_x\": 111, \"status\": \"A\", \"attendanceSessionId\": 7, \"userId\": 106, \"id_y\": 1272, \"activity\": \"Logged in\"}, {\"id_x\": 111, \"status\": \"A\", \"attendanceSessionId\": 7, \"userId\": 106, \"id_y\": 1273, \"activity\": \"Logged in\"}, {\"id_x\": 120, \"status\": \"A\", \"attendanceSessionId\": 8, \"userId\": 106, \"id_y\": 1028, \"activity\": \"Logged in\"}, {\"id_x\": 120, \"status\": \"A\", \"attendanceSessionId\": 8, \"userId\": 106, \"id_y\": 1029, \"activity\": \"Accessed Session 4 - Starter Files from Intro to Game Dev with Unity repo\"}, {\"id_x\": 120, \"status\": \"A\", \"attendanceSessionId\": 8, \"userId\": 106, \"id_y\": 1030, \"activity\": \"Accessed Session 3 Recap from Intro to Game Dev with Unity repo\"}, {\"id_x\": 120, \"status\": \"A\", \"attendanceSessionId\": 8, \"userId\": 106, \"id_y\": 1091, \"activity\": \"Logged in\"}, {\"id_x\": 120, \"status\": \"A\", \"attendanceSessionId\": 8, \"userId\": 106, \"id_y\": 1092, \"activity\": \"Accessed Session 5 - Assets from Intro to Game Dev with Unity repo [access:141012aa424::rrtGJAd2ae1e]\"}, {\"id_x\": 120, \"status\": \"A\", \"attendanceSessionId\": 8, \"userId\": 106, \"id_y\": 1093, \"activity\": \"Accessed Session 5 - Starter Files from Intro to Game Dev with Unity repo [access:3aadbfd9eca::rrtGJAd2ae1e]\"}, {\"id_x\": 120, \"status\": \"A\", \"attendanceSessionId\": 8, \"userId\": 106, \"id_y\": 1094, \"activity\": \"Accessed Session Four Recap from Intro to Game Dev with Unity repo [access:b4aec5f066b::rrtGJAd2ae1e]\"}, {\"id_x\": 120, \"status\": \"A\", \"attendanceSessionId\": 8, \"userId\": 106, \"id_y\": 1129, \"activity\": \"Logged in\"}, {\"id_x\": 120, \"status\": \"A\", \"attendanceSessionId\": 8, \"userId\": 106, \"id_y\": 1130, \"activity\": \"Accessed Session 6 - Starter Files from Intro to Game Dev with Unity repo [access:4ff849da461::rrtGJAd2ae1e]\"}, {\"id_x\": 120, \"status\": \"A\", \"attendanceSessionId\": 8, \"userId\": 106, \"id_y\": 1131, \"activity\": \"Accessed Session 6 Recap from Intro to Game Dev with Unity repo [access:1d9bec2ad95::rrtGJAd2ae1e]\"}, {\"id_x\": 120, \"status\": \"A\", \"attendanceSessionId\": 8, \"userId\": 106, \"id_y\": 1132, \"activity\": \"Logged in\"}, {\"id_x\": 120, \"status\": \"A\", \"attendanceSessionId\": 8, \"userId\": 106, \"id_y\": 1133, \"activity\": \"Accessed Session 5 Recap from Intro to Game Dev with Unity repo [access:f2ec33fafc6::rrtGJAd2ae1e]\"}, {\"id_x\": 120, \"status\": \"A\", \"attendanceSessionId\": 8, \"userId\": 106, \"id_y\": 1202, \"activity\": \"Logged in\"}, {\"id_x\": 120, \"status\": \"A\", \"attendanceSessionId\": 8, \"userId\": 106, \"id_y\": 1203, \"activity\": \"Accessed Session 7 - Starter Files from Intro to Game Dev with Unity repo [access:0274231c583::rrtGJAd2ae1e]\"}, {\"id_x\": 120, \"status\": \"A\", \"attendanceSessionId\": 8, \"userId\": 106, \"id_y\": 1204, \"activity\": \"Accessed Session 7 Recap from Intro to Game Dev with Unity repo [access:f808a2f41b5::rrtGJAd2ae1e]\"}, {\"id_x\": 120, \"status\": \"A\", \"attendanceSessionId\": 8, \"userId\": 106, \"id_y\": 1212, \"activity\": \"Logged in\"}, {\"id_x\": 120, \"status\": \"A\", \"attendanceSessionId\": 8, \"userId\": 106, \"id_y\": 1213, \"activity\": \"Accessed Session 8 - Starter Files from Intro to Game Dev with Unity repo [access:1d14e303b59::rrtGJAd2ae1e]\"}, {\"id_x\": 120, \"status\": \"A\", \"attendanceSessionId\": 8, \"userId\": 106, \"id_y\": 1214, \"activity\": \"Accessed Session 7 Recap from Intro to Game Dev with Unity repo [access:f808a2f41b5::rrtGJAd2ae1e]\"}, {\"id_x\": 120, \"status\": \"A\", \"attendanceSessionId\": 8, \"userId\": 106, \"id_y\": 1215, \"activity\": \"Accessed Session 7 Recap from Intro to Game Dev with Unity repo [access:f808a2f41b5::rrtGJAd2ae1e]\"}, {\"id_x\": 120, \"status\": \"A\", \"attendanceSessionId\": 8, \"userId\": 106, \"id_y\": 1270, \"activity\": \"Logged in\"}, {\"id_x\": 120, \"status\": \"A\", \"attendanceSessionId\": 8, \"userId\": 106, \"id_y\": 1271, \"activity\": \"Logged in\"}, {\"id_x\": 120, \"status\": \"A\", \"attendanceSessionId\": 8, \"userId\": 106, \"id_y\": 1272, \"activity\": \"Logged in\"}, {\"id_x\": 120, \"status\": \"A\", \"attendanceSessionId\": 8, \"userId\": 106, \"id_y\": 1273, \"activity\": \"Logged in\"}, {\"id_x\": 149, \"status\": \"I\", \"attendanceSessionId\": 9, \"userId\": 106, \"id_y\": 1028, \"activity\": \"Logged in\"}, {\"id_x\": 149, \"status\": \"I\", \"attendanceSessionId\": 9, \"userId\": 106, \"id_y\": 1029, \"activity\": \"Accessed Session 4 - Starter Files from Intro to Game Dev with Unity repo\"}, {\"id_x\": 149, \"status\": \"I\", \"attendanceSessionId\": 9, \"userId\": 106, \"id_y\": 1030, \"activity\": \"Accessed Session 3 Recap from Intro to Game Dev with Unity repo\"}, {\"id_x\": 149, \"status\": \"I\", \"attendanceSessionId\": 9, \"userId\": 106, \"id_y\": 1091, \"activity\": \"Logged in\"}, {\"id_x\": 149, \"status\": \"I\", \"attendanceSessionId\": 9, \"userId\": 106, \"id_y\": 1092, \"activity\": \"Accessed Session 5 - Assets from Intro to Game Dev with Unity repo [access:141012aa424::rrtGJAd2ae1e]\"}, {\"id_x\": 149, \"status\": \"I\", \"attendanceSessionId\": 9, \"userId\": 106, \"id_y\": 1093, \"activity\": \"Accessed Session 5 - Starter Files from Intro to Game Dev with Unity repo [access:3aadbfd9eca::rrtGJAd2ae1e]\"}, {\"id_x\": 149, \"status\": \"I\", \"attendanceSessionId\": 9, \"userId\": 106, \"id_y\": 1094, \"activity\": \"Accessed Session Four Recap from Intro to Game Dev with Unity repo [access:b4aec5f066b::rrtGJAd2ae1e]\"}, {\"id_x\": 149, \"status\": \"I\", \"attendanceSessionId\": 9, \"userId\": 106, \"id_y\": 1129, \"activity\": \"Logged in\"}, {\"id_x\": 149, \"status\": \"I\", \"attendanceSessionId\": 9, \"userId\": 106, \"id_y\": 1130, \"activity\": \"Accessed Session 6 - Starter Files from Intro to Game Dev with Unity repo [access:4ff849da461::rrtGJAd2ae1e]\"}, {\"id_x\": 149, \"status\": \"I\", \"attendanceSessionId\": 9, \"userId\": 106, \"id_y\": 1131, \"activity\": \"Accessed Session 6 Recap from Intro to Game Dev with Unity repo [access:1d9bec2ad95::rrtGJAd2ae1e]\"}, {\"id_x\": 149, \"status\": \"I\", \"attendanceSessionId\": 9, \"userId\": 106, \"id_y\": 1132, \"activity\": \"Logged in\"}, {\"id_x\": 149, \"status\": \"I\", \"attendanceSessionId\": 9, \"userId\": 106, \"id_y\": 1133, \"activity\": \"Accessed Session 5 Recap from Intro to Game Dev with Unity repo [access:f2ec33fafc6::rrtGJAd2ae1e]\"}, {\"id_x\": 149, \"status\": \"I\", \"attendanceSessionId\": 9, \"userId\": 106, \"id_y\": 1202, \"activity\": \"Logged in\"}, {\"id_x\": 149, \"status\": \"I\", \"attendanceSessionId\": 9, \"userId\": 106, \"id_y\": 1203, \"activity\": \"Accessed Session 7 - Starter Files from Intro to Game Dev with Unity repo [access:0274231c583::rrtGJAd2ae1e]\"}, {\"id_x\": 149, \"status\": \"I\", \"attendanceSessionId\": 9, \"userId\": 106, \"id_y\": 1204, \"activity\": \"Accessed Session 7 Recap from Intro to Game Dev with Unity repo [access:f808a2f41b5::rrtGJAd2ae1e]\"}, {\"id_x\": 149, \"status\": \"I\", \"attendanceSessionId\": 9, \"userId\": 106, \"id_y\": 1212, \"activity\": \"Logged in\"}, {\"id_x\": 149, \"status\": \"I\", \"attendanceSessionId\": 9, \"userId\": 106, \"id_y\": 1213, \"activity\": \"Accessed Session 8 - Starter Files from Intro to Game Dev with Unity repo [access:1d14e303b59::rrtGJAd2ae1e]\"}, {\"id_x\": 149, \"status\": \"I\", \"attendanceSessionId\": 9, \"userId\": 106, \"id_y\": 1214, \"activity\": \"Accessed Session 7 Recap from Intro to Game Dev with Unity repo [access:f808a2f41b5::rrtGJAd2ae1e]\"}, {\"id_x\": 149, \"status\": \"I\", \"attendanceSessionId\": 9, \"userId\": 106, \"id_y\": 1215, \"activity\": \"Accessed Session 7 Recap from Intro to Game Dev with Unity repo [access:f808a2f41b5::rrtGJAd2ae1e]\"}, {\"id_x\": 149, \"status\": \"I\", \"attendanceSessionId\": 9, \"userId\": 106, \"id_y\": 1270, \"activity\": \"Logged in\"}, {\"id_x\": 149, \"status\": \"I\", \"attendanceSessionId\": 9, \"userId\": 106, \"id_y\": 1271, \"activity\": \"Logged in\"}, {\"id_x\": 149, \"status\": \"I\", \"attendanceSessionId\": 9, \"userId\": 106, \"id_y\": 1272, \"activity\": \"Logged in\"}, {\"id_x\": 149, \"status\": \"I\", \"attendanceSessionId\": 9, \"userId\": 106, \"id_y\": 1273, \"activity\": \"Logged in\"}, {\"id_x\": 152, \"status\": \"A\", \"attendanceSessionId\": 10, \"userId\": 121, \"id_y\": 1321, \"activity\": \"Enrolled onto Programming Fundamentals\"}, {\"id_x\": 152, \"status\": \"A\", \"attendanceSessionId\": 10, \"userId\": 121, \"id_y\": 1322, \"activity\": \"Password expired. Redirecting to update password\"}, {\"id_x\": 153, \"status\": \"P\", \"attendanceSessionId\": 10, \"userId\": 122, \"id_y\": 1327, \"activity\": \"Enrolled onto Programming Fundamentals\"}, {\"id_x\": 154, \"status\": \"A\", \"attendanceSessionId\": 10, \"userId\": 123, \"id_y\": 1330, \"activity\": \"Enrolled onto Programming Fundamentals\"}, {\"id_x\": 155, \"status\": \"A\", \"attendanceSessionId\": 10, \"userId\": 124, \"id_y\": 1333, \"activity\": \"Enrolled onto Programming Fundamentals\"}, {\"id_x\": 156, \"status\": \"P\", \"attendanceSessionId\": 10, \"userId\": 125, \"id_y\": 1340, \"activity\": \"Enrolled onto Programming Fundamentals\"}, {\"id_x\": 157, \"status\": \"A\", \"attendanceSessionId\": 10, \"userId\": 127, \"id_y\": 1344, \"activity\": \"Enrolled onto Programming Fundamentals\"}, {\"id_x\": 158, \"status\": \"A\", \"attendanceSessionId\": 10, \"userId\": 128, \"id_y\": 1345, \"activity\": \"Enrolled onto Programming Fundamentals\"}]}}, {\"actions\": false, \"mode\": \"vega-lite\"});\n</script>",
      "text/plain": "alt.Chart(...)"
     },
     "metadata": {}
    }
   ]
  },
  {
   "cell_type": "code",
   "metadata": {
    "cell_id": "3f4499c1eb964b9f9912dcf23de876fe",
    "tags": [],
    "deepnote_to_be_reexecuted": false,
    "source_hash": "c4f88827",
    "execution_start": 1652664893484,
    "execution_millis": 46,
    "deepnote_cell_type": "code",
    "deepnote_cell_height": 518
   },
   "source": "df3.describe()",
   "execution_count": 14,
   "outputs": [
    {
     "output_type": "execute_result",
     "execution_count": 14,
     "data": {
      "application/vnd.deepnote.dataframe.v3+json": {
       "column_count": 4,
       "row_count": 8,
       "columns": [
        {
         "name": "id_x",
         "dtype": "float64",
         "stats": {
          "unique_count": 8,
          "nan_count": 0,
          "min": "28.0",
          "max": "706.0",
          "histogram": [
           {
            "bin_start": 28,
            "bin_end": 95.8,
            "count": 5
           },
           {
            "bin_start": 95.8,
            "bin_end": 163.6,
            "count": 2
           },
           {
            "bin_start": 163.6,
            "bin_end": 231.39999999999998,
            "count": 0
           },
           {
            "bin_start": 231.39999999999998,
            "bin_end": 299.2,
            "count": 0
           },
           {
            "bin_start": 299.2,
            "bin_end": 367,
            "count": 0
           },
           {
            "bin_start": 367,
            "bin_end": 434.79999999999995,
            "count": 0
           },
           {
            "bin_start": 434.79999999999995,
            "bin_end": 502.59999999999997,
            "count": 0
           },
           {
            "bin_start": 502.59999999999997,
            "bin_end": 570.4,
            "count": 0
           },
           {
            "bin_start": 570.4,
            "bin_end": 638.1999999999999,
            "count": 0
           },
           {
            "bin_start": 638.1999999999999,
            "bin_end": 706,
            "count": 1
           }
          ]
         }
        },
        {
         "name": "attendanceSessionId",
         "dtype": "float64",
         "stats": {
          "unique_count": 8,
          "nan_count": 0,
          "min": "1.0",
          "max": "706.0",
          "histogram": [
           {
            "bin_start": 1,
            "bin_end": 71.5,
            "count": 7
           },
           {
            "bin_start": 71.5,
            "bin_end": 142,
            "count": 0
           },
           {
            "bin_start": 142,
            "bin_end": 212.5,
            "count": 0
           },
           {
            "bin_start": 212.5,
            "bin_end": 283,
            "count": 0
           },
           {
            "bin_start": 283,
            "bin_end": 353.5,
            "count": 0
           },
           {
            "bin_start": 353.5,
            "bin_end": 424,
            "count": 0
           },
           {
            "bin_start": 424,
            "bin_end": 494.5,
            "count": 0
           },
           {
            "bin_start": 494.5,
            "bin_end": 565,
            "count": 0
           },
           {
            "bin_start": 565,
            "bin_end": 635.5,
            "count": 0
           },
           {
            "bin_start": 635.5,
            "bin_end": 706,
            "count": 1
           }
          ]
         }
        },
        {
         "name": "userId",
         "dtype": "float64",
         "stats": {
          "unique_count": 8,
          "nan_count": 0,
          "min": "16.193168216376087",
          "max": "706.0",
          "histogram": [
           {
            "bin_start": 16.193168216376087,
            "bin_end": 85.17385139473848,
            "count": 3
           },
           {
            "bin_start": 85.17385139473848,
            "bin_end": 154.15453457310088,
            "count": 4
           },
           {
            "bin_start": 154.15453457310088,
            "bin_end": 223.13521775146327,
            "count": 0
           },
           {
            "bin_start": 223.13521775146327,
            "bin_end": 292.11590092982567,
            "count": 0
           },
           {
            "bin_start": 292.11590092982567,
            "bin_end": 361.09658410818804,
            "count": 0
           },
           {
            "bin_start": 361.09658410818804,
            "bin_end": 430.07726728655047,
            "count": 0
           },
           {
            "bin_start": 430.07726728655047,
            "bin_end": 499.0579504649129,
            "count": 0
           },
           {
            "bin_start": 499.0579504649129,
            "bin_end": 568.0386336432753,
            "count": 0
           },
           {
            "bin_start": 568.0386336432753,
            "bin_end": 637.0193168216376,
            "count": 0
           },
           {
            "bin_start": 637.0193168216376,
            "bin_end": 706,
            "count": 1
           }
          ]
         }
        },
        {
         "name": "id_y",
         "dtype": "float64",
         "stats": {
          "unique_count": 8,
          "nan_count": 0,
          "min": "99.0317455023503",
          "max": "1418.0",
          "histogram": [
           {
            "bin_start": 99.0317455023503,
            "bin_end": 230.92857095211528,
            "count": 1
           },
           {
            "bin_start": 230.92857095211528,
            "bin_end": 362.82539640188025,
            "count": 0
           },
           {
            "bin_start": 362.82539640188025,
            "bin_end": 494.72222185164526,
            "count": 0
           },
           {
            "bin_start": 494.72222185164526,
            "bin_end": 626.6190473014102,
            "count": 0
           },
           {
            "bin_start": 626.6190473014102,
            "bin_end": 758.5158727511752,
            "count": 1
           },
           {
            "bin_start": 758.5158727511752,
            "bin_end": 890.4126982009402,
            "count": 0
           },
           {
            "bin_start": 890.4126982009402,
            "bin_end": 1022.3095236507052,
            "count": 0
           },
           {
            "bin_start": 1022.3095236507052,
            "bin_end": 1154.20634910047,
            "count": 2
           },
           {
            "bin_start": 1154.20634910047,
            "bin_end": 1286.103174550235,
            "count": 3
           },
           {
            "bin_start": 1286.103174550235,
            "bin_end": 1418,
            "count": 1
           }
          ]
         }
        },
        {
         "name": "_deepnote_index_column",
         "dtype": "object"
        }
       ],
       "rows": [
        {
         "id_x": 706,
         "attendanceSessionId": 706,
         "userId": 706,
         "id_y": 706,
         "_deepnote_index_column": "count"
        },
        {
         "id_x": 90.11189801699717,
         "attendanceSessionId": 5.219546742209632,
         "userId": 92.47875354107649,
         "id_y": 1179.240793201133,
         "_deepnote_index_column": "mean"
        },
        {
         "id_x": 35.79936526353301,
         "attendanceSessionId": 2.7265363305193375,
         "userId": 16.193168216376087,
         "id_y": 99.0317455023503,
         "_deepnote_index_column": "std"
        },
        {
         "id_x": 28,
         "attendanceSessionId": 1,
         "userId": 66,
         "id_y": 1028,
         "_deepnote_index_column": "min"
        },
        {
         "id_x": 62,
         "attendanceSessionId": 3,
         "userId": 73,
         "id_y": 1083,
         "_deepnote_index_column": "25%"
        },
        {
         "id_x": 92,
         "attendanceSessionId": 5,
         "userId": 105,
         "id_y": 1204,
         "_deepnote_index_column": "50%"
        },
        {
         "id_x": 115,
         "attendanceSessionId": 8,
         "userId": 106,
         "id_y": 1257.75,
         "_deepnote_index_column": "75%"
        },
        {
         "id_x": 159,
         "attendanceSessionId": 10,
         "userId": 128,
         "id_y": 1418,
         "_deepnote_index_column": "max"
        }
       ]
      },
      "text/plain": "             id_x  attendanceSessionId      userId         id_y\ncount  706.000000           706.000000  706.000000   706.000000\nmean    90.111898             5.219547   92.478754  1179.240793\nstd     35.799365             2.726536   16.193168    99.031746\nmin     28.000000             1.000000   66.000000  1028.000000\n25%     62.000000             3.000000   73.000000  1083.000000\n50%     92.000000             5.000000  105.000000  1204.000000\n75%    115.000000             8.000000  106.000000  1257.750000\nmax    159.000000            10.000000  128.000000  1418.000000",
      "text/html": "<div>\n<style scoped>\n    .dataframe tbody tr th:only-of-type {\n        vertical-align: middle;\n    }\n\n    .dataframe tbody tr th {\n        vertical-align: top;\n    }\n\n    .dataframe thead th {\n        text-align: right;\n    }\n</style>\n<table border=\"1\" class=\"dataframe\">\n  <thead>\n    <tr style=\"text-align: right;\">\n      <th></th>\n      <th>id_x</th>\n      <th>attendanceSessionId</th>\n      <th>userId</th>\n      <th>id_y</th>\n    </tr>\n  </thead>\n  <tbody>\n    <tr>\n      <th>count</th>\n      <td>706.000000</td>\n      <td>706.000000</td>\n      <td>706.000000</td>\n      <td>706.000000</td>\n    </tr>\n    <tr>\n      <th>mean</th>\n      <td>90.111898</td>\n      <td>5.219547</td>\n      <td>92.478754</td>\n      <td>1179.240793</td>\n    </tr>\n    <tr>\n      <th>std</th>\n      <td>35.799365</td>\n      <td>2.726536</td>\n      <td>16.193168</td>\n      <td>99.031746</td>\n    </tr>\n    <tr>\n      <th>min</th>\n      <td>28.000000</td>\n      <td>1.000000</td>\n      <td>66.000000</td>\n      <td>1028.000000</td>\n    </tr>\n    <tr>\n      <th>25%</th>\n      <td>62.000000</td>\n      <td>3.000000</td>\n      <td>73.000000</td>\n      <td>1083.000000</td>\n    </tr>\n    <tr>\n      <th>50%</th>\n      <td>92.000000</td>\n      <td>5.000000</td>\n      <td>105.000000</td>\n      <td>1204.000000</td>\n    </tr>\n    <tr>\n      <th>75%</th>\n      <td>115.000000</td>\n      <td>8.000000</td>\n      <td>106.000000</td>\n      <td>1257.750000</td>\n    </tr>\n    <tr>\n      <th>max</th>\n      <td>159.000000</td>\n      <td>10.000000</td>\n      <td>128.000000</td>\n      <td>1418.000000</td>\n    </tr>\n  </tbody>\n</table>\n</div>"
     },
     "metadata": {}
    }
   ]
  },
  {
   "cell_type": "code",
   "metadata": {
    "cell_id": "44d9cac2bbbe4996ade2c7e5b3c64da2",
    "tags": [],
    "deepnote_to_be_reexecuted": false,
    "source_hash": "96a9c820",
    "execution_start": 1652664893535,
    "execution_millis": 142,
    "deepnote_table_state": {
     "pageSize": 10,
     "pageIndex": 0,
     "filters": [],
     "sortBy": []
    },
    "deepnote_table_loading": false,
    "deepnote_cell_type": "code",
    "deepnote_cell_height": 631.59375
   },
   "source": "users = pd.read_csv('users.csv')\nusers",
   "execution_count": 15,
   "outputs": [
    {
     "output_type": "execute_result",
     "execution_count": 15,
     "data": {
      "application/vnd.deepnote.dataframe.v3+json": {
       "column_count": 30,
       "row_count": 90,
       "columns": [
        {
         "name": "userId",
         "dtype": "int64",
         "stats": {
          "unique_count": 90,
          "nan_count": 0,
          "min": "0",
          "max": "133",
          "histogram": [
           {
            "bin_start": 0,
            "bin_end": 13.3,
            "count": 14
           },
           {
            "bin_start": 13.3,
            "bin_end": 26.6,
            "count": 13
           },
           {
            "bin_start": 26.6,
            "bin_end": 39.900000000000006,
            "count": 13
           },
           {
            "bin_start": 39.900000000000006,
            "bin_end": 53.2,
            "count": 14
           },
           {
            "bin_start": 53.2,
            "bin_end": 66.5,
            "count": 2
           },
           {
            "bin_start": 66.5,
            "bin_end": 79.80000000000001,
            "count": 3
           },
           {
            "bin_start": 79.80000000000001,
            "bin_end": 93.10000000000001,
            "count": 8
           },
           {
            "bin_start": 93.10000000000001,
            "bin_end": 106.4,
            "count": 2
           },
           {
            "bin_start": 106.4,
            "bin_end": 119.7,
            "count": 7
           },
           {
            "bin_start": 119.7,
            "bin_end": 133,
            "count": 14
           }
          ]
         }
        },
        {
         "name": "created_at",
         "dtype": "object",
         "stats": {
          "unique_count": 90,
          "nan_count": 0,
          "categories": [
           {
            "name": "2021-06-07 15:06:21.000000",
            "count": 1
           },
           {
            "name": "2020-07-16 21:29:29.814864",
            "count": 1
           },
           {
            "name": "88 others",
            "count": 88
           }
          ]
         }
        },
        {
         "name": "updated_at",
         "dtype": "object",
         "stats": {
          "unique_count": 38,
          "nan_count": 0,
          "categories": [
           {
            "name": "2021-02-16 00:21:07.000000",
            "count": 46
           },
           {
            "name": "2021-06-25 15:13:34.000000",
            "count": 7
           },
           {
            "name": "36 others",
            "count": 37
           }
          ]
         }
        },
        {
         "name": "firstName",
         "dtype": "object",
         "stats": {
          "unique_count": 2,
          "nan_count": 0,
          "categories": [
           {
            "name": "[[REDACTED]]",
            "count": 89
           },
           {
            "name": "ProjectFunction",
            "count": 1
           }
          ]
         }
        },
        {
         "name": "lastName",
         "dtype": "object",
         "stats": {
          "unique_count": 87,
          "nan_count": 0,
          "categories": [
           {
            "name": "Khan",
            "count": 2
           },
           {
            "name": "Hayre",
            "count": 2
           },
           {
            "name": "85 others",
            "count": 86
           }
          ]
         }
        },
        {
         "name": "email",
         "dtype": "object",
         "stats": {
          "unique_count": 1,
          "nan_count": 0,
          "categories": [
           {
            "name": "[[REDACTED]]",
            "count": 90
           }
          ]
         }
        },
        {
         "name": "profilePicture",
         "dtype": "object",
         "stats": {
          "unique_count": 5,
          "nan_count": 80,
          "categories": [
           {
            "name": "[[REDACTED]]",
            "count": 6
           },
           {
            "name": "4 others",
            "count": 4
           },
           {
            "name": "Missing",
            "count": 80
           }
          ]
         }
        },
        {
         "name": "username",
         "dtype": "object",
         "stats": {
          "unique_count": 2,
          "nan_count": 0,
          "categories": [
           {
            "name": "[[REDACTED]]",
            "count": 89
           },
           {
            "name": "system",
            "count": 1
           }
          ]
         }
        },
        {
         "name": "title",
         "dtype": "object",
         "stats": {
          "unique_count": 2,
          "nan_count": 1,
          "categories": [
           {
            "name": "They/Them",
            "count": 75
           },
           {
            "name": "[[REDACTED]]",
            "count": 14
           },
           {
            "name": "Missing",
            "count": 1
           }
          ]
         }
        },
        {
         "name": "bio",
         "dtype": "object",
         "stats": {
          "unique_count": 1,
          "nan_count": 89,
          "categories": [
           {
            "name": "Beep Beep Boop",
            "count": 1
           },
           {
            "name": "Missing",
            "count": 89
           }
          ]
         }
        },
        {
         "name": "password_hash",
         "dtype": "object",
         "stats": {
          "unique_count": 1,
          "nan_count": 1,
          "categories": [
           {
            "name": "[[REDACTED]]",
            "count": 89
           },
           {
            "name": "Missing",
            "count": 1
           }
          ]
         }
        },
        {
         "name": "saltine",
         "dtype": "object",
         "stats": {
          "unique_count": 89,
          "nan_count": 1,
          "categories": [
           {
            "name": "2dbf92f4669fcb7e87cc7f7a596321f3d4c85847edeb0364198cbce87bd67088::15.17966887244392",
            "count": 1
           },
           {
            "name": "88 others",
            "count": 88
           },
           {
            "name": "Missing",
            "count": 1
           }
          ]
         }
        },
        {
         "name": "isSuperUser",
         "dtype": "int64",
         "stats": {
          "unique_count": 2,
          "nan_count": 0,
          "min": "0",
          "max": "1",
          "histogram": [
           {
            "bin_start": 0,
            "bin_end": 0.1,
            "count": 87
           },
           {
            "bin_start": 0.1,
            "bin_end": 0.2,
            "count": 0
           },
           {
            "bin_start": 0.2,
            "bin_end": 0.30000000000000004,
            "count": 0
           },
           {
            "bin_start": 0.30000000000000004,
            "bin_end": 0.4,
            "count": 0
           },
           {
            "bin_start": 0.4,
            "bin_end": 0.5,
            "count": 0
           },
           {
            "bin_start": 0.5,
            "bin_end": 0.6000000000000001,
            "count": 0
           },
           {
            "bin_start": 0.6000000000000001,
            "bin_end": 0.7000000000000001,
            "count": 0
           },
           {
            "bin_start": 0.7000000000000001,
            "bin_end": 0.8,
            "count": 0
           },
           {
            "bin_start": 0.8,
            "bin_end": 0.9,
            "count": 0
           },
           {
            "bin_start": 0.9,
            "bin_end": 1,
            "count": 3
           }
          ]
         }
        },
        {
         "name": "isVerified",
         "dtype": "int64",
         "stats": {
          "unique_count": 2,
          "nan_count": 0,
          "min": "0",
          "max": "1",
          "histogram": [
           {
            "bin_start": 0,
            "bin_end": 0.1,
            "count": 16
           },
           {
            "bin_start": 0.1,
            "bin_end": 0.2,
            "count": 0
           },
           {
            "bin_start": 0.2,
            "bin_end": 0.30000000000000004,
            "count": 0
           },
           {
            "bin_start": 0.30000000000000004,
            "bin_end": 0.4,
            "count": 0
           },
           {
            "bin_start": 0.4,
            "bin_end": 0.5,
            "count": 0
           },
           {
            "bin_start": 0.5,
            "bin_end": 0.6000000000000001,
            "count": 0
           },
           {
            "bin_start": 0.6000000000000001,
            "bin_end": 0.7000000000000001,
            "count": 0
           },
           {
            "bin_start": 0.7000000000000001,
            "bin_end": 0.8,
            "count": 0
           },
           {
            "bin_start": 0.8,
            "bin_end": 0.9,
            "count": 0
           },
           {
            "bin_start": 0.9,
            "bin_end": 1,
            "count": 74
           }
          ]
         }
        },
        {
         "name": "isBanned",
         "dtype": "int64",
         "stats": {
          "unique_count": 1,
          "nan_count": 0,
          "min": "0",
          "max": "0",
          "histogram": [
           {
            "bin_start": -0.5,
            "bin_end": -0.4,
            "count": 0
           },
           {
            "bin_start": -0.4,
            "bin_end": -0.3,
            "count": 0
           },
           {
            "bin_start": -0.3,
            "bin_end": -0.19999999999999996,
            "count": 0
           },
           {
            "bin_start": -0.19999999999999996,
            "bin_end": -0.09999999999999998,
            "count": 0
           },
           {
            "bin_start": -0.09999999999999998,
            "bin_end": 0,
            "count": 0
           },
           {
            "bin_start": 0,
            "bin_end": 0.10000000000000009,
            "count": 90
           },
           {
            "bin_start": 0.10000000000000009,
            "bin_end": 0.20000000000000007,
            "count": 0
           },
           {
            "bin_start": 0.20000000000000007,
            "bin_end": 0.30000000000000004,
            "count": 0
           },
           {
            "bin_start": 0.30000000000000004,
            "bin_end": 0.4,
            "count": 0
           },
           {
            "bin_start": 0.4,
            "bin_end": 0.5,
            "count": 0
           }
          ]
         }
        },
        {
         "name": "isPasswordExpired",
         "dtype": "int64",
         "stats": {
          "unique_count": 2,
          "nan_count": 0,
          "min": "0",
          "max": "1",
          "histogram": [
           {
            "bin_start": 0,
            "bin_end": 0.1,
            "count": 27
           },
           {
            "bin_start": 0.1,
            "bin_end": 0.2,
            "count": 0
           },
           {
            "bin_start": 0.2,
            "bin_end": 0.30000000000000004,
            "count": 0
           },
           {
            "bin_start": 0.30000000000000004,
            "bin_end": 0.4,
            "count": 0
           },
           {
            "bin_start": 0.4,
            "bin_end": 0.5,
            "count": 0
           },
           {
            "bin_start": 0.5,
            "bin_end": 0.6000000000000001,
            "count": 0
           },
           {
            "bin_start": 0.6000000000000001,
            "bin_end": 0.7000000000000001,
            "count": 0
           },
           {
            "bin_start": 0.7000000000000001,
            "bin_end": 0.8,
            "count": 0
           },
           {
            "bin_start": 0.8,
            "bin_end": 0.9,
            "count": 0
           },
           {
            "bin_start": 0.9,
            "bin_end": 1,
            "count": 63
           }
          ]
         }
        },
        {
         "name": "lastLogin",
         "dtype": "object",
         "stats": {
          "unique_count": 64,
          "nan_count": 1,
          "categories": [
           {
            "name": "2020-07-16 22:34:39",
            "count": 4
           },
           {
            "name": "63 others",
            "count": 85
           },
           {
            "name": "Missing",
            "count": 1
           }
          ]
         }
        },
        {
         "name": "loginAttempts",
         "dtype": "int64",
         "stats": {
          "unique_count": 5,
          "nan_count": 0,
          "min": "0",
          "max": "5",
          "histogram": [
           {
            "bin_start": 0,
            "bin_end": 0.5,
            "count": 82
           },
           {
            "bin_start": 0.5,
            "bin_end": 1,
            "count": 0
           },
           {
            "bin_start": 1,
            "bin_end": 1.5,
            "count": 3
           },
           {
            "bin_start": 1.5,
            "bin_end": 2,
            "count": 0
           },
           {
            "bin_start": 2,
            "bin_end": 2.5,
            "count": 1
           },
           {
            "bin_start": 2.5,
            "bin_end": 3,
            "count": 0
           },
           {
            "bin_start": 3,
            "bin_end": 3.5,
            "count": 3
           },
           {
            "bin_start": 3.5,
            "bin_end": 4,
            "count": 0
           },
           {
            "bin_start": 4,
            "bin_end": 4.5,
            "count": 0
           },
           {
            "bin_start": 4.5,
            "bin_end": 5,
            "count": 1
           }
          ]
         }
        },
        {
         "name": "githubAccountId",
         "dtype": "float64",
         "stats": {
          "unique_count": 21,
          "nan_count": 69,
          "min": "2.0",
          "max": "25.0",
          "histogram": [
           {
            "bin_start": 2,
            "bin_end": 4.3,
            "count": 3
           },
           {
            "bin_start": 4.3,
            "bin_end": 6.6,
            "count": 2
           },
           {
            "bin_start": 6.6,
            "bin_end": 8.899999999999999,
            "count": 2
           },
           {
            "bin_start": 8.899999999999999,
            "bin_end": 11.2,
            "count": 3
           },
           {
            "bin_start": 11.2,
            "bin_end": 13.5,
            "count": 2
           },
           {
            "bin_start": 13.5,
            "bin_end": 15.799999999999999,
            "count": 2
           },
           {
            "bin_start": 15.799999999999999,
            "bin_end": 18.099999999999998,
            "count": 2
           },
           {
            "bin_start": 18.099999999999998,
            "bin_end": 20.4,
            "count": 1
           },
           {
            "bin_start": 20.4,
            "bin_end": 22.7,
            "count": 2
           },
           {
            "bin_start": 22.7,
            "bin_end": 25,
            "count": 2
           }
          ]
         }
        },
        {
         "name": "currentSessionId",
         "dtype": "float64",
         "stats": {
          "unique_count": 44,
          "nan_count": 46,
          "min": "153.0",
          "max": "1307.0",
          "histogram": [
           {
            "bin_start": 153,
            "bin_end": 268.4,
            "count": 3
           },
           {
            "bin_start": 268.4,
            "bin_end": 383.8,
            "count": 1
           },
           {
            "bin_start": 383.8,
            "bin_end": 499.20000000000005,
            "count": 2
           },
           {
            "bin_start": 499.20000000000005,
            "bin_end": 614.6,
            "count": 1
           },
           {
            "bin_start": 614.6,
            "bin_end": 730,
            "count": 1
           },
           {
            "bin_start": 730,
            "bin_end": 845.4000000000001,
            "count": 2
           },
           {
            "bin_start": 845.4000000000001,
            "bin_end": 960.8000000000001,
            "count": 4
           },
           {
            "bin_start": 960.8000000000001,
            "bin_end": 1076.2,
            "count": 6
           },
           {
            "bin_start": 1076.2,
            "bin_end": 1191.6000000000001,
            "count": 16
           },
           {
            "bin_start": 1191.6000000000001,
            "bin_end": 1307,
            "count": 8
           }
          ]
         }
        },
        {
         "name": "banReason",
         "dtype": "int64",
         "stats": {
          "unique_count": 1,
          "nan_count": 0,
          "min": "0",
          "max": "0",
          "histogram": [
           {
            "bin_start": -0.5,
            "bin_end": -0.4,
            "count": 0
           },
           {
            "bin_start": -0.4,
            "bin_end": -0.3,
            "count": 0
           },
           {
            "bin_start": -0.3,
            "bin_end": -0.19999999999999996,
            "count": 0
           },
           {
            "bin_start": -0.19999999999999996,
            "bin_end": -0.09999999999999998,
            "count": 0
           },
           {
            "bin_start": -0.09999999999999998,
            "bin_end": 0,
            "count": 0
           },
           {
            "bin_start": 0,
            "bin_end": 0.10000000000000009,
            "count": 90
           },
           {
            "bin_start": 0.10000000000000009,
            "bin_end": 0.20000000000000007,
            "count": 0
           },
           {
            "bin_start": 0.20000000000000007,
            "bin_end": 0.30000000000000004,
            "count": 0
           },
           {
            "bin_start": 0.30000000000000004,
            "bin_end": 0.4,
            "count": 0
           },
           {
            "bin_start": 0.4,
            "bin_end": 0.5,
            "count": 0
           }
          ]
         }
        },
        {
         "name": "workStatus",
         "dtype": "object",
         "stats": {
          "unique_count": 1,
          "nan_count": 80,
          "categories": [
           {
            "name": "Not looking for work",
            "count": 10
           },
           {
            "name": "Missing",
            "count": 80
           }
          ]
         }
        },
        {
         "name": "education",
         "dtype": "object",
         "stats": {
          "unique_count": 1,
          "nan_count": 80,
          "categories": [
           {
            "name": "Not Specified",
            "count": 10
           },
           {
            "name": "Missing",
            "count": 80
           }
          ]
         }
        },
        {
         "name": "website",
         "dtype": "float64",
         "stats": {
          "unique_count": 0,
          "nan_count": 90,
          "min": null,
          "max": null,
          "histogram": [
           {
            "bin_start": 0,
            "bin_end": 0.1,
            "count": 0
           },
           {
            "bin_start": 0.1,
            "bin_end": 0.2,
            "count": 0
           },
           {
            "bin_start": 0.2,
            "bin_end": 0.30000000000000004,
            "count": 0
           },
           {
            "bin_start": 0.30000000000000004,
            "bin_end": 0.4,
            "count": 0
           },
           {
            "bin_start": 0.4,
            "bin_end": 0.5,
            "count": 0
           },
           {
            "bin_start": 0.5,
            "bin_end": 0.6000000000000001,
            "count": 0
           },
           {
            "bin_start": 0.6000000000000001,
            "bin_end": 0.7000000000000001,
            "count": 0
           },
           {
            "bin_start": 0.7000000000000001,
            "bin_end": 0.8,
            "count": 0
           },
           {
            "bin_start": 0.8,
            "bin_end": 0.9,
            "count": 0
           },
           {
            "bin_start": 0.9,
            "bin_end": 1,
            "count": 0
           }
          ]
         }
        },
        {
         "name": "isDeactivated",
         "dtype": "int64",
         "stats": {
          "unique_count": 1,
          "nan_count": 0,
          "min": "0",
          "max": "0",
          "histogram": [
           {
            "bin_start": -0.5,
            "bin_end": -0.4,
            "count": 0
           },
           {
            "bin_start": -0.4,
            "bin_end": -0.3,
            "count": 0
           },
           {
            "bin_start": -0.3,
            "bin_end": -0.19999999999999996,
            "count": 0
           },
           {
            "bin_start": -0.19999999999999996,
            "bin_end": -0.09999999999999998,
            "count": 0
           },
           {
            "bin_start": -0.09999999999999998,
            "bin_end": 0,
            "count": 0
           },
           {
            "bin_start": 0,
            "bin_end": 0.10000000000000009,
            "count": 90
           },
           {
            "bin_start": 0.10000000000000009,
            "bin_end": 0.20000000000000007,
            "count": 0
           },
           {
            "bin_start": 0.20000000000000007,
            "bin_end": 0.30000000000000004,
            "count": 0
           },
           {
            "bin_start": 0.30000000000000004,
            "bin_end": 0.4,
            "count": 0
           },
           {
            "bin_start": 0.4,
            "bin_end": 0.5,
            "count": 0
           }
          ]
         }
        },
        {
         "name": "netlifyToken",
         "dtype": "object",
         "stats": {
          "unique_count": 1,
          "nan_count": 73,
          "categories": [
           {
            "name": "[[REDACTED]]",
            "count": 17
           },
           {
            "name": "Missing",
            "count": 73
           }
          ]
         }
        },
        {
         "name": "isInvited",
         "dtype": "int64",
         "stats": {
          "unique_count": 2,
          "nan_count": 0,
          "min": "0",
          "max": "1",
          "histogram": [
           {
            "bin_start": 0,
            "bin_end": 0.1,
            "count": 3
           },
           {
            "bin_start": 0.1,
            "bin_end": 0.2,
            "count": 0
           },
           {
            "bin_start": 0.2,
            "bin_end": 0.30000000000000004,
            "count": 0
           },
           {
            "bin_start": 0.30000000000000004,
            "bin_end": 0.4,
            "count": 0
           },
           {
            "bin_start": 0.4,
            "bin_end": 0.5,
            "count": 0
           },
           {
            "bin_start": 0.5,
            "bin_end": 0.6000000000000001,
            "count": 0
           },
           {
            "bin_start": 0.6000000000000001,
            "bin_end": 0.7000000000000001,
            "count": 0
           },
           {
            "bin_start": 0.7000000000000001,
            "bin_end": 0.8,
            "count": 0
           },
           {
            "bin_start": 0.8,
            "bin_end": 0.9,
            "count": 0
           },
           {
            "bin_start": 0.9,
            "bin_end": 1,
            "count": 87
           }
          ]
         }
        },
        {
         "name": "confirmationCode",
         "dtype": "object",
         "stats": {
          "unique_count": 1,
          "nan_count": 87,
          "categories": [
           {
            "name": "[[REDACTED]]",
            "count": 3
           },
           {
            "name": "Missing",
            "count": 87
           }
          ]
         }
        },
        {
         "name": "profileHeaderPicture",
         "dtype": "float64",
         "stats": {
          "unique_count": 0,
          "nan_count": 90,
          "min": null,
          "max": null,
          "histogram": [
           {
            "bin_start": 0,
            "bin_end": 0.1,
            "count": 0
           },
           {
            "bin_start": 0.1,
            "bin_end": 0.2,
            "count": 0
           },
           {
            "bin_start": 0.2,
            "bin_end": 0.30000000000000004,
            "count": 0
           },
           {
            "bin_start": 0.30000000000000004,
            "bin_end": 0.4,
            "count": 0
           },
           {
            "bin_start": 0.4,
            "bin_end": 0.5,
            "count": 0
           },
           {
            "bin_start": 0.5,
            "bin_end": 0.6000000000000001,
            "count": 0
           },
           {
            "bin_start": 0.6000000000000001,
            "bin_end": 0.7000000000000001,
            "count": 0
           },
           {
            "bin_start": 0.7000000000000001,
            "bin_end": 0.8,
            "count": 0
           },
           {
            "bin_start": 0.8,
            "bin_end": 0.9,
            "count": 0
           },
           {
            "bin_start": 0.9,
            "bin_end": 1,
            "count": 0
           }
          ]
         }
        },
        {
         "name": "uuid",
         "dtype": "object",
         "stats": {
          "unique_count": 21,
          "nan_count": 69,
          "categories": [
           {
            "name": "67febd98-2b97-4985-ad2f-560ad6cc6fad",
            "count": 1
           },
           {
            "name": "20 others",
            "count": 20
           },
           {
            "name": "Missing",
            "count": 69
           }
          ]
         }
        },
        {
         "name": "_deepnote_index_column",
         "dtype": "int64"
        }
       ],
       "rows": [
        {
         "userId": 0,
         "created_at": "2021-06-07 15:06:21.000000",
         "updated_at": "2021-06-07 15:39:36.200179",
         "firstName": "ProjectFunction",
         "lastName": " ",
         "email": "[[REDACTED]]",
         "profilePicture": "/public/core/images/pf_logo_pride_2021.png",
         "username": "system",
         "title": "nan",
         "bio": "Beep Beep Boop",
         "password_hash": "nan",
         "saltine": "nan",
         "isSuperUser": 0,
         "isVerified": 1,
         "isBanned": 0,
         "isPasswordExpired": 0,
         "lastLogin": "nan",
         "loginAttempts": 0,
         "githubAccountId": "nan",
         "currentSessionId": "nan",
         "banReason": 0,
         "workStatus": "nan",
         "education": "nan",
         "website": "nan",
         "isDeactivated": 0,
         "netlifyToken": "nan",
         "isInvited": 0,
         "confirmationCode": "nan",
         "profileHeaderPicture": "nan",
         "uuid": "nan",
         "_deepnote_index_column": 0
        },
        {
         "userId": 1,
         "created_at": "2020-07-16 21:29:29.814864",
         "updated_at": "2022-02-24 13:05:16.000000",
         "firstName": "[[REDACTED]]",
         "lastName": "Khan",
         "email": "[[REDACTED]]",
         "profilePicture": "[[REDACTED]]",
         "username": "[[REDACTED]]",
         "title": "[[REDACTED]]",
         "bio": "nan",
         "password_hash": "[[REDACTED]]",
         "saltine": "2dbf92f4669fcb7e87cc7f7a596321f3d4c85847edeb0364198cbce87bd67088::15.17966887244392",
         "isSuperUser": 1,
         "isVerified": 1,
         "isBanned": 0,
         "isPasswordExpired": 0,
         "lastLogin": "2022-02-24 13:05:16",
         "loginAttempts": 0,
         "githubAccountId": "nan",
         "currentSessionId": 1298,
         "banReason": 0,
         "workStatus": "nan",
         "education": "nan",
         "website": "nan",
         "isDeactivated": 0,
         "netlifyToken": "nan",
         "isInvited": 0,
         "confirmationCode": "nan",
         "profileHeaderPicture": "nan",
         "uuid": "nan",
         "_deepnote_index_column": 1
        },
        {
         "userId": 2,
         "created_at": "2020-07-16 21:29:30.129192",
         "updated_at": "2022-04-21 10:17:50.000000",
         "firstName": "[[REDACTED]]",
         "lastName": "Cecile",
         "email": "[[REDACTED]]",
         "profilePicture": "/public/res/avatar/thumb/Avatar_Colored_101.jpg",
         "username": "[[REDACTED]]",
         "title": "[[REDACTED]]",
         "bio": "nan",
         "password_hash": "[[REDACTED]]",
         "saltine": "c4ef6e08f26333adb13786eb473176ca8b6276c1050b037533dc0ffa00a8a3a0::29.692183287520333",
         "isSuperUser": 1,
         "isVerified": 1,
         "isBanned": 0,
         "isPasswordExpired": 0,
         "lastLogin": "2022-04-21 10:17:50",
         "loginAttempts": 0,
         "githubAccountId": "nan",
         "currentSessionId": 1307,
         "banReason": 0,
         "workStatus": "nan",
         "education": "nan",
         "website": "nan",
         "isDeactivated": 0,
         "netlifyToken": "[[REDACTED]]",
         "isInvited": 0,
         "confirmationCode": "nan",
         "profileHeaderPicture": "nan",
         "uuid": "nan",
         "_deepnote_index_column": 2
        },
        {
         "userId": 3,
         "created_at": "2020-07-16 21:29:30.433942",
         "updated_at": "2021-11-09 17:38:55.823535",
         "firstName": "[[REDACTED]]",
         "lastName": "Hayre",
         "email": "[[REDACTED]]",
         "profilePicture": "/public/res/avatar/thumb/Avatar_Colored_64.jpg",
         "username": "[[REDACTED]]",
         "title": "They/Them",
         "bio": "nan",
         "password_hash": "[[REDACTED]]",
         "saltine": "c7b205d26d6d5bd6a991725eb3a2de228052e6a1ec0326f577fdea49051a15e1::17.503156110656356",
         "isSuperUser": 0,
         "isVerified": 1,
         "isBanned": 0,
         "isPasswordExpired": 0,
         "lastLogin": "2021-04-08 12:43:11",
         "loginAttempts": 0,
         "githubAccountId": "nan",
         "currentSessionId": 992,
         "banReason": 0,
         "workStatus": "nan",
         "education": "nan",
         "website": "nan",
         "isDeactivated": 0,
         "netlifyToken": "nan",
         "isInvited": 1,
         "confirmationCode": "nan",
         "profileHeaderPicture": "nan",
         "uuid": "nan",
         "_deepnote_index_column": 3
        },
        {
         "userId": 4,
         "created_at": "2020-07-16 21:29:30.714030",
         "updated_at": "2021-07-23 18:26:43.153104",
         "firstName": "[[REDACTED]]",
         "lastName": "Parkinson",
         "email": "[[REDACTED]]",
         "profilePicture": "[[REDACTED]]",
         "username": "[[REDACTED]]",
         "title": "They/Them",
         "bio": "nan",
         "password_hash": "[[REDACTED]]",
         "saltine": "66f16c30bc9822fb5a29ff75184c8e346558791f0df3c78cbcdfd62eabd84051::8.460566120253127",
         "isSuperUser": 1,
         "isVerified": 1,
         "isBanned": 0,
         "isPasswordExpired": 0,
         "lastLogin": "2021-02-20 20:50:21",
         "loginAttempts": 0,
         "githubAccountId": "nan",
         "currentSessionId": 682,
         "banReason": 0,
         "workStatus": "nan",
         "education": "nan",
         "website": "nan",
         "isDeactivated": 0,
         "netlifyToken": "nan",
         "isInvited": 1,
         "confirmationCode": "[[REDACTED]]",
         "profileHeaderPicture": "nan",
         "uuid": "nan",
         "_deepnote_index_column": 4
        },
        {
         "userId": 5,
         "created_at": "2020-07-16 21:29:31.002851",
         "updated_at": "2021-02-16 00:21:07.000000",
         "firstName": "[[REDACTED]]",
         "lastName": "Hodgins",
         "email": "[[REDACTED]]",
         "profilePicture": "nan",
         "username": "[[REDACTED]]",
         "title": "They/Them",
         "bio": "nan",
         "password_hash": "[[REDACTED]]",
         "saltine": "7abe8dc5689aba289156f765dea73e0301a29e8606d24aa9453b4e4310d9a1e0::20.936667177325532",
         "isSuperUser": 0,
         "isVerified": 1,
         "isBanned": 0,
         "isPasswordExpired": 1,
         "lastLogin": "2020-07-16 22:29:31",
         "loginAttempts": 0,
         "githubAccountId": "nan",
         "currentSessionId": "nan",
         "banReason": 0,
         "workStatus": "nan",
         "education": "nan",
         "website": "nan",
         "isDeactivated": 0,
         "netlifyToken": "nan",
         "isInvited": 1,
         "confirmationCode": "nan",
         "profileHeaderPicture": "nan",
         "uuid": "nan",
         "_deepnote_index_column": 5
        },
        {
         "userId": 6,
         "created_at": "2020-07-16 21:34:30.894199",
         "updated_at": "2021-02-16 00:21:07.000000",
         "firstName": "[[REDACTED]]",
         "lastName": "Ayeni",
         "email": "[[REDACTED]]",
         "profilePicture": "nan",
         "username": "[[REDACTED]]",
         "title": "They/Them",
         "bio": "nan",
         "password_hash": "[[REDACTED]]",
         "saltine": "f4911468a87d521a9c27773636574022b372bb69d49daeeb546943fe10d05f87::21.397027712902826",
         "isSuperUser": 0,
         "isVerified": 1,
         "isBanned": 0,
         "isPasswordExpired": 1,
         "lastLogin": "2020-07-16 22:34:31",
         "loginAttempts": 0,
         "githubAccountId": "nan",
         "currentSessionId": "nan",
         "banReason": 0,
         "workStatus": "nan",
         "education": "nan",
         "website": "nan",
         "isDeactivated": 0,
         "netlifyToken": "nan",
         "isInvited": 1,
         "confirmationCode": "nan",
         "profileHeaderPicture": "nan",
         "uuid": "nan",
         "_deepnote_index_column": 6
        },
        {
         "userId": 7,
         "created_at": "2020-07-16 21:34:31.155748",
         "updated_at": "2020-07-16 21:34:31.155748",
         "firstName": "[[REDACTED]]",
         "lastName": "Oshikoya",
         "email": "[[REDACTED]]",
         "profilePicture": "nan",
         "username": "[[REDACTED]]",
         "title": "They/Them",
         "bio": "nan",
         "password_hash": "[[REDACTED]]",
         "saltine": "cd54790951cd0e428998ea1447bb5b0b70541d1b6b140572a75ff3766543d925::11.077379812174414",
         "isSuperUser": 0,
         "isVerified": 1,
         "isBanned": 0,
         "isPasswordExpired": 1,
         "lastLogin": "2020-07-16 22:34:31",
         "loginAttempts": 0,
         "githubAccountId": "nan",
         "currentSessionId": "nan",
         "banReason": 0,
         "workStatus": "nan",
         "education": "nan",
         "website": "nan",
         "isDeactivated": 0,
         "netlifyToken": "nan",
         "isInvited": 1,
         "confirmationCode": "nan",
         "profileHeaderPicture": "nan",
         "uuid": "nan",
         "_deepnote_index_column": 7
        },
        {
         "userId": 8,
         "created_at": "2020-07-16 21:34:31.427422",
         "updated_at": "2021-02-16 00:21:07.000000",
         "firstName": "[[REDACTED]]",
         "lastName": "Gon",
         "email": "[[REDACTED]]",
         "profilePicture": "nan",
         "username": "[[REDACTED]]",
         "title": "[[REDACTED]]",
         "bio": "nan",
         "password_hash": "[[REDACTED]]",
         "saltine": "adf096d38694a63f128fd4676c6c5a8a6ae4448039f2bb9700420b94162ad92d::17.500861533556495",
         "isSuperUser": 0,
         "isVerified": 0,
         "isBanned": 0,
         "isPasswordExpired": 1,
         "lastLogin": "2020-07-16 22:34:31",
         "loginAttempts": 0,
         "githubAccountId": "nan",
         "currentSessionId": "nan",
         "banReason": 0,
         "workStatus": "nan",
         "education": "nan",
         "website": "nan",
         "isDeactivated": 0,
         "netlifyToken": "nan",
         "isInvited": 1,
         "confirmationCode": "nan",
         "profileHeaderPicture": "nan",
         "uuid": "nan",
         "_deepnote_index_column": 8
        },
        {
         "userId": 9,
         "created_at": "2020-07-16 21:34:31.989779",
         "updated_at": "2021-02-16 00:21:07.000000",
         "firstName": "[[REDACTED]]",
         "lastName": "Lindley",
         "email": "[[REDACTED]]",
         "profilePicture": "nan",
         "username": "[[REDACTED]]",
         "title": "[[REDACTED]]",
         "bio": "nan",
         "password_hash": "[[REDACTED]]",
         "saltine": "b457cb3c5d1686a1e4e04322aef82980621030408684f12b1f5d03d2ec255cde::9.23939023245254",
         "isSuperUser": 0,
         "isVerified": 1,
         "isBanned": 0,
         "isPasswordExpired": 1,
         "lastLogin": "2020-07-16 22:34:32",
         "loginAttempts": 0,
         "githubAccountId": 2,
         "currentSessionId": "nan",
         "banReason": 0,
         "workStatus": "nan",
         "education": "nan",
         "website": "nan",
         "isDeactivated": 0,
         "netlifyToken": "[[REDACTED]]",
         "isInvited": 1,
         "confirmationCode": "nan",
         "profileHeaderPicture": "nan",
         "uuid": "nan",
         "_deepnote_index_column": 9
        }
       ]
      },
      "text/plain": "    userId                  created_at                  updated_at  \\\n0        0  2021-06-07 15:06:21.000000  2021-06-07 15:39:36.200179   \n1        1  2020-07-16 21:29:29.814864  2022-02-24 13:05:16.000000   \n2        2  2020-07-16 21:29:30.129192  2022-04-21 10:17:50.000000   \n3        3  2020-07-16 21:29:30.433942  2021-11-09 17:38:55.823535   \n4        4  2020-07-16 21:29:30.714030  2021-07-23 18:26:43.153104   \n..     ...                         ...                         ...   \n85     129  2021-07-01 10:57:45.538132  2021-07-01 10:58:23.000000   \n86     130  2021-07-03 02:23:23.470227  2021-07-26 18:08:10.000000   \n87     131  2021-07-13 11:03:24.207488  2021-07-23 18:56:27.000000   \n88     132  2021-07-14 12:43:22.381483  2021-07-14 12:52:44.000000   \n89     133  2021-07-21 08:22:26.316750  2021-07-21 16:15:43.000000   \n\n          firstName   lastName         email  \\\n0   ProjectFunction             [[REDACTED]]   \n1      [[REDACTED]]       Khan  [[REDACTED]]   \n2      [[REDACTED]]     Cecile  [[REDACTED]]   \n3      [[REDACTED]]      Hayre  [[REDACTED]]   \n4      [[REDACTED]]  Parkinson  [[REDACTED]]   \n..              ...        ...           ...   \n85     [[REDACTED]]      Lodge  [[REDACTED]]   \n86     [[REDACTED]]   Saunders  [[REDACTED]]   \n87     [[REDACTED]]       Webb  [[REDACTED]]   \n88     [[REDACTED]]    Kimario  [[REDACTED]]   \n89     [[REDACTED]]    Esdelle  [[REDACTED]]   \n\n                                     profilePicture      username  \\\n0        /public/core/images/pf_logo_pride_2021.png        system   \n1                                      [[REDACTED]]  [[REDACTED]]   \n2   /public/res/avatar/thumb/Avatar_Colored_101.jpg  [[REDACTED]]   \n3    /public/res/avatar/thumb/Avatar_Colored_64.jpg  [[REDACTED]]   \n4                                      [[REDACTED]]  [[REDACTED]]   \n..                                              ...           ...   \n85                                              NaN  [[REDACTED]]   \n86                                     [[REDACTED]]  [[REDACTED]]   \n87                                              NaN  [[REDACTED]]   \n88                                              NaN  [[REDACTED]]   \n89                                              NaN  [[REDACTED]]   \n\n           title             bio  ... banReason workStatus  education  \\\n0            NaN  Beep Beep Boop  ...         0        NaN        NaN   \n1   [[REDACTED]]             NaN  ...         0        NaN        NaN   \n2   [[REDACTED]]             NaN  ...         0        NaN        NaN   \n3      They/Them             NaN  ...         0        NaN        NaN   \n4      They/Them             NaN  ...         0        NaN        NaN   \n..           ...             ...  ...       ...        ...        ...   \n85     They/Them             NaN  ...         0        NaN        NaN   \n86     They/Them             NaN  ...         0        NaN        NaN   \n87     They/Them             NaN  ...         0        NaN        NaN   \n88     They/Them             NaN  ...         0        NaN        NaN   \n89     They/Them             NaN  ...         0        NaN        NaN   \n\n    website  isDeactivated  netlifyToken isInvited  confirmationCode  \\\n0       NaN              0           NaN         0               NaN   \n1       NaN              0           NaN         0               NaN   \n2       NaN              0  [[REDACTED]]         0               NaN   \n3       NaN              0           NaN         1               NaN   \n4       NaN              0           NaN         1      [[REDACTED]]   \n..      ...            ...           ...       ...               ...   \n85      NaN              0  [[REDACTED]]         1               NaN   \n86      NaN              0           NaN         1               NaN   \n87      NaN              0           NaN         1               NaN   \n88      NaN              0           NaN         1               NaN   \n89      NaN              0           NaN         1               NaN   \n\n    profileHeaderPicture                                  uuid  \n0                    NaN                                   NaN  \n1                    NaN                                   NaN  \n2                    NaN                                   NaN  \n3                    NaN                                   NaN  \n4                    NaN                                   NaN  \n..                   ...                                   ...  \n85                   NaN  6c9a9d44-d27b-4a40-82bc-94fef49ee2cc  \n86                   NaN  2e47b4e4-b04c-4d31-85ae-a118f6ea4aec  \n87                   NaN  aadf68b3-8bd3-4514-aed0-143c5f0ba51d  \n88                   NaN  e1d2ec5c-a5cd-4297-aa28-d3652b095da5  \n89                   NaN  8d1c22d6-d1af-4f41-8e3e-1b2ad05b3d7f  \n\n[90 rows x 30 columns]",
      "text/html": "<div>\n<style scoped>\n    .dataframe tbody tr th:only-of-type {\n        vertical-align: middle;\n    }\n\n    .dataframe tbody tr th {\n        vertical-align: top;\n    }\n\n    .dataframe thead th {\n        text-align: right;\n    }\n</style>\n<table border=\"1\" class=\"dataframe\">\n  <thead>\n    <tr style=\"text-align: right;\">\n      <th></th>\n      <th>userId</th>\n      <th>created_at</th>\n      <th>updated_at</th>\n      <th>firstName</th>\n      <th>lastName</th>\n      <th>email</th>\n      <th>profilePicture</th>\n      <th>username</th>\n      <th>title</th>\n      <th>bio</th>\n      <th>...</th>\n      <th>banReason</th>\n      <th>workStatus</th>\n      <th>education</th>\n      <th>website</th>\n      <th>isDeactivated</th>\n      <th>netlifyToken</th>\n      <th>isInvited</th>\n      <th>confirmationCode</th>\n      <th>profileHeaderPicture</th>\n      <th>uuid</th>\n    </tr>\n  </thead>\n  <tbody>\n    <tr>\n      <th>0</th>\n      <td>0</td>\n      <td>2021-06-07 15:06:21.000000</td>\n      <td>2021-06-07 15:39:36.200179</td>\n      <td>ProjectFunction</td>\n      <td></td>\n      <td>[[REDACTED]]</td>\n      <td>/public/core/images/pf_logo_pride_2021.png</td>\n      <td>system</td>\n      <td>NaN</td>\n      <td>Beep Beep Boop</td>\n      <td>...</td>\n      <td>0</td>\n      <td>NaN</td>\n      <td>NaN</td>\n      <td>NaN</td>\n      <td>0</td>\n      <td>NaN</td>\n      <td>0</td>\n      <td>NaN</td>\n      <td>NaN</td>\n      <td>NaN</td>\n    </tr>\n    <tr>\n      <th>1</th>\n      <td>1</td>\n      <td>2020-07-16 21:29:29.814864</td>\n      <td>2022-02-24 13:05:16.000000</td>\n      <td>[[REDACTED]]</td>\n      <td>Khan</td>\n      <td>[[REDACTED]]</td>\n      <td>[[REDACTED]]</td>\n      <td>[[REDACTED]]</td>\n      <td>[[REDACTED]]</td>\n      <td>NaN</td>\n      <td>...</td>\n      <td>0</td>\n      <td>NaN</td>\n      <td>NaN</td>\n      <td>NaN</td>\n      <td>0</td>\n      <td>NaN</td>\n      <td>0</td>\n      <td>NaN</td>\n      <td>NaN</td>\n      <td>NaN</td>\n    </tr>\n    <tr>\n      <th>2</th>\n      <td>2</td>\n      <td>2020-07-16 21:29:30.129192</td>\n      <td>2022-04-21 10:17:50.000000</td>\n      <td>[[REDACTED]]</td>\n      <td>Cecile</td>\n      <td>[[REDACTED]]</td>\n      <td>/public/res/avatar/thumb/Avatar_Colored_101.jpg</td>\n      <td>[[REDACTED]]</td>\n      <td>[[REDACTED]]</td>\n      <td>NaN</td>\n      <td>...</td>\n      <td>0</td>\n      <td>NaN</td>\n      <td>NaN</td>\n      <td>NaN</td>\n      <td>0</td>\n      <td>[[REDACTED]]</td>\n      <td>0</td>\n      <td>NaN</td>\n      <td>NaN</td>\n      <td>NaN</td>\n    </tr>\n    <tr>\n      <th>3</th>\n      <td>3</td>\n      <td>2020-07-16 21:29:30.433942</td>\n      <td>2021-11-09 17:38:55.823535</td>\n      <td>[[REDACTED]]</td>\n      <td>Hayre</td>\n      <td>[[REDACTED]]</td>\n      <td>/public/res/avatar/thumb/Avatar_Colored_64.jpg</td>\n      <td>[[REDACTED]]</td>\n      <td>They/Them</td>\n      <td>NaN</td>\n      <td>...</td>\n      <td>0</td>\n      <td>NaN</td>\n      <td>NaN</td>\n      <td>NaN</td>\n      <td>0</td>\n      <td>NaN</td>\n      <td>1</td>\n      <td>NaN</td>\n      <td>NaN</td>\n      <td>NaN</td>\n    </tr>\n    <tr>\n      <th>4</th>\n      <td>4</td>\n      <td>2020-07-16 21:29:30.714030</td>\n      <td>2021-07-23 18:26:43.153104</td>\n      <td>[[REDACTED]]</td>\n      <td>Parkinson</td>\n      <td>[[REDACTED]]</td>\n      <td>[[REDACTED]]</td>\n      <td>[[REDACTED]]</td>\n      <td>They/Them</td>\n      <td>NaN</td>\n      <td>...</td>\n      <td>0</td>\n      <td>NaN</td>\n      <td>NaN</td>\n      <td>NaN</td>\n      <td>0</td>\n      <td>NaN</td>\n      <td>1</td>\n      <td>[[REDACTED]]</td>\n      <td>NaN</td>\n      <td>NaN</td>\n    </tr>\n    <tr>\n      <th>...</th>\n      <td>...</td>\n      <td>...</td>\n      <td>...</td>\n      <td>...</td>\n      <td>...</td>\n      <td>...</td>\n      <td>...</td>\n      <td>...</td>\n      <td>...</td>\n      <td>...</td>\n      <td>...</td>\n      <td>...</td>\n      <td>...</td>\n      <td>...</td>\n      <td>...</td>\n      <td>...</td>\n      <td>...</td>\n      <td>...</td>\n      <td>...</td>\n      <td>...</td>\n      <td>...</td>\n    </tr>\n    <tr>\n      <th>85</th>\n      <td>129</td>\n      <td>2021-07-01 10:57:45.538132</td>\n      <td>2021-07-01 10:58:23.000000</td>\n      <td>[[REDACTED]]</td>\n      <td>Lodge</td>\n      <td>[[REDACTED]]</td>\n      <td>NaN</td>\n      <td>[[REDACTED]]</td>\n      <td>They/Them</td>\n      <td>NaN</td>\n      <td>...</td>\n      <td>0</td>\n      <td>NaN</td>\n      <td>NaN</td>\n      <td>NaN</td>\n      <td>0</td>\n      <td>[[REDACTED]]</td>\n      <td>1</td>\n      <td>NaN</td>\n      <td>NaN</td>\n      <td>6c9a9d44-d27b-4a40-82bc-94fef49ee2cc</td>\n    </tr>\n    <tr>\n      <th>86</th>\n      <td>130</td>\n      <td>2021-07-03 02:23:23.470227</td>\n      <td>2021-07-26 18:08:10.000000</td>\n      <td>[[REDACTED]]</td>\n      <td>Saunders</td>\n      <td>[[REDACTED]]</td>\n      <td>[[REDACTED]]</td>\n      <td>[[REDACTED]]</td>\n      <td>They/Them</td>\n      <td>NaN</td>\n      <td>...</td>\n      <td>0</td>\n      <td>NaN</td>\n      <td>NaN</td>\n      <td>NaN</td>\n      <td>0</td>\n      <td>NaN</td>\n      <td>1</td>\n      <td>NaN</td>\n      <td>NaN</td>\n      <td>2e47b4e4-b04c-4d31-85ae-a118f6ea4aec</td>\n    </tr>\n    <tr>\n      <th>87</th>\n      <td>131</td>\n      <td>2021-07-13 11:03:24.207488</td>\n      <td>2021-07-23 18:56:27.000000</td>\n      <td>[[REDACTED]]</td>\n      <td>Webb</td>\n      <td>[[REDACTED]]</td>\n      <td>NaN</td>\n      <td>[[REDACTED]]</td>\n      <td>They/Them</td>\n      <td>NaN</td>\n      <td>...</td>\n      <td>0</td>\n      <td>NaN</td>\n      <td>NaN</td>\n      <td>NaN</td>\n      <td>0</td>\n      <td>NaN</td>\n      <td>1</td>\n      <td>NaN</td>\n      <td>NaN</td>\n      <td>aadf68b3-8bd3-4514-aed0-143c5f0ba51d</td>\n    </tr>\n    <tr>\n      <th>88</th>\n      <td>132</td>\n      <td>2021-07-14 12:43:22.381483</td>\n      <td>2021-07-14 12:52:44.000000</td>\n      <td>[[REDACTED]]</td>\n      <td>Kimario</td>\n      <td>[[REDACTED]]</td>\n      <td>NaN</td>\n      <td>[[REDACTED]]</td>\n      <td>They/Them</td>\n      <td>NaN</td>\n      <td>...</td>\n      <td>0</td>\n      <td>NaN</td>\n      <td>NaN</td>\n      <td>NaN</td>\n      <td>0</td>\n      <td>NaN</td>\n      <td>1</td>\n      <td>NaN</td>\n      <td>NaN</td>\n      <td>e1d2ec5c-a5cd-4297-aa28-d3652b095da5</td>\n    </tr>\n    <tr>\n      <th>89</th>\n      <td>133</td>\n      <td>2021-07-21 08:22:26.316750</td>\n      <td>2021-07-21 16:15:43.000000</td>\n      <td>[[REDACTED]]</td>\n      <td>Esdelle</td>\n      <td>[[REDACTED]]</td>\n      <td>NaN</td>\n      <td>[[REDACTED]]</td>\n      <td>They/Them</td>\n      <td>NaN</td>\n      <td>...</td>\n      <td>0</td>\n      <td>NaN</td>\n      <td>NaN</td>\n      <td>NaN</td>\n      <td>0</td>\n      <td>NaN</td>\n      <td>1</td>\n      <td>NaN</td>\n      <td>NaN</td>\n      <td>8d1c22d6-d1af-4f41-8e3e-1b2ad05b3d7f</td>\n    </tr>\n  </tbody>\n</table>\n<p>90 rows × 30 columns</p>\n</div>"
     },
     "metadata": {}
    }
   ]
  },
  {
   "cell_type": "code",
   "metadata": {
    "cell_id": "ee8bcab63f6940bd82ca343fc2cd941a",
    "tags": [],
    "deepnote_to_be_reexecuted": false,
    "source_hash": "d6cc455f",
    "execution_start": 1652664893680,
    "execution_millis": 4,
    "deepnote_cell_type": "code",
    "deepnote_cell_height": 81
   },
   "source": "users = users.drop(columns=['firstName', 'email', 'username', 'bio', 'password_hash', 'saltine', 'created_at', 'updated_at', 'profilePicture', 'isVerified', 'isBanned', 'isPasswordExpired', 'loginAttempts', 'githubAccountId', 'currentSessionId', 'banReason', 'workStatus', 'education', 'website', 'isDeactivated', 'netlifyToken', 'isInvited', 'confirmationCode', 'profileHeaderPicture', 'uuid'])",
   "execution_count": 16,
   "outputs": []
  },
  {
   "cell_type": "code",
   "metadata": {
    "cell_id": "79f125fb3a804865b647b4f5be19b7f8",
    "tags": [],
    "deepnote_to_be_reexecuted": false,
    "source_hash": "768981ed",
    "execution_start": 1652664893689,
    "execution_millis": 67,
    "deepnote_cell_type": "code",
    "deepnote_cell_height": 631.59375
   },
   "source": "df5 = df3.merge(users.set_index('userId'), on='userId')\ndf5",
   "execution_count": 17,
   "outputs": [
    {
     "output_type": "execute_result",
     "execution_count": 17,
     "data": {
      "application/vnd.deepnote.dataframe.v3+json": {
       "column_count": 10,
       "row_count": 706,
       "columns": [
        {
         "name": "id_x",
         "dtype": "int64",
         "stats": {
          "unique_count": 72,
          "nan_count": 0,
          "min": "28",
          "max": "159",
          "histogram": [
           {
            "bin_start": 28,
            "bin_end": 41.1,
            "count": 79
           },
           {
            "bin_start": 41.1,
            "bin_end": 54.2,
            "count": 71
           },
           {
            "bin_start": 54.2,
            "bin_end": 67.3,
            "count": 73
           },
           {
            "bin_start": 67.3,
            "bin_end": 80.4,
            "count": 33
           },
           {
            "bin_start": 80.4,
            "bin_end": 93.5,
            "count": 111
           },
           {
            "bin_start": 93.5,
            "bin_end": 106.6,
            "count": 98
           },
           {
            "bin_start": 106.6,
            "bin_end": 119.7,
            "count": 104
           },
           {
            "bin_start": 119.7,
            "bin_end": 132.8,
            "count": 29
           },
           {
            "bin_start": 132.8,
            "bin_end": 145.89999999999998,
            "count": 33
           },
           {
            "bin_start": 145.89999999999998,
            "bin_end": 159,
            "count": 75
           }
          ]
         }
        },
        {
         "name": "status",
         "dtype": "object",
         "stats": {
          "unique_count": 3,
          "nan_count": 0,
          "categories": [
           {
            "name": "P",
            "count": 494
           },
           {
            "name": "A",
            "count": 153
           },
           {
            "name": "I",
            "count": 59
           }
          ]
         }
        },
        {
         "name": "attendanceSessionId",
         "dtype": "int64",
         "stats": {
          "unique_count": 10,
          "nan_count": 0,
          "min": "1",
          "max": "10",
          "histogram": [
           {
            "bin_start": 1,
            "bin_end": 1.9,
            "count": 75
           },
           {
            "bin_start": 1.9,
            "bin_end": 2.8,
            "count": 75
           },
           {
            "bin_start": 2.8,
            "bin_end": 3.7,
            "count": 75
           },
           {
            "bin_start": 3.7,
            "bin_end": 4.6,
            "count": 75
           },
           {
            "bin_start": 4.6,
            "bin_end": 5.5,
            "count": 75
           },
           {
            "bin_start": 5.5,
            "bin_end": 6.4,
            "count": 75
           },
           {
            "bin_start": 6.4,
            "bin_end": 7.3,
            "count": 75
           },
           {
            "bin_start": 7.3,
            "bin_end": 8.2,
            "count": 75
           },
           {
            "bin_start": 8.2,
            "bin_end": 9.1,
            "count": 75
           },
           {
            "bin_start": 9.1,
            "bin_end": 10,
            "count": 31
           }
          ]
         }
        },
        {
         "name": "userId",
         "dtype": "int64",
         "stats": {
          "unique_count": 14,
          "nan_count": 0,
          "min": "66",
          "max": "128",
          "histogram": [
           {
            "bin_start": 66,
            "bin_end": 72.2,
            "count": 177
           },
           {
            "bin_start": 72.2,
            "bin_end": 78.4,
            "count": 0
           },
           {
            "bin_start": 78.4,
            "bin_end": 84.6,
            "count": 0
           },
           {
            "bin_start": 84.6,
            "bin_end": 90.8,
            "count": 108
           },
           {
            "bin_start": 90.8,
            "bin_end": 97,
            "count": 36
           },
           {
            "bin_start": 97,
            "bin_end": 103.2,
            "count": 0
           },
           {
            "bin_start": 103.2,
            "bin_end": 109.4,
            "count": 377
           },
           {
            "bin_start": 109.4,
            "bin_end": 115.6,
            "count": 0
           },
           {
            "bin_start": 115.6,
            "bin_end": 121.80000000000001,
            "count": 2
           },
           {
            "bin_start": 121.80000000000001,
            "bin_end": 128,
            "count": 6
           }
          ]
         }
        },
        {
         "name": "id_y",
         "dtype": "int64",
         "stats": {
          "unique_count": 83,
          "nan_count": 0,
          "min": "1028",
          "max": "1418",
          "histogram": [
           {
            "bin_start": 1028,
            "bin_end": 1067,
            "count": 77
           },
           {
            "bin_start": 1067,
            "bin_end": 1106,
            "count": 176
           },
           {
            "bin_start": 1106,
            "bin_end": 1145,
            "count": 63
           },
           {
            "bin_start": 1145,
            "bin_end": 1184,
            "count": 18
           },
           {
            "bin_start": 1184,
            "bin_end": 1223,
            "count": 121
           },
           {
            "bin_start": 1223,
            "bin_end": 1262,
            "count": 101
           },
           {
            "bin_start": 1262,
            "bin_end": 1301,
            "count": 72
           },
           {
            "bin_start": 1301,
            "bin_end": 1340,
            "count": 45
           },
           {
            "bin_start": 1340,
            "bin_end": 1379,
            "count": 23
           },
           {
            "bin_start": 1379,
            "bin_end": 1418,
            "count": 10
           }
          ]
         }
        },
        {
         "name": "activity",
         "dtype": "object",
         "stats": {
          "unique_count": 23,
          "nan_count": 0,
          "categories": [
           {
            "name": "Logged in",
            "count": 290
           },
           {
            "name": "Accessed Session 7 Recap from Intro to Game Dev with Unity repo [access:f808a2f41b5::rrtGJAd2ae1e]",
            "count": 47
           },
           {
            "name": "21 others",
            "count": 369
           }
          ]
         }
        },
        {
         "name": "lastName",
         "dtype": "object",
         "stats": {
          "unique_count": 14,
          "nan_count": 0,
          "categories": [
           {
            "name": "Ferreira",
            "count": 207
           },
           {
            "name": "Oksal",
            "count": 170
           },
           {
            "name": "12 others",
            "count": 329
           }
          ]
         }
        },
        {
         "name": "title",
         "dtype": "object",
         "stats": {
          "unique_count": 1,
          "nan_count": 0,
          "categories": [
           {
            "name": "They/Them",
            "count": 706
           }
          ]
         }
        },
        {
         "name": "isSuperUser",
         "dtype": "int64",
         "stats": {
          "unique_count": 1,
          "nan_count": 0,
          "min": "0",
          "max": "0",
          "histogram": [
           {
            "bin_start": -0.5,
            "bin_end": -0.4,
            "count": 0
           },
           {
            "bin_start": -0.4,
            "bin_end": -0.3,
            "count": 0
           },
           {
            "bin_start": -0.3,
            "bin_end": -0.19999999999999996,
            "count": 0
           },
           {
            "bin_start": -0.19999999999999996,
            "bin_end": -0.09999999999999998,
            "count": 0
           },
           {
            "bin_start": -0.09999999999999998,
            "bin_end": 0,
            "count": 0
           },
           {
            "bin_start": 0,
            "bin_end": 0.10000000000000009,
            "count": 706
           },
           {
            "bin_start": 0.10000000000000009,
            "bin_end": 0.20000000000000007,
            "count": 0
           },
           {
            "bin_start": 0.20000000000000007,
            "bin_end": 0.30000000000000004,
            "count": 0
           },
           {
            "bin_start": 0.30000000000000004,
            "bin_end": 0.4,
            "count": 0
           },
           {
            "bin_start": 0.4,
            "bin_end": 0.5,
            "count": 0
           }
          ]
         }
        },
        {
         "name": "lastLogin",
         "dtype": "object",
         "stats": {
          "unique_count": 14,
          "nan_count": 0,
          "categories": [
           {
            "name": "2021-05-04 13:02:17",
            "count": 207
           },
           {
            "name": "2021-07-12 23:06:58",
            "count": 170
           },
           {
            "name": "12 others",
            "count": 329
           }
          ]
         }
        },
        {
         "name": "_deepnote_index_column",
         "dtype": "int64"
        }
       ],
       "rows": [
        {
         "id_x": 28,
         "status": "P",
         "attendanceSessionId": 1,
         "userId": 66,
         "id_y": 1218,
         "activity": "Logged in",
         "lastName": "Khan",
         "title": "They/Them",
         "isSuperUser": 0,
         "lastLogin": "2021-04-27 15:53:57",
         "_deepnote_index_column": 0
        },
        {
         "id_x": 28,
         "status": "P",
         "attendanceSessionId": 1,
         "userId": 66,
         "id_y": 1219,
         "activity": "Accessed Session 8 - Starter Files from Intro to Game Dev with Unity repo [access:1d14e303b59::rrtGJAd2ae1e]",
         "lastName": "Khan",
         "title": "They/Them",
         "isSuperUser": 0,
         "lastLogin": "2021-04-27 15:53:57",
         "_deepnote_index_column": 1
        },
        {
         "id_x": 28,
         "status": "P",
         "attendanceSessionId": 1,
         "userId": 66,
         "id_y": 1221,
         "activity": "Logged in",
         "lastName": "Khan",
         "title": "They/Them",
         "isSuperUser": 0,
         "lastLogin": "2021-04-27 15:53:57",
         "_deepnote_index_column": 2
        },
        {
         "id_x": 28,
         "status": "P",
         "attendanceSessionId": 1,
         "userId": 66,
         "id_y": 1222,
         "activity": "Accessed Session 1 Recap from Intro to Game Dev with Unity repo [access:286e1a92d35::rrtGJAd2ae1e]",
         "lastName": "Khan",
         "title": "They/Them",
         "isSuperUser": 0,
         "lastLogin": "2021-04-27 15:53:57",
         "_deepnote_index_column": 3
        },
        {
         "id_x": 28,
         "status": "P",
         "attendanceSessionId": 1,
         "userId": 66,
         "id_y": 1225,
         "activity": "Accessed Session 7 Recap from Intro to Game Dev with Unity repo [access:f808a2f41b5::rrtGJAd2ae1e]",
         "lastName": "Khan",
         "title": "They/Them",
         "isSuperUser": 0,
         "lastLogin": "2021-04-27 15:53:57",
         "_deepnote_index_column": 4
        },
        {
         "id_x": 28,
         "status": "P",
         "attendanceSessionId": 1,
         "userId": 66,
         "id_y": 1226,
         "activity": "Accessed Session 7 Recap from Intro to Game Dev with Unity repo [access:f808a2f41b5::rrtGJAd2ae1e]",
         "lastName": "Khan",
         "title": "They/Them",
         "isSuperUser": 0,
         "lastLogin": "2021-04-27 15:53:57",
         "_deepnote_index_column": 5
        },
        {
         "id_x": 46,
         "status": "P",
         "attendanceSessionId": 2,
         "userId": 66,
         "id_y": 1218,
         "activity": "Logged in",
         "lastName": "Khan",
         "title": "They/Them",
         "isSuperUser": 0,
         "lastLogin": "2021-04-27 15:53:57",
         "_deepnote_index_column": 6
        },
        {
         "id_x": 46,
         "status": "P",
         "attendanceSessionId": 2,
         "userId": 66,
         "id_y": 1219,
         "activity": "Accessed Session 8 - Starter Files from Intro to Game Dev with Unity repo [access:1d14e303b59::rrtGJAd2ae1e]",
         "lastName": "Khan",
         "title": "They/Them",
         "isSuperUser": 0,
         "lastLogin": "2021-04-27 15:53:57",
         "_deepnote_index_column": 7
        },
        {
         "id_x": 46,
         "status": "P",
         "attendanceSessionId": 2,
         "userId": 66,
         "id_y": 1221,
         "activity": "Logged in",
         "lastName": "Khan",
         "title": "They/Them",
         "isSuperUser": 0,
         "lastLogin": "2021-04-27 15:53:57",
         "_deepnote_index_column": 8
        },
        {
         "id_x": 46,
         "status": "P",
         "attendanceSessionId": 2,
         "userId": 66,
         "id_y": 1222,
         "activity": "Accessed Session 1 Recap from Intro to Game Dev with Unity repo [access:286e1a92d35::rrtGJAd2ae1e]",
         "lastName": "Khan",
         "title": "They/Them",
         "isSuperUser": 0,
         "lastLogin": "2021-04-27 15:53:57",
         "_deepnote_index_column": 9
        }
       ]
      },
      "text/plain": "     id_x status  attendanceSessionId  userId  id_y  \\\n0      28      P                    1      66  1218   \n1      28      P                    1      66  1219   \n2      28      P                    1      66  1221   \n3      28      P                    1      66  1222   \n4      28      P                    1      66  1225   \n..    ...    ...                  ...     ...   ...   \n701   154      A                   10     123  1330   \n702   155      A                   10     124  1333   \n703   156      P                   10     125  1340   \n704   157      A                   10     127  1344   \n705   158      A                   10     128  1345   \n\n                                              activity    lastName      title  \\\n0                                            Logged in        Khan  They/Them   \n1    Accessed Session 8 - Starter Files from Intro ...        Khan  They/Them   \n2                                            Logged in        Khan  They/Them   \n3    Accessed Session 1 Recap from Intro to Game De...        Khan  They/Them   \n4    Accessed Session 7 Recap from Intro to Game De...        Khan  They/Them   \n..                                                 ...         ...        ...   \n701             Enrolled onto Programming Fundamentals  Folorunsho  They/Them   \n702             Enrolled onto Programming Fundamentals       Ahmed  They/Them   \n703             Enrolled onto Programming Fundamentals   Ferreira   They/Them   \n704             Enrolled onto Programming Fundamentals  Munkhondya  They/Them   \n705             Enrolled onto Programming Fundamentals     Gurung   They/Them   \n\n     isSuperUser            lastLogin  \n0              0  2021-04-27 15:53:57  \n1              0  2021-04-27 15:53:57  \n2              0  2021-04-27 15:53:57  \n3              0  2021-04-27 15:53:57  \n4              0  2021-04-27 15:53:57  \n..           ...                  ...  \n701            0  2021-06-15 21:08:21  \n702            0  2021-06-18 17:05:24  \n703            0  2021-06-23 00:50:30  \n704            0  2021-06-25 12:07:12  \n705            0  2021-06-25 15:10:15  \n\n[706 rows x 10 columns]",
      "text/html": "<div>\n<style scoped>\n    .dataframe tbody tr th:only-of-type {\n        vertical-align: middle;\n    }\n\n    .dataframe tbody tr th {\n        vertical-align: top;\n    }\n\n    .dataframe thead th {\n        text-align: right;\n    }\n</style>\n<table border=\"1\" class=\"dataframe\">\n  <thead>\n    <tr style=\"text-align: right;\">\n      <th></th>\n      <th>id_x</th>\n      <th>status</th>\n      <th>attendanceSessionId</th>\n      <th>userId</th>\n      <th>id_y</th>\n      <th>activity</th>\n      <th>lastName</th>\n      <th>title</th>\n      <th>isSuperUser</th>\n      <th>lastLogin</th>\n    </tr>\n  </thead>\n  <tbody>\n    <tr>\n      <th>0</th>\n      <td>28</td>\n      <td>P</td>\n      <td>1</td>\n      <td>66</td>\n      <td>1218</td>\n      <td>Logged in</td>\n      <td>Khan</td>\n      <td>They/Them</td>\n      <td>0</td>\n      <td>2021-04-27 15:53:57</td>\n    </tr>\n    <tr>\n      <th>1</th>\n      <td>28</td>\n      <td>P</td>\n      <td>1</td>\n      <td>66</td>\n      <td>1219</td>\n      <td>Accessed Session 8 - Starter Files from Intro ...</td>\n      <td>Khan</td>\n      <td>They/Them</td>\n      <td>0</td>\n      <td>2021-04-27 15:53:57</td>\n    </tr>\n    <tr>\n      <th>2</th>\n      <td>28</td>\n      <td>P</td>\n      <td>1</td>\n      <td>66</td>\n      <td>1221</td>\n      <td>Logged in</td>\n      <td>Khan</td>\n      <td>They/Them</td>\n      <td>0</td>\n      <td>2021-04-27 15:53:57</td>\n    </tr>\n    <tr>\n      <th>3</th>\n      <td>28</td>\n      <td>P</td>\n      <td>1</td>\n      <td>66</td>\n      <td>1222</td>\n      <td>Accessed Session 1 Recap from Intro to Game De...</td>\n      <td>Khan</td>\n      <td>They/Them</td>\n      <td>0</td>\n      <td>2021-04-27 15:53:57</td>\n    </tr>\n    <tr>\n      <th>4</th>\n      <td>28</td>\n      <td>P</td>\n      <td>1</td>\n      <td>66</td>\n      <td>1225</td>\n      <td>Accessed Session 7 Recap from Intro to Game De...</td>\n      <td>Khan</td>\n      <td>They/Them</td>\n      <td>0</td>\n      <td>2021-04-27 15:53:57</td>\n    </tr>\n    <tr>\n      <th>...</th>\n      <td>...</td>\n      <td>...</td>\n      <td>...</td>\n      <td>...</td>\n      <td>...</td>\n      <td>...</td>\n      <td>...</td>\n      <td>...</td>\n      <td>...</td>\n      <td>...</td>\n    </tr>\n    <tr>\n      <th>701</th>\n      <td>154</td>\n      <td>A</td>\n      <td>10</td>\n      <td>123</td>\n      <td>1330</td>\n      <td>Enrolled onto Programming Fundamentals</td>\n      <td>Folorunsho</td>\n      <td>They/Them</td>\n      <td>0</td>\n      <td>2021-06-15 21:08:21</td>\n    </tr>\n    <tr>\n      <th>702</th>\n      <td>155</td>\n      <td>A</td>\n      <td>10</td>\n      <td>124</td>\n      <td>1333</td>\n      <td>Enrolled onto Programming Fundamentals</td>\n      <td>Ahmed</td>\n      <td>They/Them</td>\n      <td>0</td>\n      <td>2021-06-18 17:05:24</td>\n    </tr>\n    <tr>\n      <th>703</th>\n      <td>156</td>\n      <td>P</td>\n      <td>10</td>\n      <td>125</td>\n      <td>1340</td>\n      <td>Enrolled onto Programming Fundamentals</td>\n      <td>Ferreira</td>\n      <td>They/Them</td>\n      <td>0</td>\n      <td>2021-06-23 00:50:30</td>\n    </tr>\n    <tr>\n      <th>704</th>\n      <td>157</td>\n      <td>A</td>\n      <td>10</td>\n      <td>127</td>\n      <td>1344</td>\n      <td>Enrolled onto Programming Fundamentals</td>\n      <td>Munkhondya</td>\n      <td>They/Them</td>\n      <td>0</td>\n      <td>2021-06-25 12:07:12</td>\n    </tr>\n    <tr>\n      <th>705</th>\n      <td>158</td>\n      <td>A</td>\n      <td>10</td>\n      <td>128</td>\n      <td>1345</td>\n      <td>Enrolled onto Programming Fundamentals</td>\n      <td>Gurung</td>\n      <td>They/Them</td>\n      <td>0</td>\n      <td>2021-06-25 15:10:15</td>\n    </tr>\n  </tbody>\n</table>\n<p>706 rows × 10 columns</p>\n</div>"
     },
     "metadata": {}
    }
   ]
  },
  {
   "cell_type": "code",
   "source": "_deepnote_run_altair(df5, \"\"\"{\"$schema\":\"https://vega.github.io/schema/vega-lite/v4.json\",\"mark\":{\"type\":\"point\",\"tooltip\":{\"content\":\"data\"}},\"height\":220,\"autosize\":{\"type\":\"fit\"},\"data\":{\"name\":\"placeholder\"},\"encoding\":{\"x\":{\"field\":\"lastName\",\"type\":\"nominal\",\"sort\":null,\"scale\":{\"type\":\"linear\",\"zero\":false}},\"y\":{\"field\":\"activity\",\"type\":\"nominal\",\"sort\":null,\"scale\":{\"type\":\"linear\",\"zero\":false}},\"color\":{\"field\":\"\",\"type\":\"nominal\",\"sort\":null,\"scale\":{\"type\":\"linear\",\"zero\":false}}}}\"\"\")",
   "metadata": {
    "cell_id": "6cf15be1412d4bf49fdaefcb28c7d197",
    "deepnote_variable_name": "df5",
    "deepnote_visualization_spec": {
     "$schema": "https://vega.github.io/schema/vega-lite/v4.json",
     "mark": {
      "type": "point",
      "tooltip": {
       "content": "data"
      }
     },
     "height": 220,
     "autosize": {
      "type": "fit"
     },
     "data": {
      "name": "placeholder"
     },
     "encoding": {
      "x": {
       "field": "lastName",
       "type": "nominal",
       "sort": null,
       "scale": {
        "type": "linear",
        "zero": false
       }
      },
      "y": {
       "field": "activity",
       "type": "nominal",
       "sort": null,
       "scale": {
        "type": "linear",
        "zero": false
       }
      },
      "color": {
       "field": "",
       "type": "nominal",
       "sort": null,
       "scale": {
        "type": "linear",
        "zero": false
       }
      }
     }
    },
    "deepnote_to_be_reexecuted": false,
    "source_hash": "c6bdb362",
    "execution_start": 1652664893769,
    "execution_millis": 143,
    "deepnote_cell_type": "visualization"
   },
   "execution_count": 18,
   "outputs": [
    {
     "output_type": "execute_result",
     "execution_count": 18,
     "data": {
      "text/html": "\n<div id=\"altair-viz-72659ef554a8464e98dca1d77b6b371f\"></div>\n<script type=\"text/javascript\">\n  (function(spec, embedOpt){\n    let outputDiv = document.currentScript.previousElementSibling;\n    if (outputDiv.id !== \"altair-viz-72659ef554a8464e98dca1d77b6b371f\") {\n      outputDiv = document.getElementById(\"altair-viz-72659ef554a8464e98dca1d77b6b371f\");\n    }\n    const paths = {\n      \"vega\": \"https://cdn.jsdelivr.net/npm//vega@5?noext\",\n      \"vega-lib\": \"https://cdn.jsdelivr.net/npm//vega-lib?noext\",\n      \"vega-lite\": \"https://cdn.jsdelivr.net/npm//vega-lite@4.8.1?noext\",\n      \"vega-embed\": \"https://cdn.jsdelivr.net/npm//vega-embed@6?noext\",\n    };\n\n    function loadScript(lib) {\n      return new Promise(function(resolve, reject) {\n        var s = document.createElement('script');\n        s.src = paths[lib];\n        s.async = true;\n        s.onload = () => resolve(paths[lib]);\n        s.onerror = () => reject(`Error loading script: ${paths[lib]}`);\n        document.getElementsByTagName(\"head\")[0].appendChild(s);\n      });\n    }\n\n    function showError(err) {\n      outputDiv.innerHTML = `<div class=\"error\" style=\"color:red;\">${err}</div>`;\n      throw err;\n    }\n\n    function displayChart(vegaEmbed) {\n      vegaEmbed(outputDiv, spec, embedOpt)\n        .catch(err => showError(`Javascript Error: ${err.message}<br>This usually means there's a typo in your chart specification. See the javascript console for the full traceback.`));\n    }\n\n    if(typeof define === \"function\" && define.amd) {\n      requirejs.config({paths});\n      require([\"vega-embed\"], displayChart, err => showError(`Error loading script: ${err.message}`));\n    } else if (typeof vegaEmbed === \"function\") {\n      displayChart(vegaEmbed);\n    } else {\n      loadScript(\"vega\")\n        .then(() => loadScript(\"vega-lite\"))\n        .then(() => loadScript(\"vega-embed\"))\n        .catch(showError)\n        .then(() => displayChart(vegaEmbed));\n    }\n  })({\"config\": {\"view\": {\"continuousWidth\": 400, \"continuousHeight\": 300}, \"area\": {\"fill\": \"#51C0E9\"}, \"axis\": {\"labelFont\": \"Inter, sans-serif\", \"labelFontSize\": 12, \"labelFontWeight\": \"normal\", \"labelLimit\": 60, \"labelOverlap\": \"greedy\", \"titleFont\": \"Inter, sans-serif\", \"titleFontSize\": 12, \"titleFontWeight\": \"bold\"}, \"background\": \"#ffffff\", \"legend\": {\"labelFont\": \"Inter, sans-serif\", \"labelFontSize\": 12, \"titleFont\": \"Inter, sans-serif\", \"titleFontSize\": 12, \"titleFontWeight\": \"bold\"}, \"line\": {\"stroke\": \"#51C0E9\", \"strokeWidth\": 2}, \"rect\": {\"fill\": \"#51C0E9\"}, \"title\": {\"anchor\": \"start\", \"color\": \"#000000\", \"font\": \"Inter, sans-serif\", \"fontSize\": 22, \"fontWeight\": \"normal\"}}, \"data\": {\"name\": \"data-ffc7e2e78a82c652ff881d8016b9cdfc\"}, \"mark\": {\"type\": \"point\", \"tooltip\": {\"content\": \"data\"}}, \"autosize\": {\"type\": \"fit\"}, \"encoding\": {\"color\": {\"type\": \"nominal\", \"field\": \"\", \"scale\": {\"type\": \"linear\", \"zero\": false}, \"sort\": null}, \"x\": {\"type\": \"nominal\", \"field\": \"lastName\", \"scale\": {\"type\": \"linear\", \"zero\": false}, \"sort\": null}, \"y\": {\"type\": \"nominal\", \"field\": \"activity\", \"scale\": {\"type\": \"linear\", \"zero\": false}, \"sort\": null}}, \"height\": 300, \"width\": \"container\", \"$schema\": \"https://vega.github.io/schema/vega-lite/v4.json\", \"datasets\": {\"data-ffc7e2e78a82c652ff881d8016b9cdfc\": [{\"id_x\": 28, \"status\": \"P\", \"attendanceSessionId\": 1, \"userId\": 66, \"id_y\": 1218, \"activity\": \"Logged in\", \"lastName\": \"Khan\", \"title\": \"They/Them\", \"isSuperUser\": 0, \"lastLogin\": \"2021-04-27T15:53:57\"}, {\"id_x\": 28, \"status\": \"P\", \"attendanceSessionId\": 1, \"userId\": 66, \"id_y\": 1219, \"activity\": \"Accessed Session 8 - Starter Files from Intro to Game Dev with Unity repo [access:1d14e303b59::rrtGJAd2ae1e]\", \"lastName\": \"Khan\", \"title\": \"They/Them\", \"isSuperUser\": 0, \"lastLogin\": \"2021-04-27T15:53:57\"}, {\"id_x\": 28, \"status\": \"P\", \"attendanceSessionId\": 1, \"userId\": 66, \"id_y\": 1221, \"activity\": \"Logged in\", \"lastName\": \"Khan\", \"title\": \"They/Them\", \"isSuperUser\": 0, \"lastLogin\": \"2021-04-27T15:53:57\"}, {\"id_x\": 28, \"status\": \"P\", \"attendanceSessionId\": 1, \"userId\": 66, \"id_y\": 1222, \"activity\": \"Accessed Session 1 Recap from Intro to Game Dev with Unity repo [access:286e1a92d35::rrtGJAd2ae1e]\", \"lastName\": \"Khan\", \"title\": \"They/Them\", \"isSuperUser\": 0, \"lastLogin\": \"2021-04-27T15:53:57\"}, {\"id_x\": 28, \"status\": \"P\", \"attendanceSessionId\": 1, \"userId\": 66, \"id_y\": 1225, \"activity\": \"Accessed Session 7 Recap from Intro to Game Dev with Unity repo [access:f808a2f41b5::rrtGJAd2ae1e]\", \"lastName\": \"Khan\", \"title\": \"They/Them\", \"isSuperUser\": 0, \"lastLogin\": \"2021-04-27T15:53:57\"}, {\"id_x\": 28, \"status\": \"P\", \"attendanceSessionId\": 1, \"userId\": 66, \"id_y\": 1226, \"activity\": \"Accessed Session 7 Recap from Intro to Game Dev with Unity repo [access:f808a2f41b5::rrtGJAd2ae1e]\", \"lastName\": \"Khan\", \"title\": \"They/Them\", \"isSuperUser\": 0, \"lastLogin\": \"2021-04-27T15:53:57\"}, {\"id_x\": 46, \"status\": \"P\", \"attendanceSessionId\": 2, \"userId\": 66, \"id_y\": 1218, \"activity\": \"Logged in\", \"lastName\": \"Khan\", \"title\": \"They/Them\", \"isSuperUser\": 0, \"lastLogin\": \"2021-04-27T15:53:57\"}, {\"id_x\": 46, \"status\": \"P\", \"attendanceSessionId\": 2, \"userId\": 66, \"id_y\": 1219, \"activity\": \"Accessed Session 8 - Starter Files from Intro to Game Dev with Unity repo [access:1d14e303b59::rrtGJAd2ae1e]\", \"lastName\": \"Khan\", \"title\": \"They/Them\", \"isSuperUser\": 0, \"lastLogin\": \"2021-04-27T15:53:57\"}, {\"id_x\": 46, \"status\": \"P\", \"attendanceSessionId\": 2, \"userId\": 66, \"id_y\": 1221, \"activity\": \"Logged in\", \"lastName\": \"Khan\", \"title\": \"They/Them\", \"isSuperUser\": 0, \"lastLogin\": \"2021-04-27T15:53:57\"}, {\"id_x\": 46, \"status\": \"P\", \"attendanceSessionId\": 2, \"userId\": 66, \"id_y\": 1222, \"activity\": \"Accessed Session 1 Recap from Intro to Game Dev with Unity repo [access:286e1a92d35::rrtGJAd2ae1e]\", \"lastName\": \"Khan\", \"title\": \"They/Them\", \"isSuperUser\": 0, \"lastLogin\": \"2021-04-27T15:53:57\"}, {\"id_x\": 46, \"status\": \"P\", \"attendanceSessionId\": 2, \"userId\": 66, \"id_y\": 1225, \"activity\": \"Accessed Session 7 Recap from Intro to Game Dev with Unity repo [access:f808a2f41b5::rrtGJAd2ae1e]\", \"lastName\": \"Khan\", \"title\": \"They/Them\", \"isSuperUser\": 0, \"lastLogin\": \"2021-04-27T15:53:57\"}, {\"id_x\": 46, \"status\": \"P\", \"attendanceSessionId\": 2, \"userId\": 66, \"id_y\": 1226, \"activity\": \"Accessed Session 7 Recap from Intro to Game Dev with Unity repo [access:f808a2f41b5::rrtGJAd2ae1e]\", \"lastName\": \"Khan\", \"title\": \"They/Them\", \"isSuperUser\": 0, \"lastLogin\": \"2021-04-27T15:53:57\"}, {\"id_x\": 60, \"status\": \"P\", \"attendanceSessionId\": 3, \"userId\": 66, \"id_y\": 1218, \"activity\": \"Logged in\", \"lastName\": \"Khan\", \"title\": \"They/Them\", \"isSuperUser\": 0, \"lastLogin\": \"2021-04-27T15:53:57\"}, {\"id_x\": 60, \"status\": \"P\", \"attendanceSessionId\": 3, \"userId\": 66, \"id_y\": 1219, \"activity\": \"Accessed Session 8 - Starter Files from Intro to Game Dev with Unity repo [access:1d14e303b59::rrtGJAd2ae1e]\", \"lastName\": \"Khan\", \"title\": \"They/Them\", \"isSuperUser\": 0, \"lastLogin\": \"2021-04-27T15:53:57\"}, {\"id_x\": 60, \"status\": \"P\", \"attendanceSessionId\": 3, \"userId\": 66, \"id_y\": 1221, \"activity\": \"Logged in\", \"lastName\": \"Khan\", \"title\": \"They/Them\", \"isSuperUser\": 0, \"lastLogin\": \"2021-04-27T15:53:57\"}, {\"id_x\": 60, \"status\": \"P\", \"attendanceSessionId\": 3, \"userId\": 66, \"id_y\": 1222, \"activity\": \"Accessed Session 1 Recap from Intro to Game Dev with Unity repo [access:286e1a92d35::rrtGJAd2ae1e]\", \"lastName\": \"Khan\", \"title\": \"They/Them\", \"isSuperUser\": 0, \"lastLogin\": \"2021-04-27T15:53:57\"}, {\"id_x\": 60, \"status\": \"P\", \"attendanceSessionId\": 3, \"userId\": 66, \"id_y\": 1225, \"activity\": \"Accessed Session 7 Recap from Intro to Game Dev with Unity repo [access:f808a2f41b5::rrtGJAd2ae1e]\", \"lastName\": \"Khan\", \"title\": \"They/Them\", \"isSuperUser\": 0, \"lastLogin\": \"2021-04-27T15:53:57\"}, {\"id_x\": 60, \"status\": \"P\", \"attendanceSessionId\": 3, \"userId\": 66, \"id_y\": 1226, \"activity\": \"Accessed Session 7 Recap from Intro to Game Dev with Unity repo [access:f808a2f41b5::rrtGJAd2ae1e]\", \"lastName\": \"Khan\", \"title\": \"They/Them\", \"isSuperUser\": 0, \"lastLogin\": \"2021-04-27T15:53:57\"}, {\"id_x\": 73, \"status\": \"P\", \"attendanceSessionId\": 4, \"userId\": 66, \"id_y\": 1218, \"activity\": \"Logged in\", \"lastName\": \"Khan\", \"title\": \"They/Them\", \"isSuperUser\": 0, \"lastLogin\": \"2021-04-27T15:53:57\"}, {\"id_x\": 73, \"status\": \"P\", \"attendanceSessionId\": 4, \"userId\": 66, \"id_y\": 1219, \"activity\": \"Accessed Session 8 - Starter Files from Intro to Game Dev with Unity repo [access:1d14e303b59::rrtGJAd2ae1e]\", \"lastName\": \"Khan\", \"title\": \"They/Them\", \"isSuperUser\": 0, \"lastLogin\": \"2021-04-27T15:53:57\"}, {\"id_x\": 73, \"status\": \"P\", \"attendanceSessionId\": 4, \"userId\": 66, \"id_y\": 1221, \"activity\": \"Logged in\", \"lastName\": \"Khan\", \"title\": \"They/Them\", \"isSuperUser\": 0, \"lastLogin\": \"2021-04-27T15:53:57\"}, {\"id_x\": 73, \"status\": \"P\", \"attendanceSessionId\": 4, \"userId\": 66, \"id_y\": 1222, \"activity\": \"Accessed Session 1 Recap from Intro to Game Dev with Unity repo [access:286e1a92d35::rrtGJAd2ae1e]\", \"lastName\": \"Khan\", \"title\": \"They/Them\", \"isSuperUser\": 0, \"lastLogin\": \"2021-04-27T15:53:57\"}, {\"id_x\": 73, \"status\": \"P\", \"attendanceSessionId\": 4, \"userId\": 66, \"id_y\": 1225, \"activity\": \"Accessed Session 7 Recap from Intro to Game Dev with Unity repo [access:f808a2f41b5::rrtGJAd2ae1e]\", \"lastName\": \"Khan\", \"title\": \"They/Them\", \"isSuperUser\": 0, \"lastLogin\": \"2021-04-27T15:53:57\"}, {\"id_x\": 73, \"status\": \"P\", \"attendanceSessionId\": 4, \"userId\": 66, \"id_y\": 1226, \"activity\": \"Accessed Session 7 Recap from Intro to Game Dev with Unity repo [access:f808a2f41b5::rrtGJAd2ae1e]\", \"lastName\": \"Khan\", \"title\": \"They/Them\", \"isSuperUser\": 0, \"lastLogin\": \"2021-04-27T15:53:57\"}, {\"id_x\": 94, \"status\": \"P\", \"attendanceSessionId\": 5, \"userId\": 66, \"id_y\": 1218, \"activity\": \"Logged in\", \"lastName\": \"Khan\", \"title\": \"They/Them\", \"isSuperUser\": 0, \"lastLogin\": \"2021-04-27T15:53:57\"}, {\"id_x\": 94, \"status\": \"P\", \"attendanceSessionId\": 5, \"userId\": 66, \"id_y\": 1219, \"activity\": \"Accessed Session 8 - Starter Files from Intro to Game Dev with Unity repo [access:1d14e303b59::rrtGJAd2ae1e]\", \"lastName\": \"Khan\", \"title\": \"They/Them\", \"isSuperUser\": 0, \"lastLogin\": \"2021-04-27T15:53:57\"}, {\"id_x\": 94, \"status\": \"P\", \"attendanceSessionId\": 5, \"userId\": 66, \"id_y\": 1221, \"activity\": \"Logged in\", \"lastName\": \"Khan\", \"title\": \"They/Them\", \"isSuperUser\": 0, \"lastLogin\": \"2021-04-27T15:53:57\"}, {\"id_x\": 94, \"status\": \"P\", \"attendanceSessionId\": 5, \"userId\": 66, \"id_y\": 1222, \"activity\": \"Accessed Session 1 Recap from Intro to Game Dev with Unity repo [access:286e1a92d35::rrtGJAd2ae1e]\", \"lastName\": \"Khan\", \"title\": \"They/Them\", \"isSuperUser\": 0, \"lastLogin\": \"2021-04-27T15:53:57\"}, {\"id_x\": 94, \"status\": \"P\", \"attendanceSessionId\": 5, \"userId\": 66, \"id_y\": 1225, \"activity\": \"Accessed Session 7 Recap from Intro to Game Dev with Unity repo [access:f808a2f41b5::rrtGJAd2ae1e]\", \"lastName\": \"Khan\", \"title\": \"They/Them\", \"isSuperUser\": 0, \"lastLogin\": \"2021-04-27T15:53:57\"}, {\"id_x\": 94, \"status\": \"P\", \"attendanceSessionId\": 5, \"userId\": 66, \"id_y\": 1226, \"activity\": \"Accessed Session 7 Recap from Intro to Game Dev with Unity repo [access:f808a2f41b5::rrtGJAd2ae1e]\", \"lastName\": \"Khan\", \"title\": \"They/Them\", \"isSuperUser\": 0, \"lastLogin\": \"2021-04-27T15:53:57\"}, {\"id_x\": 97, \"status\": \"P\", \"attendanceSessionId\": 6, \"userId\": 66, \"id_y\": 1218, \"activity\": \"Logged in\", \"lastName\": \"Khan\", \"title\": \"They/Them\", \"isSuperUser\": 0, \"lastLogin\": \"2021-04-27T15:53:57\"}, {\"id_x\": 97, \"status\": \"P\", \"attendanceSessionId\": 6, \"userId\": 66, \"id_y\": 1219, \"activity\": \"Accessed Session 8 - Starter Files from Intro to Game Dev with Unity repo [access:1d14e303b59::rrtGJAd2ae1e]\", \"lastName\": \"Khan\", \"title\": \"They/Them\", \"isSuperUser\": 0, \"lastLogin\": \"2021-04-27T15:53:57\"}, {\"id_x\": 97, \"status\": \"P\", \"attendanceSessionId\": 6, \"userId\": 66, \"id_y\": 1221, \"activity\": \"Logged in\", \"lastName\": \"Khan\", \"title\": \"They/Them\", \"isSuperUser\": 0, \"lastLogin\": \"2021-04-27T15:53:57\"}, {\"id_x\": 97, \"status\": \"P\", \"attendanceSessionId\": 6, \"userId\": 66, \"id_y\": 1222, \"activity\": \"Accessed Session 1 Recap from Intro to Game Dev with Unity repo [access:286e1a92d35::rrtGJAd2ae1e]\", \"lastName\": \"Khan\", \"title\": \"They/Them\", \"isSuperUser\": 0, \"lastLogin\": \"2021-04-27T15:53:57\"}, {\"id_x\": 97, \"status\": \"P\", \"attendanceSessionId\": 6, \"userId\": 66, \"id_y\": 1225, \"activity\": \"Accessed Session 7 Recap from Intro to Game Dev with Unity repo [access:f808a2f41b5::rrtGJAd2ae1e]\", \"lastName\": \"Khan\", \"title\": \"They/Them\", \"isSuperUser\": 0, \"lastLogin\": \"2021-04-27T15:53:57\"}, {\"id_x\": 97, \"status\": \"P\", \"attendanceSessionId\": 6, \"userId\": 66, \"id_y\": 1226, \"activity\": \"Accessed Session 7 Recap from Intro to Game Dev with Unity repo [access:f808a2f41b5::rrtGJAd2ae1e]\", \"lastName\": \"Khan\", \"title\": \"They/Them\", \"isSuperUser\": 0, \"lastLogin\": \"2021-04-27T15:53:57\"}, {\"id_x\": 104, \"status\": \"P\", \"attendanceSessionId\": 7, \"userId\": 66, \"id_y\": 1218, \"activity\": \"Logged in\", \"lastName\": \"Khan\", \"title\": \"They/Them\", \"isSuperUser\": 0, \"lastLogin\": \"2021-04-27T15:53:57\"}, {\"id_x\": 104, \"status\": \"P\", \"attendanceSessionId\": 7, \"userId\": 66, \"id_y\": 1219, \"activity\": \"Accessed Session 8 - Starter Files from Intro to Game Dev with Unity repo [access:1d14e303b59::rrtGJAd2ae1e]\", \"lastName\": \"Khan\", \"title\": \"They/Them\", \"isSuperUser\": 0, \"lastLogin\": \"2021-04-27T15:53:57\"}, {\"id_x\": 104, \"status\": \"P\", \"attendanceSessionId\": 7, \"userId\": 66, \"id_y\": 1221, \"activity\": \"Logged in\", \"lastName\": \"Khan\", \"title\": \"They/Them\", \"isSuperUser\": 0, \"lastLogin\": \"2021-04-27T15:53:57\"}, {\"id_x\": 104, \"status\": \"P\", \"attendanceSessionId\": 7, \"userId\": 66, \"id_y\": 1222, \"activity\": \"Accessed Session 1 Recap from Intro to Game Dev with Unity repo [access:286e1a92d35::rrtGJAd2ae1e]\", \"lastName\": \"Khan\", \"title\": \"They/Them\", \"isSuperUser\": 0, \"lastLogin\": \"2021-04-27T15:53:57\"}, {\"id_x\": 104, \"status\": \"P\", \"attendanceSessionId\": 7, \"userId\": 66, \"id_y\": 1225, \"activity\": \"Accessed Session 7 Recap from Intro to Game Dev with Unity repo [access:f808a2f41b5::rrtGJAd2ae1e]\", \"lastName\": \"Khan\", \"title\": \"They/Them\", \"isSuperUser\": 0, \"lastLogin\": \"2021-04-27T15:53:57\"}, {\"id_x\": 104, \"status\": \"P\", \"attendanceSessionId\": 7, \"userId\": 66, \"id_y\": 1226, \"activity\": \"Accessed Session 7 Recap from Intro to Game Dev with Unity repo [access:f808a2f41b5::rrtGJAd2ae1e]\", \"lastName\": \"Khan\", \"title\": \"They/Them\", \"isSuperUser\": 0, \"lastLogin\": \"2021-04-27T15:53:57\"}, {\"id_x\": 113, \"status\": \"P\", \"attendanceSessionId\": 8, \"userId\": 66, \"id_y\": 1218, \"activity\": \"Logged in\", \"lastName\": \"Khan\", \"title\": \"They/Them\", \"isSuperUser\": 0, \"lastLogin\": \"2021-04-27T15:53:57\"}, {\"id_x\": 113, \"status\": \"P\", \"attendanceSessionId\": 8, \"userId\": 66, \"id_y\": 1219, \"activity\": \"Accessed Session 8 - Starter Files from Intro to Game Dev with Unity repo [access:1d14e303b59::rrtGJAd2ae1e]\", \"lastName\": \"Khan\", \"title\": \"They/Them\", \"isSuperUser\": 0, \"lastLogin\": \"2021-04-27T15:53:57\"}, {\"id_x\": 113, \"status\": \"P\", \"attendanceSessionId\": 8, \"userId\": 66, \"id_y\": 1221, \"activity\": \"Logged in\", \"lastName\": \"Khan\", \"title\": \"They/Them\", \"isSuperUser\": 0, \"lastLogin\": \"2021-04-27T15:53:57\"}, {\"id_x\": 113, \"status\": \"P\", \"attendanceSessionId\": 8, \"userId\": 66, \"id_y\": 1222, \"activity\": \"Accessed Session 1 Recap from Intro to Game Dev with Unity repo [access:286e1a92d35::rrtGJAd2ae1e]\", \"lastName\": \"Khan\", \"title\": \"They/Them\", \"isSuperUser\": 0, \"lastLogin\": \"2021-04-27T15:53:57\"}, {\"id_x\": 113, \"status\": \"P\", \"attendanceSessionId\": 8, \"userId\": 66, \"id_y\": 1225, \"activity\": \"Accessed Session 7 Recap from Intro to Game Dev with Unity repo [access:f808a2f41b5::rrtGJAd2ae1e]\", \"lastName\": \"Khan\", \"title\": \"They/Them\", \"isSuperUser\": 0, \"lastLogin\": \"2021-04-27T15:53:57\"}, {\"id_x\": 113, \"status\": \"P\", \"attendanceSessionId\": 8, \"userId\": 66, \"id_y\": 1226, \"activity\": \"Accessed Session 7 Recap from Intro to Game Dev with Unity repo [access:f808a2f41b5::rrtGJAd2ae1e]\", \"lastName\": \"Khan\", \"title\": \"They/Them\", \"isSuperUser\": 0, \"lastLogin\": \"2021-04-27T15:53:57\"}, {\"id_x\": 138, \"status\": \"P\", \"attendanceSessionId\": 9, \"userId\": 66, \"id_y\": 1218, \"activity\": \"Logged in\", \"lastName\": \"Khan\", \"title\": \"They/Them\", \"isSuperUser\": 0, \"lastLogin\": \"2021-04-27T15:53:57\"}, {\"id_x\": 138, \"status\": \"P\", \"attendanceSessionId\": 9, \"userId\": 66, \"id_y\": 1219, \"activity\": \"Accessed Session 8 - Starter Files from Intro to Game Dev with Unity repo [access:1d14e303b59::rrtGJAd2ae1e]\", \"lastName\": \"Khan\", \"title\": \"They/Them\", \"isSuperUser\": 0, \"lastLogin\": \"2021-04-27T15:53:57\"}, {\"id_x\": 138, \"status\": \"P\", \"attendanceSessionId\": 9, \"userId\": 66, \"id_y\": 1221, \"activity\": \"Logged in\", \"lastName\": \"Khan\", \"title\": \"They/Them\", \"isSuperUser\": 0, \"lastLogin\": \"2021-04-27T15:53:57\"}, {\"id_x\": 138, \"status\": \"P\", \"attendanceSessionId\": 9, \"userId\": 66, \"id_y\": 1222, \"activity\": \"Accessed Session 1 Recap from Intro to Game Dev with Unity repo [access:286e1a92d35::rrtGJAd2ae1e]\", \"lastName\": \"Khan\", \"title\": \"They/Them\", \"isSuperUser\": 0, \"lastLogin\": \"2021-04-27T15:53:57\"}, {\"id_x\": 138, \"status\": \"P\", \"attendanceSessionId\": 9, \"userId\": 66, \"id_y\": 1225, \"activity\": \"Accessed Session 7 Recap from Intro to Game Dev with Unity repo [access:f808a2f41b5::rrtGJAd2ae1e]\", \"lastName\": \"Khan\", \"title\": \"They/Them\", \"isSuperUser\": 0, \"lastLogin\": \"2021-04-27T15:53:57\"}, {\"id_x\": 138, \"status\": \"P\", \"attendanceSessionId\": 9, \"userId\": 66, \"id_y\": 1226, \"activity\": \"Accessed Session 7 Recap from Intro to Game Dev with Unity repo [access:f808a2f41b5::rrtGJAd2ae1e]\", \"lastName\": \"Khan\", \"title\": \"They/Them\", \"isSuperUser\": 0, \"lastLogin\": \"2021-04-27T15:53:57\"}, {\"id_x\": 159, \"status\": \"P\", \"attendanceSessionId\": 10, \"userId\": 66, \"id_y\": 1218, \"activity\": \"Logged in\", \"lastName\": \"Khan\", \"title\": \"They/Them\", \"isSuperUser\": 0, \"lastLogin\": \"2021-04-27T15:53:57\"}, {\"id_x\": 159, \"status\": \"P\", \"attendanceSessionId\": 10, \"userId\": 66, \"id_y\": 1219, \"activity\": \"Accessed Session 8 - Starter Files from Intro to Game Dev with Unity repo [access:1d14e303b59::rrtGJAd2ae1e]\", \"lastName\": \"Khan\", \"title\": \"They/Them\", \"isSuperUser\": 0, \"lastLogin\": \"2021-04-27T15:53:57\"}, {\"id_x\": 159, \"status\": \"P\", \"attendanceSessionId\": 10, \"userId\": 66, \"id_y\": 1221, \"activity\": \"Logged in\", \"lastName\": \"Khan\", \"title\": \"They/Them\", \"isSuperUser\": 0, \"lastLogin\": \"2021-04-27T15:53:57\"}, {\"id_x\": 159, \"status\": \"P\", \"attendanceSessionId\": 10, \"userId\": 66, \"id_y\": 1222, \"activity\": \"Accessed Session 1 Recap from Intro to Game Dev with Unity repo [access:286e1a92d35::rrtGJAd2ae1e]\", \"lastName\": \"Khan\", \"title\": \"They/Them\", \"isSuperUser\": 0, \"lastLogin\": \"2021-04-27T15:53:57\"}, {\"id_x\": 159, \"status\": \"P\", \"attendanceSessionId\": 10, \"userId\": 66, \"id_y\": 1225, \"activity\": \"Accessed Session 7 Recap from Intro to Game Dev with Unity repo [access:f808a2f41b5::rrtGJAd2ae1e]\", \"lastName\": \"Khan\", \"title\": \"They/Them\", \"isSuperUser\": 0, \"lastLogin\": \"2021-04-27T15:53:57\"}, {\"id_x\": 159, \"status\": \"P\", \"attendanceSessionId\": 10, \"userId\": 66, \"id_y\": 1226, \"activity\": \"Accessed Session 7 Recap from Intro to Game Dev with Unity repo [access:f808a2f41b5::rrtGJAd2ae1e]\", \"lastName\": \"Khan\", \"title\": \"They/Them\", \"isSuperUser\": 0, \"lastLogin\": \"2021-04-27T15:53:57\"}, {\"id_x\": 29, \"status\": \"P\", \"attendanceSessionId\": 1, \"userId\": 69, \"id_y\": 1070, \"activity\": \"Logged in\", \"lastName\": \"Amaechi\", \"title\": \"They/Them\", \"isSuperUser\": 0, \"lastLogin\": \"2021-05-12T17:01:54\"}, {\"id_x\": 29, \"status\": \"P\", \"attendanceSessionId\": 1, \"userId\": 69, \"id_y\": 1071, \"activity\": \"Accessed Session 5 - Starter Files from Intro to Game Dev with Unity repo [access:3aadbfd9eca::rrtGJAd2ae1e]\", \"lastName\": \"Amaechi\", \"title\": \"They/Them\", \"isSuperUser\": 0, \"lastLogin\": \"2021-05-12T17:01:54\"}, {\"id_x\": 29, \"status\": \"P\", \"attendanceSessionId\": 1, \"userId\": 69, \"id_y\": 1072, \"activity\": \"Accessed Session 5 - Assets from Intro to Game Dev with Unity repo [access:141012aa424::rrtGJAd2ae1e]\", \"lastName\": \"Amaechi\", \"title\": \"They/Them\", \"isSuperUser\": 0, \"lastLogin\": \"2021-05-12T17:01:54\"}, {\"id_x\": 29, \"status\": \"P\", \"attendanceSessionId\": 1, \"userId\": 69, \"id_y\": 1082, \"activity\": \"Accessed Session 5 - Assets from Intro to Game Dev with Unity repo [access:141012aa424::rrtGJAd2ae1e]\", \"lastName\": \"Amaechi\", \"title\": \"They/Them\", \"isSuperUser\": 0, \"lastLogin\": \"2021-05-12T17:01:54\"}, {\"id_x\": 29, \"status\": \"P\", \"attendanceSessionId\": 1, \"userId\": 69, \"id_y\": 1107, \"activity\": \"Logged in\", \"lastName\": \"Amaechi\", \"title\": \"They/Them\", \"isSuperUser\": 0, \"lastLogin\": \"2021-05-12T17:01:54\"}, {\"id_x\": 29, \"status\": \"P\", \"attendanceSessionId\": 1, \"userId\": 69, \"id_y\": 1108, \"activity\": \"Accessed Session 6 - Starter Files from Intro to Game Dev with Unity repo [access:4ff849da461::rrtGJAd2ae1e]\", \"lastName\": \"Amaechi\", \"title\": \"They/Them\", \"isSuperUser\": 0, \"lastLogin\": \"2021-05-12T17:01:54\"}, {\"id_x\": 29, \"status\": \"P\", \"attendanceSessionId\": 1, \"userId\": 69, \"id_y\": 1164, \"activity\": \"Logged in\", \"lastName\": \"Amaechi\", \"title\": \"They/Them\", \"isSuperUser\": 0, \"lastLogin\": \"2021-05-12T17:01:54\"}, {\"id_x\": 29, \"status\": \"P\", \"attendanceSessionId\": 1, \"userId\": 69, \"id_y\": 1165, \"activity\": \"Accessed Session 7 - Starter Files from Intro to Game Dev with Unity repo [access:0274231c583::rrtGJAd2ae1e]\", \"lastName\": \"Amaechi\", \"title\": \"They/Them\", \"isSuperUser\": 0, \"lastLogin\": \"2021-05-12T17:01:54\"}, {\"id_x\": 29, \"status\": \"P\", \"attendanceSessionId\": 1, \"userId\": 69, \"id_y\": 1208, \"activity\": \"Logged in\", \"lastName\": \"Amaechi\", \"title\": \"They/Them\", \"isSuperUser\": 0, \"lastLogin\": \"2021-05-12T17:01:54\"}, {\"id_x\": 29, \"status\": \"P\", \"attendanceSessionId\": 1, \"userId\": 69, \"id_y\": 1209, \"activity\": \"Accessed Session 8 - Starter Files from Intro to Game Dev with Unity repo [access:1d14e303b59::rrtGJAd2ae1e]\", \"lastName\": \"Amaechi\", \"title\": \"They/Them\", \"isSuperUser\": 0, \"lastLogin\": \"2021-05-12T17:01:54\"}, {\"id_x\": 29, \"status\": \"P\", \"attendanceSessionId\": 1, \"userId\": 69, \"id_y\": 1230, \"activity\": \"Logged in\", \"lastName\": \"Amaechi\", \"title\": \"They/Them\", \"isSuperUser\": 0, \"lastLogin\": \"2021-05-12T17:01:54\"}, {\"id_x\": 29, \"status\": \"P\", \"attendanceSessionId\": 1, \"userId\": 69, \"id_y\": 1231, \"activity\": \"Accessed Session 8 - Starter Files from Intro to Game Dev with Unity repo [access:1d14e303b59::rrtGJAd2ae1e]\", \"lastName\": \"Amaechi\", \"title\": \"They/Them\", \"isSuperUser\": 0, \"lastLogin\": \"2021-05-12T17:01:54\"}, {\"id_x\": 29, \"status\": \"P\", \"attendanceSessionId\": 1, \"userId\": 69, \"id_y\": 1278, \"activity\": \"Logged in\", \"lastName\": \"Amaechi\", \"title\": \"They/Them\", \"isSuperUser\": 0, \"lastLogin\": \"2021-05-12T17:01:54\"}, {\"id_x\": 47, \"status\": \"P\", \"attendanceSessionId\": 2, \"userId\": 69, \"id_y\": 1070, \"activity\": \"Logged in\", \"lastName\": \"Amaechi\", \"title\": \"They/Them\", \"isSuperUser\": 0, \"lastLogin\": \"2021-05-12T17:01:54\"}, {\"id_x\": 47, \"status\": \"P\", \"attendanceSessionId\": 2, \"userId\": 69, \"id_y\": 1071, \"activity\": \"Accessed Session 5 - Starter Files from Intro to Game Dev with Unity repo [access:3aadbfd9eca::rrtGJAd2ae1e]\", \"lastName\": \"Amaechi\", \"title\": \"They/Them\", \"isSuperUser\": 0, \"lastLogin\": \"2021-05-12T17:01:54\"}, {\"id_x\": 47, \"status\": \"P\", \"attendanceSessionId\": 2, \"userId\": 69, \"id_y\": 1072, \"activity\": \"Accessed Session 5 - Assets from Intro to Game Dev with Unity repo [access:141012aa424::rrtGJAd2ae1e]\", \"lastName\": \"Amaechi\", \"title\": \"They/Them\", \"isSuperUser\": 0, \"lastLogin\": \"2021-05-12T17:01:54\"}, {\"id_x\": 47, \"status\": \"P\", \"attendanceSessionId\": 2, \"userId\": 69, \"id_y\": 1082, \"activity\": \"Accessed Session 5 - Assets from Intro to Game Dev with Unity repo [access:141012aa424::rrtGJAd2ae1e]\", \"lastName\": \"Amaechi\", \"title\": \"They/Them\", \"isSuperUser\": 0, \"lastLogin\": \"2021-05-12T17:01:54\"}, {\"id_x\": 47, \"status\": \"P\", \"attendanceSessionId\": 2, \"userId\": 69, \"id_y\": 1107, \"activity\": \"Logged in\", \"lastName\": \"Amaechi\", \"title\": \"They/Them\", \"isSuperUser\": 0, \"lastLogin\": \"2021-05-12T17:01:54\"}, {\"id_x\": 47, \"status\": \"P\", \"attendanceSessionId\": 2, \"userId\": 69, \"id_y\": 1108, \"activity\": \"Accessed Session 6 - Starter Files from Intro to Game Dev with Unity repo [access:4ff849da461::rrtGJAd2ae1e]\", \"lastName\": \"Amaechi\", \"title\": \"They/Them\", \"isSuperUser\": 0, \"lastLogin\": \"2021-05-12T17:01:54\"}, {\"id_x\": 47, \"status\": \"P\", \"attendanceSessionId\": 2, \"userId\": 69, \"id_y\": 1164, \"activity\": \"Logged in\", \"lastName\": \"Amaechi\", \"title\": \"They/Them\", \"isSuperUser\": 0, \"lastLogin\": \"2021-05-12T17:01:54\"}, {\"id_x\": 47, \"status\": \"P\", \"attendanceSessionId\": 2, \"userId\": 69, \"id_y\": 1165, \"activity\": \"Accessed Session 7 - Starter Files from Intro to Game Dev with Unity repo [access:0274231c583::rrtGJAd2ae1e]\", \"lastName\": \"Amaechi\", \"title\": \"They/Them\", \"isSuperUser\": 0, \"lastLogin\": \"2021-05-12T17:01:54\"}, {\"id_x\": 47, \"status\": \"P\", \"attendanceSessionId\": 2, \"userId\": 69, \"id_y\": 1208, \"activity\": \"Logged in\", \"lastName\": \"Amaechi\", \"title\": \"They/Them\", \"isSuperUser\": 0, \"lastLogin\": \"2021-05-12T17:01:54\"}, {\"id_x\": 47, \"status\": \"P\", \"attendanceSessionId\": 2, \"userId\": 69, \"id_y\": 1209, \"activity\": \"Accessed Session 8 - Starter Files from Intro to Game Dev with Unity repo [access:1d14e303b59::rrtGJAd2ae1e]\", \"lastName\": \"Amaechi\", \"title\": \"They/Them\", \"isSuperUser\": 0, \"lastLogin\": \"2021-05-12T17:01:54\"}, {\"id_x\": 47, \"status\": \"P\", \"attendanceSessionId\": 2, \"userId\": 69, \"id_y\": 1230, \"activity\": \"Logged in\", \"lastName\": \"Amaechi\", \"title\": \"They/Them\", \"isSuperUser\": 0, \"lastLogin\": \"2021-05-12T17:01:54\"}, {\"id_x\": 47, \"status\": \"P\", \"attendanceSessionId\": 2, \"userId\": 69, \"id_y\": 1231, \"activity\": \"Accessed Session 8 - Starter Files from Intro to Game Dev with Unity repo [access:1d14e303b59::rrtGJAd2ae1e]\", \"lastName\": \"Amaechi\", \"title\": \"They/Them\", \"isSuperUser\": 0, \"lastLogin\": \"2021-05-12T17:01:54\"}, {\"id_x\": 47, \"status\": \"P\", \"attendanceSessionId\": 2, \"userId\": 69, \"id_y\": 1278, \"activity\": \"Logged in\", \"lastName\": \"Amaechi\", \"title\": \"They/Them\", \"isSuperUser\": 0, \"lastLogin\": \"2021-05-12T17:01:54\"}, {\"id_x\": 64, \"status\": \"P\", \"attendanceSessionId\": 3, \"userId\": 69, \"id_y\": 1070, \"activity\": \"Logged in\", \"lastName\": \"Amaechi\", \"title\": \"They/Them\", \"isSuperUser\": 0, \"lastLogin\": \"2021-05-12T17:01:54\"}, {\"id_x\": 64, \"status\": \"P\", \"attendanceSessionId\": 3, \"userId\": 69, \"id_y\": 1071, \"activity\": \"Accessed Session 5 - Starter Files from Intro to Game Dev with Unity repo [access:3aadbfd9eca::rrtGJAd2ae1e]\", \"lastName\": \"Amaechi\", \"title\": \"They/Them\", \"isSuperUser\": 0, \"lastLogin\": \"2021-05-12T17:01:54\"}, {\"id_x\": 64, \"status\": \"P\", \"attendanceSessionId\": 3, \"userId\": 69, \"id_y\": 1072, \"activity\": \"Accessed Session 5 - Assets from Intro to Game Dev with Unity repo [access:141012aa424::rrtGJAd2ae1e]\", \"lastName\": \"Amaechi\", \"title\": \"They/Them\", \"isSuperUser\": 0, \"lastLogin\": \"2021-05-12T17:01:54\"}, {\"id_x\": 64, \"status\": \"P\", \"attendanceSessionId\": 3, \"userId\": 69, \"id_y\": 1082, \"activity\": \"Accessed Session 5 - Assets from Intro to Game Dev with Unity repo [access:141012aa424::rrtGJAd2ae1e]\", \"lastName\": \"Amaechi\", \"title\": \"They/Them\", \"isSuperUser\": 0, \"lastLogin\": \"2021-05-12T17:01:54\"}, {\"id_x\": 64, \"status\": \"P\", \"attendanceSessionId\": 3, \"userId\": 69, \"id_y\": 1107, \"activity\": \"Logged in\", \"lastName\": \"Amaechi\", \"title\": \"They/Them\", \"isSuperUser\": 0, \"lastLogin\": \"2021-05-12T17:01:54\"}, {\"id_x\": 64, \"status\": \"P\", \"attendanceSessionId\": 3, \"userId\": 69, \"id_y\": 1108, \"activity\": \"Accessed Session 6 - Starter Files from Intro to Game Dev with Unity repo [access:4ff849da461::rrtGJAd2ae1e]\", \"lastName\": \"Amaechi\", \"title\": \"They/Them\", \"isSuperUser\": 0, \"lastLogin\": \"2021-05-12T17:01:54\"}, {\"id_x\": 64, \"status\": \"P\", \"attendanceSessionId\": 3, \"userId\": 69, \"id_y\": 1164, \"activity\": \"Logged in\", \"lastName\": \"Amaechi\", \"title\": \"They/Them\", \"isSuperUser\": 0, \"lastLogin\": \"2021-05-12T17:01:54\"}, {\"id_x\": 64, \"status\": \"P\", \"attendanceSessionId\": 3, \"userId\": 69, \"id_y\": 1165, \"activity\": \"Accessed Session 7 - Starter Files from Intro to Game Dev with Unity repo [access:0274231c583::rrtGJAd2ae1e]\", \"lastName\": \"Amaechi\", \"title\": \"They/Them\", \"isSuperUser\": 0, \"lastLogin\": \"2021-05-12T17:01:54\"}, {\"id_x\": 64, \"status\": \"P\", \"attendanceSessionId\": 3, \"userId\": 69, \"id_y\": 1208, \"activity\": \"Logged in\", \"lastName\": \"Amaechi\", \"title\": \"They/Them\", \"isSuperUser\": 0, \"lastLogin\": \"2021-05-12T17:01:54\"}, {\"id_x\": 64, \"status\": \"P\", \"attendanceSessionId\": 3, \"userId\": 69, \"id_y\": 1209, \"activity\": \"Accessed Session 8 - Starter Files from Intro to Game Dev with Unity repo [access:1d14e303b59::rrtGJAd2ae1e]\", \"lastName\": \"Amaechi\", \"title\": \"They/Them\", \"isSuperUser\": 0, \"lastLogin\": \"2021-05-12T17:01:54\"}, {\"id_x\": 64, \"status\": \"P\", \"attendanceSessionId\": 3, \"userId\": 69, \"id_y\": 1230, \"activity\": \"Logged in\", \"lastName\": \"Amaechi\", \"title\": \"They/Them\", \"isSuperUser\": 0, \"lastLogin\": \"2021-05-12T17:01:54\"}, {\"id_x\": 64, \"status\": \"P\", \"attendanceSessionId\": 3, \"userId\": 69, \"id_y\": 1231, \"activity\": \"Accessed Session 8 - Starter Files from Intro to Game Dev with Unity repo [access:1d14e303b59::rrtGJAd2ae1e]\", \"lastName\": \"Amaechi\", \"title\": \"They/Them\", \"isSuperUser\": 0, \"lastLogin\": \"2021-05-12T17:01:54\"}, {\"id_x\": 64, \"status\": \"P\", \"attendanceSessionId\": 3, \"userId\": 69, \"id_y\": 1278, \"activity\": \"Logged in\", \"lastName\": \"Amaechi\", \"title\": \"They/Them\", \"isSuperUser\": 0, \"lastLogin\": \"2021-05-12T17:01:54\"}, {\"id_x\": 75, \"status\": \"P\", \"attendanceSessionId\": 4, \"userId\": 69, \"id_y\": 1070, \"activity\": \"Logged in\", \"lastName\": \"Amaechi\", \"title\": \"They/Them\", \"isSuperUser\": 0, \"lastLogin\": \"2021-05-12T17:01:54\"}, {\"id_x\": 75, \"status\": \"P\", \"attendanceSessionId\": 4, \"userId\": 69, \"id_y\": 1071, \"activity\": \"Accessed Session 5 - Starter Files from Intro to Game Dev with Unity repo [access:3aadbfd9eca::rrtGJAd2ae1e]\", \"lastName\": \"Amaechi\", \"title\": \"They/Them\", \"isSuperUser\": 0, \"lastLogin\": \"2021-05-12T17:01:54\"}, {\"id_x\": 75, \"status\": \"P\", \"attendanceSessionId\": 4, \"userId\": 69, \"id_y\": 1072, \"activity\": \"Accessed Session 5 - Assets from Intro to Game Dev with Unity repo [access:141012aa424::rrtGJAd2ae1e]\", \"lastName\": \"Amaechi\", \"title\": \"They/Them\", \"isSuperUser\": 0, \"lastLogin\": \"2021-05-12T17:01:54\"}, {\"id_x\": 75, \"status\": \"P\", \"attendanceSessionId\": 4, \"userId\": 69, \"id_y\": 1082, \"activity\": \"Accessed Session 5 - Assets from Intro to Game Dev with Unity repo [access:141012aa424::rrtGJAd2ae1e]\", \"lastName\": \"Amaechi\", \"title\": \"They/Them\", \"isSuperUser\": 0, \"lastLogin\": \"2021-05-12T17:01:54\"}, {\"id_x\": 75, \"status\": \"P\", \"attendanceSessionId\": 4, \"userId\": 69, \"id_y\": 1107, \"activity\": \"Logged in\", \"lastName\": \"Amaechi\", \"title\": \"They/Them\", \"isSuperUser\": 0, \"lastLogin\": \"2021-05-12T17:01:54\"}, {\"id_x\": 75, \"status\": \"P\", \"attendanceSessionId\": 4, \"userId\": 69, \"id_y\": 1108, \"activity\": \"Accessed Session 6 - Starter Files from Intro to Game Dev with Unity repo [access:4ff849da461::rrtGJAd2ae1e]\", \"lastName\": \"Amaechi\", \"title\": \"They/Them\", \"isSuperUser\": 0, \"lastLogin\": \"2021-05-12T17:01:54\"}, {\"id_x\": 75, \"status\": \"P\", \"attendanceSessionId\": 4, \"userId\": 69, \"id_y\": 1164, \"activity\": \"Logged in\", \"lastName\": \"Amaechi\", \"title\": \"They/Them\", \"isSuperUser\": 0, \"lastLogin\": \"2021-05-12T17:01:54\"}, {\"id_x\": 75, \"status\": \"P\", \"attendanceSessionId\": 4, \"userId\": 69, \"id_y\": 1165, \"activity\": \"Accessed Session 7 - Starter Files from Intro to Game Dev with Unity repo [access:0274231c583::rrtGJAd2ae1e]\", \"lastName\": \"Amaechi\", \"title\": \"They/Them\", \"isSuperUser\": 0, \"lastLogin\": \"2021-05-12T17:01:54\"}, {\"id_x\": 75, \"status\": \"P\", \"attendanceSessionId\": 4, \"userId\": 69, \"id_y\": 1208, \"activity\": \"Logged in\", \"lastName\": \"Amaechi\", \"title\": \"They/Them\", \"isSuperUser\": 0, \"lastLogin\": \"2021-05-12T17:01:54\"}, {\"id_x\": 75, \"status\": \"P\", \"attendanceSessionId\": 4, \"userId\": 69, \"id_y\": 1209, \"activity\": \"Accessed Session 8 - Starter Files from Intro to Game Dev with Unity repo [access:1d14e303b59::rrtGJAd2ae1e]\", \"lastName\": \"Amaechi\", \"title\": \"They/Them\", \"isSuperUser\": 0, \"lastLogin\": \"2021-05-12T17:01:54\"}, {\"id_x\": 75, \"status\": \"P\", \"attendanceSessionId\": 4, \"userId\": 69, \"id_y\": 1230, \"activity\": \"Logged in\", \"lastName\": \"Amaechi\", \"title\": \"They/Them\", \"isSuperUser\": 0, \"lastLogin\": \"2021-05-12T17:01:54\"}, {\"id_x\": 75, \"status\": \"P\", \"attendanceSessionId\": 4, \"userId\": 69, \"id_y\": 1231, \"activity\": \"Accessed Session 8 - Starter Files from Intro to Game Dev with Unity repo [access:1d14e303b59::rrtGJAd2ae1e]\", \"lastName\": \"Amaechi\", \"title\": \"They/Them\", \"isSuperUser\": 0, \"lastLogin\": \"2021-05-12T17:01:54\"}, {\"id_x\": 75, \"status\": \"P\", \"attendanceSessionId\": 4, \"userId\": 69, \"id_y\": 1278, \"activity\": \"Logged in\", \"lastName\": \"Amaechi\", \"title\": \"They/Them\", \"isSuperUser\": 0, \"lastLogin\": \"2021-05-12T17:01:54\"}, {\"id_x\": 87, \"status\": \"P\", \"attendanceSessionId\": 5, \"userId\": 69, \"id_y\": 1070, \"activity\": \"Logged in\", \"lastName\": \"Amaechi\", \"title\": \"They/Them\", \"isSuperUser\": 0, \"lastLogin\": \"2021-05-12T17:01:54\"}, {\"id_x\": 87, \"status\": \"P\", \"attendanceSessionId\": 5, \"userId\": 69, \"id_y\": 1071, \"activity\": \"Accessed Session 5 - Starter Files from Intro to Game Dev with Unity repo [access:3aadbfd9eca::rrtGJAd2ae1e]\", \"lastName\": \"Amaechi\", \"title\": \"They/Them\", \"isSuperUser\": 0, \"lastLogin\": \"2021-05-12T17:01:54\"}, {\"id_x\": 87, \"status\": \"P\", \"attendanceSessionId\": 5, \"userId\": 69, \"id_y\": 1072, \"activity\": \"Accessed Session 5 - Assets from Intro to Game Dev with Unity repo [access:141012aa424::rrtGJAd2ae1e]\", \"lastName\": \"Amaechi\", \"title\": \"They/Them\", \"isSuperUser\": 0, \"lastLogin\": \"2021-05-12T17:01:54\"}, {\"id_x\": 87, \"status\": \"P\", \"attendanceSessionId\": 5, \"userId\": 69, \"id_y\": 1082, \"activity\": \"Accessed Session 5 - Assets from Intro to Game Dev with Unity repo [access:141012aa424::rrtGJAd2ae1e]\", \"lastName\": \"Amaechi\", \"title\": \"They/Them\", \"isSuperUser\": 0, \"lastLogin\": \"2021-05-12T17:01:54\"}, {\"id_x\": 87, \"status\": \"P\", \"attendanceSessionId\": 5, \"userId\": 69, \"id_y\": 1107, \"activity\": \"Logged in\", \"lastName\": \"Amaechi\", \"title\": \"They/Them\", \"isSuperUser\": 0, \"lastLogin\": \"2021-05-12T17:01:54\"}, {\"id_x\": 87, \"status\": \"P\", \"attendanceSessionId\": 5, \"userId\": 69, \"id_y\": 1108, \"activity\": \"Accessed Session 6 - Starter Files from Intro to Game Dev with Unity repo [access:4ff849da461::rrtGJAd2ae1e]\", \"lastName\": \"Amaechi\", \"title\": \"They/Them\", \"isSuperUser\": 0, \"lastLogin\": \"2021-05-12T17:01:54\"}, {\"id_x\": 87, \"status\": \"P\", \"attendanceSessionId\": 5, \"userId\": 69, \"id_y\": 1164, \"activity\": \"Logged in\", \"lastName\": \"Amaechi\", \"title\": \"They/Them\", \"isSuperUser\": 0, \"lastLogin\": \"2021-05-12T17:01:54\"}, {\"id_x\": 87, \"status\": \"P\", \"attendanceSessionId\": 5, \"userId\": 69, \"id_y\": 1165, \"activity\": \"Accessed Session 7 - Starter Files from Intro to Game Dev with Unity repo [access:0274231c583::rrtGJAd2ae1e]\", \"lastName\": \"Amaechi\", \"title\": \"They/Them\", \"isSuperUser\": 0, \"lastLogin\": \"2021-05-12T17:01:54\"}, {\"id_x\": 87, \"status\": \"P\", \"attendanceSessionId\": 5, \"userId\": 69, \"id_y\": 1208, \"activity\": \"Logged in\", \"lastName\": \"Amaechi\", \"title\": \"They/Them\", \"isSuperUser\": 0, \"lastLogin\": \"2021-05-12T17:01:54\"}, {\"id_x\": 87, \"status\": \"P\", \"attendanceSessionId\": 5, \"userId\": 69, \"id_y\": 1209, \"activity\": \"Accessed Session 8 - Starter Files from Intro to Game Dev with Unity repo [access:1d14e303b59::rrtGJAd2ae1e]\", \"lastName\": \"Amaechi\", \"title\": \"They/Them\", \"isSuperUser\": 0, \"lastLogin\": \"2021-05-12T17:01:54\"}, {\"id_x\": 87, \"status\": \"P\", \"attendanceSessionId\": 5, \"userId\": 69, \"id_y\": 1230, \"activity\": \"Logged in\", \"lastName\": \"Amaechi\", \"title\": \"They/Them\", \"isSuperUser\": 0, \"lastLogin\": \"2021-05-12T17:01:54\"}, {\"id_x\": 87, \"status\": \"P\", \"attendanceSessionId\": 5, \"userId\": 69, \"id_y\": 1231, \"activity\": \"Accessed Session 8 - Starter Files from Intro to Game Dev with Unity repo [access:1d14e303b59::rrtGJAd2ae1e]\", \"lastName\": \"Amaechi\", \"title\": \"They/Them\", \"isSuperUser\": 0, \"lastLogin\": \"2021-05-12T17:01:54\"}, {\"id_x\": 87, \"status\": \"P\", \"attendanceSessionId\": 5, \"userId\": 69, \"id_y\": 1278, \"activity\": \"Logged in\", \"lastName\": \"Amaechi\", \"title\": \"They/Them\", \"isSuperUser\": 0, \"lastLogin\": \"2021-05-12T17:01:54\"}, {\"id_x\": 99, \"status\": \"P\", \"attendanceSessionId\": 6, \"userId\": 69, \"id_y\": 1070, \"activity\": \"Logged in\", \"lastName\": \"Amaechi\", \"title\": \"They/Them\", \"isSuperUser\": 0, \"lastLogin\": \"2021-05-12T17:01:54\"}, {\"id_x\": 99, \"status\": \"P\", \"attendanceSessionId\": 6, \"userId\": 69, \"id_y\": 1071, \"activity\": \"Accessed Session 5 - Starter Files from Intro to Game Dev with Unity repo [access:3aadbfd9eca::rrtGJAd2ae1e]\", \"lastName\": \"Amaechi\", \"title\": \"They/Them\", \"isSuperUser\": 0, \"lastLogin\": \"2021-05-12T17:01:54\"}, {\"id_x\": 99, \"status\": \"P\", \"attendanceSessionId\": 6, \"userId\": 69, \"id_y\": 1072, \"activity\": \"Accessed Session 5 - Assets from Intro to Game Dev with Unity repo [access:141012aa424::rrtGJAd2ae1e]\", \"lastName\": \"Amaechi\", \"title\": \"They/Them\", \"isSuperUser\": 0, \"lastLogin\": \"2021-05-12T17:01:54\"}, {\"id_x\": 99, \"status\": \"P\", \"attendanceSessionId\": 6, \"userId\": 69, \"id_y\": 1082, \"activity\": \"Accessed Session 5 - Assets from Intro to Game Dev with Unity repo [access:141012aa424::rrtGJAd2ae1e]\", \"lastName\": \"Amaechi\", \"title\": \"They/Them\", \"isSuperUser\": 0, \"lastLogin\": \"2021-05-12T17:01:54\"}, {\"id_x\": 99, \"status\": \"P\", \"attendanceSessionId\": 6, \"userId\": 69, \"id_y\": 1107, \"activity\": \"Logged in\", \"lastName\": \"Amaechi\", \"title\": \"They/Them\", \"isSuperUser\": 0, \"lastLogin\": \"2021-05-12T17:01:54\"}, {\"id_x\": 99, \"status\": \"P\", \"attendanceSessionId\": 6, \"userId\": 69, \"id_y\": 1108, \"activity\": \"Accessed Session 6 - Starter Files from Intro to Game Dev with Unity repo [access:4ff849da461::rrtGJAd2ae1e]\", \"lastName\": \"Amaechi\", \"title\": \"They/Them\", \"isSuperUser\": 0, \"lastLogin\": \"2021-05-12T17:01:54\"}, {\"id_x\": 99, \"status\": \"P\", \"attendanceSessionId\": 6, \"userId\": 69, \"id_y\": 1164, \"activity\": \"Logged in\", \"lastName\": \"Amaechi\", \"title\": \"They/Them\", \"isSuperUser\": 0, \"lastLogin\": \"2021-05-12T17:01:54\"}, {\"id_x\": 99, \"status\": \"P\", \"attendanceSessionId\": 6, \"userId\": 69, \"id_y\": 1165, \"activity\": \"Accessed Session 7 - Starter Files from Intro to Game Dev with Unity repo [access:0274231c583::rrtGJAd2ae1e]\", \"lastName\": \"Amaechi\", \"title\": \"They/Them\", \"isSuperUser\": 0, \"lastLogin\": \"2021-05-12T17:01:54\"}, {\"id_x\": 99, \"status\": \"P\", \"attendanceSessionId\": 6, \"userId\": 69, \"id_y\": 1208, \"activity\": \"Logged in\", \"lastName\": \"Amaechi\", \"title\": \"They/Them\", \"isSuperUser\": 0, \"lastLogin\": \"2021-05-12T17:01:54\"}, {\"id_x\": 99, \"status\": \"P\", \"attendanceSessionId\": 6, \"userId\": 69, \"id_y\": 1209, \"activity\": \"Accessed Session 8 - Starter Files from Intro to Game Dev with Unity repo [access:1d14e303b59::rrtGJAd2ae1e]\", \"lastName\": \"Amaechi\", \"title\": \"They/Them\", \"isSuperUser\": 0, \"lastLogin\": \"2021-05-12T17:01:54\"}, {\"id_x\": 99, \"status\": \"P\", \"attendanceSessionId\": 6, \"userId\": 69, \"id_y\": 1230, \"activity\": \"Logged in\", \"lastName\": \"Amaechi\", \"title\": \"They/Them\", \"isSuperUser\": 0, \"lastLogin\": \"2021-05-12T17:01:54\"}, {\"id_x\": 99, \"status\": \"P\", \"attendanceSessionId\": 6, \"userId\": 69, \"id_y\": 1231, \"activity\": \"Accessed Session 8 - Starter Files from Intro to Game Dev with Unity repo [access:1d14e303b59::rrtGJAd2ae1e]\", \"lastName\": \"Amaechi\", \"title\": \"They/Them\", \"isSuperUser\": 0, \"lastLogin\": \"2021-05-12T17:01:54\"}, {\"id_x\": 99, \"status\": \"P\", \"attendanceSessionId\": 6, \"userId\": 69, \"id_y\": 1278, \"activity\": \"Logged in\", \"lastName\": \"Amaechi\", \"title\": \"They/Them\", \"isSuperUser\": 0, \"lastLogin\": \"2021-05-12T17:01:54\"}, {\"id_x\": 106, \"status\": \"P\", \"attendanceSessionId\": 7, \"userId\": 69, \"id_y\": 1070, \"activity\": \"Logged in\", \"lastName\": \"Amaechi\", \"title\": \"They/Them\", \"isSuperUser\": 0, \"lastLogin\": \"2021-05-12T17:01:54\"}, {\"id_x\": 106, \"status\": \"P\", \"attendanceSessionId\": 7, \"userId\": 69, \"id_y\": 1071, \"activity\": \"Accessed Session 5 - Starter Files from Intro to Game Dev with Unity repo [access:3aadbfd9eca::rrtGJAd2ae1e]\", \"lastName\": \"Amaechi\", \"title\": \"They/Them\", \"isSuperUser\": 0, \"lastLogin\": \"2021-05-12T17:01:54\"}, {\"id_x\": 106, \"status\": \"P\", \"attendanceSessionId\": 7, \"userId\": 69, \"id_y\": 1072, \"activity\": \"Accessed Session 5 - Assets from Intro to Game Dev with Unity repo [access:141012aa424::rrtGJAd2ae1e]\", \"lastName\": \"Amaechi\", \"title\": \"They/Them\", \"isSuperUser\": 0, \"lastLogin\": \"2021-05-12T17:01:54\"}, {\"id_x\": 106, \"status\": \"P\", \"attendanceSessionId\": 7, \"userId\": 69, \"id_y\": 1082, \"activity\": \"Accessed Session 5 - Assets from Intro to Game Dev with Unity repo [access:141012aa424::rrtGJAd2ae1e]\", \"lastName\": \"Amaechi\", \"title\": \"They/Them\", \"isSuperUser\": 0, \"lastLogin\": \"2021-05-12T17:01:54\"}, {\"id_x\": 106, \"status\": \"P\", \"attendanceSessionId\": 7, \"userId\": 69, \"id_y\": 1107, \"activity\": \"Logged in\", \"lastName\": \"Amaechi\", \"title\": \"They/Them\", \"isSuperUser\": 0, \"lastLogin\": \"2021-05-12T17:01:54\"}, {\"id_x\": 106, \"status\": \"P\", \"attendanceSessionId\": 7, \"userId\": 69, \"id_y\": 1108, \"activity\": \"Accessed Session 6 - Starter Files from Intro to Game Dev with Unity repo [access:4ff849da461::rrtGJAd2ae1e]\", \"lastName\": \"Amaechi\", \"title\": \"They/Them\", \"isSuperUser\": 0, \"lastLogin\": \"2021-05-12T17:01:54\"}, {\"id_x\": 106, \"status\": \"P\", \"attendanceSessionId\": 7, \"userId\": 69, \"id_y\": 1164, \"activity\": \"Logged in\", \"lastName\": \"Amaechi\", \"title\": \"They/Them\", \"isSuperUser\": 0, \"lastLogin\": \"2021-05-12T17:01:54\"}, {\"id_x\": 106, \"status\": \"P\", \"attendanceSessionId\": 7, \"userId\": 69, \"id_y\": 1165, \"activity\": \"Accessed Session 7 - Starter Files from Intro to Game Dev with Unity repo [access:0274231c583::rrtGJAd2ae1e]\", \"lastName\": \"Amaechi\", \"title\": \"They/Them\", \"isSuperUser\": 0, \"lastLogin\": \"2021-05-12T17:01:54\"}, {\"id_x\": 106, \"status\": \"P\", \"attendanceSessionId\": 7, \"userId\": 69, \"id_y\": 1208, \"activity\": \"Logged in\", \"lastName\": \"Amaechi\", \"title\": \"They/Them\", \"isSuperUser\": 0, \"lastLogin\": \"2021-05-12T17:01:54\"}, {\"id_x\": 106, \"status\": \"P\", \"attendanceSessionId\": 7, \"userId\": 69, \"id_y\": 1209, \"activity\": \"Accessed Session 8 - Starter Files from Intro to Game Dev with Unity repo [access:1d14e303b59::rrtGJAd2ae1e]\", \"lastName\": \"Amaechi\", \"title\": \"They/Them\", \"isSuperUser\": 0, \"lastLogin\": \"2021-05-12T17:01:54\"}, {\"id_x\": 106, \"status\": \"P\", \"attendanceSessionId\": 7, \"userId\": 69, \"id_y\": 1230, \"activity\": \"Logged in\", \"lastName\": \"Amaechi\", \"title\": \"They/Them\", \"isSuperUser\": 0, \"lastLogin\": \"2021-05-12T17:01:54\"}, {\"id_x\": 106, \"status\": \"P\", \"attendanceSessionId\": 7, \"userId\": 69, \"id_y\": 1231, \"activity\": \"Accessed Session 8 - Starter Files from Intro to Game Dev with Unity repo [access:1d14e303b59::rrtGJAd2ae1e]\", \"lastName\": \"Amaechi\", \"title\": \"They/Them\", \"isSuperUser\": 0, \"lastLogin\": \"2021-05-12T17:01:54\"}, {\"id_x\": 106, \"status\": \"P\", \"attendanceSessionId\": 7, \"userId\": 69, \"id_y\": 1278, \"activity\": \"Logged in\", \"lastName\": \"Amaechi\", \"title\": \"They/Them\", \"isSuperUser\": 0, \"lastLogin\": \"2021-05-12T17:01:54\"}, {\"id_x\": 115, \"status\": \"P\", \"attendanceSessionId\": 8, \"userId\": 69, \"id_y\": 1070, \"activity\": \"Logged in\", \"lastName\": \"Amaechi\", \"title\": \"They/Them\", \"isSuperUser\": 0, \"lastLogin\": \"2021-05-12T17:01:54\"}, {\"id_x\": 115, \"status\": \"P\", \"attendanceSessionId\": 8, \"userId\": 69, \"id_y\": 1071, \"activity\": \"Accessed Session 5 - Starter Files from Intro to Game Dev with Unity repo [access:3aadbfd9eca::rrtGJAd2ae1e]\", \"lastName\": \"Amaechi\", \"title\": \"They/Them\", \"isSuperUser\": 0, \"lastLogin\": \"2021-05-12T17:01:54\"}, {\"id_x\": 115, \"status\": \"P\", \"attendanceSessionId\": 8, \"userId\": 69, \"id_y\": 1072, \"activity\": \"Accessed Session 5 - Assets from Intro to Game Dev with Unity repo [access:141012aa424::rrtGJAd2ae1e]\", \"lastName\": \"Amaechi\", \"title\": \"They/Them\", \"isSuperUser\": 0, \"lastLogin\": \"2021-05-12T17:01:54\"}, {\"id_x\": 115, \"status\": \"P\", \"attendanceSessionId\": 8, \"userId\": 69, \"id_y\": 1082, \"activity\": \"Accessed Session 5 - Assets from Intro to Game Dev with Unity repo [access:141012aa424::rrtGJAd2ae1e]\", \"lastName\": \"Amaechi\", \"title\": \"They/Them\", \"isSuperUser\": 0, \"lastLogin\": \"2021-05-12T17:01:54\"}, {\"id_x\": 115, \"status\": \"P\", \"attendanceSessionId\": 8, \"userId\": 69, \"id_y\": 1107, \"activity\": \"Logged in\", \"lastName\": \"Amaechi\", \"title\": \"They/Them\", \"isSuperUser\": 0, \"lastLogin\": \"2021-05-12T17:01:54\"}, {\"id_x\": 115, \"status\": \"P\", \"attendanceSessionId\": 8, \"userId\": 69, \"id_y\": 1108, \"activity\": \"Accessed Session 6 - Starter Files from Intro to Game Dev with Unity repo [access:4ff849da461::rrtGJAd2ae1e]\", \"lastName\": \"Amaechi\", \"title\": \"They/Them\", \"isSuperUser\": 0, \"lastLogin\": \"2021-05-12T17:01:54\"}, {\"id_x\": 115, \"status\": \"P\", \"attendanceSessionId\": 8, \"userId\": 69, \"id_y\": 1164, \"activity\": \"Logged in\", \"lastName\": \"Amaechi\", \"title\": \"They/Them\", \"isSuperUser\": 0, \"lastLogin\": \"2021-05-12T17:01:54\"}, {\"id_x\": 115, \"status\": \"P\", \"attendanceSessionId\": 8, \"userId\": 69, \"id_y\": 1165, \"activity\": \"Accessed Session 7 - Starter Files from Intro to Game Dev with Unity repo [access:0274231c583::rrtGJAd2ae1e]\", \"lastName\": \"Amaechi\", \"title\": \"They/Them\", \"isSuperUser\": 0, \"lastLogin\": \"2021-05-12T17:01:54\"}, {\"id_x\": 115, \"status\": \"P\", \"attendanceSessionId\": 8, \"userId\": 69, \"id_y\": 1208, \"activity\": \"Logged in\", \"lastName\": \"Amaechi\", \"title\": \"They/Them\", \"isSuperUser\": 0, \"lastLogin\": \"2021-05-12T17:01:54\"}, {\"id_x\": 115, \"status\": \"P\", \"attendanceSessionId\": 8, \"userId\": 69, \"id_y\": 1209, \"activity\": \"Accessed Session 8 - Starter Files from Intro to Game Dev with Unity repo [access:1d14e303b59::rrtGJAd2ae1e]\", \"lastName\": \"Amaechi\", \"title\": \"They/Them\", \"isSuperUser\": 0, \"lastLogin\": \"2021-05-12T17:01:54\"}, {\"id_x\": 115, \"status\": \"P\", \"attendanceSessionId\": 8, \"userId\": 69, \"id_y\": 1230, \"activity\": \"Logged in\", \"lastName\": \"Amaechi\", \"title\": \"They/Them\", \"isSuperUser\": 0, \"lastLogin\": \"2021-05-12T17:01:54\"}, {\"id_x\": 115, \"status\": \"P\", \"attendanceSessionId\": 8, \"userId\": 69, \"id_y\": 1231, \"activity\": \"Accessed Session 8 - Starter Files from Intro to Game Dev with Unity repo [access:1d14e303b59::rrtGJAd2ae1e]\", \"lastName\": \"Amaechi\", \"title\": \"They/Them\", \"isSuperUser\": 0, \"lastLogin\": \"2021-05-12T17:01:54\"}, {\"id_x\": 115, \"status\": \"P\", \"attendanceSessionId\": 8, \"userId\": 69, \"id_y\": 1278, \"activity\": \"Logged in\", \"lastName\": \"Amaechi\", \"title\": \"They/Them\", \"isSuperUser\": 0, \"lastLogin\": \"2021-05-12T17:01:54\"}, {\"id_x\": 140, \"status\": \"P\", \"attendanceSessionId\": 9, \"userId\": 69, \"id_y\": 1070, \"activity\": \"Logged in\", \"lastName\": \"Amaechi\", \"title\": \"They/Them\", \"isSuperUser\": 0, \"lastLogin\": \"2021-05-12T17:01:54\"}, {\"id_x\": 140, \"status\": \"P\", \"attendanceSessionId\": 9, \"userId\": 69, \"id_y\": 1071, \"activity\": \"Accessed Session 5 - Starter Files from Intro to Game Dev with Unity repo [access:3aadbfd9eca::rrtGJAd2ae1e]\", \"lastName\": \"Amaechi\", \"title\": \"They/Them\", \"isSuperUser\": 0, \"lastLogin\": \"2021-05-12T17:01:54\"}, {\"id_x\": 140, \"status\": \"P\", \"attendanceSessionId\": 9, \"userId\": 69, \"id_y\": 1072, \"activity\": \"Accessed Session 5 - Assets from Intro to Game Dev with Unity repo [access:141012aa424::rrtGJAd2ae1e]\", \"lastName\": \"Amaechi\", \"title\": \"They/Them\", \"isSuperUser\": 0, \"lastLogin\": \"2021-05-12T17:01:54\"}, {\"id_x\": 140, \"status\": \"P\", \"attendanceSessionId\": 9, \"userId\": 69, \"id_y\": 1082, \"activity\": \"Accessed Session 5 - Assets from Intro to Game Dev with Unity repo [access:141012aa424::rrtGJAd2ae1e]\", \"lastName\": \"Amaechi\", \"title\": \"They/Them\", \"isSuperUser\": 0, \"lastLogin\": \"2021-05-12T17:01:54\"}, {\"id_x\": 140, \"status\": \"P\", \"attendanceSessionId\": 9, \"userId\": 69, \"id_y\": 1107, \"activity\": \"Logged in\", \"lastName\": \"Amaechi\", \"title\": \"They/Them\", \"isSuperUser\": 0, \"lastLogin\": \"2021-05-12T17:01:54\"}, {\"id_x\": 140, \"status\": \"P\", \"attendanceSessionId\": 9, \"userId\": 69, \"id_y\": 1108, \"activity\": \"Accessed Session 6 - Starter Files from Intro to Game Dev with Unity repo [access:4ff849da461::rrtGJAd2ae1e]\", \"lastName\": \"Amaechi\", \"title\": \"They/Them\", \"isSuperUser\": 0, \"lastLogin\": \"2021-05-12T17:01:54\"}, {\"id_x\": 140, \"status\": \"P\", \"attendanceSessionId\": 9, \"userId\": 69, \"id_y\": 1164, \"activity\": \"Logged in\", \"lastName\": \"Amaechi\", \"title\": \"They/Them\", \"isSuperUser\": 0, \"lastLogin\": \"2021-05-12T17:01:54\"}, {\"id_x\": 140, \"status\": \"P\", \"attendanceSessionId\": 9, \"userId\": 69, \"id_y\": 1165, \"activity\": \"Accessed Session 7 - Starter Files from Intro to Game Dev with Unity repo [access:0274231c583::rrtGJAd2ae1e]\", \"lastName\": \"Amaechi\", \"title\": \"They/Them\", \"isSuperUser\": 0, \"lastLogin\": \"2021-05-12T17:01:54\"}, {\"id_x\": 140, \"status\": \"P\", \"attendanceSessionId\": 9, \"userId\": 69, \"id_y\": 1208, \"activity\": \"Logged in\", \"lastName\": \"Amaechi\", \"title\": \"They/Them\", \"isSuperUser\": 0, \"lastLogin\": \"2021-05-12T17:01:54\"}, {\"id_x\": 140, \"status\": \"P\", \"attendanceSessionId\": 9, \"userId\": 69, \"id_y\": 1209, \"activity\": \"Accessed Session 8 - Starter Files from Intro to Game Dev with Unity repo [access:1d14e303b59::rrtGJAd2ae1e]\", \"lastName\": \"Amaechi\", \"title\": \"They/Them\", \"isSuperUser\": 0, \"lastLogin\": \"2021-05-12T17:01:54\"}, {\"id_x\": 140, \"status\": \"P\", \"attendanceSessionId\": 9, \"userId\": 69, \"id_y\": 1230, \"activity\": \"Logged in\", \"lastName\": \"Amaechi\", \"title\": \"They/Them\", \"isSuperUser\": 0, \"lastLogin\": \"2021-05-12T17:01:54\"}, {\"id_x\": 140, \"status\": \"P\", \"attendanceSessionId\": 9, \"userId\": 69, \"id_y\": 1231, \"activity\": \"Accessed Session 8 - Starter Files from Intro to Game Dev with Unity repo [access:1d14e303b59::rrtGJAd2ae1e]\", \"lastName\": \"Amaechi\", \"title\": \"They/Them\", \"isSuperUser\": 0, \"lastLogin\": \"2021-05-12T17:01:54\"}, {\"id_x\": 140, \"status\": \"P\", \"attendanceSessionId\": 9, \"userId\": 69, \"id_y\": 1278, \"activity\": \"Logged in\", \"lastName\": \"Amaechi\", \"title\": \"They/Them\", \"isSuperUser\": 0, \"lastLogin\": \"2021-05-12T17:01:54\"}, {\"id_x\": 32, \"status\": \"P\", \"attendanceSessionId\": 1, \"userId\": 85, \"id_y\": 1083, \"activity\": \"Password Reset requested\", \"lastName\": \"Surendran\", \"title\": \"They/Them\", \"isSuperUser\": 0, \"lastLogin\": \"2021-04-30T13:55:43\"}, {\"id_x\": 32, \"status\": \"P\", \"attendanceSessionId\": 1, \"userId\": 85, \"id_y\": 1084, \"activity\": \"Password Reset requested\", \"lastName\": \"Surendran\", \"title\": \"They/Them\", \"isSuperUser\": 0, \"lastLogin\": \"2021-04-30T13:55:43\"}, {\"id_x\": 32, \"status\": \"P\", \"attendanceSessionId\": 1, \"userId\": 85, \"id_y\": 1256, \"activity\": \"Magic link sent\", \"lastName\": \"Surendran\", \"title\": \"They/Them\", \"isSuperUser\": 0, \"lastLogin\": \"2021-04-30T13:55:43\"}, {\"id_x\": 32, \"status\": \"P\", \"attendanceSessionId\": 1, \"userId\": 85, \"id_y\": 1257, \"activity\": \"Password Reset requested\", \"lastName\": \"Surendran\", \"title\": \"They/Them\", \"isSuperUser\": 0, \"lastLogin\": \"2021-04-30T13:55:43\"}, {\"id_x\": 32, \"status\": \"P\", \"attendanceSessionId\": 1, \"userId\": 85, \"id_y\": 1258, \"activity\": \"Magic link sent\", \"lastName\": \"Surendran\", \"title\": \"They/Them\", \"isSuperUser\": 0, \"lastLogin\": \"2021-04-30T13:55:43\"}, {\"id_x\": 32, \"status\": \"P\", \"attendanceSessionId\": 1, \"userId\": 85, \"id_y\": 1260, \"activity\": \"Logged in\", \"lastName\": \"Surendran\", \"title\": \"They/Them\", \"isSuperUser\": 0, \"lastLogin\": \"2021-04-30T13:55:43\"}, {\"id_x\": 32, \"status\": \"P\", \"attendanceSessionId\": 1, \"userId\": 85, \"id_y\": 1261, \"activity\": \"Password expired. Redirecting to update password\", \"lastName\": \"Surendran\", \"title\": \"They/Them\", \"isSuperUser\": 0, \"lastLogin\": \"2021-04-30T13:55:43\"}, {\"id_x\": 32, \"status\": \"P\", \"attendanceSessionId\": 1, \"userId\": 85, \"id_y\": 1262, \"activity\": \"Updated password\", \"lastName\": \"Surendran\", \"title\": \"They/Them\", \"isSuperUser\": 0, \"lastLogin\": \"2021-04-30T13:55:43\"}, {\"id_x\": 32, \"status\": \"P\", \"attendanceSessionId\": 1, \"userId\": 85, \"id_y\": 1263, \"activity\": \"No course selected. Navigating to course selection\", \"lastName\": \"Surendran\", \"title\": \"They/Them\", \"isSuperUser\": 0, \"lastLogin\": \"2021-04-30T13:55:43\"}, {\"id_x\": 32, \"status\": \"P\", \"attendanceSessionId\": 1, \"userId\": 85, \"id_y\": 1264, \"activity\": \"Logged in\", \"lastName\": \"Surendran\", \"title\": \"They/Them\", \"isSuperUser\": 0, \"lastLogin\": \"2021-04-30T13:55:43\"}, {\"id_x\": 42, \"status\": \"P\", \"attendanceSessionId\": 2, \"userId\": 85, \"id_y\": 1083, \"activity\": \"Password Reset requested\", \"lastName\": \"Surendran\", \"title\": \"They/Them\", \"isSuperUser\": 0, \"lastLogin\": \"2021-04-30T13:55:43\"}, {\"id_x\": 42, \"status\": \"P\", \"attendanceSessionId\": 2, \"userId\": 85, \"id_y\": 1084, \"activity\": \"Password Reset requested\", \"lastName\": \"Surendran\", \"title\": \"They/Them\", \"isSuperUser\": 0, \"lastLogin\": \"2021-04-30T13:55:43\"}, {\"id_x\": 42, \"status\": \"P\", \"attendanceSessionId\": 2, \"userId\": 85, \"id_y\": 1256, \"activity\": \"Magic link sent\", \"lastName\": \"Surendran\", \"title\": \"They/Them\", \"isSuperUser\": 0, \"lastLogin\": \"2021-04-30T13:55:43\"}, {\"id_x\": 42, \"status\": \"P\", \"attendanceSessionId\": 2, \"userId\": 85, \"id_y\": 1257, \"activity\": \"Password Reset requested\", \"lastName\": \"Surendran\", \"title\": \"They/Them\", \"isSuperUser\": 0, \"lastLogin\": \"2021-04-30T13:55:43\"}, {\"id_x\": 42, \"status\": \"P\", \"attendanceSessionId\": 2, \"userId\": 85, \"id_y\": 1258, \"activity\": \"Magic link sent\", \"lastName\": \"Surendran\", \"title\": \"They/Them\", \"isSuperUser\": 0, \"lastLogin\": \"2021-04-30T13:55:43\"}, {\"id_x\": 42, \"status\": \"P\", \"attendanceSessionId\": 2, \"userId\": 85, \"id_y\": 1260, \"activity\": \"Logged in\", \"lastName\": \"Surendran\", \"title\": \"They/Them\", \"isSuperUser\": 0, \"lastLogin\": \"2021-04-30T13:55:43\"}, {\"id_x\": 42, \"status\": \"P\", \"attendanceSessionId\": 2, \"userId\": 85, \"id_y\": 1261, \"activity\": \"Password expired. Redirecting to update password\", \"lastName\": \"Surendran\", \"title\": \"They/Them\", \"isSuperUser\": 0, \"lastLogin\": \"2021-04-30T13:55:43\"}, {\"id_x\": 42, \"status\": \"P\", \"attendanceSessionId\": 2, \"userId\": 85, \"id_y\": 1262, \"activity\": \"Updated password\", \"lastName\": \"Surendran\", \"title\": \"They/Them\", \"isSuperUser\": 0, \"lastLogin\": \"2021-04-30T13:55:43\"}, {\"id_x\": 42, \"status\": \"P\", \"attendanceSessionId\": 2, \"userId\": 85, \"id_y\": 1263, \"activity\": \"No course selected. Navigating to course selection\", \"lastName\": \"Surendran\", \"title\": \"They/Them\", \"isSuperUser\": 0, \"lastLogin\": \"2021-04-30T13:55:43\"}, {\"id_x\": 42, \"status\": \"P\", \"attendanceSessionId\": 2, \"userId\": 85, \"id_y\": 1264, \"activity\": \"Logged in\", \"lastName\": \"Surendran\", \"title\": \"They/Them\", \"isSuperUser\": 0, \"lastLogin\": \"2021-04-30T13:55:43\"}, {\"id_x\": 63, \"status\": \"P\", \"attendanceSessionId\": 3, \"userId\": 85, \"id_y\": 1083, \"activity\": \"Password Reset requested\", \"lastName\": \"Surendran\", \"title\": \"They/Them\", \"isSuperUser\": 0, \"lastLogin\": \"2021-04-30T13:55:43\"}, {\"id_x\": 63, \"status\": \"P\", \"attendanceSessionId\": 3, \"userId\": 85, \"id_y\": 1084, \"activity\": \"Password Reset requested\", \"lastName\": \"Surendran\", \"title\": \"They/Them\", \"isSuperUser\": 0, \"lastLogin\": \"2021-04-30T13:55:43\"}, {\"id_x\": 63, \"status\": \"P\", \"attendanceSessionId\": 3, \"userId\": 85, \"id_y\": 1256, \"activity\": \"Magic link sent\", \"lastName\": \"Surendran\", \"title\": \"They/Them\", \"isSuperUser\": 0, \"lastLogin\": \"2021-04-30T13:55:43\"}, {\"id_x\": 63, \"status\": \"P\", \"attendanceSessionId\": 3, \"userId\": 85, \"id_y\": 1257, \"activity\": \"Password Reset requested\", \"lastName\": \"Surendran\", \"title\": \"They/Them\", \"isSuperUser\": 0, \"lastLogin\": \"2021-04-30T13:55:43\"}, {\"id_x\": 63, \"status\": \"P\", \"attendanceSessionId\": 3, \"userId\": 85, \"id_y\": 1258, \"activity\": \"Magic link sent\", \"lastName\": \"Surendran\", \"title\": \"They/Them\", \"isSuperUser\": 0, \"lastLogin\": \"2021-04-30T13:55:43\"}, {\"id_x\": 63, \"status\": \"P\", \"attendanceSessionId\": 3, \"userId\": 85, \"id_y\": 1260, \"activity\": \"Logged in\", \"lastName\": \"Surendran\", \"title\": \"They/Them\", \"isSuperUser\": 0, \"lastLogin\": \"2021-04-30T13:55:43\"}, {\"id_x\": 63, \"status\": \"P\", \"attendanceSessionId\": 3, \"userId\": 85, \"id_y\": 1261, \"activity\": \"Password expired. Redirecting to update password\", \"lastName\": \"Surendran\", \"title\": \"They/Them\", \"isSuperUser\": 0, \"lastLogin\": \"2021-04-30T13:55:43\"}, {\"id_x\": 63, \"status\": \"P\", \"attendanceSessionId\": 3, \"userId\": 85, \"id_y\": 1262, \"activity\": \"Updated password\", \"lastName\": \"Surendran\", \"title\": \"They/Them\", \"isSuperUser\": 0, \"lastLogin\": \"2021-04-30T13:55:43\"}, {\"id_x\": 63, \"status\": \"P\", \"attendanceSessionId\": 3, \"userId\": 85, \"id_y\": 1263, \"activity\": \"No course selected. Navigating to course selection\", \"lastName\": \"Surendran\", \"title\": \"They/Them\", \"isSuperUser\": 0, \"lastLogin\": \"2021-04-30T13:55:43\"}, {\"id_x\": 63, \"status\": \"P\", \"attendanceSessionId\": 3, \"userId\": 85, \"id_y\": 1264, \"activity\": \"Logged in\", \"lastName\": \"Surendran\", \"title\": \"They/Them\", \"isSuperUser\": 0, \"lastLogin\": \"2021-04-30T13:55:43\"}, {\"id_x\": 78, \"status\": \"P\", \"attendanceSessionId\": 4, \"userId\": 85, \"id_y\": 1083, \"activity\": \"Password Reset requested\", \"lastName\": \"Surendran\", \"title\": \"They/Them\", \"isSuperUser\": 0, \"lastLogin\": \"2021-04-30T13:55:43\"}, {\"id_x\": 78, \"status\": \"P\", \"attendanceSessionId\": 4, \"userId\": 85, \"id_y\": 1084, \"activity\": \"Password Reset requested\", \"lastName\": \"Surendran\", \"title\": \"They/Them\", \"isSuperUser\": 0, \"lastLogin\": \"2021-04-30T13:55:43\"}, {\"id_x\": 78, \"status\": \"P\", \"attendanceSessionId\": 4, \"userId\": 85, \"id_y\": 1256, \"activity\": \"Magic link sent\", \"lastName\": \"Surendran\", \"title\": \"They/Them\", \"isSuperUser\": 0, \"lastLogin\": \"2021-04-30T13:55:43\"}, {\"id_x\": 78, \"status\": \"P\", \"attendanceSessionId\": 4, \"userId\": 85, \"id_y\": 1257, \"activity\": \"Password Reset requested\", \"lastName\": \"Surendran\", \"title\": \"They/Them\", \"isSuperUser\": 0, \"lastLogin\": \"2021-04-30T13:55:43\"}, {\"id_x\": 78, \"status\": \"P\", \"attendanceSessionId\": 4, \"userId\": 85, \"id_y\": 1258, \"activity\": \"Magic link sent\", \"lastName\": \"Surendran\", \"title\": \"They/Them\", \"isSuperUser\": 0, \"lastLogin\": \"2021-04-30T13:55:43\"}, {\"id_x\": 78, \"status\": \"P\", \"attendanceSessionId\": 4, \"userId\": 85, \"id_y\": 1260, \"activity\": \"Logged in\", \"lastName\": \"Surendran\", \"title\": \"They/Them\", \"isSuperUser\": 0, \"lastLogin\": \"2021-04-30T13:55:43\"}, {\"id_x\": 78, \"status\": \"P\", \"attendanceSessionId\": 4, \"userId\": 85, \"id_y\": 1261, \"activity\": \"Password expired. Redirecting to update password\", \"lastName\": \"Surendran\", \"title\": \"They/Them\", \"isSuperUser\": 0, \"lastLogin\": \"2021-04-30T13:55:43\"}, {\"id_x\": 78, \"status\": \"P\", \"attendanceSessionId\": 4, \"userId\": 85, \"id_y\": 1262, \"activity\": \"Updated password\", \"lastName\": \"Surendran\", \"title\": \"They/Them\", \"isSuperUser\": 0, \"lastLogin\": \"2021-04-30T13:55:43\"}, {\"id_x\": 78, \"status\": \"P\", \"attendanceSessionId\": 4, \"userId\": 85, \"id_y\": 1263, \"activity\": \"No course selected. Navigating to course selection\", \"lastName\": \"Surendran\", \"title\": \"They/Them\", \"isSuperUser\": 0, \"lastLogin\": \"2021-04-30T13:55:43\"}, {\"id_x\": 78, \"status\": \"P\", \"attendanceSessionId\": 4, \"userId\": 85, \"id_y\": 1264, \"activity\": \"Logged in\", \"lastName\": \"Surendran\", \"title\": \"They/Them\", \"isSuperUser\": 0, \"lastLogin\": \"2021-04-30T13:55:43\"}, {\"id_x\": 88, \"status\": \"P\", \"attendanceSessionId\": 5, \"userId\": 85, \"id_y\": 1083, \"activity\": \"Password Reset requested\", \"lastName\": \"Surendran\", \"title\": \"They/Them\", \"isSuperUser\": 0, \"lastLogin\": \"2021-04-30T13:55:43\"}, {\"id_x\": 88, \"status\": \"P\", \"attendanceSessionId\": 5, \"userId\": 85, \"id_y\": 1084, \"activity\": \"Password Reset requested\", \"lastName\": \"Surendran\", \"title\": \"They/Them\", \"isSuperUser\": 0, \"lastLogin\": \"2021-04-30T13:55:43\"}, {\"id_x\": 88, \"status\": \"P\", \"attendanceSessionId\": 5, \"userId\": 85, \"id_y\": 1256, \"activity\": \"Magic link sent\", \"lastName\": \"Surendran\", \"title\": \"They/Them\", \"isSuperUser\": 0, \"lastLogin\": \"2021-04-30T13:55:43\"}, {\"id_x\": 88, \"status\": \"P\", \"attendanceSessionId\": 5, \"userId\": 85, \"id_y\": 1257, \"activity\": \"Password Reset requested\", \"lastName\": \"Surendran\", \"title\": \"They/Them\", \"isSuperUser\": 0, \"lastLogin\": \"2021-04-30T13:55:43\"}, {\"id_x\": 88, \"status\": \"P\", \"attendanceSessionId\": 5, \"userId\": 85, \"id_y\": 1258, \"activity\": \"Magic link sent\", \"lastName\": \"Surendran\", \"title\": \"They/Them\", \"isSuperUser\": 0, \"lastLogin\": \"2021-04-30T13:55:43\"}, {\"id_x\": 88, \"status\": \"P\", \"attendanceSessionId\": 5, \"userId\": 85, \"id_y\": 1260, \"activity\": \"Logged in\", \"lastName\": \"Surendran\", \"title\": \"They/Them\", \"isSuperUser\": 0, \"lastLogin\": \"2021-04-30T13:55:43\"}, {\"id_x\": 88, \"status\": \"P\", \"attendanceSessionId\": 5, \"userId\": 85, \"id_y\": 1261, \"activity\": \"Password expired. Redirecting to update password\", \"lastName\": \"Surendran\", \"title\": \"They/Them\", \"isSuperUser\": 0, \"lastLogin\": \"2021-04-30T13:55:43\"}, {\"id_x\": 88, \"status\": \"P\", \"attendanceSessionId\": 5, \"userId\": 85, \"id_y\": 1262, \"activity\": \"Updated password\", \"lastName\": \"Surendran\", \"title\": \"They/Them\", \"isSuperUser\": 0, \"lastLogin\": \"2021-04-30T13:55:43\"}, {\"id_x\": 88, \"status\": \"P\", \"attendanceSessionId\": 5, \"userId\": 85, \"id_y\": 1263, \"activity\": \"No course selected. Navigating to course selection\", \"lastName\": \"Surendran\", \"title\": \"They/Them\", \"isSuperUser\": 0, \"lastLogin\": \"2021-04-30T13:55:43\"}, {\"id_x\": 88, \"status\": \"P\", \"attendanceSessionId\": 5, \"userId\": 85, \"id_y\": 1264, \"activity\": \"Logged in\", \"lastName\": \"Surendran\", \"title\": \"They/Them\", \"isSuperUser\": 0, \"lastLogin\": \"2021-04-30T13:55:43\"}, {\"id_x\": 96, \"status\": \"P\", \"attendanceSessionId\": 6, \"userId\": 85, \"id_y\": 1083, \"activity\": \"Password Reset requested\", \"lastName\": \"Surendran\", \"title\": \"They/Them\", \"isSuperUser\": 0, \"lastLogin\": \"2021-04-30T13:55:43\"}, {\"id_x\": 96, \"status\": \"P\", \"attendanceSessionId\": 6, \"userId\": 85, \"id_y\": 1084, \"activity\": \"Password Reset requested\", \"lastName\": \"Surendran\", \"title\": \"They/Them\", \"isSuperUser\": 0, \"lastLogin\": \"2021-04-30T13:55:43\"}, {\"id_x\": 96, \"status\": \"P\", \"attendanceSessionId\": 6, \"userId\": 85, \"id_y\": 1256, \"activity\": \"Magic link sent\", \"lastName\": \"Surendran\", \"title\": \"They/Them\", \"isSuperUser\": 0, \"lastLogin\": \"2021-04-30T13:55:43\"}, {\"id_x\": 96, \"status\": \"P\", \"attendanceSessionId\": 6, \"userId\": 85, \"id_y\": 1257, \"activity\": \"Password Reset requested\", \"lastName\": \"Surendran\", \"title\": \"They/Them\", \"isSuperUser\": 0, \"lastLogin\": \"2021-04-30T13:55:43\"}, {\"id_x\": 96, \"status\": \"P\", \"attendanceSessionId\": 6, \"userId\": 85, \"id_y\": 1258, \"activity\": \"Magic link sent\", \"lastName\": \"Surendran\", \"title\": \"They/Them\", \"isSuperUser\": 0, \"lastLogin\": \"2021-04-30T13:55:43\"}, {\"id_x\": 96, \"status\": \"P\", \"attendanceSessionId\": 6, \"userId\": 85, \"id_y\": 1260, \"activity\": \"Logged in\", \"lastName\": \"Surendran\", \"title\": \"They/Them\", \"isSuperUser\": 0, \"lastLogin\": \"2021-04-30T13:55:43\"}, {\"id_x\": 96, \"status\": \"P\", \"attendanceSessionId\": 6, \"userId\": 85, \"id_y\": 1261, \"activity\": \"Password expired. Redirecting to update password\", \"lastName\": \"Surendran\", \"title\": \"They/Them\", \"isSuperUser\": 0, \"lastLogin\": \"2021-04-30T13:55:43\"}, {\"id_x\": 96, \"status\": \"P\", \"attendanceSessionId\": 6, \"userId\": 85, \"id_y\": 1262, \"activity\": \"Updated password\", \"lastName\": \"Surendran\", \"title\": \"They/Them\", \"isSuperUser\": 0, \"lastLogin\": \"2021-04-30T13:55:43\"}, {\"id_x\": 96, \"status\": \"P\", \"attendanceSessionId\": 6, \"userId\": 85, \"id_y\": 1263, \"activity\": \"No course selected. Navigating to course selection\", \"lastName\": \"Surendran\", \"title\": \"They/Them\", \"isSuperUser\": 0, \"lastLogin\": \"2021-04-30T13:55:43\"}, {\"id_x\": 96, \"status\": \"P\", \"attendanceSessionId\": 6, \"userId\": 85, \"id_y\": 1264, \"activity\": \"Logged in\", \"lastName\": \"Surendran\", \"title\": \"They/Them\", \"isSuperUser\": 0, \"lastLogin\": \"2021-04-30T13:55:43\"}, {\"id_x\": 107, \"status\": \"P\", \"attendanceSessionId\": 7, \"userId\": 85, \"id_y\": 1083, \"activity\": \"Password Reset requested\", \"lastName\": \"Surendran\", \"title\": \"They/Them\", \"isSuperUser\": 0, \"lastLogin\": \"2021-04-30T13:55:43\"}, {\"id_x\": 107, \"status\": \"P\", \"attendanceSessionId\": 7, \"userId\": 85, \"id_y\": 1084, \"activity\": \"Password Reset requested\", \"lastName\": \"Surendran\", \"title\": \"They/Them\", \"isSuperUser\": 0, \"lastLogin\": \"2021-04-30T13:55:43\"}, {\"id_x\": 107, \"status\": \"P\", \"attendanceSessionId\": 7, \"userId\": 85, \"id_y\": 1256, \"activity\": \"Magic link sent\", \"lastName\": \"Surendran\", \"title\": \"They/Them\", \"isSuperUser\": 0, \"lastLogin\": \"2021-04-30T13:55:43\"}, {\"id_x\": 107, \"status\": \"P\", \"attendanceSessionId\": 7, \"userId\": 85, \"id_y\": 1257, \"activity\": \"Password Reset requested\", \"lastName\": \"Surendran\", \"title\": \"They/Them\", \"isSuperUser\": 0, \"lastLogin\": \"2021-04-30T13:55:43\"}, {\"id_x\": 107, \"status\": \"P\", \"attendanceSessionId\": 7, \"userId\": 85, \"id_y\": 1258, \"activity\": \"Magic link sent\", \"lastName\": \"Surendran\", \"title\": \"They/Them\", \"isSuperUser\": 0, \"lastLogin\": \"2021-04-30T13:55:43\"}, {\"id_x\": 107, \"status\": \"P\", \"attendanceSessionId\": 7, \"userId\": 85, \"id_y\": 1260, \"activity\": \"Logged in\", \"lastName\": \"Surendran\", \"title\": \"They/Them\", \"isSuperUser\": 0, \"lastLogin\": \"2021-04-30T13:55:43\"}, {\"id_x\": 107, \"status\": \"P\", \"attendanceSessionId\": 7, \"userId\": 85, \"id_y\": 1261, \"activity\": \"Password expired. Redirecting to update password\", \"lastName\": \"Surendran\", \"title\": \"They/Them\", \"isSuperUser\": 0, \"lastLogin\": \"2021-04-30T13:55:43\"}, {\"id_x\": 107, \"status\": \"P\", \"attendanceSessionId\": 7, \"userId\": 85, \"id_y\": 1262, \"activity\": \"Updated password\", \"lastName\": \"Surendran\", \"title\": \"They/Them\", \"isSuperUser\": 0, \"lastLogin\": \"2021-04-30T13:55:43\"}, {\"id_x\": 107, \"status\": \"P\", \"attendanceSessionId\": 7, \"userId\": 85, \"id_y\": 1263, \"activity\": \"No course selected. Navigating to course selection\", \"lastName\": \"Surendran\", \"title\": \"They/Them\", \"isSuperUser\": 0, \"lastLogin\": \"2021-04-30T13:55:43\"}, {\"id_x\": 107, \"status\": \"P\", \"attendanceSessionId\": 7, \"userId\": 85, \"id_y\": 1264, \"activity\": \"Logged in\", \"lastName\": \"Surendran\", \"title\": \"They/Them\", \"isSuperUser\": 0, \"lastLogin\": \"2021-04-30T13:55:43\"}, {\"id_x\": 116, \"status\": \"P\", \"attendanceSessionId\": 8, \"userId\": 85, \"id_y\": 1083, \"activity\": \"Password Reset requested\", \"lastName\": \"Surendran\", \"title\": \"They/Them\", \"isSuperUser\": 0, \"lastLogin\": \"2021-04-30T13:55:43\"}, {\"id_x\": 116, \"status\": \"P\", \"attendanceSessionId\": 8, \"userId\": 85, \"id_y\": 1084, \"activity\": \"Password Reset requested\", \"lastName\": \"Surendran\", \"title\": \"They/Them\", \"isSuperUser\": 0, \"lastLogin\": \"2021-04-30T13:55:43\"}, {\"id_x\": 116, \"status\": \"P\", \"attendanceSessionId\": 8, \"userId\": 85, \"id_y\": 1256, \"activity\": \"Magic link sent\", \"lastName\": \"Surendran\", \"title\": \"They/Them\", \"isSuperUser\": 0, \"lastLogin\": \"2021-04-30T13:55:43\"}, {\"id_x\": 116, \"status\": \"P\", \"attendanceSessionId\": 8, \"userId\": 85, \"id_y\": 1257, \"activity\": \"Password Reset requested\", \"lastName\": \"Surendran\", \"title\": \"They/Them\", \"isSuperUser\": 0, \"lastLogin\": \"2021-04-30T13:55:43\"}, {\"id_x\": 116, \"status\": \"P\", \"attendanceSessionId\": 8, \"userId\": 85, \"id_y\": 1258, \"activity\": \"Magic link sent\", \"lastName\": \"Surendran\", \"title\": \"They/Them\", \"isSuperUser\": 0, \"lastLogin\": \"2021-04-30T13:55:43\"}, {\"id_x\": 116, \"status\": \"P\", \"attendanceSessionId\": 8, \"userId\": 85, \"id_y\": 1260, \"activity\": \"Logged in\", \"lastName\": \"Surendran\", \"title\": \"They/Them\", \"isSuperUser\": 0, \"lastLogin\": \"2021-04-30T13:55:43\"}, {\"id_x\": 116, \"status\": \"P\", \"attendanceSessionId\": 8, \"userId\": 85, \"id_y\": 1261, \"activity\": \"Password expired. Redirecting to update password\", \"lastName\": \"Surendran\", \"title\": \"They/Them\", \"isSuperUser\": 0, \"lastLogin\": \"2021-04-30T13:55:43\"}, {\"id_x\": 116, \"status\": \"P\", \"attendanceSessionId\": 8, \"userId\": 85, \"id_y\": 1262, \"activity\": \"Updated password\", \"lastName\": \"Surendran\", \"title\": \"They/Them\", \"isSuperUser\": 0, \"lastLogin\": \"2021-04-30T13:55:43\"}, {\"id_x\": 116, \"status\": \"P\", \"attendanceSessionId\": 8, \"userId\": 85, \"id_y\": 1263, \"activity\": \"No course selected. Navigating to course selection\", \"lastName\": \"Surendran\", \"title\": \"They/Them\", \"isSuperUser\": 0, \"lastLogin\": \"2021-04-30T13:55:43\"}, {\"id_x\": 116, \"status\": \"P\", \"attendanceSessionId\": 8, \"userId\": 85, \"id_y\": 1264, \"activity\": \"Logged in\", \"lastName\": \"Surendran\", \"title\": \"They/Them\", \"isSuperUser\": 0, \"lastLogin\": \"2021-04-30T13:55:43\"}, {\"id_x\": 142, \"status\": \"P\", \"attendanceSessionId\": 9, \"userId\": 85, \"id_y\": 1083, \"activity\": \"Password Reset requested\", \"lastName\": \"Surendran\", \"title\": \"They/Them\", \"isSuperUser\": 0, \"lastLogin\": \"2021-04-30T13:55:43\"}, {\"id_x\": 142, \"status\": \"P\", \"attendanceSessionId\": 9, \"userId\": 85, \"id_y\": 1084, \"activity\": \"Password Reset requested\", \"lastName\": \"Surendran\", \"title\": \"They/Them\", \"isSuperUser\": 0, \"lastLogin\": \"2021-04-30T13:55:43\"}, {\"id_x\": 142, \"status\": \"P\", \"attendanceSessionId\": 9, \"userId\": 85, \"id_y\": 1256, \"activity\": \"Magic link sent\", \"lastName\": \"Surendran\", \"title\": \"They/Them\", \"isSuperUser\": 0, \"lastLogin\": \"2021-04-30T13:55:43\"}, {\"id_x\": 142, \"status\": \"P\", \"attendanceSessionId\": 9, \"userId\": 85, \"id_y\": 1257, \"activity\": \"Password Reset requested\", \"lastName\": \"Surendran\", \"title\": \"They/Them\", \"isSuperUser\": 0, \"lastLogin\": \"2021-04-30T13:55:43\"}, {\"id_x\": 142, \"status\": \"P\", \"attendanceSessionId\": 9, \"userId\": 85, \"id_y\": 1258, \"activity\": \"Magic link sent\", \"lastName\": \"Surendran\", \"title\": \"They/Them\", \"isSuperUser\": 0, \"lastLogin\": \"2021-04-30T13:55:43\"}, {\"id_x\": 142, \"status\": \"P\", \"attendanceSessionId\": 9, \"userId\": 85, \"id_y\": 1260, \"activity\": \"Logged in\", \"lastName\": \"Surendran\", \"title\": \"They/Them\", \"isSuperUser\": 0, \"lastLogin\": \"2021-04-30T13:55:43\"}, {\"id_x\": 142, \"status\": \"P\", \"attendanceSessionId\": 9, \"userId\": 85, \"id_y\": 1261, \"activity\": \"Password expired. Redirecting to update password\", \"lastName\": \"Surendran\", \"title\": \"They/Them\", \"isSuperUser\": 0, \"lastLogin\": \"2021-04-30T13:55:43\"}, {\"id_x\": 142, \"status\": \"P\", \"attendanceSessionId\": 9, \"userId\": 85, \"id_y\": 1262, \"activity\": \"Updated password\", \"lastName\": \"Surendran\", \"title\": \"They/Them\", \"isSuperUser\": 0, \"lastLogin\": \"2021-04-30T13:55:43\"}, {\"id_x\": 142, \"status\": \"P\", \"attendanceSessionId\": 9, \"userId\": 85, \"id_y\": 1263, \"activity\": \"No course selected. Navigating to course selection\", \"lastName\": \"Surendran\", \"title\": \"They/Them\", \"isSuperUser\": 0, \"lastLogin\": \"2021-04-30T13:55:43\"}, {\"id_x\": 142, \"status\": \"P\", \"attendanceSessionId\": 9, \"userId\": 85, \"id_y\": 1264, \"activity\": \"Logged in\", \"lastName\": \"Surendran\", \"title\": \"They/Them\", \"isSuperUser\": 0, \"lastLogin\": \"2021-04-30T13:55:43\"}, {\"id_x\": 33, \"status\": \"I\", \"attendanceSessionId\": 1, \"userId\": 86, \"id_y\": 1254, \"activity\": \"Logged in\", \"lastName\": \"Phua \", \"title\": \"They/Them\", \"isSuperUser\": 0, \"lastLogin\": \"2021-04-27T23:58:43\"}, {\"id_x\": 33, \"status\": \"I\", \"attendanceSessionId\": 1, \"userId\": 86, \"id_y\": 1255, \"activity\": \"Accessed Session 1 Recap from Intro to Game Dev with Unity repo [access:286e1a92d35::rrtGJAd2ae1e]\", \"lastName\": \"Phua \", \"title\": \"They/Them\", \"isSuperUser\": 0, \"lastLogin\": \"2021-04-27T23:58:43\"}, {\"id_x\": 48, \"status\": \"A\", \"attendanceSessionId\": 2, \"userId\": 86, \"id_y\": 1254, \"activity\": \"Logged in\", \"lastName\": \"Phua \", \"title\": \"They/Them\", \"isSuperUser\": 0, \"lastLogin\": \"2021-04-27T23:58:43\"}, {\"id_x\": 48, \"status\": \"A\", \"attendanceSessionId\": 2, \"userId\": 86, \"id_y\": 1255, \"activity\": \"Accessed Session 1 Recap from Intro to Game Dev with Unity repo [access:286e1a92d35::rrtGJAd2ae1e]\", \"lastName\": \"Phua \", \"title\": \"They/Them\", \"isSuperUser\": 0, \"lastLogin\": \"2021-04-27T23:58:43\"}, {\"id_x\": 69, \"status\": \"A\", \"attendanceSessionId\": 3, \"userId\": 86, \"id_y\": 1254, \"activity\": \"Logged in\", \"lastName\": \"Phua \", \"title\": \"They/Them\", \"isSuperUser\": 0, \"lastLogin\": \"2021-04-27T23:58:43\"}, {\"id_x\": 69, \"status\": \"A\", \"attendanceSessionId\": 3, \"userId\": 86, \"id_y\": 1255, \"activity\": \"Accessed Session 1 Recap from Intro to Game Dev with Unity repo [access:286e1a92d35::rrtGJAd2ae1e]\", \"lastName\": \"Phua \", \"title\": \"They/Them\", \"isSuperUser\": 0, \"lastLogin\": \"2021-04-27T23:58:43\"}, {\"id_x\": 79, \"status\": \"A\", \"attendanceSessionId\": 4, \"userId\": 86, \"id_y\": 1254, \"activity\": \"Logged in\", \"lastName\": \"Phua \", \"title\": \"They/Them\", \"isSuperUser\": 0, \"lastLogin\": \"2021-04-27T23:58:43\"}, {\"id_x\": 79, \"status\": \"A\", \"attendanceSessionId\": 4, \"userId\": 86, \"id_y\": 1255, \"activity\": \"Accessed Session 1 Recap from Intro to Game Dev with Unity repo [access:286e1a92d35::rrtGJAd2ae1e]\", \"lastName\": \"Phua \", \"title\": \"They/Them\", \"isSuperUser\": 0, \"lastLogin\": \"2021-04-27T23:58:43\"}, {\"id_x\": 123, \"status\": \"A\", \"attendanceSessionId\": 8, \"userId\": 86, \"id_y\": 1254, \"activity\": \"Logged in\", \"lastName\": \"Phua \", \"title\": \"They/Them\", \"isSuperUser\": 0, \"lastLogin\": \"2021-04-27T23:58:43\"}, {\"id_x\": 123, \"status\": \"A\", \"attendanceSessionId\": 8, \"userId\": 86, \"id_y\": 1255, \"activity\": \"Accessed Session 1 Recap from Intro to Game Dev with Unity repo [access:286e1a92d35::rrtGJAd2ae1e]\", \"lastName\": \"Phua \", \"title\": \"They/Them\", \"isSuperUser\": 0, \"lastLogin\": \"2021-04-27T23:58:43\"}, {\"id_x\": 128, \"status\": \"A\", \"attendanceSessionId\": 7, \"userId\": 86, \"id_y\": 1254, \"activity\": \"Logged in\", \"lastName\": \"Phua \", \"title\": \"They/Them\", \"isSuperUser\": 0, \"lastLogin\": \"2021-04-27T23:58:43\"}, {\"id_x\": 128, \"status\": \"A\", \"attendanceSessionId\": 7, \"userId\": 86, \"id_y\": 1255, \"activity\": \"Accessed Session 1 Recap from Intro to Game Dev with Unity repo [access:286e1a92d35::rrtGJAd2ae1e]\", \"lastName\": \"Phua \", \"title\": \"They/Them\", \"isSuperUser\": 0, \"lastLogin\": \"2021-04-27T23:58:43\"}, {\"id_x\": 132, \"status\": \"A\", \"attendanceSessionId\": 6, \"userId\": 86, \"id_y\": 1254, \"activity\": \"Logged in\", \"lastName\": \"Phua \", \"title\": \"They/Them\", \"isSuperUser\": 0, \"lastLogin\": \"2021-04-27T23:58:43\"}, {\"id_x\": 132, \"status\": \"A\", \"attendanceSessionId\": 6, \"userId\": 86, \"id_y\": 1255, \"activity\": \"Accessed Session 1 Recap from Intro to Game Dev with Unity repo [access:286e1a92d35::rrtGJAd2ae1e]\", \"lastName\": \"Phua \", \"title\": \"They/Them\", \"isSuperUser\": 0, \"lastLogin\": \"2021-04-27T23:58:43\"}, {\"id_x\": 136, \"status\": \"A\", \"attendanceSessionId\": 5, \"userId\": 86, \"id_y\": 1254, \"activity\": \"Logged in\", \"lastName\": \"Phua \", \"title\": \"They/Them\", \"isSuperUser\": 0, \"lastLogin\": \"2021-04-27T23:58:43\"}, {\"id_x\": 136, \"status\": \"A\", \"attendanceSessionId\": 5, \"userId\": 86, \"id_y\": 1255, \"activity\": \"Accessed Session 1 Recap from Intro to Game Dev with Unity repo [access:286e1a92d35::rrtGJAd2ae1e]\", \"lastName\": \"Phua \", \"title\": \"They/Them\", \"isSuperUser\": 0, \"lastLogin\": \"2021-04-27T23:58:43\"}, {\"id_x\": 144, \"status\": \"A\", \"attendanceSessionId\": 9, \"userId\": 86, \"id_y\": 1254, \"activity\": \"Logged in\", \"lastName\": \"Phua \", \"title\": \"They/Them\", \"isSuperUser\": 0, \"lastLogin\": \"2021-04-27T23:58:43\"}, {\"id_x\": 144, \"status\": \"A\", \"attendanceSessionId\": 9, \"userId\": 86, \"id_y\": 1255, \"activity\": \"Accessed Session 1 Recap from Intro to Game Dev with Unity repo [access:286e1a92d35::rrtGJAd2ae1e]\", \"lastName\": \"Phua \", \"title\": \"They/Them\", \"isSuperUser\": 0, \"lastLogin\": \"2021-04-27T23:58:43\"}, {\"id_x\": 36, \"status\": \"P\", \"attendanceSessionId\": 1, \"userId\": 91, \"id_y\": 1074, \"activity\": \"Logged in\", \"lastName\": \"peker\", \"title\": \"They/Them\", \"isSuperUser\": 0, \"lastLogin\": \"2021-03-30T18:04:52\"}, {\"id_x\": 36, \"status\": \"P\", \"attendanceSessionId\": 1, \"userId\": 91, \"id_y\": 1076, \"activity\": \"Accessed Session 5 - Assets from Intro to Game Dev with Unity repo [access:141012aa424::rrtGJAd2ae1e]\", \"lastName\": \"peker\", \"title\": \"They/Them\", \"isSuperUser\": 0, \"lastLogin\": \"2021-03-30T18:04:52\"}, {\"id_x\": 36, \"status\": \"P\", \"attendanceSessionId\": 1, \"userId\": 91, \"id_y\": 1078, \"activity\": \"Accessed Session 5 - Starter Files from Intro to Game Dev with Unity repo [access:3aadbfd9eca::rrtGJAd2ae1e]\", \"lastName\": \"peker\", \"title\": \"They/Them\", \"isSuperUser\": 0, \"lastLogin\": \"2021-03-30T18:04:52\"}, {\"id_x\": 36, \"status\": \"P\", \"attendanceSessionId\": 1, \"userId\": 91, \"id_y\": 1087, \"activity\": \"Accessed Session 5 - Starter Files from Intro to Game Dev with Unity repo [access:3aadbfd9eca::rrtGJAd2ae1e]\", \"lastName\": \"peker\", \"title\": \"They/Them\", \"isSuperUser\": 0, \"lastLogin\": \"2021-03-30T18:04:52\"}, {\"id_x\": 40, \"status\": \"P\", \"attendanceSessionId\": 2, \"userId\": 91, \"id_y\": 1074, \"activity\": \"Logged in\", \"lastName\": \"peker\", \"title\": \"They/Them\", \"isSuperUser\": 0, \"lastLogin\": \"2021-03-30T18:04:52\"}, {\"id_x\": 40, \"status\": \"P\", \"attendanceSessionId\": 2, \"userId\": 91, \"id_y\": 1076, \"activity\": \"Accessed Session 5 - Assets from Intro to Game Dev with Unity repo [access:141012aa424::rrtGJAd2ae1e]\", \"lastName\": \"peker\", \"title\": \"They/Them\", \"isSuperUser\": 0, \"lastLogin\": \"2021-03-30T18:04:52\"}, {\"id_x\": 40, \"status\": \"P\", \"attendanceSessionId\": 2, \"userId\": 91, \"id_y\": 1078, \"activity\": \"Accessed Session 5 - Starter Files from Intro to Game Dev with Unity repo [access:3aadbfd9eca::rrtGJAd2ae1e]\", \"lastName\": \"peker\", \"title\": \"They/Them\", \"isSuperUser\": 0, \"lastLogin\": \"2021-03-30T18:04:52\"}, {\"id_x\": 40, \"status\": \"P\", \"attendanceSessionId\": 2, \"userId\": 91, \"id_y\": 1087, \"activity\": \"Accessed Session 5 - Starter Files from Intro to Game Dev with Unity repo [access:3aadbfd9eca::rrtGJAd2ae1e]\", \"lastName\": \"peker\", \"title\": \"They/Them\", \"isSuperUser\": 0, \"lastLogin\": \"2021-03-30T18:04:52\"}, {\"id_x\": 65, \"status\": \"P\", \"attendanceSessionId\": 3, \"userId\": 91, \"id_y\": 1074, \"activity\": \"Logged in\", \"lastName\": \"peker\", \"title\": \"They/Them\", \"isSuperUser\": 0, \"lastLogin\": \"2021-03-30T18:04:52\"}, {\"id_x\": 65, \"status\": \"P\", \"attendanceSessionId\": 3, \"userId\": 91, \"id_y\": 1076, \"activity\": \"Accessed Session 5 - Assets from Intro to Game Dev with Unity repo [access:141012aa424::rrtGJAd2ae1e]\", \"lastName\": \"peker\", \"title\": \"They/Them\", \"isSuperUser\": 0, \"lastLogin\": \"2021-03-30T18:04:52\"}, {\"id_x\": 65, \"status\": \"P\", \"attendanceSessionId\": 3, \"userId\": 91, \"id_y\": 1078, \"activity\": \"Accessed Session 5 - Starter Files from Intro to Game Dev with Unity repo [access:3aadbfd9eca::rrtGJAd2ae1e]\", \"lastName\": \"peker\", \"title\": \"They/Them\", \"isSuperUser\": 0, \"lastLogin\": \"2021-03-30T18:04:52\"}, {\"id_x\": 65, \"status\": \"P\", \"attendanceSessionId\": 3, \"userId\": 91, \"id_y\": 1087, \"activity\": \"Accessed Session 5 - Starter Files from Intro to Game Dev with Unity repo [access:3aadbfd9eca::rrtGJAd2ae1e]\", \"lastName\": \"peker\", \"title\": \"They/Them\", \"isSuperUser\": 0, \"lastLogin\": \"2021-03-30T18:04:52\"}, {\"id_x\": 81, \"status\": \"P\", \"attendanceSessionId\": 4, \"userId\": 91, \"id_y\": 1074, \"activity\": \"Logged in\", \"lastName\": \"peker\", \"title\": \"They/Them\", \"isSuperUser\": 0, \"lastLogin\": \"2021-03-30T18:04:52\"}, {\"id_x\": 81, \"status\": \"P\", \"attendanceSessionId\": 4, \"userId\": 91, \"id_y\": 1076, \"activity\": \"Accessed Session 5 - Assets from Intro to Game Dev with Unity repo [access:141012aa424::rrtGJAd2ae1e]\", \"lastName\": \"peker\", \"title\": \"They/Them\", \"isSuperUser\": 0, \"lastLogin\": \"2021-03-30T18:04:52\"}, {\"id_x\": 81, \"status\": \"P\", \"attendanceSessionId\": 4, \"userId\": 91, \"id_y\": 1078, \"activity\": \"Accessed Session 5 - Starter Files from Intro to Game Dev with Unity repo [access:3aadbfd9eca::rrtGJAd2ae1e]\", \"lastName\": \"peker\", \"title\": \"They/Them\", \"isSuperUser\": 0, \"lastLogin\": \"2021-03-30T18:04:52\"}, {\"id_x\": 81, \"status\": \"P\", \"attendanceSessionId\": 4, \"userId\": 91, \"id_y\": 1087, \"activity\": \"Accessed Session 5 - Starter Files from Intro to Game Dev with Unity repo [access:3aadbfd9eca::rrtGJAd2ae1e]\", \"lastName\": \"peker\", \"title\": \"They/Them\", \"isSuperUser\": 0, \"lastLogin\": \"2021-03-30T18:04:52\"}, {\"id_x\": 90, \"status\": \"P\", \"attendanceSessionId\": 5, \"userId\": 91, \"id_y\": 1074, \"activity\": \"Logged in\", \"lastName\": \"peker\", \"title\": \"They/Them\", \"isSuperUser\": 0, \"lastLogin\": \"2021-03-30T18:04:52\"}, {\"id_x\": 90, \"status\": \"P\", \"attendanceSessionId\": 5, \"userId\": 91, \"id_y\": 1076, \"activity\": \"Accessed Session 5 - Assets from Intro to Game Dev with Unity repo [access:141012aa424::rrtGJAd2ae1e]\", \"lastName\": \"peker\", \"title\": \"They/Them\", \"isSuperUser\": 0, \"lastLogin\": \"2021-03-30T18:04:52\"}, {\"id_x\": 90, \"status\": \"P\", \"attendanceSessionId\": 5, \"userId\": 91, \"id_y\": 1078, \"activity\": \"Accessed Session 5 - Starter Files from Intro to Game Dev with Unity repo [access:3aadbfd9eca::rrtGJAd2ae1e]\", \"lastName\": \"peker\", \"title\": \"They/Them\", \"isSuperUser\": 0, \"lastLogin\": \"2021-03-30T18:04:52\"}, {\"id_x\": 90, \"status\": \"P\", \"attendanceSessionId\": 5, \"userId\": 91, \"id_y\": 1087, \"activity\": \"Accessed Session 5 - Starter Files from Intro to Game Dev with Unity repo [access:3aadbfd9eca::rrtGJAd2ae1e]\", \"lastName\": \"peker\", \"title\": \"They/Them\", \"isSuperUser\": 0, \"lastLogin\": \"2021-03-30T18:04:52\"}, {\"id_x\": 101, \"status\": \"A\", \"attendanceSessionId\": 6, \"userId\": 91, \"id_y\": 1074, \"activity\": \"Logged in\", \"lastName\": \"peker\", \"title\": \"They/Them\", \"isSuperUser\": 0, \"lastLogin\": \"2021-03-30T18:04:52\"}, {\"id_x\": 101, \"status\": \"A\", \"attendanceSessionId\": 6, \"userId\": 91, \"id_y\": 1076, \"activity\": \"Accessed Session 5 - Assets from Intro to Game Dev with Unity repo [access:141012aa424::rrtGJAd2ae1e]\", \"lastName\": \"peker\", \"title\": \"They/Them\", \"isSuperUser\": 0, \"lastLogin\": \"2021-03-30T18:04:52\"}, {\"id_x\": 101, \"status\": \"A\", \"attendanceSessionId\": 6, \"userId\": 91, \"id_y\": 1078, \"activity\": \"Accessed Session 5 - Starter Files from Intro to Game Dev with Unity repo [access:3aadbfd9eca::rrtGJAd2ae1e]\", \"lastName\": \"peker\", \"title\": \"They/Them\", \"isSuperUser\": 0, \"lastLogin\": \"2021-03-30T18:04:52\"}, {\"id_x\": 101, \"status\": \"A\", \"attendanceSessionId\": 6, \"userId\": 91, \"id_y\": 1087, \"activity\": \"Accessed Session 5 - Starter Files from Intro to Game Dev with Unity repo [access:3aadbfd9eca::rrtGJAd2ae1e]\", \"lastName\": \"peker\", \"title\": \"They/Them\", \"isSuperUser\": 0, \"lastLogin\": \"2021-03-30T18:04:52\"}, {\"id_x\": 109, \"status\": \"A\", \"attendanceSessionId\": 7, \"userId\": 91, \"id_y\": 1074, \"activity\": \"Logged in\", \"lastName\": \"peker\", \"title\": \"They/Them\", \"isSuperUser\": 0, \"lastLogin\": \"2021-03-30T18:04:52\"}, {\"id_x\": 109, \"status\": \"A\", \"attendanceSessionId\": 7, \"userId\": 91, \"id_y\": 1076, \"activity\": \"Accessed Session 5 - Assets from Intro to Game Dev with Unity repo [access:141012aa424::rrtGJAd2ae1e]\", \"lastName\": \"peker\", \"title\": \"They/Them\", \"isSuperUser\": 0, \"lastLogin\": \"2021-03-30T18:04:52\"}, {\"id_x\": 109, \"status\": \"A\", \"attendanceSessionId\": 7, \"userId\": 91, \"id_y\": 1078, \"activity\": \"Accessed Session 5 - Starter Files from Intro to Game Dev with Unity repo [access:3aadbfd9eca::rrtGJAd2ae1e]\", \"lastName\": \"peker\", \"title\": \"They/Them\", \"isSuperUser\": 0, \"lastLogin\": \"2021-03-30T18:04:52\"}, {\"id_x\": 109, \"status\": \"A\", \"attendanceSessionId\": 7, \"userId\": 91, \"id_y\": 1087, \"activity\": \"Accessed Session 5 - Starter Files from Intro to Game Dev with Unity repo [access:3aadbfd9eca::rrtGJAd2ae1e]\", \"lastName\": \"peker\", \"title\": \"They/Them\", \"isSuperUser\": 0, \"lastLogin\": \"2021-03-30T18:04:52\"}, {\"id_x\": 119, \"status\": \"A\", \"attendanceSessionId\": 8, \"userId\": 91, \"id_y\": 1074, \"activity\": \"Logged in\", \"lastName\": \"peker\", \"title\": \"They/Them\", \"isSuperUser\": 0, \"lastLogin\": \"2021-03-30T18:04:52\"}, {\"id_x\": 119, \"status\": \"A\", \"attendanceSessionId\": 8, \"userId\": 91, \"id_y\": 1076, \"activity\": \"Accessed Session 5 - Assets from Intro to Game Dev with Unity repo [access:141012aa424::rrtGJAd2ae1e]\", \"lastName\": \"peker\", \"title\": \"They/Them\", \"isSuperUser\": 0, \"lastLogin\": \"2021-03-30T18:04:52\"}, {\"id_x\": 119, \"status\": \"A\", \"attendanceSessionId\": 8, \"userId\": 91, \"id_y\": 1078, \"activity\": \"Accessed Session 5 - Starter Files from Intro to Game Dev with Unity repo [access:3aadbfd9eca::rrtGJAd2ae1e]\", \"lastName\": \"peker\", \"title\": \"They/Them\", \"isSuperUser\": 0, \"lastLogin\": \"2021-03-30T18:04:52\"}, {\"id_x\": 119, \"status\": \"A\", \"attendanceSessionId\": 8, \"userId\": 91, \"id_y\": 1087, \"activity\": \"Accessed Session 5 - Starter Files from Intro to Game Dev with Unity repo [access:3aadbfd9eca::rrtGJAd2ae1e]\", \"lastName\": \"peker\", \"title\": \"They/Them\", \"isSuperUser\": 0, \"lastLogin\": \"2021-03-30T18:04:52\"}, {\"id_x\": 146, \"status\": \"A\", \"attendanceSessionId\": 9, \"userId\": 91, \"id_y\": 1074, \"activity\": \"Logged in\", \"lastName\": \"peker\", \"title\": \"They/Them\", \"isSuperUser\": 0, \"lastLogin\": \"2021-03-30T18:04:52\"}, {\"id_x\": 146, \"status\": \"A\", \"attendanceSessionId\": 9, \"userId\": 91, \"id_y\": 1076, \"activity\": \"Accessed Session 5 - Assets from Intro to Game Dev with Unity repo [access:141012aa424::rrtGJAd2ae1e]\", \"lastName\": \"peker\", \"title\": \"They/Them\", \"isSuperUser\": 0, \"lastLogin\": \"2021-03-30T18:04:52\"}, {\"id_x\": 146, \"status\": \"A\", \"attendanceSessionId\": 9, \"userId\": 91, \"id_y\": 1078, \"activity\": \"Accessed Session 5 - Starter Files from Intro to Game Dev with Unity repo [access:3aadbfd9eca::rrtGJAd2ae1e]\", \"lastName\": \"peker\", \"title\": \"They/Them\", \"isSuperUser\": 0, \"lastLogin\": \"2021-03-30T18:04:52\"}, {\"id_x\": 146, \"status\": \"A\", \"attendanceSessionId\": 9, \"userId\": 91, \"id_y\": 1087, \"activity\": \"Accessed Session 5 - Starter Files from Intro to Game Dev with Unity repo [access:3aadbfd9eca::rrtGJAd2ae1e]\", \"lastName\": \"peker\", \"title\": \"They/Them\", \"isSuperUser\": 0, \"lastLogin\": \"2021-03-30T18:04:52\"}, {\"id_x\": 38, \"status\": \"P\", \"attendanceSessionId\": 1, \"userId\": 105, \"id_y\": 1053, \"activity\": \"Logged in\", \"lastName\": \"Oksal\", \"title\": \"They/Them\", \"isSuperUser\": 0, \"lastLogin\": \"2021-07-12T23:06:58\"}, {\"id_x\": 38, \"status\": \"P\", \"attendanceSessionId\": 1, \"userId\": 105, \"id_y\": 1054, \"activity\": \"Accessed Session 2 Recap from Intro to Game Dev with Unity repo [access:918a4f912a1::rrtGJAd2ae1e]\", \"lastName\": \"Oksal\", \"title\": \"They/Them\", \"isSuperUser\": 0, \"lastLogin\": \"2021-07-12T23:06:58\"}, {\"id_x\": 38, \"status\": \"P\", \"attendanceSessionId\": 1, \"userId\": 105, \"id_y\": 1055, \"activity\": \"Accessed Session 2 - Starter Files from Intro to Game Dev with Unity repo [access:1a82c08473b::rrtGJAd2ae1e]\", \"lastName\": \"Oksal\", \"title\": \"They/Them\", \"isSuperUser\": 0, \"lastLogin\": \"2021-07-12T23:06:58\"}, {\"id_x\": 38, \"status\": \"P\", \"attendanceSessionId\": 1, \"userId\": 105, \"id_y\": 1056, \"activity\": \"Accessed Session 3 Recap from Intro to Game Dev with Unity repo [access:5b3cf9ac46f::rrtGJAd2ae1e]\", \"lastName\": \"Oksal\", \"title\": \"They/Them\", \"isSuperUser\": 0, \"lastLogin\": \"2021-07-12T23:06:58\"}, {\"id_x\": 38, \"status\": \"P\", \"attendanceSessionId\": 1, \"userId\": 105, \"id_y\": 1057, \"activity\": \"Accessed Session 3 - Starter Files from Intro to Game Dev with Unity repo [access:dd9df1d2f3c::rrtGJAd2ae1e]\", \"lastName\": \"Oksal\", \"title\": \"They/Them\", \"isSuperUser\": 0, \"lastLogin\": \"2021-07-12T23:06:58\"}, {\"id_x\": 38, \"status\": \"P\", \"attendanceSessionId\": 1, \"userId\": 105, \"id_y\": 1067, \"activity\": \"Logged in\", \"lastName\": \"Oksal\", \"title\": \"They/Them\", \"isSuperUser\": 0, \"lastLogin\": \"2021-07-12T23:06:58\"}, {\"id_x\": 38, \"status\": \"P\", \"attendanceSessionId\": 1, \"userId\": 105, \"id_y\": 1069, \"activity\": \"Accessed Session 5 - Starter Files from Intro to Game Dev with Unity repo [access:3aadbfd9eca::rrtGJAd2ae1e]\", \"lastName\": \"Oksal\", \"title\": \"They/Them\", \"isSuperUser\": 0, \"lastLogin\": \"2021-07-12T23:06:58\"}, {\"id_x\": 38, \"status\": \"P\", \"attendanceSessionId\": 1, \"userId\": 105, \"id_y\": 1079, \"activity\": \"Accessed Session 5 - Assets from Intro to Game Dev with Unity repo [access:141012aa424::rrtGJAd2ae1e]\", \"lastName\": \"Oksal\", \"title\": \"They/Them\", \"isSuperUser\": 0, \"lastLogin\": \"2021-07-12T23:06:58\"}, {\"id_x\": 38, \"status\": \"P\", \"attendanceSessionId\": 1, \"userId\": 105, \"id_y\": 1104, \"activity\": \"Logged in\", \"lastName\": \"Oksal\", \"title\": \"They/Them\", \"isSuperUser\": 0, \"lastLogin\": \"2021-07-12T23:06:58\"}, {\"id_x\": 38, \"status\": \"P\", \"attendanceSessionId\": 1, \"userId\": 105, \"id_y\": 1105, \"activity\": \"Accessed Session 6 - Starter Files from Intro to Game Dev with Unity repo [access:4ff849da461::rrtGJAd2ae1e]\", \"lastName\": \"Oksal\", \"title\": \"They/Them\", \"isSuperUser\": 0, \"lastLogin\": \"2021-07-12T23:06:58\"}, {\"id_x\": 38, \"status\": \"P\", \"attendanceSessionId\": 1, \"userId\": 105, \"id_y\": 1335, \"activity\": \"Logged in\", \"lastName\": \"Oksal\", \"title\": \"They/Them\", \"isSuperUser\": 0, \"lastLogin\": \"2021-07-12T23:06:58\"}, {\"id_x\": 38, \"status\": \"P\", \"attendanceSessionId\": 1, \"userId\": 105, \"id_y\": 1336, \"activity\": \"Logged in\", \"lastName\": \"Oksal\", \"title\": \"They/Them\", \"isSuperUser\": 0, \"lastLogin\": \"2021-07-12T23:06:58\"}, {\"id_x\": 38, \"status\": \"P\", \"attendanceSessionId\": 1, \"userId\": 105, \"id_y\": 1337, \"activity\": \"Logged in\", \"lastName\": \"Oksal\", \"title\": \"They/Them\", \"isSuperUser\": 0, \"lastLogin\": \"2021-07-12T23:06:58\"}, {\"id_x\": 38, \"status\": \"P\", \"attendanceSessionId\": 1, \"userId\": 105, \"id_y\": 1338, \"activity\": \"Enrolled onto Programming Fundamentals\", \"lastName\": \"Oksal\", \"title\": \"They/Them\", \"isSuperUser\": 0, \"lastLogin\": \"2021-07-12T23:06:58\"}, {\"id_x\": 38, \"status\": \"P\", \"attendanceSessionId\": 1, \"userId\": 105, \"id_y\": 1368, \"activity\": \"Logged in\", \"lastName\": \"Oksal\", \"title\": \"They/Them\", \"isSuperUser\": 0, \"lastLogin\": \"2021-07-12T23:06:58\"}, {\"id_x\": 38, \"status\": \"P\", \"attendanceSessionId\": 1, \"userId\": 105, \"id_y\": 1371, \"activity\": \"Logged in\", \"lastName\": \"Oksal\", \"title\": \"They/Them\", \"isSuperUser\": 0, \"lastLogin\": \"2021-07-12T23:06:58\"}, {\"id_x\": 38, \"status\": \"P\", \"attendanceSessionId\": 1, \"userId\": 105, \"id_y\": 1418, \"activity\": \"Logged in\", \"lastName\": \"Oksal\", \"title\": \"They/Them\", \"isSuperUser\": 0, \"lastLogin\": \"2021-07-12T23:06:58\"}, {\"id_x\": 45, \"status\": \"P\", \"attendanceSessionId\": 2, \"userId\": 105, \"id_y\": 1053, \"activity\": \"Logged in\", \"lastName\": \"Oksal\", \"title\": \"They/Them\", \"isSuperUser\": 0, \"lastLogin\": \"2021-07-12T23:06:58\"}, {\"id_x\": 45, \"status\": \"P\", \"attendanceSessionId\": 2, \"userId\": 105, \"id_y\": 1054, \"activity\": \"Accessed Session 2 Recap from Intro to Game Dev with Unity repo [access:918a4f912a1::rrtGJAd2ae1e]\", \"lastName\": \"Oksal\", \"title\": \"They/Them\", \"isSuperUser\": 0, \"lastLogin\": \"2021-07-12T23:06:58\"}, {\"id_x\": 45, \"status\": \"P\", \"attendanceSessionId\": 2, \"userId\": 105, \"id_y\": 1055, \"activity\": \"Accessed Session 2 - Starter Files from Intro to Game Dev with Unity repo [access:1a82c08473b::rrtGJAd2ae1e]\", \"lastName\": \"Oksal\", \"title\": \"They/Them\", \"isSuperUser\": 0, \"lastLogin\": \"2021-07-12T23:06:58\"}, {\"id_x\": 45, \"status\": \"P\", \"attendanceSessionId\": 2, \"userId\": 105, \"id_y\": 1056, \"activity\": \"Accessed Session 3 Recap from Intro to Game Dev with Unity repo [access:5b3cf9ac46f::rrtGJAd2ae1e]\", \"lastName\": \"Oksal\", \"title\": \"They/Them\", \"isSuperUser\": 0, \"lastLogin\": \"2021-07-12T23:06:58\"}, {\"id_x\": 45, \"status\": \"P\", \"attendanceSessionId\": 2, \"userId\": 105, \"id_y\": 1057, \"activity\": \"Accessed Session 3 - Starter Files from Intro to Game Dev with Unity repo [access:dd9df1d2f3c::rrtGJAd2ae1e]\", \"lastName\": \"Oksal\", \"title\": \"They/Them\", \"isSuperUser\": 0, \"lastLogin\": \"2021-07-12T23:06:58\"}, {\"id_x\": 45, \"status\": \"P\", \"attendanceSessionId\": 2, \"userId\": 105, \"id_y\": 1067, \"activity\": \"Logged in\", \"lastName\": \"Oksal\", \"title\": \"They/Them\", \"isSuperUser\": 0, \"lastLogin\": \"2021-07-12T23:06:58\"}, {\"id_x\": 45, \"status\": \"P\", \"attendanceSessionId\": 2, \"userId\": 105, \"id_y\": 1069, \"activity\": \"Accessed Session 5 - Starter Files from Intro to Game Dev with Unity repo [access:3aadbfd9eca::rrtGJAd2ae1e]\", \"lastName\": \"Oksal\", \"title\": \"They/Them\", \"isSuperUser\": 0, \"lastLogin\": \"2021-07-12T23:06:58\"}, {\"id_x\": 45, \"status\": \"P\", \"attendanceSessionId\": 2, \"userId\": 105, \"id_y\": 1079, \"activity\": \"Accessed Session 5 - Assets from Intro to Game Dev with Unity repo [access:141012aa424::rrtGJAd2ae1e]\", \"lastName\": \"Oksal\", \"title\": \"They/Them\", \"isSuperUser\": 0, \"lastLogin\": \"2021-07-12T23:06:58\"}, {\"id_x\": 45, \"status\": \"P\", \"attendanceSessionId\": 2, \"userId\": 105, \"id_y\": 1104, \"activity\": \"Logged in\", \"lastName\": \"Oksal\", \"title\": \"They/Them\", \"isSuperUser\": 0, \"lastLogin\": \"2021-07-12T23:06:58\"}, {\"id_x\": 45, \"status\": \"P\", \"attendanceSessionId\": 2, \"userId\": 105, \"id_y\": 1105, \"activity\": \"Accessed Session 6 - Starter Files from Intro to Game Dev with Unity repo [access:4ff849da461::rrtGJAd2ae1e]\", \"lastName\": \"Oksal\", \"title\": \"They/Them\", \"isSuperUser\": 0, \"lastLogin\": \"2021-07-12T23:06:58\"}, {\"id_x\": 45, \"status\": \"P\", \"attendanceSessionId\": 2, \"userId\": 105, \"id_y\": 1335, \"activity\": \"Logged in\", \"lastName\": \"Oksal\", \"title\": \"They/Them\", \"isSuperUser\": 0, \"lastLogin\": \"2021-07-12T23:06:58\"}, {\"id_x\": 45, \"status\": \"P\", \"attendanceSessionId\": 2, \"userId\": 105, \"id_y\": 1336, \"activity\": \"Logged in\", \"lastName\": \"Oksal\", \"title\": \"They/Them\", \"isSuperUser\": 0, \"lastLogin\": \"2021-07-12T23:06:58\"}, {\"id_x\": 45, \"status\": \"P\", \"attendanceSessionId\": 2, \"userId\": 105, \"id_y\": 1337, \"activity\": \"Logged in\", \"lastName\": \"Oksal\", \"title\": \"They/Them\", \"isSuperUser\": 0, \"lastLogin\": \"2021-07-12T23:06:58\"}, {\"id_x\": 45, \"status\": \"P\", \"attendanceSessionId\": 2, \"userId\": 105, \"id_y\": 1338, \"activity\": \"Enrolled onto Programming Fundamentals\", \"lastName\": \"Oksal\", \"title\": \"They/Them\", \"isSuperUser\": 0, \"lastLogin\": \"2021-07-12T23:06:58\"}, {\"id_x\": 45, \"status\": \"P\", \"attendanceSessionId\": 2, \"userId\": 105, \"id_y\": 1368, \"activity\": \"Logged in\", \"lastName\": \"Oksal\", \"title\": \"They/Them\", \"isSuperUser\": 0, \"lastLogin\": \"2021-07-12T23:06:58\"}, {\"id_x\": 45, \"status\": \"P\", \"attendanceSessionId\": 2, \"userId\": 105, \"id_y\": 1371, \"activity\": \"Logged in\", \"lastName\": \"Oksal\", \"title\": \"They/Them\", \"isSuperUser\": 0, \"lastLogin\": \"2021-07-12T23:06:58\"}, {\"id_x\": 45, \"status\": \"P\", \"attendanceSessionId\": 2, \"userId\": 105, \"id_y\": 1418, \"activity\": \"Logged in\", \"lastName\": \"Oksal\", \"title\": \"They/Them\", \"isSuperUser\": 0, \"lastLogin\": \"2021-07-12T23:06:58\"}, {\"id_x\": 61, \"status\": \"P\", \"attendanceSessionId\": 3, \"userId\": 105, \"id_y\": 1053, \"activity\": \"Logged in\", \"lastName\": \"Oksal\", \"title\": \"They/Them\", \"isSuperUser\": 0, \"lastLogin\": \"2021-07-12T23:06:58\"}, {\"id_x\": 61, \"status\": \"P\", \"attendanceSessionId\": 3, \"userId\": 105, \"id_y\": 1054, \"activity\": \"Accessed Session 2 Recap from Intro to Game Dev with Unity repo [access:918a4f912a1::rrtGJAd2ae1e]\", \"lastName\": \"Oksal\", \"title\": \"They/Them\", \"isSuperUser\": 0, \"lastLogin\": \"2021-07-12T23:06:58\"}, {\"id_x\": 61, \"status\": \"P\", \"attendanceSessionId\": 3, \"userId\": 105, \"id_y\": 1055, \"activity\": \"Accessed Session 2 - Starter Files from Intro to Game Dev with Unity repo [access:1a82c08473b::rrtGJAd2ae1e]\", \"lastName\": \"Oksal\", \"title\": \"They/Them\", \"isSuperUser\": 0, \"lastLogin\": \"2021-07-12T23:06:58\"}, {\"id_x\": 61, \"status\": \"P\", \"attendanceSessionId\": 3, \"userId\": 105, \"id_y\": 1056, \"activity\": \"Accessed Session 3 Recap from Intro to Game Dev with Unity repo [access:5b3cf9ac46f::rrtGJAd2ae1e]\", \"lastName\": \"Oksal\", \"title\": \"They/Them\", \"isSuperUser\": 0, \"lastLogin\": \"2021-07-12T23:06:58\"}, {\"id_x\": 61, \"status\": \"P\", \"attendanceSessionId\": 3, \"userId\": 105, \"id_y\": 1057, \"activity\": \"Accessed Session 3 - Starter Files from Intro to Game Dev with Unity repo [access:dd9df1d2f3c::rrtGJAd2ae1e]\", \"lastName\": \"Oksal\", \"title\": \"They/Them\", \"isSuperUser\": 0, \"lastLogin\": \"2021-07-12T23:06:58\"}, {\"id_x\": 61, \"status\": \"P\", \"attendanceSessionId\": 3, \"userId\": 105, \"id_y\": 1067, \"activity\": \"Logged in\", \"lastName\": \"Oksal\", \"title\": \"They/Them\", \"isSuperUser\": 0, \"lastLogin\": \"2021-07-12T23:06:58\"}, {\"id_x\": 61, \"status\": \"P\", \"attendanceSessionId\": 3, \"userId\": 105, \"id_y\": 1069, \"activity\": \"Accessed Session 5 - Starter Files from Intro to Game Dev with Unity repo [access:3aadbfd9eca::rrtGJAd2ae1e]\", \"lastName\": \"Oksal\", \"title\": \"They/Them\", \"isSuperUser\": 0, \"lastLogin\": \"2021-07-12T23:06:58\"}, {\"id_x\": 61, \"status\": \"P\", \"attendanceSessionId\": 3, \"userId\": 105, \"id_y\": 1079, \"activity\": \"Accessed Session 5 - Assets from Intro to Game Dev with Unity repo [access:141012aa424::rrtGJAd2ae1e]\", \"lastName\": \"Oksal\", \"title\": \"They/Them\", \"isSuperUser\": 0, \"lastLogin\": \"2021-07-12T23:06:58\"}, {\"id_x\": 61, \"status\": \"P\", \"attendanceSessionId\": 3, \"userId\": 105, \"id_y\": 1104, \"activity\": \"Logged in\", \"lastName\": \"Oksal\", \"title\": \"They/Them\", \"isSuperUser\": 0, \"lastLogin\": \"2021-07-12T23:06:58\"}, {\"id_x\": 61, \"status\": \"P\", \"attendanceSessionId\": 3, \"userId\": 105, \"id_y\": 1105, \"activity\": \"Accessed Session 6 - Starter Files from Intro to Game Dev with Unity repo [access:4ff849da461::rrtGJAd2ae1e]\", \"lastName\": \"Oksal\", \"title\": \"They/Them\", \"isSuperUser\": 0, \"lastLogin\": \"2021-07-12T23:06:58\"}, {\"id_x\": 61, \"status\": \"P\", \"attendanceSessionId\": 3, \"userId\": 105, \"id_y\": 1335, \"activity\": \"Logged in\", \"lastName\": \"Oksal\", \"title\": \"They/Them\", \"isSuperUser\": 0, \"lastLogin\": \"2021-07-12T23:06:58\"}, {\"id_x\": 61, \"status\": \"P\", \"attendanceSessionId\": 3, \"userId\": 105, \"id_y\": 1336, \"activity\": \"Logged in\", \"lastName\": \"Oksal\", \"title\": \"They/Them\", \"isSuperUser\": 0, \"lastLogin\": \"2021-07-12T23:06:58\"}, {\"id_x\": 61, \"status\": \"P\", \"attendanceSessionId\": 3, \"userId\": 105, \"id_y\": 1337, \"activity\": \"Logged in\", \"lastName\": \"Oksal\", \"title\": \"They/Them\", \"isSuperUser\": 0, \"lastLogin\": \"2021-07-12T23:06:58\"}, {\"id_x\": 61, \"status\": \"P\", \"attendanceSessionId\": 3, \"userId\": 105, \"id_y\": 1338, \"activity\": \"Enrolled onto Programming Fundamentals\", \"lastName\": \"Oksal\", \"title\": \"They/Them\", \"isSuperUser\": 0, \"lastLogin\": \"2021-07-12T23:06:58\"}, {\"id_x\": 61, \"status\": \"P\", \"attendanceSessionId\": 3, \"userId\": 105, \"id_y\": 1368, \"activity\": \"Logged in\", \"lastName\": \"Oksal\", \"title\": \"They/Them\", \"isSuperUser\": 0, \"lastLogin\": \"2021-07-12T23:06:58\"}, {\"id_x\": 61, \"status\": \"P\", \"attendanceSessionId\": 3, \"userId\": 105, \"id_y\": 1371, \"activity\": \"Logged in\", \"lastName\": \"Oksal\", \"title\": \"They/Them\", \"isSuperUser\": 0, \"lastLogin\": \"2021-07-12T23:06:58\"}, {\"id_x\": 61, \"status\": \"P\", \"attendanceSessionId\": 3, \"userId\": 105, \"id_y\": 1418, \"activity\": \"Logged in\", \"lastName\": \"Oksal\", \"title\": \"They/Them\", \"isSuperUser\": 0, \"lastLogin\": \"2021-07-12T23:06:58\"}, {\"id_x\": 83, \"status\": \"I\", \"attendanceSessionId\": 4, \"userId\": 105, \"id_y\": 1053, \"activity\": \"Logged in\", \"lastName\": \"Oksal\", \"title\": \"They/Them\", \"isSuperUser\": 0, \"lastLogin\": \"2021-07-12T23:06:58\"}, {\"id_x\": 83, \"status\": \"I\", \"attendanceSessionId\": 4, \"userId\": 105, \"id_y\": 1054, \"activity\": \"Accessed Session 2 Recap from Intro to Game Dev with Unity repo [access:918a4f912a1::rrtGJAd2ae1e]\", \"lastName\": \"Oksal\", \"title\": \"They/Them\", \"isSuperUser\": 0, \"lastLogin\": \"2021-07-12T23:06:58\"}, {\"id_x\": 83, \"status\": \"I\", \"attendanceSessionId\": 4, \"userId\": 105, \"id_y\": 1055, \"activity\": \"Accessed Session 2 - Starter Files from Intro to Game Dev with Unity repo [access:1a82c08473b::rrtGJAd2ae1e]\", \"lastName\": \"Oksal\", \"title\": \"They/Them\", \"isSuperUser\": 0, \"lastLogin\": \"2021-07-12T23:06:58\"}, {\"id_x\": 83, \"status\": \"I\", \"attendanceSessionId\": 4, \"userId\": 105, \"id_y\": 1056, \"activity\": \"Accessed Session 3 Recap from Intro to Game Dev with Unity repo [access:5b3cf9ac46f::rrtGJAd2ae1e]\", \"lastName\": \"Oksal\", \"title\": \"They/Them\", \"isSuperUser\": 0, \"lastLogin\": \"2021-07-12T23:06:58\"}, {\"id_x\": 83, \"status\": \"I\", \"attendanceSessionId\": 4, \"userId\": 105, \"id_y\": 1057, \"activity\": \"Accessed Session 3 - Starter Files from Intro to Game Dev with Unity repo [access:dd9df1d2f3c::rrtGJAd2ae1e]\", \"lastName\": \"Oksal\", \"title\": \"They/Them\", \"isSuperUser\": 0, \"lastLogin\": \"2021-07-12T23:06:58\"}, {\"id_x\": 83, \"status\": \"I\", \"attendanceSessionId\": 4, \"userId\": 105, \"id_y\": 1067, \"activity\": \"Logged in\", \"lastName\": \"Oksal\", \"title\": \"They/Them\", \"isSuperUser\": 0, \"lastLogin\": \"2021-07-12T23:06:58\"}, {\"id_x\": 83, \"status\": \"I\", \"attendanceSessionId\": 4, \"userId\": 105, \"id_y\": 1069, \"activity\": \"Accessed Session 5 - Starter Files from Intro to Game Dev with Unity repo [access:3aadbfd9eca::rrtGJAd2ae1e]\", \"lastName\": \"Oksal\", \"title\": \"They/Them\", \"isSuperUser\": 0, \"lastLogin\": \"2021-07-12T23:06:58\"}, {\"id_x\": 83, \"status\": \"I\", \"attendanceSessionId\": 4, \"userId\": 105, \"id_y\": 1079, \"activity\": \"Accessed Session 5 - Assets from Intro to Game Dev with Unity repo [access:141012aa424::rrtGJAd2ae1e]\", \"lastName\": \"Oksal\", \"title\": \"They/Them\", \"isSuperUser\": 0, \"lastLogin\": \"2021-07-12T23:06:58\"}, {\"id_x\": 83, \"status\": \"I\", \"attendanceSessionId\": 4, \"userId\": 105, \"id_y\": 1104, \"activity\": \"Logged in\", \"lastName\": \"Oksal\", \"title\": \"They/Them\", \"isSuperUser\": 0, \"lastLogin\": \"2021-07-12T23:06:58\"}, {\"id_x\": 83, \"status\": \"I\", \"attendanceSessionId\": 4, \"userId\": 105, \"id_y\": 1105, \"activity\": \"Accessed Session 6 - Starter Files from Intro to Game Dev with Unity repo [access:4ff849da461::rrtGJAd2ae1e]\", \"lastName\": \"Oksal\", \"title\": \"They/Them\", \"isSuperUser\": 0, \"lastLogin\": \"2021-07-12T23:06:58\"}, {\"id_x\": 83, \"status\": \"I\", \"attendanceSessionId\": 4, \"userId\": 105, \"id_y\": 1335, \"activity\": \"Logged in\", \"lastName\": \"Oksal\", \"title\": \"They/Them\", \"isSuperUser\": 0, \"lastLogin\": \"2021-07-12T23:06:58\"}, {\"id_x\": 83, \"status\": \"I\", \"attendanceSessionId\": 4, \"userId\": 105, \"id_y\": 1336, \"activity\": \"Logged in\", \"lastName\": \"Oksal\", \"title\": \"They/Them\", \"isSuperUser\": 0, \"lastLogin\": \"2021-07-12T23:06:58\"}, {\"id_x\": 83, \"status\": \"I\", \"attendanceSessionId\": 4, \"userId\": 105, \"id_y\": 1337, \"activity\": \"Logged in\", \"lastName\": \"Oksal\", \"title\": \"They/Them\", \"isSuperUser\": 0, \"lastLogin\": \"2021-07-12T23:06:58\"}, {\"id_x\": 83, \"status\": \"I\", \"attendanceSessionId\": 4, \"userId\": 105, \"id_y\": 1338, \"activity\": \"Enrolled onto Programming Fundamentals\", \"lastName\": \"Oksal\", \"title\": \"They/Them\", \"isSuperUser\": 0, \"lastLogin\": \"2021-07-12T23:06:58\"}, {\"id_x\": 83, \"status\": \"I\", \"attendanceSessionId\": 4, \"userId\": 105, \"id_y\": 1368, \"activity\": \"Logged in\", \"lastName\": \"Oksal\", \"title\": \"They/Them\", \"isSuperUser\": 0, \"lastLogin\": \"2021-07-12T23:06:58\"}, {\"id_x\": 83, \"status\": \"I\", \"attendanceSessionId\": 4, \"userId\": 105, \"id_y\": 1371, \"activity\": \"Logged in\", \"lastName\": \"Oksal\", \"title\": \"They/Them\", \"isSuperUser\": 0, \"lastLogin\": \"2021-07-12T23:06:58\"}, {\"id_x\": 83, \"status\": \"I\", \"attendanceSessionId\": 4, \"userId\": 105, \"id_y\": 1418, \"activity\": \"Logged in\", \"lastName\": \"Oksal\", \"title\": \"They/Them\", \"isSuperUser\": 0, \"lastLogin\": \"2021-07-12T23:06:58\"}, {\"id_x\": 91, \"status\": \"P\", \"attendanceSessionId\": 5, \"userId\": 105, \"id_y\": 1053, \"activity\": \"Logged in\", \"lastName\": \"Oksal\", \"title\": \"They/Them\", \"isSuperUser\": 0, \"lastLogin\": \"2021-07-12T23:06:58\"}, {\"id_x\": 91, \"status\": \"P\", \"attendanceSessionId\": 5, \"userId\": 105, \"id_y\": 1054, \"activity\": \"Accessed Session 2 Recap from Intro to Game Dev with Unity repo [access:918a4f912a1::rrtGJAd2ae1e]\", \"lastName\": \"Oksal\", \"title\": \"They/Them\", \"isSuperUser\": 0, \"lastLogin\": \"2021-07-12T23:06:58\"}, {\"id_x\": 91, \"status\": \"P\", \"attendanceSessionId\": 5, \"userId\": 105, \"id_y\": 1055, \"activity\": \"Accessed Session 2 - Starter Files from Intro to Game Dev with Unity repo [access:1a82c08473b::rrtGJAd2ae1e]\", \"lastName\": \"Oksal\", \"title\": \"They/Them\", \"isSuperUser\": 0, \"lastLogin\": \"2021-07-12T23:06:58\"}, {\"id_x\": 91, \"status\": \"P\", \"attendanceSessionId\": 5, \"userId\": 105, \"id_y\": 1056, \"activity\": \"Accessed Session 3 Recap from Intro to Game Dev with Unity repo [access:5b3cf9ac46f::rrtGJAd2ae1e]\", \"lastName\": \"Oksal\", \"title\": \"They/Them\", \"isSuperUser\": 0, \"lastLogin\": \"2021-07-12T23:06:58\"}, {\"id_x\": 91, \"status\": \"P\", \"attendanceSessionId\": 5, \"userId\": 105, \"id_y\": 1057, \"activity\": \"Accessed Session 3 - Starter Files from Intro to Game Dev with Unity repo [access:dd9df1d2f3c::rrtGJAd2ae1e]\", \"lastName\": \"Oksal\", \"title\": \"They/Them\", \"isSuperUser\": 0, \"lastLogin\": \"2021-07-12T23:06:58\"}, {\"id_x\": 91, \"status\": \"P\", \"attendanceSessionId\": 5, \"userId\": 105, \"id_y\": 1067, \"activity\": \"Logged in\", \"lastName\": \"Oksal\", \"title\": \"They/Them\", \"isSuperUser\": 0, \"lastLogin\": \"2021-07-12T23:06:58\"}, {\"id_x\": 91, \"status\": \"P\", \"attendanceSessionId\": 5, \"userId\": 105, \"id_y\": 1069, \"activity\": \"Accessed Session 5 - Starter Files from Intro to Game Dev with Unity repo [access:3aadbfd9eca::rrtGJAd2ae1e]\", \"lastName\": \"Oksal\", \"title\": \"They/Them\", \"isSuperUser\": 0, \"lastLogin\": \"2021-07-12T23:06:58\"}, {\"id_x\": 91, \"status\": \"P\", \"attendanceSessionId\": 5, \"userId\": 105, \"id_y\": 1079, \"activity\": \"Accessed Session 5 - Assets from Intro to Game Dev with Unity repo [access:141012aa424::rrtGJAd2ae1e]\", \"lastName\": \"Oksal\", \"title\": \"They/Them\", \"isSuperUser\": 0, \"lastLogin\": \"2021-07-12T23:06:58\"}, {\"id_x\": 91, \"status\": \"P\", \"attendanceSessionId\": 5, \"userId\": 105, \"id_y\": 1104, \"activity\": \"Logged in\", \"lastName\": \"Oksal\", \"title\": \"They/Them\", \"isSuperUser\": 0, \"lastLogin\": \"2021-07-12T23:06:58\"}, {\"id_x\": 91, \"status\": \"P\", \"attendanceSessionId\": 5, \"userId\": 105, \"id_y\": 1105, \"activity\": \"Accessed Session 6 - Starter Files from Intro to Game Dev with Unity repo [access:4ff849da461::rrtGJAd2ae1e]\", \"lastName\": \"Oksal\", \"title\": \"They/Them\", \"isSuperUser\": 0, \"lastLogin\": \"2021-07-12T23:06:58\"}, {\"id_x\": 91, \"status\": \"P\", \"attendanceSessionId\": 5, \"userId\": 105, \"id_y\": 1335, \"activity\": \"Logged in\", \"lastName\": \"Oksal\", \"title\": \"They/Them\", \"isSuperUser\": 0, \"lastLogin\": \"2021-07-12T23:06:58\"}, {\"id_x\": 91, \"status\": \"P\", \"attendanceSessionId\": 5, \"userId\": 105, \"id_y\": 1336, \"activity\": \"Logged in\", \"lastName\": \"Oksal\", \"title\": \"They/Them\", \"isSuperUser\": 0, \"lastLogin\": \"2021-07-12T23:06:58\"}, {\"id_x\": 91, \"status\": \"P\", \"attendanceSessionId\": 5, \"userId\": 105, \"id_y\": 1337, \"activity\": \"Logged in\", \"lastName\": \"Oksal\", \"title\": \"They/Them\", \"isSuperUser\": 0, \"lastLogin\": \"2021-07-12T23:06:58\"}, {\"id_x\": 91, \"status\": \"P\", \"attendanceSessionId\": 5, \"userId\": 105, \"id_y\": 1338, \"activity\": \"Enrolled onto Programming Fundamentals\", \"lastName\": \"Oksal\", \"title\": \"They/Them\", \"isSuperUser\": 0, \"lastLogin\": \"2021-07-12T23:06:58\"}, {\"id_x\": 91, \"status\": \"P\", \"attendanceSessionId\": 5, \"userId\": 105, \"id_y\": 1368, \"activity\": \"Logged in\", \"lastName\": \"Oksal\", \"title\": \"They/Them\", \"isSuperUser\": 0, \"lastLogin\": \"2021-07-12T23:06:58\"}, {\"id_x\": 91, \"status\": \"P\", \"attendanceSessionId\": 5, \"userId\": 105, \"id_y\": 1371, \"activity\": \"Logged in\", \"lastName\": \"Oksal\", \"title\": \"They/Them\", \"isSuperUser\": 0, \"lastLogin\": \"2021-07-12T23:06:58\"}, {\"id_x\": 91, \"status\": \"P\", \"attendanceSessionId\": 5, \"userId\": 105, \"id_y\": 1418, \"activity\": \"Logged in\", \"lastName\": \"Oksal\", \"title\": \"They/Them\", \"isSuperUser\": 0, \"lastLogin\": \"2021-07-12T23:06:58\"}, {\"id_x\": 95, \"status\": \"P\", \"attendanceSessionId\": 6, \"userId\": 105, \"id_y\": 1053, \"activity\": \"Logged in\", \"lastName\": \"Oksal\", \"title\": \"They/Them\", \"isSuperUser\": 0, \"lastLogin\": \"2021-07-12T23:06:58\"}, {\"id_x\": 95, \"status\": \"P\", \"attendanceSessionId\": 6, \"userId\": 105, \"id_y\": 1054, \"activity\": \"Accessed Session 2 Recap from Intro to Game Dev with Unity repo [access:918a4f912a1::rrtGJAd2ae1e]\", \"lastName\": \"Oksal\", \"title\": \"They/Them\", \"isSuperUser\": 0, \"lastLogin\": \"2021-07-12T23:06:58\"}, {\"id_x\": 95, \"status\": \"P\", \"attendanceSessionId\": 6, \"userId\": 105, \"id_y\": 1055, \"activity\": \"Accessed Session 2 - Starter Files from Intro to Game Dev with Unity repo [access:1a82c08473b::rrtGJAd2ae1e]\", \"lastName\": \"Oksal\", \"title\": \"They/Them\", \"isSuperUser\": 0, \"lastLogin\": \"2021-07-12T23:06:58\"}, {\"id_x\": 95, \"status\": \"P\", \"attendanceSessionId\": 6, \"userId\": 105, \"id_y\": 1056, \"activity\": \"Accessed Session 3 Recap from Intro to Game Dev with Unity repo [access:5b3cf9ac46f::rrtGJAd2ae1e]\", \"lastName\": \"Oksal\", \"title\": \"They/Them\", \"isSuperUser\": 0, \"lastLogin\": \"2021-07-12T23:06:58\"}, {\"id_x\": 95, \"status\": \"P\", \"attendanceSessionId\": 6, \"userId\": 105, \"id_y\": 1057, \"activity\": \"Accessed Session 3 - Starter Files from Intro to Game Dev with Unity repo [access:dd9df1d2f3c::rrtGJAd2ae1e]\", \"lastName\": \"Oksal\", \"title\": \"They/Them\", \"isSuperUser\": 0, \"lastLogin\": \"2021-07-12T23:06:58\"}, {\"id_x\": 95, \"status\": \"P\", \"attendanceSessionId\": 6, \"userId\": 105, \"id_y\": 1067, \"activity\": \"Logged in\", \"lastName\": \"Oksal\", \"title\": \"They/Them\", \"isSuperUser\": 0, \"lastLogin\": \"2021-07-12T23:06:58\"}, {\"id_x\": 95, \"status\": \"P\", \"attendanceSessionId\": 6, \"userId\": 105, \"id_y\": 1069, \"activity\": \"Accessed Session 5 - Starter Files from Intro to Game Dev with Unity repo [access:3aadbfd9eca::rrtGJAd2ae1e]\", \"lastName\": \"Oksal\", \"title\": \"They/Them\", \"isSuperUser\": 0, \"lastLogin\": \"2021-07-12T23:06:58\"}, {\"id_x\": 95, \"status\": \"P\", \"attendanceSessionId\": 6, \"userId\": 105, \"id_y\": 1079, \"activity\": \"Accessed Session 5 - Assets from Intro to Game Dev with Unity repo [access:141012aa424::rrtGJAd2ae1e]\", \"lastName\": \"Oksal\", \"title\": \"They/Them\", \"isSuperUser\": 0, \"lastLogin\": \"2021-07-12T23:06:58\"}, {\"id_x\": 95, \"status\": \"P\", \"attendanceSessionId\": 6, \"userId\": 105, \"id_y\": 1104, \"activity\": \"Logged in\", \"lastName\": \"Oksal\", \"title\": \"They/Them\", \"isSuperUser\": 0, \"lastLogin\": \"2021-07-12T23:06:58\"}, {\"id_x\": 95, \"status\": \"P\", \"attendanceSessionId\": 6, \"userId\": 105, \"id_y\": 1105, \"activity\": \"Accessed Session 6 - Starter Files from Intro to Game Dev with Unity repo [access:4ff849da461::rrtGJAd2ae1e]\", \"lastName\": \"Oksal\", \"title\": \"They/Them\", \"isSuperUser\": 0, \"lastLogin\": \"2021-07-12T23:06:58\"}, {\"id_x\": 95, \"status\": \"P\", \"attendanceSessionId\": 6, \"userId\": 105, \"id_y\": 1335, \"activity\": \"Logged in\", \"lastName\": \"Oksal\", \"title\": \"They/Them\", \"isSuperUser\": 0, \"lastLogin\": \"2021-07-12T23:06:58\"}, {\"id_x\": 95, \"status\": \"P\", \"attendanceSessionId\": 6, \"userId\": 105, \"id_y\": 1336, \"activity\": \"Logged in\", \"lastName\": \"Oksal\", \"title\": \"They/Them\", \"isSuperUser\": 0, \"lastLogin\": \"2021-07-12T23:06:58\"}, {\"id_x\": 95, \"status\": \"P\", \"attendanceSessionId\": 6, \"userId\": 105, \"id_y\": 1337, \"activity\": \"Logged in\", \"lastName\": \"Oksal\", \"title\": \"They/Them\", \"isSuperUser\": 0, \"lastLogin\": \"2021-07-12T23:06:58\"}, {\"id_x\": 95, \"status\": \"P\", \"attendanceSessionId\": 6, \"userId\": 105, \"id_y\": 1338, \"activity\": \"Enrolled onto Programming Fundamentals\", \"lastName\": \"Oksal\", \"title\": \"They/Them\", \"isSuperUser\": 0, \"lastLogin\": \"2021-07-12T23:06:58\"}, {\"id_x\": 95, \"status\": \"P\", \"attendanceSessionId\": 6, \"userId\": 105, \"id_y\": 1368, \"activity\": \"Logged in\", \"lastName\": \"Oksal\", \"title\": \"They/Them\", \"isSuperUser\": 0, \"lastLogin\": \"2021-07-12T23:06:58\"}, {\"id_x\": 95, \"status\": \"P\", \"attendanceSessionId\": 6, \"userId\": 105, \"id_y\": 1371, \"activity\": \"Logged in\", \"lastName\": \"Oksal\", \"title\": \"They/Them\", \"isSuperUser\": 0, \"lastLogin\": \"2021-07-12T23:06:58\"}, {\"id_x\": 95, \"status\": \"P\", \"attendanceSessionId\": 6, \"userId\": 105, \"id_y\": 1418, \"activity\": \"Logged in\", \"lastName\": \"Oksal\", \"title\": \"They/Them\", \"isSuperUser\": 0, \"lastLogin\": \"2021-07-12T23:06:58\"}, {\"id_x\": 110, \"status\": \"P\", \"attendanceSessionId\": 7, \"userId\": 105, \"id_y\": 1053, \"activity\": \"Logged in\", \"lastName\": \"Oksal\", \"title\": \"They/Them\", \"isSuperUser\": 0, \"lastLogin\": \"2021-07-12T23:06:58\"}, {\"id_x\": 110, \"status\": \"P\", \"attendanceSessionId\": 7, \"userId\": 105, \"id_y\": 1054, \"activity\": \"Accessed Session 2 Recap from Intro to Game Dev with Unity repo [access:918a4f912a1::rrtGJAd2ae1e]\", \"lastName\": \"Oksal\", \"title\": \"They/Them\", \"isSuperUser\": 0, \"lastLogin\": \"2021-07-12T23:06:58\"}, {\"id_x\": 110, \"status\": \"P\", \"attendanceSessionId\": 7, \"userId\": 105, \"id_y\": 1055, \"activity\": \"Accessed Session 2 - Starter Files from Intro to Game Dev with Unity repo [access:1a82c08473b::rrtGJAd2ae1e]\", \"lastName\": \"Oksal\", \"title\": \"They/Them\", \"isSuperUser\": 0, \"lastLogin\": \"2021-07-12T23:06:58\"}, {\"id_x\": 110, \"status\": \"P\", \"attendanceSessionId\": 7, \"userId\": 105, \"id_y\": 1056, \"activity\": \"Accessed Session 3 Recap from Intro to Game Dev with Unity repo [access:5b3cf9ac46f::rrtGJAd2ae1e]\", \"lastName\": \"Oksal\", \"title\": \"They/Them\", \"isSuperUser\": 0, \"lastLogin\": \"2021-07-12T23:06:58\"}, {\"id_x\": 110, \"status\": \"P\", \"attendanceSessionId\": 7, \"userId\": 105, \"id_y\": 1057, \"activity\": \"Accessed Session 3 - Starter Files from Intro to Game Dev with Unity repo [access:dd9df1d2f3c::rrtGJAd2ae1e]\", \"lastName\": \"Oksal\", \"title\": \"They/Them\", \"isSuperUser\": 0, \"lastLogin\": \"2021-07-12T23:06:58\"}, {\"id_x\": 110, \"status\": \"P\", \"attendanceSessionId\": 7, \"userId\": 105, \"id_y\": 1067, \"activity\": \"Logged in\", \"lastName\": \"Oksal\", \"title\": \"They/Them\", \"isSuperUser\": 0, \"lastLogin\": \"2021-07-12T23:06:58\"}, {\"id_x\": 110, \"status\": \"P\", \"attendanceSessionId\": 7, \"userId\": 105, \"id_y\": 1069, \"activity\": \"Accessed Session 5 - Starter Files from Intro to Game Dev with Unity repo [access:3aadbfd9eca::rrtGJAd2ae1e]\", \"lastName\": \"Oksal\", \"title\": \"They/Them\", \"isSuperUser\": 0, \"lastLogin\": \"2021-07-12T23:06:58\"}, {\"id_x\": 110, \"status\": \"P\", \"attendanceSessionId\": 7, \"userId\": 105, \"id_y\": 1079, \"activity\": \"Accessed Session 5 - Assets from Intro to Game Dev with Unity repo [access:141012aa424::rrtGJAd2ae1e]\", \"lastName\": \"Oksal\", \"title\": \"They/Them\", \"isSuperUser\": 0, \"lastLogin\": \"2021-07-12T23:06:58\"}, {\"id_x\": 110, \"status\": \"P\", \"attendanceSessionId\": 7, \"userId\": 105, \"id_y\": 1104, \"activity\": \"Logged in\", \"lastName\": \"Oksal\", \"title\": \"They/Them\", \"isSuperUser\": 0, \"lastLogin\": \"2021-07-12T23:06:58\"}, {\"id_x\": 110, \"status\": \"P\", \"attendanceSessionId\": 7, \"userId\": 105, \"id_y\": 1105, \"activity\": \"Accessed Session 6 - Starter Files from Intro to Game Dev with Unity repo [access:4ff849da461::rrtGJAd2ae1e]\", \"lastName\": \"Oksal\", \"title\": \"They/Them\", \"isSuperUser\": 0, \"lastLogin\": \"2021-07-12T23:06:58\"}, {\"id_x\": 110, \"status\": \"P\", \"attendanceSessionId\": 7, \"userId\": 105, \"id_y\": 1335, \"activity\": \"Logged in\", \"lastName\": \"Oksal\", \"title\": \"They/Them\", \"isSuperUser\": 0, \"lastLogin\": \"2021-07-12T23:06:58\"}, {\"id_x\": 110, \"status\": \"P\", \"attendanceSessionId\": 7, \"userId\": 105, \"id_y\": 1336, \"activity\": \"Logged in\", \"lastName\": \"Oksal\", \"title\": \"They/Them\", \"isSuperUser\": 0, \"lastLogin\": \"2021-07-12T23:06:58\"}, {\"id_x\": 110, \"status\": \"P\", \"attendanceSessionId\": 7, \"userId\": 105, \"id_y\": 1337, \"activity\": \"Logged in\", \"lastName\": \"Oksal\", \"title\": \"They/Them\", \"isSuperUser\": 0, \"lastLogin\": \"2021-07-12T23:06:58\"}, {\"id_x\": 110, \"status\": \"P\", \"attendanceSessionId\": 7, \"userId\": 105, \"id_y\": 1338, \"activity\": \"Enrolled onto Programming Fundamentals\", \"lastName\": \"Oksal\", \"title\": \"They/Them\", \"isSuperUser\": 0, \"lastLogin\": \"2021-07-12T23:06:58\"}, {\"id_x\": 110, \"status\": \"P\", \"attendanceSessionId\": 7, \"userId\": 105, \"id_y\": 1368, \"activity\": \"Logged in\", \"lastName\": \"Oksal\", \"title\": \"They/Them\", \"isSuperUser\": 0, \"lastLogin\": \"2021-07-12T23:06:58\"}, {\"id_x\": 110, \"status\": \"P\", \"attendanceSessionId\": 7, \"userId\": 105, \"id_y\": 1371, \"activity\": \"Logged in\", \"lastName\": \"Oksal\", \"title\": \"They/Them\", \"isSuperUser\": 0, \"lastLogin\": \"2021-07-12T23:06:58\"}, {\"id_x\": 110, \"status\": \"P\", \"attendanceSessionId\": 7, \"userId\": 105, \"id_y\": 1418, \"activity\": \"Logged in\", \"lastName\": \"Oksal\", \"title\": \"They/Them\", \"isSuperUser\": 0, \"lastLogin\": \"2021-07-12T23:06:58\"}, {\"id_x\": 117, \"status\": \"P\", \"attendanceSessionId\": 8, \"userId\": 105, \"id_y\": 1053, \"activity\": \"Logged in\", \"lastName\": \"Oksal\", \"title\": \"They/Them\", \"isSuperUser\": 0, \"lastLogin\": \"2021-07-12T23:06:58\"}, {\"id_x\": 117, \"status\": \"P\", \"attendanceSessionId\": 8, \"userId\": 105, \"id_y\": 1054, \"activity\": \"Accessed Session 2 Recap from Intro to Game Dev with Unity repo [access:918a4f912a1::rrtGJAd2ae1e]\", \"lastName\": \"Oksal\", \"title\": \"They/Them\", \"isSuperUser\": 0, \"lastLogin\": \"2021-07-12T23:06:58\"}, {\"id_x\": 117, \"status\": \"P\", \"attendanceSessionId\": 8, \"userId\": 105, \"id_y\": 1055, \"activity\": \"Accessed Session 2 - Starter Files from Intro to Game Dev with Unity repo [access:1a82c08473b::rrtGJAd2ae1e]\", \"lastName\": \"Oksal\", \"title\": \"They/Them\", \"isSuperUser\": 0, \"lastLogin\": \"2021-07-12T23:06:58\"}, {\"id_x\": 117, \"status\": \"P\", \"attendanceSessionId\": 8, \"userId\": 105, \"id_y\": 1056, \"activity\": \"Accessed Session 3 Recap from Intro to Game Dev with Unity repo [access:5b3cf9ac46f::rrtGJAd2ae1e]\", \"lastName\": \"Oksal\", \"title\": \"They/Them\", \"isSuperUser\": 0, \"lastLogin\": \"2021-07-12T23:06:58\"}, {\"id_x\": 117, \"status\": \"P\", \"attendanceSessionId\": 8, \"userId\": 105, \"id_y\": 1057, \"activity\": \"Accessed Session 3 - Starter Files from Intro to Game Dev with Unity repo [access:dd9df1d2f3c::rrtGJAd2ae1e]\", \"lastName\": \"Oksal\", \"title\": \"They/Them\", \"isSuperUser\": 0, \"lastLogin\": \"2021-07-12T23:06:58\"}, {\"id_x\": 117, \"status\": \"P\", \"attendanceSessionId\": 8, \"userId\": 105, \"id_y\": 1067, \"activity\": \"Logged in\", \"lastName\": \"Oksal\", \"title\": \"They/Them\", \"isSuperUser\": 0, \"lastLogin\": \"2021-07-12T23:06:58\"}, {\"id_x\": 117, \"status\": \"P\", \"attendanceSessionId\": 8, \"userId\": 105, \"id_y\": 1069, \"activity\": \"Accessed Session 5 - Starter Files from Intro to Game Dev with Unity repo [access:3aadbfd9eca::rrtGJAd2ae1e]\", \"lastName\": \"Oksal\", \"title\": \"They/Them\", \"isSuperUser\": 0, \"lastLogin\": \"2021-07-12T23:06:58\"}, {\"id_x\": 117, \"status\": \"P\", \"attendanceSessionId\": 8, \"userId\": 105, \"id_y\": 1079, \"activity\": \"Accessed Session 5 - Assets from Intro to Game Dev with Unity repo [access:141012aa424::rrtGJAd2ae1e]\", \"lastName\": \"Oksal\", \"title\": \"They/Them\", \"isSuperUser\": 0, \"lastLogin\": \"2021-07-12T23:06:58\"}, {\"id_x\": 117, \"status\": \"P\", \"attendanceSessionId\": 8, \"userId\": 105, \"id_y\": 1104, \"activity\": \"Logged in\", \"lastName\": \"Oksal\", \"title\": \"They/Them\", \"isSuperUser\": 0, \"lastLogin\": \"2021-07-12T23:06:58\"}, {\"id_x\": 117, \"status\": \"P\", \"attendanceSessionId\": 8, \"userId\": 105, \"id_y\": 1105, \"activity\": \"Accessed Session 6 - Starter Files from Intro to Game Dev with Unity repo [access:4ff849da461::rrtGJAd2ae1e]\", \"lastName\": \"Oksal\", \"title\": \"They/Them\", \"isSuperUser\": 0, \"lastLogin\": \"2021-07-12T23:06:58\"}, {\"id_x\": 117, \"status\": \"P\", \"attendanceSessionId\": 8, \"userId\": 105, \"id_y\": 1335, \"activity\": \"Logged in\", \"lastName\": \"Oksal\", \"title\": \"They/Them\", \"isSuperUser\": 0, \"lastLogin\": \"2021-07-12T23:06:58\"}, {\"id_x\": 117, \"status\": \"P\", \"attendanceSessionId\": 8, \"userId\": 105, \"id_y\": 1336, \"activity\": \"Logged in\", \"lastName\": \"Oksal\", \"title\": \"They/Them\", \"isSuperUser\": 0, \"lastLogin\": \"2021-07-12T23:06:58\"}, {\"id_x\": 117, \"status\": \"P\", \"attendanceSessionId\": 8, \"userId\": 105, \"id_y\": 1337, \"activity\": \"Logged in\", \"lastName\": \"Oksal\", \"title\": \"They/Them\", \"isSuperUser\": 0, \"lastLogin\": \"2021-07-12T23:06:58\"}, {\"id_x\": 117, \"status\": \"P\", \"attendanceSessionId\": 8, \"userId\": 105, \"id_y\": 1338, \"activity\": \"Enrolled onto Programming Fundamentals\", \"lastName\": \"Oksal\", \"title\": \"They/Them\", \"isSuperUser\": 0, \"lastLogin\": \"2021-07-12T23:06:58\"}, {\"id_x\": 117, \"status\": \"P\", \"attendanceSessionId\": 8, \"userId\": 105, \"id_y\": 1368, \"activity\": \"Logged in\", \"lastName\": \"Oksal\", \"title\": \"They/Them\", \"isSuperUser\": 0, \"lastLogin\": \"2021-07-12T23:06:58\"}, {\"id_x\": 117, \"status\": \"P\", \"attendanceSessionId\": 8, \"userId\": 105, \"id_y\": 1371, \"activity\": \"Logged in\", \"lastName\": \"Oksal\", \"title\": \"They/Them\", \"isSuperUser\": 0, \"lastLogin\": \"2021-07-12T23:06:58\"}, {\"id_x\": 117, \"status\": \"P\", \"attendanceSessionId\": 8, \"userId\": 105, \"id_y\": 1418, \"activity\": \"Logged in\", \"lastName\": \"Oksal\", \"title\": \"They/Them\", \"isSuperUser\": 0, \"lastLogin\": \"2021-07-12T23:06:58\"}, {\"id_x\": 148, \"status\": \"I\", \"attendanceSessionId\": 9, \"userId\": 105, \"id_y\": 1053, \"activity\": \"Logged in\", \"lastName\": \"Oksal\", \"title\": \"They/Them\", \"isSuperUser\": 0, \"lastLogin\": \"2021-07-12T23:06:58\"}, {\"id_x\": 148, \"status\": \"I\", \"attendanceSessionId\": 9, \"userId\": 105, \"id_y\": 1054, \"activity\": \"Accessed Session 2 Recap from Intro to Game Dev with Unity repo [access:918a4f912a1::rrtGJAd2ae1e]\", \"lastName\": \"Oksal\", \"title\": \"They/Them\", \"isSuperUser\": 0, \"lastLogin\": \"2021-07-12T23:06:58\"}, {\"id_x\": 148, \"status\": \"I\", \"attendanceSessionId\": 9, \"userId\": 105, \"id_y\": 1055, \"activity\": \"Accessed Session 2 - Starter Files from Intro to Game Dev with Unity repo [access:1a82c08473b::rrtGJAd2ae1e]\", \"lastName\": \"Oksal\", \"title\": \"They/Them\", \"isSuperUser\": 0, \"lastLogin\": \"2021-07-12T23:06:58\"}, {\"id_x\": 148, \"status\": \"I\", \"attendanceSessionId\": 9, \"userId\": 105, \"id_y\": 1056, \"activity\": \"Accessed Session 3 Recap from Intro to Game Dev with Unity repo [access:5b3cf9ac46f::rrtGJAd2ae1e]\", \"lastName\": \"Oksal\", \"title\": \"They/Them\", \"isSuperUser\": 0, \"lastLogin\": \"2021-07-12T23:06:58\"}, {\"id_x\": 148, \"status\": \"I\", \"attendanceSessionId\": 9, \"userId\": 105, \"id_y\": 1057, \"activity\": \"Accessed Session 3 - Starter Files from Intro to Game Dev with Unity repo [access:dd9df1d2f3c::rrtGJAd2ae1e]\", \"lastName\": \"Oksal\", \"title\": \"They/Them\", \"isSuperUser\": 0, \"lastLogin\": \"2021-07-12T23:06:58\"}, {\"id_x\": 148, \"status\": \"I\", \"attendanceSessionId\": 9, \"userId\": 105, \"id_y\": 1067, \"activity\": \"Logged in\", \"lastName\": \"Oksal\", \"title\": \"They/Them\", \"isSuperUser\": 0, \"lastLogin\": \"2021-07-12T23:06:58\"}, {\"id_x\": 148, \"status\": \"I\", \"attendanceSessionId\": 9, \"userId\": 105, \"id_y\": 1069, \"activity\": \"Accessed Session 5 - Starter Files from Intro to Game Dev with Unity repo [access:3aadbfd9eca::rrtGJAd2ae1e]\", \"lastName\": \"Oksal\", \"title\": \"They/Them\", \"isSuperUser\": 0, \"lastLogin\": \"2021-07-12T23:06:58\"}, {\"id_x\": 148, \"status\": \"I\", \"attendanceSessionId\": 9, \"userId\": 105, \"id_y\": 1079, \"activity\": \"Accessed Session 5 - Assets from Intro to Game Dev with Unity repo [access:141012aa424::rrtGJAd2ae1e]\", \"lastName\": \"Oksal\", \"title\": \"They/Them\", \"isSuperUser\": 0, \"lastLogin\": \"2021-07-12T23:06:58\"}, {\"id_x\": 148, \"status\": \"I\", \"attendanceSessionId\": 9, \"userId\": 105, \"id_y\": 1104, \"activity\": \"Logged in\", \"lastName\": \"Oksal\", \"title\": \"They/Them\", \"isSuperUser\": 0, \"lastLogin\": \"2021-07-12T23:06:58\"}, {\"id_x\": 148, \"status\": \"I\", \"attendanceSessionId\": 9, \"userId\": 105, \"id_y\": 1105, \"activity\": \"Accessed Session 6 - Starter Files from Intro to Game Dev with Unity repo [access:4ff849da461::rrtGJAd2ae1e]\", \"lastName\": \"Oksal\", \"title\": \"They/Them\", \"isSuperUser\": 0, \"lastLogin\": \"2021-07-12T23:06:58\"}, {\"id_x\": 148, \"status\": \"I\", \"attendanceSessionId\": 9, \"userId\": 105, \"id_y\": 1335, \"activity\": \"Logged in\", \"lastName\": \"Oksal\", \"title\": \"They/Them\", \"isSuperUser\": 0, \"lastLogin\": \"2021-07-12T23:06:58\"}, {\"id_x\": 148, \"status\": \"I\", \"attendanceSessionId\": 9, \"userId\": 105, \"id_y\": 1336, \"activity\": \"Logged in\", \"lastName\": \"Oksal\", \"title\": \"They/Them\", \"isSuperUser\": 0, \"lastLogin\": \"2021-07-12T23:06:58\"}, {\"id_x\": 148, \"status\": \"I\", \"attendanceSessionId\": 9, \"userId\": 105, \"id_y\": 1337, \"activity\": \"Logged in\", \"lastName\": \"Oksal\", \"title\": \"They/Them\", \"isSuperUser\": 0, \"lastLogin\": \"2021-07-12T23:06:58\"}, {\"id_x\": 148, \"status\": \"I\", \"attendanceSessionId\": 9, \"userId\": 105, \"id_y\": 1338, \"activity\": \"Enrolled onto Programming Fundamentals\", \"lastName\": \"Oksal\", \"title\": \"They/Them\", \"isSuperUser\": 0, \"lastLogin\": \"2021-07-12T23:06:58\"}, {\"id_x\": 148, \"status\": \"I\", \"attendanceSessionId\": 9, \"userId\": 105, \"id_y\": 1368, \"activity\": \"Logged in\", \"lastName\": \"Oksal\", \"title\": \"They/Them\", \"isSuperUser\": 0, \"lastLogin\": \"2021-07-12T23:06:58\"}, {\"id_x\": 148, \"status\": \"I\", \"attendanceSessionId\": 9, \"userId\": 105, \"id_y\": 1371, \"activity\": \"Logged in\", \"lastName\": \"Oksal\", \"title\": \"They/Them\", \"isSuperUser\": 0, \"lastLogin\": \"2021-07-12T23:06:58\"}, {\"id_x\": 148, \"status\": \"I\", \"attendanceSessionId\": 9, \"userId\": 105, \"id_y\": 1418, \"activity\": \"Logged in\", \"lastName\": \"Oksal\", \"title\": \"They/Them\", \"isSuperUser\": 0, \"lastLogin\": \"2021-07-12T23:06:58\"}, {\"id_x\": 151, \"status\": \"P\", \"attendanceSessionId\": 10, \"userId\": 105, \"id_y\": 1053, \"activity\": \"Logged in\", \"lastName\": \"Oksal\", \"title\": \"They/Them\", \"isSuperUser\": 0, \"lastLogin\": \"2021-07-12T23:06:58\"}, {\"id_x\": 151, \"status\": \"P\", \"attendanceSessionId\": 10, \"userId\": 105, \"id_y\": 1054, \"activity\": \"Accessed Session 2 Recap from Intro to Game Dev with Unity repo [access:918a4f912a1::rrtGJAd2ae1e]\", \"lastName\": \"Oksal\", \"title\": \"They/Them\", \"isSuperUser\": 0, \"lastLogin\": \"2021-07-12T23:06:58\"}, {\"id_x\": 151, \"status\": \"P\", \"attendanceSessionId\": 10, \"userId\": 105, \"id_y\": 1055, \"activity\": \"Accessed Session 2 - Starter Files from Intro to Game Dev with Unity repo [access:1a82c08473b::rrtGJAd2ae1e]\", \"lastName\": \"Oksal\", \"title\": \"They/Them\", \"isSuperUser\": 0, \"lastLogin\": \"2021-07-12T23:06:58\"}, {\"id_x\": 151, \"status\": \"P\", \"attendanceSessionId\": 10, \"userId\": 105, \"id_y\": 1056, \"activity\": \"Accessed Session 3 Recap from Intro to Game Dev with Unity repo [access:5b3cf9ac46f::rrtGJAd2ae1e]\", \"lastName\": \"Oksal\", \"title\": \"They/Them\", \"isSuperUser\": 0, \"lastLogin\": \"2021-07-12T23:06:58\"}, {\"id_x\": 151, \"status\": \"P\", \"attendanceSessionId\": 10, \"userId\": 105, \"id_y\": 1057, \"activity\": \"Accessed Session 3 - Starter Files from Intro to Game Dev with Unity repo [access:dd9df1d2f3c::rrtGJAd2ae1e]\", \"lastName\": \"Oksal\", \"title\": \"They/Them\", \"isSuperUser\": 0, \"lastLogin\": \"2021-07-12T23:06:58\"}, {\"id_x\": 151, \"status\": \"P\", \"attendanceSessionId\": 10, \"userId\": 105, \"id_y\": 1067, \"activity\": \"Logged in\", \"lastName\": \"Oksal\", \"title\": \"They/Them\", \"isSuperUser\": 0, \"lastLogin\": \"2021-07-12T23:06:58\"}, {\"id_x\": 151, \"status\": \"P\", \"attendanceSessionId\": 10, \"userId\": 105, \"id_y\": 1069, \"activity\": \"Accessed Session 5 - Starter Files from Intro to Game Dev with Unity repo [access:3aadbfd9eca::rrtGJAd2ae1e]\", \"lastName\": \"Oksal\", \"title\": \"They/Them\", \"isSuperUser\": 0, \"lastLogin\": \"2021-07-12T23:06:58\"}, {\"id_x\": 151, \"status\": \"P\", \"attendanceSessionId\": 10, \"userId\": 105, \"id_y\": 1079, \"activity\": \"Accessed Session 5 - Assets from Intro to Game Dev with Unity repo [access:141012aa424::rrtGJAd2ae1e]\", \"lastName\": \"Oksal\", \"title\": \"They/Them\", \"isSuperUser\": 0, \"lastLogin\": \"2021-07-12T23:06:58\"}, {\"id_x\": 151, \"status\": \"P\", \"attendanceSessionId\": 10, \"userId\": 105, \"id_y\": 1104, \"activity\": \"Logged in\", \"lastName\": \"Oksal\", \"title\": \"They/Them\", \"isSuperUser\": 0, \"lastLogin\": \"2021-07-12T23:06:58\"}, {\"id_x\": 151, \"status\": \"P\", \"attendanceSessionId\": 10, \"userId\": 105, \"id_y\": 1105, \"activity\": \"Accessed Session 6 - Starter Files from Intro to Game Dev with Unity repo [access:4ff849da461::rrtGJAd2ae1e]\", \"lastName\": \"Oksal\", \"title\": \"They/Them\", \"isSuperUser\": 0, \"lastLogin\": \"2021-07-12T23:06:58\"}, {\"id_x\": 151, \"status\": \"P\", \"attendanceSessionId\": 10, \"userId\": 105, \"id_y\": 1335, \"activity\": \"Logged in\", \"lastName\": \"Oksal\", \"title\": \"They/Them\", \"isSuperUser\": 0, \"lastLogin\": \"2021-07-12T23:06:58\"}, {\"id_x\": 151, \"status\": \"P\", \"attendanceSessionId\": 10, \"userId\": 105, \"id_y\": 1336, \"activity\": \"Logged in\", \"lastName\": \"Oksal\", \"title\": \"They/Them\", \"isSuperUser\": 0, \"lastLogin\": \"2021-07-12T23:06:58\"}, {\"id_x\": 151, \"status\": \"P\", \"attendanceSessionId\": 10, \"userId\": 105, \"id_y\": 1337, \"activity\": \"Logged in\", \"lastName\": \"Oksal\", \"title\": \"They/Them\", \"isSuperUser\": 0, \"lastLogin\": \"2021-07-12T23:06:58\"}, {\"id_x\": 151, \"status\": \"P\", \"attendanceSessionId\": 10, \"userId\": 105, \"id_y\": 1338, \"activity\": \"Enrolled onto Programming Fundamentals\", \"lastName\": \"Oksal\", \"title\": \"They/Them\", \"isSuperUser\": 0, \"lastLogin\": \"2021-07-12T23:06:58\"}, {\"id_x\": 151, \"status\": \"P\", \"attendanceSessionId\": 10, \"userId\": 105, \"id_y\": 1368, \"activity\": \"Logged in\", \"lastName\": \"Oksal\", \"title\": \"They/Them\", \"isSuperUser\": 0, \"lastLogin\": \"2021-07-12T23:06:58\"}, {\"id_x\": 151, \"status\": \"P\", \"attendanceSessionId\": 10, \"userId\": 105, \"id_y\": 1371, \"activity\": \"Logged in\", \"lastName\": \"Oksal\", \"title\": \"They/Them\", \"isSuperUser\": 0, \"lastLogin\": \"2021-07-12T23:06:58\"}, {\"id_x\": 151, \"status\": \"P\", \"attendanceSessionId\": 10, \"userId\": 105, \"id_y\": 1418, \"activity\": \"Logged in\", \"lastName\": \"Oksal\", \"title\": \"They/Them\", \"isSuperUser\": 0, \"lastLogin\": \"2021-07-12T23:06:58\"}, {\"id_x\": 39, \"status\": \"P\", \"attendanceSessionId\": 1, \"userId\": 106, \"id_y\": 1028, \"activity\": \"Logged in\", \"lastName\": \"Ferreira\", \"title\": \"They/Them\", \"isSuperUser\": 0, \"lastLogin\": \"2021-05-04T13:02:17\"}, {\"id_x\": 39, \"status\": \"P\", \"attendanceSessionId\": 1, \"userId\": 106, \"id_y\": 1029, \"activity\": \"Accessed Session 4 - Starter Files from Intro to Game Dev with Unity repo\", \"lastName\": \"Ferreira\", \"title\": \"They/Them\", \"isSuperUser\": 0, \"lastLogin\": \"2021-05-04T13:02:17\"}, {\"id_x\": 39, \"status\": \"P\", \"attendanceSessionId\": 1, \"userId\": 106, \"id_y\": 1030, \"activity\": \"Accessed Session 3 Recap from Intro to Game Dev with Unity repo\", \"lastName\": \"Ferreira\", \"title\": \"They/Them\", \"isSuperUser\": 0, \"lastLogin\": \"2021-05-04T13:02:17\"}, {\"id_x\": 39, \"status\": \"P\", \"attendanceSessionId\": 1, \"userId\": 106, \"id_y\": 1091, \"activity\": \"Logged in\", \"lastName\": \"Ferreira\", \"title\": \"They/Them\", \"isSuperUser\": 0, \"lastLogin\": \"2021-05-04T13:02:17\"}, {\"id_x\": 39, \"status\": \"P\", \"attendanceSessionId\": 1, \"userId\": 106, \"id_y\": 1092, \"activity\": \"Accessed Session 5 - Assets from Intro to Game Dev with Unity repo [access:141012aa424::rrtGJAd2ae1e]\", \"lastName\": \"Ferreira\", \"title\": \"They/Them\", \"isSuperUser\": 0, \"lastLogin\": \"2021-05-04T13:02:17\"}, {\"id_x\": 39, \"status\": \"P\", \"attendanceSessionId\": 1, \"userId\": 106, \"id_y\": 1093, \"activity\": \"Accessed Session 5 - Starter Files from Intro to Game Dev with Unity repo [access:3aadbfd9eca::rrtGJAd2ae1e]\", \"lastName\": \"Ferreira\", \"title\": \"They/Them\", \"isSuperUser\": 0, \"lastLogin\": \"2021-05-04T13:02:17\"}, {\"id_x\": 39, \"status\": \"P\", \"attendanceSessionId\": 1, \"userId\": 106, \"id_y\": 1094, \"activity\": \"Accessed Session Four Recap from Intro to Game Dev with Unity repo [access:b4aec5f066b::rrtGJAd2ae1e]\", \"lastName\": \"Ferreira\", \"title\": \"They/Them\", \"isSuperUser\": 0, \"lastLogin\": \"2021-05-04T13:02:17\"}, {\"id_x\": 39, \"status\": \"P\", \"attendanceSessionId\": 1, \"userId\": 106, \"id_y\": 1129, \"activity\": \"Logged in\", \"lastName\": \"Ferreira\", \"title\": \"They/Them\", \"isSuperUser\": 0, \"lastLogin\": \"2021-05-04T13:02:17\"}, {\"id_x\": 39, \"status\": \"P\", \"attendanceSessionId\": 1, \"userId\": 106, \"id_y\": 1130, \"activity\": \"Accessed Session 6 - Starter Files from Intro to Game Dev with Unity repo [access:4ff849da461::rrtGJAd2ae1e]\", \"lastName\": \"Ferreira\", \"title\": \"They/Them\", \"isSuperUser\": 0, \"lastLogin\": \"2021-05-04T13:02:17\"}, {\"id_x\": 39, \"status\": \"P\", \"attendanceSessionId\": 1, \"userId\": 106, \"id_y\": 1131, \"activity\": \"Accessed Session 6 Recap from Intro to Game Dev with Unity repo [access:1d9bec2ad95::rrtGJAd2ae1e]\", \"lastName\": \"Ferreira\", \"title\": \"They/Them\", \"isSuperUser\": 0, \"lastLogin\": \"2021-05-04T13:02:17\"}, {\"id_x\": 39, \"status\": \"P\", \"attendanceSessionId\": 1, \"userId\": 106, \"id_y\": 1132, \"activity\": \"Logged in\", \"lastName\": \"Ferreira\", \"title\": \"They/Them\", \"isSuperUser\": 0, \"lastLogin\": \"2021-05-04T13:02:17\"}, {\"id_x\": 39, \"status\": \"P\", \"attendanceSessionId\": 1, \"userId\": 106, \"id_y\": 1133, \"activity\": \"Accessed Session 5 Recap from Intro to Game Dev with Unity repo [access:f2ec33fafc6::rrtGJAd2ae1e]\", \"lastName\": \"Ferreira\", \"title\": \"They/Them\", \"isSuperUser\": 0, \"lastLogin\": \"2021-05-04T13:02:17\"}, {\"id_x\": 39, \"status\": \"P\", \"attendanceSessionId\": 1, \"userId\": 106, \"id_y\": 1202, \"activity\": \"Logged in\", \"lastName\": \"Ferreira\", \"title\": \"They/Them\", \"isSuperUser\": 0, \"lastLogin\": \"2021-05-04T13:02:17\"}, {\"id_x\": 39, \"status\": \"P\", \"attendanceSessionId\": 1, \"userId\": 106, \"id_y\": 1203, \"activity\": \"Accessed Session 7 - Starter Files from Intro to Game Dev with Unity repo [access:0274231c583::rrtGJAd2ae1e]\", \"lastName\": \"Ferreira\", \"title\": \"They/Them\", \"isSuperUser\": 0, \"lastLogin\": \"2021-05-04T13:02:17\"}, {\"id_x\": 39, \"status\": \"P\", \"attendanceSessionId\": 1, \"userId\": 106, \"id_y\": 1204, \"activity\": \"Accessed Session 7 Recap from Intro to Game Dev with Unity repo [access:f808a2f41b5::rrtGJAd2ae1e]\", \"lastName\": \"Ferreira\", \"title\": \"They/Them\", \"isSuperUser\": 0, \"lastLogin\": \"2021-05-04T13:02:17\"}, {\"id_x\": 39, \"status\": \"P\", \"attendanceSessionId\": 1, \"userId\": 106, \"id_y\": 1212, \"activity\": \"Logged in\", \"lastName\": \"Ferreira\", \"title\": \"They/Them\", \"isSuperUser\": 0, \"lastLogin\": \"2021-05-04T13:02:17\"}, {\"id_x\": 39, \"status\": \"P\", \"attendanceSessionId\": 1, \"userId\": 106, \"id_y\": 1213, \"activity\": \"Accessed Session 8 - Starter Files from Intro to Game Dev with Unity repo [access:1d14e303b59::rrtGJAd2ae1e]\", \"lastName\": \"Ferreira\", \"title\": \"They/Them\", \"isSuperUser\": 0, \"lastLogin\": \"2021-05-04T13:02:17\"}, {\"id_x\": 39, \"status\": \"P\", \"attendanceSessionId\": 1, \"userId\": 106, \"id_y\": 1214, \"activity\": \"Accessed Session 7 Recap from Intro to Game Dev with Unity repo [access:f808a2f41b5::rrtGJAd2ae1e]\", \"lastName\": \"Ferreira\", \"title\": \"They/Them\", \"isSuperUser\": 0, \"lastLogin\": \"2021-05-04T13:02:17\"}, {\"id_x\": 39, \"status\": \"P\", \"attendanceSessionId\": 1, \"userId\": 106, \"id_y\": 1215, \"activity\": \"Accessed Session 7 Recap from Intro to Game Dev with Unity repo [access:f808a2f41b5::rrtGJAd2ae1e]\", \"lastName\": \"Ferreira\", \"title\": \"They/Them\", \"isSuperUser\": 0, \"lastLogin\": \"2021-05-04T13:02:17\"}, {\"id_x\": 39, \"status\": \"P\", \"attendanceSessionId\": 1, \"userId\": 106, \"id_y\": 1270, \"activity\": \"Logged in\", \"lastName\": \"Ferreira\", \"title\": \"They/Them\", \"isSuperUser\": 0, \"lastLogin\": \"2021-05-04T13:02:17\"}, {\"id_x\": 39, \"status\": \"P\", \"attendanceSessionId\": 1, \"userId\": 106, \"id_y\": 1271, \"activity\": \"Logged in\", \"lastName\": \"Ferreira\", \"title\": \"They/Them\", \"isSuperUser\": 0, \"lastLogin\": \"2021-05-04T13:02:17\"}, {\"id_x\": 39, \"status\": \"P\", \"attendanceSessionId\": 1, \"userId\": 106, \"id_y\": 1272, \"activity\": \"Logged in\", \"lastName\": \"Ferreira\", \"title\": \"They/Them\", \"isSuperUser\": 0, \"lastLogin\": \"2021-05-04T13:02:17\"}, {\"id_x\": 39, \"status\": \"P\", \"attendanceSessionId\": 1, \"userId\": 106, \"id_y\": 1273, \"activity\": \"Logged in\", \"lastName\": \"Ferreira\", \"title\": \"They/Them\", \"isSuperUser\": 0, \"lastLogin\": \"2021-05-04T13:02:17\"}, {\"id_x\": 44, \"status\": \"P\", \"attendanceSessionId\": 2, \"userId\": 106, \"id_y\": 1028, \"activity\": \"Logged in\", \"lastName\": \"Ferreira\", \"title\": \"They/Them\", \"isSuperUser\": 0, \"lastLogin\": \"2021-05-04T13:02:17\"}, {\"id_x\": 44, \"status\": \"P\", \"attendanceSessionId\": 2, \"userId\": 106, \"id_y\": 1029, \"activity\": \"Accessed Session 4 - Starter Files from Intro to Game Dev with Unity repo\", \"lastName\": \"Ferreira\", \"title\": \"They/Them\", \"isSuperUser\": 0, \"lastLogin\": \"2021-05-04T13:02:17\"}, {\"id_x\": 44, \"status\": \"P\", \"attendanceSessionId\": 2, \"userId\": 106, \"id_y\": 1030, \"activity\": \"Accessed Session 3 Recap from Intro to Game Dev with Unity repo\", \"lastName\": \"Ferreira\", \"title\": \"They/Them\", \"isSuperUser\": 0, \"lastLogin\": \"2021-05-04T13:02:17\"}, {\"id_x\": 44, \"status\": \"P\", \"attendanceSessionId\": 2, \"userId\": 106, \"id_y\": 1091, \"activity\": \"Logged in\", \"lastName\": \"Ferreira\", \"title\": \"They/Them\", \"isSuperUser\": 0, \"lastLogin\": \"2021-05-04T13:02:17\"}, {\"id_x\": 44, \"status\": \"P\", \"attendanceSessionId\": 2, \"userId\": 106, \"id_y\": 1092, \"activity\": \"Accessed Session 5 - Assets from Intro to Game Dev with Unity repo [access:141012aa424::rrtGJAd2ae1e]\", \"lastName\": \"Ferreira\", \"title\": \"They/Them\", \"isSuperUser\": 0, \"lastLogin\": \"2021-05-04T13:02:17\"}, {\"id_x\": 44, \"status\": \"P\", \"attendanceSessionId\": 2, \"userId\": 106, \"id_y\": 1093, \"activity\": \"Accessed Session 5 - Starter Files from Intro to Game Dev with Unity repo [access:3aadbfd9eca::rrtGJAd2ae1e]\", \"lastName\": \"Ferreira\", \"title\": \"They/Them\", \"isSuperUser\": 0, \"lastLogin\": \"2021-05-04T13:02:17\"}, {\"id_x\": 44, \"status\": \"P\", \"attendanceSessionId\": 2, \"userId\": 106, \"id_y\": 1094, \"activity\": \"Accessed Session Four Recap from Intro to Game Dev with Unity repo [access:b4aec5f066b::rrtGJAd2ae1e]\", \"lastName\": \"Ferreira\", \"title\": \"They/Them\", \"isSuperUser\": 0, \"lastLogin\": \"2021-05-04T13:02:17\"}, {\"id_x\": 44, \"status\": \"P\", \"attendanceSessionId\": 2, \"userId\": 106, \"id_y\": 1129, \"activity\": \"Logged in\", \"lastName\": \"Ferreira\", \"title\": \"They/Them\", \"isSuperUser\": 0, \"lastLogin\": \"2021-05-04T13:02:17\"}, {\"id_x\": 44, \"status\": \"P\", \"attendanceSessionId\": 2, \"userId\": 106, \"id_y\": 1130, \"activity\": \"Accessed Session 6 - Starter Files from Intro to Game Dev with Unity repo [access:4ff849da461::rrtGJAd2ae1e]\", \"lastName\": \"Ferreira\", \"title\": \"They/Them\", \"isSuperUser\": 0, \"lastLogin\": \"2021-05-04T13:02:17\"}, {\"id_x\": 44, \"status\": \"P\", \"attendanceSessionId\": 2, \"userId\": 106, \"id_y\": 1131, \"activity\": \"Accessed Session 6 Recap from Intro to Game Dev with Unity repo [access:1d9bec2ad95::rrtGJAd2ae1e]\", \"lastName\": \"Ferreira\", \"title\": \"They/Them\", \"isSuperUser\": 0, \"lastLogin\": \"2021-05-04T13:02:17\"}, {\"id_x\": 44, \"status\": \"P\", \"attendanceSessionId\": 2, \"userId\": 106, \"id_y\": 1132, \"activity\": \"Logged in\", \"lastName\": \"Ferreira\", \"title\": \"They/Them\", \"isSuperUser\": 0, \"lastLogin\": \"2021-05-04T13:02:17\"}, {\"id_x\": 44, \"status\": \"P\", \"attendanceSessionId\": 2, \"userId\": 106, \"id_y\": 1133, \"activity\": \"Accessed Session 5 Recap from Intro to Game Dev with Unity repo [access:f2ec33fafc6::rrtGJAd2ae1e]\", \"lastName\": \"Ferreira\", \"title\": \"They/Them\", \"isSuperUser\": 0, \"lastLogin\": \"2021-05-04T13:02:17\"}, {\"id_x\": 44, \"status\": \"P\", \"attendanceSessionId\": 2, \"userId\": 106, \"id_y\": 1202, \"activity\": \"Logged in\", \"lastName\": \"Ferreira\", \"title\": \"They/Them\", \"isSuperUser\": 0, \"lastLogin\": \"2021-05-04T13:02:17\"}, {\"id_x\": 44, \"status\": \"P\", \"attendanceSessionId\": 2, \"userId\": 106, \"id_y\": 1203, \"activity\": \"Accessed Session 7 - Starter Files from Intro to Game Dev with Unity repo [access:0274231c583::rrtGJAd2ae1e]\", \"lastName\": \"Ferreira\", \"title\": \"They/Them\", \"isSuperUser\": 0, \"lastLogin\": \"2021-05-04T13:02:17\"}, {\"id_x\": 44, \"status\": \"P\", \"attendanceSessionId\": 2, \"userId\": 106, \"id_y\": 1204, \"activity\": \"Accessed Session 7 Recap from Intro to Game Dev with Unity repo [access:f808a2f41b5::rrtGJAd2ae1e]\", \"lastName\": \"Ferreira\", \"title\": \"They/Them\", \"isSuperUser\": 0, \"lastLogin\": \"2021-05-04T13:02:17\"}, {\"id_x\": 44, \"status\": \"P\", \"attendanceSessionId\": 2, \"userId\": 106, \"id_y\": 1212, \"activity\": \"Logged in\", \"lastName\": \"Ferreira\", \"title\": \"They/Them\", \"isSuperUser\": 0, \"lastLogin\": \"2021-05-04T13:02:17\"}, {\"id_x\": 44, \"status\": \"P\", \"attendanceSessionId\": 2, \"userId\": 106, \"id_y\": 1213, \"activity\": \"Accessed Session 8 - Starter Files from Intro to Game Dev with Unity repo [access:1d14e303b59::rrtGJAd2ae1e]\", \"lastName\": \"Ferreira\", \"title\": \"They/Them\", \"isSuperUser\": 0, \"lastLogin\": \"2021-05-04T13:02:17\"}, {\"id_x\": 44, \"status\": \"P\", \"attendanceSessionId\": 2, \"userId\": 106, \"id_y\": 1214, \"activity\": \"Accessed Session 7 Recap from Intro to Game Dev with Unity repo [access:f808a2f41b5::rrtGJAd2ae1e]\", \"lastName\": \"Ferreira\", \"title\": \"They/Them\", \"isSuperUser\": 0, \"lastLogin\": \"2021-05-04T13:02:17\"}, {\"id_x\": 44, \"status\": \"P\", \"attendanceSessionId\": 2, \"userId\": 106, \"id_y\": 1215, \"activity\": \"Accessed Session 7 Recap from Intro to Game Dev with Unity repo [access:f808a2f41b5::rrtGJAd2ae1e]\", \"lastName\": \"Ferreira\", \"title\": \"They/Them\", \"isSuperUser\": 0, \"lastLogin\": \"2021-05-04T13:02:17\"}, {\"id_x\": 44, \"status\": \"P\", \"attendanceSessionId\": 2, \"userId\": 106, \"id_y\": 1270, \"activity\": \"Logged in\", \"lastName\": \"Ferreira\", \"title\": \"They/Them\", \"isSuperUser\": 0, \"lastLogin\": \"2021-05-04T13:02:17\"}, {\"id_x\": 44, \"status\": \"P\", \"attendanceSessionId\": 2, \"userId\": 106, \"id_y\": 1271, \"activity\": \"Logged in\", \"lastName\": \"Ferreira\", \"title\": \"They/Them\", \"isSuperUser\": 0, \"lastLogin\": \"2021-05-04T13:02:17\"}, {\"id_x\": 44, \"status\": \"P\", \"attendanceSessionId\": 2, \"userId\": 106, \"id_y\": 1272, \"activity\": \"Logged in\", \"lastName\": \"Ferreira\", \"title\": \"They/Them\", \"isSuperUser\": 0, \"lastLogin\": \"2021-05-04T13:02:17\"}, {\"id_x\": 44, \"status\": \"P\", \"attendanceSessionId\": 2, \"userId\": 106, \"id_y\": 1273, \"activity\": \"Logged in\", \"lastName\": \"Ferreira\", \"title\": \"They/Them\", \"isSuperUser\": 0, \"lastLogin\": \"2021-05-04T13:02:17\"}, {\"id_x\": 62, \"status\": \"P\", \"attendanceSessionId\": 3, \"userId\": 106, \"id_y\": 1028, \"activity\": \"Logged in\", \"lastName\": \"Ferreira\", \"title\": \"They/Them\", \"isSuperUser\": 0, \"lastLogin\": \"2021-05-04T13:02:17\"}, {\"id_x\": 62, \"status\": \"P\", \"attendanceSessionId\": 3, \"userId\": 106, \"id_y\": 1029, \"activity\": \"Accessed Session 4 - Starter Files from Intro to Game Dev with Unity repo\", \"lastName\": \"Ferreira\", \"title\": \"They/Them\", \"isSuperUser\": 0, \"lastLogin\": \"2021-05-04T13:02:17\"}, {\"id_x\": 62, \"status\": \"P\", \"attendanceSessionId\": 3, \"userId\": 106, \"id_y\": 1030, \"activity\": \"Accessed Session 3 Recap from Intro to Game Dev with Unity repo\", \"lastName\": \"Ferreira\", \"title\": \"They/Them\", \"isSuperUser\": 0, \"lastLogin\": \"2021-05-04T13:02:17\"}, {\"id_x\": 62, \"status\": \"P\", \"attendanceSessionId\": 3, \"userId\": 106, \"id_y\": 1091, \"activity\": \"Logged in\", \"lastName\": \"Ferreira\", \"title\": \"They/Them\", \"isSuperUser\": 0, \"lastLogin\": \"2021-05-04T13:02:17\"}, {\"id_x\": 62, \"status\": \"P\", \"attendanceSessionId\": 3, \"userId\": 106, \"id_y\": 1092, \"activity\": \"Accessed Session 5 - Assets from Intro to Game Dev with Unity repo [access:141012aa424::rrtGJAd2ae1e]\", \"lastName\": \"Ferreira\", \"title\": \"They/Them\", \"isSuperUser\": 0, \"lastLogin\": \"2021-05-04T13:02:17\"}, {\"id_x\": 62, \"status\": \"P\", \"attendanceSessionId\": 3, \"userId\": 106, \"id_y\": 1093, \"activity\": \"Accessed Session 5 - Starter Files from Intro to Game Dev with Unity repo [access:3aadbfd9eca::rrtGJAd2ae1e]\", \"lastName\": \"Ferreira\", \"title\": \"They/Them\", \"isSuperUser\": 0, \"lastLogin\": \"2021-05-04T13:02:17\"}, {\"id_x\": 62, \"status\": \"P\", \"attendanceSessionId\": 3, \"userId\": 106, \"id_y\": 1094, \"activity\": \"Accessed Session Four Recap from Intro to Game Dev with Unity repo [access:b4aec5f066b::rrtGJAd2ae1e]\", \"lastName\": \"Ferreira\", \"title\": \"They/Them\", \"isSuperUser\": 0, \"lastLogin\": \"2021-05-04T13:02:17\"}, {\"id_x\": 62, \"status\": \"P\", \"attendanceSessionId\": 3, \"userId\": 106, \"id_y\": 1129, \"activity\": \"Logged in\", \"lastName\": \"Ferreira\", \"title\": \"They/Them\", \"isSuperUser\": 0, \"lastLogin\": \"2021-05-04T13:02:17\"}, {\"id_x\": 62, \"status\": \"P\", \"attendanceSessionId\": 3, \"userId\": 106, \"id_y\": 1130, \"activity\": \"Accessed Session 6 - Starter Files from Intro to Game Dev with Unity repo [access:4ff849da461::rrtGJAd2ae1e]\", \"lastName\": \"Ferreira\", \"title\": \"They/Them\", \"isSuperUser\": 0, \"lastLogin\": \"2021-05-04T13:02:17\"}, {\"id_x\": 62, \"status\": \"P\", \"attendanceSessionId\": 3, \"userId\": 106, \"id_y\": 1131, \"activity\": \"Accessed Session 6 Recap from Intro to Game Dev with Unity repo [access:1d9bec2ad95::rrtGJAd2ae1e]\", \"lastName\": \"Ferreira\", \"title\": \"They/Them\", \"isSuperUser\": 0, \"lastLogin\": \"2021-05-04T13:02:17\"}, {\"id_x\": 62, \"status\": \"P\", \"attendanceSessionId\": 3, \"userId\": 106, \"id_y\": 1132, \"activity\": \"Logged in\", \"lastName\": \"Ferreira\", \"title\": \"They/Them\", \"isSuperUser\": 0, \"lastLogin\": \"2021-05-04T13:02:17\"}, {\"id_x\": 62, \"status\": \"P\", \"attendanceSessionId\": 3, \"userId\": 106, \"id_y\": 1133, \"activity\": \"Accessed Session 5 Recap from Intro to Game Dev with Unity repo [access:f2ec33fafc6::rrtGJAd2ae1e]\", \"lastName\": \"Ferreira\", \"title\": \"They/Them\", \"isSuperUser\": 0, \"lastLogin\": \"2021-05-04T13:02:17\"}, {\"id_x\": 62, \"status\": \"P\", \"attendanceSessionId\": 3, \"userId\": 106, \"id_y\": 1202, \"activity\": \"Logged in\", \"lastName\": \"Ferreira\", \"title\": \"They/Them\", \"isSuperUser\": 0, \"lastLogin\": \"2021-05-04T13:02:17\"}, {\"id_x\": 62, \"status\": \"P\", \"attendanceSessionId\": 3, \"userId\": 106, \"id_y\": 1203, \"activity\": \"Accessed Session 7 - Starter Files from Intro to Game Dev with Unity repo [access:0274231c583::rrtGJAd2ae1e]\", \"lastName\": \"Ferreira\", \"title\": \"They/Them\", \"isSuperUser\": 0, \"lastLogin\": \"2021-05-04T13:02:17\"}, {\"id_x\": 62, \"status\": \"P\", \"attendanceSessionId\": 3, \"userId\": 106, \"id_y\": 1204, \"activity\": \"Accessed Session 7 Recap from Intro to Game Dev with Unity repo [access:f808a2f41b5::rrtGJAd2ae1e]\", \"lastName\": \"Ferreira\", \"title\": \"They/Them\", \"isSuperUser\": 0, \"lastLogin\": \"2021-05-04T13:02:17\"}, {\"id_x\": 62, \"status\": \"P\", \"attendanceSessionId\": 3, \"userId\": 106, \"id_y\": 1212, \"activity\": \"Logged in\", \"lastName\": \"Ferreira\", \"title\": \"They/Them\", \"isSuperUser\": 0, \"lastLogin\": \"2021-05-04T13:02:17\"}, {\"id_x\": 62, \"status\": \"P\", \"attendanceSessionId\": 3, \"userId\": 106, \"id_y\": 1213, \"activity\": \"Accessed Session 8 - Starter Files from Intro to Game Dev with Unity repo [access:1d14e303b59::rrtGJAd2ae1e]\", \"lastName\": \"Ferreira\", \"title\": \"They/Them\", \"isSuperUser\": 0, \"lastLogin\": \"2021-05-04T13:02:17\"}, {\"id_x\": 62, \"status\": \"P\", \"attendanceSessionId\": 3, \"userId\": 106, \"id_y\": 1214, \"activity\": \"Accessed Session 7 Recap from Intro to Game Dev with Unity repo [access:f808a2f41b5::rrtGJAd2ae1e]\", \"lastName\": \"Ferreira\", \"title\": \"They/Them\", \"isSuperUser\": 0, \"lastLogin\": \"2021-05-04T13:02:17\"}, {\"id_x\": 62, \"status\": \"P\", \"attendanceSessionId\": 3, \"userId\": 106, \"id_y\": 1215, \"activity\": \"Accessed Session 7 Recap from Intro to Game Dev with Unity repo [access:f808a2f41b5::rrtGJAd2ae1e]\", \"lastName\": \"Ferreira\", \"title\": \"They/Them\", \"isSuperUser\": 0, \"lastLogin\": \"2021-05-04T13:02:17\"}, {\"id_x\": 62, \"status\": \"P\", \"attendanceSessionId\": 3, \"userId\": 106, \"id_y\": 1270, \"activity\": \"Logged in\", \"lastName\": \"Ferreira\", \"title\": \"They/Them\", \"isSuperUser\": 0, \"lastLogin\": \"2021-05-04T13:02:17\"}, {\"id_x\": 62, \"status\": \"P\", \"attendanceSessionId\": 3, \"userId\": 106, \"id_y\": 1271, \"activity\": \"Logged in\", \"lastName\": \"Ferreira\", \"title\": \"They/Them\", \"isSuperUser\": 0, \"lastLogin\": \"2021-05-04T13:02:17\"}, {\"id_x\": 62, \"status\": \"P\", \"attendanceSessionId\": 3, \"userId\": 106, \"id_y\": 1272, \"activity\": \"Logged in\", \"lastName\": \"Ferreira\", \"title\": \"They/Them\", \"isSuperUser\": 0, \"lastLogin\": \"2021-05-04T13:02:17\"}, {\"id_x\": 62, \"status\": \"P\", \"attendanceSessionId\": 3, \"userId\": 106, \"id_y\": 1273, \"activity\": \"Logged in\", \"lastName\": \"Ferreira\", \"title\": \"They/Them\", \"isSuperUser\": 0, \"lastLogin\": \"2021-05-04T13:02:17\"}, {\"id_x\": 84, \"status\": \"A\", \"attendanceSessionId\": 4, \"userId\": 106, \"id_y\": 1028, \"activity\": \"Logged in\", \"lastName\": \"Ferreira\", \"title\": \"They/Them\", \"isSuperUser\": 0, \"lastLogin\": \"2021-05-04T13:02:17\"}, {\"id_x\": 84, \"status\": \"A\", \"attendanceSessionId\": 4, \"userId\": 106, \"id_y\": 1029, \"activity\": \"Accessed Session 4 - Starter Files from Intro to Game Dev with Unity repo\", \"lastName\": \"Ferreira\", \"title\": \"They/Them\", \"isSuperUser\": 0, \"lastLogin\": \"2021-05-04T13:02:17\"}, {\"id_x\": 84, \"status\": \"A\", \"attendanceSessionId\": 4, \"userId\": 106, \"id_y\": 1030, \"activity\": \"Accessed Session 3 Recap from Intro to Game Dev with Unity repo\", \"lastName\": \"Ferreira\", \"title\": \"They/Them\", \"isSuperUser\": 0, \"lastLogin\": \"2021-05-04T13:02:17\"}, {\"id_x\": 84, \"status\": \"A\", \"attendanceSessionId\": 4, \"userId\": 106, \"id_y\": 1091, \"activity\": \"Logged in\", \"lastName\": \"Ferreira\", \"title\": \"They/Them\", \"isSuperUser\": 0, \"lastLogin\": \"2021-05-04T13:02:17\"}, {\"id_x\": 84, \"status\": \"A\", \"attendanceSessionId\": 4, \"userId\": 106, \"id_y\": 1092, \"activity\": \"Accessed Session 5 - Assets from Intro to Game Dev with Unity repo [access:141012aa424::rrtGJAd2ae1e]\", \"lastName\": \"Ferreira\", \"title\": \"They/Them\", \"isSuperUser\": 0, \"lastLogin\": \"2021-05-04T13:02:17\"}, {\"id_x\": 84, \"status\": \"A\", \"attendanceSessionId\": 4, \"userId\": 106, \"id_y\": 1093, \"activity\": \"Accessed Session 5 - Starter Files from Intro to Game Dev with Unity repo [access:3aadbfd9eca::rrtGJAd2ae1e]\", \"lastName\": \"Ferreira\", \"title\": \"They/Them\", \"isSuperUser\": 0, \"lastLogin\": \"2021-05-04T13:02:17\"}, {\"id_x\": 84, \"status\": \"A\", \"attendanceSessionId\": 4, \"userId\": 106, \"id_y\": 1094, \"activity\": \"Accessed Session Four Recap from Intro to Game Dev with Unity repo [access:b4aec5f066b::rrtGJAd2ae1e]\", \"lastName\": \"Ferreira\", \"title\": \"They/Them\", \"isSuperUser\": 0, \"lastLogin\": \"2021-05-04T13:02:17\"}, {\"id_x\": 84, \"status\": \"A\", \"attendanceSessionId\": 4, \"userId\": 106, \"id_y\": 1129, \"activity\": \"Logged in\", \"lastName\": \"Ferreira\", \"title\": \"They/Them\", \"isSuperUser\": 0, \"lastLogin\": \"2021-05-04T13:02:17\"}, {\"id_x\": 84, \"status\": \"A\", \"attendanceSessionId\": 4, \"userId\": 106, \"id_y\": 1130, \"activity\": \"Accessed Session 6 - Starter Files from Intro to Game Dev with Unity repo [access:4ff849da461::rrtGJAd2ae1e]\", \"lastName\": \"Ferreira\", \"title\": \"They/Them\", \"isSuperUser\": 0, \"lastLogin\": \"2021-05-04T13:02:17\"}, {\"id_x\": 84, \"status\": \"A\", \"attendanceSessionId\": 4, \"userId\": 106, \"id_y\": 1131, \"activity\": \"Accessed Session 6 Recap from Intro to Game Dev with Unity repo [access:1d9bec2ad95::rrtGJAd2ae1e]\", \"lastName\": \"Ferreira\", \"title\": \"They/Them\", \"isSuperUser\": 0, \"lastLogin\": \"2021-05-04T13:02:17\"}, {\"id_x\": 84, \"status\": \"A\", \"attendanceSessionId\": 4, \"userId\": 106, \"id_y\": 1132, \"activity\": \"Logged in\", \"lastName\": \"Ferreira\", \"title\": \"They/Them\", \"isSuperUser\": 0, \"lastLogin\": \"2021-05-04T13:02:17\"}, {\"id_x\": 84, \"status\": \"A\", \"attendanceSessionId\": 4, \"userId\": 106, \"id_y\": 1133, \"activity\": \"Accessed Session 5 Recap from Intro to Game Dev with Unity repo [access:f2ec33fafc6::rrtGJAd2ae1e]\", \"lastName\": \"Ferreira\", \"title\": \"They/Them\", \"isSuperUser\": 0, \"lastLogin\": \"2021-05-04T13:02:17\"}, {\"id_x\": 84, \"status\": \"A\", \"attendanceSessionId\": 4, \"userId\": 106, \"id_y\": 1202, \"activity\": \"Logged in\", \"lastName\": \"Ferreira\", \"title\": \"They/Them\", \"isSuperUser\": 0, \"lastLogin\": \"2021-05-04T13:02:17\"}, {\"id_x\": 84, \"status\": \"A\", \"attendanceSessionId\": 4, \"userId\": 106, \"id_y\": 1203, \"activity\": \"Accessed Session 7 - Starter Files from Intro to Game Dev with Unity repo [access:0274231c583::rrtGJAd2ae1e]\", \"lastName\": \"Ferreira\", \"title\": \"They/Them\", \"isSuperUser\": 0, \"lastLogin\": \"2021-05-04T13:02:17\"}, {\"id_x\": 84, \"status\": \"A\", \"attendanceSessionId\": 4, \"userId\": 106, \"id_y\": 1204, \"activity\": \"Accessed Session 7 Recap from Intro to Game Dev with Unity repo [access:f808a2f41b5::rrtGJAd2ae1e]\", \"lastName\": \"Ferreira\", \"title\": \"They/Them\", \"isSuperUser\": 0, \"lastLogin\": \"2021-05-04T13:02:17\"}, {\"id_x\": 84, \"status\": \"A\", \"attendanceSessionId\": 4, \"userId\": 106, \"id_y\": 1212, \"activity\": \"Logged in\", \"lastName\": \"Ferreira\", \"title\": \"They/Them\", \"isSuperUser\": 0, \"lastLogin\": \"2021-05-04T13:02:17\"}, {\"id_x\": 84, \"status\": \"A\", \"attendanceSessionId\": 4, \"userId\": 106, \"id_y\": 1213, \"activity\": \"Accessed Session 8 - Starter Files from Intro to Game Dev with Unity repo [access:1d14e303b59::rrtGJAd2ae1e]\", \"lastName\": \"Ferreira\", \"title\": \"They/Them\", \"isSuperUser\": 0, \"lastLogin\": \"2021-05-04T13:02:17\"}, {\"id_x\": 84, \"status\": \"A\", \"attendanceSessionId\": 4, \"userId\": 106, \"id_y\": 1214, \"activity\": \"Accessed Session 7 Recap from Intro to Game Dev with Unity repo [access:f808a2f41b5::rrtGJAd2ae1e]\", \"lastName\": \"Ferreira\", \"title\": \"They/Them\", \"isSuperUser\": 0, \"lastLogin\": \"2021-05-04T13:02:17\"}, {\"id_x\": 84, \"status\": \"A\", \"attendanceSessionId\": 4, \"userId\": 106, \"id_y\": 1215, \"activity\": \"Accessed Session 7 Recap from Intro to Game Dev with Unity repo [access:f808a2f41b5::rrtGJAd2ae1e]\", \"lastName\": \"Ferreira\", \"title\": \"They/Them\", \"isSuperUser\": 0, \"lastLogin\": \"2021-05-04T13:02:17\"}, {\"id_x\": 84, \"status\": \"A\", \"attendanceSessionId\": 4, \"userId\": 106, \"id_y\": 1270, \"activity\": \"Logged in\", \"lastName\": \"Ferreira\", \"title\": \"They/Them\", \"isSuperUser\": 0, \"lastLogin\": \"2021-05-04T13:02:17\"}, {\"id_x\": 84, \"status\": \"A\", \"attendanceSessionId\": 4, \"userId\": 106, \"id_y\": 1271, \"activity\": \"Logged in\", \"lastName\": \"Ferreira\", \"title\": \"They/Them\", \"isSuperUser\": 0, \"lastLogin\": \"2021-05-04T13:02:17\"}, {\"id_x\": 84, \"status\": \"A\", \"attendanceSessionId\": 4, \"userId\": 106, \"id_y\": 1272, \"activity\": \"Logged in\", \"lastName\": \"Ferreira\", \"title\": \"They/Them\", \"isSuperUser\": 0, \"lastLogin\": \"2021-05-04T13:02:17\"}, {\"id_x\": 84, \"status\": \"A\", \"attendanceSessionId\": 4, \"userId\": 106, \"id_y\": 1273, \"activity\": \"Logged in\", \"lastName\": \"Ferreira\", \"title\": \"They/Them\", \"isSuperUser\": 0, \"lastLogin\": \"2021-05-04T13:02:17\"}, {\"id_x\": 92, \"status\": \"A\", \"attendanceSessionId\": 5, \"userId\": 106, \"id_y\": 1028, \"activity\": \"Logged in\", \"lastName\": \"Ferreira\", \"title\": \"They/Them\", \"isSuperUser\": 0, \"lastLogin\": \"2021-05-04T13:02:17\"}, {\"id_x\": 92, \"status\": \"A\", \"attendanceSessionId\": 5, \"userId\": 106, \"id_y\": 1029, \"activity\": \"Accessed Session 4 - Starter Files from Intro to Game Dev with Unity repo\", \"lastName\": \"Ferreira\", \"title\": \"They/Them\", \"isSuperUser\": 0, \"lastLogin\": \"2021-05-04T13:02:17\"}, {\"id_x\": 92, \"status\": \"A\", \"attendanceSessionId\": 5, \"userId\": 106, \"id_y\": 1030, \"activity\": \"Accessed Session 3 Recap from Intro to Game Dev with Unity repo\", \"lastName\": \"Ferreira\", \"title\": \"They/Them\", \"isSuperUser\": 0, \"lastLogin\": \"2021-05-04T13:02:17\"}, {\"id_x\": 92, \"status\": \"A\", \"attendanceSessionId\": 5, \"userId\": 106, \"id_y\": 1091, \"activity\": \"Logged in\", \"lastName\": \"Ferreira\", \"title\": \"They/Them\", \"isSuperUser\": 0, \"lastLogin\": \"2021-05-04T13:02:17\"}, {\"id_x\": 92, \"status\": \"A\", \"attendanceSessionId\": 5, \"userId\": 106, \"id_y\": 1092, \"activity\": \"Accessed Session 5 - Assets from Intro to Game Dev with Unity repo [access:141012aa424::rrtGJAd2ae1e]\", \"lastName\": \"Ferreira\", \"title\": \"They/Them\", \"isSuperUser\": 0, \"lastLogin\": \"2021-05-04T13:02:17\"}, {\"id_x\": 92, \"status\": \"A\", \"attendanceSessionId\": 5, \"userId\": 106, \"id_y\": 1093, \"activity\": \"Accessed Session 5 - Starter Files from Intro to Game Dev with Unity repo [access:3aadbfd9eca::rrtGJAd2ae1e]\", \"lastName\": \"Ferreira\", \"title\": \"They/Them\", \"isSuperUser\": 0, \"lastLogin\": \"2021-05-04T13:02:17\"}, {\"id_x\": 92, \"status\": \"A\", \"attendanceSessionId\": 5, \"userId\": 106, \"id_y\": 1094, \"activity\": \"Accessed Session Four Recap from Intro to Game Dev with Unity repo [access:b4aec5f066b::rrtGJAd2ae1e]\", \"lastName\": \"Ferreira\", \"title\": \"They/Them\", \"isSuperUser\": 0, \"lastLogin\": \"2021-05-04T13:02:17\"}, {\"id_x\": 92, \"status\": \"A\", \"attendanceSessionId\": 5, \"userId\": 106, \"id_y\": 1129, \"activity\": \"Logged in\", \"lastName\": \"Ferreira\", \"title\": \"They/Them\", \"isSuperUser\": 0, \"lastLogin\": \"2021-05-04T13:02:17\"}, {\"id_x\": 92, \"status\": \"A\", \"attendanceSessionId\": 5, \"userId\": 106, \"id_y\": 1130, \"activity\": \"Accessed Session 6 - Starter Files from Intro to Game Dev with Unity repo [access:4ff849da461::rrtGJAd2ae1e]\", \"lastName\": \"Ferreira\", \"title\": \"They/Them\", \"isSuperUser\": 0, \"lastLogin\": \"2021-05-04T13:02:17\"}, {\"id_x\": 92, \"status\": \"A\", \"attendanceSessionId\": 5, \"userId\": 106, \"id_y\": 1131, \"activity\": \"Accessed Session 6 Recap from Intro to Game Dev with Unity repo [access:1d9bec2ad95::rrtGJAd2ae1e]\", \"lastName\": \"Ferreira\", \"title\": \"They/Them\", \"isSuperUser\": 0, \"lastLogin\": \"2021-05-04T13:02:17\"}, {\"id_x\": 92, \"status\": \"A\", \"attendanceSessionId\": 5, \"userId\": 106, \"id_y\": 1132, \"activity\": \"Logged in\", \"lastName\": \"Ferreira\", \"title\": \"They/Them\", \"isSuperUser\": 0, \"lastLogin\": \"2021-05-04T13:02:17\"}, {\"id_x\": 92, \"status\": \"A\", \"attendanceSessionId\": 5, \"userId\": 106, \"id_y\": 1133, \"activity\": \"Accessed Session 5 Recap from Intro to Game Dev with Unity repo [access:f2ec33fafc6::rrtGJAd2ae1e]\", \"lastName\": \"Ferreira\", \"title\": \"They/Them\", \"isSuperUser\": 0, \"lastLogin\": \"2021-05-04T13:02:17\"}, {\"id_x\": 92, \"status\": \"A\", \"attendanceSessionId\": 5, \"userId\": 106, \"id_y\": 1202, \"activity\": \"Logged in\", \"lastName\": \"Ferreira\", \"title\": \"They/Them\", \"isSuperUser\": 0, \"lastLogin\": \"2021-05-04T13:02:17\"}, {\"id_x\": 92, \"status\": \"A\", \"attendanceSessionId\": 5, \"userId\": 106, \"id_y\": 1203, \"activity\": \"Accessed Session 7 - Starter Files from Intro to Game Dev with Unity repo [access:0274231c583::rrtGJAd2ae1e]\", \"lastName\": \"Ferreira\", \"title\": \"They/Them\", \"isSuperUser\": 0, \"lastLogin\": \"2021-05-04T13:02:17\"}, {\"id_x\": 92, \"status\": \"A\", \"attendanceSessionId\": 5, \"userId\": 106, \"id_y\": 1204, \"activity\": \"Accessed Session 7 Recap from Intro to Game Dev with Unity repo [access:f808a2f41b5::rrtGJAd2ae1e]\", \"lastName\": \"Ferreira\", \"title\": \"They/Them\", \"isSuperUser\": 0, \"lastLogin\": \"2021-05-04T13:02:17\"}, {\"id_x\": 92, \"status\": \"A\", \"attendanceSessionId\": 5, \"userId\": 106, \"id_y\": 1212, \"activity\": \"Logged in\", \"lastName\": \"Ferreira\", \"title\": \"They/Them\", \"isSuperUser\": 0, \"lastLogin\": \"2021-05-04T13:02:17\"}, {\"id_x\": 92, \"status\": \"A\", \"attendanceSessionId\": 5, \"userId\": 106, \"id_y\": 1213, \"activity\": \"Accessed Session 8 - Starter Files from Intro to Game Dev with Unity repo [access:1d14e303b59::rrtGJAd2ae1e]\", \"lastName\": \"Ferreira\", \"title\": \"They/Them\", \"isSuperUser\": 0, \"lastLogin\": \"2021-05-04T13:02:17\"}, {\"id_x\": 92, \"status\": \"A\", \"attendanceSessionId\": 5, \"userId\": 106, \"id_y\": 1214, \"activity\": \"Accessed Session 7 Recap from Intro to Game Dev with Unity repo [access:f808a2f41b5::rrtGJAd2ae1e]\", \"lastName\": \"Ferreira\", \"title\": \"They/Them\", \"isSuperUser\": 0, \"lastLogin\": \"2021-05-04T13:02:17\"}, {\"id_x\": 92, \"status\": \"A\", \"attendanceSessionId\": 5, \"userId\": 106, \"id_y\": 1215, \"activity\": \"Accessed Session 7 Recap from Intro to Game Dev with Unity repo [access:f808a2f41b5::rrtGJAd2ae1e]\", \"lastName\": \"Ferreira\", \"title\": \"They/Them\", \"isSuperUser\": 0, \"lastLogin\": \"2021-05-04T13:02:17\"}, {\"id_x\": 92, \"status\": \"A\", \"attendanceSessionId\": 5, \"userId\": 106, \"id_y\": 1270, \"activity\": \"Logged in\", \"lastName\": \"Ferreira\", \"title\": \"They/Them\", \"isSuperUser\": 0, \"lastLogin\": \"2021-05-04T13:02:17\"}, {\"id_x\": 92, \"status\": \"A\", \"attendanceSessionId\": 5, \"userId\": 106, \"id_y\": 1271, \"activity\": \"Logged in\", \"lastName\": \"Ferreira\", \"title\": \"They/Them\", \"isSuperUser\": 0, \"lastLogin\": \"2021-05-04T13:02:17\"}, {\"id_x\": 92, \"status\": \"A\", \"attendanceSessionId\": 5, \"userId\": 106, \"id_y\": 1272, \"activity\": \"Logged in\", \"lastName\": \"Ferreira\", \"title\": \"They/Them\", \"isSuperUser\": 0, \"lastLogin\": \"2021-05-04T13:02:17\"}, {\"id_x\": 92, \"status\": \"A\", \"attendanceSessionId\": 5, \"userId\": 106, \"id_y\": 1273, \"activity\": \"Logged in\", \"lastName\": \"Ferreira\", \"title\": \"They/Them\", \"isSuperUser\": 0, \"lastLogin\": \"2021-05-04T13:02:17\"}, {\"id_x\": 102, \"status\": \"A\", \"attendanceSessionId\": 6, \"userId\": 106, \"id_y\": 1028, \"activity\": \"Logged in\", \"lastName\": \"Ferreira\", \"title\": \"They/Them\", \"isSuperUser\": 0, \"lastLogin\": \"2021-05-04T13:02:17\"}, {\"id_x\": 102, \"status\": \"A\", \"attendanceSessionId\": 6, \"userId\": 106, \"id_y\": 1029, \"activity\": \"Accessed Session 4 - Starter Files from Intro to Game Dev with Unity repo\", \"lastName\": \"Ferreira\", \"title\": \"They/Them\", \"isSuperUser\": 0, \"lastLogin\": \"2021-05-04T13:02:17\"}, {\"id_x\": 102, \"status\": \"A\", \"attendanceSessionId\": 6, \"userId\": 106, \"id_y\": 1030, \"activity\": \"Accessed Session 3 Recap from Intro to Game Dev with Unity repo\", \"lastName\": \"Ferreira\", \"title\": \"They/Them\", \"isSuperUser\": 0, \"lastLogin\": \"2021-05-04T13:02:17\"}, {\"id_x\": 102, \"status\": \"A\", \"attendanceSessionId\": 6, \"userId\": 106, \"id_y\": 1091, \"activity\": \"Logged in\", \"lastName\": \"Ferreira\", \"title\": \"They/Them\", \"isSuperUser\": 0, \"lastLogin\": \"2021-05-04T13:02:17\"}, {\"id_x\": 102, \"status\": \"A\", \"attendanceSessionId\": 6, \"userId\": 106, \"id_y\": 1092, \"activity\": \"Accessed Session 5 - Assets from Intro to Game Dev with Unity repo [access:141012aa424::rrtGJAd2ae1e]\", \"lastName\": \"Ferreira\", \"title\": \"They/Them\", \"isSuperUser\": 0, \"lastLogin\": \"2021-05-04T13:02:17\"}, {\"id_x\": 102, \"status\": \"A\", \"attendanceSessionId\": 6, \"userId\": 106, \"id_y\": 1093, \"activity\": \"Accessed Session 5 - Starter Files from Intro to Game Dev with Unity repo [access:3aadbfd9eca::rrtGJAd2ae1e]\", \"lastName\": \"Ferreira\", \"title\": \"They/Them\", \"isSuperUser\": 0, \"lastLogin\": \"2021-05-04T13:02:17\"}, {\"id_x\": 102, \"status\": \"A\", \"attendanceSessionId\": 6, \"userId\": 106, \"id_y\": 1094, \"activity\": \"Accessed Session Four Recap from Intro to Game Dev with Unity repo [access:b4aec5f066b::rrtGJAd2ae1e]\", \"lastName\": \"Ferreira\", \"title\": \"They/Them\", \"isSuperUser\": 0, \"lastLogin\": \"2021-05-04T13:02:17\"}, {\"id_x\": 102, \"status\": \"A\", \"attendanceSessionId\": 6, \"userId\": 106, \"id_y\": 1129, \"activity\": \"Logged in\", \"lastName\": \"Ferreira\", \"title\": \"They/Them\", \"isSuperUser\": 0, \"lastLogin\": \"2021-05-04T13:02:17\"}, {\"id_x\": 102, \"status\": \"A\", \"attendanceSessionId\": 6, \"userId\": 106, \"id_y\": 1130, \"activity\": \"Accessed Session 6 - Starter Files from Intro to Game Dev with Unity repo [access:4ff849da461::rrtGJAd2ae1e]\", \"lastName\": \"Ferreira\", \"title\": \"They/Them\", \"isSuperUser\": 0, \"lastLogin\": \"2021-05-04T13:02:17\"}, {\"id_x\": 102, \"status\": \"A\", \"attendanceSessionId\": 6, \"userId\": 106, \"id_y\": 1131, \"activity\": \"Accessed Session 6 Recap from Intro to Game Dev with Unity repo [access:1d9bec2ad95::rrtGJAd2ae1e]\", \"lastName\": \"Ferreira\", \"title\": \"They/Them\", \"isSuperUser\": 0, \"lastLogin\": \"2021-05-04T13:02:17\"}, {\"id_x\": 102, \"status\": \"A\", \"attendanceSessionId\": 6, \"userId\": 106, \"id_y\": 1132, \"activity\": \"Logged in\", \"lastName\": \"Ferreira\", \"title\": \"They/Them\", \"isSuperUser\": 0, \"lastLogin\": \"2021-05-04T13:02:17\"}, {\"id_x\": 102, \"status\": \"A\", \"attendanceSessionId\": 6, \"userId\": 106, \"id_y\": 1133, \"activity\": \"Accessed Session 5 Recap from Intro to Game Dev with Unity repo [access:f2ec33fafc6::rrtGJAd2ae1e]\", \"lastName\": \"Ferreira\", \"title\": \"They/Them\", \"isSuperUser\": 0, \"lastLogin\": \"2021-05-04T13:02:17\"}, {\"id_x\": 102, \"status\": \"A\", \"attendanceSessionId\": 6, \"userId\": 106, \"id_y\": 1202, \"activity\": \"Logged in\", \"lastName\": \"Ferreira\", \"title\": \"They/Them\", \"isSuperUser\": 0, \"lastLogin\": \"2021-05-04T13:02:17\"}, {\"id_x\": 102, \"status\": \"A\", \"attendanceSessionId\": 6, \"userId\": 106, \"id_y\": 1203, \"activity\": \"Accessed Session 7 - Starter Files from Intro to Game Dev with Unity repo [access:0274231c583::rrtGJAd2ae1e]\", \"lastName\": \"Ferreira\", \"title\": \"They/Them\", \"isSuperUser\": 0, \"lastLogin\": \"2021-05-04T13:02:17\"}, {\"id_x\": 102, \"status\": \"A\", \"attendanceSessionId\": 6, \"userId\": 106, \"id_y\": 1204, \"activity\": \"Accessed Session 7 Recap from Intro to Game Dev with Unity repo [access:f808a2f41b5::rrtGJAd2ae1e]\", \"lastName\": \"Ferreira\", \"title\": \"They/Them\", \"isSuperUser\": 0, \"lastLogin\": \"2021-05-04T13:02:17\"}, {\"id_x\": 102, \"status\": \"A\", \"attendanceSessionId\": 6, \"userId\": 106, \"id_y\": 1212, \"activity\": \"Logged in\", \"lastName\": \"Ferreira\", \"title\": \"They/Them\", \"isSuperUser\": 0, \"lastLogin\": \"2021-05-04T13:02:17\"}, {\"id_x\": 102, \"status\": \"A\", \"attendanceSessionId\": 6, \"userId\": 106, \"id_y\": 1213, \"activity\": \"Accessed Session 8 - Starter Files from Intro to Game Dev with Unity repo [access:1d14e303b59::rrtGJAd2ae1e]\", \"lastName\": \"Ferreira\", \"title\": \"They/Them\", \"isSuperUser\": 0, \"lastLogin\": \"2021-05-04T13:02:17\"}, {\"id_x\": 102, \"status\": \"A\", \"attendanceSessionId\": 6, \"userId\": 106, \"id_y\": 1214, \"activity\": \"Accessed Session 7 Recap from Intro to Game Dev with Unity repo [access:f808a2f41b5::rrtGJAd2ae1e]\", \"lastName\": \"Ferreira\", \"title\": \"They/Them\", \"isSuperUser\": 0, \"lastLogin\": \"2021-05-04T13:02:17\"}, {\"id_x\": 102, \"status\": \"A\", \"attendanceSessionId\": 6, \"userId\": 106, \"id_y\": 1215, \"activity\": \"Accessed Session 7 Recap from Intro to Game Dev with Unity repo [access:f808a2f41b5::rrtGJAd2ae1e]\", \"lastName\": \"Ferreira\", \"title\": \"They/Them\", \"isSuperUser\": 0, \"lastLogin\": \"2021-05-04T13:02:17\"}, {\"id_x\": 102, \"status\": \"A\", \"attendanceSessionId\": 6, \"userId\": 106, \"id_y\": 1270, \"activity\": \"Logged in\", \"lastName\": \"Ferreira\", \"title\": \"They/Them\", \"isSuperUser\": 0, \"lastLogin\": \"2021-05-04T13:02:17\"}, {\"id_x\": 102, \"status\": \"A\", \"attendanceSessionId\": 6, \"userId\": 106, \"id_y\": 1271, \"activity\": \"Logged in\", \"lastName\": \"Ferreira\", \"title\": \"They/Them\", \"isSuperUser\": 0, \"lastLogin\": \"2021-05-04T13:02:17\"}, {\"id_x\": 102, \"status\": \"A\", \"attendanceSessionId\": 6, \"userId\": 106, \"id_y\": 1272, \"activity\": \"Logged in\", \"lastName\": \"Ferreira\", \"title\": \"They/Them\", \"isSuperUser\": 0, \"lastLogin\": \"2021-05-04T13:02:17\"}, {\"id_x\": 102, \"status\": \"A\", \"attendanceSessionId\": 6, \"userId\": 106, \"id_y\": 1273, \"activity\": \"Logged in\", \"lastName\": \"Ferreira\", \"title\": \"They/Them\", \"isSuperUser\": 0, \"lastLogin\": \"2021-05-04T13:02:17\"}, {\"id_x\": 111, \"status\": \"A\", \"attendanceSessionId\": 7, \"userId\": 106, \"id_y\": 1028, \"activity\": \"Logged in\", \"lastName\": \"Ferreira\", \"title\": \"They/Them\", \"isSuperUser\": 0, \"lastLogin\": \"2021-05-04T13:02:17\"}, {\"id_x\": 111, \"status\": \"A\", \"attendanceSessionId\": 7, \"userId\": 106, \"id_y\": 1029, \"activity\": \"Accessed Session 4 - Starter Files from Intro to Game Dev with Unity repo\", \"lastName\": \"Ferreira\", \"title\": \"They/Them\", \"isSuperUser\": 0, \"lastLogin\": \"2021-05-04T13:02:17\"}, {\"id_x\": 111, \"status\": \"A\", \"attendanceSessionId\": 7, \"userId\": 106, \"id_y\": 1030, \"activity\": \"Accessed Session 3 Recap from Intro to Game Dev with Unity repo\", \"lastName\": \"Ferreira\", \"title\": \"They/Them\", \"isSuperUser\": 0, \"lastLogin\": \"2021-05-04T13:02:17\"}, {\"id_x\": 111, \"status\": \"A\", \"attendanceSessionId\": 7, \"userId\": 106, \"id_y\": 1091, \"activity\": \"Logged in\", \"lastName\": \"Ferreira\", \"title\": \"They/Them\", \"isSuperUser\": 0, \"lastLogin\": \"2021-05-04T13:02:17\"}, {\"id_x\": 111, \"status\": \"A\", \"attendanceSessionId\": 7, \"userId\": 106, \"id_y\": 1092, \"activity\": \"Accessed Session 5 - Assets from Intro to Game Dev with Unity repo [access:141012aa424::rrtGJAd2ae1e]\", \"lastName\": \"Ferreira\", \"title\": \"They/Them\", \"isSuperUser\": 0, \"lastLogin\": \"2021-05-04T13:02:17\"}, {\"id_x\": 111, \"status\": \"A\", \"attendanceSessionId\": 7, \"userId\": 106, \"id_y\": 1093, \"activity\": \"Accessed Session 5 - Starter Files from Intro to Game Dev with Unity repo [access:3aadbfd9eca::rrtGJAd2ae1e]\", \"lastName\": \"Ferreira\", \"title\": \"They/Them\", \"isSuperUser\": 0, \"lastLogin\": \"2021-05-04T13:02:17\"}, {\"id_x\": 111, \"status\": \"A\", \"attendanceSessionId\": 7, \"userId\": 106, \"id_y\": 1094, \"activity\": \"Accessed Session Four Recap from Intro to Game Dev with Unity repo [access:b4aec5f066b::rrtGJAd2ae1e]\", \"lastName\": \"Ferreira\", \"title\": \"They/Them\", \"isSuperUser\": 0, \"lastLogin\": \"2021-05-04T13:02:17\"}, {\"id_x\": 111, \"status\": \"A\", \"attendanceSessionId\": 7, \"userId\": 106, \"id_y\": 1129, \"activity\": \"Logged in\", \"lastName\": \"Ferreira\", \"title\": \"They/Them\", \"isSuperUser\": 0, \"lastLogin\": \"2021-05-04T13:02:17\"}, {\"id_x\": 111, \"status\": \"A\", \"attendanceSessionId\": 7, \"userId\": 106, \"id_y\": 1130, \"activity\": \"Accessed Session 6 - Starter Files from Intro to Game Dev with Unity repo [access:4ff849da461::rrtGJAd2ae1e]\", \"lastName\": \"Ferreira\", \"title\": \"They/Them\", \"isSuperUser\": 0, \"lastLogin\": \"2021-05-04T13:02:17\"}, {\"id_x\": 111, \"status\": \"A\", \"attendanceSessionId\": 7, \"userId\": 106, \"id_y\": 1131, \"activity\": \"Accessed Session 6 Recap from Intro to Game Dev with Unity repo [access:1d9bec2ad95::rrtGJAd2ae1e]\", \"lastName\": \"Ferreira\", \"title\": \"They/Them\", \"isSuperUser\": 0, \"lastLogin\": \"2021-05-04T13:02:17\"}, {\"id_x\": 111, \"status\": \"A\", \"attendanceSessionId\": 7, \"userId\": 106, \"id_y\": 1132, \"activity\": \"Logged in\", \"lastName\": \"Ferreira\", \"title\": \"They/Them\", \"isSuperUser\": 0, \"lastLogin\": \"2021-05-04T13:02:17\"}, {\"id_x\": 111, \"status\": \"A\", \"attendanceSessionId\": 7, \"userId\": 106, \"id_y\": 1133, \"activity\": \"Accessed Session 5 Recap from Intro to Game Dev with Unity repo [access:f2ec33fafc6::rrtGJAd2ae1e]\", \"lastName\": \"Ferreira\", \"title\": \"They/Them\", \"isSuperUser\": 0, \"lastLogin\": \"2021-05-04T13:02:17\"}, {\"id_x\": 111, \"status\": \"A\", \"attendanceSessionId\": 7, \"userId\": 106, \"id_y\": 1202, \"activity\": \"Logged in\", \"lastName\": \"Ferreira\", \"title\": \"They/Them\", \"isSuperUser\": 0, \"lastLogin\": \"2021-05-04T13:02:17\"}, {\"id_x\": 111, \"status\": \"A\", \"attendanceSessionId\": 7, \"userId\": 106, \"id_y\": 1203, \"activity\": \"Accessed Session 7 - Starter Files from Intro to Game Dev with Unity repo [access:0274231c583::rrtGJAd2ae1e]\", \"lastName\": \"Ferreira\", \"title\": \"They/Them\", \"isSuperUser\": 0, \"lastLogin\": \"2021-05-04T13:02:17\"}, {\"id_x\": 111, \"status\": \"A\", \"attendanceSessionId\": 7, \"userId\": 106, \"id_y\": 1204, \"activity\": \"Accessed Session 7 Recap from Intro to Game Dev with Unity repo [access:f808a2f41b5::rrtGJAd2ae1e]\", \"lastName\": \"Ferreira\", \"title\": \"They/Them\", \"isSuperUser\": 0, \"lastLogin\": \"2021-05-04T13:02:17\"}, {\"id_x\": 111, \"status\": \"A\", \"attendanceSessionId\": 7, \"userId\": 106, \"id_y\": 1212, \"activity\": \"Logged in\", \"lastName\": \"Ferreira\", \"title\": \"They/Them\", \"isSuperUser\": 0, \"lastLogin\": \"2021-05-04T13:02:17\"}, {\"id_x\": 111, \"status\": \"A\", \"attendanceSessionId\": 7, \"userId\": 106, \"id_y\": 1213, \"activity\": \"Accessed Session 8 - Starter Files from Intro to Game Dev with Unity repo [access:1d14e303b59::rrtGJAd2ae1e]\", \"lastName\": \"Ferreira\", \"title\": \"They/Them\", \"isSuperUser\": 0, \"lastLogin\": \"2021-05-04T13:02:17\"}, {\"id_x\": 111, \"status\": \"A\", \"attendanceSessionId\": 7, \"userId\": 106, \"id_y\": 1214, \"activity\": \"Accessed Session 7 Recap from Intro to Game Dev with Unity repo [access:f808a2f41b5::rrtGJAd2ae1e]\", \"lastName\": \"Ferreira\", \"title\": \"They/Them\", \"isSuperUser\": 0, \"lastLogin\": \"2021-05-04T13:02:17\"}, {\"id_x\": 111, \"status\": \"A\", \"attendanceSessionId\": 7, \"userId\": 106, \"id_y\": 1215, \"activity\": \"Accessed Session 7 Recap from Intro to Game Dev with Unity repo [access:f808a2f41b5::rrtGJAd2ae1e]\", \"lastName\": \"Ferreira\", \"title\": \"They/Them\", \"isSuperUser\": 0, \"lastLogin\": \"2021-05-04T13:02:17\"}, {\"id_x\": 111, \"status\": \"A\", \"attendanceSessionId\": 7, \"userId\": 106, \"id_y\": 1270, \"activity\": \"Logged in\", \"lastName\": \"Ferreira\", \"title\": \"They/Them\", \"isSuperUser\": 0, \"lastLogin\": \"2021-05-04T13:02:17\"}, {\"id_x\": 111, \"status\": \"A\", \"attendanceSessionId\": 7, \"userId\": 106, \"id_y\": 1271, \"activity\": \"Logged in\", \"lastName\": \"Ferreira\", \"title\": \"They/Them\", \"isSuperUser\": 0, \"lastLogin\": \"2021-05-04T13:02:17\"}, {\"id_x\": 111, \"status\": \"A\", \"attendanceSessionId\": 7, \"userId\": 106, \"id_y\": 1272, \"activity\": \"Logged in\", \"lastName\": \"Ferreira\", \"title\": \"They/Them\", \"isSuperUser\": 0, \"lastLogin\": \"2021-05-04T13:02:17\"}, {\"id_x\": 111, \"status\": \"A\", \"attendanceSessionId\": 7, \"userId\": 106, \"id_y\": 1273, \"activity\": \"Logged in\", \"lastName\": \"Ferreira\", \"title\": \"They/Them\", \"isSuperUser\": 0, \"lastLogin\": \"2021-05-04T13:02:17\"}, {\"id_x\": 120, \"status\": \"A\", \"attendanceSessionId\": 8, \"userId\": 106, \"id_y\": 1028, \"activity\": \"Logged in\", \"lastName\": \"Ferreira\", \"title\": \"They/Them\", \"isSuperUser\": 0, \"lastLogin\": \"2021-05-04T13:02:17\"}, {\"id_x\": 120, \"status\": \"A\", \"attendanceSessionId\": 8, \"userId\": 106, \"id_y\": 1029, \"activity\": \"Accessed Session 4 - Starter Files from Intro to Game Dev with Unity repo\", \"lastName\": \"Ferreira\", \"title\": \"They/Them\", \"isSuperUser\": 0, \"lastLogin\": \"2021-05-04T13:02:17\"}, {\"id_x\": 120, \"status\": \"A\", \"attendanceSessionId\": 8, \"userId\": 106, \"id_y\": 1030, \"activity\": \"Accessed Session 3 Recap from Intro to Game Dev with Unity repo\", \"lastName\": \"Ferreira\", \"title\": \"They/Them\", \"isSuperUser\": 0, \"lastLogin\": \"2021-05-04T13:02:17\"}, {\"id_x\": 120, \"status\": \"A\", \"attendanceSessionId\": 8, \"userId\": 106, \"id_y\": 1091, \"activity\": \"Logged in\", \"lastName\": \"Ferreira\", \"title\": \"They/Them\", \"isSuperUser\": 0, \"lastLogin\": \"2021-05-04T13:02:17\"}, {\"id_x\": 120, \"status\": \"A\", \"attendanceSessionId\": 8, \"userId\": 106, \"id_y\": 1092, \"activity\": \"Accessed Session 5 - Assets from Intro to Game Dev with Unity repo [access:141012aa424::rrtGJAd2ae1e]\", \"lastName\": \"Ferreira\", \"title\": \"They/Them\", \"isSuperUser\": 0, \"lastLogin\": \"2021-05-04T13:02:17\"}, {\"id_x\": 120, \"status\": \"A\", \"attendanceSessionId\": 8, \"userId\": 106, \"id_y\": 1093, \"activity\": \"Accessed Session 5 - Starter Files from Intro to Game Dev with Unity repo [access:3aadbfd9eca::rrtGJAd2ae1e]\", \"lastName\": \"Ferreira\", \"title\": \"They/Them\", \"isSuperUser\": 0, \"lastLogin\": \"2021-05-04T13:02:17\"}, {\"id_x\": 120, \"status\": \"A\", \"attendanceSessionId\": 8, \"userId\": 106, \"id_y\": 1094, \"activity\": \"Accessed Session Four Recap from Intro to Game Dev with Unity repo [access:b4aec5f066b::rrtGJAd2ae1e]\", \"lastName\": \"Ferreira\", \"title\": \"They/Them\", \"isSuperUser\": 0, \"lastLogin\": \"2021-05-04T13:02:17\"}, {\"id_x\": 120, \"status\": \"A\", \"attendanceSessionId\": 8, \"userId\": 106, \"id_y\": 1129, \"activity\": \"Logged in\", \"lastName\": \"Ferreira\", \"title\": \"They/Them\", \"isSuperUser\": 0, \"lastLogin\": \"2021-05-04T13:02:17\"}, {\"id_x\": 120, \"status\": \"A\", \"attendanceSessionId\": 8, \"userId\": 106, \"id_y\": 1130, \"activity\": \"Accessed Session 6 - Starter Files from Intro to Game Dev with Unity repo [access:4ff849da461::rrtGJAd2ae1e]\", \"lastName\": \"Ferreira\", \"title\": \"They/Them\", \"isSuperUser\": 0, \"lastLogin\": \"2021-05-04T13:02:17\"}, {\"id_x\": 120, \"status\": \"A\", \"attendanceSessionId\": 8, \"userId\": 106, \"id_y\": 1131, \"activity\": \"Accessed Session 6 Recap from Intro to Game Dev with Unity repo [access:1d9bec2ad95::rrtGJAd2ae1e]\", \"lastName\": \"Ferreira\", \"title\": \"They/Them\", \"isSuperUser\": 0, \"lastLogin\": \"2021-05-04T13:02:17\"}, {\"id_x\": 120, \"status\": \"A\", \"attendanceSessionId\": 8, \"userId\": 106, \"id_y\": 1132, \"activity\": \"Logged in\", \"lastName\": \"Ferreira\", \"title\": \"They/Them\", \"isSuperUser\": 0, \"lastLogin\": \"2021-05-04T13:02:17\"}, {\"id_x\": 120, \"status\": \"A\", \"attendanceSessionId\": 8, \"userId\": 106, \"id_y\": 1133, \"activity\": \"Accessed Session 5 Recap from Intro to Game Dev with Unity repo [access:f2ec33fafc6::rrtGJAd2ae1e]\", \"lastName\": \"Ferreira\", \"title\": \"They/Them\", \"isSuperUser\": 0, \"lastLogin\": \"2021-05-04T13:02:17\"}, {\"id_x\": 120, \"status\": \"A\", \"attendanceSessionId\": 8, \"userId\": 106, \"id_y\": 1202, \"activity\": \"Logged in\", \"lastName\": \"Ferreira\", \"title\": \"They/Them\", \"isSuperUser\": 0, \"lastLogin\": \"2021-05-04T13:02:17\"}, {\"id_x\": 120, \"status\": \"A\", \"attendanceSessionId\": 8, \"userId\": 106, \"id_y\": 1203, \"activity\": \"Accessed Session 7 - Starter Files from Intro to Game Dev with Unity repo [access:0274231c583::rrtGJAd2ae1e]\", \"lastName\": \"Ferreira\", \"title\": \"They/Them\", \"isSuperUser\": 0, \"lastLogin\": \"2021-05-04T13:02:17\"}, {\"id_x\": 120, \"status\": \"A\", \"attendanceSessionId\": 8, \"userId\": 106, \"id_y\": 1204, \"activity\": \"Accessed Session 7 Recap from Intro to Game Dev with Unity repo [access:f808a2f41b5::rrtGJAd2ae1e]\", \"lastName\": \"Ferreira\", \"title\": \"They/Them\", \"isSuperUser\": 0, \"lastLogin\": \"2021-05-04T13:02:17\"}, {\"id_x\": 120, \"status\": \"A\", \"attendanceSessionId\": 8, \"userId\": 106, \"id_y\": 1212, \"activity\": \"Logged in\", \"lastName\": \"Ferreira\", \"title\": \"They/Them\", \"isSuperUser\": 0, \"lastLogin\": \"2021-05-04T13:02:17\"}, {\"id_x\": 120, \"status\": \"A\", \"attendanceSessionId\": 8, \"userId\": 106, \"id_y\": 1213, \"activity\": \"Accessed Session 8 - Starter Files from Intro to Game Dev with Unity repo [access:1d14e303b59::rrtGJAd2ae1e]\", \"lastName\": \"Ferreira\", \"title\": \"They/Them\", \"isSuperUser\": 0, \"lastLogin\": \"2021-05-04T13:02:17\"}, {\"id_x\": 120, \"status\": \"A\", \"attendanceSessionId\": 8, \"userId\": 106, \"id_y\": 1214, \"activity\": \"Accessed Session 7 Recap from Intro to Game Dev with Unity repo [access:f808a2f41b5::rrtGJAd2ae1e]\", \"lastName\": \"Ferreira\", \"title\": \"They/Them\", \"isSuperUser\": 0, \"lastLogin\": \"2021-05-04T13:02:17\"}, {\"id_x\": 120, \"status\": \"A\", \"attendanceSessionId\": 8, \"userId\": 106, \"id_y\": 1215, \"activity\": \"Accessed Session 7 Recap from Intro to Game Dev with Unity repo [access:f808a2f41b5::rrtGJAd2ae1e]\", \"lastName\": \"Ferreira\", \"title\": \"They/Them\", \"isSuperUser\": 0, \"lastLogin\": \"2021-05-04T13:02:17\"}, {\"id_x\": 120, \"status\": \"A\", \"attendanceSessionId\": 8, \"userId\": 106, \"id_y\": 1270, \"activity\": \"Logged in\", \"lastName\": \"Ferreira\", \"title\": \"They/Them\", \"isSuperUser\": 0, \"lastLogin\": \"2021-05-04T13:02:17\"}, {\"id_x\": 120, \"status\": \"A\", \"attendanceSessionId\": 8, \"userId\": 106, \"id_y\": 1271, \"activity\": \"Logged in\", \"lastName\": \"Ferreira\", \"title\": \"They/Them\", \"isSuperUser\": 0, \"lastLogin\": \"2021-05-04T13:02:17\"}, {\"id_x\": 120, \"status\": \"A\", \"attendanceSessionId\": 8, \"userId\": 106, \"id_y\": 1272, \"activity\": \"Logged in\", \"lastName\": \"Ferreira\", \"title\": \"They/Them\", \"isSuperUser\": 0, \"lastLogin\": \"2021-05-04T13:02:17\"}, {\"id_x\": 120, \"status\": \"A\", \"attendanceSessionId\": 8, \"userId\": 106, \"id_y\": 1273, \"activity\": \"Logged in\", \"lastName\": \"Ferreira\", \"title\": \"They/Them\", \"isSuperUser\": 0, \"lastLogin\": \"2021-05-04T13:02:17\"}, {\"id_x\": 149, \"status\": \"I\", \"attendanceSessionId\": 9, \"userId\": 106, \"id_y\": 1028, \"activity\": \"Logged in\", \"lastName\": \"Ferreira\", \"title\": \"They/Them\", \"isSuperUser\": 0, \"lastLogin\": \"2021-05-04T13:02:17\"}, {\"id_x\": 149, \"status\": \"I\", \"attendanceSessionId\": 9, \"userId\": 106, \"id_y\": 1029, \"activity\": \"Accessed Session 4 - Starter Files from Intro to Game Dev with Unity repo\", \"lastName\": \"Ferreira\", \"title\": \"They/Them\", \"isSuperUser\": 0, \"lastLogin\": \"2021-05-04T13:02:17\"}, {\"id_x\": 149, \"status\": \"I\", \"attendanceSessionId\": 9, \"userId\": 106, \"id_y\": 1030, \"activity\": \"Accessed Session 3 Recap from Intro to Game Dev with Unity repo\", \"lastName\": \"Ferreira\", \"title\": \"They/Them\", \"isSuperUser\": 0, \"lastLogin\": \"2021-05-04T13:02:17\"}, {\"id_x\": 149, \"status\": \"I\", \"attendanceSessionId\": 9, \"userId\": 106, \"id_y\": 1091, \"activity\": \"Logged in\", \"lastName\": \"Ferreira\", \"title\": \"They/Them\", \"isSuperUser\": 0, \"lastLogin\": \"2021-05-04T13:02:17\"}, {\"id_x\": 149, \"status\": \"I\", \"attendanceSessionId\": 9, \"userId\": 106, \"id_y\": 1092, \"activity\": \"Accessed Session 5 - Assets from Intro to Game Dev with Unity repo [access:141012aa424::rrtGJAd2ae1e]\", \"lastName\": \"Ferreira\", \"title\": \"They/Them\", \"isSuperUser\": 0, \"lastLogin\": \"2021-05-04T13:02:17\"}, {\"id_x\": 149, \"status\": \"I\", \"attendanceSessionId\": 9, \"userId\": 106, \"id_y\": 1093, \"activity\": \"Accessed Session 5 - Starter Files from Intro to Game Dev with Unity repo [access:3aadbfd9eca::rrtGJAd2ae1e]\", \"lastName\": \"Ferreira\", \"title\": \"They/Them\", \"isSuperUser\": 0, \"lastLogin\": \"2021-05-04T13:02:17\"}, {\"id_x\": 149, \"status\": \"I\", \"attendanceSessionId\": 9, \"userId\": 106, \"id_y\": 1094, \"activity\": \"Accessed Session Four Recap from Intro to Game Dev with Unity repo [access:b4aec5f066b::rrtGJAd2ae1e]\", \"lastName\": \"Ferreira\", \"title\": \"They/Them\", \"isSuperUser\": 0, \"lastLogin\": \"2021-05-04T13:02:17\"}, {\"id_x\": 149, \"status\": \"I\", \"attendanceSessionId\": 9, \"userId\": 106, \"id_y\": 1129, \"activity\": \"Logged in\", \"lastName\": \"Ferreira\", \"title\": \"They/Them\", \"isSuperUser\": 0, \"lastLogin\": \"2021-05-04T13:02:17\"}, {\"id_x\": 149, \"status\": \"I\", \"attendanceSessionId\": 9, \"userId\": 106, \"id_y\": 1130, \"activity\": \"Accessed Session 6 - Starter Files from Intro to Game Dev with Unity repo [access:4ff849da461::rrtGJAd2ae1e]\", \"lastName\": \"Ferreira\", \"title\": \"They/Them\", \"isSuperUser\": 0, \"lastLogin\": \"2021-05-04T13:02:17\"}, {\"id_x\": 149, \"status\": \"I\", \"attendanceSessionId\": 9, \"userId\": 106, \"id_y\": 1131, \"activity\": \"Accessed Session 6 Recap from Intro to Game Dev with Unity repo [access:1d9bec2ad95::rrtGJAd2ae1e]\", \"lastName\": \"Ferreira\", \"title\": \"They/Them\", \"isSuperUser\": 0, \"lastLogin\": \"2021-05-04T13:02:17\"}, {\"id_x\": 149, \"status\": \"I\", \"attendanceSessionId\": 9, \"userId\": 106, \"id_y\": 1132, \"activity\": \"Logged in\", \"lastName\": \"Ferreira\", \"title\": \"They/Them\", \"isSuperUser\": 0, \"lastLogin\": \"2021-05-04T13:02:17\"}, {\"id_x\": 149, \"status\": \"I\", \"attendanceSessionId\": 9, \"userId\": 106, \"id_y\": 1133, \"activity\": \"Accessed Session 5 Recap from Intro to Game Dev with Unity repo [access:f2ec33fafc6::rrtGJAd2ae1e]\", \"lastName\": \"Ferreira\", \"title\": \"They/Them\", \"isSuperUser\": 0, \"lastLogin\": \"2021-05-04T13:02:17\"}, {\"id_x\": 149, \"status\": \"I\", \"attendanceSessionId\": 9, \"userId\": 106, \"id_y\": 1202, \"activity\": \"Logged in\", \"lastName\": \"Ferreira\", \"title\": \"They/Them\", \"isSuperUser\": 0, \"lastLogin\": \"2021-05-04T13:02:17\"}, {\"id_x\": 149, \"status\": \"I\", \"attendanceSessionId\": 9, \"userId\": 106, \"id_y\": 1203, \"activity\": \"Accessed Session 7 - Starter Files from Intro to Game Dev with Unity repo [access:0274231c583::rrtGJAd2ae1e]\", \"lastName\": \"Ferreira\", \"title\": \"They/Them\", \"isSuperUser\": 0, \"lastLogin\": \"2021-05-04T13:02:17\"}, {\"id_x\": 149, \"status\": \"I\", \"attendanceSessionId\": 9, \"userId\": 106, \"id_y\": 1204, \"activity\": \"Accessed Session 7 Recap from Intro to Game Dev with Unity repo [access:f808a2f41b5::rrtGJAd2ae1e]\", \"lastName\": \"Ferreira\", \"title\": \"They/Them\", \"isSuperUser\": 0, \"lastLogin\": \"2021-05-04T13:02:17\"}, {\"id_x\": 149, \"status\": \"I\", \"attendanceSessionId\": 9, \"userId\": 106, \"id_y\": 1212, \"activity\": \"Logged in\", \"lastName\": \"Ferreira\", \"title\": \"They/Them\", \"isSuperUser\": 0, \"lastLogin\": \"2021-05-04T13:02:17\"}, {\"id_x\": 149, \"status\": \"I\", \"attendanceSessionId\": 9, \"userId\": 106, \"id_y\": 1213, \"activity\": \"Accessed Session 8 - Starter Files from Intro to Game Dev with Unity repo [access:1d14e303b59::rrtGJAd2ae1e]\", \"lastName\": \"Ferreira\", \"title\": \"They/Them\", \"isSuperUser\": 0, \"lastLogin\": \"2021-05-04T13:02:17\"}, {\"id_x\": 149, \"status\": \"I\", \"attendanceSessionId\": 9, \"userId\": 106, \"id_y\": 1214, \"activity\": \"Accessed Session 7 Recap from Intro to Game Dev with Unity repo [access:f808a2f41b5::rrtGJAd2ae1e]\", \"lastName\": \"Ferreira\", \"title\": \"They/Them\", \"isSuperUser\": 0, \"lastLogin\": \"2021-05-04T13:02:17\"}, {\"id_x\": 149, \"status\": \"I\", \"attendanceSessionId\": 9, \"userId\": 106, \"id_y\": 1215, \"activity\": \"Accessed Session 7 Recap from Intro to Game Dev with Unity repo [access:f808a2f41b5::rrtGJAd2ae1e]\", \"lastName\": \"Ferreira\", \"title\": \"They/Them\", \"isSuperUser\": 0, \"lastLogin\": \"2021-05-04T13:02:17\"}, {\"id_x\": 149, \"status\": \"I\", \"attendanceSessionId\": 9, \"userId\": 106, \"id_y\": 1270, \"activity\": \"Logged in\", \"lastName\": \"Ferreira\", \"title\": \"They/Them\", \"isSuperUser\": 0, \"lastLogin\": \"2021-05-04T13:02:17\"}, {\"id_x\": 149, \"status\": \"I\", \"attendanceSessionId\": 9, \"userId\": 106, \"id_y\": 1271, \"activity\": \"Logged in\", \"lastName\": \"Ferreira\", \"title\": \"They/Them\", \"isSuperUser\": 0, \"lastLogin\": \"2021-05-04T13:02:17\"}, {\"id_x\": 149, \"status\": \"I\", \"attendanceSessionId\": 9, \"userId\": 106, \"id_y\": 1272, \"activity\": \"Logged in\", \"lastName\": \"Ferreira\", \"title\": \"They/Them\", \"isSuperUser\": 0, \"lastLogin\": \"2021-05-04T13:02:17\"}, {\"id_x\": 149, \"status\": \"I\", \"attendanceSessionId\": 9, \"userId\": 106, \"id_y\": 1273, \"activity\": \"Logged in\", \"lastName\": \"Ferreira\", \"title\": \"They/Them\", \"isSuperUser\": 0, \"lastLogin\": \"2021-05-04T13:02:17\"}, {\"id_x\": 152, \"status\": \"A\", \"attendanceSessionId\": 10, \"userId\": 121, \"id_y\": 1321, \"activity\": \"Enrolled onto Programming Fundamentals\", \"lastName\": \"Broughton\", \"title\": \"They/Them\", \"isSuperUser\": 0, \"lastLogin\": \"2021-06-10T21:14:14\"}, {\"id_x\": 152, \"status\": \"A\", \"attendanceSessionId\": 10, \"userId\": 121, \"id_y\": 1322, \"activity\": \"Password expired. Redirecting to update password\", \"lastName\": \"Broughton\", \"title\": \"They/Them\", \"isSuperUser\": 0, \"lastLogin\": \"2021-06-10T21:14:14\"}, {\"id_x\": 153, \"status\": \"P\", \"attendanceSessionId\": 10, \"userId\": 122, \"id_y\": 1327, \"activity\": \"Enrolled onto Programming Fundamentals\", \"lastName\": \"Hylton\", \"title\": \"They/Them\", \"isSuperUser\": 0, \"lastLogin\": \"2021-06-12T18:54:15\"}, {\"id_x\": 154, \"status\": \"A\", \"attendanceSessionId\": 10, \"userId\": 123, \"id_y\": 1330, \"activity\": \"Enrolled onto Programming Fundamentals\", \"lastName\": \"Folorunsho\", \"title\": \"They/Them\", \"isSuperUser\": 0, \"lastLogin\": \"2021-06-15T21:08:21\"}, {\"id_x\": 155, \"status\": \"A\", \"attendanceSessionId\": 10, \"userId\": 124, \"id_y\": 1333, \"activity\": \"Enrolled onto Programming Fundamentals\", \"lastName\": \"Ahmed\", \"title\": \"They/Them\", \"isSuperUser\": 0, \"lastLogin\": \"2021-06-18T17:05:24\"}, {\"id_x\": 156, \"status\": \"P\", \"attendanceSessionId\": 10, \"userId\": 125, \"id_y\": 1340, \"activity\": \"Enrolled onto Programming Fundamentals\", \"lastName\": \"Ferreira \", \"title\": \"They/Them\", \"isSuperUser\": 0, \"lastLogin\": \"2021-06-23T00:50:30\"}, {\"id_x\": 157, \"status\": \"A\", \"attendanceSessionId\": 10, \"userId\": 127, \"id_y\": 1344, \"activity\": \"Enrolled onto Programming Fundamentals\", \"lastName\": \"Munkhondya\", \"title\": \"They/Them\", \"isSuperUser\": 0, \"lastLogin\": \"2021-06-25T12:07:12\"}, {\"id_x\": 158, \"status\": \"A\", \"attendanceSessionId\": 10, \"userId\": 128, \"id_y\": 1345, \"activity\": \"Enrolled onto Programming Fundamentals\", \"lastName\": \"Gurung \", \"title\": \"They/Them\", \"isSuperUser\": 0, \"lastLogin\": \"2021-06-25T15:10:15\"}]}}, {\"actions\": false, \"mode\": \"vega-lite\"});\n</script>",
      "text/plain": "alt.Chart(...)"
     },
     "metadata": {}
    }
   ]
  },
  {
   "cell_type": "markdown",
   "source": "As we can see, there are only 14 active students out of the 89 users.",
   "metadata": {
    "cell_id": "7322947473ce4bd7b0a98a38332e327f",
    "tags": [],
    "deepnote_cell_type": "markdown",
    "deepnote_cell_height": 52.390625
   }
  },
  {
   "cell_type": "code",
   "metadata": {
    "cell_id": "8208fba81c674b259dede4e20f27cf4c",
    "tags": [],
    "deepnote_to_be_reexecuted": false,
    "source_hash": "8426f3cf",
    "execution_start": 1652664893914,
    "execution_millis": 63,
    "deepnote_table_state": {
     "pageSize": 10,
     "pageIndex": 27,
     "filters": [],
     "sortBy": []
    },
    "deepnote_table_loading": false,
    "deepnote_cell_type": "code",
    "deepnote_cell_height": 631.59375
   },
   "source": "points = pd.read_csv('points.csv')\npoints",
   "execution_count": 19,
   "outputs": [
    {
     "output_type": "execute_result",
     "execution_count": 19,
     "data": {
      "application/vnd.deepnote.dataframe.v3+json": {
       "column_count": 11,
       "row_count": 517,
       "columns": [
        {
         "name": "id",
         "dtype": "int64",
         "stats": {
          "unique_count": 517,
          "nan_count": 0,
          "min": "1",
          "max": "521",
          "histogram": [
           {
            "bin_start": 1,
            "bin_end": 53,
            "count": 52
           },
           {
            "bin_start": 53,
            "bin_end": 105,
            "count": 49
           },
           {
            "bin_start": 105,
            "bin_end": 157,
            "count": 52
           },
           {
            "bin_start": 157,
            "bin_end": 209,
            "count": 51
           },
           {
            "bin_start": 209,
            "bin_end": 261,
            "count": 52
           },
           {
            "bin_start": 261,
            "bin_end": 313,
            "count": 52
           },
           {
            "bin_start": 313,
            "bin_end": 365,
            "count": 52
           },
           {
            "bin_start": 365,
            "bin_end": 417,
            "count": 52
           },
           {
            "bin_start": 417,
            "bin_end": 469,
            "count": 52
           },
           {
            "bin_start": 469,
            "bin_end": 521,
            "count": 53
           }
          ]
         }
        },
        {
         "name": "created_at",
         "dtype": "object",
         "stats": {
          "unique_count": 517,
          "nan_count": 0,
          "categories": [
           {
            "name": "2020-07-16 21:42:53.867898",
            "count": 1
           },
           {
            "name": "2020-07-17 02:04:58.423793",
            "count": 1
           },
           {
            "name": "515 others",
            "count": 515
           }
          ]
         }
        },
        {
         "name": "updated_at",
         "dtype": "object",
         "stats": {
          "unique_count": 517,
          "nan_count": 0,
          "categories": [
           {
            "name": "2020-07-05 21:42:53.867898",
            "count": 1
           },
           {
            "name": "2020-07-17 02:04:58.423793",
            "count": 1
           },
           {
            "name": "515 others",
            "count": 515
           }
          ]
         }
        },
        {
         "name": "transactionId",
         "dtype": "object",
         "stats": {
          "unique_count": 38,
          "nan_count": 0,
          "categories": [
           {
            "name": "first-login-otd",
            "count": 370
           },
           {
            "name": "resource-access-rrtGJAd2ae1e-286e1a92d35",
            "count": 10
           },
           {
            "name": "36 others",
            "count": 137
           }
          ]
         }
        },
        {
         "name": "balance",
         "dtype": "int64",
         "stats": {
          "unique_count": 9,
          "nan_count": 0,
          "min": "1",
          "max": "25",
          "histogram": [
           {
            "bin_start": 1,
            "bin_end": 3.4,
            "count": 3
           },
           {
            "bin_start": 3.4,
            "bin_end": 5.8,
            "count": 1
           },
           {
            "bin_start": 5.8,
            "bin_end": 8.2,
            "count": 0
           },
           {
            "bin_start": 8.2,
            "bin_end": 10.6,
            "count": 2
           },
           {
            "bin_start": 10.6,
            "bin_end": 13,
            "count": 86
           },
           {
            "bin_start": 13,
            "bin_end": 15.399999999999999,
            "count": 1
           },
           {
            "bin_start": 15.399999999999999,
            "bin_end": 17.8,
            "count": 0
           },
           {
            "bin_start": 17.8,
            "bin_end": 20.2,
            "count": 423
           },
           {
            "bin_start": 20.2,
            "bin_end": 22.599999999999998,
            "count": 0
           },
           {
            "bin_start": 22.599999999999998,
            "bin_end": 25,
            "count": 1
           }
          ]
         }
        },
        {
         "name": "ref",
         "dtype": "object",
         "stats": {
          "unique_count": 517,
          "nan_count": 0,
          "categories": [
           {
            "name": "ijb2itytxdwwyg",
            "count": 1
           },
           {
            "name": "hur4tkqvivd9be",
            "count": 1
           },
           {
            "name": "515 others",
            "count": 515
           }
          ]
         }
        },
        {
         "name": "description",
         "dtype": "object",
         "stats": {
          "unique_count": 35,
          "nan_count": 0,
          "categories": [
           {
            "name": "First log-in of the day",
            "count": 369
           },
           {
            "name": "Attendance for Intro to Game Dev with Unity",
            "count": 46
           },
           {
            "name": "33 others",
            "count": 102
           }
          ]
         }
        },
        {
         "name": "status",
         "dtype": "int64",
         "stats": {
          "unique_count": 1,
          "nan_count": 0,
          "min": "1",
          "max": "1",
          "histogram": [
           {
            "bin_start": 0.5,
            "bin_end": 0.6,
            "count": 0
           },
           {
            "bin_start": 0.6,
            "bin_end": 0.7,
            "count": 0
           },
           {
            "bin_start": 0.7,
            "bin_end": 0.8,
            "count": 0
           },
           {
            "bin_start": 0.8,
            "bin_end": 0.9,
            "count": 0
           },
           {
            "bin_start": 0.9,
            "bin_end": 1,
            "count": 0
           },
           {
            "bin_start": 1,
            "bin_end": 1.1,
            "count": 517
           },
           {
            "bin_start": 1.1,
            "bin_end": 1.2000000000000002,
            "count": 0
           },
           {
            "bin_start": 1.2000000000000002,
            "bin_end": 1.3,
            "count": 0
           },
           {
            "bin_start": 1.3,
            "bin_end": 1.4,
            "count": 0
           },
           {
            "bin_start": 1.4,
            "bin_end": 1.5,
            "count": 0
           }
          ]
         }
        },
        {
         "name": "userId",
         "dtype": "int64",
         "stats": {
          "unique_count": 28,
          "nan_count": 0,
          "min": "1",
          "max": "131",
          "histogram": [
           {
            "bin_start": 1,
            "bin_end": 14,
            "count": 244
           },
           {
            "bin_start": 14,
            "bin_end": 27,
            "count": 0
           },
           {
            "bin_start": 27,
            "bin_end": 40,
            "count": 0
           },
           {
            "bin_start": 40,
            "bin_end": 53,
            "count": 33
           },
           {
            "bin_start": 53,
            "bin_end": 66,
            "count": 5
           },
           {
            "bin_start": 66,
            "bin_end": 79,
            "count": 85
           },
           {
            "bin_start": 79,
            "bin_end": 92,
            "count": 28
           },
           {
            "bin_start": 92,
            "bin_end": 105,
            "count": 3
           },
           {
            "bin_start": 105,
            "bin_end": 118,
            "count": 106
           },
           {
            "bin_start": 118,
            "bin_end": 131,
            "count": 13
           }
          ]
         }
        },
        {
         "name": "givenById",
         "dtype": "float64",
         "stats": {
          "unique_count": 2,
          "nan_count": 511,
          "min": "2.0",
          "max": "4.0",
          "histogram": [
           {
            "bin_start": 2,
            "bin_end": 2.2,
            "count": 5
           },
           {
            "bin_start": 2.2,
            "bin_end": 2.4,
            "count": 0
           },
           {
            "bin_start": 2.4,
            "bin_end": 2.6,
            "count": 0
           },
           {
            "bin_start": 2.6,
            "bin_end": 2.8,
            "count": 0
           },
           {
            "bin_start": 2.8,
            "bin_end": 3,
            "count": 0
           },
           {
            "bin_start": 3,
            "bin_end": 3.2,
            "count": 0
           },
           {
            "bin_start": 3.2,
            "bin_end": 3.4000000000000004,
            "count": 0
           },
           {
            "bin_start": 3.4000000000000004,
            "bin_end": 3.6,
            "count": 0
           },
           {
            "bin_start": 3.6,
            "bin_end": 3.8,
            "count": 0
           },
           {
            "bin_start": 3.8,
            "bin_end": 4,
            "count": 1
           }
          ]
         }
        },
        {
         "name": "courseId",
         "dtype": "float64",
         "stats": {
          "unique_count": 4,
          "nan_count": 380,
          "min": "3.0",
          "max": "9.0",
          "histogram": [
           {
            "bin_start": 3,
            "bin_end": 3.6,
            "count": 1
           },
           {
            "bin_start": 3.6,
            "bin_end": 4.2,
            "count": 0
           },
           {
            "bin_start": 4.2,
            "bin_end": 4.8,
            "count": 0
           },
           {
            "bin_start": 4.8,
            "bin_end": 5.4,
            "count": 131
           },
           {
            "bin_start": 5.4,
            "bin_end": 6,
            "count": 0
           },
           {
            "bin_start": 6,
            "bin_end": 6.6,
            "count": 0
           },
           {
            "bin_start": 6.6,
            "bin_end": 7.2,
            "count": 0
           },
           {
            "bin_start": 7.2,
            "bin_end": 7.8,
            "count": 0
           },
           {
            "bin_start": 7.8,
            "bin_end": 8.399999999999999,
            "count": 1
           },
           {
            "bin_start": 8.399999999999999,
            "bin_end": 9,
            "count": 4
           }
          ]
         }
        },
        {
         "name": "_deepnote_index_column",
         "dtype": "int64"
        }
       ],
       "rows": [
        {
         "id": 275,
         "created_at": "2021-03-21 23:20:14.809707",
         "updated_at": "2021-03-21 23:20:14.809707",
         "transactionId": "first-login-otd",
         "balance": 20,
         "ref": "zeoe4up7299caa",
         "description": "First log-in of the day",
         "status": 1,
         "userId": 106,
         "givenById": "nan",
         "courseId": "nan",
         "_deepnote_index_column": 270
        },
        {
         "id": 276,
         "created_at": "2021-03-22 21:52:47.982545",
         "updated_at": "2021-03-22 21:52:47.982545",
         "transactionId": "first-login-otd",
         "balance": 20,
         "ref": "ybu37swleleh5f",
         "description": "First log-in of the day",
         "status": 1,
         "userId": 106,
         "givenById": "nan",
         "courseId": "nan",
         "_deepnote_index_column": 271
        },
        {
         "id": 277,
         "created_at": "2021-03-23 08:32:19.083622",
         "updated_at": "2021-03-23 08:32:19.083622",
         "transactionId": "first-login-otd",
         "balance": 20,
         "ref": "ef1sj8x7ywy7hu",
         "description": "First log-in of the day",
         "status": 1,
         "userId": 106,
         "givenById": "nan",
         "courseId": "nan",
         "_deepnote_index_column": 272
        },
        {
         "id": 278,
         "created_at": "2021-03-23 18:11:49.705998",
         "updated_at": "2021-03-23 18:11:49.705998",
         "transactionId": "first-login-otd",
         "balance": 20,
         "ref": "zrw42om61nweh3",
         "description": "First log-in of the day",
         "status": 1,
         "userId": 67,
         "givenById": "nan",
         "courseId": "nan",
         "_deepnote_index_column": 273
        },
        {
         "id": 279,
         "created_at": "2021-03-23 18:57:40.332163",
         "updated_at": "2021-03-23 18:57:40.332163",
         "transactionId": "first-login-otd",
         "balance": 20,
         "ref": "e8obecy5l212f1",
         "description": "First log-in of the day",
         "status": 1,
         "userId": 66,
         "givenById": "nan",
         "courseId": "nan",
         "_deepnote_index_column": 274
        },
        {
         "id": 280,
         "created_at": "2021-03-23 19:00:29.619176",
         "updated_at": "2021-03-23 19:00:29.619176",
         "transactionId": "resource-access-rrtGJAd2ae1e-88ae2794973",
         "balance": 12,
         "ref": "j7lf4bytfp4k4i",
         "description": "Accessed Resource 'Session 4 - Starter Files'",
         "status": 1,
         "userId": 66,
         "givenById": "nan",
         "courseId": 5,
         "_deepnote_index_column": 275
        },
        {
         "id": 281,
         "created_at": "2021-03-23 19:03:25.667604",
         "updated_at": "2021-03-23 19:03:25.667604",
         "transactionId": "rrtGJAd2ae1e-4",
         "balance": 18,
         "ref": "uuv8t0jkvohu4g",
         "description": "Attendance for Intro to Game Dev with Unity",
         "status": 1,
         "userId": 66,
         "givenById": "nan",
         "courseId": 5,
         "_deepnote_index_column": 276
        },
        {
         "id": 282,
         "created_at": "2021-03-23 19:03:28.457358",
         "updated_at": "2021-03-23 19:03:28.457358",
         "transactionId": "rrtGJAd2ae1e-4",
         "balance": 18,
         "ref": "o2o1azzzobug89",
         "description": "Attendance for Intro to Game Dev with Unity",
         "status": 1,
         "userId": 69,
         "givenById": "nan",
         "courseId": 5,
         "_deepnote_index_column": 277
        },
        {
         "id": 283,
         "created_at": "2021-03-23 19:03:42.577097",
         "updated_at": "2021-03-23 19:03:42.577097",
         "transactionId": "rrtGJAd2ae1e-4",
         "balance": 18,
         "ref": "cgxhizb51rfjap",
         "description": "Attendance for Intro to Game Dev with Unity",
         "status": 1,
         "userId": 85,
         "givenById": "nan",
         "courseId": 5,
         "_deepnote_index_column": 278
        },
        {
         "id": 284,
         "created_at": "2021-03-23 19:03:59.083202",
         "updated_at": "2021-03-23 19:03:59.083202",
         "transactionId": "rrtGJAd2ae1e-4",
         "balance": 18,
         "ref": "8g0ftdvb398tnf",
         "description": "Attendance for Intro to Game Dev with Unity",
         "status": 1,
         "userId": 91,
         "givenById": "nan",
         "courseId": 5,
         "_deepnote_index_column": 279
        }
       ]
      },
      "text/plain": "      id                  created_at                  updated_at  \\\n0      1  2020-07-16 21:42:53.867898  2020-07-05 21:42:53.867898   \n1      2  2020-07-17 02:04:58.423793  2020-07-17 02:04:58.423793   \n2      3  2020-07-17 14:24:59.858090  2020-07-17 14:24:59.858090   \n3      4  2020-07-17 16:37:37.971197  2020-07-17 16:37:37.971197   \n4      5  2020-07-18 11:20:16.176885  2020-07-18 11:20:16.176885   \n..   ...                         ...                         ...   \n512  517  2022-02-24 09:39:30.731129  2022-02-24 09:39:30.731129   \n513  518  2022-03-07 02:13:51.585097  2022-03-07 02:13:51.585097   \n514  519  2022-03-09 20:13:30.713507  2022-03-09 20:13:30.713507   \n515  520  2022-04-20 18:28:57.911223  2022-04-20 18:28:57.911223   \n516  521  2022-04-21 10:17:51.918749  2022-04-21 10:17:51.918749   \n\n       transactionId  balance             ref              description  \\\n0    first-login-otd       20  ijb2itytxdwwyg  First log-in of the day   \n1    first-login-otd       20  hur4tkqvivd9be  First log-in of the day   \n2    first-login-otd       20  484aj9i885s7gi  First log-in of the day   \n3    first-login-otd       20  e8rg666muiqoqw  First log-in of the day   \n4    first-login-otd       20  xs75yufl0omicm  First log-in of the day   \n..               ...      ...             ...                      ...   \n512  first-login-otd       20  t8q3fzkcv2lxi3  First log-in of the day   \n513  first-login-otd       20  iwe4tjw5b0y36s  First log-in of the day   \n514  first-login-otd       20  ojb6is1o3u5nww  First log-in of the day   \n515  first-login-otd       20  x0b4gdiz67n9t5  First log-in of the day   \n516  first-login-otd       20  o29su3dzzskpvw  First log-in of the day   \n\n     status  userId  givenById  courseId  \n0         1       2        NaN       NaN  \n1         1      50        NaN       NaN  \n2         1       2        NaN       NaN  \n3         1      51        NaN       NaN  \n4         1       2        NaN       NaN  \n..      ...     ...        ...       ...  \n512       1       2        NaN       NaN  \n513       1       2        NaN       NaN  \n514       1       2        NaN       NaN  \n515       1       2        NaN       NaN  \n516       1       2        NaN       NaN  \n\n[517 rows x 11 columns]",
      "text/html": "<div>\n<style scoped>\n    .dataframe tbody tr th:only-of-type {\n        vertical-align: middle;\n    }\n\n    .dataframe tbody tr th {\n        vertical-align: top;\n    }\n\n    .dataframe thead th {\n        text-align: right;\n    }\n</style>\n<table border=\"1\" class=\"dataframe\">\n  <thead>\n    <tr style=\"text-align: right;\">\n      <th></th>\n      <th>id</th>\n      <th>created_at</th>\n      <th>updated_at</th>\n      <th>transactionId</th>\n      <th>balance</th>\n      <th>ref</th>\n      <th>description</th>\n      <th>status</th>\n      <th>userId</th>\n      <th>givenById</th>\n      <th>courseId</th>\n    </tr>\n  </thead>\n  <tbody>\n    <tr>\n      <th>0</th>\n      <td>1</td>\n      <td>2020-07-16 21:42:53.867898</td>\n      <td>2020-07-05 21:42:53.867898</td>\n      <td>first-login-otd</td>\n      <td>20</td>\n      <td>ijb2itytxdwwyg</td>\n      <td>First log-in of the day</td>\n      <td>1</td>\n      <td>2</td>\n      <td>NaN</td>\n      <td>NaN</td>\n    </tr>\n    <tr>\n      <th>1</th>\n      <td>2</td>\n      <td>2020-07-17 02:04:58.423793</td>\n      <td>2020-07-17 02:04:58.423793</td>\n      <td>first-login-otd</td>\n      <td>20</td>\n      <td>hur4tkqvivd9be</td>\n      <td>First log-in of the day</td>\n      <td>1</td>\n      <td>50</td>\n      <td>NaN</td>\n      <td>NaN</td>\n    </tr>\n    <tr>\n      <th>2</th>\n      <td>3</td>\n      <td>2020-07-17 14:24:59.858090</td>\n      <td>2020-07-17 14:24:59.858090</td>\n      <td>first-login-otd</td>\n      <td>20</td>\n      <td>484aj9i885s7gi</td>\n      <td>First log-in of the day</td>\n      <td>1</td>\n      <td>2</td>\n      <td>NaN</td>\n      <td>NaN</td>\n    </tr>\n    <tr>\n      <th>3</th>\n      <td>4</td>\n      <td>2020-07-17 16:37:37.971197</td>\n      <td>2020-07-17 16:37:37.971197</td>\n      <td>first-login-otd</td>\n      <td>20</td>\n      <td>e8rg666muiqoqw</td>\n      <td>First log-in of the day</td>\n      <td>1</td>\n      <td>51</td>\n      <td>NaN</td>\n      <td>NaN</td>\n    </tr>\n    <tr>\n      <th>4</th>\n      <td>5</td>\n      <td>2020-07-18 11:20:16.176885</td>\n      <td>2020-07-18 11:20:16.176885</td>\n      <td>first-login-otd</td>\n      <td>20</td>\n      <td>xs75yufl0omicm</td>\n      <td>First log-in of the day</td>\n      <td>1</td>\n      <td>2</td>\n      <td>NaN</td>\n      <td>NaN</td>\n    </tr>\n    <tr>\n      <th>...</th>\n      <td>...</td>\n      <td>...</td>\n      <td>...</td>\n      <td>...</td>\n      <td>...</td>\n      <td>...</td>\n      <td>...</td>\n      <td>...</td>\n      <td>...</td>\n      <td>...</td>\n      <td>...</td>\n    </tr>\n    <tr>\n      <th>512</th>\n      <td>517</td>\n      <td>2022-02-24 09:39:30.731129</td>\n      <td>2022-02-24 09:39:30.731129</td>\n      <td>first-login-otd</td>\n      <td>20</td>\n      <td>t8q3fzkcv2lxi3</td>\n      <td>First log-in of the day</td>\n      <td>1</td>\n      <td>2</td>\n      <td>NaN</td>\n      <td>NaN</td>\n    </tr>\n    <tr>\n      <th>513</th>\n      <td>518</td>\n      <td>2022-03-07 02:13:51.585097</td>\n      <td>2022-03-07 02:13:51.585097</td>\n      <td>first-login-otd</td>\n      <td>20</td>\n      <td>iwe4tjw5b0y36s</td>\n      <td>First log-in of the day</td>\n      <td>1</td>\n      <td>2</td>\n      <td>NaN</td>\n      <td>NaN</td>\n    </tr>\n    <tr>\n      <th>514</th>\n      <td>519</td>\n      <td>2022-03-09 20:13:30.713507</td>\n      <td>2022-03-09 20:13:30.713507</td>\n      <td>first-login-otd</td>\n      <td>20</td>\n      <td>ojb6is1o3u5nww</td>\n      <td>First log-in of the day</td>\n      <td>1</td>\n      <td>2</td>\n      <td>NaN</td>\n      <td>NaN</td>\n    </tr>\n    <tr>\n      <th>515</th>\n      <td>520</td>\n      <td>2022-04-20 18:28:57.911223</td>\n      <td>2022-04-20 18:28:57.911223</td>\n      <td>first-login-otd</td>\n      <td>20</td>\n      <td>x0b4gdiz67n9t5</td>\n      <td>First log-in of the day</td>\n      <td>1</td>\n      <td>2</td>\n      <td>NaN</td>\n      <td>NaN</td>\n    </tr>\n    <tr>\n      <th>516</th>\n      <td>521</td>\n      <td>2022-04-21 10:17:51.918749</td>\n      <td>2022-04-21 10:17:51.918749</td>\n      <td>first-login-otd</td>\n      <td>20</td>\n      <td>o29su3dzzskpvw</td>\n      <td>First log-in of the day</td>\n      <td>1</td>\n      <td>2</td>\n      <td>NaN</td>\n      <td>NaN</td>\n    </tr>\n  </tbody>\n</table>\n<p>517 rows × 11 columns</p>\n</div>"
     },
     "metadata": {}
    }
   ]
  },
  {
   "cell_type": "code",
   "metadata": {
    "cell_id": "9b83c7c9a89344ef8e54b5933ba168a9",
    "tags": [],
    "deepnote_to_be_reexecuted": false,
    "source_hash": "f87c082b",
    "execution_start": 1652664893981,
    "execution_millis": 5,
    "deepnote_cell_type": "code",
    "deepnote_cell_height": 81
   },
   "source": "points = points.drop(columns=['created_at', 'updated_at', 'ref'])",
   "execution_count": 20,
   "outputs": []
  },
  {
   "cell_type": "code",
   "metadata": {
    "cell_id": "6bfbac6349af42c78d1726ebb9b33a7a",
    "tags": [],
    "deepnote_to_be_reexecuted": false,
    "source_hash": "f2fc21b0",
    "execution_start": 1652664893990,
    "execution_millis": 76,
    "deepnote_cell_type": "code",
    "deepnote_cell_height": 631.59375
   },
   "source": "involement = points.merge(users.set_index('userId'), on='userId')\ninvolement",
   "execution_count": 21,
   "outputs": [
    {
     "output_type": "execute_result",
     "execution_count": 21,
     "data": {
      "application/vnd.deepnote.dataframe.v3+json": {
       "column_count": 12,
       "row_count": 517,
       "columns": [
        {
         "name": "id",
         "dtype": "int64",
         "stats": {
          "unique_count": 517,
          "nan_count": 0,
          "min": "1",
          "max": "521",
          "histogram": [
           {
            "bin_start": 1,
            "bin_end": 53,
            "count": 52
           },
           {
            "bin_start": 53,
            "bin_end": 105,
            "count": 49
           },
           {
            "bin_start": 105,
            "bin_end": 157,
            "count": 52
           },
           {
            "bin_start": 157,
            "bin_end": 209,
            "count": 51
           },
           {
            "bin_start": 209,
            "bin_end": 261,
            "count": 52
           },
           {
            "bin_start": 261,
            "bin_end": 313,
            "count": 52
           },
           {
            "bin_start": 313,
            "bin_end": 365,
            "count": 52
           },
           {
            "bin_start": 365,
            "bin_end": 417,
            "count": 52
           },
           {
            "bin_start": 417,
            "bin_end": 469,
            "count": 52
           },
           {
            "bin_start": 469,
            "bin_end": 521,
            "count": 53
           }
          ]
         }
        },
        {
         "name": "transactionId",
         "dtype": "object",
         "stats": {
          "unique_count": 38,
          "nan_count": 0,
          "categories": [
           {
            "name": "first-login-otd",
            "count": 370
           },
           {
            "name": "resource-access-rrtGJAd2ae1e-286e1a92d35",
            "count": 10
           },
           {
            "name": "36 others",
            "count": 137
           }
          ]
         }
        },
        {
         "name": "balance",
         "dtype": "int64",
         "stats": {
          "unique_count": 9,
          "nan_count": 0,
          "min": "1",
          "max": "25",
          "histogram": [
           {
            "bin_start": 1,
            "bin_end": 3.4,
            "count": 3
           },
           {
            "bin_start": 3.4,
            "bin_end": 5.8,
            "count": 1
           },
           {
            "bin_start": 5.8,
            "bin_end": 8.2,
            "count": 0
           },
           {
            "bin_start": 8.2,
            "bin_end": 10.6,
            "count": 2
           },
           {
            "bin_start": 10.6,
            "bin_end": 13,
            "count": 86
           },
           {
            "bin_start": 13,
            "bin_end": 15.399999999999999,
            "count": 1
           },
           {
            "bin_start": 15.399999999999999,
            "bin_end": 17.8,
            "count": 0
           },
           {
            "bin_start": 17.8,
            "bin_end": 20.2,
            "count": 423
           },
           {
            "bin_start": 20.2,
            "bin_end": 22.599999999999998,
            "count": 0
           },
           {
            "bin_start": 22.599999999999998,
            "bin_end": 25,
            "count": 1
           }
          ]
         }
        },
        {
         "name": "description",
         "dtype": "object",
         "stats": {
          "unique_count": 35,
          "nan_count": 0,
          "categories": [
           {
            "name": "First log-in of the day",
            "count": 369
           },
           {
            "name": "Attendance for Intro to Game Dev with Unity",
            "count": 46
           },
           {
            "name": "33 others",
            "count": 102
           }
          ]
         }
        },
        {
         "name": "status",
         "dtype": "int64",
         "stats": {
          "unique_count": 1,
          "nan_count": 0,
          "min": "1",
          "max": "1",
          "histogram": [
           {
            "bin_start": 0.5,
            "bin_end": 0.6,
            "count": 0
           },
           {
            "bin_start": 0.6,
            "bin_end": 0.7,
            "count": 0
           },
           {
            "bin_start": 0.7,
            "bin_end": 0.8,
            "count": 0
           },
           {
            "bin_start": 0.8,
            "bin_end": 0.9,
            "count": 0
           },
           {
            "bin_start": 0.9,
            "bin_end": 1,
            "count": 0
           },
           {
            "bin_start": 1,
            "bin_end": 1.1,
            "count": 517
           },
           {
            "bin_start": 1.1,
            "bin_end": 1.2000000000000002,
            "count": 0
           },
           {
            "bin_start": 1.2000000000000002,
            "bin_end": 1.3,
            "count": 0
           },
           {
            "bin_start": 1.3,
            "bin_end": 1.4,
            "count": 0
           },
           {
            "bin_start": 1.4,
            "bin_end": 1.5,
            "count": 0
           }
          ]
         }
        },
        {
         "name": "userId",
         "dtype": "int64",
         "stats": {
          "unique_count": 28,
          "nan_count": 0,
          "min": "1",
          "max": "131",
          "histogram": [
           {
            "bin_start": 1,
            "bin_end": 14,
            "count": 244
           },
           {
            "bin_start": 14,
            "bin_end": 27,
            "count": 0
           },
           {
            "bin_start": 27,
            "bin_end": 40,
            "count": 0
           },
           {
            "bin_start": 40,
            "bin_end": 53,
            "count": 33
           },
           {
            "bin_start": 53,
            "bin_end": 66,
            "count": 5
           },
           {
            "bin_start": 66,
            "bin_end": 79,
            "count": 85
           },
           {
            "bin_start": 79,
            "bin_end": 92,
            "count": 28
           },
           {
            "bin_start": 92,
            "bin_end": 105,
            "count": 3
           },
           {
            "bin_start": 105,
            "bin_end": 118,
            "count": 106
           },
           {
            "bin_start": 118,
            "bin_end": 131,
            "count": 13
           }
          ]
         }
        },
        {
         "name": "givenById",
         "dtype": "float64",
         "stats": {
          "unique_count": 2,
          "nan_count": 511,
          "min": "2.0",
          "max": "4.0",
          "histogram": [
           {
            "bin_start": 2,
            "bin_end": 2.2,
            "count": 5
           },
           {
            "bin_start": 2.2,
            "bin_end": 2.4,
            "count": 0
           },
           {
            "bin_start": 2.4,
            "bin_end": 2.6,
            "count": 0
           },
           {
            "bin_start": 2.6,
            "bin_end": 2.8,
            "count": 0
           },
           {
            "bin_start": 2.8,
            "bin_end": 3,
            "count": 0
           },
           {
            "bin_start": 3,
            "bin_end": 3.2,
            "count": 0
           },
           {
            "bin_start": 3.2,
            "bin_end": 3.4000000000000004,
            "count": 0
           },
           {
            "bin_start": 3.4000000000000004,
            "bin_end": 3.6,
            "count": 0
           },
           {
            "bin_start": 3.6,
            "bin_end": 3.8,
            "count": 0
           },
           {
            "bin_start": 3.8,
            "bin_end": 4,
            "count": 1
           }
          ]
         }
        },
        {
         "name": "courseId",
         "dtype": "float64",
         "stats": {
          "unique_count": 4,
          "nan_count": 380,
          "min": "3.0",
          "max": "9.0",
          "histogram": [
           {
            "bin_start": 3,
            "bin_end": 3.6,
            "count": 1
           },
           {
            "bin_start": 3.6,
            "bin_end": 4.2,
            "count": 0
           },
           {
            "bin_start": 4.2,
            "bin_end": 4.8,
            "count": 0
           },
           {
            "bin_start": 4.8,
            "bin_end": 5.4,
            "count": 131
           },
           {
            "bin_start": 5.4,
            "bin_end": 6,
            "count": 0
           },
           {
            "bin_start": 6,
            "bin_end": 6.6,
            "count": 0
           },
           {
            "bin_start": 6.6,
            "bin_end": 7.2,
            "count": 0
           },
           {
            "bin_start": 7.2,
            "bin_end": 7.8,
            "count": 0
           },
           {
            "bin_start": 7.8,
            "bin_end": 8.399999999999999,
            "count": 1
           },
           {
            "bin_start": 8.399999999999999,
            "bin_end": 9,
            "count": 4
           }
          ]
         }
        },
        {
         "name": "lastName",
         "dtype": "object",
         "stats": {
          "unique_count": 27,
          "nan_count": 0,
          "categories": [
           {
            "name": "Cecile",
            "count": 161
           },
           {
            "name": "Khan",
            "count": 84
           },
           {
            "name": "25 others",
            "count": 272
           }
          ]
         }
        },
        {
         "name": "title",
         "dtype": "object",
         "stats": {
          "unique_count": 2,
          "nan_count": 0,
          "categories": [
           {
            "name": "They/Them",
            "count": 296
           },
           {
            "name": "[[REDACTED]]",
            "count": 221
           }
          ]
         }
        },
        {
         "name": "isSuperUser",
         "dtype": "int64",
         "stats": {
          "unique_count": 2,
          "nan_count": 0,
          "min": "0",
          "max": "1",
          "histogram": [
           {
            "bin_start": 0,
            "bin_end": 0.1,
            "count": 293
           },
           {
            "bin_start": 0.1,
            "bin_end": 0.2,
            "count": 0
           },
           {
            "bin_start": 0.2,
            "bin_end": 0.30000000000000004,
            "count": 0
           },
           {
            "bin_start": 0.30000000000000004,
            "bin_end": 0.4,
            "count": 0
           },
           {
            "bin_start": 0.4,
            "bin_end": 0.5,
            "count": 0
           },
           {
            "bin_start": 0.5,
            "bin_end": 0.6000000000000001,
            "count": 0
           },
           {
            "bin_start": 0.6000000000000001,
            "bin_end": 0.7000000000000001,
            "count": 0
           },
           {
            "bin_start": 0.7000000000000001,
            "bin_end": 0.8,
            "count": 0
           },
           {
            "bin_start": 0.8,
            "bin_end": 0.9,
            "count": 0
           },
           {
            "bin_start": 0.9,
            "bin_end": 1,
            "count": 224
           }
          ]
         }
        },
        {
         "name": "lastLogin",
         "dtype": "object",
         "stats": {
          "unique_count": 28,
          "nan_count": 0,
          "categories": [
           {
            "name": "2022-04-21 10:17:50",
            "count": 161
           },
           {
            "name": "2022-02-24 13:05:16",
            "count": 60
           },
           {
            "name": "26 others",
            "count": 296
           }
          ]
         }
        },
        {
         "name": "_deepnote_index_column",
         "dtype": "int64"
        }
       ],
       "rows": [
        {
         "id": 1,
         "transactionId": "first-login-otd",
         "balance": 20,
         "description": "First log-in of the day",
         "status": 1,
         "userId": 2,
         "givenById": "nan",
         "courseId": "nan",
         "lastName": "Cecile",
         "title": "[[REDACTED]]",
         "isSuperUser": 1,
         "lastLogin": "2022-04-21 10:17:50",
         "_deepnote_index_column": 0
        },
        {
         "id": 3,
         "transactionId": "first-login-otd",
         "balance": 20,
         "description": "First log-in of the day",
         "status": 1,
         "userId": 2,
         "givenById": "nan",
         "courseId": "nan",
         "lastName": "Cecile",
         "title": "[[REDACTED]]",
         "isSuperUser": 1,
         "lastLogin": "2022-04-21 10:17:50",
         "_deepnote_index_column": 1
        },
        {
         "id": 5,
         "transactionId": "first-login-otd",
         "balance": 20,
         "description": "First log-in of the day",
         "status": 1,
         "userId": 2,
         "givenById": "nan",
         "courseId": "nan",
         "lastName": "Cecile",
         "title": "[[REDACTED]]",
         "isSuperUser": 1,
         "lastLogin": "2022-04-21 10:17:50",
         "_deepnote_index_column": 2
        },
        {
         "id": 8,
         "transactionId": "first-login-otd",
         "balance": 20,
         "description": "First log-in of the day",
         "status": 1,
         "userId": 2,
         "givenById": "nan",
         "courseId": "nan",
         "lastName": "Cecile",
         "title": "[[REDACTED]]",
         "isSuperUser": 1,
         "lastLogin": "2022-04-21 10:17:50",
         "_deepnote_index_column": 3
        },
        {
         "id": 14,
         "transactionId": "first-login-otd",
         "balance": 20,
         "description": "First log-in of the day",
         "status": 1,
         "userId": 2,
         "givenById": "nan",
         "courseId": "nan",
         "lastName": "Cecile",
         "title": "[[REDACTED]]",
         "isSuperUser": 1,
         "lastLogin": "2022-04-21 10:17:50",
         "_deepnote_index_column": 4
        },
        {
         "id": 15,
         "transactionId": "first-login-otd",
         "balance": 20,
         "description": "First log-in of the day",
         "status": 1,
         "userId": 2,
         "givenById": "nan",
         "courseId": "nan",
         "lastName": "Cecile",
         "title": "[[REDACTED]]",
         "isSuperUser": 1,
         "lastLogin": "2022-04-21 10:17:50",
         "_deepnote_index_column": 5
        },
        {
         "id": 17,
         "transactionId": "first-login-otd",
         "balance": 20,
         "description": "First log-in of the day",
         "status": 1,
         "userId": 2,
         "givenById": "nan",
         "courseId": "nan",
         "lastName": "Cecile",
         "title": "[[REDACTED]]",
         "isSuperUser": 1,
         "lastLogin": "2022-04-21 10:17:50",
         "_deepnote_index_column": 6
        },
        {
         "id": 21,
         "transactionId": "first-login-otd",
         "balance": 20,
         "description": "First log-in of the day",
         "status": 1,
         "userId": 2,
         "givenById": "nan",
         "courseId": "nan",
         "lastName": "Cecile",
         "title": "[[REDACTED]]",
         "isSuperUser": 1,
         "lastLogin": "2022-04-21 10:17:50",
         "_deepnote_index_column": 7
        },
        {
         "id": 24,
         "transactionId": "first-login-otd",
         "balance": 20,
         "description": "First log-in of the day",
         "status": 1,
         "userId": 2,
         "givenById": "nan",
         "courseId": "nan",
         "lastName": "Cecile",
         "title": "[[REDACTED]]",
         "isSuperUser": 1,
         "lastLogin": "2022-04-21 10:17:50",
         "_deepnote_index_column": 8
        },
        {
         "id": 26,
         "transactionId": "first-login-otd",
         "balance": 20,
         "description": "First log-in of the day",
         "status": 1,
         "userId": 2,
         "givenById": "nan",
         "courseId": "nan",
         "lastName": "Cecile",
         "title": "[[REDACTED]]",
         "isSuperUser": 1,
         "lastLogin": "2022-04-21 10:17:50",
         "_deepnote_index_column": 9
        }
       ]
      },
      "text/plain": "      id    transactionId  balance              description  status  userId  \\\n0      1  first-login-otd       20  First log-in of the day       1       2   \n1      3  first-login-otd       20  First log-in of the day       1       2   \n2      5  first-login-otd       20  First log-in of the day       1       2   \n3      8  first-login-otd       20  First log-in of the day       1       2   \n4     14  first-login-otd       20  First log-in of the day       1       2   \n..   ...              ...      ...                      ...     ...     ...   \n512  494  first-login-otd       20  First log-in of the day       1     130   \n513  498  first-login-otd       20  First log-in of the day       1     130   \n514  500  first-login-otd       20  First log-in of the day       1     130   \n515  503  first-login-otd       20  First log-in of the day       1     130   \n516  482  first-login-otd       20  First log-in of the day       1     131   \n\n     givenById  courseId  lastName         title  isSuperUser  \\\n0          NaN       NaN    Cecile  [[REDACTED]]            1   \n1          NaN       NaN    Cecile  [[REDACTED]]            1   \n2          NaN       NaN    Cecile  [[REDACTED]]            1   \n3          NaN       NaN    Cecile  [[REDACTED]]            1   \n4          NaN       NaN    Cecile  [[REDACTED]]            1   \n..         ...       ...       ...           ...          ...   \n512        NaN       NaN  Saunders     They/Them            0   \n513        NaN       NaN  Saunders     They/Them            0   \n514        NaN       NaN  Saunders     They/Them            0   \n515        NaN       NaN  Saunders     They/Them            0   \n516        NaN       NaN      Webb     They/Them            0   \n\n               lastLogin  \n0    2022-04-21 10:17:50  \n1    2022-04-21 10:17:50  \n2    2022-04-21 10:17:50  \n3    2022-04-21 10:17:50  \n4    2022-04-21 10:17:50  \n..                   ...  \n512  2021-07-26 18:07:51  \n513  2021-07-26 18:07:51  \n514  2021-07-26 18:07:51  \n515  2021-07-26 18:07:51  \n516  2021-07-14 09:27:50  \n\n[517 rows x 12 columns]",
      "text/html": "<div>\n<style scoped>\n    .dataframe tbody tr th:only-of-type {\n        vertical-align: middle;\n    }\n\n    .dataframe tbody tr th {\n        vertical-align: top;\n    }\n\n    .dataframe thead th {\n        text-align: right;\n    }\n</style>\n<table border=\"1\" class=\"dataframe\">\n  <thead>\n    <tr style=\"text-align: right;\">\n      <th></th>\n      <th>id</th>\n      <th>transactionId</th>\n      <th>balance</th>\n      <th>description</th>\n      <th>status</th>\n      <th>userId</th>\n      <th>givenById</th>\n      <th>courseId</th>\n      <th>lastName</th>\n      <th>title</th>\n      <th>isSuperUser</th>\n      <th>lastLogin</th>\n    </tr>\n  </thead>\n  <tbody>\n    <tr>\n      <th>0</th>\n      <td>1</td>\n      <td>first-login-otd</td>\n      <td>20</td>\n      <td>First log-in of the day</td>\n      <td>1</td>\n      <td>2</td>\n      <td>NaN</td>\n      <td>NaN</td>\n      <td>Cecile</td>\n      <td>[[REDACTED]]</td>\n      <td>1</td>\n      <td>2022-04-21 10:17:50</td>\n    </tr>\n    <tr>\n      <th>1</th>\n      <td>3</td>\n      <td>first-login-otd</td>\n      <td>20</td>\n      <td>First log-in of the day</td>\n      <td>1</td>\n      <td>2</td>\n      <td>NaN</td>\n      <td>NaN</td>\n      <td>Cecile</td>\n      <td>[[REDACTED]]</td>\n      <td>1</td>\n      <td>2022-04-21 10:17:50</td>\n    </tr>\n    <tr>\n      <th>2</th>\n      <td>5</td>\n      <td>first-login-otd</td>\n      <td>20</td>\n      <td>First log-in of the day</td>\n      <td>1</td>\n      <td>2</td>\n      <td>NaN</td>\n      <td>NaN</td>\n      <td>Cecile</td>\n      <td>[[REDACTED]]</td>\n      <td>1</td>\n      <td>2022-04-21 10:17:50</td>\n    </tr>\n    <tr>\n      <th>3</th>\n      <td>8</td>\n      <td>first-login-otd</td>\n      <td>20</td>\n      <td>First log-in of the day</td>\n      <td>1</td>\n      <td>2</td>\n      <td>NaN</td>\n      <td>NaN</td>\n      <td>Cecile</td>\n      <td>[[REDACTED]]</td>\n      <td>1</td>\n      <td>2022-04-21 10:17:50</td>\n    </tr>\n    <tr>\n      <th>4</th>\n      <td>14</td>\n      <td>first-login-otd</td>\n      <td>20</td>\n      <td>First log-in of the day</td>\n      <td>1</td>\n      <td>2</td>\n      <td>NaN</td>\n      <td>NaN</td>\n      <td>Cecile</td>\n      <td>[[REDACTED]]</td>\n      <td>1</td>\n      <td>2022-04-21 10:17:50</td>\n    </tr>\n    <tr>\n      <th>...</th>\n      <td>...</td>\n      <td>...</td>\n      <td>...</td>\n      <td>...</td>\n      <td>...</td>\n      <td>...</td>\n      <td>...</td>\n      <td>...</td>\n      <td>...</td>\n      <td>...</td>\n      <td>...</td>\n      <td>...</td>\n    </tr>\n    <tr>\n      <th>512</th>\n      <td>494</td>\n      <td>first-login-otd</td>\n      <td>20</td>\n      <td>First log-in of the day</td>\n      <td>1</td>\n      <td>130</td>\n      <td>NaN</td>\n      <td>NaN</td>\n      <td>Saunders</td>\n      <td>They/Them</td>\n      <td>0</td>\n      <td>2021-07-26 18:07:51</td>\n    </tr>\n    <tr>\n      <th>513</th>\n      <td>498</td>\n      <td>first-login-otd</td>\n      <td>20</td>\n      <td>First log-in of the day</td>\n      <td>1</td>\n      <td>130</td>\n      <td>NaN</td>\n      <td>NaN</td>\n      <td>Saunders</td>\n      <td>They/Them</td>\n      <td>0</td>\n      <td>2021-07-26 18:07:51</td>\n    </tr>\n    <tr>\n      <th>514</th>\n      <td>500</td>\n      <td>first-login-otd</td>\n      <td>20</td>\n      <td>First log-in of the day</td>\n      <td>1</td>\n      <td>130</td>\n      <td>NaN</td>\n      <td>NaN</td>\n      <td>Saunders</td>\n      <td>They/Them</td>\n      <td>0</td>\n      <td>2021-07-26 18:07:51</td>\n    </tr>\n    <tr>\n      <th>515</th>\n      <td>503</td>\n      <td>first-login-otd</td>\n      <td>20</td>\n      <td>First log-in of the day</td>\n      <td>1</td>\n      <td>130</td>\n      <td>NaN</td>\n      <td>NaN</td>\n      <td>Saunders</td>\n      <td>They/Them</td>\n      <td>0</td>\n      <td>2021-07-26 18:07:51</td>\n    </tr>\n    <tr>\n      <th>516</th>\n      <td>482</td>\n      <td>first-login-otd</td>\n      <td>20</td>\n      <td>First log-in of the day</td>\n      <td>1</td>\n      <td>131</td>\n      <td>NaN</td>\n      <td>NaN</td>\n      <td>Webb</td>\n      <td>They/Them</td>\n      <td>0</td>\n      <td>2021-07-14 09:27:50</td>\n    </tr>\n  </tbody>\n</table>\n<p>517 rows × 12 columns</p>\n</div>"
     },
     "metadata": {}
    }
   ]
  },
  {
   "cell_type": "code",
   "metadata": {
    "cell_id": "27d89cb7acea43c985dbc79f6942b04e",
    "tags": [],
    "deepnote_to_be_reexecuted": false,
    "source_hash": "c74889be",
    "execution_start": 1652664894068,
    "execution_millis": 24,
    "deepnote_cell_type": "code",
    "deepnote_cell_height": 135
   },
   "source": "courses = pd.read_csv('courses.csv')\ninstructors = pd.read_csv('courses_instructors.csv')\nlead_instructors = pd.read_csv('courses_lead_instructors.csv')\nlearners = pd.read_csv('learners.csv')",
   "execution_count": 22,
   "outputs": []
  },
  {
   "cell_type": "code",
   "metadata": {
    "cell_id": "6288f493a663492194c462c868c347e3",
    "tags": [],
    "deepnote_to_be_reexecuted": false,
    "source_hash": "b27add54",
    "execution_start": 1652664894152,
    "execution_millis": 36,
    "deepnote_cell_type": "code",
    "deepnote_cell_height": 613.59375
   },
   "source": "courses",
   "execution_count": 23,
   "outputs": [
    {
     "output_type": "execute_result",
     "execution_count": 23,
     "data": {
      "application/vnd.deepnote.dataframe.v3+json": {
       "column_count": 19,
       "row_count": 11,
       "columns": [
        {
         "name": "id",
         "dtype": "int64",
         "stats": {
          "unique_count": 11,
          "nan_count": 0,
          "min": "1",
          "max": "12",
          "histogram": [
           {
            "bin_start": 1,
            "bin_end": 2.1,
            "count": 2
           },
           {
            "bin_start": 2.1,
            "bin_end": 3.2,
            "count": 1
           },
           {
            "bin_start": 3.2,
            "bin_end": 4.300000000000001,
            "count": 0
           },
           {
            "bin_start": 4.300000000000001,
            "bin_end": 5.4,
            "count": 1
           },
           {
            "bin_start": 5.4,
            "bin_end": 6.5,
            "count": 1
           },
           {
            "bin_start": 6.5,
            "bin_end": 7.6000000000000005,
            "count": 1
           },
           {
            "bin_start": 7.6000000000000005,
            "bin_end": 8.700000000000001,
            "count": 1
           },
           {
            "bin_start": 8.700000000000001,
            "bin_end": 9.8,
            "count": 1
           },
           {
            "bin_start": 9.8,
            "bin_end": 10.9,
            "count": 1
           },
           {
            "bin_start": 10.9,
            "bin_end": 12,
            "count": 2
           }
          ]
         }
        },
        {
         "name": "created_at",
         "dtype": "object",
         "stats": {
          "unique_count": 9,
          "nan_count": 0,
          "categories": [
           {
            "name": "2020-07-16 21:34:52.530700",
            "count": 3
           },
           {
            "name": "2020-07-16 21:34:49.396430",
            "count": 1
           },
           {
            "name": "7 others",
            "count": 7
           }
          ]
         }
        },
        {
         "name": "updated_at",
         "dtype": "object",
         "stats": {
          "unique_count": 11,
          "nan_count": 0,
          "categories": [
           {
            "name": "2021-07-15 18:35:38.968820",
            "count": 1
           },
           {
            "name": "2021-07-15 18:35:37.204083",
            "count": 1
           },
           {
            "name": "9 others",
            "count": 9
           }
          ]
         }
        },
        {
         "name": "name",
         "dtype": "object",
         "stats": {
          "unique_count": 10,
          "nan_count": 0,
          "categories": [
           {
            "name": "Intro to Web Dev",
            "count": 2
           },
           {
            "name": "Workings of the Web",
            "count": 1
           },
           {
            "name": "8 others",
            "count": 8
           }
          ]
         }
        },
        {
         "name": "description",
         "dtype": "object",
         "stats": {
          "unique_count": 11,
          "nan_count": 0,
          "categories": [
           {
            "name": "<p>Project Function is proud to bring you this grand opportunity to come learn with us!</p><p>In our inaugural course, Workings of The Web, we'll be building your knowledge from the ground up, practicing Front End Web Development, User Interface (UI) / User Experience (UX) and Backend Web Development. Each lesson is beginner-oriented, yes, but we are more than willing to help you get to a standard where you're confident with (and proud of!) your newly-acquired skills, whether you wish to pursue a career in Tech or not.</p><p>Classes with be held once a week, every Tuesday at Unidays (NG7 1FB), with the course lasting 3 months.</p><p><iframe width=\"100%\" height=\"500px\" id=\"gmap_canvas\" src=\"https://maps.google.com/maps?q=Unidays%20Nottingham&amp;t=&amp;z=17&amp;ie=UTF8&amp;iwloc=&amp;output=embed\" frameborder=\"0\" scrolling=\"no\" marginheight=\"0\" marginwidth=\"0\"></iframe></p><p><br></p><p>Enrol onto this course (by clicking on the button on the top right corner of your screen) to stay notified of any changes made to this course, to access member-only resources and sessions.</p>",
            "count": 1
           },
           {
            "name": "<p>Getting a handle on the concepts and jargon surrounding web development and website creation can be a full-time job in and of itself, especially when you are doing it alone. How do you start? Where do you begin? Should you be using Javascript or jQuery?</p><p>We've designed this course to cover the basics of web development; from structuring your web pages using HTML, to styling them using CSS. In addition, you will be introduced to programming fundamentals by having a look at one of the building blocks of web pages; JavaScript. Instead of watching countless videos, and ending up wondering how to translate those videos into code, you will be guided through the process, and applying what you learn through interactive tasks and challenges throughout each session.</p><p>Classes will start on June 10, and be held once a week, every Tuesday at Nottingham Trent University's City Campus for 6 weeks. By the end of the course, you will be comfortable enough to develop a fully functional static website, a todo-list web application, as well as custom JavaScript components.<br></p><p><iframe width=\"100%\" height=\"500px\" id=\"gmap_canvas\" src=\"https://www.google.com/maps/embed?pb=!1m18!1m12!1m3!1d600.8837437410137!2d-1.1535251707510796!3d52.9567899987437!2m3!1f0!2f0!3f0!3m2!1i1024!2i768!4f13.1!3m3!1m2!1s0x0%3A0x0!2zNTLCsDU3JzI0LjQiTiAxwrAwOScxMC43Ilc!5e0!3m2!1sen!2suk!4v1553111240584\" frameborder=\"0\" scrolling=\"no\" marginheight=\"0\" marginwidth=\"0\"></iframe></p><p>Places are limited! So apply now to secure your place&nbsp;</p><p>[SIGN UP CLOSED]</p>",
            "count": 1
           },
           {
            "name": "9 others",
            "count": 9
           }
          ]
         }
        },
        {
         "name": "physicalAddress",
         "dtype": "object",
         "stats": {
          "unique_count": 2,
          "nan_count": 9,
          "categories": [
           {
            "name": "TBC",
            "count": 1
           },
           {
            "name": "Nonsuch Studios, 92 Lower Parliament St, Nottingham, NG1 1EH",
            "count": 1
           },
           {
            "name": "Missing",
            "count": 9
           }
          ]
         }
        },
        {
         "name": "imageURL",
         "dtype": "object",
         "stats": {
          "unique_count": 1,
          "nan_count": 0,
          "categories": [
           {
            "name": "[[REDACTED]]",
            "count": 11
           }
          ]
         }
        },
        {
         "name": "shortCode",
         "dtype": "object",
         "stats": {
          "unique_count": 11,
          "nan_count": 0,
          "categories": [
           {
            "name": "Kvl0SMynsJtD",
            "count": 1
           },
           {
            "name": "fJ3LSIfr7ii2",
            "count": 1
           },
           {
            "name": "9 others",
            "count": 9
           }
          ]
         }
        },
        {
         "name": "capacity",
         "dtype": "int64",
         "stats": {
          "unique_count": 8,
          "nan_count": 0,
          "min": "0",
          "max": "45",
          "histogram": [
           {
            "bin_start": 0,
            "bin_end": 4.5,
            "count": 1
           },
           {
            "bin_start": 4.5,
            "bin_end": 9,
            "count": 0
           },
           {
            "bin_start": 9,
            "bin_end": 13.5,
            "count": 2
           },
           {
            "bin_start": 13.5,
            "bin_end": 18,
            "count": 1
           },
           {
            "bin_start": 18,
            "bin_end": 22.5,
            "count": 2
           },
           {
            "bin_start": 22.5,
            "bin_end": 27,
            "count": 3
           },
           {
            "bin_start": 27,
            "bin_end": 31.5,
            "count": 1
           },
           {
            "bin_start": 31.5,
            "bin_end": 36,
            "count": 0
           },
           {
            "bin_start": 36,
            "bin_end": 40.5,
            "count": 0
           },
           {
            "bin_start": 40.5,
            "bin_end": 45,
            "count": 1
           }
          ]
         }
        },
        {
         "name": "sessionCount",
         "dtype": "int64",
         "stats": {
          "unique_count": 4,
          "nan_count": 0,
          "min": "1",
          "max": "9",
          "histogram": [
           {
            "bin_start": 1,
            "bin_end": 1.8,
            "count": 2
           },
           {
            "bin_start": 1.8,
            "bin_end": 2.6,
            "count": 0
           },
           {
            "bin_start": 2.6,
            "bin_end": 3.4000000000000004,
            "count": 0
           },
           {
            "bin_start": 3.4000000000000004,
            "bin_end": 4.2,
            "count": 0
           },
           {
            "bin_start": 4.2,
            "bin_end": 5,
            "count": 0
           },
           {
            "bin_start": 5,
            "bin_end": 5.800000000000001,
            "count": 1
           },
           {
            "bin_start": 5.800000000000001,
            "bin_end": 6.6000000000000005,
            "count": 2
           },
           {
            "bin_start": 6.6000000000000005,
            "bin_end": 7.4,
            "count": 0
           },
           {
            "bin_start": 7.4,
            "bin_end": 8.2,
            "count": 0
           },
           {
            "bin_start": 8.2,
            "bin_end": 9,
            "count": 6
           }
          ]
         }
        },
        {
         "name": "isSignUpOpen",
         "dtype": "int64",
         "stats": {
          "unique_count": 2,
          "nan_count": 0,
          "min": "0",
          "max": "1",
          "histogram": [
           {
            "bin_start": 0,
            "bin_end": 0.1,
            "count": 7
           },
           {
            "bin_start": 0.1,
            "bin_end": 0.2,
            "count": 0
           },
           {
            "bin_start": 0.2,
            "bin_end": 0.30000000000000004,
            "count": 0
           },
           {
            "bin_start": 0.30000000000000004,
            "bin_end": 0.4,
            "count": 0
           },
           {
            "bin_start": 0.4,
            "bin_end": 0.5,
            "count": 0
           },
           {
            "bin_start": 0.5,
            "bin_end": 0.6000000000000001,
            "count": 0
           },
           {
            "bin_start": 0.6000000000000001,
            "bin_end": 0.7000000000000001,
            "count": 0
           },
           {
            "bin_start": 0.7000000000000001,
            "bin_end": 0.8,
            "count": 0
           },
           {
            "bin_start": 0.8,
            "bin_end": 0.9,
            "count": 0
           },
           {
            "bin_start": 0.9,
            "bin_end": 1,
            "count": 4
           }
          ]
         }
        },
        {
         "name": "startDate",
         "dtype": "object",
         "stats": {
          "unique_count": 11,
          "nan_count": 0,
          "categories": [
           {
            "name": "2019-01-22 03:37:52",
            "count": 1
           },
           {
            "name": "2019-06-10 19:35:45",
            "count": 1
           },
           {
            "name": "9 others",
            "count": 9
           }
          ]
         }
        },
        {
         "name": "endDate",
         "dtype": "object",
         "stats": {
          "unique_count": 11,
          "nan_count": 0,
          "categories": [
           {
            "name": "2019-03-26 03:31:58",
            "count": 1
           },
           {
            "name": "2019-06-04 19:35:45",
            "count": 1
           },
           {
            "name": "9 others",
            "count": 9
           }
          ]
         }
        },
        {
         "name": "acceptSignups",
         "dtype": "int64",
         "stats": {
          "unique_count": 2,
          "nan_count": 0,
          "min": "0",
          "max": "1",
          "histogram": [
           {
            "bin_start": 0,
            "bin_end": 0.1,
            "count": 3
           },
           {
            "bin_start": 0.1,
            "bin_end": 0.2,
            "count": 0
           },
           {
            "bin_start": 0.2,
            "bin_end": 0.30000000000000004,
            "count": 0
           },
           {
            "bin_start": 0.30000000000000004,
            "bin_end": 0.4,
            "count": 0
           },
           {
            "bin_start": 0.4,
            "bin_end": 0.5,
            "count": 0
           },
           {
            "bin_start": 0.5,
            "bin_end": 0.6000000000000001,
            "count": 0
           },
           {
            "bin_start": 0.6000000000000001,
            "bin_end": 0.7000000000000001,
            "count": 0
           },
           {
            "bin_start": 0.7000000000000001,
            "bin_end": 0.8,
            "count": 0
           },
           {
            "bin_start": 0.8,
            "bin_end": 0.9,
            "count": 0
           },
           {
            "bin_start": 0.9,
            "bin_end": 1,
            "count": 8
           }
          ]
         }
        },
        {
         "name": "webAddress",
         "dtype": "object",
         "stats": {
          "unique_count": 1,
          "nan_count": 10,
          "categories": [
           {
            "name": "[[REDACTED]]",
            "count": 1
           },
           {
            "name": "Missing",
            "count": 10
           }
          ]
         }
        },
        {
         "name": "isOnline",
         "dtype": "int64",
         "stats": {
          "unique_count": 2,
          "nan_count": 0,
          "min": "0",
          "max": "1",
          "histogram": [
           {
            "bin_start": 0,
            "bin_end": 0.1,
            "count": 7
           },
           {
            "bin_start": 0.1,
            "bin_end": 0.2,
            "count": 0
           },
           {
            "bin_start": 0.2,
            "bin_end": 0.30000000000000004,
            "count": 0
           },
           {
            "bin_start": 0.30000000000000004,
            "bin_end": 0.4,
            "count": 0
           },
           {
            "bin_start": 0.4,
            "bin_end": 0.5,
            "count": 0
           },
           {
            "bin_start": 0.5,
            "bin_end": 0.6000000000000001,
            "count": 0
           },
           {
            "bin_start": 0.6000000000000001,
            "bin_end": 0.7000000000000001,
            "count": 0
           },
           {
            "bin_start": 0.7000000000000001,
            "bin_end": 0.8,
            "count": 0
           },
           {
            "bin_start": 0.8,
            "bin_end": 0.9,
            "count": 0
           },
           {
            "bin_start": 0.9,
            "bin_end": 1,
            "count": 4
           }
          ]
         }
        },
        {
         "name": "isPublic",
         "dtype": "int64",
         "stats": {
          "unique_count": 2,
          "nan_count": 0,
          "min": "0",
          "max": "1",
          "histogram": [
           {
            "bin_start": 0,
            "bin_end": 0.1,
            "count": 1
           },
           {
            "bin_start": 0.1,
            "bin_end": 0.2,
            "count": 0
           },
           {
            "bin_start": 0.2,
            "bin_end": 0.30000000000000004,
            "count": 0
           },
           {
            "bin_start": 0.30000000000000004,
            "bin_end": 0.4,
            "count": 0
           },
           {
            "bin_start": 0.4,
            "bin_end": 0.5,
            "count": 0
           },
           {
            "bin_start": 0.5,
            "bin_end": 0.6000000000000001,
            "count": 0
           },
           {
            "bin_start": 0.6000000000000001,
            "bin_end": 0.7000000000000001,
            "count": 0
           },
           {
            "bin_start": 0.7000000000000001,
            "bin_end": 0.8,
            "count": 0
           },
           {
            "bin_start": 0.8,
            "bin_end": 0.9,
            "count": 0
           },
           {
            "bin_start": 0.9,
            "bin_end": 1,
            "count": 10
           }
          ]
         }
        },
        {
         "name": "categories",
         "dtype": "object",
         "stats": {
          "unique_count": 7,
          "nan_count": 1,
          "categories": [
           {
            "name": "Web Dev,FrontEnd",
            "count": 3
           },
           {
            "name": "6 others",
            "count": 7
           },
           {
            "name": "Missing",
            "count": 1
           }
          ]
         }
        },
        {
         "name": "signupURL",
         "dtype": "object",
         "stats": {
          "unique_count": 1,
          "nan_count": 10,
          "categories": [
           {
            "name": "[[REDACTED]]",
            "count": 1
           },
           {
            "name": "Missing",
            "count": 10
           }
          ]
         }
        },
        {
         "name": "_deepnote_index_column",
         "dtype": "int64"
        }
       ],
       "rows": [
        {
         "id": 1,
         "created_at": "2020-07-16 21:34:49.396430",
         "updated_at": "2021-07-15 18:35:38.968820",
         "name": "Workings of the Web",
         "description": "<p>Project Function is proud to bring you this grand opportunity to come learn with us!</p><p>In our inaugural course, Workings of The Web, we'll be building your knowledge from the ground up, practicing Front End Web Development, User Interface (UI) / User Experience (UX) and Backend Web Development. Each lesson is beginner-oriented, yes, but we are more than willing to help you get to a standard where you're confident with (and proud of!) your newly-acquired skills, whether you wish to pursue a career in Tech or not.</p><p>Classes with be held once a week, every Tuesday at Unidays (NG7 1FB), with the course lasting 3 months.</p><p><iframe width=\"100%\" height=\"500px\" id=\"gmap_canvas\" src=\"https://maps.google.com/maps?q=Unidays%20Nottingham&amp;t=&amp;z=17&amp;ie=UTF8&amp;iwloc=&amp;output=embed\" frameborder=\"0\" scrolling=\"no\" marginheight=\"0\" marginwidth=\"0\"></iframe></p><p><br></p><p>Enrol onto this course (by clicking on the button on the top right corner of your screen) to stay no…",
         "physicalAddress": "nan",
         "imageURL": "[[REDACTED]]",
         "shortCode": "Kvl0SMynsJtD",
         "capacity": 20,
         "sessionCount": 6,
         "isSignUpOpen": 0,
         "startDate": "2019-01-22 03:37:52",
         "endDate": "2019-03-26 03:31:58",
         "acceptSignups": 1,
         "webAddress": "nan",
         "isOnline": 0,
         "isPublic": 1,
         "categories": "Web Dev,Full-stack",
         "signupURL": "nan",
         "_deepnote_index_column": 0
        },
        {
         "id": 2,
         "created_at": "2020-07-16 21:34:50.218066",
         "updated_at": "2021-07-15 18:35:37.204083",
         "name": "Web Dev from Scratch",
         "description": "<p>Getting a handle on the concepts and jargon surrounding web development and website creation can be a full-time job in and of itself, especially when you are doing it alone. How do you start? Where do you begin? Should you be using Javascript or jQuery?</p><p>We've designed this course to cover the basics of web development; from structuring your web pages using HTML, to styling them using CSS. In addition, you will be introduced to programming fundamentals by having a look at one of the building blocks of web pages; JavaScript. Instead of watching countless videos, and ending up wondering how to translate those videos into code, you will be guided through the process, and applying what you learn through interactive tasks and challenges throughout each session.</p><p>Classes will start on June 10, and be held once a week, every Tuesday at Nottingham Trent University's City Campus for 6 weeks. By the end of the course, you will be comfortable enough to develop a fully functional sta…",
         "physicalAddress": "nan",
         "imageURL": "[[REDACTED]]",
         "shortCode": "fJ3LSIfr7ii2",
         "capacity": 28,
         "sessionCount": 6,
         "isSignUpOpen": 0,
         "startDate": "2019-06-10 19:35:45",
         "endDate": "2019-06-04 19:35:45",
         "acceptSignups": 1,
         "webAddress": "nan",
         "isOnline": 0,
         "isPublic": 1,
         "categories": "Web Dev",
         "signupURL": "nan",
         "_deepnote_index_column": 1
        },
        {
         "id": 3,
         "created_at": "2020-07-16 21:34:52.530700",
         "updated_at": "2021-07-14 18:00:40.611647",
         "name": "Intro to Web Dev",
         "description": "<p><span style=\"font-size: medium; letter-spacing: 1px;\">Getting a handle on the concepts and jargon surrounding web development and website creation can be a full-time job in and of itself, especially when you are doing it alone. How do you start? Where do you begin? Should you be using Javascript or jQuery?</span></p><p><span style=\"font-size: medium; letter-spacing: 1px;\">We've designed this course to cover the basics of web development; from structuring your web pages using HTML, to styling them using CSS. In addition, you will be introduced to programming fundamentals by having a look at one of the building blocks of web pages; JavaScript. Instead of watching countless videos, and ending up wondering how to translate those videos into code, you will be guided through the process, and applying what you learn through interactive tasks and challenges throughout each session.</span><br></p>",
         "physicalAddress": "nan",
         "imageURL": "[[REDACTED]]",
         "shortCode": "BqAGbp2lEUzi",
         "capacity": 45,
         "sessionCount": 9,
         "isSignUpOpen": 0,
         "startDate": "2019-11-05 12:36:31",
         "endDate": "2020-02-04 12:36:31",
         "acceptSignups": 1,
         "webAddress": "nan",
         "isOnline": 0,
         "isPublic": 1,
         "categories": "Web Dev",
         "signupURL": "nan",
         "_deepnote_index_column": 2
        },
        {
         "id": 5,
         "created_at": "2021-01-06 00:18:40.000000",
         "updated_at": "2021-07-14 18:00:57.955134",
         "name": "Intro to Game Dev with Unity",
         "description": "<p>Hey you! Do you like games? Do you like learning about how they’re made? Maybe you’re\nthe type to stay up watching the game awards, or maybe you’re the type of person who\nYouTube has decided to recommend a Game Maker’s Toolkit video for the thirtieth time this\nweek. No matter what your interest in games in general, learning a new skill in a fun way has\nalways been something us human-folk have been drawn towards.</p>\n\n<p>The layout of this course will have you diving in to one of the most popular and user-friendly\ngame-engines on the market: Unity! Having been used to make hit games like Overcooked,\nit’s definitely nothing to sneeze at!</p>\n\n<figure>\n<image src=\"/public/core/images/game_dev_image.png\" alt=\"Donkey-Kong-like game made in unity\"/>\n<figcaption>A basic platformer game, made in Unity</figcaption>\n</figure>\n\n<p>In this course, we’ll be going through how to use the Unity Game Engine itself as well as a\nbit of scripting using C# and Unity’s native libraries.</p>\n\n<p>By the e…",
         "physicalAddress": "nan",
         "imageURL": "[[REDACTED]]",
         "shortCode": "rrtGJAd2ae1e",
         "capacity": 25,
         "sessionCount": 9,
         "isSignUpOpen": 1,
         "startDate": "2021-03-02 00:00:00",
         "endDate": "2021-04-27 00:00:00",
         "acceptSignups": 1,
         "webAddress": "[[REDACTED]]",
         "isOnline": 1,
         "isPublic": 1,
         "categories": "Game Dev",
         "signupURL": "nan",
         "_deepnote_index_column": 3
        },
        {
         "id": 6,
         "created_at": "2020-07-16 21:34:52.530700",
         "updated_at": "2021-07-15 18:36:20.707914",
         "name": "Front End Fundamentals",
         "description": "<p><span style=\"font-size: medium; letter-spacing: 1px;\">We've designed this course to cover the basics of web development; from structuring your web pages using HTML, to styling them using CSS. In addition, you will be introduced to programming fundamentals by having a look at one of the building blocks of web pages; JavaScript. Instead of watching countless videos, and ending up wondering how to translate those videos into code, you will be guided through the process, and applying what you learn through interactive tasks and challenges throughout each session.</span><br></p>",
         "physicalAddress": "nan",
         "imageURL": "[[REDACTED]]",
         "shortCode": "k2D3c21UUzy6",
         "capacity": 25,
         "sessionCount": 9,
         "isSignUpOpen": 0,
         "startDate": "2021-06-01 00:36:31",
         "endDate": "2021-08-03 21:30:00",
         "acceptSignups": 1,
         "webAddress": "nan",
         "isOnline": 0,
         "isPublic": 1,
         "categories": "Web Dev,FrontEnd",
         "signupURL": "nan",
         "_deepnote_index_column": 4
        },
        {
         "id": 7,
         "created_at": "2020-07-16 21:34:52.530700",
         "updated_at": "2021-07-15 18:38:40.376688",
         "name": "Intro into VueJS",
         "description": "<p><span style=\"font-size: medium; letter-spacing: 1px;\">We are currently checking for interest in this course. If you would like to join, please drop us a message, and keep an eye on this page</span><br></p>",
         "physicalAddress": "nan",
         "imageURL": "[[REDACTED]]",
         "shortCode": "jH56xi8AbUy2",
         "capacity": 12,
         "sessionCount": 5,
         "isSignUpOpen": 1,
         "startDate": "2021-10-19 00:36:31",
         "endDate": "2021-12-14 21:30:00",
         "acceptSignups": 1,
         "webAddress": "nan",
         "isOnline": 1,
         "isPublic": 1,
         "categories": "Web Dev,FrontEnd",
         "signupURL": "nan",
         "_deepnote_index_column": 5
        },
        {
         "id": 8,
         "created_at": "2021-04-12 19:10:11.000000",
         "updated_at": "2022-02-24 14:30:16.281625",
         "name": "Intro to Next.js",
         "description": "<p><span style=\"font-size: medium; letter-spacing: 1px;\">We are currently checking for interest in this course. If you would like to join, please drop us a message, and keep an eye on this page</span><br></p>\n\n<h4 class=\"clean-para\" style=\"font-size: 1.4em; color:  var(--lm-black4-white3);\">Breakdown</h4>\n\n<p style=\"margin-bottom: 0; letter-spacing: 1px; font-size: medium;\">Week 1:</p>\n<ul class=\"clean-para\" style=\"margin-top:0;\">\n    <li>Course introduction</li>\n    <li>Intro to and writing HTML</li>\n    <li>Web page structures</li>\n    <li>Intro to and writing CSS</li>\n    <li>The anatomy of a web page</li>\n    <li>Practical: Creating a web page</li>\n</ul>\n\n\n<p style=\"margin-bottom: 0; letter-spacing: 1px; font-size: medium;\">Week 2:</p>\n<ul class=\"clean-para\" style=\"margin-top:0;\">\n    <li>Brief history of the web</li>\n    <li>Where it is heading</li>\n    <li>Compatibility: Writing for different browsers</li>\n    <li>Introduction to web UX</li>\n    <li>UI Considerations</li>\n    <l…",
         "physicalAddress": "TBC",
         "imageURL": "[[REDACTED]]",
         "shortCode": "nx22jKL0le11",
         "capacity": 20,
         "sessionCount": 9,
         "isSignUpOpen": 0,
         "startDate": "2022-05-12 19:00:00",
         "endDate": "2022-07-30 19:00:00",
         "acceptSignups": 1,
         "webAddress": "nan",
         "isOnline": 0,
         "isPublic": 1,
         "categories": "Web Dev,FrontEnd",
         "signupURL": "nan",
         "_deepnote_index_column": 6
        },
        {
         "id": 9,
         "created_at": "2021-06-05 15:22:53.000000",
         "updated_at": "2021-07-15 21:00:50.678370",
         "name": "Programming Fundamentals",
         "description": "<p><span style=\"font-size: medium; letter-spacing: 1px;\">This course has now ended. Sign up to the mailing list to know about upcoming courses like this!</span><br></p>\n\n<p style=\"margin-bottom: 0; letter-spacing: 1px; font-size: medium;\">If you would like to join, please sign up or get in touch The details What we'll cover:</p>\n<ul class=\"clean-para\" style=\"margin-top:0;\">\n    <li>Course introduction</li>\n    <li>Operators and Expressions Variables</li>\n    <li>Functions Loops and Iteration</li>\n    <li>Control Flow</li>\n    <li>Error Handling</li>\n    <li>Object Types</li>\n    <li>Inheritance and Prototypes</li>\n</ul>\n\n<p style=\"margin-bottom: 0; letter-spacing: 1px; font-size: medium;\">Who is this for:</p>\n<ul class=\"clean-para\" style=\"margin-top:0;\">\n    <li>Programming Newbies</li>\n    <li>JS Newbies</li>\n    <li>Those who want to learn with others</li>\n    <li>Those looking for structured learning</li>\n</ul>\n\n<p style=\"margin-bottom: 0; letter-spacing: 1px; font-size: medium;\">W…",
         "physicalAddress": "nan",
         "imageURL": "[[REDACTED]]",
         "shortCode": "wdjs2021ts40",
         "capacity": 25,
         "sessionCount": 1,
         "isSignUpOpen": 1,
         "startDate": "2021-07-03 10:00:00",
         "endDate": "2021-07-03 17:00:00",
         "acceptSignups": 1,
         "webAddress": "nan",
         "isOnline": 1,
         "isPublic": 1,
         "categories": "Beginner, Web Dev",
         "signupURL": "nan",
         "_deepnote_index_column": 7
        },
        {
         "id": 10,
         "created_at": "2021-06-05 16:11:36.000000",
         "updated_at": "2021-07-15 18:35:44.543387",
         "name": "TestCourse32",
         "description": "Ignore - Test Course",
         "physicalAddress": "nan",
         "imageURL": "[[REDACTED]]",
         "shortCode": "af33gt1sa4zY",
         "capacity": 9,
         "sessionCount": 1,
         "isSignUpOpen": 0,
         "startDate": "2020-02-02 02:02:02",
         "endDate": "2020-02-02 20:20:20",
         "acceptSignups": 0,
         "webAddress": "nan",
         "isOnline": 0,
         "isPublic": 0,
         "categories": "nan",
         "signupURL": "nan",
         "_deepnote_index_column": 8
        },
        {
         "id": 11,
         "created_at": "2021-07-12 17:54:27.000000",
         "updated_at": "2021-07-29 20:10:04.464966",
         "name": "Intro to .NET with C#",
         "description": "<p><span style=\"font-size: medium; letter-spacing: 1px;\">“What’s a C#?” (That’s a hash by the way, it’s pronounced C Sharp). What is .NET? How do you program? Luckily for you there’s a chance for you to find all of this out! </span><br></p>\n\n<p><span style=\"font-size: medium; letter-spacing: 1px;\">In this course, you’ll learn the basic principles of programming through the power of C#, and even develop a website with it! As one of the fastest-growing frameworks, .NET gives you the power to run applications just about anywhere you can think of; whether it’s the command line, smartphones, or even to make websites.</span><br></p>\n\n<p><span style=\"font-size: medium; letter-spacing: 1px;\">Not just presentations but also interactive tasks to help you go between theory and practical outputs from the things you learn. This will give you a practical and foundational knowledge which you can apply where you like in the future.</span><br></p>\n\n\n<p style=\"margin-bottom: 0; letter-spacing: 1px; fon…",
         "physicalAddress": "nan",
         "imageURL": "[[REDACTED]]",
         "shortCode": "wdN2021jmeW6",
         "capacity": 0,
         "sessionCount": 9,
         "isSignUpOpen": 0,
         "startDate": "2021-08-03 19:00:00",
         "endDate": "2021-09-28 21:00:00",
         "acceptSignups": 0,
         "webAddress": "nan",
         "isOnline": 1,
         "isPublic": 1,
         "categories": "Web Dev, BackEnd, .NET",
         "signupURL": "nan",
         "_deepnote_index_column": 9
        }
       ]
      },
      "text/plain": "    id                  created_at                  updated_at  \\\n0    1  2020-07-16 21:34:49.396430  2021-07-15 18:35:38.968820   \n1    2  2020-07-16 21:34:50.218066  2021-07-15 18:35:37.204083   \n2    3  2020-07-16 21:34:52.530700  2021-07-14 18:00:40.611647   \n3    5  2021-01-06 00:18:40.000000  2021-07-14 18:00:57.955134   \n4    6  2020-07-16 21:34:52.530700  2021-07-15 18:36:20.707914   \n5    7  2020-07-16 21:34:52.530700  2021-07-15 18:38:40.376688   \n6    8  2021-04-12 19:10:11.000000  2022-02-24 14:30:16.281625   \n7    9  2021-06-05 15:22:53.000000  2021-07-15 21:00:50.678370   \n8   10  2021-06-05 16:11:36.000000  2021-07-15 18:35:44.543387   \n9   11  2021-07-12 17:54:27.000000  2021-07-29 20:10:04.464966   \n10  12  2021-11-09 17:42:33.000000  2022-04-20 10:48:50.472200   \n\n                            name  \\\n0            Workings of the Web   \n1           Web Dev from Scratch   \n2               Intro to Web Dev   \n3   Intro to Game Dev with Unity   \n4         Front End Fundamentals   \n5               Intro into VueJS   \n6               Intro to Next.js   \n7       Programming Fundamentals   \n8                   TestCourse32   \n9          Intro to .NET with C#   \n10              Intro to Web Dev   \n\n                                          description  \\\n0   <p>Project Function is proud to bring you this...   \n1   <p>Getting a handle on the concepts and jargon...   \n2   <p><span style=\"font-size: medium; letter-spac...   \n3   <p>Hey you! Do you like games? Do you like lea...   \n4   <p><span style=\"font-size: medium; letter-spac...   \n5   <p><span style=\"font-size: medium; letter-spac...   \n6   <p><span style=\"font-size: medium; letter-spac...   \n7   <p><span style=\"font-size: medium; letter-spac...   \n8                                Ignore - Test Course   \n9   <p><span style=\"font-size: medium; letter-spac...   \n10  <p>Getting a handle on the concepts and jargon...   \n\n                                      physicalAddress      imageURL  \\\n0                                                 NaN  [[REDACTED]]   \n1                                                 NaN  [[REDACTED]]   \n2                                                 NaN  [[REDACTED]]   \n3                                                 NaN  [[REDACTED]]   \n4                                                 NaN  [[REDACTED]]   \n5                                                 NaN  [[REDACTED]]   \n6                                                 TBC  [[REDACTED]]   \n7                                                 NaN  [[REDACTED]]   \n8                                                 NaN  [[REDACTED]]   \n9                                                 NaN  [[REDACTED]]   \n10  Nonsuch Studios, 92 Lower Parliament St, Notti...  [[REDACTED]]   \n\n       shortCode  capacity  sessionCount  isSignUpOpen            startDate  \\\n0   Kvl0SMynsJtD        20             6             0  2019-01-22 03:37:52   \n1   fJ3LSIfr7ii2        28             6             0  2019-06-10 19:35:45   \n2   BqAGbp2lEUzi        45             9             0  2019-11-05 12:36:31   \n3   rrtGJAd2ae1e        25             9             1  2021-03-02 00:00:00   \n4   k2D3c21UUzy6        25             9             0  2021-06-01 00:36:31   \n5   jH56xi8AbUy2        12             5             1  2021-10-19 00:36:31   \n6   nx22jKL0le11        20             9             0  2022-05-12 19:00:00   \n7   wdjs2021ts40        25             1             1  2021-07-03 10:00:00   \n8   af33gt1sa4zY         9             1             0  2020-02-02 02:02:02   \n9   wdN2021jmeW6         0             9             0  2021-08-03 19:00:00   \n10  wdb22022ts40        15             9             1  2022-04-12 19:00:00   \n\n                endDate  acceptSignups    webAddress  isOnline  isPublic  \\\n0   2019-03-26 03:31:58              1           NaN         0         1   \n1   2019-06-04 19:35:45              1           NaN         0         1   \n2   2020-02-04 12:36:31              1           NaN         0         1   \n3   2021-04-27 00:00:00              1  [[REDACTED]]         1         1   \n4   2021-08-03 21:30:00              1           NaN         0         1   \n5   2021-12-14 21:30:00              1           NaN         1         1   \n6   2022-07-30 19:00:00              1           NaN         0         1   \n7   2021-07-03 17:00:00              1           NaN         1         1   \n8   2020-02-02 20:20:20              0           NaN         0         0   \n9   2021-09-28 21:00:00              0           NaN         1         1   \n10  2022-06-14 21:00:00              0           NaN         0         1   \n\n                   categories     signupURL  \n0          Web Dev,Full-stack           NaN  \n1                     Web Dev           NaN  \n2                     Web Dev           NaN  \n3                    Game Dev           NaN  \n4            Web Dev,FrontEnd           NaN  \n5            Web Dev,FrontEnd           NaN  \n6            Web Dev,FrontEnd           NaN  \n7           Beginner, Web Dev           NaN  \n8                         NaN           NaN  \n9      Web Dev, BackEnd, .NET           NaN  \n10  Web Dev,FrontEnd,Beginner  [[REDACTED]]  ",
      "text/html": "<div>\n<style scoped>\n    .dataframe tbody tr th:only-of-type {\n        vertical-align: middle;\n    }\n\n    .dataframe tbody tr th {\n        vertical-align: top;\n    }\n\n    .dataframe thead th {\n        text-align: right;\n    }\n</style>\n<table border=\"1\" class=\"dataframe\">\n  <thead>\n    <tr style=\"text-align: right;\">\n      <th></th>\n      <th>id</th>\n      <th>created_at</th>\n      <th>updated_at</th>\n      <th>name</th>\n      <th>description</th>\n      <th>physicalAddress</th>\n      <th>imageURL</th>\n      <th>shortCode</th>\n      <th>capacity</th>\n      <th>sessionCount</th>\n      <th>isSignUpOpen</th>\n      <th>startDate</th>\n      <th>endDate</th>\n      <th>acceptSignups</th>\n      <th>webAddress</th>\n      <th>isOnline</th>\n      <th>isPublic</th>\n      <th>categories</th>\n      <th>signupURL</th>\n    </tr>\n  </thead>\n  <tbody>\n    <tr>\n      <th>0</th>\n      <td>1</td>\n      <td>2020-07-16 21:34:49.396430</td>\n      <td>2021-07-15 18:35:38.968820</td>\n      <td>Workings of the Web</td>\n      <td>&lt;p&gt;Project Function is proud to bring you this...</td>\n      <td>NaN</td>\n      <td>[[REDACTED]]</td>\n      <td>Kvl0SMynsJtD</td>\n      <td>20</td>\n      <td>6</td>\n      <td>0</td>\n      <td>2019-01-22 03:37:52</td>\n      <td>2019-03-26 03:31:58</td>\n      <td>1</td>\n      <td>NaN</td>\n      <td>0</td>\n      <td>1</td>\n      <td>Web Dev,Full-stack</td>\n      <td>NaN</td>\n    </tr>\n    <tr>\n      <th>1</th>\n      <td>2</td>\n      <td>2020-07-16 21:34:50.218066</td>\n      <td>2021-07-15 18:35:37.204083</td>\n      <td>Web Dev from Scratch</td>\n      <td>&lt;p&gt;Getting a handle on the concepts and jargon...</td>\n      <td>NaN</td>\n      <td>[[REDACTED]]</td>\n      <td>fJ3LSIfr7ii2</td>\n      <td>28</td>\n      <td>6</td>\n      <td>0</td>\n      <td>2019-06-10 19:35:45</td>\n      <td>2019-06-04 19:35:45</td>\n      <td>1</td>\n      <td>NaN</td>\n      <td>0</td>\n      <td>1</td>\n      <td>Web Dev</td>\n      <td>NaN</td>\n    </tr>\n    <tr>\n      <th>2</th>\n      <td>3</td>\n      <td>2020-07-16 21:34:52.530700</td>\n      <td>2021-07-14 18:00:40.611647</td>\n      <td>Intro to Web Dev</td>\n      <td>&lt;p&gt;&lt;span style=\"font-size: medium; letter-spac...</td>\n      <td>NaN</td>\n      <td>[[REDACTED]]</td>\n      <td>BqAGbp2lEUzi</td>\n      <td>45</td>\n      <td>9</td>\n      <td>0</td>\n      <td>2019-11-05 12:36:31</td>\n      <td>2020-02-04 12:36:31</td>\n      <td>1</td>\n      <td>NaN</td>\n      <td>0</td>\n      <td>1</td>\n      <td>Web Dev</td>\n      <td>NaN</td>\n    </tr>\n    <tr>\n      <th>3</th>\n      <td>5</td>\n      <td>2021-01-06 00:18:40.000000</td>\n      <td>2021-07-14 18:00:57.955134</td>\n      <td>Intro to Game Dev with Unity</td>\n      <td>&lt;p&gt;Hey you! Do you like games? Do you like lea...</td>\n      <td>NaN</td>\n      <td>[[REDACTED]]</td>\n      <td>rrtGJAd2ae1e</td>\n      <td>25</td>\n      <td>9</td>\n      <td>1</td>\n      <td>2021-03-02 00:00:00</td>\n      <td>2021-04-27 00:00:00</td>\n      <td>1</td>\n      <td>[[REDACTED]]</td>\n      <td>1</td>\n      <td>1</td>\n      <td>Game Dev</td>\n      <td>NaN</td>\n    </tr>\n    <tr>\n      <th>4</th>\n      <td>6</td>\n      <td>2020-07-16 21:34:52.530700</td>\n      <td>2021-07-15 18:36:20.707914</td>\n      <td>Front End Fundamentals</td>\n      <td>&lt;p&gt;&lt;span style=\"font-size: medium; letter-spac...</td>\n      <td>NaN</td>\n      <td>[[REDACTED]]</td>\n      <td>k2D3c21UUzy6</td>\n      <td>25</td>\n      <td>9</td>\n      <td>0</td>\n      <td>2021-06-01 00:36:31</td>\n      <td>2021-08-03 21:30:00</td>\n      <td>1</td>\n      <td>NaN</td>\n      <td>0</td>\n      <td>1</td>\n      <td>Web Dev,FrontEnd</td>\n      <td>NaN</td>\n    </tr>\n    <tr>\n      <th>5</th>\n      <td>7</td>\n      <td>2020-07-16 21:34:52.530700</td>\n      <td>2021-07-15 18:38:40.376688</td>\n      <td>Intro into VueJS</td>\n      <td>&lt;p&gt;&lt;span style=\"font-size: medium; letter-spac...</td>\n      <td>NaN</td>\n      <td>[[REDACTED]]</td>\n      <td>jH56xi8AbUy2</td>\n      <td>12</td>\n      <td>5</td>\n      <td>1</td>\n      <td>2021-10-19 00:36:31</td>\n      <td>2021-12-14 21:30:00</td>\n      <td>1</td>\n      <td>NaN</td>\n      <td>1</td>\n      <td>1</td>\n      <td>Web Dev,FrontEnd</td>\n      <td>NaN</td>\n    </tr>\n    <tr>\n      <th>6</th>\n      <td>8</td>\n      <td>2021-04-12 19:10:11.000000</td>\n      <td>2022-02-24 14:30:16.281625</td>\n      <td>Intro to Next.js</td>\n      <td>&lt;p&gt;&lt;span style=\"font-size: medium; letter-spac...</td>\n      <td>TBC</td>\n      <td>[[REDACTED]]</td>\n      <td>nx22jKL0le11</td>\n      <td>20</td>\n      <td>9</td>\n      <td>0</td>\n      <td>2022-05-12 19:00:00</td>\n      <td>2022-07-30 19:00:00</td>\n      <td>1</td>\n      <td>NaN</td>\n      <td>0</td>\n      <td>1</td>\n      <td>Web Dev,FrontEnd</td>\n      <td>NaN</td>\n    </tr>\n    <tr>\n      <th>7</th>\n      <td>9</td>\n      <td>2021-06-05 15:22:53.000000</td>\n      <td>2021-07-15 21:00:50.678370</td>\n      <td>Programming Fundamentals</td>\n      <td>&lt;p&gt;&lt;span style=\"font-size: medium; letter-spac...</td>\n      <td>NaN</td>\n      <td>[[REDACTED]]</td>\n      <td>wdjs2021ts40</td>\n      <td>25</td>\n      <td>1</td>\n      <td>1</td>\n      <td>2021-07-03 10:00:00</td>\n      <td>2021-07-03 17:00:00</td>\n      <td>1</td>\n      <td>NaN</td>\n      <td>1</td>\n      <td>1</td>\n      <td>Beginner, Web Dev</td>\n      <td>NaN</td>\n    </tr>\n    <tr>\n      <th>8</th>\n      <td>10</td>\n      <td>2021-06-05 16:11:36.000000</td>\n      <td>2021-07-15 18:35:44.543387</td>\n      <td>TestCourse32</td>\n      <td>Ignore - Test Course</td>\n      <td>NaN</td>\n      <td>[[REDACTED]]</td>\n      <td>af33gt1sa4zY</td>\n      <td>9</td>\n      <td>1</td>\n      <td>0</td>\n      <td>2020-02-02 02:02:02</td>\n      <td>2020-02-02 20:20:20</td>\n      <td>0</td>\n      <td>NaN</td>\n      <td>0</td>\n      <td>0</td>\n      <td>NaN</td>\n      <td>NaN</td>\n    </tr>\n    <tr>\n      <th>9</th>\n      <td>11</td>\n      <td>2021-07-12 17:54:27.000000</td>\n      <td>2021-07-29 20:10:04.464966</td>\n      <td>Intro to .NET with C#</td>\n      <td>&lt;p&gt;&lt;span style=\"font-size: medium; letter-spac...</td>\n      <td>NaN</td>\n      <td>[[REDACTED]]</td>\n      <td>wdN2021jmeW6</td>\n      <td>0</td>\n      <td>9</td>\n      <td>0</td>\n      <td>2021-08-03 19:00:00</td>\n      <td>2021-09-28 21:00:00</td>\n      <td>0</td>\n      <td>NaN</td>\n      <td>1</td>\n      <td>1</td>\n      <td>Web Dev, BackEnd, .NET</td>\n      <td>NaN</td>\n    </tr>\n    <tr>\n      <th>10</th>\n      <td>12</td>\n      <td>2021-11-09 17:42:33.000000</td>\n      <td>2022-04-20 10:48:50.472200</td>\n      <td>Intro to Web Dev</td>\n      <td>&lt;p&gt;Getting a handle on the concepts and jargon...</td>\n      <td>Nonsuch Studios, 92 Lower Parliament St, Notti...</td>\n      <td>[[REDACTED]]</td>\n      <td>wdb22022ts40</td>\n      <td>15</td>\n      <td>9</td>\n      <td>1</td>\n      <td>2022-04-12 19:00:00</td>\n      <td>2022-06-14 21:00:00</td>\n      <td>0</td>\n      <td>NaN</td>\n      <td>0</td>\n      <td>1</td>\n      <td>Web Dev,FrontEnd,Beginner</td>\n      <td>[[REDACTED]]</td>\n    </tr>\n  </tbody>\n</table>\n</div>"
     },
     "metadata": {}
    }
   ]
  },
  {
   "cell_type": "code",
   "metadata": {
    "cell_id": "6ff00b35f0b840a9b56230cc6f47627a",
    "tags": [],
    "deepnote_to_be_reexecuted": false,
    "source_hash": "33b19317",
    "execution_start": 1652664894191,
    "execution_millis": 3,
    "deepnote_cell_type": "code",
    "deepnote_cell_height": 81
   },
   "source": "courses = courses.drop(columns=['created_at', 'updated_at', 'description', 'imageURL', 'shortCode', 'capacity', 'isSignUpOpen', 'acceptSignups', 'webAddress', 'signupURL'])",
   "execution_count": 24,
   "outputs": []
  },
  {
   "cell_type": "code",
   "metadata": {
    "cell_id": "462377d55e4c40038d6c29e2823aeafb",
    "tags": [],
    "deepnote_to_be_reexecuted": false,
    "source_hash": "af69ba34",
    "execution_start": 1652664894228,
    "execution_millis": 0,
    "deepnote_cell_type": "code",
    "deepnote_cell_height": 81
   },
   "source": "courses.columns = courses.columns.str.replace('id', 'coursesId')",
   "execution_count": 25,
   "outputs": []
  },
  {
   "cell_type": "code",
   "metadata": {
    "cell_id": "655e5c777cd54b74b2ce9b3098db5d15",
    "tags": [],
    "deepnote_to_be_reexecuted": false,
    "source_hash": "f6bb70f1",
    "execution_start": 1652664894228,
    "execution_millis": 1,
    "deepnote_cell_type": "code",
    "deepnote_cell_height": 600
   },
   "source": "instructors",
   "execution_count": 26,
   "outputs": [
    {
     "output_type": "execute_result",
     "execution_count": 26,
     "data": {
      "application/vnd.deepnote.dataframe.v3+json": {
       "column_count": 2,
       "row_count": 16,
       "columns": [
        {
         "name": "coursesId",
         "dtype": "int64",
         "stats": {
          "unique_count": 10,
          "nan_count": 0,
          "min": "1",
          "max": "12",
          "histogram": [
           {
            "bin_start": 1,
            "bin_end": 2.1,
            "count": 4
           },
           {
            "bin_start": 2.1,
            "bin_end": 3.2,
            "count": 3
           },
           {
            "bin_start": 3.2,
            "bin_end": 4.300000000000001,
            "count": 0
           },
           {
            "bin_start": 4.300000000000001,
            "bin_end": 5.4,
            "count": 3
           },
           {
            "bin_start": 5.4,
            "bin_end": 6.5,
            "count": 1
           },
           {
            "bin_start": 6.5,
            "bin_end": 7.6000000000000005,
            "count": 1
           },
           {
            "bin_start": 7.6000000000000005,
            "bin_end": 8.700000000000001,
            "count": 1
           },
           {
            "bin_start": 8.700000000000001,
            "bin_end": 9.8,
            "count": 1
           },
           {
            "bin_start": 9.8,
            "bin_end": 10.9,
            "count": 0
           },
           {
            "bin_start": 10.9,
            "bin_end": 12,
            "count": 2
           }
          ]
         }
        },
        {
         "name": "usersId",
         "dtype": "int64",
         "stats": {
          "unique_count": 8,
          "nan_count": 0,
          "min": "1",
          "max": "130",
          "histogram": [
           {
            "bin_start": 1,
            "bin_end": 13.9,
            "count": 12
           },
           {
            "bin_start": 13.9,
            "bin_end": 26.8,
            "count": 0
           },
           {
            "bin_start": 26.8,
            "bin_end": 39.7,
            "count": 0
           },
           {
            "bin_start": 39.7,
            "bin_end": 52.6,
            "count": 0
           },
           {
            "bin_start": 52.6,
            "bin_end": 65.5,
            "count": 0
           },
           {
            "bin_start": 65.5,
            "bin_end": 78.4,
            "count": 1
           },
           {
            "bin_start": 78.4,
            "bin_end": 91.3,
            "count": 0
           },
           {
            "bin_start": 91.3,
            "bin_end": 104.2,
            "count": 0
           },
           {
            "bin_start": 104.2,
            "bin_end": 117.10000000000001,
            "count": 2
           },
           {
            "bin_start": 117.10000000000001,
            "bin_end": 130,
            "count": 1
           }
          ]
         }
        },
        {
         "name": "_deepnote_index_column",
         "dtype": "int64"
        }
       ],
       "rows": [
        {
         "coursesId": 1,
         "usersId": 1,
         "_deepnote_index_column": 0
        },
        {
         "coursesId": 1,
         "usersId": 2,
         "_deepnote_index_column": 1
        },
        {
         "coursesId": 2,
         "usersId": 1,
         "_deepnote_index_column": 2
        },
        {
         "coursesId": 2,
         "usersId": 2,
         "_deepnote_index_column": 3
        },
        {
         "coursesId": 3,
         "usersId": 1,
         "_deepnote_index_column": 4
        },
        {
         "coursesId": 3,
         "usersId": 2,
         "_deepnote_index_column": 5
        },
        {
         "coursesId": 3,
         "usersId": 3,
         "_deepnote_index_column": 6
        },
        {
         "coursesId": 5,
         "usersId": 67,
         "_deepnote_index_column": 7
        },
        {
         "coursesId": 5,
         "usersId": 110,
         "_deepnote_index_column": 8
        },
        {
         "coursesId": 5,
         "usersId": 111,
         "_deepnote_index_column": 9
        }
       ]
      },
      "text/plain": "    coursesId  usersId\n0           1        1\n1           1        2\n2           2        1\n3           2        2\n4           3        1\n5           3        2\n6           3        3\n7           5       67\n8           5      110\n9           5      111\n10          6        2\n11          7        4\n12          8        1\n13          9        2\n14         11      130\n15         12        2",
      "text/html": "<div>\n<style scoped>\n    .dataframe tbody tr th:only-of-type {\n        vertical-align: middle;\n    }\n\n    .dataframe tbody tr th {\n        vertical-align: top;\n    }\n\n    .dataframe thead th {\n        text-align: right;\n    }\n</style>\n<table border=\"1\" class=\"dataframe\">\n  <thead>\n    <tr style=\"text-align: right;\">\n      <th></th>\n      <th>coursesId</th>\n      <th>usersId</th>\n    </tr>\n  </thead>\n  <tbody>\n    <tr>\n      <th>0</th>\n      <td>1</td>\n      <td>1</td>\n    </tr>\n    <tr>\n      <th>1</th>\n      <td>1</td>\n      <td>2</td>\n    </tr>\n    <tr>\n      <th>2</th>\n      <td>2</td>\n      <td>1</td>\n    </tr>\n    <tr>\n      <th>3</th>\n      <td>2</td>\n      <td>2</td>\n    </tr>\n    <tr>\n      <th>4</th>\n      <td>3</td>\n      <td>1</td>\n    </tr>\n    <tr>\n      <th>5</th>\n      <td>3</td>\n      <td>2</td>\n    </tr>\n    <tr>\n      <th>6</th>\n      <td>3</td>\n      <td>3</td>\n    </tr>\n    <tr>\n      <th>7</th>\n      <td>5</td>\n      <td>67</td>\n    </tr>\n    <tr>\n      <th>8</th>\n      <td>5</td>\n      <td>110</td>\n    </tr>\n    <tr>\n      <th>9</th>\n      <td>5</td>\n      <td>111</td>\n    </tr>\n    <tr>\n      <th>10</th>\n      <td>6</td>\n      <td>2</td>\n    </tr>\n    <tr>\n      <th>11</th>\n      <td>7</td>\n      <td>4</td>\n    </tr>\n    <tr>\n      <th>12</th>\n      <td>8</td>\n      <td>1</td>\n    </tr>\n    <tr>\n      <th>13</th>\n      <td>9</td>\n      <td>2</td>\n    </tr>\n    <tr>\n      <th>14</th>\n      <td>11</td>\n      <td>130</td>\n    </tr>\n    <tr>\n      <th>15</th>\n      <td>12</td>\n      <td>2</td>\n    </tr>\n  </tbody>\n</table>\n</div>"
     },
     "metadata": {}
    }
   ]
  },
  {
   "cell_type": "code",
   "metadata": {
    "cell_id": "03485809aefb4701a9333359eaccbcd4",
    "tags": [],
    "deepnote_to_be_reexecuted": false,
    "source_hash": "e323684b",
    "execution_start": 1652664894235,
    "execution_millis": 5,
    "deepnote_cell_type": "code",
    "deepnote_cell_height": 81
   },
   "source": "instructors.columns = instructors.columns.str.replace('usersId', 'userId')",
   "execution_count": 27,
   "outputs": []
  },
  {
   "cell_type": "code",
   "metadata": {
    "cell_id": "1a6ee7b80bb14051b5a8b234bf044713",
    "tags": [],
    "deepnote_to_be_reexecuted": false,
    "source_hash": "49c29676",
    "execution_start": 1652664894243,
    "execution_millis": 62,
    "deepnote_table_state": {
     "pageSize": 10,
     "pageIndex": 1,
     "filters": [],
     "sortBy": []
    },
    "deepnote_table_loading": false,
    "deepnote_cell_type": "code",
    "deepnote_cell_height": 467.59375
   },
   "source": "inst_course = instructors.merge(courses.set_index('coursesId'), on='coursesId')\ninst_course",
   "execution_count": 28,
   "outputs": [
    {
     "output_type": "execute_result",
     "execution_count": 28,
     "data": {
      "application/vnd.deepnote.dataframe.v3+json": {
       "column_count": 10,
       "row_count": 16,
       "columns": [
        {
         "name": "coursesId",
         "dtype": "int64",
         "stats": {
          "unique_count": 10,
          "nan_count": 0,
          "min": "1",
          "max": "12",
          "histogram": [
           {
            "bin_start": 1,
            "bin_end": 2.1,
            "count": 4
           },
           {
            "bin_start": 2.1,
            "bin_end": 3.2,
            "count": 3
           },
           {
            "bin_start": 3.2,
            "bin_end": 4.300000000000001,
            "count": 0
           },
           {
            "bin_start": 4.300000000000001,
            "bin_end": 5.4,
            "count": 3
           },
           {
            "bin_start": 5.4,
            "bin_end": 6.5,
            "count": 1
           },
           {
            "bin_start": 6.5,
            "bin_end": 7.6000000000000005,
            "count": 1
           },
           {
            "bin_start": 7.6000000000000005,
            "bin_end": 8.700000000000001,
            "count": 1
           },
           {
            "bin_start": 8.700000000000001,
            "bin_end": 9.8,
            "count": 1
           },
           {
            "bin_start": 9.8,
            "bin_end": 10.9,
            "count": 0
           },
           {
            "bin_start": 10.9,
            "bin_end": 12,
            "count": 2
           }
          ]
         }
        },
        {
         "name": "userId",
         "dtype": "int64",
         "stats": {
          "unique_count": 8,
          "nan_count": 0,
          "min": "1",
          "max": "130",
          "histogram": [
           {
            "bin_start": 1,
            "bin_end": 13.9,
            "count": 12
           },
           {
            "bin_start": 13.9,
            "bin_end": 26.8,
            "count": 0
           },
           {
            "bin_start": 26.8,
            "bin_end": 39.7,
            "count": 0
           },
           {
            "bin_start": 39.7,
            "bin_end": 52.6,
            "count": 0
           },
           {
            "bin_start": 52.6,
            "bin_end": 65.5,
            "count": 0
           },
           {
            "bin_start": 65.5,
            "bin_end": 78.4,
            "count": 1
           },
           {
            "bin_start": 78.4,
            "bin_end": 91.3,
            "count": 0
           },
           {
            "bin_start": 91.3,
            "bin_end": 104.2,
            "count": 0
           },
           {
            "bin_start": 104.2,
            "bin_end": 117.10000000000001,
            "count": 2
           },
           {
            "bin_start": 117.10000000000001,
            "bin_end": 130,
            "count": 1
           }
          ]
         }
        },
        {
         "name": "name",
         "dtype": "object",
         "stats": {
          "unique_count": 9,
          "nan_count": 0,
          "categories": [
           {
            "name": "Intro to Web Dev",
            "count": 4
           },
           {
            "name": "Intro to Game Dev with Unity",
            "count": 3
           },
           {
            "name": "7 others",
            "count": 9
           }
          ]
         }
        },
        {
         "name": "physicalAddress",
         "dtype": "object",
         "stats": {
          "unique_count": 2,
          "nan_count": 14,
          "categories": [
           {
            "name": "TBC",
            "count": 1
           },
           {
            "name": "Nonsuch Studios, 92 Lower Parliament St, Nottingham, NG1 1EH",
            "count": 1
           },
           {
            "name": "Missing",
            "count": 14
           }
          ]
         }
        },
        {
         "name": "sessionCount",
         "dtype": "int64",
         "stats": {
          "unique_count": 4,
          "nan_count": 0,
          "min": "1",
          "max": "9",
          "histogram": [
           {
            "bin_start": 1,
            "bin_end": 1.8,
            "count": 1
           },
           {
            "bin_start": 1.8,
            "bin_end": 2.6,
            "count": 0
           },
           {
            "bin_start": 2.6,
            "bin_end": 3.4000000000000004,
            "count": 0
           },
           {
            "bin_start": 3.4000000000000004,
            "bin_end": 4.2,
            "count": 0
           },
           {
            "bin_start": 4.2,
            "bin_end": 5,
            "count": 0
           },
           {
            "bin_start": 5,
            "bin_end": 5.800000000000001,
            "count": 1
           },
           {
            "bin_start": 5.800000000000001,
            "bin_end": 6.6000000000000005,
            "count": 4
           },
           {
            "bin_start": 6.6000000000000005,
            "bin_end": 7.4,
            "count": 0
           },
           {
            "bin_start": 7.4,
            "bin_end": 8.2,
            "count": 0
           },
           {
            "bin_start": 8.2,
            "bin_end": 9,
            "count": 10
           }
          ]
         }
        },
        {
         "name": "startDate",
         "dtype": "object",
         "stats": {
          "unique_count": 10,
          "nan_count": 0,
          "categories": [
           {
            "name": "2019-11-05 12:36:31",
            "count": 3
           },
           {
            "name": "2021-03-02 00:00:00",
            "count": 3
           },
           {
            "name": "8 others",
            "count": 10
           }
          ]
         }
        },
        {
         "name": "endDate",
         "dtype": "object",
         "stats": {
          "unique_count": 10,
          "nan_count": 0,
          "categories": [
           {
            "name": "2020-02-04 12:36:31",
            "count": 3
           },
           {
            "name": "2021-04-27 00:00:00",
            "count": 3
           },
           {
            "name": "8 others",
            "count": 10
           }
          ]
         }
        },
        {
         "name": "isOnline",
         "dtype": "int64",
         "stats": {
          "unique_count": 2,
          "nan_count": 0,
          "min": "0",
          "max": "1",
          "histogram": [
           {
            "bin_start": 0,
            "bin_end": 0.1,
            "count": 10
           },
           {
            "bin_start": 0.1,
            "bin_end": 0.2,
            "count": 0
           },
           {
            "bin_start": 0.2,
            "bin_end": 0.30000000000000004,
            "count": 0
           },
           {
            "bin_start": 0.30000000000000004,
            "bin_end": 0.4,
            "count": 0
           },
           {
            "bin_start": 0.4,
            "bin_end": 0.5,
            "count": 0
           },
           {
            "bin_start": 0.5,
            "bin_end": 0.6000000000000001,
            "count": 0
           },
           {
            "bin_start": 0.6000000000000001,
            "bin_end": 0.7000000000000001,
            "count": 0
           },
           {
            "bin_start": 0.7000000000000001,
            "bin_end": 0.8,
            "count": 0
           },
           {
            "bin_start": 0.8,
            "bin_end": 0.9,
            "count": 0
           },
           {
            "bin_start": 0.9,
            "bin_end": 1,
            "count": 6
           }
          ]
         }
        },
        {
         "name": "isPublic",
         "dtype": "int64",
         "stats": {
          "unique_count": 1,
          "nan_count": 0,
          "min": "1",
          "max": "1",
          "histogram": [
           {
            "bin_start": 0.5,
            "bin_end": 0.6,
            "count": 0
           },
           {
            "bin_start": 0.6,
            "bin_end": 0.7,
            "count": 0
           },
           {
            "bin_start": 0.7,
            "bin_end": 0.8,
            "count": 0
           },
           {
            "bin_start": 0.8,
            "bin_end": 0.9,
            "count": 0
           },
           {
            "bin_start": 0.9,
            "bin_end": 1,
            "count": 0
           },
           {
            "bin_start": 1,
            "bin_end": 1.1,
            "count": 16
           },
           {
            "bin_start": 1.1,
            "bin_end": 1.2000000000000002,
            "count": 0
           },
           {
            "bin_start": 1.2000000000000002,
            "bin_end": 1.3,
            "count": 0
           },
           {
            "bin_start": 1.3,
            "bin_end": 1.4,
            "count": 0
           },
           {
            "bin_start": 1.4,
            "bin_end": 1.5,
            "count": 0
           }
          ]
         }
        },
        {
         "name": "categories",
         "dtype": "object",
         "stats": {
          "unique_count": 7,
          "nan_count": 0,
          "categories": [
           {
            "name": "Web Dev",
            "count": 5
           },
           {
            "name": "Game Dev",
            "count": 3
           },
           {
            "name": "5 others",
            "count": 8
           }
          ]
         }
        },
        {
         "name": "_deepnote_index_column",
         "dtype": "int64"
        }
       ],
       "rows": [
        {
         "coursesId": 6,
         "userId": 2,
         "name": "Front End Fundamentals",
         "physicalAddress": "nan",
         "sessionCount": 9,
         "startDate": "2021-06-01 00:36:31",
         "endDate": "2021-08-03 21:30:00",
         "isOnline": 0,
         "isPublic": 1,
         "categories": "Web Dev,FrontEnd",
         "_deepnote_index_column": 10
        },
        {
         "coursesId": 7,
         "userId": 4,
         "name": "Intro into VueJS",
         "physicalAddress": "nan",
         "sessionCount": 5,
         "startDate": "2021-10-19 00:36:31",
         "endDate": "2021-12-14 21:30:00",
         "isOnline": 1,
         "isPublic": 1,
         "categories": "Web Dev,FrontEnd",
         "_deepnote_index_column": 11
        },
        {
         "coursesId": 8,
         "userId": 1,
         "name": "Intro to Next.js",
         "physicalAddress": "TBC",
         "sessionCount": 9,
         "startDate": "2022-05-12 19:00:00",
         "endDate": "2022-07-30 19:00:00",
         "isOnline": 0,
         "isPublic": 1,
         "categories": "Web Dev,FrontEnd",
         "_deepnote_index_column": 12
        },
        {
         "coursesId": 9,
         "userId": 2,
         "name": "Programming Fundamentals",
         "physicalAddress": "nan",
         "sessionCount": 1,
         "startDate": "2021-07-03 10:00:00",
         "endDate": "2021-07-03 17:00:00",
         "isOnline": 1,
         "isPublic": 1,
         "categories": "Beginner, Web Dev",
         "_deepnote_index_column": 13
        },
        {
         "coursesId": 11,
         "userId": 130,
         "name": "Intro to .NET with C#",
         "physicalAddress": "nan",
         "sessionCount": 9,
         "startDate": "2021-08-03 19:00:00",
         "endDate": "2021-09-28 21:00:00",
         "isOnline": 1,
         "isPublic": 1,
         "categories": "Web Dev, BackEnd, .NET",
         "_deepnote_index_column": 14
        },
        {
         "coursesId": 12,
         "userId": 2,
         "name": "Intro to Web Dev",
         "physicalAddress": "Nonsuch Studios, 92 Lower Parliament St, Nottingham, NG1 1EH",
         "sessionCount": 9,
         "startDate": "2022-04-12 19:00:00",
         "endDate": "2022-06-14 21:00:00",
         "isOnline": 0,
         "isPublic": 1,
         "categories": "Web Dev,FrontEnd,Beginner",
         "_deepnote_index_column": 15
        }
       ]
      },
      "text/plain": "    coursesId  userId                          name  \\\n0           1       1           Workings of the Web   \n1           1       2           Workings of the Web   \n2           2       1          Web Dev from Scratch   \n3           2       2          Web Dev from Scratch   \n4           3       1              Intro to Web Dev   \n5           3       2              Intro to Web Dev   \n6           3       3              Intro to Web Dev   \n7           5      67  Intro to Game Dev with Unity   \n8           5     110  Intro to Game Dev with Unity   \n9           5     111  Intro to Game Dev with Unity   \n10          6       2        Front End Fundamentals   \n11          7       4              Intro into VueJS   \n12          8       1              Intro to Next.js   \n13          9       2      Programming Fundamentals   \n14         11     130         Intro to .NET with C#   \n15         12       2              Intro to Web Dev   \n\n                                      physicalAddress  sessionCount  \\\n0                                                 NaN             6   \n1                                                 NaN             6   \n2                                                 NaN             6   \n3                                                 NaN             6   \n4                                                 NaN             9   \n5                                                 NaN             9   \n6                                                 NaN             9   \n7                                                 NaN             9   \n8                                                 NaN             9   \n9                                                 NaN             9   \n10                                                NaN             9   \n11                                                NaN             5   \n12                                                TBC             9   \n13                                                NaN             1   \n14                                                NaN             9   \n15  Nonsuch Studios, 92 Lower Parliament St, Notti...             9   \n\n              startDate              endDate  isOnline  isPublic  \\\n0   2019-01-22 03:37:52  2019-03-26 03:31:58         0         1   \n1   2019-01-22 03:37:52  2019-03-26 03:31:58         0         1   \n2   2019-06-10 19:35:45  2019-06-04 19:35:45         0         1   \n3   2019-06-10 19:35:45  2019-06-04 19:35:45         0         1   \n4   2019-11-05 12:36:31  2020-02-04 12:36:31         0         1   \n5   2019-11-05 12:36:31  2020-02-04 12:36:31         0         1   \n6   2019-11-05 12:36:31  2020-02-04 12:36:31         0         1   \n7   2021-03-02 00:00:00  2021-04-27 00:00:00         1         1   \n8   2021-03-02 00:00:00  2021-04-27 00:00:00         1         1   \n9   2021-03-02 00:00:00  2021-04-27 00:00:00         1         1   \n10  2021-06-01 00:36:31  2021-08-03 21:30:00         0         1   \n11  2021-10-19 00:36:31  2021-12-14 21:30:00         1         1   \n12  2022-05-12 19:00:00  2022-07-30 19:00:00         0         1   \n13  2021-07-03 10:00:00  2021-07-03 17:00:00         1         1   \n14  2021-08-03 19:00:00  2021-09-28 21:00:00         1         1   \n15  2022-04-12 19:00:00  2022-06-14 21:00:00         0         1   \n\n                   categories  \n0          Web Dev,Full-stack  \n1          Web Dev,Full-stack  \n2                     Web Dev  \n3                     Web Dev  \n4                     Web Dev  \n5                     Web Dev  \n6                     Web Dev  \n7                    Game Dev  \n8                    Game Dev  \n9                    Game Dev  \n10           Web Dev,FrontEnd  \n11           Web Dev,FrontEnd  \n12           Web Dev,FrontEnd  \n13          Beginner, Web Dev  \n14     Web Dev, BackEnd, .NET  \n15  Web Dev,FrontEnd,Beginner  ",
      "text/html": "<div>\n<style scoped>\n    .dataframe tbody tr th:only-of-type {\n        vertical-align: middle;\n    }\n\n    .dataframe tbody tr th {\n        vertical-align: top;\n    }\n\n    .dataframe thead th {\n        text-align: right;\n    }\n</style>\n<table border=\"1\" class=\"dataframe\">\n  <thead>\n    <tr style=\"text-align: right;\">\n      <th></th>\n      <th>coursesId</th>\n      <th>userId</th>\n      <th>name</th>\n      <th>physicalAddress</th>\n      <th>sessionCount</th>\n      <th>startDate</th>\n      <th>endDate</th>\n      <th>isOnline</th>\n      <th>isPublic</th>\n      <th>categories</th>\n    </tr>\n  </thead>\n  <tbody>\n    <tr>\n      <th>0</th>\n      <td>1</td>\n      <td>1</td>\n      <td>Workings of the Web</td>\n      <td>NaN</td>\n      <td>6</td>\n      <td>2019-01-22 03:37:52</td>\n      <td>2019-03-26 03:31:58</td>\n      <td>0</td>\n      <td>1</td>\n      <td>Web Dev,Full-stack</td>\n    </tr>\n    <tr>\n      <th>1</th>\n      <td>1</td>\n      <td>2</td>\n      <td>Workings of the Web</td>\n      <td>NaN</td>\n      <td>6</td>\n      <td>2019-01-22 03:37:52</td>\n      <td>2019-03-26 03:31:58</td>\n      <td>0</td>\n      <td>1</td>\n      <td>Web Dev,Full-stack</td>\n    </tr>\n    <tr>\n      <th>2</th>\n      <td>2</td>\n      <td>1</td>\n      <td>Web Dev from Scratch</td>\n      <td>NaN</td>\n      <td>6</td>\n      <td>2019-06-10 19:35:45</td>\n      <td>2019-06-04 19:35:45</td>\n      <td>0</td>\n      <td>1</td>\n      <td>Web Dev</td>\n    </tr>\n    <tr>\n      <th>3</th>\n      <td>2</td>\n      <td>2</td>\n      <td>Web Dev from Scratch</td>\n      <td>NaN</td>\n      <td>6</td>\n      <td>2019-06-10 19:35:45</td>\n      <td>2019-06-04 19:35:45</td>\n      <td>0</td>\n      <td>1</td>\n      <td>Web Dev</td>\n    </tr>\n    <tr>\n      <th>4</th>\n      <td>3</td>\n      <td>1</td>\n      <td>Intro to Web Dev</td>\n      <td>NaN</td>\n      <td>9</td>\n      <td>2019-11-05 12:36:31</td>\n      <td>2020-02-04 12:36:31</td>\n      <td>0</td>\n      <td>1</td>\n      <td>Web Dev</td>\n    </tr>\n    <tr>\n      <th>5</th>\n      <td>3</td>\n      <td>2</td>\n      <td>Intro to Web Dev</td>\n      <td>NaN</td>\n      <td>9</td>\n      <td>2019-11-05 12:36:31</td>\n      <td>2020-02-04 12:36:31</td>\n      <td>0</td>\n      <td>1</td>\n      <td>Web Dev</td>\n    </tr>\n    <tr>\n      <th>6</th>\n      <td>3</td>\n      <td>3</td>\n      <td>Intro to Web Dev</td>\n      <td>NaN</td>\n      <td>9</td>\n      <td>2019-11-05 12:36:31</td>\n      <td>2020-02-04 12:36:31</td>\n      <td>0</td>\n      <td>1</td>\n      <td>Web Dev</td>\n    </tr>\n    <tr>\n      <th>7</th>\n      <td>5</td>\n      <td>67</td>\n      <td>Intro to Game Dev with Unity</td>\n      <td>NaN</td>\n      <td>9</td>\n      <td>2021-03-02 00:00:00</td>\n      <td>2021-04-27 00:00:00</td>\n      <td>1</td>\n      <td>1</td>\n      <td>Game Dev</td>\n    </tr>\n    <tr>\n      <th>8</th>\n      <td>5</td>\n      <td>110</td>\n      <td>Intro to Game Dev with Unity</td>\n      <td>NaN</td>\n      <td>9</td>\n      <td>2021-03-02 00:00:00</td>\n      <td>2021-04-27 00:00:00</td>\n      <td>1</td>\n      <td>1</td>\n      <td>Game Dev</td>\n    </tr>\n    <tr>\n      <th>9</th>\n      <td>5</td>\n      <td>111</td>\n      <td>Intro to Game Dev with Unity</td>\n      <td>NaN</td>\n      <td>9</td>\n      <td>2021-03-02 00:00:00</td>\n      <td>2021-04-27 00:00:00</td>\n      <td>1</td>\n      <td>1</td>\n      <td>Game Dev</td>\n    </tr>\n    <tr>\n      <th>10</th>\n      <td>6</td>\n      <td>2</td>\n      <td>Front End Fundamentals</td>\n      <td>NaN</td>\n      <td>9</td>\n      <td>2021-06-01 00:36:31</td>\n      <td>2021-08-03 21:30:00</td>\n      <td>0</td>\n      <td>1</td>\n      <td>Web Dev,FrontEnd</td>\n    </tr>\n    <tr>\n      <th>11</th>\n      <td>7</td>\n      <td>4</td>\n      <td>Intro into VueJS</td>\n      <td>NaN</td>\n      <td>5</td>\n      <td>2021-10-19 00:36:31</td>\n      <td>2021-12-14 21:30:00</td>\n      <td>1</td>\n      <td>1</td>\n      <td>Web Dev,FrontEnd</td>\n    </tr>\n    <tr>\n      <th>12</th>\n      <td>8</td>\n      <td>1</td>\n      <td>Intro to Next.js</td>\n      <td>TBC</td>\n      <td>9</td>\n      <td>2022-05-12 19:00:00</td>\n      <td>2022-07-30 19:00:00</td>\n      <td>0</td>\n      <td>1</td>\n      <td>Web Dev,FrontEnd</td>\n    </tr>\n    <tr>\n      <th>13</th>\n      <td>9</td>\n      <td>2</td>\n      <td>Programming Fundamentals</td>\n      <td>NaN</td>\n      <td>1</td>\n      <td>2021-07-03 10:00:00</td>\n      <td>2021-07-03 17:00:00</td>\n      <td>1</td>\n      <td>1</td>\n      <td>Beginner, Web Dev</td>\n    </tr>\n    <tr>\n      <th>14</th>\n      <td>11</td>\n      <td>130</td>\n      <td>Intro to .NET with C#</td>\n      <td>NaN</td>\n      <td>9</td>\n      <td>2021-08-03 19:00:00</td>\n      <td>2021-09-28 21:00:00</td>\n      <td>1</td>\n      <td>1</td>\n      <td>Web Dev, BackEnd, .NET</td>\n    </tr>\n    <tr>\n      <th>15</th>\n      <td>12</td>\n      <td>2</td>\n      <td>Intro to Web Dev</td>\n      <td>Nonsuch Studios, 92 Lower Parliament St, Notti...</td>\n      <td>9</td>\n      <td>2022-04-12 19:00:00</td>\n      <td>2022-06-14 21:00:00</td>\n      <td>0</td>\n      <td>1</td>\n      <td>Web Dev,FrontEnd,Beginner</td>\n    </tr>\n  </tbody>\n</table>\n</div>"
     },
     "metadata": {}
    }
   ]
  },
  {
   "cell_type": "code",
   "metadata": {
    "cell_id": "e10540d169d3459a88fa7fb62a855a27",
    "tags": [],
    "deepnote_to_be_reexecuted": false,
    "source_hash": "304fa492",
    "execution_start": 1652664894310,
    "execution_millis": 79,
    "deepnote_table_state": {
     "pageSize": 10,
     "pageIndex": 1,
     "filters": [],
     "sortBy": []
    },
    "deepnote_table_loading": false,
    "deepnote_cell_type": "code",
    "deepnote_cell_height": 467.59375
   },
   "source": "int_cusers = inst_course.merge(users.set_index('userId'), on= 'userId')\nint_cusers",
   "execution_count": 29,
   "outputs": [
    {
     "output_type": "execute_result",
     "execution_count": 29,
     "data": {
      "application/vnd.deepnote.dataframe.v3+json": {
       "column_count": 14,
       "row_count": 16,
       "columns": [
        {
         "name": "coursesId",
         "dtype": "int64",
         "stats": {
          "unique_count": 10,
          "nan_count": 0,
          "min": "1",
          "max": "12",
          "histogram": [
           {
            "bin_start": 1,
            "bin_end": 2.1,
            "count": 4
           },
           {
            "bin_start": 2.1,
            "bin_end": 3.2,
            "count": 3
           },
           {
            "bin_start": 3.2,
            "bin_end": 4.300000000000001,
            "count": 0
           },
           {
            "bin_start": 4.300000000000001,
            "bin_end": 5.4,
            "count": 3
           },
           {
            "bin_start": 5.4,
            "bin_end": 6.5,
            "count": 1
           },
           {
            "bin_start": 6.5,
            "bin_end": 7.6000000000000005,
            "count": 1
           },
           {
            "bin_start": 7.6000000000000005,
            "bin_end": 8.700000000000001,
            "count": 1
           },
           {
            "bin_start": 8.700000000000001,
            "bin_end": 9.8,
            "count": 1
           },
           {
            "bin_start": 9.8,
            "bin_end": 10.9,
            "count": 0
           },
           {
            "bin_start": 10.9,
            "bin_end": 12,
            "count": 2
           }
          ]
         }
        },
        {
         "name": "userId",
         "dtype": "int64",
         "stats": {
          "unique_count": 8,
          "nan_count": 0,
          "min": "1",
          "max": "130",
          "histogram": [
           {
            "bin_start": 1,
            "bin_end": 13.9,
            "count": 12
           },
           {
            "bin_start": 13.9,
            "bin_end": 26.8,
            "count": 0
           },
           {
            "bin_start": 26.8,
            "bin_end": 39.7,
            "count": 0
           },
           {
            "bin_start": 39.7,
            "bin_end": 52.6,
            "count": 0
           },
           {
            "bin_start": 52.6,
            "bin_end": 65.5,
            "count": 0
           },
           {
            "bin_start": 65.5,
            "bin_end": 78.4,
            "count": 1
           },
           {
            "bin_start": 78.4,
            "bin_end": 91.3,
            "count": 0
           },
           {
            "bin_start": 91.3,
            "bin_end": 104.2,
            "count": 0
           },
           {
            "bin_start": 104.2,
            "bin_end": 117.10000000000001,
            "count": 2
           },
           {
            "bin_start": 117.10000000000001,
            "bin_end": 130,
            "count": 1
           }
          ]
         }
        },
        {
         "name": "name",
         "dtype": "object",
         "stats": {
          "unique_count": 9,
          "nan_count": 0,
          "categories": [
           {
            "name": "Intro to Web Dev",
            "count": 4
           },
           {
            "name": "Intro to Game Dev with Unity",
            "count": 3
           },
           {
            "name": "7 others",
            "count": 9
           }
          ]
         }
        },
        {
         "name": "physicalAddress",
         "dtype": "object",
         "stats": {
          "unique_count": 2,
          "nan_count": 14,
          "categories": [
           {
            "name": "TBC",
            "count": 1
           },
           {
            "name": "Nonsuch Studios, 92 Lower Parliament St, Nottingham, NG1 1EH",
            "count": 1
           },
           {
            "name": "Missing",
            "count": 14
           }
          ]
         }
        },
        {
         "name": "sessionCount",
         "dtype": "int64",
         "stats": {
          "unique_count": 4,
          "nan_count": 0,
          "min": "1",
          "max": "9",
          "histogram": [
           {
            "bin_start": 1,
            "bin_end": 1.8,
            "count": 1
           },
           {
            "bin_start": 1.8,
            "bin_end": 2.6,
            "count": 0
           },
           {
            "bin_start": 2.6,
            "bin_end": 3.4000000000000004,
            "count": 0
           },
           {
            "bin_start": 3.4000000000000004,
            "bin_end": 4.2,
            "count": 0
           },
           {
            "bin_start": 4.2,
            "bin_end": 5,
            "count": 0
           },
           {
            "bin_start": 5,
            "bin_end": 5.800000000000001,
            "count": 1
           },
           {
            "bin_start": 5.800000000000001,
            "bin_end": 6.6000000000000005,
            "count": 4
           },
           {
            "bin_start": 6.6000000000000005,
            "bin_end": 7.4,
            "count": 0
           },
           {
            "bin_start": 7.4,
            "bin_end": 8.2,
            "count": 0
           },
           {
            "bin_start": 8.2,
            "bin_end": 9,
            "count": 10
           }
          ]
         }
        },
        {
         "name": "startDate",
         "dtype": "object",
         "stats": {
          "unique_count": 10,
          "nan_count": 0,
          "categories": [
           {
            "name": "2019-11-05 12:36:31",
            "count": 3
           },
           {
            "name": "2021-03-02 00:00:00",
            "count": 3
           },
           {
            "name": "8 others",
            "count": 10
           }
          ]
         }
        },
        {
         "name": "endDate",
         "dtype": "object",
         "stats": {
          "unique_count": 10,
          "nan_count": 0,
          "categories": [
           {
            "name": "2020-02-04 12:36:31",
            "count": 3
           },
           {
            "name": "2021-04-27 00:00:00",
            "count": 3
           },
           {
            "name": "8 others",
            "count": 10
           }
          ]
         }
        },
        {
         "name": "isOnline",
         "dtype": "int64",
         "stats": {
          "unique_count": 2,
          "nan_count": 0,
          "min": "0",
          "max": "1",
          "histogram": [
           {
            "bin_start": 0,
            "bin_end": 0.1,
            "count": 10
           },
           {
            "bin_start": 0.1,
            "bin_end": 0.2,
            "count": 0
           },
           {
            "bin_start": 0.2,
            "bin_end": 0.30000000000000004,
            "count": 0
           },
           {
            "bin_start": 0.30000000000000004,
            "bin_end": 0.4,
            "count": 0
           },
           {
            "bin_start": 0.4,
            "bin_end": 0.5,
            "count": 0
           },
           {
            "bin_start": 0.5,
            "bin_end": 0.6000000000000001,
            "count": 0
           },
           {
            "bin_start": 0.6000000000000001,
            "bin_end": 0.7000000000000001,
            "count": 0
           },
           {
            "bin_start": 0.7000000000000001,
            "bin_end": 0.8,
            "count": 0
           },
           {
            "bin_start": 0.8,
            "bin_end": 0.9,
            "count": 0
           },
           {
            "bin_start": 0.9,
            "bin_end": 1,
            "count": 6
           }
          ]
         }
        },
        {
         "name": "isPublic",
         "dtype": "int64",
         "stats": {
          "unique_count": 1,
          "nan_count": 0,
          "min": "1",
          "max": "1",
          "histogram": [
           {
            "bin_start": 0.5,
            "bin_end": 0.6,
            "count": 0
           },
           {
            "bin_start": 0.6,
            "bin_end": 0.7,
            "count": 0
           },
           {
            "bin_start": 0.7,
            "bin_end": 0.8,
            "count": 0
           },
           {
            "bin_start": 0.8,
            "bin_end": 0.9,
            "count": 0
           },
           {
            "bin_start": 0.9,
            "bin_end": 1,
            "count": 0
           },
           {
            "bin_start": 1,
            "bin_end": 1.1,
            "count": 16
           },
           {
            "bin_start": 1.1,
            "bin_end": 1.2000000000000002,
            "count": 0
           },
           {
            "bin_start": 1.2000000000000002,
            "bin_end": 1.3,
            "count": 0
           },
           {
            "bin_start": 1.3,
            "bin_end": 1.4,
            "count": 0
           },
           {
            "bin_start": 1.4,
            "bin_end": 1.5,
            "count": 0
           }
          ]
         }
        },
        {
         "name": "categories",
         "dtype": "object",
         "stats": {
          "unique_count": 7,
          "nan_count": 0,
          "categories": [
           {
            "name": "Web Dev",
            "count": 5
           },
           {
            "name": "Web Dev,FrontEnd",
            "count": 3
           },
           {
            "name": "5 others",
            "count": 8
           }
          ]
         }
        },
        {
         "name": "lastName",
         "dtype": "object",
         "stats": {
          "unique_count": 8,
          "nan_count": 0,
          "categories": [
           {
            "name": "Cecile",
            "count": 6
           },
           {
            "name": "Khan",
            "count": 4
           },
           {
            "name": "6 others",
            "count": 6
           }
          ]
         }
        },
        {
         "name": "title",
         "dtype": "object",
         "stats": {
          "unique_count": 2,
          "nan_count": 0,
          "categories": [
           {
            "name": "[[REDACTED]]",
            "count": 10
           },
           {
            "name": "They/Them",
            "count": 6
           }
          ]
         }
        },
        {
         "name": "isSuperUser",
         "dtype": "int64",
         "stats": {
          "unique_count": 2,
          "nan_count": 0,
          "min": "0",
          "max": "1",
          "histogram": [
           {
            "bin_start": 0,
            "bin_end": 0.1,
            "count": 5
           },
           {
            "bin_start": 0.1,
            "bin_end": 0.2,
            "count": 0
           },
           {
            "bin_start": 0.2,
            "bin_end": 0.30000000000000004,
            "count": 0
           },
           {
            "bin_start": 0.30000000000000004,
            "bin_end": 0.4,
            "count": 0
           },
           {
            "bin_start": 0.4,
            "bin_end": 0.5,
            "count": 0
           },
           {
            "bin_start": 0.5,
            "bin_end": 0.6000000000000001,
            "count": 0
           },
           {
            "bin_start": 0.6000000000000001,
            "bin_end": 0.7000000000000001,
            "count": 0
           },
           {
            "bin_start": 0.7000000000000001,
            "bin_end": 0.8,
            "count": 0
           },
           {
            "bin_start": 0.8,
            "bin_end": 0.9,
            "count": 0
           },
           {
            "bin_start": 0.9,
            "bin_end": 1,
            "count": 11
           }
          ]
         }
        },
        {
         "name": "lastLogin",
         "dtype": "object",
         "stats": {
          "unique_count": 8,
          "nan_count": 0,
          "categories": [
           {
            "name": "2022-04-21 10:17:50",
            "count": 6
           },
           {
            "name": "2022-02-24 13:05:16",
            "count": 4
           },
           {
            "name": "6 others",
            "count": 6
           }
          ]
         }
        },
        {
         "name": "_deepnote_index_column",
         "dtype": "int64"
        }
       ],
       "rows": [
        {
         "coursesId": 3,
         "userId": 3,
         "name": "Intro to Web Dev",
         "physicalAddress": "nan",
         "sessionCount": 9,
         "startDate": "2019-11-05 12:36:31",
         "endDate": "2020-02-04 12:36:31",
         "isOnline": 0,
         "isPublic": 1,
         "categories": "Web Dev",
         "lastName": "Hayre",
         "title": "They/Them",
         "isSuperUser": 0,
         "lastLogin": "2021-04-08 12:43:11",
         "_deepnote_index_column": 10
        },
        {
         "coursesId": 5,
         "userId": 67,
         "name": "Intro to Game Dev with Unity",
         "physicalAddress": "nan",
         "sessionCount": 9,
         "startDate": "2021-03-02 00:00:00",
         "endDate": "2021-04-27 00:00:00",
         "isOnline": 1,
         "isPublic": 1,
         "categories": "Game Dev",
         "lastName": "[[REDACTED]]",
         "title": "They/Them",
         "isSuperUser": 0,
         "lastLogin": "2021-07-04 20:35:29",
         "_deepnote_index_column": 11
        },
        {
         "coursesId": 5,
         "userId": 110,
         "name": "Intro to Game Dev with Unity",
         "physicalAddress": "nan",
         "sessionCount": 9,
         "startDate": "2021-03-02 00:00:00",
         "endDate": "2021-04-27 00:00:00",
         "isOnline": 1,
         "isPublic": 1,
         "categories": "Game Dev",
         "lastName": "Carstairs ",
         "title": "They/Them",
         "isSuperUser": 0,
         "lastLogin": "2021-03-30 18:10:30",
         "_deepnote_index_column": 12
        },
        {
         "coursesId": 5,
         "userId": 111,
         "name": "Intro to Game Dev with Unity",
         "physicalAddress": "nan",
         "sessionCount": 9,
         "startDate": "2021-03-02 00:00:00",
         "endDate": "2021-04-27 00:00:00",
         "isOnline": 1,
         "isPublic": 1,
         "categories": "Game Dev",
         "lastName": "Sherry",
         "title": "They/Them",
         "isSuperUser": 0,
         "lastLogin": "2021-04-27 19:32:34",
         "_deepnote_index_column": 13
        },
        {
         "coursesId": 7,
         "userId": 4,
         "name": "Intro into VueJS",
         "physicalAddress": "nan",
         "sessionCount": 5,
         "startDate": "2021-10-19 00:36:31",
         "endDate": "2021-12-14 21:30:00",
         "isOnline": 1,
         "isPublic": 1,
         "categories": "Web Dev,FrontEnd",
         "lastName": "Parkinson",
         "title": "They/Them",
         "isSuperUser": 1,
         "lastLogin": "2021-02-20 20:50:21",
         "_deepnote_index_column": 14
        },
        {
         "coursesId": 11,
         "userId": 130,
         "name": "Intro to .NET with C#",
         "physicalAddress": "nan",
         "sessionCount": 9,
         "startDate": "2021-08-03 19:00:00",
         "endDate": "2021-09-28 21:00:00",
         "isOnline": 1,
         "isPublic": 1,
         "categories": "Web Dev, BackEnd, .NET",
         "lastName": "Saunders",
         "title": "They/Them",
         "isSuperUser": 0,
         "lastLogin": "2021-07-26 18:07:51",
         "_deepnote_index_column": 15
        }
       ]
      },
      "text/plain": "    coursesId  userId                          name  \\\n0           1       1           Workings of the Web   \n1           2       1          Web Dev from Scratch   \n2           3       1              Intro to Web Dev   \n3           8       1              Intro to Next.js   \n4           1       2           Workings of the Web   \n5           2       2          Web Dev from Scratch   \n6           3       2              Intro to Web Dev   \n7           6       2        Front End Fundamentals   \n8           9       2      Programming Fundamentals   \n9          12       2              Intro to Web Dev   \n10          3       3              Intro to Web Dev   \n11          5      67  Intro to Game Dev with Unity   \n12          5     110  Intro to Game Dev with Unity   \n13          5     111  Intro to Game Dev with Unity   \n14          7       4              Intro into VueJS   \n15         11     130         Intro to .NET with C#   \n\n                                      physicalAddress  sessionCount  \\\n0                                                 NaN             6   \n1                                                 NaN             6   \n2                                                 NaN             9   \n3                                                 TBC             9   \n4                                                 NaN             6   \n5                                                 NaN             6   \n6                                                 NaN             9   \n7                                                 NaN             9   \n8                                                 NaN             1   \n9   Nonsuch Studios, 92 Lower Parliament St, Notti...             9   \n10                                                NaN             9   \n11                                                NaN             9   \n12                                                NaN             9   \n13                                                NaN             9   \n14                                                NaN             5   \n15                                                NaN             9   \n\n              startDate              endDate  isOnline  isPublic  \\\n0   2019-01-22 03:37:52  2019-03-26 03:31:58         0         1   \n1   2019-06-10 19:35:45  2019-06-04 19:35:45         0         1   \n2   2019-11-05 12:36:31  2020-02-04 12:36:31         0         1   \n3   2022-05-12 19:00:00  2022-07-30 19:00:00         0         1   \n4   2019-01-22 03:37:52  2019-03-26 03:31:58         0         1   \n5   2019-06-10 19:35:45  2019-06-04 19:35:45         0         1   \n6   2019-11-05 12:36:31  2020-02-04 12:36:31         0         1   \n7   2021-06-01 00:36:31  2021-08-03 21:30:00         0         1   \n8   2021-07-03 10:00:00  2021-07-03 17:00:00         1         1   \n9   2022-04-12 19:00:00  2022-06-14 21:00:00         0         1   \n10  2019-11-05 12:36:31  2020-02-04 12:36:31         0         1   \n11  2021-03-02 00:00:00  2021-04-27 00:00:00         1         1   \n12  2021-03-02 00:00:00  2021-04-27 00:00:00         1         1   \n13  2021-03-02 00:00:00  2021-04-27 00:00:00         1         1   \n14  2021-10-19 00:36:31  2021-12-14 21:30:00         1         1   \n15  2021-08-03 19:00:00  2021-09-28 21:00:00         1         1   \n\n                   categories      lastName         title  isSuperUser  \\\n0          Web Dev,Full-stack          Khan  [[REDACTED]]            1   \n1                     Web Dev          Khan  [[REDACTED]]            1   \n2                     Web Dev          Khan  [[REDACTED]]            1   \n3            Web Dev,FrontEnd          Khan  [[REDACTED]]            1   \n4          Web Dev,Full-stack        Cecile  [[REDACTED]]            1   \n5                     Web Dev        Cecile  [[REDACTED]]            1   \n6                     Web Dev        Cecile  [[REDACTED]]            1   \n7            Web Dev,FrontEnd        Cecile  [[REDACTED]]            1   \n8           Beginner, Web Dev        Cecile  [[REDACTED]]            1   \n9   Web Dev,FrontEnd,Beginner        Cecile  [[REDACTED]]            1   \n10                    Web Dev         Hayre     They/Them            0   \n11                   Game Dev  [[REDACTED]]     They/Them            0   \n12                   Game Dev    Carstairs      They/Them            0   \n13                   Game Dev        Sherry     They/Them            0   \n14           Web Dev,FrontEnd     Parkinson     They/Them            1   \n15     Web Dev, BackEnd, .NET      Saunders     They/Them            0   \n\n              lastLogin  \n0   2022-02-24 13:05:16  \n1   2022-02-24 13:05:16  \n2   2022-02-24 13:05:16  \n3   2022-02-24 13:05:16  \n4   2022-04-21 10:17:50  \n5   2022-04-21 10:17:50  \n6   2022-04-21 10:17:50  \n7   2022-04-21 10:17:50  \n8   2022-04-21 10:17:50  \n9   2022-04-21 10:17:50  \n10  2021-04-08 12:43:11  \n11  2021-07-04 20:35:29  \n12  2021-03-30 18:10:30  \n13  2021-04-27 19:32:34  \n14  2021-02-20 20:50:21  \n15  2021-07-26 18:07:51  ",
      "text/html": "<div>\n<style scoped>\n    .dataframe tbody tr th:only-of-type {\n        vertical-align: middle;\n    }\n\n    .dataframe tbody tr th {\n        vertical-align: top;\n    }\n\n    .dataframe thead th {\n        text-align: right;\n    }\n</style>\n<table border=\"1\" class=\"dataframe\">\n  <thead>\n    <tr style=\"text-align: right;\">\n      <th></th>\n      <th>coursesId</th>\n      <th>userId</th>\n      <th>name</th>\n      <th>physicalAddress</th>\n      <th>sessionCount</th>\n      <th>startDate</th>\n      <th>endDate</th>\n      <th>isOnline</th>\n      <th>isPublic</th>\n      <th>categories</th>\n      <th>lastName</th>\n      <th>title</th>\n      <th>isSuperUser</th>\n      <th>lastLogin</th>\n    </tr>\n  </thead>\n  <tbody>\n    <tr>\n      <th>0</th>\n      <td>1</td>\n      <td>1</td>\n      <td>Workings of the Web</td>\n      <td>NaN</td>\n      <td>6</td>\n      <td>2019-01-22 03:37:52</td>\n      <td>2019-03-26 03:31:58</td>\n      <td>0</td>\n      <td>1</td>\n      <td>Web Dev,Full-stack</td>\n      <td>Khan</td>\n      <td>[[REDACTED]]</td>\n      <td>1</td>\n      <td>2022-02-24 13:05:16</td>\n    </tr>\n    <tr>\n      <th>1</th>\n      <td>2</td>\n      <td>1</td>\n      <td>Web Dev from Scratch</td>\n      <td>NaN</td>\n      <td>6</td>\n      <td>2019-06-10 19:35:45</td>\n      <td>2019-06-04 19:35:45</td>\n      <td>0</td>\n      <td>1</td>\n      <td>Web Dev</td>\n      <td>Khan</td>\n      <td>[[REDACTED]]</td>\n      <td>1</td>\n      <td>2022-02-24 13:05:16</td>\n    </tr>\n    <tr>\n      <th>2</th>\n      <td>3</td>\n      <td>1</td>\n      <td>Intro to Web Dev</td>\n      <td>NaN</td>\n      <td>9</td>\n      <td>2019-11-05 12:36:31</td>\n      <td>2020-02-04 12:36:31</td>\n      <td>0</td>\n      <td>1</td>\n      <td>Web Dev</td>\n      <td>Khan</td>\n      <td>[[REDACTED]]</td>\n      <td>1</td>\n      <td>2022-02-24 13:05:16</td>\n    </tr>\n    <tr>\n      <th>3</th>\n      <td>8</td>\n      <td>1</td>\n      <td>Intro to Next.js</td>\n      <td>TBC</td>\n      <td>9</td>\n      <td>2022-05-12 19:00:00</td>\n      <td>2022-07-30 19:00:00</td>\n      <td>0</td>\n      <td>1</td>\n      <td>Web Dev,FrontEnd</td>\n      <td>Khan</td>\n      <td>[[REDACTED]]</td>\n      <td>1</td>\n      <td>2022-02-24 13:05:16</td>\n    </tr>\n    <tr>\n      <th>4</th>\n      <td>1</td>\n      <td>2</td>\n      <td>Workings of the Web</td>\n      <td>NaN</td>\n      <td>6</td>\n      <td>2019-01-22 03:37:52</td>\n      <td>2019-03-26 03:31:58</td>\n      <td>0</td>\n      <td>1</td>\n      <td>Web Dev,Full-stack</td>\n      <td>Cecile</td>\n      <td>[[REDACTED]]</td>\n      <td>1</td>\n      <td>2022-04-21 10:17:50</td>\n    </tr>\n    <tr>\n      <th>5</th>\n      <td>2</td>\n      <td>2</td>\n      <td>Web Dev from Scratch</td>\n      <td>NaN</td>\n      <td>6</td>\n      <td>2019-06-10 19:35:45</td>\n      <td>2019-06-04 19:35:45</td>\n      <td>0</td>\n      <td>1</td>\n      <td>Web Dev</td>\n      <td>Cecile</td>\n      <td>[[REDACTED]]</td>\n      <td>1</td>\n      <td>2022-04-21 10:17:50</td>\n    </tr>\n    <tr>\n      <th>6</th>\n      <td>3</td>\n      <td>2</td>\n      <td>Intro to Web Dev</td>\n      <td>NaN</td>\n      <td>9</td>\n      <td>2019-11-05 12:36:31</td>\n      <td>2020-02-04 12:36:31</td>\n      <td>0</td>\n      <td>1</td>\n      <td>Web Dev</td>\n      <td>Cecile</td>\n      <td>[[REDACTED]]</td>\n      <td>1</td>\n      <td>2022-04-21 10:17:50</td>\n    </tr>\n    <tr>\n      <th>7</th>\n      <td>6</td>\n      <td>2</td>\n      <td>Front End Fundamentals</td>\n      <td>NaN</td>\n      <td>9</td>\n      <td>2021-06-01 00:36:31</td>\n      <td>2021-08-03 21:30:00</td>\n      <td>0</td>\n      <td>1</td>\n      <td>Web Dev,FrontEnd</td>\n      <td>Cecile</td>\n      <td>[[REDACTED]]</td>\n      <td>1</td>\n      <td>2022-04-21 10:17:50</td>\n    </tr>\n    <tr>\n      <th>8</th>\n      <td>9</td>\n      <td>2</td>\n      <td>Programming Fundamentals</td>\n      <td>NaN</td>\n      <td>1</td>\n      <td>2021-07-03 10:00:00</td>\n      <td>2021-07-03 17:00:00</td>\n      <td>1</td>\n      <td>1</td>\n      <td>Beginner, Web Dev</td>\n      <td>Cecile</td>\n      <td>[[REDACTED]]</td>\n      <td>1</td>\n      <td>2022-04-21 10:17:50</td>\n    </tr>\n    <tr>\n      <th>9</th>\n      <td>12</td>\n      <td>2</td>\n      <td>Intro to Web Dev</td>\n      <td>Nonsuch Studios, 92 Lower Parliament St, Notti...</td>\n      <td>9</td>\n      <td>2022-04-12 19:00:00</td>\n      <td>2022-06-14 21:00:00</td>\n      <td>0</td>\n      <td>1</td>\n      <td>Web Dev,FrontEnd,Beginner</td>\n      <td>Cecile</td>\n      <td>[[REDACTED]]</td>\n      <td>1</td>\n      <td>2022-04-21 10:17:50</td>\n    </tr>\n    <tr>\n      <th>10</th>\n      <td>3</td>\n      <td>3</td>\n      <td>Intro to Web Dev</td>\n      <td>NaN</td>\n      <td>9</td>\n      <td>2019-11-05 12:36:31</td>\n      <td>2020-02-04 12:36:31</td>\n      <td>0</td>\n      <td>1</td>\n      <td>Web Dev</td>\n      <td>Hayre</td>\n      <td>They/Them</td>\n      <td>0</td>\n      <td>2021-04-08 12:43:11</td>\n    </tr>\n    <tr>\n      <th>11</th>\n      <td>5</td>\n      <td>67</td>\n      <td>Intro to Game Dev with Unity</td>\n      <td>NaN</td>\n      <td>9</td>\n      <td>2021-03-02 00:00:00</td>\n      <td>2021-04-27 00:00:00</td>\n      <td>1</td>\n      <td>1</td>\n      <td>Game Dev</td>\n      <td>[[REDACTED]]</td>\n      <td>They/Them</td>\n      <td>0</td>\n      <td>2021-07-04 20:35:29</td>\n    </tr>\n    <tr>\n      <th>12</th>\n      <td>5</td>\n      <td>110</td>\n      <td>Intro to Game Dev with Unity</td>\n      <td>NaN</td>\n      <td>9</td>\n      <td>2021-03-02 00:00:00</td>\n      <td>2021-04-27 00:00:00</td>\n      <td>1</td>\n      <td>1</td>\n      <td>Game Dev</td>\n      <td>Carstairs</td>\n      <td>They/Them</td>\n      <td>0</td>\n      <td>2021-03-30 18:10:30</td>\n    </tr>\n    <tr>\n      <th>13</th>\n      <td>5</td>\n      <td>111</td>\n      <td>Intro to Game Dev with Unity</td>\n      <td>NaN</td>\n      <td>9</td>\n      <td>2021-03-02 00:00:00</td>\n      <td>2021-04-27 00:00:00</td>\n      <td>1</td>\n      <td>1</td>\n      <td>Game Dev</td>\n      <td>Sherry</td>\n      <td>They/Them</td>\n      <td>0</td>\n      <td>2021-04-27 19:32:34</td>\n    </tr>\n    <tr>\n      <th>14</th>\n      <td>7</td>\n      <td>4</td>\n      <td>Intro into VueJS</td>\n      <td>NaN</td>\n      <td>5</td>\n      <td>2021-10-19 00:36:31</td>\n      <td>2021-12-14 21:30:00</td>\n      <td>1</td>\n      <td>1</td>\n      <td>Web Dev,FrontEnd</td>\n      <td>Parkinson</td>\n      <td>They/Them</td>\n      <td>1</td>\n      <td>2021-02-20 20:50:21</td>\n    </tr>\n    <tr>\n      <th>15</th>\n      <td>11</td>\n      <td>130</td>\n      <td>Intro to .NET with C#</td>\n      <td>NaN</td>\n      <td>9</td>\n      <td>2021-08-03 19:00:00</td>\n      <td>2021-09-28 21:00:00</td>\n      <td>1</td>\n      <td>1</td>\n      <td>Web Dev, BackEnd, .NET</td>\n      <td>Saunders</td>\n      <td>They/Them</td>\n      <td>0</td>\n      <td>2021-07-26 18:07:51</td>\n    </tr>\n  </tbody>\n</table>\n</div>"
     },
     "metadata": {}
    }
   ]
  },
  {
   "cell_type": "code",
   "metadata": {
    "cell_id": "bd4b0a7194ad4738bcb76ac3999cf05a",
    "tags": [],
    "deepnote_to_be_reexecuted": false,
    "source_hash": "72407194",
    "execution_start": 1652664894393,
    "execution_millis": 1,
    "deepnote_cell_type": "code",
    "deepnote_cell_height": 81
   },
   "source": "lead_instructors.columns = lead_instructors.columns.str.replace('usersId', 'userId')",
   "execution_count": 30,
   "outputs": []
  },
  {
   "cell_type": "code",
   "metadata": {
    "cell_id": "a7ab4e54a3af4326ac6fc051ada912da",
    "tags": [],
    "deepnote_to_be_reexecuted": false,
    "source_hash": "b02753bf",
    "execution_start": 1652664894440,
    "execution_millis": 42,
    "deepnote_table_state": {
     "pageSize": 10,
     "pageIndex": 1,
     "filters": [],
     "sortBy": []
    },
    "deepnote_table_loading": false,
    "deepnote_cell_type": "code",
    "deepnote_cell_height": 590.59375
   },
   "source": "leads = int_cusers.merge(lead_instructors.set_index('coursesId'), on='coursesId')\nleads",
   "execution_count": 31,
   "outputs": [
    {
     "output_type": "execute_result",
     "execution_count": 31,
     "data": {
      "application/vnd.deepnote.dataframe.v3+json": {
       "column_count": 15,
       "row_count": 19,
       "columns": [
        {
         "name": "coursesId",
         "dtype": "int64",
         "stats": {
          "unique_count": 10,
          "nan_count": 0,
          "min": "1",
          "max": "12",
          "histogram": [
           {
            "bin_start": 1,
            "bin_end": 2.1,
            "count": 4
           },
           {
            "bin_start": 2.1,
            "bin_end": 3.2,
            "count": 6
           },
           {
            "bin_start": 3.2,
            "bin_end": 4.300000000000001,
            "count": 0
           },
           {
            "bin_start": 4.300000000000001,
            "bin_end": 5.4,
            "count": 3
           },
           {
            "bin_start": 5.4,
            "bin_end": 6.5,
            "count": 1
           },
           {
            "bin_start": 6.5,
            "bin_end": 7.6000000000000005,
            "count": 1
           },
           {
            "bin_start": 7.6000000000000005,
            "bin_end": 8.700000000000001,
            "count": 1
           },
           {
            "bin_start": 8.700000000000001,
            "bin_end": 9.8,
            "count": 1
           },
           {
            "bin_start": 9.8,
            "bin_end": 10.9,
            "count": 0
           },
           {
            "bin_start": 10.9,
            "bin_end": 12,
            "count": 2
           }
          ]
         }
        },
        {
         "name": "userId_x",
         "dtype": "int64",
         "stats": {
          "unique_count": 8,
          "nan_count": 0,
          "min": "1",
          "max": "130",
          "histogram": [
           {
            "bin_start": 1,
            "bin_end": 13.9,
            "count": 15
           },
           {
            "bin_start": 13.9,
            "bin_end": 26.8,
            "count": 0
           },
           {
            "bin_start": 26.8,
            "bin_end": 39.7,
            "count": 0
           },
           {
            "bin_start": 39.7,
            "bin_end": 52.6,
            "count": 0
           },
           {
            "bin_start": 52.6,
            "bin_end": 65.5,
            "count": 0
           },
           {
            "bin_start": 65.5,
            "bin_end": 78.4,
            "count": 1
           },
           {
            "bin_start": 78.4,
            "bin_end": 91.3,
            "count": 0
           },
           {
            "bin_start": 91.3,
            "bin_end": 104.2,
            "count": 0
           },
           {
            "bin_start": 104.2,
            "bin_end": 117.10000000000001,
            "count": 2
           },
           {
            "bin_start": 117.10000000000001,
            "bin_end": 130,
            "count": 1
           }
          ]
         }
        },
        {
         "name": "name",
         "dtype": "object",
         "stats": {
          "unique_count": 9,
          "nan_count": 0,
          "categories": [
           {
            "name": "Intro to Web Dev",
            "count": 7
           },
           {
            "name": "Intro to Game Dev with Unity",
            "count": 3
           },
           {
            "name": "7 others",
            "count": 9
           }
          ]
         }
        },
        {
         "name": "physicalAddress",
         "dtype": "object",
         "stats": {
          "unique_count": 2,
          "nan_count": 17,
          "categories": [
           {
            "name": "TBC",
            "count": 1
           },
           {
            "name": "Nonsuch Studios, 92 Lower Parliament St, Nottingham, NG1 1EH",
            "count": 1
           },
           {
            "name": "Missing",
            "count": 17
           }
          ]
         }
        },
        {
         "name": "sessionCount",
         "dtype": "int64",
         "stats": {
          "unique_count": 4,
          "nan_count": 0,
          "min": "1",
          "max": "9",
          "histogram": [
           {
            "bin_start": 1,
            "bin_end": 1.8,
            "count": 1
           },
           {
            "bin_start": 1.8,
            "bin_end": 2.6,
            "count": 0
           },
           {
            "bin_start": 2.6,
            "bin_end": 3.4000000000000004,
            "count": 0
           },
           {
            "bin_start": 3.4000000000000004,
            "bin_end": 4.2,
            "count": 0
           },
           {
            "bin_start": 4.2,
            "bin_end": 5,
            "count": 0
           },
           {
            "bin_start": 5,
            "bin_end": 5.800000000000001,
            "count": 1
           },
           {
            "bin_start": 5.800000000000001,
            "bin_end": 6.6000000000000005,
            "count": 4
           },
           {
            "bin_start": 6.6000000000000005,
            "bin_end": 7.4,
            "count": 0
           },
           {
            "bin_start": 7.4,
            "bin_end": 8.2,
            "count": 0
           },
           {
            "bin_start": 8.2,
            "bin_end": 9,
            "count": 13
           }
          ]
         }
        },
        {
         "name": "startDate",
         "dtype": "object",
         "stats": {
          "unique_count": 10,
          "nan_count": 0,
          "categories": [
           {
            "name": "2019-11-05 12:36:31",
            "count": 6
           },
           {
            "name": "2021-03-02 00:00:00",
            "count": 3
           },
           {
            "name": "8 others",
            "count": 10
           }
          ]
         }
        },
        {
         "name": "endDate",
         "dtype": "object",
         "stats": {
          "unique_count": 10,
          "nan_count": 0,
          "categories": [
           {
            "name": "2020-02-04 12:36:31",
            "count": 6
           },
           {
            "name": "2021-04-27 00:00:00",
            "count": 3
           },
           {
            "name": "8 others",
            "count": 10
           }
          ]
         }
        },
        {
         "name": "isOnline",
         "dtype": "int64",
         "stats": {
          "unique_count": 2,
          "nan_count": 0,
          "min": "0",
          "max": "1",
          "histogram": [
           {
            "bin_start": 0,
            "bin_end": 0.1,
            "count": 13
           },
           {
            "bin_start": 0.1,
            "bin_end": 0.2,
            "count": 0
           },
           {
            "bin_start": 0.2,
            "bin_end": 0.30000000000000004,
            "count": 0
           },
           {
            "bin_start": 0.30000000000000004,
            "bin_end": 0.4,
            "count": 0
           },
           {
            "bin_start": 0.4,
            "bin_end": 0.5,
            "count": 0
           },
           {
            "bin_start": 0.5,
            "bin_end": 0.6000000000000001,
            "count": 0
           },
           {
            "bin_start": 0.6000000000000001,
            "bin_end": 0.7000000000000001,
            "count": 0
           },
           {
            "bin_start": 0.7000000000000001,
            "bin_end": 0.8,
            "count": 0
           },
           {
            "bin_start": 0.8,
            "bin_end": 0.9,
            "count": 0
           },
           {
            "bin_start": 0.9,
            "bin_end": 1,
            "count": 6
           }
          ]
         }
        },
        {
         "name": "isPublic",
         "dtype": "int64",
         "stats": {
          "unique_count": 1,
          "nan_count": 0,
          "min": "1",
          "max": "1",
          "histogram": [
           {
            "bin_start": 0.5,
            "bin_end": 0.6,
            "count": 0
           },
           {
            "bin_start": 0.6,
            "bin_end": 0.7,
            "count": 0
           },
           {
            "bin_start": 0.7,
            "bin_end": 0.8,
            "count": 0
           },
           {
            "bin_start": 0.8,
            "bin_end": 0.9,
            "count": 0
           },
           {
            "bin_start": 0.9,
            "bin_end": 1,
            "count": 0
           },
           {
            "bin_start": 1,
            "bin_end": 1.1,
            "count": 19
           },
           {
            "bin_start": 1.1,
            "bin_end": 1.2000000000000002,
            "count": 0
           },
           {
            "bin_start": 1.2000000000000002,
            "bin_end": 1.3,
            "count": 0
           },
           {
            "bin_start": 1.3,
            "bin_end": 1.4,
            "count": 0
           },
           {
            "bin_start": 1.4,
            "bin_end": 1.5,
            "count": 0
           }
          ]
         }
        },
        {
         "name": "categories",
         "dtype": "object",
         "stats": {
          "unique_count": 7,
          "nan_count": 0,
          "categories": [
           {
            "name": "Web Dev",
            "count": 8
           },
           {
            "name": "Web Dev,FrontEnd",
            "count": 3
           },
           {
            "name": "5 others",
            "count": 8
           }
          ]
         }
        },
        {
         "name": "lastName",
         "dtype": "object",
         "stats": {
          "unique_count": 8,
          "nan_count": 0,
          "categories": [
           {
            "name": "Cecile",
            "count": 7
           },
           {
            "name": "Khan",
            "count": 5
           },
           {
            "name": "6 others",
            "count": 7
           }
          ]
         }
        },
        {
         "name": "title",
         "dtype": "object",
         "stats": {
          "unique_count": 2,
          "nan_count": 0,
          "categories": [
           {
            "name": "[[REDACTED]]",
            "count": 12
           },
           {
            "name": "They/Them",
            "count": 7
           }
          ]
         }
        },
        {
         "name": "isSuperUser",
         "dtype": "int64",
         "stats": {
          "unique_count": 2,
          "nan_count": 0,
          "min": "0",
          "max": "1",
          "histogram": [
           {
            "bin_start": 0,
            "bin_end": 0.1,
            "count": 6
           },
           {
            "bin_start": 0.1,
            "bin_end": 0.2,
            "count": 0
           },
           {
            "bin_start": 0.2,
            "bin_end": 0.30000000000000004,
            "count": 0
           },
           {
            "bin_start": 0.30000000000000004,
            "bin_end": 0.4,
            "count": 0
           },
           {
            "bin_start": 0.4,
            "bin_end": 0.5,
            "count": 0
           },
           {
            "bin_start": 0.5,
            "bin_end": 0.6000000000000001,
            "count": 0
           },
           {
            "bin_start": 0.6000000000000001,
            "bin_end": 0.7000000000000001,
            "count": 0
           },
           {
            "bin_start": 0.7000000000000001,
            "bin_end": 0.8,
            "count": 0
           },
           {
            "bin_start": 0.8,
            "bin_end": 0.9,
            "count": 0
           },
           {
            "bin_start": 0.9,
            "bin_end": 1,
            "count": 13
           }
          ]
         }
        },
        {
         "name": "lastLogin",
         "dtype": "object",
         "stats": {
          "unique_count": 8,
          "nan_count": 0,
          "categories": [
           {
            "name": "2022-04-21 10:17:50",
            "count": 7
           },
           {
            "name": "2022-02-24 13:05:16",
            "count": 5
           },
           {
            "name": "6 others",
            "count": 7
           }
          ]
         }
        },
        {
         "name": "userId_y",
         "dtype": "int64",
         "stats": {
          "unique_count": 5,
          "nan_count": 0,
          "min": "1",
          "max": "130",
          "histogram": [
           {
            "bin_start": 1,
            "bin_end": 13.9,
            "count": 15
           },
           {
            "bin_start": 13.9,
            "bin_end": 26.8,
            "count": 0
           },
           {
            "bin_start": 26.8,
            "bin_end": 39.7,
            "count": 0
           },
           {
            "bin_start": 39.7,
            "bin_end": 52.6,
            "count": 0
           },
           {
            "bin_start": 52.6,
            "bin_end": 65.5,
            "count": 0
           },
           {
            "bin_start": 65.5,
            "bin_end": 78.4,
            "count": 3
           },
           {
            "bin_start": 78.4,
            "bin_end": 91.3,
            "count": 0
           },
           {
            "bin_start": 91.3,
            "bin_end": 104.2,
            "count": 0
           },
           {
            "bin_start": 104.2,
            "bin_end": 117.10000000000001,
            "count": 0
           },
           {
            "bin_start": 117.10000000000001,
            "bin_end": 130,
            "count": 1
           }
          ]
         }
        },
        {
         "name": "_deepnote_index_column",
         "dtype": "int64"
        }
       ],
       "rows": [
        {
         "coursesId": 8,
         "userId_x": 1,
         "name": "Intro to Next.js",
         "physicalAddress": "TBC",
         "sessionCount": 9,
         "startDate": "2022-05-12 19:00:00",
         "endDate": "2022-07-30 19:00:00",
         "isOnline": 0,
         "isPublic": 1,
         "categories": "Web Dev,FrontEnd",
         "lastName": "Khan",
         "title": "[[REDACTED]]",
         "isSuperUser": 1,
         "lastLogin": "2022-02-24 13:05:16",
         "userId_y": 1,
         "_deepnote_index_column": 10
        },
        {
         "coursesId": 6,
         "userId_x": 2,
         "name": "Front End Fundamentals",
         "physicalAddress": "nan",
         "sessionCount": 9,
         "startDate": "2021-06-01 00:36:31",
         "endDate": "2021-08-03 21:30:00",
         "isOnline": 0,
         "isPublic": 1,
         "categories": "Web Dev,FrontEnd",
         "lastName": "Cecile",
         "title": "[[REDACTED]]",
         "isSuperUser": 1,
         "lastLogin": "2022-04-21 10:17:50",
         "userId_y": 2,
         "_deepnote_index_column": 11
        },
        {
         "coursesId": 9,
         "userId_x": 2,
         "name": "Programming Fundamentals",
         "physicalAddress": "nan",
         "sessionCount": 1,
         "startDate": "2021-07-03 10:00:00",
         "endDate": "2021-07-03 17:00:00",
         "isOnline": 1,
         "isPublic": 1,
         "categories": "Beginner, Web Dev",
         "lastName": "Cecile",
         "title": "[[REDACTED]]",
         "isSuperUser": 1,
         "lastLogin": "2022-04-21 10:17:50",
         "userId_y": 2,
         "_deepnote_index_column": 12
        },
        {
         "coursesId": 12,
         "userId_x": 2,
         "name": "Intro to Web Dev",
         "physicalAddress": "Nonsuch Studios, 92 Lower Parliament St, Nottingham, NG1 1EH",
         "sessionCount": 9,
         "startDate": "2022-04-12 19:00:00",
         "endDate": "2022-06-14 21:00:00",
         "isOnline": 0,
         "isPublic": 1,
         "categories": "Web Dev,FrontEnd,Beginner",
         "lastName": "Cecile",
         "title": "[[REDACTED]]",
         "isSuperUser": 1,
         "lastLogin": "2022-04-21 10:17:50",
         "userId_y": 1,
         "_deepnote_index_column": 13
        },
        {
         "coursesId": 5,
         "userId_x": 67,
         "name": "Intro to Game Dev with Unity",
         "physicalAddress": "nan",
         "sessionCount": 9,
         "startDate": "2021-03-02 00:00:00",
         "endDate": "2021-04-27 00:00:00",
         "isOnline": 1,
         "isPublic": 1,
         "categories": "Game Dev",
         "lastName": "[[REDACTED]]",
         "title": "They/Them",
         "isSuperUser": 0,
         "lastLogin": "2021-07-04 20:35:29",
         "userId_y": 67,
         "_deepnote_index_column": 14
        },
        {
         "coursesId": 5,
         "userId_x": 110,
         "name": "Intro to Game Dev with Unity",
         "physicalAddress": "nan",
         "sessionCount": 9,
         "startDate": "2021-03-02 00:00:00",
         "endDate": "2021-04-27 00:00:00",
         "isOnline": 1,
         "isPublic": 1,
         "categories": "Game Dev",
         "lastName": "Carstairs ",
         "title": "They/Them",
         "isSuperUser": 0,
         "lastLogin": "2021-03-30 18:10:30",
         "userId_y": 67,
         "_deepnote_index_column": 15
        },
        {
         "coursesId": 5,
         "userId_x": 111,
         "name": "Intro to Game Dev with Unity",
         "physicalAddress": "nan",
         "sessionCount": 9,
         "startDate": "2021-03-02 00:00:00",
         "endDate": "2021-04-27 00:00:00",
         "isOnline": 1,
         "isPublic": 1,
         "categories": "Game Dev",
         "lastName": "Sherry",
         "title": "They/Them",
         "isSuperUser": 0,
         "lastLogin": "2021-04-27 19:32:34",
         "userId_y": 67,
         "_deepnote_index_column": 16
        },
        {
         "coursesId": 7,
         "userId_x": 4,
         "name": "Intro into VueJS",
         "physicalAddress": "nan",
         "sessionCount": 5,
         "startDate": "2021-10-19 00:36:31",
         "endDate": "2021-12-14 21:30:00",
         "isOnline": 1,
         "isPublic": 1,
         "categories": "Web Dev,FrontEnd",
         "lastName": "Parkinson",
         "title": "They/Them",
         "isSuperUser": 1,
         "lastLogin": "2021-02-20 20:50:21",
         "userId_y": 4,
         "_deepnote_index_column": 17
        },
        {
         "coursesId": 11,
         "userId_x": 130,
         "name": "Intro to .NET with C#",
         "physicalAddress": "nan",
         "sessionCount": 9,
         "startDate": "2021-08-03 19:00:00",
         "endDate": "2021-09-28 21:00:00",
         "isOnline": 1,
         "isPublic": 1,
         "categories": "Web Dev, BackEnd, .NET",
         "lastName": "Saunders",
         "title": "They/Them",
         "isSuperUser": 0,
         "lastLogin": "2021-07-26 18:07:51",
         "userId_y": 130,
         "_deepnote_index_column": 18
        }
       ]
      },
      "text/plain": "    coursesId  userId_x                          name  \\\n0           1         1           Workings of the Web   \n1           1         2           Workings of the Web   \n2           2         1          Web Dev from Scratch   \n3           2         2          Web Dev from Scratch   \n4           3         1              Intro to Web Dev   \n5           3         1              Intro to Web Dev   \n6           3         2              Intro to Web Dev   \n7           3         2              Intro to Web Dev   \n8           3         3              Intro to Web Dev   \n9           3         3              Intro to Web Dev   \n10          8         1              Intro to Next.js   \n11          6         2        Front End Fundamentals   \n12          9         2      Programming Fundamentals   \n13         12         2              Intro to Web Dev   \n14          5        67  Intro to Game Dev with Unity   \n15          5       110  Intro to Game Dev with Unity   \n16          5       111  Intro to Game Dev with Unity   \n17          7         4              Intro into VueJS   \n18         11       130         Intro to .NET with C#   \n\n                                      physicalAddress  sessionCount  \\\n0                                                 NaN             6   \n1                                                 NaN             6   \n2                                                 NaN             6   \n3                                                 NaN             6   \n4                                                 NaN             9   \n5                                                 NaN             9   \n6                                                 NaN             9   \n7                                                 NaN             9   \n8                                                 NaN             9   \n9                                                 NaN             9   \n10                                                TBC             9   \n11                                                NaN             9   \n12                                                NaN             1   \n13  Nonsuch Studios, 92 Lower Parliament St, Notti...             9   \n14                                                NaN             9   \n15                                                NaN             9   \n16                                                NaN             9   \n17                                                NaN             5   \n18                                                NaN             9   \n\n              startDate              endDate  isOnline  isPublic  \\\n0   2019-01-22 03:37:52  2019-03-26 03:31:58         0         1   \n1   2019-01-22 03:37:52  2019-03-26 03:31:58         0         1   \n2   2019-06-10 19:35:45  2019-06-04 19:35:45         0         1   \n3   2019-06-10 19:35:45  2019-06-04 19:35:45         0         1   \n4   2019-11-05 12:36:31  2020-02-04 12:36:31         0         1   \n5   2019-11-05 12:36:31  2020-02-04 12:36:31         0         1   \n6   2019-11-05 12:36:31  2020-02-04 12:36:31         0         1   \n7   2019-11-05 12:36:31  2020-02-04 12:36:31         0         1   \n8   2019-11-05 12:36:31  2020-02-04 12:36:31         0         1   \n9   2019-11-05 12:36:31  2020-02-04 12:36:31         0         1   \n10  2022-05-12 19:00:00  2022-07-30 19:00:00         0         1   \n11  2021-06-01 00:36:31  2021-08-03 21:30:00         0         1   \n12  2021-07-03 10:00:00  2021-07-03 17:00:00         1         1   \n13  2022-04-12 19:00:00  2022-06-14 21:00:00         0         1   \n14  2021-03-02 00:00:00  2021-04-27 00:00:00         1         1   \n15  2021-03-02 00:00:00  2021-04-27 00:00:00         1         1   \n16  2021-03-02 00:00:00  2021-04-27 00:00:00         1         1   \n17  2021-10-19 00:36:31  2021-12-14 21:30:00         1         1   \n18  2021-08-03 19:00:00  2021-09-28 21:00:00         1         1   \n\n                   categories      lastName         title  isSuperUser  \\\n0          Web Dev,Full-stack          Khan  [[REDACTED]]            1   \n1          Web Dev,Full-stack        Cecile  [[REDACTED]]            1   \n2                     Web Dev          Khan  [[REDACTED]]            1   \n3                     Web Dev        Cecile  [[REDACTED]]            1   \n4                     Web Dev          Khan  [[REDACTED]]            1   \n5                     Web Dev          Khan  [[REDACTED]]            1   \n6                     Web Dev        Cecile  [[REDACTED]]            1   \n7                     Web Dev        Cecile  [[REDACTED]]            1   \n8                     Web Dev         Hayre     They/Them            0   \n9                     Web Dev         Hayre     They/Them            0   \n10           Web Dev,FrontEnd          Khan  [[REDACTED]]            1   \n11           Web Dev,FrontEnd        Cecile  [[REDACTED]]            1   \n12          Beginner, Web Dev        Cecile  [[REDACTED]]            1   \n13  Web Dev,FrontEnd,Beginner        Cecile  [[REDACTED]]            1   \n14                   Game Dev  [[REDACTED]]     They/Them            0   \n15                   Game Dev    Carstairs      They/Them            0   \n16                   Game Dev        Sherry     They/Them            0   \n17           Web Dev,FrontEnd     Parkinson     They/Them            1   \n18     Web Dev, BackEnd, .NET      Saunders     They/Them            0   \n\n              lastLogin  userId_y  \n0   2022-02-24 13:05:16         2  \n1   2022-04-21 10:17:50         2  \n2   2022-02-24 13:05:16         2  \n3   2022-04-21 10:17:50         2  \n4   2022-02-24 13:05:16         1  \n5   2022-02-24 13:05:16         2  \n6   2022-04-21 10:17:50         1  \n7   2022-04-21 10:17:50         2  \n8   2021-04-08 12:43:11         1  \n9   2021-04-08 12:43:11         2  \n10  2022-02-24 13:05:16         1  \n11  2022-04-21 10:17:50         2  \n12  2022-04-21 10:17:50         2  \n13  2022-04-21 10:17:50         1  \n14  2021-07-04 20:35:29        67  \n15  2021-03-30 18:10:30        67  \n16  2021-04-27 19:32:34        67  \n17  2021-02-20 20:50:21         4  \n18  2021-07-26 18:07:51       130  ",
      "text/html": "<div>\n<style scoped>\n    .dataframe tbody tr th:only-of-type {\n        vertical-align: middle;\n    }\n\n    .dataframe tbody tr th {\n        vertical-align: top;\n    }\n\n    .dataframe thead th {\n        text-align: right;\n    }\n</style>\n<table border=\"1\" class=\"dataframe\">\n  <thead>\n    <tr style=\"text-align: right;\">\n      <th></th>\n      <th>coursesId</th>\n      <th>userId_x</th>\n      <th>name</th>\n      <th>physicalAddress</th>\n      <th>sessionCount</th>\n      <th>startDate</th>\n      <th>endDate</th>\n      <th>isOnline</th>\n      <th>isPublic</th>\n      <th>categories</th>\n      <th>lastName</th>\n      <th>title</th>\n      <th>isSuperUser</th>\n      <th>lastLogin</th>\n      <th>userId_y</th>\n    </tr>\n  </thead>\n  <tbody>\n    <tr>\n      <th>0</th>\n      <td>1</td>\n      <td>1</td>\n      <td>Workings of the Web</td>\n      <td>NaN</td>\n      <td>6</td>\n      <td>2019-01-22 03:37:52</td>\n      <td>2019-03-26 03:31:58</td>\n      <td>0</td>\n      <td>1</td>\n      <td>Web Dev,Full-stack</td>\n      <td>Khan</td>\n      <td>[[REDACTED]]</td>\n      <td>1</td>\n      <td>2022-02-24 13:05:16</td>\n      <td>2</td>\n    </tr>\n    <tr>\n      <th>1</th>\n      <td>1</td>\n      <td>2</td>\n      <td>Workings of the Web</td>\n      <td>NaN</td>\n      <td>6</td>\n      <td>2019-01-22 03:37:52</td>\n      <td>2019-03-26 03:31:58</td>\n      <td>0</td>\n      <td>1</td>\n      <td>Web Dev,Full-stack</td>\n      <td>Cecile</td>\n      <td>[[REDACTED]]</td>\n      <td>1</td>\n      <td>2022-04-21 10:17:50</td>\n      <td>2</td>\n    </tr>\n    <tr>\n      <th>2</th>\n      <td>2</td>\n      <td>1</td>\n      <td>Web Dev from Scratch</td>\n      <td>NaN</td>\n      <td>6</td>\n      <td>2019-06-10 19:35:45</td>\n      <td>2019-06-04 19:35:45</td>\n      <td>0</td>\n      <td>1</td>\n      <td>Web Dev</td>\n      <td>Khan</td>\n      <td>[[REDACTED]]</td>\n      <td>1</td>\n      <td>2022-02-24 13:05:16</td>\n      <td>2</td>\n    </tr>\n    <tr>\n      <th>3</th>\n      <td>2</td>\n      <td>2</td>\n      <td>Web Dev from Scratch</td>\n      <td>NaN</td>\n      <td>6</td>\n      <td>2019-06-10 19:35:45</td>\n      <td>2019-06-04 19:35:45</td>\n      <td>0</td>\n      <td>1</td>\n      <td>Web Dev</td>\n      <td>Cecile</td>\n      <td>[[REDACTED]]</td>\n      <td>1</td>\n      <td>2022-04-21 10:17:50</td>\n      <td>2</td>\n    </tr>\n    <tr>\n      <th>4</th>\n      <td>3</td>\n      <td>1</td>\n      <td>Intro to Web Dev</td>\n      <td>NaN</td>\n      <td>9</td>\n      <td>2019-11-05 12:36:31</td>\n      <td>2020-02-04 12:36:31</td>\n      <td>0</td>\n      <td>1</td>\n      <td>Web Dev</td>\n      <td>Khan</td>\n      <td>[[REDACTED]]</td>\n      <td>1</td>\n      <td>2022-02-24 13:05:16</td>\n      <td>1</td>\n    </tr>\n    <tr>\n      <th>5</th>\n      <td>3</td>\n      <td>1</td>\n      <td>Intro to Web Dev</td>\n      <td>NaN</td>\n      <td>9</td>\n      <td>2019-11-05 12:36:31</td>\n      <td>2020-02-04 12:36:31</td>\n      <td>0</td>\n      <td>1</td>\n      <td>Web Dev</td>\n      <td>Khan</td>\n      <td>[[REDACTED]]</td>\n      <td>1</td>\n      <td>2022-02-24 13:05:16</td>\n      <td>2</td>\n    </tr>\n    <tr>\n      <th>6</th>\n      <td>3</td>\n      <td>2</td>\n      <td>Intro to Web Dev</td>\n      <td>NaN</td>\n      <td>9</td>\n      <td>2019-11-05 12:36:31</td>\n      <td>2020-02-04 12:36:31</td>\n      <td>0</td>\n      <td>1</td>\n      <td>Web Dev</td>\n      <td>Cecile</td>\n      <td>[[REDACTED]]</td>\n      <td>1</td>\n      <td>2022-04-21 10:17:50</td>\n      <td>1</td>\n    </tr>\n    <tr>\n      <th>7</th>\n      <td>3</td>\n      <td>2</td>\n      <td>Intro to Web Dev</td>\n      <td>NaN</td>\n      <td>9</td>\n      <td>2019-11-05 12:36:31</td>\n      <td>2020-02-04 12:36:31</td>\n      <td>0</td>\n      <td>1</td>\n      <td>Web Dev</td>\n      <td>Cecile</td>\n      <td>[[REDACTED]]</td>\n      <td>1</td>\n      <td>2022-04-21 10:17:50</td>\n      <td>2</td>\n    </tr>\n    <tr>\n      <th>8</th>\n      <td>3</td>\n      <td>3</td>\n      <td>Intro to Web Dev</td>\n      <td>NaN</td>\n      <td>9</td>\n      <td>2019-11-05 12:36:31</td>\n      <td>2020-02-04 12:36:31</td>\n      <td>0</td>\n      <td>1</td>\n      <td>Web Dev</td>\n      <td>Hayre</td>\n      <td>They/Them</td>\n      <td>0</td>\n      <td>2021-04-08 12:43:11</td>\n      <td>1</td>\n    </tr>\n    <tr>\n      <th>9</th>\n      <td>3</td>\n      <td>3</td>\n      <td>Intro to Web Dev</td>\n      <td>NaN</td>\n      <td>9</td>\n      <td>2019-11-05 12:36:31</td>\n      <td>2020-02-04 12:36:31</td>\n      <td>0</td>\n      <td>1</td>\n      <td>Web Dev</td>\n      <td>Hayre</td>\n      <td>They/Them</td>\n      <td>0</td>\n      <td>2021-04-08 12:43:11</td>\n      <td>2</td>\n    </tr>\n    <tr>\n      <th>10</th>\n      <td>8</td>\n      <td>1</td>\n      <td>Intro to Next.js</td>\n      <td>TBC</td>\n      <td>9</td>\n      <td>2022-05-12 19:00:00</td>\n      <td>2022-07-30 19:00:00</td>\n      <td>0</td>\n      <td>1</td>\n      <td>Web Dev,FrontEnd</td>\n      <td>Khan</td>\n      <td>[[REDACTED]]</td>\n      <td>1</td>\n      <td>2022-02-24 13:05:16</td>\n      <td>1</td>\n    </tr>\n    <tr>\n      <th>11</th>\n      <td>6</td>\n      <td>2</td>\n      <td>Front End Fundamentals</td>\n      <td>NaN</td>\n      <td>9</td>\n      <td>2021-06-01 00:36:31</td>\n      <td>2021-08-03 21:30:00</td>\n      <td>0</td>\n      <td>1</td>\n      <td>Web Dev,FrontEnd</td>\n      <td>Cecile</td>\n      <td>[[REDACTED]]</td>\n      <td>1</td>\n      <td>2022-04-21 10:17:50</td>\n      <td>2</td>\n    </tr>\n    <tr>\n      <th>12</th>\n      <td>9</td>\n      <td>2</td>\n      <td>Programming Fundamentals</td>\n      <td>NaN</td>\n      <td>1</td>\n      <td>2021-07-03 10:00:00</td>\n      <td>2021-07-03 17:00:00</td>\n      <td>1</td>\n      <td>1</td>\n      <td>Beginner, Web Dev</td>\n      <td>Cecile</td>\n      <td>[[REDACTED]]</td>\n      <td>1</td>\n      <td>2022-04-21 10:17:50</td>\n      <td>2</td>\n    </tr>\n    <tr>\n      <th>13</th>\n      <td>12</td>\n      <td>2</td>\n      <td>Intro to Web Dev</td>\n      <td>Nonsuch Studios, 92 Lower Parliament St, Notti...</td>\n      <td>9</td>\n      <td>2022-04-12 19:00:00</td>\n      <td>2022-06-14 21:00:00</td>\n      <td>0</td>\n      <td>1</td>\n      <td>Web Dev,FrontEnd,Beginner</td>\n      <td>Cecile</td>\n      <td>[[REDACTED]]</td>\n      <td>1</td>\n      <td>2022-04-21 10:17:50</td>\n      <td>1</td>\n    </tr>\n    <tr>\n      <th>14</th>\n      <td>5</td>\n      <td>67</td>\n      <td>Intro to Game Dev with Unity</td>\n      <td>NaN</td>\n      <td>9</td>\n      <td>2021-03-02 00:00:00</td>\n      <td>2021-04-27 00:00:00</td>\n      <td>1</td>\n      <td>1</td>\n      <td>Game Dev</td>\n      <td>[[REDACTED]]</td>\n      <td>They/Them</td>\n      <td>0</td>\n      <td>2021-07-04 20:35:29</td>\n      <td>67</td>\n    </tr>\n    <tr>\n      <th>15</th>\n      <td>5</td>\n      <td>110</td>\n      <td>Intro to Game Dev with Unity</td>\n      <td>NaN</td>\n      <td>9</td>\n      <td>2021-03-02 00:00:00</td>\n      <td>2021-04-27 00:00:00</td>\n      <td>1</td>\n      <td>1</td>\n      <td>Game Dev</td>\n      <td>Carstairs</td>\n      <td>They/Them</td>\n      <td>0</td>\n      <td>2021-03-30 18:10:30</td>\n      <td>67</td>\n    </tr>\n    <tr>\n      <th>16</th>\n      <td>5</td>\n      <td>111</td>\n      <td>Intro to Game Dev with Unity</td>\n      <td>NaN</td>\n      <td>9</td>\n      <td>2021-03-02 00:00:00</td>\n      <td>2021-04-27 00:00:00</td>\n      <td>1</td>\n      <td>1</td>\n      <td>Game Dev</td>\n      <td>Sherry</td>\n      <td>They/Them</td>\n      <td>0</td>\n      <td>2021-04-27 19:32:34</td>\n      <td>67</td>\n    </tr>\n    <tr>\n      <th>17</th>\n      <td>7</td>\n      <td>4</td>\n      <td>Intro into VueJS</td>\n      <td>NaN</td>\n      <td>5</td>\n      <td>2021-10-19 00:36:31</td>\n      <td>2021-12-14 21:30:00</td>\n      <td>1</td>\n      <td>1</td>\n      <td>Web Dev,FrontEnd</td>\n      <td>Parkinson</td>\n      <td>They/Them</td>\n      <td>1</td>\n      <td>2021-02-20 20:50:21</td>\n      <td>4</td>\n    </tr>\n    <tr>\n      <th>18</th>\n      <td>11</td>\n      <td>130</td>\n      <td>Intro to .NET with C#</td>\n      <td>NaN</td>\n      <td>9</td>\n      <td>2021-08-03 19:00:00</td>\n      <td>2021-09-28 21:00:00</td>\n      <td>1</td>\n      <td>1</td>\n      <td>Web Dev, BackEnd, .NET</td>\n      <td>Saunders</td>\n      <td>They/Them</td>\n      <td>0</td>\n      <td>2021-07-26 18:07:51</td>\n      <td>130</td>\n    </tr>\n  </tbody>\n</table>\n</div>"
     },
     "metadata": {}
    }
   ]
  },
  {
   "cell_type": "code",
   "metadata": {
    "cell_id": "50b8a3159d2e4e14ba0fcde55d14271d",
    "tags": [],
    "deepnote_to_be_reexecuted": false,
    "source_hash": "cd19d83b",
    "execution_start": 1652664894502,
    "execution_millis": 7,
    "deepnote_cell_type": "code",
    "deepnote_cell_height": 618
   },
   "source": "learners.columns = learners.columns.str.replace('usersId', 'userId')\nlearners",
   "execution_count": 32,
   "outputs": [
    {
     "output_type": "execute_result",
     "execution_count": 32,
     "data": {
      "application/vnd.deepnote.dataframe.v3+json": {
       "column_count": 2,
       "row_count": 74,
       "columns": [
        {
         "name": "coursesId",
         "dtype": "int64",
         "stats": {
          "unique_count": 6,
          "nan_count": 0,
          "min": "3",
          "max": "11",
          "histogram": [
           {
            "bin_start": 3,
            "bin_end": 3.8,
            "count": 47
           },
           {
            "bin_start": 3.8,
            "bin_end": 4.6,
            "count": 0
           },
           {
            "bin_start": 4.6,
            "bin_end": 5.4,
            "count": 14
           },
           {
            "bin_start": 5.4,
            "bin_end": 6.2,
            "count": 0
           },
           {
            "bin_start": 6.2,
            "bin_end": 7,
            "count": 0
           },
           {
            "bin_start": 7,
            "bin_end": 7.800000000000001,
            "count": 2
           },
           {
            "bin_start": 7.800000000000001,
            "bin_end": 8.600000000000001,
            "count": 0
           },
           {
            "bin_start": 8.600000000000001,
            "bin_end": 9.4,
            "count": 9
           },
           {
            "bin_start": 9.4,
            "bin_end": 10.2,
            "count": 1
           },
           {
            "bin_start": 10.2,
            "bin_end": 11,
            "count": 1
           }
          ]
         }
        },
        {
         "name": "userId",
         "dtype": "int64",
         "stats": {
          "unique_count": 72,
          "nan_count": 0,
          "min": "4",
          "max": "131",
          "histogram": [
           {
            "bin_start": 4,
            "bin_end": 16.7,
            "count": 12
           },
           {
            "bin_start": 16.7,
            "bin_end": 29.4,
            "count": 13
           },
           {
            "bin_start": 29.4,
            "bin_end": 42.099999999999994,
            "count": 13
           },
           {
            "bin_start": 42.099999999999994,
            "bin_end": 54.8,
            "count": 11
           },
           {
            "bin_start": 54.8,
            "bin_end": 67.5,
            "count": 2
           },
           {
            "bin_start": 67.5,
            "bin_end": 80.19999999999999,
            "count": 2
           },
           {
            "bin_start": 80.19999999999999,
            "bin_end": 92.89999999999999,
            "count": 8
           },
           {
            "bin_start": 92.89999999999999,
            "bin_end": 105.6,
            "count": 2
           },
           {
            "bin_start": 105.6,
            "bin_end": 118.3,
            "count": 2
           },
           {
            "bin_start": 118.3,
            "bin_end": 131,
            "count": 9
           }
          ]
         }
        },
        {
         "name": "_deepnote_index_column",
         "dtype": "int64"
        }
       ],
       "rows": [
        {
         "coursesId": 3,
         "userId": 5,
         "_deepnote_index_column": 0
        },
        {
         "coursesId": 3,
         "userId": 6,
         "_deepnote_index_column": 1
        },
        {
         "coursesId": 3,
         "userId": 8,
         "_deepnote_index_column": 2
        },
        {
         "coursesId": 3,
         "userId": 9,
         "_deepnote_index_column": 3
        },
        {
         "coursesId": 3,
         "userId": 10,
         "_deepnote_index_column": 4
        },
        {
         "coursesId": 3,
         "userId": 11,
         "_deepnote_index_column": 5
        },
        {
         "coursesId": 3,
         "userId": 12,
         "_deepnote_index_column": 6
        },
        {
         "coursesId": 3,
         "userId": 13,
         "_deepnote_index_column": 7
        },
        {
         "coursesId": 3,
         "userId": 14,
         "_deepnote_index_column": 8
        },
        {
         "coursesId": 3,
         "userId": 15,
         "_deepnote_index_column": 9
        }
       ]
      },
      "text/plain": "    coursesId  userId\n0           3       5\n1           3       6\n2           3       8\n3           3       9\n4           3      10\n..        ...     ...\n69          9     125\n70          9     127\n71          9     128\n72         10      54\n73         11     131\n\n[74 rows x 2 columns]",
      "text/html": "<div>\n<style scoped>\n    .dataframe tbody tr th:only-of-type {\n        vertical-align: middle;\n    }\n\n    .dataframe tbody tr th {\n        vertical-align: top;\n    }\n\n    .dataframe thead th {\n        text-align: right;\n    }\n</style>\n<table border=\"1\" class=\"dataframe\">\n  <thead>\n    <tr style=\"text-align: right;\">\n      <th></th>\n      <th>coursesId</th>\n      <th>userId</th>\n    </tr>\n  </thead>\n  <tbody>\n    <tr>\n      <th>0</th>\n      <td>3</td>\n      <td>5</td>\n    </tr>\n    <tr>\n      <th>1</th>\n      <td>3</td>\n      <td>6</td>\n    </tr>\n    <tr>\n      <th>2</th>\n      <td>3</td>\n      <td>8</td>\n    </tr>\n    <tr>\n      <th>3</th>\n      <td>3</td>\n      <td>9</td>\n    </tr>\n    <tr>\n      <th>4</th>\n      <td>3</td>\n      <td>10</td>\n    </tr>\n    <tr>\n      <th>...</th>\n      <td>...</td>\n      <td>...</td>\n    </tr>\n    <tr>\n      <th>69</th>\n      <td>9</td>\n      <td>125</td>\n    </tr>\n    <tr>\n      <th>70</th>\n      <td>9</td>\n      <td>127</td>\n    </tr>\n    <tr>\n      <th>71</th>\n      <td>9</td>\n      <td>128</td>\n    </tr>\n    <tr>\n      <th>72</th>\n      <td>10</td>\n      <td>54</td>\n    </tr>\n    <tr>\n      <th>73</th>\n      <td>11</td>\n      <td>131</td>\n    </tr>\n  </tbody>\n</table>\n<p>74 rows × 2 columns</p>\n</div>"
     },
     "metadata": {}
    }
   ]
  },
  {
   "cell_type": "code",
   "metadata": {
    "cell_id": "ff267068d8ce41da9e75e25899d59cf3",
    "tags": [],
    "deepnote_to_be_reexecuted": false,
    "source_hash": "b27add54",
    "execution_start": 1652664894551,
    "execution_millis": 8,
    "deepnote_cell_type": "code",
    "deepnote_cell_height": 613.59375
   },
   "source": "courses",
   "execution_count": 33,
   "outputs": [
    {
     "output_type": "execute_result",
     "execution_count": 33,
     "data": {
      "application/vnd.deepnote.dataframe.v3+json": {
       "column_count": 9,
       "row_count": 11,
       "columns": [
        {
         "name": "coursesId",
         "dtype": "int64",
         "stats": {
          "unique_count": 11,
          "nan_count": 0,
          "min": "1",
          "max": "12",
          "histogram": [
           {
            "bin_start": 1,
            "bin_end": 2.1,
            "count": 2
           },
           {
            "bin_start": 2.1,
            "bin_end": 3.2,
            "count": 1
           },
           {
            "bin_start": 3.2,
            "bin_end": 4.300000000000001,
            "count": 0
           },
           {
            "bin_start": 4.300000000000001,
            "bin_end": 5.4,
            "count": 1
           },
           {
            "bin_start": 5.4,
            "bin_end": 6.5,
            "count": 1
           },
           {
            "bin_start": 6.5,
            "bin_end": 7.6000000000000005,
            "count": 1
           },
           {
            "bin_start": 7.6000000000000005,
            "bin_end": 8.700000000000001,
            "count": 1
           },
           {
            "bin_start": 8.700000000000001,
            "bin_end": 9.8,
            "count": 1
           },
           {
            "bin_start": 9.8,
            "bin_end": 10.9,
            "count": 1
           },
           {
            "bin_start": 10.9,
            "bin_end": 12,
            "count": 2
           }
          ]
         }
        },
        {
         "name": "name",
         "dtype": "object",
         "stats": {
          "unique_count": 10,
          "nan_count": 0,
          "categories": [
           {
            "name": "Intro to Web Dev",
            "count": 2
           },
           {
            "name": "Workings of the Web",
            "count": 1
           },
           {
            "name": "8 others",
            "count": 8
           }
          ]
         }
        },
        {
         "name": "physicalAddress",
         "dtype": "object",
         "stats": {
          "unique_count": 2,
          "nan_count": 9,
          "categories": [
           {
            "name": "TBC",
            "count": 1
           },
           {
            "name": "Nonsuch Studios, 92 Lower Parliament St, Nottingham, NG1 1EH",
            "count": 1
           },
           {
            "name": "Missing",
            "count": 9
           }
          ]
         }
        },
        {
         "name": "sessionCount",
         "dtype": "int64",
         "stats": {
          "unique_count": 4,
          "nan_count": 0,
          "min": "1",
          "max": "9",
          "histogram": [
           {
            "bin_start": 1,
            "bin_end": 1.8,
            "count": 2
           },
           {
            "bin_start": 1.8,
            "bin_end": 2.6,
            "count": 0
           },
           {
            "bin_start": 2.6,
            "bin_end": 3.4000000000000004,
            "count": 0
           },
           {
            "bin_start": 3.4000000000000004,
            "bin_end": 4.2,
            "count": 0
           },
           {
            "bin_start": 4.2,
            "bin_end": 5,
            "count": 0
           },
           {
            "bin_start": 5,
            "bin_end": 5.800000000000001,
            "count": 1
           },
           {
            "bin_start": 5.800000000000001,
            "bin_end": 6.6000000000000005,
            "count": 2
           },
           {
            "bin_start": 6.6000000000000005,
            "bin_end": 7.4,
            "count": 0
           },
           {
            "bin_start": 7.4,
            "bin_end": 8.2,
            "count": 0
           },
           {
            "bin_start": 8.2,
            "bin_end": 9,
            "count": 6
           }
          ]
         }
        },
        {
         "name": "startDate",
         "dtype": "object",
         "stats": {
          "unique_count": 11,
          "nan_count": 0,
          "categories": [
           {
            "name": "2019-01-22 03:37:52",
            "count": 1
           },
           {
            "name": "2019-06-10 19:35:45",
            "count": 1
           },
           {
            "name": "9 others",
            "count": 9
           }
          ]
         }
        },
        {
         "name": "endDate",
         "dtype": "object",
         "stats": {
          "unique_count": 11,
          "nan_count": 0,
          "categories": [
           {
            "name": "2019-03-26 03:31:58",
            "count": 1
           },
           {
            "name": "2019-06-04 19:35:45",
            "count": 1
           },
           {
            "name": "9 others",
            "count": 9
           }
          ]
         }
        },
        {
         "name": "isOnline",
         "dtype": "int64",
         "stats": {
          "unique_count": 2,
          "nan_count": 0,
          "min": "0",
          "max": "1",
          "histogram": [
           {
            "bin_start": 0,
            "bin_end": 0.1,
            "count": 7
           },
           {
            "bin_start": 0.1,
            "bin_end": 0.2,
            "count": 0
           },
           {
            "bin_start": 0.2,
            "bin_end": 0.30000000000000004,
            "count": 0
           },
           {
            "bin_start": 0.30000000000000004,
            "bin_end": 0.4,
            "count": 0
           },
           {
            "bin_start": 0.4,
            "bin_end": 0.5,
            "count": 0
           },
           {
            "bin_start": 0.5,
            "bin_end": 0.6000000000000001,
            "count": 0
           },
           {
            "bin_start": 0.6000000000000001,
            "bin_end": 0.7000000000000001,
            "count": 0
           },
           {
            "bin_start": 0.7000000000000001,
            "bin_end": 0.8,
            "count": 0
           },
           {
            "bin_start": 0.8,
            "bin_end": 0.9,
            "count": 0
           },
           {
            "bin_start": 0.9,
            "bin_end": 1,
            "count": 4
           }
          ]
         }
        },
        {
         "name": "isPublic",
         "dtype": "int64",
         "stats": {
          "unique_count": 2,
          "nan_count": 0,
          "min": "0",
          "max": "1",
          "histogram": [
           {
            "bin_start": 0,
            "bin_end": 0.1,
            "count": 1
           },
           {
            "bin_start": 0.1,
            "bin_end": 0.2,
            "count": 0
           },
           {
            "bin_start": 0.2,
            "bin_end": 0.30000000000000004,
            "count": 0
           },
           {
            "bin_start": 0.30000000000000004,
            "bin_end": 0.4,
            "count": 0
           },
           {
            "bin_start": 0.4,
            "bin_end": 0.5,
            "count": 0
           },
           {
            "bin_start": 0.5,
            "bin_end": 0.6000000000000001,
            "count": 0
           },
           {
            "bin_start": 0.6000000000000001,
            "bin_end": 0.7000000000000001,
            "count": 0
           },
           {
            "bin_start": 0.7000000000000001,
            "bin_end": 0.8,
            "count": 0
           },
           {
            "bin_start": 0.8,
            "bin_end": 0.9,
            "count": 0
           },
           {
            "bin_start": 0.9,
            "bin_end": 1,
            "count": 10
           }
          ]
         }
        },
        {
         "name": "categories",
         "dtype": "object",
         "stats": {
          "unique_count": 7,
          "nan_count": 1,
          "categories": [
           {
            "name": "Web Dev,FrontEnd",
            "count": 3
           },
           {
            "name": "6 others",
            "count": 7
           },
           {
            "name": "Missing",
            "count": 1
           }
          ]
         }
        },
        {
         "name": "_deepnote_index_column",
         "dtype": "int64"
        }
       ],
       "rows": [
        {
         "coursesId": 1,
         "name": "Workings of the Web",
         "physicalAddress": "nan",
         "sessionCount": 6,
         "startDate": "2019-01-22 03:37:52",
         "endDate": "2019-03-26 03:31:58",
         "isOnline": 0,
         "isPublic": 1,
         "categories": "Web Dev,Full-stack",
         "_deepnote_index_column": 0
        },
        {
         "coursesId": 2,
         "name": "Web Dev from Scratch",
         "physicalAddress": "nan",
         "sessionCount": 6,
         "startDate": "2019-06-10 19:35:45",
         "endDate": "2019-06-04 19:35:45",
         "isOnline": 0,
         "isPublic": 1,
         "categories": "Web Dev",
         "_deepnote_index_column": 1
        },
        {
         "coursesId": 3,
         "name": "Intro to Web Dev",
         "physicalAddress": "nan",
         "sessionCount": 9,
         "startDate": "2019-11-05 12:36:31",
         "endDate": "2020-02-04 12:36:31",
         "isOnline": 0,
         "isPublic": 1,
         "categories": "Web Dev",
         "_deepnote_index_column": 2
        },
        {
         "coursesId": 5,
         "name": "Intro to Game Dev with Unity",
         "physicalAddress": "nan",
         "sessionCount": 9,
         "startDate": "2021-03-02 00:00:00",
         "endDate": "2021-04-27 00:00:00",
         "isOnline": 1,
         "isPublic": 1,
         "categories": "Game Dev",
         "_deepnote_index_column": 3
        },
        {
         "coursesId": 6,
         "name": "Front End Fundamentals",
         "physicalAddress": "nan",
         "sessionCount": 9,
         "startDate": "2021-06-01 00:36:31",
         "endDate": "2021-08-03 21:30:00",
         "isOnline": 0,
         "isPublic": 1,
         "categories": "Web Dev,FrontEnd",
         "_deepnote_index_column": 4
        },
        {
         "coursesId": 7,
         "name": "Intro into VueJS",
         "physicalAddress": "nan",
         "sessionCount": 5,
         "startDate": "2021-10-19 00:36:31",
         "endDate": "2021-12-14 21:30:00",
         "isOnline": 1,
         "isPublic": 1,
         "categories": "Web Dev,FrontEnd",
         "_deepnote_index_column": 5
        },
        {
         "coursesId": 8,
         "name": "Intro to Next.js",
         "physicalAddress": "TBC",
         "sessionCount": 9,
         "startDate": "2022-05-12 19:00:00",
         "endDate": "2022-07-30 19:00:00",
         "isOnline": 0,
         "isPublic": 1,
         "categories": "Web Dev,FrontEnd",
         "_deepnote_index_column": 6
        },
        {
         "coursesId": 9,
         "name": "Programming Fundamentals",
         "physicalAddress": "nan",
         "sessionCount": 1,
         "startDate": "2021-07-03 10:00:00",
         "endDate": "2021-07-03 17:00:00",
         "isOnline": 1,
         "isPublic": 1,
         "categories": "Beginner, Web Dev",
         "_deepnote_index_column": 7
        },
        {
         "coursesId": 10,
         "name": "TestCourse32",
         "physicalAddress": "nan",
         "sessionCount": 1,
         "startDate": "2020-02-02 02:02:02",
         "endDate": "2020-02-02 20:20:20",
         "isOnline": 0,
         "isPublic": 0,
         "categories": "nan",
         "_deepnote_index_column": 8
        },
        {
         "coursesId": 11,
         "name": "Intro to .NET with C#",
         "physicalAddress": "nan",
         "sessionCount": 9,
         "startDate": "2021-08-03 19:00:00",
         "endDate": "2021-09-28 21:00:00",
         "isOnline": 1,
         "isPublic": 1,
         "categories": "Web Dev, BackEnd, .NET",
         "_deepnote_index_column": 9
        }
       ]
      },
      "text/plain": "    coursesId                          name  \\\n0           1           Workings of the Web   \n1           2          Web Dev from Scratch   \n2           3              Intro to Web Dev   \n3           5  Intro to Game Dev with Unity   \n4           6        Front End Fundamentals   \n5           7              Intro into VueJS   \n6           8              Intro to Next.js   \n7           9      Programming Fundamentals   \n8          10                  TestCourse32   \n9          11         Intro to .NET with C#   \n10         12              Intro to Web Dev   \n\n                                      physicalAddress  sessionCount  \\\n0                                                 NaN             6   \n1                                                 NaN             6   \n2                                                 NaN             9   \n3                                                 NaN             9   \n4                                                 NaN             9   \n5                                                 NaN             5   \n6                                                 TBC             9   \n7                                                 NaN             1   \n8                                                 NaN             1   \n9                                                 NaN             9   \n10  Nonsuch Studios, 92 Lower Parliament St, Notti...             9   \n\n              startDate              endDate  isOnline  isPublic  \\\n0   2019-01-22 03:37:52  2019-03-26 03:31:58         0         1   \n1   2019-06-10 19:35:45  2019-06-04 19:35:45         0         1   \n2   2019-11-05 12:36:31  2020-02-04 12:36:31         0         1   \n3   2021-03-02 00:00:00  2021-04-27 00:00:00         1         1   \n4   2021-06-01 00:36:31  2021-08-03 21:30:00         0         1   \n5   2021-10-19 00:36:31  2021-12-14 21:30:00         1         1   \n6   2022-05-12 19:00:00  2022-07-30 19:00:00         0         1   \n7   2021-07-03 10:00:00  2021-07-03 17:00:00         1         1   \n8   2020-02-02 02:02:02  2020-02-02 20:20:20         0         0   \n9   2021-08-03 19:00:00  2021-09-28 21:00:00         1         1   \n10  2022-04-12 19:00:00  2022-06-14 21:00:00         0         1   \n\n                   categories  \n0          Web Dev,Full-stack  \n1                     Web Dev  \n2                     Web Dev  \n3                    Game Dev  \n4            Web Dev,FrontEnd  \n5            Web Dev,FrontEnd  \n6            Web Dev,FrontEnd  \n7           Beginner, Web Dev  \n8                         NaN  \n9      Web Dev, BackEnd, .NET  \n10  Web Dev,FrontEnd,Beginner  ",
      "text/html": "<div>\n<style scoped>\n    .dataframe tbody tr th:only-of-type {\n        vertical-align: middle;\n    }\n\n    .dataframe tbody tr th {\n        vertical-align: top;\n    }\n\n    .dataframe thead th {\n        text-align: right;\n    }\n</style>\n<table border=\"1\" class=\"dataframe\">\n  <thead>\n    <tr style=\"text-align: right;\">\n      <th></th>\n      <th>coursesId</th>\n      <th>name</th>\n      <th>physicalAddress</th>\n      <th>sessionCount</th>\n      <th>startDate</th>\n      <th>endDate</th>\n      <th>isOnline</th>\n      <th>isPublic</th>\n      <th>categories</th>\n    </tr>\n  </thead>\n  <tbody>\n    <tr>\n      <th>0</th>\n      <td>1</td>\n      <td>Workings of the Web</td>\n      <td>NaN</td>\n      <td>6</td>\n      <td>2019-01-22 03:37:52</td>\n      <td>2019-03-26 03:31:58</td>\n      <td>0</td>\n      <td>1</td>\n      <td>Web Dev,Full-stack</td>\n    </tr>\n    <tr>\n      <th>1</th>\n      <td>2</td>\n      <td>Web Dev from Scratch</td>\n      <td>NaN</td>\n      <td>6</td>\n      <td>2019-06-10 19:35:45</td>\n      <td>2019-06-04 19:35:45</td>\n      <td>0</td>\n      <td>1</td>\n      <td>Web Dev</td>\n    </tr>\n    <tr>\n      <th>2</th>\n      <td>3</td>\n      <td>Intro to Web Dev</td>\n      <td>NaN</td>\n      <td>9</td>\n      <td>2019-11-05 12:36:31</td>\n      <td>2020-02-04 12:36:31</td>\n      <td>0</td>\n      <td>1</td>\n      <td>Web Dev</td>\n    </tr>\n    <tr>\n      <th>3</th>\n      <td>5</td>\n      <td>Intro to Game Dev with Unity</td>\n      <td>NaN</td>\n      <td>9</td>\n      <td>2021-03-02 00:00:00</td>\n      <td>2021-04-27 00:00:00</td>\n      <td>1</td>\n      <td>1</td>\n      <td>Game Dev</td>\n    </tr>\n    <tr>\n      <th>4</th>\n      <td>6</td>\n      <td>Front End Fundamentals</td>\n      <td>NaN</td>\n      <td>9</td>\n      <td>2021-06-01 00:36:31</td>\n      <td>2021-08-03 21:30:00</td>\n      <td>0</td>\n      <td>1</td>\n      <td>Web Dev,FrontEnd</td>\n    </tr>\n    <tr>\n      <th>5</th>\n      <td>7</td>\n      <td>Intro into VueJS</td>\n      <td>NaN</td>\n      <td>5</td>\n      <td>2021-10-19 00:36:31</td>\n      <td>2021-12-14 21:30:00</td>\n      <td>1</td>\n      <td>1</td>\n      <td>Web Dev,FrontEnd</td>\n    </tr>\n    <tr>\n      <th>6</th>\n      <td>8</td>\n      <td>Intro to Next.js</td>\n      <td>TBC</td>\n      <td>9</td>\n      <td>2022-05-12 19:00:00</td>\n      <td>2022-07-30 19:00:00</td>\n      <td>0</td>\n      <td>1</td>\n      <td>Web Dev,FrontEnd</td>\n    </tr>\n    <tr>\n      <th>7</th>\n      <td>9</td>\n      <td>Programming Fundamentals</td>\n      <td>NaN</td>\n      <td>1</td>\n      <td>2021-07-03 10:00:00</td>\n      <td>2021-07-03 17:00:00</td>\n      <td>1</td>\n      <td>1</td>\n      <td>Beginner, Web Dev</td>\n    </tr>\n    <tr>\n      <th>8</th>\n      <td>10</td>\n      <td>TestCourse32</td>\n      <td>NaN</td>\n      <td>1</td>\n      <td>2020-02-02 02:02:02</td>\n      <td>2020-02-02 20:20:20</td>\n      <td>0</td>\n      <td>0</td>\n      <td>NaN</td>\n    </tr>\n    <tr>\n      <th>9</th>\n      <td>11</td>\n      <td>Intro to .NET with C#</td>\n      <td>NaN</td>\n      <td>9</td>\n      <td>2021-08-03 19:00:00</td>\n      <td>2021-09-28 21:00:00</td>\n      <td>1</td>\n      <td>1</td>\n      <td>Web Dev, BackEnd, .NET</td>\n    </tr>\n    <tr>\n      <th>10</th>\n      <td>12</td>\n      <td>Intro to Web Dev</td>\n      <td>Nonsuch Studios, 92 Lower Parliament St, Notti...</td>\n      <td>9</td>\n      <td>2022-04-12 19:00:00</td>\n      <td>2022-06-14 21:00:00</td>\n      <td>0</td>\n      <td>1</td>\n      <td>Web Dev,FrontEnd,Beginner</td>\n    </tr>\n  </tbody>\n</table>\n</div>"
     },
     "metadata": {}
    }
   ]
  },
  {
   "cell_type": "code",
   "metadata": {
    "cell_id": "80da43074fc84172963d038639092749",
    "tags": [],
    "deepnote_to_be_reexecuted": false,
    "source_hash": "12975429",
    "execution_start": 1652664894561,
    "execution_millis": 109,
    "deepnote_cell_type": "code",
    "deepnote_cell_height": 631.59375
   },
   "source": "learners_courses = courses.merge(learners.set_index('coursesId'), on= 'coursesId')\nlearners_courses",
   "execution_count": 34,
   "outputs": [
    {
     "output_type": "execute_result",
     "execution_count": 34,
     "data": {
      "application/vnd.deepnote.dataframe.v3+json": {
       "column_count": 10,
       "row_count": 74,
       "columns": [
        {
         "name": "coursesId",
         "dtype": "int64",
         "stats": {
          "unique_count": 6,
          "nan_count": 0,
          "min": "3",
          "max": "11",
          "histogram": [
           {
            "bin_start": 3,
            "bin_end": 3.8,
            "count": 47
           },
           {
            "bin_start": 3.8,
            "bin_end": 4.6,
            "count": 0
           },
           {
            "bin_start": 4.6,
            "bin_end": 5.4,
            "count": 14
           },
           {
            "bin_start": 5.4,
            "bin_end": 6.2,
            "count": 0
           },
           {
            "bin_start": 6.2,
            "bin_end": 7,
            "count": 0
           },
           {
            "bin_start": 7,
            "bin_end": 7.800000000000001,
            "count": 2
           },
           {
            "bin_start": 7.800000000000001,
            "bin_end": 8.600000000000001,
            "count": 0
           },
           {
            "bin_start": 8.600000000000001,
            "bin_end": 9.4,
            "count": 9
           },
           {
            "bin_start": 9.4,
            "bin_end": 10.2,
            "count": 1
           },
           {
            "bin_start": 10.2,
            "bin_end": 11,
            "count": 1
           }
          ]
         }
        },
        {
         "name": "name",
         "dtype": "object",
         "stats": {
          "unique_count": 6,
          "nan_count": 0,
          "categories": [
           {
            "name": "Intro to Web Dev",
            "count": 47
           },
           {
            "name": "Intro to Game Dev with Unity",
            "count": 14
           },
           {
            "name": "4 others",
            "count": 13
           }
          ]
         }
        },
        {
         "name": "physicalAddress",
         "dtype": "object",
         "stats": {
          "unique_count": 0,
          "nan_count": 74,
          "categories": [
           {
            "name": "Missing",
            "count": 74
           }
          ]
         }
        },
        {
         "name": "sessionCount",
         "dtype": "int64",
         "stats": {
          "unique_count": 3,
          "nan_count": 0,
          "min": "1",
          "max": "9",
          "histogram": [
           {
            "bin_start": 1,
            "bin_end": 1.8,
            "count": 10
           },
           {
            "bin_start": 1.8,
            "bin_end": 2.6,
            "count": 0
           },
           {
            "bin_start": 2.6,
            "bin_end": 3.4000000000000004,
            "count": 0
           },
           {
            "bin_start": 3.4000000000000004,
            "bin_end": 4.2,
            "count": 0
           },
           {
            "bin_start": 4.2,
            "bin_end": 5,
            "count": 0
           },
           {
            "bin_start": 5,
            "bin_end": 5.800000000000001,
            "count": 2
           },
           {
            "bin_start": 5.800000000000001,
            "bin_end": 6.6000000000000005,
            "count": 0
           },
           {
            "bin_start": 6.6000000000000005,
            "bin_end": 7.4,
            "count": 0
           },
           {
            "bin_start": 7.4,
            "bin_end": 8.2,
            "count": 0
           },
           {
            "bin_start": 8.2,
            "bin_end": 9,
            "count": 62
           }
          ]
         }
        },
        {
         "name": "startDate",
         "dtype": "object",
         "stats": {
          "unique_count": 6,
          "nan_count": 0,
          "categories": [
           {
            "name": "2019-11-05 12:36:31",
            "count": 47
           },
           {
            "name": "2021-03-02 00:00:00",
            "count": 14
           },
           {
            "name": "4 others",
            "count": 13
           }
          ]
         }
        },
        {
         "name": "endDate",
         "dtype": "object",
         "stats": {
          "unique_count": 6,
          "nan_count": 0,
          "categories": [
           {
            "name": "2020-02-04 12:36:31",
            "count": 47
           },
           {
            "name": "2021-04-27 00:00:00",
            "count": 14
           },
           {
            "name": "4 others",
            "count": 13
           }
          ]
         }
        },
        {
         "name": "isOnline",
         "dtype": "int64",
         "stats": {
          "unique_count": 2,
          "nan_count": 0,
          "min": "0",
          "max": "1",
          "histogram": [
           {
            "bin_start": 0,
            "bin_end": 0.1,
            "count": 48
           },
           {
            "bin_start": 0.1,
            "bin_end": 0.2,
            "count": 0
           },
           {
            "bin_start": 0.2,
            "bin_end": 0.30000000000000004,
            "count": 0
           },
           {
            "bin_start": 0.30000000000000004,
            "bin_end": 0.4,
            "count": 0
           },
           {
            "bin_start": 0.4,
            "bin_end": 0.5,
            "count": 0
           },
           {
            "bin_start": 0.5,
            "bin_end": 0.6000000000000001,
            "count": 0
           },
           {
            "bin_start": 0.6000000000000001,
            "bin_end": 0.7000000000000001,
            "count": 0
           },
           {
            "bin_start": 0.7000000000000001,
            "bin_end": 0.8,
            "count": 0
           },
           {
            "bin_start": 0.8,
            "bin_end": 0.9,
            "count": 0
           },
           {
            "bin_start": 0.9,
            "bin_end": 1,
            "count": 26
           }
          ]
         }
        },
        {
         "name": "isPublic",
         "dtype": "int64",
         "stats": {
          "unique_count": 2,
          "nan_count": 0,
          "min": "0",
          "max": "1",
          "histogram": [
           {
            "bin_start": 0,
            "bin_end": 0.1,
            "count": 1
           },
           {
            "bin_start": 0.1,
            "bin_end": 0.2,
            "count": 0
           },
           {
            "bin_start": 0.2,
            "bin_end": 0.30000000000000004,
            "count": 0
           },
           {
            "bin_start": 0.30000000000000004,
            "bin_end": 0.4,
            "count": 0
           },
           {
            "bin_start": 0.4,
            "bin_end": 0.5,
            "count": 0
           },
           {
            "bin_start": 0.5,
            "bin_end": 0.6000000000000001,
            "count": 0
           },
           {
            "bin_start": 0.6000000000000001,
            "bin_end": 0.7000000000000001,
            "count": 0
           },
           {
            "bin_start": 0.7000000000000001,
            "bin_end": 0.8,
            "count": 0
           },
           {
            "bin_start": 0.8,
            "bin_end": 0.9,
            "count": 0
           },
           {
            "bin_start": 0.9,
            "bin_end": 1,
            "count": 73
           }
          ]
         }
        },
        {
         "name": "categories",
         "dtype": "object",
         "stats": {
          "unique_count": 5,
          "nan_count": 1,
          "categories": [
           {
            "name": "Web Dev",
            "count": 47
           },
           {
            "name": "4 others",
            "count": 26
           },
           {
            "name": "Missing",
            "count": 1
           }
          ]
         }
        },
        {
         "name": "userId",
         "dtype": "int64",
         "stats": {
          "unique_count": 72,
          "nan_count": 0,
          "min": "4",
          "max": "131",
          "histogram": [
           {
            "bin_start": 4,
            "bin_end": 16.7,
            "count": 12
           },
           {
            "bin_start": 16.7,
            "bin_end": 29.4,
            "count": 13
           },
           {
            "bin_start": 29.4,
            "bin_end": 42.099999999999994,
            "count": 13
           },
           {
            "bin_start": 42.099999999999994,
            "bin_end": 54.8,
            "count": 11
           },
           {
            "bin_start": 54.8,
            "bin_end": 67.5,
            "count": 2
           },
           {
            "bin_start": 67.5,
            "bin_end": 80.19999999999999,
            "count": 2
           },
           {
            "bin_start": 80.19999999999999,
            "bin_end": 92.89999999999999,
            "count": 8
           },
           {
            "bin_start": 92.89999999999999,
            "bin_end": 105.6,
            "count": 2
           },
           {
            "bin_start": 105.6,
            "bin_end": 118.3,
            "count": 2
           },
           {
            "bin_start": 118.3,
            "bin_end": 131,
            "count": 9
           }
          ]
         }
        },
        {
         "name": "_deepnote_index_column",
         "dtype": "int64"
        }
       ],
       "rows": [
        {
         "coursesId": 3,
         "name": "Intro to Web Dev",
         "physicalAddress": "nan",
         "sessionCount": 9,
         "startDate": "2019-11-05 12:36:31",
         "endDate": "2020-02-04 12:36:31",
         "isOnline": 0,
         "isPublic": 1,
         "categories": "Web Dev",
         "userId": 5,
         "_deepnote_index_column": 0
        },
        {
         "coursesId": 3,
         "name": "Intro to Web Dev",
         "physicalAddress": "nan",
         "sessionCount": 9,
         "startDate": "2019-11-05 12:36:31",
         "endDate": "2020-02-04 12:36:31",
         "isOnline": 0,
         "isPublic": 1,
         "categories": "Web Dev",
         "userId": 6,
         "_deepnote_index_column": 1
        },
        {
         "coursesId": 3,
         "name": "Intro to Web Dev",
         "physicalAddress": "nan",
         "sessionCount": 9,
         "startDate": "2019-11-05 12:36:31",
         "endDate": "2020-02-04 12:36:31",
         "isOnline": 0,
         "isPublic": 1,
         "categories": "Web Dev",
         "userId": 8,
         "_deepnote_index_column": 2
        },
        {
         "coursesId": 3,
         "name": "Intro to Web Dev",
         "physicalAddress": "nan",
         "sessionCount": 9,
         "startDate": "2019-11-05 12:36:31",
         "endDate": "2020-02-04 12:36:31",
         "isOnline": 0,
         "isPublic": 1,
         "categories": "Web Dev",
         "userId": 9,
         "_deepnote_index_column": 3
        },
        {
         "coursesId": 3,
         "name": "Intro to Web Dev",
         "physicalAddress": "nan",
         "sessionCount": 9,
         "startDate": "2019-11-05 12:36:31",
         "endDate": "2020-02-04 12:36:31",
         "isOnline": 0,
         "isPublic": 1,
         "categories": "Web Dev",
         "userId": 10,
         "_deepnote_index_column": 4
        },
        {
         "coursesId": 3,
         "name": "Intro to Web Dev",
         "physicalAddress": "nan",
         "sessionCount": 9,
         "startDate": "2019-11-05 12:36:31",
         "endDate": "2020-02-04 12:36:31",
         "isOnline": 0,
         "isPublic": 1,
         "categories": "Web Dev",
         "userId": 11,
         "_deepnote_index_column": 5
        },
        {
         "coursesId": 3,
         "name": "Intro to Web Dev",
         "physicalAddress": "nan",
         "sessionCount": 9,
         "startDate": "2019-11-05 12:36:31",
         "endDate": "2020-02-04 12:36:31",
         "isOnline": 0,
         "isPublic": 1,
         "categories": "Web Dev",
         "userId": 12,
         "_deepnote_index_column": 6
        },
        {
         "coursesId": 3,
         "name": "Intro to Web Dev",
         "physicalAddress": "nan",
         "sessionCount": 9,
         "startDate": "2019-11-05 12:36:31",
         "endDate": "2020-02-04 12:36:31",
         "isOnline": 0,
         "isPublic": 1,
         "categories": "Web Dev",
         "userId": 13,
         "_deepnote_index_column": 7
        },
        {
         "coursesId": 3,
         "name": "Intro to Web Dev",
         "physicalAddress": "nan",
         "sessionCount": 9,
         "startDate": "2019-11-05 12:36:31",
         "endDate": "2020-02-04 12:36:31",
         "isOnline": 0,
         "isPublic": 1,
         "categories": "Web Dev",
         "userId": 14,
         "_deepnote_index_column": 8
        },
        {
         "coursesId": 3,
         "name": "Intro to Web Dev",
         "physicalAddress": "nan",
         "sessionCount": 9,
         "startDate": "2019-11-05 12:36:31",
         "endDate": "2020-02-04 12:36:31",
         "isOnline": 0,
         "isPublic": 1,
         "categories": "Web Dev",
         "userId": 15,
         "_deepnote_index_column": 9
        }
       ]
      },
      "text/plain": "    coursesId                      name physicalAddress  sessionCount  \\\n0           3          Intro to Web Dev             NaN             9   \n1           3          Intro to Web Dev             NaN             9   \n2           3          Intro to Web Dev             NaN             9   \n3           3          Intro to Web Dev             NaN             9   \n4           3          Intro to Web Dev             NaN             9   \n..        ...                       ...             ...           ...   \n69          9  Programming Fundamentals             NaN             1   \n70          9  Programming Fundamentals             NaN             1   \n71          9  Programming Fundamentals             NaN             1   \n72         10              TestCourse32             NaN             1   \n73         11     Intro to .NET with C#             NaN             9   \n\n              startDate              endDate  isOnline  isPublic  \\\n0   2019-11-05 12:36:31  2020-02-04 12:36:31         0         1   \n1   2019-11-05 12:36:31  2020-02-04 12:36:31         0         1   \n2   2019-11-05 12:36:31  2020-02-04 12:36:31         0         1   \n3   2019-11-05 12:36:31  2020-02-04 12:36:31         0         1   \n4   2019-11-05 12:36:31  2020-02-04 12:36:31         0         1   \n..                  ...                  ...       ...       ...   \n69  2021-07-03 10:00:00  2021-07-03 17:00:00         1         1   \n70  2021-07-03 10:00:00  2021-07-03 17:00:00         1         1   \n71  2021-07-03 10:00:00  2021-07-03 17:00:00         1         1   \n72  2020-02-02 02:02:02  2020-02-02 20:20:20         0         0   \n73  2021-08-03 19:00:00  2021-09-28 21:00:00         1         1   \n\n                categories  userId  \n0                  Web Dev       5  \n1                  Web Dev       6  \n2                  Web Dev       8  \n3                  Web Dev       9  \n4                  Web Dev      10  \n..                     ...     ...  \n69       Beginner, Web Dev     125  \n70       Beginner, Web Dev     127  \n71       Beginner, Web Dev     128  \n72                     NaN      54  \n73  Web Dev, BackEnd, .NET     131  \n\n[74 rows x 10 columns]",
      "text/html": "<div>\n<style scoped>\n    .dataframe tbody tr th:only-of-type {\n        vertical-align: middle;\n    }\n\n    .dataframe tbody tr th {\n        vertical-align: top;\n    }\n\n    .dataframe thead th {\n        text-align: right;\n    }\n</style>\n<table border=\"1\" class=\"dataframe\">\n  <thead>\n    <tr style=\"text-align: right;\">\n      <th></th>\n      <th>coursesId</th>\n      <th>name</th>\n      <th>physicalAddress</th>\n      <th>sessionCount</th>\n      <th>startDate</th>\n      <th>endDate</th>\n      <th>isOnline</th>\n      <th>isPublic</th>\n      <th>categories</th>\n      <th>userId</th>\n    </tr>\n  </thead>\n  <tbody>\n    <tr>\n      <th>0</th>\n      <td>3</td>\n      <td>Intro to Web Dev</td>\n      <td>NaN</td>\n      <td>9</td>\n      <td>2019-11-05 12:36:31</td>\n      <td>2020-02-04 12:36:31</td>\n      <td>0</td>\n      <td>1</td>\n      <td>Web Dev</td>\n      <td>5</td>\n    </tr>\n    <tr>\n      <th>1</th>\n      <td>3</td>\n      <td>Intro to Web Dev</td>\n      <td>NaN</td>\n      <td>9</td>\n      <td>2019-11-05 12:36:31</td>\n      <td>2020-02-04 12:36:31</td>\n      <td>0</td>\n      <td>1</td>\n      <td>Web Dev</td>\n      <td>6</td>\n    </tr>\n    <tr>\n      <th>2</th>\n      <td>3</td>\n      <td>Intro to Web Dev</td>\n      <td>NaN</td>\n      <td>9</td>\n      <td>2019-11-05 12:36:31</td>\n      <td>2020-02-04 12:36:31</td>\n      <td>0</td>\n      <td>1</td>\n      <td>Web Dev</td>\n      <td>8</td>\n    </tr>\n    <tr>\n      <th>3</th>\n      <td>3</td>\n      <td>Intro to Web Dev</td>\n      <td>NaN</td>\n      <td>9</td>\n      <td>2019-11-05 12:36:31</td>\n      <td>2020-02-04 12:36:31</td>\n      <td>0</td>\n      <td>1</td>\n      <td>Web Dev</td>\n      <td>9</td>\n    </tr>\n    <tr>\n      <th>4</th>\n      <td>3</td>\n      <td>Intro to Web Dev</td>\n      <td>NaN</td>\n      <td>9</td>\n      <td>2019-11-05 12:36:31</td>\n      <td>2020-02-04 12:36:31</td>\n      <td>0</td>\n      <td>1</td>\n      <td>Web Dev</td>\n      <td>10</td>\n    </tr>\n    <tr>\n      <th>...</th>\n      <td>...</td>\n      <td>...</td>\n      <td>...</td>\n      <td>...</td>\n      <td>...</td>\n      <td>...</td>\n      <td>...</td>\n      <td>...</td>\n      <td>...</td>\n      <td>...</td>\n    </tr>\n    <tr>\n      <th>69</th>\n      <td>9</td>\n      <td>Programming Fundamentals</td>\n      <td>NaN</td>\n      <td>1</td>\n      <td>2021-07-03 10:00:00</td>\n      <td>2021-07-03 17:00:00</td>\n      <td>1</td>\n      <td>1</td>\n      <td>Beginner, Web Dev</td>\n      <td>125</td>\n    </tr>\n    <tr>\n      <th>70</th>\n      <td>9</td>\n      <td>Programming Fundamentals</td>\n      <td>NaN</td>\n      <td>1</td>\n      <td>2021-07-03 10:00:00</td>\n      <td>2021-07-03 17:00:00</td>\n      <td>1</td>\n      <td>1</td>\n      <td>Beginner, Web Dev</td>\n      <td>127</td>\n    </tr>\n    <tr>\n      <th>71</th>\n      <td>9</td>\n      <td>Programming Fundamentals</td>\n      <td>NaN</td>\n      <td>1</td>\n      <td>2021-07-03 10:00:00</td>\n      <td>2021-07-03 17:00:00</td>\n      <td>1</td>\n      <td>1</td>\n      <td>Beginner, Web Dev</td>\n      <td>128</td>\n    </tr>\n    <tr>\n      <th>72</th>\n      <td>10</td>\n      <td>TestCourse32</td>\n      <td>NaN</td>\n      <td>1</td>\n      <td>2020-02-02 02:02:02</td>\n      <td>2020-02-02 20:20:20</td>\n      <td>0</td>\n      <td>0</td>\n      <td>NaN</td>\n      <td>54</td>\n    </tr>\n    <tr>\n      <th>73</th>\n      <td>11</td>\n      <td>Intro to .NET with C#</td>\n      <td>NaN</td>\n      <td>9</td>\n      <td>2021-08-03 19:00:00</td>\n      <td>2021-09-28 21:00:00</td>\n      <td>1</td>\n      <td>1</td>\n      <td>Web Dev, BackEnd, .NET</td>\n      <td>131</td>\n    </tr>\n  </tbody>\n</table>\n<p>74 rows × 10 columns</p>\n</div>"
     },
     "metadata": {}
    }
   ]
  },
  {
   "cell_type": "code",
   "metadata": {
    "cell_id": "8254f0b32d89471195b27724a8802b3a",
    "tags": [],
    "deepnote_to_be_reexecuted": false,
    "source_hash": "2662c345",
    "execution_start": 1652664894669,
    "execution_millis": 662,
    "deepnote_table_state": {
     "pageSize": 10,
     "pageIndex": 7,
     "filters": [],
     "sortBy": []
    },
    "deepnote_table_loading": false,
    "deepnote_cell_type": "code",
    "deepnote_cell_height": 385.59375
   },
   "source": "lcusers = learners_courses.merge(users.set_index('userId'), on='userId')\nlcusers",
   "execution_count": 35,
   "outputs": [
    {
     "output_type": "execute_result",
     "execution_count": 35,
     "data": {
      "application/vnd.deepnote.dataframe.v3+json": {
       "column_count": 14,
       "row_count": 74,
       "columns": [
        {
         "name": "coursesId",
         "dtype": "int64",
         "stats": {
          "unique_count": 6,
          "nan_count": 0,
          "min": "3",
          "max": "11",
          "histogram": [
           {
            "bin_start": 3,
            "bin_end": 3.8,
            "count": 47
           },
           {
            "bin_start": 3.8,
            "bin_end": 4.6,
            "count": 0
           },
           {
            "bin_start": 4.6,
            "bin_end": 5.4,
            "count": 14
           },
           {
            "bin_start": 5.4,
            "bin_end": 6.2,
            "count": 0
           },
           {
            "bin_start": 6.2,
            "bin_end": 7,
            "count": 0
           },
           {
            "bin_start": 7,
            "bin_end": 7.800000000000001,
            "count": 2
           },
           {
            "bin_start": 7.800000000000001,
            "bin_end": 8.600000000000001,
            "count": 0
           },
           {
            "bin_start": 8.600000000000001,
            "bin_end": 9.4,
            "count": 9
           },
           {
            "bin_start": 9.4,
            "bin_end": 10.2,
            "count": 1
           },
           {
            "bin_start": 10.2,
            "bin_end": 11,
            "count": 1
           }
          ]
         }
        },
        {
         "name": "name",
         "dtype": "object",
         "stats": {
          "unique_count": 6,
          "nan_count": 0,
          "categories": [
           {
            "name": "Intro to Web Dev",
            "count": 47
           },
           {
            "name": "Intro to Game Dev with Unity",
            "count": 14
           },
           {
            "name": "4 others",
            "count": 13
           }
          ]
         }
        },
        {
         "name": "physicalAddress",
         "dtype": "object",
         "stats": {
          "unique_count": 0,
          "nan_count": 74,
          "categories": [
           {
            "name": "Missing",
            "count": 74
           }
          ]
         }
        },
        {
         "name": "sessionCount",
         "dtype": "int64",
         "stats": {
          "unique_count": 3,
          "nan_count": 0,
          "min": "1",
          "max": "9",
          "histogram": [
           {
            "bin_start": 1,
            "bin_end": 1.8,
            "count": 10
           },
           {
            "bin_start": 1.8,
            "bin_end": 2.6,
            "count": 0
           },
           {
            "bin_start": 2.6,
            "bin_end": 3.4000000000000004,
            "count": 0
           },
           {
            "bin_start": 3.4000000000000004,
            "bin_end": 4.2,
            "count": 0
           },
           {
            "bin_start": 4.2,
            "bin_end": 5,
            "count": 0
           },
           {
            "bin_start": 5,
            "bin_end": 5.800000000000001,
            "count": 2
           },
           {
            "bin_start": 5.800000000000001,
            "bin_end": 6.6000000000000005,
            "count": 0
           },
           {
            "bin_start": 6.6000000000000005,
            "bin_end": 7.4,
            "count": 0
           },
           {
            "bin_start": 7.4,
            "bin_end": 8.2,
            "count": 0
           },
           {
            "bin_start": 8.2,
            "bin_end": 9,
            "count": 62
           }
          ]
         }
        },
        {
         "name": "startDate",
         "dtype": "object",
         "stats": {
          "unique_count": 6,
          "nan_count": 0,
          "categories": [
           {
            "name": "2019-11-05 12:36:31",
            "count": 47
           },
           {
            "name": "2021-03-02 00:00:00",
            "count": 14
           },
           {
            "name": "4 others",
            "count": 13
           }
          ]
         }
        },
        {
         "name": "endDate",
         "dtype": "object",
         "stats": {
          "unique_count": 6,
          "nan_count": 0,
          "categories": [
           {
            "name": "2020-02-04 12:36:31",
            "count": 47
           },
           {
            "name": "2021-04-27 00:00:00",
            "count": 14
           },
           {
            "name": "4 others",
            "count": 13
           }
          ]
         }
        },
        {
         "name": "isOnline",
         "dtype": "int64",
         "stats": {
          "unique_count": 2,
          "nan_count": 0,
          "min": "0",
          "max": "1",
          "histogram": [
           {
            "bin_start": 0,
            "bin_end": 0.1,
            "count": 48
           },
           {
            "bin_start": 0.1,
            "bin_end": 0.2,
            "count": 0
           },
           {
            "bin_start": 0.2,
            "bin_end": 0.30000000000000004,
            "count": 0
           },
           {
            "bin_start": 0.30000000000000004,
            "bin_end": 0.4,
            "count": 0
           },
           {
            "bin_start": 0.4,
            "bin_end": 0.5,
            "count": 0
           },
           {
            "bin_start": 0.5,
            "bin_end": 0.6000000000000001,
            "count": 0
           },
           {
            "bin_start": 0.6000000000000001,
            "bin_end": 0.7000000000000001,
            "count": 0
           },
           {
            "bin_start": 0.7000000000000001,
            "bin_end": 0.8,
            "count": 0
           },
           {
            "bin_start": 0.8,
            "bin_end": 0.9,
            "count": 0
           },
           {
            "bin_start": 0.9,
            "bin_end": 1,
            "count": 26
           }
          ]
         }
        },
        {
         "name": "isPublic",
         "dtype": "int64",
         "stats": {
          "unique_count": 2,
          "nan_count": 0,
          "min": "0",
          "max": "1",
          "histogram": [
           {
            "bin_start": 0,
            "bin_end": 0.1,
            "count": 1
           },
           {
            "bin_start": 0.1,
            "bin_end": 0.2,
            "count": 0
           },
           {
            "bin_start": 0.2,
            "bin_end": 0.30000000000000004,
            "count": 0
           },
           {
            "bin_start": 0.30000000000000004,
            "bin_end": 0.4,
            "count": 0
           },
           {
            "bin_start": 0.4,
            "bin_end": 0.5,
            "count": 0
           },
           {
            "bin_start": 0.5,
            "bin_end": 0.6000000000000001,
            "count": 0
           },
           {
            "bin_start": 0.6000000000000001,
            "bin_end": 0.7000000000000001,
            "count": 0
           },
           {
            "bin_start": 0.7000000000000001,
            "bin_end": 0.8,
            "count": 0
           },
           {
            "bin_start": 0.8,
            "bin_end": 0.9,
            "count": 0
           },
           {
            "bin_start": 0.9,
            "bin_end": 1,
            "count": 73
           }
          ]
         }
        },
        {
         "name": "categories",
         "dtype": "object",
         "stats": {
          "unique_count": 5,
          "nan_count": 1,
          "categories": [
           {
            "name": "Web Dev",
            "count": 47
           },
           {
            "name": "4 others",
            "count": 26
           },
           {
            "name": "Missing",
            "count": 1
           }
          ]
         }
        },
        {
         "name": "userId",
         "dtype": "int64",
         "stats": {
          "unique_count": 72,
          "nan_count": 0,
          "min": "4",
          "max": "131",
          "histogram": [
           {
            "bin_start": 4,
            "bin_end": 16.7,
            "count": 12
           },
           {
            "bin_start": 16.7,
            "bin_end": 29.4,
            "count": 13
           },
           {
            "bin_start": 29.4,
            "bin_end": 42.099999999999994,
            "count": 13
           },
           {
            "bin_start": 42.099999999999994,
            "bin_end": 54.8,
            "count": 11
           },
           {
            "bin_start": 54.8,
            "bin_end": 67.5,
            "count": 2
           },
           {
            "bin_start": 67.5,
            "bin_end": 80.19999999999999,
            "count": 2
           },
           {
            "bin_start": 80.19999999999999,
            "bin_end": 92.89999999999999,
            "count": 8
           },
           {
            "bin_start": 92.89999999999999,
            "bin_end": 105.6,
            "count": 2
           },
           {
            "bin_start": 105.6,
            "bin_end": 118.3,
            "count": 2
           },
           {
            "bin_start": 118.3,
            "bin_end": 131,
            "count": 9
           }
          ]
         }
        },
        {
         "name": "lastName",
         "dtype": "object",
         "stats": {
          "unique_count": 71,
          "nan_count": 0,
          "categories": [
           {
            "name": "Angell Walker",
            "count": 2
           },
           {
            "name": "Khan",
            "count": 2
           },
           {
            "name": "69 others",
            "count": 70
           }
          ]
         }
        },
        {
         "name": "title",
         "dtype": "object",
         "stats": {
          "unique_count": 2,
          "nan_count": 0,
          "categories": [
           {
            "name": "They/Them",
            "count": 62
           },
           {
            "name": "[[REDACTED]]",
            "count": 12
           }
          ]
         }
        },
        {
         "name": "isSuperUser",
         "dtype": "int64",
         "stats": {
          "unique_count": 2,
          "nan_count": 0,
          "min": "0",
          "max": "1",
          "histogram": [
           {
            "bin_start": 0,
            "bin_end": 0.1,
            "count": 73
           },
           {
            "bin_start": 0.1,
            "bin_end": 0.2,
            "count": 0
           },
           {
            "bin_start": 0.2,
            "bin_end": 0.30000000000000004,
            "count": 0
           },
           {
            "bin_start": 0.30000000000000004,
            "bin_end": 0.4,
            "count": 0
           },
           {
            "bin_start": 0.4,
            "bin_end": 0.5,
            "count": 0
           },
           {
            "bin_start": 0.5,
            "bin_end": 0.6000000000000001,
            "count": 0
           },
           {
            "bin_start": 0.6000000000000001,
            "bin_end": 0.7000000000000001,
            "count": 0
           },
           {
            "bin_start": 0.7000000000000001,
            "bin_end": 0.8,
            "count": 0
           },
           {
            "bin_start": 0.8,
            "bin_end": 0.9,
            "count": 0
           },
           {
            "bin_start": 0.9,
            "bin_end": 1,
            "count": 1
           }
          ]
         }
        },
        {
         "name": "lastLogin",
         "dtype": "object",
         "stats": {
          "unique_count": 48,
          "nan_count": 0,
          "categories": [
           {
            "name": "2020-07-16 22:34:39",
            "count": 4
           },
           {
            "name": "2020-07-16 22:34:47",
            "count": 4
           },
           {
            "name": "46 others",
            "count": 66
           }
          ]
         }
        },
        {
         "name": "_deepnote_index_column",
         "dtype": "int64"
        }
       ],
       "rows": [
        {
         "coursesId": 9,
         "name": "Programming Fundamentals",
         "physicalAddress": "nan",
         "sessionCount": 1,
         "startDate": "2021-07-03 10:00:00",
         "endDate": "2021-07-03 17:00:00",
         "isOnline": 1,
         "isPublic": 1,
         "categories": "Beginner, Web Dev",
         "userId": 127,
         "lastName": "Munkhondya",
         "title": "They/Them",
         "isSuperUser": 0,
         "lastLogin": "2021-06-25 12:07:12",
         "_deepnote_index_column": 70
        },
        {
         "coursesId": 9,
         "name": "Programming Fundamentals",
         "physicalAddress": "nan",
         "sessionCount": 1,
         "startDate": "2021-07-03 10:00:00",
         "endDate": "2021-07-03 17:00:00",
         "isOnline": 1,
         "isPublic": 1,
         "categories": "Beginner, Web Dev",
         "userId": 128,
         "lastName": "Gurung ",
         "title": "They/Them",
         "isSuperUser": 0,
         "lastLogin": "2021-06-25 15:10:15",
         "_deepnote_index_column": 71
        },
        {
         "coursesId": 10,
         "name": "TestCourse32",
         "physicalAddress": "nan",
         "sessionCount": 1,
         "startDate": "2020-02-02 02:02:02",
         "endDate": "2020-02-02 20:20:20",
         "isOnline": 0,
         "isPublic": 0,
         "categories": "nan",
         "userId": 54,
         "lastName": "Demo",
         "title": "They/Them",
         "isSuperUser": 0,
         "lastLogin": "2021-07-06 20:56:17",
         "_deepnote_index_column": 72
        },
        {
         "coursesId": 11,
         "name": "Intro to .NET with C#",
         "physicalAddress": "nan",
         "sessionCount": 9,
         "startDate": "2021-08-03 19:00:00",
         "endDate": "2021-09-28 21:00:00",
         "isOnline": 1,
         "isPublic": 1,
         "categories": "Web Dev, BackEnd, .NET",
         "userId": 131,
         "lastName": "Webb",
         "title": "They/Them",
         "isSuperUser": 0,
         "lastLogin": "2021-07-14 09:27:50",
         "_deepnote_index_column": 73
        }
       ]
      },
      "text/plain": "    coursesId                      name physicalAddress  sessionCount  \\\n0           3          Intro to Web Dev             NaN             9   \n1           3          Intro to Web Dev             NaN             9   \n2           3          Intro to Web Dev             NaN             9   \n3           3          Intro to Web Dev             NaN             9   \n4           3          Intro to Web Dev             NaN             9   \n..        ...                       ...             ...           ...   \n69          9  Programming Fundamentals             NaN             1   \n70          9  Programming Fundamentals             NaN             1   \n71          9  Programming Fundamentals             NaN             1   \n72         10              TestCourse32             NaN             1   \n73         11     Intro to .NET with C#             NaN             9   \n\n              startDate              endDate  isOnline  isPublic  \\\n0   2019-11-05 12:36:31  2020-02-04 12:36:31         0         1   \n1   2019-11-05 12:36:31  2020-02-04 12:36:31         0         1   \n2   2019-11-05 12:36:31  2020-02-04 12:36:31         0         1   \n3   2019-11-05 12:36:31  2020-02-04 12:36:31         0         1   \n4   2019-11-05 12:36:31  2020-02-04 12:36:31         0         1   \n..                  ...                  ...       ...       ...   \n69  2021-07-03 10:00:00  2021-07-03 17:00:00         1         1   \n70  2021-07-03 10:00:00  2021-07-03 17:00:00         1         1   \n71  2021-07-03 10:00:00  2021-07-03 17:00:00         1         1   \n72  2020-02-02 02:02:02  2020-02-02 20:20:20         0         0   \n73  2021-08-03 19:00:00  2021-09-28 21:00:00         1         1   \n\n                categories  userId    lastName         title  isSuperUser  \\\n0                  Web Dev       5     Hodgins     They/Them            0   \n1                  Web Dev       6       Ayeni     They/Them            0   \n2                  Web Dev       8         Gon  [[REDACTED]]            0   \n3                  Web Dev       9     Lindley  [[REDACTED]]            0   \n4                  Web Dev      10      Nguyen  [[REDACTED]]            0   \n..                     ...     ...         ...           ...          ...   \n69       Beginner, Web Dev     125   Ferreira      They/Them            0   \n70       Beginner, Web Dev     127  Munkhondya     They/Them            0   \n71       Beginner, Web Dev     128     Gurung      They/Them            0   \n72                     NaN      54        Demo     They/Them            0   \n73  Web Dev, BackEnd, .NET     131        Webb     They/Them            0   \n\n              lastLogin  \n0   2020-07-16 22:29:31  \n1   2020-07-16 22:34:31  \n2   2020-07-16 22:34:31  \n3   2020-07-16 22:34:32  \n4   2020-07-16 22:34:32  \n..                  ...  \n69  2021-06-23 00:50:30  \n70  2021-06-25 12:07:12  \n71  2021-06-25 15:10:15  \n72  2021-07-06 20:56:17  \n73  2021-07-14 09:27:50  \n\n[74 rows x 14 columns]",
      "text/html": "<div>\n<style scoped>\n    .dataframe tbody tr th:only-of-type {\n        vertical-align: middle;\n    }\n\n    .dataframe tbody tr th {\n        vertical-align: top;\n    }\n\n    .dataframe thead th {\n        text-align: right;\n    }\n</style>\n<table border=\"1\" class=\"dataframe\">\n  <thead>\n    <tr style=\"text-align: right;\">\n      <th></th>\n      <th>coursesId</th>\n      <th>name</th>\n      <th>physicalAddress</th>\n      <th>sessionCount</th>\n      <th>startDate</th>\n      <th>endDate</th>\n      <th>isOnline</th>\n      <th>isPublic</th>\n      <th>categories</th>\n      <th>userId</th>\n      <th>lastName</th>\n      <th>title</th>\n      <th>isSuperUser</th>\n      <th>lastLogin</th>\n    </tr>\n  </thead>\n  <tbody>\n    <tr>\n      <th>0</th>\n      <td>3</td>\n      <td>Intro to Web Dev</td>\n      <td>NaN</td>\n      <td>9</td>\n      <td>2019-11-05 12:36:31</td>\n      <td>2020-02-04 12:36:31</td>\n      <td>0</td>\n      <td>1</td>\n      <td>Web Dev</td>\n      <td>5</td>\n      <td>Hodgins</td>\n      <td>They/Them</td>\n      <td>0</td>\n      <td>2020-07-16 22:29:31</td>\n    </tr>\n    <tr>\n      <th>1</th>\n      <td>3</td>\n      <td>Intro to Web Dev</td>\n      <td>NaN</td>\n      <td>9</td>\n      <td>2019-11-05 12:36:31</td>\n      <td>2020-02-04 12:36:31</td>\n      <td>0</td>\n      <td>1</td>\n      <td>Web Dev</td>\n      <td>6</td>\n      <td>Ayeni</td>\n      <td>They/Them</td>\n      <td>0</td>\n      <td>2020-07-16 22:34:31</td>\n    </tr>\n    <tr>\n      <th>2</th>\n      <td>3</td>\n      <td>Intro to Web Dev</td>\n      <td>NaN</td>\n      <td>9</td>\n      <td>2019-11-05 12:36:31</td>\n      <td>2020-02-04 12:36:31</td>\n      <td>0</td>\n      <td>1</td>\n      <td>Web Dev</td>\n      <td>8</td>\n      <td>Gon</td>\n      <td>[[REDACTED]]</td>\n      <td>0</td>\n      <td>2020-07-16 22:34:31</td>\n    </tr>\n    <tr>\n      <th>3</th>\n      <td>3</td>\n      <td>Intro to Web Dev</td>\n      <td>NaN</td>\n      <td>9</td>\n      <td>2019-11-05 12:36:31</td>\n      <td>2020-02-04 12:36:31</td>\n      <td>0</td>\n      <td>1</td>\n      <td>Web Dev</td>\n      <td>9</td>\n      <td>Lindley</td>\n      <td>[[REDACTED]]</td>\n      <td>0</td>\n      <td>2020-07-16 22:34:32</td>\n    </tr>\n    <tr>\n      <th>4</th>\n      <td>3</td>\n      <td>Intro to Web Dev</td>\n      <td>NaN</td>\n      <td>9</td>\n      <td>2019-11-05 12:36:31</td>\n      <td>2020-02-04 12:36:31</td>\n      <td>0</td>\n      <td>1</td>\n      <td>Web Dev</td>\n      <td>10</td>\n      <td>Nguyen</td>\n      <td>[[REDACTED]]</td>\n      <td>0</td>\n      <td>2020-07-16 22:34:32</td>\n    </tr>\n    <tr>\n      <th>...</th>\n      <td>...</td>\n      <td>...</td>\n      <td>...</td>\n      <td>...</td>\n      <td>...</td>\n      <td>...</td>\n      <td>...</td>\n      <td>...</td>\n      <td>...</td>\n      <td>...</td>\n      <td>...</td>\n      <td>...</td>\n      <td>...</td>\n      <td>...</td>\n    </tr>\n    <tr>\n      <th>69</th>\n      <td>9</td>\n      <td>Programming Fundamentals</td>\n      <td>NaN</td>\n      <td>1</td>\n      <td>2021-07-03 10:00:00</td>\n      <td>2021-07-03 17:00:00</td>\n      <td>1</td>\n      <td>1</td>\n      <td>Beginner, Web Dev</td>\n      <td>125</td>\n      <td>Ferreira</td>\n      <td>They/Them</td>\n      <td>0</td>\n      <td>2021-06-23 00:50:30</td>\n    </tr>\n    <tr>\n      <th>70</th>\n      <td>9</td>\n      <td>Programming Fundamentals</td>\n      <td>NaN</td>\n      <td>1</td>\n      <td>2021-07-03 10:00:00</td>\n      <td>2021-07-03 17:00:00</td>\n      <td>1</td>\n      <td>1</td>\n      <td>Beginner, Web Dev</td>\n      <td>127</td>\n      <td>Munkhondya</td>\n      <td>They/Them</td>\n      <td>0</td>\n      <td>2021-06-25 12:07:12</td>\n    </tr>\n    <tr>\n      <th>71</th>\n      <td>9</td>\n      <td>Programming Fundamentals</td>\n      <td>NaN</td>\n      <td>1</td>\n      <td>2021-07-03 10:00:00</td>\n      <td>2021-07-03 17:00:00</td>\n      <td>1</td>\n      <td>1</td>\n      <td>Beginner, Web Dev</td>\n      <td>128</td>\n      <td>Gurung</td>\n      <td>They/Them</td>\n      <td>0</td>\n      <td>2021-06-25 15:10:15</td>\n    </tr>\n    <tr>\n      <th>72</th>\n      <td>10</td>\n      <td>TestCourse32</td>\n      <td>NaN</td>\n      <td>1</td>\n      <td>2020-02-02 02:02:02</td>\n      <td>2020-02-02 20:20:20</td>\n      <td>0</td>\n      <td>0</td>\n      <td>NaN</td>\n      <td>54</td>\n      <td>Demo</td>\n      <td>They/Them</td>\n      <td>0</td>\n      <td>2021-07-06 20:56:17</td>\n    </tr>\n    <tr>\n      <th>73</th>\n      <td>11</td>\n      <td>Intro to .NET with C#</td>\n      <td>NaN</td>\n      <td>9</td>\n      <td>2021-08-03 19:00:00</td>\n      <td>2021-09-28 21:00:00</td>\n      <td>1</td>\n      <td>1</td>\n      <td>Web Dev, BackEnd, .NET</td>\n      <td>131</td>\n      <td>Webb</td>\n      <td>They/Them</td>\n      <td>0</td>\n      <td>2021-07-14 09:27:50</td>\n    </tr>\n  </tbody>\n</table>\n<p>74 rows × 14 columns</p>\n</div>"
     },
     "metadata": {}
    }
   ]
  },
  {
   "cell_type": "code",
   "source": "points =  pd.read_csv('points.csv')\n",
   "metadata": {
    "cell_id": "f1a5e95c3e25468eb097e821d042496e",
    "tags": [],
    "deepnote_to_be_reexecuted": false,
    "source_hash": "52c1f514",
    "execution_start": 1652664894744,
    "execution_millis": 8,
    "deepnote_table_state": {
     "pageSize": 10,
     "pageIndex": 40,
     "filters": [],
     "sortBy": []
    },
    "deepnote_table_loading": false,
    "owner_user_id": "78ada1d8-81d9-49c3-9dce-bb8720f28287",
    "deepnote_cell_type": "code",
    "deepnote_cell_height": 631.59375
   },
   "outputs": [],
   "execution_count": 36
  },
  {
   "cell_type": "code",
   "source": "points = points.drop(columns=['created_at', 'updated_at', 'ref', 'givenById', 'courseId'])\npoints",
   "metadata": {
    "cell_id": "22ccdf53b25f4356a9d62e2b450f7fa8",
    "tags": [],
    "deepnote_to_be_reexecuted": false,
    "source_hash": "4c0a7ed",
    "execution_start": 1652664894765,
    "execution_millis": 579,
    "deepnote_cell_type": "code",
    "deepnote_cell_height": 162.1875
   },
   "outputs": [
    {
     "output_type": "execute_result",
     "execution_count": 37,
     "data": {
      "application/vnd.deepnote.dataframe.v3+json": {
       "column_count": 6,
       "row_count": 517,
       "columns": [
        {
         "name": "id",
         "dtype": "int64",
         "stats": {
          "unique_count": 517,
          "nan_count": 0,
          "min": "1",
          "max": "521",
          "histogram": [
           {
            "bin_start": 1,
            "bin_end": 53,
            "count": 52
           },
           {
            "bin_start": 53,
            "bin_end": 105,
            "count": 49
           },
           {
            "bin_start": 105,
            "bin_end": 157,
            "count": 52
           },
           {
            "bin_start": 157,
            "bin_end": 209,
            "count": 51
           },
           {
            "bin_start": 209,
            "bin_end": 261,
            "count": 52
           },
           {
            "bin_start": 261,
            "bin_end": 313,
            "count": 52
           },
           {
            "bin_start": 313,
            "bin_end": 365,
            "count": 52
           },
           {
            "bin_start": 365,
            "bin_end": 417,
            "count": 52
           },
           {
            "bin_start": 417,
            "bin_end": 469,
            "count": 52
           },
           {
            "bin_start": 469,
            "bin_end": 521,
            "count": 53
           }
          ]
         }
        },
        {
         "name": "transactionId",
         "dtype": "object",
         "stats": {
          "unique_count": 38,
          "nan_count": 0,
          "categories": [
           {
            "name": "first-login-otd",
            "count": 370
           },
           {
            "name": "resource-access-rrtGJAd2ae1e-286e1a92d35",
            "count": 10
           },
           {
            "name": "36 others",
            "count": 137
           }
          ]
         }
        },
        {
         "name": "balance",
         "dtype": "int64",
         "stats": {
          "unique_count": 9,
          "nan_count": 0,
          "min": "1",
          "max": "25",
          "histogram": [
           {
            "bin_start": 1,
            "bin_end": 3.4,
            "count": 3
           },
           {
            "bin_start": 3.4,
            "bin_end": 5.8,
            "count": 1
           },
           {
            "bin_start": 5.8,
            "bin_end": 8.2,
            "count": 0
           },
           {
            "bin_start": 8.2,
            "bin_end": 10.6,
            "count": 2
           },
           {
            "bin_start": 10.6,
            "bin_end": 13,
            "count": 86
           },
           {
            "bin_start": 13,
            "bin_end": 15.399999999999999,
            "count": 1
           },
           {
            "bin_start": 15.399999999999999,
            "bin_end": 17.8,
            "count": 0
           },
           {
            "bin_start": 17.8,
            "bin_end": 20.2,
            "count": 423
           },
           {
            "bin_start": 20.2,
            "bin_end": 22.599999999999998,
            "count": 0
           },
           {
            "bin_start": 22.599999999999998,
            "bin_end": 25,
            "count": 1
           }
          ]
         }
        },
        {
         "name": "description",
         "dtype": "object",
         "stats": {
          "unique_count": 35,
          "nan_count": 0,
          "categories": [
           {
            "name": "First log-in of the day",
            "count": 369
           },
           {
            "name": "Attendance for Intro to Game Dev with Unity",
            "count": 46
           },
           {
            "name": "33 others",
            "count": 102
           }
          ]
         }
        },
        {
         "name": "status",
         "dtype": "int64",
         "stats": {
          "unique_count": 1,
          "nan_count": 0,
          "min": "1",
          "max": "1",
          "histogram": [
           {
            "bin_start": 0.5,
            "bin_end": 0.6,
            "count": 0
           },
           {
            "bin_start": 0.6,
            "bin_end": 0.7,
            "count": 0
           },
           {
            "bin_start": 0.7,
            "bin_end": 0.8,
            "count": 0
           },
           {
            "bin_start": 0.8,
            "bin_end": 0.9,
            "count": 0
           },
           {
            "bin_start": 0.9,
            "bin_end": 1,
            "count": 0
           },
           {
            "bin_start": 1,
            "bin_end": 1.1,
            "count": 517
           },
           {
            "bin_start": 1.1,
            "bin_end": 1.2000000000000002,
            "count": 0
           },
           {
            "bin_start": 1.2000000000000002,
            "bin_end": 1.3,
            "count": 0
           },
           {
            "bin_start": 1.3,
            "bin_end": 1.4,
            "count": 0
           },
           {
            "bin_start": 1.4,
            "bin_end": 1.5,
            "count": 0
           }
          ]
         }
        },
        {
         "name": "userId",
         "dtype": "int64",
         "stats": {
          "unique_count": 28,
          "nan_count": 0,
          "min": "1",
          "max": "131",
          "histogram": [
           {
            "bin_start": 1,
            "bin_end": 14,
            "count": 244
           },
           {
            "bin_start": 14,
            "bin_end": 27,
            "count": 0
           },
           {
            "bin_start": 27,
            "bin_end": 40,
            "count": 0
           },
           {
            "bin_start": 40,
            "bin_end": 53,
            "count": 33
           },
           {
            "bin_start": 53,
            "bin_end": 66,
            "count": 5
           },
           {
            "bin_start": 66,
            "bin_end": 79,
            "count": 85
           },
           {
            "bin_start": 79,
            "bin_end": 92,
            "count": 28
           },
           {
            "bin_start": 92,
            "bin_end": 105,
            "count": 3
           },
           {
            "bin_start": 105,
            "bin_end": 118,
            "count": 106
           },
           {
            "bin_start": 118,
            "bin_end": 131,
            "count": 13
           }
          ]
         }
        },
        {
         "name": "_deepnote_index_column",
         "dtype": "int64"
        }
       ],
       "rows": [
        {
         "id": 405,
         "transactionId": "rrtGJAd2ae1e-8",
         "balance": 18,
         "description": "Attendance for Intro to Game Dev with Unity",
         "status": 1,
         "userId": 69,
         "_deepnote_index_column": 400
        },
        {
         "id": 406,
         "transactionId": "rrtGJAd2ae1e-8",
         "balance": 18,
         "description": "Attendance for Intro to Game Dev with Unity",
         "status": 1,
         "userId": 85,
         "_deepnote_index_column": 401
        },
        {
         "id": 407,
         "transactionId": "first-login-otd",
         "balance": 20,
         "description": "First log-in of the day",
         "status": 1,
         "userId": 2,
         "_deepnote_index_column": 402
        },
        {
         "id": 408,
         "transactionId": "rrtGJAd2ae1e-8",
         "balance": 18,
         "description": "Attendance for Intro to Game Dev with Unity",
         "status": 1,
         "userId": 105,
         "_deepnote_index_column": 403
        },
        {
         "id": 409,
         "transactionId": "first-login-otd",
         "balance": 20,
         "description": "First log-in of the day",
         "status": 1,
         "userId": 106,
         "_deepnote_index_column": 404
        },
        {
         "id": 410,
         "transactionId": "resource-access-rrtGJAd2ae1e-1d14e303b59",
         "balance": 12,
         "description": "Accessed Resource 'Session 8 - Starter Files'",
         "status": 1,
         "userId": 106,
         "_deepnote_index_column": 405
        },
        {
         "id": 411,
         "transactionId": "first-login-otd",
         "balance": 20,
         "description": "First log-in of the day",
         "status": 1,
         "userId": 2,
         "_deepnote_index_column": 406
        },
        {
         "id": 412,
         "transactionId": "first-login-otd",
         "balance": 20,
         "description": "First log-in of the day",
         "status": 1,
         "userId": 66,
         "_deepnote_index_column": 407
        },
        {
         "id": 413,
         "transactionId": "resource-access-rrtGJAd2ae1e-1d14e303b59",
         "balance": 12,
         "description": "Accessed Resource 'Session 8 - Starter Files'",
         "status": 1,
         "userId": 66,
         "_deepnote_index_column": 408
        },
        {
         "id": 414,
         "transactionId": "first-login-otd",
         "balance": 20,
         "description": "First log-in of the day",
         "status": 1,
         "userId": 67,
         "_deepnote_index_column": 409
        }
       ]
      },
      "text/plain": "      id    transactionId  balance              description  status  userId\n0      1  first-login-otd       20  First log-in of the day       1       2\n1      2  first-login-otd       20  First log-in of the day       1      50\n2      3  first-login-otd       20  First log-in of the day       1       2\n3      4  first-login-otd       20  First log-in of the day       1      51\n4      5  first-login-otd       20  First log-in of the day       1       2\n..   ...              ...      ...                      ...     ...     ...\n512  517  first-login-otd       20  First log-in of the day       1       2\n513  518  first-login-otd       20  First log-in of the day       1       2\n514  519  first-login-otd       20  First log-in of the day       1       2\n515  520  first-login-otd       20  First log-in of the day       1       2\n516  521  first-login-otd       20  First log-in of the day       1       2\n\n[517 rows x 6 columns]",
      "text/html": "<div>\n<style scoped>\n    .dataframe tbody tr th:only-of-type {\n        vertical-align: middle;\n    }\n\n    .dataframe tbody tr th {\n        vertical-align: top;\n    }\n\n    .dataframe thead th {\n        text-align: right;\n    }\n</style>\n<table border=\"1\" class=\"dataframe\">\n  <thead>\n    <tr style=\"text-align: right;\">\n      <th></th>\n      <th>id</th>\n      <th>transactionId</th>\n      <th>balance</th>\n      <th>description</th>\n      <th>status</th>\n      <th>userId</th>\n    </tr>\n  </thead>\n  <tbody>\n    <tr>\n      <th>0</th>\n      <td>1</td>\n      <td>first-login-otd</td>\n      <td>20</td>\n      <td>First log-in of the day</td>\n      <td>1</td>\n      <td>2</td>\n    </tr>\n    <tr>\n      <th>1</th>\n      <td>2</td>\n      <td>first-login-otd</td>\n      <td>20</td>\n      <td>First log-in of the day</td>\n      <td>1</td>\n      <td>50</td>\n    </tr>\n    <tr>\n      <th>2</th>\n      <td>3</td>\n      <td>first-login-otd</td>\n      <td>20</td>\n      <td>First log-in of the day</td>\n      <td>1</td>\n      <td>2</td>\n    </tr>\n    <tr>\n      <th>3</th>\n      <td>4</td>\n      <td>first-login-otd</td>\n      <td>20</td>\n      <td>First log-in of the day</td>\n      <td>1</td>\n      <td>51</td>\n    </tr>\n    <tr>\n      <th>4</th>\n      <td>5</td>\n      <td>first-login-otd</td>\n      <td>20</td>\n      <td>First log-in of the day</td>\n      <td>1</td>\n      <td>2</td>\n    </tr>\n    <tr>\n      <th>...</th>\n      <td>...</td>\n      <td>...</td>\n      <td>...</td>\n      <td>...</td>\n      <td>...</td>\n      <td>...</td>\n    </tr>\n    <tr>\n      <th>512</th>\n      <td>517</td>\n      <td>first-login-otd</td>\n      <td>20</td>\n      <td>First log-in of the day</td>\n      <td>1</td>\n      <td>2</td>\n    </tr>\n    <tr>\n      <th>513</th>\n      <td>518</td>\n      <td>first-login-otd</td>\n      <td>20</td>\n      <td>First log-in of the day</td>\n      <td>1</td>\n      <td>2</td>\n    </tr>\n    <tr>\n      <th>514</th>\n      <td>519</td>\n      <td>first-login-otd</td>\n      <td>20</td>\n      <td>First log-in of the day</td>\n      <td>1</td>\n      <td>2</td>\n    </tr>\n    <tr>\n      <th>515</th>\n      <td>520</td>\n      <td>first-login-otd</td>\n      <td>20</td>\n      <td>First log-in of the day</td>\n      <td>1</td>\n      <td>2</td>\n    </tr>\n    <tr>\n      <th>516</th>\n      <td>521</td>\n      <td>first-login-otd</td>\n      <td>20</td>\n      <td>First log-in of the day</td>\n      <td>1</td>\n      <td>2</td>\n    </tr>\n  </tbody>\n</table>\n<p>517 rows × 6 columns</p>\n</div>"
     },
     "metadata": {}
    }
   ],
   "execution_count": 37
  },
  {
   "cell_type": "code",
   "source": "",
   "metadata": {
    "cell_id": "e8107c32758e46e787b6673b358cc8ac",
    "tags": [],
    "deepnote_to_be_reexecuted": false,
    "source_hash": "b623e53d",
    "execution_start": 1652664894831,
    "execution_millis": 146476,
    "deepnote_cell_type": "code",
    "deepnote_cell_height": 81,
    "deepnote_output_heights": [
     251.59375
    ]
   },
   "outputs": [],
   "execution_count": 37
  },
  {
   "cell_type": "code",
   "source": "test = pd.read_csv('test_results.csv')\ntest",
   "metadata": {
    "cell_id": "57513e26b439496d858793f65ff776c3",
    "tags": [],
    "deepnote_to_be_reexecuted": false,
    "source_hash": "238309ff",
    "execution_start": 1652664894888,
    "execution_millis": 475,
    "deepnote_cell_type": "code",
    "deepnote_cell_height": 467.59375
   },
   "outputs": [
    {
     "output_type": "execute_result",
     "execution_count": 38,
     "data": {
      "application/vnd.deepnote.dataframe.v3+json": {
       "column_count": 12,
       "row_count": 6,
       "columns": [
        {
         "name": "id",
         "dtype": "int64",
         "stats": {
          "unique_count": 6,
          "nan_count": 0,
          "min": "60",
          "max": "65",
          "histogram": [
           {
            "bin_start": 60,
            "bin_end": 60.5,
            "count": 1
           },
           {
            "bin_start": 60.5,
            "bin_end": 61,
            "count": 0
           },
           {
            "bin_start": 61,
            "bin_end": 61.5,
            "count": 1
           },
           {
            "bin_start": 61.5,
            "bin_end": 62,
            "count": 0
           },
           {
            "bin_start": 62,
            "bin_end": 62.5,
            "count": 1
           },
           {
            "bin_start": 62.5,
            "bin_end": 63,
            "count": 0
           },
           {
            "bin_start": 63,
            "bin_end": 63.5,
            "count": 1
           },
           {
            "bin_start": 63.5,
            "bin_end": 64,
            "count": 0
           },
           {
            "bin_start": 64,
            "bin_end": 64.5,
            "count": 1
           },
           {
            "bin_start": 64.5,
            "bin_end": 65,
            "count": 1
           }
          ]
         }
        },
        {
         "name": "created_at",
         "dtype": "object",
         "stats": {
          "unique_count": 6,
          "nan_count": 0,
          "categories": [
           {
            "name": "2020-08-21 22:39:10.499312",
            "count": 1
           },
           {
            "name": "2020-08-21 22:40:15.979486",
            "count": 1
           },
           {
            "name": "4 others",
            "count": 4
           }
          ]
         }
        },
        {
         "name": "updated_at",
         "dtype": "object",
         "stats": {
          "unique_count": 6,
          "nan_count": 0,
          "categories": [
           {
            "name": "2020-08-21 22:39:10.499312",
            "count": 1
           },
           {
            "name": "2020-08-21 22:40:15.979486",
            "count": 1
           },
           {
            "name": "4 others",
            "count": 4
           }
          ]
         }
        },
        {
         "name": "identifier",
         "dtype": "object",
         "stats": {
          "unique_count": 6,
          "nan_count": 0,
          "categories": [
           {
            "name": "924da731c3e",
            "count": 1
           },
           {
            "name": "b2c700b4831",
            "count": 1
           },
           {
            "name": "4 others",
            "count": 4
           }
          ]
         }
        },
        {
         "name": "source",
         "dtype": "int64",
         "stats": {
          "unique_count": 1,
          "nan_count": 0,
          "min": "0",
          "max": "0",
          "histogram": [
           {
            "bin_start": -0.5,
            "bin_end": -0.4,
            "count": 0
           },
           {
            "bin_start": -0.4,
            "bin_end": -0.3,
            "count": 0
           },
           {
            "bin_start": -0.3,
            "bin_end": -0.19999999999999996,
            "count": 0
           },
           {
            "bin_start": -0.19999999999999996,
            "bin_end": -0.09999999999999998,
            "count": 0
           },
           {
            "bin_start": -0.09999999999999998,
            "bin_end": 0,
            "count": 0
           },
           {
            "bin_start": 0,
            "bin_end": 0.10000000000000009,
            "count": 6
           },
           {
            "bin_start": 0.10000000000000009,
            "bin_end": 0.20000000000000007,
            "count": 0
           },
           {
            "bin_start": 0.20000000000000007,
            "bin_end": 0.30000000000000004,
            "count": 0
           },
           {
            "bin_start": 0.30000000000000004,
            "bin_end": 0.4,
            "count": 0
           },
           {
            "bin_start": 0.4,
            "bin_end": 0.5,
            "count": 0
           }
          ]
         }
        },
        {
         "name": "consoleOutputs",
         "dtype": "object",
         "stats": {
          "unique_count": 5,
          "nan_count": 0,
          "categories": [
           {
            "name": " Check HTML Content\n     ✔ should have an index.html file in root (1ms)\n     ✔ should have a HTML, HEAD, and BODY tag (7ms)\n     ✔ should have a button with id of 'btn' (1ms)\n Documentation of work should exist\n     ✔ Should exist (0ms)\n     ✔ should say something about the button being red (1ms)\n\n",
            "count": 2
           },
           {
            "name": " Check HTML Content\n     ✔ should have an index.html file in root (0ms)\n     ✔ should have a HTML, HEAD, and BODY tag (1ms)\n     ✔ should have a button with id of 'btn' (0ms)\n Documentation of work should exist\n     ✖ Should exist (0ms)\n             Reason: Expected false To BeTruthy ''. \n     ✖ should say something about the button being red (1ms)\n             Reason: TypeError: Cannot convert undefined or null to object\n\n",
            "count": 1
           },
           {
            "name": "3 others",
            "count": 3
           }
          ]
         }
        },
        {
         "name": "passCount",
         "dtype": "int64",
         "stats": {
          "unique_count": 3,
          "nan_count": 0,
          "min": "4",
          "max": "10",
          "histogram": [
           {
            "bin_start": 4,
            "bin_end": 4.6,
            "count": 1
           },
           {
            "bin_start": 4.6,
            "bin_end": 5.2,
            "count": 0
           },
           {
            "bin_start": 5.2,
            "bin_end": 5.8,
            "count": 0
           },
           {
            "bin_start": 5.8,
            "bin_end": 6.4,
            "count": 0
           },
           {
            "bin_start": 6.4,
            "bin_end": 7,
            "count": 0
           },
           {
            "bin_start": 7,
            "bin_end": 7.6,
            "count": 1
           },
           {
            "bin_start": 7.6,
            "bin_end": 8.2,
            "count": 0
           },
           {
            "bin_start": 8.2,
            "bin_end": 8.8,
            "count": 0
           },
           {
            "bin_start": 8.8,
            "bin_end": 9.399999999999999,
            "count": 0
           },
           {
            "bin_start": 9.399999999999999,
            "bin_end": 10,
            "count": 4
           }
          ]
         }
        },
        {
         "name": "failCount",
         "dtype": "int64",
         "stats": {
          "unique_count": 2,
          "nan_count": 0,
          "min": "0",
          "max": "1",
          "histogram": [
           {
            "bin_start": 0,
            "bin_end": 0.1,
            "count": 5
           },
           {
            "bin_start": 0.1,
            "bin_end": 0.2,
            "count": 0
           },
           {
            "bin_start": 0.2,
            "bin_end": 0.30000000000000004,
            "count": 0
           },
           {
            "bin_start": 0.30000000000000004,
            "bin_end": 0.4,
            "count": 0
           },
           {
            "bin_start": 0.4,
            "bin_end": 0.5,
            "count": 0
           },
           {
            "bin_start": 0.5,
            "bin_end": 0.6000000000000001,
            "count": 0
           },
           {
            "bin_start": 0.6000000000000001,
            "bin_end": 0.7000000000000001,
            "count": 0
           },
           {
            "bin_start": 0.7000000000000001,
            "bin_end": 0.8,
            "count": 0
           },
           {
            "bin_start": 0.8,
            "bin_end": 0.9,
            "count": 0
           },
           {
            "bin_start": 0.9,
            "bin_end": 1,
            "count": 1
           }
          ]
         }
        },
        {
         "name": "testConfig",
         "dtype": "object",
         "stats": {
          "unique_count": 2,
          "nan_count": 0,
          "categories": [
           {
            "name": "{\n    \"timeout\": 4,\n    \"version\": \"1.0.0.0\",\n    \"tests\": [\n        {\n            \"setupFile\": \"@@{dir_meta}/setup.js\",\n            \"testFile\": \"@@{dir_meta}/test.js\"\n        }\n    ]\n}",
            "count": 5
           },
           {
            "name": "{\n    \"timeout\": 4,\n    \"version\": \"1.0.0.0\",\n    \"tests\": [\n        {\n            \"setupFile\": \"@@{dir_meta}/setup.js\",\n            \"testFile\": \"@@{dir_meta}/test.js\",\n            \"userFile\": \"@@{project_root}/index.js\"\n        }\n    ]\n}",
            "count": 1
           }
          ]
         }
        },
        {
         "name": "projectId",
         "dtype": "int64",
         "stats": {
          "unique_count": 6,
          "nan_count": 0,
          "min": "34",
          "max": "49",
          "histogram": [
           {
            "bin_start": 34,
            "bin_end": 35.5,
            "count": 2
           },
           {
            "bin_start": 35.5,
            "bin_end": 37,
            "count": 1
           },
           {
            "bin_start": 37,
            "bin_end": 38.5,
            "count": 0
           },
           {
            "bin_start": 38.5,
            "bin_end": 40,
            "count": 1
           },
           {
            "bin_start": 40,
            "bin_end": 41.5,
            "count": 1
           },
           {
            "bin_start": 41.5,
            "bin_end": 43,
            "count": 0
           },
           {
            "bin_start": 43,
            "bin_end": 44.5,
            "count": 0
           },
           {
            "bin_start": 44.5,
            "bin_end": 46,
            "count": 0
           },
           {
            "bin_start": 46,
            "bin_end": 47.5,
            "count": 0
           },
           {
            "bin_start": 47.5,
            "bin_end": 49,
            "count": 1
           }
          ]
         }
        },
        {
         "name": "userId",
         "dtype": "int64",
         "stats": {
          "unique_count": 3,
          "nan_count": 0,
          "min": "2",
          "max": "54",
          "histogram": [
           {
            "bin_start": 2,
            "bin_end": 7.2,
            "count": 1
           },
           {
            "bin_start": 7.2,
            "bin_end": 12.4,
            "count": 0
           },
           {
            "bin_start": 12.4,
            "bin_end": 17.6,
            "count": 0
           },
           {
            "bin_start": 17.6,
            "bin_end": 22.8,
            "count": 0
           },
           {
            "bin_start": 22.8,
            "bin_end": 28,
            "count": 0
           },
           {
            "bin_start": 28,
            "bin_end": 33.2,
            "count": 0
           },
           {
            "bin_start": 33.2,
            "bin_end": 38.4,
            "count": 0
           },
           {
            "bin_start": 38.4,
            "bin_end": 43.6,
            "count": 0
           },
           {
            "bin_start": 43.6,
            "bin_end": 48.800000000000004,
            "count": 0
           },
           {
            "bin_start": 48.800000000000004,
            "bin_end": 54,
            "count": 5
           }
          ]
         }
        },
        {
         "name": "assignmentId",
         "dtype": "int64",
         "stats": {
          "unique_count": 2,
          "nan_count": 0,
          "min": "10",
          "max": "11",
          "histogram": [
           {
            "bin_start": 10,
            "bin_end": 10.1,
            "count": 5
           },
           {
            "bin_start": 10.1,
            "bin_end": 10.2,
            "count": 0
           },
           {
            "bin_start": 10.2,
            "bin_end": 10.3,
            "count": 0
           },
           {
            "bin_start": 10.3,
            "bin_end": 10.4,
            "count": 0
           },
           {
            "bin_start": 10.4,
            "bin_end": 10.5,
            "count": 0
           },
           {
            "bin_start": 10.5,
            "bin_end": 10.6,
            "count": 0
           },
           {
            "bin_start": 10.6,
            "bin_end": 10.7,
            "count": 0
           },
           {
            "bin_start": 10.7,
            "bin_end": 10.8,
            "count": 0
           },
           {
            "bin_start": 10.8,
            "bin_end": 10.9,
            "count": 0
           },
           {
            "bin_start": 10.9,
            "bin_end": 11,
            "count": 1
           }
          ]
         }
        },
        {
         "name": "_deepnote_index_column",
         "dtype": "int64"
        }
       ],
       "rows": [
        {
         "id": 60,
         "created_at": "2020-08-21 22:39:10.499312",
         "updated_at": "2020-08-21 22:39:10.499312",
         "identifier": "924da731c3e",
         "source": 0,
         "consoleOutputs": " Check HTML Content\n     ✔ should have an index.html file in root (0ms)\n     ✔ should have a HTML, HEAD, and BODY tag (1ms)\n     ✔ should have a button with id of 'btn' (0ms)\n Documentation of work should exist\n     ✖ Should exist (0ms)\n             Reason: Expected false To BeTruthy ''. \n     ✖ should say something about the button being red (1ms)\n             Reason: TypeError: Cannot convert undefined or null to object\n\n",
         "passCount": 7,
         "failCount": 1,
         "testConfig": "{\n    \"timeout\": 4,\n    \"version\": \"1.0.0.0\",\n    \"tests\": [\n        {\n            \"setupFile\": \"@@{dir_meta}/setup.js\",\n            \"testFile\": \"@@{dir_meta}/test.js\"\n        }\n    ]\n}",
         "projectId": 35,
         "userId": 52,
         "assignmentId": 10,
         "_deepnote_index_column": 0
        },
        {
         "id": 61,
         "created_at": "2020-08-21 22:40:15.979486",
         "updated_at": "2020-08-21 22:40:15.979486",
         "identifier": "b2c700b4831",
         "source": 0,
         "consoleOutputs": " Check HTML Content\n     ✔ should have an index.html file in root (0ms)\n     ✔ should have a HTML, HEAD, and BODY tag (8ms)\n     ✔ should have a button with id of 'btn' (2ms)\n Documentation of work should exist\n     ✔ Should exist (0ms)\n     ✔ should say something about the button being red (27ms)\n\n",
         "passCount": 10,
         "failCount": 0,
         "testConfig": "{\n    \"timeout\": 4,\n    \"version\": \"1.0.0.0\",\n    \"tests\": [\n        {\n            \"setupFile\": \"@@{dir_meta}/setup.js\",\n            \"testFile\": \"@@{dir_meta}/test.js\"\n        }\n    ]\n}",
         "projectId": 36,
         "userId": 52,
         "assignmentId": 10,
         "_deepnote_index_column": 1
        },
        {
         "id": 62,
         "created_at": "2020-08-21 22:50:12.874169",
         "updated_at": "2020-08-21 22:50:12.874169",
         "identifier": "0c439aee9f5",
         "source": 0,
         "consoleOutputs": " Check HTML Content\n     ✔ should have an index.html file in root (1ms)\n     ✔ should have a HTML, HEAD, and BODY tag (7ms)\n     ✔ should have a button with id of 'btn' (1ms)\n Documentation of work should exist\n     ✔ Should exist (0ms)\n     ✔ should say something about the button being red (1ms)\n\n",
         "passCount": 10,
         "failCount": 0,
         "testConfig": "{\n    \"timeout\": 4,\n    \"version\": \"1.0.0.0\",\n    \"tests\": [\n        {\n            \"setupFile\": \"@@{dir_meta}/setup.js\",\n            \"testFile\": \"@@{dir_meta}/test.js\"\n        }\n    ]\n}",
         "projectId": 34,
         "userId": 52,
         "assignmentId": 10,
         "_deepnote_index_column": 2
        },
        {
         "id": 63,
         "created_at": "2020-08-21 23:23:55.415179",
         "updated_at": "2020-08-21 23:23:55.415179",
         "identifier": "2e3572254ae",
         "source": 0,
         "consoleOutputs": " Check HTML Content\n     ✔ should have an index.html file in root (0ms)\n     ✔ should have a HTML, HEAD, and BODY tag (0ms)\n     ✔ should have a button with id of 'btn' (1ms)\n Documentation of work should exist\n     ✔ Should exist (0ms)\n     ✔ should say something about the button being red (0ms)\n\n",
         "passCount": 10,
         "failCount": 0,
         "testConfig": "{\n    \"timeout\": 4,\n    \"version\": \"1.0.0.0\",\n    \"tests\": [\n        {\n            \"setupFile\": \"@@{dir_meta}/setup.js\",\n            \"testFile\": \"@@{dir_meta}/test.js\"\n        }\n    ]\n}",
         "projectId": 39,
         "userId": 2,
         "assignmentId": 10,
         "_deepnote_index_column": 3
        },
        {
         "id": 64,
         "created_at": "2020-08-21 23:41:10.760977",
         "updated_at": "2020-08-21 23:41:10.760977",
         "identifier": "b3057836ee8",
         "source": 0,
         "consoleOutputs": " Check HTML Content\n     ✔ should have an index.html file in root (1ms)\n     ✔ should have a HTML, HEAD, and BODY tag (7ms)\n     ✔ should have a button with id of 'btn' (1ms)\n Documentation of work should exist\n     ✔ Should exist (0ms)\n     ✔ should say something about the button being red (1ms)\n\n",
         "passCount": 10,
         "failCount": 0,
         "testConfig": "{\n    \"timeout\": 4,\n    \"version\": \"1.0.0.0\",\n    \"tests\": [\n        {\n            \"setupFile\": \"@@{dir_meta}/setup.js\",\n            \"testFile\": \"@@{dir_meta}/test.js\"\n        }\n    ]\n}",
         "projectId": 40,
         "userId": 52,
         "assignmentId": 10,
         "_deepnote_index_column": 4
        },
        {
         "id": 65,
         "created_at": "2021-07-06 20:59:54.342656",
         "updated_at": "2021-07-06 20:59:54.342656",
         "identifier": "131b9768538",
         "source": 0,
         "consoleOutputs": " single word\n     ✔ should return \"elloharr\" when input is \"hello\" (0ms)\n sentences\n     ✔ should return \"elloharr orldwarr\" when input is \"hello world\" (1ms)\n sentences with number\n     ✔ should return \"izzaparr ostscarr 20 doubloons\" when input is \"pizza costs 20 pounds\" (0ms)\n     ✔ should return \"Iarr maarr trandedsarr ithwarr aarr umsarr foarr 4000 doubloons orthwarr foarr oldgarr endsarr elpharr\" when input is \"I am stranded with a sum of 4000 pounds worth of gold send help\" (0ms)\n\n",
         "passCount": 4,
         "failCount": 0,
         "testConfig": "{\n    \"timeout\": 4,\n    \"version\": \"1.0.0.0\",\n    \"tests\": [\n        {\n            \"setupFile\": \"@@{dir_meta}/setup.js\",\n            \"testFile\": \"@@{dir_meta}/test.js\",\n            \"userFile\": \"@@{project_root}/index.js\"\n        }\n    ]\n}",
         "projectId": 49,
         "userId": 54,
         "assignmentId": 11,
         "_deepnote_index_column": 5
        }
       ]
      },
      "text/plain": "   id                  created_at                  updated_at   identifier  \\\n0  60  2020-08-21 22:39:10.499312  2020-08-21 22:39:10.499312  924da731c3e   \n1  61  2020-08-21 22:40:15.979486  2020-08-21 22:40:15.979486  b2c700b4831   \n2  62  2020-08-21 22:50:12.874169  2020-08-21 22:50:12.874169  0c439aee9f5   \n3  63  2020-08-21 23:23:55.415179  2020-08-21 23:23:55.415179  2e3572254ae   \n4  64  2020-08-21 23:41:10.760977  2020-08-21 23:41:10.760977  b3057836ee8   \n5  65  2021-07-06 20:59:54.342656  2021-07-06 20:59:54.342656  131b9768538   \n\n   source                                     consoleOutputs  passCount  \\\n0       0   Check HTML Content\\n     ✔ should have an ind...          7   \n1       0   Check HTML Content\\n     ✔ should have an ind...         10   \n2       0   Check HTML Content\\n     ✔ should have an ind...         10   \n3       0   Check HTML Content\\n     ✔ should have an ind...         10   \n4       0   Check HTML Content\\n     ✔ should have an ind...         10   \n5       0   single word\\n     ✔ should return \"elloharr\" ...          4   \n\n   failCount                                         testConfig  projectId  \\\n0          1  {\\n    \"timeout\": 4,\\n    \"version\": \"1.0.0.0\"...         35   \n1          0  {\\n    \"timeout\": 4,\\n    \"version\": \"1.0.0.0\"...         36   \n2          0  {\\n    \"timeout\": 4,\\n    \"version\": \"1.0.0.0\"...         34   \n3          0  {\\n    \"timeout\": 4,\\n    \"version\": \"1.0.0.0\"...         39   \n4          0  {\\n    \"timeout\": 4,\\n    \"version\": \"1.0.0.0\"...         40   \n5          0  {\\n    \"timeout\": 4,\\n    \"version\": \"1.0.0.0\"...         49   \n\n   userId  assignmentId  \n0      52            10  \n1      52            10  \n2      52            10  \n3       2            10  \n4      52            10  \n5      54            11  ",
      "text/html": "<div>\n<style scoped>\n    .dataframe tbody tr th:only-of-type {\n        vertical-align: middle;\n    }\n\n    .dataframe tbody tr th {\n        vertical-align: top;\n    }\n\n    .dataframe thead th {\n        text-align: right;\n    }\n</style>\n<table border=\"1\" class=\"dataframe\">\n  <thead>\n    <tr style=\"text-align: right;\">\n      <th></th>\n      <th>id</th>\n      <th>created_at</th>\n      <th>updated_at</th>\n      <th>identifier</th>\n      <th>source</th>\n      <th>consoleOutputs</th>\n      <th>passCount</th>\n      <th>failCount</th>\n      <th>testConfig</th>\n      <th>projectId</th>\n      <th>userId</th>\n      <th>assignmentId</th>\n    </tr>\n  </thead>\n  <tbody>\n    <tr>\n      <th>0</th>\n      <td>60</td>\n      <td>2020-08-21 22:39:10.499312</td>\n      <td>2020-08-21 22:39:10.499312</td>\n      <td>924da731c3e</td>\n      <td>0</td>\n      <td>Check HTML Content\\n     ✔ should have an ind...</td>\n      <td>7</td>\n      <td>1</td>\n      <td>{\\n    \"timeout\": 4,\\n    \"version\": \"1.0.0.0\"...</td>\n      <td>35</td>\n      <td>52</td>\n      <td>10</td>\n    </tr>\n    <tr>\n      <th>1</th>\n      <td>61</td>\n      <td>2020-08-21 22:40:15.979486</td>\n      <td>2020-08-21 22:40:15.979486</td>\n      <td>b2c700b4831</td>\n      <td>0</td>\n      <td>Check HTML Content\\n     ✔ should have an ind...</td>\n      <td>10</td>\n      <td>0</td>\n      <td>{\\n    \"timeout\": 4,\\n    \"version\": \"1.0.0.0\"...</td>\n      <td>36</td>\n      <td>52</td>\n      <td>10</td>\n    </tr>\n    <tr>\n      <th>2</th>\n      <td>62</td>\n      <td>2020-08-21 22:50:12.874169</td>\n      <td>2020-08-21 22:50:12.874169</td>\n      <td>0c439aee9f5</td>\n      <td>0</td>\n      <td>Check HTML Content\\n     ✔ should have an ind...</td>\n      <td>10</td>\n      <td>0</td>\n      <td>{\\n    \"timeout\": 4,\\n    \"version\": \"1.0.0.0\"...</td>\n      <td>34</td>\n      <td>52</td>\n      <td>10</td>\n    </tr>\n    <tr>\n      <th>3</th>\n      <td>63</td>\n      <td>2020-08-21 23:23:55.415179</td>\n      <td>2020-08-21 23:23:55.415179</td>\n      <td>2e3572254ae</td>\n      <td>0</td>\n      <td>Check HTML Content\\n     ✔ should have an ind...</td>\n      <td>10</td>\n      <td>0</td>\n      <td>{\\n    \"timeout\": 4,\\n    \"version\": \"1.0.0.0\"...</td>\n      <td>39</td>\n      <td>2</td>\n      <td>10</td>\n    </tr>\n    <tr>\n      <th>4</th>\n      <td>64</td>\n      <td>2020-08-21 23:41:10.760977</td>\n      <td>2020-08-21 23:41:10.760977</td>\n      <td>b3057836ee8</td>\n      <td>0</td>\n      <td>Check HTML Content\\n     ✔ should have an ind...</td>\n      <td>10</td>\n      <td>0</td>\n      <td>{\\n    \"timeout\": 4,\\n    \"version\": \"1.0.0.0\"...</td>\n      <td>40</td>\n      <td>52</td>\n      <td>10</td>\n    </tr>\n    <tr>\n      <th>5</th>\n      <td>65</td>\n      <td>2021-07-06 20:59:54.342656</td>\n      <td>2021-07-06 20:59:54.342656</td>\n      <td>131b9768538</td>\n      <td>0</td>\n      <td>single word\\n     ✔ should return \"elloharr\" ...</td>\n      <td>4</td>\n      <td>0</td>\n      <td>{\\n    \"timeout\": 4,\\n    \"version\": \"1.0.0.0\"...</td>\n      <td>49</td>\n      <td>54</td>\n      <td>11</td>\n    </tr>\n  </tbody>\n</table>\n</div>"
     },
     "metadata": {}
    }
   ],
   "execution_count": 38
  },
  {
   "cell_type": "markdown",
   "source": "<a style='text-decoration:none;line-height:16px;display:flex;color:#5B5B62;padding:10px;justify-content:end;' href='https://deepnote.com?utm_source=created-in-deepnote-cell&projectId=8d15e87d-b710-4fff-80ef-ff0e4cb338ff' target=\"_blank\">\n<img alt='Created in deepnote.com' style='display:inline;max-height:16px;margin:0px;margin-right:7.5px;' src='data:image/svg+xml;base64,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' > </img>\nCreated in <span style='font-weight:600;margin-left:4px;'>Deepnote</span></a>",
   "metadata": {
    "tags": [],
    "created_in_deepnote_cell": true,
    "deepnote_cell_type": "markdown"
   }
  }
 ],
 "nbformat": 4,
 "nbformat_minor": 2,
 "metadata": {
  "orig_nbformat": 2,
  "deepnote": {},
  "deepnote_notebook_id": "57808016-6f53-43ea-beb0-100cfe12df57",
  "deepnote_execution_queue": []
 }
}